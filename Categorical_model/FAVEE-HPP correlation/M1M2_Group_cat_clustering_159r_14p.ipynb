{
 "cells": [
  {
   "cell_type": "code",
   "execution_count": 1,
   "id": "949ec06f",
   "metadata": {
    "ExecuteTime": {
     "end_time": "2023-02-21T07:48:06.186666Z",
     "start_time": "2023-02-21T07:48:01.594125Z"
    }
   },
   "outputs": [],
   "source": [
    "import os\n",
    "import glob\n",
    "\n",
    "import pandas as pd\n",
    "import numpy as np\n",
    "from sklearn.metrics.pairwise import euclidean_distances\n",
    "\n",
    "import matplotlib.pyplot as plt\n",
    "import seaborn as sns\n",
    "import matplotlib as mpl\n",
    "\n",
    "import warnings\n",
    "warnings.filterwarnings('ignore')\n",
    "\n",
    "import umap\n",
    "import sys\n",
    "sys.path.append('../custom_function')\n",
    "import clustering # custom function\n",
    "\n",
    "random_seed = 2022\n",
    "klist = [3,4,5,6,7]"
   ]
  },
  {
   "cell_type": "markdown",
   "id": "c16e59b2",
   "metadata": {},
   "source": [
    "# Import data"
   ]
  },
  {
   "cell_type": "code",
   "execution_count": 2,
   "id": "5be733df",
   "metadata": {
    "ExecuteTime": {
     "end_time": "2023-02-21T07:48:06.217375Z",
     "start_time": "2023-02-21T07:48:06.189695Z"
    }
   },
   "outputs": [],
   "source": [
    "input_dir = '../output_data/group/category/'\n",
    "# all 59 participants\n",
    "dissim_ctg_avg_159r_all = pd.read_csv(input_dir + 'dissim_ctg_avg_159rel_all_14p.csv',index_col=0)\n",
    "dissim_mla_avg_159r_all = pd.read_csv(input_dir + 'dissim_mla_avg_159rel_all_14p.csv',index_col=0)"
   ]
  },
  {
   "cell_type": "markdown",
   "id": "45b7af38",
   "metadata": {},
   "source": [
    "# Explicit task(M2)"
   ]
  },
  {
   "cell_type": "code",
   "execution_count": 3,
   "id": "32030f5f",
   "metadata": {
    "ExecuteTime": {
     "end_time": "2023-02-21T07:48:10.376518Z",
     "start_time": "2023-02-21T07:48:06.220043Z"
    }
   },
   "outputs": [],
   "source": [
    "umap_exp_159r_all = umap.UMAP(n_neighbors=15, min_dist=0.01, n_components=2,\n",
    "                      metric = 'precomputed',\n",
    "                      random_state=random_seed).fit_transform(dissim_ctg_avg_159r_all)\n",
    "\n",
    "umap_exp_159r_all = pd.DataFrame(umap_exp_159r_all, columns=['Dim1','Dim2'], index=dissim_ctg_avg_159r_all.index)"
   ]
  },
  {
   "cell_type": "code",
   "execution_count": 4,
   "id": "f3aee110",
   "metadata": {
    "ExecuteTime": {
     "end_time": "2023-02-21T07:48:10.528375Z",
     "start_time": "2023-02-21T07:48:10.378376Z"
    }
   },
   "outputs": [
    {
     "name": "stdout",
     "output_type": "stream",
     "text": [
      "\n",
      "Cluster 1 Relationship:29\n",
      "nurse and patient, doctor and patient, prostitute and customer, landlord and tenant, representative and citizen, television host and guest, dealer and buyer, judge and lawyer, patient and caretaker, therapist and patient, driver and passenger, psychologist and client, reader and writer, customer and businessman, police officer and civilian, politician and supporter, salesperson and customer, guide and tourist, chef and customer, judge and contestant, sugar daddy and sugar baby, reviewer and writer, lawyer and client, athlete and referee, consultant and client, researcher and research subject, babysitter and infant, entrepreneur and investor, customer and server\n",
      "\n",
      "Cluster 2 Relationship:23\n",
      "parent and infant, distant relatives, ancestor and descendant, godparent and godchild, step parent and step child, aunt and niece/nephew, parent and child, foster parent and foster child, siblings, second cousins, uncle and niece/nephew, step grandparent and step grandchild, adoptive parents and adopted kids, step siblings, grandparent and grandchild, twins, close relatives, mother and infant, half siblings, parent and teenager, cousins, brother and sister, a person and their in laws\n",
      "\n",
      "Cluster 3 Relationship:12\n",
      "a person and their crush, a person and their deceased spouse, wife and husband, romantic lovers, friends with benefits, bride and groom, life partners, soul mates, fiance and fiancee, long distance lovers, a person and their significant other, man and his mistress\n",
      "\n",
      "Cluster 4 Relationship:24\n",
      "opposing negotiators, man wife and man mistress, frenemies, enemies, slave and master, romantic rivals, sports rivals, guard and prisoner, criminal and police officer, defendant and plaintiff, political opponents, competitors in sports, bully and victim, criminal and prosecutor, master and servant, business rivals, ex lovers, victim and criminal, criminal and hostage, fans of opposing sports teams, divorced spouses, parole officer and parolee, celebrity and haters, police officer and offender\n",
      "\n",
      "Cluster 5 Relationship:34\n",
      "guest and host, neighbors, friends, teammates in sports, brothers in arms, co workers, bride and bridesmaid, alumni, classmates, church members, roommates, victim and witness, close friends, confidants, playmates, fraternity brothers, a person and their family friends, groom and groomsman, strangers, business partners, peers, cohabitants, pen friends, casual acquaintances, diplomats, facebook friends, companions, criminal and their accomplice, religious followers, childhood friends, a person and their social media follower, sorority sisters, political allies, fans of the same sports team\n",
      "\n",
      "Cluster 6 Relationship:37\n",
      "volunteer and organizer, officer and soldier, employer and employee, university student and administrator, athletic trainer and trainee, native and tourist, predecessor and successor, mentor and mentee, superior and subordinate, leader and follower, union leader and union member, teacher and student, manager and staff, drug dealer and addict, team captain and team members, boss and secretary, director and performer, chief and deputy, owner and manager, a monarch and their minister, interviewer and job applicant, student and dorm resident assistant, manager and assistant, professor and teaching assistant, performer and audience, celebrity and fans, club member and club president, coach and athlete, man and god, landlord and housekeeper, professor and graduate student, doctor and nurse, intern and employee, supervisor and subordinate, religious leader and congregant, principal and teacher, foreman and laborer\n"
     ]
    }
   ],
   "source": [
    "umap_exp_results_159r_all = clustering.create_cluster_models(data_type = \"df\",data =umap_exp_159r_all,\n",
    "                                                  methods= ['KMeans', 'Hierarchical'],ks=  klist, keep_orig=True)\n",
    "\n",
    "clustering.cluster_results(umap_exp_results_159r_all,method_number='cl_k6')"
   ]
  },
  {
   "cell_type": "markdown",
   "id": "2af476ef",
   "metadata": {},
   "source": [
    "Cluster1: Transactional(29)  \n",
    "Cluster2: Familial(23)   \n",
    "Cluster3: Romantic(12)    \n",
    "Cluster4: Hostile(24)  \n",
    "Cluster5: Affiliation(34)   \n",
    "Cluster6: Power(37)  "
   ]
  },
  {
   "cell_type": "code",
   "execution_count": 12,
   "id": "3b9abcac",
   "metadata": {
    "ExecuteTime": {
     "end_time": "2023-02-21T07:50:11.421384Z",
     "start_time": "2023-02-21T07:50:11.275385Z"
    }
   },
   "outputs": [
    {
     "name": "stdout",
     "output_type": "stream",
     "text": [
      "\n",
      "Cluster 1 Relationship:112\n",
      "nurse and patient, a person and their crush, volunteer and organizer, doctor and patient, prostitute and customer, landlord and tenant, representative and citizen, a person and their deceased spouse, television host and guest, guest and host, neighbors, dealer and buyer, friends, judge and lawyer, officer and soldier, teammates in sports, patient and caretaker, therapist and patient, wife and husband, romantic lovers, brothers in arms, driver and passenger, employer and employee, university student and administrator, athletic trainer and trainee, native and tourist, co workers, bride and bridesmaid, alumni, classmates, psychologist and client, reader and writer, church members, friends with benefits, predecessor and successor, roommates, mentor and mentee, customer and businessman, superior and subordinate, victim and witness, leader and follower, bride and groom, union leader and union member, police officer and civilian, teacher and student, politician and supporter, manager and staff, drug dealer and addict, team captain and team members, life partners, soul mates, close friends, salesperson and customer, boss and secretary, director and performer, confidants, playmates, guide and tourist, fiance and fiancee, long distance lovers, fraternity brothers, chief and deputy, a person and their family friends, owner and manager, groom and groomsman, strangers, a monarch and their minister, interviewer and job applicant, student and dorm resident assistant, manager and assistant, a person and their significant other, chef and customer, professor and teaching assistant, business partners, peers, performer and audience, celebrity and fans, cohabitants, pen friends, judge and contestant, casual acquaintances, diplomats, facebook friends, club member and club president, man and his mistress, sugar daddy and sugar baby, companions, reviewer and writer, lawyer and client, athlete and referee, consultant and client, researcher and research subject, coach and athlete, criminal and their accomplice, babysitter and infant, religious followers, childhood friends, man and god, landlord and housekeeper, a person and their social media follower, entrepreneur and investor, professor and graduate student, sorority sisters, doctor and nurse, intern and employee, political allies, supervisor and subordinate, religious leader and congregant, fans of the same sports team, principal and teacher, customer and server, foreman and laborer\n",
      "\n",
      "Cluster 2 Relationship:23\n",
      "parent and infant, distant relatives, ancestor and descendant, godparent and godchild, step parent and step child, aunt and niece/nephew, parent and child, foster parent and foster child, siblings, second cousins, uncle and niece/nephew, step grandparent and step grandchild, adoptive parents and adopted kids, step siblings, grandparent and grandchild, twins, close relatives, mother and infant, half siblings, parent and teenager, cousins, brother and sister, a person and their in laws\n",
      "\n",
      "Cluster 3 Relationship:24\n",
      "opposing negotiators, man wife and man mistress, frenemies, enemies, slave and master, romantic rivals, sports rivals, guard and prisoner, criminal and police officer, defendant and plaintiff, political opponents, competitors in sports, bully and victim, criminal and prosecutor, master and servant, business rivals, ex lovers, victim and criminal, criminal and hostage, fans of opposing sports teams, divorced spouses, parole officer and parolee, celebrity and haters, police officer and offender\n"
     ]
    }
   ],
   "source": [
    "umap_exp_results_159r_all = clustering.create_cluster_models(data_type = \"df\",data =umap_exp_159r_all,\n",
    "                                                  methods= ['KMeans', 'Hierarchical'],ks=  klist, keep_orig=True)\n",
    "\n",
    "clustering.cluster_results(umap_exp_results_159r_all,method_number='cl_k3')"
   ]
  },
  {
   "cell_type": "code",
   "execution_count": 5,
   "id": "13e13f98",
   "metadata": {
    "ExecuteTime": {
     "end_time": "2023-02-21T07:48:10.543376Z",
     "start_time": "2023-02-21T07:48:10.530376Z"
    }
   },
   "outputs": [],
   "source": [
    "umap_exp_results_159r_all.to_csv('../output_data/group/category/cluster_results/umap_exp_results_159r_all_14p.csv')"
   ]
  },
  {
   "cell_type": "markdown",
   "id": "42c79a93",
   "metadata": {},
   "source": [
    "# Implicit task(M1)"
   ]
  },
  {
   "cell_type": "code",
   "execution_count": 6,
   "id": "dc1ac3fa",
   "metadata": {
    "ExecuteTime": {
     "end_time": "2023-02-21T07:48:11.299518Z",
     "start_time": "2023-02-21T07:48:10.546376Z"
    }
   },
   "outputs": [],
   "source": [
    "umap_imp_159r_all = umap.UMAP(n_neighbors=15, min_dist=0.01, n_components=2,\n",
    "                              metric = 'precomputed',\n",
    "                      random_state=random_seed).fit_transform(dissim_mla_avg_159r_all)\n",
    "umap_imp_159r_all = pd.DataFrame(umap_imp_159r_all, columns=['Dim1','Dim2'], index=dissim_mla_avg_159r_all.index)"
   ]
  },
  {
   "cell_type": "code",
   "execution_count": 7,
   "id": "2ad3834c",
   "metadata": {
    "ExecuteTime": {
     "end_time": "2023-02-21T07:48:11.451373Z",
     "start_time": "2023-02-21T07:48:11.302376Z"
    }
   },
   "outputs": [
    {
     "name": "stdout",
     "output_type": "stream",
     "text": [
      "\n",
      "Cluster 1 Relationship:69\n",
      "wife and husband, neighbors, half siblings, parent and teenager, church members, a person and their family friends, bride and bridesmaid, teammates in sports, twins, religious followers, step grandparent and step grandchild, second cousins, fans of the same sports team, siblings, close friends, fraternity brothers, sugar daddy and sugar baby, uncle and niece/nephew, childhood friends, man and his mistress, step siblings, confidants, grandparent and grandchild, romantic lovers, brother and sister, parent and infant, ancestor and descendant, peers, groom and groomsman, adoptive parents and adopted kids, a person and their significant other, strangers, predecessor and successor, a person and their crush, brothers in arms, playmates, roommates, friends, life partners, political allies, criminal and their accomplice, diplomats, close relatives, godparent and godchild, pen friends, casual acquaintances, step parent and step child, cohabitants, soul mates, long distance lovers, alumni, babysitter and infant, co workers, a person and their deceased spouse, distant relatives, a person and their in laws, fiance and fiancee, facebook friends, cousins, mother and infant, companions, aunt and niece/nephew, parent and child, bride and groom, sorority sisters, classmates, friends with benefits, foster parent and foster child, business partners\n",
      "\n",
      "Cluster 2 Relationship:63\n",
      "nurse and patient, officer and soldier, athletic trainer and trainee, principal and teacher, doctor and nurse, coach and athlete, man and god, prostitute and customer, foreman and laborer, a person and their social media follower, guide and tourist, employer and employee, teacher and student, guest and host, intern and employee, chef and customer, union leader and union member, professor and graduate student, landlord and housekeeper, entrepreneur and investor, psychologist and client, chief and deputy, judge and contestant, researcher and research subject, therapist and patient, reader and writer, representative and citizen, driver and passenger, volunteer and organizer, a monarch and their minister, television host and guest, university student and administrator, consultant and client, mentor and mentee, judge and lawyer, student and dorm resident assistant, superior and subordinate, boss and secretary, dealer and buyer, salesperson and customer, professor and teaching assistant, celebrity and fans, athlete and referee, team captain and team members, politician and supporter, patient and caretaker, manager and staff, interviewer and job applicant, reviewer and writer, performer and audience, religious leader and congregant, lawyer and client, customer and businessman, landlord and tenant, director and performer, native and tourist, owner and manager, customer and server, doctor and patient, leader and follower, supervisor and subordinate, club member and club president, manager and assistant\n",
      "\n",
      "Cluster 3 Relationship:27\n",
      "police officer and offender, victim and criminal, celebrity and haters, man wife and man mistress, criminal and police officer, master and servant, ex lovers, parole officer and parolee, slave and master, criminal and hostage, opposing negotiators, romantic rivals, criminal and prosecutor, bully and victim, guard and prisoner, fans of opposing sports teams, sports rivals, enemies, competitors in sports, frenemies, divorced spouses, defendant and plaintiff, drug dealer and addict, police officer and civilian, political opponents, business rivals, victim and witness\n"
     ]
    }
   ],
   "source": [
    "umap_imp_results_159r_all = clustering.create_cluster_models(data_type = \"df\",data =umap_imp_159r_all,\n",
    "                                                  methods= ['KMeans', 'Hierarchical'],ks=  klist, keep_orig=True)\n",
    "\n",
    "clustering.cluster_results(umap_imp_results_159r_all,method_number='cl_k3')"
   ]
  },
  {
   "cell_type": "markdown",
   "id": "c5b311b3",
   "metadata": {},
   "source": [
    "Cluster1: Private(69)     \n",
    "Cluster2: Public(63)       \n",
    "Cluster3: Hostile(27)   "
   ]
  },
  {
   "cell_type": "code",
   "execution_count": 8,
   "id": "6beeb07c",
   "metadata": {
    "ExecuteTime": {
     "end_time": "2023-02-21T07:48:11.466374Z",
     "start_time": "2023-02-21T07:48:11.454376Z"
    }
   },
   "outputs": [],
   "source": [
    "umap_imp_results_159r_all.to_csv('../output_data/group/category/cluster_results/umap_imp_results_159r_all_14p.csv')"
   ]
  },
  {
   "cell_type": "markdown",
   "id": "c364f165",
   "metadata": {},
   "source": [
    "# Generate RDM:0/1"
   ]
  },
  {
   "cell_type": "code",
   "execution_count": 9,
   "id": "dee820af",
   "metadata": {
    "ExecuteTime": {
     "end_time": "2023-02-21T07:48:11.481374Z",
     "start_time": "2023-02-21T07:48:11.469377Z"
    }
   },
   "outputs": [],
   "source": [
    "def cluster_rdm(cluster_results_region,cluster_model='cl_k3'):\n",
    "    dissim_cluster_result = pd.DataFrame(index = cluster_results_region.index,\n",
    "                                         columns = cluster_results_region.index)\n",
    "    for i in dissim_cluster_result.index:\n",
    "        for j in dissim_cluster_result.columns:\n",
    "            # cluster result was in the last column\n",
    "            if cluster_results_region.loc[i,cluster_model] == cluster_results_region.loc[j,cluster_model]:\n",
    "                dissim_cluster_result.loc[i,j] = 0\n",
    "            else:\n",
    "                dissim_cluster_result.loc[i,j] = 1\n",
    "            dissim_cluster_result = dissim_cluster_result.astype(float)\n",
    "            \n",
    "    return(dissim_cluster_result)"
   ]
  },
  {
   "cell_type": "code",
   "execution_count": 13,
   "id": "fab0eb04",
   "metadata": {
    "ExecuteTime": {
     "end_time": "2023-02-21T07:50:48.690874Z",
     "start_time": "2023-02-21T07:50:44.063395Z"
    }
   },
   "outputs": [],
   "source": [
    "exp_rdm = cluster_rdm(umap_exp_results_159r_all,cluster_model='cl_k6')\n",
    "imp_rdm = cluster_rdm(umap_imp_results_159r_all,cluster_model='cl_k3')"
   ]
  },
  {
   "cell_type": "code",
   "execution_count": 14,
   "id": "98db2c9b",
   "metadata": {
    "ExecuteTime": {
     "end_time": "2023-02-21T07:50:51.411623Z",
     "start_time": "2023-02-21T07:50:51.375312Z"
    }
   },
   "outputs": [],
   "source": [
    "exp_rdm.to_csv('../output_data/group/category/cluster_results/rdm_exp_14p.csv')\n",
    "imp_rdm.to_csv('../output_data/group/category/cluster_results/rdm_imp_14p.csv')"
   ]
  }
 ],
 "metadata": {
  "kernelspec": {
   "display_name": "base",
   "language": "python",
   "name": "python3"
  },
  "language_info": {
   "codemirror_mode": {
    "name": "ipython",
    "version": 3
   },
   "file_extension": ".py",
   "mimetype": "text/x-python",
   "name": "python",
   "nbconvert_exporter": "python",
   "pygments_lexer": "ipython3",
   "version": "3.9.12"
  },
  "latex_envs": {
   "LaTeX_envs_menu_present": true,
   "autoclose": false,
   "autocomplete": true,
   "bibliofile": "biblio.bib",
   "cite_by": "apalike",
   "current_citInitial": 1,
   "eqLabelWithNumbers": true,
   "eqNumInitial": 1,
   "hotkeys": {
    "equation": "Ctrl-E",
    "itemize": "Ctrl-I"
   },
   "labels_anchors": false,
   "latex_user_defs": false,
   "report_style_numbering": false,
   "user_envs_cfg": false
  },
  "toc": {
   "base_numbering": 1,
   "nav_menu": {},
   "number_sections": true,
   "sideBar": true,
   "skip_h1_title": false,
   "title_cell": "Table of Contents",
   "title_sidebar": "Contents",
   "toc_cell": false,
   "toc_position": {},
   "toc_section_display": true,
   "toc_window_display": true
  }
 },
 "nbformat": 4,
 "nbformat_minor": 5
}
