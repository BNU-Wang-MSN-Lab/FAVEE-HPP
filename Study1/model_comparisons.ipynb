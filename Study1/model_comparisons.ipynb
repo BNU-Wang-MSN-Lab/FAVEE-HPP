{
 "cells": [
  {
   "cell_type": "code",
   "execution_count": 2,
   "id": "2ea6e98b",
   "metadata": {
    "ExecuteTime": {
     "end_time": "2023-01-15T11:04:21.513876Z",
     "start_time": "2023-01-15T11:04:21.484Z"
    }
   },
   "outputs": [],
   "source": [
    "library(FactoMineR)\n",
    "library(factoextra)#fviz_eig\n",
    "library(psych)\n",
    "\n",
    "library(ggplot2)\n",
    "library(pheatmap)\n",
    "library(RColorBrewer)\n",
    "\n",
    "library(tidyverse)\n",
    "library(reshape)#melt\n",
    "\n",
    "library(reshape2)\n",
    "library(repr)\n",
    "library(plyr)\n",
    "library(Rmisc)\n",
    "library(extrafont)"
   ]
  },
  {
   "cell_type": "markdown",
   "id": "da7649d1",
   "metadata": {},
   "source": [
    "# Read data"
   ]
  },
  {
   "cell_type": "code",
   "execution_count": 14,
   "id": "0803d686",
   "metadata": {
    "ExecuteTime": {
     "end_time": "2023-01-16T03:42:52.390789Z",
     "start_time": "2023-01-16T03:42:52.368Z"
    }
   },
   "outputs": [],
   "source": [
    "#Read data\n",
    "data <- read.csv(file = \"output_data/cleaning_results/USA_dim_rel_scaled_30d.csv\", header = TRUE, stringsAsFactors = FALSE,row.names = 1)\n",
    "dimensions = colnames(data) %>% str_replace('Affiliation_Coalition','Affiliation.Coalition')\n",
    "colnames(data) = dimensions"
   ]
  },
  {
   "cell_type": "markdown",
   "id": "dca9bd5c",
   "metadata": {},
   "source": [
    "# Function"
   ]
  },
  {
   "cell_type": "code",
   "execution_count": 5,
   "id": "03d987c7",
   "metadata": {
    "ExecuteTime": {
     "end_time": "2023-01-16T03:39:54.870686Z",
     "start_time": "2023-01-16T03:39:54.821Z"
    }
   },
   "outputs": [],
   "source": [
    "#define the model name\n",
    "models <- c('Wish_1976_model','Triandis_1968_model','Marwell_1970_model',\n",
    "            'Osgood_1957_model','Fiske_1992_model','Clark_2011_model','Carpendale_2004_model',\n",
    "            'Foa_2012_model','Bugental_2000_model','Goffman_1959_model','Hamilton_1981_model',\n",
    "            'Burton_1975_model','Montgomery_1988_model','Rands_1979_model','Weiss_1998_model')\n",
    "\n",
    "# define the model\n",
    "FAVEE_model <- c(\"Formality.and.Regulation\",\"Activeness\",\"Valence.Evaluation\",\"Goods.Exchange\",\"Equality\")\n",
    "Wish_1976_model <- c(\"Formality.and.Regulation\",\"Equality\",\"Valence.Evaluation\",\"Activity.Intensity\")\n",
    "Triandis_1968_model <- c(\"Valence.Evaluation\",\"Equality\",\"Intimacy\") \n",
    "Marwell_1970_model <- c(\"Visibility\",\"Formality.and.Regulation\",\"Intimacy\")\n",
    "Osgood_1957_model <- c(\"Valence.Evaluation\",\"Equality\",\"Activity.Intensity\")\n",
    "Fiske_1992_model <- c(\"Communal.Sharing\",\"Equality\",\"Strategic\",\"Expected.Reciprocity\")\n",
    "Clark_2011_model <- c(\"Communal.Sharing\",\"Strategic\",\"Expected.Reciprocity\")\n",
    "Carpendale_2004_model <- c(\"Importance.for.individuals\",\"Importance.for.society\")\n",
    "Foa_2012_model <- c(\"Concreteness\",\"Uniqueness\")\n",
    "Bugental_2000_model <- c(\"Attachment\",\"Affiliation.Coalition\",\"Mating\",\"Expected.Reciprocity\",\"Equality\")\n",
    "Goffman_1959_model <- c(\"Valence.Evaluation\",\"Affiliation.Coalition\",\"Conflict\",\"Negotiation\",\"Coercion\")\n",
    "Hamilton_1981_model <- c(\"Valence.Evaluation\",\"Equality\")\n",
    "Burton_1975_model <- c(\"Valence.Evaluation\",\"Equality\",\"Occupational\")\n",
    "Montgomery_1988_model <- c(\"Valence.Evaluation\",\"Equality\",\"Intimacy\") \n",
    "Rands_1979_model <- c(\"Formality.and.Regulation\",\"Socioemotional\")\n",
    "Weiss_1998_model <- c(\"Attachment\",\"Affiliation.Coalition\")\n",
    "\n",
    "# define the model-comparison function\n",
    "model_compare <- function(model1,model2){\n",
    "    data_regression <- data[-which(names(data) %in% c(model1,model2))]\n",
    "    \n",
    "    AdjR_model1 <- c()\n",
    "    AdjR_model2 <- c()\n",
    "    BIC_model1 <- c()\n",
    "    BIC_model2 <- c()\n",
    "    \n",
    "    for (trait in c(1:ncol(data_regression))) {\n",
    "        # Extract each trait to be used as dependent variable in our modeling\n",
    "        y = data_regression[,trait]\n",
    "        \n",
    "        # Model comparison in others' model\n",
    "        f_model1 <- as.formula(paste(\"y ~ \", paste(model1, collapse = \"+\")))\n",
    "        lm_model1 = lm(f_model1, data = data) # Modeling\n",
    "        AdjR_model1 <- c(AdjR_model1, summary(lm_model1)$adj.r.squared) # Extract each model's index and append it to the dependent variables' lists\n",
    "        BIC_model1 <- c(BIC_model1, BIC(lm_model1))\n",
    "        \n",
    "        # model comparison in our 5D model\n",
    "        f_model2 <- as.formula(paste(\"y ~ \", paste(model2, collapse = \"+\")))\n",
    "        lm_model2 = lm(f_model2, data = data) # Modeling\n",
    "        AdjR_model2 <- c(AdjR_model2, summary(lm_model2)$adj.r.squared) # Extract each model's index and append it to the dependent variables' lists\n",
    "        BIC_model2 <- c(BIC_model2, BIC(lm_model2))    \n",
    "    }\n",
    "    \n",
    "    res_model1 <- c(mean(AdjR_model1),mean(BIC_model1))\n",
    "    res_model2 <- c(mean(AdjR_model2),mean(BIC_model2))\n",
    "    res_list <- list(res_model1,res_model2)\n",
    "    \n",
    "    return(res_list)\n",
    "}"
   ]
  },
  {
   "cell_type": "markdown",
   "id": "b05bb207",
   "metadata": {},
   "source": [
    "# Do model comparison"
   ]
  },
  {
   "cell_type": "code",
   "execution_count": 15,
   "id": "13ff76f7",
   "metadata": {
    "ExecuteTime": {
     "end_time": "2023-01-16T03:43:01.250770Z",
     "start_time": "2023-01-16T03:43:00.642Z"
    }
   },
   "outputs": [],
   "source": [
    "model_comparesion_res <- data.frame(Model=character(),AdjR=numeric(),BIC=numeric(),Group=numeric(),Model_Names=character())\n",
    "\n",
    "for(i in c(1:length(models))){\n",
    "    model_compare_list <- model_compare(FAVEE_model, get(models[i]))\n",
    "    \n",
    "    model_comparesion_res <- rbind(model_comparesion_res,c('FAVEE_Model',unlist(model_compare_list[1]),i,models[i]))\n",
    "    model_comparesion_res <- rbind(model_comparesion_res,c('Others_Model',unlist(model_compare_list[2]),i,models[i]))\n",
    "}\n",
    "\n",
    "colnames(model_comparesion_res) <- c('Model', 'AdjR', 'BIC','Group','Model_Names')\n",
    "\n",
    "#re-define the model's name\n",
    "for(i in c(1:nrow(model_comparesion_res))){\n",
    "    name <- strsplit(model_comparesion_res$Model_Names[i],'_')\n",
    "    model_comparesion_res$Model_Names[i] = paste0(unlist(name)[1],',',unlist(name)[2])\n",
    "}\n",
    "\n",
    "model_comparesion_res$BIC <- as.numeric(model_comparesion_res$BIC)\n",
    "model_comparesion_res$AdjR <- as.numeric(model_comparesion_res$AdjR)\n",
    "\n",
    "# compute the SE to plot data\n",
    "FAVEE_Model <- model_comparesion_res %>% filter(Model == \"FAVEE_Model\")\n",
    "Others_Model <- model_comparesion_res %>% filter(Model == \"Others_Model\")\n",
    "\n",
    "BIC_SE <- summarySE(model_comparesion_res, measurevar=\"BIC\", groupvars=c(\"Model\"))\n",
    "BIC_SE_FAVEE <- BIC_SE[BIC_SE$Model=='FAVEE_Model',]\n",
    "BIC_SE_OthersModel <- BIC_SE[BIC_SE$Model=='Others_Model',]\n",
    "\n",
    "AdjR_SE <- summarySE(model_comparesion_res, measurevar=\"AdjR\", groupvars=c(\"Model\"))\n",
    "AdjR_SE_FAVEE <- AdjR_SE[AdjR_SE$Model=='FAVEE_Model',]\n",
    "AdjR_SE_OthersModel <- AdjR_SE[AdjR_SE$Model=='Others_Model',]"
   ]
  },
  {
   "cell_type": "code",
   "execution_count": 19,
   "id": "a4bec5c9",
   "metadata": {
    "ExecuteTime": {
     "end_time": "2023-01-16T03:55:48.730051Z",
     "start_time": "2023-01-16T03:55:48.706Z"
    }
   },
   "outputs": [
    {
     "data": {
      "text/html": [
       "<table class=\"dataframe\">\n",
       "<caption>A data.frame: 2 × 6</caption>\n",
       "<thead>\n",
       "\t<tr><th scope=col>Model</th><th scope=col>N</th><th scope=col>BIC</th><th scope=col>sd</th><th scope=col>se</th><th scope=col>ci</th></tr>\n",
       "\t<tr><th scope=col>&lt;chr&gt;</th><th scope=col>&lt;dbl&gt;</th><th scope=col>&lt;dbl&gt;</th><th scope=col>&lt;dbl&gt;</th><th scope=col>&lt;dbl&gt;</th><th scope=col>&lt;dbl&gt;</th></tr>\n",
       "</thead>\n",
       "<tbody>\n",
       "\t<tr><td>FAVEE_Model </td><td>15</td><td>293.8519</td><td> 4.778641</td><td>1.233840</td><td> 2.646323</td></tr>\n",
       "\t<tr><td>Others_Model</td><td>15</td><td>358.1026</td><td>28.333665</td><td>7.315721</td><td>15.690660</td></tr>\n",
       "</tbody>\n",
       "</table>\n"
      ],
      "text/latex": [
       "A data.frame: 2 × 6\n",
       "\\begin{tabular}{llllll}\n",
       " Model & N & BIC & sd & se & ci\\\\\n",
       " <chr> & <dbl> & <dbl> & <dbl> & <dbl> & <dbl>\\\\\n",
       "\\hline\n",
       "\t FAVEE\\_Model  & 15 & 293.8519 &  4.778641 & 1.233840 &  2.646323\\\\\n",
       "\t Others\\_Model & 15 & 358.1026 & 28.333665 & 7.315721 & 15.690660\\\\\n",
       "\\end{tabular}\n"
      ],
      "text/markdown": [
       "\n",
       "A data.frame: 2 × 6\n",
       "\n",
       "| Model &lt;chr&gt; | N &lt;dbl&gt; | BIC &lt;dbl&gt; | sd &lt;dbl&gt; | se &lt;dbl&gt; | ci &lt;dbl&gt; |\n",
       "|---|---|---|---|---|---|\n",
       "| FAVEE_Model  | 15 | 293.8519 |  4.778641 | 1.233840 |  2.646323 |\n",
       "| Others_Model | 15 | 358.1026 | 28.333665 | 7.315721 | 15.690660 |\n",
       "\n"
      ],
      "text/plain": [
       "  Model        N  BIC      sd        se       ci       \n",
       "1 FAVEE_Model  15 293.8519  4.778641 1.233840  2.646323\n",
       "2 Others_Model 15 358.1026 28.333665 7.315721 15.690660"
      ]
     },
     "metadata": {},
     "output_type": "display_data"
    }
   ],
   "source": [
    "BIC_SE"
   ]
  },
  {
   "cell_type": "code",
   "execution_count": 20,
   "id": "1ae940bb",
   "metadata": {
    "ExecuteTime": {
     "end_time": "2023-01-16T03:56:02.104875Z",
     "start_time": "2023-01-16T03:56:02.082Z"
    }
   },
   "outputs": [
    {
     "data": {
      "text/html": [
       "<table class=\"dataframe\">\n",
       "<caption>A data.frame: 2 × 6</caption>\n",
       "<thead>\n",
       "\t<tr><th scope=col>Model</th><th scope=col>N</th><th scope=col>AdjR</th><th scope=col>sd</th><th scope=col>se</th><th scope=col>ci</th></tr>\n",
       "\t<tr><th scope=col>&lt;chr&gt;</th><th scope=col>&lt;dbl&gt;</th><th scope=col>&lt;dbl&gt;</th><th scope=col>&lt;dbl&gt;</th><th scope=col>&lt;dbl&gt;</th><th scope=col>&lt;dbl&gt;</th></tr>\n",
       "</thead>\n",
       "<tbody>\n",
       "\t<tr><td>FAVEE_Model </td><td>15</td><td>0.6533368</td><td>0.009387071</td><td>0.002423731</td><td>0.005198387</td></tr>\n",
       "\t<tr><td>Others_Model</td><td>15</td><td>0.4566921</td><td>0.081705690</td><td>0.021096318</td><td>0.045247103</td></tr>\n",
       "</tbody>\n",
       "</table>\n"
      ],
      "text/latex": [
       "A data.frame: 2 × 6\n",
       "\\begin{tabular}{llllll}\n",
       " Model & N & AdjR & sd & se & ci\\\\\n",
       " <chr> & <dbl> & <dbl> & <dbl> & <dbl> & <dbl>\\\\\n",
       "\\hline\n",
       "\t FAVEE\\_Model  & 15 & 0.6533368 & 0.009387071 & 0.002423731 & 0.005198387\\\\\n",
       "\t Others\\_Model & 15 & 0.4566921 & 0.081705690 & 0.021096318 & 0.045247103\\\\\n",
       "\\end{tabular}\n"
      ],
      "text/markdown": [
       "\n",
       "A data.frame: 2 × 6\n",
       "\n",
       "| Model &lt;chr&gt; | N &lt;dbl&gt; | AdjR &lt;dbl&gt; | sd &lt;dbl&gt; | se &lt;dbl&gt; | ci &lt;dbl&gt; |\n",
       "|---|---|---|---|---|---|\n",
       "| FAVEE_Model  | 15 | 0.6533368 | 0.009387071 | 0.002423731 | 0.005198387 |\n",
       "| Others_Model | 15 | 0.4566921 | 0.081705690 | 0.021096318 | 0.045247103 |\n",
       "\n"
      ],
      "text/plain": [
       "  Model        N  AdjR      sd          se          ci         \n",
       "1 FAVEE_Model  15 0.6533368 0.009387071 0.002423731 0.005198387\n",
       "2 Others_Model 15 0.4566921 0.081705690 0.021096318 0.045247103"
      ]
     },
     "metadata": {},
     "output_type": "display_data"
    }
   ],
   "source": [
    "AdjR_SE"
   ]
  },
  {
   "cell_type": "markdown",
   "id": "ff33930f",
   "metadata": {},
   "source": [
    "# Plot"
   ]
  },
  {
   "cell_type": "markdown",
   "id": "14b18ed9",
   "metadata": {},
   "source": [
    "## BIC"
   ]
  },
  {
   "cell_type": "code",
   "execution_count": 16,
   "id": "2c6d21ba",
   "metadata": {
    "ExecuteTime": {
     "end_time": "2023-01-16T03:45:33.983920Z",
     "start_time": "2023-01-16T03:45:31.377Z"
    }
   },
   "outputs": [
    {
     "name": "stderr",
     "output_type": "stream",
     "text": [
      "Warning message:\n",
      "\"\u001b[1m\u001b[22mUsing `size` aesthetic for lines was deprecated in ggplot2 3.4.0.\n",
      "\u001b[36mi\u001b[39m Please use `linewidth` instead.\"\n"
     ]
    },
    {
     "data": {
      "text/html": [
       "<strong>png:</strong> 2"
      ],
      "text/latex": [
       "\\textbf{png:} 2"
      ],
      "text/markdown": [
       "**png:** 2"
      ],
      "text/plain": [
       "png \n",
       "  2 "
      ]
     },
     "metadata": {},
     "output_type": "display_data"
    }
   ],
   "source": [
    "#font_import()\n",
    "loadfonts(device = \"win\")\n",
    "\n",
    "png(\"output_graph/b_revised_test.png\", bg=\"transparent\",\n",
    "   family = 'sans',units='in',width=30,height=20,res=300)\n",
    "\n",
    "ggplot(model_comparesion_res)+\n",
    "  \n",
    "  #add mean and standard deviation for both groups\n",
    "  geom_rect(xmin = BIC_SE_FAVEE$BIC-BIC_SE_FAVEE$se, xmax = BIC_SE_FAVEE$BIC+BIC_SE_FAVEE$se,\n",
    "            ymin = 0, ymax =20, fill = \"darkred\", alpha = .05)+\n",
    "  geom_vline(xintercept = BIC_SE_FAVEE$BIC, linetype = \"solid\", size = .5, alpha = .8, color = \"darkred\")+\n",
    "  \n",
    "  geom_rect(xmin = BIC_SE_OthersModel$BIC-BIC_SE_OthersModel$se, xmax = BIC_SE_OthersModel$BIC+BIC_SE_OthersModel$se,\n",
    "            ymin = 0, ymax =20, fill = \"#009688\", alpha = .05)+\n",
    "  geom_vline(xintercept = BIC_SE_OthersModel$BIC, linetype = \"solid\", size = .5, alpha = .8, color = \"#009688\")+\n",
    "  \n",
    "  #add point range\n",
    "  geom_segment(data = FAVEE_Model, aes(x = BIC, y = Model_Names, yend = Others_Model$Model_Names, , xend = Others_Model$BIC),\n",
    "               color = \"#aeb6bf\", size = 14.5, alpha = .5) +\n",
    "  \n",
    "  #add points\n",
    "  geom_point(aes(x = BIC, y = Model_Names, color = Model), size = 18, show.legend = FALSE) +\n",
    "  \n",
    "  #color points\n",
    "  scale_color_manual(values = c(\"darkred\",\"#009688\"))+\n",
    "  #add point-range labels\n",
    "  #geom_text(data = diff, aes(label = paste(\"D: \",diff), x = x_pos, y = Year), fill = \"white\", color = \"black\", size = 2.5, family = \"Segoe UI\") +\n",
    "  \n",
    "  #add annotations for mean and standard deviations\n",
    "  #geom_text(x =  data_temp_summary_OthersModel$BIC-1, y = 'Bugental5D', label = \"MEAN\", angle = 90, size = 4.5, color = \"black\", family = \"Segoe UI\")+\n",
    "  #geom_text(x =  data_temp_summary_OthersModel$BIC+ data_temp_summary_OthersModel$se-1, y = 'Bugental5D', label = \"SE\", angle = 90, size = 4.5, color = \"black\", family = \"Segoe UI\")+\n",
    "  \n",
    "  #add facets for more control\n",
    "  facet_grid(Model_Names ~ ., scales = \"free\", switch = \"y\") +\n",
    "  #add title\n",
    "  #ggtitle(\"Model Comparison\")+\n",
    "  #theming\n",
    "  theme_minimal()+\n",
    "  theme(panel.grid.major.y = element_blank(),\n",
    "        panel.grid.minor.y = element_blank(),\n",
    "        panel.grid.major.x = element_blank(),\n",
    "        panel.grid.minor.x = element_blank(),\n",
    "        axis.title.y = element_text(size=60),\n",
    "        axis.title.x = element_text(size=60, vjust=-0.1, face = \"bold\"),\n",
    "        axis.text.y = element_blank(),\n",
    "        #axis.text.y = element_text(size=28),\n",
    "        axis.text.x = element_text(size=55,color = \"black\"),\n",
    "        axis.ticks.y = element_blank(),\n",
    "        axis.ticks.x = element_line(color = \"black\"),\n",
    "        text = element_text( color = \"black\"),\n",
    "        strip.text.y.left  = element_text(angle = 0,size=60),\n",
    "        panel.background = element_rect(fill = \"white\", color = \"white\"),\n",
    "        strip.background = element_rect(fill = \"white\", color = \"white\"),\n",
    "        strip.text = element_text(color = \"black\"),\n",
    "        plot.background = element_rect(fill = \"white\", color = \"white\"),\n",
    "        panel.spacing = unit(0, \"lines\"),\n",
    "        plot.margin = margin(1,1,1,1, \"cm\"))+\n",
    "    #theme(aspect.ratio = 0.05)+\n",
    "    labs(y=\"Model\")+\n",
    "    labs(x=\"Bayesian Information Criterion (BIC)\")\n",
    "\n",
    "\n",
    "\n",
    "dev.off()"
   ]
  },
  {
   "cell_type": "markdown",
   "id": "f260c308",
   "metadata": {},
   "source": [
    "## AdjR"
   ]
  },
  {
   "cell_type": "code",
   "execution_count": 18,
   "id": "c27a920c",
   "metadata": {
    "ExecuteTime": {
     "end_time": "2023-01-16T03:46:29.421984Z",
     "start_time": "2023-01-16T03:46:27.076Z"
    }
   },
   "outputs": [
    {
     "data": {
      "text/html": [
       "<strong>png:</strong> 2"
      ],
      "text/latex": [
       "\\textbf{png:} 2"
      ],
      "text/markdown": [
       "**png:** 2"
      ],
      "text/plain": [
       "png \n",
       "  2 "
      ]
     },
     "metadata": {},
     "output_type": "display_data"
    }
   ],
   "source": [
    "#font_import()\n",
    "loadfonts(device = \"win\")\n",
    "\n",
    "png(\"output_graph/a_revised_test.png\", bg=\"transparent\",\n",
    "   family = 'sans',units='in',width=30,height=20,res=300)\n",
    "\n",
    "ggplot(model_comparesion_res)+\n",
    "  \n",
    "  #add mean and standard deviation for both groups\n",
    "  geom_rect(xmin = AdjR_SE_FAVEE$AdjR-AdjR_SE_FAVEE$se, xmax = AdjR_SE_FAVEE$AdjR+AdjR_SE_FAVEE$se,\n",
    "            ymin = 0, ymax =20, fill = \"darkred\", alpha = .05)+\n",
    "  geom_vline(xintercept = AdjR_SE_FAVEE$AdjR, linetype = \"solid\", size = .5, alpha = .8, color = \"darkred\")+\n",
    "  \n",
    "  geom_rect(xmin = AdjR_SE_OthersModel$AdjR-AdjR_SE_OthersModel$se, xmax = AdjR_SE_OthersModel$AdjR+AdjR_SE_OthersModel$se,\n",
    "            ymin = 0, ymax =20, fill = \"#009688\", alpha = .05)+\n",
    "  geom_vline(xintercept = AdjR_SE_OthersModel$AdjR, linetype = \"solid\", size = .5, alpha = .8, color = \"#009688\")+\n",
    "  \n",
    "  #add point range\n",
    "  geom_segment(data = FAVEE_Model, aes(x = AdjR, y = Model_Names, yend = Others_Model$Model_Names, , xend = Others_Model$AdjR),\n",
    "               color = \"#aeb6bf\", size = 14.5, alpha = .5) +\n",
    "  \n",
    "  #add points\n",
    "  geom_point(aes(x = AdjR, y = Model_Names, color = Model), size = 18, show.legend = FALSE) +\n",
    "  \n",
    "  #color points\n",
    "  scale_color_manual(values = c(\"darkred\",\"#009688\"))+\n",
    "  #add point-range labels\n",
    "  #geom_text(data = diff, aes(label = paste(\"D: \",diff), x = x_pos, y = Year), fill = \"white\", color = \"black\", size = 2.5, family = \"Segoe UI\") +\n",
    "  \n",
    "  #add annotations for mean and standard deviations\n",
    "  #geom_text(x =  data_temp_summary_OthersModel$AdjR-1, y = 'Bugental5D', label = \"MEAN\", angle = 90, size = 4.5, color = \"black\", family = \"Segoe UI\")+\n",
    "  #geom_text(x =  data_temp_summary_OthersModel$AdjR+ data_temp_summary_OthersModel$se-1, y = 'Bugental5D', label = \"SE\", angle = 90, size = 4.5, color = \"black\", family = \"Segoe UI\")+\n",
    "  \n",
    "  #add facets for more control\n",
    "  facet_grid(Model_Names ~ ., scales = \"free\", switch = \"y\") +\n",
    "  #add title\n",
    "  #ggtitle(\"Model Comparison\")+\n",
    "  #theming\n",
    "  theme_minimal()+\n",
    "  theme(panel.grid.major.y = element_blank(),\n",
    "        panel.grid.minor.y = element_blank(),\n",
    "        panel.grid.major.x = element_blank(),\n",
    "        panel.grid.minor.x = element_blank(),\n",
    "        axis.title.y = element_text(size=60),\n",
    "        axis.title.x = element_text(size=60, vjust=-0.1, face = \"bold\"),\n",
    "        axis.text.y = element_blank(),\n",
    "        #axis.text.y = element_text(size=28),\n",
    "        axis.text.x = element_text(size=55,color = \"black\"),\n",
    "        axis.ticks.y = element_blank(),\n",
    "        axis.ticks.x = element_line(color = \"black\"),\n",
    "        text = element_text( color = \"black\"),\n",
    "        strip.text.y.left  = element_text(angle = 0,size=60),\n",
    "        panel.background = element_rect(fill = \"white\", color = \"white\"),\n",
    "        strip.background = element_rect(fill = \"white\", color = \"white\"),\n",
    "        strip.text = element_text(color = \"black\"),\n",
    "        plot.background = element_rect(fill = \"white\", color = \"white\"),\n",
    "        panel.spacing = unit(0, \"lines\"),\n",
    "        plot.margin = margin(1,1,1,1, \"cm\"))+\n",
    "    #theme(aspect.ratio = 0.05)+\n",
    "    labs(y=\"Model\")+\n",
    "    labs(x=\"Adjusted R-Squared\")\n",
    "\n",
    "\n",
    "\n",
    "dev.off()"
   ]
  }
 ],
 "metadata": {
  "kernelspec": {
   "display_name": "R",
   "language": "R",
   "name": "ir"
  },
  "language_info": {
   "codemirror_mode": "r",
   "file_extension": ".r",
   "mimetype": "text/x-r-source",
   "name": "R",
   "pygments_lexer": "r",
   "version": "4.1.2"
  },
  "toc": {
   "base_numbering": 1,
   "nav_menu": {},
   "number_sections": true,
   "sideBar": true,
   "skip_h1_title": false,
   "title_cell": "Table of Contents",
   "title_sidebar": "Contents",
   "toc_cell": false,
   "toc_position": {},
   "toc_section_display": true,
   "toc_window_display": false
  },
  "varInspector": {
   "cols": {
    "lenName": 16,
    "lenType": 16,
    "lenVar": 40
   },
   "kernels_config": {
    "python": {
     "delete_cmd_postfix": "",
     "delete_cmd_prefix": "del ",
     "library": "var_list.py",
     "varRefreshCmd": "print(var_dic_list())"
    },
    "r": {
     "delete_cmd_postfix": ") ",
     "delete_cmd_prefix": "rm(",
     "library": "var_list.r",
     "varRefreshCmd": "cat(var_dic_list()) "
    }
   },
   "types_to_exclude": [
    "module",
    "function",
    "builtin_function_or_method",
    "instance",
    "_Feature"
   ],
   "window_display": false
  }
 },
 "nbformat": 4,
 "nbformat_minor": 5
}
