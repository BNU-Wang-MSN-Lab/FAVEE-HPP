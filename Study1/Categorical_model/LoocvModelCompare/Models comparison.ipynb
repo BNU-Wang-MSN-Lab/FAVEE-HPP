{
 "cells": [
  {
   "cell_type": "code",
   "execution_count": 10,
   "id": "a95837a2",
   "metadata": {
    "ExecuteTime": {
     "end_time": "2023-09-25T14:33:38.091583Z",
     "start_time": "2023-09-25T14:33:37.946Z"
    }
   },
   "outputs": [],
   "source": [
    "library(DescTools) #Fisher Z\n",
    "library(tidyverse)\n",
    "library(rstatix) #ANOVA\n",
    "library(reshape)#melt\n",
    "library(ggpubr) #compare means\n",
    "library(ggplot2)\n",
    "library(plotly)"
   ]
  },
  {
   "cell_type": "markdown",
   "id": "f87f0d6d",
   "metadata": {},
   "source": [
    "# Import data"
   ]
  },
  {
   "cell_type": "code",
   "execution_count": 19,
   "id": "ee287325",
   "metadata": {
    "ExecuteTime": {
     "end_time": "2023-09-25T14:45:04.209440Z",
     "start_time": "2023-09-25T14:45:04.118Z"
    }
   },
   "outputs": [
    {
     "data": {
      "text/html": [
       "<table class=\"dataframe\">\n",
       "<caption>A data.frame: 6 × 9</caption>\n",
       "<thead>\n",
       "\t<tr><th></th><th scope=col>clustering_exp</th><th scope=col>clustering_imp</th><th scope=col>clustering_imp_5c</th><th scope=col>clustering_imp_6c</th><th scope=col>clustering_dim_umap</th><th scope=col>hybrid_3k</th><th scope=col>dimension_exp</th><th scope=col>dimension_imp</th><th scope=col>dimension_dim</th></tr>\n",
       "\t<tr><th></th><th scope=col>&lt;dbl&gt;</th><th scope=col>&lt;dbl&gt;</th><th scope=col>&lt;dbl&gt;</th><th scope=col>&lt;dbl&gt;</th><th scope=col>&lt;dbl&gt;</th><th scope=col>&lt;dbl&gt;</th><th scope=col>&lt;dbl&gt;</th><th scope=col>&lt;dbl&gt;</th><th scope=col>&lt;dbl&gt;</th></tr>\n",
       "</thead>\n",
       "<tbody>\n",
       "\t<tr><th scope=row>0</th><td>0.2829071</td><td>0.2982362</td><td>0.3536933</td><td>0.2640628</td><td>0.6455163</td><td>0.6772955</td><td>0.4794173</td><td>0.4461545</td><td>0.6553121</td></tr>\n",
       "\t<tr><th scope=row>1</th><td>0.3731233</td><td>0.1704496</td><td>0.1741873</td><td>0.1285962</td><td>0.5127164</td><td>0.6687937</td><td>0.3214935</td><td>0.4835032</td><td>0.7291011</td></tr>\n",
       "\t<tr><th scope=row>2</th><td>0.4291904</td><td>0.3964899</td><td>0.4505674</td><td>0.3668629</td><td>0.6858408</td><td>0.8109155</td><td>0.5519851</td><td>0.5756909</td><td>0.6870715</td></tr>\n",
       "\t<tr><th scope=row>3</th><td>0.3408413</td><td>0.3147878</td><td>0.2951668</td><td>0.2478418</td><td>0.6224655</td><td>0.6832862</td><td>0.1970913</td><td>0.1872180</td><td>0.5797626</td></tr>\n",
       "\t<tr><th scope=row>4</th><td>0.2120660</td><td>0.2289928</td><td>0.3385327</td><td>0.3123585</td><td>0.6098234</td><td>0.7744044</td><td>0.3282318</td><td>0.3929765</td><td>0.6721745</td></tr>\n",
       "\t<tr><th scope=row>5</th><td>0.3435366</td><td>0.1359798</td><td>0.3564274</td><td>0.3223454</td><td>0.5155182</td><td>0.6456927</td><td>0.1609300</td><td>0.4044867</td><td>0.5468313</td></tr>\n",
       "</tbody>\n",
       "</table>\n"
      ],
      "text/latex": [
       "A data.frame: 6 × 9\n",
       "\\begin{tabular}{r|lllllllll}\n",
       "  & clustering\\_exp & clustering\\_imp & clustering\\_imp\\_5c & clustering\\_imp\\_6c & clustering\\_dim\\_umap & hybrid\\_3k & dimension\\_exp & dimension\\_imp & dimension\\_dim\\\\\n",
       "  & <dbl> & <dbl> & <dbl> & <dbl> & <dbl> & <dbl> & <dbl> & <dbl> & <dbl>\\\\\n",
       "\\hline\n",
       "\t0 & 0.2829071 & 0.2982362 & 0.3536933 & 0.2640628 & 0.6455163 & 0.6772955 & 0.4794173 & 0.4461545 & 0.6553121\\\\\n",
       "\t1 & 0.3731233 & 0.1704496 & 0.1741873 & 0.1285962 & 0.5127164 & 0.6687937 & 0.3214935 & 0.4835032 & 0.7291011\\\\\n",
       "\t2 & 0.4291904 & 0.3964899 & 0.4505674 & 0.3668629 & 0.6858408 & 0.8109155 & 0.5519851 & 0.5756909 & 0.6870715\\\\\n",
       "\t3 & 0.3408413 & 0.3147878 & 0.2951668 & 0.2478418 & 0.6224655 & 0.6832862 & 0.1970913 & 0.1872180 & 0.5797626\\\\\n",
       "\t4 & 0.2120660 & 0.2289928 & 0.3385327 & 0.3123585 & 0.6098234 & 0.7744044 & 0.3282318 & 0.3929765 & 0.6721745\\\\\n",
       "\t5 & 0.3435366 & 0.1359798 & 0.3564274 & 0.3223454 & 0.5155182 & 0.6456927 & 0.1609300 & 0.4044867 & 0.5468313\\\\\n",
       "\\end{tabular}\n"
      ],
      "text/markdown": [
       "\n",
       "A data.frame: 6 × 9\n",
       "\n",
       "| <!--/--> | clustering_exp &lt;dbl&gt; | clustering_imp &lt;dbl&gt; | clustering_imp_5c &lt;dbl&gt; | clustering_imp_6c &lt;dbl&gt; | clustering_dim_umap &lt;dbl&gt; | hybrid_3k &lt;dbl&gt; | dimension_exp &lt;dbl&gt; | dimension_imp &lt;dbl&gt; | dimension_dim &lt;dbl&gt; |\n",
       "|---|---|---|---|---|---|---|---|---|---|\n",
       "| 0 | 0.2829071 | 0.2982362 | 0.3536933 | 0.2640628 | 0.6455163 | 0.6772955 | 0.4794173 | 0.4461545 | 0.6553121 |\n",
       "| 1 | 0.3731233 | 0.1704496 | 0.1741873 | 0.1285962 | 0.5127164 | 0.6687937 | 0.3214935 | 0.4835032 | 0.7291011 |\n",
       "| 2 | 0.4291904 | 0.3964899 | 0.4505674 | 0.3668629 | 0.6858408 | 0.8109155 | 0.5519851 | 0.5756909 | 0.6870715 |\n",
       "| 3 | 0.3408413 | 0.3147878 | 0.2951668 | 0.2478418 | 0.6224655 | 0.6832862 | 0.1970913 | 0.1872180 | 0.5797626 |\n",
       "| 4 | 0.2120660 | 0.2289928 | 0.3385327 | 0.3123585 | 0.6098234 | 0.7744044 | 0.3282318 | 0.3929765 | 0.6721745 |\n",
       "| 5 | 0.3435366 | 0.1359798 | 0.3564274 | 0.3223454 | 0.5155182 | 0.6456927 | 0.1609300 | 0.4044867 | 0.5468313 |\n",
       "\n"
      ],
      "text/plain": [
       "  clustering_exp clustering_imp clustering_imp_5c clustering_imp_6c\n",
       "0 0.2829071      0.2982362      0.3536933         0.2640628        \n",
       "1 0.3731233      0.1704496      0.1741873         0.1285962        \n",
       "2 0.4291904      0.3964899      0.4505674         0.3668629        \n",
       "3 0.3408413      0.3147878      0.2951668         0.2478418        \n",
       "4 0.2120660      0.2289928      0.3385327         0.3123585        \n",
       "5 0.3435366      0.1359798      0.3564274         0.3223454        \n",
       "  clustering_dim_umap hybrid_3k dimension_exp dimension_imp dimension_dim\n",
       "0 0.6455163           0.6772955 0.4794173     0.4461545     0.6553121    \n",
       "1 0.5127164           0.6687937 0.3214935     0.4835032     0.7291011    \n",
       "2 0.6858408           0.8109155 0.5519851     0.5756909     0.6870715    \n",
       "3 0.6224655           0.6832862 0.1970913     0.1872180     0.5797626    \n",
       "4 0.6098234           0.7744044 0.3282318     0.3929765     0.6721745    \n",
       "5 0.5155182           0.6456927 0.1609300     0.4044867     0.5468313    "
      ]
     },
     "metadata": {},
     "output_type": "display_data"
    },
    {
     "data": {
      "text/html": [
       "<table class=\"dataframe\">\n",
       "<caption>A data.frame: 14 × 7</caption>\n",
       "<thead>\n",
       "\t<tr><th></th><th scope=col>clustering_exp</th><th scope=col>clustering_imp</th><th scope=col>clustering_dim_umap</th><th scope=col>hybrid_3k</th><th scope=col>dimension_exp</th><th scope=col>dimension_imp</th><th scope=col>dimension_dim</th></tr>\n",
       "\t<tr><th></th><th scope=col>&lt;dbl&gt;</th><th scope=col>&lt;dbl&gt;</th><th scope=col>&lt;dbl&gt;</th><th scope=col>&lt;dbl&gt;</th><th scope=col>&lt;dbl&gt;</th><th scope=col>&lt;dbl&gt;</th><th scope=col>&lt;dbl&gt;</th></tr>\n",
       "</thead>\n",
       "<tbody>\n",
       "\t<tr><th scope=row>0</th><td>0.2829071</td><td>0.2640628</td><td>0.6455163</td><td>0.6772955</td><td>0.4794173</td><td>0.4461545</td><td>0.6553121</td></tr>\n",
       "\t<tr><th scope=row>1</th><td>0.3731233</td><td>0.1285962</td><td>0.5127164</td><td>0.6687937</td><td>0.3214935</td><td>0.4835032</td><td>0.7291011</td></tr>\n",
       "\t<tr><th scope=row>2</th><td>0.4291904</td><td>0.3668629</td><td>0.6858408</td><td>0.8109155</td><td>0.5519851</td><td>0.5756909</td><td>0.6870715</td></tr>\n",
       "\t<tr><th scope=row>3</th><td>0.3408413</td><td>0.2478418</td><td>0.6224655</td><td>0.6832862</td><td>0.1970913</td><td>0.1872180</td><td>0.5797626</td></tr>\n",
       "\t<tr><th scope=row>4</th><td>0.2120660</td><td>0.3123585</td><td>0.6098234</td><td>0.7744044</td><td>0.3282318</td><td>0.3929765</td><td>0.6721745</td></tr>\n",
       "\t<tr><th scope=row>5</th><td>0.3435366</td><td>0.3223454</td><td>0.5155182</td><td>0.6456927</td><td>0.1609300</td><td>0.4044867</td><td>0.5468313</td></tr>\n",
       "\t<tr><th scope=row>6</th><td>0.4410059</td><td>0.1724428</td><td>0.6467020</td><td>0.7126736</td><td>0.3864977</td><td>0.2697598</td><td>0.6924772</td></tr>\n",
       "\t<tr><th scope=row>7</th><td>0.3285169</td><td>0.1919476</td><td>0.6360914</td><td>0.4120815</td><td>0.3989364</td><td>0.1728312</td><td>0.7032823</td></tr>\n",
       "\t<tr><th scope=row>8</th><td>0.4289045</td><td>0.3565326</td><td>0.6092034</td><td>0.8102662</td><td>0.3639637</td><td>0.6036181</td><td>0.7036797</td></tr>\n",
       "\t<tr><th scope=row>9</th><td>0.3130012</td><td>0.2510527</td><td>0.6139567</td><td>0.7451077</td><td>0.1080837</td><td>0.4478404</td><td>0.6828697</td></tr>\n",
       "\t<tr><th scope=row>10</th><td>0.3208428</td><td>0.3799501</td><td>0.6794711</td><td>0.7699015</td><td>0.1626497</td><td>0.4647262</td><td>0.6714107</td></tr>\n",
       "\t<tr><th scope=row>11</th><td>0.3839354</td><td>0.3799044</td><td>0.5262113</td><td>0.6184244</td><td>0.3240635</td><td>0.3818322</td><td>0.7119652</td></tr>\n",
       "\t<tr><th scope=row>12</th><td>0.3473557</td><td>0.2885135</td><td>0.6242682</td><td>0.7461794</td><td>0.4323173</td><td>0.4305291</td><td>0.6049877</td></tr>\n",
       "\t<tr><th scope=row>13</th><td>0.3900408</td><td>0.3448547</td><td>0.6801278</td><td>0.1921642</td><td>0.3991922</td><td>0.4695656</td><td>0.6282439</td></tr>\n",
       "</tbody>\n",
       "</table>\n"
      ],
      "text/latex": [
       "A data.frame: 14 × 7\n",
       "\\begin{tabular}{r|lllllll}\n",
       "  & clustering\\_exp & clustering\\_imp & clustering\\_dim\\_umap & hybrid\\_3k & dimension\\_exp & dimension\\_imp & dimension\\_dim\\\\\n",
       "  & <dbl> & <dbl> & <dbl> & <dbl> & <dbl> & <dbl> & <dbl>\\\\\n",
       "\\hline\n",
       "\t0 & 0.2829071 & 0.2640628 & 0.6455163 & 0.6772955 & 0.4794173 & 0.4461545 & 0.6553121\\\\\n",
       "\t1 & 0.3731233 & 0.1285962 & 0.5127164 & 0.6687937 & 0.3214935 & 0.4835032 & 0.7291011\\\\\n",
       "\t2 & 0.4291904 & 0.3668629 & 0.6858408 & 0.8109155 & 0.5519851 & 0.5756909 & 0.6870715\\\\\n",
       "\t3 & 0.3408413 & 0.2478418 & 0.6224655 & 0.6832862 & 0.1970913 & 0.1872180 & 0.5797626\\\\\n",
       "\t4 & 0.2120660 & 0.3123585 & 0.6098234 & 0.7744044 & 0.3282318 & 0.3929765 & 0.6721745\\\\\n",
       "\t5 & 0.3435366 & 0.3223454 & 0.5155182 & 0.6456927 & 0.1609300 & 0.4044867 & 0.5468313\\\\\n",
       "\t6 & 0.4410059 & 0.1724428 & 0.6467020 & 0.7126736 & 0.3864977 & 0.2697598 & 0.6924772\\\\\n",
       "\t7 & 0.3285169 & 0.1919476 & 0.6360914 & 0.4120815 & 0.3989364 & 0.1728312 & 0.7032823\\\\\n",
       "\t8 & 0.4289045 & 0.3565326 & 0.6092034 & 0.8102662 & 0.3639637 & 0.6036181 & 0.7036797\\\\\n",
       "\t9 & 0.3130012 & 0.2510527 & 0.6139567 & 0.7451077 & 0.1080837 & 0.4478404 & 0.6828697\\\\\n",
       "\t10 & 0.3208428 & 0.3799501 & 0.6794711 & 0.7699015 & 0.1626497 & 0.4647262 & 0.6714107\\\\\n",
       "\t11 & 0.3839354 & 0.3799044 & 0.5262113 & 0.6184244 & 0.3240635 & 0.3818322 & 0.7119652\\\\\n",
       "\t12 & 0.3473557 & 0.2885135 & 0.6242682 & 0.7461794 & 0.4323173 & 0.4305291 & 0.6049877\\\\\n",
       "\t13 & 0.3900408 & 0.3448547 & 0.6801278 & 0.1921642 & 0.3991922 & 0.4695656 & 0.6282439\\\\\n",
       "\\end{tabular}\n"
      ],
      "text/markdown": [
       "\n",
       "A data.frame: 14 × 7\n",
       "\n",
       "| <!--/--> | clustering_exp &lt;dbl&gt; | clustering_imp &lt;dbl&gt; | clustering_dim_umap &lt;dbl&gt; | hybrid_3k &lt;dbl&gt; | dimension_exp &lt;dbl&gt; | dimension_imp &lt;dbl&gt; | dimension_dim &lt;dbl&gt; |\n",
       "|---|---|---|---|---|---|---|---|\n",
       "| 0 | 0.2829071 | 0.2640628 | 0.6455163 | 0.6772955 | 0.4794173 | 0.4461545 | 0.6553121 |\n",
       "| 1 | 0.3731233 | 0.1285962 | 0.5127164 | 0.6687937 | 0.3214935 | 0.4835032 | 0.7291011 |\n",
       "| 2 | 0.4291904 | 0.3668629 | 0.6858408 | 0.8109155 | 0.5519851 | 0.5756909 | 0.6870715 |\n",
       "| 3 | 0.3408413 | 0.2478418 | 0.6224655 | 0.6832862 | 0.1970913 | 0.1872180 | 0.5797626 |\n",
       "| 4 | 0.2120660 | 0.3123585 | 0.6098234 | 0.7744044 | 0.3282318 | 0.3929765 | 0.6721745 |\n",
       "| 5 | 0.3435366 | 0.3223454 | 0.5155182 | 0.6456927 | 0.1609300 | 0.4044867 | 0.5468313 |\n",
       "| 6 | 0.4410059 | 0.1724428 | 0.6467020 | 0.7126736 | 0.3864977 | 0.2697598 | 0.6924772 |\n",
       "| 7 | 0.3285169 | 0.1919476 | 0.6360914 | 0.4120815 | 0.3989364 | 0.1728312 | 0.7032823 |\n",
       "| 8 | 0.4289045 | 0.3565326 | 0.6092034 | 0.8102662 | 0.3639637 | 0.6036181 | 0.7036797 |\n",
       "| 9 | 0.3130012 | 0.2510527 | 0.6139567 | 0.7451077 | 0.1080837 | 0.4478404 | 0.6828697 |\n",
       "| 10 | 0.3208428 | 0.3799501 | 0.6794711 | 0.7699015 | 0.1626497 | 0.4647262 | 0.6714107 |\n",
       "| 11 | 0.3839354 | 0.3799044 | 0.5262113 | 0.6184244 | 0.3240635 | 0.3818322 | 0.7119652 |\n",
       "| 12 | 0.3473557 | 0.2885135 | 0.6242682 | 0.7461794 | 0.4323173 | 0.4305291 | 0.6049877 |\n",
       "| 13 | 0.3900408 | 0.3448547 | 0.6801278 | 0.1921642 | 0.3991922 | 0.4695656 | 0.6282439 |\n",
       "\n"
      ],
      "text/plain": [
       "   clustering_exp clustering_imp clustering_dim_umap hybrid_3k dimension_exp\n",
       "0  0.2829071      0.2640628      0.6455163           0.6772955 0.4794173    \n",
       "1  0.3731233      0.1285962      0.5127164           0.6687937 0.3214935    \n",
       "2  0.4291904      0.3668629      0.6858408           0.8109155 0.5519851    \n",
       "3  0.3408413      0.2478418      0.6224655           0.6832862 0.1970913    \n",
       "4  0.2120660      0.3123585      0.6098234           0.7744044 0.3282318    \n",
       "5  0.3435366      0.3223454      0.5155182           0.6456927 0.1609300    \n",
       "6  0.4410059      0.1724428      0.6467020           0.7126736 0.3864977    \n",
       "7  0.3285169      0.1919476      0.6360914           0.4120815 0.3989364    \n",
       "8  0.4289045      0.3565326      0.6092034           0.8102662 0.3639637    \n",
       "9  0.3130012      0.2510527      0.6139567           0.7451077 0.1080837    \n",
       "10 0.3208428      0.3799501      0.6794711           0.7699015 0.1626497    \n",
       "11 0.3839354      0.3799044      0.5262113           0.6184244 0.3240635    \n",
       "12 0.3473557      0.2885135      0.6242682           0.7461794 0.4323173    \n",
       "13 0.3900408      0.3448547      0.6801278           0.1921642 0.3991922    \n",
       "   dimension_imp dimension_dim\n",
       "0  0.4461545     0.6553121    \n",
       "1  0.4835032     0.7291011    \n",
       "2  0.5756909     0.6870715    \n",
       "3  0.1872180     0.5797626    \n",
       "4  0.3929765     0.6721745    \n",
       "5  0.4044867     0.5468313    \n",
       "6  0.2697598     0.6924772    \n",
       "7  0.1728312     0.7032823    \n",
       "8  0.6036181     0.7036797    \n",
       "9  0.4478404     0.6828697    \n",
       "10 0.4647262     0.6714107    \n",
       "11 0.3818322     0.7119652    \n",
       "12 0.4305291     0.6049877    \n",
       "13 0.4695656     0.6282439    "
      ]
     },
     "metadata": {},
     "output_type": "display_data"
    }
   ],
   "source": [
    "dimension_model_loocv = read.csv('../output_data/model_comparison/LOOCV/dimension_model_loocv.csv',row.names=1)\n",
    "colnames(dimension_model_loocv) = c('dimension_exp','dimension_imp','dimension_dim')\n",
    "\n",
    "clustering_loocv = read.csv('../output_data/model_comparison/LOOCV/clustering_model_loocv_imp_revise.csv',row.names=1)\n",
    "clustering_model_loocv = clustering_loocv[,c('exp','imp','imp_5c','imp_6c','dim_umap')]\n",
    "colnames(clustering_model_loocv) = c('clustering_exp','clustering_imp','clustering_imp_5c',\n",
    "                                     'clustering_imp_6c','clustering_dim_umap')\n",
    "\n",
    "Hybrid_model_loocv = clustering_loocv['dim_pca_3k']\n",
    "colnames(Hybrid_model_loocv) = c('hybrid_3k')\n",
    "\n",
    "compare_loocv = cbind(clustering_model_loocv,Hybrid_model_loocv,dimension_model_loocv)\n",
    "write.csv(compare_loocv, file = '../output_data/model_comparison/compare_loocv_imp_revise.csv')\n",
    "head(compare_loocv) \n",
    "\n",
    "# For the implicit task, we ultimately chose a model with six categories.\n",
    "compare_loocv = compare_loocv[,!colnames(compare_loocv)%in%c('clustering_imp','clustering_imp_5c')]\n",
    "colnames(compare_loocv)[2] = 'clustering_imp'\n",
    "compare_loocv"
   ]
  },
  {
   "cell_type": "markdown",
   "id": "fa0258d8",
   "metadata": {},
   "source": [
    "# ANOVA"
   ]
  },
  {
   "cell_type": "code",
   "execution_count": 21,
   "id": "8800bf00",
   "metadata": {
    "ExecuteTime": {
     "end_time": "2023-09-25T14:46:31.588453Z",
     "start_time": "2023-09-25T14:46:30.808Z"
    }
   },
   "outputs": [
    {
     "data": {
      "text/html": [
       "<table class=\"dataframe\">\n",
       "<caption>A anova_test: 1 × 7</caption>\n",
       "<thead>\n",
       "\t<tr><th></th><th scope=col>Effect</th><th scope=col>DFn</th><th scope=col>DFd</th><th scope=col>F</th><th scope=col>p</th><th scope=col>p&lt;.05</th><th scope=col>ges</th></tr>\n",
       "\t<tr><th></th><th scope=col>&lt;chr&gt;</th><th scope=col>&lt;dbl&gt;</th><th scope=col>&lt;dbl&gt;</th><th scope=col>&lt;dbl&gt;</th><th scope=col>&lt;dbl&gt;</th><th scope=col>&lt;chr&gt;</th><th scope=col>&lt;dbl&gt;</th></tr>\n",
       "</thead>\n",
       "<tbody>\n",
       "\t<tr><th scope=row>1</th><td>model</td><td>6</td><td>78</td><td>43.187</td><td>7.94e-23</td><td>*</td><td>0.713</td></tr>\n",
       "</tbody>\n",
       "</table>\n"
      ],
      "text/latex": [
       "A anova\\_test: 1 × 7\n",
       "\\begin{tabular}{r|lllllll}\n",
       "  & Effect & DFn & DFd & F & p & p<.05 & ges\\\\\n",
       "  & <chr> & <dbl> & <dbl> & <dbl> & <dbl> & <chr> & <dbl>\\\\\n",
       "\\hline\n",
       "\t1 & model & 6 & 78 & 43.187 & 7.94e-23 & * & 0.713\\\\\n",
       "\\end{tabular}\n"
      ],
      "text/markdown": [
       "\n",
       "A anova_test: 1 × 7\n",
       "\n",
       "| <!--/--> | Effect &lt;chr&gt; | DFn &lt;dbl&gt; | DFd &lt;dbl&gt; | F &lt;dbl&gt; | p &lt;dbl&gt; | p&lt;.05 &lt;chr&gt; | ges &lt;dbl&gt; |\n",
       "|---|---|---|---|---|---|---|---|\n",
       "| 1 | model | 6 | 78 | 43.187 | 7.94e-23 | * | 0.713 |\n",
       "\n"
      ],
      "text/plain": [
       "  Effect DFn DFd F      p        p<.05 ges  \n",
       "1 model  6   78  43.187 7.94e-23 *     0.713"
      ]
     },
     "metadata": {},
     "output_type": "display_data"
    },
    {
     "data": {
      "text/html": [
       "<table class=\"dataframe\">\n",
       "<caption>A rstatix_test: 21 × 10</caption>\n",
       "<thead>\n",
       "\t<tr><th></th><th scope=col>.y.</th><th scope=col>group1</th><th scope=col>group2</th><th scope=col>n1</th><th scope=col>n2</th><th scope=col>statistic</th><th scope=col>df</th><th scope=col>p</th><th scope=col>p.adj</th><th scope=col>p.adj.signif</th></tr>\n",
       "\t<tr><th></th><th scope=col>&lt;chr&gt;</th><th scope=col>&lt;chr&gt;</th><th scope=col>&lt;chr&gt;</th><th scope=col>&lt;int&gt;</th><th scope=col>&lt;int&gt;</th><th scope=col>&lt;dbl&gt;</th><th scope=col>&lt;dbl&gt;</th><th scope=col>&lt;dbl&gt;</th><th scope=col>&lt;dbl&gt;</th><th scope=col>&lt;chr&gt;</th></tr>\n",
       "</thead>\n",
       "<tbody>\n",
       "\t<tr><th scope=row>1</th><td>z_value</td><td>clustering_imp     </td><td>clustering_exp     </td><td>14</td><td>14</td><td> -2.5077317</td><td>13</td><td>2.60e-02</td><td>5.50e-01</td><td>ns  </td></tr>\n",
       "\t<tr><th scope=row>2</th><td>z_value</td><td>clustering_imp     </td><td>clustering_dim_umap</td><td>14</td><td>14</td><td>-14.2600497</td><td>13</td><td>2.57e-09</td><td>5.40e-08</td><td>****</td></tr>\n",
       "\t<tr><th scope=row>3</th><td>z_value</td><td>clustering_imp     </td><td>dimension_imp      </td><td>14</td><td>14</td><td> -4.1875879</td><td>13</td><td>1.00e-03</td><td>2.20e-02</td><td>*   </td></tr>\n",
       "\t<tr><th scope=row>4</th><td>z_value</td><td>clustering_imp     </td><td>dimension_exp      </td><td>14</td><td>14</td><td> -1.1584444</td><td>13</td><td>2.68e-01</td><td>1.00e+00</td><td>ns  </td></tr>\n",
       "\t<tr><th scope=row>5</th><td>z_value</td><td>clustering_imp     </td><td>dimension_dim      </td><td>14</td><td>14</td><td>-13.6712110</td><td>13</td><td>4.31e-09</td><td>9.05e-08</td><td>****</td></tr>\n",
       "\t<tr><th scope=row>6</th><td>z_value</td><td>clustering_imp     </td><td>hybrid_3k          </td><td>14</td><td>14</td><td> -7.8513176</td><td>13</td><td>2.74e-06</td><td>5.75e-05</td><td>****</td></tr>\n",
       "\t<tr><th scope=row>7</th><td>z_value</td><td>clustering_exp     </td><td>clustering_dim_umap</td><td>14</td><td>14</td><td>-11.8060306</td><td>13</td><td>2.54e-08</td><td>5.33e-07</td><td>****</td></tr>\n",
       "\t<tr><th scope=row>8</th><td>z_value</td><td>clustering_exp     </td><td>dimension_imp      </td><td>14</td><td>14</td><td> -1.8428935</td><td>13</td><td>8.80e-02</td><td>1.00e+00</td><td>ns  </td></tr>\n",
       "\t<tr><th scope=row>9</th><td>z_value</td><td>clustering_exp     </td><td>dimension_exp      </td><td>14</td><td>14</td><td>  0.5525925</td><td>13</td><td>5.90e-01</td><td>1.00e+00</td><td>ns  </td></tr>\n",
       "\t<tr><th scope=row>10</th><td>z_value</td><td>clustering_exp     </td><td>dimension_dim      </td><td>14</td><td>14</td><td>-15.8001810</td><td>13</td><td>7.26e-10</td><td>1.52e-08</td><td>****</td></tr>\n",
       "\t<tr><th scope=row>11</th><td>z_value</td><td>clustering_exp     </td><td>hybrid_3k          </td><td>14</td><td>14</td><td> -6.4986678</td><td>13</td><td>2.01e-05</td><td>4.22e-04</td><td>*** </td></tr>\n",
       "\t<tr><th scope=row>12</th><td>z_value</td><td>clustering_dim_umap</td><td>dimension_imp      </td><td>14</td><td>14</td><td>  6.1168750</td><td>13</td><td>3.68e-05</td><td>7.73e-04</td><td>*** </td></tr>\n",
       "\t<tr><th scope=row>13</th><td>z_value</td><td>clustering_dim_umap</td><td>dimension_exp      </td><td>14</td><td>14</td><td>  9.9277321</td><td>13</td><td>1.96e-07</td><td>4.12e-06</td><td>****</td></tr>\n",
       "\t<tr><th scope=row>14</th><td>z_value</td><td>clustering_dim_umap</td><td>dimension_dim      </td><td>14</td><td>14</td><td> -2.2834561</td><td>13</td><td>4.00e-02</td><td>8.38e-01</td><td>ns  </td></tr>\n",
       "\t<tr><th scope=row>15</th><td>z_value</td><td>clustering_dim_umap</td><td>hybrid_3k          </td><td>14</td><td>14</td><td> -1.5779238</td><td>13</td><td>1.39e-01</td><td>1.00e+00</td><td>ns  </td></tr>\n",
       "\t<tr><th scope=row>16</th><td>z_value</td><td>dimension_imp      </td><td>dimension_exp      </td><td>14</td><td>14</td><td>  1.9190666</td><td>13</td><td>7.70e-02</td><td>1.00e+00</td><td>ns  </td></tr>\n",
       "\t<tr><th scope=row>17</th><td>z_value</td><td>dimension_imp      </td><td>dimension_dim      </td><td>14</td><td>14</td><td> -8.4710797</td><td>13</td><td>1.19e-06</td><td>2.50e-05</td><td>****</td></tr>\n",
       "\t<tr><th scope=row>18</th><td>z_value</td><td>dimension_imp      </td><td>hybrid_3k          </td><td>14</td><td>14</td><td> -6.1460789</td><td>13</td><td>3.51e-05</td><td>7.37e-04</td><td>*** </td></tr>\n",
       "\t<tr><th scope=row>19</th><td>z_value</td><td>dimension_exp      </td><td>dimension_dim      </td><td>14</td><td>14</td><td>-11.1441381</td><td>13</td><td>5.05e-08</td><td>1.06e-06</td><td>****</td></tr>\n",
       "\t<tr><th scope=row>20</th><td>z_value</td><td>dimension_exp      </td><td>hybrid_3k          </td><td>14</td><td>14</td><td> -6.0264313</td><td>13</td><td>4.26e-05</td><td>8.95e-04</td><td>*** </td></tr>\n",
       "\t<tr><th scope=row>21</th><td>z_value</td><td>dimension_dim      </td><td>hybrid_3k          </td><td>14</td><td>14</td><td> -0.5054452</td><td>13</td><td>6.22e-01</td><td>1.00e+00</td><td>ns  </td></tr>\n",
       "</tbody>\n",
       "</table>\n"
      ],
      "text/latex": [
       "A rstatix\\_test: 21 × 10\n",
       "\\begin{tabular}{r|llllllllll}\n",
       "  & .y. & group1 & group2 & n1 & n2 & statistic & df & p & p.adj & p.adj.signif\\\\\n",
       "  & <chr> & <chr> & <chr> & <int> & <int> & <dbl> & <dbl> & <dbl> & <dbl> & <chr>\\\\\n",
       "\\hline\n",
       "\t1 & z\\_value & clustering\\_imp      & clustering\\_exp      & 14 & 14 &  -2.5077317 & 13 & 2.60e-02 & 5.50e-01 & ns  \\\\\n",
       "\t2 & z\\_value & clustering\\_imp      & clustering\\_dim\\_umap & 14 & 14 & -14.2600497 & 13 & 2.57e-09 & 5.40e-08 & ****\\\\\n",
       "\t3 & z\\_value & clustering\\_imp      & dimension\\_imp       & 14 & 14 &  -4.1875879 & 13 & 1.00e-03 & 2.20e-02 & *   \\\\\n",
       "\t4 & z\\_value & clustering\\_imp      & dimension\\_exp       & 14 & 14 &  -1.1584444 & 13 & 2.68e-01 & 1.00e+00 & ns  \\\\\n",
       "\t5 & z\\_value & clustering\\_imp      & dimension\\_dim       & 14 & 14 & -13.6712110 & 13 & 4.31e-09 & 9.05e-08 & ****\\\\\n",
       "\t6 & z\\_value & clustering\\_imp      & hybrid\\_3k           & 14 & 14 &  -7.8513176 & 13 & 2.74e-06 & 5.75e-05 & ****\\\\\n",
       "\t7 & z\\_value & clustering\\_exp      & clustering\\_dim\\_umap & 14 & 14 & -11.8060306 & 13 & 2.54e-08 & 5.33e-07 & ****\\\\\n",
       "\t8 & z\\_value & clustering\\_exp      & dimension\\_imp       & 14 & 14 &  -1.8428935 & 13 & 8.80e-02 & 1.00e+00 & ns  \\\\\n",
       "\t9 & z\\_value & clustering\\_exp      & dimension\\_exp       & 14 & 14 &   0.5525925 & 13 & 5.90e-01 & 1.00e+00 & ns  \\\\\n",
       "\t10 & z\\_value & clustering\\_exp      & dimension\\_dim       & 14 & 14 & -15.8001810 & 13 & 7.26e-10 & 1.52e-08 & ****\\\\\n",
       "\t11 & z\\_value & clustering\\_exp      & hybrid\\_3k           & 14 & 14 &  -6.4986678 & 13 & 2.01e-05 & 4.22e-04 & *** \\\\\n",
       "\t12 & z\\_value & clustering\\_dim\\_umap & dimension\\_imp       & 14 & 14 &   6.1168750 & 13 & 3.68e-05 & 7.73e-04 & *** \\\\\n",
       "\t13 & z\\_value & clustering\\_dim\\_umap & dimension\\_exp       & 14 & 14 &   9.9277321 & 13 & 1.96e-07 & 4.12e-06 & ****\\\\\n",
       "\t14 & z\\_value & clustering\\_dim\\_umap & dimension\\_dim       & 14 & 14 &  -2.2834561 & 13 & 4.00e-02 & 8.38e-01 & ns  \\\\\n",
       "\t15 & z\\_value & clustering\\_dim\\_umap & hybrid\\_3k           & 14 & 14 &  -1.5779238 & 13 & 1.39e-01 & 1.00e+00 & ns  \\\\\n",
       "\t16 & z\\_value & dimension\\_imp       & dimension\\_exp       & 14 & 14 &   1.9190666 & 13 & 7.70e-02 & 1.00e+00 & ns  \\\\\n",
       "\t17 & z\\_value & dimension\\_imp       & dimension\\_dim       & 14 & 14 &  -8.4710797 & 13 & 1.19e-06 & 2.50e-05 & ****\\\\\n",
       "\t18 & z\\_value & dimension\\_imp       & hybrid\\_3k           & 14 & 14 &  -6.1460789 & 13 & 3.51e-05 & 7.37e-04 & *** \\\\\n",
       "\t19 & z\\_value & dimension\\_exp       & dimension\\_dim       & 14 & 14 & -11.1441381 & 13 & 5.05e-08 & 1.06e-06 & ****\\\\\n",
       "\t20 & z\\_value & dimension\\_exp       & hybrid\\_3k           & 14 & 14 &  -6.0264313 & 13 & 4.26e-05 & 8.95e-04 & *** \\\\\n",
       "\t21 & z\\_value & dimension\\_dim       & hybrid\\_3k           & 14 & 14 &  -0.5054452 & 13 & 6.22e-01 & 1.00e+00 & ns  \\\\\n",
       "\\end{tabular}\n"
      ],
      "text/markdown": [
       "\n",
       "A rstatix_test: 21 × 10\n",
       "\n",
       "| <!--/--> | .y. &lt;chr&gt; | group1 &lt;chr&gt; | group2 &lt;chr&gt; | n1 &lt;int&gt; | n2 &lt;int&gt; | statistic &lt;dbl&gt; | df &lt;dbl&gt; | p &lt;dbl&gt; | p.adj &lt;dbl&gt; | p.adj.signif &lt;chr&gt; |\n",
       "|---|---|---|---|---|---|---|---|---|---|---|\n",
       "| 1 | z_value | clustering_imp      | clustering_exp      | 14 | 14 |  -2.5077317 | 13 | 2.60e-02 | 5.50e-01 | ns   |\n",
       "| 2 | z_value | clustering_imp      | clustering_dim_umap | 14 | 14 | -14.2600497 | 13 | 2.57e-09 | 5.40e-08 | **** |\n",
       "| 3 | z_value | clustering_imp      | dimension_imp       | 14 | 14 |  -4.1875879 | 13 | 1.00e-03 | 2.20e-02 | *    |\n",
       "| 4 | z_value | clustering_imp      | dimension_exp       | 14 | 14 |  -1.1584444 | 13 | 2.68e-01 | 1.00e+00 | ns   |\n",
       "| 5 | z_value | clustering_imp      | dimension_dim       | 14 | 14 | -13.6712110 | 13 | 4.31e-09 | 9.05e-08 | **** |\n",
       "| 6 | z_value | clustering_imp      | hybrid_3k           | 14 | 14 |  -7.8513176 | 13 | 2.74e-06 | 5.75e-05 | **** |\n",
       "| 7 | z_value | clustering_exp      | clustering_dim_umap | 14 | 14 | -11.8060306 | 13 | 2.54e-08 | 5.33e-07 | **** |\n",
       "| 8 | z_value | clustering_exp      | dimension_imp       | 14 | 14 |  -1.8428935 | 13 | 8.80e-02 | 1.00e+00 | ns   |\n",
       "| 9 | z_value | clustering_exp      | dimension_exp       | 14 | 14 |   0.5525925 | 13 | 5.90e-01 | 1.00e+00 | ns   |\n",
       "| 10 | z_value | clustering_exp      | dimension_dim       | 14 | 14 | -15.8001810 | 13 | 7.26e-10 | 1.52e-08 | **** |\n",
       "| 11 | z_value | clustering_exp      | hybrid_3k           | 14 | 14 |  -6.4986678 | 13 | 2.01e-05 | 4.22e-04 | ***  |\n",
       "| 12 | z_value | clustering_dim_umap | dimension_imp       | 14 | 14 |   6.1168750 | 13 | 3.68e-05 | 7.73e-04 | ***  |\n",
       "| 13 | z_value | clustering_dim_umap | dimension_exp       | 14 | 14 |   9.9277321 | 13 | 1.96e-07 | 4.12e-06 | **** |\n",
       "| 14 | z_value | clustering_dim_umap | dimension_dim       | 14 | 14 |  -2.2834561 | 13 | 4.00e-02 | 8.38e-01 | ns   |\n",
       "| 15 | z_value | clustering_dim_umap | hybrid_3k           | 14 | 14 |  -1.5779238 | 13 | 1.39e-01 | 1.00e+00 | ns   |\n",
       "| 16 | z_value | dimension_imp       | dimension_exp       | 14 | 14 |   1.9190666 | 13 | 7.70e-02 | 1.00e+00 | ns   |\n",
       "| 17 | z_value | dimension_imp       | dimension_dim       | 14 | 14 |  -8.4710797 | 13 | 1.19e-06 | 2.50e-05 | **** |\n",
       "| 18 | z_value | dimension_imp       | hybrid_3k           | 14 | 14 |  -6.1460789 | 13 | 3.51e-05 | 7.37e-04 | ***  |\n",
       "| 19 | z_value | dimension_exp       | dimension_dim       | 14 | 14 | -11.1441381 | 13 | 5.05e-08 | 1.06e-06 | **** |\n",
       "| 20 | z_value | dimension_exp       | hybrid_3k           | 14 | 14 |  -6.0264313 | 13 | 4.26e-05 | 8.95e-04 | ***  |\n",
       "| 21 | z_value | dimension_dim       | hybrid_3k           | 14 | 14 |  -0.5054452 | 13 | 6.22e-01 | 1.00e+00 | ns   |\n",
       "\n"
      ],
      "text/plain": [
       "   .y.     group1              group2              n1 n2 statistic   df\n",
       "1  z_value clustering_imp      clustering_exp      14 14  -2.5077317 13\n",
       "2  z_value clustering_imp      clustering_dim_umap 14 14 -14.2600497 13\n",
       "3  z_value clustering_imp      dimension_imp       14 14  -4.1875879 13\n",
       "4  z_value clustering_imp      dimension_exp       14 14  -1.1584444 13\n",
       "5  z_value clustering_imp      dimension_dim       14 14 -13.6712110 13\n",
       "6  z_value clustering_imp      hybrid_3k           14 14  -7.8513176 13\n",
       "7  z_value clustering_exp      clustering_dim_umap 14 14 -11.8060306 13\n",
       "8  z_value clustering_exp      dimension_imp       14 14  -1.8428935 13\n",
       "9  z_value clustering_exp      dimension_exp       14 14   0.5525925 13\n",
       "10 z_value clustering_exp      dimension_dim       14 14 -15.8001810 13\n",
       "11 z_value clustering_exp      hybrid_3k           14 14  -6.4986678 13\n",
       "12 z_value clustering_dim_umap dimension_imp       14 14   6.1168750 13\n",
       "13 z_value clustering_dim_umap dimension_exp       14 14   9.9277321 13\n",
       "14 z_value clustering_dim_umap dimension_dim       14 14  -2.2834561 13\n",
       "15 z_value clustering_dim_umap hybrid_3k           14 14  -1.5779238 13\n",
       "16 z_value dimension_imp       dimension_exp       14 14   1.9190666 13\n",
       "17 z_value dimension_imp       dimension_dim       14 14  -8.4710797 13\n",
       "18 z_value dimension_imp       hybrid_3k           14 14  -6.1460789 13\n",
       "19 z_value dimension_exp       dimension_dim       14 14 -11.1441381 13\n",
       "20 z_value dimension_exp       hybrid_3k           14 14  -6.0264313 13\n",
       "21 z_value dimension_dim       hybrid_3k           14 14  -0.5054452 13\n",
       "   p        p.adj    p.adj.signif\n",
       "1  2.60e-02 5.50e-01 ns          \n",
       "2  2.57e-09 5.40e-08 ****        \n",
       "3  1.00e-03 2.20e-02 *           \n",
       "4  2.68e-01 1.00e+00 ns          \n",
       "5  4.31e-09 9.05e-08 ****        \n",
       "6  2.74e-06 5.75e-05 ****        \n",
       "7  2.54e-08 5.33e-07 ****        \n",
       "8  8.80e-02 1.00e+00 ns          \n",
       "9  5.90e-01 1.00e+00 ns          \n",
       "10 7.26e-10 1.52e-08 ****        \n",
       "11 2.01e-05 4.22e-04 ***         \n",
       "12 3.68e-05 7.73e-04 ***         \n",
       "13 1.96e-07 4.12e-06 ****        \n",
       "14 4.00e-02 8.38e-01 ns          \n",
       "15 1.39e-01 1.00e+00 ns          \n",
       "16 7.70e-02 1.00e+00 ns          \n",
       "17 1.19e-06 2.50e-05 ****        \n",
       "18 3.51e-05 7.37e-04 ***         \n",
       "19 5.05e-08 1.06e-06 ****        \n",
       "20 4.26e-05 8.95e-04 ***         \n",
       "21 6.22e-01 1.00e+00 ns          "
      ]
     },
     "metadata": {},
     "output_type": "display_data"
    }
   ],
   "source": [
    "compare_loocv_plot = compare_loocv\n",
    "models = colnames(compare_loocv_plot) \n",
    "models_com = combn(models,2)\n",
    "my_comparisons = list()\n",
    "for (i in seq(1,ncol(models_com))){\n",
    "    my_comparisons[[i]] = c(models_com[1,i], models_com[2,i])\n",
    "}\n",
    "\n",
    "compare_loocv_plot$'sub' = rownames(compare_loocv_plot)\n",
    "compare_loocv_melt_plot = melt(compare_loocv_plot,id.vars='sub')\n",
    "colnames(compare_loocv_melt_plot) = c('sub','model','r_value')\n",
    "\n",
    "compare_loocv_melt_plot$model = factor(compare_loocv_melt_plot$model, \n",
    "                           levels = c('clustering_imp',\n",
    "                                      'clustering_exp','clustering_dim_umap',\n",
    "                                      'dimension_imp','dimension_exp','dimension_dim','hybrid_3k'))\n",
    "\n",
    "compare_loocv_zscore_plot = FisherZ(compare_loocv_plot[1:7])#FisherZ\n",
    "compare_loocv_zscore_plot$'sub' = rownames(compare_loocv_zscore_plot)\n",
    "compare_loocv_zscore_melt_plot = melt(compare_loocv_zscore_plot,id.vars='sub')\n",
    "colnames(compare_loocv_zscore_melt_plot) = c('sub','model','z_value')\n",
    "compare_loocv_melt_plot$'z_value'=compare_loocv_zscore_melt_plot$'z_value'\n",
    "\n",
    "res.aov = anova_test(\n",
    "    data = compare_loocv_melt_plot,dv = z_value, wid = sub,\n",
    "    within = model)\n",
    "get_anova_table(res.aov)\n",
    "\n",
    "# pairwise comparisons\n",
    "pwc <- compare_loocv_melt_plot %>%\n",
    "  pairwise_t_test(\n",
    "    z_value ~ model, paired = TRUE,\n",
    "    p.adjust.method = \"bonferroni\"\n",
    "    )\n",
    "pwc"
   ]
  },
  {
   "cell_type": "markdown",
   "id": "e3e735f0",
   "metadata": {},
   "source": [
    "# Plot results"
   ]
  },
  {
   "cell_type": "code",
   "execution_count": 27,
   "id": "615cd1a6",
   "metadata": {
    "ExecuteTime": {
     "end_time": "2023-09-25T14:50:46.938780Z",
     "start_time": "2023-09-25T14:50:46.598Z"
    }
   },
   "outputs": [
    {
     "data": {
      "image/png": "[encoded data removed]",
      "text/plain": [
       "plot without title"
      ]
     },
     "metadata": {
      "image/png": {
       "height": 600,
       "width": 600
      }
     },
     "output_type": "display_data"
    }
   ],
   "source": [
    "options(repr.plot.width=10, repr.plot.height=10)\n",
    "ggplot(compare_loocv_melt_plot,aes(x=model,y=r_value))+\n",
    "geom_boxplot(lwd=2)+\n",
    "#stat_summary(fun = mean, geom = \"point\", shape = 16, size=8,color='red')+\n",
    "geom_jitter(color=\"black\", size=5,alpha=0.5,\n",
    "            position = position_jitter(0.1))+\n",
    "geom_line(aes(group = sub),alpha=0.5,size=0.5) + \n",
    "scale_x_discrete(labels = c(\"clustering_imp\" = \"M1\",\n",
    "                            \"clustering_exp\" = \"M2\",\n",
    "                           \"clustering_dim_umap\" = \"M3\", \n",
    "                            \"dimension_imp\" = \"M4\", \"dimension_exp\" = \"M5\",\n",
    "                           \"dimension_dim\" = \"M6\",\"hybrid_3k\" = \"M7\")) + \n",
    "\n",
    "# ggtitle('Compare model LOOCV')+\n",
    "theme_classic()+\n",
    "theme(#axis.title.x = element_text(size=40,face='bold'),\n",
    "      #axis.title.y = element_text(size=50,face='bold'),\n",
    "      axis.title.x = element_blank(),\n",
    "      axis.title.y = element_blank(),\n",
    "      axis.text.y = element_text(size=40),\n",
    "      axis.text.x = element_text(size=30,face='bold',color=\"black\"),\n",
    "      #axis.text.x = element_blank(),\n",
    "      axis.line.x=element_line(linetype=1,color=\"black\",size=3),\n",
    "      axis.line.y=element_line(linetype=1,color=\"black\",size=3),      \n",
    "      legend.key.size = unit(1,\"cm\"),\n",
    "      legend.title = element_text(size=16,face='bold'),\n",
    "      legend.text = element_text(size=18),\n",
    "      plot.title = element_text(hjust = 0.5,size=18))+\n",
    "ylab('LOOCV')+\n",
    "xlab('')"
   ]
  },
  {
   "cell_type": "code",
   "execution_count": 29,
   "id": "4ad12ce1",
   "metadata": {
    "ExecuteTime": {
     "end_time": "2023-09-25T14:52:45.264456Z",
     "start_time": "2023-09-25T14:52:44.463Z"
    }
   },
   "outputs": [
    {
     "data": {
      "text/html": [
       "<strong>png:</strong> 2"
      ],
      "text/latex": [
       "\\textbf{png:} 2"
      ],
      "text/markdown": [
       "**png:** 2"
      ],
      "text/plain": [
       "png \n",
       "  2 "
      ]
     },
     "metadata": {},
     "output_type": "display_data"
    }
   ],
   "source": [
    "png(\"../output_graph/ModelComparison_revise.png\", bg=\"transparent\",\n",
    "    family = 'sans',units='in',width=10,height=10,res=300)\n",
    "options(repr.plot.width=10, repr.plot.height=10)\n",
    "ggplot(compare_loocv_melt_plot,aes(x=model,y=r_value))+\n",
    "geom_boxplot(lwd=2)+\n",
    "#stat_summary(fun = mean, geom = \"point\", shape = 16, size=8,color='red')+\n",
    "geom_jitter(color=\"black\", size=5,alpha=0.5,\n",
    "            position = position_jitter(0.1))+\n",
    "geom_line(aes(group = sub),alpha=0.5,size=0.5) + \n",
    "scale_x_discrete(labels = c(\"clustering_imp\" = \"M1\",\"clustering_exp\" = \"M2\",\n",
    "                           \"clustering_dim_umap\" = \"M3\", \n",
    "                            \"dimension_imp\" = \"M4\", \"dimension_exp\" = \"M5\",\n",
    "                           \"dimension_dim\" = \"M6\",\"hybrid_3k\" = \"M7\")) + \n",
    "\n",
    "# ggtitle('Compare model LOOCV')+\n",
    "theme_classic()+\n",
    "theme(#axis.title.x = element_text(size=40,face='bold'),\n",
    "      #axis.title.y = element_text(size=50,face='bold'),\n",
    "      axis.title.x = element_blank(),\n",
    "      axis.title.y = element_blank(),\n",
    "      axis.text.y = element_text(size=40),\n",
    "      #axis.text.x = element_text(size=50,face='bold',color=\"black\"),\n",
    "      axis.text.x = element_blank(),\n",
    "      axis.line.x=element_line(linetype=1,color=\"black\",size=3),\n",
    "      axis.line.y=element_line(linetype=1,color=\"black\",size=3),      \n",
    "      legend.key.size = unit(1,\"cm\"),\n",
    "      legend.title = element_text(size=16,face='bold'),\n",
    "      legend.text = element_text(size=18),\n",
    "      plot.title = element_text(hjust = 0.5,size=18))+\n",
    "ylab('LOOCV')+\n",
    "xlab('')\n",
    "dev.off()"
   ]
  }
 ],
 "metadata": {
  "kernelspec": {
   "display_name": "R",
   "language": "R",
   "name": "ir"
  },
  "language_info": {
   "codemirror_mode": "r",
   "file_extension": ".r",
   "mimetype": "text/x-r-source",
   "name": "R",
   "pygments_lexer": "r",
   "version": "4.1.2"
  },
  "latex_envs": {
   "LaTeX_envs_menu_present": true,
   "autoclose": false,
   "autocomplete": true,
   "bibliofile": "biblio.bib",
   "cite_by": "apalike",
   "current_citInitial": 1,
   "eqLabelWithNumbers": true,
   "eqNumInitial": 1,
   "hotkeys": {
    "equation": "Ctrl-E",
    "itemize": "Ctrl-I"
   },
   "labels_anchors": false,
   "latex_user_defs": false,
   "report_style_numbering": false,
   "user_envs_cfg": false
  },
  "toc": {
   "base_numbering": 1,
   "nav_menu": {},
   "number_sections": true,
   "sideBar": true,
   "skip_h1_title": false,
   "title_cell": "Table of Contents",
   "title_sidebar": "Contents",
   "toc_cell": false,
   "toc_position": {},
   "toc_section_display": true,
   "toc_window_display": true
  },
  "varInspector": {
   "cols": {
    "lenName": 16,
    "lenType": 16,
    "lenVar": 40
   },
   "kernels_config": {
    "python": {
     "delete_cmd_postfix": "",
     "delete_cmd_prefix": "del ",
     "library": "var_list.py",
     "varRefreshCmd": "print(var_dic_list())"
    },
    "r": {
     "delete_cmd_postfix": ") ",
     "delete_cmd_prefix": "rm(",
     "library": "var_list.r",
     "varRefreshCmd": "cat(var_dic_list()) "
    }
   },
   "types_to_exclude": [
    "module",
    "function",
    "builtin_function_or_method",
    "instance",
    "_Feature"
   ],
   "window_display": false
  }
 },
 "nbformat": 4,
 "nbformat_minor": 5
}
