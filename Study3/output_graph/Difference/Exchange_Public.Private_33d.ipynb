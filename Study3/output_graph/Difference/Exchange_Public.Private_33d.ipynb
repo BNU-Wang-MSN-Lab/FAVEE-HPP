{
 "cells": [
  {
   "cell_type": "code",
   "execution_count": 2,
   "id": "1781e334",
   "metadata": {
    "ExecuteTime": {
     "end_time": "2022-12-26T03:26:47.913023Z",
     "start_time": "2022-12-26T03:26:46.916Z"
    }
   },
   "outputs": [],
   "source": [
    "library(tidyverse)\n",
    "library(dplyr)# mean+group_by\n",
    "\n",
    "library(ggplot2)\n",
    "library(ggpubr) #plot\n",
    "library(rstatix) #easy statistical analyses\n",
    "\n",
    "library(reshape)"
   ]
  },
  {
   "cell_type": "markdown",
   "id": "490c9532",
   "metadata": {},
   "source": [
    "# Import data"
   ]
  },
  {
   "cell_type": "code",
   "execution_count": 3,
   "id": "bab61de5",
   "metadata": {
    "ExecuteTime": {
     "end_time": "2022-12-26T03:27:44.527596Z",
     "start_time": "2022-12-26T03:27:44.492Z"
    }
   },
   "outputs": [],
   "source": [
    "# pca data\n",
    "usa_pca_data = read.csv('../output_data/pca_results/USA/USA_scores_var_33d.csv',\n",
    "                   row.names=1)\n",
    "colnames(usa_pca_data) = c('Formality','Activeness','Valence','Exchange','Equality')\n",
    "usa_pca_data['Equality'] = -usa_pca_data['Equality']\n",
    "\n",
    "chn_pca_data = read.csv('../output_data/pca_results/CHN/CHN_NLP_159rel_33d_scores_var.csv',\n",
    "                   row.names=1)\n",
    "colnames(chn_pca_data) = c('Valence','Exchange','Equality','Formality','Activeness')\n",
    "chn_pca_data['Equality'] = -chn_pca_data['Equality']"
   ]
  },
  {
   "cell_type": "code",
   "execution_count": 5,
   "id": "019e89ad",
   "metadata": {
    "ExecuteTime": {
     "end_time": "2022-12-26T03:28:33.023178Z",
     "start_time": "2022-12-26T03:28:32.930Z"
    }
   },
   "outputs": [
    {
     "name": "stdout",
     "output_type": "stream",
     "text": [
      "[1] \"Hostile: 25\"\n"
     ]
    },
    {
     "data": {
      "text/html": [
       "<style>\n",
       ".list-inline {list-style: none; margin:0; padding: 0}\n",
       ".list-inline>li {display: inline-block}\n",
       ".list-inline>li:not(:last-child)::after {content: \"\\00b7\"; padding: 0 .5ex}\n",
       "</style>\n",
       "<ol class=list-inline><li>'Between business rivals'</li><li>'Police officer and Offender'</li><li>'Criminal and Prosecutor'</li><li>'Parole officer and Parolee'</li><li>'Between divorced spouses'</li><li>'Bully and Victim'</li><li>'Victim and Criminal'</li><li>'Guard and Prisoner'</li><li>'Between competitors in sports'</li><li>'Between fans of opposing sports teams'</li><li>'Defendant and Plaintiff'</li><li>'Man Wife and Man Mistress'</li><li>'Between ex-lovers'</li><li>'Between opposing negotiators'</li><li>'Celebrity and Haters'</li><li>'Between political opponents'</li><li>'Between enemies'</li><li>'Criminal and Hostage'</li><li>'Slave and Master'</li><li>'Between frenemies'</li><li>'Between sports rivals'</li><li>'Police officer and Civilian'</li><li>'Criminal and Police officer'</li><li>'Between romantic rivals'</li><li>'Master and Servant'</li></ol>\n"
      ],
      "text/latex": [
       "\\begin{enumerate*}\n",
       "\\item 'Between business rivals'\n",
       "\\item 'Police officer and Offender'\n",
       "\\item 'Criminal and Prosecutor'\n",
       "\\item 'Parole officer and Parolee'\n",
       "\\item 'Between divorced spouses'\n",
       "\\item 'Bully and Victim'\n",
       "\\item 'Victim and Criminal'\n",
       "\\item 'Guard and Prisoner'\n",
       "\\item 'Between competitors in sports'\n",
       "\\item 'Between fans of opposing sports teams'\n",
       "\\item 'Defendant and Plaintiff'\n",
       "\\item 'Man Wife and Man Mistress'\n",
       "\\item 'Between ex-lovers'\n",
       "\\item 'Between opposing negotiators'\n",
       "\\item 'Celebrity and Haters'\n",
       "\\item 'Between political opponents'\n",
       "\\item 'Between enemies'\n",
       "\\item 'Criminal and Hostage'\n",
       "\\item 'Slave and Master'\n",
       "\\item 'Between frenemies'\n",
       "\\item 'Between sports rivals'\n",
       "\\item 'Police officer and Civilian'\n",
       "\\item 'Criminal and Police officer'\n",
       "\\item 'Between romantic rivals'\n",
       "\\item 'Master and Servant'\n",
       "\\end{enumerate*}\n"
      ],
      "text/markdown": [
       "1. 'Between business rivals'\n",
       "2. 'Police officer and Offender'\n",
       "3. 'Criminal and Prosecutor'\n",
       "4. 'Parole officer and Parolee'\n",
       "5. 'Between divorced spouses'\n",
       "6. 'Bully and Victim'\n",
       "7. 'Victim and Criminal'\n",
       "8. 'Guard and Prisoner'\n",
       "9. 'Between competitors in sports'\n",
       "10. 'Between fans of opposing sports teams'\n",
       "11. 'Defendant and Plaintiff'\n",
       "12. 'Man Wife and Man Mistress'\n",
       "13. 'Between ex-lovers'\n",
       "14. 'Between opposing negotiators'\n",
       "15. 'Celebrity and Haters'\n",
       "16. 'Between political opponents'\n",
       "17. 'Between enemies'\n",
       "18. 'Criminal and Hostage'\n",
       "19. 'Slave and Master'\n",
       "20. 'Between frenemies'\n",
       "21. 'Between sports rivals'\n",
       "22. 'Police officer and Civilian'\n",
       "23. 'Criminal and Police officer'\n",
       "24. 'Between romantic rivals'\n",
       "25. 'Master and Servant'\n",
       "\n",
       "\n"
      ],
      "text/plain": [
       " [1] \"Between business rivals\"              \n",
       " [2] \"Police officer and Offender\"          \n",
       " [3] \"Criminal and Prosecutor\"              \n",
       " [4] \"Parole officer and Parolee\"           \n",
       " [5] \"Between divorced spouses\"             \n",
       " [6] \"Bully and Victim\"                     \n",
       " [7] \"Victim and Criminal\"                  \n",
       " [8] \"Guard and Prisoner\"                   \n",
       " [9] \"Between competitors in sports\"        \n",
       "[10] \"Between fans of opposing sports teams\"\n",
       "[11] \"Defendant and Plaintiff\"              \n",
       "[12] \"Man Wife and Man Mistress\"            \n",
       "[13] \"Between ex-lovers\"                    \n",
       "[14] \"Between opposing negotiators\"         \n",
       "[15] \"Celebrity and Haters\"                 \n",
       "[16] \"Between political opponents\"          \n",
       "[17] \"Between enemies\"                      \n",
       "[18] \"Criminal and Hostage\"                 \n",
       "[19] \"Slave and Master\"                     \n",
       "[20] \"Between frenemies\"                    \n",
       "[21] \"Between sports rivals\"                \n",
       "[22] \"Police officer and Civilian\"          \n",
       "[23] \"Criminal and Police officer\"          \n",
       "[24] \"Between romantic rivals\"              \n",
       "[25] \"Master and Servant\"                   "
      ]
     },
     "metadata": {},
     "output_type": "display_data"
    },
    {
     "name": "stdout",
     "output_type": "stream",
     "text": [
      "[1] \"Familial: 23\"\n"
     ]
    },
    {
     "data": {
      "text/html": [
       "<style>\n",
       ".list-inline {list-style: none; margin:0; padding: 0}\n",
       ".list-inline>li {display: inline-block}\n",
       ".list-inline>li:not(:last-child)::after {content: \"\\00b7\"; padding: 0 .5ex}\n",
       "</style>\n",
       "<ol class=list-inline><li>'Uncle and Niece/Nephew'</li><li>'Between close relatives'</li><li>'Between a person and their in-laws'</li><li>'Between distant relatives'</li><li>'Mother and Infant'</li><li>'Between second cousins'</li><li>'Ancestor and Descendant'</li><li>'Godparent and Godchild'</li><li>'Between twins'</li><li>'Parent and Child'</li><li>'Brother and Sister'</li><li>'Aunt and Niece/Nephew'</li><li>'Between step-siblings'</li><li>'Step-parent and Step-child'</li><li>'Between cousins'</li><li>'Between half-siblings'</li><li>'Parent and Teenager'</li><li>'Foster-parent and Foster-child'</li><li>'Between Siblings'</li><li>'Between adoptive parents and adopted kids'</li><li>'Step-grandparent and Step-grandchild'</li><li>'Parent and Infant'</li><li>'Grandparent and Grandchild'</li></ol>\n"
      ],
      "text/latex": [
       "\\begin{enumerate*}\n",
       "\\item 'Uncle and Niece/Nephew'\n",
       "\\item 'Between close relatives'\n",
       "\\item 'Between a person and their in-laws'\n",
       "\\item 'Between distant relatives'\n",
       "\\item 'Mother and Infant'\n",
       "\\item 'Between second cousins'\n",
       "\\item 'Ancestor and Descendant'\n",
       "\\item 'Godparent and Godchild'\n",
       "\\item 'Between twins'\n",
       "\\item 'Parent and Child'\n",
       "\\item 'Brother and Sister'\n",
       "\\item 'Aunt and Niece/Nephew'\n",
       "\\item 'Between step-siblings'\n",
       "\\item 'Step-parent and Step-child'\n",
       "\\item 'Between cousins'\n",
       "\\item 'Between half-siblings'\n",
       "\\item 'Parent and Teenager'\n",
       "\\item 'Foster-parent and Foster-child'\n",
       "\\item 'Between Siblings'\n",
       "\\item 'Between adoptive parents and adopted kids'\n",
       "\\item 'Step-grandparent and Step-grandchild'\n",
       "\\item 'Parent and Infant'\n",
       "\\item 'Grandparent and Grandchild'\n",
       "\\end{enumerate*}\n"
      ],
      "text/markdown": [
       "1. 'Uncle and Niece/Nephew'\n",
       "2. 'Between close relatives'\n",
       "3. 'Between a person and their in-laws'\n",
       "4. 'Between distant relatives'\n",
       "5. 'Mother and Infant'\n",
       "6. 'Between second cousins'\n",
       "7. 'Ancestor and Descendant'\n",
       "8. 'Godparent and Godchild'\n",
       "9. 'Between twins'\n",
       "10. 'Parent and Child'\n",
       "11. 'Brother and Sister'\n",
       "12. 'Aunt and Niece/Nephew'\n",
       "13. 'Between step-siblings'\n",
       "14. 'Step-parent and Step-child'\n",
       "15. 'Between cousins'\n",
       "16. 'Between half-siblings'\n",
       "17. 'Parent and Teenager'\n",
       "18. 'Foster-parent and Foster-child'\n",
       "19. 'Between Siblings'\n",
       "20. 'Between adoptive parents and adopted kids'\n",
       "21. 'Step-grandparent and Step-grandchild'\n",
       "22. 'Parent and Infant'\n",
       "23. 'Grandparent and Grandchild'\n",
       "\n",
       "\n"
      ],
      "text/plain": [
       " [1] \"Uncle and Niece/Nephew\"                   \n",
       " [2] \"Between close relatives\"                  \n",
       " [3] \"Between a person and their in-laws\"       \n",
       " [4] \"Between distant relatives\"                \n",
       " [5] \"Mother and Infant\"                        \n",
       " [6] \"Between second cousins\"                   \n",
       " [7] \"Ancestor and Descendant\"                  \n",
       " [8] \"Godparent and Godchild\"                   \n",
       " [9] \"Between twins\"                            \n",
       "[10] \"Parent and Child\"                         \n",
       "[11] \"Brother and Sister\"                       \n",
       "[12] \"Aunt and Niece/Nephew\"                    \n",
       "[13] \"Between step-siblings\"                    \n",
       "[14] \"Step-parent and Step-child\"               \n",
       "[15] \"Between cousins\"                          \n",
       "[16] \"Between half-siblings\"                    \n",
       "[17] \"Parent and Teenager\"                      \n",
       "[18] \"Foster-parent and Foster-child\"           \n",
       "[19] \"Between Siblings\"                         \n",
       "[20] \"Between adoptive parents and adopted kids\"\n",
       "[21] \"Step-grandparent and Step-grandchild\"     \n",
       "[22] \"Parent and Infant\"                        \n",
       "[23] \"Grandparent and Grandchild\"               "
      ]
     },
     "metadata": {},
     "output_type": "display_data"
    },
    {
     "name": "stdout",
     "output_type": "stream",
     "text": [
      "[1] \"Romantic: 13\"\n"
     ]
    },
    {
     "data": {
      "text/html": [
       "<style>\n",
       ".list-inline {list-style: none; margin:0; padding: 0}\n",
       ".list-inline>li {display: inline-block}\n",
       ".list-inline>li:not(:last-child)::after {content: \"\\00b7\"; padding: 0 .5ex}\n",
       "</style>\n",
       "<ol class=list-inline><li>'Between long-distance lovers'</li><li>'Sugar-daddy and Sugar-baby'</li><li>'Between a person and their deceased spouse'</li><li>'Between life-partners'</li><li>'Between romantic lovers'</li><li>'Between soul-mates'</li><li>'Fiance and Fiancee'</li><li>'Between a person and their crush'</li><li>'Between a person and their significant other'</li><li>'Between friends with benefits'</li><li>'Wife and Husband'</li><li>'Man and His Mistress'</li><li>'Bride and Groom'</li></ol>\n"
      ],
      "text/latex": [
       "\\begin{enumerate*}\n",
       "\\item 'Between long-distance lovers'\n",
       "\\item 'Sugar-daddy and Sugar-baby'\n",
       "\\item 'Between a person and their deceased spouse'\n",
       "\\item 'Between life-partners'\n",
       "\\item 'Between romantic lovers'\n",
       "\\item 'Between soul-mates'\n",
       "\\item 'Fiance and Fiancee'\n",
       "\\item 'Between a person and their crush'\n",
       "\\item 'Between a person and their significant other'\n",
       "\\item 'Between friends with benefits'\n",
       "\\item 'Wife and Husband'\n",
       "\\item 'Man and His Mistress'\n",
       "\\item 'Bride and Groom'\n",
       "\\end{enumerate*}\n"
      ],
      "text/markdown": [
       "1. 'Between long-distance lovers'\n",
       "2. 'Sugar-daddy and Sugar-baby'\n",
       "3. 'Between a person and their deceased spouse'\n",
       "4. 'Between life-partners'\n",
       "5. 'Between romantic lovers'\n",
       "6. 'Between soul-mates'\n",
       "7. 'Fiance and Fiancee'\n",
       "8. 'Between a person and their crush'\n",
       "9. 'Between a person and their significant other'\n",
       "10. 'Between friends with benefits'\n",
       "11. 'Wife and Husband'\n",
       "12. 'Man and His Mistress'\n",
       "13. 'Bride and Groom'\n",
       "\n",
       "\n"
      ],
      "text/plain": [
       " [1] \"Between long-distance lovers\"                \n",
       " [2] \"Sugar-daddy and Sugar-baby\"                  \n",
       " [3] \"Between a person and their deceased spouse\"  \n",
       " [4] \"Between life-partners\"                       \n",
       " [5] \"Between romantic lovers\"                     \n",
       " [6] \"Between soul-mates\"                          \n",
       " [7] \"Fiance and Fiancee\"                          \n",
       " [8] \"Between a person and their crush\"            \n",
       " [9] \"Between a person and their significant other\"\n",
       "[10] \"Between friends with benefits\"               \n",
       "[11] \"Wife and Husband\"                            \n",
       "[12] \"Man and His Mistress\"                        \n",
       "[13] \"Bride and Groom\"                             "
      ]
     },
     "metadata": {},
     "output_type": "display_data"
    },
    {
     "name": "stdout",
     "output_type": "stream",
     "text": [
      "[1] \"Affiliative: 33\"\n"
     ]
    },
    {
     "data": {
      "text/html": [
       "<style>\n",
       ".list-inline {list-style: none; margin:0; padding: 0}\n",
       ".list-inline>li {display: inline-block}\n",
       ".list-inline>li:not(:last-child)::after {content: \"\\00b7\"; padding: 0 .5ex}\n",
       "</style>\n",
       "<ol class=list-inline><li>'Between a person and their social media follower'</li><li>'Between alumni'</li><li>'Between childhood friends'</li><li>'Between peers'</li><li>'Groom and Groomsman'</li><li>'Between friends'</li><li>'Between strangers'</li><li>'Between teammates in sports'</li><li>'Between companions'</li><li>'Between sorority sisters'</li><li>'Between diplomats'</li><li>'Between cohabitants'</li><li>'Between casual acquaintances'</li><li>'Between criminal and their accomplice'</li><li>'Between Business Partners'</li><li>'Between neighbors'</li><li>'Between fraternity brothers'</li><li>'Between fans of the same sports team'</li><li>'Between roommates'</li><li>'Between pen-friends'</li><li>'Between church members'</li><li>'Between political allies'</li><li>'Between Facebook Friends'</li><li>'Between Close Friends'</li><li>'Victim and Witness'</li><li>'Between classmates'</li><li>'Bride and Bridesmaid'</li><li>'Between a person and their family friends'</li><li>'Between playmates'</li><li>'Between religious followers'</li><li>'Between confidants'</li><li>'Between Co-workers'</li><li>'Between brothers-in-arms'</li></ol>\n"
      ],
      "text/latex": [
       "\\begin{enumerate*}\n",
       "\\item 'Between a person and their social media follower'\n",
       "\\item 'Between alumni'\n",
       "\\item 'Between childhood friends'\n",
       "\\item 'Between peers'\n",
       "\\item 'Groom and Groomsman'\n",
       "\\item 'Between friends'\n",
       "\\item 'Between strangers'\n",
       "\\item 'Between teammates in sports'\n",
       "\\item 'Between companions'\n",
       "\\item 'Between sorority sisters'\n",
       "\\item 'Between diplomats'\n",
       "\\item 'Between cohabitants'\n",
       "\\item 'Between casual acquaintances'\n",
       "\\item 'Between criminal and their accomplice'\n",
       "\\item 'Between Business Partners'\n",
       "\\item 'Between neighbors'\n",
       "\\item 'Between fraternity brothers'\n",
       "\\item 'Between fans of the same sports team'\n",
       "\\item 'Between roommates'\n",
       "\\item 'Between pen-friends'\n",
       "\\item 'Between church members'\n",
       "\\item 'Between political allies'\n",
       "\\item 'Between Facebook Friends'\n",
       "\\item 'Between Close Friends'\n",
       "\\item 'Victim and Witness'\n",
       "\\item 'Between classmates'\n",
       "\\item 'Bride and Bridesmaid'\n",
       "\\item 'Between a person and their family friends'\n",
       "\\item 'Between playmates'\n",
       "\\item 'Between religious followers'\n",
       "\\item 'Between confidants'\n",
       "\\item 'Between Co-workers'\n",
       "\\item 'Between brothers-in-arms'\n",
       "\\end{enumerate*}\n"
      ],
      "text/markdown": [
       "1. 'Between a person and their social media follower'\n",
       "2. 'Between alumni'\n",
       "3. 'Between childhood friends'\n",
       "4. 'Between peers'\n",
       "5. 'Groom and Groomsman'\n",
       "6. 'Between friends'\n",
       "7. 'Between strangers'\n",
       "8. 'Between teammates in sports'\n",
       "9. 'Between companions'\n",
       "10. 'Between sorority sisters'\n",
       "11. 'Between diplomats'\n",
       "12. 'Between cohabitants'\n",
       "13. 'Between casual acquaintances'\n",
       "14. 'Between criminal and their accomplice'\n",
       "15. 'Between Business Partners'\n",
       "16. 'Between neighbors'\n",
       "17. 'Between fraternity brothers'\n",
       "18. 'Between fans of the same sports team'\n",
       "19. 'Between roommates'\n",
       "20. 'Between pen-friends'\n",
       "21. 'Between church members'\n",
       "22. 'Between political allies'\n",
       "23. 'Between Facebook Friends'\n",
       "24. 'Between Close Friends'\n",
       "25. 'Victim and Witness'\n",
       "26. 'Between classmates'\n",
       "27. 'Bride and Bridesmaid'\n",
       "28. 'Between a person and their family friends'\n",
       "29. 'Between playmates'\n",
       "30. 'Between religious followers'\n",
       "31. 'Between confidants'\n",
       "32. 'Between Co-workers'\n",
       "33. 'Between brothers-in-arms'\n",
       "\n",
       "\n"
      ],
      "text/plain": [
       " [1] \"Between a person and their social media follower\"\n",
       " [2] \"Between alumni\"                                  \n",
       " [3] \"Between childhood friends\"                       \n",
       " [4] \"Between peers\"                                   \n",
       " [5] \"Groom and Groomsman\"                             \n",
       " [6] \"Between friends\"                                 \n",
       " [7] \"Between strangers\"                               \n",
       " [8] \"Between teammates in sports\"                     \n",
       " [9] \"Between companions\"                              \n",
       "[10] \"Between sorority sisters\"                        \n",
       "[11] \"Between diplomats\"                               \n",
       "[12] \"Between cohabitants\"                             \n",
       "[13] \"Between casual acquaintances\"                    \n",
       "[14] \"Between criminal and their accomplice\"           \n",
       "[15] \"Between Business Partners\"                       \n",
       "[16] \"Between neighbors\"                               \n",
       "[17] \"Between fraternity brothers\"                     \n",
       "[18] \"Between fans of the same sports team\"            \n",
       "[19] \"Between roommates\"                               \n",
       "[20] \"Between pen-friends\"                             \n",
       "[21] \"Between church members\"                          \n",
       "[22] \"Between political allies\"                        \n",
       "[23] \"Between Facebook Friends\"                        \n",
       "[24] \"Between Close Friends\"                           \n",
       "[25] \"Victim and Witness\"                              \n",
       "[26] \"Between classmates\"                              \n",
       "[27] \"Bride and Bridesmaid\"                            \n",
       "[28] \"Between a person and their family friends\"       \n",
       "[29] \"Between playmates\"                               \n",
       "[30] \"Between religious followers\"                     \n",
       "[31] \"Between confidants\"                              \n",
       "[32] \"Between Co-workers\"                              \n",
       "[33] \"Between brothers-in-arms\"                        "
      ]
     },
     "metadata": {},
     "output_type": "display_data"
    },
    {
     "name": "stdout",
     "output_type": "stream",
     "text": [
      "[1] \"Transactional: 30\"\n"
     ]
    },
    {
     "data": {
      "text/html": [
       "<style>\n",
       ".list-inline {list-style: none; margin:0; padding: 0}\n",
       ".list-inline>li {display: inline-block}\n",
       ".list-inline>li:not(:last-child)::after {content: \"\\00b7\"; padding: 0 .5ex}\n",
       "</style>\n",
       "<ol class=list-inline><li>'Native and Tourist'</li><li>'Driver and Passenger'</li><li>'Nurse and Patient'</li><li>'Representative and Citizen'</li><li>'Reviewer and Writer'</li><li>'Entrepreneur and Investor'</li><li>'Dealer and Buyer'</li><li>'Reader and Writer'</li><li>'Patient and Caretaker'</li><li>'Psychologist and Client'</li><li>'Therapist and Patient'</li><li>'Politician and Supporter'</li><li>'Landlord and Tenant'</li><li>'Doctor and Patient'</li><li>'Prostitute and Customer'</li><li>'Researcher and Research Subject'</li><li>'Lawyer and Client'</li><li>'Guide and Tourist'</li><li>'Salesperson and Customer'</li><li>'Drug dealer and Addict'</li><li>'Consultant and Client'</li><li>'Customer and Businessman'</li><li>'Chef and Customer'</li><li>'Performer and Audience'</li><li>'Guest and Host'</li><li>'Babysitter and Infant'</li><li>'Television host and Guest'</li><li>'Customer and Server'</li><li>'Celebrity and Fans'</li><li>'Judge and Contestant'</li></ol>\n"
      ],
      "text/latex": [
       "\\begin{enumerate*}\n",
       "\\item 'Native and Tourist'\n",
       "\\item 'Driver and Passenger'\n",
       "\\item 'Nurse and Patient'\n",
       "\\item 'Representative and Citizen'\n",
       "\\item 'Reviewer and Writer'\n",
       "\\item 'Entrepreneur and Investor'\n",
       "\\item 'Dealer and Buyer'\n",
       "\\item 'Reader and Writer'\n",
       "\\item 'Patient and Caretaker'\n",
       "\\item 'Psychologist and Client'\n",
       "\\item 'Therapist and Patient'\n",
       "\\item 'Politician and Supporter'\n",
       "\\item 'Landlord and Tenant'\n",
       "\\item 'Doctor and Patient'\n",
       "\\item 'Prostitute and Customer'\n",
       "\\item 'Researcher and Research Subject'\n",
       "\\item 'Lawyer and Client'\n",
       "\\item 'Guide and Tourist'\n",
       "\\item 'Salesperson and Customer'\n",
       "\\item 'Drug dealer and Addict'\n",
       "\\item 'Consultant and Client'\n",
       "\\item 'Customer and Businessman'\n",
       "\\item 'Chef and Customer'\n",
       "\\item 'Performer and Audience'\n",
       "\\item 'Guest and Host'\n",
       "\\item 'Babysitter and Infant'\n",
       "\\item 'Television host and Guest'\n",
       "\\item 'Customer and Server'\n",
       "\\item 'Celebrity and Fans'\n",
       "\\item 'Judge and Contestant'\n",
       "\\end{enumerate*}\n"
      ],
      "text/markdown": [
       "1. 'Native and Tourist'\n",
       "2. 'Driver and Passenger'\n",
       "3. 'Nurse and Patient'\n",
       "4. 'Representative and Citizen'\n",
       "5. 'Reviewer and Writer'\n",
       "6. 'Entrepreneur and Investor'\n",
       "7. 'Dealer and Buyer'\n",
       "8. 'Reader and Writer'\n",
       "9. 'Patient and Caretaker'\n",
       "10. 'Psychologist and Client'\n",
       "11. 'Therapist and Patient'\n",
       "12. 'Politician and Supporter'\n",
       "13. 'Landlord and Tenant'\n",
       "14. 'Doctor and Patient'\n",
       "15. 'Prostitute and Customer'\n",
       "16. 'Researcher and Research Subject'\n",
       "17. 'Lawyer and Client'\n",
       "18. 'Guide and Tourist'\n",
       "19. 'Salesperson and Customer'\n",
       "20. 'Drug dealer and Addict'\n",
       "21. 'Consultant and Client'\n",
       "22. 'Customer and Businessman'\n",
       "23. 'Chef and Customer'\n",
       "24. 'Performer and Audience'\n",
       "25. 'Guest and Host'\n",
       "26. 'Babysitter and Infant'\n",
       "27. 'Television host and Guest'\n",
       "28. 'Customer and Server'\n",
       "29. 'Celebrity and Fans'\n",
       "30. 'Judge and Contestant'\n",
       "\n",
       "\n"
      ],
      "text/plain": [
       " [1] \"Native and Tourist\"              \"Driver and Passenger\"           \n",
       " [3] \"Nurse and Patient\"               \"Representative and Citizen\"     \n",
       " [5] \"Reviewer and Writer\"             \"Entrepreneur and Investor\"      \n",
       " [7] \"Dealer and Buyer\"                \"Reader and Writer\"              \n",
       " [9] \"Patient and Caretaker\"           \"Psychologist and Client\"        \n",
       "[11] \"Therapist and Patient\"           \"Politician and Supporter\"       \n",
       "[13] \"Landlord and Tenant\"             \"Doctor and Patient\"             \n",
       "[15] \"Prostitute and Customer\"         \"Researcher and Research Subject\"\n",
       "[17] \"Lawyer and Client\"               \"Guide and Tourist\"              \n",
       "[19] \"Salesperson and Customer\"        \"Drug dealer and Addict\"         \n",
       "[21] \"Consultant and Client\"           \"Customer and Businessman\"       \n",
       "[23] \"Chef and Customer\"               \"Performer and Audience\"         \n",
       "[25] \"Guest and Host\"                  \"Babysitter and Infant\"          \n",
       "[27] \"Television host and Guest\"       \"Customer and Server\"            \n",
       "[29] \"Celebrity and Fans\"              \"Judge and Contestant\"           "
      ]
     },
     "metadata": {},
     "output_type": "display_data"
    },
    {
     "name": "stdout",
     "output_type": "stream",
     "text": [
      "[1] \"Power: 35\"\n"
     ]
    },
    {
     "data": {
      "text/html": [
       "<style>\n",
       ".list-inline {list-style: none; margin:0; padding: 0}\n",
       ".list-inline>li {display: inline-block}\n",
       ".list-inline>li:not(:last-child)::after {content: \"\\00b7\"; padding: 0 .5ex}\n",
       "</style>\n",
       "<ol class=list-inline><li>'Student and Dorm Resident assistant'</li><li>'Union leader and union member'</li><li>'Intern and Employee'</li><li>'Mentor and Mentee'</li><li>'Religious leader and Congregant'</li><li>'Teacher and Student'</li><li>'Employer and Employee'</li><li>'Supervisor and Subordinate'</li><li>'Team Captain and Team Members'</li><li>'Predecessor and Successor'</li><li>'Interviewer and Job applicant'</li><li>'Officer and Soldier'</li><li>'Between a monarch and their minister'</li><li>'Professor and Graduate student'</li><li>'Director and Performer'</li><li>'Athletic trainer and Trainee'</li><li>'Doctor and Nurse'</li><li>'Landlord and Housekeeper'</li><li>'Foreman and Laborer'</li><li>'Superior and Subordinate'</li><li>'Club Member and Club President'</li><li>'Chief and Deputy'</li><li>'Athlete and Referee'</li><li>'Principal and Teacher'</li><li>'Judge and Lawyer'</li><li>'Coach and athlete'</li><li>'University student and Administrator'</li><li>'Leader and Follower'</li><li>'Man and God'</li><li>'Volunteer and Organizer'</li><li>'Manager and Staff'</li><li>'Owner and Manager'</li><li>'Manager and Assistant'</li><li>'Boss and Secretary'</li><li>'Professor and Teaching Assistant'</li></ol>\n"
      ],
      "text/latex": [
       "\\begin{enumerate*}\n",
       "\\item 'Student and Dorm Resident assistant'\n",
       "\\item 'Union leader and union member'\n",
       "\\item 'Intern and Employee'\n",
       "\\item 'Mentor and Mentee'\n",
       "\\item 'Religious leader and Congregant'\n",
       "\\item 'Teacher and Student'\n",
       "\\item 'Employer and Employee'\n",
       "\\item 'Supervisor and Subordinate'\n",
       "\\item 'Team Captain and Team Members'\n",
       "\\item 'Predecessor and Successor'\n",
       "\\item 'Interviewer and Job applicant'\n",
       "\\item 'Officer and Soldier'\n",
       "\\item 'Between a monarch and their minister'\n",
       "\\item 'Professor and Graduate student'\n",
       "\\item 'Director and Performer'\n",
       "\\item 'Athletic trainer and Trainee'\n",
       "\\item 'Doctor and Nurse'\n",
       "\\item 'Landlord and Housekeeper'\n",
       "\\item 'Foreman and Laborer'\n",
       "\\item 'Superior and Subordinate'\n",
       "\\item 'Club Member and Club President'\n",
       "\\item 'Chief and Deputy'\n",
       "\\item 'Athlete and Referee'\n",
       "\\item 'Principal and Teacher'\n",
       "\\item 'Judge and Lawyer'\n",
       "\\item 'Coach and athlete'\n",
       "\\item 'University student and Administrator'\n",
       "\\item 'Leader and Follower'\n",
       "\\item 'Man and God'\n",
       "\\item 'Volunteer and Organizer'\n",
       "\\item 'Manager and Staff'\n",
       "\\item 'Owner and Manager'\n",
       "\\item 'Manager and Assistant'\n",
       "\\item 'Boss and Secretary'\n",
       "\\item 'Professor and Teaching Assistant'\n",
       "\\end{enumerate*}\n"
      ],
      "text/markdown": [
       "1. 'Student and Dorm Resident assistant'\n",
       "2. 'Union leader and union member'\n",
       "3. 'Intern and Employee'\n",
       "4. 'Mentor and Mentee'\n",
       "5. 'Religious leader and Congregant'\n",
       "6. 'Teacher and Student'\n",
       "7. 'Employer and Employee'\n",
       "8. 'Supervisor and Subordinate'\n",
       "9. 'Team Captain and Team Members'\n",
       "10. 'Predecessor and Successor'\n",
       "11. 'Interviewer and Job applicant'\n",
       "12. 'Officer and Soldier'\n",
       "13. 'Between a monarch and their minister'\n",
       "14. 'Professor and Graduate student'\n",
       "15. 'Director and Performer'\n",
       "16. 'Athletic trainer and Trainee'\n",
       "17. 'Doctor and Nurse'\n",
       "18. 'Landlord and Housekeeper'\n",
       "19. 'Foreman and Laborer'\n",
       "20. 'Superior and Subordinate'\n",
       "21. 'Club Member and Club President'\n",
       "22. 'Chief and Deputy'\n",
       "23. 'Athlete and Referee'\n",
       "24. 'Principal and Teacher'\n",
       "25. 'Judge and Lawyer'\n",
       "26. 'Coach and athlete'\n",
       "27. 'University student and Administrator'\n",
       "28. 'Leader and Follower'\n",
       "29. 'Man and God'\n",
       "30. 'Volunteer and Organizer'\n",
       "31. 'Manager and Staff'\n",
       "32. 'Owner and Manager'\n",
       "33. 'Manager and Assistant'\n",
       "34. 'Boss and Secretary'\n",
       "35. 'Professor and Teaching Assistant'\n",
       "\n",
       "\n"
      ],
      "text/plain": [
       " [1] \"Student and Dorm Resident assistant\" \n",
       " [2] \"Union leader and union member\"       \n",
       " [3] \"Intern and Employee\"                 \n",
       " [4] \"Mentor and Mentee\"                   \n",
       " [5] \"Religious leader and Congregant\"     \n",
       " [6] \"Teacher and Student\"                 \n",
       " [7] \"Employer and Employee\"               \n",
       " [8] \"Supervisor and Subordinate\"          \n",
       " [9] \"Team Captain and Team Members\"       \n",
       "[10] \"Predecessor and Successor\"           \n",
       "[11] \"Interviewer and Job applicant\"       \n",
       "[12] \"Officer and Soldier\"                 \n",
       "[13] \"Between a monarch and their minister\"\n",
       "[14] \"Professor and Graduate student\"      \n",
       "[15] \"Director and Performer\"              \n",
       "[16] \"Athletic trainer and Trainee\"        \n",
       "[17] \"Doctor and Nurse\"                    \n",
       "[18] \"Landlord and Housekeeper\"            \n",
       "[19] \"Foreman and Laborer\"                 \n",
       "[20] \"Superior and Subordinate\"            \n",
       "[21] \"Club Member and Club President\"      \n",
       "[22] \"Chief and Deputy\"                    \n",
       "[23] \"Athlete and Referee\"                 \n",
       "[24] \"Principal and Teacher\"               \n",
       "[25] \"Judge and Lawyer\"                    \n",
       "[26] \"Coach and athlete\"                   \n",
       "[27] \"University student and Administrator\"\n",
       "[28] \"Leader and Follower\"                 \n",
       "[29] \"Man and God\"                         \n",
       "[30] \"Volunteer and Organizer\"             \n",
       "[31] \"Manager and Staff\"                   \n",
       "[32] \"Owner and Manager\"                   \n",
       "[33] \"Manager and Assistant\"               \n",
       "[34] \"Boss and Secretary\"                  \n",
       "[35] \"Professor and Teaching Assistant\"    "
      ]
     },
     "metadata": {},
     "output_type": "display_data"
    }
   ],
   "source": [
    "umap_exp_6k = read.csv('../../../Study2/output_data/group/category/cluster_results/umap_exp_results_159r_all_fixlabel.csv',\n",
    "                       row.names = 1)\n",
    "Hostile = rownames(umap_exp_6k[umap_exp_6k['cl_k6'] == 5,])\n",
    "print(paste('Hostile:',length(Hostile)))\n",
    "Hostile\n",
    "Familial = rownames(umap_exp_6k[umap_exp_6k['cl_k6'] == 2,])\n",
    "print(paste('Familial:',length(Familial)))\n",
    "Familial\n",
    "Romantic = rownames(umap_exp_6k[umap_exp_6k['cl_k6'] == 3,])\n",
    "print(paste('Romantic:',length(Romantic)))\n",
    "Romantic\n",
    "Affiliative = rownames(umap_exp_6k[umap_exp_6k['cl_k6'] == 1,])\n",
    "print(paste('Affiliative:',length(Affiliative)))\n",
    "Affiliative\n",
    "Transactional = rownames(umap_exp_6k[umap_exp_6k['cl_k6'] == 4,])\n",
    "print(paste('Transactional:',length(Transactional)))\n",
    "Transactional\n",
    "Power = rownames(umap_exp_6k[umap_exp_6k['cl_k6'] == 0,])\n",
    "print(paste('Power:',length(Power)))\n",
    "Power"
   ]
  },
  {
   "cell_type": "code",
   "execution_count": 6,
   "id": "c045eb5f",
   "metadata": {
    "ExecuteTime": {
     "end_time": "2022-12-26T03:28:53.220300Z",
     "start_time": "2022-12-26T03:28:53.192Z"
    }
   },
   "outputs": [],
   "source": [
    "Private = c(Familial,Romantic,\n",
    " 'Between childhood friends','Groom and Groomsman','Between friends',\n",
    " 'Between companions',#'Between sorority sisters',\n",
    " 'Between cohabitants',#'Between fraternity brothers',#'Between roommates',\n",
    " 'Between pen-friends','Between Facebook Friends','Between Close Friends',\n",
    " 'Bride and Bridesmaid','Between a person and their family friends',\n",
    " 'Between playmates','Between confidants')\n",
    "\n",
    "Public = c(Transactional,Power)"
   ]
  },
  {
   "cell_type": "code",
   "execution_count": 7,
   "id": "bceb73a5",
   "metadata": {
    "ExecuteTime": {
     "end_time": "2022-12-26T03:29:37.893598Z",
     "start_time": "2022-12-26T03:29:37.867Z"
    }
   },
   "outputs": [],
   "source": [
    "write.csv(Private,'selected_rels/Private.csv')\n",
    "write.csv(Public,'selected_rels/Public.csv')"
   ]
  },
  {
   "cell_type": "markdown",
   "id": "d9546d6a",
   "metadata": {},
   "source": [
    "# ANOVA: PCA"
   ]
  },
  {
   "cell_type": "code",
   "execution_count": 8,
   "id": "47dbfce7",
   "metadata": {
    "ExecuteTime": {
     "end_time": "2022-12-26T03:29:46.520077Z",
     "start_time": "2022-12-26T03:29:46.475Z"
    }
   },
   "outputs": [],
   "source": [
    "compare_usa_pca_data = usa_pca_data[c(Private,Public),]\n",
    "compare_usa_pca_data = compare_usa_pca_data %>% mutate(cluster = \n",
    "                    case_when(rownames(compare_usa_pca_data)%in%Private~'Private',\n",
    "                              rownames(compare_usa_pca_data)%in%Public~'Public')) \n",
    "\n",
    "compare_chn_pca_data = chn_pca_data[c(Private,Public),]\n",
    "compare_chn_pca_data = compare_chn_pca_data %>% mutate(cluster = \n",
    "                    case_when(rownames(compare_chn_pca_data)%in%Private~'Private',\n",
    "                              rownames(compare_chn_pca_data)%in%Public~'Public'))"
   ]
  },
  {
   "cell_type": "code",
   "execution_count": 9,
   "id": "961a1895",
   "metadata": {
    "ExecuteTime": {
     "end_time": "2022-12-26T03:29:50.821814Z",
     "start_time": "2022-12-26T03:29:49.456Z"
    }
   },
   "outputs": [
    {
     "name": "stderr",
     "output_type": "stream",
     "text": [
      "Coefficient covariances computed by hccm()\n",
      "\n"
     ]
    },
    {
     "data": {
      "text/html": [
       "<table class=\"dataframe\">\n",
       "<caption>A anova_test: 3 × 7</caption>\n",
       "<thead>\n",
       "\t<tr><th></th><th scope=col>Effect</th><th scope=col>DFn</th><th scope=col>DFd</th><th scope=col>F</th><th scope=col>p</th><th scope=col>p&lt;.05</th><th scope=col>ges</th></tr>\n",
       "\t<tr><th></th><th scope=col>&lt;chr&gt;</th><th scope=col>&lt;dbl&gt;</th><th scope=col>&lt;dbl&gt;</th><th scope=col>&lt;dbl&gt;</th><th scope=col>&lt;dbl&gt;</th><th scope=col>&lt;chr&gt;</th><th scope=col>&lt;dbl&gt;</th></tr>\n",
       "</thead>\n",
       "<tbody>\n",
       "\t<tr><th scope=row>1</th><td>cluster       </td><td>1</td><td>222</td><td>80.002</td><td>1.50e-16</td><td>*</td><td>0.265</td></tr>\n",
       "\t<tr><th scope=row>2</th><td>region        </td><td>1</td><td>222</td><td> 0.580</td><td>4.47e-01</td><td> </td><td>0.003</td></tr>\n",
       "\t<tr><th scope=row>3</th><td>cluster:region</td><td>1</td><td>222</td><td> 7.358</td><td>7.00e-03</td><td>*</td><td>0.032</td></tr>\n",
       "</tbody>\n",
       "</table>\n"
      ],
      "text/latex": [
       "A anova\\_test: 3 × 7\n",
       "\\begin{tabular}{r|lllllll}\n",
       "  & Effect & DFn & DFd & F & p & p<.05 & ges\\\\\n",
       "  & <chr> & <dbl> & <dbl> & <dbl> & <dbl> & <chr> & <dbl>\\\\\n",
       "\\hline\n",
       "\t1 & cluster        & 1 & 222 & 80.002 & 1.50e-16 & * & 0.265\\\\\n",
       "\t2 & region         & 1 & 222 &  0.580 & 4.47e-01 &   & 0.003\\\\\n",
       "\t3 & cluster:region & 1 & 222 &  7.358 & 7.00e-03 & * & 0.032\\\\\n",
       "\\end{tabular}\n"
      ],
      "text/markdown": [
       "\n",
       "A anova_test: 3 × 7\n",
       "\n",
       "| <!--/--> | Effect &lt;chr&gt; | DFn &lt;dbl&gt; | DFd &lt;dbl&gt; | F &lt;dbl&gt; | p &lt;dbl&gt; | p&lt;.05 &lt;chr&gt; | ges &lt;dbl&gt; |\n",
       "|---|---|---|---|---|---|---|---|\n",
       "| 1 | cluster        | 1 | 222 | 80.002 | 1.50e-16 | * | 0.265 |\n",
       "| 2 | region         | 1 | 222 |  0.580 | 4.47e-01 | <!----> | 0.003 |\n",
       "| 3 | cluster:region | 1 | 222 |  7.358 | 7.00e-03 | * | 0.032 |\n",
       "\n"
      ],
      "text/plain": [
       "  Effect         DFn DFd F      p        p<.05 ges  \n",
       "1 cluster        1   222 80.002 1.50e-16 *     0.265\n",
       "2 region         1   222  0.580 4.47e-01       0.003\n",
       "3 cluster:region 1   222  7.358 7.00e-03 *     0.032"
      ]
     },
     "metadata": {},
     "output_type": "display_data"
    },
    {
     "data": {
      "text/html": [
       "<table class=\"dataframe\">\n",
       "<caption>A rstatix_test: 2 × 15</caption>\n",
       "<thead>\n",
       "\t<tr><th scope=col>cluster</th><th scope=col>.y.</th><th scope=col>group1</th><th scope=col>group2</th><th scope=col>n1</th><th scope=col>n2</th><th scope=col>p</th><th scope=col>p.signif</th><th scope=col>p.adj</th><th scope=col>p.adj.signif</th><th scope=col>y.position</th><th scope=col>groups</th><th scope=col>x</th><th scope=col>xmin</th><th scope=col>xmax</th></tr>\n",
       "\t<tr><th scope=col>&lt;chr&gt;</th><th scope=col>&lt;chr&gt;</th><th scope=col>&lt;chr&gt;</th><th scope=col>&lt;chr&gt;</th><th scope=col>&lt;int&gt;</th><th scope=col>&lt;int&gt;</th><th scope=col>&lt;dbl&gt;</th><th scope=col>&lt;chr&gt;</th><th scope=col>&lt;dbl&gt;</th><th scope=col>&lt;chr&gt;</th><th scope=col>&lt;dbl&gt;</th><th scope=col>&lt;named list&gt;</th><th scope=col>&lt;dbl&gt;</th><th scope=col>&lt;dbl&gt;</th><th scope=col>&lt;dbl&gt;</th></tr>\n",
       "</thead>\n",
       "<tbody>\n",
       "\t<tr><td>Private</td><td>Exchange</td><td>CHN</td><td>USA</td><td>48</td><td>48</td><td>0.0115</td><td>* </td><td>0.0115</td><td>* </td><td>3.3882</td><td>CHN, USA</td><td>1</td><td>0.8</td><td>1.2</td></tr>\n",
       "\t<tr><td>Public </td><td>Exchange</td><td>CHN</td><td>USA</td><td>65</td><td>65</td><td>0.1660</td><td>ns</td><td>0.1660</td><td>ns</td><td>3.5632</td><td>CHN, USA</td><td>2</td><td>1.8</td><td>2.2</td></tr>\n",
       "</tbody>\n",
       "</table>\n"
      ],
      "text/latex": [
       "A rstatix\\_test: 2 × 15\n",
       "\\begin{tabular}{lllllllllllllll}\n",
       " cluster & .y. & group1 & group2 & n1 & n2 & p & p.signif & p.adj & p.adj.signif & y.position & groups & x & xmin & xmax\\\\\n",
       " <chr> & <chr> & <chr> & <chr> & <int> & <int> & <dbl> & <chr> & <dbl> & <chr> & <dbl> & <named list> & <dbl> & <dbl> & <dbl>\\\\\n",
       "\\hline\n",
       "\t Private & Exchange & CHN & USA & 48 & 48 & 0.0115 & *  & 0.0115 & *  & 3.3882 & CHN, USA & 1 & 0.8 & 1.2\\\\\n",
       "\t Public  & Exchange & CHN & USA & 65 & 65 & 0.1660 & ns & 0.1660 & ns & 3.5632 & CHN, USA & 2 & 1.8 & 2.2\\\\\n",
       "\\end{tabular}\n"
      ],
      "text/markdown": [
       "\n",
       "A rstatix_test: 2 × 15\n",
       "\n",
       "| cluster &lt;chr&gt; | .y. &lt;chr&gt; | group1 &lt;chr&gt; | group2 &lt;chr&gt; | n1 &lt;int&gt; | n2 &lt;int&gt; | p &lt;dbl&gt; | p.signif &lt;chr&gt; | p.adj &lt;dbl&gt; | p.adj.signif &lt;chr&gt; | y.position &lt;dbl&gt; | groups &lt;named list&gt; | x &lt;dbl&gt; | xmin &lt;dbl&gt; | xmax &lt;dbl&gt; |\n",
       "|---|---|---|---|---|---|---|---|---|---|---|---|---|---|---|\n",
       "| Private | Exchange | CHN | USA | 48 | 48 | 0.0115 | *  | 0.0115 | *  | 3.3882 | CHN, USA | 1 | 0.8 | 1.2 |\n",
       "| Public  | Exchange | CHN | USA | 65 | 65 | 0.1660 | ns | 0.1660 | ns | 3.5632 | CHN, USA | 2 | 1.8 | 2.2 |\n",
       "\n"
      ],
      "text/plain": [
       "  cluster .y.      group1 group2 n1 n2 p      p.signif p.adj  p.adj.signif\n",
       "1 Private Exchange CHN    USA    48 48 0.0115 *        0.0115 *           \n",
       "2 Public  Exchange CHN    USA    65 65 0.1660 ns       0.1660 ns          \n",
       "  y.position groups   x xmin xmax\n",
       "1 3.3882     CHN, USA 1 0.8  1.2 \n",
       "2 3.5632     CHN, USA 2 1.8  2.2 "
      ]
     },
     "metadata": {},
     "output_type": "display_data"
    },
    {
     "data": {
      "image/png": "[encoded data removed]",
      "text/plain": [
       "plot without title"
      ]
     },
     "metadata": {
      "image/png": {
       "height": 600,
       "width": 600
      }
     },
     "output_type": "display_data"
    }
   ],
   "source": [
    "usa_pca_data_dim = compare_usa_pca_data[c('Exchange','cluster')]\n",
    "usa_pca_data_dim$region = 'USA'\n",
    "\n",
    "chn_pca_data_dim = compare_chn_pca_data[c('Exchange','cluster')]\n",
    "chn_pca_data_dim$region = 'CHN'\n",
    "\n",
    "pca_data_dim = rbind(usa_pca_data_dim,chn_pca_data_dim)\n",
    "pca_data_dim$rel = rownames(pca_data_dim)\n",
    "\n",
    "res.aov = anova_test(\n",
    "    data = pca_data_dim,dv = Exchange, wid = rel,\n",
    "    between = c(cluster,region))\n",
    "get_anova_table(res.aov)\n",
    "\n",
    "# Post hoc\n",
    "pwc <- pca_data_dim %>%\n",
    "  group_by(cluster) %>%\n",
    "  pairwise_t_test(Exchange ~ region, p.adjust.method = \"bonferroni\",paired=FALSE) #%>%\n",
    "  #select(-p, -p.signif) # Remove details\n",
    "pwc <- pwc %>% add_xy_position(x = \"cluster\")\n",
    "pwc\n",
    "\n",
    "# Visualization\n",
    "my_color = c('USA'='#3C3B6E','CHN'='#DE2910')\n",
    "options(repr.plot.width = 10,repr.plot.height = 10)\n",
    "ggplot(pca_data_dim)+\n",
    "geom_boxplot(aes(x=cluster,y=Exchange,color=region),\n",
    "             outlier.alpha = 0,size=2)+\n",
    "geom_point(aes(x=cluster,y=Exchange,color=region),position = position_jitterdodge(0.2),size=3,alpha=0.3)+\n",
    "stat_summary(aes(x=cluster,y=Exchange,group=region),position=position_dodge(0.75),\n",
    "             fun='mean',color='red',size=5,geom='point')+\n",
    "scale_color_manual(values=my_color)+\n",
    "geom_hline(yintercept = 0,linetype='dashed',size = 3)+\n",
    "# scale_x_discrete(labels = c(\"psy\" = \"psychological\",\"phy\" = \"physical\"))+\n",
    "\n",
    "stat_pvalue_manual(pwc, tip.length = 0, hide.ns = TRUE,size = 15,bracket.size = 2)+\n",
    "\n",
    "theme_classic()+\n",
    "theme(#axis.text.x = element_text(size=36,face='bold'),\n",
    "      axis.text.x = element_blank(),\n",
    "      axis.text.y = element_text(size=30,face='bold'),\n",
    "      legend.key.size = unit(50,'pt'),\n",
    "      legend.title = element_text(size=35,face='bold'),\n",
    "      legend.text = element_text(size=25),\n",
    "      legend.position = 'top',\n",
    "      axis.line = element_line(linetype=1,color=\"black\",size=1.5))+\n",
    "xlab('')+\n",
    "ylab('')+\n",
    "ylim(-2,3.6)"
   ]
  },
  {
   "cell_type": "code",
   "execution_count": 10,
   "id": "d4792bf1",
   "metadata": {
    "ExecuteTime": {
     "end_time": "2022-12-26T03:30:40.805830Z",
     "start_time": "2022-12-26T03:30:40.277Z"
    }
   },
   "outputs": [
    {
     "data": {
      "text/html": [
       "<strong>png:</strong> 2"
      ],
      "text/latex": [
       "\\textbf{png:} 2"
      ],
      "text/markdown": [
       "**png:** 2"
      ],
      "text/plain": [
       "png \n",
       "  2 "
      ]
     },
     "metadata": {},
     "output_type": "display_data"
    }
   ],
   "source": [
    "# Visualization\n",
    "png(\"../../output_graph/USA_CHN/Exchange.png\", bg=\"transparent\",\n",
    "    family = 'sans',units='in',width=10,height=10,res=300)\n",
    "\n",
    "my_color = c('USA'='#3C3B6E','CHN'='#DE2910')\n",
    "options(repr.plot.width = 7,repr.plot.height = 7)\n",
    "ggplot(pca_data_dim)+\n",
    "geom_boxplot(aes(x=cluster,y=Exchange,color=region),\n",
    "             outlier.alpha = 0,size=2)+\n",
    "geom_point(aes(x=cluster,y=Exchange,color=region),position = position_jitterdodge(0.2),size=3,alpha=0.3)+\n",
    "stat_summary(aes(x=cluster,y=Exchange,group=region),position=position_dodge(0.75),\n",
    "             fun='mean',color='red',size=5,geom='point')+\n",
    "scale_color_manual(values=my_color)+\n",
    "geom_hline(yintercept = 0,linetype='dashed',size = 3)+\n",
    "# scale_x_discrete(labels = c(\"psy\" = \"psychological\",\"phy\" = \"physical\"))+\n",
    "\n",
    "#stat_pvalue_manual(pwc, tip.length = 0, hide.ns = TRUE,size = 15,bracket.size = 2)+\n",
    "\n",
    "theme_classic()+\n",
    "theme(#axis.text.x = element_text(size=36,face='bold'),\n",
    "      axis.text.x = element_blank(),\n",
    "      #axis.text.y = element_text(size=30,face='bold'),\n",
    "      axis.text.y = element_blank(),\n",
    "      legend.key.size = unit(50,'pt'),\n",
    "      legend.title = element_text(size=35,face='bold'),\n",
    "      legend.text = element_text(size=25),\n",
    "      legend.position = 'top',\n",
    "      axis.line = element_line(linetype=1,color=\"black\",size=1.5))+\n",
    "xlab('')+\n",
    "ylab('')+\n",
    "ylim(-2,3.6)\n",
    "dev.off()"
   ]
  }
 ],
 "metadata": {
  "kernelspec": {
   "display_name": "R",
   "language": "R",
   "name": "ir"
  },
  "language_info": {
   "codemirror_mode": "r",
   "file_extension": ".r",
   "mimetype": "text/x-r-source",
   "name": "R",
   "pygments_lexer": "r",
   "version": "4.1.2"
  },
  "latex_envs": {
   "LaTeX_envs_menu_present": true,
   "autoclose": false,
   "autocomplete": true,
   "bibliofile": "biblio.bib",
   "cite_by": "apalike",
   "current_citInitial": 1,
   "eqLabelWithNumbers": true,
   "eqNumInitial": 1,
   "hotkeys": {
    "equation": "Ctrl-E",
    "itemize": "Ctrl-I"
   },
   "labels_anchors": false,
   "latex_user_defs": false,
   "report_style_numbering": false,
   "user_envs_cfg": false
  },
  "toc": {
   "base_numbering": 1,
   "nav_menu": {},
   "number_sections": true,
   "sideBar": true,
   "skip_h1_title": false,
   "title_cell": "Table of Contents",
   "title_sidebar": "Contents",
   "toc_cell": false,
   "toc_position": {
    "height": "calc(100% - 180px)",
    "left": "10px",
    "top": "150px",
    "width": "307.2px"
   },
   "toc_section_display": true,
   "toc_window_display": true
  },
  "varInspector": {
   "cols": {
    "lenName": 16,
    "lenType": 16,
    "lenVar": 40
   },
   "kernels_config": {
    "python": {
     "delete_cmd_postfix": "",
     "delete_cmd_prefix": "del ",
     "library": "var_list.py",
     "varRefreshCmd": "print(var_dic_list())"
    },
    "r": {
     "delete_cmd_postfix": ") ",
     "delete_cmd_prefix": "rm(",
     "library": "var_list.r",
     "varRefreshCmd": "cat(var_dic_list()) "
    }
   },
   "types_to_exclude": [
    "module",
    "function",
    "builtin_function_or_method",
    "instance",
    "_Feature"
   ],
   "window_display": false
  }
 },
 "nbformat": 4,
 "nbformat_minor": 5
}
