{
 "cells": [
  {
   "cell_type": "code",
   "execution_count": 1,
   "id": "df6aecee",
   "metadata": {
    "ExecuteTime": {
     "end_time": "2023-01-05T10:40:07.820734Z",
     "start_time": "2023-01-05T10:39:42.925895Z"
    }
   },
   "outputs": [],
   "source": [
    "import os\n",
    "import glob\n",
    "import pandas as pd\n",
    "import numpy as np\n",
    "\n",
    "import matplotlib.pyplot as plt\n",
    "import seaborn as sns\n",
    "\n",
    "import sys\n",
    "sys.path.append('../Clustering/custom_function')\n",
    "import clustering\n",
    "\n",
    "from scipy.stats import spearmanr #Loocv\n",
    "\n",
    "import warnings\n",
    "warnings.filterwarnings(\"ignore\")"
   ]
  },
  {
   "cell_type": "markdown",
   "id": "8fdfd6bf",
   "metadata": {},
   "source": [
    "# Import data"
   ]
  },
  {
   "cell_type": "code",
   "execution_count": 6,
   "id": "524a97ff",
   "metadata": {
    "ExecuteTime": {
     "end_time": "2023-01-05T10:43:16.222498Z",
     "start_time": "2023-01-05T10:43:16.196513Z"
    }
   },
   "outputs": [],
   "source": [
    "NLP_raw = pd.read_csv('output_data/cleaning_results/CHN/CHN_dim_rel_scaled_NLP_258r_30d.csv',\n",
    "                      index_col=0)\n",
    "Trans_raw = pd.read_csv('output_data/cleaning_results/CHN/CHN_dim_rel_scaled_Trans.csv',\n",
    "                      index_col=0)\n",
    "USA_raw = pd.read_csv('output_data/cleaning_results/USA/USA_combine_dim_rel_scaled_30d.csv',\n",
    "                      index_col=0)"
   ]
  },
  {
   "cell_type": "markdown",
   "id": "5f50e5ef",
   "metadata": {},
   "source": [
    "# Raw data"
   ]
  },
  {
   "cell_type": "markdown",
   "id": "45c4cbda",
   "metadata": {},
   "source": [
    "## NLP"
   ]
  },
  {
   "cell_type": "code",
   "execution_count": 11,
   "id": "6fedeb8c",
   "metadata": {
    "ExecuteTime": {
     "end_time": "2023-01-05T10:51:44.065331Z",
     "start_time": "2023-01-05T10:51:44.024754Z"
    }
   },
   "outputs": [
    {
     "name": "stdout",
     "output_type": "stream",
     "text": [
      "\n",
      "Cluster 1 Relationship:82\n",
      "Senior student and Junior student, Adoptive father and Adoptive child, Master and Apprentice, Between sport mates, Between childhood sweetheart, Between travel mates, Between fellow townsman, Between old friends, God Parent and God Child, Between people who are flirting, Parent and Son/Daughter, Between family in law, Mother in law and Wife, Between players of the same sports team, Samaritan and Recipient, Helper and Recipient, Between members of the same team, Between Between teammates of E and sports, Between alumni, Between classmates, Guest and Host, Between confidants, Between brothers-in-arms, Between a person and their family friends, Bride and Groom, Between playmates, Between childhood friends, Between fans of the same sports team, Between roommates, Between ex-lovers, Between friends, Between friends with benefits, Between neighbors, Between romantic lovers, Man and His Mistress, Between pen-friends, Between a person and their crush, Ancestor and Descendant, Between distant relatives, Aunt and Niece/Nephew, Grandparent and Grandchild, Between adoptive parents and adopted kids, Grandparent(mother) and Grandchild, Uncle and Niece/Nephew, Step-parent and Step-child, Parent and Infant, Between religious followers, Religious leader and Congregant, Between life-partners, Between second cousins, Between long-distance lovers, Between a person and their significant other, Brother and Sister, Between fraternity brothers, Bride and Bridesmaid, Groom and Groomsman, Between Facebook Friends, Between cohabitants, Between half-siblings, Between peers, Between twins, Mother and Infant, Between soul-mates, Between close relatives, Between sorority sisters, Between church members, Godparent and Godchild, Foster-parent and Foster-child, Step-grandparent and Step-grandchild, Between step-siblings, Between a person and their deceased spouse, Between Close Friends, Fiance and Fiancee, Between man and in-laws, Between tang cousins, Between Siblings, Between a person and their in-laws, Parent and Teenager, Parent and Child, Wife and Husband, Between cousins, Between teammates in sports\n",
      "\n",
      "Cluster 2 Relationship:124\n",
      "Teach Assistant and Student, President of student union and Member of student union, Club president and Club member, Teacher and Parent, Parent and Head teacher, Private Teacher and Student, Graduate advisor and College student, Head teacher and Student, Class leader and Class member, master and servant1, Leading player and Replacement, Supervisor and Assistant, Television host and Audience, Network anchor and Follwer, Agency and Client, Government and Civilian, Star and Agent, Actor and Audience, Actor and Play Writer, Property and Proprietor, Delivery guy and Customer, Librarian and Reader, Conductor and Passenger, Cashier and Customer, Receiver and Courier, Sports Events Commentator and Audience, Human resource officer and Employee, Judge and Competitor, Judge and Audience, Lawyer and Prosecutor, Old empolyee and New empolyee, Boss and Empolyee, Customer service and Customer, Benefactor and Beneficiary, Neighborhood committee and Resident, Coach and Trainee, Sender and Courier, Reporter and Interviewee, Gang leader and Gang boy, Housekeeper and Resident, Official and Briber, Civil servants and Person concerned, Senior staff and Junior staff, Judge and Prosecutor, Team leader and Team member, Director and Screenwriter, Cook and Customer, Crew member and Passenger, Editor and Writer, Babysitter and Employer, Employer and Bodyguard, Security staff and Resident, Vistor and Receptionist, Principal and Teacher, Student and Dorm Resident assistant, University student and Administrator, Professor and Teaching Assistant, Mentor and Mentee, Celebrity and Fans, Landlord and Tenant, Between a person and their social media follower, Reviewer and Writer, Reader and Writer, Team Captain and Team Members, Chief and Deputy, Supervisor and Subordinate, Television host and Guest, Guide and Tourist, Doctor and Patient, Doctor and Nurse, Director and Performer, Researcher and Research Subject, Between diplomats, Entrepreneur and Investor, Between Co-workers, Driver and Passenger, Intern and Employee, Superior and Subordinate, Customer and Businessman, Prostitute and Customer, Dealer and Buyer, Lawyer and Client, Judge and Lawyer, Boss and Secretary, Officer and Soldier, Police officer and Civilian, Manager and Staff, Owner and Manager, Coach and athlete, Consultant and Client, Foreman and Laborer, Customer and Server, Judge and Contestant, Patient and Caretaker, Babysitter and Infant, Therapist and Patient, Chef and Customer, Volunteer and Organizer, Between political allies, Politician and Supporter, Athlete and Referee, Between companions, Performer and Audience, Athletic trainer and Trainee, Representative and Citizen, Leader and Follower, Between a monarch and their minister, Club Member and Club President, Manager and Assistant, Sugar-daddy and Sugar-baby, Parole officer and Parolee, Union leader and union member, Landlord and Housekeeper, Drug dealer and Addict, Between criminal and their accomplice, Teacher and Student, Master and Servant, Psychologist and Client, Interviewer and Job applicant, Salesperson and Customer, Nurse and Patient, Between Business Partners, Professor and Graduate student, Employer and Employee\n",
      "\n",
      "Cluster 3 Relationship:52\n",
      "Examer and Examinee, Creditor and Debtor, Original partner and Mistress, Between net friends, Local and Visitor, Beggar and Passerby, Accosting people and Accosted people, Reporter and Victim, Criminal and Passerby, Criminal and Victim's family, Loyal minister and Betrayer, Thief and Owner, Suspect and Police officer, Victim and Passerby, Leader and Betrayer, Persecutor and Victim, Winner and Loser, Between former colleagues, Winner and Runner and up, Between rivals, Between players of opposing sports teams, Between gamblers, Drug dealers and Police officer, City management and Vendor, Informant / Reporter and  Criminal, Bully and Victim, Native and Tourist, Between romantic rivals, Between strangers, Between fans of opposing sports teams, Victim and Criminal, Criminal and Police officer, Police officer and Offender, Defendant and Plaintiff, Celebrity and Haters, Predecessor and Successor, Criminal and Hostage, Criminal and Prosecutor, Man Wife and Man Mistress, Between frenemies, Between sports rivals, Between competitors in sports, Victim and Witness, Man and God, Slave and Master, Between casual acquaintances, Between divorced spouses, Guard and Prisoner, Between political opponents, Between opposing negotiators, Between business rivals, Between enemies\n"
     ]
    }
   ],
   "source": [
    "dim_rel_scaled = NLP_raw\n",
    "raw_results = clustering.create_cluster_models(data_type = \"df\",data = dim_rel_scaled,\n",
    "                        methods=['KMeans'],ks=[3],keep_orig=True)\n",
    "\n",
    "#raw_results.to_csv('output_data/cluster_results/CHN_NLP_raw258rel30d_dissim_3k.csv')\n",
    "\n",
    "for n in range(len(raw_results['cl_k3'].unique())):\n",
    "    each_cluster = raw_results.index[raw_results['cl_k3']==n]\n",
    "    print(\"\\nCluster \"+str(n+1)+\" Relationship:{}\".format(len(each_cluster)))\n",
    "    print(*raw_results.index[raw_results['cl_k3']==n], sep = \", \")\n",
    "\n",
    "NLP_hpp = raw_results"
   ]
  },
  {
   "cell_type": "markdown",
   "id": "00157436",
   "metadata": {},
   "source": [
    "## Translation"
   ]
  },
  {
   "cell_type": "code",
   "execution_count": 12,
   "id": "9f23059d",
   "metadata": {
    "ExecuteTime": {
     "end_time": "2023-01-05T10:51:54.771578Z",
     "start_time": "2023-01-05T10:51:54.724569Z"
    }
   },
   "outputs": [
    {
     "name": "stdout",
     "output_type": "stream",
     "text": [
      "\n",
      "Cluster 1 Relationship:57\n",
      "Parent and Child, Parent and Teenager, Wife and Husband, Fiance and Fiancee, Between Siblings, Between a person and their in-laws, Between cousins, Between Close Friends, Between teammates in sports, Between second cousins, Parent and Infant, Grandparent and Grandchild, Step-parent and Step-child, Foster-parent and Foster-child, Godparent and Godchild, Step-grandparent and Step-grandchild, Ancestor and Descendant, Bride and Groom, Man and His Mistress, Brother and Sister, Between step-siblings, Between distant relatives, Between close relatives, Between twins, Between a person and their family friends, Between a person and their deceased spouse, Between religious followers, Between peers, Between classmates, Between roommates, Between sorority sisters, Between fraternity brothers, Bride and Bridesmaid, Groom and Groomsman, Guest and Host, Between friends, Between Facebook Friends, Between childhood friends, Between pen-friends, Between romantic lovers, Between life-partners, Between soul-mates, Between neighbors, Between church members, Aunt and Niece/Nephew, Uncle and Niece/Nephew, Between half-siblings, Between adoptive parents and adopted kids, Mother and Infant, Between alumni, Between confidants, Between a person and their significant other, Between playmates, Between a person and their crush, Between cohabitants, Between long-distance lovers, Between brothers-in-arms\n",
      "\n",
      "Cluster 2 Relationship:76\n",
      "Employer and Employee, Interviewer and Job applicant, Nurse and Patient, Therapist and Patient, Salesperson and Customer, Between Business Partners, Between opposing negotiators, Teacher and Student, Professor and Graduate student, Master and Servant, Manager and Staff, Foreman and Laborer, Owner and Manager, Union leader and union member, Manager and Assistant, Chief and Deputy, Supervisor and Subordinate, Boss and Secretary, Entrepreneur and Investor, Intern and Employee, Lawyer and Client, Judge and Lawyer, Drug dealer and Addict, Police officer and Civilian, Consultant and Client, Chef and Customer, Customer and Server, Customer and Businessman, Doctor and Patient, Doctor and Nurse, Patient and Caretaker, Driver and Passenger, Coach and athlete, Team Captain and Team Members, Club Member and Club President, Politician and Supporter, Leader and Follower, Representative and Citizen, Officer and Soldier, Babysitter and Infant, Religious leader and Congregant, Prostitute and Customer, Guide and Tourist, Athlete and Referee, Reader and Writer, Reviewer and Writer, Performer and Audience, Dealer and Buyer, Sugar-daddy and Sugar-baby, Director and Performer, Psychologist and Client, Judge and Contestant, Between Co-workers, Between criminal and their accomplice, Between diplomats, Principal and Teacher, Professor and Teaching Assistant, University student and Administrator, Student and Dorm Resident assistant, Mentor and Mentee, Athletic trainer and Trainee, Researcher and Research Subject, Predecessor and Successor, Landlord and Tenant, Landlord and Housekeeper, Television host and Guest, Volunteer and Organizer, Celebrity and Fans, Native and Tourist, Between a person and their social media follower, Between friends with benefits, Between political allies, Between fans of the same sports team, Superior and Subordinate, Between a monarch and their minister, Between companions\n",
      "\n",
      "Cluster 3 Relationship:26\n",
      "Between divorced spouses, Guard and Prisoner, Between political opponents, Between business rivals, Between enemies, Between casual acquaintances, Man Wife and Man Mistress, Victim and Criminal, Victim and Witness, Criminal and Police officer, Criminal and Prosecutor, Criminal and Hostage, Defendant and Plaintiff, Police officer and Offender, Parole officer and Parolee, Slave and Master, Man and God, Between sports rivals, Between romantic rivals, Celebrity and Haters, Bully and Victim, Between ex-lovers, Between strangers, Between fans of opposing sports teams, Between frenemies, Between competitors in sports\n"
     ]
    }
   ],
   "source": [
    "dim_rel_scaled = Trans_raw\n",
    "raw_results = clustering.create_cluster_models(data_type = \"df\",data = dim_rel_scaled,\n",
    "                        methods=['KMeans'],ks=[3],keep_orig=True)\n",
    "\n",
    "raw_results.to_csv('output_data/cluster_results/CHN_Trans_raw159rel30d_dissim_3k.csv')\n",
    "\n",
    "for n in range(len(raw_results['cl_k3'].unique())):\n",
    "    each_cluster = raw_results.index[raw_results['cl_k3']==n]\n",
    "    print(\"\\nCluster \"+str(n+1)+\" Relationship:{}\".format(len(each_cluster)))\n",
    "    print(*raw_results.index[raw_results['cl_k3']==n], sep = \", \")\n",
    "    \n",
    "Trans_hpp = raw_results"
   ]
  },
  {
   "cell_type": "markdown",
   "id": "70f72e39",
   "metadata": {},
   "source": [
    "## USA"
   ]
  },
  {
   "cell_type": "code",
   "execution_count": 13,
   "id": "6eb602e1",
   "metadata": {
    "ExecuteTime": {
     "end_time": "2023-01-05T10:52:02.689787Z",
     "start_time": "2023-01-05T10:52:02.638776Z"
    }
   },
   "outputs": [
    {
     "name": "stdout",
     "output_type": "stream",
     "text": [
      "\n",
      "Cluster 1 Relationship:70\n",
      "Employer and Employee, Interviewer and Job applicant, Nurse and Patient, Therapist and Patient, Salesperson and Customer, Between Business Partners, Teacher and Student, Professor and Graduate student, Manager and Staff, Foreman and Laborer, Owner and Manager, Union leader and union member, Manager and Assistant, Chief and Deputy, Supervisor and Subordinate, Boss and Secretary, Entrepreneur and Investor, Intern and Employee, Lawyer and Client, Judge and Lawyer, Drug dealer and Addict, Parole officer and Parolee, Consultant and Client, Chef and Customer, Customer and Server, Customer and Businessman, Doctor and Patient, Doctor and Nurse, Patient and Caretaker, Driver and Passenger, Coach and athlete, Team Captain and Team Members, Club Member and Club President, Politician and Supporter, Leader and Follower, Representative and Citizen, Officer and Soldier, Babysitter and Infant, Religious leader and Congregant, Prostitute and Customer, Guide and Tourist, Athlete and Referee, Reader and Writer, Reviewer and Writer, Performer and Audience, Dealer and Buyer, Sugar-daddy and Sugar-baby, Director and Performer, Psychologist and Client, Judge and Contestant, Between Co-workers, Between criminal and their accomplice, Between diplomats, Principal and Teacher, Professor and Teaching Assistant, University student and Administrator, Student and Dorm Resident assistant, Mentor and Mentee, Athletic trainer and Trainee, Researcher and Research Subject, Predecessor and Successor, Landlord and Tenant, Landlord and Housekeeper, Guest and Host, Television host and Guest, Volunteer and Organizer, Native and Tourist, Between political allies, Superior and Subordinate, Between a monarch and their minister\n",
      "\n",
      "Cluster 2 Relationship:58\n",
      "Parent and Child, Parent and Teenager, Wife and Husband, Fiance and Fiancee, Between Siblings, Between a person and their in-laws, Between cousins, Between Close Friends, Between teammates in sports, Between second cousins, Parent and Infant, Grandparent and Grandchild, Step-parent and Step-child, Foster-parent and Foster-child, Godparent and Godchild, Step-grandparent and Step-grandchild, Ancestor and Descendant, Bride and Groom, Man and His Mistress, Brother and Sister, Between step-siblings, Between close relatives, Between twins, Between a person and their family friends, Between a person and their deceased spouse, Between religious followers, Man and God, Between peers, Between classmates, Between roommates, Between sorority sisters, Between fraternity brothers, Bride and Bridesmaid, Groom and Groomsman, Between friends, Between Facebook Friends, Between childhood friends, Between pen-friends, Between friends with benefits, Between romantic lovers, Between life-partners, Between soul-mates, Between neighbors, Between church members, Between fans of the same sports team, Aunt and Niece/Nephew, Uncle and Niece/Nephew, Between half-siblings, Between adoptive parents and adopted kids, Mother and Infant, Between confidants, Between a person and their significant other, Between companions, Between playmates, Between a person and their crush, Between cohabitants, Between long-distance lovers, Between brothers-in-arms\n",
      "\n",
      "Cluster 3 Relationship:31\n",
      "Between divorced spouses, Guard and Prisoner, Between opposing negotiators, Between political opponents, Between business rivals, Between enemies, Master and Servant, Between casual acquaintances, Man Wife and Man Mistress, Between distant relatives, Victim and Criminal, Victim and Witness, Criminal and Police officer, Criminal and Prosecutor, Criminal and Hostage, Defendant and Plaintiff, Police officer and Offender, Police officer and Civilian, Slave and Master, Between sports rivals, Between romantic rivals, Celebrity and Fans, Celebrity and Haters, Bully and Victim, Between a person and their social media follower, Between ex-lovers, Between strangers, Between fans of opposing sports teams, Between frenemies, Between alumni, Between competitors in sports\n"
     ]
    }
   ],
   "source": [
    "dim_rel_scaled = USA_raw\n",
    "raw_results = clustering.create_cluster_models(data_type = \"df\",data = dim_rel_scaled,\n",
    "                        methods=['KMeans'],ks=[3],keep_orig=True)\n",
    "\n",
    "raw_results.to_csv('output_data/cluster_results/USA_raw159rel30d_dissim_3k.csv')\n",
    "\n",
    "for n in range(len(raw_results['cl_k3'].unique())):\n",
    "    each_cluster = raw_results.index[raw_results['cl_k3']==n]\n",
    "    print(\"\\nCluster \"+str(n+1)+\" Relationship:{}\".format(len(each_cluster)))\n",
    "    print(*raw_results.index[raw_results['cl_k3']==n], sep = \", \")\n",
    "    \n",
    "USA_hpp = raw_results"
   ]
  },
  {
   "cell_type": "markdown",
   "id": "48bd643c",
   "metadata": {},
   "source": [
    "# Generate RDM"
   ]
  },
  {
   "cell_type": "code",
   "execution_count": 9,
   "id": "9e2a3cf9",
   "metadata": {
    "ExecuteTime": {
     "end_time": "2023-01-05T10:49:00.330348Z",
     "start_time": "2023-01-05T10:49:00.315344Z"
    }
   },
   "outputs": [],
   "source": [
    "def cluster_rdm(cluster_results_region,cluster_model='cl_k3'):\n",
    "    dissim_cluster_result = pd.DataFrame(index = cluster_results_region.index,\n",
    "                                         columns = cluster_results_region.index)\n",
    "    for i in dissim_cluster_result.index:\n",
    "        for j in dissim_cluster_result.columns:\n",
    "            # cluster result was in the last column\n",
    "            if cluster_results_region.loc[i,cluster_model] == cluster_results_region.loc[j,cluster_model]:\n",
    "                dissim_cluster_result.loc[i,j] = 0\n",
    "            else:\n",
    "                dissim_cluster_result.loc[i,j] = 1\n",
    "            dissim_cluster_result = dissim_cluster_result.astype(float)\n",
    "            \n",
    "    return(dissim_cluster_result)"
   ]
  },
  {
   "cell_type": "code",
   "execution_count": 16,
   "id": "8df26c39",
   "metadata": {
    "ExecuteTime": {
     "end_time": "2023-01-05T10:56:31.176623Z",
     "start_time": "2023-01-05T10:56:21.289313Z"
    }
   },
   "outputs": [],
   "source": [
    "NLP_hpp_rdm = cluster_rdm(NLP_hpp,cluster_model='cl_k3')\n",
    "NLP_hpp_rdm.to_csv('output_data/cluster_results/rdm/CHN_NLP_raw258rel30d.csv')\n",
    "\n",
    "Trans_hpp_rdm = cluster_rdm(Trans_hpp,cluster_model='cl_k3')\n",
    "Trans_hpp_rdm.to_csv('output_data/cluster_results/rdm/CHN_Trans_raw159rel30d.csv')\n",
    "\n",
    "USA_hpp_rdm = cluster_rdm(USA_hpp,cluster_model='cl_k3')\n",
    "USA_hpp_rdm.to_csv('output_data/cluster_results/rdm/USA_raw159rel30d.csv')"
   ]
  }
 ],
 "metadata": {
  "kernelspec": {
   "display_name": "Python 3 (ipykernel)",
   "language": "python",
   "name": "python3"
  },
  "language_info": {
   "codemirror_mode": {
    "name": "ipython",
    "version": 3
   },
   "file_extension": ".py",
   "mimetype": "text/x-python",
   "name": "python",
   "nbconvert_exporter": "python",
   "pygments_lexer": "ipython3",
   "version": "3.9.13"
  },
  "toc": {
   "base_numbering": 1,
   "nav_menu": {},
   "number_sections": true,
   "sideBar": true,
   "skip_h1_title": false,
   "title_cell": "Table of Contents",
   "title_sidebar": "Contents",
   "toc_cell": false,
   "toc_position": {},
   "toc_section_display": true,
   "toc_window_display": true
  },
  "varInspector": {
   "cols": {
    "lenName": 16,
    "lenType": 16,
    "lenVar": 40
   },
   "kernels_config": {
    "python": {
     "delete_cmd_postfix": "",
     "delete_cmd_prefix": "del ",
     "library": "var_list.py",
     "varRefreshCmd": "print(var_dic_list())"
    },
    "r": {
     "delete_cmd_postfix": ") ",
     "delete_cmd_prefix": "rm(",
     "library": "var_list.r",
     "varRefreshCmd": "cat(var_dic_list()) "
    }
   },
   "types_to_exclude": [
    "module",
    "function",
    "builtin_function_or_method",
    "instance",
    "_Feature"
   ],
   "window_display": false
  }
 },
 "nbformat": 4,
 "nbformat_minor": 5
}
