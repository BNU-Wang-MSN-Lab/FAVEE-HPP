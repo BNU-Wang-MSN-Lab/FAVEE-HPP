{
 "cells": [
  {
   "cell_type": "code",
   "execution_count": 70,
   "id": "4188221c",
   "metadata": {
    "ExecuteTime": {
     "end_time": "2022-12-29T12:29:01.336235Z",
     "start_time": "2022-12-29T12:29:01.310Z"
    }
   },
   "outputs": [],
   "source": [
    "library(openxlsx)\n",
    "library(tidyverse)\n",
    "library(reshape)\n",
    "library(mgsub) # mapping\n",
    "\n",
    "library(ggplot2)\n",
    "library(ggpubr)\n",
    "library(RColorBrewer)\n",
    "library(corrplot)\n",
    "library(corrr)\n",
    "\n",
    "library(psych)\n",
    "#optimal number of components\n",
    "library(nFactors)\n",
    "#library(pheatmap)"
   ]
  },
  {
   "cell_type": "code",
   "execution_count": 71,
   "id": "e3f7a3ec",
   "metadata": {
    "ExecuteTime": {
     "end_time": "2022-12-29T12:29:07.140549Z",
     "start_time": "2022-12-29T12:29:06.935Z"
    }
   },
   "outputs": [],
   "source": [
    "# Organize relationship score\n",
    "regions = c(\n",
    "    # English\n",
    "    'USA','UK','Australia','South Africa',\n",
    "    # Germany\n",
    "    'Germany',\n",
    "    # Japanese\n",
    "    'Japan',\n",
    "    # Hebrew\n",
    "    'Israel',\n",
    "    # Chinese\n",
    "    'CHN','HK(region)',\n",
    "\n",
    "    # French\n",
    "    'France',\n",
    "    # Spanish\n",
    "    'Spain','Mexico','Chile',\n",
    "    # Portuguese\n",
    "    'Portugal','Brazil',\n",
    "    # Russian\n",
    "    'Russia',\n",
    "    # Arabic\n",
    "    'Egypt','Qatar',\n",
    "    'India')"
   ]
  },
  {
   "cell_type": "code",
   "execution_count": 2,
   "id": "420f4a08",
   "metadata": {
    "ExecuteTime": {
     "end_time": "2022-12-30T01:44:34.347001Z",
     "start_time": "2022-12-30T01:44:34.064Z"
    }
   },
   "outputs": [],
   "source": [
    "file_path = 'output_data/cleaning_results/'\n",
    "raw_data_list = list()\n",
    "for (region in dir(file_path)){\n",
    "    file = paste(file_path,region,sep='')\n",
    "    file = paste(paste(file,'/',sep=''),region,sep='')\n",
    "    file = paste(file,'_dim_rel.csv',sep='')\n",
    "    raw_df = read.csv(file,row.names=1)\n",
    "    raw_df = data.frame(t(raw_df))\n",
    "    \n",
    "    region = gsub('HK','HK(region)',region) \n",
    "    region = gsub('South_africa','South Africa',region)\n",
    "    \n",
    "    # The dimension should be reversed due to the questionnair set\n",
    "    if (region %in% c('Chile','Mexico','Spain')){\n",
    "        raw_df['Goods.Exchange'] = 100-raw_df['Goods.Exchange']}\n",
    "    if (region %in% c('Israel')){\n",
    "        raw_df['Socioemotional'] = 100-raw_df['Socioemotional']\n",
    "        raw_df['Synchronicity'] = 100-raw_df['Synchronicity']}\n",
    "    if (region %in% c('Brazil','Portugal','Russia')){\n",
    "        raw_df['Morality'] = 100-raw_df['Morality']}\n",
    "    if (region %in% c('France')){\n",
    "        raw_df['Formality.and.Regulation'] = 100-raw_df['Formality.and.Regulation']\n",
    "        raw_df['Expected.Reciprocity'] = 100-raw_df['Expected.Reciprocity']\n",
    "        raw_df['Information.Exchange'] = 100-raw_df['Information.Exchange']\n",
    "        raw_df['Money.Exchange'] = 100-raw_df['Money.Exchange']\n",
    "        raw_df['Mating'] = 100-raw_df['Mating']\n",
    "        raw_df['Importance.for.society'] = 100-raw_df['Importance.for.society']\n",
    "        raw_df['Importance.for.individuals'] = 100-raw_df['Importance.for.individuals']\n",
    "        raw_df['Occupational'] = 100-raw_df['Occupational']}\n",
    "\n",
    "    raw_data_list[[region]] = raw_df}"
   ]
  },
  {
   "cell_type": "markdown",
   "id": "dbd68d57",
   "metadata": {},
   "source": [
    "# Averaged results"
   ]
  },
  {
   "cell_type": "code",
   "execution_count": 74,
   "id": "7ca00d82",
   "metadata": {
    "ExecuteTime": {
     "end_time": "2022-12-29T13:21:34.693053Z",
     "start_time": "2022-12-29T13:21:34.606Z"
    }
   },
   "outputs": [],
   "source": [
    "world_averaged = data.frame(matrix(0,nrow=159,ncol=33))\n",
    "for (region in regions){\n",
    "    region_df = raw_data_list[[region]]\n",
    "    world_averaged = world_averaged + region_df\n",
    "}\n",
    "\n",
    "world_averaged = world_averaged/19\n",
    "relationships = read.csv('input_data/RelDim_labels/159relationships_fix_label.csv',\n",
    "                        row.names=1)\n",
    "relationships = relationships$'X0'\n",
    "dimensions = read.csv('input_data/RelDim_labels/dimensions_33d.csv',row.names=1)\n",
    "dimensions = dimensions$'X0'\n",
    "\n",
    "colnames(world_averaged) = dimensions\n",
    "rownames(world_averaged) = relationships\n",
    "\n",
    "write.csv(world_averaged,'input_data/Nations/Total/output_data/Total_var_33v.csv')\n",
    "write.csv(scale(world_averaged),'input_data/Nations/Total/output_data/Total_scale_var_33v.csv')"
   ]
  },
  {
   "cell_type": "markdown",
   "id": "1a5f7f0d",
   "metadata": {},
   "source": [
    "# Optimal dimension"
   ]
  },
  {
   "cell_type": "code",
   "execution_count": 77,
   "id": "f22f6a4b",
   "metadata": {
    "ExecuteTime": {
     "end_time": "2022-12-29T13:30:06.180944Z",
     "start_time": "2022-12-29T13:30:06.165Z"
    }
   },
   "outputs": [],
   "source": [
    "plotnScree <-\n",
    "function (nScree,\n",
    "          elbow = 3,\n",
    "          legend = TRUE,\n",
    "          ylab   = \"Eigenvalues\",\n",
    "          xlab   = \"Components\",\n",
    "          main   = \"Non Graphical Solutions to Scree Test\")\n",
    "          {\n",
    "   if (!inherits(nScree, \"nScree\"))  stop(\"Method is only for nScree objects\")\n",
    "   #if (!exists(\"legend\", mode=\"logical\") ) legend <- TRUE                                   # To develop\n",
    "   #if (!exists(\"ylab\"))                    ylab <- \"Eigenvalues\"                            # To develop\n",
    "   #if (!exists(\"xlab\"))                    xlab <- \"Components\"                             # To develop\n",
    "   #if (!exists(\"main\"))                    main <- \"Non Graphical Solutions to Scree Test\"  # To develop\n",
    "   if (nScree$Model == \"components\") nkaiser = \"Eigenvalues (>mean  = \" else nkaiser = \"Eigenvalues (>0 = \"\n",
    "   if (nScree$Model == \"factors\")  xlab   = \"Factors\"\n",
    "   # panel\n",
    "   par(col   = 1, pch = 1, cex=4)     # Color and symbol for usual scree\n",
    "   par(mfrow = c(1,1),lwd=2, cex=4)\n",
    "   eig        <- nScree$Analysis$Eigenvalues\n",
    "   k          <- 1:length(eig)\n",
    "   #plotuScree(x=eig, ...)                                                                   # To develop\n",
    "   plotuScree(x=eig, main=main, xlab=xlab, ylab=ylab,col=2)\n",
    "   nk         <- length(eig)\n",
    "   noc        <- nScree$Components$noc\n",
    "   vp.p       <- lm(eig[c(noc+1,nk)] ~ k[c(noc+1,nk)])\n",
    "   x          <- sum(c(1,1) * coef(vp.p))\n",
    "   y          <- sum(c(1,nk)* coef(vp.p))\n",
    "   par(col = 10, cex=1.8)            # Color for optimal coordinates\n",
    "   lines(k[c(1,nk)],c(x,y),lwd=1.8)\n",
    "   par(col = 11,pch=2, cex=1.5)            # Color and symbol for parallel analysis\n",
    "   lines(1:nk, nScree$Analysis$Par.Analysis, type = \"b\",lwd=1.8)\n",
    "   if (legend == TRUE) {\n",
    "     leg.txt  <- c(paste(\"Parallel Analysis (n = \",nScree$Components$nparallel,\")\"),\n",
    "                 c(paste(\"Kaiser-Guttman rule (n = \",nScree$Components$nkaiser,\")\")),\n",
    "                 c(paste(\"Cattell’s scree test (n = \",elbow,\")\")),\n",
    "                 c(paste(\"Optimal Coordinates (n = \",nScree$Components$noc,\")\")) )\n",
    "     legend(\"topright\",\n",
    "            legend   = leg.txt,\n",
    "            pch      = c('△','_','○','_'),\n",
    "            text.col = c(3,4,1,2), \n",
    "            col = c(3,4,1,2),\n",
    "            cex = 1)\n",
    "     }\n",
    "   naf        <-   nScree$Components$naf\n",
    "   text(x = noc ,    y = eig[noc],     label = \" (OC)\", cex = 1.2, adj = c(0,0), col = 2)\n",
    "#    text(x = naf + 1, y = eig[naf + 1], label = \" (AF)\", cex = .70, adj = c(0,0), col = 4)\n",
    "   }"
   ]
  },
  {
   "cell_type": "code",
   "execution_count": 78,
   "id": "e4b2748d",
   "metadata": {
    "ExecuteTime": {
     "end_time": "2022-12-29T13:30:28.768475Z",
     "start_time": "2022-12-29T13:30:21.003Z"
    }
   },
   "outputs": [
    {
     "data": {
      "text/html": [
       "<style>\n",
       ".list-inline {list-style: none; margin:0; padding: 0}\n",
       ".list-inline>li {display: inline-block}\n",
       ".list-inline>li:not(:last-child)::after {content: \"\\00b7\"; padding: 0 .5ex}\n",
       "</style>\n",
       "<ol class=list-inline><li>0.446833614085197</li><li>0.66821879772068</li><li>0.754706517105225</li><li>0.814552285415002</li><li>0.866960241529227</li></ol>\n"
      ],
      "text/latex": [
       "\\begin{enumerate*}\n",
       "\\item 0.446833614085197\n",
       "\\item 0.66821879772068\n",
       "\\item 0.754706517105225\n",
       "\\item 0.814552285415002\n",
       "\\item 0.866960241529227\n",
       "\\end{enumerate*}\n"
      ],
      "text/markdown": [
       "1. 0.446833614085197\n",
       "2. 0.66821879772068\n",
       "3. 0.754706517105225\n",
       "4. 0.814552285415002\n",
       "5. 0.866960241529227\n",
       "\n",
       "\n"
      ],
      "text/plain": [
       "[1] 0.4468336 0.6682188 0.7547065 0.8145523 0.8669602"
      ]
     },
     "metadata": {},
     "output_type": "display_data"
    }
   ],
   "source": [
    "dim_rel_scaled = scale(world_averaged)\n",
    "\n",
    "# Parallel analysis, Optimal Coordinates, and  Cattell's Scree Test\n",
    "ev <- eigen(cor(dim_rel_scaled)) # get eigenvalues\n",
    "ap <- parallel(subject=nrow(dim_rel_scaled),var=ncol(dim_rel_scaled),model=\"components\",rep=5000,cent=.05) \n",
    "nS <- nScree(x=ev$values, model = \"components\",aparallel=ap$eigen$qevpea) # \"qevpea\" indicate 95 centile given cent=.05 \n",
    "nS$Analysis$Cumu[1:5]"
   ]
  },
  {
   "cell_type": "code",
   "execution_count": 79,
   "id": "b93ca35d",
   "metadata": {
    "ExecuteTime": {
     "end_time": "2022-12-29T13:30:57.089046Z",
     "start_time": "2022-12-29T13:30:56.789Z"
    }
   },
   "outputs": [
    {
     "data": {
      "text/html": [
       "<strong>png:</strong> 2"
      ],
      "text/latex": [
       "\\textbf{png:} 2"
      ],
      "text/markdown": [
       "**png:** 2"
      ],
      "text/plain": [
       "png \n",
       "  2 "
      ]
     },
     "metadata": {},
     "output_type": "display_data"
    },
    {
     "data": {
      "image/png": "[encoded data removed]",
      "text/plain": [
       "plot without title"
      ]
     },
     "metadata": {
      "image/png": {
       "height": 420,
       "width": 420
      }
     },
     "output_type": "display_data"
    }
   ],
   "source": [
    "plotnScree(nS, elbow = 5,legend=TRUE, main = NULL)\n",
    "abline(h = 1, col=4, lty=1,lwd =1.8) # Kaiser-Guttman Rule\n",
    "\n",
    "png(\"../output_graph/world_averaged/optimal_components.png\",\n",
    "     family = 'sans',units='in',width=8,height=8,res=300)\n",
    "plotnScree(nS,elbow = 5, legend=TRUE, main = NULL)\n",
    "abline(h = 1, col=4, lty=1,lwd =1.8) # Kaiser-Guttman Rule\n",
    "dev.off()"
   ]
  },
  {
   "cell_type": "markdown",
   "id": "d56a4c1e",
   "metadata": {},
   "source": [
    "# Plot loadings"
   ]
  },
  {
   "cell_type": "code",
   "execution_count": 76,
   "id": "80a50cef",
   "metadata": {
    "ExecuteTime": {
     "end_time": "2022-12-29T13:28:25.587533Z",
     "start_time": "2022-12-29T13:28:24.246Z"
    }
   },
   "outputs": [],
   "source": [
    "dim_rel.pca = prcomp(dim_rel_scaled)\n",
    "ncomp = 5\n",
    "\n",
    "loadings_none = dim_rel.pca$rotation[,1:ncomp]\n",
    "scores_none = dim_rel.pca$x[,1:ncomp] \n",
    "\n",
    "rawLoadings = loadings_none %*% diag(dim_rel.pca$sdev,ncomp,ncomp)\n",
    "loadings_var = varimax(rawLoadings)$loadings\n",
    "scores_var = scale(scores_none) %*% varimax(rawLoadings)$rotmat\n",
    "\n",
    "write.csv(loadings_var,'input_data/Nations/Total/pca_results/Total_loadings_var_5c_33d.csv')\n",
    "scores_var = as.data.frame(scores_var)\n",
    "write.csv(scores_var,'input_data/Nations/Total/pca_results/Total_scores_var_5c_33d.csv')"
   ]
  },
  {
   "cell_type": "code",
   "execution_count": 80,
   "id": "c3378a36",
   "metadata": {
    "ExecuteTime": {
     "end_time": "2022-12-29T13:32:14.447630Z",
     "start_time": "2022-12-29T13:32:14.201Z"
    }
   },
   "outputs": [
    {
     "data": {
      "image/png": "[encoded data removed]",
      "text/plain": [
       "Plot with title \"\""
      ]
     },
     "metadata": {
      "image/png": {
       "height": 600,
       "width": 360
      }
     },
     "output_type": "display_data"
    }
   ],
   "source": [
    "loadings_var_reorder = as.data.frame(loadings_var[,1:5])\n",
    "colnames(loadings_var_reorder) = c('Activeness','Exchange','Formality','Equality','Valence')\n",
    "loadings_var_reorder = abs(loadings_var_reorder)\n",
    "loadings_var_reorder = loadings_var_reorder[,\n",
    "                        c('Formality','Activeness','Valence','Exchange','Equality')]\n",
    "\n",
    "#filter each row's max loading, and attribute it to correspnding column.\n",
    "order_list = c()\n",
    "for (row in c(1:33)){\n",
    "    temp_max = abs(loadings_var_reorder[row,1])\n",
    "    n = 1\n",
    "    for (col in c(2:5)){\n",
    "        temp = abs(loadings_var_reorder[row,col])\n",
    "        if (temp > temp_max){\n",
    "            temp_max = temp\n",
    "            n = col\n",
    "        }\n",
    "        \n",
    "    }\n",
    "    order_list[row] = n\n",
    "}\n",
    "loadings_var_reorder = loadings_var_reorder %>% mutate(order = order_list)\n",
    "loadings_var_reorder['rel'] = rownames(loadings_var_reorder)\n",
    "RC1 = loadings_var_reorder %>% filter(order==1) %>% arrange(desc(Formality))\n",
    "RC2 = loadings_var_reorder %>% filter(order==2) %>% arrange(desc(Activeness))\n",
    "RC3 = loadings_var_reorder %>% filter(order==3) %>% arrange(desc(Valence))\n",
    "RC4 = loadings_var_reorder %>% filter(order==4) %>% arrange(desc(Exchange))\n",
    "RC5 = loadings_var_reorder %>% filter(order==5) %>% arrange(desc(Equality))\n",
    "rownames(loadings_var_reorder) = loadings_var_reorder$'rel'\n",
    "\n",
    "loadings_var_reorder = rbind(RC1,RC2,RC3,RC4,RC5)\n",
    "loadings_var_reorder = loadings_var_reorder[1:5]\n",
    "\n",
    "options(repr.plot.width=6, repr.plot.height=10)\n",
    "my.breaks = c(seq(-1,1,by=0.01))\n",
    "corrplot(as.matrix(abs(loadings_var_reorder)),is.corr=FALSE,\n",
    "         tl.col = \"black\",tl.srt=60,tl.cex=1.1,family='sans',font=2,\n",
    "         col.lim = c(0,1),cl.ratio = 0.4,cl.cex=1,\n",
    "         col = colorRampPalette(c(\"white\",\"darkred\"))(length(my.breaks)))"
   ]
  },
  {
   "cell_type": "code",
   "execution_count": 81,
   "id": "ccdba5a6",
   "metadata": {
    "ExecuteTime": {
     "end_time": "2022-12-29T13:32:48.819552Z",
     "start_time": "2022-12-29T13:32:48.527Z"
    }
   },
   "outputs": [
    {
     "data": {
      "text/html": [
       "<strong>png:</strong> 2"
      ],
      "text/latex": [
       "\\textbf{png:} 2"
      ],
      "text/markdown": [
       "**png:** 2"
      ],
      "text/plain": [
       "png \n",
       "  2 "
      ]
     },
     "metadata": {},
     "output_type": "display_data"
    }
   ],
   "source": [
    "png(\"../output_graph/world_averaged/loadings.png\", bg=\"transparent\",\n",
    "    family = 'sans',units='in',width=6,height=10,res=300)\n",
    "pca_5c_33d_loadings_total = read.csv('input_data/Nations/Total/pca_results/Total_loadings_var_5c_33d.csv',row.names=1)\n",
    "loadings_var = pca_5c_33d_loadings_total\n",
    "loadings_var_reorder = as.data.frame(loadings_var[,1:5])\n",
    "colnames(loadings_var_reorder) = c('Activeness','Exchange','Formality','Equality','Valence')\n",
    "loadings_var_reorder = abs(loadings_var_reorder)\n",
    "loadings_var_reorder = loadings_var_reorder[,\n",
    "                        c('Formality','Activeness','Valence','Exchange','Equality')]\n",
    "\n",
    "#filter each row's max loading, and attribute it to correspnding column.\n",
    "order_list = c()\n",
    "for (row in c(1:33)){\n",
    "    temp_max = abs(loadings_var_reorder[row,1])\n",
    "    n = 1\n",
    "    for (col in c(2:5)){\n",
    "        temp = abs(loadings_var_reorder[row,col])\n",
    "        if (temp > temp_max){\n",
    "            temp_max = temp\n",
    "            n = col\n",
    "        }\n",
    "        \n",
    "    }\n",
    "    order_list[row] = n\n",
    "}\n",
    "loadings_var_reorder = loadings_var_reorder %>% mutate(order = order_list)\n",
    "loadings_var_reorder['rel'] = rownames(loadings_var_reorder)\n",
    "RC1 = loadings_var_reorder %>% filter(order==1) %>% arrange(desc(Formality))\n",
    "RC2 = loadings_var_reorder %>% filter(order==2) %>% arrange(desc(Activeness))\n",
    "RC3 = loadings_var_reorder %>% filter(order==3) %>% arrange(desc(Valence))\n",
    "RC4 = loadings_var_reorder %>% filter(order==4) %>% arrange(desc(Exchange))\n",
    "RC5 = loadings_var_reorder %>% filter(order==5) %>% arrange(desc(Equality))\n",
    "rownames(loadings_var_reorder) = loadings_var_reorder$'rel'\n",
    "\n",
    "loadings_var_reorder = rbind(RC1,RC2,RC3,RC4,RC5)\n",
    "loadings_var_reorder = loadings_var_reorder[1:5]\n",
    "\n",
    "options(repr.plot.width=6, repr.plot.height=10)\n",
    "my.breaks = c(seq(-1,1,by=0.01))\n",
    "corrplot(as.matrix(abs(loadings_var_reorder)),is.corr=FALSE,\n",
    "         tl.col = \"black\",tl.srt=60,tl.cex=1.1,family='sans',font=2,\n",
    "         col.lim = c(0,1),cl.ratio = 0.4,cl.cex=1,\n",
    "         col = colorRampPalette(c(\"white\",\"darkred\"))(length(my.breaks)))\n",
    "dev.off()"
   ]
  }
 ],
 "metadata": {
  "kernelspec": {
   "display_name": "R",
   "language": "R",
   "name": "ir"
  },
  "language_info": {
   "codemirror_mode": "r",
   "file_extension": ".r",
   "mimetype": "text/x-r-source",
   "name": "R",
   "pygments_lexer": "r",
   "version": "4.1.2"
  },
  "toc": {
   "base_numbering": 1,
   "nav_menu": {},
   "number_sections": true,
   "sideBar": true,
   "skip_h1_title": false,
   "title_cell": "Table of Contents",
   "title_sidebar": "Contents",
   "toc_cell": false,
   "toc_position": {},
   "toc_section_display": true,
   "toc_window_display": true
  },
  "varInspector": {
   "cols": {
    "lenName": 16,
    "lenType": 16,
    "lenVar": 40
   },
   "kernels_config": {
    "python": {
     "delete_cmd_postfix": "",
     "delete_cmd_prefix": "del ",
     "library": "var_list.py",
     "varRefreshCmd": "print(var_dic_list())"
    },
    "r": {
     "delete_cmd_postfix": ") ",
     "delete_cmd_prefix": "rm(",
     "library": "var_list.r",
     "varRefreshCmd": "cat(var_dic_list()) "
    }
   },
   "types_to_exclude": [
    "module",
    "function",
    "builtin_function_or_method",
    "instance",
    "_Feature"
   ],
   "window_display": false
  }
 },
 "nbformat": 4,
 "nbformat_minor": 5
}
