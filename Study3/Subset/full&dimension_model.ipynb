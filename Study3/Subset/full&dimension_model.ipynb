{
 "cells": [
  {
   "cell_type": "code",
   "execution_count": 2,
   "id": "682b5191",
   "metadata": {
    "ExecuteTime": {
     "end_time": "2022-12-24T14:21:14.703769Z",
     "start_time": "2022-12-24T14:21:14.226Z"
    }
   },
   "outputs": [],
   "source": [
    "library(ggplot2)\n",
    "library(corrplot)\n",
    "library(RColorBrewer)\n",
    "\n",
    "library(tidyverse)\n",
    "library(reshape)#melt\n",
    "library(openxlsx)\n",
    "library(dplyr)#rename\n",
    "library(mgsub)"
   ]
  },
  {
   "cell_type": "markdown",
   "id": "a314bd33",
   "metadata": {},
   "source": [
    "# Functions"
   ]
  },
  {
   "cell_type": "markdown",
   "id": "a44302ad",
   "metadata": {},
   "source": [
    "## abstract subset"
   ]
  },
  {
   "cell_type": "code",
   "execution_count": 3,
   "id": "b3c385ce",
   "metadata": {
    "ExecuteTime": {
     "end_time": "2022-12-24T14:21:19.709888Z",
     "start_time": "2022-12-24T14:21:19.685Z"
    }
   },
   "outputs": [],
   "source": [
    "subset_abstract = function(num){\n",
    "    # abstract relationships\n",
    "    robustness = read.csv('Robustness/output_data/robustness_loadings_data.csv',row.names=1)\n",
    "    subset = robustness %>% filter(times==(159-num)) \n",
    "    subset = subset$'rel_list'\n",
    "    subset = unlist(strsplit(subset,\", \"))\n",
    "    subset = data.frame(trimws(subset)) \n",
    "    colnames(subset) = 'old'\n",
    "    # replace labels\n",
    "    mapping =read.csv('../../Study2/input_data/Rel_labels/labels_different_versions.csv',row.names=1)\n",
    "    subset$'fix' = mgsub(subset$'old',mapping$'two',mapping$'one')\n",
    "    subset = subset$'fix' %>% str_replace('Employer and Employee ,','Employer and Employee')\n",
    "    \n",
    "    write.csv(subset,paste(paste('data/subset_',num,sep=''),'.csv',sep=''))\n",
    "    return(subset)\n",
    "}"
   ]
  },
  {
   "cell_type": "markdown",
   "id": "b8b12d7f",
   "metadata": {},
   "source": [
    "## full feature & dimensional model"
   ]
  },
  {
   "cell_type": "code",
   "execution_count": 4,
   "id": "bf08a331",
   "metadata": {
    "ExecuteTime": {
     "end_time": "2022-12-24T14:21:40.497916Z",
     "start_time": "2022-12-24T14:21:40.473Z"
    }
   },
   "outputs": [],
   "source": [
    "pca_var = function(dim_rel_scaled){\n",
    "    dim_rel.pca = prcomp(dim_rel_scaled)\n",
    "    ncomp = 5\n",
    "\n",
    "    loadings_none = dim_rel.pca$rotation[,1:ncomp]%*% diag(dim_rel.pca$sdev,ncomp,ncomp)\n",
    "    scores_none = dim_rel.pca$x[,1:ncomp] \n",
    "    loadings_var = varimax(loadings_none)$loadings\n",
    "    scores_var = scale(scores_none) %*% varimax(loadings_none)$rotmat\n",
    "\n",
    "    loadings_var = as.data.frame(loadings_var[,1:ncomp])\n",
    "    scores_var = as.data.frame(scores_var)\n",
    "    \n",
    "    result_dict = {}\n",
    "    result_dict[['loadings']] = loadings_var\n",
    "    result_dict[['relationship']] = scores_var\n",
    "    return(result_dict)\n",
    "}\n",
    "\n",
    "\n",
    "full_dim_region = function(num){\n",
    "    path = '../DataCleanPCA/output_data/cleaning_results/'\n",
    "    pca_var_loading_subset = {}\n",
    "    pca_var_relationship_subset = {}\n",
    "    \n",
    "    dir.create(paste('output_data/full_feature/',num,sep=''))\n",
    "    dir.create(paste('output_data/dimensional_model/loading_var_score/',num,sep=''))\n",
    "    dir.create(paste('output_data/dimensional_model/relationship_var_score/',num,sep=''))\n",
    "    \n",
    "    for (region in dir(path)){\n",
    "        # 1.import data\n",
    "        file = paste(path,region,sep='')\n",
    "        file = paste(file,'/',sep='')\n",
    "        file = paste(file,region,sep='')\n",
    "        file = paste(file,'_dim_rel_scaled.csv',sep='')\n",
    "        all_scaled = read.csv(file,encoding='UTF-8',row.names=1)\n",
    "\n",
    "        # 2.abstract subset\n",
    "        subset = subset_abstract(num)\n",
    "        subset_scaled = all_scaled[subset,]\n",
    "        output_path = paste(paste(paste('output_data/full_feature/',num,sep=''),'/',sep=''),\n",
    "                            region,sep='')\n",
    "        output_path = paste(output_path,'.csv',sep='')\n",
    "        write.csv(subset_scaled,output_path)\n",
    "\n",
    "        # 3. pca with varimax rotation\n",
    "        pca_results = pca_var(subset_scaled)\n",
    "        loadings_var = pca_results$loadings\n",
    "        scores_var = pca_results$relationship\n",
    "\n",
    "        # save results\n",
    "        pca_var_loading_subset[[region]] = loadings_var\n",
    "        output_path = paste(paste(paste('output_data/dimensional_model/loading_var_score/',num,sep=''),\n",
    "                            '/',sep=''),region,sep='')\n",
    "        output_path = paste(output_path,'.csv',sep='')\n",
    "        write.csv(loadings_var,output_path)\n",
    "\n",
    "        pca_var_relationship_subset[[region]] = scores_var\n",
    "        output_path = paste(paste(paste('output_data/dimensional_model/relationship_var_score/',num,sep=''),\n",
    "                            '/',sep=''),region,sep='')\n",
    "        output_path = paste(output_path,'.csv',sep='')\n",
    "        write.csv(scores_var,output_path)}\n",
    "        \n",
    "    return(pca_var_relationship_subset)\n",
    "}"
   ]
  },
  {
   "cell_type": "markdown",
   "id": "7285d783",
   "metadata": {},
   "source": [
    "***"
   ]
  },
  {
   "cell_type": "markdown",
   "id": "1595bf65",
   "metadata": {},
   "source": [
    "# Run"
   ]
  },
  {
   "cell_type": "code",
   "execution_count": 5,
   "id": "393b1aff",
   "metadata": {
    "ExecuteTime": {
     "end_time": "2022-12-24T14:23:50.051088Z",
     "start_time": "2022-12-24T14:21:48.898Z"
    },
    "scrolled": false
   },
   "outputs": [],
   "source": [
    "pca_rel_score = {}\n",
    "for (num in seq(40,70)){\n",
    "    pca_rel_score[[num]] = full_dim_region(num)\n",
    "}"
   ]
  },
  {
   "cell_type": "code",
   "execution_count": 6,
   "id": "028abad2",
   "metadata": {
    "ExecuteTime": {
     "end_time": "2022-12-24T14:37:28.690224Z",
     "start_time": "2022-12-24T14:25:38.533Z"
    }
   },
   "outputs": [],
   "source": [
    "pca_rel_score = {}\n",
    "for (num in c(seq(5,39),seq(71,158))){\n",
    "    pca_rel_score[[num]] = full_dim_region(num)\n",
    "}"
   ]
  }
 ],
 "metadata": {
  "kernelspec": {
   "display_name": "R",
   "language": "R",
   "name": "ir"
  },
  "language_info": {
   "codemirror_mode": "r",
   "file_extension": ".r",
   "mimetype": "text/x-r-source",
   "name": "R",
   "pygments_lexer": "r",
   "version": "4.1.2"
  },
  "toc": {
   "base_numbering": 1,
   "nav_menu": {},
   "number_sections": true,
   "sideBar": true,
   "skip_h1_title": false,
   "title_cell": "Table of Contents",
   "title_sidebar": "Contents",
   "toc_cell": false,
   "toc_position": {},
   "toc_section_display": true,
   "toc_window_display": true
  },
  "varInspector": {
   "cols": {
    "lenName": 16,
    "lenType": 16,
    "lenVar": 40
   },
   "kernels_config": {
    "python": {
     "delete_cmd_postfix": "",
     "delete_cmd_prefix": "del ",
     "library": "var_list.py",
     "varRefreshCmd": "print(var_dic_list())"
    },
    "r": {
     "delete_cmd_postfix": ") ",
     "delete_cmd_prefix": "rm(",
     "library": "var_list.r",
     "varRefreshCmd": "cat(var_dic_list()) "
    }
   },
   "types_to_exclude": [
    "module",
    "function",
    "builtin_function_or_method",
    "instance",
    "_Feature"
   ],
   "window_display": false
  }
 },
 "nbformat": 4,
 "nbformat_minor": 5
}
