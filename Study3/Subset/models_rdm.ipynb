{
 "cells": [
  {
   "cell_type": "code",
   "execution_count": 2,
   "id": "53d5dd95",
   "metadata": {
    "ExecuteTime": {
     "end_time": "2022-12-24T15:23:40.583044Z",
     "start_time": "2022-12-24T15:23:40.557Z"
    }
   },
   "outputs": [],
   "source": [
    "library(openxlsx)\n",
    "library(tidyverse)\n",
    "library(reshape)\n",
    "library(mgsub) # mapping\n",
    "\n",
    "library(ggplot2)\n",
    "library(ggpubr)\n",
    "library(RColorBrewer)\n",
    "library(corrplot)\n",
    "library(corrr)"
   ]
  },
  {
   "cell_type": "code",
   "execution_count": 3,
   "id": "005ed4ab",
   "metadata": {
    "ExecuteTime": {
     "end_time": "2022-12-24T15:23:41.469513Z",
     "start_time": "2022-12-24T15:23:41.453Z"
    }
   },
   "outputs": [],
   "source": [
    "# Organize relationship score\n",
    "regions = c(\n",
    "    # English\n",
    "    'USA','UK','Australia','South Africa',\n",
    "    # Germany\n",
    "    'Germany',\n",
    "    # Japanese\n",
    "    'Japan',\n",
    "    # Hebrew\n",
    "    'Israel',\n",
    "    # Chinese\n",
    "    'CHN','HK(region)',\n",
    "\n",
    "    # French\n",
    "    'France',\n",
    "    # Spanish\n",
    "    'Spain','Mexico','Chile',\n",
    "    # Portuguese\n",
    "    'Portugal','Brazil',\n",
    "    # Russian\n",
    "    'Russia',\n",
    "    # Arabic\n",
    "    'Egypt','Qatar',\n",
    "    'India')"
   ]
  },
  {
   "cell_type": "markdown",
   "id": "6802e2fa",
   "metadata": {},
   "source": [
    "# Full-feature model"
   ]
  },
  {
   "cell_type": "code",
   "execution_count": 6,
   "id": "094416ab",
   "metadata": {
    "ExecuteTime": {
     "end_time": "2022-12-24T15:26:56.617896Z",
     "start_time": "2022-12-24T15:26:03.692Z"
    }
   },
   "outputs": [],
   "source": [
    "for (num in seq(5,158)){\n",
    "    dir.create(paste('output_data/regression/models_rdm/full_feature/',num,sep=''))\n",
    "    \n",
    "    file_path = paste('output_data/full_feature/',num,sep='')\n",
    "    file_path = paste(file_path,'/',sep='')\n",
    "    raw_data_list = list()\n",
    "    for (file in dir(file_path)){\n",
    "        raw_df = read.csv(paste(file_path,file,sep=''),row.names=1)\n",
    "\n",
    "        region = strsplit(file,'.csv')[[1]] %>% str_replace('HK','HK(region)') %>%\n",
    "                                             str_replace('South_africa','South Africa')\n",
    "        raw_data_list[[region]] = raw_df    \n",
    "    }\n",
    "\n",
    "    rdm_list = list()\n",
    "    for (region in regions){\n",
    "        region_raw_data = raw_data_list[[region]]\n",
    "        rdm_list[[region]] = c(dist(region_raw_data,\n",
    "                                 method = 'euclidean'))\n",
    "    }\n",
    "    combine_rdm = cbind(rdm_list[[1]],rdm_list[[2]])\n",
    "\n",
    "    # combine all regions' results\n",
    "    for (region in regions[3:length(regions)]){\n",
    "        combine_rdm = cbind(combine_rdm,rdm_list[[region]])}\n",
    "    colnames(combine_rdm) = regions\n",
    "\n",
    "    # caculate correlation between regions\n",
    "    combine_rdm.cor = cor(combine_rdm, method = 'spearman')\n",
    "    regions_label = colnames(combine_rdm.cor)\n",
    "\n",
    "    regions_selected = rownames(combine_rdm.cor)\n",
    "    raw33d_dissim_dist = 1-combine_rdm.cor\n",
    "    model_rdm = raw33d_dissim_dist[lower.tri(raw33d_dissim_dist,diag = FALSE)]\n",
    "\n",
    "    write.csv(combine_rdm,\n",
    "    file=paste(paste(paste('output_data/regression/models_rdm/full_feature/',num,sep=''),'/',sep=''),\n",
    "              'raw33d_dissim_array.csv',sep=''))\n",
    "    write.csv(raw33d_dissim_dist,\n",
    "    file=paste(paste(paste('output_data/regression/models_rdm/full_feature/',num,sep=''),'/',sep=''),\n",
    "              'raw33d_dissim_dist.csv',sep=''))\n",
    "}"
   ]
  },
  {
   "cell_type": "markdown",
   "id": "da1b1112",
   "metadata": {},
   "source": [
    "# Dimensional"
   ]
  },
  {
   "cell_type": "code",
   "execution_count": 7,
   "id": "c2ab228c",
   "metadata": {
    "ExecuteTime": {
     "end_time": "2022-12-24T15:29:27.487446Z",
     "start_time": "2022-12-24T15:28:45.847Z"
    },
    "scrolled": false
   },
   "outputs": [],
   "source": [
    "for (num in seq(5,158)){\n",
    "    dir.create(paste('output_data/regression/models_rdm/dimensional/',num,sep=''))\n",
    "\n",
    "    file_path = paste('output_data/dimensional_model/relationship_var_score/',num,sep='')\n",
    "    file_path = paste(file_path,'/',sep='')\n",
    "    relationship_score_list = list()\n",
    "    for (file in dir(file_path)){\n",
    "        favee_df = read.csv(paste(file_path,file,sep=''),row.names=1)\n",
    "        region = strsplit(file,'.csv')[[1]] %>% str_replace('HK','HK(region)') %>%\n",
    "                                             str_replace('South_africa','South Africa')\n",
    "        relationship_score_list[[region]] = favee_df    \n",
    "    }\n",
    "    \n",
    "    rdm_list = list()\n",
    "    for (region in regions){\n",
    "        region_model = relationship_score_list[[region]]\n",
    "        rdm_list[[region]] = c(dist(region_model,\n",
    "                                 method = 'euclidean'))\n",
    "    }\n",
    "    # combine all regions' results\n",
    "    combine_rdm = cbind(rdm_list[[1]],rdm_list[[2]])\n",
    "    for (region in regions[3:length(regions)]){\n",
    "        combine_rdm = cbind(combine_rdm,rdm_list[[region]])}\n",
    "    colnames(combine_rdm) = regions\n",
    "\n",
    "    # caculate correlation between regions\n",
    "    combine_rdm.cor = cor(combine_rdm, method = 'spearman')\n",
    "\n",
    "    # transform correlation between 19 regions into rdm for regression\n",
    "    regions_selected = rownames(combine_rdm.cor)\n",
    "    favee_dissim_dist = 1-combine_rdm.cor\n",
    "    model_rdm = favee_dissim_dist[lower.tri(favee_dissim_dist,diag = FALSE)]\n",
    "    \n",
    "    write.csv(combine_rdm,\n",
    "    file=paste(paste(paste('output_data/regression/models_rdm/dimensional/',num,sep=''),'/',sep=''),\n",
    "              'favee_cor_array.csv',sep=''))\n",
    "    write.csv(favee_dissim_dist,\n",
    "    file=paste(paste(paste('output_data/regression/models_rdm/dimensional/',num,sep=''),'/',sep=''),\n",
    "              'favee_dissim_dist.csv',sep=''))\n",
    "}"
   ]
  },
  {
   "cell_type": "markdown",
   "id": "9dcd27a8",
   "metadata": {},
   "source": [
    "# Categorical(classification)"
   ]
  },
  {
   "cell_type": "code",
   "execution_count": 8,
   "id": "c2f663d7",
   "metadata": {
    "ExecuteTime": {
     "end_time": "2022-12-24T15:30:27.918292Z",
     "start_time": "2022-12-24T15:29:49.684Z"
    }
   },
   "outputs": [],
   "source": [
    "for (num in seq(5,158)){\n",
    "    dir.create(paste('output_data/regression/models_rdm/categorical/',num,sep=''))\n",
    "    \n",
    "    file_path = paste('output_data/categorical_rdm/',num,sep='')\n",
    "    file_path = paste(file_path,'/',sep='')\n",
    "    \n",
    "    rdm_list = list()\n",
    "    for (file in dir(file_path)){\n",
    "        hpp_rdm_df = read.csv(paste(file_path,file,sep=''),row.names=1)\n",
    "        hpp_rdm_array = hpp_rdm_df[lower.tri(hpp_rdm_df,diag = FALSE)]\n",
    "        \n",
    "        region = strsplit(file,'_raw_3k.csv')[[1]] %>% str_replace('HK','HK(region)') %>%\n",
    "                                             str_replace('South_africa','South Africa')\n",
    "        rdm_list[[region]] = hpp_rdm_array}  \n",
    "        \n",
    "    # combine all regions' results\n",
    "    combine_rdm = cbind(rdm_list[[1]],rdm_list[[2]])\n",
    "    regions = names(rdm_list)\n",
    "    for (region in regions[3:length(regions)]){\n",
    "        combine_rdm = cbind(combine_rdm,rdm_list[[region]])}\n",
    "    colnames(combine_rdm) = regions\n",
    "\n",
    "    # caculate correlation between regions\n",
    "    combine_rdm.cor = cor(combine_rdm, method = 'spearman')\n",
    "        \n",
    "    # transform correlation between 19 regions into rdm for regression\n",
    "    regions_selected = rownames(combine_rdm.cor)\n",
    "    hpp_dissim_dist = 1-combine_rdm.cor\n",
    "    model_rdm = hpp_dissim_dist[lower.tri(hpp_dissim_dist,diag = FALSE)]\n",
    "\n",
    "    write.csv(combine_rdm,\n",
    "    file=paste(paste(paste('output_data/regression/models_rdm/categorical/',num,sep=''),'/',sep=''),\n",
    "              'hpp_cor_array.csv',sep=''))\n",
    "    write.csv(hpp_dissim_dist,\n",
    "    file=paste(paste(paste('output_data/regression/models_rdm/categorical/',num,sep=''),'/',sep=''),\n",
    "              'hpp_dissim_dist.csv',sep=''))    \n",
    "}"
   ]
  }
 ],
 "metadata": {
  "kernelspec": {
   "display_name": "R",
   "language": "R",
   "name": "ir"
  },
  "language_info": {
   "codemirror_mode": "r",
   "file_extension": ".r",
   "mimetype": "text/x-r-source",
   "name": "R",
   "pygments_lexer": "r",
   "version": "4.1.2"
  },
  "toc": {
   "base_numbering": 1,
   "nav_menu": {},
   "number_sections": true,
   "sideBar": true,
   "skip_h1_title": false,
   "title_cell": "Table of Contents",
   "title_sidebar": "Contents",
   "toc_cell": false,
   "toc_position": {},
   "toc_section_display": true,
   "toc_window_display": true
  },
  "varInspector": {
   "cols": {
    "lenName": 16,
    "lenType": 16,
    "lenVar": 40
   },
   "kernels_config": {
    "python": {
     "delete_cmd_postfix": "",
     "delete_cmd_prefix": "del ",
     "library": "var_list.py",
     "varRefreshCmd": "print(var_dic_list())"
    },
    "r": {
     "delete_cmd_postfix": ") ",
     "delete_cmd_prefix": "rm(",
     "library": "var_list.r",
     "varRefreshCmd": "cat(var_dic_list()) "
    }
   },
   "types_to_exclude": [
    "module",
    "function",
    "builtin_function_or_method",
    "instance",
    "_Feature"
   ],
   "window_display": false
  }
 },
 "nbformat": 4,
 "nbformat_minor": 5
}
