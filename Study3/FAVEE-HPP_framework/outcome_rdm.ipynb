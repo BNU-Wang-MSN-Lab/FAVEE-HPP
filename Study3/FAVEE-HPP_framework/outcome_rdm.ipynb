{
 "cells": [
  {
   "cell_type": "code",
   "execution_count": 1,
   "id": "64b927b4",
   "metadata": {
    "ExecuteTime": {
     "end_time": "2023-03-11T10:54:33.498409Z",
     "start_time": "2023-03-11T10:54:29.668949Z"
    }
   },
   "outputs": [],
   "source": [
    "import pandas as pd\n",
    "import numpy as np\n",
    "\n",
    "from sklearn.metrics.pairwise import euclidean_distances\n",
    "from sklearn import preprocessing"
   ]
  },
  {
   "cell_type": "code",
   "execution_count": 2,
   "id": "b24aa3db",
   "metadata": {
    "ExecuteTime": {
     "end_time": "2023-03-11T10:54:33.513377Z",
     "start_time": "2023-03-11T10:54:33.502255Z"
    }
   },
   "outputs": [],
   "source": [
    "region_list = ['United States', 'United Kingdom', 'Germany', 'France', 'Australia',\n",
    "               'South Africa', 'India', 'Chile','Mexico', 'Spain',\n",
    "               'Brazil', 'Portugal', 'Egypt', 'Qatar',\n",
    "               'Russia', 'Israel', 'Japan', 'China', 'Hong Kong'] "
   ]
  },
  {
   "cell_type": "code",
   "execution_count": 3,
   "id": "ed4b17aa",
   "metadata": {
    "ExecuteTime": {
     "end_time": "2023-03-11T10:54:34.437039Z",
     "start_time": "2023-03-11T10:54:34.419362Z"
    }
   },
   "outputs": [],
   "source": [
    "def fix_regions(df):\n",
    "    regions = df.index\n",
    "    regions = [i.replace('Great Britain','United Kingdom') for i in regions]\n",
    "    regions = [i.replace('Hong Kong SAR','Hong Kong') for i in regions]\n",
    "    regions = [i.replace('Hong Kong S.A.R. of China','Hong Kong') for i in regions]\n",
    "    regions = [i.replace('Russian Federation','Russia') for i in regions]\n",
    "    \n",
    "    df.index = regions\n",
    "    return df"
   ]
  },
  {
   "cell_type": "markdown",
   "id": "be148e85",
   "metadata": {},
   "source": [
    "# Individual level"
   ]
  },
  {
   "cell_type": "markdown",
   "id": "ea9fdd7c",
   "metadata": {
    "ExecuteTime": {
     "end_time": "2023-03-06T05:32:20.275155Z",
     "start_time": "2023-03-06T05:32:20.207123Z"
    }
   },
   "source": [
    "## Life expectancy  \n",
    "Missing data: no   \n",
    "Year: 2021"
   ]
  },
  {
   "cell_type": "code",
   "execution_count": 25,
   "id": "2eb33da5",
   "metadata": {
    "ExecuteTime": {
     "end_time": "2023-03-07T02:21:46.555666Z",
     "start_time": "2023-03-07T02:21:46.522580Z"
    }
   },
   "outputs": [
    {
     "data": {
      "text/plain": [
       "set()"
      ]
     },
     "execution_count": 25,
     "metadata": {},
     "output_type": "execute_result"
    }
   ],
   "source": [
    "life_expectancy = pd.read_csv('dataset/raw_data/life-expectancy.csv',index_col=0)\n",
    "life_expectancy = life_expectancy.loc[region_list,]\n",
    "life_expectancy = life_expectancy.loc[life_expectancy.Year == 2021,]\n",
    "\n",
    "life_expectancy = life_expectancy.rename(columns = {'Life expectancy at birth (historical)':'life_expectancy'})\n",
    "life_expectancy_dist = pd.DataFrame(euclidean_distances(life_expectancy[['life_expectancy']]),\n",
    "                            index=life_expectancy.index,columns=life_expectancy.index)\n",
    "life_expectancy_dist.to_csv('rdm/checked/life_expectancy_dist.csv')\n",
    "\n",
    "set(region_list) - set(life_expectancy.index)"
   ]
  },
  {
   "cell_type": "markdown",
   "id": "9aa249ab",
   "metadata": {},
   "source": [
    "## SWB  \n",
    "Missing data: Qatar   \n",
    "Year: 2022"
   ]
  },
  {
   "cell_type": "code",
   "execution_count": 91,
   "id": "dad8747e",
   "metadata": {
    "ExecuteTime": {
     "end_time": "2023-03-06T07:04:29.814574Z",
     "start_time": "2023-03-06T07:04:29.786558Z"
    }
   },
   "outputs": [
    {
     "data": {
      "text/plain": [
       "{'Qatar'}"
      ]
     },
     "execution_count": 91,
     "metadata": {},
     "output_type": "execute_result"
    }
   ],
   "source": [
    "SWB = pd.read_excel('dataset/raw_data/Appendix_2_Data_for_Figure_2.1.xls',index_col = 0)\n",
    "SWB['Country'] = SWB['Country'].replace({'Hong Kong S.A.R. of China':'Hong Kong'})\n",
    "regions = [i for i in region_list if i not in ['Qatar']]\n",
    "SWB = SWB.loc[SWB['Country'].isin(regions),]\n",
    "\n",
    "SWB_dist = pd.DataFrame(euclidean_distances(SWB[['Happiness score']]),\n",
    "                            index=SWB['Country'],columns=SWB['Country'])\n",
    "SWB_dist.to_csv('rdm/checked/SWB_dist.csv')\n",
    "set(region_list)-set(SWB['Country'])"
   ]
  },
  {
   "cell_type": "markdown",
   "id": "e681b935",
   "metadata": {},
   "source": [
    "## Positive affect\n",
    "Missing data: Qatar  \n",
    "Year: 2021"
   ]
  },
  {
   "cell_type": "code",
   "execution_count": 93,
   "id": "40894c08",
   "metadata": {
    "ExecuteTime": {
     "end_time": "2023-03-07T07:37:04.602998Z",
     "start_time": "2023-03-07T07:37:04.504582Z"
    }
   },
   "outputs": [
    {
     "data": {
      "text/plain": [
       "{'Qatar'}"
      ]
     },
     "execution_count": 93,
     "metadata": {},
     "output_type": "execute_result"
    }
   ],
   "source": [
    "positive_affect = pd.read_excel('dataset/raw_data/DataForTable2.1.xls',\n",
    "                                   usecols=['Country name','year','Positive affect'])\n",
    "positive_affect.index = positive_affect['Country name']\n",
    "positive_affect = fix_regions(positive_affect)\n",
    "\n",
    "positive_affect = positive_affect.dropna()\n",
    "positive_affect = positive_affect[positive_affect.year==2021]\n",
    "positive_affect_dist = pd.DataFrame(\\\n",
    "                euclidean_distances(positive_affect[['Positive affect']]),\n",
    "                index=positive_affect.index,columns=positive_affect.index)\n",
    "positive_affect_dist.to_csv('rdm/checked/positive_affect_dist.csv')\n",
    "set(region_list)-set(positive_affect.index)"
   ]
  },
  {
   "cell_type": "markdown",
   "id": "39abb950",
   "metadata": {},
   "source": [
    "## IQ  \n",
    "Missing data: no    \n",
    "Year: 2023"
   ]
  },
  {
   "cell_type": "code",
   "execution_count": 101,
   "id": "26143ce5",
   "metadata": {
    "ExecuteTime": {
     "end_time": "2023-03-07T08:00:54.125433Z",
     "start_time": "2023-03-07T08:00:54.105468Z"
    }
   },
   "outputs": [
    {
     "data": {
      "text/plain": [
       "set()"
      ]
     },
     "execution_count": 101,
     "metadata": {},
     "output_type": "execute_result"
    }
   ],
   "source": [
    "IQ = pd.read_csv('dataset/raw_data/IQ_raw.csv',index_col=0)\n",
    "IQ = IQ.loc[IQ.country.isin(region_list),]\n",
    "IQ_dist = pd.DataFrame(euclidean_distances(IQ[['iq']]),\n",
    "                index=IQ['country'],columns=IQ['country'])\n",
    "IQ_dist.to_csv('rdm/checked/IQ_dist.csv')\n",
    "set(region_list)-set(IQ.country)"
   ]
  },
  {
   "cell_type": "markdown",
   "id": "8e330cd0",
   "metadata": {},
   "source": [
    "## Early childhood development (ECD)"
   ]
  },
  {
   "cell_type": "code",
   "execution_count": 131,
   "id": "3aa7b3af",
   "metadata": {
    "ExecuteTime": {
     "end_time": "2023-03-07T09:12:28.334188Z",
     "start_time": "2023-03-07T09:12:28.272151Z"
    }
   },
   "outputs": [
    {
     "data": {
      "text/plain": [
       "{'Hong Kong'}"
      ]
     },
     "execution_count": 131,
     "metadata": {},
     "output_type": "execute_result"
    }
   ],
   "source": [
    "child_develop = pd.read_excel('dataset/raw_data/XLS_Early-childhood-development-database-May-2022.xlsx',\n",
    "                              index_col=0,header = 7)\n",
    "child_develop = child_develop[~child_develop.index.isna()]\n",
    "child_develop = fix_regions(child_develop)\n",
    "\n",
    "child_develop = child_develop.loc[child_develop.index.isin(region_list),]\n",
    "set(region_list)-set(child_develop.index)"
   ]
  },
  {
   "cell_type": "code",
   "execution_count": 132,
   "id": "9c67d2af",
   "metadata": {
    "ExecuteTime": {
     "end_time": "2023-03-07T09:12:31.882912Z",
     "start_time": "2023-03-07T09:12:31.862913Z"
    }
   },
   "outputs": [
    {
     "data": {
      "text/html": [
       "<div>\n",
       "<style scoped>\n",
       "    .dataframe tbody tr th:only-of-type {\n",
       "        vertical-align: middle;\n",
       "    }\n",
       "\n",
       "    .dataframe tbody tr th {\n",
       "        vertical-align: top;\n",
       "    }\n",
       "\n",
       "    .dataframe thead th {\n",
       "        text-align: right;\n",
       "    }\n",
       "</style>\n",
       "<table border=\"1\" class=\"dataframe\">\n",
       "  <thead>\n",
       "    <tr style=\"text-align: right;\">\n",
       "      <th></th>\n",
       "      <th>Children developmentally on track (%)\\n(2013-2021)*</th>\n",
       "      <th>Unnamed: 2</th>\n",
       "      <th>Unnamed: 3</th>\n",
       "      <th>Unnamed: 4</th>\n",
       "      <th>Unnamed: 5</th>\n",
       "      <th>Unnamed: 6</th>\n",
       "      <th>Source</th>\n",
       "      <th>Unnamed: 8</th>\n",
       "      <th>Children on track in development status measured by ECDI (%)\\n(2013-2021)*</th>\n",
       "      <th>Unnamed: 10</th>\n",
       "      <th>Unnamed: 11</th>\n",
       "      <th>Unnamed: 12</th>\n",
       "      <th>Unnamed: 13</th>\n",
       "      <th>Unnamed: 14</th>\n",
       "      <th>Source.1</th>\n",
       "    </tr>\n",
       "  </thead>\n",
       "  <tbody>\n",
       "    <tr>\n",
       "      <th>Australia</th>\n",
       "      <td>-</td>\n",
       "      <td>NaN</td>\n",
       "      <td>-</td>\n",
       "      <td>NaN</td>\n",
       "      <td>-</td>\n",
       "      <td>NaN</td>\n",
       "      <td>NaN</td>\n",
       "      <td>NaN</td>\n",
       "      <td>NaN</td>\n",
       "      <td>NaN</td>\n",
       "      <td>NaN</td>\n",
       "      <td>NaN</td>\n",
       "      <td>NaN</td>\n",
       "      <td>NaN</td>\n",
       "      <td>NaN</td>\n",
       "    </tr>\n",
       "    <tr>\n",
       "      <th>Brazil</th>\n",
       "      <td>-</td>\n",
       "      <td>NaN</td>\n",
       "      <td>-</td>\n",
       "      <td>NaN</td>\n",
       "      <td>-</td>\n",
       "      <td>NaN</td>\n",
       "      <td>NaN</td>\n",
       "      <td>NaN</td>\n",
       "      <td>NaN</td>\n",
       "      <td>NaN</td>\n",
       "      <td>NaN</td>\n",
       "      <td>NaN</td>\n",
       "      <td>NaN</td>\n",
       "      <td>NaN</td>\n",
       "      <td>NaN</td>\n",
       "    </tr>\n",
       "    <tr>\n",
       "      <th>Chile</th>\n",
       "      <td>-</td>\n",
       "      <td>NaN</td>\n",
       "      <td>-</td>\n",
       "      <td>NaN</td>\n",
       "      <td>-</td>\n",
       "      <td>NaN</td>\n",
       "      <td>NaN</td>\n",
       "      <td>NaN</td>\n",
       "      <td>NaN</td>\n",
       "      <td>NaN</td>\n",
       "      <td>NaN</td>\n",
       "      <td>NaN</td>\n",
       "      <td>NaN</td>\n",
       "      <td>NaN</td>\n",
       "      <td>NaN</td>\n",
       "    </tr>\n",
       "    <tr>\n",
       "      <th>China</th>\n",
       "      <td>-</td>\n",
       "      <td>NaN</td>\n",
       "      <td>-</td>\n",
       "      <td>NaN</td>\n",
       "      <td>-</td>\n",
       "      <td>NaN</td>\n",
       "      <td>NaN</td>\n",
       "      <td>NaN</td>\n",
       "      <td>NaN</td>\n",
       "      <td>NaN</td>\n",
       "      <td>NaN</td>\n",
       "      <td>NaN</td>\n",
       "      <td>NaN</td>\n",
       "      <td>NaN</td>\n",
       "      <td>NaN</td>\n",
       "    </tr>\n",
       "    <tr>\n",
       "      <th>Egypt</th>\n",
       "      <td>-</td>\n",
       "      <td>NaN</td>\n",
       "      <td>-</td>\n",
       "      <td>NaN</td>\n",
       "      <td>-</td>\n",
       "      <td>NaN</td>\n",
       "      <td>NaN</td>\n",
       "      <td>NaN</td>\n",
       "      <td>NaN</td>\n",
       "      <td>NaN</td>\n",
       "      <td>NaN</td>\n",
       "      <td>NaN</td>\n",
       "      <td>NaN</td>\n",
       "      <td>NaN</td>\n",
       "      <td>NaN</td>\n",
       "    </tr>\n",
       "    <tr>\n",
       "      <th>France</th>\n",
       "      <td>-</td>\n",
       "      <td>NaN</td>\n",
       "      <td>-</td>\n",
       "      <td>NaN</td>\n",
       "      <td>-</td>\n",
       "      <td>NaN</td>\n",
       "      <td>NaN</td>\n",
       "      <td>NaN</td>\n",
       "      <td>NaN</td>\n",
       "      <td>NaN</td>\n",
       "      <td>NaN</td>\n",
       "      <td>NaN</td>\n",
       "      <td>NaN</td>\n",
       "      <td>NaN</td>\n",
       "      <td>NaN</td>\n",
       "    </tr>\n",
       "    <tr>\n",
       "      <th>Germany</th>\n",
       "      <td>-</td>\n",
       "      <td>NaN</td>\n",
       "      <td>-</td>\n",
       "      <td>NaN</td>\n",
       "      <td>-</td>\n",
       "      <td>NaN</td>\n",
       "      <td>NaN</td>\n",
       "      <td>NaN</td>\n",
       "      <td>NaN</td>\n",
       "      <td>NaN</td>\n",
       "      <td>NaN</td>\n",
       "      <td>NaN</td>\n",
       "      <td>NaN</td>\n",
       "      <td>NaN</td>\n",
       "      <td>NaN</td>\n",
       "    </tr>\n",
       "    <tr>\n",
       "      <th>India</th>\n",
       "      <td>-</td>\n",
       "      <td>NaN</td>\n",
       "      <td>-</td>\n",
       "      <td>NaN</td>\n",
       "      <td>-</td>\n",
       "      <td>NaN</td>\n",
       "      <td>NaN</td>\n",
       "      <td>NaN</td>\n",
       "      <td>NaN</td>\n",
       "      <td>NaN</td>\n",
       "      <td>NaN</td>\n",
       "      <td>NaN</td>\n",
       "      <td>NaN</td>\n",
       "      <td>NaN</td>\n",
       "      <td>NaN</td>\n",
       "    </tr>\n",
       "    <tr>\n",
       "      <th>Israel</th>\n",
       "      <td>-</td>\n",
       "      <td>NaN</td>\n",
       "      <td>-</td>\n",
       "      <td>NaN</td>\n",
       "      <td>-</td>\n",
       "      <td>NaN</td>\n",
       "      <td>NaN</td>\n",
       "      <td>NaN</td>\n",
       "      <td>NaN</td>\n",
       "      <td>NaN</td>\n",
       "      <td>NaN</td>\n",
       "      <td>NaN</td>\n",
       "      <td>NaN</td>\n",
       "      <td>NaN</td>\n",
       "      <td>NaN</td>\n",
       "    </tr>\n",
       "    <tr>\n",
       "      <th>Japan</th>\n",
       "      <td>-</td>\n",
       "      <td>NaN</td>\n",
       "      <td>-</td>\n",
       "      <td>NaN</td>\n",
       "      <td>-</td>\n",
       "      <td>NaN</td>\n",
       "      <td>NaN</td>\n",
       "      <td>NaN</td>\n",
       "      <td>NaN</td>\n",
       "      <td>NaN</td>\n",
       "      <td>NaN</td>\n",
       "      <td>NaN</td>\n",
       "      <td>NaN</td>\n",
       "      <td>NaN</td>\n",
       "      <td>NaN</td>\n",
       "    </tr>\n",
       "    <tr>\n",
       "      <th>Mexico</th>\n",
       "      <td>80.1</td>\n",
       "      <td>NaN</td>\n",
       "      <td>81.3</td>\n",
       "      <td>NaN</td>\n",
       "      <td>78.9</td>\n",
       "      <td>NaN</td>\n",
       "      <td>ENSANUT 2018-19</td>\n",
       "      <td>NaN</td>\n",
       "      <td>NaN</td>\n",
       "      <td>NaN</td>\n",
       "      <td>NaN</td>\n",
       "      <td>NaN</td>\n",
       "      <td>NaN</td>\n",
       "      <td>NaN</td>\n",
       "      <td>NaN</td>\n",
       "    </tr>\n",
       "    <tr>\n",
       "      <th>Portugal</th>\n",
       "      <td>-</td>\n",
       "      <td>NaN</td>\n",
       "      <td>-</td>\n",
       "      <td>NaN</td>\n",
       "      <td>-</td>\n",
       "      <td>NaN</td>\n",
       "      <td>NaN</td>\n",
       "      <td>NaN</td>\n",
       "      <td>NaN</td>\n",
       "      <td>NaN</td>\n",
       "      <td>NaN</td>\n",
       "      <td>NaN</td>\n",
       "      <td>NaN</td>\n",
       "      <td>NaN</td>\n",
       "      <td>NaN</td>\n",
       "    </tr>\n",
       "    <tr>\n",
       "      <th>Qatar</th>\n",
       "      <td>83.9</td>\n",
       "      <td>x</td>\n",
       "      <td>82.6</td>\n",
       "      <td>x</td>\n",
       "      <td>85.4</td>\n",
       "      <td>x</td>\n",
       "      <td>MICS 2012</td>\n",
       "      <td>NaN</td>\n",
       "      <td>NaN</td>\n",
       "      <td>NaN</td>\n",
       "      <td>NaN</td>\n",
       "      <td>NaN</td>\n",
       "      <td>NaN</td>\n",
       "      <td>NaN</td>\n",
       "      <td>NaN</td>\n",
       "    </tr>\n",
       "    <tr>\n",
       "      <th>Russia</th>\n",
       "      <td>-</td>\n",
       "      <td>NaN</td>\n",
       "      <td>-</td>\n",
       "      <td>NaN</td>\n",
       "      <td>-</td>\n",
       "      <td>NaN</td>\n",
       "      <td>NaN</td>\n",
       "      <td>NaN</td>\n",
       "      <td>NaN</td>\n",
       "      <td>NaN</td>\n",
       "      <td>NaN</td>\n",
       "      <td>NaN</td>\n",
       "      <td>NaN</td>\n",
       "      <td>NaN</td>\n",
       "      <td>NaN</td>\n",
       "    </tr>\n",
       "    <tr>\n",
       "      <th>South Africa</th>\n",
       "      <td>-</td>\n",
       "      <td>NaN</td>\n",
       "      <td>-</td>\n",
       "      <td>NaN</td>\n",
       "      <td>-</td>\n",
       "      <td>NaN</td>\n",
       "      <td>NaN</td>\n",
       "      <td>NaN</td>\n",
       "      <td>NaN</td>\n",
       "      <td>NaN</td>\n",
       "      <td>NaN</td>\n",
       "      <td>NaN</td>\n",
       "      <td>NaN</td>\n",
       "      <td>NaN</td>\n",
       "      <td>NaN</td>\n",
       "    </tr>\n",
       "    <tr>\n",
       "      <th>Spain</th>\n",
       "      <td>-</td>\n",
       "      <td>NaN</td>\n",
       "      <td>-</td>\n",
       "      <td>NaN</td>\n",
       "      <td>-</td>\n",
       "      <td>NaN</td>\n",
       "      <td>NaN</td>\n",
       "      <td>NaN</td>\n",
       "      <td>NaN</td>\n",
       "      <td>NaN</td>\n",
       "      <td>NaN</td>\n",
       "      <td>NaN</td>\n",
       "      <td>NaN</td>\n",
       "      <td>NaN</td>\n",
       "      <td>NaN</td>\n",
       "    </tr>\n",
       "    <tr>\n",
       "      <th>United Kingdom</th>\n",
       "      <td>-</td>\n",
       "      <td>NaN</td>\n",
       "      <td>-</td>\n",
       "      <td>NaN</td>\n",
       "      <td>-</td>\n",
       "      <td>NaN</td>\n",
       "      <td>NaN</td>\n",
       "      <td>NaN</td>\n",
       "      <td>NaN</td>\n",
       "      <td>NaN</td>\n",
       "      <td>NaN</td>\n",
       "      <td>NaN</td>\n",
       "      <td>NaN</td>\n",
       "      <td>NaN</td>\n",
       "      <td>NaN</td>\n",
       "    </tr>\n",
       "    <tr>\n",
       "      <th>United States</th>\n",
       "      <td>-</td>\n",
       "      <td>NaN</td>\n",
       "      <td>-</td>\n",
       "      <td>NaN</td>\n",
       "      <td>-</td>\n",
       "      <td>NaN</td>\n",
       "      <td>NaN</td>\n",
       "      <td>NaN</td>\n",
       "      <td>NaN</td>\n",
       "      <td>NaN</td>\n",
       "      <td>NaN</td>\n",
       "      <td>NaN</td>\n",
       "      <td>NaN</td>\n",
       "      <td>NaN</td>\n",
       "      <td>NaN</td>\n",
       "    </tr>\n",
       "  </tbody>\n",
       "</table>\n",
       "</div>"
      ],
      "text/plain": [
       "               Children developmentally on track (%)\\n(2013-2021)* Unnamed: 2  \\\n",
       "Australia                                                       -         NaN   \n",
       "Brazil                                                          -         NaN   \n",
       "Chile                                                           -         NaN   \n",
       "China                                                           -         NaN   \n",
       "Egypt                                                           -         NaN   \n",
       "France                                                          -         NaN   \n",
       "Germany                                                         -         NaN   \n",
       "India                                                           -         NaN   \n",
       "Israel                                                          -         NaN   \n",
       "Japan                                                           -         NaN   \n",
       "Mexico                                                       80.1         NaN   \n",
       "Portugal                                                        -         NaN   \n",
       "Qatar                                                        83.9           x   \n",
       "Russia                                                          -         NaN   \n",
       "South Africa                                                    -         NaN   \n",
       "Spain                                                           -         NaN   \n",
       "United Kingdom                                                  -         NaN   \n",
       "United States                                                   -         NaN   \n",
       "\n",
       "               Unnamed: 3 Unnamed: 4 Unnamed: 5 Unnamed: 6           Source  \\\n",
       "Australia               -        NaN          -        NaN              NaN   \n",
       "Brazil                  -        NaN          -        NaN              NaN   \n",
       "Chile                   -        NaN          -        NaN              NaN   \n",
       "China                   -        NaN          -        NaN              NaN   \n",
       "Egypt                   -        NaN          -        NaN              NaN   \n",
       "France                  -        NaN          -        NaN              NaN   \n",
       "Germany                 -        NaN          -        NaN              NaN   \n",
       "India                   -        NaN          -        NaN              NaN   \n",
       "Israel                  -        NaN          -        NaN              NaN   \n",
       "Japan                   -        NaN          -        NaN              NaN   \n",
       "Mexico               81.3        NaN       78.9        NaN  ENSANUT 2018-19   \n",
       "Portugal                -        NaN          -        NaN              NaN   \n",
       "Qatar                82.6          x       85.4          x        MICS 2012   \n",
       "Russia                  -        NaN          -        NaN              NaN   \n",
       "South Africa            -        NaN          -        NaN              NaN   \n",
       "Spain                   -        NaN          -        NaN              NaN   \n",
       "United Kingdom          -        NaN          -        NaN              NaN   \n",
       "United States           -        NaN          -        NaN              NaN   \n",
       "\n",
       "                Unnamed: 8  \\\n",
       "Australia              NaN   \n",
       "Brazil                 NaN   \n",
       "Chile                  NaN   \n",
       "China                  NaN   \n",
       "Egypt                  NaN   \n",
       "France                 NaN   \n",
       "Germany                NaN   \n",
       "India                  NaN   \n",
       "Israel                 NaN   \n",
       "Japan                  NaN   \n",
       "Mexico                 NaN   \n",
       "Portugal               NaN   \n",
       "Qatar                  NaN   \n",
       "Russia                 NaN   \n",
       "South Africa           NaN   \n",
       "Spain                  NaN   \n",
       "United Kingdom         NaN   \n",
       "United States          NaN   \n",
       "\n",
       "               Children on track in development status measured by ECDI (%)\\n(2013-2021)*  \\\n",
       "Australia                                                     NaN                           \n",
       "Brazil                                                        NaN                           \n",
       "Chile                                                         NaN                           \n",
       "China                                                         NaN                           \n",
       "Egypt                                                         NaN                           \n",
       "France                                                        NaN                           \n",
       "Germany                                                       NaN                           \n",
       "India                                                         NaN                           \n",
       "Israel                                                        NaN                           \n",
       "Japan                                                         NaN                           \n",
       "Mexico                                                        NaN                           \n",
       "Portugal                                                      NaN                           \n",
       "Qatar                                                         NaN                           \n",
       "Russia                                                        NaN                           \n",
       "South Africa                                                  NaN                           \n",
       "Spain                                                         NaN                           \n",
       "United Kingdom                                                NaN                           \n",
       "United States                                                 NaN                           \n",
       "\n",
       "                Unnamed: 10 Unnamed: 11  Unnamed: 12 Unnamed: 13  Unnamed: 14  \\\n",
       "Australia               NaN         NaN          NaN         NaN          NaN   \n",
       "Brazil                  NaN         NaN          NaN         NaN          NaN   \n",
       "Chile                   NaN         NaN          NaN         NaN          NaN   \n",
       "China                   NaN         NaN          NaN         NaN          NaN   \n",
       "Egypt                   NaN         NaN          NaN         NaN          NaN   \n",
       "France                  NaN         NaN          NaN         NaN          NaN   \n",
       "Germany                 NaN         NaN          NaN         NaN          NaN   \n",
       "India                   NaN         NaN          NaN         NaN          NaN   \n",
       "Israel                  NaN         NaN          NaN         NaN          NaN   \n",
       "Japan                   NaN         NaN          NaN         NaN          NaN   \n",
       "Mexico                  NaN         NaN          NaN         NaN          NaN   \n",
       "Portugal                NaN         NaN          NaN         NaN          NaN   \n",
       "Qatar                   NaN         NaN          NaN         NaN          NaN   \n",
       "Russia                  NaN         NaN          NaN         NaN          NaN   \n",
       "South Africa            NaN         NaN          NaN         NaN          NaN   \n",
       "Spain                   NaN         NaN          NaN         NaN          NaN   \n",
       "United Kingdom          NaN         NaN          NaN         NaN          NaN   \n",
       "United States           NaN         NaN          NaN         NaN          NaN   \n",
       "\n",
       "               Source.1  \n",
       "Australia           NaN  \n",
       "Brazil              NaN  \n",
       "Chile               NaN  \n",
       "China               NaN  \n",
       "Egypt               NaN  \n",
       "France              NaN  \n",
       "Germany             NaN  \n",
       "India               NaN  \n",
       "Israel              NaN  \n",
       "Japan               NaN  \n",
       "Mexico              NaN  \n",
       "Portugal            NaN  \n",
       "Qatar               NaN  \n",
       "Russia              NaN  \n",
       "South Africa        NaN  \n",
       "Spain               NaN  \n",
       "United Kingdom      NaN  \n",
       "United States       NaN  "
      ]
     },
     "execution_count": 132,
     "metadata": {},
     "output_type": "execute_result"
    }
   ],
   "source": [
    "child_develop"
   ]
  },
  {
   "cell_type": "markdown",
   "id": "22099888",
   "metadata": {},
   "source": [
    "## Youth suicide rate"
   ]
  },
  {
   "cell_type": "code",
   "execution_count": 4,
   "id": "c27698ca",
   "metadata": {
    "ExecuteTime": {
     "end_time": "2023-03-11T10:55:44.233974Z",
     "start_time": "2023-03-11T10:55:43.328452Z"
    }
   },
   "outputs": [
    {
     "data": {
      "text/plain": [
       "{'Hong Kong'}"
      ]
     },
     "execution_count": 4,
     "metadata": {},
     "output_type": "execute_result"
    }
   ],
   "source": [
    "SCDI = pd.read_excel('dataset/raw_data/sustainability-10-01563-s001.xlsx',\n",
    "                     sheet_name='Table S3',header=3)\n",
    "SCDI = SCDI.rename(columns={'Unnamed: 0':'Country'})\n",
    "SCDI['Country'] = SCDI['Country'].replace({'Russian Federation':'Russia'})\n",
    "SCDI = SCDI.loc[~SCDI.Country.isna(),]\n",
    "SCDI = SCDI.loc[SCDI.Country.isin(region_list),]\n",
    "\n",
    "young_suicide = SCDI[['Country','Suicide rate, 15-29 year-olds, per 100000']]\n",
    "young_suicide_dist = pd.DataFrame(euclidean_distances(young_suicide[['Suicide rate, 15-29 year-olds, per 100000']]),\n",
    "                index=young_suicide['Country'],columns=young_suicide['Country'])\n",
    "young_suicide_dist.to_csv('rdm/checked/young_suicide_dist.csv')\n",
    "set(region_list)-set(SCDI.Country)"
   ]
  },
  {
   "cell_type": "markdown",
   "id": "d005db2b",
   "metadata": {},
   "source": [
    "# Interpersonal level"
   ]
  },
  {
   "cell_type": "markdown",
   "id": "163bcb8a",
   "metadata": {},
   "source": [
    "## Marriage rate   \n",
    "Missing data: India  \n",
    "Year: 2005  \n",
    "Data is missing in many countries, and 2005 is the year with the most complete data available for as many countries as possible."
   ]
  },
  {
   "cell_type": "code",
   "execution_count": 51,
   "id": "ab2bac0f",
   "metadata": {
    "ExecuteTime": {
     "end_time": "2023-03-07T03:29:22.003721Z",
     "start_time": "2023-03-07T03:29:21.967731Z"
    }
   },
   "outputs": [
    {
     "data": {
      "text/plain": [
       "{'India'}"
      ]
     },
     "execution_count": 51,
     "metadata": {},
     "output_type": "execute_result"
    }
   ],
   "source": [
    "marriage = pd.read_csv('dataset/OurData/marriage-rate-per-1000-inhabitants.csv',index_col = 0)\n",
    "regions = [i for i in region_list if i not in ['India']]\n",
    "marriage = marriage.loc[regions,]\n",
    "#marriage.dropna()\n",
    "#print('The max year: {}'.format(marriage.Year.max()))\n",
    "marriage = marriage[marriage.Year==2005]\n",
    "marriage = marriage.rename(columns = {'Crude marriage rate (per 1,000 inhabitants)':'marriage'})\n",
    "marriage_dist = pd.DataFrame(euclidean_distances(marriage[['marriage']]),\n",
    "                            index=marriage.index,columns=marriage.index)\n",
    "marriage_dist.to_csv('rdm/checked/marriage_dist.csv')\n",
    "set(region_list)-set(marriage.index)"
   ]
  },
  {
   "cell_type": "markdown",
   "id": "fb55de51",
   "metadata": {},
   "source": [
    "## Divorce rate   \n",
    "Missing data: Chile, India  \n",
    "Year: 2005  \n",
    "Data is missing in many countries, and 2005 is the year with the most complete data available for as many countries as possible."
   ]
  },
  {
   "cell_type": "code",
   "execution_count": 52,
   "id": "2130fe91",
   "metadata": {
    "ExecuteTime": {
     "end_time": "2023-03-07T03:30:54.034849Z",
     "start_time": "2023-03-07T03:30:54.017876Z"
    }
   },
   "outputs": [
    {
     "data": {
      "text/plain": [
       "{'Chile', 'India'}"
      ]
     },
     "execution_count": 52,
     "metadata": {},
     "output_type": "execute_result"
    }
   ],
   "source": [
    "divorce = pd.read_csv('dataset/OurData/divorces-per-1000-people.csv',index_col = 0)\n",
    "regions = [i for i in region_list if i not in ['India']]\n",
    "divorce = divorce.loc[regions,]\n",
    "#divorce.dropna()\n",
    "#print('The max year: {}'.format(divorce.Year.max()))\n",
    "divorce = divorce[divorce.Year==2005]\n",
    "divorce = divorce.rename(columns = {'Crude divorce rate (per 1,000 inhabitants)':'divorce'})\n",
    "divorce_dist = pd.DataFrame(euclidean_distances(divorce[['divorce']]),\n",
    "                            index=divorce.index,columns=divorce.index)\n",
    "divorce_dist.to_csv('rdm/checked/divorce_dist.csv')\n",
    "set(region_list)-set(divorce.index)"
   ]
  },
  {
   "cell_type": "markdown",
   "id": "e0db00bc",
   "metadata": {},
   "source": [
    "## Trust your family  \n",
    "Missing data: Israel, France   \n",
    "Year: mean(2010-2022)   \n",
    "The collection years vary among different countries, so we selected a year range that covers as many countries as possible. If a country or region has multiple data collection points within the selected year range, the data will be averaged."
   ]
  },
  {
   "cell_type": "code",
   "execution_count": 72,
   "id": "3fcca0a7",
   "metadata": {
    "ExecuteTime": {
     "end_time": "2023-03-07T06:02:59.592906Z",
     "start_time": "2023-03-07T06:02:59.569909Z"
    }
   },
   "outputs": [
    {
     "data": {
      "text/plain": [
       "{'France', 'Israel'}"
      ]
     },
     "execution_count": 72,
     "metadata": {},
     "output_type": "execute_result"
    }
   ],
   "source": [
    "trust_family_others = pd.read_csv('dataset/WVS/WVS_final_mean.csv',index_col = 0)\n",
    "trust_family_others = trust_family_others[['Year','How much do you trust your family (4-point scale)']]\n",
    "trust_family_others = fix_regions(trust_family_others)\n",
    "trust_family_others.dropna(inplace=True)\n",
    "regions = [i for i in region_list if i not in ['Portugal','Israel']]\n",
    "trust_family_others = trust_family_others.loc[regions,]\n",
    "#print('The max year: {}'.format(trust_family_others.Year.max()))\n",
    "\n",
    "trust_family_others = trust_family_others[(trust_family_others.Year>2009)&\\\n",
    "                                         (trust_family_others.Year<2023)] # mean of 2010~2020\n",
    "\n",
    "trust_family_others['Country'] = trust_family_others.index\n",
    "trust_family_others = trust_family_others.rename(columns = {'How much do you trust your family (4-point scale)':'Trust'})\n",
    "#len(trust_family_others.index.unique())\n",
    "trust_family_others = pd.DataFrame(trust_family_others.groupby('Country').Trust.mean())\n",
    "\n",
    "# Portugal: 2014\n",
    "trust_family_portugal = pd.read_csv('dataset/WVS/Portugal_final_mean.csv',index_col = 0)\n",
    "trust_family_portugal = trust_family_portugal.rename(columns = {'Trust: Your family (B)':'Trust'})\n",
    "trust_family_portugal = trust_family_portugal[['Trust']]\n",
    "trust_family = pd.concat([trust_family_others,trust_family_portugal])\n",
    "\n",
    "trust_family_dist = pd.DataFrame(euclidean_distances(trust_family[['Trust']]),\n",
    "                            index=trust_family.index,columns=trust_family.index)\n",
    "trust_family_dist.to_csv('rdm/checked/trust_family_dist.csv')\n",
    "set(region_list)-set(trust_family.index)"
   ]
  },
  {
   "cell_type": "markdown",
   "id": "7b185e9b",
   "metadata": {},
   "source": [
    "## Trust your neighborhood  \n",
    "Missing data: Israel, France   \n",
    "Year: mean(2010-2022)   \n",
    "The collection years vary among different countries, so we selected a year range that covers as many countries as possible. If a country or region has multiple data collection points within the selected year range, the data will be averaged."
   ]
  },
  {
   "cell_type": "code",
   "execution_count": 77,
   "id": "70d6ec75",
   "metadata": {
    "ExecuteTime": {
     "end_time": "2023-03-07T06:25:59.311420Z",
     "start_time": "2023-03-07T06:25:59.282021Z"
    }
   },
   "outputs": [
    {
     "data": {
      "text/plain": [
       "{'France', 'Israel'}"
      ]
     },
     "execution_count": 77,
     "metadata": {},
     "output_type": "execute_result"
    }
   ],
   "source": [
    "trust_neighborhood_others = pd.read_csv('dataset/WVS/WVS_final_mean.csv',index_col = 0)\n",
    "trust_neighborhood_others = trust_neighborhood_others[['Year','Trust: Your neighborhood (B)']]\n",
    "trust_neighborhood_others = fix_regions(trust_neighborhood_others)\n",
    "trust_neighborhood_others.dropna(inplace=True)\n",
    "\n",
    "regions = [i for i in region_list if i not in ['Portugal','Israel']]\n",
    "trust_neighborhood_others = trust_neighborhood_others.loc[regions,]\n",
    "#print('The max year: {}'.format(trust_neighborhood_others.Year.max()))\n",
    "\n",
    "trust_neighborhood_others = trust_neighborhood_others[(trust_neighborhood_others.Year>2009)&\\\n",
    "                                         (trust_neighborhood_others.Year<2023)] # mean of 2010~2022\n",
    "trust_neighborhood_others['Country'] = trust_neighborhood_others.index\n",
    "trust_neighborhood_others = trust_neighborhood_others.rename(columns = {'Trust: Your neighborhood (B)':'Trust'})\n",
    "trust_neighborhood_others = pd.DataFrame(trust_neighborhood_others.groupby('Country').Trust.mean())\n",
    "\n",
    "# Portugal: 2014\n",
    "trust_neighborhood_portugal = pd.read_csv('dataset/WVS/Portugal_final_mean.csv',index_col = 0)\n",
    "trust_neighborhood_portugal = trust_neighborhood_portugal.rename(columns = {'Trust: Your neighborhood (B)':'Trust'})\n",
    "trust_neighborhood_portugal = trust_neighborhood_portugal[['Trust']]\n",
    "trust_neighborhood = pd.concat([trust_neighborhood_others,trust_neighborhood_portugal])\n",
    "\n",
    "trust_neighborhood_dist = pd.DataFrame(euclidean_distances(trust_neighborhood[['Trust']]),\n",
    "                            index=trust_neighborhood.index,columns=trust_neighborhood.index)\n",
    "trust_neighborhood_dist.to_csv('rdm/checked/trust_neighborhood_dist.csv')\n",
    "set(region_list)-set(trust_neighborhood.index)"
   ]
  },
  {
   "cell_type": "markdown",
   "id": "067d71b8",
   "metadata": {},
   "source": [
    "## Social support \n",
    "Missing data: Qatar     \n",
    "Year: 2021"
   ]
  },
  {
   "cell_type": "code",
   "execution_count": 94,
   "id": "c4195b49",
   "metadata": {
    "ExecuteTime": {
     "end_time": "2023-03-07T07:42:45.305763Z",
     "start_time": "2023-03-07T07:42:45.218757Z"
    }
   },
   "outputs": [
    {
     "data": {
      "text/plain": [
       "{'Qatar'}"
      ]
     },
     "execution_count": 94,
     "metadata": {},
     "output_type": "execute_result"
    }
   ],
   "source": [
    "social_support = pd.read_excel('dataset/raw_data/DataForTable2.1.xls',\n",
    "                                   usecols=['Country name','year','Social support'])\n",
    "social_support.index = social_support['Country name']\n",
    "social_support = fix_regions(social_support)\n",
    "\n",
    "social_support = social_support.dropna()\n",
    "social_support = social_support[social_support.year==2021]\n",
    "social_support_dist = pd.DataFrame(\\\n",
    "                euclidean_distances(social_support[['Social support']]),\n",
    "                index=social_support.index,columns=social_support.index)\n",
    "social_support_dist.to_csv('rdm/checked/social_support_dist.csv')\n",
    "set(region_list)-set(social_support.index)"
   ]
  },
  {
   "cell_type": "markdown",
   "id": "feb5831d",
   "metadata": {},
   "source": [
    "## Intergroup differentiation\n",
    "Missing data: no     \n",
    "Year: 2020"
   ]
  },
  {
   "cell_type": "code",
   "execution_count": 103,
   "id": "909b6c5d",
   "metadata": {
    "ExecuteTime": {
     "end_time": "2023-03-07T08:29:19.862217Z",
     "start_time": "2023-03-07T08:29:19.471218Z"
    }
   },
   "outputs": [
    {
     "data": {
      "text/plain": [
       "set()"
      ]
     },
     "execution_count": 103,
     "metadata": {},
     "output_type": "execute_result"
    }
   ],
   "source": [
    "ECD = pd.read_csv('dataset/ECD/ECD Data v3.csv',index_col=0)\n",
    "prejudice = ECD.loc[ECD['Country'].isin(region_list),['Country']+['prejudice']]\n",
    "prejudice.drop_duplicates(inplace=True) \n",
    "prejudice_dist = pd.DataFrame(euclidean_distances(prejudice[['prejudice']]),\n",
    "                            index=prejudice['Country'],columns=prejudice['Country'])\n",
    "prejudice_dist.to_csv('rdm/checked/prejudice_ECD_dist.csv')\n",
    "set(region_list)-set(prejudice['Country'])"
   ]
  },
  {
   "cell_type": "markdown",
   "id": "2e45f691",
   "metadata": {
    "ExecuteTime": {
     "end_time": "2023-03-06T05:32:12.136004Z",
     "start_time": "2023-03-06T05:32:12.130971Z"
    }
   },
   "source": [
    "# Societal level   \n"
   ]
  },
  {
   "cell_type": "markdown",
   "id": "af84bc08",
   "metadata": {},
   "source": [
    "## HDI\n",
    "Missing data: no  \n",
    "Year: 2021"
   ]
  },
  {
   "cell_type": "code",
   "execution_count": 5,
   "id": "858d7c6f",
   "metadata": {
    "ExecuteTime": {
     "end_time": "2023-03-07T02:17:41.082146Z",
     "start_time": "2023-03-07T02:17:40.948839Z"
    }
   },
   "outputs": [
    {
     "name": "stdout",
     "output_type": "stream",
     "text": [
      "Missing data: set()\n"
     ]
    }
   ],
   "source": [
    "HDI = pd.read_excel('dataset/raw_data/HDR21-22_Statistical_Annex_HDI_Table.xlsx',\n",
    "                    header=4,index_col = 0)\n",
    "HDI = HDI.rename(columns={'Unnamed: 1':'Country'})\n",
    "\n",
    "# HDI.loc[HDI['Country']=='Hong Kong, China (SAR)','Country'] = 'Hong Kong'\n",
    "# HDI.loc[HDI['Country']=='Russian Federation','Country'] = 'Russia'\n",
    "\n",
    "HDI['Country'] = HDI['Country'].replace({'Hong Kong, China (SAR)':'Hong Kong',\n",
    "                                        'Russian Federation':'Russia'})\n",
    "HDI = HDI.loc[HDI['Country'].isin(region_list),]\n",
    "missing_regions = set(region_list) - set(HDI['Country'])\n",
    "print(f'Missing data: {missing_regions}')\n",
    "\n",
    "\n",
    "HDI_dist = pd.DataFrame(euclidean_distances(HDI[['Human Development Index (HDI) ']]),\n",
    "                            index=HDI['Country'],columns=HDI['Country'])\n",
    "HDI_dist.to_csv('rdm/checked/HDI_dist.csv')"
   ]
  },
  {
   "cell_type": "markdown",
   "id": "f269bb75",
   "metadata": {},
   "source": [
    "## Gender Inequality Index\n",
    "Missing data: Hong Kong   \n",
    "Year: 2021"
   ]
  },
  {
   "cell_type": "code",
   "execution_count": 67,
   "id": "d5227bde",
   "metadata": {
    "ExecuteTime": {
     "end_time": "2023-03-06T05:57:04.064650Z",
     "start_time": "2023-03-06T05:57:03.990645Z"
    }
   },
   "outputs": [
    {
     "name": "stdout",
     "output_type": "stream",
     "text": [
      "Missing data: {'Hong Kong'}\n"
     ]
    }
   ],
   "source": [
    "Gender_equal = pd.read_excel('dataset/raw_data/HDR21-22_Statistical_Annex_GII_Table.xlsx',\n",
    "                    header=3,index_col = 0)\n",
    "Gender_equal = Gender_equal.rename(columns={'Unnamed: 1':'Country'})\n",
    "\n",
    "\n",
    "Gender_equal['Country'] = Gender_equal['Country'].replace({'Hong Kong, China (SAR)':'Hong Kong',\n",
    "                                        'Russian Federation':'Russia'})\n",
    "regions = [i for i in region_list if i not in ['Hong Kong']]\n",
    "Gender_equal = Gender_equal.loc[Gender_equal['Country'].isin(regions),]\n",
    "missing_regions = set(region_list) - set(Gender_equal['Country'])\n",
    "print(f'Missing data: {missing_regions}')\n",
    "\n",
    "\n",
    "Gender_equal_dist = pd.DataFrame(euclidean_distances(Gender_equal[['Gender Inequality Index']]),\n",
    "                            index=Gender_equal['Country'],columns=Gender_equal['Country'])\n",
    "Gender_equal_dist.to_csv('rdm/checked/Gender_equal_dist.csv')"
   ]
  },
  {
   "cell_type": "markdown",
   "id": "a95cc214",
   "metadata": {
    "ExecuteTime": {
     "end_time": "2023-03-06T05:55:38.152143Z",
     "start_time": "2023-03-06T05:55:38.129124Z"
    }
   },
   "source": [
    "## Democracy  \n",
    "Missing data: no   \n",
    "Year: 2019"
   ]
  },
  {
   "cell_type": "code",
   "execution_count": 26,
   "id": "4a371ada",
   "metadata": {
    "ExecuteTime": {
     "end_time": "2023-03-07T02:32:48.083440Z",
     "start_time": "2023-03-07T02:32:47.695642Z"
    }
   },
   "outputs": [
    {
     "data": {
      "text/plain": [
       "set()"
      ]
     },
     "execution_count": 26,
     "metadata": {},
     "output_type": "execute_result"
    }
   ],
   "source": [
    "ECD = pd.read_csv('dataset/ECD/ECD Data v3.csv',index_col=0)\n",
    "democracy = ECD.loc[ECD['Country'].isin(region_list),['Country']+['democracy']]\n",
    "democracy.drop_duplicates(inplace=True) \n",
    "democracy = democracy.dropna()\n",
    "democracy_dist = pd.DataFrame(euclidean_distances(democracy[['democracy']]),\n",
    "                            index=democracy['Country'],columns=democracy['Country'])\n",
    "\n",
    "democracy_dist.to_csv('rdm/checked/democracy_dist.csv')\n",
    "set(region_list)-set(democracy['Country'])"
   ]
  },
  {
   "cell_type": "markdown",
   "id": "57192b4a",
   "metadata": {},
   "source": [
    "## Corruption  \n",
    "Missing data: no   \n",
    "Year: 2022"
   ]
  },
  {
   "cell_type": "code",
   "execution_count": 29,
   "id": "3546f05a",
   "metadata": {
    "ExecuteTime": {
     "end_time": "2023-03-07T02:54:21.895122Z",
     "start_time": "2023-03-07T02:54:21.871120Z"
    }
   },
   "outputs": [
    {
     "data": {
      "text/plain": [
       "set()"
      ]
     },
     "execution_count": 29,
     "metadata": {},
     "output_type": "execute_result"
    }
   ],
   "source": [
    "corruption = pd.read_csv('dataset/raw_data/corruption perceptions index.csv',index_col=0)\n",
    "\n",
    "corruption_dist = pd.DataFrame(euclidean_distances(corruption[['CPI']]),\n",
    "                            index=corruption.index,columns=corruption.index)\n",
    "\n",
    "corruption_dist.to_csv('rdm/checked/corruption_dist.csv')\n",
    "set(region_list)-set(corruption.index)"
   ]
  },
  {
   "cell_type": "markdown",
   "id": "d66fba37",
   "metadata": {},
   "source": [
    "## Confidence in national government\n",
    "Missing data: China, Qatar  \n",
    "Year: 2021"
   ]
  },
  {
   "cell_type": "code",
   "execution_count": 6,
   "id": "a4a2e52b",
   "metadata": {
    "ExecuteTime": {
     "end_time": "2023-03-11T10:58:30.881895Z",
     "start_time": "2023-03-11T10:58:30.796366Z"
    }
   },
   "outputs": [
    {
     "data": {
      "text/plain": [
       "{'China', 'Qatar'}"
      ]
     },
     "execution_count": 6,
     "metadata": {},
     "output_type": "execute_result"
    }
   ],
   "source": [
    "Institutional_trust = pd.read_excel('dataset/raw_data/DataForTable2.1.xls',\n",
    "                                   usecols=['Country name','year','Confidence in national government'])\n",
    "Institutional_trust.index = Institutional_trust['Country name']\n",
    "Institutional_trust = fix_regions(Institutional_trust)\n",
    "\n",
    "Institutional_trust = Institutional_trust.dropna()\n",
    "Institutional_trust = Institutional_trust[Institutional_trust.year==2021]\n",
    "Institutional_trust_dist = pd.DataFrame(\\\n",
    "                euclidean_distances(Institutional_trust[['Confidence in national government']]),\n",
    "                index=Institutional_trust.index,columns=Institutional_trust.index)\n",
    "Institutional_trust_dist.to_csv('rdm/checked/Institutional_trust_dist.csv')\n",
    "set(region_list)-set(Institutional_trust.index)"
   ]
  },
  {
   "cell_type": "markdown",
   "id": "2f1d3f7d",
   "metadata": {},
   "source": [
    "## SCDI  \n",
    "Missing data: Hong Kong  \n",
    "Year: 2015"
   ]
  },
  {
   "cell_type": "code",
   "execution_count": 5,
   "id": "bb8f8c47",
   "metadata": {
    "ExecuteTime": {
     "end_time": "2023-03-11T10:56:11.405313Z",
     "start_time": "2023-03-11T10:56:11.194866Z"
    }
   },
   "outputs": [
    {
     "data": {
      "text/plain": [
       "{'Hong Kong'}"
      ]
     },
     "execution_count": 5,
     "metadata": {},
     "output_type": "execute_result"
    }
   ],
   "source": [
    "SCDI = pd.read_excel('dataset/raw_data/sustainability-10-01563-s001.xlsx',\n",
    "                     sheet_name='Table S3',header=3)\n",
    "SCDI = SCDI.rename(columns={'Unnamed: 0':'Country'})\n",
    "SCDI['Country'] = SCDI['Country'].replace({'Russian Federation':'Russia'})\n",
    "SCDI = SCDI.loc[~SCDI.Country.isna(),]\n",
    "SCDI = SCDI.loc[SCDI.Country.isin(region_list),]\n",
    "\n",
    "Sustained_CDI = SCDI[['Country','SCDI score']]\n",
    "Sustained_CDI_dist = pd.DataFrame(euclidean_distances(Sustained_CDI[['SCDI score']]),\n",
    "                index=Sustained_CDI['Country'],columns=Sustained_CDI['Country'])\n",
    "Sustained_CDI_dist.to_csv('rdm/checked/Sustained_CDI_dist.csv')\n",
    "set(region_list)-set(SCDI.Country)"
   ]
  }
 ],
 "metadata": {
  "kernelspec": {
   "display_name": "base",
   "language": "python",
   "name": "python3"
  },
  "language_info": {
   "codemirror_mode": {
    "name": "ipython",
    "version": 3
   },
   "file_extension": ".py",
   "mimetype": "text/x-python",
   "name": "python",
   "nbconvert_exporter": "python",
   "pygments_lexer": "ipython3",
   "version": "3.9.12"
  },
  "latex_envs": {
   "LaTeX_envs_menu_present": true,
   "autoclose": false,
   "autocomplete": true,
   "bibliofile": "biblio.bib",
   "cite_by": "apalike",
   "current_citInitial": 1,
   "eqLabelWithNumbers": true,
   "eqNumInitial": 1,
   "hotkeys": {
    "equation": "Ctrl-E",
    "itemize": "Ctrl-I"
   },
   "labels_anchors": false,
   "latex_user_defs": false,
   "report_style_numbering": false,
   "user_envs_cfg": false
  },
  "toc": {
   "base_numbering": 1,
   "nav_menu": {},
   "number_sections": true,
   "sideBar": false,
   "skip_h1_title": false,
   "title_cell": "Table of Contents",
   "title_sidebar": "Contents",
   "toc_cell": false,
   "toc_position": {
    "height": "551.984px",
    "left": "1260px",
    "top": "278.984px",
    "width": "565px"
   },
   "toc_section_display": true,
   "toc_window_display": true
  }
 },
 "nbformat": 4,
 "nbformat_minor": 5
}
