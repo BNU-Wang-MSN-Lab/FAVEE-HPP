{
 "cells": [
  {
   "cell_type": "markdown",
   "id": "7fbf5950",
   "metadata": {
    "toc": true
   },
   "source": [
    "<h1>Table of Contents<span class=\"tocSkip\"></span></h1>\n",
    "<div class=\"toc\"><ul class=\"toc-item\"><li><span><a href=\"#Predictor-variable-rdm\" data-toc-modified-id=\"Predictor-variable-rdm-1\"><span class=\"toc-item-num\">1&nbsp;&nbsp;</span>Predictor variable rdm</a></span></li><li><span><a href=\"#Full-feature-model\" data-toc-modified-id=\"Full-feature-model-2\"><span class=\"toc-item-num\">2&nbsp;&nbsp;</span>Full feature model</a></span><ul class=\"toc-item\"><li><span><a href=\"#regression-coefficient\" data-toc-modified-id=\"regression-coefficient-2.1\"><span class=\"toc-item-num\">2.1&nbsp;&nbsp;</span>regression coefficient</a></span></li><li><span><a href=\"#permutation\" data-toc-modified-id=\"permutation-2.2\"><span class=\"toc-item-num\">2.2&nbsp;&nbsp;</span>permutation</a></span></li></ul></li><li><span><a href=\"#Dimensional-model\" data-toc-modified-id=\"Dimensional-model-3\"><span class=\"toc-item-num\">3&nbsp;&nbsp;</span>Dimensional model</a></span><ul class=\"toc-item\"><li><span><a href=\"#regression-coefficient\" data-toc-modified-id=\"regression-coefficient-3.1\"><span class=\"toc-item-num\">3.1&nbsp;&nbsp;</span>regression coefficient</a></span></li><li><span><a href=\"#permutation\" data-toc-modified-id=\"permutation-3.2\"><span class=\"toc-item-num\">3.2&nbsp;&nbsp;</span>permutation</a></span></li></ul></li><li><span><a href=\"#Categorical-model\" data-toc-modified-id=\"Categorical-model-4\"><span class=\"toc-item-num\">4&nbsp;&nbsp;</span>Categorical model</a></span><ul class=\"toc-item\"><li><span><a href=\"#regression-coefficient\" data-toc-modified-id=\"regression-coefficient-4.1\"><span class=\"toc-item-num\">4.1&nbsp;&nbsp;</span>regression coefficient</a></span></li><li><span><a href=\"#permutation\" data-toc-modified-id=\"permutation-4.2\"><span class=\"toc-item-num\">4.2&nbsp;&nbsp;</span>permutation</a></span></li></ul></li><li><span><a href=\"#Dimensional:-single-dimension\" data-toc-modified-id=\"Dimensional:-single-dimension-5\"><span class=\"toc-item-num\">5&nbsp;&nbsp;</span>Dimensional: single dimension</a></span><ul class=\"toc-item\"><li><span><a href=\"#Formality\" data-toc-modified-id=\"Formality-5.1\"><span class=\"toc-item-num\">5.1&nbsp;&nbsp;</span>Formality</a></span></li><li><span><a href=\"#Activeness\" data-toc-modified-id=\"Activeness-5.2\"><span class=\"toc-item-num\">5.2&nbsp;&nbsp;</span>Activeness</a></span></li><li><span><a href=\"#Valence\" data-toc-modified-id=\"Valence-5.3\"><span class=\"toc-item-num\">5.3&nbsp;&nbsp;</span>Valence</a></span></li><li><span><a href=\"#Exchange\" data-toc-modified-id=\"Exchange-5.4\"><span class=\"toc-item-num\">5.4&nbsp;&nbsp;</span>Exchange</a></span></li><li><span><a href=\"#Equality\" data-toc-modified-id=\"Equality-5.5\"><span class=\"toc-item-num\">5.5&nbsp;&nbsp;</span>Equality</a></span></li></ul></li><li><span><a href=\"#Categorical:-single-category\" data-toc-modified-id=\"Categorical:-single-category-6\"><span class=\"toc-item-num\">6&nbsp;&nbsp;</span>Categorical: single category</a></span><ul class=\"toc-item\"><li><span><a href=\"#Hostile\" data-toc-modified-id=\"Hostile-6.1\"><span class=\"toc-item-num\">6.1&nbsp;&nbsp;</span>Hostile</a></span></li><li><span><a href=\"#Private\" data-toc-modified-id=\"Private-6.2\"><span class=\"toc-item-num\">6.2&nbsp;&nbsp;</span>Private</a></span></li><li><span><a href=\"#Public\" data-toc-modified-id=\"Public-6.3\"><span class=\"toc-item-num\">6.3&nbsp;&nbsp;</span>Public</a></span></li></ul></li><li><span><a href=\"#Plot-RSA-regression-results-in-Supplementary\" data-toc-modified-id=\"Plot-RSA-regression-results-in-Supplementary-7\"><span class=\"toc-item-num\">7&nbsp;&nbsp;</span>Plot RSA regression results in Supplementary</a></span></li></ul></div>"
   ]
  },
  {
   "cell_type": "code",
   "execution_count": 3,
   "id": "cf153305",
   "metadata": {
    "ExecuteTime": {
     "end_time": "2022-12-22T08:50:57.136087Z",
     "start_time": "2022-12-22T08:50:54.240Z"
    }
   },
   "outputs": [],
   "source": [
    "options(warn=-1)\n",
    "library(openxlsx)\n",
    "library(tidyverse)\n",
    "library(reshape)\n",
    "\n",
    "library(ggplot2)\n",
    "library(RColorBrewer)\n",
    "library(corrplot)\n",
    "library(corrr)"
   ]
  },
  {
   "cell_type": "code",
   "execution_count": 2,
   "id": "951274ff",
   "metadata": {
    "ExecuteTime": {
     "end_time": "2022-12-21T09:38:54.706304Z",
     "start_time": "2022-12-21T09:38:53.583Z"
    }
   },
   "outputs": [],
   "source": [
    "regions_order = c(\n",
    "    # English\n",
    "    'USA','UK','Australia','South Africa',\n",
    "    # Germany\n",
    "    'Germany',\n",
    "    # Japanese\n",
    "    'Japan',\n",
    "    # Hebrew\n",
    "    'Israel',\n",
    "    # Chinese\n",
    "    'CHN','HK(region)',\n",
    "\n",
    "    # French\n",
    "    'France',\n",
    "    # Spanish\n",
    "    'Spain','Mexico','Chile',\n",
    "    # Portuguese\n",
    "    'Portugal','Brazil',\n",
    "    # Russian\n",
    "    'Russia',\n",
    "    # Arabic\n",
    "    'Egypt','Qatar',\n",
    "    'India')\n",
    "\n",
    "fix_region = function(df){\n",
    "    regions = rownames(df)\n",
    "    regions = str_replace(regions,'United States','USA')\n",
    "    regions = str_replace(regions,'United Kingdom','UK')\n",
    "    regions = str_replace(regions,'China','CHN')\n",
    "    regions = str_replace(regions,'South_africa','South Africa')\n",
    "    regions = str_replace(regions,'Spain','Spanish')\n",
    "    regions = str_replace(regions,'HK','HK(region)')\n",
    "    regions = gsub('Hong Kong SAR, CHN','HK(region)',regions,fixed=TRUE)\n",
    "    regions = str_replace(regions,'Hong Kong','HK(region)')\n",
    "    regions = str_replace(regions,'Spanish','Spain')\n",
    "    regions = str_replace(regions,'Russian Federation','Russia')\n",
    "    regions = str_replace(regions,'Russian','Russia')\n",
    "    regions = str_replace(regions,'Egypt, Arab Rep.','Egypt')\n",
    "    \n",
    "    rownames(df) = regions\n",
    "    colnames(df) = regions\n",
    "    \n",
    "    df = df[regions_order,regions_order]\n",
    "    return(df)\n",
    "}\n",
    "\n",
    "lowerTriangle <- function(m){\n",
    "  return(m[lower.tri(m,diag = FALSE)])\n",
    "}"
   ]
  },
  {
   "cell_type": "markdown",
   "id": "704eb88b",
   "metadata": {},
   "source": [
    "# Predictor variable rdm"
   ]
  },
  {
   "cell_type": "code",
   "execution_count": 3,
   "id": "dbbd3b5b",
   "metadata": {
    "ExecuteTime": {
     "end_time": "2022-12-21T09:38:54.852336Z",
     "start_time": "2022-12-21T09:38:53.663Z"
    }
   },
   "outputs": [],
   "source": [
    "# Language\n",
    "Lexical = read.csv('../Cultural_RDM/rdm/Lexical_dist.csv', row.names=1, encoding = \"UTF-8\",check.names = FALSE)\n",
    "Lexical = fix_region(Lexical)\n",
    "\n",
    "# Personality\n",
    "Agreeableness = read.csv('../Cultural_RDM/rdm/Agreeableness_dist.csv',row.names=1, encoding = \"UTF-8\",check.names = FALSE)\n",
    "Agreeableness = fix_region(Agreeableness)\n",
    "Conscientiousness = read.csv('../Cultural_RDM/rdm/Conscientiousness_dist.csv',row.names=1, encoding = \"UTF-8\",check.names = FALSE)\n",
    "Conscientiousness = fix_region(Conscientiousness)\n",
    "Extraversion = read.csv('../Cultural_RDM/rdm/Extraversion_dist.csv',row.names=1, encoding = \"UTF-8\",check.names = FALSE)\n",
    "Extraversion = fix_region(Extraversion)\n",
    "Neuroticism = read.csv('../Cultural_RDM/rdm/Neuroticism_dist.csv',row.names=1, encoding = \"UTF-8\",check.names = FALSE)\n",
    "Neuroticism = fix_region(Neuroticism)\n",
    "Openness = read.csv('../Cultural_RDM/rdm/Openness_dist.csv',row.names=1, encoding = \"UTF-8\",check.names = FALSE)\n",
    "Openness = fix_region(Openness)\n",
    "personality_all = read.csv('../Cultural_RDM/rdm/personality_all_dist.csv', row.names=1, encoding = \"UTF-8\",check.names = FALSE)\n",
    "personality_all = fix_region(personality_all)\n",
    "\n",
    "# Socioecological\n",
    "Climatic_demands = read.csv('../Cultural_RDM/rdm/Climatic_demands_dist.csv', row.names=1, encoding = \"UTF-8\",check.names = FALSE)\n",
    "Climatic_demands = fix_region(Climatic_demands)\n",
    "Coordinate = read.csv('../Cultural_RDM/rdm/Coordinate_dist.csv', row.names=1, encoding = \"UTF-8\",check.names = FALSE)\n",
    "Coordinate = fix_region(Coordinate)\n",
    "subsistence = read.csv('../Cultural_RDM/rdm/subsistence_dist.csv', row.names=1, encoding = \"UTF-8\",check.names = FALSE)\n",
    "subsistence = fix_region(subsistence)\n",
    "disease = read.csv('../Cultural_RDM/rdm/disease_dist.csv', row.names=1, encoding = \"UTF-8\",check.names = FALSE)\n",
    "disease = fix_region(disease)\n",
    "\n",
    "# Modernization\n",
    "urban = read.csv('../Cultural_RDM/rdm/urban_rdm.csv', row.names=1, encoding = \"UTF-8\")\n",
    "urban = fix_region(urban)\n",
    "wealth = read.csv('../Cultural_RDM/rdm/wealth_rdm.csv', row.names=1, encoding = \"UTF-8\")\n",
    "wealth = fix_region(wealth)\n",
    "edu = read.csv('../Cultural_RDM/rdm/edu_rdm.csv', row.names=1, encoding = \"UTF-8\")\n",
    "edu = fix_region(edu)\n",
    "modern = read.csv('../Cultural_RDM/rdm/modern_dist.csv', row.names=1, encoding = \"UTF-8\",check.names = FALSE)\n",
    "modern = fix_region(modern)\n",
    "\n",
    "# Cultural value\n",
    "## Hofstede 6D\n",
    "power = read.csv('../Cultural_RDM/rdm/power_rdm.csv', row.names=1, encoding = \"UTF-8\")\n",
    "power = fix_region(power)\n",
    "Individualism = read.csv('../Cultural_RDM/rdm/Individualism_rdm.csv', row.names=1, encoding = \"UTF-8\",check.names = FALSE)\n",
    "Individualism = fix_region(Individualism)\n",
    "Masculine = read.csv('../Cultural_RDM/rdm/Masculine_rdm.csv', row.names=1, encoding = \"UTF-8\",check.names = FALSE)\n",
    "Masculine = fix_region(Masculine)\n",
    "Uncertainty_Avoidance = read.csv('../Cultural_RDM/rdm/Uncertainty_Avoidance_rdm.csv', row.names=1, encoding = \"UTF-8\",check.names = FALSE)\n",
    "Uncertainty_Avoidance = fix_region(Uncertainty_Avoidance)\n",
    "Long_Term_Orientation = read.csv('../Cultural_RDM/rdm/Long_Term_Orientation_rdm.csv', row.names=1, encoding = \"UTF-8\",check.names = FALSE)\n",
    "Long_Term_Orientation = fix_region(Long_Term_Orientation)\n",
    "Indulgence = read.csv('../Cultural_RDM/rdm/Indulgence_rdm.csv', row.names=1, encoding = \"UTF-8\",check.names = FALSE)\n",
    "Indulgence = fix_region(Indulgence)\n",
    "Hofstede_6D = read.csv('../Cultural_RDM/rdm/Hofstede_6D_rdm.csv', row.names=1, encoding = \"UTF-8\",check.names = FALSE)\n",
    "Hofstede_6D = fix_region(Hofstede_6D)\n",
    "\n",
    "# Gene\n",
    "new_gendist_weighted = read.csv('../Cultural_RDM/rdm/new_gendist_weighted_dist.csv', row.names=1, encoding = \"UTF-8\",check.names = FALSE)\n",
    "new_gendist_weighted = fix_region(new_gendist_weighted)\n",
    "\n",
    "# Religion\n",
    "reldist_weighted_WCD_form = read.csv('../Cultural_RDM/rdm/reldist_weighted_WCD_form_dist.csv', row.names=1, encoding = \"UTF-8\",check.names = FALSE)\n",
    "reldist_weighted_WCD_form = fix_region(reldist_weighted_WCD_form)\n",
    "religion_per = read.csv('../Cultural_RDM/rdm/religion_percentage_rdm.csv', row.names=1, encoding = \"UTF-8\",check.names = FALSE)\n",
    "religion_per = fix_region(religion_per)\n",
    "\n",
    "# Political\n",
    "idealogy = read.csv('../Cultural_RDM/rdm/political_idealogy_rdm_range.csv', row.names=1, encoding = \"UTF-8\",check.names = FALSE)\n",
    "idealogy = fix_region(idealogy)"
   ]
  },
  {
   "cell_type": "code",
   "execution_count": 4,
   "id": "b8a47473",
   "metadata": {
    "ExecuteTime": {
     "end_time": "2022-12-21T09:38:54.892007Z",
     "start_time": "2022-12-21T09:38:53.664Z"
    }
   },
   "outputs": [],
   "source": [
    "# Demographics\n",
    "gender = read.csv('../DataCleanPCA/output_data/rdm/gender_rdm.csv', row.names=1, encoding = \"UTF-8\",check.names = FALSE)\n",
    "gender = fix_region(gender)\n",
    "age = read.csv('../DataCleanPCA/output_data/rdm/age_rdm.csv', row.names=1, encoding = \"UTF-8\",check.names = FALSE)\n",
    "age = fix_region(age)\n",
    "education_ind = read.csv('../DataCleanPCA/output_data/rdm/education_ind_rdm.csv', row.names=1, encoding = \"UTF-8\",check.names = FALSE)\n",
    "education_ind = fix_region(education_ind)\n",
    "demographics = read.csv('../DataCleanPCA/output_data/rdm/demographics_rdm.csv', row.names=1, encoding = \"UTF-8\",check.names = FALSE)\n",
    "demographics = fix_region(demographics)\n",
    "\n",
    "# check size\n",
    "check_size = read.csv('../DataCleanPCA/output_data/rdm/check_size_rdm.csv', row.names=1, encoding = \"UTF-8\",check.names = FALSE)\n",
    "check_size = fix_region(check_size)"
   ]
  },
  {
   "cell_type": "code",
   "execution_count": 5,
   "id": "1b62a8c1",
   "metadata": {
    "ExecuteTime": {
     "end_time": "2022-12-21T09:38:54.920011Z",
     "start_time": "2022-12-21T09:38:53.665Z"
    }
   },
   "outputs": [],
   "source": [
    "# get rdms of predicators \n",
    "variables_names <- c('Lexical',# Language\n",
    "                     'personality_all',# Personality\n",
    "                     'Coordinate','Climatic_demands','subsistence','disease',# Socioecological\n",
    "                     #'modern',# Modernization\n",
    "                     'urban','wealth','edu',\n",
    "                     'Hofstede_6D',# Cultural value\n",
    "                     'new_gendist_weighted',# Gene\n",
    "                     'religion_per',#'reldist_weighted_WCD_form',# Religion\n",
    "                     'idealogy',# Political\n",
    "                     'demographics'# Demographics\n",
    "                     #'check_size'\n",
    "                    )\n",
    "\n",
    "variables <- list()\n",
    "for(i in c(1:length(variables_names))){\n",
    "  variables[[i]] = get(variables_names[i])\n",
    "}"
   ]
  },
  {
   "cell_type": "code",
   "execution_count": 6,
   "id": "a8426677",
   "metadata": {
    "ExecuteTime": {
     "end_time": "2022-12-21T09:38:54.937016Z",
     "start_time": "2022-12-21T09:38:53.672Z"
    }
   },
   "outputs": [],
   "source": [
    "permutation_result = function(culture_regress_standard_model){\n",
    "    # create permutation matrix\n",
    "    nperm <- 10000\n",
    "    permf <- matrix(NA,nperm)\n",
    "    permr2 <- matrix(NA,nperm)\n",
    "    # contain beta_sub\n",
    "    permt <- matrix(NA,nperm,length(variables_names)) # 12variables\n",
    "    colnames(permt) <- variables_names\n",
    "    # caculate proportation of beta_sub or F value over the model results\n",
    "    permf_pvals <- NA \n",
    "    permt_pvals <- NA\n",
    "    tstats = NA\n",
    "\n",
    "    # the model results\n",
    "    fstats <- culture_regress_standard_model$fstatistic[[1]]\n",
    "    for (i in 1:length(variables_names)){\n",
    "      tstats[i] <- culture_regress_standard_model$coefficients[1+i,1]\n",
    "    }\n",
    "    r2stats <- culture_regress_standard_model$r.squared\n",
    "    print(paste('fstats:',fstats))\n",
    "    #print('tstats:')\n",
    "    #tstats\n",
    "    print(paste('r2stats:',r2stats))\n",
    "\n",
    "    set.seed(2)\n",
    "    for (i in 1:nperm){\n",
    "      psel <- sample(19) # permuted index, total 19 regions\n",
    "      x <- do.call(cbind,lapply(variables,function(x) lowerTriangle(x[psel,psel]))) # generate permuted predictors\n",
    "      rfit <- lm(scale(model_rdm_array)~scale(x)) # fit permuted model\n",
    "      srfit <- summary(rfit)\n",
    "      permf[i,1] <- srfit$fstatistic[1] # F-stat\n",
    "      permr2[i,1] <- srfit$r.squared # R-squared\n",
    "      #permf[,i] <- unlist(lapply(srfit,function(x) x$fstatistic[1])) # F-stat\n",
    "      #permr2[,i] <- unlist(lapply(srfit,function(x) x$r.squared)) # R-squared\n",
    "      for (j in 1:length(variables_names)){\n",
    "        permt[i,j] <- srfit$coefficients[1+j,1] # each var t-stat\n",
    "      }\n",
    "      #print(i)\n",
    "    }\n",
    "    print(i)\n",
    "\n",
    "    # F statistics\n",
    "    permf_pvals <- mean(permf[,1] >= fstats)\n",
    "    print(paste('permf_pvals',permf_pvals))\n",
    "\n",
    "    # Each variable's regression\n",
    "    for (i in 1:length(variables_names)){\n",
    "      permt_pvals[i] <- mean(permt[,i] >= tstats[i])\n",
    "    }\n",
    "\n",
    "    permt_pvals <- as.data.frame(t(permt_pvals)) \n",
    "\n",
    "    colnames(permt_pvals) <- variables_names\n",
    "    return(permt_pvals)\n",
    "} "
   ]
  },
  {
   "cell_type": "markdown",
   "id": "7a0ad86f",
   "metadata": {},
   "source": [
    "# Full feature model"
   ]
  },
  {
   "cell_type": "markdown",
   "id": "d922d471",
   "metadata": {},
   "source": [
    "## regression coefficient"
   ]
  },
  {
   "cell_type": "code",
   "execution_count": 7,
   "id": "b735b461",
   "metadata": {
    "ExecuteTime": {
     "end_time": "2022-12-21T09:38:54.979026Z",
     "start_time": "2022-12-21T09:38:53.852Z"
    }
   },
   "outputs": [
    {
     "data": {
      "text/plain": [
       "\n",
       "Call:\n",
       "lm(formula = scale(model_rdm_array) ~ scale(x))\n",
       "\n",
       "Residuals:\n",
       "     Min       1Q   Median       3Q      Max \n",
       "-1.66805 -0.38667  0.05677  0.36219  2.31738 \n",
       "\n",
       "Coefficients:\n",
       "                               Estimate Std. Error t value Pr(>|t|)    \n",
       "(Intercept)                   3.303e-16  4.732e-02   0.000 1.000000    \n",
       "scale(x)Lexical               3.980e-02  6.223e-02   0.640 0.523418    \n",
       "scale(x)personality_all       1.422e-01  5.515e-02   2.578 0.010866 *  \n",
       "scale(x)Coordinate           -1.161e-01  5.798e-02  -2.003 0.046893 *  \n",
       "scale(x)Climatic_demands      1.942e-01  5.425e-02   3.580 0.000458 ***\n",
       "scale(x)subsistence          -4.423e-02  5.549e-02  -0.797 0.426601    \n",
       "scale(x)disease              -7.763e-03  5.501e-02  -0.141 0.887945    \n",
       "scale(x)urban                 4.450e-01  5.867e-02   7.585 2.81e-12 ***\n",
       "scale(x)wealth               -4.819e-02  5.815e-02  -0.829 0.408607    \n",
       "scale(x)edu                   1.248e-01  5.311e-02   2.349 0.020073 *  \n",
       "scale(x)Hofstede_6D          -8.696e-02  6.121e-02  -1.421 0.157449    \n",
       "scale(x)new_gendist_weighted -1.240e-01  6.258e-02  -1.982 0.049286 *  \n",
       "scale(x)religion_per          3.653e-01  7.437e-02   4.912 2.26e-06 ***\n",
       "scale(x)idealogy             -7.372e-02  5.277e-02  -1.397 0.164400    \n",
       "scale(x)demographics          3.610e-02  5.676e-02   0.636 0.525686    \n",
       "---\n",
       "Signif. codes:  0 '***' 0.001 '**' 0.01 '*' 0.05 '.' 0.1 ' ' 1\n",
       "\n",
       "Residual standard error: 0.6188 on 156 degrees of freedom\n",
       "Multiple R-squared:  0.6487,\tAdjusted R-squared:  0.6171 \n",
       "F-statistic: 20.57 on 14 and 156 DF,  p-value: < 2.2e-16\n"
      ]
     },
     "metadata": {},
     "output_type": "display_data"
    }
   ],
   "source": [
    "model_rdm = read.csv('output_data/models_rdm/full_feature/raw33d_dissim_dist.csv',\n",
    "                    row.names =1, check.names = FALSE)\n",
    "model_rdm = model_rdm[regions_order,regions_order]\n",
    "model_rdm_array = lowerTriangle(model_rdm)\n",
    "\n",
    "x <- do.call(cbind,lapply(variables,function(x) lowerTriangle(x))) # generate permuted predictors\n",
    "colnames(x) = variables_names\n",
    "culture_regress_standard <- lm(scale(model_rdm_array)~scale(x))\n",
    "culture_regress_standard_model <- summary(culture_regress_standard)\n",
    "culture_regress_standard_model\n",
    "\n",
    "write.csv(culture_regress_standard_model$coefficients,\n",
    " file='output_data/beta_sub/raw_33d.csv')\n",
    "full_feature_regression = culture_regress_standard_model"
   ]
  },
  {
   "cell_type": "markdown",
   "id": "43e7cdda",
   "metadata": {},
   "source": [
    "## permutation"
   ]
  },
  {
   "cell_type": "code",
   "execution_count": 8,
   "id": "93665bb4",
   "metadata": {
    "ExecuteTime": {
     "end_time": "2022-12-21T09:39:42.755361Z",
     "start_time": "2022-12-21T09:38:53.939Z"
    }
   },
   "outputs": [
    {
     "name": "stdout",
     "output_type": "stream",
     "text": [
      "[1] \"fstats: 20.5722088775556\"\n",
      "[1] \"r2stats: 0.648657293171477\"\n",
      "[1] 10000\n",
      "[1] \"permf_pvals 4e-04\"\n"
     ]
    },
    {
     "data": {
      "text/html": [
       "<table class=\"dataframe\">\n",
       "<caption>A data.frame: 1 × 14</caption>\n",
       "<thead>\n",
       "\t<tr><th scope=col>Lexical</th><th scope=col>personality_all</th><th scope=col>Coordinate</th><th scope=col>Climatic_demands</th><th scope=col>subsistence</th><th scope=col>disease</th><th scope=col>urban</th><th scope=col>wealth</th><th scope=col>edu</th><th scope=col>Hofstede_6D</th><th scope=col>new_gendist_weighted</th><th scope=col>religion_per</th><th scope=col>idealogy</th><th scope=col>demographics</th></tr>\n",
       "\t<tr><th scope=col>&lt;dbl&gt;</th><th scope=col>&lt;dbl&gt;</th><th scope=col>&lt;dbl&gt;</th><th scope=col>&lt;dbl&gt;</th><th scope=col>&lt;dbl&gt;</th><th scope=col>&lt;dbl&gt;</th><th scope=col>&lt;dbl&gt;</th><th scope=col>&lt;dbl&gt;</th><th scope=col>&lt;dbl&gt;</th><th scope=col>&lt;dbl&gt;</th><th scope=col>&lt;dbl&gt;</th><th scope=col>&lt;dbl&gt;</th><th scope=col>&lt;dbl&gt;</th><th scope=col>&lt;dbl&gt;</th></tr>\n",
       "</thead>\n",
       "<tbody>\n",
       "\t<tr><td>0.3932</td><td>0.1966</td><td>0.7683</td><td>0.1596</td><td>0.6137</td><td>0.5357</td><td>0.0147</td><td>0.5965</td><td>0.2021</td><td>0.6957</td><td>0.6778</td><td>0.0081</td><td>0.6997</td><td>0.3844</td></tr>\n",
       "</tbody>\n",
       "</table>\n"
      ],
      "text/latex": [
       "A data.frame: 1 × 14\n",
       "\\begin{tabular}{llllllllllllll}\n",
       " Lexical & personality\\_all & Coordinate & Climatic\\_demands & subsistence & disease & urban & wealth & edu & Hofstede\\_6D & new\\_gendist\\_weighted & religion\\_per & idealogy & demographics\\\\\n",
       " <dbl> & <dbl> & <dbl> & <dbl> & <dbl> & <dbl> & <dbl> & <dbl> & <dbl> & <dbl> & <dbl> & <dbl> & <dbl> & <dbl>\\\\\n",
       "\\hline\n",
       "\t 0.3932 & 0.1966 & 0.7683 & 0.1596 & 0.6137 & 0.5357 & 0.0147 & 0.5965 & 0.2021 & 0.6957 & 0.6778 & 0.0081 & 0.6997 & 0.3844\\\\\n",
       "\\end{tabular}\n"
      ],
      "text/markdown": [
       "\n",
       "A data.frame: 1 × 14\n",
       "\n",
       "| Lexical &lt;dbl&gt; | personality_all &lt;dbl&gt; | Coordinate &lt;dbl&gt; | Climatic_demands &lt;dbl&gt; | subsistence &lt;dbl&gt; | disease &lt;dbl&gt; | urban &lt;dbl&gt; | wealth &lt;dbl&gt; | edu &lt;dbl&gt; | Hofstede_6D &lt;dbl&gt; | new_gendist_weighted &lt;dbl&gt; | religion_per &lt;dbl&gt; | idealogy &lt;dbl&gt; | demographics &lt;dbl&gt; |\n",
       "|---|---|---|---|---|---|---|---|---|---|---|---|---|---|\n",
       "| 0.3932 | 0.1966 | 0.7683 | 0.1596 | 0.6137 | 0.5357 | 0.0147 | 0.5965 | 0.2021 | 0.6957 | 0.6778 | 0.0081 | 0.6997 | 0.3844 |\n",
       "\n"
      ],
      "text/plain": [
       "  Lexical personality_all Coordinate Climatic_demands subsistence disease\n",
       "1 0.3932  0.1966          0.7683     0.1596           0.6137      0.5357 \n",
       "  urban  wealth edu    Hofstede_6D new_gendist_weighted religion_per idealogy\n",
       "1 0.0147 0.5965 0.2021 0.6957      0.6778               0.0081       0.6997  \n",
       "  demographics\n",
       "1 0.3844      "
      ]
     },
     "metadata": {},
     "output_type": "display_data"
    }
   ],
   "source": [
    "p_value_sub = permutation_result(full_feature_regression)\n",
    "p_value_sub\n",
    "write.csv(p_value_sub,'output_data/p_value_sub/raw_33d.csv')"
   ]
  },
  {
   "cell_type": "markdown",
   "id": "2c261bbd",
   "metadata": {},
   "source": [
    "# Dimensional model"
   ]
  },
  {
   "cell_type": "markdown",
   "id": "57ec0ce3",
   "metadata": {},
   "source": [
    "## regression coefficient"
   ]
  },
  {
   "cell_type": "code",
   "execution_count": 9,
   "id": "d6aa9f33",
   "metadata": {
    "ExecuteTime": {
     "end_time": "2022-12-21T09:39:42.802614Z",
     "start_time": "2022-12-21T09:38:54.101Z"
    }
   },
   "outputs": [
    {
     "data": {
      "text/plain": [
       "\n",
       "Call:\n",
       "lm(formula = scale(model_rdm_array) ~ scale(x))\n",
       "\n",
       "Residuals:\n",
       "     Min       1Q   Median       3Q      Max \n",
       "-2.09206 -0.42238  0.02361  0.42068  1.80833 \n",
       "\n",
       "Coefficients:\n",
       "                               Estimate Std. Error t value Pr(>|t|)    \n",
       "(Intercept)                   1.322e-16  5.083e-02   0.000 1.000000    \n",
       "scale(x)Lexical               1.371e-02  6.685e-02   0.205 0.837786    \n",
       "scale(x)personality_all       1.831e-01  5.925e-02   3.090 0.002368 ** \n",
       "scale(x)Coordinate           -1.279e-01  6.228e-02  -2.054 0.041617 *  \n",
       "scale(x)Climatic_demands      1.944e-01  5.828e-02   3.336 0.001062 ** \n",
       "scale(x)subsistence          -4.784e-03  5.961e-02  -0.080 0.936141    \n",
       "scale(x)disease              -4.043e-02  5.909e-02  -0.684 0.494845    \n",
       "scale(x)urban                 3.357e-01  6.303e-02   5.326 3.45e-07 ***\n",
       "scale(x)wealth               -7.687e-02  6.247e-02  -1.231 0.220349    \n",
       "scale(x)edu                   1.261e-01  5.706e-02   2.210 0.028543 *  \n",
       "scale(x)Hofstede_6D          -1.339e-01  6.576e-02  -2.036 0.043416 *  \n",
       "scale(x)new_gendist_weighted -2.255e-01  6.723e-02  -3.355 0.000997 ***\n",
       "scale(x)religion_per          3.801e-01  7.989e-02   4.757 4.44e-06 ***\n",
       "scale(x)idealogy             -8.991e-02  5.669e-02  -1.586 0.114730    \n",
       "scale(x)demographics          6.747e-02  6.097e-02   1.107 0.270188    \n",
       "---\n",
       "Signif. codes:  0 '***' 0.001 '**' 0.01 '*' 0.05 '.' 0.1 ' ' 1\n",
       "\n",
       "Residual standard error: 0.6647 on 156 degrees of freedom\n",
       "Multiple R-squared:  0.5945,\tAdjusted R-squared:  0.5582 \n",
       "F-statistic: 16.34 on 14 and 156 DF,  p-value: < 2.2e-16\n"
      ]
     },
     "metadata": {},
     "output_type": "display_data"
    }
   ],
   "source": [
    "model_rdm = read.csv('output_data/models_rdm/dimensional/favee_dissim_dist.csv',\n",
    "                    row.names =1, check.names = FALSE)\n",
    "model_rdm = model_rdm[regions_order,regions_order]\n",
    "model_rdm_array = lowerTriangle(model_rdm)\n",
    "\n",
    "x <- do.call(cbind,lapply(variables,function(x) lowerTriangle(x))) # generate permuted predictors\n",
    "colnames(x) = variables_names\n",
    "culture_regress_standard <- lm(scale(model_rdm_array)~scale(x))\n",
    "culture_regress_standard_model <- summary(culture_regress_standard)\n",
    "culture_regress_standard_model\n",
    "\n",
    "write.csv(culture_regress_standard_model$coefficients,\n",
    " file='output_data/beta_sub/favee_33d.csv')\n",
    "dimensional_regression = culture_regress_standard_model"
   ]
  },
  {
   "cell_type": "markdown",
   "id": "6b093358",
   "metadata": {},
   "source": [
    "## permutation"
   ]
  },
  {
   "cell_type": "code",
   "execution_count": 10,
   "id": "642ae67d",
   "metadata": {
    "ExecuteTime": {
     "end_time": "2022-12-21T09:40:31.314445Z",
     "start_time": "2022-12-21T09:38:54.182Z"
    }
   },
   "outputs": [
    {
     "name": "stdout",
     "output_type": "stream",
     "text": [
      "[1] \"fstats: 16.3393498447356\"\n",
      "[1] \"r2stats: 0.594542856478458\"\n",
      "[1] 10000\n",
      "[1] \"permf_pvals 8e-04\"\n"
     ]
    },
    {
     "data": {
      "text/html": [
       "<table class=\"dataframe\">\n",
       "<caption>A data.frame: 1 × 14</caption>\n",
       "<thead>\n",
       "\t<tr><th scope=col>Lexical</th><th scope=col>personality_all</th><th scope=col>Coordinate</th><th scope=col>Climatic_demands</th><th scope=col>subsistence</th><th scope=col>disease</th><th scope=col>urban</th><th scope=col>wealth</th><th scope=col>edu</th><th scope=col>Hofstede_6D</th><th scope=col>new_gendist_weighted</th><th scope=col>religion_per</th><th scope=col>idealogy</th><th scope=col>demographics</th></tr>\n",
       "\t<tr><th scope=col>&lt;dbl&gt;</th><th scope=col>&lt;dbl&gt;</th><th scope=col>&lt;dbl&gt;</th><th scope=col>&lt;dbl&gt;</th><th scope=col>&lt;dbl&gt;</th><th scope=col>&lt;dbl&gt;</th><th scope=col>&lt;dbl&gt;</th><th scope=col>&lt;dbl&gt;</th><th scope=col>&lt;dbl&gt;</th><th scope=col>&lt;dbl&gt;</th><th scope=col>&lt;dbl&gt;</th><th scope=col>&lt;dbl&gt;</th><th scope=col>&lt;dbl&gt;</th><th scope=col>&lt;dbl&gt;</th></tr>\n",
       "</thead>\n",
       "<tbody>\n",
       "\t<tr><td>0.4673</td><td>0.1788</td><td>0.7945</td><td>0.177</td><td>0.5006</td><td>0.669</td><td>0.0414</td><td>0.6876</td><td>0.2028</td><td>0.78</td><td>0.8377</td><td>0.0073</td><td>0.7427</td><td>0.3197</td></tr>\n",
       "</tbody>\n",
       "</table>\n"
      ],
      "text/latex": [
       "A data.frame: 1 × 14\n",
       "\\begin{tabular}{llllllllllllll}\n",
       " Lexical & personality\\_all & Coordinate & Climatic\\_demands & subsistence & disease & urban & wealth & edu & Hofstede\\_6D & new\\_gendist\\_weighted & religion\\_per & idealogy & demographics\\\\\n",
       " <dbl> & <dbl> & <dbl> & <dbl> & <dbl> & <dbl> & <dbl> & <dbl> & <dbl> & <dbl> & <dbl> & <dbl> & <dbl> & <dbl>\\\\\n",
       "\\hline\n",
       "\t 0.4673 & 0.1788 & 0.7945 & 0.177 & 0.5006 & 0.669 & 0.0414 & 0.6876 & 0.2028 & 0.78 & 0.8377 & 0.0073 & 0.7427 & 0.3197\\\\\n",
       "\\end{tabular}\n"
      ],
      "text/markdown": [
       "\n",
       "A data.frame: 1 × 14\n",
       "\n",
       "| Lexical &lt;dbl&gt; | personality_all &lt;dbl&gt; | Coordinate &lt;dbl&gt; | Climatic_demands &lt;dbl&gt; | subsistence &lt;dbl&gt; | disease &lt;dbl&gt; | urban &lt;dbl&gt; | wealth &lt;dbl&gt; | edu &lt;dbl&gt; | Hofstede_6D &lt;dbl&gt; | new_gendist_weighted &lt;dbl&gt; | religion_per &lt;dbl&gt; | idealogy &lt;dbl&gt; | demographics &lt;dbl&gt; |\n",
       "|---|---|---|---|---|---|---|---|---|---|---|---|---|---|\n",
       "| 0.4673 | 0.1788 | 0.7945 | 0.177 | 0.5006 | 0.669 | 0.0414 | 0.6876 | 0.2028 | 0.78 | 0.8377 | 0.0073 | 0.7427 | 0.3197 |\n",
       "\n"
      ],
      "text/plain": [
       "  Lexical personality_all Coordinate Climatic_demands subsistence disease\n",
       "1 0.4673  0.1788          0.7945     0.177            0.5006      0.669  \n",
       "  urban  wealth edu    Hofstede_6D new_gendist_weighted religion_per idealogy\n",
       "1 0.0414 0.6876 0.2028 0.78        0.8377               0.0073       0.7427  \n",
       "  demographics\n",
       "1 0.3197      "
      ]
     },
     "metadata": {},
     "output_type": "display_data"
    }
   ],
   "source": [
    "p_value_sub = permutation_result(dimensional_regression)\n",
    "p_value_sub\n",
    "write.csv(p_value_sub,'output_data/p_value_sub/favee_33d.csv')"
   ]
  },
  {
   "cell_type": "markdown",
   "id": "9cd7c8c4",
   "metadata": {},
   "source": [
    "# Categorical model"
   ]
  },
  {
   "cell_type": "markdown",
   "id": "b39059eb",
   "metadata": {},
   "source": [
    "## regression coefficient"
   ]
  },
  {
   "cell_type": "code",
   "execution_count": 11,
   "id": "4b683ca9",
   "metadata": {
    "ExecuteTime": {
     "end_time": "2022-12-21T09:40:31.358455Z",
     "start_time": "2022-12-21T09:38:54.354Z"
    }
   },
   "outputs": [
    {
     "data": {
      "text/plain": [
       "\n",
       "Call:\n",
       "lm(formula = scale(model_rdm_array) ~ scale(x))\n",
       "\n",
       "Residuals:\n",
       "     Min       1Q   Median       3Q      Max \n",
       "-2.21218 -0.54347  0.07959  0.58026  2.53487 \n",
       "\n",
       "Coefficients:\n",
       "                               Estimate Std. Error t value Pr(>|t|)    \n",
       "(Intercept)                   2.936e-16  6.498e-02   0.000 1.000000    \n",
       "scale(x)Lexical               7.261e-02  8.546e-02   0.850 0.396837    \n",
       "scale(x)personality_all       4.841e-02  7.574e-02   0.639 0.523656    \n",
       "scale(x)Coordinate           -1.463e-01  7.961e-02  -1.838 0.067972 .  \n",
       "scale(x)Climatic_demands      1.678e-01  7.449e-02   2.253 0.025648 *  \n",
       "scale(x)subsistence           2.524e-02  7.620e-02   0.331 0.740922    \n",
       "scale(x)disease              -1.523e-02  7.554e-02  -0.202 0.840459    \n",
       "scale(x)urban                 2.964e-01  8.057e-02   3.679 0.000322 ***\n",
       "scale(x)wealth                1.206e-01  7.986e-02   1.510 0.133017    \n",
       "scale(x)edu                   2.587e-02  7.294e-02   0.355 0.723267    \n",
       "scale(x)Hofstede_6D          -8.487e-02  8.406e-02  -1.010 0.314235    \n",
       "scale(x)new_gendist_weighted -5.596e-02  8.594e-02  -0.651 0.515913    \n",
       "scale(x)religion_per          3.117e-01  1.021e-01   3.053 0.002667 ** \n",
       "scale(x)idealogy             -3.953e-02  7.246e-02  -0.546 0.586137    \n",
       "scale(x)demographics         -2.873e-01  7.794e-02  -3.686 0.000313 ***\n",
       "---\n",
       "Signif. codes:  0 '***' 0.001 '**' 0.01 '*' 0.05 '.' 0.1 ' ' 1\n",
       "\n",
       "Residual standard error: 0.8497 on 156 degrees of freedom\n",
       "Multiple R-squared:  0.3375,\tAdjusted R-squared:  0.278 \n",
       "F-statistic: 5.676 on 14 and 156 DF,  p-value: 7.954e-09\n"
      ]
     },
     "metadata": {},
     "output_type": "display_data"
    }
   ],
   "source": [
    "model_rdm = read.csv('output_data/models_rdm/categorical/hpp_dissim_dist.csv',\n",
    "                    row.names =1, check.names = FALSE)\n",
    "model_rdm = model_rdm[regions_order,regions_order]\n",
    "model_rdm_array = lowerTriangle(model_rdm)\n",
    "\n",
    "x <- do.call(cbind,lapply(variables,function(x) lowerTriangle(x))) # generate permuted predictors\n",
    "colnames(x) = variables_names\n",
    "culture_regress_standard <- lm(scale(model_rdm_array)~scale(x))\n",
    "culture_regress_standard_model <- summary(culture_regress_standard)\n",
    "culture_regress_standard_model\n",
    "\n",
    "write.csv(culture_regress_standard_model$coefficients,\n",
    " file='output_data/beta_sub/hpp_33d.csv')\n",
    "categorical_regression = culture_regress_standard_model"
   ]
  },
  {
   "cell_type": "markdown",
   "id": "07e35a6c",
   "metadata": {},
   "source": [
    "## permutation"
   ]
  },
  {
   "cell_type": "code",
   "execution_count": 12,
   "id": "2b4ab105",
   "metadata": {
    "ExecuteTime": {
     "end_time": "2022-12-21T09:41:20.521997Z",
     "start_time": "2022-12-21T09:38:54.438Z"
    }
   },
   "outputs": [
    {
     "name": "stdout",
     "output_type": "stream",
     "text": [
      "[1] \"fstats: 5.67569303957037\"\n",
      "[1] \"r2stats: 0.337466248755525\"\n",
      "[1] 10000\n",
      "[1] \"permf_pvals 0.0683\"\n"
     ]
    },
    {
     "data": {
      "text/html": [
       "<table class=\"dataframe\">\n",
       "<caption>A data.frame: 1 × 14</caption>\n",
       "<thead>\n",
       "\t<tr><th scope=col>Lexical</th><th scope=col>personality_all</th><th scope=col>Coordinate</th><th scope=col>Climatic_demands</th><th scope=col>subsistence</th><th scope=col>disease</th><th scope=col>urban</th><th scope=col>wealth</th><th scope=col>edu</th><th scope=col>Hofstede_6D</th><th scope=col>new_gendist_weighted</th><th scope=col>religion_per</th><th scope=col>idealogy</th><th scope=col>demographics</th></tr>\n",
       "\t<tr><th scope=col>&lt;dbl&gt;</th><th scope=col>&lt;dbl&gt;</th><th scope=col>&lt;dbl&gt;</th><th scope=col>&lt;dbl&gt;</th><th scope=col>&lt;dbl&gt;</th><th scope=col>&lt;dbl&gt;</th><th scope=col>&lt;dbl&gt;</th><th scope=col>&lt;dbl&gt;</th><th scope=col>&lt;dbl&gt;</th><th scope=col>&lt;dbl&gt;</th><th scope=col>&lt;dbl&gt;</th><th scope=col>&lt;dbl&gt;</th><th scope=col>&lt;dbl&gt;</th><th scope=col>&lt;dbl&gt;</th></tr>\n",
       "</thead>\n",
       "<tbody>\n",
       "\t<tr><td>0.2807</td><td>0.3292</td><td>0.8592</td><td>0.1329</td><td>0.4052</td><td>0.5596</td><td>0.0432</td><td>0.1664</td><td>0.3824</td><td>0.7081</td><td>0.5823</td><td>0.0181</td><td>0.6171</td><td>0.9896</td></tr>\n",
       "</tbody>\n",
       "</table>\n"
      ],
      "text/latex": [
       "A data.frame: 1 × 14\n",
       "\\begin{tabular}{llllllllllllll}\n",
       " Lexical & personality\\_all & Coordinate & Climatic\\_demands & subsistence & disease & urban & wealth & edu & Hofstede\\_6D & new\\_gendist\\_weighted & religion\\_per & idealogy & demographics\\\\\n",
       " <dbl> & <dbl> & <dbl> & <dbl> & <dbl> & <dbl> & <dbl> & <dbl> & <dbl> & <dbl> & <dbl> & <dbl> & <dbl> & <dbl>\\\\\n",
       "\\hline\n",
       "\t 0.2807 & 0.3292 & 0.8592 & 0.1329 & 0.4052 & 0.5596 & 0.0432 & 0.1664 & 0.3824 & 0.7081 & 0.5823 & 0.0181 & 0.6171 & 0.9896\\\\\n",
       "\\end{tabular}\n"
      ],
      "text/markdown": [
       "\n",
       "A data.frame: 1 × 14\n",
       "\n",
       "| Lexical &lt;dbl&gt; | personality_all &lt;dbl&gt; | Coordinate &lt;dbl&gt; | Climatic_demands &lt;dbl&gt; | subsistence &lt;dbl&gt; | disease &lt;dbl&gt; | urban &lt;dbl&gt; | wealth &lt;dbl&gt; | edu &lt;dbl&gt; | Hofstede_6D &lt;dbl&gt; | new_gendist_weighted &lt;dbl&gt; | religion_per &lt;dbl&gt; | idealogy &lt;dbl&gt; | demographics &lt;dbl&gt; |\n",
       "|---|---|---|---|---|---|---|---|---|---|---|---|---|---|\n",
       "| 0.2807 | 0.3292 | 0.8592 | 0.1329 | 0.4052 | 0.5596 | 0.0432 | 0.1664 | 0.3824 | 0.7081 | 0.5823 | 0.0181 | 0.6171 | 0.9896 |\n",
       "\n"
      ],
      "text/plain": [
       "  Lexical personality_all Coordinate Climatic_demands subsistence disease\n",
       "1 0.2807  0.3292          0.8592     0.1329           0.4052      0.5596 \n",
       "  urban  wealth edu    Hofstede_6D new_gendist_weighted religion_per idealogy\n",
       "1 0.0432 0.1664 0.3824 0.7081      0.5823               0.0181       0.6171  \n",
       "  demographics\n",
       "1 0.9896      "
      ]
     },
     "metadata": {},
     "output_type": "display_data"
    }
   ],
   "source": [
    "p_value_sub = permutation_result(categorical_regression)\n",
    "p_value_sub\n",
    "write.csv(p_value_sub,'output_data/p_value_sub/hpp_33d.csv')"
   ]
  },
  {
   "cell_type": "markdown",
   "id": "90e472ce",
   "metadata": {},
   "source": [
    "# Dimensional: single dimension"
   ]
  },
  {
   "cell_type": "markdown",
   "id": "f1a21f44",
   "metadata": {},
   "source": [
    "## Formality"
   ]
  },
  {
   "cell_type": "code",
   "execution_count": 13,
   "id": "8aa6111e",
   "metadata": {
    "ExecuteTime": {
     "end_time": "2022-12-21T09:42:11.409087Z",
     "start_time": "2022-12-21T09:38:54.594Z"
    }
   },
   "outputs": [
    {
     "data": {
      "text/plain": [
       "\n",
       "Call:\n",
       "lm(formula = scale(model_rdm_array) ~ scale(x))\n",
       "\n",
       "Residuals:\n",
       "     Min       1Q   Median       3Q      Max \n",
       "-1.66705 -0.53615  0.00424  0.49122  2.57236 \n",
       "\n",
       "Coefficients:\n",
       "                               Estimate Std. Error t value Pr(>|t|)    \n",
       "(Intercept)                  -1.603e-16  6.112e-02   0.000  1.00000    \n",
       "scale(x)Lexical               8.243e-02  8.039e-02   1.025  0.30674    \n",
       "scale(x)personality_all       3.090e-02  7.125e-02   0.434  0.66507    \n",
       "scale(x)Coordinate           -2.014e-01  7.489e-02  -2.689  0.00795 ** \n",
       "scale(x)Climatic_demands      1.161e-01  7.008e-02   1.656  0.09971 .  \n",
       "scale(x)subsistence          -6.256e-02  7.168e-02  -0.873  0.38413    \n",
       "scale(x)disease              -1.418e-01  7.106e-02  -1.996  0.04772 *  \n",
       "scale(x)urban                 1.400e-01  7.579e-02   1.847  0.06668 .  \n",
       "scale(x)wealth               -1.542e-01  7.512e-02  -2.053  0.04173 *  \n",
       "scale(x)edu                   1.644e-01  6.861e-02   2.396  0.01774 *  \n",
       "scale(x)Hofstede_6D          -7.279e-02  7.907e-02  -0.921  0.35873    \n",
       "scale(x)new_gendist_weighted -1.179e-01  8.084e-02  -1.458  0.14679    \n",
       "scale(x)religion_per          3.987e-01  9.607e-02   4.150 5.44e-05 ***\n",
       "scale(x)idealogy             -8.024e-02  6.816e-02  -1.177  0.24091    \n",
       "scale(x)demographics         -9.923e-03  7.332e-02  -0.135  0.89251    \n",
       "---\n",
       "Signif. codes:  0 '***' 0.001 '**' 0.01 '*' 0.05 '.' 0.1 ' ' 1\n",
       "\n",
       "Residual standard error: 0.7993 on 156 degrees of freedom\n",
       "Multiple R-squared:  0.4137,\tAdjusted R-squared:  0.3611 \n",
       "F-statistic: 7.864 on 14 and 156 DF,  p-value: 1.858e-12\n"
      ]
     },
     "metadata": {},
     "output_type": "display_data"
    },
    {
     "name": "stdout",
     "output_type": "stream",
     "text": [
      "[1] \"fstats: 7.86370883443278\"\n",
      "[1] \"r2stats: 0.413736434231663\"\n",
      "[1] 10000\n",
      "[1] \"permf_pvals 0.0252\"\n"
     ]
    },
    {
     "data": {
      "text/html": [
       "<table class=\"dataframe\">\n",
       "<caption>A data.frame: 1 × 14</caption>\n",
       "<thead>\n",
       "\t<tr><th scope=col>Lexical</th><th scope=col>personality_all</th><th scope=col>Coordinate</th><th scope=col>Climatic_demands</th><th scope=col>subsistence</th><th scope=col>disease</th><th scope=col>urban</th><th scope=col>wealth</th><th scope=col>edu</th><th scope=col>Hofstede_6D</th><th scope=col>new_gendist_weighted</th><th scope=col>religion_per</th><th scope=col>idealogy</th><th scope=col>demographics</th></tr>\n",
       "\t<tr><th scope=col>&lt;dbl&gt;</th><th scope=col>&lt;dbl&gt;</th><th scope=col>&lt;dbl&gt;</th><th scope=col>&lt;dbl&gt;</th><th scope=col>&lt;dbl&gt;</th><th scope=col>&lt;dbl&gt;</th><th scope=col>&lt;dbl&gt;</th><th scope=col>&lt;dbl&gt;</th><th scope=col>&lt;dbl&gt;</th><th scope=col>&lt;dbl&gt;</th><th scope=col>&lt;dbl&gt;</th><th scope=col>&lt;dbl&gt;</th><th scope=col>&lt;dbl&gt;</th><th scope=col>&lt;dbl&gt;</th></tr>\n",
       "</thead>\n",
       "<tbody>\n",
       "\t<tr><td>0.2779</td><td>0.4006</td><td>0.9277</td><td>0.2479</td><td>0.6796</td><td>0.9414</td><td>0.2008</td><td>0.8943</td><td>0.1275</td><td>0.6683</td><td>0.6935</td><td>0.0039</td><td>0.727</td><td>0.5049</td></tr>\n",
       "</tbody>\n",
       "</table>\n"
      ],
      "text/latex": [
       "A data.frame: 1 × 14\n",
       "\\begin{tabular}{llllllllllllll}\n",
       " Lexical & personality\\_all & Coordinate & Climatic\\_demands & subsistence & disease & urban & wealth & edu & Hofstede\\_6D & new\\_gendist\\_weighted & religion\\_per & idealogy & demographics\\\\\n",
       " <dbl> & <dbl> & <dbl> & <dbl> & <dbl> & <dbl> & <dbl> & <dbl> & <dbl> & <dbl> & <dbl> & <dbl> & <dbl> & <dbl>\\\\\n",
       "\\hline\n",
       "\t 0.2779 & 0.4006 & 0.9277 & 0.2479 & 0.6796 & 0.9414 & 0.2008 & 0.8943 & 0.1275 & 0.6683 & 0.6935 & 0.0039 & 0.727 & 0.5049\\\\\n",
       "\\end{tabular}\n"
      ],
      "text/markdown": [
       "\n",
       "A data.frame: 1 × 14\n",
       "\n",
       "| Lexical &lt;dbl&gt; | personality_all &lt;dbl&gt; | Coordinate &lt;dbl&gt; | Climatic_demands &lt;dbl&gt; | subsistence &lt;dbl&gt; | disease &lt;dbl&gt; | urban &lt;dbl&gt; | wealth &lt;dbl&gt; | edu &lt;dbl&gt; | Hofstede_6D &lt;dbl&gt; | new_gendist_weighted &lt;dbl&gt; | religion_per &lt;dbl&gt; | idealogy &lt;dbl&gt; | demographics &lt;dbl&gt; |\n",
       "|---|---|---|---|---|---|---|---|---|---|---|---|---|---|\n",
       "| 0.2779 | 0.4006 | 0.9277 | 0.2479 | 0.6796 | 0.9414 | 0.2008 | 0.8943 | 0.1275 | 0.6683 | 0.6935 | 0.0039 | 0.727 | 0.5049 |\n",
       "\n"
      ],
      "text/plain": [
       "  Lexical personality_all Coordinate Climatic_demands subsistence disease\n",
       "1 0.2779  0.4006          0.9277     0.2479           0.6796      0.9414 \n",
       "  urban  wealth edu    Hofstede_6D new_gendist_weighted religion_per idealogy\n",
       "1 0.2008 0.8943 0.1275 0.6683      0.6935               0.0039       0.727   \n",
       "  demographics\n",
       "1 0.5049      "
      ]
     },
     "metadata": {},
     "output_type": "display_data"
    }
   ],
   "source": [
    "# 1.regression coefficient\n",
    "model_rdm = read.csv('output_data/models_rdm/dimensional/formality_dissim_dist.csv',\n",
    "                    row.names =1, check.names = FALSE)\n",
    "model_rdm = model_rdm[regions_order,regions_order]\n",
    "model_rdm_array = lowerTriangle(model_rdm)\n",
    "\n",
    "x <- do.call(cbind,lapply(variables,function(x) lowerTriangle(x))) # generate permuted predictors\n",
    "colnames(x) = variables_names\n",
    "culture_regress_standard <- lm(scale(model_rdm_array)~scale(x))\n",
    "culture_regress_standard_model <- summary(culture_regress_standard)\n",
    "culture_regress_standard_model\n",
    "\n",
    "write.csv(culture_regress_standard_model$coefficients,\n",
    " file='output_data/beta_sub/formality_33d.csv')\n",
    "formality_regression = culture_regress_standard_model\n",
    "\n",
    "# 2.permutation\n",
    "p_value_sub = permutation_result(formality_regression)\n",
    "p_value_sub\n",
    "write.csv(p_value_sub,'output_data/p_value_sub/formality_33d.csv')"
   ]
  },
  {
   "cell_type": "markdown",
   "id": "54d736c2",
   "metadata": {},
   "source": [
    "## Activeness"
   ]
  },
  {
   "cell_type": "code",
   "execution_count": 14,
   "id": "c76ed67e",
   "metadata": {
    "ExecuteTime": {
     "end_time": "2022-12-21T09:43:09.258621Z",
     "start_time": "2022-12-21T09:38:54.671Z"
    }
   },
   "outputs": [
    {
     "data": {
      "text/plain": [
       "\n",
       "Call:\n",
       "lm(formula = scale(model_rdm_array) ~ scale(x))\n",
       "\n",
       "Residuals:\n",
       "     Min       1Q   Median       3Q      Max \n",
       "-2.48554 -0.48367  0.05713  0.53990  2.15155 \n",
       "\n",
       "Coefficients:\n",
       "                               Estimate Std. Error t value Pr(>|t|)    \n",
       "(Intercept)                   6.785e-16  6.435e-02   0.000   1.0000    \n",
       "scale(x)Lexical               1.472e-01  8.463e-02   1.740   0.0839 .  \n",
       "scale(x)personality_all       1.045e-01  7.500e-02   1.394   0.1654    \n",
       "scale(x)Coordinate           -9.305e-02  7.884e-02  -1.180   0.2397    \n",
       "scale(x)Climatic_demands      8.716e-02  7.377e-02   1.182   0.2392    \n",
       "scale(x)subsistence          -1.577e-02  7.546e-02  -0.209   0.8347    \n",
       "scale(x)disease              -7.275e-02  7.480e-02  -0.973   0.3323    \n",
       "scale(x)urban                 3.249e-01  7.978e-02   4.073 7.38e-05 ***\n",
       "scale(x)wealth               -1.056e-01  7.908e-02  -1.336   0.1835    \n",
       "scale(x)edu                   1.412e-01  7.223e-02   1.955   0.0524 .  \n",
       "scale(x)Hofstede_6D          -7.624e-02  8.324e-02  -0.916   0.3612    \n",
       "scale(x)new_gendist_weighted -3.619e-02  8.511e-02  -0.425   0.6713    \n",
       "scale(x)religion_per          2.474e-01  1.011e-01   2.447   0.0155 *  \n",
       "scale(x)idealogy             -9.189e-02  7.176e-02  -1.281   0.2022    \n",
       "scale(x)demographics          2.133e-02  7.718e-02   0.276   0.7827    \n",
       "---\n",
       "Signif. codes:  0 '***' 0.001 '**' 0.01 '*' 0.05 '.' 0.1 ' ' 1\n",
       "\n",
       "Residual standard error: 0.8414 on 156 degrees of freedom\n",
       "Multiple R-squared:  0.3503,\tAdjusted R-squared:  0.292 \n",
       "F-statistic: 6.008 on 14 and 156 DF,  p-value: 2.146e-09\n"
      ]
     },
     "metadata": {},
     "output_type": "display_data"
    },
    {
     "name": "stdout",
     "output_type": "stream",
     "text": [
      "[1] \"fstats: 6.00766969254462\"\n",
      "[1] \"r2stats: 0.350290679126178\"\n",
      "[1] 10000\n",
      "[1] \"permf_pvals 0.0346\"\n"
     ]
    },
    {
     "data": {
      "text/html": [
       "<table class=\"dataframe\">\n",
       "<caption>A data.frame: 1 × 14</caption>\n",
       "<thead>\n",
       "\t<tr><th scope=col>Lexical</th><th scope=col>personality_all</th><th scope=col>Coordinate</th><th scope=col>Climatic_demands</th><th scope=col>subsistence</th><th scope=col>disease</th><th scope=col>urban</th><th scope=col>wealth</th><th scope=col>edu</th><th scope=col>Hofstede_6D</th><th scope=col>new_gendist_weighted</th><th scope=col>religion_per</th><th scope=col>idealogy</th><th scope=col>demographics</th></tr>\n",
       "\t<tr><th scope=col>&lt;dbl&gt;</th><th scope=col>&lt;dbl&gt;</th><th scope=col>&lt;dbl&gt;</th><th scope=col>&lt;dbl&gt;</th><th scope=col>&lt;dbl&gt;</th><th scope=col>&lt;dbl&gt;</th><th scope=col>&lt;dbl&gt;</th><th scope=col>&lt;dbl&gt;</th><th scope=col>&lt;dbl&gt;</th><th scope=col>&lt;dbl&gt;</th><th scope=col>&lt;dbl&gt;</th><th scope=col>&lt;dbl&gt;</th><th scope=col>&lt;dbl&gt;</th><th scope=col>&lt;dbl&gt;</th></tr>\n",
       "</thead>\n",
       "<tbody>\n",
       "\t<tr><td>0.1381</td><td>0.2621</td><td>0.7468</td><td>0.2941</td><td>0.5303</td><td>0.7894</td><td>0.0234</td><td>0.7969</td><td>0.1395</td><td>0.6933</td><td>0.5518</td><td>0.0488</td><td>0.7788</td><td>0.4299</td></tr>\n",
       "</tbody>\n",
       "</table>\n"
      ],
      "text/latex": [
       "A data.frame: 1 × 14\n",
       "\\begin{tabular}{llllllllllllll}\n",
       " Lexical & personality\\_all & Coordinate & Climatic\\_demands & subsistence & disease & urban & wealth & edu & Hofstede\\_6D & new\\_gendist\\_weighted & religion\\_per & idealogy & demographics\\\\\n",
       " <dbl> & <dbl> & <dbl> & <dbl> & <dbl> & <dbl> & <dbl> & <dbl> & <dbl> & <dbl> & <dbl> & <dbl> & <dbl> & <dbl>\\\\\n",
       "\\hline\n",
       "\t 0.1381 & 0.2621 & 0.7468 & 0.2941 & 0.5303 & 0.7894 & 0.0234 & 0.7969 & 0.1395 & 0.6933 & 0.5518 & 0.0488 & 0.7788 & 0.4299\\\\\n",
       "\\end{tabular}\n"
      ],
      "text/markdown": [
       "\n",
       "A data.frame: 1 × 14\n",
       "\n",
       "| Lexical &lt;dbl&gt; | personality_all &lt;dbl&gt; | Coordinate &lt;dbl&gt; | Climatic_demands &lt;dbl&gt; | subsistence &lt;dbl&gt; | disease &lt;dbl&gt; | urban &lt;dbl&gt; | wealth &lt;dbl&gt; | edu &lt;dbl&gt; | Hofstede_6D &lt;dbl&gt; | new_gendist_weighted &lt;dbl&gt; | religion_per &lt;dbl&gt; | idealogy &lt;dbl&gt; | demographics &lt;dbl&gt; |\n",
       "|---|---|---|---|---|---|---|---|---|---|---|---|---|---|\n",
       "| 0.1381 | 0.2621 | 0.7468 | 0.2941 | 0.5303 | 0.7894 | 0.0234 | 0.7969 | 0.1395 | 0.6933 | 0.5518 | 0.0488 | 0.7788 | 0.4299 |\n",
       "\n"
      ],
      "text/plain": [
       "  Lexical personality_all Coordinate Climatic_demands subsistence disease\n",
       "1 0.1381  0.2621          0.7468     0.2941           0.5303      0.7894 \n",
       "  urban  wealth edu    Hofstede_6D new_gendist_weighted religion_per idealogy\n",
       "1 0.0234 0.7969 0.1395 0.6933      0.5518               0.0488       0.7788  \n",
       "  demographics\n",
       "1 0.4299      "
      ]
     },
     "metadata": {},
     "output_type": "display_data"
    }
   ],
   "source": [
    "# 1.regression coefficient\n",
    "model_rdm = read.csv('output_data/models_rdm/dimensional/activeness_dissim_dist.csv',\n",
    "                    row.names =1, check.names = FALSE)\n",
    "model_rdm = model_rdm[regions_order,regions_order]\n",
    "model_rdm_array = lowerTriangle(model_rdm)\n",
    "\n",
    "x <- do.call(cbind,lapply(variables,function(x) lowerTriangle(x))) # generate permuted predictors\n",
    "colnames(x) = variables_names\n",
    "culture_regress_standard <- lm(scale(model_rdm_array)~scale(x))\n",
    "culture_regress_standard_model <- summary(culture_regress_standard)\n",
    "culture_regress_standard_model\n",
    "\n",
    "write.csv(culture_regress_standard_model$coefficients,\n",
    " file='output_data/beta_sub/activeness_33d.csv')\n",
    "activeness_regression = culture_regress_standard_model\n",
    "\n",
    "# 2.permutation\n",
    "p_value_sub = permutation_result(activeness_regression)\n",
    "p_value_sub\n",
    "write.csv(p_value_sub,'output_data/p_value_sub/activeness_33d.csv')                         "
   ]
  },
  {
   "cell_type": "markdown",
   "id": "41bd4acc",
   "metadata": {},
   "source": [
    "## Valence"
   ]
  },
  {
   "cell_type": "code",
   "execution_count": 15,
   "id": "f4f8de88",
   "metadata": {
    "ExecuteTime": {
     "end_time": "2022-12-21T09:44:06.671478Z",
     "start_time": "2022-12-21T09:38:54.752Z"
    }
   },
   "outputs": [
    {
     "data": {
      "text/plain": [
       "\n",
       "Call:\n",
       "lm(formula = scale(model_rdm_array) ~ scale(x))\n",
       "\n",
       "Residuals:\n",
       "     Min       1Q   Median       3Q      Max \n",
       "-1.77841 -0.57842 -0.04921  0.53648  2.14384 \n",
       "\n",
       "Coefficients:\n",
       "                               Estimate Std. Error t value Pr(>|t|)    \n",
       "(Intercept)                   2.926e-16  6.391e-02   0.000 1.000000    \n",
       "scale(x)Lexical              -6.048e-02  8.406e-02  -0.720 0.472890    \n",
       "scale(x)personality_all       1.129e-01  7.450e-02   1.515 0.131836    \n",
       "scale(x)Coordinate           -6.301e-02  7.831e-02  -0.805 0.422254    \n",
       "scale(x)Climatic_demands      2.043e-01  7.328e-02   2.788 0.005962 ** \n",
       "scale(x)subsistence          -1.796e-01  7.495e-02  -2.397 0.017727 *  \n",
       "scale(x)disease              -9.450e-02  7.430e-02  -1.272 0.205290    \n",
       "scale(x)urban                 3.007e-01  7.925e-02   3.794 0.000212 ***\n",
       "scale(x)wealth               -6.002e-02  7.855e-02  -0.764 0.445938    \n",
       "scale(x)edu                   1.567e-01  7.174e-02   2.184 0.030442 *  \n",
       "scale(x)Hofstede_6D          -1.491e-01  8.269e-02  -1.803 0.073244 .  \n",
       "scale(x)new_gendist_weighted  7.802e-02  8.453e-02   0.923 0.357448    \n",
       "scale(x)religion_per          2.042e-01  1.005e-01   2.033 0.043770 *  \n",
       "scale(x)idealogy             -6.346e-02  7.128e-02  -0.890 0.374652    \n",
       "scale(x)demographics          1.330e-01  7.666e-02   1.735 0.084678 .  \n",
       "---\n",
       "Signif. codes:  0 '***' 0.001 '**' 0.01 '*' 0.05 '.' 0.1 ' ' 1\n",
       "\n",
       "Residual standard error: 0.8358 on 156 degrees of freedom\n",
       "Multiple R-squared:  0.359,\tAdjusted R-squared:  0.3014 \n",
       "F-statistic:  6.24 on 14 and 156 DF,  p-value: 8.653e-10\n"
      ]
     },
     "metadata": {},
     "output_type": "display_data"
    },
    {
     "name": "stdout",
     "output_type": "stream",
     "text": [
      "[1] \"fstats: 6.24003044301052\"\n",
      "[1] \"r2stats: 0.358975481615821\"\n",
      "[1] 10000\n",
      "[1] \"permf_pvals 0.1632\"\n"
     ]
    },
    {
     "data": {
      "text/html": [
       "<table class=\"dataframe\">\n",
       "<caption>A data.frame: 1 × 14</caption>\n",
       "<thead>\n",
       "\t<tr><th scope=col>Lexical</th><th scope=col>personality_all</th><th scope=col>Coordinate</th><th scope=col>Climatic_demands</th><th scope=col>subsistence</th><th scope=col>disease</th><th scope=col>urban</th><th scope=col>wealth</th><th scope=col>edu</th><th scope=col>Hofstede_6D</th><th scope=col>new_gendist_weighted</th><th scope=col>religion_per</th><th scope=col>idealogy</th><th scope=col>demographics</th></tr>\n",
       "\t<tr><th scope=col>&lt;dbl&gt;</th><th scope=col>&lt;dbl&gt;</th><th scope=col>&lt;dbl&gt;</th><th scope=col>&lt;dbl&gt;</th><th scope=col>&lt;dbl&gt;</th><th scope=col>&lt;dbl&gt;</th><th scope=col>&lt;dbl&gt;</th><th scope=col>&lt;dbl&gt;</th><th scope=col>&lt;dbl&gt;</th><th scope=col>&lt;dbl&gt;</th><th scope=col>&lt;dbl&gt;</th><th scope=col>&lt;dbl&gt;</th><th scope=col>&lt;dbl&gt;</th><th scope=col>&lt;dbl&gt;</th></tr>\n",
       "</thead>\n",
       "<tbody>\n",
       "\t<tr><td>0.6638</td><td>0.2554</td><td>0.6415</td><td>0.1578</td><td>0.9088</td><td>0.849</td><td>0.0528</td><td>0.6356</td><td>0.149</td><td>0.8191</td><td>0.332</td><td>0.1004</td><td>0.6712</td><td>0.1934</td></tr>\n",
       "</tbody>\n",
       "</table>\n"
      ],
      "text/latex": [
       "A data.frame: 1 × 14\n",
       "\\begin{tabular}{llllllllllllll}\n",
       " Lexical & personality\\_all & Coordinate & Climatic\\_demands & subsistence & disease & urban & wealth & edu & Hofstede\\_6D & new\\_gendist\\_weighted & religion\\_per & idealogy & demographics\\\\\n",
       " <dbl> & <dbl> & <dbl> & <dbl> & <dbl> & <dbl> & <dbl> & <dbl> & <dbl> & <dbl> & <dbl> & <dbl> & <dbl> & <dbl>\\\\\n",
       "\\hline\n",
       "\t 0.6638 & 0.2554 & 0.6415 & 0.1578 & 0.9088 & 0.849 & 0.0528 & 0.6356 & 0.149 & 0.8191 & 0.332 & 0.1004 & 0.6712 & 0.1934\\\\\n",
       "\\end{tabular}\n"
      ],
      "text/markdown": [
       "\n",
       "A data.frame: 1 × 14\n",
       "\n",
       "| Lexical &lt;dbl&gt; | personality_all &lt;dbl&gt; | Coordinate &lt;dbl&gt; | Climatic_demands &lt;dbl&gt; | subsistence &lt;dbl&gt; | disease &lt;dbl&gt; | urban &lt;dbl&gt; | wealth &lt;dbl&gt; | edu &lt;dbl&gt; | Hofstede_6D &lt;dbl&gt; | new_gendist_weighted &lt;dbl&gt; | religion_per &lt;dbl&gt; | idealogy &lt;dbl&gt; | demographics &lt;dbl&gt; |\n",
       "|---|---|---|---|---|---|---|---|---|---|---|---|---|---|\n",
       "| 0.6638 | 0.2554 | 0.6415 | 0.1578 | 0.9088 | 0.849 | 0.0528 | 0.6356 | 0.149 | 0.8191 | 0.332 | 0.1004 | 0.6712 | 0.1934 |\n",
       "\n"
      ],
      "text/plain": [
       "  Lexical personality_all Coordinate Climatic_demands subsistence disease\n",
       "1 0.6638  0.2554          0.6415     0.1578           0.9088      0.849  \n",
       "  urban  wealth edu   Hofstede_6D new_gendist_weighted religion_per idealogy\n",
       "1 0.0528 0.6356 0.149 0.8191      0.332                0.1004       0.6712  \n",
       "  demographics\n",
       "1 0.1934      "
      ]
     },
     "metadata": {},
     "output_type": "display_data"
    }
   ],
   "source": [
    "# 1.regression coefficient\n",
    "model_rdm = read.csv('output_data/models_rdm/dimensional/valence_dissim_dist.csv',\n",
    "                    row.names =1, check.names = FALSE)\n",
    "model_rdm = model_rdm[regions_order,regions_order]\n",
    "model_rdm_array = lowerTriangle(model_rdm)\n",
    "\n",
    "x <- do.call(cbind,lapply(variables,function(x) lowerTriangle(x))) # generate permuted predictors\n",
    "colnames(x) = variables_names\n",
    "culture_regress_standard <- lm(scale(model_rdm_array)~scale(x))\n",
    "culture_regress_standard_model <- summary(culture_regress_standard)\n",
    "culture_regress_standard_model\n",
    "\n",
    "write.csv(culture_regress_standard_model$coefficients,\n",
    " file='output_data/beta_sub/valence_33d.csv')\n",
    "valence_regression = culture_regress_standard_model\n",
    "\n",
    "# 2.permutation\n",
    "p_value_sub = permutation_result(valence_regression)\n",
    "p_value_sub\n",
    "write.csv(p_value_sub,'output_data/p_value_sub/valence_33d.csv')                          "
   ]
  },
  {
   "cell_type": "markdown",
   "id": "ec719acf",
   "metadata": {},
   "source": [
    "## Exchange"
   ]
  },
  {
   "cell_type": "code",
   "execution_count": 16,
   "id": "ae8b1d09",
   "metadata": {
    "ExecuteTime": {
     "end_time": "2022-12-21T09:45:01.865824Z",
     "start_time": "2022-12-21T09:38:54.830Z"
    }
   },
   "outputs": [
    {
     "data": {
      "text/plain": [
       "\n",
       "Call:\n",
       "lm(formula = scale(model_rdm_array) ~ scale(x))\n",
       "\n",
       "Residuals:\n",
       "     Min       1Q   Median       3Q      Max \n",
       "-2.27923 -0.59931 -0.06521  0.56893  2.09889 \n",
       "\n",
       "Coefficients:\n",
       "                               Estimate Std. Error t value Pr(>|t|)    \n",
       "(Intercept)                   4.802e-16  6.965e-02   0.000 1.000000    \n",
       "scale(x)Lexical               3.515e-02  9.160e-02   0.384 0.701686    \n",
       "scale(x)personality_all      -7.234e-02  8.119e-02  -0.891 0.374302    \n",
       "scale(x)Coordinate           -4.688e-02  8.534e-02  -0.549 0.583554    \n",
       "scale(x)Climatic_demands      1.869e-02  7.985e-02   0.234 0.815239    \n",
       "scale(x)subsistence           6.340e-02  8.168e-02   0.776 0.438755    \n",
       "scale(x)disease               8.121e-03  8.097e-02   0.100 0.920240    \n",
       "scale(x)urban                 2.920e-01  8.636e-02   3.381 0.000914 ***\n",
       "scale(x)wealth               -5.008e-02  8.560e-02  -0.585 0.559363    \n",
       "scale(x)edu                   1.349e-01  7.818e-02   1.726 0.086329 .  \n",
       "scale(x)Hofstede_6D          -4.540e-03  9.011e-02  -0.050 0.959881    \n",
       "scale(x)new_gendist_weighted -2.216e-01  9.212e-02  -2.405 0.017327 *  \n",
       "scale(x)religion_per          1.585e-01  1.095e-01   1.448 0.149575    \n",
       "scale(x)idealogy             -1.828e-01  7.767e-02  -2.353 0.019864 *  \n",
       "scale(x)demographics          2.472e-02  8.355e-02   0.296 0.767671    \n",
       "---\n",
       "Signif. codes:  0 '***' 0.001 '**' 0.01 '*' 0.05 '.' 0.1 ' ' 1\n",
       "\n",
       "Residual standard error: 0.9108 on 156 degrees of freedom\n",
       "Multiple R-squared:  0.2387,\tAdjusted R-squared:  0.1704 \n",
       "F-statistic: 3.494 on 14 and 156 DF,  p-value: 5.628e-05\n"
      ]
     },
     "metadata": {},
     "output_type": "display_data"
    },
    {
     "name": "stdout",
     "output_type": "stream",
     "text": [
      "[1] \"fstats: 3.49421269857608\"\n",
      "[1] \"r2stats: 0.238723510677321\"\n",
      "[1] 10000\n",
      "[1] \"permf_pvals 0.5542\"\n"
     ]
    },
    {
     "data": {
      "text/html": [
       "<table class=\"dataframe\">\n",
       "<caption>A data.frame: 1 × 14</caption>\n",
       "<thead>\n",
       "\t<tr><th scope=col>Lexical</th><th scope=col>personality_all</th><th scope=col>Coordinate</th><th scope=col>Climatic_demands</th><th scope=col>subsistence</th><th scope=col>disease</th><th scope=col>urban</th><th scope=col>wealth</th><th scope=col>edu</th><th scope=col>Hofstede_6D</th><th scope=col>new_gendist_weighted</th><th scope=col>religion_per</th><th scope=col>idealogy</th><th scope=col>demographics</th></tr>\n",
       "\t<tr><th scope=col>&lt;dbl&gt;</th><th scope=col>&lt;dbl&gt;</th><th scope=col>&lt;dbl&gt;</th><th scope=col>&lt;dbl&gt;</th><th scope=col>&lt;dbl&gt;</th><th scope=col>&lt;dbl&gt;</th><th scope=col>&lt;dbl&gt;</th><th scope=col>&lt;dbl&gt;</th><th scope=col>&lt;dbl&gt;</th><th scope=col>&lt;dbl&gt;</th><th scope=col>&lt;dbl&gt;</th><th scope=col>&lt;dbl&gt;</th><th scope=col>&lt;dbl&gt;</th><th scope=col>&lt;dbl&gt;</th></tr>\n",
       "</thead>\n",
       "<tbody>\n",
       "\t<tr><td>0.4003</td><td>0.6124</td><td>0.6017</td><td>0.3839</td><td>0.3101</td><td>0.4632</td><td>0.0525</td><td>0.6151</td><td>0.1751</td><td>0.5091</td><td>0.8554</td><td>0.155</td><td>0.934</td><td>0.4116</td></tr>\n",
       "</tbody>\n",
       "</table>\n"
      ],
      "text/latex": [
       "A data.frame: 1 × 14\n",
       "\\begin{tabular}{llllllllllllll}\n",
       " Lexical & personality\\_all & Coordinate & Climatic\\_demands & subsistence & disease & urban & wealth & edu & Hofstede\\_6D & new\\_gendist\\_weighted & religion\\_per & idealogy & demographics\\\\\n",
       " <dbl> & <dbl> & <dbl> & <dbl> & <dbl> & <dbl> & <dbl> & <dbl> & <dbl> & <dbl> & <dbl> & <dbl> & <dbl> & <dbl>\\\\\n",
       "\\hline\n",
       "\t 0.4003 & 0.6124 & 0.6017 & 0.3839 & 0.3101 & 0.4632 & 0.0525 & 0.6151 & 0.1751 & 0.5091 & 0.8554 & 0.155 & 0.934 & 0.4116\\\\\n",
       "\\end{tabular}\n"
      ],
      "text/markdown": [
       "\n",
       "A data.frame: 1 × 14\n",
       "\n",
       "| Lexical &lt;dbl&gt; | personality_all &lt;dbl&gt; | Coordinate &lt;dbl&gt; | Climatic_demands &lt;dbl&gt; | subsistence &lt;dbl&gt; | disease &lt;dbl&gt; | urban &lt;dbl&gt; | wealth &lt;dbl&gt; | edu &lt;dbl&gt; | Hofstede_6D &lt;dbl&gt; | new_gendist_weighted &lt;dbl&gt; | religion_per &lt;dbl&gt; | idealogy &lt;dbl&gt; | demographics &lt;dbl&gt; |\n",
       "|---|---|---|---|---|---|---|---|---|---|---|---|---|---|\n",
       "| 0.4003 | 0.6124 | 0.6017 | 0.3839 | 0.3101 | 0.4632 | 0.0525 | 0.6151 | 0.1751 | 0.5091 | 0.8554 | 0.155 | 0.934 | 0.4116 |\n",
       "\n"
      ],
      "text/plain": [
       "  Lexical personality_all Coordinate Climatic_demands subsistence disease\n",
       "1 0.4003  0.6124          0.6017     0.3839           0.3101      0.4632 \n",
       "  urban  wealth edu    Hofstede_6D new_gendist_weighted religion_per idealogy\n",
       "1 0.0525 0.6151 0.1751 0.5091      0.8554               0.155        0.934   \n",
       "  demographics\n",
       "1 0.4116      "
      ]
     },
     "metadata": {},
     "output_type": "display_data"
    }
   ],
   "source": [
    "# 1.regression coefficient\n",
    "model_rdm = read.csv('output_data/models_rdm/dimensional/exchange_dissim_dist.csv',\n",
    "                    row.names =1, check.names = FALSE)\n",
    "model_rdm = model_rdm[regions_order,regions_order]\n",
    "model_rdm_array = lowerTriangle(model_rdm)\n",
    "\n",
    "x <- do.call(cbind,lapply(variables,function(x) lowerTriangle(x))) # generate permuted predictors\n",
    "colnames(x) = variables_names\n",
    "culture_regress_standard <- lm(scale(model_rdm_array)~scale(x))\n",
    "culture_regress_standard_model <- summary(culture_regress_standard)\n",
    "culture_regress_standard_model\n",
    "\n",
    "write.csv(culture_regress_standard_model$coefficients,\n",
    " file='output_data/beta_sub/exchange_33d.csv')\n",
    "exchange_regression = culture_regress_standard_model\n",
    "\n",
    "# 2.permutation\n",
    "p_value_sub = permutation_result(exchange_regression)\n",
    "p_value_sub\n",
    "write.csv(p_value_sub,'output_data/p_value_sub/exchange_33d.csv')                         "
   ]
  },
  {
   "cell_type": "markdown",
   "id": "4f61c16f",
   "metadata": {},
   "source": [
    "## Equality"
   ]
  },
  {
   "cell_type": "code",
   "execution_count": 17,
   "id": "a56d9a56",
   "metadata": {
    "ExecuteTime": {
     "end_time": "2022-12-21T09:45:52.417749Z",
     "start_time": "2022-12-21T09:38:54.917Z"
    }
   },
   "outputs": [
    {
     "data": {
      "text/plain": [
       "\n",
       "Call:\n",
       "lm(formula = scale(model_rdm_array) ~ scale(x))\n",
       "\n",
       "Residuals:\n",
       "     Min       1Q   Median       3Q      Max \n",
       "-2.09675 -0.46628  0.04369  0.48620  1.36742 \n",
       "\n",
       "Coefficients:\n",
       "                               Estimate Std. Error t value Pr(>|t|)    \n",
       "(Intercept)                   1.849e-16  5.475e-02   0.000 1.000000    \n",
       "scale(x)Lexical              -7.474e-02  7.201e-02  -1.038 0.300881    \n",
       "scale(x)personality_all       2.916e-01  6.382e-02   4.569 9.91e-06 ***\n",
       "scale(x)Coordinate           -1.461e-01  6.708e-02  -2.178 0.030887 *  \n",
       "scale(x)Climatic_demands      9.126e-02  6.277e-02   1.454 0.147978    \n",
       "scale(x)subsistence          -1.041e-02  6.420e-02  -0.162 0.871378    \n",
       "scale(x)disease              -2.136e-02  6.365e-02  -0.336 0.737649    \n",
       "scale(x)urban                 2.528e-01  6.789e-02   3.724 0.000273 ***\n",
       "scale(x)wealth               -6.010e-02  6.729e-02  -0.893 0.373181    \n",
       "scale(x)edu                   1.377e-01  6.146e-02   2.240 0.026481 *  \n",
       "scale(x)Hofstede_6D          -1.070e-01  7.083e-02  -1.511 0.132821    \n",
       "scale(x)new_gendist_weighted -1.868e-01  7.242e-02  -2.579 0.010821 *  \n",
       "scale(x)religion_per          3.880e-01  8.605e-02   4.509 1.27e-05 ***\n",
       "scale(x)idealogy             -1.010e-01  6.106e-02  -1.654 0.100172    \n",
       "scale(x)demographics          1.291e-01  6.567e-02   1.967 0.051013 .  \n",
       "---\n",
       "Signif. codes:  0 '***' 0.001 '**' 0.01 '*' 0.05 '.' 0.1 ' ' 1\n",
       "\n",
       "Residual standard error: 0.716 on 156 degrees of freedom\n",
       "Multiple R-squared:  0.5296,\tAdjusted R-squared:  0.4874 \n",
       "F-statistic: 12.54 on 14 and 156 DF,  p-value: < 2.2e-16\n"
      ]
     },
     "metadata": {},
     "output_type": "display_data"
    },
    {
     "name": "stdout",
     "output_type": "stream",
     "text": [
      "[1] \"fstats: 12.5449625979464\"\n",
      "[1] \"r2stats: 0.529595494022485\"\n",
      "[1] 10000\n",
      "[1] \"permf_pvals 0.003\"\n"
     ]
    },
    {
     "data": {
      "text/html": [
       "<table class=\"dataframe\">\n",
       "<caption>A data.frame: 1 × 14</caption>\n",
       "<thead>\n",
       "\t<tr><th scope=col>Lexical</th><th scope=col>personality_all</th><th scope=col>Coordinate</th><th scope=col>Climatic_demands</th><th scope=col>subsistence</th><th scope=col>disease</th><th scope=col>urban</th><th scope=col>wealth</th><th scope=col>edu</th><th scope=col>Hofstede_6D</th><th scope=col>new_gendist_weighted</th><th scope=col>religion_per</th><th scope=col>idealogy</th><th scope=col>demographics</th></tr>\n",
       "\t<tr><th scope=col>&lt;dbl&gt;</th><th scope=col>&lt;dbl&gt;</th><th scope=col>&lt;dbl&gt;</th><th scope=col>&lt;dbl&gt;</th><th scope=col>&lt;dbl&gt;</th><th scope=col>&lt;dbl&gt;</th><th scope=col>&lt;dbl&gt;</th><th scope=col>&lt;dbl&gt;</th><th scope=col>&lt;dbl&gt;</th><th scope=col>&lt;dbl&gt;</th><th scope=col>&lt;dbl&gt;</th><th scope=col>&lt;dbl&gt;</th><th scope=col>&lt;dbl&gt;</th><th scope=col>&lt;dbl&gt;</th></tr>\n",
       "</thead>\n",
       "<tbody>\n",
       "\t<tr><td>0.7048</td><td>0.0596</td><td>0.8405</td><td>0.289</td><td>0.5073</td><td>0.589</td><td>0.0756</td><td>0.6503</td><td>0.167</td><td>0.7393</td><td>0.8009</td><td>0.0074</td><td>0.7805</td><td>0.1938</td></tr>\n",
       "</tbody>\n",
       "</table>\n"
      ],
      "text/latex": [
       "A data.frame: 1 × 14\n",
       "\\begin{tabular}{llllllllllllll}\n",
       " Lexical & personality\\_all & Coordinate & Climatic\\_demands & subsistence & disease & urban & wealth & edu & Hofstede\\_6D & new\\_gendist\\_weighted & religion\\_per & idealogy & demographics\\\\\n",
       " <dbl> & <dbl> & <dbl> & <dbl> & <dbl> & <dbl> & <dbl> & <dbl> & <dbl> & <dbl> & <dbl> & <dbl> & <dbl> & <dbl>\\\\\n",
       "\\hline\n",
       "\t 0.7048 & 0.0596 & 0.8405 & 0.289 & 0.5073 & 0.589 & 0.0756 & 0.6503 & 0.167 & 0.7393 & 0.8009 & 0.0074 & 0.7805 & 0.1938\\\\\n",
       "\\end{tabular}\n"
      ],
      "text/markdown": [
       "\n",
       "A data.frame: 1 × 14\n",
       "\n",
       "| Lexical &lt;dbl&gt; | personality_all &lt;dbl&gt; | Coordinate &lt;dbl&gt; | Climatic_demands &lt;dbl&gt; | subsistence &lt;dbl&gt; | disease &lt;dbl&gt; | urban &lt;dbl&gt; | wealth &lt;dbl&gt; | edu &lt;dbl&gt; | Hofstede_6D &lt;dbl&gt; | new_gendist_weighted &lt;dbl&gt; | religion_per &lt;dbl&gt; | idealogy &lt;dbl&gt; | demographics &lt;dbl&gt; |\n",
       "|---|---|---|---|---|---|---|---|---|---|---|---|---|---|\n",
       "| 0.7048 | 0.0596 | 0.8405 | 0.289 | 0.5073 | 0.589 | 0.0756 | 0.6503 | 0.167 | 0.7393 | 0.8009 | 0.0074 | 0.7805 | 0.1938 |\n",
       "\n"
      ],
      "text/plain": [
       "  Lexical personality_all Coordinate Climatic_demands subsistence disease\n",
       "1 0.7048  0.0596          0.8405     0.289            0.5073      0.589  \n",
       "  urban  wealth edu   Hofstede_6D new_gendist_weighted religion_per idealogy\n",
       "1 0.0756 0.6503 0.167 0.7393      0.8009               0.0074       0.7805  \n",
       "  demographics\n",
       "1 0.1938      "
      ]
     },
     "metadata": {},
     "output_type": "display_data"
    }
   ],
   "source": [
    "# 1.regression coefficient\n",
    "model_rdm = read.csv('output_data/models_rdm/dimensional/equality_dissim_dist.csv',\n",
    "                    row.names =1, check.names = FALSE)\n",
    "model_rdm = model_rdm[regions_order,regions_order]\n",
    "model_rdm_array = lowerTriangle(model_rdm)\n",
    "\n",
    "x <- do.call(cbind,lapply(variables,function(x) lowerTriangle(x))) # generate permuted predictors\n",
    "colnames(x) = variables_names\n",
    "culture_regress_standard <- lm(scale(model_rdm_array)~scale(x))\n",
    "culture_regress_standard_model <- summary(culture_regress_standard)\n",
    "culture_regress_standard_model\n",
    "\n",
    "write.csv(culture_regress_standard_model$coefficients,\n",
    " file='output_data/beta_sub/equality_33d.csv')\n",
    "equality_regression = culture_regress_standard_model\n",
    "\n",
    "# 2.permutation\n",
    "p_value_sub = permutation_result(equality_regression)\n",
    "p_value_sub\n",
    "write.csv(p_value_sub,'output_data/p_value_sub/equality_33d.csv')                          "
   ]
  },
  {
   "cell_type": "markdown",
   "id": "536a4c43",
   "metadata": {},
   "source": [
    "# Categorical: single category"
   ]
  },
  {
   "cell_type": "markdown",
   "id": "fe77b036",
   "metadata": {},
   "source": [
    "## Hostile"
   ]
  },
  {
   "cell_type": "code",
   "execution_count": 18,
   "id": "2d301249",
   "metadata": {
    "ExecuteTime": {
     "end_time": "2022-12-21T09:46:39.568517Z",
     "start_time": "2022-12-21T09:38:55.084Z"
    }
   },
   "outputs": [
    {
     "data": {
      "text/plain": [
       "\n",
       "Call:\n",
       "lm(formula = scale(model_rdm_array) ~ scale(x))\n",
       "\n",
       "Residuals:\n",
       "     Min       1Q   Median       3Q      Max \n",
       "-2.03637 -0.61396 -0.02863  0.71659  1.82021 \n",
       "\n",
       "Coefficients:\n",
       "                               Estimate Std. Error t value Pr(>|t|)   \n",
       "(Intercept)                  -2.630e-17  7.253e-02   0.000  1.00000   \n",
       "scale(x)Lexical               2.283e-01  9.539e-02   2.393  0.01789 * \n",
       "scale(x)personality_all       1.428e-03  8.454e-02   0.017  0.98655   \n",
       "scale(x)Coordinate           -6.799e-02  8.886e-02  -0.765  0.44540   \n",
       "scale(x)Climatic_demands      4.672e-02  8.315e-02   0.562  0.57501   \n",
       "scale(x)subsistence           2.401e-01  8.505e-02   2.823  0.00539 **\n",
       "scale(x)disease               1.078e-01  8.431e-02   1.279  0.20286   \n",
       "scale(x)urban                 1.213e-01  8.993e-02   1.349  0.17928   \n",
       "scale(x)wealth                6.072e-02  8.914e-02   0.681  0.49678   \n",
       "scale(x)edu                   3.506e-02  8.141e-02   0.431  0.66729   \n",
       "scale(x)Hofstede_6D          -9.141e-03  9.383e-02  -0.097  0.92252   \n",
       "scale(x)new_gendist_weighted -1.977e-01  9.593e-02  -2.061  0.04100 * \n",
       "scale(x)religion_per          8.542e-02  1.140e-01   0.749  0.45479   \n",
       "scale(x)idealogy              5.443e-02  8.088e-02   0.673  0.50196   \n",
       "scale(x)demographics         -1.764e-01  8.700e-02  -2.028  0.04425 * \n",
       "---\n",
       "Signif. codes:  0 '***' 0.001 '**' 0.01 '*' 0.05 '.' 0.1 ' ' 1\n",
       "\n",
       "Residual standard error: 0.9484 on 156 degrees of freedom\n",
       "Multiple R-squared:  0.1745,\tAdjusted R-squared:  0.1005 \n",
       "F-statistic: 2.356 on 14 and 156 DF,  p-value: 0.005459\n"
      ]
     },
     "metadata": {},
     "output_type": "display_data"
    },
    {
     "name": "stdout",
     "output_type": "stream",
     "text": [
      "[1] \"fstats: 2.35623952319378\"\n",
      "[1] \"r2stats: 0.17454794061291\"\n",
      "[1] 10000\n",
      "[1] \"permf_pvals 0.107\"\n"
     ]
    },
    {
     "data": {
      "text/html": [
       "<table class=\"dataframe\">\n",
       "<caption>A data.frame: 1 × 14</caption>\n",
       "<thead>\n",
       "\t<tr><th scope=col>Lexical</th><th scope=col>personality_all</th><th scope=col>Coordinate</th><th scope=col>Climatic_demands</th><th scope=col>subsistence</th><th scope=col>disease</th><th scope=col>urban</th><th scope=col>wealth</th><th scope=col>edu</th><th scope=col>Hofstede_6D</th><th scope=col>new_gendist_weighted</th><th scope=col>religion_per</th><th scope=col>idealogy</th><th scope=col>demographics</th></tr>\n",
       "\t<tr><th scope=col>&lt;dbl&gt;</th><th scope=col>&lt;dbl&gt;</th><th scope=col>&lt;dbl&gt;</th><th scope=col>&lt;dbl&gt;</th><th scope=col>&lt;dbl&gt;</th><th scope=col>&lt;dbl&gt;</th><th scope=col>&lt;dbl&gt;</th><th scope=col>&lt;dbl&gt;</th><th scope=col>&lt;dbl&gt;</th><th scope=col>&lt;dbl&gt;</th><th scope=col>&lt;dbl&gt;</th><th scope=col>&lt;dbl&gt;</th><th scope=col>&lt;dbl&gt;</th><th scope=col>&lt;dbl&gt;</th></tr>\n",
       "</thead>\n",
       "<tbody>\n",
       "\t<tr><td>0.024</td><td>0.466</td><td>0.7278</td><td>0.312</td><td>0.0216</td><td>0.1129</td><td>0.1386</td><td>0.2495</td><td>0.3364</td><td>0.5207</td><td>0.943</td><td>0.2459</td><td>0.271</td><td>0.963</td></tr>\n",
       "</tbody>\n",
       "</table>\n"
      ],
      "text/latex": [
       "A data.frame: 1 × 14\n",
       "\\begin{tabular}{llllllllllllll}\n",
       " Lexical & personality\\_all & Coordinate & Climatic\\_demands & subsistence & disease & urban & wealth & edu & Hofstede\\_6D & new\\_gendist\\_weighted & religion\\_per & idealogy & demographics\\\\\n",
       " <dbl> & <dbl> & <dbl> & <dbl> & <dbl> & <dbl> & <dbl> & <dbl> & <dbl> & <dbl> & <dbl> & <dbl> & <dbl> & <dbl>\\\\\n",
       "\\hline\n",
       "\t 0.024 & 0.466 & 0.7278 & 0.312 & 0.0216 & 0.1129 & 0.1386 & 0.2495 & 0.3364 & 0.5207 & 0.943 & 0.2459 & 0.271 & 0.963\\\\\n",
       "\\end{tabular}\n"
      ],
      "text/markdown": [
       "\n",
       "A data.frame: 1 × 14\n",
       "\n",
       "| Lexical &lt;dbl&gt; | personality_all &lt;dbl&gt; | Coordinate &lt;dbl&gt; | Climatic_demands &lt;dbl&gt; | subsistence &lt;dbl&gt; | disease &lt;dbl&gt; | urban &lt;dbl&gt; | wealth &lt;dbl&gt; | edu &lt;dbl&gt; | Hofstede_6D &lt;dbl&gt; | new_gendist_weighted &lt;dbl&gt; | religion_per &lt;dbl&gt; | idealogy &lt;dbl&gt; | demographics &lt;dbl&gt; |\n",
       "|---|---|---|---|---|---|---|---|---|---|---|---|---|---|\n",
       "| 0.024 | 0.466 | 0.7278 | 0.312 | 0.0216 | 0.1129 | 0.1386 | 0.2495 | 0.3364 | 0.5207 | 0.943 | 0.2459 | 0.271 | 0.963 |\n",
       "\n"
      ],
      "text/plain": [
       "  Lexical personality_all Coordinate Climatic_demands subsistence disease\n",
       "1 0.024   0.466           0.7278     0.312            0.0216      0.1129 \n",
       "  urban  wealth edu    Hofstede_6D new_gendist_weighted religion_per idealogy\n",
       "1 0.1386 0.2495 0.3364 0.5207      0.943                0.2459       0.271   \n",
       "  demographics\n",
       "1 0.963       "
      ]
     },
     "metadata": {},
     "output_type": "display_data"
    }
   ],
   "source": [
    "# 1.regression coefficient\n",
    "model_rdm = read.csv('output_data/models_rdm/categorical/hostile_dissim_dist.csv',\n",
    "                    row.names =1, check.names = FALSE)\n",
    "model_rdm = model_rdm[regions_order,regions_order]\n",
    "model_rdm_array = lowerTriangle(model_rdm)\n",
    "\n",
    "x <- do.call(cbind,lapply(variables,function(x) lowerTriangle(x))) # generate permuted predictors\n",
    "colnames(x) = variables_names\n",
    "culture_regress_standard <- lm(scale(model_rdm_array)~scale(x))\n",
    "culture_regress_standard_model <- summary(culture_regress_standard)\n",
    "culture_regress_standard_model\n",
    "\n",
    "write.csv(culture_regress_standard_model$coefficients,\n",
    " file='output_data/beta_sub/hostile_33d.csv')\n",
    "hostile_regression = culture_regress_standard_model\n",
    "\n",
    "# 2.permutation\n",
    "p_value_sub = permutation_result(hostile_regression)\n",
    "p_value_sub\n",
    "write.csv(p_value_sub,'output_data/p_value_sub/hostile_33d.csv')                         "
   ]
  },
  {
   "cell_type": "markdown",
   "id": "43918259",
   "metadata": {},
   "source": [
    "## Private"
   ]
  },
  {
   "cell_type": "code",
   "execution_count": 19,
   "id": "9b64f1c6",
   "metadata": {
    "ExecuteTime": {
     "end_time": "2022-12-21T09:47:26.604144Z",
     "start_time": "2022-12-21T09:38:55.161Z"
    }
   },
   "outputs": [
    {
     "data": {
      "text/plain": [
       "\n",
       "Call:\n",
       "lm(formula = scale(model_rdm_array) ~ scale(x))\n",
       "\n",
       "Residuals:\n",
       "    Min      1Q  Median      3Q     Max \n",
       "-2.4311 -0.5891 -0.0390  0.6522  2.6445 \n",
       "\n",
       "Coefficients:\n",
       "                               Estimate Std. Error t value Pr(>|t|)    \n",
       "(Intercept)                  -2.487e-16  6.957e-02   0.000 1.000000    \n",
       "scale(x)Lexical               9.854e-02  9.149e-02   1.077 0.283124    \n",
       "scale(x)personality_all      -1.420e-02  8.109e-02  -0.175 0.861167    \n",
       "scale(x)Coordinate           -1.157e-01  8.524e-02  -1.357 0.176773    \n",
       "scale(x)Climatic_demands      1.356e-01  7.975e-02   1.700 0.091177 .  \n",
       "scale(x)subsistence          -8.163e-02  8.158e-02  -1.001 0.318556    \n",
       "scale(x)disease              -6.757e-02  8.087e-02  -0.835 0.404714    \n",
       "scale(x)urban                 2.311e-01  8.626e-02   2.679 0.008173 ** \n",
       "scale(x)wealth                1.776e-01  8.550e-02   2.077 0.039467 *  \n",
       "scale(x)edu                  -3.391e-02  7.809e-02  -0.434 0.664710    \n",
       "scale(x)Hofstede_6D          -9.398e-02  9.000e-02  -1.044 0.297967    \n",
       "scale(x)new_gendist_weighted  2.695e-02  9.201e-02   0.293 0.770012    \n",
       "scale(x)religion_per          2.893e-01  1.093e-01   2.646 0.008989 ** \n",
       "scale(x)idealogy             -4.674e-02  7.758e-02  -0.603 0.547697    \n",
       "scale(x)demographics         -2.954e-01  8.344e-02  -3.540 0.000527 ***\n",
       "---\n",
       "Signif. codes:  0 '***' 0.001 '**' 0.01 '*' 0.05 '.' 0.1 ' ' 1\n",
       "\n",
       "Residual standard error: 0.9097 on 156 degrees of freedom\n",
       "Multiple R-squared:  0.2406,\tAdjusted R-squared:  0.1724 \n",
       "F-statistic:  3.53 on 14 and 156 DF,  p-value: 4.856e-05\n"
      ]
     },
     "metadata": {},
     "output_type": "display_data"
    },
    {
     "name": "stdout",
     "output_type": "stream",
     "text": [
      "[1] \"fstats: 3.53017733295865\"\n",
      "[1] \"r2stats: 0.240589452630069\"\n",
      "[1] 10000\n",
      "[1] \"permf_pvals 0.1645\"\n"
     ]
    },
    {
     "data": {
      "text/html": [
       "<table class=\"dataframe\">\n",
       "<caption>A data.frame: 1 × 14</caption>\n",
       "<thead>\n",
       "\t<tr><th scope=col>Lexical</th><th scope=col>personality_all</th><th scope=col>Coordinate</th><th scope=col>Climatic_demands</th><th scope=col>subsistence</th><th scope=col>disease</th><th scope=col>urban</th><th scope=col>wealth</th><th scope=col>edu</th><th scope=col>Hofstede_6D</th><th scope=col>new_gendist_weighted</th><th scope=col>religion_per</th><th scope=col>idealogy</th><th scope=col>demographics</th></tr>\n",
       "\t<tr><th scope=col>&lt;dbl&gt;</th><th scope=col>&lt;dbl&gt;</th><th scope=col>&lt;dbl&gt;</th><th scope=col>&lt;dbl&gt;</th><th scope=col>&lt;dbl&gt;</th><th scope=col>&lt;dbl&gt;</th><th scope=col>&lt;dbl&gt;</th><th scope=col>&lt;dbl&gt;</th><th scope=col>&lt;dbl&gt;</th><th scope=col>&lt;dbl&gt;</th><th scope=col>&lt;dbl&gt;</th><th scope=col>&lt;dbl&gt;</th><th scope=col>&lt;dbl&gt;</th><th scope=col>&lt;dbl&gt;</th></tr>\n",
       "</thead>\n",
       "<tbody>\n",
       "\t<tr><td>0.2081</td><td>0.4949</td><td>0.8095</td><td>0.1734</td><td>0.7478</td><td>0.7679</td><td>0.0643</td><td>0.07</td><td>0.5736</td><td>0.7477</td><td>0.4054</td><td>0.022</td><td>0.6481</td><td>0.9951</td></tr>\n",
       "</tbody>\n",
       "</table>\n"
      ],
      "text/latex": [
       "A data.frame: 1 × 14\n",
       "\\begin{tabular}{llllllllllllll}\n",
       " Lexical & personality\\_all & Coordinate & Climatic\\_demands & subsistence & disease & urban & wealth & edu & Hofstede\\_6D & new\\_gendist\\_weighted & religion\\_per & idealogy & demographics\\\\\n",
       " <dbl> & <dbl> & <dbl> & <dbl> & <dbl> & <dbl> & <dbl> & <dbl> & <dbl> & <dbl> & <dbl> & <dbl> & <dbl> & <dbl>\\\\\n",
       "\\hline\n",
       "\t 0.2081 & 0.4949 & 0.8095 & 0.1734 & 0.7478 & 0.7679 & 0.0643 & 0.07 & 0.5736 & 0.7477 & 0.4054 & 0.022 & 0.6481 & 0.9951\\\\\n",
       "\\end{tabular}\n"
      ],
      "text/markdown": [
       "\n",
       "A data.frame: 1 × 14\n",
       "\n",
       "| Lexical &lt;dbl&gt; | personality_all &lt;dbl&gt; | Coordinate &lt;dbl&gt; | Climatic_demands &lt;dbl&gt; | subsistence &lt;dbl&gt; | disease &lt;dbl&gt; | urban &lt;dbl&gt; | wealth &lt;dbl&gt; | edu &lt;dbl&gt; | Hofstede_6D &lt;dbl&gt; | new_gendist_weighted &lt;dbl&gt; | religion_per &lt;dbl&gt; | idealogy &lt;dbl&gt; | demographics &lt;dbl&gt; |\n",
       "|---|---|---|---|---|---|---|---|---|---|---|---|---|---|\n",
       "| 0.2081 | 0.4949 | 0.8095 | 0.1734 | 0.7478 | 0.7679 | 0.0643 | 0.07 | 0.5736 | 0.7477 | 0.4054 | 0.022 | 0.6481 | 0.9951 |\n",
       "\n"
      ],
      "text/plain": [
       "  Lexical personality_all Coordinate Climatic_demands subsistence disease\n",
       "1 0.2081  0.4949          0.8095     0.1734           0.7478      0.7679 \n",
       "  urban  wealth edu    Hofstede_6D new_gendist_weighted religion_per idealogy\n",
       "1 0.0643 0.07   0.5736 0.7477      0.4054               0.022        0.6481  \n",
       "  demographics\n",
       "1 0.9951      "
      ]
     },
     "metadata": {},
     "output_type": "display_data"
    }
   ],
   "source": [
    "# 1.regression coefficient\n",
    "model_rdm = read.csv('output_data/models_rdm/categorical/private_dissim_dist.csv',\n",
    "                    row.names =1, check.names = FALSE)\n",
    "model_rdm = model_rdm[regions_order,regions_order]\n",
    "model_rdm_array = lowerTriangle(model_rdm)\n",
    "\n",
    "x <- do.call(cbind,lapply(variables,function(x) lowerTriangle(x))) # generate permuted predictors\n",
    "colnames(x) = variables_names\n",
    "culture_regress_standard <- lm(scale(model_rdm_array)~scale(x))\n",
    "culture_regress_standard_model <- summary(culture_regress_standard)\n",
    "culture_regress_standard_model\n",
    "\n",
    "write.csv(culture_regress_standard_model$coefficients,\n",
    " file='output_data/beta_sub/private_33d.csv')\n",
    "private_regression = culture_regress_standard_model\n",
    "\n",
    "# 2.permutation\n",
    "p_value_sub = permutation_result(private_regression)\n",
    "p_value_sub\n",
    "write.csv(p_value_sub,'output_data/p_value_sub/private_33d.csv')                           "
   ]
  },
  {
   "cell_type": "markdown",
   "id": "7bc105b3",
   "metadata": {},
   "source": [
    "## Public"
   ]
  },
  {
   "cell_type": "code",
   "execution_count": 20,
   "id": "8ddbd3c0",
   "metadata": {
    "ExecuteTime": {
     "end_time": "2022-12-21T09:48:13.644834Z",
     "start_time": "2022-12-21T09:38:55.252Z"
    }
   },
   "outputs": [
    {
     "data": {
      "text/plain": [
       "\n",
       "Call:\n",
       "lm(formula = scale(model_rdm_array) ~ scale(x))\n",
       "\n",
       "Residuals:\n",
       "     Min       1Q   Median       3Q      Max \n",
       "-1.74377 -0.53129 -0.02727  0.51990  2.50028 \n",
       "\n",
       "Coefficients:\n",
       "                               Estimate Std. Error t value Pr(>|t|)    \n",
       "(Intercept)                   1.590e-16  6.102e-02   0.000 1.000000    \n",
       "scale(x)Lexical               1.797e-02  8.025e-02   0.224 0.823150    \n",
       "scale(x)personality_all       7.284e-02  7.112e-02   1.024 0.307348    \n",
       "scale(x)Coordinate           -1.531e-01  7.476e-02  -2.049 0.042184 *  \n",
       "scale(x)Climatic_demands      1.535e-01  6.995e-02   2.195 0.029675 *  \n",
       "scale(x)subsistence           1.281e-02  7.155e-02   0.179 0.858115    \n",
       "scale(x)disease              -2.003e-02  7.093e-02  -0.282 0.777969    \n",
       "scale(x)urban                 3.643e-01  7.566e-02   4.815 3.46e-06 ***\n",
       "scale(x)wealth                8.430e-02  7.499e-02   1.124 0.262658    \n",
       "scale(x)edu                   4.648e-02  6.849e-02   0.679 0.498350    \n",
       "scale(x)Hofstede_6D          -9.551e-02  7.894e-02  -1.210 0.228142    \n",
       "scale(x)new_gendist_weighted -5.800e-02  8.070e-02  -0.719 0.473422    \n",
       "scale(x)religion_per          3.467e-01  9.590e-02   3.615 0.000405 ***\n",
       "scale(x)idealogy             -6.324e-02  6.804e-02  -0.929 0.354089    \n",
       "scale(x)demographics         -2.609e-01  7.319e-02  -3.565 0.000483 ***\n",
       "---\n",
       "Signif. codes:  0 '***' 0.001 '**' 0.01 '*' 0.05 '.' 0.1 ' ' 1\n",
       "\n",
       "Residual standard error: 0.7979 on 156 degrees of freedom\n",
       "Multiple R-squared:  0.4158,\tAdjusted R-squared:  0.3633 \n",
       "F-statistic:  7.93 on 14 and 156 DF,  p-value: 1.457e-12\n"
      ]
     },
     "metadata": {},
     "output_type": "display_data"
    },
    {
     "name": "stdout",
     "output_type": "stream",
     "text": [
      "[1] \"fstats: 7.9300761646775\"\n",
      "[1] \"r2stats: 0.415776432330143\"\n",
      "[1] 10000\n",
      "[1] \"permf_pvals 0.0311\"\n"
     ]
    },
    {
     "data": {
      "text/html": [
       "<table class=\"dataframe\">\n",
       "<caption>A data.frame: 1 × 14</caption>\n",
       "<thead>\n",
       "\t<tr><th scope=col>Lexical</th><th scope=col>personality_all</th><th scope=col>Coordinate</th><th scope=col>Climatic_demands</th><th scope=col>subsistence</th><th scope=col>disease</th><th scope=col>urban</th><th scope=col>wealth</th><th scope=col>edu</th><th scope=col>Hofstede_6D</th><th scope=col>new_gendist_weighted</th><th scope=col>religion_per</th><th scope=col>idealogy</th><th scope=col>demographics</th></tr>\n",
       "\t<tr><th scope=col>&lt;dbl&gt;</th><th scope=col>&lt;dbl&gt;</th><th scope=col>&lt;dbl&gt;</th><th scope=col>&lt;dbl&gt;</th><th scope=col>&lt;dbl&gt;</th><th scope=col>&lt;dbl&gt;</th><th scope=col>&lt;dbl&gt;</th><th scope=col>&lt;dbl&gt;</th><th scope=col>&lt;dbl&gt;</th><th scope=col>&lt;dbl&gt;</th><th scope=col>&lt;dbl&gt;</th><th scope=col>&lt;dbl&gt;</th><th scope=col>&lt;dbl&gt;</th><th scope=col>&lt;dbl&gt;</th></tr>\n",
       "</thead>\n",
       "<tbody>\n",
       "\t<tr><td>0.4497</td><td>0.2758</td><td>0.8597</td><td>0.1526</td><td>0.4515</td><td>0.5933</td><td>0.0282</td><td>0.2412</td><td>0.3244</td><td>0.7139</td><td>0.5678</td><td>0.009</td><td>0.6758</td><td>0.9756</td></tr>\n",
       "</tbody>\n",
       "</table>\n"
      ],
      "text/latex": [
       "A data.frame: 1 × 14\n",
       "\\begin{tabular}{llllllllllllll}\n",
       " Lexical & personality\\_all & Coordinate & Climatic\\_demands & subsistence & disease & urban & wealth & edu & Hofstede\\_6D & new\\_gendist\\_weighted & religion\\_per & idealogy & demographics\\\\\n",
       " <dbl> & <dbl> & <dbl> & <dbl> & <dbl> & <dbl> & <dbl> & <dbl> & <dbl> & <dbl> & <dbl> & <dbl> & <dbl> & <dbl>\\\\\n",
       "\\hline\n",
       "\t 0.4497 & 0.2758 & 0.8597 & 0.1526 & 0.4515 & 0.5933 & 0.0282 & 0.2412 & 0.3244 & 0.7139 & 0.5678 & 0.009 & 0.6758 & 0.9756\\\\\n",
       "\\end{tabular}\n"
      ],
      "text/markdown": [
       "\n",
       "A data.frame: 1 × 14\n",
       "\n",
       "| Lexical &lt;dbl&gt; | personality_all &lt;dbl&gt; | Coordinate &lt;dbl&gt; | Climatic_demands &lt;dbl&gt; | subsistence &lt;dbl&gt; | disease &lt;dbl&gt; | urban &lt;dbl&gt; | wealth &lt;dbl&gt; | edu &lt;dbl&gt; | Hofstede_6D &lt;dbl&gt; | new_gendist_weighted &lt;dbl&gt; | religion_per &lt;dbl&gt; | idealogy &lt;dbl&gt; | demographics &lt;dbl&gt; |\n",
       "|---|---|---|---|---|---|---|---|---|---|---|---|---|---|\n",
       "| 0.4497 | 0.2758 | 0.8597 | 0.1526 | 0.4515 | 0.5933 | 0.0282 | 0.2412 | 0.3244 | 0.7139 | 0.5678 | 0.009 | 0.6758 | 0.9756 |\n",
       "\n"
      ],
      "text/plain": [
       "  Lexical personality_all Coordinate Climatic_demands subsistence disease\n",
       "1 0.4497  0.2758          0.8597     0.1526           0.4515      0.5933 \n",
       "  urban  wealth edu    Hofstede_6D new_gendist_weighted religion_per idealogy\n",
       "1 0.0282 0.2412 0.3244 0.7139      0.5678               0.009        0.6758  \n",
       "  demographics\n",
       "1 0.9756      "
      ]
     },
     "metadata": {},
     "output_type": "display_data"
    }
   ],
   "source": [
    "# 1.regression coefficient\n",
    "model_rdm = read.csv('output_data/models_rdm/categorical/public_dissim_dist.csv',\n",
    "                    row.names =1, check.names = FALSE)\n",
    "model_rdm = model_rdm[regions_order,regions_order]\n",
    "model_rdm_array = lowerTriangle(model_rdm)\n",
    "\n",
    "x <- do.call(cbind,lapply(variables,function(x) lowerTriangle(x))) # generate permuted predictors\n",
    "colnames(x) = variables_names\n",
    "culture_regress_standard <- lm(scale(model_rdm_array)~scale(x))\n",
    "culture_regress_standard_model <- summary(culture_regress_standard)\n",
    "culture_regress_standard_model\n",
    "\n",
    "write.csv(culture_regress_standard_model$coefficients,\n",
    " file='output_data/beta_sub/public_33d.csv')\n",
    "public_regression = culture_regress_standard_model\n",
    "\n",
    "# 2.permutation\n",
    "p_value_sub = permutation_result(public_regression)\n",
    "p_value_sub\n",
    "write.csv(p_value_sub,'output_data/p_value_sub/public_33d.csv')                         "
   ]
  },
  {
   "cell_type": "markdown",
   "id": "92780394",
   "metadata": {},
   "source": [
    "# Plot RSA regression results in Supplementary"
   ]
  },
  {
   "cell_type": "code",
   "execution_count": 4,
   "id": "cd880e14",
   "metadata": {
    "ExecuteTime": {
     "end_time": "2022-12-22T08:50:58.965847Z",
     "start_time": "2022-12-22T08:50:58.893Z"
    }
   },
   "outputs": [
    {
     "data": {
      "text/html": [
       "<table class=\"dataframe\">\n",
       "<caption>A data.frame: 13 × 9</caption>\n",
       "<thead>\n",
       "\t<tr><th></th><th scope=col>activeness</th><th scope=col>equality</th><th scope=col>exchange</th><th scope=col>formality</th><th scope=col>hostile</th><th scope=col>private</th><th scope=col>public</th><th scope=col>valence</th><th scope=col>Predictor</th></tr>\n",
       "\t<tr><th></th><th scope=col>&lt;dbl&gt;</th><th scope=col>&lt;dbl&gt;</th><th scope=col>&lt;dbl&gt;</th><th scope=col>&lt;dbl&gt;</th><th scope=col>&lt;dbl&gt;</th><th scope=col>&lt;dbl&gt;</th><th scope=col>&lt;dbl&gt;</th><th scope=col>&lt;dbl&gt;</th><th scope=col>&lt;chr&gt;</th></tr>\n",
       "</thead>\n",
       "<tbody>\n",
       "\t<tr><th scope=row>Language</th><td> 0.14721533</td><td>-0.07474380</td><td> 0.035153376</td><td> 0.08243333</td><td> 0.228276966</td><td> 0.09854122</td><td> 0.01796530</td><td>-0.06048312</td><td>Language    </td></tr>\n",
       "\t<tr><th scope=row>Personality</th><td> 0.10452784</td><td> 0.29157621</td><td>-0.072337631</td><td> 0.03090264</td><td> 0.001427814</td><td>-0.01420477</td><td> 0.07284010</td><td> 0.11285479</td><td>Personality </td></tr>\n",
       "\t<tr><th scope=row>Geography</th><td>-0.09305402</td><td>-0.14612684</td><td>-0.046881144</td><td>-0.20135449</td><td>-0.067985623</td><td>-0.11565620</td><td>-0.15314879</td><td>-0.06301135</td><td>Geography   </td></tr>\n",
       "\t<tr><th scope=row>Climates</th><td> 0.08715980</td><td> 0.09126298</td><td> 0.018691045</td><td> 0.11605303</td><td> 0.046720489</td><td> 0.13556106</td><td> 0.15351550</td><td> 0.20429652</td><td>Climates    </td></tr>\n",
       "\t<tr><th scope=row>Subsistence</th><td>-0.01577401</td><td>-0.01041237</td><td> 0.063404832</td><td>-0.06255673</td><td> 0.240058408</td><td>-0.08162829</td><td> 0.01281277</td><td>-0.17962977</td><td>Subsistence </td></tr>\n",
       "\t<tr><th scope=row>Disease</th><td>-0.07274883</td><td>-0.02135807</td><td> 0.008120669</td><td>-0.14179973</td><td> 0.107820686</td><td>-0.06756681</td><td>-0.02003496</td><td>-0.09450391</td><td>Disease     </td></tr>\n",
       "\t<tr><th scope=row>Urbanization</th><td> 0.32492915</td><td> 0.25282009</td><td> 0.291968468</td><td> 0.13996293</td><td> 0.121320459</td><td> 0.23109868</td><td> 0.36428034</td><td> 0.30066521</td><td>Urbanization</td></tr>\n",
       "\t<tr><th scope=row>Wealth</th><td>-0.10564509</td><td>-0.06009681</td><td>-0.050081460</td><td>-0.15423494</td><td> 0.060717793</td><td> 0.17755506</td><td> 0.08430380</td><td>-0.06002433</td><td>Wealth      </td></tr>\n",
       "\t<tr><th scope=row>Education</th><td> 0.14119911</td><td> 0.13768817</td><td> 0.134944840</td><td> 0.16442290</td><td> 0.035062920</td><td>-0.03390943</td><td> 0.04648334</td><td> 0.15670095</td><td>Education   </td></tr>\n",
       "\t<tr><th scope=row>Hofstede6D</th><td>-0.07623519</td><td>-0.10702368</td><td>-0.004539968</td><td>-0.07278890</td><td>-0.009140726</td><td>-0.09398308</td><td>-0.09550695</td><td>-0.14912025</td><td>Hofstede6D  </td></tr>\n",
       "\t<tr><th scope=row>Genetics</th><td>-0.03618608</td><td>-0.18678849</td><td>-0.221589743</td><td>-0.11788633</td><td>-0.197672219</td><td> 0.02694676</td><td>-0.05799790</td><td> 0.07802268</td><td>Genetics    </td></tr>\n",
       "\t<tr><th scope=row>Religion</th><td> 0.24744195</td><td> 0.38802199</td><td> 0.158531871</td><td> 0.39870301</td><td> 0.085415766</td><td> 0.28926189</td><td> 0.34667044</td><td> 0.20419835</td><td>Religion    </td></tr>\n",
       "\t<tr><th scope=row>Politics</th><td>-0.09189462</td><td>-0.10097883</td><td>-0.182776038</td><td>-0.08024128</td><td> 0.054430594</td><td>-0.04674329</td><td>-0.06324426</td><td>-0.06345985</td><td>Politics    </td></tr>\n",
       "</tbody>\n",
       "</table>\n"
      ],
      "text/latex": [
       "A data.frame: 13 × 9\n",
       "\\begin{tabular}{r|lllllllll}\n",
       "  & activeness & equality & exchange & formality & hostile & private & public & valence & Predictor\\\\\n",
       "  & <dbl> & <dbl> & <dbl> & <dbl> & <dbl> & <dbl> & <dbl> & <dbl> & <chr>\\\\\n",
       "\\hline\n",
       "\tLanguage &  0.14721533 & -0.07474380 &  0.035153376 &  0.08243333 &  0.228276966 &  0.09854122 &  0.01796530 & -0.06048312 & Language    \\\\\n",
       "\tPersonality &  0.10452784 &  0.29157621 & -0.072337631 &  0.03090264 &  0.001427814 & -0.01420477 &  0.07284010 &  0.11285479 & Personality \\\\\n",
       "\tGeography & -0.09305402 & -0.14612684 & -0.046881144 & -0.20135449 & -0.067985623 & -0.11565620 & -0.15314879 & -0.06301135 & Geography   \\\\\n",
       "\tClimates &  0.08715980 &  0.09126298 &  0.018691045 &  0.11605303 &  0.046720489 &  0.13556106 &  0.15351550 &  0.20429652 & Climates    \\\\\n",
       "\tSubsistence & -0.01577401 & -0.01041237 &  0.063404832 & -0.06255673 &  0.240058408 & -0.08162829 &  0.01281277 & -0.17962977 & Subsistence \\\\\n",
       "\tDisease & -0.07274883 & -0.02135807 &  0.008120669 & -0.14179973 &  0.107820686 & -0.06756681 & -0.02003496 & -0.09450391 & Disease     \\\\\n",
       "\tUrbanization &  0.32492915 &  0.25282009 &  0.291968468 &  0.13996293 &  0.121320459 &  0.23109868 &  0.36428034 &  0.30066521 & Urbanization\\\\\n",
       "\tWealth & -0.10564509 & -0.06009681 & -0.050081460 & -0.15423494 &  0.060717793 &  0.17755506 &  0.08430380 & -0.06002433 & Wealth      \\\\\n",
       "\tEducation &  0.14119911 &  0.13768817 &  0.134944840 &  0.16442290 &  0.035062920 & -0.03390943 &  0.04648334 &  0.15670095 & Education   \\\\\n",
       "\tHofstede6D & -0.07623519 & -0.10702368 & -0.004539968 & -0.07278890 & -0.009140726 & -0.09398308 & -0.09550695 & -0.14912025 & Hofstede6D  \\\\\n",
       "\tGenetics & -0.03618608 & -0.18678849 & -0.221589743 & -0.11788633 & -0.197672219 &  0.02694676 & -0.05799790 &  0.07802268 & Genetics    \\\\\n",
       "\tReligion &  0.24744195 &  0.38802199 &  0.158531871 &  0.39870301 &  0.085415766 &  0.28926189 &  0.34667044 &  0.20419835 & Religion    \\\\\n",
       "\tPolitics & -0.09189462 & -0.10097883 & -0.182776038 & -0.08024128 &  0.054430594 & -0.04674329 & -0.06324426 & -0.06345985 & Politics    \\\\\n",
       "\\end{tabular}\n"
      ],
      "text/markdown": [
       "\n",
       "A data.frame: 13 × 9\n",
       "\n",
       "| <!--/--> | activeness &lt;dbl&gt; | equality &lt;dbl&gt; | exchange &lt;dbl&gt; | formality &lt;dbl&gt; | hostile &lt;dbl&gt; | private &lt;dbl&gt; | public &lt;dbl&gt; | valence &lt;dbl&gt; | Predictor &lt;chr&gt; |\n",
       "|---|---|---|---|---|---|---|---|---|---|\n",
       "| Language |  0.14721533 | -0.07474380 |  0.035153376 |  0.08243333 |  0.228276966 |  0.09854122 |  0.01796530 | -0.06048312 | Language     |\n",
       "| Personality |  0.10452784 |  0.29157621 | -0.072337631 |  0.03090264 |  0.001427814 | -0.01420477 |  0.07284010 |  0.11285479 | Personality  |\n",
       "| Geography | -0.09305402 | -0.14612684 | -0.046881144 | -0.20135449 | -0.067985623 | -0.11565620 | -0.15314879 | -0.06301135 | Geography    |\n",
       "| Climates |  0.08715980 |  0.09126298 |  0.018691045 |  0.11605303 |  0.046720489 |  0.13556106 |  0.15351550 |  0.20429652 | Climates     |\n",
       "| Subsistence | -0.01577401 | -0.01041237 |  0.063404832 | -0.06255673 |  0.240058408 | -0.08162829 |  0.01281277 | -0.17962977 | Subsistence  |\n",
       "| Disease | -0.07274883 | -0.02135807 |  0.008120669 | -0.14179973 |  0.107820686 | -0.06756681 | -0.02003496 | -0.09450391 | Disease      |\n",
       "| Urbanization |  0.32492915 |  0.25282009 |  0.291968468 |  0.13996293 |  0.121320459 |  0.23109868 |  0.36428034 |  0.30066521 | Urbanization |\n",
       "| Wealth | -0.10564509 | -0.06009681 | -0.050081460 | -0.15423494 |  0.060717793 |  0.17755506 |  0.08430380 | -0.06002433 | Wealth       |\n",
       "| Education |  0.14119911 |  0.13768817 |  0.134944840 |  0.16442290 |  0.035062920 | -0.03390943 |  0.04648334 |  0.15670095 | Education    |\n",
       "| Hofstede6D | -0.07623519 | -0.10702368 | -0.004539968 | -0.07278890 | -0.009140726 | -0.09398308 | -0.09550695 | -0.14912025 | Hofstede6D   |\n",
       "| Genetics | -0.03618608 | -0.18678849 | -0.221589743 | -0.11788633 | -0.197672219 |  0.02694676 | -0.05799790 |  0.07802268 | Genetics     |\n",
       "| Religion |  0.24744195 |  0.38802199 |  0.158531871 |  0.39870301 |  0.085415766 |  0.28926189 |  0.34667044 |  0.20419835 | Religion     |\n",
       "| Politics | -0.09189462 | -0.10097883 | -0.182776038 | -0.08024128 |  0.054430594 | -0.04674329 | -0.06324426 | -0.06345985 | Politics     |\n",
       "\n"
      ],
      "text/plain": [
       "             activeness  equality    exchange     formality   hostile     \n",
       "Language      0.14721533 -0.07474380  0.035153376  0.08243333  0.228276966\n",
       "Personality   0.10452784  0.29157621 -0.072337631  0.03090264  0.001427814\n",
       "Geography    -0.09305402 -0.14612684 -0.046881144 -0.20135449 -0.067985623\n",
       "Climates      0.08715980  0.09126298  0.018691045  0.11605303  0.046720489\n",
       "Subsistence  -0.01577401 -0.01041237  0.063404832 -0.06255673  0.240058408\n",
       "Disease      -0.07274883 -0.02135807  0.008120669 -0.14179973  0.107820686\n",
       "Urbanization  0.32492915  0.25282009  0.291968468  0.13996293  0.121320459\n",
       "Wealth       -0.10564509 -0.06009681 -0.050081460 -0.15423494  0.060717793\n",
       "Education     0.14119911  0.13768817  0.134944840  0.16442290  0.035062920\n",
       "Hofstede6D   -0.07623519 -0.10702368 -0.004539968 -0.07278890 -0.009140726\n",
       "Genetics     -0.03618608 -0.18678849 -0.221589743 -0.11788633 -0.197672219\n",
       "Religion      0.24744195  0.38802199  0.158531871  0.39870301  0.085415766\n",
       "Politics     -0.09189462 -0.10097883 -0.182776038 -0.08024128  0.054430594\n",
       "             private     public      valence     Predictor   \n",
       "Language      0.09854122  0.01796530 -0.06048312 Language    \n",
       "Personality  -0.01420477  0.07284010  0.11285479 Personality \n",
       "Geography    -0.11565620 -0.15314879 -0.06301135 Geography   \n",
       "Climates      0.13556106  0.15351550  0.20429652 Climates    \n",
       "Subsistence  -0.08162829  0.01281277 -0.17962977 Subsistence \n",
       "Disease      -0.06756681 -0.02003496 -0.09450391 Disease     \n",
       "Urbanization  0.23109868  0.36428034  0.30066521 Urbanization\n",
       "Wealth        0.17755506  0.08430380 -0.06002433 Wealth      \n",
       "Education    -0.03390943  0.04648334  0.15670095 Education   \n",
       "Hofstede6D   -0.09398308 -0.09550695 -0.14912025 Hofstede6D  \n",
       "Genetics      0.02694676 -0.05799790  0.07802268 Genetics    \n",
       "Religion      0.28926189  0.34667044  0.20419835 Religion    \n",
       "Politics     -0.04674329 -0.06324426 -0.06345985 Politics    "
      ]
     },
     "metadata": {},
     "output_type": "display_data"
    }
   ],
   "source": [
    "files = dir('output_data/beta_sub/')\n",
    "files = files[-which(files %in% c('favee_33d.csv','hpp_33d.csv','raw_33d.csv'))]\n",
    "models = c()\n",
    "regression_results = data.frame(matrix(ncol=13,nrow=7))\n",
    "count = 1\n",
    "for (file in files){\n",
    "    model = strsplit(file,'_')[[1]][1]\n",
    "    models = c(models,model)\n",
    "    \n",
    "    results_df = read.csv(paste('output_data/beta_sub/',file,sep = ''),row.names=1) \n",
    "    beta = results_df[2:14,1]\n",
    "    regression_results[count,] = beta \n",
    "    count = count + 1\n",
    "}\n",
    "rownames(regression_results) = models\n",
    "colnames(regression_results) = c('Language','Personality','Geography','Climates',\n",
    "             'Subsistence','Disease','Urbanization','Wealth','Education',\n",
    "             'Hofstede6D','Genetics','Religion','Politics')#'Demographics'\n",
    "regression_results = data.frame(t(regression_results))\n",
    "\n",
    "regression_results['Predictor'] = rownames(regression_results)\n",
    "regression_results\n",
    "regression_results_melt = melt(regression_results,id.vars = 'Predictor')\n",
    "regression_results_melt$Predictor = factor(regression_results_melt$Predictor,\n",
    "levels = c('Language','Personality','Geography','Climates',\n",
    "             'Subsistence','Disease',\n",
    "             'Hofstede6D','Genetics','Politics',#'Demographics',\n",
    "             'Urbanization','Wealth','Education','Religion'))\n",
    "colnames(regression_results_melt) = c('predictor','model','value')\n",
    "regression_results_melt$'model' = factor(regression_results_melt$'model',\n",
    "                            levels = c('formality','activeness','valence','exchange',\n",
    "                                      'equality','hostile','private','public'))"
   ]
  },
  {
   "cell_type": "code",
   "execution_count": 5,
   "id": "6612ad7f",
   "metadata": {
    "ExecuteTime": {
     "end_time": "2022-12-22T08:51:12.577124Z",
     "start_time": "2022-12-22T08:51:11.192Z"
    }
   },
   "outputs": [
    {
     "data": {
      "text/html": [
       "<strong>png:</strong> 2"
      ],
      "text/latex": [
       "\\textbf{png:} 2"
      ],
      "text/markdown": [
       "**png:** 2"
      ],
      "text/plain": [
       "png \n",
       "  2 "
      ]
     },
     "metadata": {},
     "output_type": "display_data"
    },
    {
     "data": {
      "image/png": "[encoded data removed]",
      "text/plain": [
       "plot without title"
      ]
     },
     "metadata": {
      "image/png": {
       "height": 1200,
       "width": 600
      }
     },
     "output_type": "display_data"
    }
   ],
   "source": [
    "options(repr.plot.width=10,repr.plot.height=20)\n",
    "ggplot(regression_results_melt,aes(x=predictor,y=value,fill=model))+\n",
    "geom_bar(stat='identity',width=0.5,alpha=0.8,color='black',size=1.5)+\n",
    "facet_grid(model ~ .) +\n",
    "geom_hline(aes(yintercept=0),size=2)+\n",
    "geom_vline(aes(xintercept=0),size=1.5)+\n",
    "theme_classic()+\n",
    "theme(#axis.text.x=element_blank(),\n",
    "      #axis.text.y=element_blank(),\n",
    "      axis.text.x=element_text(size=20,color='black',angle=45,vjust = 0.7),\n",
    "      axis.text.y=element_text(size=20,color='black'),\n",
    "      axis.title.x=element_blank(),\n",
    "      axis.title.y=element_blank(),\n",
    "      #axis.line.x=element_line(linetype=1,color=\"black\",size=3),\n",
    "      axis.line.y=element_line(linetype=1,color=\"black\",size=2),\n",
    "      axis.line=element_blank(),\n",
    "      axis.ticks = element_blank(),\n",
    "      legend.position = 'none',\n",
    "      strip.text = element_blank()\n",
    "      )\n",
    "\n",
    "png(\"../output_graph/regression/RSA_regression_subvariables.png\", bg=\"transparent\",\n",
    "    family = 'sans',units='in',width=10,height=20,res=300)\n",
    "ggplot(regression_results_melt,aes(x=predictor,y=value,fill=model))+\n",
    "geom_bar(stat='identity',width=0.5,alpha=0.8,color='black',size=1.5)+\n",
    "facet_grid(model ~ .) +\n",
    "geom_hline(aes(yintercept=0),size=2)+\n",
    "geom_vline(aes(xintercept=0),size=1.5)+\n",
    "theme_classic()+\n",
    "theme(axis.text=element_blank(),\n",
    "      axis.title.x=element_blank(),\n",
    "      axis.title.y=element_blank(),\n",
    "      #axis.line.x=element_line(linetype=1,color=\"black\",size=3),\n",
    "      axis.line.y=element_line(linetype=1,color=\"black\",size=2),\n",
    "      axis.line=element_blank(),\n",
    "      axis.ticks = element_blank(),\n",
    "      legend.position = 'none',\n",
    "      strip.text = element_blank()\n",
    "      )\n",
    "dev.off()"
   ]
  }
 ],
 "metadata": {
  "kernelspec": {
   "display_name": "R",
   "language": "R",
   "name": "ir"
  },
  "language_info": {
   "codemirror_mode": "r",
   "file_extension": ".r",
   "mimetype": "text/x-r-source",
   "name": "R",
   "pygments_lexer": "r",
   "version": "4.1.2"
  },
  "latex_envs": {
   "LaTeX_envs_menu_present": true,
   "autoclose": false,
   "autocomplete": true,
   "bibliofile": "biblio.bib",
   "cite_by": "apalike",
   "current_citInitial": 1,
   "eqLabelWithNumbers": true,
   "eqNumInitial": 1,
   "hotkeys": {
    "equation": "Ctrl-E",
    "itemize": "Ctrl-I"
   },
   "labels_anchors": false,
   "latex_user_defs": false,
   "report_style_numbering": false,
   "user_envs_cfg": false
  },
  "toc": {
   "base_numbering": 1,
   "nav_menu": {},
   "number_sections": true,
   "sideBar": true,
   "skip_h1_title": false,
   "title_cell": "Table of Contents",
   "title_sidebar": "Contents",
   "toc_cell": true,
   "toc_position": {
    "height": "700.996px",
    "left": "824.988px",
    "top": "105.992px",
    "width": "383.968px"
   },
   "toc_section_display": true,
   "toc_window_display": true
  },
  "varInspector": {
   "cols": {
    "lenName": 16,
    "lenType": 16,
    "lenVar": 40
   },
   "kernels_config": {
    "python": {
     "delete_cmd_postfix": "",
     "delete_cmd_prefix": "del ",
     "library": "var_list.py",
     "varRefreshCmd": "print(var_dic_list())"
    },
    "r": {
     "delete_cmd_postfix": ") ",
     "delete_cmd_prefix": "rm(",
     "library": "var_list.r",
     "varRefreshCmd": "cat(var_dic_list()) "
    }
   },
   "types_to_exclude": [
    "module",
    "function",
    "builtin_function_or_method",
    "instance",
    "_Feature"
   ],
   "window_display": false
  }
 },
 "nbformat": 4,
 "nbformat_minor": 5
}
