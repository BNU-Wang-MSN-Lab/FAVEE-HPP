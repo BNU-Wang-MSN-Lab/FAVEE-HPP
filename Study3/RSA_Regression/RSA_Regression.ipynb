{
 "cells": [
  {
   "cell_type": "markdown",
   "id": "7fbf5950",
   "metadata": {
    "toc": true
   },
   "source": [
    "<h1>Table of Contents<span class=\"tocSkip\"></span></h1>\n",
    "<div class=\"toc\"><ul class=\"toc-item\"><li><span><a href=\"#Predictor-variable-rdm\" data-toc-modified-id=\"Predictor-variable-rdm-1\"><span class=\"toc-item-num\">1&nbsp;&nbsp;</span>Predictor variable rdm</a></span></li><li><span><a href=\"#Full-feature-model\" data-toc-modified-id=\"Full-feature-model-2\"><span class=\"toc-item-num\">2&nbsp;&nbsp;</span>Full feature model</a></span><ul class=\"toc-item\"><li><span><a href=\"#regression-coefficient\" data-toc-modified-id=\"regression-coefficient-2.1\"><span class=\"toc-item-num\">2.1&nbsp;&nbsp;</span>regression coefficient</a></span></li><li><span><a href=\"#permutation\" data-toc-modified-id=\"permutation-2.2\"><span class=\"toc-item-num\">2.2&nbsp;&nbsp;</span>permutation</a></span></li></ul></li><li><span><a href=\"#Dimensional-model\" data-toc-modified-id=\"Dimensional-model-3\"><span class=\"toc-item-num\">3&nbsp;&nbsp;</span>Dimensional model</a></span><ul class=\"toc-item\"><li><span><a href=\"#regression-coefficient\" data-toc-modified-id=\"regression-coefficient-3.1\"><span class=\"toc-item-num\">3.1&nbsp;&nbsp;</span>regression coefficient</a></span></li><li><span><a href=\"#permutation\" data-toc-modified-id=\"permutation-3.2\"><span class=\"toc-item-num\">3.2&nbsp;&nbsp;</span>permutation</a></span></li></ul></li><li><span><a href=\"#Categorical-model\" data-toc-modified-id=\"Categorical-model-4\"><span class=\"toc-item-num\">4&nbsp;&nbsp;</span>Categorical model</a></span><ul class=\"toc-item\"><li><span><a href=\"#regression-coefficient\" data-toc-modified-id=\"regression-coefficient-4.1\"><span class=\"toc-item-num\">4.1&nbsp;&nbsp;</span>regression coefficient</a></span></li><li><span><a href=\"#permutation\" data-toc-modified-id=\"permutation-4.2\"><span class=\"toc-item-num\">4.2&nbsp;&nbsp;</span>permutation</a></span></li></ul></li><li><span><a href=\"#Plot-RSA-regression-results-in-Main-Text\" data-toc-modified-id=\"Plot-RSA-regression-results-in-Main-Text-5\"><span class=\"toc-item-num\">5&nbsp;&nbsp;</span>Plot RSA regression results in Main Text</a></span><ul class=\"toc-item\"><li><span><a href=\"#bar-plot\" data-toc-modified-id=\"bar-plot-5.1\"><span class=\"toc-item-num\">5.1&nbsp;&nbsp;</span>bar plot</a></span></li><li><span><a href=\"#scatter-plot\" data-toc-modified-id=\"scatter-plot-5.2\"><span class=\"toc-item-num\">5.2&nbsp;&nbsp;</span>scatter plot</a></span><ul class=\"toc-item\"><li><span><a href=\"#full-feature\" data-toc-modified-id=\"full-feature-5.2.1\"><span class=\"toc-item-num\">5.2.1&nbsp;&nbsp;</span>full feature</a></span></li><li><span><a href=\"#favee\" data-toc-modified-id=\"favee-5.2.2\"><span class=\"toc-item-num\">5.2.2&nbsp;&nbsp;</span>favee</a></span></li><li><span><a href=\"#hpp\" data-toc-modified-id=\"hpp-5.2.3\"><span class=\"toc-item-num\">5.2.3&nbsp;&nbsp;</span>hpp</a></span></li></ul></li></ul></li><li><span><a href=\"#Dimensional:-single-dimension\" data-toc-modified-id=\"Dimensional:-single-dimension-6\"><span class=\"toc-item-num\">6&nbsp;&nbsp;</span>Dimensional: single dimension</a></span><ul class=\"toc-item\"><li><span><a href=\"#Formality\" data-toc-modified-id=\"Formality-6.1\"><span class=\"toc-item-num\">6.1&nbsp;&nbsp;</span>Formality</a></span></li><li><span><a href=\"#Activeness\" data-toc-modified-id=\"Activeness-6.2\"><span class=\"toc-item-num\">6.2&nbsp;&nbsp;</span>Activeness</a></span></li><li><span><a href=\"#Valence\" data-toc-modified-id=\"Valence-6.3\"><span class=\"toc-item-num\">6.3&nbsp;&nbsp;</span>Valence</a></span></li><li><span><a href=\"#Exchange\" data-toc-modified-id=\"Exchange-6.4\"><span class=\"toc-item-num\">6.4&nbsp;&nbsp;</span>Exchange</a></span></li><li><span><a href=\"#Equality\" data-toc-modified-id=\"Equality-6.5\"><span class=\"toc-item-num\">6.5&nbsp;&nbsp;</span>Equality</a></span></li></ul></li><li><span><a href=\"#Categorical:-single-category\" data-toc-modified-id=\"Categorical:-single-category-7\"><span class=\"toc-item-num\">7&nbsp;&nbsp;</span>Categorical: single category</a></span><ul class=\"toc-item\"><li><span><a href=\"#Hostile\" data-toc-modified-id=\"Hostile-7.1\"><span class=\"toc-item-num\">7.1&nbsp;&nbsp;</span>Hostile</a></span></li><li><span><a href=\"#Private\" data-toc-modified-id=\"Private-7.2\"><span class=\"toc-item-num\">7.2&nbsp;&nbsp;</span>Private</a></span></li><li><span><a href=\"#Public\" data-toc-modified-id=\"Public-7.3\"><span class=\"toc-item-num\">7.3&nbsp;&nbsp;</span>Public</a></span></li></ul></li></ul></div>"
   ]
  },
  {
   "cell_type": "code",
   "execution_count": 2,
   "id": "cf153305",
   "metadata": {
    "ExecuteTime": {
     "end_time": "2022-12-22T02:16:19.662285Z",
     "start_time": "2022-12-22T02:16:19.250Z"
    }
   },
   "outputs": [],
   "source": [
    "options(warn=-1)\n",
    "library(openxlsx)\n",
    "library(tidyverse)\n",
    "library(reshape)\n",
    "\n",
    "library(ggplot2)\n",
    "library(ggpubr)\n",
    "library(RColorBrewer)\n",
    "library(corrplot)\n",
    "library(corrr)\n",
    "\n",
    "library(DescTools) #Fisher Z\n",
    "library(rstatix)"
   ]
  },
  {
   "cell_type": "code",
   "execution_count": 4,
   "id": "951274ff",
   "metadata": {
    "ExecuteTime": {
     "end_time": "2022-12-21T04:27:11.972341Z",
     "start_time": "2022-12-21T04:27:11.955Z"
    }
   },
   "outputs": [],
   "source": [
    "regions_order = c(\n",
    "    # English\n",
    "    'USA','UK','Australia','South Africa',\n",
    "    # Germany\n",
    "    'Germany',\n",
    "    # Japanese\n",
    "    'Japan',\n",
    "    # Hebrew\n",
    "    'Israel',\n",
    "    # Chinese\n",
    "    'CHN','HK(region)',\n",
    "\n",
    "    # French\n",
    "    'France',\n",
    "    # Spanish\n",
    "    'Spain','Mexico','Chile',\n",
    "    # Portuguese\n",
    "    'Portugal','Brazil',\n",
    "    # Russian\n",
    "    'Russia',\n",
    "    # Arabic\n",
    "    'Egypt','Qatar',\n",
    "    'India')\n",
    "\n",
    "fix_region = function(df){\n",
    "    regions = rownames(df)\n",
    "    regions = str_replace(regions,'United States','USA')\n",
    "    regions = str_replace(regions,'United Kingdom','UK')\n",
    "    regions = str_replace(regions,'China','CHN')\n",
    "    regions = str_replace(regions,'South_africa','South Africa')\n",
    "    regions = str_replace(regions,'Spain','Spanish')\n",
    "    regions = str_replace(regions,'HK','HK(region)')\n",
    "    regions = gsub('Hong Kong SAR, CHN','HK(region)',regions,fixed=TRUE)\n",
    "    regions = str_replace(regions,'Hong Kong','HK(region)')\n",
    "    regions = str_replace(regions,'Spanish','Spain')\n",
    "    regions = str_replace(regions,'Russian Federation','Russia')\n",
    "    regions = str_replace(regions,'Russian','Russia')\n",
    "    regions = str_replace(regions,'Egypt, Arab Rep.','Egypt')\n",
    "    \n",
    "    rownames(df) = regions\n",
    "    colnames(df) = regions\n",
    "    \n",
    "    df = df[regions_order,regions_order]\n",
    "    return(df)\n",
    "}\n",
    "\n",
    "lowerTriangle <- function(m){\n",
    "  return(m[lower.tri(m,diag = FALSE)])\n",
    "}"
   ]
  },
  {
   "cell_type": "markdown",
   "id": "704eb88b",
   "metadata": {},
   "source": [
    "# Predictor variable rdm"
   ]
  },
  {
   "cell_type": "code",
   "execution_count": 5,
   "id": "dbbd3b5b",
   "metadata": {
    "ExecuteTime": {
     "end_time": "2022-12-21T04:27:15.776001Z",
     "start_time": "2022-12-21T04:27:15.636Z"
    }
   },
   "outputs": [],
   "source": [
    "# Language\n",
    "Lexical = read.csv('../Cultural_RDM/rdm/Lexical_dist.csv', row.names=1, encoding = \"UTF-8\",check.names = FALSE)\n",
    "Lexical = fix_region(Lexical)\n",
    "\n",
    "# Personality\n",
    "Agreeableness = read.csv('../Cultural_RDM/rdm/Agreeableness_dist.csv',row.names=1, encoding = \"UTF-8\",check.names = FALSE)\n",
    "Agreeableness = fix_region(Agreeableness)\n",
    "Conscientiousness = read.csv('../Cultural_RDM/rdm/Conscientiousness_dist.csv',row.names=1, encoding = \"UTF-8\",check.names = FALSE)\n",
    "Conscientiousness = fix_region(Conscientiousness)\n",
    "Extraversion = read.csv('../Cultural_RDM/rdm/Extraversion_dist.csv',row.names=1, encoding = \"UTF-8\",check.names = FALSE)\n",
    "Extraversion = fix_region(Extraversion)\n",
    "Neuroticism = read.csv('../Cultural_RDM/rdm/Neuroticism_dist.csv',row.names=1, encoding = \"UTF-8\",check.names = FALSE)\n",
    "Neuroticism = fix_region(Neuroticism)\n",
    "Openness = read.csv('../Cultural_RDM/rdm/Openness_dist.csv',row.names=1, encoding = \"UTF-8\",check.names = FALSE)\n",
    "Openness = fix_region(Openness)\n",
    "personality_all = read.csv('../Cultural_RDM/rdm/personality_all_dist.csv', row.names=1, encoding = \"UTF-8\",check.names = FALSE)\n",
    "personality_all = fix_region(personality_all)\n",
    "\n",
    "# Socioecological\n",
    "Climatic_demands = read.csv('../Cultural_RDM/rdm/Climatic_demands_dist.csv', row.names=1, encoding = \"UTF-8\",check.names = FALSE)\n",
    "Climatic_demands = fix_region(Climatic_demands)\n",
    "Coordinate = read.csv('../Cultural_RDM/rdm/Coordinate_dist.csv', row.names=1, encoding = \"UTF-8\",check.names = FALSE)\n",
    "Coordinate = fix_region(Coordinate)\n",
    "subsistence = read.csv('../Cultural_RDM/rdm/subsistence_dist.csv', row.names=1, encoding = \"UTF-8\",check.names = FALSE)\n",
    "subsistence = fix_region(subsistence)\n",
    "disease = read.csv('../Cultural_RDM/rdm/disease_dist.csv', row.names=1, encoding = \"UTF-8\",check.names = FALSE)\n",
    "disease = fix_region(disease)\n",
    "\n",
    "# Modernization\n",
    "urban = read.csv('../Cultural_RDM/rdm/urban_rdm.csv', row.names=1, encoding = \"UTF-8\")\n",
    "urban = fix_region(urban)\n",
    "wealth = read.csv('../Cultural_RDM/rdm/wealth_rdm.csv', row.names=1, encoding = \"UTF-8\")\n",
    "wealth = fix_region(wealth)\n",
    "edu = read.csv('../Cultural_RDM/rdm/edu_rdm.csv', row.names=1, encoding = \"UTF-8\")\n",
    "edu = fix_region(edu)\n",
    "modern = read.csv('../Cultural_RDM/rdm/modern_dist.csv', row.names=1, encoding = \"UTF-8\",check.names = FALSE)\n",
    "modern = fix_region(modern)\n",
    "\n",
    "# Cultural value\n",
    "## Hofstede 6D\n",
    "power = read.csv('../Cultural_RDM/rdm/power_rdm.csv', row.names=1, encoding = \"UTF-8\")\n",
    "power = fix_region(power)\n",
    "Individualism = read.csv('../Cultural_RDM/rdm/Individualism_rdm.csv', row.names=1, encoding = \"UTF-8\",check.names = FALSE)\n",
    "Individualism = fix_region(Individualism)\n",
    "Masculine = read.csv('../Cultural_RDM/rdm/Masculine_rdm.csv', row.names=1, encoding = \"UTF-8\",check.names = FALSE)\n",
    "Masculine = fix_region(Masculine)\n",
    "Uncertainty_Avoidance = read.csv('../Cultural_RDM/rdm/Uncertainty_Avoidance_rdm.csv', row.names=1, encoding = \"UTF-8\",check.names = FALSE)\n",
    "Uncertainty_Avoidance = fix_region(Uncertainty_Avoidance)\n",
    "Long_Term_Orientation = read.csv('../Cultural_RDM/rdm/Long_Term_Orientation_rdm.csv', row.names=1, encoding = \"UTF-8\",check.names = FALSE)\n",
    "Long_Term_Orientation = fix_region(Long_Term_Orientation)\n",
    "Indulgence = read.csv('../Cultural_RDM/rdm/Indulgence_rdm.csv', row.names=1, encoding = \"UTF-8\",check.names = FALSE)\n",
    "Indulgence = fix_region(Indulgence)\n",
    "Hofstede_6D = read.csv('../Cultural_RDM/rdm/Hofstede_6D_rdm.csv', row.names=1, encoding = \"UTF-8\",check.names = FALSE)\n",
    "Hofstede_6D = fix_region(Hofstede_6D)\n",
    "\n",
    "# Gene\n",
    "new_gendist_weighted = read.csv('../Cultural_RDM/rdm/new_gendist_weighted_dist.csv', row.names=1, encoding = \"UTF-8\",check.names = FALSE)\n",
    "new_gendist_weighted = fix_region(new_gendist_weighted)\n",
    "\n",
    "# Religion\n",
    "reldist_weighted_WCD_form = read.csv('../Cultural_RDM/rdm/reldist_weighted_WCD_form_dist.csv', row.names=1, encoding = \"UTF-8\",check.names = FALSE)\n",
    "reldist_weighted_WCD_form = fix_region(reldist_weighted_WCD_form)\n",
    "religion_per = read.csv('../Cultural_RDM/rdm/religion_percentage_rdm.csv', row.names=1, encoding = \"UTF-8\",check.names = FALSE)\n",
    "religion_per = fix_region(religion_per)\n",
    "\n",
    "# Political\n",
    "idealogy = read.csv('../Cultural_RDM/rdm/political_idealogy_rdm_range.csv', row.names=1, encoding = \"UTF-8\",check.names = FALSE)\n",
    "idealogy = fix_region(idealogy)"
   ]
  },
  {
   "cell_type": "code",
   "execution_count": 6,
   "id": "b8a47473",
   "metadata": {
    "ExecuteTime": {
     "end_time": "2022-12-21T04:27:18.995419Z",
     "start_time": "2022-12-21T04:27:18.952Z"
    }
   },
   "outputs": [],
   "source": [
    "# Demographics\n",
    "gender = read.csv('../DataCleanPCA/output_data/rdm/gender_rdm.csv', row.names=1, encoding = \"UTF-8\",check.names = FALSE)\n",
    "gender = fix_region(gender)\n",
    "age = read.csv('../DataCleanPCA/output_data/rdm/age_rdm.csv', row.names=1, encoding = \"UTF-8\",check.names = FALSE)\n",
    "age = fix_region(age)\n",
    "education_ind = read.csv('../DataCleanPCA/output_data/rdm/education_ind_rdm.csv', row.names=1, encoding = \"UTF-8\",check.names = FALSE)\n",
    "education_ind = fix_region(education_ind)\n",
    "demographics = read.csv('../DataCleanPCA/output_data/rdm/demographics_rdm.csv', row.names=1, encoding = \"UTF-8\",check.names = FALSE)\n",
    "demographics = fix_region(demographics)\n",
    "\n",
    "# check size\n",
    "check_size = read.csv('../DataCleanPCA/output_data/rdm/check_size_rdm.csv', row.names=1, encoding = \"UTF-8\",check.names = FALSE)\n",
    "check_size = fix_region(check_size)"
   ]
  },
  {
   "cell_type": "code",
   "execution_count": 7,
   "id": "1b62a8c1",
   "metadata": {
    "ExecuteTime": {
     "end_time": "2022-12-21T04:30:29.692212Z",
     "start_time": "2022-12-21T04:30:29.672Z"
    }
   },
   "outputs": [],
   "source": [
    "# get rdms of predicators \n",
    "variables_names <- c('Lexical',# Language\n",
    "                     'personality_all',# Personality\n",
    "                     'Coordinate','Climatic_demands','subsistence','disease',# Socioecological\n",
    "                     'modern',# Modernization\n",
    "                     'Hofstede_6D',# Cultural value\n",
    "                     'new_gendist_weighted',# Gene\n",
    "                     'religion_per',#'reldist_weighted_WCD_form',# Religion\n",
    "                     'idealogy',# Political\n",
    "                     'demographics'# Demographics\n",
    "                     #'check_size'\n",
    "                    )\n",
    "\n",
    "variables <- list()\n",
    "for(i in c(1:length(variables_names))){\n",
    "  variables[[i]] = get(variables_names[i])\n",
    "}"
   ]
  },
  {
   "cell_type": "code",
   "execution_count": 8,
   "id": "a8426677",
   "metadata": {
    "ExecuteTime": {
     "end_time": "2022-12-21T04:30:33.447907Z",
     "start_time": "2022-12-21T04:30:33.433Z"
    }
   },
   "outputs": [],
   "source": [
    "permutation_result = function(culture_regress_standard_model){\n",
    "    # create permutation matrix\n",
    "    nperm <- 10000\n",
    "    permf <- matrix(NA,nperm)\n",
    "    permr2 <- matrix(NA,nperm)\n",
    "    # contain beta\n",
    "    permt <- matrix(NA,nperm,length(variables_names)) # 12variables\n",
    "    colnames(permt) <- variables_names\n",
    "    # caculate proportation of beta or F value over the model results\n",
    "    permf_pvals <- NA \n",
    "    permt_pvals <- NA\n",
    "    tstats = NA\n",
    "\n",
    "    # the model results\n",
    "    fstats <- culture_regress_standard_model$fstatistic[[1]]\n",
    "    for (i in 1:length(variables_names)){\n",
    "      tstats[i] <- culture_regress_standard_model$coefficients[1+i,1]\n",
    "    }\n",
    "    r2stats <- culture_regress_standard_model$r.squared\n",
    "    print(paste('fstats:',fstats))\n",
    "    #print('tstats:')\n",
    "    #tstats\n",
    "    print(paste('r2stats:',r2stats))\n",
    "\n",
    "    set.seed(2)\n",
    "    for (i in 1:nperm){\n",
    "      psel <- sample(19) # permuted index, total 19 regions\n",
    "      x <- do.call(cbind,lapply(variables,function(x) lowerTriangle(x[psel,psel]))) # generate permuted predictors\n",
    "      rfit <- lm(scale(model_rdm_array)~scale(x)) # fit permuted model\n",
    "      srfit <- summary(rfit)\n",
    "      permf[i,1] <- srfit$fstatistic[1] # F-stat\n",
    "      permr2[i,1] <- srfit$r.squared # R-squared\n",
    "      #permf[,i] <- unlist(lapply(srfit,function(x) x$fstatistic[1])) # F-stat\n",
    "      #permr2[,i] <- unlist(lapply(srfit,function(x) x$r.squared)) # R-squared\n",
    "      for (j in 1:length(variables_names)){\n",
    "        permt[i,j] <- srfit$coefficients[1+j,1] # each var t-stat\n",
    "      }\n",
    "      #print(i)\n",
    "    }\n",
    "    print(i)\n",
    "\n",
    "    # F statistics\n",
    "    permf_pvals <- mean(permf[,1] >= fstats)\n",
    "    print(paste('permf_pvals',permf_pvals))\n",
    "\n",
    "    # Each variable's regression\n",
    "    for (i in 1:length(variables_names)){\n",
    "      permt_pvals[i] <- mean(permt[,i] >= tstats[i])\n",
    "    }\n",
    "\n",
    "    permt_pvals <- as.data.frame(t(permt_pvals)) \n",
    "\n",
    "    colnames(permt_pvals) <- variables_names\n",
    "    return(permt_pvals)\n",
    "} "
   ]
  },
  {
   "cell_type": "markdown",
   "id": "7a0ad86f",
   "metadata": {},
   "source": [
    "# Full feature model"
   ]
  },
  {
   "cell_type": "markdown",
   "id": "d922d471",
   "metadata": {},
   "source": [
    "## regression coefficient"
   ]
  },
  {
   "cell_type": "code",
   "execution_count": 9,
   "id": "b735b461",
   "metadata": {
    "ExecuteTime": {
     "end_time": "2022-12-21T04:30:54.951533Z",
     "start_time": "2022-12-21T04:30:54.903Z"
    }
   },
   "outputs": [
    {
     "data": {
      "text/plain": [
       "\n",
       "Call:\n",
       "lm(formula = scale(model_rdm_array) ~ scale(x))\n",
       "\n",
       "Residuals:\n",
       "     Min       1Q   Median       3Q      Max \n",
       "-1.66326 -0.45139  0.02644  0.47571  2.16121 \n",
       "\n",
       "Coefficients:\n",
       "                               Estimate Std. Error t value Pr(>|t|)    \n",
       "(Intercept)                   9.163e-17  5.067e-02   0.000 1.000000    \n",
       "scale(x)Lexical               1.560e-02  6.604e-02   0.236 0.813570    \n",
       "scale(x)personality_all       1.311e-01  5.753e-02   2.279 0.023976 *  \n",
       "scale(x)Coordinate           -2.108e-01  5.916e-02  -3.564 0.000484 ***\n",
       "scale(x)Climatic_demands      1.646e-01  5.662e-02   2.907 0.004169 ** \n",
       "scale(x)subsistence          -7.884e-02  5.900e-02  -1.336 0.183387    \n",
       "scale(x)disease               4.410e-03  5.847e-02   0.075 0.939967    \n",
       "scale(x)modern                3.514e-01  5.521e-02   6.366 2.02e-09 ***\n",
       "scale(x)Hofstede_6D          -1.506e-01  6.141e-02  -2.453 0.015267 *  \n",
       "scale(x)new_gendist_weighted -5.634e-02  6.567e-02  -0.858 0.392255    \n",
       "scale(x)religion_per          5.574e-01  6.945e-02   8.025 2.16e-13 ***\n",
       "scale(x)idealogy             -1.243e-01  5.538e-02  -2.244 0.026230 *  \n",
       "scale(x)demographics         -5.199e-02  5.846e-02  -0.889 0.375189    \n",
       "---\n",
       "Signif. codes:  0 '***' 0.001 '**' 0.01 '*' 0.05 '.' 0.1 ' ' 1\n",
       "\n",
       "Residual standard error: 0.6626 on 158 degrees of freedom\n",
       "Multiple R-squared:  0.592,\tAdjusted R-squared:  0.561 \n",
       "F-statistic: 19.11 on 12 and 158 DF,  p-value: < 2.2e-16\n"
      ]
     },
     "metadata": {},
     "output_type": "display_data"
    }
   ],
   "source": [
    "model_rdm = read.csv('output_data/models_rdm/full_feature/raw33d_dissim_dist.csv',\n",
    "                    row.names =1, check.names = FALSE)\n",
    "model_rdm = model_rdm[regions_order,regions_order]\n",
    "model_rdm_array = lowerTriangle(model_rdm)\n",
    "\n",
    "x <- do.call(cbind,lapply(variables,function(x) lowerTriangle(x))) # generate permuted predictors\n",
    "colnames(x) = variables_names\n",
    "culture_regress_standard <- lm(scale(model_rdm_array)~scale(x))\n",
    "culture_regress_standard_model <- summary(culture_regress_standard)\n",
    "culture_regress_standard_model\n",
    "\n",
    "write.csv(culture_regress_standard_model$coefficients,\n",
    " file='output_data/beta/raw_33d.csv')\n",
    "full_feature_regression = culture_regress_standard_model"
   ]
  },
  {
   "cell_type": "markdown",
   "id": "43e7cdda",
   "metadata": {},
   "source": [
    "## permutation"
   ]
  },
  {
   "cell_type": "code",
   "execution_count": 11,
   "id": "93665bb4",
   "metadata": {
    "ExecuteTime": {
     "end_time": "2022-12-21T08:28:47.485924Z",
     "start_time": "2022-12-21T08:27:57.262Z"
    }
   },
   "outputs": [
    {
     "name": "stdout",
     "output_type": "stream",
     "text": [
      "[1] \"fstats: 19.1055361861989\"\n",
      "[1] \"r2stats: 0.592012149691308\"\n",
      "[1] 10000\n",
      "[1] \"permf_pvals 2e-04\"\n"
     ]
    },
    {
     "data": {
      "text/html": [
       "<table class=\"dataframe\">\n",
       "<caption>A data.frame: 1 × 12</caption>\n",
       "<thead>\n",
       "\t<tr><th scope=col>Lexical</th><th scope=col>personality_all</th><th scope=col>Coordinate</th><th scope=col>Climatic_demands</th><th scope=col>subsistence</th><th scope=col>disease</th><th scope=col>modern</th><th scope=col>Hofstede_6D</th><th scope=col>new_gendist_weighted</th><th scope=col>religion_per</th><th scope=col>idealogy</th><th scope=col>demographics</th></tr>\n",
       "\t<tr><th scope=col>&lt;dbl&gt;</th><th scope=col>&lt;dbl&gt;</th><th scope=col>&lt;dbl&gt;</th><th scope=col>&lt;dbl&gt;</th><th scope=col>&lt;dbl&gt;</th><th scope=col>&lt;dbl&gt;</th><th scope=col>&lt;dbl&gt;</th><th scope=col>&lt;dbl&gt;</th><th scope=col>&lt;dbl&gt;</th><th scope=col>&lt;dbl&gt;</th><th scope=col>&lt;dbl&gt;</th><th scope=col>&lt;dbl&gt;</th></tr>\n",
       "</thead>\n",
       "<tbody>\n",
       "\t<tr><td>0.4706</td><td>0.2108</td><td>0.924</td><td>0.1806</td><td>0.6973</td><td>0.479</td><td>0.0169</td><td>0.8088</td><td>0.5643</td><td>0.002</td><td>0.8144</td><td>0.5899</td></tr>\n",
       "</tbody>\n",
       "</table>\n"
      ],
      "text/latex": [
       "A data.frame: 1 × 12\n",
       "\\begin{tabular}{llllllllllll}\n",
       " Lexical & personality\\_all & Coordinate & Climatic\\_demands & subsistence & disease & modern & Hofstede\\_6D & new\\_gendist\\_weighted & religion\\_per & idealogy & demographics\\\\\n",
       " <dbl> & <dbl> & <dbl> & <dbl> & <dbl> & <dbl> & <dbl> & <dbl> & <dbl> & <dbl> & <dbl> & <dbl>\\\\\n",
       "\\hline\n",
       "\t 0.4706 & 0.2108 & 0.924 & 0.1806 & 0.6973 & 0.479 & 0.0169 & 0.8088 & 0.5643 & 0.002 & 0.8144 & 0.5899\\\\\n",
       "\\end{tabular}\n"
      ],
      "text/markdown": [
       "\n",
       "A data.frame: 1 × 12\n",
       "\n",
       "| Lexical &lt;dbl&gt; | personality_all &lt;dbl&gt; | Coordinate &lt;dbl&gt; | Climatic_demands &lt;dbl&gt; | subsistence &lt;dbl&gt; | disease &lt;dbl&gt; | modern &lt;dbl&gt; | Hofstede_6D &lt;dbl&gt; | new_gendist_weighted &lt;dbl&gt; | religion_per &lt;dbl&gt; | idealogy &lt;dbl&gt; | demographics &lt;dbl&gt; |\n",
       "|---|---|---|---|---|---|---|---|---|---|---|---|\n",
       "| 0.4706 | 0.2108 | 0.924 | 0.1806 | 0.6973 | 0.479 | 0.0169 | 0.8088 | 0.5643 | 0.002 | 0.8144 | 0.5899 |\n",
       "\n"
      ],
      "text/plain": [
       "  Lexical personality_all Coordinate Climatic_demands subsistence disease\n",
       "1 0.4706  0.2108          0.924      0.1806           0.6973      0.479  \n",
       "  modern Hofstede_6D new_gendist_weighted religion_per idealogy demographics\n",
       "1 0.0169 0.8088      0.5643               0.002        0.8144   0.5899      "
      ]
     },
     "metadata": {},
     "output_type": "display_data"
    }
   ],
   "source": [
    "p_value = permutation_result(full_feature_regression)\n",
    "p_value\n",
    "write.csv(p_value,'output_data/p_value/raw_33d.csv')"
   ]
  },
  {
   "cell_type": "markdown",
   "id": "2c261bbd",
   "metadata": {},
   "source": [
    "# Dimensional model"
   ]
  },
  {
   "cell_type": "markdown",
   "id": "57ec0ce3",
   "metadata": {},
   "source": [
    "## regression coefficient"
   ]
  },
  {
   "cell_type": "code",
   "execution_count": 12,
   "id": "d6aa9f33",
   "metadata": {
    "ExecuteTime": {
     "end_time": "2022-12-21T08:29:18.329866Z",
     "start_time": "2022-12-21T08:29:18.293Z"
    }
   },
   "outputs": [
    {
     "data": {
      "text/plain": [
       "\n",
       "Call:\n",
       "lm(formula = scale(model_rdm_array) ~ scale(x))\n",
       "\n",
       "Residuals:\n",
       "     Min       1Q   Median       3Q      Max \n",
       "-2.16280 -0.44314  0.07424  0.46755  1.76725 \n",
       "\n",
       "Coefficients:\n",
       "                               Estimate Std. Error t value Pr(>|t|)    \n",
       "(Intercept)                  -5.344e-17  5.261e-02   0.000  1.00000    \n",
       "scale(x)Lexical               2.929e-03  6.858e-02   0.043  0.96599    \n",
       "scale(x)personality_all       1.651e-01  5.974e-02   2.763  0.00641 ** \n",
       "scale(x)Coordinate           -2.032e-01  6.144e-02  -3.308  0.00116 ** \n",
       "scale(x)Climatic_demands      1.798e-01  5.879e-02   3.058  0.00262 ** \n",
       "scale(x)subsistence          -2.847e-02  6.127e-02  -0.465  0.64281    \n",
       "scale(x)disease              -3.595e-02  6.071e-02  -0.592  0.55458    \n",
       "scale(x)modern                2.703e-01  5.733e-02   4.714 5.30e-06 ***\n",
       "scale(x)Hofstede_6D          -2.000e-01  6.377e-02  -3.136  0.00204 ** \n",
       "scale(x)new_gendist_weighted -1.678e-01  6.820e-02  -2.461  0.01492 *  \n",
       "scale(x)religion_per          5.334e-01  7.212e-02   7.396 7.76e-12 ***\n",
       "scale(x)idealogy             -1.303e-01  5.751e-02  -2.265  0.02488 *  \n",
       "scale(x)demographics         -8.423e-03  6.071e-02  -0.139  0.88982    \n",
       "---\n",
       "Signif. codes:  0 '***' 0.001 '**' 0.01 '*' 0.05 '.' 0.1 ' ' 1\n",
       "\n",
       "Residual standard error: 0.688 on 158 degrees of freedom\n",
       "Multiple R-squared:  0.5601,\tAdjusted R-squared:  0.5266 \n",
       "F-statistic: 16.76 on 12 and 158 DF,  p-value: < 2.2e-16\n"
      ]
     },
     "metadata": {},
     "output_type": "display_data"
    }
   ],
   "source": [
    "model_rdm = read.csv('output_data/models_rdm/dimensional/favee_dissim_dist.csv',\n",
    "                    row.names =1, check.names = FALSE)\n",
    "model_rdm = model_rdm[regions_order,regions_order]\n",
    "model_rdm_array = lowerTriangle(model_rdm)\n",
    "\n",
    "x <- do.call(cbind,lapply(variables,function(x) lowerTriangle(x))) # generate permuted predictors\n",
    "colnames(x) = variables_names\n",
    "culture_regress_standard <- lm(scale(model_rdm_array)~scale(x))\n",
    "culture_regress_standard_model <- summary(culture_regress_standard)\n",
    "culture_regress_standard_model\n",
    "\n",
    "write.csv(culture_regress_standard_model$coefficients,\n",
    " file='output_data/beta/favee_33d.csv')\n",
    "dimensional_regression = culture_regress_standard_model"
   ]
  },
  {
   "cell_type": "markdown",
   "id": "6b093358",
   "metadata": {},
   "source": [
    "## permutation"
   ]
  },
  {
   "cell_type": "code",
   "execution_count": 13,
   "id": "642ae67d",
   "metadata": {
    "ExecuteTime": {
     "end_time": "2022-12-21T08:30:31.288098Z",
     "start_time": "2022-12-21T08:29:46.281Z"
    }
   },
   "outputs": [
    {
     "name": "stdout",
     "output_type": "stream",
     "text": [
      "[1] \"fstats: 16.7615548352288\"\n",
      "[1] \"r2stats: 0.560058499773106\"\n",
      "[1] 10000\n",
      "[1] \"permf_pvals 5e-04\"\n"
     ]
    },
    {
     "data": {
      "text/html": [
       "<table class=\"dataframe\">\n",
       "<caption>A data.frame: 1 × 12</caption>\n",
       "<thead>\n",
       "\t<tr><th scope=col>Lexical</th><th scope=col>personality_all</th><th scope=col>Coordinate</th><th scope=col>Climatic_demands</th><th scope=col>subsistence</th><th scope=col>disease</th><th scope=col>modern</th><th scope=col>Hofstede_6D</th><th scope=col>new_gendist_weighted</th><th scope=col>religion_per</th><th scope=col>idealogy</th><th scope=col>demographics</th></tr>\n",
       "\t<tr><th scope=col>&lt;dbl&gt;</th><th scope=col>&lt;dbl&gt;</th><th scope=col>&lt;dbl&gt;</th><th scope=col>&lt;dbl&gt;</th><th scope=col>&lt;dbl&gt;</th><th scope=col>&lt;dbl&gt;</th><th scope=col>&lt;dbl&gt;</th><th scope=col>&lt;dbl&gt;</th><th scope=col>&lt;dbl&gt;</th><th scope=col>&lt;dbl&gt;</th><th scope=col>&lt;dbl&gt;</th><th scope=col>&lt;dbl&gt;</th></tr>\n",
       "</thead>\n",
       "<tbody>\n",
       "\t<tr><td>0.5</td><td>0.1928</td><td>0.908</td><td>0.1901</td><td>0.5625</td><td>0.6467</td><td>0.0457</td><td>0.8799</td><td>0.7536</td><td>0.0031</td><td>0.8308</td><td>0.4801</td></tr>\n",
       "</tbody>\n",
       "</table>\n"
      ],
      "text/latex": [
       "A data.frame: 1 × 12\n",
       "\\begin{tabular}{llllllllllll}\n",
       " Lexical & personality\\_all & Coordinate & Climatic\\_demands & subsistence & disease & modern & Hofstede\\_6D & new\\_gendist\\_weighted & religion\\_per & idealogy & demographics\\\\\n",
       " <dbl> & <dbl> & <dbl> & <dbl> & <dbl> & <dbl> & <dbl> & <dbl> & <dbl> & <dbl> & <dbl> & <dbl>\\\\\n",
       "\\hline\n",
       "\t 0.5 & 0.1928 & 0.908 & 0.1901 & 0.5625 & 0.6467 & 0.0457 & 0.8799 & 0.7536 & 0.0031 & 0.8308 & 0.4801\\\\\n",
       "\\end{tabular}\n"
      ],
      "text/markdown": [
       "\n",
       "A data.frame: 1 × 12\n",
       "\n",
       "| Lexical &lt;dbl&gt; | personality_all &lt;dbl&gt; | Coordinate &lt;dbl&gt; | Climatic_demands &lt;dbl&gt; | subsistence &lt;dbl&gt; | disease &lt;dbl&gt; | modern &lt;dbl&gt; | Hofstede_6D &lt;dbl&gt; | new_gendist_weighted &lt;dbl&gt; | religion_per &lt;dbl&gt; | idealogy &lt;dbl&gt; | demographics &lt;dbl&gt; |\n",
       "|---|---|---|---|---|---|---|---|---|---|---|---|\n",
       "| 0.5 | 0.1928 | 0.908 | 0.1901 | 0.5625 | 0.6467 | 0.0457 | 0.8799 | 0.7536 | 0.0031 | 0.8308 | 0.4801 |\n",
       "\n"
      ],
      "text/plain": [
       "  Lexical personality_all Coordinate Climatic_demands subsistence disease\n",
       "1 0.5     0.1928          0.908      0.1901           0.5625      0.6467 \n",
       "  modern Hofstede_6D new_gendist_weighted religion_per idealogy demographics\n",
       "1 0.0457 0.8799      0.7536               0.0031       0.8308   0.4801      "
      ]
     },
     "metadata": {},
     "output_type": "display_data"
    }
   ],
   "source": [
    "p_value = permutation_result(dimensional_regression)\n",
    "p_value\n",
    "write.csv(p_value,'output_data/p_value/favee_33d.csv')"
   ]
  },
  {
   "cell_type": "markdown",
   "id": "9cd7c8c4",
   "metadata": {},
   "source": [
    "# Categorical model"
   ]
  },
  {
   "cell_type": "markdown",
   "id": "b39059eb",
   "metadata": {},
   "source": [
    "## regression coefficient"
   ]
  },
  {
   "cell_type": "code",
   "execution_count": 26,
   "id": "1024f2d4",
   "metadata": {
    "ExecuteTime": {
     "end_time": "2022-12-21T14:37:25.546993Z",
     "start_time": "2022-12-21T14:37:25.512Z"
    }
   },
   "outputs": [
    {
     "data": {
      "text/plain": [
       "\n",
       "Call:\n",
       "lm(formula = scale(model_rdm_array) ~ scale(x))\n",
       "\n",
       "Residuals:\n",
       "     Min       1Q   Median       3Q      Max \n",
       "-2.03743 -0.62209  0.08118  0.53465  2.47872 \n",
       "\n",
       "Coefficients:\n",
       "                               Estimate Std. Error t value Pr(>|t|)    \n",
       "(Intercept)                   1.538e-16  6.616e-02   0.000 1.000000    \n",
       "scale(x)Lexical               3.740e-02  8.623e-02   0.434 0.665085    \n",
       "scale(x)personality_all       6.604e-02  7.511e-02   0.879 0.380653    \n",
       "scale(x)Coordinate           -1.895e-01  7.725e-02  -2.453 0.015239 *  \n",
       "scale(x)Climatic_demands      1.294e-01  7.393e-02   1.751 0.081889 .  \n",
       "scale(x)subsistence          -3.496e-03  7.704e-02  -0.045 0.963857    \n",
       "scale(x)disease               7.672e-03  7.634e-02   0.100 0.920081    \n",
       "scale(x)modern                2.628e-01  7.209e-02   3.646 0.000361 ***\n",
       "scale(x)Hofstede_6D          -7.236e-02  8.019e-02  -0.902 0.368231    \n",
       "scale(x)new_gendist_weighted -3.420e-02  8.575e-02  -0.399 0.690521    \n",
       "scale(x)religion_per          4.010e-01  9.069e-02   4.421 1.82e-05 ***\n",
       "scale(x)idealogy             -6.096e-02  7.231e-02  -0.843 0.400536    \n",
       "scale(x)demographics         -3.144e-01  7.633e-02  -4.119 6.13e-05 ***\n",
       "---\n",
       "Signif. codes:  0 '***' 0.001 '**' 0.01 '*' 0.05 '.' 0.1 ' ' 1\n",
       "\n",
       "Residual standard error: 0.8651 on 158 degrees of freedom\n",
       "Multiple R-squared:  0.3044,\tAdjusted R-squared:  0.2516 \n",
       "F-statistic: 5.763 on 12 and 158 DF,  p-value: 3.283e-08\n"
      ]
     },
     "metadata": {},
     "output_type": "display_data"
    }
   ],
   "source": [
    "model_rdm = read.csv('output_data/models_rdm/categorical/hpp_dissim_dist.csv',\n",
    "                    row.names =1, check.names = FALSE)\n",
    "model_rdm = model_rdm[regions_order,regions_order]\n",
    "model_rdm_array = lowerTriangle(model_rdm)\n",
    "\n",
    "x <- do.call(cbind,lapply(variables,function(x) lowerTriangle(x))) # generate permuted predictors\n",
    "colnames(x) = variables_names\n",
    "culture_regress_standard <- lm(scale(model_rdm_array)~scale(x))\n",
    "culture_regress_standard_model <- summary(culture_regress_standard)\n",
    "culture_regress_standard_model\n",
    "\n",
    "write.csv(culture_regress_standard_model$coefficients,\n",
    " file='output_data/beta/hpp_33d.csv')\n",
    "categorical_regression = culture_regress_standard_model"
   ]
  },
  {
   "cell_type": "markdown",
   "id": "07e35a6c",
   "metadata": {},
   "source": [
    "## permutation"
   ]
  },
  {
   "cell_type": "code",
   "execution_count": 15,
   "id": "2b4ab105",
   "metadata": {
    "ExecuteTime": {
     "end_time": "2022-12-21T08:32:11.156006Z",
     "start_time": "2022-12-21T08:31:26.254Z"
    }
   },
   "outputs": [
    {
     "name": "stdout",
     "output_type": "stream",
     "text": [
      "[1] \"fstats: 5.76281136163539\"\n",
      "[1] \"r2stats: 0.304435830349851\"\n",
      "[1] 10000\n",
      "[1] \"permf_pvals 0.0823\"\n"
     ]
    },
    {
     "data": {
      "text/html": [
       "<table class=\"dataframe\">\n",
       "<caption>A data.frame: 1 × 12</caption>\n",
       "<thead>\n",
       "\t<tr><th scope=col>Lexical</th><th scope=col>personality_all</th><th scope=col>Coordinate</th><th scope=col>Climatic_demands</th><th scope=col>subsistence</th><th scope=col>disease</th><th scope=col>modern</th><th scope=col>Hofstede_6D</th><th scope=col>new_gendist_weighted</th><th scope=col>religion_per</th><th scope=col>idealogy</th><th scope=col>demographics</th></tr>\n",
       "\t<tr><th scope=col>&lt;dbl&gt;</th><th scope=col>&lt;dbl&gt;</th><th scope=col>&lt;dbl&gt;</th><th scope=col>&lt;dbl&gt;</th><th scope=col>&lt;dbl&gt;</th><th scope=col>&lt;dbl&gt;</th><th scope=col>&lt;dbl&gt;</th><th scope=col>&lt;dbl&gt;</th><th scope=col>&lt;dbl&gt;</th><th scope=col>&lt;dbl&gt;</th><th scope=col>&lt;dbl&gt;</th><th scope=col>&lt;dbl&gt;</th></tr>\n",
       "</thead>\n",
       "<tbody>\n",
       "\t<tr><td>0.385</td><td>0.2893</td><td>0.9176</td><td>0.1757</td><td>0.4906</td><td>0.4534</td><td>0.0345</td><td>0.685</td><td>0.5329</td><td>0.0105</td><td>0.681</td><td>0.9951</td></tr>\n",
       "</tbody>\n",
       "</table>\n"
      ],
      "text/latex": [
       "A data.frame: 1 × 12\n",
       "\\begin{tabular}{llllllllllll}\n",
       " Lexical & personality\\_all & Coordinate & Climatic\\_demands & subsistence & disease & modern & Hofstede\\_6D & new\\_gendist\\_weighted & religion\\_per & idealogy & demographics\\\\\n",
       " <dbl> & <dbl> & <dbl> & <dbl> & <dbl> & <dbl> & <dbl> & <dbl> & <dbl> & <dbl> & <dbl> & <dbl>\\\\\n",
       "\\hline\n",
       "\t 0.385 & 0.2893 & 0.9176 & 0.1757 & 0.4906 & 0.4534 & 0.0345 & 0.685 & 0.5329 & 0.0105 & 0.681 & 0.9951\\\\\n",
       "\\end{tabular}\n"
      ],
      "text/markdown": [
       "\n",
       "A data.frame: 1 × 12\n",
       "\n",
       "| Lexical &lt;dbl&gt; | personality_all &lt;dbl&gt; | Coordinate &lt;dbl&gt; | Climatic_demands &lt;dbl&gt; | subsistence &lt;dbl&gt; | disease &lt;dbl&gt; | modern &lt;dbl&gt; | Hofstede_6D &lt;dbl&gt; | new_gendist_weighted &lt;dbl&gt; | religion_per &lt;dbl&gt; | idealogy &lt;dbl&gt; | demographics &lt;dbl&gt; |\n",
       "|---|---|---|---|---|---|---|---|---|---|---|---|\n",
       "| 0.385 | 0.2893 | 0.9176 | 0.1757 | 0.4906 | 0.4534 | 0.0345 | 0.685 | 0.5329 | 0.0105 | 0.681 | 0.9951 |\n",
       "\n"
      ],
      "text/plain": [
       "  Lexical personality_all Coordinate Climatic_demands subsistence disease\n",
       "1 0.385   0.2893          0.9176     0.1757           0.4906      0.4534 \n",
       "  modern Hofstede_6D new_gendist_weighted religion_per idealogy demographics\n",
       "1 0.0345 0.685       0.5329               0.0105       0.681    0.9951      "
      ]
     },
     "metadata": {},
     "output_type": "display_data"
    }
   ],
   "source": [
    "p_value = permutation_result(categorical_regression)\n",
    "p_value\n",
    "write.csv(p_value,'output_data/p_value/hpp_33d.csv')"
   ]
  },
  {
   "cell_type": "markdown",
   "id": "f2e6b032",
   "metadata": {},
   "source": [
    "# Plot RSA regression results in Main Text"
   ]
  },
  {
   "cell_type": "markdown",
   "id": "89dbbc39",
   "metadata": {},
   "source": [
    "## bar plot"
   ]
  },
  {
   "cell_type": "code",
   "execution_count": 3,
   "id": "fbfe3b82",
   "metadata": {
    "ExecuteTime": {
     "end_time": "2022-12-22T02:16:33.833018Z",
     "start_time": "2022-12-22T02:16:33.788Z"
    }
   },
   "outputs": [
    {
     "data": {
      "text/html": [
       "<table class=\"dataframe\">\n",
       "<caption>A data.frame: 12 × 4</caption>\n",
       "<thead>\n",
       "\t<tr><th></th><th scope=col>Full model</th><th scope=col>Dimension</th><th scope=col>Category</th><th scope=col>Predictor</th></tr>\n",
       "\t<tr><th></th><th scope=col>&lt;dbl&gt;</th><th scope=col>&lt;dbl&gt;</th><th scope=col>&lt;dbl&gt;</th><th scope=col>&lt;chr&gt;</th></tr>\n",
       "</thead>\n",
       "<tbody>\n",
       "\t<tr><th scope=row>Language</th><td> 0.015599639</td><td> 0.002929035</td><td> 0.037398588</td><td>Language     </td></tr>\n",
       "\t<tr><th scope=row>Personality</th><td> 0.131134267</td><td> 0.165056231</td><td> 0.066037099</td><td>Personality  </td></tr>\n",
       "\t<tr><th scope=row>Geography</th><td>-0.210844416</td><td>-0.203245959</td><td>-0.189518791</td><td>Geography    </td></tr>\n",
       "\t<tr><th scope=row>Climates</th><td> 0.164608282</td><td> 0.179762163</td><td> 0.129442251</td><td>Climates     </td></tr>\n",
       "\t<tr><th scope=row>Subsistence</th><td>-0.078840127</td><td>-0.028468816</td><td>-0.003496460</td><td>Subsistence  </td></tr>\n",
       "\t<tr><th scope=row>Disease</th><td> 0.004410237</td><td>-0.035953333</td><td> 0.007671648</td><td>Disease      </td></tr>\n",
       "\t<tr><th scope=row>Modernization</th><td> 0.351449911</td><td> 0.270251479</td><td> 0.262843002</td><td>Modernization</td></tr>\n",
       "\t<tr><th scope=row>Hofstede6D</th><td>-0.150628996</td><td>-0.199993365</td><td>-0.072359820</td><td>Hofstede6D   </td></tr>\n",
       "\t<tr><th scope=row>Genetics</th><td>-0.056339730</td><td>-0.167842899</td><td>-0.034203540</td><td>Genetics     </td></tr>\n",
       "\t<tr><th scope=row>Religion</th><td> 0.557395327</td><td> 0.533411907</td><td> 0.400962240</td><td>Religion     </td></tr>\n",
       "\t<tr><th scope=row>Politics</th><td>-0.124271352</td><td>-0.130257724</td><td>-0.060955502</td><td>Politics     </td></tr>\n",
       "\t<tr><th scope=row>Demographics</th><td>-0.051989181</td><td>-0.008423041</td><td>-0.314383560</td><td>Demographics </td></tr>\n",
       "</tbody>\n",
       "</table>\n"
      ],
      "text/latex": [
       "A data.frame: 12 × 4\n",
       "\\begin{tabular}{r|llll}\n",
       "  & Full model & Dimension & Category & Predictor\\\\\n",
       "  & <dbl> & <dbl> & <dbl> & <chr>\\\\\n",
       "\\hline\n",
       "\tLanguage &  0.015599639 &  0.002929035 &  0.037398588 & Language     \\\\\n",
       "\tPersonality &  0.131134267 &  0.165056231 &  0.066037099 & Personality  \\\\\n",
       "\tGeography & -0.210844416 & -0.203245959 & -0.189518791 & Geography    \\\\\n",
       "\tClimates &  0.164608282 &  0.179762163 &  0.129442251 & Climates     \\\\\n",
       "\tSubsistence & -0.078840127 & -0.028468816 & -0.003496460 & Subsistence  \\\\\n",
       "\tDisease &  0.004410237 & -0.035953333 &  0.007671648 & Disease      \\\\\n",
       "\tModernization &  0.351449911 &  0.270251479 &  0.262843002 & Modernization\\\\\n",
       "\tHofstede6D & -0.150628996 & -0.199993365 & -0.072359820 & Hofstede6D   \\\\\n",
       "\tGenetics & -0.056339730 & -0.167842899 & -0.034203540 & Genetics     \\\\\n",
       "\tReligion &  0.557395327 &  0.533411907 &  0.400962240 & Religion     \\\\\n",
       "\tPolitics & -0.124271352 & -0.130257724 & -0.060955502 & Politics     \\\\\n",
       "\tDemographics & -0.051989181 & -0.008423041 & -0.314383560 & Demographics \\\\\n",
       "\\end{tabular}\n"
      ],
      "text/markdown": [
       "\n",
       "A data.frame: 12 × 4\n",
       "\n",
       "| <!--/--> | Full model &lt;dbl&gt; | Dimension &lt;dbl&gt; | Category &lt;dbl&gt; | Predictor &lt;chr&gt; |\n",
       "|---|---|---|---|---|\n",
       "| Language |  0.015599639 |  0.002929035 |  0.037398588 | Language      |\n",
       "| Personality |  0.131134267 |  0.165056231 |  0.066037099 | Personality   |\n",
       "| Geography | -0.210844416 | -0.203245959 | -0.189518791 | Geography     |\n",
       "| Climates |  0.164608282 |  0.179762163 |  0.129442251 | Climates      |\n",
       "| Subsistence | -0.078840127 | -0.028468816 | -0.003496460 | Subsistence   |\n",
       "| Disease |  0.004410237 | -0.035953333 |  0.007671648 | Disease       |\n",
       "| Modernization |  0.351449911 |  0.270251479 |  0.262843002 | Modernization |\n",
       "| Hofstede6D | -0.150628996 | -0.199993365 | -0.072359820 | Hofstede6D    |\n",
       "| Genetics | -0.056339730 | -0.167842899 | -0.034203540 | Genetics      |\n",
       "| Religion |  0.557395327 |  0.533411907 |  0.400962240 | Religion      |\n",
       "| Politics | -0.124271352 | -0.130257724 | -0.060955502 | Politics      |\n",
       "| Demographics | -0.051989181 | -0.008423041 | -0.314383560 | Demographics  |\n",
       "\n"
      ],
      "text/plain": [
       "              Full model   Dimension    Category     Predictor    \n",
       "Language       0.015599639  0.002929035  0.037398588 Language     \n",
       "Personality    0.131134267  0.165056231  0.066037099 Personality  \n",
       "Geography     -0.210844416 -0.203245959 -0.189518791 Geography    \n",
       "Climates       0.164608282  0.179762163  0.129442251 Climates     \n",
       "Subsistence   -0.078840127 -0.028468816 -0.003496460 Subsistence  \n",
       "Disease        0.004410237 -0.035953333  0.007671648 Disease      \n",
       "Modernization  0.351449911  0.270251479  0.262843002 Modernization\n",
       "Hofstede6D    -0.150628996 -0.199993365 -0.072359820 Hofstede6D   \n",
       "Genetics      -0.056339730 -0.167842899 -0.034203540 Genetics     \n",
       "Religion       0.557395327  0.533411907  0.400962240 Religion     \n",
       "Politics      -0.124271352 -0.130257724 -0.060955502 Politics     \n",
       "Demographics  -0.051989181 -0.008423041 -0.314383560 Demographics "
      ]
     },
     "metadata": {},
     "output_type": "display_data"
    }
   ],
   "source": [
    "full_feature_beta = read.csv('output_data/beta/raw_33d.csv',row.names=1)\n",
    "full_feature_beta = full_feature_beta['Estimate']\n",
    "\n",
    "favee_beta = read.csv('output_data/beta/favee_33d.csv',row.names=1)\n",
    "favee_beta = favee_beta['Estimate']\n",
    "\n",
    "hpp_beta = read.csv('output_data/beta/hpp_33d.csv',row.names=1)\n",
    "hpp_beta = hpp_beta['Estimate']\n",
    "\n",
    "regression_results = cbind(full_feature_beta,favee_beta,hpp_beta)\n",
    "regression_results = regression_results[-c(1),]\n",
    "rownames(regression_results) = c('Language','Personality','Geography',\n",
    "           'Climates','Subsistence','Disease','Modernization','Hofstede6D',\n",
    "           'Genetics','Religion','Politics','Demographics')\n",
    "colnames(regression_results) = c('Full model','Dimension','Category')\n",
    "\n",
    "regression_results['Predictor'] = rownames(regression_results)\n",
    "regression_results\n",
    "regression_results_melt = melt(regression_results,id.vars = 'Predictor')\n",
    "regression_results_melt$Predictor = factor(regression_results_melt$Predictor,\n",
    "levels = c('Language','Personality','Geography','Climates','Subsistence','Disease',\n",
    "           'Modernization','Hofstede6D','Genetics','Religion','Politics',\n",
    "           'Demographics'))"
   ]
  },
  {
   "cell_type": "code",
   "execution_count": 4,
   "id": "ee6198a3",
   "metadata": {
    "ExecuteTime": {
     "end_time": "2022-12-22T02:16:42.774842Z",
     "start_time": "2022-12-22T02:16:42.751Z"
    }
   },
   "outputs": [],
   "source": [
    "raw_data = read.csv('../LOOCV/output_data/raw33d_loocv.csv',row.names=1)\n",
    "raw_data_mean = mean(raw_data[,1])\n",
    "\n",
    "favee = read.csv('../LOOCV/output_data/favee33d_loocv.csv',row.names=1)\n",
    "favee_mean = mean(favee[,1])\n",
    "\n",
    "hpp = read.csv('../LOOCV/output_data/hpp33d_loocv.csv',row.names=1)\n",
    "hpp_mean = mean(hpp[,1])"
   ]
  },
  {
   "cell_type": "code",
   "execution_count": 5,
   "id": "1c8dd0e4",
   "metadata": {
    "ExecuteTime": {
     "end_time": "2022-12-22T02:16:53.582400Z",
     "start_time": "2022-12-22T02:16:52.825Z"
    }
   },
   "outputs": [
    {
     "data": {
      "text/html": [
       "<strong>png:</strong> 2"
      ],
      "text/latex": [
       "\\textbf{png:} 2"
      ],
      "text/markdown": [
       "**png:** 2"
      ],
      "text/plain": [
       "png \n",
       "  2 "
      ]
     },
     "metadata": {},
     "output_type": "display_data"
    },
    {
     "data": {
      "image/png": "[encoded data removed]",
      "text/plain": [
       "plot without title"
      ]
     },
     "metadata": {
      "image/png": {
       "height": 780,
       "width": 1200
      }
     },
     "output_type": "display_data"
    }
   ],
   "source": [
    "options(repr.plot.width=20,repr.plot.height=13)\n",
    "ggdotchart(regression_results_melt, x = \"Predictor\", y = \"value\",group = \"variable\",\n",
    "           #shape = 25,\n",
    "           size = 16,\n",
    "           color = \"variable\",                                \n",
    "           palette = c(\"#00AFBB\", \"#E7B800\", \"#FC4E07\"), \n",
    "           sorting = \"ascending\",                        \n",
    "           add = \"segments\",                             \n",
    "           ggtheme = theme_pubr()\n",
    ") + \n",
    "geom_hline(aes(yintercept=0),size=3)+\n",
    "geom_hline(aes(yintercept=-0.4),size=3)+\n",
    "geom_hline(aes(yintercept=raw_data_mean),size=2,linetype=\"dashed\",colour=\"#00AFBB\")+\n",
    "geom_hline(aes(yintercept=favee_mean),size=2,linetype=\"dashed\",colour=\"#E7B800\")+\n",
    "geom_hline(aes(yintercept=hpp_mean),size=2,linetype=\"dashed\",colour=\"#FC4E07\")+\n",
    "scale_y_continuous(breaks=seq(-0.5,1,0.25))+\n",
    "\n",
    "theme(axis.title=element_blank(),\n",
    "      #axis.text=element_text(color='white'),axis.ticks = element_blank(),\n",
    "      #axis.text.x=element_text(color='white'),\n",
    "      axis.line.x=element_line(linetype=1,color=\"black\",size=3),\n",
    "      axis.line.y=element_line(linetype=1,color=\"black\",size=3),\n",
    "      legend.title = element_blank(),\n",
    "      legend.text = element_text(size = 25,face='bold'),\n",
    "      legend.key.size = unit(3,'cm'),\n",
    "      legend.position = 'none')\n",
    "\n",
    "#################################################################\n",
    "png(\"../output_graph/regression/RSA_regression.png\", bg=\"transparent\",\n",
    "    family = 'sans',units='in',width=20,height=13,res=300)\n",
    "ggdotchart(regression_results_melt, x = \"Predictor\", y = \"value\",group = \"variable\",\n",
    "           #shape = 25,\n",
    "           size = 16,\n",
    "           color = \"variable\",                                \n",
    "           palette = c(\"#00AFBB\", \"#E7B800\", \"#FC4E07\"), \n",
    "           sorting = \"ascending\",                        \n",
    "           add = \"segments\",                             \n",
    "           ggtheme = theme_pubr()\n",
    ") + \n",
    "geom_hline(aes(yintercept=0),size=3)+\n",
    "geom_hline(aes(yintercept=-0.4),size=3)+\n",
    "geom_hline(aes(yintercept=raw_data_mean),size=2,linetype=\"dashed\",colour=\"#00AFBB\")+\n",
    "geom_hline(aes(yintercept=favee_mean),size=2,linetype=\"dashed\",colour=\"#E7B800\")+\n",
    "geom_hline(aes(yintercept=hpp_mean),size=2,linetype=\"dashed\",colour=\"#FC4E07\")+\n",
    "scale_y_continuous(breaks=seq(-0.5,1,0.25))+\n",
    "\n",
    "theme(axis.title=element_blank(),\n",
    "      axis.text=element_text(color='white'),axis.ticks = element_blank(),\n",
    "      axis.line.x=element_line(linetype=1,color=\"white\",size=3),\n",
    "      axis.line.y=element_line(linetype=1,color=\"black\",size=3),\n",
    "      legend.title = element_blank(),\n",
    "      legend.text = element_text(size = 25,face='bold'),\n",
    "      legend.key.size = unit(3,'cm'),\n",
    "      legend.position = 'none')\n",
    "dev.off()"
   ]
  },
  {
   "cell_type": "markdown",
   "id": "3683d782",
   "metadata": {},
   "source": [
    "## scatter plot"
   ]
  },
  {
   "cell_type": "code",
   "execution_count": 6,
   "id": "1d7e4186",
   "metadata": {
    "ExecuteTime": {
     "end_time": "2022-12-22T02:17:23.238864Z",
     "start_time": "2022-12-22T02:17:23.224Z"
    }
   },
   "outputs": [],
   "source": [
    "fix_region = function(df){\n",
    "    regions = rownames(df)\n",
    "    regions = str_replace(regions,'United States','USA')\n",
    "    regions = str_replace(regions,'United Kingdom','UK')\n",
    "    regions = str_replace(regions,'China','CHN')\n",
    "    regions = str_replace(regions,'South_africa','South Africa')\n",
    "    regions = str_replace(regions,'Spain','Spanish')\n",
    "    regions = str_replace(regions,'HK','HK(region)')\n",
    "    regions = gsub('Hong Kong SAR, CHN','HK(region)',regions,fixed=TRUE)\n",
    "    regions = str_replace(regions,'Hong Kong','HK(region)')\n",
    "    regions = str_replace(regions,'Spanish','Spain')\n",
    "    regions = str_replace(regions,'Russian Federation','Russia')\n",
    "    regions = str_replace(regions,'Russian','Russia')\n",
    "    regions = str_replace(regions,'Egypt, Arab Rep.','Egypt')\n",
    "    \n",
    "    rownames(df) = regions\n",
    "    colnames(df) = regions\n",
    "    \n",
    "    df = df[regions_selected,regions_selected]\n",
    "    return(df)\n",
    "}"
   ]
  },
  {
   "cell_type": "code",
   "execution_count": 7,
   "id": "4eee95cc",
   "metadata": {
    "ExecuteTime": {
     "end_time": "2022-12-22T02:17:32.038304Z",
     "start_time": "2022-12-22T02:17:31.974Z"
    }
   },
   "outputs": [],
   "source": [
    "raw33d_dissim_dist = read.csv('output_data/models_rdm/full_feature/raw33d_dissim_dist.csv',\n",
    "                             row.names=1)\n",
    "regions_selected = rownames(raw33d_dissim_dist)\n",
    "raw_rdm = raw33d_dissim_dist[lower.tri(raw33d_dissim_dist,diag = FALSE)]\n",
    "favee_dissim_dist = read.csv('output_data/models_rdm/dimensional/favee_dissim_dist.csv',\n",
    "                             row.names=1)\n",
    "favee_rdm = favee_dissim_dist[lower.tri(favee_dissim_dist,diag = FALSE)]\n",
    "hpp_dissim_dist = read.csv('output_data/models_rdm/categorical/hpp_dissim_dist.csv',\n",
    "                             row.names=1)\n",
    "hpp_rdm = hpp_dissim_dist[lower.tri(hpp_dissim_dist,diag = FALSE)]\n",
    "\n",
    "\n",
    "religion = read.csv('../Cultural_RDM/rdm/religion_percentage_rdm.csv',\n",
    "                     row.names=1, encoding = \"UTF-8\",check.names = FALSE)\n",
    "religion = fix_region(religion)\n",
    "religion_rdm = religion[lower.tri(religion,diag = FALSE)]\n",
    "\n",
    "modern = read.csv('../Cultural_RDM/rdm/modern_dist.csv', \n",
    "                  row.names=1, encoding = \"UTF-8\",check.names = FALSE)\n",
    "modern = fix_region(modern)\n",
    "modern_rdm = modern[lower.tri(modern,diag = FALSE)]"
   ]
  },
  {
   "cell_type": "markdown",
   "id": "b6dc44e9",
   "metadata": {},
   "source": [
    "### full feature"
   ]
  },
  {
   "cell_type": "code",
   "execution_count": 8,
   "id": "d447fea9",
   "metadata": {
    "ExecuteTime": {
     "end_time": "2022-12-22T02:17:56.687201Z",
     "start_time": "2022-12-22T02:17:56.649Z"
    }
   },
   "outputs": [
    {
     "data": {
      "text/plain": [
       "\n",
       "Call:\n",
       "lm(formula = scale(raw_rdm) ~ scale(modern_rdm))\n",
       "\n",
       "Residuals:\n",
       "     Min       1Q   Median       3Q      Max \n",
       "-2.31280 -0.70645 -0.07477  0.65156  3.04552 \n",
       "\n",
       "Coefficients:\n",
       "                   Estimate Std. Error t value Pr(>|t|)    \n",
       "(Intercept)       1.321e-16  6.926e-02   0.000        1    \n",
       "scale(modern_rdm) 4.295e-01  6.946e-02   6.184 4.56e-09 ***\n",
       "---\n",
       "Signif. codes:  0 '***' 0.001 '**' 0.01 '*' 0.05 '.' 0.1 ' ' 1\n",
       "\n",
       "Residual standard error: 0.9057 on 169 degrees of freedom\n",
       "Multiple R-squared:  0.1845,\tAdjusted R-squared:  0.1797 \n",
       "F-statistic: 38.24 on 1 and 169 DF,  p-value: 4.556e-09\n"
      ]
     },
     "metadata": {},
     "output_type": "display_data"
    },
    {
     "data": {
      "text/plain": [
       "\n",
       "Call:\n",
       "lm(formula = scale(raw_rdm) ~ scale(religion_rdm))\n",
       "\n",
       "Residuals:\n",
       "     Min       1Q   Median       3Q      Max \n",
       "-1.83794 -0.68998  0.05443  0.47180  2.10597 \n",
       "\n",
       "Coefficients:\n",
       "                     Estimate Std. Error t value Pr(>|t|)    \n",
       "(Intercept)         1.203e-16  6.358e-02    0.00        1    \n",
       "scale(religion_rdm) 5.593e-01  6.377e-02    8.77 1.86e-15 ***\n",
       "---\n",
       "Signif. codes:  0 '***' 0.001 '**' 0.01 '*' 0.05 '.' 0.1 ' ' 1\n",
       "\n",
       "Residual standard error: 0.8314 on 169 degrees of freedom\n",
       "Multiple R-squared:  0.3128,\tAdjusted R-squared:  0.3087 \n",
       "F-statistic: 76.92 on 1 and 169 DF,  p-value: 1.856e-15\n"
      ]
     },
     "metadata": {},
     "output_type": "display_data"
    }
   ],
   "source": [
    "raw_religion = data.frame(cbind(scale(raw_rdm),scale(religion_rdm)))\n",
    "raw_religion['pre'] = 'religion'\n",
    "raw_modern = data.frame(cbind(scale(raw_rdm),scale(modern_rdm)))\n",
    "raw_modern['pre'] = 'modern'\n",
    "raw_resutls = rbind(raw_religion,raw_modern)\n",
    "colnames(raw_resutls) = c('model_rdm','pre_rdm','pre')\n",
    "raw_resutls$pre = factor(raw_resutls$pre,levels=c('modern','religion'))\n",
    "\n",
    "# results of correlation is the same as regression\n",
    "summary(lm(scale(raw_rdm)~scale(modern_rdm)))\n",
    "summary(lm(scale(raw_rdm)~scale(religion_rdm)))"
   ]
  },
  {
   "cell_type": "code",
   "execution_count": 9,
   "id": "28cfd6d9",
   "metadata": {
    "ExecuteTime": {
     "end_time": "2022-12-22T02:18:07.342458Z",
     "start_time": "2022-12-22T02:18:06.674Z"
    }
   },
   "outputs": [
    {
     "data": {
      "text/html": [
       "<strong>png:</strong> 2"
      ],
      "text/latex": [
       "\\textbf{png:} 2"
      ],
      "text/markdown": [
       "**png:** 2"
      ],
      "text/plain": [
       "png \n",
       "  2 "
      ]
     },
     "metadata": {},
     "output_type": "display_data"
    },
    {
     "data": {
      "image/png": "[encoded data removed]",
      "text/plain": [
       "plot without title"
      ]
     },
     "metadata": {
      "image/png": {
       "height": 480,
       "width": 720
      }
     },
     "output_type": "display_data"
    }
   ],
   "source": [
    "options(repr.plot.width = 12,repr.plot.height = 8)\n",
    "ggplot(raw_resutls,aes(x=pre_rdm,y=model_rdm,group=pre,shape=pre))+\n",
    "geom_point(aes(alpha=pre),size=15,colour='#00AFBB',stroke=3)+\n",
    "scale_shape_manual(values=c('religion'=1,'modern'=16))+\n",
    "scale_alpha_manual(values=c('religion'=0.8,'modern'=0.3))+\n",
    "geom_smooth(aes(linetype = pre),\n",
    "            method = 'lm', size=3,formula = y ~ x,color = \"#00AFBB\") +\n",
    "\n",
    "theme_classic() + \n",
    "theme(#axis.text.x=element_blank(),axis.title.x =element_blank(),\n",
    "    #axis.ticks.x = element_blank(),\n",
    "    axis.text.y=element_text(size=50,face='bold',color=\"black\"),\n",
    "    axis.title.y=element_text(size=28,face='bold',color=\"black\"),\n",
    "    axis.text.x=element_text(size=50,face='bold',color=\"black\"),\n",
    "    axis.title.x=element_text(size=28,face='bold',color=\"black\"),\n",
    "    axis.line.x=element_line(linetype=1,color=\"black\",size=2),\n",
    "    axis.line.y=element_line(linetype=1,color=\"black\",size=2),\n",
    "    legend.position = 'none') \n",
    "\n",
    "png(\"../output_graph/regression/full_feature_correlation.png\", bg=\"transparent\",\n",
    "    family = 'sans',units='in',width=12,height=8,res=300)\n",
    "ggplot(raw_resutls,aes(x=pre_rdm,y=model_rdm,group=pre,shape=pre))+\n",
    "geom_point(aes(alpha=pre),size=15,colour='#00AFBB',stroke=3)+\n",
    "scale_shape_manual(values=c('religion'=1,'modern'=16))+\n",
    "scale_alpha_manual(values=c('religion'=0.8,'modern'=0.3))+\n",
    "geom_smooth(aes(linetype = pre),\n",
    "            method = 'lm', size=3,formula = y ~ x,color = \"#00AFBB\") +\n",
    "\n",
    "theme_classic() + \n",
    "theme(#axis.text.x=element_blank(),\n",
    "    axis.title =element_blank(),\n",
    "    #axis.ticks.x = element_blank(),\n",
    "    axis.text.y=element_text(size=50,face='bold',color=\"black\"),\n",
    "    #axis.title.y=element_text(size=28,face='bold',color=\"black\"),\n",
    "    axis.text.x=element_text(size=50,face='bold',color=\"black\"),\n",
    "    #axis.title.x=element_text(size=28,face='bold',color=\"black\"),\n",
    "    axis.line.x=element_line(linetype=1,color=\"black\",size=2),\n",
    "    axis.line.y=element_line(linetype=1,color=\"black\",size=2),\n",
    "    legend.position = 'none') \n",
    "dev.off()"
   ]
  },
  {
   "cell_type": "markdown",
   "id": "0b3315f0",
   "metadata": {},
   "source": [
    "### favee"
   ]
  },
  {
   "cell_type": "code",
   "execution_count": 10,
   "id": "175e4c07",
   "metadata": {
    "ExecuteTime": {
     "end_time": "2022-12-22T02:18:23.680958Z",
     "start_time": "2022-12-22T02:18:23.651Z"
    }
   },
   "outputs": [
    {
     "data": {
      "text/plain": [
       "\n",
       "Call:\n",
       "lm(formula = scale(favee_rdm) ~ scale(modern_rdm))\n",
       "\n",
       "Residuals:\n",
       "     Min       1Q   Median       3Q      Max \n",
       "-2.22099 -0.73633  0.03004  0.80814  2.60364 \n",
       "\n",
       "Coefficients:\n",
       "                    Estimate Std. Error t value Pr(>|t|)    \n",
       "(Intercept)       -9.719e-18  7.205e-02   0.000        1    \n",
       "scale(modern_rdm)  3.430e-01  7.226e-02   4.747 4.39e-06 ***\n",
       "---\n",
       "Signif. codes:  0 '***' 0.001 '**' 0.01 '*' 0.05 '.' 0.1 ' ' 1\n",
       "\n",
       "Residual standard error: 0.9421 on 169 degrees of freedom\n",
       "Multiple R-squared:  0.1176,\tAdjusted R-squared:  0.1124 \n",
       "F-statistic: 22.53 on 1 and 169 DF,  p-value: 4.385e-06\n"
      ]
     },
     "metadata": {},
     "output_type": "display_data"
    },
    {
     "data": {
      "text/plain": [
       "\n",
       "Call:\n",
       "lm(formula = scale(favee_rdm) ~ scale(religion_rdm))\n",
       "\n",
       "Residuals:\n",
       "    Min      1Q  Median      3Q     Max \n",
       "-1.8168 -0.6851  0.1301  0.6692  2.3948 \n",
       "\n",
       "Coefficients:\n",
       "                      Estimate Std. Error t value Pr(>|t|)    \n",
       "(Intercept)         -2.680e-17  6.592e-02   0.000        1    \n",
       "scale(religion_rdm)  5.112e-01  6.611e-02   7.732 9.08e-13 ***\n",
       "---\n",
       "Signif. codes:  0 '***' 0.001 '**' 0.01 '*' 0.05 '.' 0.1 ' ' 1\n",
       "\n",
       "Residual standard error: 0.862 on 169 degrees of freedom\n",
       "Multiple R-squared:  0.2613,\tAdjusted R-squared:  0.2569 \n",
       "F-statistic: 59.78 on 1 and 169 DF,  p-value: 9.076e-13\n"
      ]
     },
     "metadata": {},
     "output_type": "display_data"
    }
   ],
   "source": [
    "favee_religion = data.frame(cbind(scale(favee_rdm),scale(religion_rdm)))\n",
    "favee_religion['pre'] = 'religion'\n",
    "favee_modern = data.frame(cbind(scale(favee_rdm),scale(modern_rdm)))\n",
    "favee_modern['pre'] = 'modern'\n",
    "favee_resutls = rbind(favee_religion,favee_modern)\n",
    "colnames(favee_resutls) = c('model_rdm','pre_rdm','pre')\n",
    "favee_resutls$pre = factor(favee_resutls$pre,levels=c('modern','religion'))\n",
    "\n",
    "# results of correlation is the same as regression\n",
    "summary(lm(scale(favee_rdm)~scale(modern_rdm)))\n",
    "summary(lm(scale(favee_rdm)~scale(religion_rdm)))"
   ]
  },
  {
   "cell_type": "code",
   "execution_count": 11,
   "id": "19eb24d8",
   "metadata": {
    "ExecuteTime": {
     "end_time": "2022-12-22T02:18:34.586932Z",
     "start_time": "2022-12-22T02:18:34.036Z"
    }
   },
   "outputs": [
    {
     "data": {
      "text/html": [
       "<strong>png:</strong> 2"
      ],
      "text/latex": [
       "\\textbf{png:} 2"
      ],
      "text/markdown": [
       "**png:** 2"
      ],
      "text/plain": [
       "png \n",
       "  2 "
      ]
     },
     "metadata": {},
     "output_type": "display_data"
    },
    {
     "data": {
      "image/png": "[encoded data removed]",
      "text/plain": [
       "plot without title"
      ]
     },
     "metadata": {
      "image/png": {
       "height": 480,
       "width": 720
      }
     },
     "output_type": "display_data"
    }
   ],
   "source": [
    "options(repr.plot.width = 12,repr.plot.height = 8)\n",
    "ggplot(favee_resutls,aes(x=pre_rdm,y=model_rdm,group=pre,shape=pre))+\n",
    "geom_point(aes(alpha=pre),size=15,colour='#E7B800',stroke=3)+\n",
    "scale_shape_manual(values=c('religion'=1,'modern'=16))+\n",
    "scale_alpha_manual(values=c('religion'=0.8,'modern'=0.3))+\n",
    "geom_smooth(aes(linetype = pre),\n",
    "            method = 'lm', size=3,formula = y ~ x,color = \"#E7B800\") +\n",
    "\n",
    "theme_classic() + \n",
    "theme(#axis.text.x=element_blank(),axis.title.x =element_blank(),\n",
    "    #axis.ticks.x = element_blank(),\n",
    "    axis.text.y=element_text(size=50,face='bold',color=\"black\"),\n",
    "    axis.title.y=element_text(size=28,face='bold',color=\"black\"),\n",
    "    axis.text.x=element_text(size=50,face='bold',color=\"black\"),\n",
    "    axis.title.x=element_text(size=28,face='bold',color=\"black\"),\n",
    "    axis.line.x=element_line(linetype=1,color=\"black\",size=2),\n",
    "    axis.line.y=element_line(linetype=1,color=\"black\",size=2),\n",
    "    legend.position = 'none') \n",
    "\n",
    "png(\"../output_graph/regression/favee_correlation.png\", bg=\"transparent\",\n",
    "    family = 'sans',units='in',width=12,height=8,res=300)\n",
    "ggplot(favee_resutls,aes(x=pre_rdm,y=model_rdm,group=pre,shape=pre))+\n",
    "geom_point(aes(alpha=pre),size=15,colour='#E7B800',stroke=3)+\n",
    "scale_shape_manual(values=c('religion'=1,'modern'=16))+\n",
    "scale_alpha_manual(values=c('religion'=0.8,'modern'=0.3))+\n",
    "geom_smooth(aes(linetype = pre),\n",
    "            method = 'lm', size=3,formula = y ~ x,color = \"#E7B800\") +\n",
    "\n",
    "theme_classic() + \n",
    "theme(#axis.text.x=element_blank(),\n",
    "    axis.title =element_blank(),\n",
    "    #axis.ticks.x = element_blank(),\n",
    "    axis.text.y=element_text(size=50,face='bold',color=\"black\"),\n",
    "    #axis.title.y=element_text(size=28,face='bold',color=\"black\"),\n",
    "    axis.text.x=element_text(size=50,face='bold',color=\"black\"),\n",
    "    #axis.title.x=element_text(size=28,face='bold',color=\"black\"),\n",
    "    axis.line.x=element_line(linetype=1,color=\"black\",size=2),\n",
    "    axis.line.y=element_line(linetype=1,color=\"black\",size=2),\n",
    "    legend.position = 'none') \n",
    "dev.off()"
   ]
  },
  {
   "cell_type": "markdown",
   "id": "b2f2cbd1",
   "metadata": {},
   "source": [
    "### hpp"
   ]
  },
  {
   "cell_type": "code",
   "execution_count": 12,
   "id": "ce5207bd",
   "metadata": {
    "ExecuteTime": {
     "end_time": "2022-12-22T02:18:51.029047Z",
     "start_time": "2022-12-22T02:18:50.998Z"
    }
   },
   "outputs": [
    {
     "data": {
      "text/plain": [
       "\n",
       "Call:\n",
       "lm(formula = scale(hpp_rdm) ~ scale(modern_rdm))\n",
       "\n",
       "Residuals:\n",
       "     Min       1Q   Median       3Q      Max \n",
       "-2.08057 -0.72525 -0.01331  0.74462  2.94606 \n",
       "\n",
       "Coefficients:\n",
       "                   Estimate Std. Error t value Pr(>|t|)    \n",
       "(Intercept)       1.503e-16  7.349e-02   0.000 1.000000    \n",
       "scale(modern_rdm) 2.863e-01  7.370e-02   3.884 0.000147 ***\n",
       "---\n",
       "Signif. codes:  0 '***' 0.001 '**' 0.01 '*' 0.05 '.' 0.1 ' ' 1\n",
       "\n",
       "Residual standard error: 0.961 on 169 degrees of freedom\n",
       "Multiple R-squared:  0.08195,\tAdjusted R-squared:  0.07652 \n",
       "F-statistic: 15.09 on 1 and 169 DF,  p-value: 0.0001472\n"
      ]
     },
     "metadata": {},
     "output_type": "display_data"
    },
    {
     "data": {
      "text/plain": [
       "\n",
       "Call:\n",
       "lm(formula = scale(hpp_rdm) ~ scale(religion_rdm))\n",
       "\n",
       "Residuals:\n",
       "     Min       1Q   Median       3Q      Max \n",
       "-2.54112 -0.65128  0.00955  0.67098  2.19945 \n",
       "\n",
       "Coefficients:\n",
       "                     Estimate Std. Error t value Pr(>|t|)    \n",
       "(Intercept)         1.478e-16  7.246e-02   0.000        1    \n",
       "scale(religion_rdm) 3.278e-01  7.267e-02   4.511  1.2e-05 ***\n",
       "---\n",
       "Signif. codes:  0 '***' 0.001 '**' 0.01 '*' 0.05 '.' 0.1 ' ' 1\n",
       "\n",
       "Residual standard error: 0.9475 on 169 degrees of freedom\n",
       "Multiple R-squared:  0.1075,\tAdjusted R-squared:  0.1022 \n",
       "F-statistic: 20.35 on 1 and 169 DF,  p-value: 1.201e-05\n"
      ]
     },
     "metadata": {},
     "output_type": "display_data"
    }
   ],
   "source": [
    "hpp_religion = data.frame(cbind(scale(hpp_rdm),scale(religion_rdm)))\n",
    "hpp_religion['pre'] = 'religion'\n",
    "hpp_modern = data.frame(cbind(scale(hpp_rdm),scale(modern_rdm)))\n",
    "hpp_modern['pre'] = 'modern'\n",
    "hpp_resutls = rbind(hpp_religion,hpp_modern)\n",
    "colnames(hpp_resutls) = c('model_rdm','pre_rdm','pre')\n",
    "hpp_resutls$pre = factor(hpp_resutls$pre,levels=c('modern','religion'))\n",
    "\n",
    "summary(lm(scale(hpp_rdm)~scale(modern_rdm)))\n",
    "summary(lm(scale(hpp_rdm)~scale(religion_rdm)))"
   ]
  },
  {
   "cell_type": "code",
   "execution_count": 13,
   "id": "f773abfa",
   "metadata": {
    "ExecuteTime": {
     "end_time": "2022-12-22T02:19:00.555408Z",
     "start_time": "2022-12-22T02:19:00.010Z"
    }
   },
   "outputs": [
    {
     "data": {
      "text/html": [
       "<strong>png:</strong> 2"
      ],
      "text/latex": [
       "\\textbf{png:} 2"
      ],
      "text/markdown": [
       "**png:** 2"
      ],
      "text/plain": [
       "png \n",
       "  2 "
      ]
     },
     "metadata": {},
     "output_type": "display_data"
    },
    {
     "data": {
      "image/png": "[encoded data removed]",
      "text/plain": [
       "plot without title"
      ]
     },
     "metadata": {
      "image/png": {
       "height": 480,
       "width": 720
      }
     },
     "output_type": "display_data"
    }
   ],
   "source": [
    "options(repr.plot.width = 12,repr.plot.height = 8)\n",
    "ggplot(hpp_resutls,aes(x=pre_rdm,y=model_rdm,group=pre,shape=pre))+\n",
    "geom_point(aes(alpha=pre),size=15,colour='#FC4E07',stroke=3)+\n",
    "scale_shape_manual(values=c('religion'=1,'modern'=16))+\n",
    "scale_alpha_manual(values=c('religion'=0.8,'modern'=0.3))+\n",
    "\n",
    "geom_smooth(aes(linetype = pre),\n",
    "            method = 'lm', size=3,formula = y ~ x,color = \"#FC4E07\") +\n",
    "\n",
    "theme_classic() +  \n",
    "theme(#axis.text.x=element_blank(),axis.title.x =element_blank(),\n",
    "    #axis.ticks.x = element_blank(),\n",
    "    axis.text.y=element_text(size=50,face='bold',color=\"black\"),\n",
    "    axis.title.y=element_text(size=28,face='bold',color=\"black\"),\n",
    "    axis.text.x=element_text(size=50,face='bold',color=\"black\"),\n",
    "    axis.title.x=element_text(size=28,face='bold',color=\"black\"),\n",
    "    axis.line.x=element_line(linetype=1,color=\"black\",size=2),\n",
    "    axis.line.y=element_line(linetype=1,color=\"black\",size=2),\n",
    "    legend.position = 'none')  \n",
    "\n",
    "png(\"../output_graph/regression/hpp_correlation.png\", bg=\"transparent\",\n",
    "    family = 'sans',units='in',width=12,height=8,res=300)\n",
    "ggplot(hpp_resutls,aes(x=pre_rdm,y=model_rdm,group=pre,shape=pre))+\n",
    "geom_point(aes(alpha=pre),size=15,colour='#FC4E07',stroke=3)+\n",
    "scale_shape_manual(values=c('religion'=1,'modern'=16))+\n",
    "scale_alpha_manual(values=c('religion'=0.8,'modern'=0.3))+\n",
    "geom_smooth(aes(linetype = pre),\n",
    "            method = 'lm', size=3,formula = y ~ x,color = \"#FC4E07\") +\n",
    "\n",
    "theme_classic() + \n",
    "theme(#axis.text.x=element_blank(),\n",
    "    axis.title =element_blank(),\n",
    "    #axis.ticks.x = element_blank(),\n",
    "    axis.text.y=element_text(size=50,face='bold',color=\"black\"),\n",
    "    #axis.title.y=element_text(size=28,face='bold',color=\"black\"),\n",
    "    axis.text.x=element_text(size=50,face='bold',color=\"black\"),\n",
    "    #axis.title.x=element_text(size=28,face='bold',color=\"black\"),\n",
    "    axis.line.x=element_line(linetype=1,color=\"black\",size=2),\n",
    "    axis.line.y=element_line(linetype=1,color=\"black\",size=2),\n",
    "    legend.position = 'none') \n",
    "dev.off()"
   ]
  },
  {
   "cell_type": "markdown",
   "id": "362179ff",
   "metadata": {},
   "source": [
    "legend"
   ]
  },
  {
   "cell_type": "code",
   "execution_count": 14,
   "id": "df478880",
   "metadata": {
    "ExecuteTime": {
     "end_time": "2022-12-22T02:19:27.437011Z",
     "start_time": "2022-12-22T02:19:27.425Z"
    }
   },
   "outputs": [],
   "source": [
    "# options(repr.plot.width = 12,repr.plot.height = 8)\n",
    "# ggplot(hpp_resutls,aes(x=pre_rdm,y=model_rdm,group=pre,shape=pre))+\n",
    "# geom_point(size=6,colour='black',stroke=1)+\n",
    "# scale_shape_manual(values=c('religion'=1,'modern'=16))+\n",
    "# geom_smooth(aes(linetype = pre),\n",
    "#             method = 'lm', size=3,formula = y ~ x,color = \"black\") +\n",
    "\n",
    "# theme_classic() +  \n",
    "# theme(#axis.text.x=element_blank(),axis.title.x =element_blank(),\n",
    "#     #axis.ticks.x = element_blank(),\n",
    "#     axis.text.y=element_text(size=28,face='bold',color=\"black\"),\n",
    "#     axis.title.y=element_text(size=28,face='bold',color=\"black\"),\n",
    "#     axis.text.x=element_text(size=28,face='bold',color=\"black\"),\n",
    "#     axis.title.x=element_text(size=28,face='bold',color=\"black\"),\n",
    "#     axis.line.x=element_line(linetype=1,color=\"black\",size=2),\n",
    "#     axis.line.y=element_line(linetype=1,color=\"black\",size=2),\n",
    "#     legend.position = 'top',legend.text = element_blank(),\n",
    "#     legend.key.size = unit(5,'cm')) "
   ]
  },
  {
   "cell_type": "markdown",
   "id": "90e472ce",
   "metadata": {},
   "source": [
    "# Dimensional: single dimension"
   ]
  },
  {
   "cell_type": "markdown",
   "id": "f1a21f44",
   "metadata": {},
   "source": [
    "## Formality"
   ]
  },
  {
   "cell_type": "code",
   "execution_count": 16,
   "id": "8aa6111e",
   "metadata": {
    "ExecuteTime": {
     "end_time": "2022-12-21T08:33:50.630426Z",
     "start_time": "2022-12-21T08:33:03.439Z"
    }
   },
   "outputs": [
    {
     "data": {
      "text/plain": [
       "\n",
       "Call:\n",
       "lm(formula = scale(model_rdm_array) ~ scale(x))\n",
       "\n",
       "Residuals:\n",
       "     Min       1Q   Median       3Q      Max \n",
       "-1.79131 -0.56677  0.05342  0.52369  2.76072 \n",
       "\n",
       "Coefficients:\n",
       "                               Estimate Std. Error t value Pr(>|t|)    \n",
       "(Intercept)                  -2.553e-16  6.203e-02   0.000  1.00000    \n",
       "scale(x)Lexical               1.024e-01  8.085e-02   1.266  0.20736    \n",
       "scale(x)personality_all      -8.729e-03  7.043e-02  -0.124  0.90152    \n",
       "scale(x)Coordinate           -2.431e-01  7.243e-02  -3.356  0.00099 ***\n",
       "scale(x)Climatic_demands      1.355e-01  6.932e-02   1.954  0.05245 .  \n",
       "scale(x)subsistence          -6.430e-02  7.224e-02  -0.890  0.37477    \n",
       "scale(x)disease              -1.547e-01  7.158e-02  -2.161  0.03221 *  \n",
       "scale(x)modern                1.391e-01  6.760e-02   2.058  0.04121 *  \n",
       "scale(x)Hofstede_6D          -1.579e-01  7.519e-02  -2.100  0.03733 *  \n",
       "scale(x)new_gendist_weighted -7.335e-02  8.041e-02  -0.912  0.36300    \n",
       "scale(x)religion_per          4.867e-01  8.503e-02   5.724 5.09e-08 ***\n",
       "scale(x)idealogy             -1.028e-01  6.781e-02  -1.516  0.13149    \n",
       "scale(x)demographics         -7.098e-02  7.157e-02  -0.992  0.32289    \n",
       "---\n",
       "Signif. codes:  0 '***' 0.001 '**' 0.01 '*' 0.05 '.' 0.1 ' ' 1\n",
       "\n",
       "Residual standard error: 0.8112 on 158 degrees of freedom\n",
       "Multiple R-squared:  0.3884,\tAdjusted R-squared:  0.342 \n",
       "F-statistic: 8.363 on 12 and 158 DF,  p-value: 4.066e-12\n"
      ]
     },
     "metadata": {},
     "output_type": "display_data"
    },
    {
     "name": "stdout",
     "output_type": "stream",
     "text": [
      "[1] \"fstats: 8.36274682155775\"\n",
      "[1] \"r2stats: 0.38843356444112\"\n",
      "[1] 10000\n",
      "[1] \"permf_pvals 0.0228\"\n"
     ]
    },
    {
     "data": {
      "text/html": [
       "<table class=\"dataframe\">\n",
       "<caption>A data.frame: 1 × 12</caption>\n",
       "<thead>\n",
       "\t<tr><th scope=col>Lexical</th><th scope=col>personality_all</th><th scope=col>Coordinate</th><th scope=col>Climatic_demands</th><th scope=col>subsistence</th><th scope=col>disease</th><th scope=col>modern</th><th scope=col>Hofstede_6D</th><th scope=col>new_gendist_weighted</th><th scope=col>religion_per</th><th scope=col>idealogy</th><th scope=col>demographics</th></tr>\n",
       "\t<tr><th scope=col>&lt;dbl&gt;</th><th scope=col>&lt;dbl&gt;</th><th scope=col>&lt;dbl&gt;</th><th scope=col>&lt;dbl&gt;</th><th scope=col>&lt;dbl&gt;</th><th scope=col>&lt;dbl&gt;</th><th scope=col>&lt;dbl&gt;</th><th scope=col>&lt;dbl&gt;</th><th scope=col>&lt;dbl&gt;</th><th scope=col>&lt;dbl&gt;</th><th scope=col>&lt;dbl&gt;</th><th scope=col>&lt;dbl&gt;</th></tr>\n",
       "</thead>\n",
       "<tbody>\n",
       "\t<tr><td>0.2249</td><td>0.482</td><td>0.9577</td><td>0.221</td><td>0.6731</td><td>0.9593</td><td>0.1755</td><td>0.8401</td><td>0.6081</td><td>0.0026</td><td>0.7823</td><td>0.6525</td></tr>\n",
       "</tbody>\n",
       "</table>\n"
      ],
      "text/latex": [
       "A data.frame: 1 × 12\n",
       "\\begin{tabular}{llllllllllll}\n",
       " Lexical & personality\\_all & Coordinate & Climatic\\_demands & subsistence & disease & modern & Hofstede\\_6D & new\\_gendist\\_weighted & religion\\_per & idealogy & demographics\\\\\n",
       " <dbl> & <dbl> & <dbl> & <dbl> & <dbl> & <dbl> & <dbl> & <dbl> & <dbl> & <dbl> & <dbl> & <dbl>\\\\\n",
       "\\hline\n",
       "\t 0.2249 & 0.482 & 0.9577 & 0.221 & 0.6731 & 0.9593 & 0.1755 & 0.8401 & 0.6081 & 0.0026 & 0.7823 & 0.6525\\\\\n",
       "\\end{tabular}\n"
      ],
      "text/markdown": [
       "\n",
       "A data.frame: 1 × 12\n",
       "\n",
       "| Lexical &lt;dbl&gt; | personality_all &lt;dbl&gt; | Coordinate &lt;dbl&gt; | Climatic_demands &lt;dbl&gt; | subsistence &lt;dbl&gt; | disease &lt;dbl&gt; | modern &lt;dbl&gt; | Hofstede_6D &lt;dbl&gt; | new_gendist_weighted &lt;dbl&gt; | religion_per &lt;dbl&gt; | idealogy &lt;dbl&gt; | demographics &lt;dbl&gt; |\n",
       "|---|---|---|---|---|---|---|---|---|---|---|---|\n",
       "| 0.2249 | 0.482 | 0.9577 | 0.221 | 0.6731 | 0.9593 | 0.1755 | 0.8401 | 0.6081 | 0.0026 | 0.7823 | 0.6525 |\n",
       "\n"
      ],
      "text/plain": [
       "  Lexical personality_all Coordinate Climatic_demands subsistence disease\n",
       "1 0.2249  0.482           0.9577     0.221            0.6731      0.9593 \n",
       "  modern Hofstede_6D new_gendist_weighted religion_per idealogy demographics\n",
       "1 0.1755 0.8401      0.6081               0.0026       0.7823   0.6525      "
      ]
     },
     "metadata": {},
     "output_type": "display_data"
    }
   ],
   "source": [
    "# 1.regression coefficient\n",
    "model_rdm = read.csv('output_data/models_rdm/dimensional/formality_dissim_dist.csv',\n",
    "                    row.names =1, check.names = FALSE)\n",
    "model_rdm = model_rdm[regions_order,regions_order]\n",
    "model_rdm_array = lowerTriangle(model_rdm)\n",
    "\n",
    "x <- do.call(cbind,lapply(variables,function(x) lowerTriangle(x))) # generate permuted predictors\n",
    "colnames(x) = variables_names\n",
    "culture_regress_standard <- lm(scale(model_rdm_array)~scale(x))\n",
    "culture_regress_standard_model <- summary(culture_regress_standard)\n",
    "culture_regress_standard_model\n",
    "\n",
    "write.csv(culture_regress_standard_model$coefficients,\n",
    " file='output_data/beta/formality_33d.csv')\n",
    "formality_regression = culture_regress_standard_model\n",
    "\n",
    "# 2.permutation\n",
    "p_value = permutation_result(formality_regression)\n",
    "p_value\n",
    "write.csv(p_value,'output_data/p_value/formality_33d.csv')"
   ]
  },
  {
   "cell_type": "markdown",
   "id": "54d736c2",
   "metadata": {},
   "source": [
    "## Activeness"
   ]
  },
  {
   "cell_type": "code",
   "execution_count": 17,
   "id": "c76ed67e",
   "metadata": {
    "ExecuteTime": {
     "end_time": "2022-12-21T08:34:42.123457Z",
     "start_time": "2022-12-21T08:33:21.503Z"
    }
   },
   "outputs": [
    {
     "data": {
      "text/plain": [
       "\n",
       "Call:\n",
       "lm(formula = scale(model_rdm_array) ~ scale(x))\n",
       "\n",
       "Residuals:\n",
       "     Min       1Q   Median       3Q      Max \n",
       "-2.45421 -0.42202  0.07348  0.54072  2.10451 \n",
       "\n",
       "Coefficients:\n",
       "                               Estimate Std. Error t value Pr(>|t|)    \n",
       "(Intercept)                   4.947e-16  6.597e-02   0.000 1.000000    \n",
       "scale(x)Lexical               1.368e-01  8.598e-02   1.591 0.113651    \n",
       "scale(x)personality_all       8.081e-02  7.490e-02   1.079 0.282274    \n",
       "scale(x)Coordinate           -1.692e-01  7.703e-02  -2.197 0.029472 *  \n",
       "scale(x)Climatic_demands      7.666e-02  7.372e-02   1.040 0.299959    \n",
       "scale(x)subsistence          -3.708e-02  7.682e-02  -0.483 0.629954    \n",
       "scale(x)disease              -6.948e-02  7.613e-02  -0.913 0.362793    \n",
       "scale(x)modern                2.481e-01  7.189e-02   3.451 0.000717 ***\n",
       "scale(x)Hofstede_6D          -1.515e-01  7.996e-02  -1.895 0.059967 .  \n",
       "scale(x)new_gendist_weighted  2.451e-02  8.551e-02   0.287 0.774760    \n",
       "scale(x)religion_per          4.073e-01  9.043e-02   4.504 1.29e-05 ***\n",
       "scale(x)idealogy             -1.333e-01  7.211e-02  -1.848 0.066414 .  \n",
       "scale(x)demographics         -5.836e-02  7.612e-02  -0.767 0.444384    \n",
       "---\n",
       "Signif. codes:  0 '***' 0.001 '**' 0.01 '*' 0.05 '.' 0.1 ' ' 1\n",
       "\n",
       "Residual standard error: 0.8627 on 158 degrees of freedom\n",
       "Multiple R-squared:  0.3084,\tAdjusted R-squared:  0.2558 \n",
       "F-statistic:  5.87 on 12 and 158 DF,  p-value: 2.233e-08\n"
      ]
     },
     "metadata": {},
     "output_type": "display_data"
    },
    {
     "name": "stdout",
     "output_type": "stream",
     "text": [
      "[1] \"fstats: 5.87008648295697\"\n",
      "[1] \"r2stats: 0.30835544469268\"\n",
      "[1] 10000\n",
      "[1] \"permf_pvals 0.0486\"\n"
     ]
    },
    {
     "data": {
      "text/html": [
       "<table class=\"dataframe\">\n",
       "<caption>A data.frame: 1 × 12</caption>\n",
       "<thead>\n",
       "\t<tr><th scope=col>Lexical</th><th scope=col>personality_all</th><th scope=col>Coordinate</th><th scope=col>Climatic_demands</th><th scope=col>subsistence</th><th scope=col>disease</th><th scope=col>modern</th><th scope=col>Hofstede_6D</th><th scope=col>new_gendist_weighted</th><th scope=col>religion_per</th><th scope=col>idealogy</th><th scope=col>demographics</th></tr>\n",
       "\t<tr><th scope=col>&lt;dbl&gt;</th><th scope=col>&lt;dbl&gt;</th><th scope=col>&lt;dbl&gt;</th><th scope=col>&lt;dbl&gt;</th><th scope=col>&lt;dbl&gt;</th><th scope=col>&lt;dbl&gt;</th><th scope=col>&lt;dbl&gt;</th><th scope=col>&lt;dbl&gt;</th><th scope=col>&lt;dbl&gt;</th><th scope=col>&lt;dbl&gt;</th><th scope=col>&lt;dbl&gt;</th><th scope=col>&lt;dbl&gt;</th></tr>\n",
       "</thead>\n",
       "<tbody>\n",
       "\t<tr><td>0.1478</td><td>0.3121</td><td>0.8831</td><td>0.309</td><td>0.5926</td><td>0.7766</td><td>0.0355</td><td>0.8484</td><td>0.424</td><td>0.0091</td><td>0.8684</td><td>0.635</td></tr>\n",
       "</tbody>\n",
       "</table>\n"
      ],
      "text/latex": [
       "A data.frame: 1 × 12\n",
       "\\begin{tabular}{llllllllllll}\n",
       " Lexical & personality\\_all & Coordinate & Climatic\\_demands & subsistence & disease & modern & Hofstede\\_6D & new\\_gendist\\_weighted & religion\\_per & idealogy & demographics\\\\\n",
       " <dbl> & <dbl> & <dbl> & <dbl> & <dbl> & <dbl> & <dbl> & <dbl> & <dbl> & <dbl> & <dbl> & <dbl>\\\\\n",
       "\\hline\n",
       "\t 0.1478 & 0.3121 & 0.8831 & 0.309 & 0.5926 & 0.7766 & 0.0355 & 0.8484 & 0.424 & 0.0091 & 0.8684 & 0.635\\\\\n",
       "\\end{tabular}\n"
      ],
      "text/markdown": [
       "\n",
       "A data.frame: 1 × 12\n",
       "\n",
       "| Lexical &lt;dbl&gt; | personality_all &lt;dbl&gt; | Coordinate &lt;dbl&gt; | Climatic_demands &lt;dbl&gt; | subsistence &lt;dbl&gt; | disease &lt;dbl&gt; | modern &lt;dbl&gt; | Hofstede_6D &lt;dbl&gt; | new_gendist_weighted &lt;dbl&gt; | religion_per &lt;dbl&gt; | idealogy &lt;dbl&gt; | demographics &lt;dbl&gt; |\n",
       "|---|---|---|---|---|---|---|---|---|---|---|---|\n",
       "| 0.1478 | 0.3121 | 0.8831 | 0.309 | 0.5926 | 0.7766 | 0.0355 | 0.8484 | 0.424 | 0.0091 | 0.8684 | 0.635 |\n",
       "\n"
      ],
      "text/plain": [
       "  Lexical personality_all Coordinate Climatic_demands subsistence disease\n",
       "1 0.1478  0.3121          0.8831     0.309            0.5926      0.7766 \n",
       "  modern Hofstede_6D new_gendist_weighted religion_per idealogy demographics\n",
       "1 0.0355 0.8484      0.424                0.0091       0.8684   0.635       "
      ]
     },
     "metadata": {},
     "output_type": "display_data"
    }
   ],
   "source": [
    "# 1.regression coefficient\n",
    "model_rdm = read.csv('output_data/models_rdm/dimensional/activeness_dissim_dist.csv',\n",
    "                    row.names =1, check.names = FALSE)\n",
    "model_rdm = model_rdm[regions_order,regions_order]\n",
    "model_rdm_array = lowerTriangle(model_rdm)\n",
    "\n",
    "x <- do.call(cbind,lapply(variables,function(x) lowerTriangle(x))) # generate permuted predictors\n",
    "colnames(x) = variables_names\n",
    "culture_regress_standard <- lm(scale(model_rdm_array)~scale(x))\n",
    "culture_regress_standard_model <- summary(culture_regress_standard)\n",
    "culture_regress_standard_model\n",
    "\n",
    "write.csv(culture_regress_standard_model$coefficients,\n",
    " file='output_data/beta/activeness_33d.csv')\n",
    "activeness_regression = culture_regress_standard_model\n",
    "\n",
    "# 2.permutation\n",
    "p_value = permutation_result(activeness_regression)\n",
    "p_value\n",
    "write.csv(p_value,'output_data/p_value/activeness_33d.csv')                         "
   ]
  },
  {
   "cell_type": "markdown",
   "id": "41bd4acc",
   "metadata": {},
   "source": [
    "## Valence"
   ]
  },
  {
   "cell_type": "code",
   "execution_count": 18,
   "id": "f4f8de88",
   "metadata": {
    "ExecuteTime": {
     "end_time": "2022-12-21T08:35:32.370484Z",
     "start_time": "2022-12-21T08:33:42.002Z"
    }
   },
   "outputs": [
    {
     "data": {
      "text/plain": [
       "\n",
       "Call:\n",
       "lm(formula = scale(model_rdm_array) ~ scale(x))\n",
       "\n",
       "Residuals:\n",
       "     Min       1Q   Median       3Q      Max \n",
       "-1.93075 -0.56866  0.05395  0.57633  1.90885 \n",
       "\n",
       "Coefficients:\n",
       "                               Estimate Std. Error t value Pr(>|t|)    \n",
       "(Intercept)                   1.256e-16  6.421e-02   0.000 1.000000    \n",
       "scale(x)Lexical              -5.648e-02  8.370e-02  -0.675 0.500769    \n",
       "scale(x)personality_all       8.912e-02  7.291e-02   1.222 0.223408    \n",
       "scale(x)Coordinate           -1.256e-01  7.498e-02  -1.675 0.095889 .  \n",
       "scale(x)Climatic_demands      1.998e-01  7.176e-02   2.785 0.006013 ** \n",
       "scale(x)subsistence          -1.987e-01  7.478e-02  -2.657 0.008686 ** \n",
       "scale(x)disease              -9.554e-02  7.410e-02  -1.289 0.199177    \n",
       "scale(x)modern                3.011e-01  6.997e-02   4.303 2.95e-05 ***\n",
       "scale(x)Hofstede_6D          -2.173e-01  7.784e-02  -2.792 0.005891 ** \n",
       "scale(x)new_gendist_weighted  1.299e-01  8.323e-02   1.560 0.120700    \n",
       "scale(x)religion_per          3.272e-01  8.803e-02   3.718 0.000279 ***\n",
       "scale(x)idealogy             -9.551e-02  7.019e-02  -1.361 0.175536    \n",
       "scale(x)demographics          6.277e-02  7.409e-02   0.847 0.398183    \n",
       "---\n",
       "Signif. codes:  0 '***' 0.001 '**' 0.01 '*' 0.05 '.' 0.1 ' ' 1\n",
       "\n",
       "Residual standard error: 0.8397 on 158 degrees of freedom\n",
       "Multiple R-squared:  0.3447,\tAdjusted R-squared:  0.2949 \n",
       "F-statistic: 6.925 on 12 and 158 DF,  p-value: 5.382e-10\n"
      ]
     },
     "metadata": {},
     "output_type": "display_data"
    },
    {
     "name": "stdout",
     "output_type": "stream",
     "text": [
      "[1] \"fstats: 6.92457252168341\"\n",
      "[1] \"r2stats: 0.344656317948702\"\n",
      "[1] 10000\n",
      "[1] \"permf_pvals 0.1257\"\n"
     ]
    },
    {
     "data": {
      "text/html": [
       "<table class=\"dataframe\">\n",
       "<caption>A data.frame: 1 × 12</caption>\n",
       "<thead>\n",
       "\t<tr><th scope=col>Lexical</th><th scope=col>personality_all</th><th scope=col>Coordinate</th><th scope=col>Climatic_demands</th><th scope=col>subsistence</th><th scope=col>disease</th><th scope=col>modern</th><th scope=col>Hofstede_6D</th><th scope=col>new_gendist_weighted</th><th scope=col>religion_per</th><th scope=col>idealogy</th><th scope=col>demographics</th></tr>\n",
       "\t<tr><th scope=col>&lt;dbl&gt;</th><th scope=col>&lt;dbl&gt;</th><th scope=col>&lt;dbl&gt;</th><th scope=col>&lt;dbl&gt;</th><th scope=col>&lt;dbl&gt;</th><th scope=col>&lt;dbl&gt;</th><th scope=col>&lt;dbl&gt;</th><th scope=col>&lt;dbl&gt;</th><th scope=col>&lt;dbl&gt;</th><th scope=col>&lt;dbl&gt;</th><th scope=col>&lt;dbl&gt;</th><th scope=col>&lt;dbl&gt;</th></tr>\n",
       "</thead>\n",
       "<tbody>\n",
       "\t<tr><td>0.6589</td><td>0.288</td><td>0.7613</td><td>0.1641</td><td>0.9307</td><td>0.85</td><td>0.0304</td><td>0.9134</td><td>0.2561</td><td>0.0501</td><td>0.7553</td><td>0.3265</td></tr>\n",
       "</tbody>\n",
       "</table>\n"
      ],
      "text/latex": [
       "A data.frame: 1 × 12\n",
       "\\begin{tabular}{llllllllllll}\n",
       " Lexical & personality\\_all & Coordinate & Climatic\\_demands & subsistence & disease & modern & Hofstede\\_6D & new\\_gendist\\_weighted & religion\\_per & idealogy & demographics\\\\\n",
       " <dbl> & <dbl> & <dbl> & <dbl> & <dbl> & <dbl> & <dbl> & <dbl> & <dbl> & <dbl> & <dbl> & <dbl>\\\\\n",
       "\\hline\n",
       "\t 0.6589 & 0.288 & 0.7613 & 0.1641 & 0.9307 & 0.85 & 0.0304 & 0.9134 & 0.2561 & 0.0501 & 0.7553 & 0.3265\\\\\n",
       "\\end{tabular}\n"
      ],
      "text/markdown": [
       "\n",
       "A data.frame: 1 × 12\n",
       "\n",
       "| Lexical &lt;dbl&gt; | personality_all &lt;dbl&gt; | Coordinate &lt;dbl&gt; | Climatic_demands &lt;dbl&gt; | subsistence &lt;dbl&gt; | disease &lt;dbl&gt; | modern &lt;dbl&gt; | Hofstede_6D &lt;dbl&gt; | new_gendist_weighted &lt;dbl&gt; | religion_per &lt;dbl&gt; | idealogy &lt;dbl&gt; | demographics &lt;dbl&gt; |\n",
       "|---|---|---|---|---|---|---|---|---|---|---|---|\n",
       "| 0.6589 | 0.288 | 0.7613 | 0.1641 | 0.9307 | 0.85 | 0.0304 | 0.9134 | 0.2561 | 0.0501 | 0.7553 | 0.3265 |\n",
       "\n"
      ],
      "text/plain": [
       "  Lexical personality_all Coordinate Climatic_demands subsistence disease\n",
       "1 0.6589  0.288           0.7613     0.1641           0.9307      0.85   \n",
       "  modern Hofstede_6D new_gendist_weighted religion_per idealogy demographics\n",
       "1 0.0304 0.9134      0.2561               0.0501       0.7553   0.3265      "
      ]
     },
     "metadata": {},
     "output_type": "display_data"
    }
   ],
   "source": [
    "# 1.regression coefficient\n",
    "model_rdm = read.csv('output_data/models_rdm/dimensional/valence_dissim_dist.csv',\n",
    "                    row.names =1, check.names = FALSE)\n",
    "model_rdm = model_rdm[regions_order,regions_order]\n",
    "model_rdm_array = lowerTriangle(model_rdm)\n",
    "\n",
    "x <- do.call(cbind,lapply(variables,function(x) lowerTriangle(x))) # generate permuted predictors\n",
    "colnames(x) = variables_names\n",
    "culture_regress_standard <- lm(scale(model_rdm_array)~scale(x))\n",
    "culture_regress_standard_model <- summary(culture_regress_standard)\n",
    "culture_regress_standard_model\n",
    "\n",
    "write.csv(culture_regress_standard_model$coefficients,\n",
    " file='output_data/beta/valence_33d.csv')\n",
    "valence_regression = culture_regress_standard_model\n",
    "\n",
    "# 2.permutation\n",
    "p_value = permutation_result(valence_regression)\n",
    "p_value\n",
    "write.csv(p_value,'output_data/p_value/valence_33d.csv')                          "
   ]
  },
  {
   "cell_type": "markdown",
   "id": "ec719acf",
   "metadata": {},
   "source": [
    "## Exchange"
   ]
  },
  {
   "cell_type": "code",
   "execution_count": 19,
   "id": "ae8b1d09",
   "metadata": {
    "ExecuteTime": {
     "end_time": "2022-12-21T08:36:21.998724Z",
     "start_time": "2022-12-21T08:34:00.852Z"
    }
   },
   "outputs": [
    {
     "data": {
      "text/plain": [
       "\n",
       "Call:\n",
       "lm(formula = scale(model_rdm_array) ~ scale(x))\n",
       "\n",
       "Residuals:\n",
       "    Min      1Q  Median      3Q     Max \n",
       "-2.3518 -0.5769 -0.1145  0.5953  2.1194 \n",
       "\n",
       "Coefficients:\n",
       "                               Estimate Std. Error t value Pr(>|t|)    \n",
       "(Intercept)                   3.197e-16  7.017e-02   0.000 1.000000    \n",
       "scale(x)Lexical               2.975e-02  9.146e-02   0.325 0.745391    \n",
       "scale(x)personality_all      -9.116e-02  7.967e-02  -1.144 0.254274    \n",
       "scale(x)Coordinate           -1.076e-01  8.193e-02  -1.313 0.191021    \n",
       "scale(x)Climatic_demands      9.389e-03  7.841e-02   0.120 0.904834    \n",
       "scale(x)subsistence           4.387e-02  8.171e-02   0.537 0.592052    \n",
       "scale(x)disease               1.146e-02  8.097e-02   0.142 0.887616    \n",
       "scale(x)modern                2.664e-01  7.646e-02   3.484 0.000638 ***\n",
       "scale(x)Hofstede_6D          -6.299e-02  8.505e-02  -0.741 0.460003    \n",
       "scale(x)new_gendist_weighted -1.731e-01  9.095e-02  -1.903 0.058888 .  \n",
       "scale(x)religion_per          2.829e-01  9.618e-02   2.941 0.003761 ** \n",
       "scale(x)idealogy             -2.145e-01  7.670e-02  -2.796 0.005808 ** \n",
       "scale(x)demographics         -4.002e-02  8.096e-02  -0.494 0.621735    \n",
       "---\n",
       "Signif. codes:  0 '***' 0.001 '**' 0.01 '*' 0.05 '.' 0.1 ' ' 1\n",
       "\n",
       "Residual standard error: 0.9175 on 158 degrees of freedom\n",
       "Multiple R-squared:  0.2175,\tAdjusted R-squared:  0.1581 \n",
       "F-statistic: 3.661 on 12 and 158 DF,  p-value: 7.324e-05\n"
      ]
     },
     "metadata": {},
     "output_type": "display_data"
    },
    {
     "name": "stdout",
     "output_type": "stream",
     "text": [
      "[1] \"fstats: 3.66060595538956\"\n",
      "[1] \"r2stats: 0.217540063538963\"\n",
      "[1] 10000\n",
      "[1] \"permf_pvals 0.5232\"\n"
     ]
    },
    {
     "data": {
      "text/html": [
       "<table class=\"dataframe\">\n",
       "<caption>A data.frame: 1 × 12</caption>\n",
       "<thead>\n",
       "\t<tr><th scope=col>Lexical</th><th scope=col>personality_all</th><th scope=col>Coordinate</th><th scope=col>Climatic_demands</th><th scope=col>subsistence</th><th scope=col>disease</th><th scope=col>modern</th><th scope=col>Hofstede_6D</th><th scope=col>new_gendist_weighted</th><th scope=col>religion_per</th><th scope=col>idealogy</th><th scope=col>demographics</th></tr>\n",
       "\t<tr><th scope=col>&lt;dbl&gt;</th><th scope=col>&lt;dbl&gt;</th><th scope=col>&lt;dbl&gt;</th><th scope=col>&lt;dbl&gt;</th><th scope=col>&lt;dbl&gt;</th><th scope=col>&lt;dbl&gt;</th><th scope=col>&lt;dbl&gt;</th><th scope=col>&lt;dbl&gt;</th><th scope=col>&lt;dbl&gt;</th><th scope=col>&lt;dbl&gt;</th><th scope=col>&lt;dbl&gt;</th><th scope=col>&lt;dbl&gt;</th></tr>\n",
       "</thead>\n",
       "<tbody>\n",
       "\t<tr><td>0.4231</td><td>0.6623</td><td>0.7337</td><td>0.3937</td><td>0.3607</td><td>0.4455</td><td>0.0426</td><td>0.6507</td><td>0.7799</td><td>0.0665</td><td>0.9629</td><td>0.5692</td></tr>\n",
       "</tbody>\n",
       "</table>\n"
      ],
      "text/latex": [
       "A data.frame: 1 × 12\n",
       "\\begin{tabular}{llllllllllll}\n",
       " Lexical & personality\\_all & Coordinate & Climatic\\_demands & subsistence & disease & modern & Hofstede\\_6D & new\\_gendist\\_weighted & religion\\_per & idealogy & demographics\\\\\n",
       " <dbl> & <dbl> & <dbl> & <dbl> & <dbl> & <dbl> & <dbl> & <dbl> & <dbl> & <dbl> & <dbl> & <dbl>\\\\\n",
       "\\hline\n",
       "\t 0.4231 & 0.6623 & 0.7337 & 0.3937 & 0.3607 & 0.4455 & 0.0426 & 0.6507 & 0.7799 & 0.0665 & 0.9629 & 0.5692\\\\\n",
       "\\end{tabular}\n"
      ],
      "text/markdown": [
       "\n",
       "A data.frame: 1 × 12\n",
       "\n",
       "| Lexical &lt;dbl&gt; | personality_all &lt;dbl&gt; | Coordinate &lt;dbl&gt; | Climatic_demands &lt;dbl&gt; | subsistence &lt;dbl&gt; | disease &lt;dbl&gt; | modern &lt;dbl&gt; | Hofstede_6D &lt;dbl&gt; | new_gendist_weighted &lt;dbl&gt; | religion_per &lt;dbl&gt; | idealogy &lt;dbl&gt; | demographics &lt;dbl&gt; |\n",
       "|---|---|---|---|---|---|---|---|---|---|---|---|\n",
       "| 0.4231 | 0.6623 | 0.7337 | 0.3937 | 0.3607 | 0.4455 | 0.0426 | 0.6507 | 0.7799 | 0.0665 | 0.9629 | 0.5692 |\n",
       "\n"
      ],
      "text/plain": [
       "  Lexical personality_all Coordinate Climatic_demands subsistence disease\n",
       "1 0.4231  0.6623          0.7337     0.3937           0.3607      0.4455 \n",
       "  modern Hofstede_6D new_gendist_weighted religion_per idealogy demographics\n",
       "1 0.0426 0.6507      0.7799               0.0665       0.9629   0.5692      "
      ]
     },
     "metadata": {},
     "output_type": "display_data"
    }
   ],
   "source": [
    "# 1.regression coefficient\n",
    "model_rdm = read.csv('output_data/models_rdm/dimensional/exchange_dissim_dist.csv',\n",
    "                    row.names =1, check.names = FALSE)\n",
    "model_rdm = model_rdm[regions_order,regions_order]\n",
    "model_rdm_array = lowerTriangle(model_rdm)\n",
    "\n",
    "x <- do.call(cbind,lapply(variables,function(x) lowerTriangle(x))) # generate permuted predictors\n",
    "colnames(x) = variables_names\n",
    "culture_regress_standard <- lm(scale(model_rdm_array)~scale(x))\n",
    "culture_regress_standard_model <- summary(culture_regress_standard)\n",
    "culture_regress_standard_model\n",
    "\n",
    "write.csv(culture_regress_standard_model$coefficients,\n",
    " file='output_data/beta/exchange_33d.csv')\n",
    "exchange_regression = culture_regress_standard_model\n",
    "\n",
    "# 2.permutation\n",
    "p_value = permutation_result(exchange_regression)\n",
    "p_value\n",
    "write.csv(p_value,'output_data/p_value/exchange_33d.csv')                         "
   ]
  },
  {
   "cell_type": "markdown",
   "id": "4f61c16f",
   "metadata": {},
   "source": [
    "## Equality"
   ]
  },
  {
   "cell_type": "code",
   "execution_count": 20,
   "id": "a56d9a56",
   "metadata": {
    "ExecuteTime": {
     "end_time": "2022-12-21T08:37:12.473531Z",
     "start_time": "2022-12-21T08:34:18.551Z"
    }
   },
   "outputs": [
    {
     "data": {
      "text/plain": [
       "\n",
       "Call:\n",
       "lm(formula = scale(model_rdm_array) ~ scale(x))\n",
       "\n",
       "Residuals:\n",
       "     Min       1Q   Median       3Q      Max \n",
       "-2.19539 -0.45032  0.05788  0.48195  1.40426 \n",
       "\n",
       "Coefficients:\n",
       "                               Estimate Std. Error t value Pr(>|t|)    \n",
       "(Intercept)                   4.340e-17  5.544e-02   0.000 1.000000    \n",
       "scale(x)Lexical              -7.621e-02  7.226e-02  -1.055 0.293243    \n",
       "scale(x)personality_all       2.699e-01  6.295e-02   4.288 3.13e-05 ***\n",
       "scale(x)Coordinate           -1.996e-01  6.474e-02  -3.083 0.002415 ** \n",
       "scale(x)Climatic_demands      8.735e-02  6.195e-02   1.410 0.160546    \n",
       "scale(x)subsistence          -2.590e-02  6.456e-02  -0.401 0.688834    \n",
       "scale(x)disease              -2.031e-02  6.398e-02  -0.318 0.751275    \n",
       "scale(x)modern                2.361e-01  6.042e-02   3.907 0.000138 ***\n",
       "scale(x)Hofstede_6D          -1.664e-01  6.720e-02  -2.476 0.014344 *  \n",
       "scale(x)new_gendist_weighted -1.418e-01  7.186e-02  -1.974 0.050175 .  \n",
       "scale(x)religion_per          4.992e-01  7.600e-02   6.568 6.98e-10 ***\n",
       "scale(x)idealogy             -1.289e-01  6.060e-02  -2.127 0.034933 *  \n",
       "scale(x)demographics          6.884e-02  6.397e-02   1.076 0.283536    \n",
       "---\n",
       "Signif. codes:  0 '***' 0.001 '**' 0.01 '*' 0.05 '.' 0.1 ' ' 1\n",
       "\n",
       "Residual standard error: 0.725 on 158 degrees of freedom\n",
       "Multiple R-squared:  0.5115,\tAdjusted R-squared:  0.4744 \n",
       "F-statistic: 13.78 on 12 and 158 DF,  p-value: < 2.2e-16\n"
      ]
     },
     "metadata": {},
     "output_type": "display_data"
    },
    {
     "name": "stdout",
     "output_type": "stream",
     "text": [
      "[1] \"fstats: 13.7845516253067\"\n",
      "[1] \"r2stats: 0.511463024638557\"\n",
      "[1] 10000\n",
      "[1] \"permf_pvals 0.0015\"\n"
     ]
    },
    {
     "data": {
      "text/html": [
       "<table class=\"dataframe\">\n",
       "<caption>A data.frame: 1 × 12</caption>\n",
       "<thead>\n",
       "\t<tr><th scope=col>Lexical</th><th scope=col>personality_all</th><th scope=col>Coordinate</th><th scope=col>Climatic_demands</th><th scope=col>subsistence</th><th scope=col>disease</th><th scope=col>modern</th><th scope=col>Hofstede_6D</th><th scope=col>new_gendist_weighted</th><th scope=col>religion_per</th><th scope=col>idealogy</th><th scope=col>demographics</th></tr>\n",
       "\t<tr><th scope=col>&lt;dbl&gt;</th><th scope=col>&lt;dbl&gt;</th><th scope=col>&lt;dbl&gt;</th><th scope=col>&lt;dbl&gt;</th><th scope=col>&lt;dbl&gt;</th><th scope=col>&lt;dbl&gt;</th><th scope=col>&lt;dbl&gt;</th><th scope=col>&lt;dbl&gt;</th><th scope=col>&lt;dbl&gt;</th><th scope=col>&lt;dbl&gt;</th><th scope=col>&lt;dbl&gt;</th><th scope=col>&lt;dbl&gt;</th></tr>\n",
       "</thead>\n",
       "<tbody>\n",
       "\t<tr><td>0.7124</td><td>0.0777</td><td>0.9145</td><td>0.2869</td><td>0.5485</td><td>0.5809</td><td>0.062</td><td>0.8489</td><td>0.7309</td><td>0.0036</td><td>0.8436</td><td>0.309</td></tr>\n",
       "</tbody>\n",
       "</table>\n"
      ],
      "text/latex": [
       "A data.frame: 1 × 12\n",
       "\\begin{tabular}{llllllllllll}\n",
       " Lexical & personality\\_all & Coordinate & Climatic\\_demands & subsistence & disease & modern & Hofstede\\_6D & new\\_gendist\\_weighted & religion\\_per & idealogy & demographics\\\\\n",
       " <dbl> & <dbl> & <dbl> & <dbl> & <dbl> & <dbl> & <dbl> & <dbl> & <dbl> & <dbl> & <dbl> & <dbl>\\\\\n",
       "\\hline\n",
       "\t 0.7124 & 0.0777 & 0.9145 & 0.2869 & 0.5485 & 0.5809 & 0.062 & 0.8489 & 0.7309 & 0.0036 & 0.8436 & 0.309\\\\\n",
       "\\end{tabular}\n"
      ],
      "text/markdown": [
       "\n",
       "A data.frame: 1 × 12\n",
       "\n",
       "| Lexical &lt;dbl&gt; | personality_all &lt;dbl&gt; | Coordinate &lt;dbl&gt; | Climatic_demands &lt;dbl&gt; | subsistence &lt;dbl&gt; | disease &lt;dbl&gt; | modern &lt;dbl&gt; | Hofstede_6D &lt;dbl&gt; | new_gendist_weighted &lt;dbl&gt; | religion_per &lt;dbl&gt; | idealogy &lt;dbl&gt; | demographics &lt;dbl&gt; |\n",
       "|---|---|---|---|---|---|---|---|---|---|---|---|\n",
       "| 0.7124 | 0.0777 | 0.9145 | 0.2869 | 0.5485 | 0.5809 | 0.062 | 0.8489 | 0.7309 | 0.0036 | 0.8436 | 0.309 |\n",
       "\n"
      ],
      "text/plain": [
       "  Lexical personality_all Coordinate Climatic_demands subsistence disease\n",
       "1 0.7124  0.0777          0.9145     0.2869           0.5485      0.5809 \n",
       "  modern Hofstede_6D new_gendist_weighted religion_per idealogy demographics\n",
       "1 0.062  0.8489      0.7309               0.0036       0.8436   0.309       "
      ]
     },
     "metadata": {},
     "output_type": "display_data"
    }
   ],
   "source": [
    "# 1.regression coefficient\n",
    "model_rdm = read.csv('output_data/models_rdm/dimensional/equality_dissim_dist.csv',\n",
    "                    row.names =1, check.names = FALSE)\n",
    "model_rdm = model_rdm[regions_order,regions_order]\n",
    "model_rdm_array = lowerTriangle(model_rdm)\n",
    "\n",
    "x <- do.call(cbind,lapply(variables,function(x) lowerTriangle(x))) # generate permuted predictors\n",
    "colnames(x) = variables_names\n",
    "culture_regress_standard <- lm(scale(model_rdm_array)~scale(x))\n",
    "culture_regress_standard_model <- summary(culture_regress_standard)\n",
    "culture_regress_standard_model\n",
    "\n",
    "write.csv(culture_regress_standard_model$coefficients,\n",
    " file='output_data/beta/equality_33d.csv')\n",
    "equality_regression = culture_regress_standard_model\n",
    "\n",
    "# 2.permutation\n",
    "p_value = permutation_result(equality_regression)\n",
    "p_value\n",
    "write.csv(p_value,'output_data/p_value/equality_33d.csv')                          "
   ]
  },
  {
   "cell_type": "markdown",
   "id": "536a4c43",
   "metadata": {},
   "source": [
    "# Categorical: single category"
   ]
  },
  {
   "cell_type": "markdown",
   "id": "fe77b036",
   "metadata": {},
   "source": [
    "## Hostile"
   ]
  },
  {
   "cell_type": "code",
   "execution_count": 21,
   "id": "2d301249",
   "metadata": {
    "ExecuteTime": {
     "end_time": "2022-12-21T08:38:03.730778Z",
     "start_time": "2022-12-21T08:34:41.301Z"
    }
   },
   "outputs": [
    {
     "data": {
      "text/plain": [
       "\n",
       "Call:\n",
       "lm(formula = scale(model_rdm_array) ~ scale(x))\n",
       "\n",
       "Residuals:\n",
       "     Min       1Q   Median       3Q      Max \n",
       "-2.08683 -0.60390 -0.00433  0.71401  1.86056 \n",
       "\n",
       "Coefficients:\n",
       "                               Estimate Std. Error t value Pr(>|t|)   \n",
       "(Intercept)                  -8.290e-17  7.247e-02   0.000  1.00000   \n",
       "scale(x)Lexical               2.086e-01  9.446e-02   2.209  0.02863 * \n",
       "scale(x)personality_all       5.594e-03  8.229e-02   0.068  0.94589   \n",
       "scale(x)Coordinate           -8.153e-02  8.462e-02  -0.963  0.33679   \n",
       "scale(x)Climatic_demands      3.213e-02  8.098e-02   0.397  0.69211   \n",
       "scale(x)subsistence           2.295e-01  8.439e-02   2.720  0.00727 **\n",
       "scale(x)disease               1.206e-01  8.363e-02   1.443  0.15113   \n",
       "scale(x)modern                1.104e-01  7.897e-02   1.398  0.16418   \n",
       "scale(x)Hofstede_6D          -3.533e-03  8.784e-02  -0.040  0.96797   \n",
       "scale(x)new_gendist_weighted -1.899e-01  9.394e-02  -2.022  0.04489 * \n",
       "scale(x)religion_per          1.228e-01  9.935e-02   1.236  0.21821   \n",
       "scale(x)idealogy              4.788e-02  7.922e-02   0.604  0.54640   \n",
       "scale(x)demographics         -1.858e-01  8.362e-02  -2.223  0.02767 * \n",
       "---\n",
       "Signif. codes:  0 '***' 0.001 '**' 0.01 '*' 0.05 '.' 0.1 ' ' 1\n",
       "\n",
       "Residual standard error: 0.9477 on 158 degrees of freedom\n",
       "Multiple R-squared:  0.1653,\tAdjusted R-squared:  0.1019 \n",
       "F-statistic: 2.607 on 12 and 158 DF,  p-value: 0.003407\n"
      ]
     },
     "metadata": {},
     "output_type": "display_data"
    },
    {
     "name": "stdout",
     "output_type": "stream",
     "text": [
      "[1] \"fstats: 2.60679007783139\"\n",
      "[1] \"r2stats: 0.1652643501077\"\n",
      "[1] 10000\n",
      "[1] \"permf_pvals 0.0812\"\n"
     ]
    },
    {
     "data": {
      "text/html": [
       "<table class=\"dataframe\">\n",
       "<caption>A data.frame: 1 × 12</caption>\n",
       "<thead>\n",
       "\t<tr><th scope=col>Lexical</th><th scope=col>personality_all</th><th scope=col>Coordinate</th><th scope=col>Climatic_demands</th><th scope=col>subsistence</th><th scope=col>disease</th><th scope=col>modern</th><th scope=col>Hofstede_6D</th><th scope=col>new_gendist_weighted</th><th scope=col>religion_per</th><th scope=col>idealogy</th><th scope=col>demographics</th></tr>\n",
       "\t<tr><th scope=col>&lt;dbl&gt;</th><th scope=col>&lt;dbl&gt;</th><th scope=col>&lt;dbl&gt;</th><th scope=col>&lt;dbl&gt;</th><th scope=col>&lt;dbl&gt;</th><th scope=col>&lt;dbl&gt;</th><th scope=col>&lt;dbl&gt;</th><th scope=col>&lt;dbl&gt;</th><th scope=col>&lt;dbl&gt;</th><th scope=col>&lt;dbl&gt;</th><th scope=col>&lt;dbl&gt;</th><th scope=col>&lt;dbl&gt;</th></tr>\n",
       "</thead>\n",
       "<tbody>\n",
       "\t<tr><td>0.0336</td><td>0.4528</td><td>0.7694</td><td>0.3516</td><td>0.0247</td><td>0.096</td><td>0.1367</td><td>0.5048</td><td>0.9366</td><td>0.1637</td><td>0.2929</td><td>0.9752</td></tr>\n",
       "</tbody>\n",
       "</table>\n"
      ],
      "text/latex": [
       "A data.frame: 1 × 12\n",
       "\\begin{tabular}{llllllllllll}\n",
       " Lexical & personality\\_all & Coordinate & Climatic\\_demands & subsistence & disease & modern & Hofstede\\_6D & new\\_gendist\\_weighted & religion\\_per & idealogy & demographics\\\\\n",
       " <dbl> & <dbl> & <dbl> & <dbl> & <dbl> & <dbl> & <dbl> & <dbl> & <dbl> & <dbl> & <dbl> & <dbl>\\\\\n",
       "\\hline\n",
       "\t 0.0336 & 0.4528 & 0.7694 & 0.3516 & 0.0247 & 0.096 & 0.1367 & 0.5048 & 0.9366 & 0.1637 & 0.2929 & 0.9752\\\\\n",
       "\\end{tabular}\n"
      ],
      "text/markdown": [
       "\n",
       "A data.frame: 1 × 12\n",
       "\n",
       "| Lexical &lt;dbl&gt; | personality_all &lt;dbl&gt; | Coordinate &lt;dbl&gt; | Climatic_demands &lt;dbl&gt; | subsistence &lt;dbl&gt; | disease &lt;dbl&gt; | modern &lt;dbl&gt; | Hofstede_6D &lt;dbl&gt; | new_gendist_weighted &lt;dbl&gt; | religion_per &lt;dbl&gt; | idealogy &lt;dbl&gt; | demographics &lt;dbl&gt; |\n",
       "|---|---|---|---|---|---|---|---|---|---|---|---|\n",
       "| 0.0336 | 0.4528 | 0.7694 | 0.3516 | 0.0247 | 0.096 | 0.1367 | 0.5048 | 0.9366 | 0.1637 | 0.2929 | 0.9752 |\n",
       "\n"
      ],
      "text/plain": [
       "  Lexical personality_all Coordinate Climatic_demands subsistence disease\n",
       "1 0.0336  0.4528          0.7694     0.3516           0.0247      0.096  \n",
       "  modern Hofstede_6D new_gendist_weighted religion_per idealogy demographics\n",
       "1 0.1367 0.5048      0.9366               0.1637       0.2929   0.9752      "
      ]
     },
     "metadata": {},
     "output_type": "display_data"
    }
   ],
   "source": [
    "# 1.regression coefficient\n",
    "model_rdm = read.csv('output_data/models_rdm/categorical/hostile_dissim_dist.csv',\n",
    "                    row.names =1, check.names = FALSE)\n",
    "model_rdm = model_rdm[regions_order,regions_order]\n",
    "model_rdm_array = lowerTriangle(model_rdm)\n",
    "\n",
    "x <- do.call(cbind,lapply(variables,function(x) lowerTriangle(x))) # generate permuted predictors\n",
    "colnames(x) = variables_names\n",
    "culture_regress_standard <- lm(scale(model_rdm_array)~scale(x))\n",
    "culture_regress_standard_model <- summary(culture_regress_standard)\n",
    "culture_regress_standard_model\n",
    "\n",
    "write.csv(culture_regress_standard_model$coefficients,\n",
    " file='output_data/beta/hostile_33d.csv')\n",
    "hostile_regression = culture_regress_standard_model\n",
    "\n",
    "# 2.permutation\n",
    "p_value = permutation_result(hostile_regression)\n",
    "p_value\n",
    "write.csv(p_value,'output_data/p_value/hostile_33d.csv')                         "
   ]
  },
  {
   "cell_type": "markdown",
   "id": "43918259",
   "metadata": {},
   "source": [
    "## Private"
   ]
  },
  {
   "cell_type": "code",
   "execution_count": 22,
   "id": "9b64f1c6",
   "metadata": {
    "ExecuteTime": {
     "end_time": "2022-12-21T08:38:57.737761Z",
     "start_time": "2022-12-21T08:34:56.376Z"
    }
   },
   "outputs": [
    {
     "data": {
      "text/plain": [
       "\n",
       "Call:\n",
       "lm(formula = scale(model_rdm_array) ~ scale(x))\n",
       "\n",
       "Residuals:\n",
       "     Min       1Q   Median       3Q      Max \n",
       "-2.27316 -0.57011 -0.06888  0.68048  2.63922 \n",
       "\n",
       "Coefficients:\n",
       "                               Estimate Std. Error t value Pr(>|t|)    \n",
       "(Intercept)                  -3.465e-16  7.069e-02   0.000 1.000000    \n",
       "scale(x)Lexical               6.105e-02  9.213e-02   0.663 0.508573    \n",
       "scale(x)personality_all       1.722e-02  8.026e-02   0.215 0.830401    \n",
       "scale(x)Coordinate           -1.405e-01  8.254e-02  -1.702 0.090720 .  \n",
       "scale(x)Climatic_demands      9.271e-02  7.899e-02   1.174 0.242299    \n",
       "scale(x)subsistence          -1.084e-01  8.231e-02  -1.317 0.189712    \n",
       "scale(x)disease              -4.226e-02  8.157e-02  -0.518 0.605109    \n",
       "scale(x)modern                2.132e-01  7.703e-02   2.767 0.006329 ** \n",
       "scale(x)Hofstede_6D          -5.056e-02  8.568e-02  -0.590 0.555988    \n",
       "scale(x)new_gendist_weighted  3.062e-02  9.162e-02   0.334 0.738653    \n",
       "scale(x)religion_per          3.369e-01  9.690e-02   3.477 0.000655 ***\n",
       "scale(x)idealogy             -5.794e-02  7.727e-02  -0.750 0.454444    \n",
       "scale(x)demographics         -2.983e-01  8.156e-02  -3.658 0.000346 ***\n",
       "---\n",
       "Signif. codes:  0 '***' 0.001 '**' 0.01 '*' 0.05 '.' 0.1 ' ' 1\n",
       "\n",
       "Residual standard error: 0.9244 on 158 degrees of freedom\n",
       "Multiple R-squared:  0.2059,\tAdjusted R-squared:  0.1456 \n",
       "F-statistic: 3.414 on 12 and 158 DF,  p-value: 0.0001822\n"
      ]
     },
     "metadata": {},
     "output_type": "display_data"
    },
    {
     "name": "stdout",
     "output_type": "stream",
     "text": [
      "[1] \"fstats: 3.41354825836245\"\n",
      "[1] \"r2stats: 0.205880820833597\"\n",
      "[1] 10000\n",
      "[1] \"permf_pvals 0.2198\"\n"
     ]
    },
    {
     "data": {
      "text/html": [
       "<table class=\"dataframe\">\n",
       "<caption>A data.frame: 1 × 12</caption>\n",
       "<thead>\n",
       "\t<tr><th scope=col>Lexical</th><th scope=col>personality_all</th><th scope=col>Coordinate</th><th scope=col>Climatic_demands</th><th scope=col>subsistence</th><th scope=col>disease</th><th scope=col>modern</th><th scope=col>Hofstede_6D</th><th scope=col>new_gendist_weighted</th><th scope=col>religion_per</th><th scope=col>idealogy</th><th scope=col>demographics</th></tr>\n",
       "\t<tr><th scope=col>&lt;dbl&gt;</th><th scope=col>&lt;dbl&gt;</th><th scope=col>&lt;dbl&gt;</th><th scope=col>&lt;dbl&gt;</th><th scope=col>&lt;dbl&gt;</th><th scope=col>&lt;dbl&gt;</th><th scope=col>&lt;dbl&gt;</th><th scope=col>&lt;dbl&gt;</th><th scope=col>&lt;dbl&gt;</th><th scope=col>&lt;dbl&gt;</th><th scope=col>&lt;dbl&gt;</th><th scope=col>&lt;dbl&gt;</th></tr>\n",
       "</thead>\n",
       "<tbody>\n",
       "\t<tr><td>0.3015</td><td>0.407</td><td>0.8552</td><td>0.2355</td><td>0.8133</td><td>0.665</td><td>0.0508</td><td>0.644</td><td>0.4023</td><td>0.0179</td><td>0.686</td><td>0.9967</td></tr>\n",
       "</tbody>\n",
       "</table>\n"
      ],
      "text/latex": [
       "A data.frame: 1 × 12\n",
       "\\begin{tabular}{llllllllllll}\n",
       " Lexical & personality\\_all & Coordinate & Climatic\\_demands & subsistence & disease & modern & Hofstede\\_6D & new\\_gendist\\_weighted & religion\\_per & idealogy & demographics\\\\\n",
       " <dbl> & <dbl> & <dbl> & <dbl> & <dbl> & <dbl> & <dbl> & <dbl> & <dbl> & <dbl> & <dbl> & <dbl>\\\\\n",
       "\\hline\n",
       "\t 0.3015 & 0.407 & 0.8552 & 0.2355 & 0.8133 & 0.665 & 0.0508 & 0.644 & 0.4023 & 0.0179 & 0.686 & 0.9967\\\\\n",
       "\\end{tabular}\n"
      ],
      "text/markdown": [
       "\n",
       "A data.frame: 1 × 12\n",
       "\n",
       "| Lexical &lt;dbl&gt; | personality_all &lt;dbl&gt; | Coordinate &lt;dbl&gt; | Climatic_demands &lt;dbl&gt; | subsistence &lt;dbl&gt; | disease &lt;dbl&gt; | modern &lt;dbl&gt; | Hofstede_6D &lt;dbl&gt; | new_gendist_weighted &lt;dbl&gt; | religion_per &lt;dbl&gt; | idealogy &lt;dbl&gt; | demographics &lt;dbl&gt; |\n",
       "|---|---|---|---|---|---|---|---|---|---|---|---|\n",
       "| 0.3015 | 0.407 | 0.8552 | 0.2355 | 0.8133 | 0.665 | 0.0508 | 0.644 | 0.4023 | 0.0179 | 0.686 | 0.9967 |\n",
       "\n"
      ],
      "text/plain": [
       "  Lexical personality_all Coordinate Climatic_demands subsistence disease\n",
       "1 0.3015  0.407           0.8552     0.2355           0.8133      0.665  \n",
       "  modern Hofstede_6D new_gendist_weighted religion_per idealogy demographics\n",
       "1 0.0508 0.644       0.4023               0.0179       0.686    0.9967      "
      ]
     },
     "metadata": {},
     "output_type": "display_data"
    }
   ],
   "source": [
    "# 1.regression coefficient\n",
    "model_rdm = read.csv('output_data/models_rdm/categorical/private_dissim_dist.csv',\n",
    "                    row.names =1, check.names = FALSE)\n",
    "model_rdm = model_rdm[regions_order,regions_order]\n",
    "model_rdm_array = lowerTriangle(model_rdm)\n",
    "\n",
    "x <- do.call(cbind,lapply(variables,function(x) lowerTriangle(x))) # generate permuted predictors\n",
    "colnames(x) = variables_names\n",
    "culture_regress_standard <- lm(scale(model_rdm_array)~scale(x))\n",
    "culture_regress_standard_model <- summary(culture_regress_standard)\n",
    "culture_regress_standard_model\n",
    "\n",
    "write.csv(culture_regress_standard_model$coefficients,\n",
    " file='output_data/beta/private_33d.csv')\n",
    "private_regression = culture_regress_standard_model\n",
    "\n",
    "# 2.permutation\n",
    "p_value = permutation_result(private_regression)\n",
    "p_value\n",
    "write.csv(p_value,'output_data/p_value/private_33d.csv')                           "
   ]
  },
  {
   "cell_type": "markdown",
   "id": "7bc105b3",
   "metadata": {},
   "source": [
    "## Public"
   ]
  },
  {
   "cell_type": "code",
   "execution_count": 23,
   "id": "8ddbd3c0",
   "metadata": {
    "ExecuteTime": {
     "end_time": "2022-12-21T08:39:53.849044Z",
     "start_time": "2022-12-21T08:35:13.163Z"
    }
   },
   "outputs": [
    {
     "data": {
      "text/plain": [
       "\n",
       "Call:\n",
       "lm(formula = scale(model_rdm_array) ~ scale(x))\n",
       "\n",
       "Residuals:\n",
       "     Min       1Q   Median       3Q      Max \n",
       "-1.55617 -0.62499 -0.04535  0.51223  2.40561 \n",
       "\n",
       "Coefficients:\n",
       "                               Estimate Std. Error t value Pr(>|t|)    \n",
       "(Intercept)                  -2.047e-17  6.286e-02   0.000  1.00000    \n",
       "scale(x)Lexical              -2.002e-02  8.193e-02  -0.244  0.80727    \n",
       "scale(x)personality_all       8.581e-02  7.137e-02   1.202  0.23105    \n",
       "scale(x)Coordinate           -2.153e-01  7.340e-02  -2.933  0.00386 ** \n",
       "scale(x)Climatic_demands      1.123e-01  7.024e-02   1.598  0.11196    \n",
       "scale(x)subsistence          -2.061e-02  7.320e-02  -0.282  0.77863    \n",
       "scale(x)disease               2.989e-03  7.254e-02   0.041  0.96718    \n",
       "scale(x)modern                3.002e-01  6.850e-02   4.383 2.13e-05 ***\n",
       "scale(x)Hofstede_6D          -1.008e-01  7.620e-02  -1.323  0.18784    \n",
       "scale(x)new_gendist_weighted -2.179e-02  8.148e-02  -0.267  0.78949    \n",
       "scale(x)religion_per          4.747e-01  8.617e-02   5.509 1.43e-07 ***\n",
       "scale(x)idealogy             -9.535e-02  6.871e-02  -1.388  0.16717    \n",
       "scale(x)demographics         -3.066e-01  7.253e-02  -4.228 3.98e-05 ***\n",
       "---\n",
       "Signif. codes:  0 '***' 0.001 '**' 0.01 '*' 0.05 '.' 0.1 ' ' 1\n",
       "\n",
       "Residual standard error: 0.822 on 158 degrees of freedom\n",
       "Multiple R-squared:  0.372,\tAdjusted R-squared:  0.3243 \n",
       "F-statistic: 7.798 on 12 and 158 DF,  p-value: 2.69e-11\n"
      ]
     },
     "metadata": {},
     "output_type": "display_data"
    },
    {
     "name": "stdout",
     "output_type": "stream",
     "text": [
      "[1] \"fstats: 7.79842540334231\"\n",
      "[1] \"r2stats: 0.371971912992365\"\n",
      "[1] 10000\n",
      "[1] \"permf_pvals 0.0492\"\n"
     ]
    },
    {
     "data": {
      "text/html": [
       "<table class=\"dataframe\">\n",
       "<caption>A data.frame: 1 × 12</caption>\n",
       "<thead>\n",
       "\t<tr><th scope=col>Lexical</th><th scope=col>personality_all</th><th scope=col>Coordinate</th><th scope=col>Climatic_demands</th><th scope=col>subsistence</th><th scope=col>disease</th><th scope=col>modern</th><th scope=col>Hofstede_6D</th><th scope=col>new_gendist_weighted</th><th scope=col>religion_per</th><th scope=col>idealogy</th><th scope=col>demographics</th></tr>\n",
       "\t<tr><th scope=col>&lt;dbl&gt;</th><th scope=col>&lt;dbl&gt;</th><th scope=col>&lt;dbl&gt;</th><th scope=col>&lt;dbl&gt;</th><th scope=col>&lt;dbl&gt;</th><th scope=col>&lt;dbl&gt;</th><th scope=col>&lt;dbl&gt;</th><th scope=col>&lt;dbl&gt;</th><th scope=col>&lt;dbl&gt;</th><th scope=col>&lt;dbl&gt;</th><th scope=col>&lt;dbl&gt;</th><th scope=col>&lt;dbl&gt;</th></tr>\n",
       "</thead>\n",
       "<tbody>\n",
       "\t<tr><td>0.5684</td><td>0.2512</td><td>0.9393</td><td>0.2037</td><td>0.5492</td><td>0.4823</td><td>0.0227</td><td>0.7334</td><td>0.4996</td><td>0.0042</td><td>0.7621</td><td>0.9921</td></tr>\n",
       "</tbody>\n",
       "</table>\n"
      ],
      "text/latex": [
       "A data.frame: 1 × 12\n",
       "\\begin{tabular}{llllllllllll}\n",
       " Lexical & personality\\_all & Coordinate & Climatic\\_demands & subsistence & disease & modern & Hofstede\\_6D & new\\_gendist\\_weighted & religion\\_per & idealogy & demographics\\\\\n",
       " <dbl> & <dbl> & <dbl> & <dbl> & <dbl> & <dbl> & <dbl> & <dbl> & <dbl> & <dbl> & <dbl> & <dbl>\\\\\n",
       "\\hline\n",
       "\t 0.5684 & 0.2512 & 0.9393 & 0.2037 & 0.5492 & 0.4823 & 0.0227 & 0.7334 & 0.4996 & 0.0042 & 0.7621 & 0.9921\\\\\n",
       "\\end{tabular}\n"
      ],
      "text/markdown": [
       "\n",
       "A data.frame: 1 × 12\n",
       "\n",
       "| Lexical &lt;dbl&gt; | personality_all &lt;dbl&gt; | Coordinate &lt;dbl&gt; | Climatic_demands &lt;dbl&gt; | subsistence &lt;dbl&gt; | disease &lt;dbl&gt; | modern &lt;dbl&gt; | Hofstede_6D &lt;dbl&gt; | new_gendist_weighted &lt;dbl&gt; | religion_per &lt;dbl&gt; | idealogy &lt;dbl&gt; | demographics &lt;dbl&gt; |\n",
       "|---|---|---|---|---|---|---|---|---|---|---|---|\n",
       "| 0.5684 | 0.2512 | 0.9393 | 0.2037 | 0.5492 | 0.4823 | 0.0227 | 0.7334 | 0.4996 | 0.0042 | 0.7621 | 0.9921 |\n",
       "\n"
      ],
      "text/plain": [
       "  Lexical personality_all Coordinate Climatic_demands subsistence disease\n",
       "1 0.5684  0.2512          0.9393     0.2037           0.5492      0.4823 \n",
       "  modern Hofstede_6D new_gendist_weighted religion_per idealogy demographics\n",
       "1 0.0227 0.7334      0.4996               0.0042       0.7621   0.9921      "
      ]
     },
     "metadata": {},
     "output_type": "display_data"
    }
   ],
   "source": [
    "# 1.regression coefficient\n",
    "model_rdm = read.csv('output_data/models_rdm/categorical/public_dissim_dist.csv',\n",
    "                    row.names =1, check.names = FALSE)\n",
    "model_rdm = model_rdm[regions_order,regions_order]\n",
    "model_rdm_array = lowerTriangle(model_rdm)\n",
    "\n",
    "x <- do.call(cbind,lapply(variables,function(x) lowerTriangle(x))) # generate permuted predictors\n",
    "colnames(x) = variables_names\n",
    "culture_regress_standard <- lm(scale(model_rdm_array)~scale(x))\n",
    "culture_regress_standard_model <- summary(culture_regress_standard)\n",
    "culture_regress_standard_model\n",
    "\n",
    "write.csv(culture_regress_standard_model$coefficients,\n",
    " file='output_data/beta/public_33d.csv')\n",
    "public_regression = culture_regress_standard_model\n",
    "\n",
    "# 2.permutation\n",
    "p_value = permutation_result(public_regression)\n",
    "p_value\n",
    "write.csv(p_value,'output_data/p_value/public_33d.csv')                         "
   ]
  }
 ],
 "metadata": {
  "kernelspec": {
   "display_name": "R",
   "language": "R",
   "name": "ir"
  },
  "language_info": {
   "codemirror_mode": "r",
   "file_extension": ".r",
   "mimetype": "text/x-r-source",
   "name": "R",
   "pygments_lexer": "r",
   "version": "4.1.2"
  },
  "latex_envs": {
   "LaTeX_envs_menu_present": true,
   "autoclose": false,
   "autocomplete": true,
   "bibliofile": "biblio.bib",
   "cite_by": "apalike",
   "current_citInitial": 1,
   "eqLabelWithNumbers": true,
   "eqNumInitial": 1,
   "hotkeys": {
    "equation": "Ctrl-E",
    "itemize": "Ctrl-I"
   },
   "labels_anchors": false,
   "latex_user_defs": false,
   "report_style_numbering": false,
   "user_envs_cfg": false
  },
  "toc": {
   "base_numbering": 1,
   "nav_menu": {},
   "number_sections": true,
   "sideBar": true,
   "skip_h1_title": false,
   "title_cell": "Table of Contents",
   "title_sidebar": "Contents",
   "toc_cell": true,
   "toc_position": {
    "height": "700.996px",
    "left": "824.988px",
    "top": "105.992px",
    "width": "383.953px"
   },
   "toc_section_display": true,
   "toc_window_display": true
  },
  "varInspector": {
   "cols": {
    "lenName": 16,
    "lenType": 16,
    "lenVar": 40
   },
   "kernels_config": {
    "python": {
     "delete_cmd_postfix": "",
     "delete_cmd_prefix": "del ",
     "library": "var_list.py",
     "varRefreshCmd": "print(var_dic_list())"
    },
    "r": {
     "delete_cmd_postfix": ") ",
     "delete_cmd_prefix": "rm(",
     "library": "var_list.r",
     "varRefreshCmd": "cat(var_dic_list()) "
    }
   },
   "types_to_exclude": [
    "module",
    "function",
    "builtin_function_or_method",
    "instance",
    "_Feature"
   ],
   "window_display": false
  }
 },
 "nbformat": 4,
 "nbformat_minor": 5
}
