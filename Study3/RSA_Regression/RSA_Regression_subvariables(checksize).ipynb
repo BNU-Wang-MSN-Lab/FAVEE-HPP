{
 "cells": [
  {
   "cell_type": "markdown",
   "id": "7fbf5950",
   "metadata": {
    "toc": true
   },
   "source": [
    "<h1>Table of Contents<span class=\"tocSkip\"></span></h1>\n",
    "<div class=\"toc\"><ul class=\"toc-item\"><li><span><a href=\"#Predictor-variable-rdm\" data-toc-modified-id=\"Predictor-variable-rdm-1\"><span class=\"toc-item-num\">1&nbsp;&nbsp;</span>Predictor variable rdm</a></span></li><li><span><a href=\"#Full-feature-model\" data-toc-modified-id=\"Full-feature-model-2\"><span class=\"toc-item-num\">2&nbsp;&nbsp;</span>Full feature model</a></span><ul class=\"toc-item\"><li><span><a href=\"#regression-coefficient\" data-toc-modified-id=\"regression-coefficient-2.1\"><span class=\"toc-item-num\">2.1&nbsp;&nbsp;</span>regression coefficient</a></span></li><li><span><a href=\"#permutation\" data-toc-modified-id=\"permutation-2.2\"><span class=\"toc-item-num\">2.2&nbsp;&nbsp;</span>permutation</a></span></li></ul></li><li><span><a href=\"#Dimensional-model\" data-toc-modified-id=\"Dimensional-model-3\"><span class=\"toc-item-num\">3&nbsp;&nbsp;</span>Dimensional model</a></span><ul class=\"toc-item\"><li><span><a href=\"#regression-coefficient\" data-toc-modified-id=\"regression-coefficient-3.1\"><span class=\"toc-item-num\">3.1&nbsp;&nbsp;</span>regression coefficient</a></span></li><li><span><a href=\"#permutation\" data-toc-modified-id=\"permutation-3.2\"><span class=\"toc-item-num\">3.2&nbsp;&nbsp;</span>permutation</a></span></li></ul></li><li><span><a href=\"#Categorical-model\" data-toc-modified-id=\"Categorical-model-4\"><span class=\"toc-item-num\">4&nbsp;&nbsp;</span>Categorical model</a></span><ul class=\"toc-item\"><li><span><a href=\"#regression-coefficient\" data-toc-modified-id=\"regression-coefficient-4.1\"><span class=\"toc-item-num\">4.1&nbsp;&nbsp;</span>regression coefficient</a></span></li><li><span><a href=\"#permutation\" data-toc-modified-id=\"permutation-4.2\"><span class=\"toc-item-num\">4.2&nbsp;&nbsp;</span>permutation</a></span></li></ul></li><li><span><a href=\"#Dimensional:-single-dimension\" data-toc-modified-id=\"Dimensional:-single-dimension-5\"><span class=\"toc-item-num\">5&nbsp;&nbsp;</span>Dimensional: single dimension</a></span><ul class=\"toc-item\"><li><span><a href=\"#Formality\" data-toc-modified-id=\"Formality-5.1\"><span class=\"toc-item-num\">5.1&nbsp;&nbsp;</span>Formality</a></span></li><li><span><a href=\"#Activeness\" data-toc-modified-id=\"Activeness-5.2\"><span class=\"toc-item-num\">5.2&nbsp;&nbsp;</span>Activeness</a></span></li><li><span><a href=\"#Valence\" data-toc-modified-id=\"Valence-5.3\"><span class=\"toc-item-num\">5.3&nbsp;&nbsp;</span>Valence</a></span></li><li><span><a href=\"#Exchange\" data-toc-modified-id=\"Exchange-5.4\"><span class=\"toc-item-num\">5.4&nbsp;&nbsp;</span>Exchange</a></span></li><li><span><a href=\"#Equality\" data-toc-modified-id=\"Equality-5.5\"><span class=\"toc-item-num\">5.5&nbsp;&nbsp;</span>Equality</a></span></li></ul></li><li><span><a href=\"#Categorical:-single-category\" data-toc-modified-id=\"Categorical:-single-category-6\"><span class=\"toc-item-num\">6&nbsp;&nbsp;</span>Categorical: single category</a></span><ul class=\"toc-item\"><li><span><a href=\"#Hostile\" data-toc-modified-id=\"Hostile-6.1\"><span class=\"toc-item-num\">6.1&nbsp;&nbsp;</span>Hostile</a></span></li><li><span><a href=\"#Private\" data-toc-modified-id=\"Private-6.2\"><span class=\"toc-item-num\">6.2&nbsp;&nbsp;</span>Private</a></span></li><li><span><a href=\"#Public\" data-toc-modified-id=\"Public-6.3\"><span class=\"toc-item-num\">6.3&nbsp;&nbsp;</span>Public</a></span></li></ul></li><li><span><a href=\"#Plot-RSA-regression-results-in-Supplementary\" data-toc-modified-id=\"Plot-RSA-regression-results-in-Supplementary-7\"><span class=\"toc-item-num\">7&nbsp;&nbsp;</span>Plot RSA regression results in Supplementary</a></span><ul class=\"toc-item\"><li><span><a href=\"#Dimensional\" data-toc-modified-id=\"Dimensional-7.1\"><span class=\"toc-item-num\">7.1&nbsp;&nbsp;</span>Dimensional</a></span></li><li><span><a href=\"#Categorical\" data-toc-modified-id=\"Categorical-7.2\"><span class=\"toc-item-num\">7.2&nbsp;&nbsp;</span>Categorical</a></span></li></ul></li></ul></div>"
   ]
  },
  {
   "cell_type": "code",
   "execution_count": 2,
   "id": "cf153305",
   "metadata": {
    "ExecuteTime": {
     "end_time": "2023-01-11T08:46:56.241261Z",
     "start_time": "2023-01-11T08:46:56.219Z"
    }
   },
   "outputs": [],
   "source": [
    "options(warn=-1)\n",
    "library(openxlsx)\n",
    "library(tidyverse)\n",
    "library(reshape)\n",
    "\n",
    "library(ggplot2)\n",
    "library(RColorBrewer)\n",
    "library(corrplot)\n",
    "library(corrr)"
   ]
  },
  {
   "cell_type": "code",
   "execution_count": 2,
   "id": "951274ff",
   "metadata": {
    "ExecuteTime": {
     "end_time": "2023-01-08T13:24:54.009860Z",
     "start_time": "2023-01-08T13:24:52.531Z"
    }
   },
   "outputs": [],
   "source": [
    "regions_order = c(\n",
    "    # English\n",
    "    'USA','UK','Australia','South Africa',\n",
    "    # Germany\n",
    "    'Germany',\n",
    "    # Japanese\n",
    "    'Japan',\n",
    "    # Hebrew\n",
    "    'Israel',\n",
    "    # Chinese\n",
    "    'CHN','HK(region)',\n",
    "\n",
    "    # French\n",
    "    'France',\n",
    "    # Spanish\n",
    "    'Spain','Mexico','Chile',\n",
    "    # Portuguese\n",
    "    'Portugal','Brazil',\n",
    "    # Russian\n",
    "    'Russia',\n",
    "    # Arabic\n",
    "    'Egypt','Qatar',\n",
    "    'India')\n",
    "\n",
    "fix_region = function(df){\n",
    "    regions = rownames(df)\n",
    "    regions = str_replace(regions,'United States','USA')\n",
    "    regions = str_replace(regions,'United Kingdom','UK')\n",
    "    regions = str_replace(regions,'China','CHN')\n",
    "    regions = str_replace(regions,'South_africa','South Africa')\n",
    "    regions = str_replace(regions,'Spain','Spanish')\n",
    "    regions = str_replace(regions,'HK','HK(region)')\n",
    "    regions = gsub('Hong Kong SAR, CHN','HK(region)',regions,fixed=TRUE)\n",
    "    regions = str_replace(regions,'Hong Kong','HK(region)')\n",
    "    regions = str_replace(regions,'Spanish','Spain')\n",
    "    regions = str_replace(regions,'Russian Federation','Russia')\n",
    "    regions = str_replace(regions,'Russian','Russia')\n",
    "    regions = str_replace(regions,'Egypt, Arab Rep.','Egypt')\n",
    "    \n",
    "    rownames(df) = regions\n",
    "    colnames(df) = regions\n",
    "    \n",
    "    df = df[regions_order,regions_order]\n",
    "    return(df)\n",
    "}\n",
    "\n",
    "lowerTriangle <- function(m){\n",
    "  return(m[lower.tri(m,diag = FALSE)])\n",
    "}"
   ]
  },
  {
   "cell_type": "markdown",
   "id": "704eb88b",
   "metadata": {},
   "source": [
    "# Predictor variable rdm"
   ]
  },
  {
   "cell_type": "code",
   "execution_count": 3,
   "id": "dbbd3b5b",
   "metadata": {
    "ExecuteTime": {
     "end_time": "2023-01-08T13:24:54.177906Z",
     "start_time": "2023-01-08T13:24:52.686Z"
    }
   },
   "outputs": [],
   "source": [
    "# Language\n",
    "Lexical = read.csv('../Cultural_RDM/rdm/Lexical_dist.csv', row.names=1, encoding = \"UTF-8\",check.names = FALSE)\n",
    "Lexical = fix_region(Lexical)\n",
    "\n",
    "# Personality\n",
    "Agreeableness = read.csv('../Cultural_RDM/rdm/Agreeableness_dist.csv',row.names=1, encoding = \"UTF-8\",check.names = FALSE)\n",
    "Agreeableness = fix_region(Agreeableness)\n",
    "Conscientiousness = read.csv('../Cultural_RDM/rdm/Conscientiousness_dist.csv',row.names=1, encoding = \"UTF-8\",check.names = FALSE)\n",
    "Conscientiousness = fix_region(Conscientiousness)\n",
    "Extraversion = read.csv('../Cultural_RDM/rdm/Extraversion_dist.csv',row.names=1, encoding = \"UTF-8\",check.names = FALSE)\n",
    "Extraversion = fix_region(Extraversion)\n",
    "Neuroticism = read.csv('../Cultural_RDM/rdm/Neuroticism_dist.csv',row.names=1, encoding = \"UTF-8\",check.names = FALSE)\n",
    "Neuroticism = fix_region(Neuroticism)\n",
    "Openness = read.csv('../Cultural_RDM/rdm/Openness_dist.csv',row.names=1, encoding = \"UTF-8\",check.names = FALSE)\n",
    "Openness = fix_region(Openness)\n",
    "personality_all = read.csv('../Cultural_RDM/rdm/personality_all_dist.csv', row.names=1, encoding = \"UTF-8\",check.names = FALSE)\n",
    "personality_all = fix_region(personality_all)\n",
    "\n",
    "# Socioecological\n",
    "Climatic_demands = read.csv('../Cultural_RDM/rdm/Climatic_demands_dist.csv', row.names=1, encoding = \"UTF-8\",check.names = FALSE)\n",
    "Climatic_demands = fix_region(Climatic_demands)\n",
    "Coordinate = read.csv('../Cultural_RDM/rdm/Coordinate_dist.csv', row.names=1, encoding = \"UTF-8\",check.names = FALSE)\n",
    "Coordinate = fix_region(Coordinate)\n",
    "subsistence = read.csv('../Cultural_RDM/rdm/subsistence_dist.csv', row.names=1, encoding = \"UTF-8\",check.names = FALSE)\n",
    "subsistence = fix_region(subsistence)\n",
    "disease = read.csv('../Cultural_RDM/rdm/disease_dist.csv', row.names=1, encoding = \"UTF-8\",check.names = FALSE)\n",
    "disease = fix_region(disease)\n",
    "\n",
    "# Modernization\n",
    "urban = read.csv('../Cultural_RDM/rdm/urban_rdm.csv', row.names=1, encoding = \"UTF-8\")\n",
    "urban = fix_region(urban)\n",
    "wealth = read.csv('../Cultural_RDM/rdm/wealth_rdm.csv', row.names=1, encoding = \"UTF-8\")\n",
    "wealth = fix_region(wealth)\n",
    "edu = read.csv('../Cultural_RDM/rdm/edu_rdm.csv', row.names=1, encoding = \"UTF-8\")\n",
    "edu = fix_region(edu)\n",
    "modern = read.csv('../Cultural_RDM/rdm/modern_dist.csv', row.names=1, encoding = \"UTF-8\",check.names = FALSE)\n",
    "modern = fix_region(modern)\n",
    "\n",
    "# Cultural value\n",
    "## Hofstede 6D\n",
    "power = read.csv('../Cultural_RDM/rdm/power_rdm.csv', row.names=1, encoding = \"UTF-8\")\n",
    "power = fix_region(power)\n",
    "Individualism = read.csv('../Cultural_RDM/rdm/Individualism_rdm.csv', row.names=1, encoding = \"UTF-8\",check.names = FALSE)\n",
    "Individualism = fix_region(Individualism)\n",
    "Masculine = read.csv('../Cultural_RDM/rdm/Masculine_rdm.csv', row.names=1, encoding = \"UTF-8\",check.names = FALSE)\n",
    "Masculine = fix_region(Masculine)\n",
    "Uncertainty_Avoidance = read.csv('../Cultural_RDM/rdm/Uncertainty_Avoidance_rdm.csv', row.names=1, encoding = \"UTF-8\",check.names = FALSE)\n",
    "Uncertainty_Avoidance = fix_region(Uncertainty_Avoidance)\n",
    "Long_Term_Orientation = read.csv('../Cultural_RDM/rdm/Long_Term_Orientation_rdm.csv', row.names=1, encoding = \"UTF-8\",check.names = FALSE)\n",
    "Long_Term_Orientation = fix_region(Long_Term_Orientation)\n",
    "Indulgence = read.csv('../Cultural_RDM/rdm/Indulgence_rdm.csv', row.names=1, encoding = \"UTF-8\",check.names = FALSE)\n",
    "Indulgence = fix_region(Indulgence)\n",
    "Hofstede_6D = read.csv('../Cultural_RDM/rdm/Hofstede_6D_rdm.csv', row.names=1, encoding = \"UTF-8\",check.names = FALSE)\n",
    "Hofstede_6D = fix_region(Hofstede_6D)\n",
    "\n",
    "# Gene\n",
    "new_gendist_weighted = read.csv('../Cultural_RDM/rdm/new_gendist_weighted_dist.csv', row.names=1, encoding = \"UTF-8\",check.names = FALSE)\n",
    "new_gendist_weighted = fix_region(new_gendist_weighted)\n",
    "\n",
    "# Religion\n",
    "reldist_weighted_WCD_form = read.csv('../Cultural_RDM/rdm/reldist_weighted_WCD_form_dist.csv', row.names=1, encoding = \"UTF-8\",check.names = FALSE)\n",
    "reldist_weighted_WCD_form = fix_region(reldist_weighted_WCD_form)\n",
    "religion_per = read.csv('../Cultural_RDM/rdm/religion_percentage_rdm.csv', row.names=1, encoding = \"UTF-8\",check.names = FALSE)\n",
    "religion_per = fix_region(religion_per)\n",
    "\n",
    "# Political\n",
    "idealogy = read.csv('../Cultural_RDM/rdm/political_idealogy_rdm_range.csv', row.names=1, encoding = \"UTF-8\",check.names = FALSE)\n",
    "idealogy = fix_region(idealogy)"
   ]
  },
  {
   "cell_type": "code",
   "execution_count": 4,
   "id": "b8a47473",
   "metadata": {
    "ExecuteTime": {
     "end_time": "2023-01-08T13:24:54.220907Z",
     "start_time": "2023-01-08T13:24:52.688Z"
    }
   },
   "outputs": [],
   "source": [
    "# Demographics\n",
    "gender = read.csv('../DataCleanPCA/output_data/rdm/gender_rdm.csv', row.names=1, encoding = \"UTF-8\",check.names = FALSE)\n",
    "gender = fix_region(gender)\n",
    "age = read.csv('../DataCleanPCA/output_data/rdm/age_rdm.csv', row.names=1, encoding = \"UTF-8\",check.names = FALSE)\n",
    "age = fix_region(age)\n",
    "education_ind = read.csv('../DataCleanPCA/output_data/rdm/education_ind_rdm.csv', row.names=1, encoding = \"UTF-8\",check.names = FALSE)\n",
    "education_ind = fix_region(education_ind)\n",
    "demographics = read.csv('../DataCleanPCA/output_data/rdm/demographics_rdm.csv', row.names=1, encoding = \"UTF-8\",check.names = FALSE)\n",
    "demographics = fix_region(demographics)\n",
    "\n",
    "# check size\n",
    "check_size = read.csv('../DataCleanPCA/output_data/rdm/check_size_rdm.csv', row.names=1, encoding = \"UTF-8\",check.names = FALSE)\n",
    "check_size = fix_region(check_size)"
   ]
  },
  {
   "cell_type": "code",
   "execution_count": 5,
   "id": "1b62a8c1",
   "metadata": {
    "ExecuteTime": {
     "end_time": "2023-01-08T13:24:54.269918Z",
     "start_time": "2023-01-08T13:24:52.690Z"
    }
   },
   "outputs": [],
   "source": [
    "# get rdms of predicators \n",
    "variables_names <- c('Lexical',# Language\n",
    "                     'personality_all',# Personality\n",
    "                     'Coordinate','Climatic_demands','subsistence','disease',# Socioecological\n",
    "                     #'modern',# Modernization\n",
    "                     'urban','wealth','edu',\n",
    "                     'Hofstede_6D',# Cultural value\n",
    "                     'new_gendist_weighted',# Gene\n",
    "                     'religion_per',#'reldist_weighted_WCD_form',# Religion\n",
    "                     'idealogy',# Political\n",
    "                     'demographics',# Demographics\n",
    "                     'check_size'\n",
    "                    )\n",
    "\n",
    "variables <- list()\n",
    "for(i in c(1:length(variables_names))){\n",
    "  variables[[i]] = get(variables_names[i])\n",
    "}"
   ]
  },
  {
   "cell_type": "code",
   "execution_count": 6,
   "id": "a8426677",
   "metadata": {
    "ExecuteTime": {
     "end_time": "2023-01-08T13:24:54.294924Z",
     "start_time": "2023-01-08T13:24:52.691Z"
    }
   },
   "outputs": [],
   "source": [
    "permutation_result = function(culture_regress_standard_model){\n",
    "    # create permutation matrix\n",
    "    nperm <- 10000\n",
    "    permf <- matrix(NA,nperm)\n",
    "    permr2 <- matrix(NA,nperm)\n",
    "    # contain beta_sub\n",
    "    permt <- matrix(NA,nperm,length(variables_names)) # 12variables\n",
    "    colnames(permt) <- variables_names\n",
    "    # caculate proportation of beta_sub or F value over the model results\n",
    "    permf_pvals <- NA \n",
    "    permt_pvals <- NA\n",
    "    tstats = NA\n",
    "\n",
    "    # the model results\n",
    "    fstats <- culture_regress_standard_model$fstatistic[[1]]\n",
    "    for (i in 1:length(variables_names)){\n",
    "      tstats[i] <- culture_regress_standard_model$coefficients[1+i,1]\n",
    "    }\n",
    "    r2stats <- culture_regress_standard_model$r.squared\n",
    "    print(paste('fstats:',fstats))\n",
    "    #print('tstats:')\n",
    "    #tstats\n",
    "    print(paste('r2stats:',r2stats))\n",
    "\n",
    "    set.seed(2)\n",
    "    for (i in 1:nperm){\n",
    "      psel <- sample(19) # permuted index, total 19 regions\n",
    "      x <- do.call(cbind,lapply(variables,function(x) lowerTriangle(x[psel,psel]))) # generate permuted predictors\n",
    "      rfit <- lm(scale(model_rdm_array)~scale(x)) # fit permuted model\n",
    "      srfit <- summary(rfit)\n",
    "      permf[i,1] <- srfit$fstatistic[1] # F-stat\n",
    "      permr2[i,1] <- srfit$r.squared # R-squared\n",
    "      #permf[,i] <- unlist(lapply(srfit,function(x) x$fstatistic[1])) # F-stat\n",
    "      #permr2[,i] <- unlist(lapply(srfit,function(x) x$r.squared)) # R-squared\n",
    "      for (j in 1:length(variables_names)){\n",
    "        permt[i,j] <- srfit$coefficients[1+j,1] # each var t-stat\n",
    "      }\n",
    "      #print(i)\n",
    "    }\n",
    "    print(i)\n",
    "\n",
    "    # F statistics\n",
    "    permf_pvals <- mean(permf[,1] >= fstats)\n",
    "    print(paste('permf_pvals',permf_pvals))\n",
    "\n",
    "    # Each variable's regression\n",
    "    for (i in 1:length(variables_names)){\n",
    "      permt_pvals[i] <- mean(permt[,i] >= tstats[i])\n",
    "    }\n",
    "\n",
    "    permt_pvals <- as.data.frame(t(permt_pvals)) \n",
    "\n",
    "    colnames(permt_pvals) <- variables_names\n",
    "    return(permt_pvals)\n",
    "} "
   ]
  },
  {
   "cell_type": "markdown",
   "id": "7a0ad86f",
   "metadata": {},
   "source": [
    "# Full feature model"
   ]
  },
  {
   "cell_type": "markdown",
   "id": "d922d471",
   "metadata": {},
   "source": [
    "## regression coefficient"
   ]
  },
  {
   "cell_type": "code",
   "execution_count": 7,
   "id": "b735b461",
   "metadata": {
    "ExecuteTime": {
     "end_time": "2023-01-08T13:24:54.348936Z",
     "start_time": "2023-01-08T13:24:53.023Z"
    }
   },
   "outputs": [
    {
     "data": {
      "text/plain": [
       "\n",
       "Call:\n",
       "lm(formula = scale(model_rdm_array) ~ scale(x))\n",
       "\n",
       "Residuals:\n",
       "     Min       1Q   Median       3Q      Max \n",
       "-1.71411 -0.37956  0.06011  0.36650  2.33695 \n",
       "\n",
       "Coefficients:\n",
       "                               Estimate Std. Error t value Pr(>|t|)    \n",
       "(Intercept)                   3.278e-16  4.745e-02   0.000 1.000000    \n",
       "scale(x)Lexical               3.586e-02  6.317e-02   0.568 0.571075    \n",
       "scale(x)personality_all       1.431e-01  5.536e-02   2.586 0.010635 *  \n",
       "scale(x)Coordinate           -1.156e-01  5.815e-02  -1.988 0.048543 *  \n",
       "scale(x)Climatic_demands      1.939e-01  5.440e-02   3.565 0.000485 ***\n",
       "scale(x)subsistence          -4.414e-02  5.564e-02  -0.793 0.428748    \n",
       "scale(x)disease              -4.677e-03  5.569e-02  -0.084 0.933186    \n",
       "scale(x)urban                 4.436e-01  5.894e-02   7.527 3.98e-12 ***\n",
       "scale(x)wealth               -5.137e-02  5.885e-02  -0.873 0.384111    \n",
       "scale(x)edu                   1.234e-01  5.337e-02   2.312 0.022122 *  \n",
       "scale(x)Hofstede_6D          -8.633e-02  6.140e-02  -1.406 0.161696    \n",
       "scale(x)new_gendist_weighted -1.282e-01  6.361e-02  -2.015 0.045623 *  \n",
       "scale(x)religion_per          3.664e-01  7.462e-02   4.910 2.29e-06 ***\n",
       "scale(x)idealogy             -7.204e-02  5.308e-02  -1.357 0.176651    \n",
       "scale(x)demographics          3.427e-02  5.709e-02   0.600 0.549279    \n",
       "scale(x)check_size            2.041e-02  5.099e-02   0.400 0.689451    \n",
       "---\n",
       "Signif. codes:  0 '***' 0.001 '**' 0.01 '*' 0.05 '.' 0.1 ' ' 1\n",
       "\n",
       "Residual standard error: 0.6204 on 155 degrees of freedom\n",
       "Multiple R-squared:  0.649,\tAdjusted R-squared:  0.6151 \n",
       "F-statistic: 19.11 on 15 and 155 DF,  p-value: < 2.2e-16\n"
      ]
     },
     "metadata": {},
     "output_type": "display_data"
    }
   ],
   "source": [
    "model_rdm = read.csv('output_data/models_rdm/full_feature/raw33d_dissim_dist.csv',\n",
    "                    row.names =1, check.names = FALSE)\n",
    "model_rdm = model_rdm[regions_order,regions_order]\n",
    "model_rdm_array = lowerTriangle(model_rdm)\n",
    "\n",
    "x <- do.call(cbind,lapply(variables,function(x) lowerTriangle(x))) # generate permuted predictors\n",
    "colnames(x) = variables_names\n",
    "culture_regress_standard <- lm(scale(model_rdm_array)~scale(x))\n",
    "culture_regress_standard_model <- summary(culture_regress_standard)\n",
    "culture_regress_standard_model\n",
    "\n",
    "write.csv(culture_regress_standard_model$coefficients,\n",
    " file='output_data/beta_sub/check_size/raw_33d.csv')\n",
    "full_feature_regression = culture_regress_standard_model"
   ]
  },
  {
   "cell_type": "markdown",
   "id": "43e7cdda",
   "metadata": {},
   "source": [
    "## permutation"
   ]
  },
  {
   "cell_type": "code",
   "execution_count": 8,
   "id": "93665bb4",
   "metadata": {
    "ExecuteTime": {
     "end_time": "2023-01-08T13:25:40.508419Z",
     "start_time": "2023-01-08T13:24:53.171Z"
    }
   },
   "outputs": [
    {
     "name": "stdout",
     "output_type": "stream",
     "text": [
      "[1] \"fstats: 19.1080593352854\"\n",
      "[1] \"r2stats: 0.649020226398885\"\n",
      "[1] 10000\n",
      "[1] \"permf_pvals 4e-04\"\n"
     ]
    },
    {
     "data": {
      "text/html": [
       "<table class=\"dataframe\">\n",
       "<caption>A data.frame: 1 × 15</caption>\n",
       "<thead>\n",
       "\t<tr><th scope=col>Lexical</th><th scope=col>personality_all</th><th scope=col>Coordinate</th><th scope=col>Climatic_demands</th><th scope=col>subsistence</th><th scope=col>disease</th><th scope=col>urban</th><th scope=col>wealth</th><th scope=col>edu</th><th scope=col>Hofstede_6D</th><th scope=col>new_gendist_weighted</th><th scope=col>religion_per</th><th scope=col>idealogy</th><th scope=col>demographics</th><th scope=col>check_size</th></tr>\n",
       "\t<tr><th scope=col>&lt;dbl&gt;</th><th scope=col>&lt;dbl&gt;</th><th scope=col>&lt;dbl&gt;</th><th scope=col>&lt;dbl&gt;</th><th scope=col>&lt;dbl&gt;</th><th scope=col>&lt;dbl&gt;</th><th scope=col>&lt;dbl&gt;</th><th scope=col>&lt;dbl&gt;</th><th scope=col>&lt;dbl&gt;</th><th scope=col>&lt;dbl&gt;</th><th scope=col>&lt;dbl&gt;</th><th scope=col>&lt;dbl&gt;</th><th scope=col>&lt;dbl&gt;</th><th scope=col>&lt;dbl&gt;</th><th scope=col>&lt;dbl&gt;</th></tr>\n",
       "</thead>\n",
       "<tbody>\n",
       "\t<tr><td>0.3974</td><td>0.1969</td><td>0.768</td><td>0.1604</td><td>0.6135</td><td>0.5165</td><td>0.016</td><td>0.6333</td><td>0.203</td><td>0.6961</td><td>0.6823</td><td>0.0079</td><td>0.6953</td><td>0.3956</td><td>0.4325</td></tr>\n",
       "</tbody>\n",
       "</table>\n"
      ],
      "text/latex": [
       "A data.frame: 1 × 15\n",
       "\\begin{tabular}{lllllllllllllll}\n",
       " Lexical & personality\\_all & Coordinate & Climatic\\_demands & subsistence & disease & urban & wealth & edu & Hofstede\\_6D & new\\_gendist\\_weighted & religion\\_per & idealogy & demographics & check\\_size\\\\\n",
       " <dbl> & <dbl> & <dbl> & <dbl> & <dbl> & <dbl> & <dbl> & <dbl> & <dbl> & <dbl> & <dbl> & <dbl> & <dbl> & <dbl> & <dbl>\\\\\n",
       "\\hline\n",
       "\t 0.3974 & 0.1969 & 0.768 & 0.1604 & 0.6135 & 0.5165 & 0.016 & 0.6333 & 0.203 & 0.6961 & 0.6823 & 0.0079 & 0.6953 & 0.3956 & 0.4325\\\\\n",
       "\\end{tabular}\n"
      ],
      "text/markdown": [
       "\n",
       "A data.frame: 1 × 15\n",
       "\n",
       "| Lexical &lt;dbl&gt; | personality_all &lt;dbl&gt; | Coordinate &lt;dbl&gt; | Climatic_demands &lt;dbl&gt; | subsistence &lt;dbl&gt; | disease &lt;dbl&gt; | urban &lt;dbl&gt; | wealth &lt;dbl&gt; | edu &lt;dbl&gt; | Hofstede_6D &lt;dbl&gt; | new_gendist_weighted &lt;dbl&gt; | religion_per &lt;dbl&gt; | idealogy &lt;dbl&gt; | demographics &lt;dbl&gt; | check_size &lt;dbl&gt; |\n",
       "|---|---|---|---|---|---|---|---|---|---|---|---|---|---|---|\n",
       "| 0.3974 | 0.1969 | 0.768 | 0.1604 | 0.6135 | 0.5165 | 0.016 | 0.6333 | 0.203 | 0.6961 | 0.6823 | 0.0079 | 0.6953 | 0.3956 | 0.4325 |\n",
       "\n"
      ],
      "text/plain": [
       "  Lexical personality_all Coordinate Climatic_demands subsistence disease urban\n",
       "1 0.3974  0.1969          0.768      0.1604           0.6135      0.5165  0.016\n",
       "  wealth edu   Hofstede_6D new_gendist_weighted religion_per idealogy\n",
       "1 0.6333 0.203 0.6961      0.6823               0.0079       0.6953  \n",
       "  demographics check_size\n",
       "1 0.3956       0.4325    "
      ]
     },
     "metadata": {},
     "output_type": "display_data"
    }
   ],
   "source": [
    "p_value_sub = permutation_result(full_feature_regression)\n",
    "p_value_sub\n",
    "write.csv(p_value_sub,'output_data/p_value_sub/check_size/raw_33d.csv')"
   ]
  },
  {
   "cell_type": "markdown",
   "id": "2c261bbd",
   "metadata": {},
   "source": [
    "# Dimensional model"
   ]
  },
  {
   "cell_type": "markdown",
   "id": "57ec0ce3",
   "metadata": {},
   "source": [
    "## regression coefficient"
   ]
  },
  {
   "cell_type": "code",
   "execution_count": 9,
   "id": "d6aa9f33",
   "metadata": {
    "ExecuteTime": {
     "end_time": "2023-01-08T13:25:40.546427Z",
     "start_time": "2023-01-08T13:24:53.427Z"
    }
   },
   "outputs": [
    {
     "data": {
      "text/plain": [
       "\n",
       "Call:\n",
       "lm(formula = scale(model_rdm_array) ~ scale(x))\n",
       "\n",
       "Residuals:\n",
       "     Min       1Q   Median       3Q      Max \n",
       "-2.20785 -0.39399  0.03409  0.42272  1.85752 \n",
       "\n",
       "Coefficients:\n",
       "                               Estimate Std. Error t value Pr(>|t|)    \n",
       "(Intercept)                   1.272e-16  5.085e-02   0.000 1.000000    \n",
       "scale(x)Lexical               3.810e-03  6.770e-02   0.056 0.955199    \n",
       "scale(x)personality_all       1.855e-01  5.933e-02   3.127 0.002110 ** \n",
       "scale(x)Coordinate           -1.266e-01  6.232e-02  -2.032 0.043870 *  \n",
       "scale(x)Climatic_demands      1.937e-01  5.830e-02   3.322 0.001115 ** \n",
       "scale(x)subsistence          -4.569e-03  5.963e-02  -0.077 0.939027    \n",
       "scale(x)disease              -3.267e-02  5.969e-02  -0.547 0.584900    \n",
       "scale(x)urban                 3.321e-01  6.317e-02   5.258 4.76e-07 ***\n",
       "scale(x)wealth               -8.487e-02  6.307e-02  -1.346 0.180417    \n",
       "scale(x)edu                   1.226e-01  5.720e-02   2.143 0.033656 *  \n",
       "scale(x)Hofstede_6D          -1.323e-01  6.581e-02  -2.011 0.046055 *  \n",
       "scale(x)new_gendist_weighted -2.360e-01  6.818e-02  -3.462 0.000693 ***\n",
       "scale(x)religion_per          3.827e-01  7.997e-02   4.786 3.94e-06 ***\n",
       "scale(x)idealogy             -8.570e-02  5.688e-02  -1.507 0.133952    \n",
       "scale(x)demographics          6.286e-02  6.119e-02   1.027 0.305908    \n",
       "scale(x)check_size            5.132e-02  5.465e-02   0.939 0.349212    \n",
       "---\n",
       "Signif. codes:  0 '***' 0.001 '**' 0.01 '*' 0.05 '.' 0.1 ' ' 1\n",
       "\n",
       "Residual standard error: 0.665 on 155 degrees of freedom\n",
       "Multiple R-squared:  0.5968,\tAdjusted R-squared:  0.5578 \n",
       "F-statistic:  15.3 on 15 and 155 DF,  p-value: < 2.2e-16\n"
      ]
     },
     "metadata": {},
     "output_type": "display_data"
    }
   ],
   "source": [
    "model_rdm = read.csv('output_data/models_rdm/dimensional/favee_dissim_dist.csv',\n",
    "                    row.names =1, check.names = FALSE)\n",
    "model_rdm = model_rdm[regions_order,regions_order]\n",
    "model_rdm_array = lowerTriangle(model_rdm)\n",
    "\n",
    "x <- do.call(cbind,lapply(variables,function(x) lowerTriangle(x))) # generate permuted predictors\n",
    "colnames(x) = variables_names\n",
    "culture_regress_standard <- lm(scale(model_rdm_array)~scale(x))\n",
    "culture_regress_standard_model <- summary(culture_regress_standard)\n",
    "culture_regress_standard_model\n",
    "\n",
    "write.csv(culture_regress_standard_model$coefficients,\n",
    " file='output_data/beta_sub/check_size/favee_33d.csv')\n",
    "dimensional_regression = culture_regress_standard_model"
   ]
  },
  {
   "cell_type": "markdown",
   "id": "6b093358",
   "metadata": {},
   "source": [
    "## permutation"
   ]
  },
  {
   "cell_type": "code",
   "execution_count": 10,
   "id": "642ae67d",
   "metadata": {
    "ExecuteTime": {
     "end_time": "2023-01-08T13:26:26.660958Z",
     "start_time": "2023-01-08T13:24:53.553Z"
    }
   },
   "outputs": [
    {
     "name": "stdout",
     "output_type": "stream",
     "text": [
      "[1] \"fstats: 15.2972665129702\"\n",
      "[1] \"r2stats: 0.596836071129892\"\n",
      "[1] 10000\n",
      "[1] \"permf_pvals 0.0012\"\n"
     ]
    },
    {
     "data": {
      "text/html": [
       "<table class=\"dataframe\">\n",
       "<caption>A data.frame: 1 × 15</caption>\n",
       "<thead>\n",
       "\t<tr><th scope=col>Lexical</th><th scope=col>personality_all</th><th scope=col>Coordinate</th><th scope=col>Climatic_demands</th><th scope=col>subsistence</th><th scope=col>disease</th><th scope=col>urban</th><th scope=col>wealth</th><th scope=col>edu</th><th scope=col>Hofstede_6D</th><th scope=col>new_gendist_weighted</th><th scope=col>religion_per</th><th scope=col>idealogy</th><th scope=col>demographics</th><th scope=col>check_size</th></tr>\n",
       "\t<tr><th scope=col>&lt;dbl&gt;</th><th scope=col>&lt;dbl&gt;</th><th scope=col>&lt;dbl&gt;</th><th scope=col>&lt;dbl&gt;</th><th scope=col>&lt;dbl&gt;</th><th scope=col>&lt;dbl&gt;</th><th scope=col>&lt;dbl&gt;</th><th scope=col>&lt;dbl&gt;</th><th scope=col>&lt;dbl&gt;</th><th scope=col>&lt;dbl&gt;</th><th scope=col>&lt;dbl&gt;</th><th scope=col>&lt;dbl&gt;</th><th scope=col>&lt;dbl&gt;</th><th scope=col>&lt;dbl&gt;</th><th scope=col>&lt;dbl&gt;</th></tr>\n",
       "</thead>\n",
       "<tbody>\n",
       "\t<tr><td>0.49</td><td>0.1766</td><td>0.7917</td><td>0.1787</td><td>0.4998</td><td>0.6437</td><td>0.0436</td><td>0.7329</td><td>0.2064</td><td>0.7792</td><td>0.847</td><td>0.0077</td><td>0.7357</td><td>0.3321</td><td>0.3685</td></tr>\n",
       "</tbody>\n",
       "</table>\n"
      ],
      "text/latex": [
       "A data.frame: 1 × 15\n",
       "\\begin{tabular}{lllllllllllllll}\n",
       " Lexical & personality\\_all & Coordinate & Climatic\\_demands & subsistence & disease & urban & wealth & edu & Hofstede\\_6D & new\\_gendist\\_weighted & religion\\_per & idealogy & demographics & check\\_size\\\\\n",
       " <dbl> & <dbl> & <dbl> & <dbl> & <dbl> & <dbl> & <dbl> & <dbl> & <dbl> & <dbl> & <dbl> & <dbl> & <dbl> & <dbl> & <dbl>\\\\\n",
       "\\hline\n",
       "\t 0.49 & 0.1766 & 0.7917 & 0.1787 & 0.4998 & 0.6437 & 0.0436 & 0.7329 & 0.2064 & 0.7792 & 0.847 & 0.0077 & 0.7357 & 0.3321 & 0.3685\\\\\n",
       "\\end{tabular}\n"
      ],
      "text/markdown": [
       "\n",
       "A data.frame: 1 × 15\n",
       "\n",
       "| Lexical &lt;dbl&gt; | personality_all &lt;dbl&gt; | Coordinate &lt;dbl&gt; | Climatic_demands &lt;dbl&gt; | subsistence &lt;dbl&gt; | disease &lt;dbl&gt; | urban &lt;dbl&gt; | wealth &lt;dbl&gt; | edu &lt;dbl&gt; | Hofstede_6D &lt;dbl&gt; | new_gendist_weighted &lt;dbl&gt; | religion_per &lt;dbl&gt; | idealogy &lt;dbl&gt; | demographics &lt;dbl&gt; | check_size &lt;dbl&gt; |\n",
       "|---|---|---|---|---|---|---|---|---|---|---|---|---|---|---|\n",
       "| 0.49 | 0.1766 | 0.7917 | 0.1787 | 0.4998 | 0.6437 | 0.0436 | 0.7329 | 0.2064 | 0.7792 | 0.847 | 0.0077 | 0.7357 | 0.3321 | 0.3685 |\n",
       "\n"
      ],
      "text/plain": [
       "  Lexical personality_all Coordinate Climatic_demands subsistence disease\n",
       "1 0.49    0.1766          0.7917     0.1787           0.4998      0.6437 \n",
       "  urban  wealth edu    Hofstede_6D new_gendist_weighted religion_per idealogy\n",
       "1 0.0436 0.7329 0.2064 0.7792      0.847                0.0077       0.7357  \n",
       "  demographics check_size\n",
       "1 0.3321       0.3685    "
      ]
     },
     "metadata": {},
     "output_type": "display_data"
    }
   ],
   "source": [
    "p_value_sub = permutation_result(dimensional_regression)\n",
    "p_value_sub\n",
    "write.csv(p_value_sub,'output_data/p_value_sub/check_size/favee_33d.csv')"
   ]
  },
  {
   "cell_type": "markdown",
   "id": "9cd7c8c4",
   "metadata": {},
   "source": [
    "# Categorical model"
   ]
  },
  {
   "cell_type": "markdown",
   "id": "b39059eb",
   "metadata": {},
   "source": [
    "## regression coefficient"
   ]
  },
  {
   "cell_type": "code",
   "execution_count": 11,
   "id": "4b683ca9",
   "metadata": {
    "ExecuteTime": {
     "end_time": "2023-01-08T13:26:26.709414Z",
     "start_time": "2023-01-08T13:24:53.801Z"
    }
   },
   "outputs": [
    {
     "data": {
      "text/plain": [
       "\n",
       "Call:\n",
       "lm(formula = scale(model_rdm_array) ~ scale(x))\n",
       "\n",
       "Residuals:\n",
       "     Min       1Q   Median       3Q      Max \n",
       "-2.07219 -0.60776  0.05636  0.53470  2.44959 \n",
       "\n",
       "Coefficients:\n",
       "                               Estimate Std. Error t value Pr(>|t|)    \n",
       "(Intercept)                   3.109e-16  6.485e-02   0.000 1.000000    \n",
       "scale(x)Lexical               8.977e-02  8.634e-02   1.040 0.300076    \n",
       "scale(x)personality_all       4.424e-02  7.566e-02   0.585 0.559586    \n",
       "scale(x)Coordinate           -1.486e-01  7.947e-02  -1.870 0.063393 .  \n",
       "scale(x)Climatic_demands      1.691e-01  7.435e-02   2.275 0.024307 *  \n",
       "scale(x)subsistence           2.487e-02  7.604e-02   0.327 0.744117    \n",
       "scale(x)disease              -2.868e-02  7.612e-02  -0.377 0.706805    \n",
       "scale(x)urban                 3.026e-01  8.055e-02   3.756 0.000244 ***\n",
       "scale(x)wealth                1.345e-01  8.043e-02   1.672 0.096604 .  \n",
       "scale(x)edu                   3.197e-02  7.295e-02   0.438 0.661811    \n",
       "scale(x)Hofstede_6D          -8.759e-02  8.392e-02  -1.044 0.298251    \n",
       "scale(x)new_gendist_weighted -3.778e-02  8.694e-02  -0.435 0.664474    \n",
       "scale(x)religion_per          3.071e-01  1.020e-01   3.011 0.003041 ** \n",
       "scale(x)idealogy             -4.683e-02  7.254e-02  -0.646 0.519477    \n",
       "scale(x)demographics         -2.793e-01  7.803e-02  -3.580 0.000460 ***\n",
       "scale(x)check_size           -8.897e-02  6.969e-02  -1.277 0.203651    \n",
       "---\n",
       "Signif. codes:  0 '***' 0.001 '**' 0.01 '*' 0.05 '.' 0.1 ' ' 1\n",
       "\n",
       "Residual standard error: 0.848 on 155 degrees of freedom\n",
       "Multiple R-squared:  0.3444,\tAdjusted R-squared:  0.2809 \n",
       "F-statistic: 5.427 on 15 and 155 DF,  p-value: 9.893e-09\n"
      ]
     },
     "metadata": {},
     "output_type": "display_data"
    }
   ],
   "source": [
    "model_rdm = read.csv('output_data/models_rdm/categorical/hpp_dissim_dist.csv',\n",
    "                    row.names =1, check.names = FALSE)\n",
    "model_rdm = model_rdm[regions_order,regions_order]\n",
    "model_rdm_array = lowerTriangle(model_rdm)\n",
    "\n",
    "x <- do.call(cbind,lapply(variables,function(x) lowerTriangle(x))) # generate permuted predictors\n",
    "colnames(x) = variables_names\n",
    "culture_regress_standard <- lm(scale(model_rdm_array)~scale(x))\n",
    "culture_regress_standard_model <- summary(culture_regress_standard)\n",
    "culture_regress_standard_model\n",
    "\n",
    "write.csv(culture_regress_standard_model$coefficients,\n",
    " file='output_data/beta_sub/check_size/hpp_33d.csv')\n",
    "categorical_regression = culture_regress_standard_model"
   ]
  },
  {
   "cell_type": "markdown",
   "id": "07e35a6c",
   "metadata": {},
   "source": [
    "## permutation"
   ]
  },
  {
   "cell_type": "code",
   "execution_count": 12,
   "id": "2b4ab105",
   "metadata": {
    "ExecuteTime": {
     "end_time": "2023-01-08T13:27:12.697880Z",
     "start_time": "2023-01-08T13:24:53.926Z"
    }
   },
   "outputs": [
    {
     "name": "stdout",
     "output_type": "stream",
     "text": [
      "[1] \"fstats: 5.42734518840601\"\n",
      "[1] \"r2stats: 0.344359868829242\"\n",
      "[1] 10000\n",
      "[1] \"permf_pvals 0.0863\"\n"
     ]
    },
    {
     "data": {
      "text/html": [
       "<table class=\"dataframe\">\n",
       "<caption>A data.frame: 1 × 15</caption>\n",
       "<thead>\n",
       "\t<tr><th scope=col>Lexical</th><th scope=col>personality_all</th><th scope=col>Coordinate</th><th scope=col>Climatic_demands</th><th scope=col>subsistence</th><th scope=col>disease</th><th scope=col>urban</th><th scope=col>wealth</th><th scope=col>edu</th><th scope=col>Hofstede_6D</th><th scope=col>new_gendist_weighted</th><th scope=col>religion_per</th><th scope=col>idealogy</th><th scope=col>demographics</th><th scope=col>check_size</th></tr>\n",
       "\t<tr><th scope=col>&lt;dbl&gt;</th><th scope=col>&lt;dbl&gt;</th><th scope=col>&lt;dbl&gt;</th><th scope=col>&lt;dbl&gt;</th><th scope=col>&lt;dbl&gt;</th><th scope=col>&lt;dbl&gt;</th><th scope=col>&lt;dbl&gt;</th><th scope=col>&lt;dbl&gt;</th><th scope=col>&lt;dbl&gt;</th><th scope=col>&lt;dbl&gt;</th><th scope=col>&lt;dbl&gt;</th><th scope=col>&lt;dbl&gt;</th><th scope=col>&lt;dbl&gt;</th><th scope=col>&lt;dbl&gt;</th><th scope=col>&lt;dbl&gt;</th></tr>\n",
       "</thead>\n",
       "<tbody>\n",
       "\t<tr><td>0.2361</td><td>0.3395</td><td>0.8658</td><td>0.1309</td><td>0.4069</td><td>0.6193</td><td>0.0422</td><td>0.1372</td><td>0.3656</td><td>0.717</td><td>0.5374</td><td>0.0196</td><td>0.6428</td><td>0.9859</td><td>0.7227</td></tr>\n",
       "</tbody>\n",
       "</table>\n"
      ],
      "text/latex": [
       "A data.frame: 1 × 15\n",
       "\\begin{tabular}{lllllllllllllll}\n",
       " Lexical & personality\\_all & Coordinate & Climatic\\_demands & subsistence & disease & urban & wealth & edu & Hofstede\\_6D & new\\_gendist\\_weighted & religion\\_per & idealogy & demographics & check\\_size\\\\\n",
       " <dbl> & <dbl> & <dbl> & <dbl> & <dbl> & <dbl> & <dbl> & <dbl> & <dbl> & <dbl> & <dbl> & <dbl> & <dbl> & <dbl> & <dbl>\\\\\n",
       "\\hline\n",
       "\t 0.2361 & 0.3395 & 0.8658 & 0.1309 & 0.4069 & 0.6193 & 0.0422 & 0.1372 & 0.3656 & 0.717 & 0.5374 & 0.0196 & 0.6428 & 0.9859 & 0.7227\\\\\n",
       "\\end{tabular}\n"
      ],
      "text/markdown": [
       "\n",
       "A data.frame: 1 × 15\n",
       "\n",
       "| Lexical &lt;dbl&gt; | personality_all &lt;dbl&gt; | Coordinate &lt;dbl&gt; | Climatic_demands &lt;dbl&gt; | subsistence &lt;dbl&gt; | disease &lt;dbl&gt; | urban &lt;dbl&gt; | wealth &lt;dbl&gt; | edu &lt;dbl&gt; | Hofstede_6D &lt;dbl&gt; | new_gendist_weighted &lt;dbl&gt; | religion_per &lt;dbl&gt; | idealogy &lt;dbl&gt; | demographics &lt;dbl&gt; | check_size &lt;dbl&gt; |\n",
       "|---|---|---|---|---|---|---|---|---|---|---|---|---|---|---|\n",
       "| 0.2361 | 0.3395 | 0.8658 | 0.1309 | 0.4069 | 0.6193 | 0.0422 | 0.1372 | 0.3656 | 0.717 | 0.5374 | 0.0196 | 0.6428 | 0.9859 | 0.7227 |\n",
       "\n"
      ],
      "text/plain": [
       "  Lexical personality_all Coordinate Climatic_demands subsistence disease\n",
       "1 0.2361  0.3395          0.8658     0.1309           0.4069      0.6193 \n",
       "  urban  wealth edu    Hofstede_6D new_gendist_weighted religion_per idealogy\n",
       "1 0.0422 0.1372 0.3656 0.717       0.5374               0.0196       0.6428  \n",
       "  demographics check_size\n",
       "1 0.9859       0.7227    "
      ]
     },
     "metadata": {},
     "output_type": "display_data"
    }
   ],
   "source": [
    "p_value_sub = permutation_result(categorical_regression)\n",
    "p_value_sub\n",
    "write.csv(p_value_sub,'output_data/p_value_sub/check_size/hpp_33d.csv')"
   ]
  },
  {
   "cell_type": "markdown",
   "id": "90e472ce",
   "metadata": {},
   "source": [
    "# Dimensional: single dimension"
   ]
  },
  {
   "cell_type": "markdown",
   "id": "f1a21f44",
   "metadata": {},
   "source": [
    "## Formality"
   ]
  },
  {
   "cell_type": "code",
   "execution_count": 13,
   "id": "8aa6111e",
   "metadata": {
    "ExecuteTime": {
     "end_time": "2023-01-08T13:27:59.248507Z",
     "start_time": "2023-01-08T13:24:54.177Z"
    }
   },
   "outputs": [
    {
     "data": {
      "text/plain": [
       "\n",
       "Call:\n",
       "lm(formula = scale(model_rdm_array) ~ scale(x))\n",
       "\n",
       "Residuals:\n",
       "    Min      1Q  Median      3Q     Max \n",
       "-1.7808 -0.4884  0.0553  0.4620  2.5535 \n",
       "\n",
       "Coefficients:\n",
       "                               Estimate Std. Error t value Pr(>|t|)    \n",
       "(Intercept)                  -1.661e-16  5.933e-02   0.000  1.00000    \n",
       "scale(x)Lexical               4.241e-02  7.899e-02   0.537  0.59211    \n",
       "scale(x)personality_all       4.063e-02  6.922e-02   0.587  0.55808    \n",
       "scale(x)Coordinate           -1.960e-01  7.271e-02  -2.696  0.00779 ** \n",
       "scale(x)Climatic_demands      1.131e-01  6.802e-02   1.663  0.09842 .  \n",
       "scale(x)subsistence          -6.169e-02  6.957e-02  -0.887  0.37662    \n",
       "scale(x)disease              -1.104e-01  6.964e-02  -1.586  0.11483    \n",
       "scale(x)urban                 1.256e-01  7.370e-02   1.704  0.09034 .  \n",
       "scale(x)wealth               -1.865e-01  7.359e-02  -2.535  0.01223 *  \n",
       "scale(x)edu                   1.502e-01  6.674e-02   2.251  0.02581 *  \n",
       "scale(x)Hofstede_6D          -6.646e-02  7.678e-02  -0.866  0.38804    \n",
       "scale(x)new_gendist_weighted -1.603e-01  7.954e-02  -2.015  0.04564 *  \n",
       "scale(x)religion_per          4.096e-01  9.330e-02   4.390 2.09e-05 ***\n",
       "scale(x)idealogy             -6.322e-02  6.637e-02  -0.953  0.34232    \n",
       "scale(x)demographics         -2.856e-02  7.139e-02  -0.400  0.68967    \n",
       "scale(x)check_size            2.075e-01  6.376e-02   3.254  0.00140 ** \n",
       "---\n",
       "Signif. codes:  0 '***' 0.001 '**' 0.01 '*' 0.05 '.' 0.1 ' ' 1\n",
       "\n",
       "Residual standard error: 0.7758 on 155 degrees of freedom\n",
       "Multiple R-squared:  0.4512,\tAdjusted R-squared:  0.3981 \n",
       "F-statistic: 8.496 on 15 and 155 DF,  p-value: 5.535e-14\n"
      ]
     },
     "metadata": {},
     "output_type": "display_data"
    },
    {
     "name": "stdout",
     "output_type": "stream",
     "text": [
      "[1] \"fstats: 8.49629151731358\"\n",
      "[1] \"r2stats: 0.451219372913937\"\n",
      "[1] 10000\n",
      "[1] \"permf_pvals 0.0163\"\n"
     ]
    },
    {
     "data": {
      "text/html": [
       "<table class=\"dataframe\">\n",
       "<caption>A data.frame: 1 × 15</caption>\n",
       "<thead>\n",
       "\t<tr><th scope=col>Lexical</th><th scope=col>personality_all</th><th scope=col>Coordinate</th><th scope=col>Climatic_demands</th><th scope=col>subsistence</th><th scope=col>disease</th><th scope=col>urban</th><th scope=col>wealth</th><th scope=col>edu</th><th scope=col>Hofstede_6D</th><th scope=col>new_gendist_weighted</th><th scope=col>religion_per</th><th scope=col>idealogy</th><th scope=col>demographics</th><th scope=col>check_size</th></tr>\n",
       "\t<tr><th scope=col>&lt;dbl&gt;</th><th scope=col>&lt;dbl&gt;</th><th scope=col>&lt;dbl&gt;</th><th scope=col>&lt;dbl&gt;</th><th scope=col>&lt;dbl&gt;</th><th scope=col>&lt;dbl&gt;</th><th scope=col>&lt;dbl&gt;</th><th scope=col>&lt;dbl&gt;</th><th scope=col>&lt;dbl&gt;</th><th scope=col>&lt;dbl&gt;</th><th scope=col>&lt;dbl&gt;</th><th scope=col>&lt;dbl&gt;</th><th scope=col>&lt;dbl&gt;</th><th scope=col>&lt;dbl&gt;</th><th scope=col>&lt;dbl&gt;</th></tr>\n",
       "</thead>\n",
       "<tbody>\n",
       "\t<tr><td>0.3793</td><td>0.383</td><td>0.9204</td><td>0.2518</td><td>0.6774</td><td>0.9006</td><td>0.2257</td><td>0.9489</td><td>0.1448</td><td>0.6552</td><td>0.7645</td><td>0.0029</td><td>0.6816</td><td>0.5632</td><td>0.0883</td></tr>\n",
       "</tbody>\n",
       "</table>\n"
      ],
      "text/latex": [
       "A data.frame: 1 × 15\n",
       "\\begin{tabular}{lllllllllllllll}\n",
       " Lexical & personality\\_all & Coordinate & Climatic\\_demands & subsistence & disease & urban & wealth & edu & Hofstede\\_6D & new\\_gendist\\_weighted & religion\\_per & idealogy & demographics & check\\_size\\\\\n",
       " <dbl> & <dbl> & <dbl> & <dbl> & <dbl> & <dbl> & <dbl> & <dbl> & <dbl> & <dbl> & <dbl> & <dbl> & <dbl> & <dbl> & <dbl>\\\\\n",
       "\\hline\n",
       "\t 0.3793 & 0.383 & 0.9204 & 0.2518 & 0.6774 & 0.9006 & 0.2257 & 0.9489 & 0.1448 & 0.6552 & 0.7645 & 0.0029 & 0.6816 & 0.5632 & 0.0883\\\\\n",
       "\\end{tabular}\n"
      ],
      "text/markdown": [
       "\n",
       "A data.frame: 1 × 15\n",
       "\n",
       "| Lexical &lt;dbl&gt; | personality_all &lt;dbl&gt; | Coordinate &lt;dbl&gt; | Climatic_demands &lt;dbl&gt; | subsistence &lt;dbl&gt; | disease &lt;dbl&gt; | urban &lt;dbl&gt; | wealth &lt;dbl&gt; | edu &lt;dbl&gt; | Hofstede_6D &lt;dbl&gt; | new_gendist_weighted &lt;dbl&gt; | religion_per &lt;dbl&gt; | idealogy &lt;dbl&gt; | demographics &lt;dbl&gt; | check_size &lt;dbl&gt; |\n",
       "|---|---|---|---|---|---|---|---|---|---|---|---|---|---|---|\n",
       "| 0.3793 | 0.383 | 0.9204 | 0.2518 | 0.6774 | 0.9006 | 0.2257 | 0.9489 | 0.1448 | 0.6552 | 0.7645 | 0.0029 | 0.6816 | 0.5632 | 0.0883 |\n",
       "\n"
      ],
      "text/plain": [
       "  Lexical personality_all Coordinate Climatic_demands subsistence disease\n",
       "1 0.3793  0.383           0.9204     0.2518           0.6774      0.9006 \n",
       "  urban  wealth edu    Hofstede_6D new_gendist_weighted religion_per idealogy\n",
       "1 0.2257 0.9489 0.1448 0.6552      0.7645               0.0029       0.6816  \n",
       "  demographics check_size\n",
       "1 0.5632       0.0883    "
      ]
     },
     "metadata": {},
     "output_type": "display_data"
    }
   ],
   "source": [
    "# 1.regression coefficient\n",
    "model_rdm = read.csv('output_data/models_rdm/dimensional/formality_dissim_dist.csv',\n",
    "                    row.names =1, check.names = FALSE)\n",
    "model_rdm = model_rdm[regions_order,regions_order]\n",
    "model_rdm_array = lowerTriangle(model_rdm)\n",
    "\n",
    "x <- do.call(cbind,lapply(variables,function(x) lowerTriangle(x))) # generate permuted predictors\n",
    "colnames(x) = variables_names\n",
    "culture_regress_standard <- lm(scale(model_rdm_array)~scale(x))\n",
    "culture_regress_standard_model <- summary(culture_regress_standard)\n",
    "culture_regress_standard_model\n",
    "\n",
    "write.csv(culture_regress_standard_model$coefficients,\n",
    " file='output_data/beta_sub/check_size/formality_33d.csv')\n",
    "formality_regression = culture_regress_standard_model\n",
    "\n",
    "# 2.permutation\n",
    "p_value_sub = permutation_result(formality_regression)\n",
    "p_value_sub\n",
    "write.csv(p_value_sub,'output_data/p_value_sub/check_size/formality_33d.csv')"
   ]
  },
  {
   "cell_type": "markdown",
   "id": "54d736c2",
   "metadata": {},
   "source": [
    "## Activeness"
   ]
  },
  {
   "cell_type": "code",
   "execution_count": 14,
   "id": "c76ed67e",
   "metadata": {
    "ExecuteTime": {
     "end_time": "2023-01-08T13:28:45.972448Z",
     "start_time": "2023-01-08T13:24:54.318Z"
    }
   },
   "outputs": [
    {
     "data": {
      "text/plain": [
       "\n",
       "Call:\n",
       "lm(formula = scale(model_rdm_array) ~ scale(x))\n",
       "\n",
       "Residuals:\n",
       "     Min       1Q   Median       3Q      Max \n",
       "-2.48112 -0.47197  0.05449  0.54476  2.10426 \n",
       "\n",
       "Coefficients:\n",
       "                               Estimate Std. Error t value Pr(>|t|)    \n",
       "(Intercept)                   6.782e-16  6.452e-02   0.000   1.0000    \n",
       "scale(x)Lexical               1.523e-01  8.591e-02   1.772   0.0783 .  \n",
       "scale(x)personality_all       1.033e-01  7.528e-02   1.372   0.1720    \n",
       "scale(x)Coordinate           -9.372e-02  7.908e-02  -1.185   0.2377    \n",
       "scale(x)Climatic_demands      8.753e-02  7.398e-02   1.183   0.2385    \n",
       "scale(x)subsistence          -1.588e-02  7.566e-02  -0.210   0.8340    \n",
       "scale(x)disease              -7.670e-02  7.574e-02  -1.013   0.3128    \n",
       "scale(x)urban                 3.267e-01  8.015e-02   4.077 7.28e-05 ***\n",
       "scale(x)wealth               -1.016e-01  8.003e-02  -1.269   0.2063    \n",
       "scale(x)edu                   1.430e-01  7.258e-02   1.970   0.0506 .  \n",
       "scale(x)Hofstede_6D          -7.703e-02  8.350e-02  -0.923   0.3577    \n",
       "scale(x)new_gendist_weighted -3.084e-02  8.651e-02  -0.357   0.7219    \n",
       "scale(x)religion_per          2.461e-01  1.015e-01   2.425   0.0165 *  \n",
       "scale(x)idealogy             -9.404e-02  7.218e-02  -1.303   0.1945    \n",
       "scale(x)demographics          2.368e-02  7.764e-02   0.305   0.7608    \n",
       "scale(x)check_size           -2.615e-02  6.935e-02  -0.377   0.7066    \n",
       "---\n",
       "Signif. codes:  0 '***' 0.001 '**' 0.01 '*' 0.05 '.' 0.1 ' ' 1\n",
       "\n",
       "Residual standard error: 0.8438 on 155 degrees of freedom\n",
       "Multiple R-squared:  0.3509,\tAdjusted R-squared:  0.2881 \n",
       "F-statistic: 5.586 on 15 and 155 DF,  p-value: 5.122e-09\n"
      ]
     },
     "metadata": {},
     "output_type": "display_data"
    },
    {
     "name": "stdout",
     "output_type": "stream",
     "text": [
      "[1] \"fstats: 5.58580987310032\"\n",
      "[1] \"r2stats: 0.350886338584029\"\n",
      "[1] 10000\n",
      "[1] \"permf_pvals 0.0477\"\n"
     ]
    },
    {
     "data": {
      "text/html": [
       "<table class=\"dataframe\">\n",
       "<caption>A data.frame: 1 × 15</caption>\n",
       "<thead>\n",
       "\t<tr><th scope=col>Lexical</th><th scope=col>personality_all</th><th scope=col>Coordinate</th><th scope=col>Climatic_demands</th><th scope=col>subsistence</th><th scope=col>disease</th><th scope=col>urban</th><th scope=col>wealth</th><th scope=col>edu</th><th scope=col>Hofstede_6D</th><th scope=col>new_gendist_weighted</th><th scope=col>religion_per</th><th scope=col>idealogy</th><th scope=col>demographics</th><th scope=col>check_size</th></tr>\n",
       "\t<tr><th scope=col>&lt;dbl&gt;</th><th scope=col>&lt;dbl&gt;</th><th scope=col>&lt;dbl&gt;</th><th scope=col>&lt;dbl&gt;</th><th scope=col>&lt;dbl&gt;</th><th scope=col>&lt;dbl&gt;</th><th scope=col>&lt;dbl&gt;</th><th scope=col>&lt;dbl&gt;</th><th scope=col>&lt;dbl&gt;</th><th scope=col>&lt;dbl&gt;</th><th scope=col>&lt;dbl&gt;</th><th scope=col>&lt;dbl&gt;</th><th scope=col>&lt;dbl&gt;</th><th scope=col>&lt;dbl&gt;</th><th scope=col>&lt;dbl&gt;</th></tr>\n",
       "</thead>\n",
       "<tbody>\n",
       "\t<tr><td>0.1271</td><td>0.2644</td><td>0.7492</td><td>0.2933</td><td>0.5307</td><td>0.8111</td><td>0.0248</td><td>0.7922</td><td>0.1345</td><td>0.6954</td><td>0.5389</td><td>0.0503</td><td>0.787</td><td>0.4214</td><td>0.562</td></tr>\n",
       "</tbody>\n",
       "</table>\n"
      ],
      "text/latex": [
       "A data.frame: 1 × 15\n",
       "\\begin{tabular}{lllllllllllllll}\n",
       " Lexical & personality\\_all & Coordinate & Climatic\\_demands & subsistence & disease & urban & wealth & edu & Hofstede\\_6D & new\\_gendist\\_weighted & religion\\_per & idealogy & demographics & check\\_size\\\\\n",
       " <dbl> & <dbl> & <dbl> & <dbl> & <dbl> & <dbl> & <dbl> & <dbl> & <dbl> & <dbl> & <dbl> & <dbl> & <dbl> & <dbl> & <dbl>\\\\\n",
       "\\hline\n",
       "\t 0.1271 & 0.2644 & 0.7492 & 0.2933 & 0.5307 & 0.8111 & 0.0248 & 0.7922 & 0.1345 & 0.6954 & 0.5389 & 0.0503 & 0.787 & 0.4214 & 0.562\\\\\n",
       "\\end{tabular}\n"
      ],
      "text/markdown": [
       "\n",
       "A data.frame: 1 × 15\n",
       "\n",
       "| Lexical &lt;dbl&gt; | personality_all &lt;dbl&gt; | Coordinate &lt;dbl&gt; | Climatic_demands &lt;dbl&gt; | subsistence &lt;dbl&gt; | disease &lt;dbl&gt; | urban &lt;dbl&gt; | wealth &lt;dbl&gt; | edu &lt;dbl&gt; | Hofstede_6D &lt;dbl&gt; | new_gendist_weighted &lt;dbl&gt; | religion_per &lt;dbl&gt; | idealogy &lt;dbl&gt; | demographics &lt;dbl&gt; | check_size &lt;dbl&gt; |\n",
       "|---|---|---|---|---|---|---|---|---|---|---|---|---|---|---|\n",
       "| 0.1271 | 0.2644 | 0.7492 | 0.2933 | 0.5307 | 0.8111 | 0.0248 | 0.7922 | 0.1345 | 0.6954 | 0.5389 | 0.0503 | 0.787 | 0.4214 | 0.562 |\n",
       "\n"
      ],
      "text/plain": [
       "  Lexical personality_all Coordinate Climatic_demands subsistence disease\n",
       "1 0.1271  0.2644          0.7492     0.2933           0.5307      0.8111 \n",
       "  urban  wealth edu    Hofstede_6D new_gendist_weighted religion_per idealogy\n",
       "1 0.0248 0.7922 0.1345 0.6954      0.5389               0.0503       0.787   \n",
       "  demographics check_size\n",
       "1 0.4214       0.562     "
      ]
     },
     "metadata": {},
     "output_type": "display_data"
    }
   ],
   "source": [
    "# 1.regression coefficient\n",
    "model_rdm = read.csv('output_data/models_rdm/dimensional/activeness_dissim_dist.csv',\n",
    "                    row.names =1, check.names = FALSE)\n",
    "model_rdm = model_rdm[regions_order,regions_order]\n",
    "model_rdm_array = lowerTriangle(model_rdm)\n",
    "\n",
    "x <- do.call(cbind,lapply(variables,function(x) lowerTriangle(x))) # generate permuted predictors\n",
    "colnames(x) = variables_names\n",
    "culture_regress_standard <- lm(scale(model_rdm_array)~scale(x))\n",
    "culture_regress_standard_model <- summary(culture_regress_standard)\n",
    "culture_regress_standard_model\n",
    "\n",
    "write.csv(culture_regress_standard_model$coefficients,\n",
    " file='output_data/beta_sub/check_size/activeness_33d.csv')\n",
    "activeness_regression = culture_regress_standard_model\n",
    "\n",
    "# 2.permutation\n",
    "p_value_sub = permutation_result(activeness_regression)\n",
    "p_value_sub\n",
    "write.csv(p_value_sub,'output_data/p_value_sub/check_size/activeness_33d.csv')                         "
   ]
  },
  {
   "cell_type": "markdown",
   "id": "41bd4acc",
   "metadata": {},
   "source": [
    "## Valence"
   ]
  },
  {
   "cell_type": "code",
   "execution_count": 15,
   "id": "f4f8de88",
   "metadata": {
    "ExecuteTime": {
     "end_time": "2023-01-08T13:29:33.765482Z",
     "start_time": "2023-01-08T13:24:54.439Z"
    }
   },
   "outputs": [
    {
     "data": {
      "text/plain": [
       "\n",
       "Call:\n",
       "lm(formula = scale(model_rdm_array) ~ scale(x))\n",
       "\n",
       "Residuals:\n",
       "     Min       1Q   Median       3Q      Max \n",
       "-1.80856 -0.56380 -0.04253  0.51885  2.12874 \n",
       "\n",
       "Coefficients:\n",
       "                               Estimate Std. Error t value Pr(>|t|)    \n",
       "(Intercept)                   2.866e-16  6.409e-02   0.000 1.000000    \n",
       "scale(x)Lexical              -5.548e-02  8.533e-02  -0.650 0.516561    \n",
       "scale(x)personality_all       1.116e-01  7.478e-02   1.493 0.137472    \n",
       "scale(x)Coordinate           -6.368e-02  7.855e-02  -0.811 0.418799    \n",
       "scale(x)Climatic_demands      2.047e-01  7.348e-02   2.785 0.006017 ** \n",
       "scale(x)subsistence          -1.797e-01  7.516e-02  -2.392 0.017978 *  \n",
       "scale(x)disease              -9.843e-02  7.523e-02  -1.308 0.192689    \n",
       "scale(x)urban                 3.025e-01  7.961e-02   3.799 0.000208 ***\n",
       "scale(x)wealth               -5.598e-02  7.950e-02  -0.704 0.482345    \n",
       "scale(x)edu                   1.585e-01  7.210e-02   2.198 0.029422 *  \n",
       "scale(x)Hofstede_6D          -1.499e-01  8.294e-02  -1.807 0.072628 .  \n",
       "scale(x)new_gendist_weighted  8.332e-02  8.593e-02   0.970 0.333715    \n",
       "scale(x)religion_per          2.028e-01  1.008e-01   2.012 0.045913 *  \n",
       "scale(x)idealogy             -6.559e-02  7.170e-02  -0.915 0.361705    \n",
       "scale(x)demographics          1.354e-01  7.712e-02   1.755 0.081223 .  \n",
       "scale(x)check_size           -2.594e-02  6.888e-02  -0.377 0.706961    \n",
       "---\n",
       "Signif. codes:  0 '***' 0.001 '**' 0.01 '*' 0.05 '.' 0.1 ' ' 1\n",
       "\n",
       "Residual standard error: 0.8381 on 155 degrees of freedom\n",
       "Multiple R-squared:  0.3596,\tAdjusted R-squared:  0.2976 \n",
       "F-statistic: 5.801 on 15 and 155 DF,  p-value: 2.103e-09\n"
      ]
     },
     "metadata": {},
     "output_type": "display_data"
    },
    {
     "name": "stdout",
     "output_type": "stream",
     "text": [
      "[1] \"fstats: 5.80144767494239\"\n",
      "[1] \"r2stats: 0.359561599997345\"\n",
      "[1] 10000\n",
      "[1] \"permf_pvals 0.22\"\n"
     ]
    },
    {
     "data": {
      "text/html": [
       "<table class=\"dataframe\">\n",
       "<caption>A data.frame: 1 × 15</caption>\n",
       "<thead>\n",
       "\t<tr><th scope=col>Lexical</th><th scope=col>personality_all</th><th scope=col>Coordinate</th><th scope=col>Climatic_demands</th><th scope=col>subsistence</th><th scope=col>disease</th><th scope=col>urban</th><th scope=col>wealth</th><th scope=col>edu</th><th scope=col>Hofstede_6D</th><th scope=col>new_gendist_weighted</th><th scope=col>religion_per</th><th scope=col>idealogy</th><th scope=col>demographics</th><th scope=col>check_size</th></tr>\n",
       "\t<tr><th scope=col>&lt;dbl&gt;</th><th scope=col>&lt;dbl&gt;</th><th scope=col>&lt;dbl&gt;</th><th scope=col>&lt;dbl&gt;</th><th scope=col>&lt;dbl&gt;</th><th scope=col>&lt;dbl&gt;</th><th scope=col>&lt;dbl&gt;</th><th scope=col>&lt;dbl&gt;</th><th scope=col>&lt;dbl&gt;</th><th scope=col>&lt;dbl&gt;</th><th scope=col>&lt;dbl&gt;</th><th scope=col>&lt;dbl&gt;</th><th scope=col>&lt;dbl&gt;</th><th scope=col>&lt;dbl&gt;</th><th scope=col>&lt;dbl&gt;</th></tr>\n",
       "</thead>\n",
       "<tbody>\n",
       "\t<tr><td>0.6552</td><td>0.2576</td><td>0.6437</td><td>0.1572</td><td>0.9088</td><td>0.8814</td><td>0.0534</td><td>0.6442</td><td>0.1435</td><td>0.8216</td><td>0.3257</td><td>0.1014</td><td>0.6822</td><td>0.1888</td><td>0.5507</td></tr>\n",
       "</tbody>\n",
       "</table>\n"
      ],
      "text/latex": [
       "A data.frame: 1 × 15\n",
       "\\begin{tabular}{lllllllllllllll}\n",
       " Lexical & personality\\_all & Coordinate & Climatic\\_demands & subsistence & disease & urban & wealth & edu & Hofstede\\_6D & new\\_gendist\\_weighted & religion\\_per & idealogy & demographics & check\\_size\\\\\n",
       " <dbl> & <dbl> & <dbl> & <dbl> & <dbl> & <dbl> & <dbl> & <dbl> & <dbl> & <dbl> & <dbl> & <dbl> & <dbl> & <dbl> & <dbl>\\\\\n",
       "\\hline\n",
       "\t 0.6552 & 0.2576 & 0.6437 & 0.1572 & 0.9088 & 0.8814 & 0.0534 & 0.6442 & 0.1435 & 0.8216 & 0.3257 & 0.1014 & 0.6822 & 0.1888 & 0.5507\\\\\n",
       "\\end{tabular}\n"
      ],
      "text/markdown": [
       "\n",
       "A data.frame: 1 × 15\n",
       "\n",
       "| Lexical &lt;dbl&gt; | personality_all &lt;dbl&gt; | Coordinate &lt;dbl&gt; | Climatic_demands &lt;dbl&gt; | subsistence &lt;dbl&gt; | disease &lt;dbl&gt; | urban &lt;dbl&gt; | wealth &lt;dbl&gt; | edu &lt;dbl&gt; | Hofstede_6D &lt;dbl&gt; | new_gendist_weighted &lt;dbl&gt; | religion_per &lt;dbl&gt; | idealogy &lt;dbl&gt; | demographics &lt;dbl&gt; | check_size &lt;dbl&gt; |\n",
       "|---|---|---|---|---|---|---|---|---|---|---|---|---|---|---|\n",
       "| 0.6552 | 0.2576 | 0.6437 | 0.1572 | 0.9088 | 0.8814 | 0.0534 | 0.6442 | 0.1435 | 0.8216 | 0.3257 | 0.1014 | 0.6822 | 0.1888 | 0.5507 |\n",
       "\n"
      ],
      "text/plain": [
       "  Lexical personality_all Coordinate Climatic_demands subsistence disease\n",
       "1 0.6552  0.2576          0.6437     0.1572           0.9088      0.8814 \n",
       "  urban  wealth edu    Hofstede_6D new_gendist_weighted religion_per idealogy\n",
       "1 0.0534 0.6442 0.1435 0.8216      0.3257               0.1014       0.6822  \n",
       "  demographics check_size\n",
       "1 0.1888       0.5507    "
      ]
     },
     "metadata": {},
     "output_type": "display_data"
    }
   ],
   "source": [
    "# 1.regression coefficient\n",
    "model_rdm = read.csv('output_data/models_rdm/dimensional/valence_dissim_dist.csv',\n",
    "                    row.names =1, check.names = FALSE)\n",
    "model_rdm = model_rdm[regions_order,regions_order]\n",
    "model_rdm_array = lowerTriangle(model_rdm)\n",
    "\n",
    "x <- do.call(cbind,lapply(variables,function(x) lowerTriangle(x))) # generate permuted predictors\n",
    "colnames(x) = variables_names\n",
    "culture_regress_standard <- lm(scale(model_rdm_array)~scale(x))\n",
    "culture_regress_standard_model <- summary(culture_regress_standard)\n",
    "culture_regress_standard_model\n",
    "\n",
    "write.csv(culture_regress_standard_model$coefficients,\n",
    " file='output_data/beta_sub/check_size/valence_33d.csv')\n",
    "valence_regression = culture_regress_standard_model\n",
    "\n",
    "# 2.permutation\n",
    "p_value_sub = permutation_result(valence_regression)\n",
    "p_value_sub\n",
    "write.csv(p_value_sub,'output_data/p_value_sub/check_size/valence_33d.csv')                          "
   ]
  },
  {
   "cell_type": "markdown",
   "id": "ec719acf",
   "metadata": {},
   "source": [
    "## Exchange"
   ]
  },
  {
   "cell_type": "code",
   "execution_count": 16,
   "id": "ae8b1d09",
   "metadata": {
    "ExecuteTime": {
     "end_time": "2023-01-08T13:30:23.170535Z",
     "start_time": "2023-01-08T13:24:54.562Z"
    }
   },
   "outputs": [
    {
     "data": {
      "text/plain": [
       "\n",
       "Call:\n",
       "lm(formula = scale(model_rdm_array) ~ scale(x))\n",
       "\n",
       "Residuals:\n",
       "     Min       1Q   Median       3Q      Max \n",
       "-2.09004 -0.59545 -0.06066  0.57605  2.10649 \n",
       "\n",
       "Coefficients:\n",
       "                               Estimate Std. Error t value Pr(>|t|)    \n",
       "(Intercept)                   4.815e-16  6.960e-02   0.000 1.000000    \n",
       "scale(x)Lexical               5.133e-02  9.266e-02   0.554 0.580410    \n",
       "scale(x)personality_all      -7.627e-02  8.120e-02  -0.939 0.349032    \n",
       "scale(x)Coordinate           -4.903e-02  8.529e-02  -0.575 0.566250    \n",
       "scale(x)Climatic_demands      1.989e-02  7.979e-02   0.249 0.803507    \n",
       "scale(x)subsistence           6.305e-02  8.161e-02   0.773 0.440925    \n",
       "scale(x)disease              -4.558e-03  8.169e-02  -0.056 0.955579    \n",
       "scale(x)urban                 2.978e-01  8.645e-02   3.445 0.000736 ***\n",
       "scale(x)wealth               -3.702e-02  8.632e-02  -0.429 0.668611    \n",
       "scale(x)edu                   1.407e-01  7.829e-02   1.797 0.074268 .  \n",
       "scale(x)Hofstede_6D          -7.099e-03  9.006e-02  -0.079 0.937278    \n",
       "scale(x)new_gendist_weighted -2.045e-01  9.331e-02  -2.191 0.029926 *  \n",
       "scale(x)religion_per          1.541e-01  1.095e-01   1.408 0.161071    \n",
       "scale(x)idealogy             -1.897e-01  7.785e-02  -2.436 0.015979 *  \n",
       "scale(x)demographics          3.226e-02  8.375e-02   0.385 0.700641    \n",
       "scale(x)check_size           -8.385e-02  7.480e-02  -1.121 0.264011    \n",
       "---\n",
       "Signif. codes:  0 '***' 0.001 '**' 0.01 '*' 0.05 '.' 0.1 ' ' 1\n",
       "\n",
       "Residual standard error: 0.9101 on 155 degrees of freedom\n",
       "Multiple R-squared:  0.2448,\tAdjusted R-squared:  0.1718 \n",
       "F-statistic:  3.35 on 15 and 155 DF,  p-value: 6.876e-05\n"
      ]
     },
     "metadata": {},
     "output_type": "display_data"
    },
    {
     "name": "stdout",
     "output_type": "stream",
     "text": [
      "[1] \"fstats: 3.35041127331621\"\n",
      "[1] \"r2stats: 0.244846083409661\"\n",
      "[1] 10000\n",
      "[1] \"permf_pvals 0.6225\"\n"
     ]
    },
    {
     "data": {
      "text/html": [
       "<table class=\"dataframe\">\n",
       "<caption>A data.frame: 1 × 15</caption>\n",
       "<thead>\n",
       "\t<tr><th scope=col>Lexical</th><th scope=col>personality_all</th><th scope=col>Coordinate</th><th scope=col>Climatic_demands</th><th scope=col>subsistence</th><th scope=col>disease</th><th scope=col>urban</th><th scope=col>wealth</th><th scope=col>edu</th><th scope=col>Hofstede_6D</th><th scope=col>new_gendist_weighted</th><th scope=col>religion_per</th><th scope=col>idealogy</th><th scope=col>demographics</th><th scope=col>check_size</th></tr>\n",
       "\t<tr><th scope=col>&lt;dbl&gt;</th><th scope=col>&lt;dbl&gt;</th><th scope=col>&lt;dbl&gt;</th><th scope=col>&lt;dbl&gt;</th><th scope=col>&lt;dbl&gt;</th><th scope=col>&lt;dbl&gt;</th><th scope=col>&lt;dbl&gt;</th><th scope=col>&lt;dbl&gt;</th><th scope=col>&lt;dbl&gt;</th><th scope=col>&lt;dbl&gt;</th><th scope=col>&lt;dbl&gt;</th><th scope=col>&lt;dbl&gt;</th><th scope=col>&lt;dbl&gt;</th><th scope=col>&lt;dbl&gt;</th><th scope=col>&lt;dbl&gt;</th></tr>\n",
       "</thead>\n",
       "<tbody>\n",
       "\t<tr><td>0.3536</td><td>0.6247</td><td>0.6073</td><td>0.3821</td><td>0.3111</td><td>0.5076</td><td>0.0519</td><td>0.5904</td><td>0.1643</td><td>0.5174</td><td>0.8285</td><td>0.1625</td><td>0.9447</td><td>0.3955</td><td>0.6915</td></tr>\n",
       "</tbody>\n",
       "</table>\n"
      ],
      "text/latex": [
       "A data.frame: 1 × 15\n",
       "\\begin{tabular}{lllllllllllllll}\n",
       " Lexical & personality\\_all & Coordinate & Climatic\\_demands & subsistence & disease & urban & wealth & edu & Hofstede\\_6D & new\\_gendist\\_weighted & religion\\_per & idealogy & demographics & check\\_size\\\\\n",
       " <dbl> & <dbl> & <dbl> & <dbl> & <dbl> & <dbl> & <dbl> & <dbl> & <dbl> & <dbl> & <dbl> & <dbl> & <dbl> & <dbl> & <dbl>\\\\\n",
       "\\hline\n",
       "\t 0.3536 & 0.6247 & 0.6073 & 0.3821 & 0.3111 & 0.5076 & 0.0519 & 0.5904 & 0.1643 & 0.5174 & 0.8285 & 0.1625 & 0.9447 & 0.3955 & 0.6915\\\\\n",
       "\\end{tabular}\n"
      ],
      "text/markdown": [
       "\n",
       "A data.frame: 1 × 15\n",
       "\n",
       "| Lexical &lt;dbl&gt; | personality_all &lt;dbl&gt; | Coordinate &lt;dbl&gt; | Climatic_demands &lt;dbl&gt; | subsistence &lt;dbl&gt; | disease &lt;dbl&gt; | urban &lt;dbl&gt; | wealth &lt;dbl&gt; | edu &lt;dbl&gt; | Hofstede_6D &lt;dbl&gt; | new_gendist_weighted &lt;dbl&gt; | religion_per &lt;dbl&gt; | idealogy &lt;dbl&gt; | demographics &lt;dbl&gt; | check_size &lt;dbl&gt; |\n",
       "|---|---|---|---|---|---|---|---|---|---|---|---|---|---|---|\n",
       "| 0.3536 | 0.6247 | 0.6073 | 0.3821 | 0.3111 | 0.5076 | 0.0519 | 0.5904 | 0.1643 | 0.5174 | 0.8285 | 0.1625 | 0.9447 | 0.3955 | 0.6915 |\n",
       "\n"
      ],
      "text/plain": [
       "  Lexical personality_all Coordinate Climatic_demands subsistence disease\n",
       "1 0.3536  0.6247          0.6073     0.3821           0.3111      0.5076 \n",
       "  urban  wealth edu    Hofstede_6D new_gendist_weighted religion_per idealogy\n",
       "1 0.0519 0.5904 0.1643 0.5174      0.8285               0.1625       0.9447  \n",
       "  demographics check_size\n",
       "1 0.3955       0.6915    "
      ]
     },
     "metadata": {},
     "output_type": "display_data"
    }
   ],
   "source": [
    "# 1.regression coefficient\n",
    "model_rdm = read.csv('output_data/models_rdm/dimensional/exchange_dissim_dist.csv',\n",
    "                    row.names =1, check.names = FALSE)\n",
    "model_rdm = model_rdm[regions_order,regions_order]\n",
    "model_rdm_array = lowerTriangle(model_rdm)\n",
    "\n",
    "x <- do.call(cbind,lapply(variables,function(x) lowerTriangle(x))) # generate permuted predictors\n",
    "colnames(x) = variables_names\n",
    "culture_regress_standard <- lm(scale(model_rdm_array)~scale(x))\n",
    "culture_regress_standard_model <- summary(culture_regress_standard)\n",
    "culture_regress_standard_model\n",
    "\n",
    "write.csv(culture_regress_standard_model$coefficients,\n",
    " file='output_data/beta_sub/check_size/exchange_33d.csv')\n",
    "exchange_regression = culture_regress_standard_model\n",
    "\n",
    "# 2.permutation\n",
    "p_value_sub = permutation_result(exchange_regression)\n",
    "p_value_sub\n",
    "write.csv(p_value_sub,'output_data/p_value_sub/check_size/exchange_33d.csv')                         "
   ]
  },
  {
   "cell_type": "markdown",
   "id": "4f61c16f",
   "metadata": {},
   "source": [
    "## Equality"
   ]
  },
  {
   "cell_type": "code",
   "execution_count": 17,
   "id": "a56d9a56",
   "metadata": {
    "ExecuteTime": {
     "end_time": "2023-01-08T13:31:11.728738Z",
     "start_time": "2023-01-08T13:24:54.701Z"
    }
   },
   "outputs": [
    {
     "data": {
      "text/plain": [
       "\n",
       "Call:\n",
       "lm(formula = scale(model_rdm_array) ~ scale(x))\n",
       "\n",
       "Residuals:\n",
       "     Min       1Q   Median       3Q      Max \n",
       "-2.34427 -0.49894  0.06573  0.49834  1.31461 \n",
       "\n",
       "Coefficients:\n",
       "                               Estimate Std. Error t value Pr(>|t|)    \n",
       "(Intercept)                   1.750e-16  5.431e-02   0.000 1.000000    \n",
       "scale(x)Lexical              -9.591e-02  7.231e-02  -1.326 0.186702    \n",
       "scale(x)personality_all       2.967e-01  6.337e-02   4.683 6.14e-06 ***\n",
       "scale(x)Coordinate           -1.433e-01  6.656e-02  -2.153 0.032853 *  \n",
       "scale(x)Climatic_demands      8.970e-02  6.227e-02   1.440 0.151772    \n",
       "scale(x)subsistence          -9.953e-03  6.369e-02  -0.156 0.876019    \n",
       "scale(x)disease              -4.771e-03  6.375e-02  -0.075 0.940439    \n",
       "scale(x)urban                 2.452e-01  6.747e-02   3.635 0.000378 ***\n",
       "scale(x)wealth               -7.718e-02  6.737e-02  -1.146 0.253681    \n",
       "scale(x)edu                   1.302e-01  6.110e-02   2.131 0.034701 *  \n",
       "scale(x)Hofstede_6D          -1.037e-01  7.029e-02  -1.475 0.142226    \n",
       "scale(x)new_gendist_weighted -2.092e-01  7.282e-02  -2.873 0.004638 ** \n",
       "scale(x)religion_per          3.938e-01  8.542e-02   4.610 8.36e-06 ***\n",
       "scale(x)idealogy             -9.198e-02  6.076e-02  -1.514 0.132103    \n",
       "scale(x)demographics          1.193e-01  6.536e-02   1.825 0.069889 .  \n",
       "scale(x)check_size            1.097e-01  5.837e-02   1.879 0.062081 .  \n",
       "---\n",
       "Signif. codes:  0 '***' 0.001 '**' 0.01 '*' 0.05 '.' 0.1 ' ' 1\n",
       "\n",
       "Residual standard error: 0.7102 on 155 degrees of freedom\n",
       "Multiple R-squared:  0.5401,\tAdjusted R-squared:  0.4956 \n",
       "F-statistic: 12.13 on 15 and 155 DF,  p-value: < 2.2e-16\n"
      ]
     },
     "metadata": {},
     "output_type": "display_data"
    },
    {
     "name": "stdout",
     "output_type": "stream",
     "text": [
      "[1] \"fstats: 12.1341047661705\"\n",
      "[1] \"r2stats: 0.540075139516617\"\n",
      "[1] 10000\n",
      "[1] \"permf_pvals 0.0034\"\n"
     ]
    },
    {
     "data": {
      "text/html": [
       "<table class=\"dataframe\">\n",
       "<caption>A data.frame: 1 × 15</caption>\n",
       "<thead>\n",
       "\t<tr><th scope=col>Lexical</th><th scope=col>personality_all</th><th scope=col>Coordinate</th><th scope=col>Climatic_demands</th><th scope=col>subsistence</th><th scope=col>disease</th><th scope=col>urban</th><th scope=col>wealth</th><th scope=col>edu</th><th scope=col>Hofstede_6D</th><th scope=col>new_gendist_weighted</th><th scope=col>religion_per</th><th scope=col>idealogy</th><th scope=col>demographics</th><th scope=col>check_size</th></tr>\n",
       "\t<tr><th scope=col>&lt;dbl&gt;</th><th scope=col>&lt;dbl&gt;</th><th scope=col>&lt;dbl&gt;</th><th scope=col>&lt;dbl&gt;</th><th scope=col>&lt;dbl&gt;</th><th scope=col>&lt;dbl&gt;</th><th scope=col>&lt;dbl&gt;</th><th scope=col>&lt;dbl&gt;</th><th scope=col>&lt;dbl&gt;</th><th scope=col>&lt;dbl&gt;</th><th scope=col>&lt;dbl&gt;</th><th scope=col>&lt;dbl&gt;</th><th scope=col>&lt;dbl&gt;</th><th scope=col>&lt;dbl&gt;</th><th scope=col>&lt;dbl&gt;</th></tr>\n",
       "</thead>\n",
       "<tbody>\n",
       "\t<tr><td>0.7574</td><td>0.0552</td><td>0.836</td><td>0.2911</td><td>0.5063</td><td>0.5103</td><td>0.0825</td><td>0.7169</td><td>0.1744</td><td>0.7328</td><td>0.8301</td><td>0.0069</td><td>0.763</td><td>0.2105</td><td>0.2319</td></tr>\n",
       "</tbody>\n",
       "</table>\n"
      ],
      "text/latex": [
       "A data.frame: 1 × 15\n",
       "\\begin{tabular}{lllllllllllllll}\n",
       " Lexical & personality\\_all & Coordinate & Climatic\\_demands & subsistence & disease & urban & wealth & edu & Hofstede\\_6D & new\\_gendist\\_weighted & religion\\_per & idealogy & demographics & check\\_size\\\\\n",
       " <dbl> & <dbl> & <dbl> & <dbl> & <dbl> & <dbl> & <dbl> & <dbl> & <dbl> & <dbl> & <dbl> & <dbl> & <dbl> & <dbl> & <dbl>\\\\\n",
       "\\hline\n",
       "\t 0.7574 & 0.0552 & 0.836 & 0.2911 & 0.5063 & 0.5103 & 0.0825 & 0.7169 & 0.1744 & 0.7328 & 0.8301 & 0.0069 & 0.763 & 0.2105 & 0.2319\\\\\n",
       "\\end{tabular}\n"
      ],
      "text/markdown": [
       "\n",
       "A data.frame: 1 × 15\n",
       "\n",
       "| Lexical &lt;dbl&gt; | personality_all &lt;dbl&gt; | Coordinate &lt;dbl&gt; | Climatic_demands &lt;dbl&gt; | subsistence &lt;dbl&gt; | disease &lt;dbl&gt; | urban &lt;dbl&gt; | wealth &lt;dbl&gt; | edu &lt;dbl&gt; | Hofstede_6D &lt;dbl&gt; | new_gendist_weighted &lt;dbl&gt; | religion_per &lt;dbl&gt; | idealogy &lt;dbl&gt; | demographics &lt;dbl&gt; | check_size &lt;dbl&gt; |\n",
       "|---|---|---|---|---|---|---|---|---|---|---|---|---|---|---|\n",
       "| 0.7574 | 0.0552 | 0.836 | 0.2911 | 0.5063 | 0.5103 | 0.0825 | 0.7169 | 0.1744 | 0.7328 | 0.8301 | 0.0069 | 0.763 | 0.2105 | 0.2319 |\n",
       "\n"
      ],
      "text/plain": [
       "  Lexical personality_all Coordinate Climatic_demands subsistence disease\n",
       "1 0.7574  0.0552          0.836      0.2911           0.5063      0.5103 \n",
       "  urban  wealth edu    Hofstede_6D new_gendist_weighted religion_per idealogy\n",
       "1 0.0825 0.7169 0.1744 0.7328      0.8301               0.0069       0.763   \n",
       "  demographics check_size\n",
       "1 0.2105       0.2319    "
      ]
     },
     "metadata": {},
     "output_type": "display_data"
    }
   ],
   "source": [
    "# 1.regression coefficient\n",
    "model_rdm = read.csv('output_data/models_rdm/dimensional/equality_dissim_dist.csv',\n",
    "                    row.names =1, check.names = FALSE)\n",
    "model_rdm = model_rdm[regions_order,regions_order]\n",
    "model_rdm_array = lowerTriangle(model_rdm)\n",
    "\n",
    "x <- do.call(cbind,lapply(variables,function(x) lowerTriangle(x))) # generate permuted predictors\n",
    "colnames(x) = variables_names\n",
    "culture_regress_standard <- lm(scale(model_rdm_array)~scale(x))\n",
    "culture_regress_standard_model <- summary(culture_regress_standard)\n",
    "culture_regress_standard_model\n",
    "\n",
    "write.csv(culture_regress_standard_model$coefficients,\n",
    " file='output_data/beta_sub/check_size/equality_33d.csv')\n",
    "equality_regression = culture_regress_standard_model\n",
    "\n",
    "# 2.permutation\n",
    "p_value_sub = permutation_result(equality_regression)\n",
    "p_value_sub\n",
    "write.csv(p_value_sub,'output_data/p_value_sub/check_size/equality_33d.csv')                          "
   ]
  },
  {
   "cell_type": "markdown",
   "id": "536a4c43",
   "metadata": {},
   "source": [
    "# Categorical: single category"
   ]
  },
  {
   "cell_type": "markdown",
   "id": "fe77b036",
   "metadata": {},
   "source": [
    "## Hostile"
   ]
  },
  {
   "cell_type": "code",
   "execution_count": 18,
   "id": "2d301249",
   "metadata": {
    "ExecuteTime": {
     "end_time": "2023-01-08T13:32:05.996999Z",
     "start_time": "2023-01-08T13:24:54.958Z"
    }
   },
   "outputs": [
    {
     "data": {
      "text/plain": [
       "\n",
       "Call:\n",
       "lm(formula = scale(model_rdm_array) ~ scale(x))\n",
       "\n",
       "Residuals:\n",
       "     Min       1Q   Median       3Q      Max \n",
       "-2.06694 -0.61496 -0.00139  0.67040  1.75161 \n",
       "\n",
       "Coefficients:\n",
       "                               Estimate Std. Error t value Pr(>|t|)   \n",
       "(Intercept)                  -1.203e-17  7.160e-02   0.000  1.00000   \n",
       "scale(x)Lexical               2.618e-01  9.532e-02   2.746  0.00674 **\n",
       "scale(x)personality_all      -6.711e-03  8.353e-02  -0.080  0.93607   \n",
       "scale(x)Coordinate           -7.243e-02  8.774e-02  -0.825  0.41038   \n",
       "scale(x)Climatic_demands      4.920e-02  8.209e-02   0.599  0.54983   \n",
       "scale(x)subsistence           2.393e-01  8.396e-02   2.851  0.00496 **\n",
       "scale(x)disease               8.157e-02  8.404e-02   0.971  0.33325   \n",
       "scale(x)urban                 1.333e-01  8.893e-02   1.499  0.13581   \n",
       "scale(x)wealth                8.776e-02  8.880e-02   0.988  0.32458   \n",
       "scale(x)edu                   4.696e-02  8.054e-02   0.583  0.56071   \n",
       "scale(x)Hofstede_6D          -1.444e-02  9.265e-02  -0.156  0.87636   \n",
       "scale(x)new_gendist_weighted -1.622e-01  9.599e-02  -1.690  0.09308 . \n",
       "scale(x)religion_per          7.630e-02  1.126e-01   0.678  0.49901   \n",
       "scale(x)idealogy              4.018e-02  8.009e-02   0.502  0.61657   \n",
       "scale(x)demographics         -1.608e-01  8.616e-02  -1.867  0.06381 . \n",
       "scale(x)check_size           -1.736e-01  7.695e-02  -2.256  0.02545 * \n",
       "---\n",
       "Signif. codes:  0 '***' 0.001 '**' 0.01 '*' 0.05 '.' 0.1 ' ' 1\n",
       "\n",
       "Residual standard error: 0.9362 on 155 degrees of freedom\n",
       "Multiple R-squared:  0.2008,\tAdjusted R-squared:  0.1235 \n",
       "F-statistic: 2.596 on 15 and 155 DF,  p-value: 0.001677\n"
      ]
     },
     "metadata": {},
     "output_type": "display_data"
    },
    {
     "name": "stdout",
     "output_type": "stream",
     "text": [
      "[1] \"fstats: 2.59620063733778\"\n",
      "[1] \"r2stats: 0.200796149592623\"\n",
      "[1] 10000\n",
      "[1] \"permf_pvals 0.0682\"\n"
     ]
    },
    {
     "data": {
      "text/html": [
       "<table class=\"dataframe\">\n",
       "<caption>A data.frame: 1 × 15</caption>\n",
       "<thead>\n",
       "\t<tr><th scope=col>Lexical</th><th scope=col>personality_all</th><th scope=col>Coordinate</th><th scope=col>Climatic_demands</th><th scope=col>subsistence</th><th scope=col>disease</th><th scope=col>urban</th><th scope=col>wealth</th><th scope=col>edu</th><th scope=col>Hofstede_6D</th><th scope=col>new_gendist_weighted</th><th scope=col>religion_per</th><th scope=col>idealogy</th><th scope=col>demographics</th><th scope=col>check_size</th></tr>\n",
       "\t<tr><th scope=col>&lt;dbl&gt;</th><th scope=col>&lt;dbl&gt;</th><th scope=col>&lt;dbl&gt;</th><th scope=col>&lt;dbl&gt;</th><th scope=col>&lt;dbl&gt;</th><th scope=col>&lt;dbl&gt;</th><th scope=col>&lt;dbl&gt;</th><th scope=col>&lt;dbl&gt;</th><th scope=col>&lt;dbl&gt;</th><th scope=col>&lt;dbl&gt;</th><th scope=col>&lt;dbl&gt;</th><th scope=col>&lt;dbl&gt;</th><th scope=col>&lt;dbl&gt;</th><th scope=col>&lt;dbl&gt;</th><th scope=col>&lt;dbl&gt;</th></tr>\n",
       "</thead>\n",
       "<tbody>\n",
       "\t<tr><td>0.0129</td><td>0.4951</td><td>0.7436</td><td>0.3045</td><td>0.0218</td><td>0.1577</td><td>0.122</td><td>0.1732</td><td>0.2947</td><td>0.5395</td><td>0.8976</td><td>0.2691</td><td>0.3219</td><td>0.9466</td><td>0.9757</td></tr>\n",
       "</tbody>\n",
       "</table>\n"
      ],
      "text/latex": [
       "A data.frame: 1 × 15\n",
       "\\begin{tabular}{lllllllllllllll}\n",
       " Lexical & personality\\_all & Coordinate & Climatic\\_demands & subsistence & disease & urban & wealth & edu & Hofstede\\_6D & new\\_gendist\\_weighted & religion\\_per & idealogy & demographics & check\\_size\\\\\n",
       " <dbl> & <dbl> & <dbl> & <dbl> & <dbl> & <dbl> & <dbl> & <dbl> & <dbl> & <dbl> & <dbl> & <dbl> & <dbl> & <dbl> & <dbl>\\\\\n",
       "\\hline\n",
       "\t 0.0129 & 0.4951 & 0.7436 & 0.3045 & 0.0218 & 0.1577 & 0.122 & 0.1732 & 0.2947 & 0.5395 & 0.8976 & 0.2691 & 0.3219 & 0.9466 & 0.9757\\\\\n",
       "\\end{tabular}\n"
      ],
      "text/markdown": [
       "\n",
       "A data.frame: 1 × 15\n",
       "\n",
       "| Lexical &lt;dbl&gt; | personality_all &lt;dbl&gt; | Coordinate &lt;dbl&gt; | Climatic_demands &lt;dbl&gt; | subsistence &lt;dbl&gt; | disease &lt;dbl&gt; | urban &lt;dbl&gt; | wealth &lt;dbl&gt; | edu &lt;dbl&gt; | Hofstede_6D &lt;dbl&gt; | new_gendist_weighted &lt;dbl&gt; | religion_per &lt;dbl&gt; | idealogy &lt;dbl&gt; | demographics &lt;dbl&gt; | check_size &lt;dbl&gt; |\n",
       "|---|---|---|---|---|---|---|---|---|---|---|---|---|---|---|\n",
       "| 0.0129 | 0.4951 | 0.7436 | 0.3045 | 0.0218 | 0.1577 | 0.122 | 0.1732 | 0.2947 | 0.5395 | 0.8976 | 0.2691 | 0.3219 | 0.9466 | 0.9757 |\n",
       "\n"
      ],
      "text/plain": [
       "  Lexical personality_all Coordinate Climatic_demands subsistence disease urban\n",
       "1 0.0129  0.4951          0.7436     0.3045           0.0218      0.1577  0.122\n",
       "  wealth edu    Hofstede_6D new_gendist_weighted religion_per idealogy\n",
       "1 0.1732 0.2947 0.5395      0.8976               0.2691       0.3219  \n",
       "  demographics check_size\n",
       "1 0.9466       0.9757    "
      ]
     },
     "metadata": {},
     "output_type": "display_data"
    }
   ],
   "source": [
    "# 1.regression coefficient\n",
    "model_rdm = read.csv('output_data/models_rdm/categorical/hostile_dissim_dist.csv',\n",
    "                    row.names =1, check.names = FALSE)\n",
    "model_rdm = model_rdm[regions_order,regions_order]\n",
    "model_rdm_array = lowerTriangle(model_rdm)\n",
    "\n",
    "x <- do.call(cbind,lapply(variables,function(x) lowerTriangle(x))) # generate permuted predictors\n",
    "colnames(x) = variables_names\n",
    "culture_regress_standard <- lm(scale(model_rdm_array)~scale(x))\n",
    "culture_regress_standard_model <- summary(culture_regress_standard)\n",
    "culture_regress_standard_model\n",
    "\n",
    "write.csv(culture_regress_standard_model$coefficients,\n",
    " file='output_data/beta_sub/check_size/hostile_33d.csv')\n",
    "hostile_regression = culture_regress_standard_model\n",
    "\n",
    "# 2.permutation\n",
    "p_value_sub = permutation_result(hostile_regression)\n",
    "p_value_sub\n",
    "write.csv(p_value_sub,'output_data/p_value_sub/check_size/hostile_33d.csv')                         "
   ]
  },
  {
   "cell_type": "markdown",
   "id": "43918259",
   "metadata": {},
   "source": [
    "## Private"
   ]
  },
  {
   "cell_type": "code",
   "execution_count": 19,
   "id": "9b64f1c6",
   "metadata": {
    "ExecuteTime": {
     "end_time": "2023-01-08T13:32:52.493021Z",
     "start_time": "2023-01-08T13:24:55.085Z"
    }
   },
   "outputs": [
    {
     "data": {
      "text/plain": [
       "\n",
       "Call:\n",
       "lm(formula = scale(model_rdm_array) ~ scale(x))\n",
       "\n",
       "Residuals:\n",
       "     Min       1Q   Median       3Q      Max \n",
       "-2.33200 -0.55783 -0.04098  0.64764  2.58412 \n",
       "\n",
       "Coefficients:\n",
       "                               Estimate Std. Error t value Pr(>|t|)    \n",
       "(Intercept)                  -2.317e-16  6.963e-02   0.000 1.000000    \n",
       "scale(x)Lexical               1.107e-01  9.271e-02   1.194 0.234304    \n",
       "scale(x)personality_all      -1.716e-02  8.124e-02  -0.211 0.833005    \n",
       "scale(x)Coordinate           -1.173e-01  8.534e-02  -1.374 0.171369    \n",
       "scale(x)Climatic_demands      1.365e-01  7.984e-02   1.709 0.089408 .  \n",
       "scale(x)subsistence          -8.189e-02  8.165e-02  -1.003 0.317464    \n",
       "scale(x)disease              -7.709e-02  8.173e-02  -0.943 0.347036    \n",
       "scale(x)urban                 2.355e-01  8.649e-02   2.722 0.007226 ** \n",
       "scale(x)wealth                1.874e-01  8.637e-02   2.169 0.031576 *  \n",
       "scale(x)edu                  -2.959e-02  7.833e-02  -0.378 0.706092    \n",
       "scale(x)Hofstede_6D          -9.591e-02  9.011e-02  -1.064 0.288843    \n",
       "scale(x)new_gendist_weighted  3.982e-02  9.336e-02   0.427 0.670334    \n",
       "scale(x)religion_per          2.860e-01  1.095e-01   2.611 0.009907 ** \n",
       "scale(x)idealogy             -5.191e-02  7.789e-02  -0.666 0.506108    \n",
       "scale(x)demographics         -2.897e-01  8.379e-02  -3.458 0.000703 ***\n",
       "scale(x)check_size           -6.299e-02  7.484e-02  -0.842 0.401210    \n",
       "---\n",
       "Signif. codes:  0 '***' 0.001 '**' 0.01 '*' 0.05 '.' 0.1 ' ' 1\n",
       "\n",
       "Residual standard error: 0.9106 on 155 degrees of freedom\n",
       "Multiple R-squared:  0.244,\tAdjusted R-squared:  0.1709 \n",
       "F-statistic: 3.336 on 15 and 155 DF,  p-value: 7.317e-05\n"
      ]
     },
     "metadata": {},
     "output_type": "display_data"
    },
    {
     "name": "stdout",
     "output_type": "stream",
     "text": [
      "[1] \"fstats: 3.33591660342363\"\n",
      "[1] \"r2stats: 0.244045329396843\"\n",
      "[1] 10000\n",
      "[1] \"permf_pvals 0.2083\"\n"
     ]
    },
    {
     "data": {
      "text/html": [
       "<table class=\"dataframe\">\n",
       "<caption>A data.frame: 1 × 15</caption>\n",
       "<thead>\n",
       "\t<tr><th scope=col>Lexical</th><th scope=col>personality_all</th><th scope=col>Coordinate</th><th scope=col>Climatic_demands</th><th scope=col>subsistence</th><th scope=col>disease</th><th scope=col>urban</th><th scope=col>wealth</th><th scope=col>edu</th><th scope=col>Hofstede_6D</th><th scope=col>new_gendist_weighted</th><th scope=col>religion_per</th><th scope=col>idealogy</th><th scope=col>demographics</th><th scope=col>check_size</th></tr>\n",
       "\t<tr><th scope=col>&lt;dbl&gt;</th><th scope=col>&lt;dbl&gt;</th><th scope=col>&lt;dbl&gt;</th><th scope=col>&lt;dbl&gt;</th><th scope=col>&lt;dbl&gt;</th><th scope=col>&lt;dbl&gt;</th><th scope=col>&lt;dbl&gt;</th><th scope=col>&lt;dbl&gt;</th><th scope=col>&lt;dbl&gt;</th><th scope=col>&lt;dbl&gt;</th><th scope=col>&lt;dbl&gt;</th><th scope=col>&lt;dbl&gt;</th><th scope=col>&lt;dbl&gt;</th><th scope=col>&lt;dbl&gt;</th><th scope=col>&lt;dbl&gt;</th></tr>\n",
       "</thead>\n",
       "<tbody>\n",
       "\t<tr><td>0.1805</td><td>0.5072</td><td>0.8131</td><td>0.1719</td><td>0.7484</td><td>0.8122</td><td>0.0628</td><td>0.0538</td><td>0.5595</td><td>0.7534</td><td>0.3789</td><td>0.0238</td><td>0.6678</td><td>0.9936</td><td>0.6719</td></tr>\n",
       "</tbody>\n",
       "</table>\n"
      ],
      "text/latex": [
       "A data.frame: 1 × 15\n",
       "\\begin{tabular}{lllllllllllllll}\n",
       " Lexical & personality\\_all & Coordinate & Climatic\\_demands & subsistence & disease & urban & wealth & edu & Hofstede\\_6D & new\\_gendist\\_weighted & religion\\_per & idealogy & demographics & check\\_size\\\\\n",
       " <dbl> & <dbl> & <dbl> & <dbl> & <dbl> & <dbl> & <dbl> & <dbl> & <dbl> & <dbl> & <dbl> & <dbl> & <dbl> & <dbl> & <dbl>\\\\\n",
       "\\hline\n",
       "\t 0.1805 & 0.5072 & 0.8131 & 0.1719 & 0.7484 & 0.8122 & 0.0628 & 0.0538 & 0.5595 & 0.7534 & 0.3789 & 0.0238 & 0.6678 & 0.9936 & 0.6719\\\\\n",
       "\\end{tabular}\n"
      ],
      "text/markdown": [
       "\n",
       "A data.frame: 1 × 15\n",
       "\n",
       "| Lexical &lt;dbl&gt; | personality_all &lt;dbl&gt; | Coordinate &lt;dbl&gt; | Climatic_demands &lt;dbl&gt; | subsistence &lt;dbl&gt; | disease &lt;dbl&gt; | urban &lt;dbl&gt; | wealth &lt;dbl&gt; | edu &lt;dbl&gt; | Hofstede_6D &lt;dbl&gt; | new_gendist_weighted &lt;dbl&gt; | religion_per &lt;dbl&gt; | idealogy &lt;dbl&gt; | demographics &lt;dbl&gt; | check_size &lt;dbl&gt; |\n",
       "|---|---|---|---|---|---|---|---|---|---|---|---|---|---|---|\n",
       "| 0.1805 | 0.5072 | 0.8131 | 0.1719 | 0.7484 | 0.8122 | 0.0628 | 0.0538 | 0.5595 | 0.7534 | 0.3789 | 0.0238 | 0.6678 | 0.9936 | 0.6719 |\n",
       "\n"
      ],
      "text/plain": [
       "  Lexical personality_all Coordinate Climatic_demands subsistence disease\n",
       "1 0.1805  0.5072          0.8131     0.1719           0.7484      0.8122 \n",
       "  urban  wealth edu    Hofstede_6D new_gendist_weighted religion_per idealogy\n",
       "1 0.0628 0.0538 0.5595 0.7534      0.3789               0.0238       0.6678  \n",
       "  demographics check_size\n",
       "1 0.9936       0.6719    "
      ]
     },
     "metadata": {},
     "output_type": "display_data"
    }
   ],
   "source": [
    "# 1.regression coefficient\n",
    "model_rdm = read.csv('output_data/models_rdm/categorical/private_dissim_dist.csv',\n",
    "                    row.names =1, check.names = FALSE)\n",
    "model_rdm = model_rdm[regions_order,regions_order]\n",
    "model_rdm_array = lowerTriangle(model_rdm)\n",
    "\n",
    "x <- do.call(cbind,lapply(variables,function(x) lowerTriangle(x))) # generate permuted predictors\n",
    "colnames(x) = variables_names\n",
    "culture_regress_standard <- lm(scale(model_rdm_array)~scale(x))\n",
    "culture_regress_standard_model <- summary(culture_regress_standard)\n",
    "culture_regress_standard_model\n",
    "\n",
    "write.csv(culture_regress_standard_model$coefficients,\n",
    " file='output_data/beta_sub/check_size/private_33d.csv')\n",
    "private_regression = culture_regress_standard_model\n",
    "\n",
    "# 2.permutation\n",
    "p_value_sub = permutation_result(private_regression)\n",
    "p_value_sub\n",
    "write.csv(p_value_sub,'output_data/p_value_sub/check_size/private_33d.csv')                           "
   ]
  },
  {
   "cell_type": "markdown",
   "id": "7bc105b3",
   "metadata": {},
   "source": [
    "## Public"
   ]
  },
  {
   "cell_type": "code",
   "execution_count": 20,
   "id": "8ddbd3c0",
   "metadata": {
    "ExecuteTime": {
     "end_time": "2023-01-08T13:33:37.945532Z",
     "start_time": "2023-01-08T13:24:55.222Z"
    }
   },
   "outputs": [
    {
     "data": {
      "text/plain": [
       "\n",
       "Call:\n",
       "lm(formula = scale(model_rdm_array) ~ scale(x))\n",
       "\n",
       "Residuals:\n",
       "     Min       1Q   Median       3Q      Max \n",
       "-1.75239 -0.50447 -0.04311  0.50854  2.44564 \n",
       "\n",
       "Coefficients:\n",
       "                               Estimate Std. Error t value Pr(>|t|)    \n",
       "(Intercept)                   1.740e-16  6.107e-02   0.000 1.000000    \n",
       "scale(x)Lexical               2.896e-02  8.130e-02   0.356 0.722154    \n",
       "scale(x)personality_all       7.017e-02  7.124e-02   0.985 0.326217    \n",
       "scale(x)Coordinate           -1.546e-01  7.484e-02  -2.066 0.040503 *  \n",
       "scale(x)Climatic_demands      1.543e-01  7.001e-02   2.204 0.028982 *  \n",
       "scale(x)subsistence           1.257e-02  7.161e-02   0.176 0.860840    \n",
       "scale(x)disease              -2.865e-02  7.168e-02  -0.400 0.689877    \n",
       "scale(x)urban                 3.682e-01  7.585e-02   4.854 2.92e-06 ***\n",
       "scale(x)wealth                9.318e-02  7.574e-02   1.230 0.220465    \n",
       "scale(x)edu                   5.039e-02  6.869e-02   0.734 0.464334    \n",
       "scale(x)Hofstede_6D          -9.725e-02  7.902e-02  -1.231 0.220342    \n",
       "scale(x)new_gendist_weighted -4.635e-02  8.187e-02  -0.566 0.572107    \n",
       "scale(x)religion_per          3.437e-01  9.604e-02   3.579 0.000461 ***\n",
       "scale(x)idealogy             -6.792e-02  6.831e-02  -0.994 0.321619    \n",
       "scale(x)demographics         -2.558e-01  7.348e-02  -3.481 0.000649 ***\n",
       "scale(x)check_size           -5.701e-02  6.563e-02  -0.869 0.386411    \n",
       "---\n",
       "Signif. codes:  0 '***' 0.001 '**' 0.01 '*' 0.05 '.' 0.1 ' ' 1\n",
       "\n",
       "Residual standard error: 0.7985 on 155 degrees of freedom\n",
       "Multiple R-squared:  0.4186,\tAdjusted R-squared:  0.3623 \n",
       "F-statistic:  7.44 on 15 and 155 DF,  p-value: 3.027e-12\n"
      ]
     },
     "metadata": {},
     "output_type": "display_data"
    },
    {
     "name": "stdout",
     "output_type": "stream",
     "text": [
      "[1] \"fstats: 7.44005217842181\"\n",
      "[1] \"r2stats: 0.418606358000902\"\n",
      "[1] 10000\n",
      "[1] \"permf_pvals 0.0453\"\n"
     ]
    },
    {
     "data": {
      "text/html": [
       "<table class=\"dataframe\">\n",
       "<caption>A data.frame: 1 × 15</caption>\n",
       "<thead>\n",
       "\t<tr><th scope=col>Lexical</th><th scope=col>personality_all</th><th scope=col>Coordinate</th><th scope=col>Climatic_demands</th><th scope=col>subsistence</th><th scope=col>disease</th><th scope=col>urban</th><th scope=col>wealth</th><th scope=col>edu</th><th scope=col>Hofstede_6D</th><th scope=col>new_gendist_weighted</th><th scope=col>religion_per</th><th scope=col>idealogy</th><th scope=col>demographics</th><th scope=col>check_size</th></tr>\n",
       "\t<tr><th scope=col>&lt;dbl&gt;</th><th scope=col>&lt;dbl&gt;</th><th scope=col>&lt;dbl&gt;</th><th scope=col>&lt;dbl&gt;</th><th scope=col>&lt;dbl&gt;</th><th scope=col>&lt;dbl&gt;</th><th scope=col>&lt;dbl&gt;</th><th scope=col>&lt;dbl&gt;</th><th scope=col>&lt;dbl&gt;</th><th scope=col>&lt;dbl&gt;</th><th scope=col>&lt;dbl&gt;</th><th scope=col>&lt;dbl&gt;</th><th scope=col>&lt;dbl&gt;</th><th scope=col>&lt;dbl&gt;</th><th scope=col>&lt;dbl&gt;</th></tr>\n",
       "</thead>\n",
       "<tbody>\n",
       "\t<tr><td>0.4047</td><td>0.2837</td><td>0.8627</td><td>0.1524</td><td>0.4522</td><td>0.6264</td><td>0.0289</td><td>0.22</td><td>0.3167</td><td>0.7196</td><td>0.5418</td><td>0.0095</td><td>0.691</td><td>0.9701</td><td>0.6257</td></tr>\n",
       "</tbody>\n",
       "</table>\n"
      ],
      "text/latex": [
       "A data.frame: 1 × 15\n",
       "\\begin{tabular}{lllllllllllllll}\n",
       " Lexical & personality\\_all & Coordinate & Climatic\\_demands & subsistence & disease & urban & wealth & edu & Hofstede\\_6D & new\\_gendist\\_weighted & religion\\_per & idealogy & demographics & check\\_size\\\\\n",
       " <dbl> & <dbl> & <dbl> & <dbl> & <dbl> & <dbl> & <dbl> & <dbl> & <dbl> & <dbl> & <dbl> & <dbl> & <dbl> & <dbl> & <dbl>\\\\\n",
       "\\hline\n",
       "\t 0.4047 & 0.2837 & 0.8627 & 0.1524 & 0.4522 & 0.6264 & 0.0289 & 0.22 & 0.3167 & 0.7196 & 0.5418 & 0.0095 & 0.691 & 0.9701 & 0.6257\\\\\n",
       "\\end{tabular}\n"
      ],
      "text/markdown": [
       "\n",
       "A data.frame: 1 × 15\n",
       "\n",
       "| Lexical &lt;dbl&gt; | personality_all &lt;dbl&gt; | Coordinate &lt;dbl&gt; | Climatic_demands &lt;dbl&gt; | subsistence &lt;dbl&gt; | disease &lt;dbl&gt; | urban &lt;dbl&gt; | wealth &lt;dbl&gt; | edu &lt;dbl&gt; | Hofstede_6D &lt;dbl&gt; | new_gendist_weighted &lt;dbl&gt; | religion_per &lt;dbl&gt; | idealogy &lt;dbl&gt; | demographics &lt;dbl&gt; | check_size &lt;dbl&gt; |\n",
       "|---|---|---|---|---|---|---|---|---|---|---|---|---|---|---|\n",
       "| 0.4047 | 0.2837 | 0.8627 | 0.1524 | 0.4522 | 0.6264 | 0.0289 | 0.22 | 0.3167 | 0.7196 | 0.5418 | 0.0095 | 0.691 | 0.9701 | 0.6257 |\n",
       "\n"
      ],
      "text/plain": [
       "  Lexical personality_all Coordinate Climatic_demands subsistence disease\n",
       "1 0.4047  0.2837          0.8627     0.1524           0.4522      0.6264 \n",
       "  urban  wealth edu    Hofstede_6D new_gendist_weighted religion_per idealogy\n",
       "1 0.0289 0.22   0.3167 0.7196      0.5418               0.0095       0.691   \n",
       "  demographics check_size\n",
       "1 0.9701       0.6257    "
      ]
     },
     "metadata": {},
     "output_type": "display_data"
    }
   ],
   "source": [
    "# 1.regression coefficient\n",
    "model_rdm = read.csv('output_data/models_rdm/categorical/public_dissim_dist.csv',\n",
    "                    row.names =1, check.names = FALSE)\n",
    "model_rdm = model_rdm[regions_order,regions_order]\n",
    "model_rdm_array = lowerTriangle(model_rdm)\n",
    "\n",
    "x <- do.call(cbind,lapply(variables,function(x) lowerTriangle(x))) # generate permuted predictors\n",
    "colnames(x) = variables_names\n",
    "culture_regress_standard <- lm(scale(model_rdm_array)~scale(x))\n",
    "culture_regress_standard_model <- summary(culture_regress_standard)\n",
    "culture_regress_standard_model\n",
    "\n",
    "write.csv(culture_regress_standard_model$coefficients,\n",
    " file='output_data/beta_sub/check_size/public_33d.csv')\n",
    "public_regression = culture_regress_standard_model\n",
    "\n",
    "# 2.permutation\n",
    "p_value_sub = permutation_result(public_regression)\n",
    "p_value_sub\n",
    "write.csv(p_value_sub,'output_data/p_value_sub/check_size/public_33d.csv')                         "
   ]
  },
  {
   "cell_type": "markdown",
   "id": "92780394",
   "metadata": {},
   "source": [
    "# Plot RSA regression results in Supplementary"
   ]
  },
  {
   "cell_type": "code",
   "execution_count": 3,
   "id": "cd880e14",
   "metadata": {
    "ExecuteTime": {
     "end_time": "2023-01-11T08:47:00.980300Z",
     "start_time": "2023-01-11T08:47:00.912Z"
    }
   },
   "outputs": [
    {
     "data": {
      "text/html": [
       "<table class=\"dataframe\">\n",
       "<caption>A data.frame: 13 × 9</caption>\n",
       "<thead>\n",
       "\t<tr><th></th><th scope=col>activeness</th><th scope=col>equality</th><th scope=col>exchange</th><th scope=col>formality</th><th scope=col>hostile</th><th scope=col>private</th><th scope=col>public</th><th scope=col>valence</th><th scope=col>Predictor</th></tr>\n",
       "\t<tr><th></th><th scope=col>&lt;dbl&gt;</th><th scope=col>&lt;dbl&gt;</th><th scope=col>&lt;dbl&gt;</th><th scope=col>&lt;dbl&gt;</th><th scope=col>&lt;dbl&gt;</th><th scope=col>&lt;dbl&gt;</th><th scope=col>&lt;dbl&gt;</th><th scope=col>&lt;dbl&gt;</th><th scope=col>&lt;chr&gt;</th></tr>\n",
       "</thead>\n",
       "<tbody>\n",
       "\t<tr><th scope=row>Language</th><td> 0.15226075</td><td>-0.095906512</td><td> 0.051329146</td><td> 0.04240986</td><td> 0.261769486</td><td> 0.11069404</td><td> 0.02896259</td><td>-0.05547828</td><td>Language    </td></tr>\n",
       "\t<tr><th scope=row>Personality</th><td> 0.10330174</td><td> 0.296719017</td><td>-0.076268547</td><td> 0.04062885</td><td>-0.006711291</td><td>-0.01715806</td><td> 0.07016762</td><td> 0.11163855</td><td>Personality </td></tr>\n",
       "\t<tr><th scope=row>Geography</th><td>-0.09372326</td><td>-0.143319748</td><td>-0.049026753</td><td>-0.19604564</td><td>-0.072428186</td><td>-0.11726819</td><td>-0.15460751</td><td>-0.06367521</td><td>Geography   </td></tr>\n",
       "\t<tr><th scope=row>Climates</th><td> 0.08753305</td><td> 0.089697395</td><td> 0.019887702</td><td> 0.11309216</td><td> 0.049198211</td><td> 0.13646011</td><td> 0.15432906</td><td> 0.20466677</td><td>Climates    </td></tr>\n",
       "\t<tr><th scope=row>Subsistence</th><td>-0.01588348</td><td>-0.009953196</td><td> 0.063053863</td><td>-0.06168833</td><td> 0.239331713</td><td>-0.08189197</td><td> 0.01257416</td><td>-0.17973836</td><td>Subsistence </td></tr>\n",
       "\t<tr><th scope=row>Disease</th><td>-0.07670335</td><td>-0.004771096</td><td>-0.004557624</td><td>-0.11043001</td><td> 0.081569818</td><td>-0.07709198</td><td>-0.02865444</td><td>-0.09842662</td><td>Disease     </td></tr>\n",
       "\t<tr><th scope=row>Urbanization</th><td> 0.32674054</td><td> 0.245222342</td><td> 0.297775823</td><td> 0.12559388</td><td> 0.133344797</td><td> 0.23546173</td><td> 0.36822853</td><td> 0.30246203</td><td>Urbanization</td></tr>\n",
       "\t<tr><th scope=row>Wealth</th><td>-0.10157148</td><td>-0.077183325</td><td>-0.037021340</td><td>-0.18654941</td><td> 0.087759245</td><td> 0.18736710</td><td> 0.09318287</td><td>-0.05598347</td><td>Wealth      </td></tr>\n",
       "\t<tr><th scope=row>Education</th><td> 0.14299105</td><td> 0.130171955</td><td> 0.140689876</td><td> 0.15020804</td><td> 0.046958225</td><td>-0.02959320</td><td> 0.05038917</td><td> 0.15847848</td><td>Education   </td></tr>\n",
       "\t<tr><th scope=row>Hofstede6D</th><td>-0.07703327</td><td>-0.103676154</td><td>-0.007098657</td><td>-0.06645797</td><td>-0.014438586</td><td>-0.09590541</td><td>-0.09724650</td><td>-0.14991192</td><td>Hofstede6D  </td></tr>\n",
       "\t<tr><th scope=row>Genetics</th><td>-0.03084298</td><td>-0.209199852</td><td>-0.204459567</td><td>-0.16027128</td><td>-0.162203566</td><td> 0.03981662</td><td>-0.04635175</td><td> 0.08332283</td><td>Genetics    </td></tr>\n",
       "\t<tr><th scope=row>Religion</th><td> 0.24606885</td><td> 0.393781362</td><td> 0.154129679</td><td> 0.40959530</td><td> 0.076300865</td><td> 0.28595453</td><td> 0.34367755</td><td> 0.20283630</td><td>Religion    </td></tr>\n",
       "\t<tr><th scope=row>Politics</th><td>-0.09404087</td><td>-0.091976537</td><td>-0.189656966</td><td>-0.06321590</td><td> 0.040183382</td><td>-0.05191291</td><td>-0.06792234</td><td>-0.06558883</td><td>Politics    </td></tr>\n",
       "</tbody>\n",
       "</table>\n"
      ],
      "text/latex": [
       "A data.frame: 13 × 9\n",
       "\\begin{tabular}{r|lllllllll}\n",
       "  & activeness & equality & exchange & formality & hostile & private & public & valence & Predictor\\\\\n",
       "  & <dbl> & <dbl> & <dbl> & <dbl> & <dbl> & <dbl> & <dbl> & <dbl> & <chr>\\\\\n",
       "\\hline\n",
       "\tLanguage &  0.15226075 & -0.095906512 &  0.051329146 &  0.04240986 &  0.261769486 &  0.11069404 &  0.02896259 & -0.05547828 & Language    \\\\\n",
       "\tPersonality &  0.10330174 &  0.296719017 & -0.076268547 &  0.04062885 & -0.006711291 & -0.01715806 &  0.07016762 &  0.11163855 & Personality \\\\\n",
       "\tGeography & -0.09372326 & -0.143319748 & -0.049026753 & -0.19604564 & -0.072428186 & -0.11726819 & -0.15460751 & -0.06367521 & Geography   \\\\\n",
       "\tClimates &  0.08753305 &  0.089697395 &  0.019887702 &  0.11309216 &  0.049198211 &  0.13646011 &  0.15432906 &  0.20466677 & Climates    \\\\\n",
       "\tSubsistence & -0.01588348 & -0.009953196 &  0.063053863 & -0.06168833 &  0.239331713 & -0.08189197 &  0.01257416 & -0.17973836 & Subsistence \\\\\n",
       "\tDisease & -0.07670335 & -0.004771096 & -0.004557624 & -0.11043001 &  0.081569818 & -0.07709198 & -0.02865444 & -0.09842662 & Disease     \\\\\n",
       "\tUrbanization &  0.32674054 &  0.245222342 &  0.297775823 &  0.12559388 &  0.133344797 &  0.23546173 &  0.36822853 &  0.30246203 & Urbanization\\\\\n",
       "\tWealth & -0.10157148 & -0.077183325 & -0.037021340 & -0.18654941 &  0.087759245 &  0.18736710 &  0.09318287 & -0.05598347 & Wealth      \\\\\n",
       "\tEducation &  0.14299105 &  0.130171955 &  0.140689876 &  0.15020804 &  0.046958225 & -0.02959320 &  0.05038917 &  0.15847848 & Education   \\\\\n",
       "\tHofstede6D & -0.07703327 & -0.103676154 & -0.007098657 & -0.06645797 & -0.014438586 & -0.09590541 & -0.09724650 & -0.14991192 & Hofstede6D  \\\\\n",
       "\tGenetics & -0.03084298 & -0.209199852 & -0.204459567 & -0.16027128 & -0.162203566 &  0.03981662 & -0.04635175 &  0.08332283 & Genetics    \\\\\n",
       "\tReligion &  0.24606885 &  0.393781362 &  0.154129679 &  0.40959530 &  0.076300865 &  0.28595453 &  0.34367755 &  0.20283630 & Religion    \\\\\n",
       "\tPolitics & -0.09404087 & -0.091976537 & -0.189656966 & -0.06321590 &  0.040183382 & -0.05191291 & -0.06792234 & -0.06558883 & Politics    \\\\\n",
       "\\end{tabular}\n"
      ],
      "text/markdown": [
       "\n",
       "A data.frame: 13 × 9\n",
       "\n",
       "| <!--/--> | activeness &lt;dbl&gt; | equality &lt;dbl&gt; | exchange &lt;dbl&gt; | formality &lt;dbl&gt; | hostile &lt;dbl&gt; | private &lt;dbl&gt; | public &lt;dbl&gt; | valence &lt;dbl&gt; | Predictor &lt;chr&gt; |\n",
       "|---|---|---|---|---|---|---|---|---|---|\n",
       "| Language |  0.15226075 | -0.095906512 |  0.051329146 |  0.04240986 |  0.261769486 |  0.11069404 |  0.02896259 | -0.05547828 | Language     |\n",
       "| Personality |  0.10330174 |  0.296719017 | -0.076268547 |  0.04062885 | -0.006711291 | -0.01715806 |  0.07016762 |  0.11163855 | Personality  |\n",
       "| Geography | -0.09372326 | -0.143319748 | -0.049026753 | -0.19604564 | -0.072428186 | -0.11726819 | -0.15460751 | -0.06367521 | Geography    |\n",
       "| Climates |  0.08753305 |  0.089697395 |  0.019887702 |  0.11309216 |  0.049198211 |  0.13646011 |  0.15432906 |  0.20466677 | Climates     |\n",
       "| Subsistence | -0.01588348 | -0.009953196 |  0.063053863 | -0.06168833 |  0.239331713 | -0.08189197 |  0.01257416 | -0.17973836 | Subsistence  |\n",
       "| Disease | -0.07670335 | -0.004771096 | -0.004557624 | -0.11043001 |  0.081569818 | -0.07709198 | -0.02865444 | -0.09842662 | Disease      |\n",
       "| Urbanization |  0.32674054 |  0.245222342 |  0.297775823 |  0.12559388 |  0.133344797 |  0.23546173 |  0.36822853 |  0.30246203 | Urbanization |\n",
       "| Wealth | -0.10157148 | -0.077183325 | -0.037021340 | -0.18654941 |  0.087759245 |  0.18736710 |  0.09318287 | -0.05598347 | Wealth       |\n",
       "| Education |  0.14299105 |  0.130171955 |  0.140689876 |  0.15020804 |  0.046958225 | -0.02959320 |  0.05038917 |  0.15847848 | Education    |\n",
       "| Hofstede6D | -0.07703327 | -0.103676154 | -0.007098657 | -0.06645797 | -0.014438586 | -0.09590541 | -0.09724650 | -0.14991192 | Hofstede6D   |\n",
       "| Genetics | -0.03084298 | -0.209199852 | -0.204459567 | -0.16027128 | -0.162203566 |  0.03981662 | -0.04635175 |  0.08332283 | Genetics     |\n",
       "| Religion |  0.24606885 |  0.393781362 |  0.154129679 |  0.40959530 |  0.076300865 |  0.28595453 |  0.34367755 |  0.20283630 | Religion     |\n",
       "| Politics | -0.09404087 | -0.091976537 | -0.189656966 | -0.06321590 |  0.040183382 | -0.05191291 | -0.06792234 | -0.06558883 | Politics     |\n",
       "\n"
      ],
      "text/plain": [
       "             activeness  equality     exchange     formality   hostile     \n",
       "Language      0.15226075 -0.095906512  0.051329146  0.04240986  0.261769486\n",
       "Personality   0.10330174  0.296719017 -0.076268547  0.04062885 -0.006711291\n",
       "Geography    -0.09372326 -0.143319748 -0.049026753 -0.19604564 -0.072428186\n",
       "Climates      0.08753305  0.089697395  0.019887702  0.11309216  0.049198211\n",
       "Subsistence  -0.01588348 -0.009953196  0.063053863 -0.06168833  0.239331713\n",
       "Disease      -0.07670335 -0.004771096 -0.004557624 -0.11043001  0.081569818\n",
       "Urbanization  0.32674054  0.245222342  0.297775823  0.12559388  0.133344797\n",
       "Wealth       -0.10157148 -0.077183325 -0.037021340 -0.18654941  0.087759245\n",
       "Education     0.14299105  0.130171955  0.140689876  0.15020804  0.046958225\n",
       "Hofstede6D   -0.07703327 -0.103676154 -0.007098657 -0.06645797 -0.014438586\n",
       "Genetics     -0.03084298 -0.209199852 -0.204459567 -0.16027128 -0.162203566\n",
       "Religion      0.24606885  0.393781362  0.154129679  0.40959530  0.076300865\n",
       "Politics     -0.09404087 -0.091976537 -0.189656966 -0.06321590  0.040183382\n",
       "             private     public      valence     Predictor   \n",
       "Language      0.11069404  0.02896259 -0.05547828 Language    \n",
       "Personality  -0.01715806  0.07016762  0.11163855 Personality \n",
       "Geography    -0.11726819 -0.15460751 -0.06367521 Geography   \n",
       "Climates      0.13646011  0.15432906  0.20466677 Climates    \n",
       "Subsistence  -0.08189197  0.01257416 -0.17973836 Subsistence \n",
       "Disease      -0.07709198 -0.02865444 -0.09842662 Disease     \n",
       "Urbanization  0.23546173  0.36822853  0.30246203 Urbanization\n",
       "Wealth        0.18736710  0.09318287 -0.05598347 Wealth      \n",
       "Education    -0.02959320  0.05038917  0.15847848 Education   \n",
       "Hofstede6D   -0.09590541 -0.09724650 -0.14991192 Hofstede6D  \n",
       "Genetics      0.03981662 -0.04635175  0.08332283 Genetics    \n",
       "Religion      0.28595453  0.34367755  0.20283630 Religion    \n",
       "Politics     -0.05191291 -0.06792234 -0.06558883 Politics    "
      ]
     },
     "metadata": {},
     "output_type": "display_data"
    }
   ],
   "source": [
    "files = dir('output_data/beta_sub/check_size/')\n",
    "files = files[-which(files %in% c('favee_33d.csv','hpp_33d.csv','raw_33d.csv'))]\n",
    "models = c()\n",
    "regression_results = data.frame(matrix(ncol=13,nrow=7))\n",
    "count = 1\n",
    "for (file in files){\n",
    "    model = strsplit(file,'_')[[1]][1]\n",
    "    models = c(models,model)\n",
    "    \n",
    "    results_df = read.csv(paste('output_data/beta_sub/check_size/',file,sep = ''),row.names=1) \n",
    "    beta = results_df[2:14,1]\n",
    "    regression_results[count,] = beta \n",
    "    count = count + 1\n",
    "}\n",
    "rownames(regression_results) = models\n",
    "colnames(regression_results) = c('Language','Personality','Geography','Climates',\n",
    "             'Subsistence','Disease','Urbanization','Wealth','Education',\n",
    "             'Hofstede6D','Genetics','Religion','Politics')#'Demographics'\n",
    "regression_results = data.frame(t(regression_results))\n",
    "\n",
    "regression_results['Predictor'] = rownames(regression_results)\n",
    "regression_results\n",
    "regression_results_melt = melt(regression_results,id.vars = 'Predictor')\n",
    "regression_results_melt$Predictor = factor(regression_results_melt$Predictor,\n",
    "levels = c('Language','Personality','Geography','Climates',\n",
    "             'Subsistence','Disease',\n",
    "             'Hofstede6D','Genetics','Politics',#'Demographics',\n",
    "             'Urbanization','Wealth','Education','Religion'))\n",
    "colnames(regression_results_melt) = c('predictor','model','value')\n",
    "regression_results_melt$'model' = factor(regression_results_melt$'model',\n",
    "                            levels = c('formality','activeness','valence','exchange',\n",
    "                                      'equality','hostile','private','public'))"
   ]
  },
  {
   "cell_type": "code",
   "execution_count": 4,
   "id": "6612ad7f",
   "metadata": {
    "ExecuteTime": {
     "end_time": "2023-01-11T08:47:07.817204Z",
     "start_time": "2023-01-11T08:47:06.707Z"
    }
   },
   "outputs": [
    {
     "data": {
      "text/html": [
       "<strong>png:</strong> 2"
      ],
      "text/latex": [
       "\\textbf{png:} 2"
      ],
      "text/markdown": [
       "**png:** 2"
      ],
      "text/plain": [
       "png \n",
       "  2 "
      ]
     },
     "metadata": {},
     "output_type": "display_data"
    },
    {
     "data": {
      "image/png": "[encoded data removed]",
      "text/plain": [
       "plot without title"
      ]
     },
     "metadata": {
      "image/png": {
       "height": 1200,
       "width": 600
      }
     },
     "output_type": "display_data"
    }
   ],
   "source": [
    "options(repr.plot.width=10,repr.plot.height=20)\n",
    "ggplot(regression_results_melt,aes(x=predictor,y=value,fill=model))+\n",
    "geom_bar(stat='identity',width=0.5,alpha=0.8,color='black',size=1.5)+\n",
    "facet_grid(model ~ .) +\n",
    "geom_hline(aes(yintercept=0),size=2)+\n",
    "geom_vline(aes(xintercept=0),size=1.5)+\n",
    "theme_classic()+\n",
    "theme(#axis.text.x=element_blank(),\n",
    "      #axis.text.y=element_blank(),\n",
    "      axis.text.x=element_text(size=20,color='black',angle=45,vjust = 0.7),\n",
    "      axis.text.y=element_text(size=20,color='black'),\n",
    "      axis.title.x=element_blank(),\n",
    "      axis.title.y=element_blank(),\n",
    "      #axis.line.x=element_line(linetype=1,color=\"black\",size=3),\n",
    "      axis.line.y=element_line(linetype=1,color=\"black\",size=2),\n",
    "      axis.line=element_blank(),\n",
    "      axis.ticks = element_blank(),\n",
    "      legend.position = 'none',\n",
    "      strip.text = element_blank()\n",
    "      )\n",
    "\n",
    "png(\"../output_graph/regression/check_size/RSA_regression_subvariables.png\", bg=\"transparent\",\n",
    "    family = 'sans',units='in',width=10,height=20,res=300)\n",
    "ggplot(regression_results_melt,aes(x=predictor,y=value,fill=model))+\n",
    "geom_bar(stat='identity',width=0.5,alpha=0.8,color='black',size=1.5)+\n",
    "facet_grid(model ~ .) +\n",
    "geom_hline(aes(yintercept=0),size=2)+\n",
    "geom_vline(aes(xintercept=0),size=1.5)+\n",
    "theme_classic()+\n",
    "theme(axis.text=element_blank(),\n",
    "      axis.title.x=element_blank(),\n",
    "      axis.title.y=element_blank(),\n",
    "      #axis.line.x=element_line(linetype=1,color=\"black\",size=3),\n",
    "      axis.line.y=element_line(linetype=1,color=\"black\",size=2),\n",
    "      axis.line=element_blank(),\n",
    "      axis.ticks = element_blank(),\n",
    "      legend.position = 'none',\n",
    "      strip.text = element_blank()\n",
    "      )\n",
    "dev.off()"
   ]
  },
  {
   "cell_type": "code",
   "execution_count": 5,
   "id": "7b395e29",
   "metadata": {
    "ExecuteTime": {
     "end_time": "2023-01-11T08:47:14.515611Z",
     "start_time": "2023-01-11T08:47:14.496Z"
    }
   },
   "outputs": [
    {
     "data": {
      "text/html": [
       "<table class=\"dataframe\">\n",
       "<caption>A data.frame: 6 × 3</caption>\n",
       "<thead>\n",
       "\t<tr><th></th><th scope=col>predictor</th><th scope=col>model</th><th scope=col>value</th></tr>\n",
       "\t<tr><th></th><th scope=col>&lt;fct&gt;</th><th scope=col>&lt;fct&gt;</th><th scope=col>&lt;dbl&gt;</th></tr>\n",
       "</thead>\n",
       "<tbody>\n",
       "\t<tr><th scope=row>1</th><td>Language   </td><td>activeness</td><td> 0.15226075</td></tr>\n",
       "\t<tr><th scope=row>2</th><td>Personality</td><td>activeness</td><td> 0.10330174</td></tr>\n",
       "\t<tr><th scope=row>3</th><td>Geography  </td><td>activeness</td><td>-0.09372326</td></tr>\n",
       "\t<tr><th scope=row>4</th><td>Climates   </td><td>activeness</td><td> 0.08753305</td></tr>\n",
       "\t<tr><th scope=row>5</th><td>Subsistence</td><td>activeness</td><td>-0.01588348</td></tr>\n",
       "\t<tr><th scope=row>6</th><td>Disease    </td><td>activeness</td><td>-0.07670335</td></tr>\n",
       "</tbody>\n",
       "</table>\n"
      ],
      "text/latex": [
       "A data.frame: 6 × 3\n",
       "\\begin{tabular}{r|lll}\n",
       "  & predictor & model & value\\\\\n",
       "  & <fct> & <fct> & <dbl>\\\\\n",
       "\\hline\n",
       "\t1 & Language    & activeness &  0.15226075\\\\\n",
       "\t2 & Personality & activeness &  0.10330174\\\\\n",
       "\t3 & Geography   & activeness & -0.09372326\\\\\n",
       "\t4 & Climates    & activeness &  0.08753305\\\\\n",
       "\t5 & Subsistence & activeness & -0.01588348\\\\\n",
       "\t6 & Disease     & activeness & -0.07670335\\\\\n",
       "\\end{tabular}\n"
      ],
      "text/markdown": [
       "\n",
       "A data.frame: 6 × 3\n",
       "\n",
       "| <!--/--> | predictor &lt;fct&gt; | model &lt;fct&gt; | value &lt;dbl&gt; |\n",
       "|---|---|---|---|\n",
       "| 1 | Language    | activeness |  0.15226075 |\n",
       "| 2 | Personality | activeness |  0.10330174 |\n",
       "| 3 | Geography   | activeness | -0.09372326 |\n",
       "| 4 | Climates    | activeness |  0.08753305 |\n",
       "| 5 | Subsistence | activeness | -0.01588348 |\n",
       "| 6 | Disease     | activeness | -0.07670335 |\n",
       "\n"
      ],
      "text/plain": [
       "  predictor   model      value      \n",
       "1 Language    activeness  0.15226075\n",
       "2 Personality activeness  0.10330174\n",
       "3 Geography   activeness -0.09372326\n",
       "4 Climates    activeness  0.08753305\n",
       "5 Subsistence activeness -0.01588348\n",
       "6 Disease     activeness -0.07670335"
      ]
     },
     "metadata": {},
     "output_type": "display_data"
    }
   ],
   "source": [
    "head(regression_results_melt)"
   ]
  },
  {
   "cell_type": "code",
   "execution_count": 6,
   "id": "5c326e54",
   "metadata": {
    "ExecuteTime": {
     "end_time": "2023-01-11T08:47:18.397921Z",
     "start_time": "2023-01-11T08:47:18.382Z"
    }
   },
   "outputs": [],
   "source": [
    "plot_regression_bar = function(model_label,mycolor){\n",
    "    options(repr.plot.width=10,repr.plot.height=2.5)\n",
    "    regression_results_melt %>% filter(model %in% model_label) %>%\n",
    "    ggplot(aes(x=predictor,y=value))+\n",
    "    geom_bar(stat='identity',width=0.5,alpha=0.8,color='black',size=1.5,fill=mycolor)+\n",
    "    #facet_grid(model ~ .) +\n",
    "    geom_hline(aes(yintercept=0),size=2)+\n",
    "    geom_vline(aes(xintercept=0),size=1.5)+\n",
    "    theme_classic()+\n",
    "    theme(axis.text.x=element_blank(),\n",
    "          #axis.text.y=element_blank(),\n",
    "          #axis.text.x=element_text(size=20,color='black',angle=45,vjust = 0.7),\n",
    "          axis.text.y=element_text(size=20,color='black'),\n",
    "          axis.title.x=element_blank(),\n",
    "          axis.title.y=element_blank(),\n",
    "          #axis.line.x=element_line(linetype=1,color=\"black\",size=3),\n",
    "          axis.line.y=element_line(linetype=1,color=\"black\",size=2),\n",
    "          axis.line=element_blank(),\n",
    "          axis.ticks = element_blank(),\n",
    "          legend.position = 'none',\n",
    "          strip.text = element_blank()\n",
    "          )+\n",
    "    ylim(-0.2,0.4)\n",
    "}\n",
    "\n",
    "plot_regression_bar_nolabel = function(model_label,mycolor){\n",
    "    options(repr.plot.width=10,repr.plot.height=2.5)\n",
    "    regression_results_melt %>% filter(model %in% model_label) %>%\n",
    "    ggplot(aes(x=predictor,y=value))+\n",
    "    geom_bar(stat='identity',width=0.5,alpha=0.8,color='black',size=1.5,fill=mycolor)+\n",
    "    #facet_grid(model ~ .) +\n",
    "    geom_hline(aes(yintercept=0),size=2)+\n",
    "    geom_vline(aes(xintercept=0),size=1.5)+\n",
    "    theme_classic()+\n",
    "    theme(axis.text.x=element_blank(),\n",
    "          axis.text.y=element_blank(),\n",
    "          #axis.text.x=element_text(size=20,color='black',angle=45,vjust = 0.7),\n",
    "          #axis.text.y=element_text(size=20,color='black'),\n",
    "          axis.title.x=element_blank(),\n",
    "          axis.title.y=element_blank(),\n",
    "          #axis.line.x=element_line(linetype=1,color=\"black\",size=3),\n",
    "          axis.line.y=element_line(linetype=1,color=\"black\",size=2),\n",
    "          axis.line=element_blank(),\n",
    "          axis.ticks = element_blank(),\n",
    "          legend.position = 'none',\n",
    "          strip.text = element_blank()\n",
    "          )+\n",
    "    ylim(-0.2,0.4)\n",
    "}"
   ]
  },
  {
   "cell_type": "markdown",
   "id": "0fef6b38",
   "metadata": {},
   "source": [
    "## Dimensional"
   ]
  },
  {
   "cell_type": "code",
   "execution_count": 7,
   "id": "0f4a40f4",
   "metadata": {
    "ExecuteTime": {
     "end_time": "2023-01-11T08:48:35.078116Z",
     "start_time": "2023-01-11T08:48:34.773Z"
    }
   },
   "outputs": [
    {
     "data": {
      "text/html": [
       "<strong>png:</strong> 2"
      ],
      "text/latex": [
       "\\textbf{png:} 2"
      ],
      "text/markdown": [
       "**png:** 2"
      ],
      "text/plain": [
       "png \n",
       "  2 "
      ]
     },
     "metadata": {},
     "output_type": "display_data"
    },
    {
     "data": {
      "image/png": "[encoded data removed]",
      "text/plain": [
       "plot without title"
      ]
     },
     "metadata": {
      "image/png": {
       "height": 150,
       "width": 600
      }
     },
     "output_type": "display_data"
    }
   ],
   "source": [
    "plot_regression_bar('formality','#F9918A')\n",
    "\n",
    "png(\"../output_graph/regression/check_size/subvariables/formality.png\", bg=\"transparent\",\n",
    "    family = 'sans',units='in',width=10,height=2.5,res=300)\n",
    "plot_regression_bar_nolabel('formality','#F9918A')\n",
    "dev.off()"
   ]
  },
  {
   "cell_type": "code",
   "execution_count": 8,
   "id": "a4ee2fa0",
   "metadata": {
    "ExecuteTime": {
     "end_time": "2023-01-11T08:48:35.110125Z",
     "start_time": "2023-01-11T08:48:34.776Z"
    }
   },
   "outputs": [
    {
     "data": {
      "text/html": [
       "<table class=\"dataframe\">\n",
       "<caption>A data.frame: 1 × 15</caption>\n",
       "<thead>\n",
       "\t<tr><th></th><th scope=col>Lexical</th><th scope=col>personality_all</th><th scope=col>Coordinate</th><th scope=col>Climatic_demands</th><th scope=col>subsistence</th><th scope=col>disease</th><th scope=col>urban</th><th scope=col>wealth</th><th scope=col>edu</th><th scope=col>Hofstede_6D</th><th scope=col>new_gendist_weighted</th><th scope=col>religion_per</th><th scope=col>idealogy</th><th scope=col>demographics</th><th scope=col>check_size</th></tr>\n",
       "\t<tr><th></th><th scope=col>&lt;dbl&gt;</th><th scope=col>&lt;dbl&gt;</th><th scope=col>&lt;dbl&gt;</th><th scope=col>&lt;dbl&gt;</th><th scope=col>&lt;dbl&gt;</th><th scope=col>&lt;dbl&gt;</th><th scope=col>&lt;dbl&gt;</th><th scope=col>&lt;dbl&gt;</th><th scope=col>&lt;dbl&gt;</th><th scope=col>&lt;dbl&gt;</th><th scope=col>&lt;dbl&gt;</th><th scope=col>&lt;dbl&gt;</th><th scope=col>&lt;dbl&gt;</th><th scope=col>&lt;dbl&gt;</th><th scope=col>&lt;dbl&gt;</th></tr>\n",
       "</thead>\n",
       "<tbody>\n",
       "\t<tr><th scope=row>1</th><td>0.3793</td><td>0.383</td><td>0.9204</td><td>0.2518</td><td>0.6774</td><td>0.9006</td><td>0.2257</td><td>0.9489</td><td>0.1448</td><td>0.6552</td><td>0.7645</td><td>0.0029</td><td>0.6816</td><td>0.5632</td><td>0.0883</td></tr>\n",
       "</tbody>\n",
       "</table>\n"
      ],
      "text/latex": [
       "A data.frame: 1 × 15\n",
       "\\begin{tabular}{r|lllllllllllllll}\n",
       "  & Lexical & personality\\_all & Coordinate & Climatic\\_demands & subsistence & disease & urban & wealth & edu & Hofstede\\_6D & new\\_gendist\\_weighted & religion\\_per & idealogy & demographics & check\\_size\\\\\n",
       "  & <dbl> & <dbl> & <dbl> & <dbl> & <dbl> & <dbl> & <dbl> & <dbl> & <dbl> & <dbl> & <dbl> & <dbl> & <dbl> & <dbl> & <dbl>\\\\\n",
       "\\hline\n",
       "\t1 & 0.3793 & 0.383 & 0.9204 & 0.2518 & 0.6774 & 0.9006 & 0.2257 & 0.9489 & 0.1448 & 0.6552 & 0.7645 & 0.0029 & 0.6816 & 0.5632 & 0.0883\\\\\n",
       "\\end{tabular}\n"
      ],
      "text/markdown": [
       "\n",
       "A data.frame: 1 × 15\n",
       "\n",
       "| <!--/--> | Lexical &lt;dbl&gt; | personality_all &lt;dbl&gt; | Coordinate &lt;dbl&gt; | Climatic_demands &lt;dbl&gt; | subsistence &lt;dbl&gt; | disease &lt;dbl&gt; | urban &lt;dbl&gt; | wealth &lt;dbl&gt; | edu &lt;dbl&gt; | Hofstede_6D &lt;dbl&gt; | new_gendist_weighted &lt;dbl&gt; | religion_per &lt;dbl&gt; | idealogy &lt;dbl&gt; | demographics &lt;dbl&gt; | check_size &lt;dbl&gt; |\n",
       "|---|---|---|---|---|---|---|---|---|---|---|---|---|---|---|---|\n",
       "| 1 | 0.3793 | 0.383 | 0.9204 | 0.2518 | 0.6774 | 0.9006 | 0.2257 | 0.9489 | 0.1448 | 0.6552 | 0.7645 | 0.0029 | 0.6816 | 0.5632 | 0.0883 |\n",
       "\n"
      ],
      "text/plain": [
       "  Lexical personality_all Coordinate Climatic_demands subsistence disease\n",
       "1 0.3793  0.383           0.9204     0.2518           0.6774      0.9006 \n",
       "  urban  wealth edu    Hofstede_6D new_gendist_weighted religion_per idealogy\n",
       "1 0.2257 0.9489 0.1448 0.6552      0.7645               0.0029       0.6816  \n",
       "  demographics check_size\n",
       "1 0.5632       0.0883    "
      ]
     },
     "metadata": {},
     "output_type": "display_data"
    }
   ],
   "source": [
    "read.csv('output_data/p_value_sub/check_size/formality_33d.csv',row.names=1)"
   ]
  },
  {
   "cell_type": "code",
   "execution_count": 9,
   "id": "e9dac227",
   "metadata": {
    "ExecuteTime": {
     "end_time": "2023-01-11T08:48:35.366183Z",
     "start_time": "2023-01-11T08:48:34.778Z"
    }
   },
   "outputs": [
    {
     "data": {
      "text/html": [
       "<strong>png:</strong> 2"
      ],
      "text/latex": [
       "\\textbf{png:} 2"
      ],
      "text/markdown": [
       "**png:** 2"
      ],
      "text/plain": [
       "png \n",
       "  2 "
      ]
     },
     "metadata": {},
     "output_type": "display_data"
    },
    {
     "data": {
      "image/png": "[encoded data removed]",
      "text/plain": [
       "plot without title"
      ]
     },
     "metadata": {
      "image/png": {
       "height": 150,
       "width": 600
      }
     },
     "output_type": "display_data"
    }
   ],
   "source": [
    "plot_regression_bar('activeness','#D7AB33')\n",
    "\n",
    "png(\"../output_graph/regression/check_size/subvariables/activeness.png\", bg=\"transparent\",\n",
    "    family = 'sans',units='in',width=10,height=2.5,res=300)\n",
    "plot_regression_bar_nolabel('activeness','#D7AB33')\n",
    "dev.off()"
   ]
  },
  {
   "cell_type": "code",
   "execution_count": 10,
   "id": "60d7d788",
   "metadata": {
    "ExecuteTime": {
     "end_time": "2023-01-11T08:48:35.393187Z",
     "start_time": "2023-01-11T08:48:34.779Z"
    }
   },
   "outputs": [
    {
     "data": {
      "text/html": [
       "<table class=\"dataframe\">\n",
       "<caption>A data.frame: 1 × 15</caption>\n",
       "<thead>\n",
       "\t<tr><th></th><th scope=col>Lexical</th><th scope=col>personality_all</th><th scope=col>Coordinate</th><th scope=col>Climatic_demands</th><th scope=col>subsistence</th><th scope=col>disease</th><th scope=col>urban</th><th scope=col>wealth</th><th scope=col>edu</th><th scope=col>Hofstede_6D</th><th scope=col>new_gendist_weighted</th><th scope=col>religion_per</th><th scope=col>idealogy</th><th scope=col>demographics</th><th scope=col>check_size</th></tr>\n",
       "\t<tr><th></th><th scope=col>&lt;dbl&gt;</th><th scope=col>&lt;dbl&gt;</th><th scope=col>&lt;dbl&gt;</th><th scope=col>&lt;dbl&gt;</th><th scope=col>&lt;dbl&gt;</th><th scope=col>&lt;dbl&gt;</th><th scope=col>&lt;dbl&gt;</th><th scope=col>&lt;dbl&gt;</th><th scope=col>&lt;dbl&gt;</th><th scope=col>&lt;dbl&gt;</th><th scope=col>&lt;dbl&gt;</th><th scope=col>&lt;dbl&gt;</th><th scope=col>&lt;dbl&gt;</th><th scope=col>&lt;dbl&gt;</th><th scope=col>&lt;dbl&gt;</th></tr>\n",
       "</thead>\n",
       "<tbody>\n",
       "\t<tr><th scope=row>1</th><td>0.1271</td><td>0.2644</td><td>0.7492</td><td>0.2933</td><td>0.5307</td><td>0.8111</td><td>0.0248</td><td>0.7922</td><td>0.1345</td><td>0.6954</td><td>0.5389</td><td>0.0503</td><td>0.787</td><td>0.4214</td><td>0.562</td></tr>\n",
       "</tbody>\n",
       "</table>\n"
      ],
      "text/latex": [
       "A data.frame: 1 × 15\n",
       "\\begin{tabular}{r|lllllllllllllll}\n",
       "  & Lexical & personality\\_all & Coordinate & Climatic\\_demands & subsistence & disease & urban & wealth & edu & Hofstede\\_6D & new\\_gendist\\_weighted & religion\\_per & idealogy & demographics & check\\_size\\\\\n",
       "  & <dbl> & <dbl> & <dbl> & <dbl> & <dbl> & <dbl> & <dbl> & <dbl> & <dbl> & <dbl> & <dbl> & <dbl> & <dbl> & <dbl> & <dbl>\\\\\n",
       "\\hline\n",
       "\t1 & 0.1271 & 0.2644 & 0.7492 & 0.2933 & 0.5307 & 0.8111 & 0.0248 & 0.7922 & 0.1345 & 0.6954 & 0.5389 & 0.0503 & 0.787 & 0.4214 & 0.562\\\\\n",
       "\\end{tabular}\n"
      ],
      "text/markdown": [
       "\n",
       "A data.frame: 1 × 15\n",
       "\n",
       "| <!--/--> | Lexical &lt;dbl&gt; | personality_all &lt;dbl&gt; | Coordinate &lt;dbl&gt; | Climatic_demands &lt;dbl&gt; | subsistence &lt;dbl&gt; | disease &lt;dbl&gt; | urban &lt;dbl&gt; | wealth &lt;dbl&gt; | edu &lt;dbl&gt; | Hofstede_6D &lt;dbl&gt; | new_gendist_weighted &lt;dbl&gt; | religion_per &lt;dbl&gt; | idealogy &lt;dbl&gt; | demographics &lt;dbl&gt; | check_size &lt;dbl&gt; |\n",
       "|---|---|---|---|---|---|---|---|---|---|---|---|---|---|---|---|\n",
       "| 1 | 0.1271 | 0.2644 | 0.7492 | 0.2933 | 0.5307 | 0.8111 | 0.0248 | 0.7922 | 0.1345 | 0.6954 | 0.5389 | 0.0503 | 0.787 | 0.4214 | 0.562 |\n",
       "\n"
      ],
      "text/plain": [
       "  Lexical personality_all Coordinate Climatic_demands subsistence disease\n",
       "1 0.1271  0.2644          0.7492     0.2933           0.5307      0.8111 \n",
       "  urban  wealth edu    Hofstede_6D new_gendist_weighted religion_per idealogy\n",
       "1 0.0248 0.7922 0.1345 0.6954      0.5389               0.0503       0.787   \n",
       "  demographics check_size\n",
       "1 0.4214       0.562     "
      ]
     },
     "metadata": {},
     "output_type": "display_data"
    }
   ],
   "source": [
    "read.csv('output_data/p_value_sub/check_size/activeness_33d.csv',row.names=1)"
   ]
  },
  {
   "cell_type": "code",
   "execution_count": 11,
   "id": "4cad533c",
   "metadata": {
    "ExecuteTime": {
     "end_time": "2023-01-11T08:48:35.649245Z",
     "start_time": "2023-01-11T08:48:34.781Z"
    }
   },
   "outputs": [
    {
     "data": {
      "text/html": [
       "<strong>png:</strong> 2"
      ],
      "text/latex": [
       "\\textbf{png:} 2"
      ],
      "text/markdown": [
       "**png:** 2"
      ],
      "text/plain": [
       "png \n",
       "  2 "
      ]
     },
     "metadata": {},
     "output_type": "display_data"
    },
    {
     "data": {
      "image/png": "[encoded data removed]",
      "text/plain": [
       "plot without title"
      ]
     },
     "metadata": {
      "image/png": {
       "height": 150,
       "width": 600
      }
     },
     "output_type": "display_data"
    }
   ],
   "source": [
    "plot_regression_bar('valence','#96BE33')\n",
    "\n",
    "png(\"../output_graph/regression/check_size/subvariables/valence.png\", bg=\"transparent\",\n",
    "    family = 'sans',units='in',width=10,height=2.5,res=300)\n",
    "plot_regression_bar_nolabel('valence','#96BE33')\n",
    "dev.off()"
   ]
  },
  {
   "cell_type": "code",
   "execution_count": 12,
   "id": "500574f4",
   "metadata": {
    "ExecuteTime": {
     "end_time": "2023-01-11T08:48:35.677252Z",
     "start_time": "2023-01-11T08:48:34.783Z"
    }
   },
   "outputs": [
    {
     "data": {
      "text/html": [
       "<table class=\"dataframe\">\n",
       "<caption>A data.frame: 1 × 15</caption>\n",
       "<thead>\n",
       "\t<tr><th></th><th scope=col>Lexical</th><th scope=col>personality_all</th><th scope=col>Coordinate</th><th scope=col>Climatic_demands</th><th scope=col>subsistence</th><th scope=col>disease</th><th scope=col>urban</th><th scope=col>wealth</th><th scope=col>edu</th><th scope=col>Hofstede_6D</th><th scope=col>new_gendist_weighted</th><th scope=col>religion_per</th><th scope=col>idealogy</th><th scope=col>demographics</th><th scope=col>check_size</th></tr>\n",
       "\t<tr><th></th><th scope=col>&lt;dbl&gt;</th><th scope=col>&lt;dbl&gt;</th><th scope=col>&lt;dbl&gt;</th><th scope=col>&lt;dbl&gt;</th><th scope=col>&lt;dbl&gt;</th><th scope=col>&lt;dbl&gt;</th><th scope=col>&lt;dbl&gt;</th><th scope=col>&lt;dbl&gt;</th><th scope=col>&lt;dbl&gt;</th><th scope=col>&lt;dbl&gt;</th><th scope=col>&lt;dbl&gt;</th><th scope=col>&lt;dbl&gt;</th><th scope=col>&lt;dbl&gt;</th><th scope=col>&lt;dbl&gt;</th><th scope=col>&lt;dbl&gt;</th></tr>\n",
       "</thead>\n",
       "<tbody>\n",
       "\t<tr><th scope=row>1</th><td>0.6552</td><td>0.2576</td><td>0.6437</td><td>0.1572</td><td>0.9088</td><td>0.8814</td><td>0.0534</td><td>0.6442</td><td>0.1435</td><td>0.8216</td><td>0.3257</td><td>0.1014</td><td>0.6822</td><td>0.1888</td><td>0.5507</td></tr>\n",
       "</tbody>\n",
       "</table>\n"
      ],
      "text/latex": [
       "A data.frame: 1 × 15\n",
       "\\begin{tabular}{r|lllllllllllllll}\n",
       "  & Lexical & personality\\_all & Coordinate & Climatic\\_demands & subsistence & disease & urban & wealth & edu & Hofstede\\_6D & new\\_gendist\\_weighted & religion\\_per & idealogy & demographics & check\\_size\\\\\n",
       "  & <dbl> & <dbl> & <dbl> & <dbl> & <dbl> & <dbl> & <dbl> & <dbl> & <dbl> & <dbl> & <dbl> & <dbl> & <dbl> & <dbl> & <dbl>\\\\\n",
       "\\hline\n",
       "\t1 & 0.6552 & 0.2576 & 0.6437 & 0.1572 & 0.9088 & 0.8814 & 0.0534 & 0.6442 & 0.1435 & 0.8216 & 0.3257 & 0.1014 & 0.6822 & 0.1888 & 0.5507\\\\\n",
       "\\end{tabular}\n"
      ],
      "text/markdown": [
       "\n",
       "A data.frame: 1 × 15\n",
       "\n",
       "| <!--/--> | Lexical &lt;dbl&gt; | personality_all &lt;dbl&gt; | Coordinate &lt;dbl&gt; | Climatic_demands &lt;dbl&gt; | subsistence &lt;dbl&gt; | disease &lt;dbl&gt; | urban &lt;dbl&gt; | wealth &lt;dbl&gt; | edu &lt;dbl&gt; | Hofstede_6D &lt;dbl&gt; | new_gendist_weighted &lt;dbl&gt; | religion_per &lt;dbl&gt; | idealogy &lt;dbl&gt; | demographics &lt;dbl&gt; | check_size &lt;dbl&gt; |\n",
       "|---|---|---|---|---|---|---|---|---|---|---|---|---|---|---|---|\n",
       "| 1 | 0.6552 | 0.2576 | 0.6437 | 0.1572 | 0.9088 | 0.8814 | 0.0534 | 0.6442 | 0.1435 | 0.8216 | 0.3257 | 0.1014 | 0.6822 | 0.1888 | 0.5507 |\n",
       "\n"
      ],
      "text/plain": [
       "  Lexical personality_all Coordinate Climatic_demands subsistence disease\n",
       "1 0.6552  0.2576          0.6437     0.1572           0.9088      0.8814 \n",
       "  urban  wealth edu    Hofstede_6D new_gendist_weighted religion_per idealogy\n",
       "1 0.0534 0.6442 0.1435 0.8216      0.3257               0.1014       0.6822  \n",
       "  demographics check_size\n",
       "1 0.1888       0.5507    "
      ]
     },
     "metadata": {},
     "output_type": "display_data"
    }
   ],
   "source": [
    "read.csv('output_data/p_value_sub/check_size/valence_33d.csv',row.names=1)"
   ]
  },
  {
   "cell_type": "code",
   "execution_count": 13,
   "id": "e3cd96b4",
   "metadata": {
    "ExecuteTime": {
     "end_time": "2023-01-11T08:48:35.950041Z",
     "start_time": "2023-01-11T08:48:34.784Z"
    }
   },
   "outputs": [
    {
     "data": {
      "text/html": [
       "<strong>png:</strong> 2"
      ],
      "text/latex": [
       "\\textbf{png:} 2"
      ],
      "text/markdown": [
       "**png:** 2"
      ],
      "text/plain": [
       "png \n",
       "  2 "
      ]
     },
     "metadata": {},
     "output_type": "display_data"
    },
    {
     "data": {
      "image/png": "[encoded data removed]",
      "text/plain": [
       "plot without title"
      ]
     },
     "metadata": {
      "image/png": {
       "height": 150,
       "width": 600
      }
     },
     "output_type": "display_data"
    }
   ],
   "source": [
    "plot_regression_bar('exchange','#33CB85')\n",
    "\n",
    "png(\"../output_graph/regression/check_size/subvariables/exchange.png\", bg=\"transparent\",\n",
    "    family = 'sans',units='in',width=10,height=2.5,res=300)\n",
    "plot_regression_bar_nolabel('exchange','#33CB85')\n",
    "dev.off()"
   ]
  },
  {
   "cell_type": "code",
   "execution_count": 14,
   "id": "2f6ae048",
   "metadata": {
    "ExecuteTime": {
     "end_time": "2023-01-11T08:48:35.979048Z",
     "start_time": "2023-01-11T08:48:34.786Z"
    }
   },
   "outputs": [
    {
     "data": {
      "text/html": [
       "<table class=\"dataframe\">\n",
       "<caption>A data.frame: 1 × 15</caption>\n",
       "<thead>\n",
       "\t<tr><th></th><th scope=col>Lexical</th><th scope=col>personality_all</th><th scope=col>Coordinate</th><th scope=col>Climatic_demands</th><th scope=col>subsistence</th><th scope=col>disease</th><th scope=col>urban</th><th scope=col>wealth</th><th scope=col>edu</th><th scope=col>Hofstede_6D</th><th scope=col>new_gendist_weighted</th><th scope=col>religion_per</th><th scope=col>idealogy</th><th scope=col>demographics</th><th scope=col>check_size</th></tr>\n",
       "\t<tr><th></th><th scope=col>&lt;dbl&gt;</th><th scope=col>&lt;dbl&gt;</th><th scope=col>&lt;dbl&gt;</th><th scope=col>&lt;dbl&gt;</th><th scope=col>&lt;dbl&gt;</th><th scope=col>&lt;dbl&gt;</th><th scope=col>&lt;dbl&gt;</th><th scope=col>&lt;dbl&gt;</th><th scope=col>&lt;dbl&gt;</th><th scope=col>&lt;dbl&gt;</th><th scope=col>&lt;dbl&gt;</th><th scope=col>&lt;dbl&gt;</th><th scope=col>&lt;dbl&gt;</th><th scope=col>&lt;dbl&gt;</th><th scope=col>&lt;dbl&gt;</th></tr>\n",
       "</thead>\n",
       "<tbody>\n",
       "\t<tr><th scope=row>1</th><td>0.3536</td><td>0.6247</td><td>0.6073</td><td>0.3821</td><td>0.3111</td><td>0.5076</td><td>0.0519</td><td>0.5904</td><td>0.1643</td><td>0.5174</td><td>0.8285</td><td>0.1625</td><td>0.9447</td><td>0.3955</td><td>0.6915</td></tr>\n",
       "</tbody>\n",
       "</table>\n"
      ],
      "text/latex": [
       "A data.frame: 1 × 15\n",
       "\\begin{tabular}{r|lllllllllllllll}\n",
       "  & Lexical & personality\\_all & Coordinate & Climatic\\_demands & subsistence & disease & urban & wealth & edu & Hofstede\\_6D & new\\_gendist\\_weighted & religion\\_per & idealogy & demographics & check\\_size\\\\\n",
       "  & <dbl> & <dbl> & <dbl> & <dbl> & <dbl> & <dbl> & <dbl> & <dbl> & <dbl> & <dbl> & <dbl> & <dbl> & <dbl> & <dbl> & <dbl>\\\\\n",
       "\\hline\n",
       "\t1 & 0.3536 & 0.6247 & 0.6073 & 0.3821 & 0.3111 & 0.5076 & 0.0519 & 0.5904 & 0.1643 & 0.5174 & 0.8285 & 0.1625 & 0.9447 & 0.3955 & 0.6915\\\\\n",
       "\\end{tabular}\n"
      ],
      "text/markdown": [
       "\n",
       "A data.frame: 1 × 15\n",
       "\n",
       "| <!--/--> | Lexical &lt;dbl&gt; | personality_all &lt;dbl&gt; | Coordinate &lt;dbl&gt; | Climatic_demands &lt;dbl&gt; | subsistence &lt;dbl&gt; | disease &lt;dbl&gt; | urban &lt;dbl&gt; | wealth &lt;dbl&gt; | edu &lt;dbl&gt; | Hofstede_6D &lt;dbl&gt; | new_gendist_weighted &lt;dbl&gt; | religion_per &lt;dbl&gt; | idealogy &lt;dbl&gt; | demographics &lt;dbl&gt; | check_size &lt;dbl&gt; |\n",
       "|---|---|---|---|---|---|---|---|---|---|---|---|---|---|---|---|\n",
       "| 1 | 0.3536 | 0.6247 | 0.6073 | 0.3821 | 0.3111 | 0.5076 | 0.0519 | 0.5904 | 0.1643 | 0.5174 | 0.8285 | 0.1625 | 0.9447 | 0.3955 | 0.6915 |\n",
       "\n"
      ],
      "text/plain": [
       "  Lexical personality_all Coordinate Climatic_demands subsistence disease\n",
       "1 0.3536  0.6247          0.6073     0.3821           0.3111      0.5076 \n",
       "  urban  wealth edu    Hofstede_6D new_gendist_weighted religion_per idealogy\n",
       "1 0.0519 0.5904 0.1643 0.5174      0.8285               0.1625       0.9447  \n",
       "  demographics check_size\n",
       "1 0.3955       0.6915    "
      ]
     },
     "metadata": {},
     "output_type": "display_data"
    }
   ],
   "source": [
    "read.csv('output_data/p_value_sub/check_size/exchange_33d.csv',row.names=1)"
   ]
  },
  {
   "cell_type": "code",
   "execution_count": 15,
   "id": "c4642cdf",
   "metadata": {
    "ExecuteTime": {
     "end_time": "2023-01-11T08:48:36.273114Z",
     "start_time": "2023-01-11T08:48:34.788Z"
    }
   },
   "outputs": [
    {
     "data": {
      "text/html": [
       "<strong>png:</strong> 2"
      ],
      "text/latex": [
       "\\textbf{png:} 2"
      ],
      "text/markdown": [
       "**png:** 2"
      ],
      "text/plain": [
       "png \n",
       "  2 "
      ]
     },
     "metadata": {},
     "output_type": "display_data"
    },
    {
     "data": {
      "image/png": "[encoded data removed]",
      "text/plain": [
       "plot without title"
      ]
     },
     "metadata": {
      "image/png": {
       "height": 150,
       "width": 600
      }
     },
     "output_type": "display_data"
    }
   ],
   "source": [
    "plot_regression_bar('equality','#33CCD0')\n",
    "\n",
    "png(\"../output_graph/regression/check_size/subvariables/equality.png\", bg=\"transparent\",\n",
    "    family = 'sans',units='in',width=10,height=2.5,res=300)\n",
    "plot_regression_bar_nolabel('equality','#33CCD0')\n",
    "dev.off()"
   ]
  },
  {
   "cell_type": "code",
   "execution_count": 16,
   "id": "238fc1e8",
   "metadata": {
    "ExecuteTime": {
     "end_time": "2023-01-11T08:48:36.306121Z",
     "start_time": "2023-01-11T08:48:34.790Z"
    }
   },
   "outputs": [
    {
     "data": {
      "text/html": [
       "<table class=\"dataframe\">\n",
       "<caption>A data.frame: 1 × 15</caption>\n",
       "<thead>\n",
       "\t<tr><th></th><th scope=col>Lexical</th><th scope=col>personality_all</th><th scope=col>Coordinate</th><th scope=col>Climatic_demands</th><th scope=col>subsistence</th><th scope=col>disease</th><th scope=col>urban</th><th scope=col>wealth</th><th scope=col>edu</th><th scope=col>Hofstede_6D</th><th scope=col>new_gendist_weighted</th><th scope=col>religion_per</th><th scope=col>idealogy</th><th scope=col>demographics</th><th scope=col>check_size</th></tr>\n",
       "\t<tr><th></th><th scope=col>&lt;dbl&gt;</th><th scope=col>&lt;dbl&gt;</th><th scope=col>&lt;dbl&gt;</th><th scope=col>&lt;dbl&gt;</th><th scope=col>&lt;dbl&gt;</th><th scope=col>&lt;dbl&gt;</th><th scope=col>&lt;dbl&gt;</th><th scope=col>&lt;dbl&gt;</th><th scope=col>&lt;dbl&gt;</th><th scope=col>&lt;dbl&gt;</th><th scope=col>&lt;dbl&gt;</th><th scope=col>&lt;dbl&gt;</th><th scope=col>&lt;dbl&gt;</th><th scope=col>&lt;dbl&gt;</th><th scope=col>&lt;dbl&gt;</th></tr>\n",
       "</thead>\n",
       "<tbody>\n",
       "\t<tr><th scope=row>1</th><td>0.7574</td><td>0.0552</td><td>0.836</td><td>0.2911</td><td>0.5063</td><td>0.5103</td><td>0.0825</td><td>0.7169</td><td>0.1744</td><td>0.7328</td><td>0.8301</td><td>0.0069</td><td>0.763</td><td>0.2105</td><td>0.2319</td></tr>\n",
       "</tbody>\n",
       "</table>\n"
      ],
      "text/latex": [
       "A data.frame: 1 × 15\n",
       "\\begin{tabular}{r|lllllllllllllll}\n",
       "  & Lexical & personality\\_all & Coordinate & Climatic\\_demands & subsistence & disease & urban & wealth & edu & Hofstede\\_6D & new\\_gendist\\_weighted & religion\\_per & idealogy & demographics & check\\_size\\\\\n",
       "  & <dbl> & <dbl> & <dbl> & <dbl> & <dbl> & <dbl> & <dbl> & <dbl> & <dbl> & <dbl> & <dbl> & <dbl> & <dbl> & <dbl> & <dbl>\\\\\n",
       "\\hline\n",
       "\t1 & 0.7574 & 0.0552 & 0.836 & 0.2911 & 0.5063 & 0.5103 & 0.0825 & 0.7169 & 0.1744 & 0.7328 & 0.8301 & 0.0069 & 0.763 & 0.2105 & 0.2319\\\\\n",
       "\\end{tabular}\n"
      ],
      "text/markdown": [
       "\n",
       "A data.frame: 1 × 15\n",
       "\n",
       "| <!--/--> | Lexical &lt;dbl&gt; | personality_all &lt;dbl&gt; | Coordinate &lt;dbl&gt; | Climatic_demands &lt;dbl&gt; | subsistence &lt;dbl&gt; | disease &lt;dbl&gt; | urban &lt;dbl&gt; | wealth &lt;dbl&gt; | edu &lt;dbl&gt; | Hofstede_6D &lt;dbl&gt; | new_gendist_weighted &lt;dbl&gt; | religion_per &lt;dbl&gt; | idealogy &lt;dbl&gt; | demographics &lt;dbl&gt; | check_size &lt;dbl&gt; |\n",
       "|---|---|---|---|---|---|---|---|---|---|---|---|---|---|---|---|\n",
       "| 1 | 0.7574 | 0.0552 | 0.836 | 0.2911 | 0.5063 | 0.5103 | 0.0825 | 0.7169 | 0.1744 | 0.7328 | 0.8301 | 0.0069 | 0.763 | 0.2105 | 0.2319 |\n",
       "\n"
      ],
      "text/plain": [
       "  Lexical personality_all Coordinate Climatic_demands subsistence disease\n",
       "1 0.7574  0.0552          0.836      0.2911           0.5063      0.5103 \n",
       "  urban  wealth edu    Hofstede_6D new_gendist_weighted religion_per idealogy\n",
       "1 0.0825 0.7169 0.1744 0.7328      0.8301               0.0069       0.763   \n",
       "  demographics check_size\n",
       "1 0.2105       0.2319    "
      ]
     },
     "metadata": {},
     "output_type": "display_data"
    }
   ],
   "source": [
    "read.csv('output_data/p_value_sub/check_size/equality_33d.csv',row.names=1)"
   ]
  },
  {
   "cell_type": "markdown",
   "id": "335057ac",
   "metadata": {},
   "source": [
    "## Categorical"
   ]
  },
  {
   "cell_type": "code",
   "execution_count": 17,
   "id": "8c366c17",
   "metadata": {
    "ExecuteTime": {
     "end_time": "2023-01-11T08:48:36.553960Z",
     "start_time": "2023-01-11T08:48:34.913Z"
    }
   },
   "outputs": [
    {
     "data": {
      "text/html": [
       "<strong>png:</strong> 2"
      ],
      "text/latex": [
       "\\textbf{png:} 2"
      ],
      "text/markdown": [
       "**png:** 2"
      ],
      "text/plain": [
       "png \n",
       "  2 "
      ]
     },
     "metadata": {},
     "output_type": "display_data"
    },
    {
     "data": {
      "image/png": "[encoded data removed]",
      "text/plain": [
       "plot without title"
      ]
     },
     "metadata": {
      "image/png": {
       "height": 150,
       "width": 600
      }
     },
     "output_type": "display_data"
    }
   ],
   "source": [
    "plot_regression_bar('hostile','#33BAFF')\n",
    "\n",
    "png(\"../output_graph/regression/check_size/subvariables/hostile.png\", bg=\"transparent\",\n",
    "    family = 'sans',units='in',width=10,height=2.5,res=300)\n",
    "plot_regression_bar_nolabel('hostile','#33BAFF')\n",
    "dev.off()"
   ]
  },
  {
   "cell_type": "code",
   "execution_count": 18,
   "id": "35be1bdd",
   "metadata": {
    "ExecuteTime": {
     "end_time": "2023-01-11T08:48:36.586966Z",
     "start_time": "2023-01-11T08:48:34.915Z"
    }
   },
   "outputs": [
    {
     "data": {
      "text/html": [
       "<table class=\"dataframe\">\n",
       "<caption>A data.frame: 1 × 15</caption>\n",
       "<thead>\n",
       "\t<tr><th></th><th scope=col>Lexical</th><th scope=col>personality_all</th><th scope=col>Coordinate</th><th scope=col>Climatic_demands</th><th scope=col>subsistence</th><th scope=col>disease</th><th scope=col>urban</th><th scope=col>wealth</th><th scope=col>edu</th><th scope=col>Hofstede_6D</th><th scope=col>new_gendist_weighted</th><th scope=col>religion_per</th><th scope=col>idealogy</th><th scope=col>demographics</th><th scope=col>check_size</th></tr>\n",
       "\t<tr><th></th><th scope=col>&lt;dbl&gt;</th><th scope=col>&lt;dbl&gt;</th><th scope=col>&lt;dbl&gt;</th><th scope=col>&lt;dbl&gt;</th><th scope=col>&lt;dbl&gt;</th><th scope=col>&lt;dbl&gt;</th><th scope=col>&lt;dbl&gt;</th><th scope=col>&lt;dbl&gt;</th><th scope=col>&lt;dbl&gt;</th><th scope=col>&lt;dbl&gt;</th><th scope=col>&lt;dbl&gt;</th><th scope=col>&lt;dbl&gt;</th><th scope=col>&lt;dbl&gt;</th><th scope=col>&lt;dbl&gt;</th><th scope=col>&lt;dbl&gt;</th></tr>\n",
       "</thead>\n",
       "<tbody>\n",
       "\t<tr><th scope=row>1</th><td>0.0129</td><td>0.4951</td><td>0.7436</td><td>0.3045</td><td>0.0218</td><td>0.1577</td><td>0.122</td><td>0.1732</td><td>0.2947</td><td>0.5395</td><td>0.8976</td><td>0.2691</td><td>0.3219</td><td>0.9466</td><td>0.9757</td></tr>\n",
       "</tbody>\n",
       "</table>\n"
      ],
      "text/latex": [
       "A data.frame: 1 × 15\n",
       "\\begin{tabular}{r|lllllllllllllll}\n",
       "  & Lexical & personality\\_all & Coordinate & Climatic\\_demands & subsistence & disease & urban & wealth & edu & Hofstede\\_6D & new\\_gendist\\_weighted & religion\\_per & idealogy & demographics & check\\_size\\\\\n",
       "  & <dbl> & <dbl> & <dbl> & <dbl> & <dbl> & <dbl> & <dbl> & <dbl> & <dbl> & <dbl> & <dbl> & <dbl> & <dbl> & <dbl> & <dbl>\\\\\n",
       "\\hline\n",
       "\t1 & 0.0129 & 0.4951 & 0.7436 & 0.3045 & 0.0218 & 0.1577 & 0.122 & 0.1732 & 0.2947 & 0.5395 & 0.8976 & 0.2691 & 0.3219 & 0.9466 & 0.9757\\\\\n",
       "\\end{tabular}\n"
      ],
      "text/markdown": [
       "\n",
       "A data.frame: 1 × 15\n",
       "\n",
       "| <!--/--> | Lexical &lt;dbl&gt; | personality_all &lt;dbl&gt; | Coordinate &lt;dbl&gt; | Climatic_demands &lt;dbl&gt; | subsistence &lt;dbl&gt; | disease &lt;dbl&gt; | urban &lt;dbl&gt; | wealth &lt;dbl&gt; | edu &lt;dbl&gt; | Hofstede_6D &lt;dbl&gt; | new_gendist_weighted &lt;dbl&gt; | religion_per &lt;dbl&gt; | idealogy &lt;dbl&gt; | demographics &lt;dbl&gt; | check_size &lt;dbl&gt; |\n",
       "|---|---|---|---|---|---|---|---|---|---|---|---|---|---|---|---|\n",
       "| 1 | 0.0129 | 0.4951 | 0.7436 | 0.3045 | 0.0218 | 0.1577 | 0.122 | 0.1732 | 0.2947 | 0.5395 | 0.8976 | 0.2691 | 0.3219 | 0.9466 | 0.9757 |\n",
       "\n"
      ],
      "text/plain": [
       "  Lexical personality_all Coordinate Climatic_demands subsistence disease urban\n",
       "1 0.0129  0.4951          0.7436     0.3045           0.0218      0.1577  0.122\n",
       "  wealth edu    Hofstede_6D new_gendist_weighted religion_per idealogy\n",
       "1 0.1732 0.2947 0.5395      0.8976               0.2691       0.3219  \n",
       "  demographics check_size\n",
       "1 0.9466       0.9757    "
      ]
     },
     "metadata": {},
     "output_type": "display_data"
    }
   ],
   "source": [
    "read.csv('output_data/p_value_sub/check_size/hostile_33d.csv',row.names=1)"
   ]
  },
  {
   "cell_type": "code",
   "execution_count": 19,
   "id": "c8993647",
   "metadata": {
    "ExecuteTime": {
     "end_time": "2023-01-11T08:48:36.852128Z",
     "start_time": "2023-01-11T08:48:34.916Z"
    }
   },
   "outputs": [
    {
     "data": {
      "text/html": [
       "<strong>png:</strong> 2"
      ],
      "text/latex": [
       "\\textbf{png:} 2"
      ],
      "text/markdown": [
       "**png:** 2"
      ],
      "text/plain": [
       "png \n",
       "  2 "
      ]
     },
     "metadata": {},
     "output_type": "display_data"
    },
    {
     "data": {
      "image/png": "[encoded data removed]",
      "text/plain": [
       "plot without title"
      ]
     },
     "metadata": {
      "image/png": {
       "height": 150,
       "width": 600
      }
     },
     "output_type": "display_data"
    }
   ],
   "source": [
    "plot_regression_bar('private','#D296FF')\n",
    "\n",
    "png(\"../output_graph/regression/check_size/subvariables/private.png\", bg=\"transparent\",\n",
    "    family = 'sans',units='in',width=10,height=2.5,res=300)\n",
    "plot_regression_bar_nolabel('private','#D296FF')\n",
    "dev.off()"
   ]
  },
  {
   "cell_type": "code",
   "execution_count": 20,
   "id": "fa5be87d",
   "metadata": {
    "ExecuteTime": {
     "end_time": "2023-01-11T08:48:36.881134Z",
     "start_time": "2023-01-11T08:48:34.921Z"
    }
   },
   "outputs": [
    {
     "data": {
      "text/html": [
       "<table class=\"dataframe\">\n",
       "<caption>A data.frame: 1 × 15</caption>\n",
       "<thead>\n",
       "\t<tr><th></th><th scope=col>Lexical</th><th scope=col>personality_all</th><th scope=col>Coordinate</th><th scope=col>Climatic_demands</th><th scope=col>subsistence</th><th scope=col>disease</th><th scope=col>urban</th><th scope=col>wealth</th><th scope=col>edu</th><th scope=col>Hofstede_6D</th><th scope=col>new_gendist_weighted</th><th scope=col>religion_per</th><th scope=col>idealogy</th><th scope=col>demographics</th><th scope=col>check_size</th></tr>\n",
       "\t<tr><th></th><th scope=col>&lt;dbl&gt;</th><th scope=col>&lt;dbl&gt;</th><th scope=col>&lt;dbl&gt;</th><th scope=col>&lt;dbl&gt;</th><th scope=col>&lt;dbl&gt;</th><th scope=col>&lt;dbl&gt;</th><th scope=col>&lt;dbl&gt;</th><th scope=col>&lt;dbl&gt;</th><th scope=col>&lt;dbl&gt;</th><th scope=col>&lt;dbl&gt;</th><th scope=col>&lt;dbl&gt;</th><th scope=col>&lt;dbl&gt;</th><th scope=col>&lt;dbl&gt;</th><th scope=col>&lt;dbl&gt;</th><th scope=col>&lt;dbl&gt;</th></tr>\n",
       "</thead>\n",
       "<tbody>\n",
       "\t<tr><th scope=row>1</th><td>0.1805</td><td>0.5072</td><td>0.8131</td><td>0.1719</td><td>0.7484</td><td>0.8122</td><td>0.0628</td><td>0.0538</td><td>0.5595</td><td>0.7534</td><td>0.3789</td><td>0.0238</td><td>0.6678</td><td>0.9936</td><td>0.6719</td></tr>\n",
       "</tbody>\n",
       "</table>\n"
      ],
      "text/latex": [
       "A data.frame: 1 × 15\n",
       "\\begin{tabular}{r|lllllllllllllll}\n",
       "  & Lexical & personality\\_all & Coordinate & Climatic\\_demands & subsistence & disease & urban & wealth & edu & Hofstede\\_6D & new\\_gendist\\_weighted & religion\\_per & idealogy & demographics & check\\_size\\\\\n",
       "  & <dbl> & <dbl> & <dbl> & <dbl> & <dbl> & <dbl> & <dbl> & <dbl> & <dbl> & <dbl> & <dbl> & <dbl> & <dbl> & <dbl> & <dbl>\\\\\n",
       "\\hline\n",
       "\t1 & 0.1805 & 0.5072 & 0.8131 & 0.1719 & 0.7484 & 0.8122 & 0.0628 & 0.0538 & 0.5595 & 0.7534 & 0.3789 & 0.0238 & 0.6678 & 0.9936 & 0.6719\\\\\n",
       "\\end{tabular}\n"
      ],
      "text/markdown": [
       "\n",
       "A data.frame: 1 × 15\n",
       "\n",
       "| <!--/--> | Lexical &lt;dbl&gt; | personality_all &lt;dbl&gt; | Coordinate &lt;dbl&gt; | Climatic_demands &lt;dbl&gt; | subsistence &lt;dbl&gt; | disease &lt;dbl&gt; | urban &lt;dbl&gt; | wealth &lt;dbl&gt; | edu &lt;dbl&gt; | Hofstede_6D &lt;dbl&gt; | new_gendist_weighted &lt;dbl&gt; | religion_per &lt;dbl&gt; | idealogy &lt;dbl&gt; | demographics &lt;dbl&gt; | check_size &lt;dbl&gt; |\n",
       "|---|---|---|---|---|---|---|---|---|---|---|---|---|---|---|---|\n",
       "| 1 | 0.1805 | 0.5072 | 0.8131 | 0.1719 | 0.7484 | 0.8122 | 0.0628 | 0.0538 | 0.5595 | 0.7534 | 0.3789 | 0.0238 | 0.6678 | 0.9936 | 0.6719 |\n",
       "\n"
      ],
      "text/plain": [
       "  Lexical personality_all Coordinate Climatic_demands subsistence disease\n",
       "1 0.1805  0.5072          0.8131     0.1719           0.7484      0.8122 \n",
       "  urban  wealth edu    Hofstede_6D new_gendist_weighted religion_per idealogy\n",
       "1 0.0628 0.0538 0.5595 0.7534      0.3789               0.0238       0.6678  \n",
       "  demographics check_size\n",
       "1 0.9936       0.6719    "
      ]
     },
     "metadata": {},
     "output_type": "display_data"
    }
   ],
   "source": [
    "read.csv('output_data/p_value_sub/check_size/private_33d.csv',row.names=1)"
   ]
  },
  {
   "cell_type": "code",
   "execution_count": 21,
   "id": "fd75fc02",
   "metadata": {
    "ExecuteTime": {
     "end_time": "2023-01-11T08:48:37.155937Z",
     "start_time": "2023-01-11T08:48:34.923Z"
    }
   },
   "outputs": [
    {
     "data": {
      "text/html": [
       "<strong>png:</strong> 2"
      ],
      "text/latex": [
       "\\textbf{png:} 2"
      ],
      "text/markdown": [
       "**png:** 2"
      ],
      "text/plain": [
       "png \n",
       "  2 "
      ]
     },
     "metadata": {},
     "output_type": "display_data"
    },
    {
     "data": {
      "image/png": "[encoded data removed]",
      "text/plain": [
       "plot without title"
      ]
     },
     "metadata": {
      "image/png": {
       "height": 150,
       "width": 600
      }
     },
     "output_type": "display_data"
    }
   ],
   "source": [
    "plot_regression_bar('public','#FF81D6')\n",
    "\n",
    "png(\"../output_graph/regression/check_size/subvariables/public.png\", bg=\"transparent\",\n",
    "    family = 'sans',units='in',width=10,height=2.5,res=300)\n",
    "plot_regression_bar_nolabel('public','#FF81D6')\n",
    "dev.off()"
   ]
  },
  {
   "cell_type": "code",
   "execution_count": 22,
   "id": "84760f41",
   "metadata": {
    "ExecuteTime": {
     "end_time": "2023-01-11T08:48:37.187942Z",
     "start_time": "2023-01-11T08:48:34.924Z"
    }
   },
   "outputs": [
    {
     "data": {
      "text/html": [
       "<table class=\"dataframe\">\n",
       "<caption>A data.frame: 1 × 15</caption>\n",
       "<thead>\n",
       "\t<tr><th></th><th scope=col>Lexical</th><th scope=col>personality_all</th><th scope=col>Coordinate</th><th scope=col>Climatic_demands</th><th scope=col>subsistence</th><th scope=col>disease</th><th scope=col>urban</th><th scope=col>wealth</th><th scope=col>edu</th><th scope=col>Hofstede_6D</th><th scope=col>new_gendist_weighted</th><th scope=col>religion_per</th><th scope=col>idealogy</th><th scope=col>demographics</th><th scope=col>check_size</th></tr>\n",
       "\t<tr><th></th><th scope=col>&lt;dbl&gt;</th><th scope=col>&lt;dbl&gt;</th><th scope=col>&lt;dbl&gt;</th><th scope=col>&lt;dbl&gt;</th><th scope=col>&lt;dbl&gt;</th><th scope=col>&lt;dbl&gt;</th><th scope=col>&lt;dbl&gt;</th><th scope=col>&lt;dbl&gt;</th><th scope=col>&lt;dbl&gt;</th><th scope=col>&lt;dbl&gt;</th><th scope=col>&lt;dbl&gt;</th><th scope=col>&lt;dbl&gt;</th><th scope=col>&lt;dbl&gt;</th><th scope=col>&lt;dbl&gt;</th><th scope=col>&lt;dbl&gt;</th></tr>\n",
       "</thead>\n",
       "<tbody>\n",
       "\t<tr><th scope=row>1</th><td>0.4047</td><td>0.2837</td><td>0.8627</td><td>0.1524</td><td>0.4522</td><td>0.6264</td><td>0.0289</td><td>0.22</td><td>0.3167</td><td>0.7196</td><td>0.5418</td><td>0.0095</td><td>0.691</td><td>0.9701</td><td>0.6257</td></tr>\n",
       "</tbody>\n",
       "</table>\n"
      ],
      "text/latex": [
       "A data.frame: 1 × 15\n",
       "\\begin{tabular}{r|lllllllllllllll}\n",
       "  & Lexical & personality\\_all & Coordinate & Climatic\\_demands & subsistence & disease & urban & wealth & edu & Hofstede\\_6D & new\\_gendist\\_weighted & religion\\_per & idealogy & demographics & check\\_size\\\\\n",
       "  & <dbl> & <dbl> & <dbl> & <dbl> & <dbl> & <dbl> & <dbl> & <dbl> & <dbl> & <dbl> & <dbl> & <dbl> & <dbl> & <dbl> & <dbl>\\\\\n",
       "\\hline\n",
       "\t1 & 0.4047 & 0.2837 & 0.8627 & 0.1524 & 0.4522 & 0.6264 & 0.0289 & 0.22 & 0.3167 & 0.7196 & 0.5418 & 0.0095 & 0.691 & 0.9701 & 0.6257\\\\\n",
       "\\end{tabular}\n"
      ],
      "text/markdown": [
       "\n",
       "A data.frame: 1 × 15\n",
       "\n",
       "| <!--/--> | Lexical &lt;dbl&gt; | personality_all &lt;dbl&gt; | Coordinate &lt;dbl&gt; | Climatic_demands &lt;dbl&gt; | subsistence &lt;dbl&gt; | disease &lt;dbl&gt; | urban &lt;dbl&gt; | wealth &lt;dbl&gt; | edu &lt;dbl&gt; | Hofstede_6D &lt;dbl&gt; | new_gendist_weighted &lt;dbl&gt; | religion_per &lt;dbl&gt; | idealogy &lt;dbl&gt; | demographics &lt;dbl&gt; | check_size &lt;dbl&gt; |\n",
       "|---|---|---|---|---|---|---|---|---|---|---|---|---|---|---|---|\n",
       "| 1 | 0.4047 | 0.2837 | 0.8627 | 0.1524 | 0.4522 | 0.6264 | 0.0289 | 0.22 | 0.3167 | 0.7196 | 0.5418 | 0.0095 | 0.691 | 0.9701 | 0.6257 |\n",
       "\n"
      ],
      "text/plain": [
       "  Lexical personality_all Coordinate Climatic_demands subsistence disease\n",
       "1 0.4047  0.2837          0.8627     0.1524           0.4522      0.6264 \n",
       "  urban  wealth edu    Hofstede_6D new_gendist_weighted religion_per idealogy\n",
       "1 0.0289 0.22   0.3167 0.7196      0.5418               0.0095       0.691   \n",
       "  demographics check_size\n",
       "1 0.9701       0.6257    "
      ]
     },
     "metadata": {},
     "output_type": "display_data"
    }
   ],
   "source": [
    "read.csv('output_data/p_value_sub/check_size/public_33d.csv',row.names=1)"
   ]
  }
 ],
 "metadata": {
  "kernelspec": {
   "display_name": "R",
   "language": "R",
   "name": "ir"
  },
  "language_info": {
   "codemirror_mode": "r",
   "file_extension": ".r",
   "mimetype": "text/x-r-source",
   "name": "R",
   "pygments_lexer": "r",
   "version": "4.1.2"
  },
  "latex_envs": {
   "LaTeX_envs_menu_present": true,
   "autoclose": false,
   "autocomplete": true,
   "bibliofile": "biblio.bib",
   "cite_by": "apalike",
   "current_citInitial": 1,
   "eqLabelWithNumbers": true,
   "eqNumInitial": 1,
   "hotkeys": {
    "equation": "Ctrl-E",
    "itemize": "Ctrl-I"
   },
   "labels_anchors": false,
   "latex_user_defs": false,
   "report_style_numbering": false,
   "user_envs_cfg": false
  },
  "toc": {
   "base_numbering": 1,
   "nav_menu": {},
   "number_sections": true,
   "sideBar": true,
   "skip_h1_title": false,
   "title_cell": "Table of Contents",
   "title_sidebar": "Contents",
   "toc_cell": true,
   "toc_position": {
    "height": "700.996px",
    "left": "824.988px",
    "top": "105.992px",
    "width": "383.968px"
   },
   "toc_section_display": true,
   "toc_window_display": true
  },
  "varInspector": {
   "cols": {
    "lenName": 16,
    "lenType": 16,
    "lenVar": 40
   },
   "kernels_config": {
    "python": {
     "delete_cmd_postfix": "",
     "delete_cmd_prefix": "del ",
     "library": "var_list.py",
     "varRefreshCmd": "print(var_dic_list())"
    },
    "r": {
     "delete_cmd_postfix": ") ",
     "delete_cmd_prefix": "rm(",
     "library": "var_list.r",
     "varRefreshCmd": "cat(var_dic_list()) "
    }
   },
   "types_to_exclude": [
    "module",
    "function",
    "builtin_function_or_method",
    "instance",
    "_Feature"
   ],
   "window_display": false
  }
 },
 "nbformat": 4,
 "nbformat_minor": 5
}
