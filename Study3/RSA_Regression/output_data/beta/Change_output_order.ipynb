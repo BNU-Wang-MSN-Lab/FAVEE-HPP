{
 "cells": [
  {
   "cell_type": "markdown",
   "id": "6f7201f8",
   "metadata": {},
   "source": [
    "# Main analysis"
   ]
  },
  {
   "cell_type": "code",
   "execution_count": 5,
   "id": "0a65c190",
   "metadata": {
    "ExecuteTime": {
     "end_time": "2023-01-05T14:06:08.056962Z",
     "start_time": "2023-01-05T14:06:08.041Z"
    }
   },
   "outputs": [],
   "source": [
    "predictors = c('Language','Personality','Geography','Climates','Subsistence',\n",
    "               'Disease','Modernization','Hofstede6D','Gene',\n",
    "               'Religion','Political','Demographics')\n",
    "predictors_order = c('Climates','Demographics','Disease','Gene',\n",
    "                    'Geography','Hofstede6D','Language',\n",
    "                     'Modernization','Personality',\n",
    "                    'Political','Religion','Subsistence')"
   ]
  },
  {
   "cell_type": "code",
   "execution_count": 8,
   "id": "716e529e",
   "metadata": {
    "ExecuteTime": {
     "end_time": "2023-01-05T14:06:48.610796Z",
     "start_time": "2023-01-05T14:06:48.589Z"
    }
   },
   "outputs": [],
   "source": [
    "full_feature = read.csv('raw_33d.csv',row.names=1)\n",
    "full_feature = full_feature[2:13,]\n",
    "\n",
    "rownames(full_feature) = predictors\n",
    "full_feature = full_feature[predictors_order,]\n",
    "\n",
    "write.csv(full_feature,'output_data/raw_33d.csv')"
   ]
  },
  {
   "cell_type": "code",
   "execution_count": 9,
   "id": "65a676c7",
   "metadata": {
    "ExecuteTime": {
     "end_time": "2023-01-05T14:09:01.973577Z",
     "start_time": "2023-01-05T14:09:01.948Z"
    }
   },
   "outputs": [],
   "source": [
    "favee = read.csv('favee_33d.csv',row.names=1)\n",
    "favee = favee[2:13,]\n",
    "\n",
    "rownames(favee) = predictors\n",
    "favee = favee[predictors_order,]\n",
    "\n",
    "write.csv(favee,'output_data/favee_33d.csv')"
   ]
  },
  {
   "cell_type": "code",
   "execution_count": 10,
   "id": "82a8f71a",
   "metadata": {
    "ExecuteTime": {
     "end_time": "2023-01-05T14:09:58.483462Z",
     "start_time": "2023-01-05T14:09:58.460Z"
    }
   },
   "outputs": [],
   "source": [
    "hpp = read.csv('hpp_33d.csv',row.names=1)\n",
    "hpp = hpp[2:13,]\n",
    "\n",
    "rownames(hpp) = predictors\n",
    "hpp = hpp[predictors_order,]\n",
    "\n",
    "write.csv(hpp,'output_data/hpp_33d.csv')"
   ]
  },
  {
   "cell_type": "markdown",
   "id": "71ba9873",
   "metadata": {},
   "source": [
    "# Follow-up analysis"
   ]
  },
  {
   "cell_type": "code",
   "execution_count": 16,
   "id": "edafd823",
   "metadata": {
    "ExecuteTime": {
     "end_time": "2023-01-05T14:14:09.495469Z",
     "start_time": "2023-01-05T14:14:09.475Z"
    }
   },
   "outputs": [],
   "source": [
    "predictors = c('Language','Personality','Geography','Climates','Subsistence',\n",
    "               'Disease','Urbanization','Wealth','Education','Hofstede6D','Gene',\n",
    "               'Religion','Political','Demographics')\n",
    "predictors_order = c('Climates','Demographics','Disease','Education','Gene',\n",
    "                    'Geography','Hofstede6D','Language',\n",
    "                     'Personality','Political','Religion','Subsistence',\n",
    "                    'Urbanization','Wealth')"
   ]
  },
  {
   "cell_type": "code",
   "execution_count": 17,
   "id": "e02753eb",
   "metadata": {
    "ExecuteTime": {
     "end_time": "2023-01-05T14:14:29.850111Z",
     "start_time": "2023-01-05T14:14:29.824Z"
    }
   },
   "outputs": [],
   "source": [
    "full_feature = read.csv('../beta_sub/raw_33d.csv',row.names=1)\n",
    "full_feature = full_feature[2:15,]\n",
    "\n",
    "rownames(full_feature) = predictors\n",
    "full_feature = full_feature[predictors_order,]\n",
    "\n",
    "write.csv(full_feature,'output_data/sub_raw_33d.csv')"
   ]
  },
  {
   "cell_type": "code",
   "execution_count": 18,
   "id": "1ba5e7ad",
   "metadata": {
    "ExecuteTime": {
     "end_time": "2023-01-05T14:15:29.153913Z",
     "start_time": "2023-01-05T14:15:29.131Z"
    }
   },
   "outputs": [],
   "source": [
    "favee = read.csv('../beta_sub/favee_33d.csv',row.names=1)\n",
    "favee = favee[2:15,]\n",
    "\n",
    "rownames(favee) = predictors\n",
    "favee = favee[predictors_order,]\n",
    "\n",
    "write.csv(favee,'output_data/sub_favee_33d.csv')"
   ]
  },
  {
   "cell_type": "code",
   "execution_count": 19,
   "id": "f2d40f40",
   "metadata": {
    "ExecuteTime": {
     "end_time": "2023-01-05T14:16:16.655862Z",
     "start_time": "2023-01-05T14:16:16.629Z"
    }
   },
   "outputs": [],
   "source": [
    "hpp = read.csv('../beta_sub/hpp_33d.csv',row.names=1)\n",
    "hpp = hpp[2:15,]\n",
    "\n",
    "rownames(hpp) = predictors\n",
    "hpp = hpp[predictors_order,]\n",
    "\n",
    "write.csv(hpp,'output_data/sub_hpp_33d.csv')"
   ]
  }
 ],
 "metadata": {
  "kernelspec": {
   "display_name": "R",
   "language": "R",
   "name": "ir"
  },
  "language_info": {
   "codemirror_mode": "r",
   "file_extension": ".r",
   "mimetype": "text/x-r-source",
   "name": "R",
   "pygments_lexer": "r",
   "version": "4.1.2"
  },
  "toc": {
   "base_numbering": 1,
   "nav_menu": {},
   "number_sections": true,
   "sideBar": true,
   "skip_h1_title": false,
   "title_cell": "Table of Contents",
   "title_sidebar": "Contents",
   "toc_cell": false,
   "toc_position": {},
   "toc_section_display": true,
   "toc_window_display": true
  },
  "varInspector": {
   "cols": {
    "lenName": 16,
    "lenType": 16,
    "lenVar": 40
   },
   "kernels_config": {
    "python": {
     "delete_cmd_postfix": "",
     "delete_cmd_prefix": "del ",
     "library": "var_list.py",
     "varRefreshCmd": "print(var_dic_list())"
    },
    "r": {
     "delete_cmd_postfix": ") ",
     "delete_cmd_prefix": "rm(",
     "library": "var_list.r",
     "varRefreshCmd": "cat(var_dic_list()) "
    }
   },
   "types_to_exclude": [
    "module",
    "function",
    "builtin_function_or_method",
    "instance",
    "_Feature"
   ],
   "window_display": false
  }
 },
 "nbformat": 4,
 "nbformat_minor": 5
}
