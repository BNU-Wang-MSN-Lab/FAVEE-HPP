{
 "cells": [
  {
   "cell_type": "markdown",
   "id": "0425e330",
   "metadata": {},
   "source": [
    "# Version1"
   ]
  },
  {
   "cell_type": "markdown",
   "id": "6f7201f8",
   "metadata": {},
   "source": [
    "## Main analysis"
   ]
  },
  {
   "cell_type": "code",
   "execution_count": 5,
   "id": "0a65c190",
   "metadata": {
    "ExecuteTime": {
     "end_time": "2023-01-05T14:06:08.056962Z",
     "start_time": "2023-01-05T14:06:08.041Z"
    }
   },
   "outputs": [],
   "source": [
    "predictors = c('Language','Personality','Geography','Climates','Subsistence',\n",
    "               'Disease','Modernization','Hofstede6D','Gene',\n",
    "               'Religion','Political','Demographics')\n",
    "predictors_order = c('Climates','Demographics','Disease','Gene',\n",
    "                    'Geography','Hofstede6D','Language',\n",
    "                     'Modernization','Personality',\n",
    "                    'Political','Religion','Subsistence')"
   ]
  },
  {
   "cell_type": "code",
   "execution_count": 8,
   "id": "716e529e",
   "metadata": {
    "ExecuteTime": {
     "end_time": "2023-01-05T14:06:48.610796Z",
     "start_time": "2023-01-05T14:06:48.589Z"
    }
   },
   "outputs": [],
   "source": [
    "full_feature = read.csv('raw_33d.csv',row.names=1)\n",
    "full_feature = full_feature[2:13,]\n",
    "\n",
    "rownames(full_feature) = predictors\n",
    "full_feature = full_feature[predictors_order,]\n",
    "\n",
    "write.csv(full_feature,'output_data/raw_33d.csv')"
   ]
  },
  {
   "cell_type": "code",
   "execution_count": 9,
   "id": "65a676c7",
   "metadata": {
    "ExecuteTime": {
     "end_time": "2023-01-05T14:09:01.973577Z",
     "start_time": "2023-01-05T14:09:01.948Z"
    }
   },
   "outputs": [],
   "source": [
    "favee = read.csv('favee_33d.csv',row.names=1)\n",
    "favee = favee[2:13,]\n",
    "\n",
    "rownames(favee) = predictors\n",
    "favee = favee[predictors_order,]\n",
    "\n",
    "write.csv(favee,'output_data/favee_33d.csv')"
   ]
  },
  {
   "cell_type": "code",
   "execution_count": 10,
   "id": "82a8f71a",
   "metadata": {
    "ExecuteTime": {
     "end_time": "2023-01-05T14:09:58.483462Z",
     "start_time": "2023-01-05T14:09:58.460Z"
    }
   },
   "outputs": [],
   "source": [
    "hpp = read.csv('hpp_33d.csv',row.names=1)\n",
    "hpp = hpp[2:13,]\n",
    "\n",
    "rownames(hpp) = predictors\n",
    "hpp = hpp[predictors_order,]\n",
    "\n",
    "write.csv(hpp,'output_data/hpp_33d.csv')"
   ]
  },
  {
   "cell_type": "markdown",
   "id": "71ba9873",
   "metadata": {},
   "source": [
    "## Follow-up analysis"
   ]
  },
  {
   "cell_type": "code",
   "execution_count": 16,
   "id": "edafd823",
   "metadata": {
    "ExecuteTime": {
     "end_time": "2023-01-05T14:14:09.495469Z",
     "start_time": "2023-01-05T14:14:09.475Z"
    }
   },
   "outputs": [],
   "source": [
    "predictors = c('Language','Personality','Geography','Climates','Subsistence',\n",
    "               'Disease','Urbanization','Wealth','Education','Hofstede6D','Gene',\n",
    "               'Religion','Political','Demographics')\n",
    "predictors_order = c('Climates','Demographics','Disease','Education','Gene',\n",
    "                    'Geography','Hofstede6D','Language',\n",
    "                     'Personality','Political','Religion','Subsistence',\n",
    "                    'Urbanization','Wealth')"
   ]
  },
  {
   "cell_type": "code",
   "execution_count": 17,
   "id": "e02753eb",
   "metadata": {
    "ExecuteTime": {
     "end_time": "2023-01-05T14:14:29.850111Z",
     "start_time": "2023-01-05T14:14:29.824Z"
    }
   },
   "outputs": [],
   "source": [
    "full_feature = read.csv('../beta_sub/raw_33d.csv',row.names=1)\n",
    "full_feature = full_feature[2:15,]\n",
    "\n",
    "rownames(full_feature) = predictors\n",
    "full_feature = full_feature[predictors_order,]\n",
    "\n",
    "write.csv(full_feature,'output_data/sub_raw_33d.csv')"
   ]
  },
  {
   "cell_type": "code",
   "execution_count": 18,
   "id": "1ba5e7ad",
   "metadata": {
    "ExecuteTime": {
     "end_time": "2023-01-05T14:15:29.153913Z",
     "start_time": "2023-01-05T14:15:29.131Z"
    }
   },
   "outputs": [],
   "source": [
    "favee = read.csv('../beta_sub/favee_33d.csv',row.names=1)\n",
    "favee = favee[2:15,]\n",
    "\n",
    "rownames(favee) = predictors\n",
    "favee = favee[predictors_order,]\n",
    "\n",
    "write.csv(favee,'output_data/sub_favee_33d.csv')"
   ]
  },
  {
   "cell_type": "code",
   "execution_count": 19,
   "id": "f2d40f40",
   "metadata": {
    "ExecuteTime": {
     "end_time": "2023-01-05T14:16:16.655862Z",
     "start_time": "2023-01-05T14:16:16.629Z"
    }
   },
   "outputs": [],
   "source": [
    "hpp = read.csv('../beta_sub/hpp_33d.csv',row.names=1)\n",
    "hpp = hpp[2:15,]\n",
    "\n",
    "rownames(hpp) = predictors\n",
    "hpp = hpp[predictors_order,]\n",
    "\n",
    "write.csv(hpp,'output_data/sub_hpp_33d.csv')"
   ]
  },
  {
   "cell_type": "markdown",
   "id": "5fd5eb6d",
   "metadata": {},
   "source": [
    "# Add Checksize"
   ]
  },
  {
   "cell_type": "markdown",
   "id": "490a1690",
   "metadata": {},
   "source": [
    "## Main analysis"
   ]
  },
  {
   "cell_type": "code",
   "execution_count": 26,
   "id": "2830d87b",
   "metadata": {
    "ExecuteTime": {
     "end_time": "2023-01-08T14:08:40.707629Z",
     "start_time": "2023-01-08T14:08:40.679Z"
    }
   },
   "outputs": [],
   "source": [
    "predictors = c('Language','Personality','Geography','Climates','Subsistence',\n",
    "               'Disease','Modernization','Hofstede6D','Gene',\n",
    "               'Religion','Political','Demographics',\n",
    "               'Non-social object knowledge')\n",
    "predictors_order = c('Climates','Demographics','Disease','Gene',\n",
    "                    'Geography','Hofstede6D','Language',\n",
    "                     'Modernization','Personality',\n",
    "                    'Political','Religion','Subsistence',\n",
    "                    'Non-social object knowledge')"
   ]
  },
  {
   "cell_type": "markdown",
   "id": "6d4d1c12",
   "metadata": {},
   "source": [
    "### beta"
   ]
  },
  {
   "cell_type": "code",
   "execution_count": 27,
   "id": "18f82f76",
   "metadata": {
    "ExecuteTime": {
     "end_time": "2023-01-08T14:08:42.977458Z",
     "start_time": "2023-01-08T14:08:42.936Z"
    }
   },
   "outputs": [],
   "source": [
    "full_feature = read.csv('check_size/raw_33d.csv',row.names=1)\n",
    "full_feature = full_feature[2:14,]\n",
    "rownames(full_feature) = predictors\n",
    "full_feature = full_feature[predictors_order,]\n",
    "\n",
    "\n",
    "favee = read.csv('check_size/favee_33d.csv',row.names=1)\n",
    "favee = favee[2:14,]\n",
    "rownames(favee) = predictors\n",
    "favee = favee[predictors_order,]\n",
    "\n",
    "\n",
    "hpp = read.csv('check_size/hpp_33d.csv',row.names=1)\n",
    "hpp = hpp[2:14,]\n",
    "rownames(hpp) = predictors\n",
    "hpp = hpp[predictors_order,]"
   ]
  },
  {
   "cell_type": "markdown",
   "id": "49c5f7ee",
   "metadata": {},
   "source": [
    "### p value"
   ]
  },
  {
   "cell_type": "code",
   "execution_count": 28,
   "id": "8a70bf4d",
   "metadata": {
    "ExecuteTime": {
     "end_time": "2023-01-08T14:08:47.896063Z",
     "start_time": "2023-01-08T14:08:47.826Z"
    }
   },
   "outputs": [
    {
     "data": {
      "text/html": [
       "<table class=\"dataframe\">\n",
       "<caption>A data.frame: 13 × 6</caption>\n",
       "<thead>\n",
       "\t<tr><th></th><th scope=col>full_feature</th><th scope=col>full_feature_p</th><th scope=col>favee</th><th scope=col>favee_p</th><th scope=col>hpp</th><th scope=col>hpp_p</th></tr>\n",
       "\t<tr><th></th><th scope=col>&lt;dbl&gt;</th><th scope=col>&lt;dbl&gt;</th><th scope=col>&lt;dbl&gt;</th><th scope=col>&lt;dbl&gt;</th><th scope=col>&lt;dbl&gt;</th><th scope=col>&lt;dbl&gt;</th></tr>\n",
       "</thead>\n",
       "<tbody>\n",
       "\t<tr><th scope=row>Climates</th><td> 0.164573987</td><td>0.1810</td><td> 0.179380206</td><td>0.1908</td><td> 0.130410993</td><td>0.1744</td></tr>\n",
       "\t<tr><th scope=row>Demographics</th><td>-0.052299633</td><td>0.5978</td><td>-0.011880680</td><td>0.4990</td><td>-0.305614092</td><td>0.9931</td></tr>\n",
       "\t<tr><th scope=row>Disease</th><td> 0.004855936</td><td>0.4732</td><td>-0.030989405</td><td>0.6305</td><td>-0.004918161</td><td>0.5030</td></tr>\n",
       "\t<tr><th scope=row>Gene</th><td>-0.056933967</td><td>0.5627</td><td>-0.174461171</td><td>0.7618</td><td>-0.017417888</td><td>0.4929</td></tr>\n",
       "\t<tr><th scope=row>Geography</th><td>-0.210812989</td><td>0.9246</td><td>-0.202895951</td><td>0.9073</td><td>-0.190406502</td><td>0.9188</td></tr>\n",
       "\t<tr><th scope=row>Hofstede6D</th><td>-0.150602288</td><td>0.8093</td><td>-0.199695909</td><td>0.8797</td><td>-0.073114246</td><td>0.6864</td></tr>\n",
       "\t<tr><th scope=row>Language</th><td> 0.014990039</td><td>0.4648</td><td>-0.003860342</td><td>0.5190</td><td> 0.054618205</td><td>0.3257</td></tr>\n",
       "\t<tr><th scope=row>Modernization</th><td> 0.350815481</td><td>0.0177</td><td> 0.263185564</td><td>0.0487</td><td> 0.280763992</td><td>0.0264</td></tr>\n",
       "\t<tr><th scope=row>Personality</th><td> 0.131265761</td><td>0.2103</td><td> 0.166520736</td><td>0.1920</td><td> 0.062322733</td><td>0.2994</td></tr>\n",
       "\t<tr><th scope=row>Political</th><td>-0.124058589</td><td>0.8170</td><td>-0.127888098</td><td>0.8272</td><td>-0.066965487</td><td>0.6958</td></tr>\n",
       "\t<tr><th scope=row>Religion</th><td> 0.557665662</td><td>0.0017</td><td> 0.536422745</td><td>0.0028</td><td> 0.393325977</td><td>0.0108</td></tr>\n",
       "\t<tr><th scope=row>Subsistence</th><td>-0.078809972</td><td>0.6973</td><td>-0.028132973</td><td>0.5617</td><td>-0.004348245</td><td>0.4940</td></tr>\n",
       "\t<tr><th scope=row>Non-social object knowledge</th><td> 0.003073976</td><td>0.4747</td><td> 0.034236156</td><td>0.4094</td><td>-0.086831765</td><td>0.7159</td></tr>\n",
       "</tbody>\n",
       "</table>\n"
      ],
      "text/latex": [
       "A data.frame: 13 × 6\n",
       "\\begin{tabular}{r|llllll}\n",
       "  & full\\_feature & full\\_feature\\_p & favee & favee\\_p & hpp & hpp\\_p\\\\\n",
       "  & <dbl> & <dbl> & <dbl> & <dbl> & <dbl> & <dbl>\\\\\n",
       "\\hline\n",
       "\tClimates &  0.164573987 & 0.1810 &  0.179380206 & 0.1908 &  0.130410993 & 0.1744\\\\\n",
       "\tDemographics & -0.052299633 & 0.5978 & -0.011880680 & 0.4990 & -0.305614092 & 0.9931\\\\\n",
       "\tDisease &  0.004855936 & 0.4732 & -0.030989405 & 0.6305 & -0.004918161 & 0.5030\\\\\n",
       "\tGene & -0.056933967 & 0.5627 & -0.174461171 & 0.7618 & -0.017417888 & 0.4929\\\\\n",
       "\tGeography & -0.210812989 & 0.9246 & -0.202895951 & 0.9073 & -0.190406502 & 0.9188\\\\\n",
       "\tHofstede6D & -0.150602288 & 0.8093 & -0.199695909 & 0.8797 & -0.073114246 & 0.6864\\\\\n",
       "\tLanguage &  0.014990039 & 0.4648 & -0.003860342 & 0.5190 &  0.054618205 & 0.3257\\\\\n",
       "\tModernization &  0.350815481 & 0.0177 &  0.263185564 & 0.0487 &  0.280763992 & 0.0264\\\\\n",
       "\tPersonality &  0.131265761 & 0.2103 &  0.166520736 & 0.1920 &  0.062322733 & 0.2994\\\\\n",
       "\tPolitical & -0.124058589 & 0.8170 & -0.127888098 & 0.8272 & -0.066965487 & 0.6958\\\\\n",
       "\tReligion &  0.557665662 & 0.0017 &  0.536422745 & 0.0028 &  0.393325977 & 0.0108\\\\\n",
       "\tSubsistence & -0.078809972 & 0.6973 & -0.028132973 & 0.5617 & -0.004348245 & 0.4940\\\\\n",
       "\tNon-social object knowledge &  0.003073976 & 0.4747 &  0.034236156 & 0.4094 & -0.086831765 & 0.7159\\\\\n",
       "\\end{tabular}\n"
      ],
      "text/markdown": [
       "\n",
       "A data.frame: 13 × 6\n",
       "\n",
       "| <!--/--> | full_feature &lt;dbl&gt; | full_feature_p &lt;dbl&gt; | favee &lt;dbl&gt; | favee_p &lt;dbl&gt; | hpp &lt;dbl&gt; | hpp_p &lt;dbl&gt; |\n",
       "|---|---|---|---|---|---|---|\n",
       "| Climates |  0.164573987 | 0.1810 |  0.179380206 | 0.1908 |  0.130410993 | 0.1744 |\n",
       "| Demographics | -0.052299633 | 0.5978 | -0.011880680 | 0.4990 | -0.305614092 | 0.9931 |\n",
       "| Disease |  0.004855936 | 0.4732 | -0.030989405 | 0.6305 | -0.004918161 | 0.5030 |\n",
       "| Gene | -0.056933967 | 0.5627 | -0.174461171 | 0.7618 | -0.017417888 | 0.4929 |\n",
       "| Geography | -0.210812989 | 0.9246 | -0.202895951 | 0.9073 | -0.190406502 | 0.9188 |\n",
       "| Hofstede6D | -0.150602288 | 0.8093 | -0.199695909 | 0.8797 | -0.073114246 | 0.6864 |\n",
       "| Language |  0.014990039 | 0.4648 | -0.003860342 | 0.5190 |  0.054618205 | 0.3257 |\n",
       "| Modernization |  0.350815481 | 0.0177 |  0.263185564 | 0.0487 |  0.280763992 | 0.0264 |\n",
       "| Personality |  0.131265761 | 0.2103 |  0.166520736 | 0.1920 |  0.062322733 | 0.2994 |\n",
       "| Political | -0.124058589 | 0.8170 | -0.127888098 | 0.8272 | -0.066965487 | 0.6958 |\n",
       "| Religion |  0.557665662 | 0.0017 |  0.536422745 | 0.0028 |  0.393325977 | 0.0108 |\n",
       "| Subsistence | -0.078809972 | 0.6973 | -0.028132973 | 0.5617 | -0.004348245 | 0.4940 |\n",
       "| Non-social object knowledge |  0.003073976 | 0.4747 |  0.034236156 | 0.4094 | -0.086831765 | 0.7159 |\n",
       "\n"
      ],
      "text/plain": [
       "                            full_feature full_feature_p favee        favee_p\n",
       "Climates                     0.164573987 0.1810          0.179380206 0.1908 \n",
       "Demographics                -0.052299633 0.5978         -0.011880680 0.4990 \n",
       "Disease                      0.004855936 0.4732         -0.030989405 0.6305 \n",
       "Gene                        -0.056933967 0.5627         -0.174461171 0.7618 \n",
       "Geography                   -0.210812989 0.9246         -0.202895951 0.9073 \n",
       "Hofstede6D                  -0.150602288 0.8093         -0.199695909 0.8797 \n",
       "Language                     0.014990039 0.4648         -0.003860342 0.5190 \n",
       "Modernization                0.350815481 0.0177          0.263185564 0.0487 \n",
       "Personality                  0.131265761 0.2103          0.166520736 0.1920 \n",
       "Political                   -0.124058589 0.8170         -0.127888098 0.8272 \n",
       "Religion                     0.557665662 0.0017          0.536422745 0.0028 \n",
       "Subsistence                 -0.078809972 0.6973         -0.028132973 0.5617 \n",
       "Non-social object knowledge  0.003073976 0.4747          0.034236156 0.4094 \n",
       "                            hpp          hpp_p \n",
       "Climates                     0.130410993 0.1744\n",
       "Demographics                -0.305614092 0.9931\n",
       "Disease                     -0.004918161 0.5030\n",
       "Gene                        -0.017417888 0.4929\n",
       "Geography                   -0.190406502 0.9188\n",
       "Hofstede6D                  -0.073114246 0.6864\n",
       "Language                     0.054618205 0.3257\n",
       "Modernization                0.280763992 0.0264\n",
       "Personality                  0.062322733 0.2994\n",
       "Political                   -0.066965487 0.6958\n",
       "Religion                     0.393325977 0.0108\n",
       "Subsistence                 -0.004348245 0.4940\n",
       "Non-social object knowledge -0.086831765 0.7159"
      ]
     },
     "metadata": {},
     "output_type": "display_data"
    }
   ],
   "source": [
    "full_feature_p = read.csv('../p_value/check_size/raw_33d.csv',row.names=1)\n",
    "full_feature_p = t(full_feature_p)\n",
    "rownames(full_feature_p) = predictors\n",
    "full_feature_p = full_feature_p[predictors_order,]\n",
    "\n",
    "favee_p = read.csv('../p_value/check_size/favee_33d.csv',row.names=1)\n",
    "favee_p = t(favee_p)\n",
    "rownames(favee_p) = predictors\n",
    "favee_p = favee_p[predictors_order,]\n",
    "\n",
    "hpp_p = read.csv('../p_value/check_size/hpp_33d.csv',row.names=1)\n",
    "hpp_p = t(hpp_p)\n",
    "rownames(hpp_p) = predictors\n",
    "hpp_p = hpp_p[predictors_order,]\n",
    "\n",
    "main = data.frame(cbind(full_feature$'Estimate',full_feature_p,\n",
    "                        favee$'Estimate',favee_p,\n",
    "                        hpp$'Estimate',hpp_p))\n",
    "colnames(main) = c('full_feature','full_feature_p',\n",
    "                  'favee','favee_p',\n",
    "                  'hpp','hpp_p')\n",
    "\n",
    "main"
   ]
  },
  {
   "cell_type": "code",
   "execution_count": 32,
   "id": "09a3433b",
   "metadata": {
    "ExecuteTime": {
     "end_time": "2023-01-08T14:17:02.039081Z",
     "start_time": "2023-01-08T14:17:02.016Z"
    }
   },
   "outputs": [],
   "source": [
    "write.csv(main,'output_data/main_addchecksize.csv')"
   ]
  },
  {
   "cell_type": "markdown",
   "id": "9e685551",
   "metadata": {},
   "source": [
    "## Follow-up analysis"
   ]
  },
  {
   "cell_type": "code",
   "execution_count": 29,
   "id": "7e5da310",
   "metadata": {
    "ExecuteTime": {
     "end_time": "2023-01-08T14:08:51.606183Z",
     "start_time": "2023-01-08T14:08:51.581Z"
    }
   },
   "outputs": [],
   "source": [
    "predictors = c('Language','Personality','Geography','Climates','Subsistence',\n",
    "               'Disease','Urbanization','Wealth','Education','Hofstede6D','Gene',\n",
    "               'Religion','Political','Demographics','Non-social object knowledge')\n",
    "predictors_order = c('Climates','Demographics','Disease','Education','Gene',\n",
    "                    'Geography','Hofstede6D','Language',\n",
    "                     'Personality','Political','Religion','Subsistence',\n",
    "                    'Urbanization','Wealth','Non-social object knowledge')"
   ]
  },
  {
   "cell_type": "markdown",
   "id": "4795ab84",
   "metadata": {},
   "source": [
    "### beta"
   ]
  },
  {
   "cell_type": "code",
   "execution_count": 30,
   "id": "4de47fd3",
   "metadata": {
    "ExecuteTime": {
     "end_time": "2023-01-08T14:10:37.106986Z",
     "start_time": "2023-01-08T14:10:37.065Z"
    }
   },
   "outputs": [],
   "source": [
    "full_feature = read.csv('../beta_sub/check_size/raw_33d.csv',row.names=1)\n",
    "full_feature = full_feature[2:16,]\n",
    "rownames(full_feature) = predictors\n",
    "full_feature = full_feature[predictors_order,]\n",
    "\n",
    "\n",
    "favee = read.csv('../beta_sub/check_size/favee_33d.csv',row.names=1)\n",
    "favee = favee[2:16,]\n",
    "rownames(favee) = predictors\n",
    "favee = favee[predictors_order,]\n",
    "\n",
    "\n",
    "hpp = read.csv('../beta_sub/check_size/hpp_33d.csv',row.names=1)\n",
    "hpp = hpp[2:16,]\n",
    "rownames(hpp) = predictors\n",
    "hpp = hpp[predictors_order,]"
   ]
  },
  {
   "cell_type": "markdown",
   "id": "5d165493",
   "metadata": {},
   "source": [
    "### p value"
   ]
  },
  {
   "cell_type": "code",
   "execution_count": 31,
   "id": "a4f43a6a",
   "metadata": {
    "ExecuteTime": {
     "end_time": "2023-01-08T14:11:46.621645Z",
     "start_time": "2023-01-08T14:11:46.553Z"
    }
   },
   "outputs": [
    {
     "data": {
      "text/html": [
       "<table class=\"dataframe\">\n",
       "<caption>A data.frame: 15 × 6</caption>\n",
       "<thead>\n",
       "\t<tr><th></th><th scope=col>full_feature</th><th scope=col>full_feature_p</th><th scope=col>favee</th><th scope=col>favee_p</th><th scope=col>hpp</th><th scope=col>hpp_p</th></tr>\n",
       "\t<tr><th></th><th scope=col>&lt;dbl&gt;</th><th scope=col>&lt;dbl&gt;</th><th scope=col>&lt;dbl&gt;</th><th scope=col>&lt;dbl&gt;</th><th scope=col>&lt;dbl&gt;</th><th scope=col>&lt;dbl&gt;</th></tr>\n",
       "</thead>\n",
       "<tbody>\n",
       "\t<tr><th scope=row>Climates</th><td> 0.193918680</td><td>0.1604</td><td> 0.193687984</td><td>0.1787</td><td> 0.16911213</td><td>0.1309</td></tr>\n",
       "\t<tr><th scope=row>Demographics</th><td> 0.034265514</td><td>0.3956</td><td> 0.062858643</td><td>0.3321</td><td>-0.27932430</td><td>0.9859</td></tr>\n",
       "\t<tr><th scope=row>Disease</th><td>-0.004676604</td><td>0.5165</td><td>-0.032672620</td><td>0.6437</td><td>-0.02868421</td><td>0.6193</td></tr>\n",
       "\t<tr><th scope=row>Education</th><td> 0.123370986</td><td>0.2030</td><td> 0.122597695</td><td>0.2064</td><td> 0.03196953</td><td>0.3656</td></tr>\n",
       "\t<tr><th scope=row>Gene</th><td>-0.128183716</td><td>0.6823</td><td>-0.236024729</td><td>0.8470</td><td>-0.03778284</td><td>0.5374</td></tr>\n",
       "\t<tr><th scope=row>Geography</th><td>-0.115612265</td><td>0.7680</td><td>-0.126629639</td><td>0.7917</td><td>-0.14860188</td><td>0.8658</td></tr>\n",
       "\t<tr><th scope=row>Hofstede6D</th><td>-0.086334345</td><td>0.6961</td><td>-0.132338696</td><td>0.7792</td><td>-0.08758581</td><td>0.7170</td></tr>\n",
       "\t<tr><th scope=row>Language</th><td> 0.035860576</td><td>0.3974</td><td> 0.003809732</td><td>0.4900</td><td> 0.08977083</td><td>0.2361</td></tr>\n",
       "\t<tr><th scope=row>Personality</th><td> 0.143138499</td><td>0.1969</td><td> 0.185513383</td><td>0.1766</td><td> 0.04423832</td><td>0.3395</td></tr>\n",
       "\t<tr><th scope=row>Political</th><td>-0.072040798</td><td>0.6953</td><td>-0.085701489</td><td>0.7357</td><td>-0.04683457</td><td>0.6428</td></tr>\n",
       "\t<tr><th scope=row>Religion</th><td> 0.366365320</td><td>0.0079</td><td> 0.382747840</td><td>0.0077</td><td> 0.30707833</td><td>0.0196</td></tr>\n",
       "\t<tr><th scope=row>Subsistence</th><td>-0.044143966</td><td>0.6135</td><td>-0.004568755</td><td>0.4998</td><td> 0.02486538</td><td>0.4069</td></tr>\n",
       "\t<tr><th scope=row>Urbanization</th><td> 0.443604527</td><td>0.0160</td><td> 0.332115229</td><td>0.0436</td><td> 0.30255312</td><td>0.0422</td></tr>\n",
       "\t<tr><th scope=row>Wealth</th><td>-0.051365414</td><td>0.6333</td><td>-0.084867564</td><td>0.7329</td><td> 0.13445981</td><td>0.1372</td></tr>\n",
       "\t<tr><th scope=row>Non-social object knowledge</th><td> 0.020414505</td><td>0.4325</td><td> 0.051315415</td><td>0.3685</td><td>-0.08897114</td><td>0.7227</td></tr>\n",
       "</tbody>\n",
       "</table>\n"
      ],
      "text/latex": [
       "A data.frame: 15 × 6\n",
       "\\begin{tabular}{r|llllll}\n",
       "  & full\\_feature & full\\_feature\\_p & favee & favee\\_p & hpp & hpp\\_p\\\\\n",
       "  & <dbl> & <dbl> & <dbl> & <dbl> & <dbl> & <dbl>\\\\\n",
       "\\hline\n",
       "\tClimates &  0.193918680 & 0.1604 &  0.193687984 & 0.1787 &  0.16911213 & 0.1309\\\\\n",
       "\tDemographics &  0.034265514 & 0.3956 &  0.062858643 & 0.3321 & -0.27932430 & 0.9859\\\\\n",
       "\tDisease & -0.004676604 & 0.5165 & -0.032672620 & 0.6437 & -0.02868421 & 0.6193\\\\\n",
       "\tEducation &  0.123370986 & 0.2030 &  0.122597695 & 0.2064 &  0.03196953 & 0.3656\\\\\n",
       "\tGene & -0.128183716 & 0.6823 & -0.236024729 & 0.8470 & -0.03778284 & 0.5374\\\\\n",
       "\tGeography & -0.115612265 & 0.7680 & -0.126629639 & 0.7917 & -0.14860188 & 0.8658\\\\\n",
       "\tHofstede6D & -0.086334345 & 0.6961 & -0.132338696 & 0.7792 & -0.08758581 & 0.7170\\\\\n",
       "\tLanguage &  0.035860576 & 0.3974 &  0.003809732 & 0.4900 &  0.08977083 & 0.2361\\\\\n",
       "\tPersonality &  0.143138499 & 0.1969 &  0.185513383 & 0.1766 &  0.04423832 & 0.3395\\\\\n",
       "\tPolitical & -0.072040798 & 0.6953 & -0.085701489 & 0.7357 & -0.04683457 & 0.6428\\\\\n",
       "\tReligion &  0.366365320 & 0.0079 &  0.382747840 & 0.0077 &  0.30707833 & 0.0196\\\\\n",
       "\tSubsistence & -0.044143966 & 0.6135 & -0.004568755 & 0.4998 &  0.02486538 & 0.4069\\\\\n",
       "\tUrbanization &  0.443604527 & 0.0160 &  0.332115229 & 0.0436 &  0.30255312 & 0.0422\\\\\n",
       "\tWealth & -0.051365414 & 0.6333 & -0.084867564 & 0.7329 &  0.13445981 & 0.1372\\\\\n",
       "\tNon-social object knowledge &  0.020414505 & 0.4325 &  0.051315415 & 0.3685 & -0.08897114 & 0.7227\\\\\n",
       "\\end{tabular}\n"
      ],
      "text/markdown": [
       "\n",
       "A data.frame: 15 × 6\n",
       "\n",
       "| <!--/--> | full_feature &lt;dbl&gt; | full_feature_p &lt;dbl&gt; | favee &lt;dbl&gt; | favee_p &lt;dbl&gt; | hpp &lt;dbl&gt; | hpp_p &lt;dbl&gt; |\n",
       "|---|---|---|---|---|---|---|\n",
       "| Climates |  0.193918680 | 0.1604 |  0.193687984 | 0.1787 |  0.16911213 | 0.1309 |\n",
       "| Demographics |  0.034265514 | 0.3956 |  0.062858643 | 0.3321 | -0.27932430 | 0.9859 |\n",
       "| Disease | -0.004676604 | 0.5165 | -0.032672620 | 0.6437 | -0.02868421 | 0.6193 |\n",
       "| Education |  0.123370986 | 0.2030 |  0.122597695 | 0.2064 |  0.03196953 | 0.3656 |\n",
       "| Gene | -0.128183716 | 0.6823 | -0.236024729 | 0.8470 | -0.03778284 | 0.5374 |\n",
       "| Geography | -0.115612265 | 0.7680 | -0.126629639 | 0.7917 | -0.14860188 | 0.8658 |\n",
       "| Hofstede6D | -0.086334345 | 0.6961 | -0.132338696 | 0.7792 | -0.08758581 | 0.7170 |\n",
       "| Language |  0.035860576 | 0.3974 |  0.003809732 | 0.4900 |  0.08977083 | 0.2361 |\n",
       "| Personality |  0.143138499 | 0.1969 |  0.185513383 | 0.1766 |  0.04423832 | 0.3395 |\n",
       "| Political | -0.072040798 | 0.6953 | -0.085701489 | 0.7357 | -0.04683457 | 0.6428 |\n",
       "| Religion |  0.366365320 | 0.0079 |  0.382747840 | 0.0077 |  0.30707833 | 0.0196 |\n",
       "| Subsistence | -0.044143966 | 0.6135 | -0.004568755 | 0.4998 |  0.02486538 | 0.4069 |\n",
       "| Urbanization |  0.443604527 | 0.0160 |  0.332115229 | 0.0436 |  0.30255312 | 0.0422 |\n",
       "| Wealth | -0.051365414 | 0.6333 | -0.084867564 | 0.7329 |  0.13445981 | 0.1372 |\n",
       "| Non-social object knowledge |  0.020414505 | 0.4325 |  0.051315415 | 0.3685 | -0.08897114 | 0.7227 |\n",
       "\n"
      ],
      "text/plain": [
       "                            full_feature full_feature_p favee        favee_p\n",
       "Climates                     0.193918680 0.1604          0.193687984 0.1787 \n",
       "Demographics                 0.034265514 0.3956          0.062858643 0.3321 \n",
       "Disease                     -0.004676604 0.5165         -0.032672620 0.6437 \n",
       "Education                    0.123370986 0.2030          0.122597695 0.2064 \n",
       "Gene                        -0.128183716 0.6823         -0.236024729 0.8470 \n",
       "Geography                   -0.115612265 0.7680         -0.126629639 0.7917 \n",
       "Hofstede6D                  -0.086334345 0.6961         -0.132338696 0.7792 \n",
       "Language                     0.035860576 0.3974          0.003809732 0.4900 \n",
       "Personality                  0.143138499 0.1969          0.185513383 0.1766 \n",
       "Political                   -0.072040798 0.6953         -0.085701489 0.7357 \n",
       "Religion                     0.366365320 0.0079          0.382747840 0.0077 \n",
       "Subsistence                 -0.044143966 0.6135         -0.004568755 0.4998 \n",
       "Urbanization                 0.443604527 0.0160          0.332115229 0.0436 \n",
       "Wealth                      -0.051365414 0.6333         -0.084867564 0.7329 \n",
       "Non-social object knowledge  0.020414505 0.4325          0.051315415 0.3685 \n",
       "                            hpp         hpp_p \n",
       "Climates                     0.16911213 0.1309\n",
       "Demographics                -0.27932430 0.9859\n",
       "Disease                     -0.02868421 0.6193\n",
       "Education                    0.03196953 0.3656\n",
       "Gene                        -0.03778284 0.5374\n",
       "Geography                   -0.14860188 0.8658\n",
       "Hofstede6D                  -0.08758581 0.7170\n",
       "Language                     0.08977083 0.2361\n",
       "Personality                  0.04423832 0.3395\n",
       "Political                   -0.04683457 0.6428\n",
       "Religion                     0.30707833 0.0196\n",
       "Subsistence                  0.02486538 0.4069\n",
       "Urbanization                 0.30255312 0.0422\n",
       "Wealth                       0.13445981 0.1372\n",
       "Non-social object knowledge -0.08897114 0.7227"
      ]
     },
     "metadata": {},
     "output_type": "display_data"
    }
   ],
   "source": [
    "full_feature_p = read.csv('../p_value_sub/check_size/raw_33d.csv',row.names=1)\n",
    "full_feature_p = t(full_feature_p)\n",
    "rownames(full_feature_p) = predictors\n",
    "full_feature_p = full_feature_p[predictors_order,]\n",
    "\n",
    "favee_p = read.csv('../p_value_sub/check_size/favee_33d.csv',row.names=1)\n",
    "favee_p = t(favee_p)\n",
    "rownames(favee_p) = predictors\n",
    "favee_p = favee_p[predictors_order,]\n",
    "\n",
    "hpp_p = read.csv('../p_value_sub/check_size/hpp_33d.csv',row.names=1)\n",
    "hpp_p = t(hpp_p)\n",
    "rownames(hpp_p) = predictors\n",
    "hpp_p = hpp_p[predictors_order,]\n",
    "\n",
    "follow = data.frame(cbind(full_feature$'Estimate',full_feature_p,\n",
    "                        favee$'Estimate',favee_p,\n",
    "                        hpp$'Estimate',hpp_p))\n",
    "colnames(follow) = c('full_feature','full_feature_p',\n",
    "                  'favee','favee_p',\n",
    "                  'hpp','hpp_p')\n",
    "\n",
    "follow"
   ]
  },
  {
   "cell_type": "code",
   "execution_count": 33,
   "id": "7373d94f",
   "metadata": {
    "ExecuteTime": {
     "end_time": "2023-01-08T14:17:20.575205Z",
     "start_time": "2023-01-08T14:17:20.550Z"
    }
   },
   "outputs": [],
   "source": [
    "write.csv(follow,'output_data/follow_addchecksize.csv')"
   ]
  }
 ],
 "metadata": {
  "kernelspec": {
   "display_name": "R",
   "language": "R",
   "name": "ir"
  },
  "language_info": {
   "codemirror_mode": "r",
   "file_extension": ".r",
   "mimetype": "text/x-r-source",
   "name": "R",
   "pygments_lexer": "r",
   "version": "4.1.2"
  },
  "toc": {
   "base_numbering": 1,
   "nav_menu": {},
   "number_sections": true,
   "sideBar": true,
   "skip_h1_title": false,
   "title_cell": "Table of Contents",
   "title_sidebar": "Contents",
   "toc_cell": false,
   "toc_position": {},
   "toc_section_display": true,
   "toc_window_display": true
  },
  "varInspector": {
   "cols": {
    "lenName": 16,
    "lenType": 16,
    "lenVar": 40
   },
   "kernels_config": {
    "python": {
     "delete_cmd_postfix": "",
     "delete_cmd_prefix": "del ",
     "library": "var_list.py",
     "varRefreshCmd": "print(var_dic_list())"
    },
    "r": {
     "delete_cmd_postfix": ") ",
     "delete_cmd_prefix": "rm(",
     "library": "var_list.r",
     "varRefreshCmd": "cat(var_dic_list()) "
    }
   },
   "types_to_exclude": [
    "module",
    "function",
    "builtin_function_or_method",
    "instance",
    "_Feature"
   ],
   "window_display": false
  }
 },
 "nbformat": 4,
 "nbformat_minor": 5
}
