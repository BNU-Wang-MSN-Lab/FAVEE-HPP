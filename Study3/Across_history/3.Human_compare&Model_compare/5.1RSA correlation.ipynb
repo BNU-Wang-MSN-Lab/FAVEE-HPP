{
 "cells": [
  {
   "cell_type": "code",
   "execution_count": 2,
   "id": "8378c2c5",
   "metadata": {
    "ExecuteTime": {
     "end_time": "2023-11-01T12:56:41.055881Z",
     "start_time": "2023-11-01T12:56:39.749Z"
    },
    "vscode": {
     "languageId": "r"
    }
   },
   "outputs": [],
   "source": [
    "library(mgsub)\n",
    "library(gghalves)\n",
    "library(reshape2)\n",
    "library(tidyverse)\n",
    "library(RColorBrewer)\n",
    "library(boot)\n",
    "library(corrplot)\n",
    "library(asbio)"
   ]
  },
  {
   "cell_type": "code",
   "execution_count": 3,
   "id": "715ef055",
   "metadata": {
    "ExecuteTime": {
     "end_time": "2023-11-01T12:56:48.079449Z",
     "start_time": "2023-11-01T12:56:48.054Z"
    },
    "vscode": {
     "languageId": "r"
    }
   },
   "outputs": [],
   "source": [
    "lowerTriangle <- function(m){\n",
    "  return(m[lower.tri(m)])\n",
    "}\n",
    "\n",
    "cor_matrix_plot = function(data,range){\n",
    "    options(repr.plot.width=10, repr.plot.height=10)\n",
    "    corrplot(data,is.corr=FALSE,\n",
    "             tl.pos=\"n\", method = \"color\",\n",
    "             #col.lim = range,\n",
    "             cl.ratio = 0.05,\n",
    "             col = gray(100:0/100)\n",
    "             #col = colorRampPalette(rev(brewer.pal(n=7,name =\"RdBu\")))(100)\n",
    "            )\n",
    "}"
   ]
  },
  {
   "cell_type": "markdown",
   "id": "8242498a",
   "metadata": {},
   "source": [
    "# Human rating model"
   ]
  },
  {
   "cell_type": "markdown",
   "id": "a39781bc",
   "metadata": {},
   "source": [
    "## FAVEE model"
   ]
  },
  {
   "cell_type": "code",
   "execution_count": 4,
   "id": "d23db480",
   "metadata": {
    "ExecuteTime": {
     "end_time": "2023-11-01T12:56:57.811564Z",
     "start_time": "2023-11-01T12:56:57.465Z"
    },
    "vscode": {
     "languageId": "r"
    }
   },
   "outputs": [
    {
     "data": {
      "text/html": [
       "0"
      ],
      "text/latex": [
       "0"
      ],
      "text/markdown": [
       "0"
      ],
      "text/plain": [
       "[1] 0"
      ]
     },
     "metadata": {},
     "output_type": "display_data"
    },
    {
     "data": {
      "text/html": [
       "-6.68059738685088"
      ],
      "text/latex": [
       "-6.68059738685088"
      ],
      "text/markdown": [
       "-6.68059738685088"
      ],
      "text/plain": [
       "[1] -6.680597"
      ]
     },
     "metadata": {},
     "output_type": "display_data"
    }
   ],
   "source": [
    "human_258r_rating = read.csv('human_rating_data/study2_modern/CHN_dim_rel_NLP_258r_33d_scaled_chi.csv',row.names = 1)\n",
    "rels_order_modern_258r = rownames(human_258r_rating)\n",
    "\n",
    "# FAVEE model: favee\n",
    "favee_258r_pc=read.csv('human_rating_data/human_model/CHN_258r_favee.csv',row.names=1) \n",
    "#colnames(favee_258r_pc) = paste0(colnames(favee_258r_pc),'.modern')\n",
    "favee_258r_pc_dist = as.matrix(-dist(favee_258r_pc,method='euclidean'))\n",
    "favee_258r =  c(-dist(favee_258r_pc,method='euclidean'))\n",
    "max(favee_258r_pc_dist)\n",
    "min(favee_258r_pc_dist)\n",
    "\n",
    "# single dimension model: pcsdv\n",
    "ns <- length(favee_258r_pc)\n",
    "pcsds_258r <- list()\n",
    "pcsdv_258r = data.frame(matrix(nrow = 258*257/2, ncol=5))\n",
    "colnames(pcsdv_258r) = colnames(favee_258r_pc)\n",
    "for (i in 1:5){\n",
    "    pcsds_258r[[i]]<-as.matrix((-dist(favee_258r_pc[,i])))\n",
    "    pcsdv_258r[[i]] = c(-dist(favee_258r_pc[,i])) # take proximities on each dimension\n",
    "}\n",
    "names(pcsds_258r) = colnames(favee_258r_pc)"
   ]
  },
  {
   "cell_type": "code",
   "execution_count": 5,
   "id": "b8bfeb5d",
   "metadata": {
    "ExecuteTime": {
     "end_time": "2023-11-01T12:57:00.474869Z",
     "start_time": "2023-11-01T12:57:00.412Z"
    },
    "vscode": {
     "languageId": "r"
    }
   },
   "outputs": [
    {
     "data": {
      "text/html": [
       "0"
      ],
      "text/latex": [
       "0"
      ],
      "text/markdown": [
       "0"
      ],
      "text/plain": [
       "[1] 0"
      ]
     },
     "metadata": {},
     "output_type": "display_data"
    },
    {
     "data": {
      "text/html": [
       "-6.68059738685088"
      ],
      "text/latex": [
       "-6.68059738685088"
      ],
      "text/markdown": [
       "-6.68059738685088"
      ],
      "text/plain": [
       "[1] -6.680597"
      ]
     },
     "metadata": {},
     "output_type": "display_data"
    }
   ],
   "source": [
    "rels_order_ancient_120r = read.csv('human_rating_data/ancient_modern_map_120r.csv')$'对应的现代人际关系'\n",
    "# FAVEE model: favee\n",
    "favee_120r_pc=favee_258r_pc[rels_order_ancient_120r,]\n",
    "#colnames(favee_120r_pc) = gsub('.modern','.ancient',colnames(favee_120r_pc))\n",
    "favee_120r_pc_dist = as.matrix(-dist(favee_120r_pc,method='euclidean'))\n",
    "favee_120r =  c(-dist(favee_120r_pc,method='euclidean'))\n",
    "max(favee_120r_pc_dist)\n",
    "min(favee_120r_pc_dist)\n",
    "\n",
    "# single dimension model: pcsdv\n",
    "ns <- length(favee_120r_pc)\n",
    "pcsds_120r <- list()\n",
    "pcsdv_120r = data.frame(matrix(nrow = 120*119/2, ncol=5))\n",
    "colnames(pcsdv_120r) = colnames(favee_120r_pc)\n",
    "for (i in 1:5){\n",
    "    pcsds_120r[[i]]<-as.matrix((-dist(favee_120r_pc[,i])))\n",
    "    pcsdv_120r[[i]] = c(-dist(favee_120r_pc[,i])) # take proximities on each dimension\n",
    "}\n",
    "names(pcsds_120r) = colnames(favee_120r_pc)"
   ]
  },
  {
   "cell_type": "markdown",
   "id": "37297e8a",
   "metadata": {},
   "source": [
    "## HPP model"
   ]
  },
  {
   "cell_type": "code",
   "execution_count": 6,
   "id": "522fdba9",
   "metadata": {
    "ExecuteTime": {
     "end_time": "2023-11-01T12:57:03.499309Z",
     "start_time": "2023-11-01T12:57:03.314Z"
    },
    "vscode": {
     "languageId": "r"
    }
   },
   "outputs": [],
   "source": [
    "# HPP model: hpp\n",
    "hpp_258r_rdm = read.csv('human_rating_data/human_model/sim_human_258r_hpp.csv',row.names=1,check.names=FALSE)\n",
    "#cor_matrix_plot(as.matrix(hpp_258r_rdm),c(-1,0))\n",
    "hpp_258r = lowerTriangle(hpp_258r_rdm)"
   ]
  },
  {
   "cell_type": "code",
   "execution_count": 7,
   "id": "645daa10",
   "metadata": {
    "ExecuteTime": {
     "end_time": "2023-11-01T12:57:07.189748Z",
     "start_time": "2023-11-01T12:57:07.143Z"
    },
    "vscode": {
     "languageId": "r"
    }
   },
   "outputs": [],
   "source": [
    "# HPP model: hpp\n",
    "hpp_120r_rdm = hpp_258r_rdm[rels_order_ancient_120r,rels_order_ancient_120r]\n",
    "write.csv(hpp_120r_rdm,'human_rating_data/human_model/sim_human_120r_hpp.csv')\n",
    "hpp_120r = lowerTriangle(hpp_120r_rdm)"
   ]
  },
  {
   "cell_type": "markdown",
   "id": "268dc799",
   "metadata": {},
   "source": [
    "# Bert embedding"
   ]
  },
  {
   "cell_type": "code",
   "execution_count": 8,
   "id": "b3878b70",
   "metadata": {
    "ExecuteTime": {
     "end_time": "2023-11-01T12:57:09.861458Z",
     "start_time": "2023-11-01T12:57:09.677Z"
    },
    "vscode": {
     "languageId": "r"
    }
   },
   "outputs": [],
   "source": [
    "bert_emb_modern = read.csv('sim_bert_embedding/modern/q3.1_bert_embedding_data/MASK_embedding_output.csv',\n",
    "                   row.names = 1, check.names = FALSE)\n",
    "bert_emb_modern = bert_emb_modern[rels_order_modern_258r,rels_order_modern_258r]\n",
    "bert_modern_array = lowerTriangle(bert_emb_modern)\n",
    "\n",
    "#cor_matrix_plot(as.matrix(bert_emb_modern),c(-1,1))"
   ]
  },
  {
   "cell_type": "code",
   "execution_count": 9,
   "id": "57f90dc3",
   "metadata": {
    "ExecuteTime": {
     "end_time": "2023-11-01T12:57:12.400701Z",
     "start_time": "2023-11-01T12:57:12.038Z"
    },
    "vscode": {
     "languageId": "r"
    }
   },
   "outputs": [],
   "source": [
    "bert_emb_ancient = read.csv('sim_bert_embedding/ancient/q3.2_bert_embedding_data/MASK_embedding_output.csv',\n",
    "                   row.names = 1, check.names = FALSE)\n",
    "bert_emb_ancient = bert_emb_ancient[rels_order_ancient_120r,rels_order_ancient_120r]\n",
    "bert_ancient_array = lowerTriangle(bert_emb_ancient)\n",
    "\n",
    "#cor_matrix_plot(as.matrix(bert_emb_ancient),c(-1,1))"
   ]
  },
  {
   "cell_type": "markdown",
   "id": "46f7d521",
   "metadata": {},
   "source": [
    "# Ceiling performance"
   ]
  },
  {
   "cell_type": "code",
   "execution_count": 10,
   "id": "a241a66d",
   "metadata": {
    "ExecuteTime": {
     "end_time": "2023-11-01T12:57:16.269861Z",
     "start_time": "2023-11-01T12:57:16.134Z"
    },
    "vscode": {
     "languageId": "r"
    }
   },
   "outputs": [
    {
     "data": {
      "text/html": [
       "<style>\n",
       ".list-inline {list-style: none; margin:0; padding: 0}\n",
       ".list-inline>li {display: inline-block}\n",
       ".list-inline>li:not(:last-child)::after {content: \"\\00b7\"; padding: 0 .5ex}\n",
       "</style>\n",
       "<ol class=list-inline><li>258</li><li>258</li></ol>\n"
      ],
      "text/latex": [
       "\\begin{enumerate*}\n",
       "\\item 258\n",
       "\\item 258\n",
       "\\end{enumerate*}\n"
      ],
      "text/markdown": [
       "1. 258\n",
       "2. 258\n",
       "\n",
       "\n"
      ],
      "text/plain": [
       "[1] 258 258"
      ]
     },
     "metadata": {},
     "output_type": "display_data"
    }
   ],
   "source": [
    "human_cosine_sim_258r = read.csv('human_rating_data/human_model/human_33d_258r_cosine.csv',row.names=1,check.names=FALSE)\n",
    "human_cosine_sim_258r = human_cosine_sim_258r[rels_order_modern_258r,rels_order_modern_258r]\n",
    "dim(human_cosine_sim_258r)\n",
    "#cor_matrix_plot(as.matrix(human_cosine_sim_258r),c(-1,1))"
   ]
  },
  {
   "cell_type": "code",
   "execution_count": 11,
   "id": "785eaebd",
   "metadata": {
    "ExecuteTime": {
     "end_time": "2023-11-01T12:57:25.318305Z",
     "start_time": "2023-11-01T12:57:25.254Z"
    },
    "vscode": {
     "languageId": "r"
    }
   },
   "outputs": [
    {
     "data": {
      "text/html": [
       "<style>\n",
       ".list-inline {list-style: none; margin:0; padding: 0}\n",
       ".list-inline>li {display: inline-block}\n",
       ".list-inline>li:not(:last-child)::after {content: \"\\00b7\"; padding: 0 .5ex}\n",
       "</style>\n",
       "<ol class=list-inline><li>120</li><li>120</li></ol>\n"
      ],
      "text/latex": [
       "\\begin{enumerate*}\n",
       "\\item 120\n",
       "\\item 120\n",
       "\\end{enumerate*}\n"
      ],
      "text/markdown": [
       "1. 120\n",
       "2. 120\n",
       "\n",
       "\n"
      ],
      "text/plain": [
       "[1] 120 120"
      ]
     },
     "metadata": {},
     "output_type": "display_data"
    }
   ],
   "source": [
    "human_cosine_sim_120r = read.csv('human_rating_data/human_model/human_33d_120r_cosine.csv',row.names=1,check.names=FALSE)\n",
    "human_cosine_sim_120r = human_cosine_sim_120r[rels_order_ancient_120r,rels_order_ancient_120r]\n",
    "dim(human_cosine_sim_120r)\n",
    "#cor_matrix_plot(as.matrix(human_cosine_sim_120r),c(-1,1))"
   ]
  },
  {
   "cell_type": "markdown",
   "id": "679d8bc5",
   "metadata": {},
   "source": [
    "# Spearman correlation"
   ]
  },
  {
   "cell_type": "markdown",
   "id": "e578dedb",
   "metadata": {},
   "source": [
    "## modern: 258 relationships"
   ]
  },
  {
   "cell_type": "code",
   "execution_count": 12,
   "id": "4a2ed858",
   "metadata": {
    "ExecuteTime": {
     "end_time": "2023-11-01T12:57:30.223169Z",
     "start_time": "2023-11-01T12:57:29.958Z"
    },
    "vscode": {
     "languageId": "r"
    }
   },
   "outputs": [
    {
     "data": {
      "image/png": "[encoded data removed]",
      "text/plain": [
       "Plot with title \"\""
      ]
     },
     "metadata": {
      "image/png": {
       "height": 480,
       "width": 600
      }
     },
     "output_type": "display_data"
    }
   ],
   "source": [
    "# ceiling performance\n",
    "human_cosine_sim_258r_array = lowerTriangle(human_cosine_sim_258r)\n",
    "\n",
    "model_geo_combine = cbind(human_cosine_sim_258r_array,# ceiling performance\n",
    "                          bert_modern_array,#bert_modern\n",
    "                          favee_258r,\n",
    "                          hpp_258r,\n",
    "                          pcsdv_258r)\n",
    "model_geo_cor = cor(model_geo_combine, method = 'spearman')\n",
    "\n",
    "options(repr.plot.width=10, repr.plot.height=8)\n",
    "corrplot(as.matrix(model_geo_cor),is.corr=FALSE,\n",
    "         addCoef.col = \"black\",\n",
    "         tl.col=\"black\",tl.cex=1.5,\n",
    "         col.lim = c(-1,1),\n",
    "         col = colorRampPalette(rev(brewer.pal(n=7,name =\"RdBu\")))(100))"
   ]
  },
  {
   "cell_type": "code",
   "execution_count": 13,
   "id": "dfaa3dfc",
   "metadata": {
    "ExecuteTime": {
     "end_time": "2023-11-01T12:57:34.963758Z",
     "start_time": "2023-11-01T12:57:34.926Z"
    },
    "vscode": {
     "languageId": "r"
    }
   },
   "outputs": [
    {
     "data": {
      "text/html": [
       "<table class=\"dataframe\">\n",
       "<caption>A matrix: 2 × 7 of type dbl</caption>\n",
       "<thead>\n",
       "\t<tr><th></th><th scope=col>FAVEE</th><th scope=col>HPP</th><th scope=col>Activeness.human</th><th scope=col>Exchange.human</th><th scope=col>Formality.human</th><th scope=col>Equality.human</th><th scope=col>Valence.human</th></tr>\n",
       "</thead>\n",
       "<tbody>\n",
       "\t<tr><th scope=row>human</th><td>0.6399599</td><td>0.6951780</td><td>0.3850011</td><td>0.3474693</td><td>0.3246507</td><td>0.2405418</td><td>0.2773140</td></tr>\n",
       "\t<tr><th scope=row>modern</th><td>0.4214429</td><td>0.4195967</td><td>0.1577529</td><td>0.2049697</td><td>0.3088391</td><td>0.1904081</td><td>0.2103566</td></tr>\n",
       "</tbody>\n",
       "</table>\n"
      ],
      "text/latex": [
       "A matrix: 2 × 7 of type dbl\n",
       "\\begin{tabular}{r|lllllll}\n",
       "  & FAVEE & HPP & Activeness.human & Exchange.human & Formality.human & Equality.human & Valence.human\\\\\n",
       "\\hline\n",
       "\thuman & 0.6399599 & 0.6951780 & 0.3850011 & 0.3474693 & 0.3246507 & 0.2405418 & 0.2773140\\\\\n",
       "\tmodern & 0.4214429 & 0.4195967 & 0.1577529 & 0.2049697 & 0.3088391 & 0.1904081 & 0.2103566\\\\\n",
       "\\end{tabular}\n"
      ],
      "text/markdown": [
       "\n",
       "A matrix: 2 × 7 of type dbl\n",
       "\n",
       "| <!--/--> | FAVEE | HPP | Activeness.human | Exchange.human | Formality.human | Equality.human | Valence.human |\n",
       "|---|---|---|---|---|---|---|---|\n",
       "| human | 0.6399599 | 0.6951780 | 0.3850011 | 0.3474693 | 0.3246507 | 0.2405418 | 0.2773140 |\n",
       "| modern | 0.4214429 | 0.4195967 | 0.1577529 | 0.2049697 | 0.3088391 | 0.1904081 | 0.2103566 |\n",
       "\n"
      ],
      "text/plain": [
       "       FAVEE     HPP       Activeness.human Exchange.human Formality.human\n",
       "human  0.6399599 0.6951780 0.3850011        0.3474693      0.3246507      \n",
       "modern 0.4214429 0.4195967 0.1577529        0.2049697      0.3088391      \n",
       "       Equality.human Valence.human\n",
       "human  0.2405418      0.2773140    \n",
       "modern 0.1904081      0.2103566    "
      ]
     },
     "metadata": {},
     "output_type": "display_data"
    }
   ],
   "source": [
    "modern_cvals = model_geo_cor[1:2,3:9]\n",
    "colnames(modern_cvals)[1] = c('FAVEE')\n",
    "colnames(modern_cvals)[2] = c('HPP')\n",
    "rownames(modern_cvals) = c('human','modern')\n",
    "modern_cvals"
   ]
  },
  {
   "cell_type": "markdown",
   "id": "588902d4",
   "metadata": {},
   "source": [
    "## ancient: 120 relationships"
   ]
  },
  {
   "cell_type": "code",
   "execution_count": 14,
   "id": "b477fe9d",
   "metadata": {
    "ExecuteTime": {
     "end_time": "2023-11-01T12:57:45.458406Z",
     "start_time": "2023-11-01T12:57:45.290Z"
    },
    "vscode": {
     "languageId": "r"
    }
   },
   "outputs": [
    {
     "data": {
      "text/html": [
       "<style>\n",
       ".dl-inline {width: auto; margin:0; padding: 0}\n",
       ".dl-inline>dt, .dl-inline>dd {float: none; width: auto; display: inline-block}\n",
       ".dl-inline>dt::after {content: \":\\0020\"; padding-right: .5ex}\n",
       ".dl-inline>dt:not(:first-of-type) {padding-left: .5ex}\n",
       "</style><dl class=dl-inline><dt>favee_120r</dt><dd>0.308612744871374</dd><dt>hpp_120r</dt><dd>0.317422767611082</dd><dt>Activeness.human</dt><dd>0.124251654787133</dd><dt>Exchange.human</dt><dd>0.129880473866227</dd><dt>Formality.human</dt><dd>0.137249244521117</dd><dt>Equality.human</dt><dd>0.170190173590054</dd><dt>Valence.human</dt><dd>0.15843544091781</dd></dl>\n"
      ],
      "text/latex": [
       "\\begin{description*}\n",
       "\\item[favee\\textbackslash{}\\_120r] 0.308612744871374\n",
       "\\item[hpp\\textbackslash{}\\_120r] 0.317422767611082\n",
       "\\item[Activeness.human] 0.124251654787133\n",
       "\\item[Exchange.human] 0.129880473866227\n",
       "\\item[Formality.human] 0.137249244521117\n",
       "\\item[Equality.human] 0.170190173590054\n",
       "\\item[Valence.human] 0.15843544091781\n",
       "\\end{description*}\n"
      ],
      "text/markdown": [
       "favee_120r\n",
       ":   0.308612744871374hpp_120r\n",
       ":   0.317422767611082Activeness.human\n",
       ":   0.124251654787133Exchange.human\n",
       ":   0.129880473866227Formality.human\n",
       ":   0.137249244521117Equality.human\n",
       ":   0.170190173590054Valence.human\n",
       ":   0.15843544091781\n",
       "\n"
      ],
      "text/plain": [
       "      favee_120r         hpp_120r Activeness.human   Exchange.human \n",
       "       0.3086127        0.3174228        0.1242517        0.1298805 \n",
       " Formality.human   Equality.human    Valence.human \n",
       "       0.1372492        0.1701902        0.1584354 "
      ]
     },
     "metadata": {},
     "output_type": "display_data"
    },
    {
     "data": {
      "image/png": "[encoded data removed]",
      "text/plain": [
       "Plot with title \"\""
      ]
     },
     "metadata": {
      "image/png": {
       "height": 480,
       "width": 600
      }
     },
     "output_type": "display_data"
    }
   ],
   "source": [
    "model_geo_combine = cbind(bert_ancient_array,#bert_ancient\n",
    "                          favee_120r,\n",
    "                          hpp_120r,\n",
    "                          pcsdv_120r)\n",
    "model_geo_cor = cor(model_geo_combine, method = 'spearman')\n",
    "\n",
    "options(repr.plot.width=10, repr.plot.height=8)\n",
    "corrplot(as.matrix(model_geo_cor),is.corr=FALSE,\n",
    "         addCoef.col = \"black\",\n",
    "         tl.col=\"black\",tl.cex=1.5,\n",
    "         col.lim = c(-1,1),\n",
    "         col = colorRampPalette(rev(brewer.pal(n=7,name =\"RdBu\")))(100))\n",
    "ancient_cvals = model_geo_cor[1,2:8]\n",
    "ancient_cvals"
   ]
  },
  {
   "cell_type": "code",
   "execution_count": 15,
   "id": "bb52046b",
   "metadata": {
    "ExecuteTime": {
     "end_time": "2023-11-01T12:58:15.952353Z",
     "start_time": "2023-11-01T12:58:15.889Z"
    },
    "vscode": {
     "languageId": "r"
    }
   },
   "outputs": [
    {
     "data": {
      "text/html": [
       "<table class=\"dataframe\">\n",
       "<caption>A matrix: 3 × 7 of type dbl</caption>\n",
       "<thead>\n",
       "\t<tr><th></th><th scope=col>FAVEE</th><th scope=col>HPP</th><th scope=col>Activeness.human</th><th scope=col>Exchange.human</th><th scope=col>Formality.human</th><th scope=col>Equality.human</th><th scope=col>Valence.human</th></tr>\n",
       "</thead>\n",
       "<tbody>\n",
       "\t<tr><th scope=row>human</th><td>0.6399599</td><td>0.6951780</td><td>0.3850011</td><td>0.3474693</td><td>0.3246507</td><td>0.2405418</td><td>0.2773140</td></tr>\n",
       "\t<tr><th scope=row>modern</th><td>0.4214429</td><td>0.4195967</td><td>0.1577529</td><td>0.2049697</td><td>0.3088391</td><td>0.1904081</td><td>0.2103566</td></tr>\n",
       "\t<tr><th scope=row>ancient</th><td>0.3086127</td><td>0.3174228</td><td>0.1242517</td><td>0.1298805</td><td>0.1372492</td><td>0.1701902</td><td>0.1584354</td></tr>\n",
       "</tbody>\n",
       "</table>\n"
      ],
      "text/latex": [
       "A matrix: 3 × 7 of type dbl\n",
       "\\begin{tabular}{r|lllllll}\n",
       "  & FAVEE & HPP & Activeness.human & Exchange.human & Formality.human & Equality.human & Valence.human\\\\\n",
       "\\hline\n",
       "\thuman & 0.6399599 & 0.6951780 & 0.3850011 & 0.3474693 & 0.3246507 & 0.2405418 & 0.2773140\\\\\n",
       "\tmodern & 0.4214429 & 0.4195967 & 0.1577529 & 0.2049697 & 0.3088391 & 0.1904081 & 0.2103566\\\\\n",
       "\tancient & 0.3086127 & 0.3174228 & 0.1242517 & 0.1298805 & 0.1372492 & 0.1701902 & 0.1584354\\\\\n",
       "\\end{tabular}\n"
      ],
      "text/markdown": [
       "\n",
       "A matrix: 3 × 7 of type dbl\n",
       "\n",
       "| <!--/--> | FAVEE | HPP | Activeness.human | Exchange.human | Formality.human | Equality.human | Valence.human |\n",
       "|---|---|---|---|---|---|---|---|\n",
       "| human | 0.6399599 | 0.6951780 | 0.3850011 | 0.3474693 | 0.3246507 | 0.2405418 | 0.2773140 |\n",
       "| modern | 0.4214429 | 0.4195967 | 0.1577529 | 0.2049697 | 0.3088391 | 0.1904081 | 0.2103566 |\n",
       "| ancient | 0.3086127 | 0.3174228 | 0.1242517 | 0.1298805 | 0.1372492 | 0.1701902 | 0.1584354 |\n",
       "\n"
      ],
      "text/plain": [
       "        FAVEE     HPP       Activeness.human Exchange.human Formality.human\n",
       "human   0.6399599 0.6951780 0.3850011        0.3474693      0.3246507      \n",
       "modern  0.4214429 0.4195967 0.1577529        0.2049697      0.3088391      \n",
       "ancient 0.3086127 0.3174228 0.1242517        0.1298805      0.1372492      \n",
       "        Equality.human Valence.human\n",
       "human   0.2405418      0.2773140    \n",
       "modern  0.1904081      0.2103566    \n",
       "ancient 0.1701902      0.1584354    "
      ]
     },
     "metadata": {},
     "output_type": "display_data"
    },
    {
     "data": {
      "text/html": [
       "<table class=\"dataframe\">\n",
       "<caption>A matrix: 3 × 2 of type dbl</caption>\n",
       "<thead>\n",
       "\t<tr><th></th><th scope=col>FAVEE</th><th scope=col>HPP</th></tr>\n",
       "</thead>\n",
       "<tbody>\n",
       "\t<tr><th scope=row>human</th><td>0.6399599</td><td>0.6951780</td></tr>\n",
       "\t<tr><th scope=row>modern</th><td>0.4214429</td><td>0.4195967</td></tr>\n",
       "\t<tr><th scope=row>ancient</th><td>0.3086127</td><td>0.3174228</td></tr>\n",
       "</tbody>\n",
       "</table>\n"
      ],
      "text/latex": [
       "A matrix: 3 × 2 of type dbl\n",
       "\\begin{tabular}{r|ll}\n",
       "  & FAVEE & HPP\\\\\n",
       "\\hline\n",
       "\thuman & 0.6399599 & 0.6951780\\\\\n",
       "\tmodern & 0.4214429 & 0.4195967\\\\\n",
       "\tancient & 0.3086127 & 0.3174228\\\\\n",
       "\\end{tabular}\n"
      ],
      "text/markdown": [
       "\n",
       "A matrix: 3 × 2 of type dbl\n",
       "\n",
       "| <!--/--> | FAVEE | HPP |\n",
       "|---|---|---|\n",
       "| human | 0.6399599 | 0.6951780 |\n",
       "| modern | 0.4214429 | 0.4195967 |\n",
       "| ancient | 0.3086127 | 0.3174228 |\n",
       "\n"
      ],
      "text/plain": [
       "        FAVEE     HPP      \n",
       "human   0.6399599 0.6951780\n",
       "modern  0.4214429 0.4195967\n",
       "ancient 0.3086127 0.3174228"
      ]
     },
     "metadata": {},
     "output_type": "display_data"
    },
    {
     "data": {
      "text/html": [
       "<table class=\"dataframe\">\n",
       "<caption>A matrix: 3 × 5 of type dbl</caption>\n",
       "<thead>\n",
       "\t<tr><th></th><th scope=col>Activeness.human</th><th scope=col>Exchange.human</th><th scope=col>Formality.human</th><th scope=col>Equality.human</th><th scope=col>Valence.human</th></tr>\n",
       "</thead>\n",
       "<tbody>\n",
       "\t<tr><th scope=row>human</th><td>0.3850011</td><td>0.3474693</td><td>0.3246507</td><td>0.2405418</td><td>0.2773140</td></tr>\n",
       "\t<tr><th scope=row>modern</th><td>0.1577529</td><td>0.2049697</td><td>0.3088391</td><td>0.1904081</td><td>0.2103566</td></tr>\n",
       "\t<tr><th scope=row>ancient</th><td>0.1242517</td><td>0.1298805</td><td>0.1372492</td><td>0.1701902</td><td>0.1584354</td></tr>\n",
       "</tbody>\n",
       "</table>\n"
      ],
      "text/latex": [
       "A matrix: 3 × 5 of type dbl\n",
       "\\begin{tabular}{r|lllll}\n",
       "  & Activeness.human & Exchange.human & Formality.human & Equality.human & Valence.human\\\\\n",
       "\\hline\n",
       "\thuman & 0.3850011 & 0.3474693 & 0.3246507 & 0.2405418 & 0.2773140\\\\\n",
       "\tmodern & 0.1577529 & 0.2049697 & 0.3088391 & 0.1904081 & 0.2103566\\\\\n",
       "\tancient & 0.1242517 & 0.1298805 & 0.1372492 & 0.1701902 & 0.1584354\\\\\n",
       "\\end{tabular}\n"
      ],
      "text/markdown": [
       "\n",
       "A matrix: 3 × 5 of type dbl\n",
       "\n",
       "| <!--/--> | Activeness.human | Exchange.human | Formality.human | Equality.human | Valence.human |\n",
       "|---|---|---|---|---|---|\n",
       "| human | 0.3850011 | 0.3474693 | 0.3246507 | 0.2405418 | 0.2773140 |\n",
       "| modern | 0.1577529 | 0.2049697 | 0.3088391 | 0.1904081 | 0.2103566 |\n",
       "| ancient | 0.1242517 | 0.1298805 | 0.1372492 | 0.1701902 | 0.1584354 |\n",
       "\n"
      ],
      "text/plain": [
       "        Activeness.human Exchange.human Formality.human Equality.human\n",
       "human   0.3850011        0.3474693      0.3246507       0.2405418     \n",
       "modern  0.1577529        0.2049697      0.3088391       0.1904081     \n",
       "ancient 0.1242517        0.1298805      0.1372492       0.1701902     \n",
       "        Valence.human\n",
       "human   0.2773140    \n",
       "modern  0.2103566    \n",
       "ancient 0.1584354    "
      ]
     },
     "metadata": {},
     "output_type": "display_data"
    }
   ],
   "source": [
    "cvals = rbind(modern_cvals,ancient_cvals)\n",
    "rownames(cvals) = c('human','modern','ancient')\n",
    "cvals\n",
    "\n",
    "cvals_full = cvals[,1:2]\n",
    "cvals_full\n",
    "\n",
    "cvals_single = cvals[,3:7]\n",
    "cvals_single"
   ]
  },
  {
   "cell_type": "code",
   "execution_count": 16,
   "id": "0b996d67",
   "metadata": {
    "ExecuteTime": {
     "end_time": "2023-11-01T12:58:19.067784Z",
     "start_time": "2023-11-01T12:58:19.041Z"
    },
    "vscode": {
     "languageId": "r"
    }
   },
   "outputs": [
    {
     "data": {
      "text/html": [
       "<style>\n",
       ".dl-inline {width: auto; margin:0; padding: 0}\n",
       ".dl-inline>dt, .dl-inline>dd {float: none; width: auto; display: inline-block}\n",
       ".dl-inline>dt::after {content: \":\\0020\"; padding-right: .5ex}\n",
       ".dl-inline>dt:not(:first-of-type) {padding-left: .5ex}\n",
       "</style><dl class=dl-inline><dt>human</dt><dd>0.31499538174536</dd><dt>modern</dt><dd>0.214465295019177</dd><dt>ancient</dt><dd>0.144001397536468</dd></dl>\n"
      ],
      "text/latex": [
       "\\begin{description*}\n",
       "\\item[human] 0.31499538174536\n",
       "\\item[modern] 0.214465295019177\n",
       "\\item[ancient] 0.144001397536468\n",
       "\\end{description*}\n"
      ],
      "text/markdown": [
       "human\n",
       ":   0.31499538174536modern\n",
       ":   0.214465295019177ancient\n",
       ":   0.144001397536468\n",
       "\n"
      ],
      "text/plain": [
       "    human    modern   ancient \n",
       "0.3149954 0.2144653 0.1440014 "
      ]
     },
     "metadata": {},
     "output_type": "display_data"
    }
   ],
   "source": [
    "rowMeans(cvals_single)"
   ]
  },
  {
   "cell_type": "markdown",
   "id": "796bf5bd",
   "metadata": {},
   "source": [
    "# Permutation test and Confidence intervals"
   ]
  },
  {
   "cell_type": "code",
   "execution_count": 17,
   "id": "28499a0c",
   "metadata": {
    "ExecuteTime": {
     "end_time": "2023-11-01T12:58:22.967587Z",
     "start_time": "2023-11-01T12:58:22.939Z"
    },
    "vscode": {
     "languageId": "r"
    }
   },
   "outputs": [],
   "source": [
    "# Create the predicted model\n",
    "geo_list = list()\n",
    "geo_list[['human']] = human_cosine_sim_258r_array # ceiling performance\n",
    "geo_list[['modern']] = bert_modern_array\n",
    "geo_list[['ancient']] = bert_ancient_array"
   ]
  },
  {
   "cell_type": "markdown",
   "id": "68cf7e70",
   "metadata": {},
   "source": [
    "## FAVEE and HPP model"
   ]
  },
  {
   "cell_type": "code",
   "execution_count": 18,
   "id": "188b9ac2",
   "metadata": {
    "ExecuteTime": {
     "end_time": "2023-11-01T12:58:26.415443Z",
     "start_time": "2023-11-01T12:58:26.386Z"
    },
    "vscode": {
     "languageId": "r"
    }
   },
   "outputs": [],
   "source": [
    "pre_258r_model = list()\n",
    "pre_258r_model[['FAVEE']] = favee_258r_pc_dist\n",
    "pre_258r_model[['HPP']] = hpp_258r_rdm\n",
    "\n",
    "pre_120r_model = list()\n",
    "pre_120r_model[['FAVEE']] = favee_120r_pc_dist\n",
    "pre_120r_model[['HPP']] = hpp_120r_rdm"
   ]
  },
  {
   "cell_type": "code",
   "execution_count": 19,
   "id": "c1bf3969",
   "metadata": {
    "ExecuteTime": {
     "end_time": "2023-11-01T12:59:53.358700Z",
     "start_time": "2023-11-01T12:59:07.225Z"
    },
    "vscode": {
     "languageId": "r"
    }
   },
   "outputs": [],
   "source": [
    "permres_full_model <- array(NA,c(3,2,1000)) # 3=human,modern,ancient; 2=favee,hpp\n",
    "dimnames(permres_full_model) = list(c('human','modern','ancient'),c('FAVEE','HPP'))\n",
    "\n",
    "for (i in 1:1000){\n",
    "    for (geo in c('human','modern','ancient')){\n",
    "        sel = sample(258)# row/column order randomization index\n",
    "        pre_model = pre_258r_model\n",
    "        if (geo == 'ancient'){\n",
    "            sel = sample(120)\n",
    "            pre_model = pre_120r_model\n",
    "        }\n",
    "        for (model in names(pre_model)){\n",
    "            permat <- pre_model[[model]][sel,sel] # randomize predictors\n",
    "            permres_full_model[geo,model,i]<-cor(lowerTriangle(permat),geo_list[[geo]],\n",
    "                                                 method = 'spearman')\n",
    "        }\n",
    "    }\n",
    "}"
   ]
  },
  {
   "cell_type": "code",
   "execution_count": 20,
   "id": "3b92c8a6",
   "metadata": {
    "ExecuteTime": {
     "end_time": "2023-11-01T13:04:15.564095Z",
     "start_time": "2023-11-01T13:04:15.460Z"
    },
    "vscode": {
     "languageId": "r"
    }
   },
   "outputs": [],
   "source": [
    "save(permres_full_model,file = \"permutation/permres_full_model.Rdata\")"
   ]
  },
  {
   "cell_type": "code",
   "execution_count": 21,
   "id": "95e8ddd1",
   "metadata": {
    "ExecuteTime": {
     "end_time": "2023-11-01T13:04:16.980385Z",
     "start_time": "2023-11-01T13:04:16.959Z"
    },
    "vscode": {
     "languageId": "r"
    }
   },
   "outputs": [],
   "source": [
    "load(\"permutation/permres_full_model.Rdata\")"
   ]
  },
  {
   "cell_type": "code",
   "execution_count": 22,
   "id": "32a242a7",
   "metadata": {
    "ExecuteTime": {
     "end_time": "2023-11-01T13:04:20.248162Z",
     "start_time": "2023-11-01T13:04:20.204Z"
    },
    "vscode": {
     "languageId": "r"
    }
   },
   "outputs": [
    {
     "data": {
      "text/html": [
       "<table class=\"dataframe\">\n",
       "<caption>A matrix: 3 × 2 of type lgl</caption>\n",
       "<thead>\n",
       "\t<tr><th></th><th scope=col>FAVEE</th><th scope=col>HPP</th></tr>\n",
       "</thead>\n",
       "<tbody>\n",
       "\t<tr><th scope=row>human</th><td>TRUE</td><td>TRUE</td></tr>\n",
       "\t<tr><th scope=row>modern</th><td>TRUE</td><td>TRUE</td></tr>\n",
       "\t<tr><th scope=row>ancient</th><td>TRUE</td><td>TRUE</td></tr>\n",
       "</tbody>\n",
       "</table>\n"
      ],
      "text/latex": [
       "A matrix: 3 × 2 of type lgl\n",
       "\\begin{tabular}{r|ll}\n",
       "  & FAVEE & HPP\\\\\n",
       "\\hline\n",
       "\thuman & TRUE & TRUE\\\\\n",
       "\tmodern & TRUE & TRUE\\\\\n",
       "\tancient & TRUE & TRUE\\\\\n",
       "\\end{tabular}\n"
      ],
      "text/markdown": [
       "\n",
       "A matrix: 3 × 2 of type lgl\n",
       "\n",
       "| <!--/--> | FAVEE | HPP |\n",
       "|---|---|---|\n",
       "| human | TRUE | TRUE |\n",
       "| modern | TRUE | TRUE |\n",
       "| ancient | TRUE | TRUE |\n",
       "\n"
      ],
      "text/plain": [
       "        FAVEE HPP \n",
       "human   TRUE  TRUE\n",
       "modern  TRUE  TRUE\n",
       "ancient TRUE  TRUE"
      ]
     },
     "metadata": {},
     "output_type": "display_data"
    }
   ],
   "source": [
    "pvals <- matrix(NA,3,2)\n",
    "rownames(pvals) = c('human','modern','ancient')\n",
    "colnames(pvals) = c('FAVEE','HPP')\n",
    "\n",
    "for(geo in c('human','modern','ancient')){\n",
    "  for (model in c('FAVEE','HPP')){\n",
    "    # p-values = prop. of permuted test stats > actual  \n",
    "    pvals[geo,model] <- mean(permres_full_model[geo,model,] > cvals_full[geo,model]) \n",
    "  }\n",
    "}\n",
    "sig <- pvals<.025 # two-tailed test, so p = .05/2 = .025\n",
    "sig\n",
    "# confidence intrvals from shifted/flipped permtuation null dist.\n",
    "cis_full <- apply(-permres_full_model,c(1,2),quantile,c(.025,.975)) "
   ]
  },
  {
   "cell_type": "code",
   "execution_count": 23,
   "id": "7d0a6d3c",
   "metadata": {
    "ExecuteTime": {
     "end_time": "2023-11-01T13:04:23.562192Z",
     "start_time": "2023-11-01T13:04:23.536Z"
    },
    "vscode": {
     "languageId": "r"
    }
   },
   "outputs": [
    {
     "data": {
      "text/html": [
       "<style>\n",
       ".list-inline {list-style: none; margin:0; padding: 0}\n",
       ".list-inline>li {display: inline-block}\n",
       ".list-inline>li:not(:last-child)::after {content: \"\\00b7\"; padding: 0 .5ex}\n",
       "</style>\n",
       "<ol class=list-inline><li>-0.016850890502728</li><li>0.0143728823277615</li><li>-0.0106693037650711</li><li>0.00934529271245985</li><li>-0.0255935472558824</li><li>0.0195869854764861</li><li>-0.0137649682085002</li><li>0.00781162878878426</li><li>-0.0119906580594505</li><li>0.00860109742322143</li><li>-0.027629051399528</li><li>0.0185236796924955</li></ol>\n"
      ],
      "text/latex": [
       "\\begin{enumerate*}\n",
       "\\item -0.016850890502728\n",
       "\\item 0.0143728823277615\n",
       "\\item -0.0106693037650711\n",
       "\\item 0.00934529271245985\n",
       "\\item -0.0255935472558824\n",
       "\\item 0.0195869854764861\n",
       "\\item -0.0137649682085002\n",
       "\\item 0.00781162878878426\n",
       "\\item -0.0119906580594505\n",
       "\\item 0.00860109742322143\n",
       "\\item -0.027629051399528\n",
       "\\item 0.0185236796924955\n",
       "\\end{enumerate*}\n"
      ],
      "text/markdown": [
       "1. -0.016850890502728\n",
       "2. 0.0143728823277615\n",
       "3. -0.0106693037650711\n",
       "4. 0.00934529271245985\n",
       "5. -0.0255935472558824\n",
       "6. 0.0195869854764861\n",
       "7. -0.0137649682085002\n",
       "8. 0.00781162878878426\n",
       "9. -0.0119906580594505\n",
       "10. 0.00860109742322143\n",
       "11. -0.027629051399528\n",
       "12. 0.0185236796924955\n",
       "\n",
       "\n"
      ],
      "text/plain": [
       ", , FAVEE\n",
       "\n",
       "            human       modern     ancient\n",
       "2.5%  -0.01685089 -0.010669304 -0.02559355\n",
       "97.5%  0.01437288  0.009345293  0.01958699\n",
       "\n",
       ", , HPP\n",
       "\n",
       "             human       modern     ancient\n",
       "2.5%  -0.013764968 -0.011990658 -0.02762905\n",
       "97.5%  0.007811629  0.008601097  0.01852368\n"
      ]
     },
     "metadata": {},
     "output_type": "display_data"
    }
   ],
   "source": [
    "cis_full"
   ]
  },
  {
   "cell_type": "markdown",
   "id": "272ade3c",
   "metadata": {},
   "source": [
    "## single dimension"
   ]
  },
  {
   "cell_type": "code",
   "execution_count": 24,
   "id": "41240df1",
   "metadata": {
    "ExecuteTime": {
     "end_time": "2023-11-01T13:06:18.671211Z",
     "start_time": "2023-11-01T13:04:41.944Z"
    },
    "vscode": {
     "languageId": "r"
    }
   },
   "outputs": [],
   "source": [
    "permres_single_model <- array(NA,c(3,5,1000)) # 3=human,modern,ancient; 5 single dimensions\n",
    "dimnames(permres_single_model) = list(c('human','modern','ancient'),\n",
    "                c('Formality.human','Activeness.human','Valence.human','Exchange.human','Equality.human'))\n",
    "\n",
    "for (i in 1:1000){\n",
    "    for (geo in c('human','modern','ancient')){\n",
    "        sel = sample(258)# row/column order randomization index\n",
    "        pre_model = pcsds_258r\n",
    "        if (geo == 'ancient'){\n",
    "            sel = sample(120)\n",
    "            pre_model = pcsds_120r\n",
    "        }\n",
    "        for (model in names(pre_model)){\n",
    "            permat <- pre_model[[model]][sel,sel] # randomize predictors\n",
    "            permres_single_model[geo,model,i]<-cor(lowerTriangle(permat),geo_list[[geo]],\n",
    "                                                   method = 'spearman')\n",
    "        }\n",
    "    }\n",
    "}"
   ]
  },
  {
   "cell_type": "code",
   "execution_count": 25,
   "id": "202ec0dc",
   "metadata": {
    "ExecuteTime": {
     "end_time": "2023-11-01T13:06:20.875771Z",
     "start_time": "2023-11-01T13:06:20.849Z"
    },
    "vscode": {
     "languageId": "r"
    }
   },
   "outputs": [],
   "source": [
    "save(permres_single_model,file = \"permutation/permres_single_model.Rdata\")"
   ]
  },
  {
   "cell_type": "code",
   "execution_count": 26,
   "id": "30535d12",
   "metadata": {
    "ExecuteTime": {
     "end_time": "2023-11-01T13:06:21.923918Z",
     "start_time": "2023-11-01T13:06:21.904Z"
    },
    "vscode": {
     "languageId": "r"
    }
   },
   "outputs": [],
   "source": [
    "load(\"permutation/permres_single_model.Rdata\")"
   ]
  },
  {
   "cell_type": "code",
   "execution_count": 27,
   "id": "44026fb6",
   "metadata": {
    "ExecuteTime": {
     "end_time": "2023-11-01T13:06:27.665745Z",
     "start_time": "2023-11-01T13:06:27.625Z"
    },
    "vscode": {
     "languageId": "r"
    }
   },
   "outputs": [
    {
     "data": {
      "text/html": [
       "<table class=\"dataframe\">\n",
       "<caption>A matrix: 3 × 5 of type lgl</caption>\n",
       "<thead>\n",
       "\t<tr><th></th><th scope=col>Formality.human</th><th scope=col>Activeness.human</th><th scope=col>Valence.human</th><th scope=col>Exchange.human</th><th scope=col>Equality.human</th></tr>\n",
       "</thead>\n",
       "<tbody>\n",
       "\t<tr><th scope=row>human</th><td>TRUE</td><td>TRUE</td><td>TRUE</td><td>TRUE</td><td>TRUE</td></tr>\n",
       "\t<tr><th scope=row>modern</th><td>TRUE</td><td>TRUE</td><td>TRUE</td><td>TRUE</td><td>TRUE</td></tr>\n",
       "\t<tr><th scope=row>ancient</th><td>TRUE</td><td>TRUE</td><td>TRUE</td><td>TRUE</td><td>TRUE</td></tr>\n",
       "</tbody>\n",
       "</table>\n"
      ],
      "text/latex": [
       "A matrix: 3 × 5 of type lgl\n",
       "\\begin{tabular}{r|lllll}\n",
       "  & Formality.human & Activeness.human & Valence.human & Exchange.human & Equality.human\\\\\n",
       "\\hline\n",
       "\thuman & TRUE & TRUE & TRUE & TRUE & TRUE\\\\\n",
       "\tmodern & TRUE & TRUE & TRUE & TRUE & TRUE\\\\\n",
       "\tancient & TRUE & TRUE & TRUE & TRUE & TRUE\\\\\n",
       "\\end{tabular}\n"
      ],
      "text/markdown": [
       "\n",
       "A matrix: 3 × 5 of type lgl\n",
       "\n",
       "| <!--/--> | Formality.human | Activeness.human | Valence.human | Exchange.human | Equality.human |\n",
       "|---|---|---|---|---|---|\n",
       "| human | TRUE | TRUE | TRUE | TRUE | TRUE |\n",
       "| modern | TRUE | TRUE | TRUE | TRUE | TRUE |\n",
       "| ancient | TRUE | TRUE | TRUE | TRUE | TRUE |\n",
       "\n"
      ],
      "text/plain": [
       "        Formality.human Activeness.human Valence.human Exchange.human\n",
       "human   TRUE            TRUE             TRUE          TRUE          \n",
       "modern  TRUE            TRUE             TRUE          TRUE          \n",
       "ancient TRUE            TRUE             TRUE          TRUE          \n",
       "        Equality.human\n",
       "human   TRUE          \n",
       "modern  TRUE          \n",
       "ancient TRUE          "
      ]
     },
     "metadata": {},
     "output_type": "display_data"
    }
   ],
   "source": [
    "pvals <- matrix(NA,3,5)\n",
    "rownames(pvals) = c('human','modern','ancient')\n",
    "colnames(pvals) = c('Formality.human','Activeness.human','Valence.human','Exchange.human','Equality.human')\n",
    "\n",
    "for(geo in c('human','modern','ancient')){\n",
    "  for (model in c('Formality.human','Activeness.human','Valence.human','Exchange.human','Equality.human')){\n",
    "    # p-values = prop. of permuted test stats > actual  \n",
    "    pvals[geo,model] <- mean(permres_single_model[geo,model,] > cvals_single[geo,model]) \n",
    "  }\n",
    "}\n",
    "sig <- pvals<.025 # two-tailed test, so p = .05/2 = .025\n",
    "sig\n",
    "# confidence intrvals from shifted/flipped permtuation null dist.\n",
    "cis_single <- apply(-permres_single_model,c(1,2),quantile,c(.025,.975)) "
   ]
  },
  {
   "cell_type": "markdown",
   "id": "11b22483",
   "metadata": {},
   "source": [
    "# Plot results"
   ]
  },
  {
   "cell_type": "code",
   "execution_count": 28,
   "id": "54880756",
   "metadata": {
    "ExecuteTime": {
     "end_time": "2023-11-01T13:06:30.042088Z",
     "start_time": "2023-11-01T13:06:30.017Z"
    },
    "vscode": {
     "languageId": "r"
    }
   },
   "outputs": [],
   "source": [
    "my.color = c('human'=\"#F2997A\",'modern'=\"#a17db4\",'ancient'=\"#9DCD82\")"
   ]
  },
  {
   "cell_type": "markdown",
   "id": "ce258eef",
   "metadata": {},
   "source": [
    "## FAVEE and HPP model"
   ]
  },
  {
   "cell_type": "code",
   "execution_count": 29,
   "id": "a6b7e667",
   "metadata": {
    "ExecuteTime": {
     "end_time": "2023-11-01T13:06:34.709769Z",
     "start_time": "2023-11-01T13:06:34.667Z"
    },
    "vscode": {
     "languageId": "r"
    }
   },
   "outputs": [],
   "source": [
    "#rvalue_interval \n",
    "cvals_cis_full = melt(cvals_full)\n",
    "colnames(cvals_cis_full)[1] = 'geo'\n",
    "colnames(cvals_cis_full)[2] = 'model'\n",
    "# add interval\n",
    "# cvals_cis_full$'lower' = cis_full[seq(1, length(cis_full), by = 2)]\n",
    "# cvals_cis_full$'upper' = cis_full[seq(2, length(cis_full), by = 2)]\n",
    "# cvals_cis_full = cvals_cis_full %>% mutate(lower = lower+value,\n",
    "#                                  upper = upper+value)\n",
    "cvals_cis_full$model = factor(cvals_cis_full$model,\n",
    "                        levels = rev(c('FAVEE','HPP')))\n",
    "cvals_cis_full$geo = factor(cvals_cis_full$geo,\n",
    "                      levels = c('human','modern','ancient'))\n",
    "\n",
    "########################################################################\n",
    "df <- data.frame(geo = character(), model = character(), value = numeric())\n",
    "permres = permres_full_model\n",
    "for (geo_name in dimnames(permres)[[1]]) {\n",
    "  for (model_name in dimnames(permres)[[2]]) {\n",
    "    temp <- data.frame(\n",
    "      geo = geo_name, \n",
    "      model = model_name, \n",
    "      value = permres[geo_name, model_name, ]\n",
    "    )\n",
    "    \n",
    "    df <- bind_rows(df, temp)\n",
    "  }\n",
    "}\n",
    "df$model = factor(df$model,levels = rev(c('FAVEE','HPP')))\n",
    "df$geo = factor(df$geo,levels = c('human','modern','ancient'))\n",
    "df = df[df$'geo' %in% c('modern','ancient'),]\n",
    "df$'X' = paste(df$'geo',df$'model',sep='_')\n",
    "df$'X' = factor(df$'X',levels = c('ancient_HPP','ancient_FAVEE','modern_HPP','modern_FAVEE'))"
   ]
  },
  {
   "cell_type": "code",
   "execution_count": 30,
   "id": "e30935dc",
   "metadata": {
    "ExecuteTime": {
     "end_time": "2023-11-01T13:06:37.534348Z",
     "start_time": "2023-11-01T13:06:37.487Z"
    },
    "vscode": {
     "languageId": "r"
    }
   },
   "outputs": [],
   "source": [
    "write.csv(cvals_cis_full, 'permutation/cvals_cis_favee_hpp.csv')\n",
    "write.csv(df, 'permutation/favee_hpp.csv')"
   ]
  },
  {
   "cell_type": "code",
   "execution_count": 31,
   "id": "41025b75",
   "metadata": {
    "ExecuteTime": {
     "end_time": "2023-11-01T13:06:43.534586Z",
     "start_time": "2023-11-01T13:06:42.677Z"
    },
    "vscode": {
     "languageId": "r"
    }
   },
   "outputs": [
    {
     "name": "stderr",
     "output_type": "stream",
     "text": [
      "Warning message:\n",
      "\"\u001b[1m\u001b[22mThe `size` argument of `element_line()` is deprecated as of ggplot2 3.4.0.\n",
      "\u001b[36mi\u001b[39m Please use the `linewidth` argument instead.\"\n"
     ]
    },
    {
     "data": {
      "image/png": "[encoded data removed]",
      "text/plain": [
       "plot without title"
      ]
     },
     "metadata": {
      "image/png": {
       "height": 600,
       "width": 600
      }
     },
     "output_type": "display_data"
    }
   ],
   "source": [
    "options(repr.plot.width=10,repr.plot.height=10)\n",
    "#cvals_cis = cvals_cis_full[cvals_cis_full$'geo'%in%c('modern','ancient'),]\n",
    "cvals_cis = cvals_cis_full\n",
    "cvals_cis$'X' = paste(cvals_cis$'geo',cvals_cis$'model',sep='_')\n",
    "cvals_cis$'X' = factor(cvals_cis$'X',\n",
    "                       levels = c('ancient_HPP','ancient_FAVEE',\n",
    "                                  'modern_HPP','modern_FAVEE'))\n",
    "\n",
    "ggplot() +\n",
    "# plot distribution\n",
    "geom_boxplot(data=df[df$'geo'%in%c('modern','ancient'),],aes(x=X,y=value,color=geo),\n",
    "             fatten = 1,\n",
    "              position=position_nudge(x=0.1,y=0),alpha=1,\n",
    "              outlier.shape = NA,width = 0.5, lwd = 2)+\n",
    "# plot RSA correlation\n",
    "geom_point(data=cvals_cis[cvals_cis$'geo' %in% c('modern','ancient'),], \n",
    "           aes(x=X, y=value,color=geo),size=16)+\n",
    "# geom_segment(data=cvals_cis,aes(x=X,color=geo,xend=X,y=lower,yend=upper),\n",
    "#              size=6,alpha=0.3)+\n",
    "geom_hline(yintercept=cvals_cis[cvals_cis$'geo'=='human','value'][1], linetype='dashed',linewidth = 2,color=\"#F2997A\")+\n",
    "geom_hline(yintercept=cvals_cis[cvals_cis$'geo'=='human','value'][2], linetype='dashed',linewidth = 2,color=\"#F2997A\")+\n",
    "#coord_flip()+\n",
    "scale_color_manual(values=my.color)+\n",
    "scale_fill_manual(values=my.color)+\n",
    "theme_classic()+\n",
    "theme(axis.title = element_blank(),\n",
    "      #axis.text.y = element_blank(),\n",
    "      axis.text.y = element_text(size=40,color=\"black\"),\n",
    "      axis.text.x = element_text(size=10,color=\"black\"),\n",
    "      axis.line = element_line(linetype=1,color=\"black\",size=2),    \n",
    "      legend.title = element_blank(),\n",
    "      legend.text = element_text(size=24),\n",
    "      legend.position = 'none'\n",
    "     )"
   ]
  },
  {
   "cell_type": "code",
   "execution_count": 32,
   "id": "e2c8cfae",
   "metadata": {
    "ExecuteTime": {
     "end_time": "2023-11-01T13:06:55.062148Z",
     "start_time": "2023-11-01T13:06:54.164Z"
    },
    "vscode": {
     "languageId": "r"
    }
   },
   "outputs": [
    {
     "data": {
      "text/html": [
       "<strong>png:</strong> 2"
      ],
      "text/latex": [
       "\\textbf{png:} 2"
      ],
      "text/markdown": [
       "**png:** 2"
      ],
      "text/plain": [
       "png \n",
       "  2 "
      ]
     },
     "metadata": {},
     "output_type": "display_data"
    }
   ],
   "source": [
    "png(\"output_graph/favee_hpp_predictive.png\", bg=\"transparent\",\n",
    "    family = 'sans',units='in',width=10,height=10,res=300)\n",
    "options(repr.plot.width=10,repr.plot.height=10)\n",
    "#cvals_cis = cvals_cis_full[cvals_cis_full$'geo'%in%c('modern','ancient'),]\n",
    "cvals_cis = cvals_cis_full\n",
    "cvals_cis$'X' = paste(cvals_cis$'geo',cvals_cis$'model',sep='_')\n",
    "cvals_cis$'X' = factor(cvals_cis$'X',\n",
    "                       levels = c('ancient_HPP','ancient_FAVEE',\n",
    "                                  'modern_HPP','modern_FAVEE'))\n",
    "\n",
    "ggplot() +\n",
    "# plot distribution\n",
    "geom_boxplot(data=df[df$'geo'%in%c('modern','ancient'),],aes(x=X,y=value,color=geo),\n",
    "             fatten = 1,\n",
    "              position=position_nudge(x=0.1,y=0),alpha=1,\n",
    "              outlier.shape = NA,width = 0.5, lwd = 2)+\n",
    "# plot RSA correlation\n",
    "geom_point(data=cvals_cis[cvals_cis$'geo' %in% c('modern','ancient'),], \n",
    "           aes(x=X, y=value,color=geo),size=16)+\n",
    "# geom_segment(data=cvals_cis,aes(x=X,color=geo,xend=X,y=lower,yend=upper),\n",
    "#              size=6,alpha=0.3)+\n",
    "geom_hline(yintercept=cvals_cis[cvals_cis$'geo'=='human','value'][1], linetype='dashed',linewidth = 2,color=\"#F2997A\")+\n",
    "geom_hline(yintercept=cvals_cis[cvals_cis$'geo'=='human','value'][2], linetype='dashed',linewidth = 2,color=\"#F2997A\")+\n",
    "#coord_flip()+\n",
    "scale_color_manual(values=my.color)+\n",
    "scale_fill_manual(values=my.color)+\n",
    "theme_classic()+\n",
    "theme(axis.title = element_blank(),\n",
    "      #axis.text.y = element_blank(),\n",
    "      axis.text.y = element_text(size=40,color=\"black\"),\n",
    "      axis.text.x = element_text(size=10,color=\"black\"),\n",
    "      axis.line = element_line(linetype=1,color=\"black\",size=2),    \n",
    "      legend.title = element_blank(),\n",
    "      legend.text = element_text(size=24),\n",
    "      legend.position = 'none'\n",
    "     )\n",
    "dev.off()"
   ]
  },
  {
   "cell_type": "markdown",
   "id": "149e60d8",
   "metadata": {},
   "source": [
    "## single dimension"
   ]
  },
  {
   "cell_type": "code",
   "execution_count": 33,
   "id": "dcd911eb",
   "metadata": {
    "ExecuteTime": {
     "end_time": "2023-11-01T13:06:57.893949Z",
     "start_time": "2023-11-01T13:06:57.844Z"
    },
    "vscode": {
     "languageId": "r"
    }
   },
   "outputs": [],
   "source": [
    "#rvalue_interval \n",
    "cvals_cis_single = melt(cvals_single)\n",
    "colnames(cvals_cis_single)[1] = 'geo'\n",
    "colnames(cvals_cis_single)[2] = 'model'\n",
    "cvals_cis_single = cvals_cis_single[cvals_cis_single$'geo'%in% c('ancient','modern'),]\n",
    "# add interval\n",
    "# cvals_cis_single$'lower' = cis_single[seq(1, length(cis_single), by = 2)]\n",
    "# cvals_cis_single$'upper' = cis_single[seq(2, length(cis_single), by = 2)]\n",
    "# cvals_cis_single = cvals_cis_single %>% mutate(lower = lower+value,\n",
    "#                                  upper = upper+value)\n",
    "cvals_cis_single$model = factor(cvals_cis_single$model,\n",
    "    levels = rev(c('Formality.human','Activeness.human','Valence.human','Exchange.human','Equality.human')))\n",
    "cvals_cis_single$geo = factor(cvals_cis_single$geo,\n",
    "   levels = c('ancient','modern'))\n",
    "\n",
    "########################################################################\n",
    "df <- data.frame(geo = character(), model = character(), value = numeric())\n",
    "permres = permres_single_model\n",
    "for (geo_name in dimnames(permres)[[1]]) {\n",
    "  for (model_name in dimnames(permres)[[2]]) {\n",
    "    temp <- data.frame(\n",
    "      geo = geo_name, \n",
    "      model = model_name, \n",
    "      value = permres[geo_name, model_name, ]\n",
    "    )\n",
    "    \n",
    "    df <- bind_rows(df, temp)\n",
    "  }\n",
    "}\n",
    "df = df[df$geo %in% c('modern','ancient'),]\n",
    "df$model = factor(df$model,\n",
    " levels = c('Formality.human','Activeness.human','Valence.human','Exchange.human','Equality.human'))\n",
    "df$geo = factor(df$geo,levels = c('ancient','modern'))"
   ]
  },
  {
   "cell_type": "code",
   "execution_count": 34,
   "id": "e283f6dc",
   "metadata": {
    "ExecuteTime": {
     "end_time": "2023-11-01T13:06:59.276930Z",
     "start_time": "2023-11-01T13:06:58.407Z"
    },
    "vscode": {
     "languageId": "r"
    }
   },
   "outputs": [],
   "source": [
    "write.csv(cvals_cis_single, 'permutation/cvals_cis_single_dimension.csv')\n",
    "write.csv(df, 'permutation/single_dimension.csv')"
   ]
  },
  {
   "cell_type": "code",
   "execution_count": 35,
   "id": "8ccd5b28",
   "metadata": {
    "ExecuteTime": {
     "end_time": "2023-11-01T13:07:00.677948Z",
     "start_time": "2023-11-01T13:07:00.639Z"
    },
    "vscode": {
     "languageId": "r"
    }
   },
   "outputs": [
    {
     "data": {
      "text/html": [
       "<table class=\"dataframe\">\n",
       "<caption>A data.frame: 5 × 3</caption>\n",
       "<thead>\n",
       "\t<tr><th scope=col>diff</th><th scope=col>model</th><th scope=col>start</th></tr>\n",
       "\t<tr><th scope=col>&lt;dbl&gt;</th><th scope=col>&lt;fct&gt;</th><th scope=col>&lt;dbl&gt;</th></tr>\n",
       "</thead>\n",
       "<tbody>\n",
       "\t<tr><td>0.03350129</td><td>Activeness.human</td><td>0.1242517</td></tr>\n",
       "\t<tr><td>0.07508918</td><td>Exchange.human  </td><td>0.1298805</td></tr>\n",
       "\t<tr><td>0.17158989</td><td>Formality.human </td><td>0.1372492</td></tr>\n",
       "\t<tr><td>0.02021794</td><td>Equality.human  </td><td>0.1701902</td></tr>\n",
       "\t<tr><td>0.05192119</td><td>Valence.human   </td><td>0.1584354</td></tr>\n",
       "</tbody>\n",
       "</table>\n"
      ],
      "text/latex": [
       "A data.frame: 5 × 3\n",
       "\\begin{tabular}{lll}\n",
       " diff & model & start\\\\\n",
       " <dbl> & <fct> & <dbl>\\\\\n",
       "\\hline\n",
       "\t 0.03350129 & Activeness.human & 0.1242517\\\\\n",
       "\t 0.07508918 & Exchange.human   & 0.1298805\\\\\n",
       "\t 0.17158989 & Formality.human  & 0.1372492\\\\\n",
       "\t 0.02021794 & Equality.human   & 0.1701902\\\\\n",
       "\t 0.05192119 & Valence.human    & 0.1584354\\\\\n",
       "\\end{tabular}\n"
      ],
      "text/markdown": [
       "\n",
       "A data.frame: 5 × 3\n",
       "\n",
       "| diff &lt;dbl&gt; | model &lt;fct&gt; | start &lt;dbl&gt; |\n",
       "|---|---|---|\n",
       "| 0.03350129 | Activeness.human | 0.1242517 |\n",
       "| 0.07508918 | Exchange.human   | 0.1298805 |\n",
       "| 0.17158989 | Formality.human  | 0.1372492 |\n",
       "| 0.02021794 | Equality.human   | 0.1701902 |\n",
       "| 0.05192119 | Valence.human    | 0.1584354 |\n",
       "\n"
      ],
      "text/plain": [
       "  diff       model            start    \n",
       "1 0.03350129 Activeness.human 0.1242517\n",
       "2 0.07508918 Exchange.human   0.1298805\n",
       "3 0.17158989 Formality.human  0.1372492\n",
       "4 0.02021794 Equality.human   0.1701902\n",
       "5 0.05192119 Valence.human    0.1584354"
      ]
     },
     "metadata": {},
     "output_type": "display_data"
    }
   ],
   "source": [
    "diff_favee_list = c()\n",
    "for (m in unique(cvals_cis_single$model)){\n",
    "    model_value = cvals_cis_single[cvals_cis_single$model==m,'value']\n",
    "    diff_value = model_value[1] - model_value[2]\n",
    "    diff_favee_list = c(diff_favee_list, diff_value)\n",
    "}\n",
    "diff_favee = data.frame(diff = diff_favee_list, \n",
    "                        model = unique(cvals_cis_single$model),\n",
    "                        start = cvals_cis_single[cvals_cis_single$geo=='ancient','value'])\n",
    "diff_favee"
   ]
  },
  {
   "cell_type": "code",
   "execution_count": 36,
   "id": "5bf401ad",
   "metadata": {
    "ExecuteTime": {
     "end_time": "2023-11-01T13:07:07.753364Z",
     "start_time": "2023-11-01T13:07:07.336Z"
    },
    "vscode": {
     "languageId": "r"
    }
   },
   "outputs": [
    {
     "name": "stderr",
     "output_type": "stream",
     "text": [
      "Warning message:\n",
      "\"\u001b[1m\u001b[22mUsing `size` aesthetic for lines was deprecated in ggplot2 3.4.0.\n",
      "\u001b[36mi\u001b[39m Please use `linewidth` instead.\"\n"
     ]
    },
    {
     "data": {
      "image/png": "[encoded data removed]",
      "text/plain": [
       "plot without title"
      ]
     },
     "metadata": {
      "image/png": {
       "height": 780,
       "width": 780
      }
     },
     "output_type": "display_data"
    }
   ],
   "source": [
    "options(repr.plot.width=13,repr.plot.height=13)\n",
    "cvals_cis = cvals_cis_single\n",
    "ggplot() +\n",
    "# plot distribution\n",
    "# geom_half_violin(data=df,aes(x=model,y=value,color=geo,fill=geo),\n",
    "#               position=position_nudge(x=0.1,y=0),\n",
    "#               side='L',adjust=1.2,trim=F,color=NA,alpha=0.3)+\n",
    "geom_boxplot(data=df[df$geo=='modern',],aes(x=model,y=value,color=geo),\n",
    "             fatten = 1,position=position_nudge(x=-0.2),alpha=1,outlier.shape = NA,width = 0.3, lwd = 2)+\n",
    "geom_boxplot(data=df[df$geo=='ancient',],aes(x=model,y=value,color=geo),\n",
    "fatten = 1,position=position_nudge(x=0.2),alpha=1,outlier.shape = NA,width = 0.3, lwd = 2)+\n",
    "             \n",
    "# plot RSA correlation\n",
    "geom_segment(data=diff_favee,aes(x=model,xend=model,y=start,yend=start+diff),\n",
    "             size=6,alpha=0.3)+\n",
    "geom_point(data=cvals_cis, aes(x=model, y=value,color=geo),size=10)+\n",
    "\n",
    "scale_color_manual(values=my.color)+\n",
    "scale_fill_manual(values=my.color)+\n",
    "geom_hline(yintercept = 0,linetype='dashed',linewidth = 1.5)+\n",
    "theme_classic()+\n",
    "#coord_flip()+\n",
    "theme(axis.title = element_blank(),\n",
    "      #axis.text.y = element_blank(),\n",
    "      axis.text.y = element_text(size=30,color=\"black\"),\n",
    "      axis.text.x = element_text(size=10,color=\"black\"),\n",
    "      axis.line = element_line(linetype=1,color=\"black\",size=2),    \n",
    "      legend.title = element_blank(),\n",
    "      legend.text = element_text(size=24),\n",
    "      legend.position = 'bottom'\n",
    "     )"
   ]
  },
  {
   "cell_type": "code",
   "execution_count": 37,
   "id": "7b78fbdb",
   "metadata": {
    "ExecuteTime": {
     "end_time": "2023-11-01T13:07:12.716133Z",
     "start_time": "2023-11-01T13:07:11.892Z"
    },
    "vscode": {
     "languageId": "r"
    }
   },
   "outputs": [
    {
     "data": {
      "text/html": [
       "<strong>png:</strong> 2"
      ],
      "text/latex": [
       "\\textbf{png:} 2"
      ],
      "text/markdown": [
       "**png:** 2"
      ],
      "text/plain": [
       "png \n",
       "  2 "
      ]
     },
     "metadata": {},
     "output_type": "display_data"
    }
   ],
   "source": [
    "png(\"output_graph/single_dimension_predictive.png\", bg=\"transparent\",\n",
    "    family = 'sans',units='in',width=13,height=13,res=300)\n",
    "\n",
    "options(repr.plot.width=13,repr.plot.height=13)\n",
    "cvals_cis = cvals_cis_single\n",
    "ggplot() +\n",
    "# plot distribution\n",
    "# geom_half_violin(data=df,aes(x=model,y=value,color=geo,fill=geo),\n",
    "#               position=position_nudge(x=0.1,y=0),\n",
    "#               side='L',adjust=1.2,trim=F,color=NA,alpha=0.3)+\n",
    "geom_boxplot(data=df[df$geo=='modern',],aes(x=model,y=value,color=geo),\n",
    "             fatten = 1,position=position_nudge(x=-0.2),alpha=1,outlier.shape = NA,width = 0.3, lwd = 2)+\n",
    "geom_boxplot(data=df[df$geo=='ancient',],aes(x=model,y=value,color=geo),\n",
    "fatten = 1,position=position_nudge(x=0.2),alpha=1,outlier.shape = NA,width = 0.3, lwd = 2)+\n",
    "             \n",
    "# plot RSA correlation\n",
    "geom_segment(data=diff_favee,aes(x=model,xend=model,y=start,yend=start+diff),\n",
    "             size=6,alpha=0.3)+\n",
    "geom_point(data=cvals_cis, aes(x=model, y=value,color=geo),size=10)+\n",
    "\n",
    "scale_color_manual(values=my.color)+\n",
    "scale_fill_manual(values=my.color)+\n",
    "geom_hline(yintercept = 0,linetype='dashed',linewidth = 1.5)+\n",
    "theme_classic()+\n",
    "#coord_flip()+\n",
    "theme(axis.title = element_blank(),\n",
    "      #axis.text.y = element_blank(),\n",
    "      axis.text.y = element_text(size=30,color=\"black\"),\n",
    "      axis.text.x = element_text(size=10,color=\"black\"),\n",
    "      axis.line = element_line(linetype=1,color=\"black\",size=2),    \n",
    "      legend.title = element_blank(),\n",
    "      legend.text = element_text(size=24),\n",
    "      legend.position = 'bottom'\n",
    "     )\n",
    "dev.off()"
   ]
  }
 ],
 "metadata": {
  "kernelspec": {
   "display_name": "R",
   "language": "R",
   "name": "ir"
  },
  "language_info": {
   "codemirror_mode": "r",
   "file_extension": ".r",
   "mimetype": "text/x-r-source",
   "name": "R",
   "pygments_lexer": "r",
   "version": "4.1.2"
  },
  "latex_envs": {
   "LaTeX_envs_menu_present": true,
   "autoclose": false,
   "autocomplete": true,
   "bibliofile": "biblio.bib",
   "cite_by": "apalike",
   "current_citInitial": 1,
   "eqLabelWithNumbers": true,
   "eqNumInitial": 1,
   "hotkeys": {
    "equation": "Ctrl-E",
    "itemize": "Ctrl-I"
   },
   "labels_anchors": false,
   "latex_user_defs": false,
   "report_style_numbering": false,
   "user_envs_cfg": false
  },
  "toc": {
   "base_numbering": 1,
   "nav_menu": {},
   "number_sections": true,
   "sideBar": true,
   "skip_h1_title": false,
   "title_cell": "Table of Contents",
   "title_sidebar": "Contents",
   "toc_cell": false,
   "toc_position": {
    "height": "calc(100% - 180px)",
    "left": "10px",
    "top": "150px",
    "width": "331.804px"
   },
   "toc_section_display": true,
   "toc_window_display": true
  }
 },
 "nbformat": 4,
 "nbformat_minor": 5
}
