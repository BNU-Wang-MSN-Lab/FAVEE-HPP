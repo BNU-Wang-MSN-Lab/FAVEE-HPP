{
 "cells": [
  {
   "cell_type": "code",
   "execution_count": 2,
   "id": "6cdaf7da",
   "metadata": {
    "ExecuteTime": {
     "end_time": "2023-10-18T15:45:04.563452Z",
     "start_time": "2023-10-18T15:45:04.524Z"
    },
    "vscode": {
     "languageId": "r"
    }
   },
   "outputs": [],
   "source": [
    "library(mgsub)\n",
    "library(gghalves)\n",
    "library(reshape2)\n",
    "library(tidyverse)\n",
    "library(RColorBrewer)\n",
    "library(boot)\n",
    "library(corrplot)\n",
    "library(asbio) # partial R squared \n",
    "library(lsa)"
   ]
  },
  {
   "cell_type": "code",
   "execution_count": 3,
   "id": "a1e312f4",
   "metadata": {
    "ExecuteTime": {
     "end_time": "2023-10-18T15:44:42.091104Z",
     "start_time": "2023-10-18T15:44:42.047Z"
    },
    "vscode": {
     "languageId": "r"
    }
   },
   "outputs": [],
   "source": [
    "lowerTriangle <- function(m){\n",
    "  return(m[lower.tri(m)])\n",
    "}\n",
    "\n",
    "cosine_matrix = function(raw_data){\n",
    "    # rel*rel matrix caculated by cosine similarity\n",
    "    n <- nrow(raw_data)  # raw_data is an n x n matrix, 159*dimensions\n",
    "    # create an empty matrix to store cosine similarity\n",
    "    raw_data_cor <- matrix(0, nrow = n, ncol = n)\n",
    "    colnames(raw_data_cor) <- rownames(raw_data)\n",
    "    rownames(raw_data_cor) <- rownames(raw_data)\n",
    "    # calculate the cosine similarity of the upper triangular part\n",
    "    for (i in 1:(n - 1)) {\n",
    "        for (j in (i + 1):n) {\n",
    "            cosine_value <- cosine(as.numeric(raw_data[i, ]), as.numeric(raw_data[j, ]))\n",
    "            raw_data_cor[i, j] <- cosine_value\n",
    "        }\n",
    "    }\n",
    "    # symmetrically fill the cosine similarity in the lower triangular part\n",
    "    raw_data_cor <- raw_data_cor + t(raw_data_cor)\n",
    "\n",
    "    # set the diagonal to 1\n",
    "    diag(raw_data_cor) <- 1\n",
    "    return(raw_data_cor)\n",
    "}"
   ]
  },
  {
   "cell_type": "markdown",
   "id": "259de9e3",
   "metadata": {},
   "source": [
    "# Import data"
   ]
  },
  {
   "cell_type": "code",
   "execution_count": 4,
   "id": "be0b9445",
   "metadata": {
    "ExecuteTime": {
     "end_time": "2023-10-18T15:40:38.604789Z",
     "start_time": "2023-10-18T15:40:38.560Z"
    },
    "vscode": {
     "languageId": "r"
    }
   },
   "outputs": [],
   "source": [
    "# FAVEE model: favee\n",
    "favee_258r_pc=read.csv('human_rating_data/human_model/CHN_258r_favee.csv',row.names=1, fileEncoding = 'gb18030') \n",
    "rels_order_modern_258r = rownames(favee_258r_pc)\n",
    "\n",
    "rels_order_ancient_120r = read.csv('human_rating_data/ancient_modern_map_120r.csv', fileEncoding = 'gb18030')$'对应的现代人际关系'\n",
    "favee_120r_pc = favee_258r_pc[rels_order_ancient_120r,]\n",
    "# single dimension model: pcsdv\n",
    "ns <- length(favee_120r_pc)\n",
    "pcsdv_120r = data.frame(matrix(nrow = 120*119/2, ncol=5))\n",
    "colnames(pcsdv_120r) = colnames(favee_120r_pc)\n",
    "for (i in 1:5){\n",
    "    pcsdv_120r[[i]] = c(-dist(favee_120r_pc[,i])) # take proximities on each dimension\n",
    "}"
   ]
  },
  {
   "cell_type": "code",
   "execution_count": 5,
   "id": "1bce6605",
   "metadata": {
    "ExecuteTime": {
     "end_time": "2023-10-18T15:40:45.247903Z",
     "start_time": "2023-10-18T15:40:45.163Z"
    },
    "vscode": {
     "languageId": "r"
    }
   },
   "outputs": [],
   "source": [
    "bert_emb_ancient = read.csv('sim_bert_embedding/ancient/q3.2_bert_embedding_data/MASK_embedding_output.csv',\n",
    "                   row.names = 1, check.names = FALSE, fileEncoding = 'gb18030')\n",
    "bert_emb_ancient = bert_emb_ancient[rels_order_ancient_120r,rels_order_ancient_120r]\n",
    "bert_ancient_120r_array = lowerTriangle(bert_emb_ancient)\n",
    "\n",
    "bert_emb_modern = read.csv('sim_bert_embedding/modern/q3.1_bert_embedding_data/MASK_embedding_output.csv',\n",
    "                   row.names = 1, check.names = FALSE, fileEncoding = 'gb18030')\n",
    "bert_emb_modern = bert_emb_modern[rels_order_modern_258r,rels_order_modern_258r]\n",
    "bert_modern_258r_array = lowerTriangle(bert_emb_modern)\n",
    "\n",
    "bert_emb_modern_120r =  bert_emb_modern[rels_order_ancient_120r,rels_order_ancient_120r]\n",
    "bert_modern_120r_array = lowerTriangle(bert_emb_modern_120r)"
   ]
  },
  {
   "cell_type": "markdown",
   "id": "db572c89",
   "metadata": {},
   "source": [
    "# Linear regression"
   ]
  },
  {
   "cell_type": "code",
   "execution_count": 6,
   "id": "389da14a",
   "metadata": {
    "ExecuteTime": {
     "end_time": "2023-10-18T15:40:46.872944Z",
     "start_time": "2023-10-18T15:40:46.844Z"
    },
    "vscode": {
     "languageId": "r"
    }
   },
   "outputs": [],
   "source": [
    "compute_partial_R2 = function(model) {\n",
    "    predictors = colnames(model)[-c(6)]\n",
    "    results <- list()  \n",
    "    lm.without <- update(model, ~. -Formality.human)\n",
    "    results[['Formality']] <- partial.R2(lm.without, model)\n",
    "    lm.without <- update(model, ~. -Activeness.human)\n",
    "    results[['Activeness']] <- partial.R2(lm.without, model)    \n",
    "    lm.without <- update(model, ~. -Valence.human)\n",
    "    results[['Valence']] <- partial.R2(lm.without, model) \n",
    "    lm.without <- update(model, ~. -Exchange.human)\n",
    "    results[['Exchange']] <- partial.R2(lm.without, model) \n",
    "    lm.without <- update(model, ~. -Equality.human)\n",
    "    results[['Equality']] <- partial.R2(lm.without, model) \n",
    "    return(results) \n",
    "}"
   ]
  },
  {
   "cell_type": "markdown",
   "id": "66ec0abb",
   "metadata": {},
   "source": [
    "## bert embedding"
   ]
  },
  {
   "cell_type": "code",
   "execution_count": 7,
   "id": "b6331863",
   "metadata": {
    "ExecuteTime": {
     "end_time": "2023-10-18T15:40:47.784570Z",
     "start_time": "2023-10-18T15:40:47.631Z"
    },
    "vscode": {
     "languageId": "r"
    }
   },
   "outputs": [
    {
     "data": {
      "text/html": [
       "<dl>\n",
       "\t<dt>$Formality</dt>\n",
       "\t\t<dd>0.0735515574677718</dd>\n",
       "\t<dt>$Activeness</dt>\n",
       "\t\t<dd>0.0280787620314901</dd>\n",
       "\t<dt>$Valence</dt>\n",
       "\t\t<dd>0.0647103333654672</dd>\n",
       "\t<dt>$Exchange</dt>\n",
       "\t\t<dd>0.0579982608829867</dd>\n",
       "\t<dt>$Equality</dt>\n",
       "\t\t<dd>0.0388342597971213</dd>\n",
       "</dl>\n"
      ],
      "text/latex": [
       "\\begin{description}\n",
       "\\item[\\$Formality] 0.0735515574677718\n",
       "\\item[\\$Activeness] 0.0280787620314901\n",
       "\\item[\\$Valence] 0.0647103333654672\n",
       "\\item[\\$Exchange] 0.0579982608829867\n",
       "\\item[\\$Equality] 0.0388342597971213\n",
       "\\end{description}\n"
      ],
      "text/markdown": [
       "$Formality\n",
       ":   0.0735515574677718\n",
       "$Activeness\n",
       ":   0.0280787620314901\n",
       "$Valence\n",
       ":   0.0647103333654672\n",
       "$Exchange\n",
       ":   0.0579982608829867\n",
       "$Equality\n",
       ":   0.0388342597971213\n",
       "\n",
       "\n"
      ],
      "text/plain": [
       "$Formality\n",
       "[1] 0.07355156\n",
       "\n",
       "$Activeness\n",
       "[1] 0.02807876\n",
       "\n",
       "$Valence\n",
       "[1] 0.06471033\n",
       "\n",
       "$Exchange\n",
       "[1] 0.05799826\n",
       "\n",
       "$Equality\n",
       "[1] 0.03883426\n"
      ]
     },
     "metadata": {},
     "output_type": "display_data"
    },
    {
     "data": {
      "text/html": [
       "<dl>\n",
       "\t<dt>$Formality</dt>\n",
       "\t\t<dd>0.024250120301609</dd>\n",
       "\t<dt>$Activeness</dt>\n",
       "\t\t<dd>0.0161128456159275</dd>\n",
       "\t<dt>$Valence</dt>\n",
       "\t\t<dd>0.0331563140911093</dd>\n",
       "\t<dt>$Exchange</dt>\n",
       "\t\t<dd>0.0298589389722841</dd>\n",
       "\t<dt>$Equality</dt>\n",
       "\t\t<dd>0.0331218837767184</dd>\n",
       "</dl>\n"
      ],
      "text/latex": [
       "\\begin{description}\n",
       "\\item[\\$Formality] 0.024250120301609\n",
       "\\item[\\$Activeness] 0.0161128456159275\n",
       "\\item[\\$Valence] 0.0331563140911093\n",
       "\\item[\\$Exchange] 0.0298589389722841\n",
       "\\item[\\$Equality] 0.0331218837767184\n",
       "\\end{description}\n"
      ],
      "text/markdown": [
       "$Formality\n",
       ":   0.024250120301609\n",
       "$Activeness\n",
       ":   0.0161128456159275\n",
       "$Valence\n",
       ":   0.0331563140911093\n",
       "$Exchange\n",
       ":   0.0298589389722841\n",
       "$Equality\n",
       ":   0.0331218837767184\n",
       "\n",
       "\n"
      ],
      "text/plain": [
       "$Formality\n",
       "[1] 0.02425012\n",
       "\n",
       "$Activeness\n",
       "[1] 0.01611285\n",
       "\n",
       "$Valence\n",
       "[1] 0.03315631\n",
       "\n",
       "$Exchange\n",
       "[1] 0.02985894\n",
       "\n",
       "$Equality\n",
       "[1] 0.03312188\n"
      ]
     },
     "metadata": {},
     "output_type": "display_data"
    }
   ],
   "source": [
    "pcsdv_120r_y = cbind(pcsdv_120r,bert_modern_120r_array)\n",
    "colnames(pcsdv_120r_y)[6] = 'Modern.bert'\n",
    "pcsdv_120r_y_scaled.m = data.frame(scale(pcsdv_120r_y))\n",
    "modern_model = lm(data=pcsdv_120r_y_scaled.m,\n",
    "                  Modern.bert~Formality.human+Activeness.human+Valence.human+\n",
    "                  Exchange.human+Equality.human)\n",
    "compute_partial_R2(modern_model)\n",
    "\n",
    "\n",
    "pcsdv_120r_y = cbind(pcsdv_120r,bert_ancient_120r_array)\n",
    "colnames(pcsdv_120r_y)[6] = 'Ancient.bert'\n",
    "pcsdv_120r_y_scaled.a = data.frame(scale(pcsdv_120r_y))\n",
    "ancient_model = lm(data=pcsdv_120r_y_scaled.a,\n",
    "                  Ancient.bert~Formality.human+Activeness.human+Valence.human+\n",
    "                  Exchange.human+Equality.human)\n",
    "compute_partial_R2(ancient_model)"
   ]
  },
  {
   "cell_type": "code",
   "execution_count": 8,
   "id": "0740004e",
   "metadata": {
    "ExecuteTime": {
     "end_time": "2023-10-18T15:40:49.930896Z",
     "start_time": "2023-10-18T15:40:49.831Z"
    },
    "vscode": {
     "languageId": "r"
    }
   },
   "outputs": [],
   "source": [
    "partial_r = rbind(data.frame(compute_partial_R2(ancient_model)),\n",
    "      data.frame(compute_partial_R2(modern_model)))\n",
    "rownames(partial_r) = c('ancient','modern')\n",
    "\n",
    "partial_r_prop = partial_r / rowSums(partial_r)\n",
    "partial_r_prop$'epoch' = rownames(partial_r_prop)\n",
    "\n",
    "within_prop_across = melt(partial_r_prop, id.vars = c('epoch'))\n",
    "colnames(within_prop_across)[2] = 'dim'\n",
    "colnames(within_prop_across)[3] = 'prop'\n",
    "within_prop_across$'dim' = factor(within_prop_across$'dim', \n",
    "                                   levels=c('Formality','Activeness','Valence','Exchange','Equality'))\n",
    "within_prop_across$'epoch' = factor(within_prop_across$'epoch',levels = c('modern','ancient'))\n",
    "\n",
    "within_prop_segment = partial_r_prop[,-c(6)]\n",
    "within_prop_segment = data.frame(t(within_prop_segment))\n",
    "within_prop_segment$'dim' = rownames(within_prop_segment)\n",
    "within_prop_segment$'dim' = factor(within_prop_segment$'dim', \n",
    "                                   levels=c('Formality','Activeness','Valence','Exchange','Equality'))"
   ]
  },
  {
   "cell_type": "code",
   "execution_count": 14,
   "id": "495a3ef7",
   "metadata": {
    "vscode": {
     "languageId": "r"
    }
   },
   "outputs": [
    {
     "data": {
      "text/html": [
       "<table class=\"dataframe\">\n",
       "<caption>A data.frame: 5 × 3</caption>\n",
       "<thead>\n",
       "\t<tr><th></th><th scope=col>ancient</th><th scope=col>modern</th><th scope=col>dim</th></tr>\n",
       "\t<tr><th></th><th scope=col>&lt;dbl&gt;</th><th scope=col>&lt;dbl&gt;</th><th scope=col>&lt;fct&gt;</th></tr>\n",
       "</thead>\n",
       "<tbody>\n",
       "\t<tr><th scope=row>Formality</th><td>0.1776564</td><td>0.2794797</td><td>Formality </td></tr>\n",
       "\t<tr><th scope=row>Activeness</th><td>0.1180427</td><td>0.1066931</td><td>Activeness</td></tr>\n",
       "\t<tr><th scope=row>Valence</th><td>0.2429032</td><td>0.2458850</td><td>Valence   </td></tr>\n",
       "\t<tr><th scope=row>Exchange</th><td>0.2187466</td><td>0.2203806</td><td>Exchange  </td></tr>\n",
       "\t<tr><th scope=row>Equality</th><td>0.2426510</td><td>0.1475616</td><td>Equality  </td></tr>\n",
       "</tbody>\n",
       "</table>\n"
      ],
      "text/latex": [
       "A data.frame: 5 × 3\n",
       "\\begin{tabular}{r|lll}\n",
       "  & ancient & modern & dim\\\\\n",
       "  & <dbl> & <dbl> & <fct>\\\\\n",
       "\\hline\n",
       "\tFormality & 0.1776564 & 0.2794797 & Formality \\\\\n",
       "\tActiveness & 0.1180427 & 0.1066931 & Activeness\\\\\n",
       "\tValence & 0.2429032 & 0.2458850 & Valence   \\\\\n",
       "\tExchange & 0.2187466 & 0.2203806 & Exchange  \\\\\n",
       "\tEquality & 0.2426510 & 0.1475616 & Equality  \\\\\n",
       "\\end{tabular}\n"
      ],
      "text/markdown": [
       "\n",
       "A data.frame: 5 × 3\n",
       "\n",
       "| <!--/--> | ancient &lt;dbl&gt; | modern &lt;dbl&gt; | dim &lt;fct&gt; |\n",
       "|---|---|---|---|\n",
       "| Formality | 0.1776564 | 0.2794797 | Formality  |\n",
       "| Activeness | 0.1180427 | 0.1066931 | Activeness |\n",
       "| Valence | 0.2429032 | 0.2458850 | Valence    |\n",
       "| Exchange | 0.2187466 | 0.2203806 | Exchange   |\n",
       "| Equality | 0.2426510 | 0.1475616 | Equality   |\n",
       "\n"
      ],
      "text/plain": [
       "           ancient   modern    dim       \n",
       "Formality  0.1776564 0.2794797 Formality \n",
       "Activeness 0.1180427 0.1066931 Activeness\n",
       "Valence    0.2429032 0.2458850 Valence   \n",
       "Exchange   0.2187466 0.2203806 Exchange  \n",
       "Equality   0.2426510 0.1475616 Equality  "
      ]
     },
     "metadata": {},
     "output_type": "display_data"
    }
   ],
   "source": [
    "within_prop_segment"
   ]
  },
  {
   "cell_type": "code",
   "execution_count": 9,
   "id": "fbdcfa84",
   "metadata": {
    "ExecuteTime": {
     "end_time": "2023-10-18T15:40:51.720105Z",
     "start_time": "2023-10-18T15:40:51.696Z"
    },
    "vscode": {
     "languageId": "r"
    }
   },
   "outputs": [],
   "source": [
    "my.color = c('human'=\"#F2997A\",'modern'=\"#a17db4\",'ancient'=\"#9DCD82\")"
   ]
  },
  {
   "cell_type": "code",
   "execution_count": 10,
   "id": "92d12c1b",
   "metadata": {
    "vscode": {
     "languageId": "r"
    }
   },
   "outputs": [
    {
     "name": "stderr",
     "output_type": "stream",
     "text": [
      "Warning message:\n",
      "\"\u001b[1m\u001b[22mUsing `size` aesthetic for lines was deprecated in ggplot2 3.4.0.\n",
      "\u001b[36mℹ\u001b[39m Please use `linewidth` instead.\"\n",
      "Warning message:\n",
      "\"\u001b[1m\u001b[22mThe `size` argument of `element_line()` is deprecated as of ggplot2 3.4.0.\n",
      "\u001b[36mℹ\u001b[39m Please use the `linewidth` argument instead.\"\n",
      "Warning message:\n",
      "\"\u001b[1m\u001b[22mNo shared levels found between `names(values)` of the manual scale and the\n",
      "data's \u001b[32mcolour\u001b[39m values.\"\n"
     ]
    },
    {
     "data": {
      "image/png": "[encoded data removed]",
      "text/plain": [
       "plot without title"
      ]
     },
     "metadata": {
      "image/png": {
       "height": 600,
       "width": 600
      }
     },
     "output_type": "display_data"
    }
   ],
   "source": [
    "options(repr.plot.width=10,repr.plot.height=10)\n",
    "ggplot() +\n",
    "             \n",
    "# plot RSA correlation\n",
    "geom_segment(data=within_prop_segment,aes(x=dim,xend=dim,y=ancient,yend=modern),\n",
    "             size=10,alpha=0.3)+\n",
    "geom_point(data=within_prop_across[within_prop_across$'epoch'=='modern',], \n",
    "           aes(x=dim, y=prop,fill=epoch),size=10,alpha=0.9,shape=21,stroke=2)+\n",
    "geom_point(data=within_prop_across[within_prop_across$'epoch'=='ancient',], \n",
    "           aes(x=dim, y=prop,fill=epoch),size=10,alpha=0.9,shape=21,stroke=2)+\n",
    "\n",
    "scale_color_manual(values=my.color)+\n",
    "scale_fill_manual(values=my.color)+\n",
    "theme_classic()+\n",
    "#coord_flip()+\n",
    "theme(axis.title = element_blank(),\n",
    "      #axis.text.y = element_blank(),\n",
    "      axis.text = element_text(size=20,color=\"black\"),\n",
    "      axis.line = element_line(linetype=1,color=\"black\",size=2),    \n",
    "      legend.title = element_blank(),\n",
    "      legend.text = element_text(size=20),\n",
    "      legend.position = 'bottom'\n",
    "     )"
   ]
  },
  {
   "cell_type": "code",
   "execution_count": 15,
   "id": "991e36ec",
   "metadata": {
    "ExecuteTime": {
     "end_time": "2023-10-18T15:40:56.068969Z",
     "start_time": "2023-10-18T15:40:55.536Z"
    },
    "vscode": {
     "languageId": "r"
    }
   },
   "outputs": [
    {
     "data": {
      "text/html": [
       "<strong>png:</strong> 2"
      ],
      "text/latex": [
       "\\textbf{png:} 2"
      ],
      "text/markdown": [
       "**png:** 2"
      ],
      "text/plain": [
       "png \n",
       "  2 "
      ]
     },
     "metadata": {},
     "output_type": "display_data"
    }
   ],
   "source": [
    "png(\"output_graph/cultural_evolution.png\", bg=\"transparent\",\n",
    "    family = 'sans',units='in',width=10,height=10,res=300)\n",
    "options(repr.plot.width=10,repr.plot.height=10)\n",
    "ggplot() +\n",
    "             \n",
    "# plot RSA correlation\n",
    "geom_segment(data=within_prop_segment,aes(x=dim,xend=dim,y=ancient,yend=modern),\n",
    "             size=10,alpha=0.3)+\n",
    "geom_point(data=within_prop_across[within_prop_across$'epoch'=='modern',], \n",
    "           aes(x=dim, y=prop,fill=epoch),size=10,alpha=0.9,shape=21,stroke=2)+\n",
    "geom_point(data=within_prop_across[within_prop_across$'epoch'=='ancient',], \n",
    "           aes(x=dim, y=prop,fill=epoch),size=10,alpha=0.9,shape=21,stroke=2)+\n",
    "\n",
    "scale_color_manual(values=my.color)+\n",
    "scale_fill_manual(values=my.color)+\n",
    "theme_classic()+\n",
    "#coord_flip()+\n",
    "theme(axis.title = element_blank(),\n",
    "      #axis.text.y = element_blank(),\n",
    "      axis.text = element_text(size=20,color=\"black\"),\n",
    "      axis.line = element_line(linetype=1,color=\"black\",size=2),    \n",
    "      legend.title = element_blank(),\n",
    "      legend.text = element_text(size=20),\n",
    "      legend.position = 'bottom'\n",
    "     )\n",
    "dev.off()"
   ]
  }
 ],
 "metadata": {
  "kernelspec": {
   "display_name": "R",
   "language": "R",
   "name": "ir"
  },
  "language_info": {
   "codemirror_mode": "r",
   "file_extension": ".r",
   "mimetype": "text/x-r-source",
   "name": "R",
   "pygments_lexer": "r",
   "version": "4.3.3"
  },
  "latex_envs": {
   "LaTeX_envs_menu_present": true,
   "autoclose": false,
   "autocomplete": true,
   "bibliofile": "biblio.bib",
   "cite_by": "apalike",
   "current_citInitial": 1,
   "eqLabelWithNumbers": true,
   "eqNumInitial": 1,
   "hotkeys": {
    "equation": "Ctrl-E",
    "itemize": "Ctrl-I"
   },
   "labels_anchors": false,
   "latex_user_defs": false,
   "report_style_numbering": false,
   "user_envs_cfg": false
  },
  "toc": {
   "base_numbering": 1,
   "nav_menu": {},
   "number_sections": true,
   "sideBar": true,
   "skip_h1_title": false,
   "title_cell": "Table of Contents",
   "title_sidebar": "Contents",
   "toc_cell": false,
   "toc_position": {},
   "toc_section_display": true,
   "toc_window_display": true
  }
 },
 "nbformat": 4,
 "nbformat_minor": 5
}
