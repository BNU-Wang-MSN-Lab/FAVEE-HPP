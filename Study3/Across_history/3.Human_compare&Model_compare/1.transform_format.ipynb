{
 "cells": [
  {
   "cell_type": "code",
   "execution_count": 1,
   "id": "2f9c8fc5",
   "metadata": {
    "ExecuteTime": {
     "end_time": "2023-10-12T15:09:08.458457Z",
     "start_time": "2023-10-12T15:09:07.576323Z"
    }
   },
   "outputs": [],
   "source": [
    "import pandas as pd\n",
    "import os\n",
    "import glob"
   ]
  },
  {
   "cell_type": "markdown",
   "id": "e13c92c9",
   "metadata": {},
   "source": [
    "# Ancient"
   ]
  },
  {
   "cell_type": "code",
   "execution_count": 2,
   "id": "d82973c5",
   "metadata": {
    "ExecuteTime": {
     "end_time": "2023-10-09T15:20:59.412096Z",
     "start_time": "2023-10-09T15:19:59.034759Z"
    }
   },
   "outputs": [],
   "source": [
    "querys = os.listdir('../2.BERT_embedding/ancient/bac/')\n",
    "querys = [i for i in querys if i.endswith('bert_embedding_data')]\n",
    "for query in querys:\n",
    "    file_paths = glob.glob(f'../2.BERT_embedding/ancient/bac/'+query+'/*.csv')\n",
    "    for file_path in file_paths:\n",
    "        file_df = pd.read_csv(file_path, encoding='utf-8')\n",
    "        file_df = file_df.dropna(axis=1,how='all') # drop empty columns\n",
    "        file = file_path.split('\\\\')[-1]\n",
    "        \n",
    "        output_folder = f'bert_embedding_data/ancient/'+query+'/'\n",
    "        if not os.path.exists(output_folder):\n",
    "            os.makedirs(output_folder)\n",
    "        file_df.to_csv(output_folder + file, encoding='gb18030')"
   ]
  },
  {
   "cell_type": "markdown",
   "id": "6aa6593e",
   "metadata": {},
   "source": [
    "# Modern"
   ]
  },
  {
   "cell_type": "code",
   "execution_count": 2,
   "id": "77775e9f",
   "metadata": {
    "ExecuteTime": {
     "end_time": "2023-10-12T15:11:09.402671Z",
     "start_time": "2023-10-12T15:09:27.074672Z"
    }
   },
   "outputs": [],
   "source": [
    "querys = os.listdir('../2.BERT_embedding/modern/wordbased/')\n",
    "for query in querys:\n",
    "    file_paths = glob.glob('../2.BERT_embedding/modern/wordbased/'+query+'/*.csv')\n",
    "    for file_path in file_paths:\n",
    "        file_df = pd.read_csv(file_path, encoding='utf-8')\n",
    "        file_df = file_df.dropna(axis=1,how='all') # drop empty columns\n",
    "        file = file_path.split('\\\\')[-1]\n",
    "        \n",
    "        output_folder = 'bert_embedding_data/modern/'+query+'/'\n",
    "        if not os.path.exists(output_folder):\n",
    "            os.makedirs(output_folder)\n",
    "        file_df.to_csv(output_folder + file, encoding='gb18030')"
   ]
  }
 ],
 "metadata": {
  "kernelspec": {
   "display_name": "base",
   "language": "python",
   "name": "python3"
  },
  "language_info": {
   "codemirror_mode": {
    "name": "ipython",
    "version": 3
   },
   "file_extension": ".py",
   "mimetype": "text/x-python",
   "name": "python",
   "nbconvert_exporter": "python",
   "pygments_lexer": "ipython3",
   "version": "3.8.2"
  },
  "latex_envs": {
   "LaTeX_envs_menu_present": true,
   "autoclose": false,
   "autocomplete": true,
   "bibliofile": "biblio.bib",
   "cite_by": "apalike",
   "current_citInitial": 1,
   "eqLabelWithNumbers": true,
   "eqNumInitial": 1,
   "hotkeys": {
    "equation": "Ctrl-E",
    "itemize": "Ctrl-I"
   },
   "labels_anchors": false,
   "latex_user_defs": false,
   "report_style_numbering": false,
   "user_envs_cfg": false
  },
  "toc": {
   "base_numbering": 1,
   "nav_menu": {},
   "number_sections": true,
   "sideBar": true,
   "skip_h1_title": false,
   "title_cell": "Table of Contents",
   "title_sidebar": "Contents",
   "toc_cell": false,
   "toc_position": {},
   "toc_section_display": true,
   "toc_window_display": false
  }
 },
 "nbformat": 4,
 "nbformat_minor": 5
}
