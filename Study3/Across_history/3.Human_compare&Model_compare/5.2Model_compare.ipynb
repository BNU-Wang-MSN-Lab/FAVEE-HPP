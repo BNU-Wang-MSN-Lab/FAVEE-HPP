{
 "cells": [
  {
   "cell_type": "code",
   "execution_count": 2,
   "id": "2ac8ec6c",
   "metadata": {
    "ExecuteTime": {
     "end_time": "2023-10-18T06:28:29.377506Z",
     "start_time": "2023-10-18T06:28:29.267Z"
    },
    "vscode": {
     "languageId": "r"
    }
   },
   "outputs": [],
   "source": [
    "library(mgsub)\n",
    "library(gghalves)\n",
    "library(reshape2)\n",
    "library(tidyverse)\n",
    "library(RColorBrewer)\n",
    "library(boot)\n",
    "library(lsa) #cosine\n",
    "library(gghalves) "
   ]
  },
  {
   "cell_type": "code",
   "execution_count": 3,
   "id": "134c4306",
   "metadata": {
    "ExecuteTime": {
     "end_time": "2023-10-18T06:28:32.314193Z",
     "start_time": "2023-10-18T06:28:32.268Z"
    },
    "vscode": {
     "languageId": "r"
    }
   },
   "outputs": [],
   "source": [
    "lowerTriangle <- function(m){\n",
    "  return(m[lower.tri(m)])\n",
    "}\n",
    "\n",
    "cosine_matrix = function(raw_data){\n",
    "    # rel*rel matrix caculated by cosine similarity\n",
    "    n <- nrow(raw_data)  # raw_data is an n x n matrix, 159*dimensions\n",
    "    # create an empty matrix to store cosine similarity\n",
    "    raw_data_cor <- matrix(0, nrow = n, ncol = n)\n",
    "    colnames(raw_data_cor) <- rownames(raw_data)\n",
    "    rownames(raw_data_cor) <- rownames(raw_data)\n",
    "    # calculate the cosine similarity of the upper triangular part\n",
    "    for (i in 1:(n - 1)) {\n",
    "        for (j in (i + 1):n) {\n",
    "            cosine_value <- cosine(as.numeric(raw_data[i, ]), as.numeric(raw_data[j, ]))\n",
    "            raw_data_cor[i, j] <- cosine_value\n",
    "        }\n",
    "    }\n",
    "    # symmetrically fill the cosine similarity in the lower triangular part\n",
    "    raw_data_cor <- raw_data_cor + t(raw_data_cor)\n",
    "\n",
    "    # set the diagonal to 1\n",
    "    diag(raw_data_cor) <- 1\n",
    "    return(raw_data_cor)\n",
    "}"
   ]
  },
  {
   "cell_type": "markdown",
   "id": "1c8c152a",
   "metadata": {},
   "source": [
    "# 15 theoretical models + FAVEE"
   ]
  },
  {
   "cell_type": "code",
   "execution_count": 4,
   "id": "9d377484",
   "metadata": {
    "ExecuteTime": {
     "end_time": "2023-10-18T06:28:35.239075Z",
     "start_time": "2023-10-18T06:28:35.115Z"
    },
    "vscode": {
     "languageId": "r"
    }
   },
   "outputs": [
    {
     "data": {
      "text/html": [
       "16"
      ],
      "text/latex": [
       "16"
      ],
      "text/markdown": [
       "16"
      ],
      "text/plain": [
       "[1] 16"
      ]
     },
     "metadata": {},
     "output_type": "display_data"
    }
   ],
   "source": [
    "#define the model name\n",
    "models <- c('Wish_1976_model','Triandis_1968_model','Marwell_1970_model',\n",
    "            'Osgood_1957_model','Fiske_1992_model','Clark_2011_model','Carpendale_2004_model',\n",
    "            'Foa_2012_model','Bugental_2000_model','Goffman_1959_model','Hamilton_1981_model',\n",
    "            'Burton_1975_model','Montgomery_1988_model','Rands_1979_model','Weiss_1998_model',\n",
    "            'FAVEE_model')\n",
    "\n",
    "# define the model\n",
    "FAVEE_model <- c(\"Formality.and.Regulation\",\"Activeness\",\"Valence.Evaluation\",\"Goods.Exchange\",\"Equality\")\n",
    "Wish_1976_model <- c(\"Formality.and.Regulation\",\"Equality\",\"Valence.Evaluation\",\"Activity.Intensity\")\n",
    "Triandis_1968_model <- c(\"Valence.Evaluation\",\"Equality\",\"Intimacy\") \n",
    "Marwell_1970_model <- c(\"Visibility\",\"Formality.and.Regulation\",\"Intimacy\")\n",
    "Osgood_1957_model <- c(\"Valence.Evaluation\",\"Equality\",\"Activity.Intensity\")\n",
    "Fiske_1992_model <- c(\"Communal.Sharing\",\"Equality\",\"Strategic\",\"Expected.Reciprocity\")\n",
    "Clark_2011_model <- c(\"Communal.Sharing\",\"Strategic\",\"Expected.Reciprocity\")\n",
    "Carpendale_2004_model <- c(\"Importance.for.individuals\",\"Importance.for.society\")\n",
    "Foa_2012_model <- c(\"Concreteness\",\"Uniqueness\")\n",
    "Bugental_2000_model <- c(\"Attachment\",\"Affiliation.Coalition\",\"Mating\",\"Expected.Reciprocity\",\"Equality\")\n",
    "Goffman_1959_model <- c(\"Valence.Evaluation\",\"Affiliation.Coalition\",\"Conflict\",\"Negotiation\",\"Coercion\")\n",
    "Hamilton_1981_model <- c(\"Valence.Evaluation\",\"Equality\")\n",
    "Burton_1975_model <- c(\"Valence.Evaluation\",\"Equality\",\"Occupational\")\n",
    "Montgomery_1988_model <- c(\"Valence.Evaluation\",\"Equality\",\"Intimacy\") \n",
    "Rands_1979_model <- c(\"Formality.and.Regulation\",\"Socioemotional\")\n",
    "Weiss_1998_model <- c(\"Attachment\",\"Affiliation.Coalition\")\n",
    "\n",
    "length(models)"
   ]
  },
  {
   "cell_type": "code",
   "execution_count": 6,
   "id": "8fd0fbcf",
   "metadata": {
    "vscode": {
     "languageId": "r"
    }
   },
   "outputs": [
    {
     "data": {
      "text/html": [
       "<style>\n",
       ".list-inline {list-style: none; margin:0; padding: 0}\n",
       ".list-inline>li {display: inline-block}\n",
       ".list-inline>li:not(:last-child)::after {content: \"\\00b7\"; padding: 0 .5ex}\n",
       "</style>\n",
       "<ol class=list-inline><li>258</li><li>33</li></ol>\n"
      ],
      "text/latex": [
       "\\begin{enumerate*}\n",
       "\\item 258\n",
       "\\item 33\n",
       "\\end{enumerate*}\n"
      ],
      "text/markdown": [
       "1. 258\n",
       "2. 33\n",
       "\n",
       "\n"
      ],
      "text/plain": [
       "[1] 258  33"
      ]
     },
     "metadata": {},
     "output_type": "display_data"
    }
   ],
   "source": [
    "human_258r_33d = read.csv('human_rating_data/study2_modern/CHN_dim_rel_NLP_258r_33d_scaled_chi.csv',\n",
    "                      row.names=1)\n",
    "rels_order = row.names(human_258r_33d)\n",
    "predict_33d = human_258r_33d \n",
    "dim(predict_33d)\n",
    "model_sim_array = data.frame(matrix(nrow=33153,ncol=16))\n",
    "colnames(model_sim_array) = models\n",
    "model_sim_dict = list()\n",
    "for (model_name in models) {\n",
    "    model_vector <- get(model_name) \n",
    "    model_sim = cosine_matrix(predict_33d[,model_vector]) \n",
    "    model_sim_dict[[model_name]] = model_sim \n",
    "    model_sim_array[model_name] = lowerTriangle(model_sim)\n",
    "}"
   ]
  },
  {
   "cell_type": "markdown",
   "id": "39ec4b05",
   "metadata": {},
   "source": [
    "# Targeted RDM"
   ]
  },
  {
   "cell_type": "markdown",
   "id": "401b6ac3",
   "metadata": {},
   "source": [
    "## modern bert"
   ]
  },
  {
   "cell_type": "code",
   "execution_count": 7,
   "id": "1ff2d857",
   "metadata": {
    "ExecuteTime": {
     "end_time": "2023-10-17T03:18:49.079838Z",
     "start_time": "2023-10-17T03:17:34.940Z"
    },
    "vscode": {
     "languageId": "r"
    }
   },
   "outputs": [
    {
     "data": {
      "text/html": [
       "<style>\n",
       ".list-inline {list-style: none; margin:0; padding: 0}\n",
       ".list-inline>li {display: inline-block}\n",
       ".list-inline>li:not(:last-child)::after {content: \"\\00b7\"; padding: 0 .5ex}\n",
       "</style>\n",
       "<ol class=list-inline><li>258</li><li>33</li></ol>\n"
      ],
      "text/latex": [
       "\\begin{enumerate*}\n",
       "\\item 258\n",
       "\\item 33\n",
       "\\end{enumerate*}\n"
      ],
      "text/markdown": [
       "1. 258\n",
       "2. 33\n",
       "\n",
       "\n"
      ],
      "text/plain": [
       "[1] 258  33"
      ]
     },
     "metadata": {},
     "output_type": "display_data"
    }
   ],
   "source": [
    "csim_modern=read.csv('sim_bert_embedding/modern/q3.1_bert_embedding_data/MASK_embedding_output.csv',\n",
    "                   check.names=FALSE,row.names=1)\n",
    "rels_order = rownames(csim_modern)\n",
    "csim_modern = lowerTriangle(csim_modern)\n",
    "\n",
    "predict_33d = human_258r_33d[rels_order,]\n",
    "dim(predict_33d)\n",
    "model_sim_array = data.frame(matrix(nrow=33153,ncol=16))\n",
    "colnames(model_sim_array) = models\n",
    "model_sim_dict = list()\n",
    "for (model_name in models) {\n",
    "    model_vector <- get(model_name) \n",
    "    model_sim = cosine_matrix(predict_33d[,model_vector]) \n",
    "    model_sim_dict[[model_name]] = model_sim \n",
    "    model_sim_array[model_name] = lowerTriangle(model_sim)\n",
    "}\n",
    "bertm.result.cor = data.frame(cor(cbind(model_sim_array,csim_modern)))"
   ]
  },
  {
   "cell_type": "code",
   "execution_count": 8,
   "id": "2387e6c9",
   "metadata": {
    "ExecuteTime": {
     "end_time": "2023-10-17T03:18:49.136804Z",
     "start_time": "2023-10-17T03:17:34.941Z"
    },
    "vscode": {
     "languageId": "r"
    }
   },
   "outputs": [
    {
     "data": {
      "text/html": [
       "<table class=\"dataframe\">\n",
       "<caption>A data.frame: 17 × 1</caption>\n",
       "<thead>\n",
       "\t<tr><th></th><th scope=col>csim_modern</th></tr>\n",
       "\t<tr><th></th><th scope=col>&lt;dbl&gt;</th></tr>\n",
       "</thead>\n",
       "<tbody>\n",
       "\t<tr><th scope=row>csim_modern</th><td>1.0000000</td></tr>\n",
       "\t<tr><th scope=row>FAVEE_model</th><td>0.5162148</td></tr>\n",
       "\t<tr><th scope=row>Wish_1976_model</th><td>0.5142495</td></tr>\n",
       "\t<tr><th scope=row>Marwell_1970_model</th><td>0.4941050</td></tr>\n",
       "\t<tr><th scope=row>Burton_1975_model</th><td>0.4790298</td></tr>\n",
       "\t<tr><th scope=row>Bugental_2000_model</th><td>0.4516134</td></tr>\n",
       "\t<tr><th scope=row>Fiske_1992_model</th><td>0.4435936</td></tr>\n",
       "\t<tr><th scope=row>Triandis_1968_model</th><td>0.4186917</td></tr>\n",
       "\t<tr><th scope=row>Montgomery_1988_model</th><td>0.4186917</td></tr>\n",
       "\t<tr><th scope=row>Rands_1979_model</th><td>0.4079019</td></tr>\n",
       "\t<tr><th scope=row>Clark_2011_model</th><td>0.3866149</td></tr>\n",
       "\t<tr><th scope=row>Osgood_1957_model</th><td>0.3861218</td></tr>\n",
       "\t<tr><th scope=row>Goffman_1959_model</th><td>0.3121818</td></tr>\n",
       "\t<tr><th scope=row>Weiss_1998_model</th><td>0.2938214</td></tr>\n",
       "\t<tr><th scope=row>Hamilton_1981_model</th><td>0.2811789</td></tr>\n",
       "\t<tr><th scope=row>Foa_2012_model</th><td>0.2674150</td></tr>\n",
       "\t<tr><th scope=row>Carpendale_2004_model</th><td>0.2290752</td></tr>\n",
       "</tbody>\n",
       "</table>\n"
      ],
      "text/latex": [
       "A data.frame: 17 × 1\n",
       "\\begin{tabular}{r|l}\n",
       "  & csim\\_modern\\\\\n",
       "  & <dbl>\\\\\n",
       "\\hline\n",
       "\tcsim\\_modern & 1.0000000\\\\\n",
       "\tFAVEE\\_model & 0.5162148\\\\\n",
       "\tWish\\_1976\\_model & 0.5142495\\\\\n",
       "\tMarwell\\_1970\\_model & 0.4941050\\\\\n",
       "\tBurton\\_1975\\_model & 0.4790298\\\\\n",
       "\tBugental\\_2000\\_model & 0.4516134\\\\\n",
       "\tFiske\\_1992\\_model & 0.4435936\\\\\n",
       "\tTriandis\\_1968\\_model & 0.4186917\\\\\n",
       "\tMontgomery\\_1988\\_model & 0.4186917\\\\\n",
       "\tRands\\_1979\\_model & 0.4079019\\\\\n",
       "\tClark\\_2011\\_model & 0.3866149\\\\\n",
       "\tOsgood\\_1957\\_model & 0.3861218\\\\\n",
       "\tGoffman\\_1959\\_model & 0.3121818\\\\\n",
       "\tWeiss\\_1998\\_model & 0.2938214\\\\\n",
       "\tHamilton\\_1981\\_model & 0.2811789\\\\\n",
       "\tFoa\\_2012\\_model & 0.2674150\\\\\n",
       "\tCarpendale\\_2004\\_model & 0.2290752\\\\\n",
       "\\end{tabular}\n"
      ],
      "text/markdown": [
       "\n",
       "A data.frame: 17 × 1\n",
       "\n",
       "| <!--/--> | csim_modern &lt;dbl&gt; |\n",
       "|---|---|\n",
       "| csim_modern | 1.0000000 |\n",
       "| FAVEE_model | 0.5162148 |\n",
       "| Wish_1976_model | 0.5142495 |\n",
       "| Marwell_1970_model | 0.4941050 |\n",
       "| Burton_1975_model | 0.4790298 |\n",
       "| Bugental_2000_model | 0.4516134 |\n",
       "| Fiske_1992_model | 0.4435936 |\n",
       "| Triandis_1968_model | 0.4186917 |\n",
       "| Montgomery_1988_model | 0.4186917 |\n",
       "| Rands_1979_model | 0.4079019 |\n",
       "| Clark_2011_model | 0.3866149 |\n",
       "| Osgood_1957_model | 0.3861218 |\n",
       "| Goffman_1959_model | 0.3121818 |\n",
       "| Weiss_1998_model | 0.2938214 |\n",
       "| Hamilton_1981_model | 0.2811789 |\n",
       "| Foa_2012_model | 0.2674150 |\n",
       "| Carpendale_2004_model | 0.2290752 |\n",
       "\n"
      ],
      "text/plain": [
       "                      csim_modern\n",
       "csim_modern           1.0000000  \n",
       "FAVEE_model           0.5162148  \n",
       "Wish_1976_model       0.5142495  \n",
       "Marwell_1970_model    0.4941050  \n",
       "Burton_1975_model     0.4790298  \n",
       "Bugental_2000_model   0.4516134  \n",
       "Fiske_1992_model      0.4435936  \n",
       "Triandis_1968_model   0.4186917  \n",
       "Montgomery_1988_model 0.4186917  \n",
       "Rands_1979_model      0.4079019  \n",
       "Clark_2011_model      0.3866149  \n",
       "Osgood_1957_model     0.3861218  \n",
       "Goffman_1959_model    0.3121818  \n",
       "Weiss_1998_model      0.2938214  \n",
       "Hamilton_1981_model   0.2811789  \n",
       "Foa_2012_model        0.2674150  \n",
       "Carpendale_2004_model 0.2290752  "
      ]
     },
     "metadata": {},
     "output_type": "display_data"
    }
   ],
   "source": [
    "bert_modern_cor = bertm.result.cor %>% select(csim_modern) \n",
    "bert_modern_cor %>% arrange(desc(csim_modern))"
   ]
  },
  {
   "cell_type": "markdown",
   "id": "155cb5f1",
   "metadata": {},
   "source": [
    "## ancient bert"
   ]
  },
  {
   "cell_type": "code",
   "execution_count": 9,
   "id": "bc8cdc71",
   "metadata": {
    "ExecuteTime": {
     "end_time": "2023-10-17T03:18:56.923688Z",
     "start_time": "2023-10-17T03:17:34.957Z"
    },
    "vscode": {
     "languageId": "r"
    }
   },
   "outputs": [
    {
     "data": {
      "text/html": [
       "<style>\n",
       ".list-inline {list-style: none; margin:0; padding: 0}\n",
       ".list-inline>li {display: inline-block}\n",
       ".list-inline>li:not(:last-child)::after {content: \"\\00b7\"; padding: 0 .5ex}\n",
       "</style>\n",
       "<ol class=list-inline><li>120</li><li>33</li></ol>\n"
      ],
      "text/latex": [
       "\\begin{enumerate*}\n",
       "\\item 120\n",
       "\\item 33\n",
       "\\end{enumerate*}\n"
      ],
      "text/markdown": [
       "1. 120\n",
       "2. 33\n",
       "\n",
       "\n"
      ],
      "text/plain": [
       "[1] 120  33"
      ]
     },
     "metadata": {},
     "output_type": "display_data"
    }
   ],
   "source": [
    "csim_ancient=read.csv('sim_bert_embedding/ancient/q3.2_bert_embedding_data/MASK_embedding_output.csv',\n",
    "                   check.names=FALSE,row.names=1)\n",
    "rels_order_ancient = rownames(csim_ancient)\n",
    "csim_ancient = lowerTriangle(csim_ancient)\n",
    "\n",
    "predict_33d = human_258r_33d[rels_order_ancient,]\n",
    "dim(predict_33d)\n",
    "model_sim_array = data.frame(matrix(nrow=7140,ncol=16))\n",
    "colnames(model_sim_array) = models\n",
    "model_sim_dict = list()\n",
    "for (model_name in models) {\n",
    "    model_vector <- get(model_name) \n",
    "    model_sim = cosine_matrix(predict_33d[,model_vector]) \n",
    "    model_sim_dict[[model_name]] = model_sim \n",
    "    model_sim_array[model_name] = lowerTriangle(model_sim)\n",
    "}\n",
    "berta.result.cor = data.frame(cor(cbind(model_sim_array,csim_ancient)))"
   ]
  },
  {
   "cell_type": "code",
   "execution_count": 10,
   "id": "72c84a31",
   "metadata": {
    "ExecuteTime": {
     "end_time": "2023-10-17T03:18:56.975657Z",
     "start_time": "2023-10-17T03:17:34.959Z"
    },
    "vscode": {
     "languageId": "r"
    }
   },
   "outputs": [
    {
     "data": {
      "text/html": [
       "<table class=\"dataframe\">\n",
       "<caption>A data.frame: 17 × 1</caption>\n",
       "<thead>\n",
       "\t<tr><th></th><th scope=col>csim_ancient</th></tr>\n",
       "\t<tr><th></th><th scope=col>&lt;dbl&gt;</th></tr>\n",
       "</thead>\n",
       "<tbody>\n",
       "\t<tr><th scope=row>csim_ancient</th><td>1.0000000</td></tr>\n",
       "\t<tr><th scope=row>FAVEE_model</th><td>0.4166957</td></tr>\n",
       "\t<tr><th scope=row>Wish_1976_model</th><td>0.4005847</td></tr>\n",
       "\t<tr><th scope=row>Marwell_1970_model</th><td>0.3950908</td></tr>\n",
       "\t<tr><th scope=row>Bugental_2000_model</th><td>0.3794882</td></tr>\n",
       "\t<tr><th scope=row>Triandis_1968_model</th><td>0.3691541</td></tr>\n",
       "\t<tr><th scope=row>Montgomery_1988_model</th><td>0.3691541</td></tr>\n",
       "\t<tr><th scope=row>Fiske_1992_model</th><td>0.3487931</td></tr>\n",
       "\t<tr><th scope=row>Clark_2011_model</th><td>0.3219329</td></tr>\n",
       "\t<tr><th scope=row>Burton_1975_model</th><td>0.3199213</td></tr>\n",
       "\t<tr><th scope=row>Osgood_1957_model</th><td>0.3060043</td></tr>\n",
       "\t<tr><th scope=row>Rands_1979_model</th><td>0.2906947</td></tr>\n",
       "\t<tr><th scope=row>Weiss_1998_model</th><td>0.2873417</td></tr>\n",
       "\t<tr><th scope=row>Goffman_1959_model</th><td>0.2612580</td></tr>\n",
       "\t<tr><th scope=row>Foa_2012_model</th><td>0.2376243</td></tr>\n",
       "\t<tr><th scope=row>Hamilton_1981_model</th><td>0.1996841</td></tr>\n",
       "\t<tr><th scope=row>Carpendale_2004_model</th><td>0.1843357</td></tr>\n",
       "</tbody>\n",
       "</table>\n"
      ],
      "text/latex": [
       "A data.frame: 17 × 1\n",
       "\\begin{tabular}{r|l}\n",
       "  & csim\\_ancient\\\\\n",
       "  & <dbl>\\\\\n",
       "\\hline\n",
       "\tcsim\\_ancient & 1.0000000\\\\\n",
       "\tFAVEE\\_model & 0.4166957\\\\\n",
       "\tWish\\_1976\\_model & 0.4005847\\\\\n",
       "\tMarwell\\_1970\\_model & 0.3950908\\\\\n",
       "\tBugental\\_2000\\_model & 0.3794882\\\\\n",
       "\tTriandis\\_1968\\_model & 0.3691541\\\\\n",
       "\tMontgomery\\_1988\\_model & 0.3691541\\\\\n",
       "\tFiske\\_1992\\_model & 0.3487931\\\\\n",
       "\tClark\\_2011\\_model & 0.3219329\\\\\n",
       "\tBurton\\_1975\\_model & 0.3199213\\\\\n",
       "\tOsgood\\_1957\\_model & 0.3060043\\\\\n",
       "\tRands\\_1979\\_model & 0.2906947\\\\\n",
       "\tWeiss\\_1998\\_model & 0.2873417\\\\\n",
       "\tGoffman\\_1959\\_model & 0.2612580\\\\\n",
       "\tFoa\\_2012\\_model & 0.2376243\\\\\n",
       "\tHamilton\\_1981\\_model & 0.1996841\\\\\n",
       "\tCarpendale\\_2004\\_model & 0.1843357\\\\\n",
       "\\end{tabular}\n"
      ],
      "text/markdown": [
       "\n",
       "A data.frame: 17 × 1\n",
       "\n",
       "| <!--/--> | csim_ancient &lt;dbl&gt; |\n",
       "|---|---|\n",
       "| csim_ancient | 1.0000000 |\n",
       "| FAVEE_model | 0.4166957 |\n",
       "| Wish_1976_model | 0.4005847 |\n",
       "| Marwell_1970_model | 0.3950908 |\n",
       "| Bugental_2000_model | 0.3794882 |\n",
       "| Triandis_1968_model | 0.3691541 |\n",
       "| Montgomery_1988_model | 0.3691541 |\n",
       "| Fiske_1992_model | 0.3487931 |\n",
       "| Clark_2011_model | 0.3219329 |\n",
       "| Burton_1975_model | 0.3199213 |\n",
       "| Osgood_1957_model | 0.3060043 |\n",
       "| Rands_1979_model | 0.2906947 |\n",
       "| Weiss_1998_model | 0.2873417 |\n",
       "| Goffman_1959_model | 0.2612580 |\n",
       "| Foa_2012_model | 0.2376243 |\n",
       "| Hamilton_1981_model | 0.1996841 |\n",
       "| Carpendale_2004_model | 0.1843357 |\n",
       "\n"
      ],
      "text/plain": [
       "                      csim_ancient\n",
       "csim_ancient          1.0000000   \n",
       "FAVEE_model           0.4166957   \n",
       "Wish_1976_model       0.4005847   \n",
       "Marwell_1970_model    0.3950908   \n",
       "Bugental_2000_model   0.3794882   \n",
       "Triandis_1968_model   0.3691541   \n",
       "Montgomery_1988_model 0.3691541   \n",
       "Fiske_1992_model      0.3487931   \n",
       "Clark_2011_model      0.3219329   \n",
       "Burton_1975_model     0.3199213   \n",
       "Osgood_1957_model     0.3060043   \n",
       "Rands_1979_model      0.2906947   \n",
       "Weiss_1998_model      0.2873417   \n",
       "Goffman_1959_model    0.2612580   \n",
       "Foa_2012_model        0.2376243   \n",
       "Hamilton_1981_model   0.1996841   \n",
       "Carpendale_2004_model 0.1843357   "
      ]
     },
     "metadata": {},
     "output_type": "display_data"
    }
   ],
   "source": [
    "bert_ancient_cor = berta.result.cor %>% select(csim_ancient) \n",
    "bert_ancient_cor %>% arrange(desc(csim_ancient))"
   ]
  },
  {
   "cell_type": "code",
   "execution_count": 12,
   "id": "03bebe96",
   "metadata": {
    "ExecuteTime": {
     "end_time": "2023-10-17T03:18:57.034658Z",
     "start_time": "2023-10-17T03:17:34.969Z"
    },
    "vscode": {
     "languageId": "r"
    }
   },
   "outputs": [
    {
     "data": {
      "text/html": [
       "<table class=\"dataframe\">\n",
       "<caption>A data.frame: 16 × 2</caption>\n",
       "<thead>\n",
       "\t<tr><th></th><th scope=col>modern</th><th scope=col>ancient</th></tr>\n",
       "\t<tr><th></th><th scope=col>&lt;dbl&gt;</th><th scope=col>&lt;dbl&gt;</th></tr>\n",
       "</thead>\n",
       "<tbody>\n",
       "\t<tr><th scope=row>Wish_1976_model</th><td>0.5142495</td><td>0.4005847</td></tr>\n",
       "\t<tr><th scope=row>Triandis_1968_model</th><td>0.4186917</td><td>0.3691541</td></tr>\n",
       "\t<tr><th scope=row>Marwell_1970_model</th><td>0.4941050</td><td>0.3950908</td></tr>\n",
       "\t<tr><th scope=row>Osgood_1957_model</th><td>0.3861218</td><td>0.3060043</td></tr>\n",
       "\t<tr><th scope=row>Fiske_1992_model</th><td>0.4435936</td><td>0.3487931</td></tr>\n",
       "\t<tr><th scope=row>Clark_2011_model</th><td>0.3866149</td><td>0.3219329</td></tr>\n",
       "\t<tr><th scope=row>Carpendale_2004_model</th><td>0.2290752</td><td>0.1843357</td></tr>\n",
       "\t<tr><th scope=row>Foa_2012_model</th><td>0.2674150</td><td>0.2376243</td></tr>\n",
       "\t<tr><th scope=row>Bugental_2000_model</th><td>0.4516134</td><td>0.3794882</td></tr>\n",
       "\t<tr><th scope=row>Goffman_1959_model</th><td>0.3121818</td><td>0.2612580</td></tr>\n",
       "\t<tr><th scope=row>Hamilton_1981_model</th><td>0.2811789</td><td>0.1996841</td></tr>\n",
       "\t<tr><th scope=row>Burton_1975_model</th><td>0.4790298</td><td>0.3199213</td></tr>\n",
       "\t<tr><th scope=row>Montgomery_1988_model</th><td>0.4186917</td><td>0.3691541</td></tr>\n",
       "\t<tr><th scope=row>Rands_1979_model</th><td>0.4079019</td><td>0.2906947</td></tr>\n",
       "\t<tr><th scope=row>Weiss_1998_model</th><td>0.2938214</td><td>0.2873417</td></tr>\n",
       "\t<tr><th scope=row>FAVEE_model</th><td>0.5162148</td><td>0.4166957</td></tr>\n",
       "</tbody>\n",
       "</table>\n"
      ],
      "text/latex": [
       "A data.frame: 16 × 2\n",
       "\\begin{tabular}{r|ll}\n",
       "  & modern & ancient\\\\\n",
       "  & <dbl> & <dbl>\\\\\n",
       "\\hline\n",
       "\tWish\\_1976\\_model & 0.5142495 & 0.4005847\\\\\n",
       "\tTriandis\\_1968\\_model & 0.4186917 & 0.3691541\\\\\n",
       "\tMarwell\\_1970\\_model & 0.4941050 & 0.3950908\\\\\n",
       "\tOsgood\\_1957\\_model & 0.3861218 & 0.3060043\\\\\n",
       "\tFiske\\_1992\\_model & 0.4435936 & 0.3487931\\\\\n",
       "\tClark\\_2011\\_model & 0.3866149 & 0.3219329\\\\\n",
       "\tCarpendale\\_2004\\_model & 0.2290752 & 0.1843357\\\\\n",
       "\tFoa\\_2012\\_model & 0.2674150 & 0.2376243\\\\\n",
       "\tBugental\\_2000\\_model & 0.4516134 & 0.3794882\\\\\n",
       "\tGoffman\\_1959\\_model & 0.3121818 & 0.2612580\\\\\n",
       "\tHamilton\\_1981\\_model & 0.2811789 & 0.1996841\\\\\n",
       "\tBurton\\_1975\\_model & 0.4790298 & 0.3199213\\\\\n",
       "\tMontgomery\\_1988\\_model & 0.4186917 & 0.3691541\\\\\n",
       "\tRands\\_1979\\_model & 0.4079019 & 0.2906947\\\\\n",
       "\tWeiss\\_1998\\_model & 0.2938214 & 0.2873417\\\\\n",
       "\tFAVEE\\_model & 0.5162148 & 0.4166957\\\\\n",
       "\\end{tabular}\n"
      ],
      "text/markdown": [
       "\n",
       "A data.frame: 16 × 2\n",
       "\n",
       "| <!--/--> | modern &lt;dbl&gt; | ancient &lt;dbl&gt; |\n",
       "|---|---|---|\n",
       "| Wish_1976_model | 0.5142495 | 0.4005847 |\n",
       "| Triandis_1968_model | 0.4186917 | 0.3691541 |\n",
       "| Marwell_1970_model | 0.4941050 | 0.3950908 |\n",
       "| Osgood_1957_model | 0.3861218 | 0.3060043 |\n",
       "| Fiske_1992_model | 0.4435936 | 0.3487931 |\n",
       "| Clark_2011_model | 0.3866149 | 0.3219329 |\n",
       "| Carpendale_2004_model | 0.2290752 | 0.1843357 |\n",
       "| Foa_2012_model | 0.2674150 | 0.2376243 |\n",
       "| Bugental_2000_model | 0.4516134 | 0.3794882 |\n",
       "| Goffman_1959_model | 0.3121818 | 0.2612580 |\n",
       "| Hamilton_1981_model | 0.2811789 | 0.1996841 |\n",
       "| Burton_1975_model | 0.4790298 | 0.3199213 |\n",
       "| Montgomery_1988_model | 0.4186917 | 0.3691541 |\n",
       "| Rands_1979_model | 0.4079019 | 0.2906947 |\n",
       "| Weiss_1998_model | 0.2938214 | 0.2873417 |\n",
       "| FAVEE_model | 0.5162148 | 0.4166957 |\n",
       "\n"
      ],
      "text/plain": [
       "                      modern    ancient  \n",
       "Wish_1976_model       0.5142495 0.4005847\n",
       "Triandis_1968_model   0.4186917 0.3691541\n",
       "Marwell_1970_model    0.4941050 0.3950908\n",
       "Osgood_1957_model     0.3861218 0.3060043\n",
       "Fiske_1992_model      0.4435936 0.3487931\n",
       "Clark_2011_model      0.3866149 0.3219329\n",
       "Carpendale_2004_model 0.2290752 0.1843357\n",
       "Foa_2012_model        0.2674150 0.2376243\n",
       "Bugental_2000_model   0.4516134 0.3794882\n",
       "Goffman_1959_model    0.3121818 0.2612580\n",
       "Hamilton_1981_model   0.2811789 0.1996841\n",
       "Burton_1975_model     0.4790298 0.3199213\n",
       "Montgomery_1988_model 0.4186917 0.3691541\n",
       "Rands_1979_model      0.4079019 0.2906947\n",
       "Weiss_1998_model      0.2938214 0.2873417\n",
       "FAVEE_model           0.5162148 0.4166957"
      ]
     },
     "metadata": {},
     "output_type": "display_data"
    }
   ],
   "source": [
    "rsa_cor = cbind(bert_modern_cor,bert_ancient_cor)\n",
    "colnames(rsa_cor) = c('modern','ancient')\n",
    "rsa_cor = rsa_cor[-c(17),]\n",
    "rsa_cor"
   ]
  },
  {
   "cell_type": "code",
   "execution_count": 13,
   "id": "804f5d23",
   "metadata": {
    "ExecuteTime": {
     "end_time": "2023-10-17T03:18:57.086657Z",
     "start_time": "2023-10-17T03:17:34.970Z"
    },
    "vscode": {
     "languageId": "r"
    }
   },
   "outputs": [],
   "source": [
    "write.csv(rsa_cor,'human_bert_cor/model_compare_chn_results.csv')"
   ]
  },
  {
   "cell_type": "code",
   "execution_count": 14,
   "id": "f3752597",
   "metadata": {
    "ExecuteTime": {
     "end_time": "2023-10-17T03:18:57.136657Z",
     "start_time": "2023-10-17T03:17:34.971Z"
    },
    "vscode": {
     "languageId": "r"
    }
   },
   "outputs": [
    {
     "data": {
      "text/html": [
       "<table class=\"dataframe\">\n",
       "<caption>A data.frame: 6 × 3</caption>\n",
       "<thead>\n",
       "\t<tr><th></th><th scope=col>model</th><th scope=col>variable</th><th scope=col>value</th></tr>\n",
       "\t<tr><th></th><th scope=col>&lt;chr&gt;</th><th scope=col>&lt;fct&gt;</th><th scope=col>&lt;dbl&gt;</th></tr>\n",
       "</thead>\n",
       "<tbody>\n",
       "\t<tr><th scope=row>1</th><td>Wish_1976_model    </td><td>modern</td><td>0.5142495</td></tr>\n",
       "\t<tr><th scope=row>2</th><td>Triandis_1968_model</td><td>modern</td><td>0.4186917</td></tr>\n",
       "\t<tr><th scope=row>3</th><td>Marwell_1970_model </td><td>modern</td><td>0.4941050</td></tr>\n",
       "\t<tr><th scope=row>4</th><td>Osgood_1957_model  </td><td>modern</td><td>0.3861218</td></tr>\n",
       "\t<tr><th scope=row>5</th><td>Fiske_1992_model   </td><td>modern</td><td>0.4435936</td></tr>\n",
       "\t<tr><th scope=row>6</th><td>Clark_2011_model   </td><td>modern</td><td>0.3866149</td></tr>\n",
       "</tbody>\n",
       "</table>\n"
      ],
      "text/latex": [
       "A data.frame: 6 × 3\n",
       "\\begin{tabular}{r|lll}\n",
       "  & model & variable & value\\\\\n",
       "  & <chr> & <fct> & <dbl>\\\\\n",
       "\\hline\n",
       "\t1 & Wish\\_1976\\_model     & modern & 0.5142495\\\\\n",
       "\t2 & Triandis\\_1968\\_model & modern & 0.4186917\\\\\n",
       "\t3 & Marwell\\_1970\\_model  & modern & 0.4941050\\\\\n",
       "\t4 & Osgood\\_1957\\_model   & modern & 0.3861218\\\\\n",
       "\t5 & Fiske\\_1992\\_model    & modern & 0.4435936\\\\\n",
       "\t6 & Clark\\_2011\\_model    & modern & 0.3866149\\\\\n",
       "\\end{tabular}\n"
      ],
      "text/markdown": [
       "\n",
       "A data.frame: 6 × 3\n",
       "\n",
       "| <!--/--> | model &lt;chr&gt; | variable &lt;fct&gt; | value &lt;dbl&gt; |\n",
       "|---|---|---|---|\n",
       "| 1 | Wish_1976_model     | modern | 0.5142495 |\n",
       "| 2 | Triandis_1968_model | modern | 0.4186917 |\n",
       "| 3 | Marwell_1970_model  | modern | 0.4941050 |\n",
       "| 4 | Osgood_1957_model   | modern | 0.3861218 |\n",
       "| 5 | Fiske_1992_model    | modern | 0.4435936 |\n",
       "| 6 | Clark_2011_model    | modern | 0.3866149 |\n",
       "\n"
      ],
      "text/plain": [
       "  model               variable value    \n",
       "1 Wish_1976_model     modern   0.5142495\n",
       "2 Triandis_1968_model modern   0.4186917\n",
       "3 Marwell_1970_model  modern   0.4941050\n",
       "4 Osgood_1957_model   modern   0.3861218\n",
       "5 Fiske_1992_model    modern   0.4435936\n",
       "6 Clark_2011_model    modern   0.3866149"
      ]
     },
     "metadata": {},
     "output_type": "display_data"
    }
   ],
   "source": [
    "rsa_cor_plot = rsa_cor\n",
    "rsa_cor_plot['model'] = rownames(rsa_cor_plot)\n",
    "rsa_cor_melt = melt(rsa_cor_plot,id.vars = 'model')\n",
    "rsa_cor_melt$'variable' = factor(rsa_cor_melt$'variable', levels=c('ancient','modern'))\n",
    "head(rsa_cor_melt) "
   ]
  },
  {
   "cell_type": "markdown",
   "id": "ea07967b",
   "metadata": {},
   "source": [
    "# Null distribution"
   ]
  },
  {
   "cell_type": "code",
   "execution_count": 15,
   "id": "ad3de0e1",
   "metadata": {
    "vscode": {
     "languageId": "r"
    }
   },
   "outputs": [],
   "source": [
    "human_rating = human_258r_33d\n",
    "human_rating_outModel <- human_rating[, -which(colnames(human_rating) %in% FAVEE_model)]"
   ]
  },
  {
   "cell_type": "markdown",
   "id": "f171105b",
   "metadata": {},
   "source": [
    "## Modern BERT"
   ]
  },
  {
   "cell_type": "markdown",
   "id": "ba42dfea",
   "metadata": {},
   "source": [
    "### 5 dimensions"
   ]
  },
  {
   "cell_type": "code",
   "execution_count": 16,
   "id": "3c722c0e",
   "metadata": {
    "ExecuteTime": {
     "end_time": "2023-10-17T03:22:43.836044Z",
     "start_time": "2023-10-17T03:17:35.017Z"
    },
    "vscode": {
     "languageId": "r"
    }
   },
   "outputs": [],
   "source": [
    "bertm_r_distri = c()\n",
    "\n",
    "for(i in c(1:10000)){\n",
    "    selected_columns <- sample(names(human_rating_outModel), 5)\n",
    "    human_rating_selected <- human_rating_outModel[, selected_columns]\n",
    "    human_distance_vector <- -c(dist(human_rating_selected))\n",
    "\n",
    "    r <- as.numeric(cor.test(csim_modern, human_distance_vector, method = 'spearman')$estimate)\n",
    "    bertm_r_distri <- c(bertm_r_distri, r)\n",
    "}"
   ]
  },
  {
   "cell_type": "code",
   "execution_count": 17,
   "id": "868373e9",
   "metadata": {
    "ExecuteTime": {
     "end_time": "2023-10-17T03:22:46.785164Z",
     "start_time": "2023-10-17T03:17:35.018Z"
    },
    "vscode": {
     "languageId": "r"
    }
   },
   "outputs": [
    {
     "data": {
      "text/html": [
       "<style>\n",
       ".list-inline {list-style: none; margin:0; padding: 0}\n",
       ".list-inline>li {display: inline-block}\n",
       ".list-inline>li:not(:last-child)::after {content: \"\\00b7\"; padding: 0 .5ex}\n",
       "</style>\n",
       "<ol class=list-inline><li>258</li><li>258</li></ol>\n"
      ],
      "text/latex": [
       "\\begin{enumerate*}\n",
       "\\item 258\n",
       "\\item 258\n",
       "\\end{enumerate*}\n"
      ],
      "text/markdown": [
       "1. 258\n",
       "2. 258\n",
       "\n",
       "\n"
      ],
      "text/plain": [
       "[1] 258 258"
      ]
     },
     "metadata": {},
     "output_type": "display_data"
    },
    {
     "data": {
      "text/html": [
       "<strong>rho:</strong> 0.496393924567829"
      ],
      "text/latex": [
       "\\textbf{rho:} 0.496393924567829"
      ],
      "text/markdown": [
       "**rho:** 0.496393924567829"
      ],
      "text/plain": [
       "      rho \n",
       "0.4963939 "
      ]
     },
     "metadata": {},
     "output_type": "display_data"
    },
    {
     "data": {
      "text/html": [
       "0"
      ],
      "text/latex": [
       "0"
      ],
      "text/markdown": [
       "0"
      ],
      "text/plain": [
       "[1] 0"
      ]
     },
     "metadata": {},
     "output_type": "display_data"
    }
   ],
   "source": [
    "model_vector <- get('FAVEE_model') \n",
    "model_sim = cosine_matrix(human_258r_33d[,model_vector]) \n",
    "dim(model_sim)\n",
    "FAVEE_single_dimension = lowerTriangle(model_sim)\n",
    "r_value = cor.test(FAVEE_single_dimension,csim_modern, method = 'spearman')$estimate\n",
    "r_value\n",
    "sum(bertm_r_distri>r_value)/10000"
   ]
  },
  {
   "cell_type": "markdown",
   "id": "7dd8a871",
   "metadata": {},
   "source": [
    "## Ancient BERT"
   ]
  },
  {
   "cell_type": "code",
   "execution_count": 18,
   "id": "53ece2ef",
   "metadata": {
    "ExecuteTime": {
     "end_time": "2023-10-17T03:22:46.883732Z",
     "start_time": "2023-10-17T03:17:35.031Z"
    },
    "vscode": {
     "languageId": "r"
    }
   },
   "outputs": [
    {
     "data": {
      "text/html": [
       "<style>\n",
       ".list-inline {list-style: none; margin:0; padding: 0}\n",
       ".list-inline>li {display: inline-block}\n",
       ".list-inline>li:not(:last-child)::after {content: \"\\00b7\"; padding: 0 .5ex}\n",
       "</style>\n",
       "<ol class=list-inline><li>120</li><li>28</li></ol>\n"
      ],
      "text/latex": [
       "\\begin{enumerate*}\n",
       "\\item 120\n",
       "\\item 28\n",
       "\\end{enumerate*}\n"
      ],
      "text/markdown": [
       "1. 120\n",
       "2. 28\n",
       "\n",
       "\n"
      ],
      "text/plain": [
       "[1] 120  28"
      ]
     },
     "metadata": {},
     "output_type": "display_data"
    }
   ],
   "source": [
    "human_rating_outModel_ancient <- human_rating[rels_order_ancient, \n",
    "                            -which(colnames(human_rating) %in% FAVEE_model)]\n",
    "dim(human_rating_outModel_ancient)"
   ]
  },
  {
   "cell_type": "code",
   "execution_count": 19,
   "id": "8d0261c3",
   "metadata": {
    "ExecuteTime": {
     "end_time": "2023-10-17T03:23:09.190103Z",
     "start_time": "2023-10-17T03:17:35.032Z"
    },
    "vscode": {
     "languageId": "r"
    }
   },
   "outputs": [],
   "source": [
    "berta_r_distri = c()\n",
    "\n",
    "for(i in c(1:10000)){\n",
    "    selected_columns <- sample(names(human_rating_outModel_ancient), 5)\n",
    "    human_rating_selected <- human_rating_outModel_ancient[, selected_columns]\n",
    "    human_distance_vector <- -c(dist(human_rating_selected))\n",
    "\n",
    "    r <- as.numeric(cor.test(csim_ancient, human_distance_vector, method = 'spearman')$estimate)\n",
    "    berta_r_distri <- c(berta_r_distri, r)\n",
    "}"
   ]
  },
  {
   "cell_type": "code",
   "execution_count": 20,
   "id": "1b46548e",
   "metadata": {
    "ExecuteTime": {
     "end_time": "2023-10-17T03:23:09.861871Z",
     "start_time": "2023-10-17T03:17:35.033Z"
    },
    "vscode": {
     "languageId": "r"
    }
   },
   "outputs": [
    {
     "data": {
      "text/html": [
       "<style>\n",
       ".list-inline {list-style: none; margin:0; padding: 0}\n",
       ".list-inline>li {display: inline-block}\n",
       ".list-inline>li:not(:last-child)::after {content: \"\\00b7\"; padding: 0 .5ex}\n",
       "</style>\n",
       "<ol class=list-inline><li>120</li><li>120</li></ol>\n"
      ],
      "text/latex": [
       "\\begin{enumerate*}\n",
       "\\item 120\n",
       "\\item 120\n",
       "\\end{enumerate*}\n"
      ],
      "text/markdown": [
       "1. 120\n",
       "2. 120\n",
       "\n",
       "\n"
      ],
      "text/plain": [
       "[1] 120 120"
      ]
     },
     "metadata": {},
     "output_type": "display_data"
    },
    {
     "data": {
      "text/html": [
       "<strong>rho:</strong> 0.3946672059111"
      ],
      "text/latex": [
       "\\textbf{rho:} 0.3946672059111"
      ],
      "text/markdown": [
       "**rho:** 0.3946672059111"
      ],
      "text/plain": [
       "      rho \n",
       "0.3946672 "
      ]
     },
     "metadata": {},
     "output_type": "display_data"
    },
    {
     "data": {
      "text/html": [
       "0.0058"
      ],
      "text/latex": [
       "0.0058"
      ],
      "text/markdown": [
       "0.0058"
      ],
      "text/plain": [
       "[1] 0.0058"
      ]
     },
     "metadata": {},
     "output_type": "display_data"
    }
   ],
   "source": [
    "model_vector <- get('FAVEE_model') \n",
    "model_sim = cosine_matrix(human_258r_33d[rels_order_ancient,model_vector]) \n",
    "dim(model_sim)\n",
    "FAVEE_single_dimension = lowerTriangle(model_sim)\n",
    "r_value = cor.test(FAVEE_single_dimension,csim_ancient, method = 'spearman')$estimate\n",
    "r_value\n",
    "sum(berta_r_distri>r_value)/10000"
   ]
  },
  {
   "cell_type": "markdown",
   "id": "c9f06433",
   "metadata": {},
   "source": [
    "# Plot results adding null distribution"
   ]
  },
  {
   "cell_type": "code",
   "execution_count": 23,
   "id": "6ee7e78e",
   "metadata": {
    "ExecuteTime": {
     "end_time": "2023-10-17T03:23:10.014686Z",
     "start_time": "2023-10-17T03:17:35.049Z"
    },
    "vscode": {
     "languageId": "r"
    }
   },
   "outputs": [
    {
     "name": "stderr",
     "output_type": "stream",
     "text": [
      "No id variables; using all as measure variables\n",
      "\n"
     ]
    }
   ],
   "source": [
    "my.color = c('modern'=\"#a17db4\",'ancient'=\"#9DCD82\",'FAVEE_model'='red')\n",
    "\n",
    "null_distri = data.frame(modern = bertm_r_distri,\n",
    "                         ancient = berta_r_distri)\n",
    "null_distri_melt = melt(null_distri)\n",
    "null_distri_melt$'variable' = factor(null_distri_melt$'variable',\n",
    "                                     levels = c('ancient','modern'))\n",
    "null_distri_melt = null_distri_melt[null_distri_melt$'variable'%in%c('ancient','modern'),] \n",
    "rsa_cor_melt = rsa_cor_melt[rsa_cor_melt$'variable'%in%c('ancient','modern'),]    "
   ]
  },
  {
   "cell_type": "code",
   "execution_count": 24,
   "id": "dfebc357",
   "metadata": {
    "ExecuteTime": {
     "end_time": "2023-10-17T14:56:03.432631Z",
     "start_time": "2023-10-17T14:56:03.155Z"
    },
    "vscode": {
     "languageId": "r"
    }
   },
   "outputs": [
    {
     "name": "stderr",
     "output_type": "stream",
     "text": [
      "Warning message:\n",
      "\"\u001b[1m\u001b[22mThe `size` argument of `element_line()` is deprecated as of ggplot2 3.4.0.\n",
      "\u001b[36mi\u001b[39m Please use the `linewidth` argument instead.\"\n"
     ]
    },
    {
     "data": {
      "image/png": "[encoded data removed]",
      "text/plain": [
       "plot without title"
      ]
     },
     "metadata": {
      "image/png": {
       "height": 600,
       "width": 600
      }
     },
     "output_type": "display_data"
    }
   ],
   "source": [
    "options(repr.plot.width = 10, repr.plot.height=10)\n",
    "ggplot()+\n",
    "    geom_half_violin(data = null_distri_melt,aes(x=variable, y=value,fill=variable,color=variable),\n",
    "                     position=position_nudge(x=0.1,y=0),\n",
    "                   side='R',adjust=1.2,trim=T,alpha=0.8) +\n",
    "    geom_boxplot(data=null_distri_melt, aes(x=variable, y=value,color=variable),\n",
    "                 linewidth = 2,\n",
    "                 outlier.alpha = 0, width=0.1)+\n",
    "    scale_color_manual(values=my.color)+\n",
    "    scale_fill_manual(values=my.color)+\n",
    "    geom_point(data=rsa_cor_melt, aes(x = as.numeric(variable)-0.1,\n",
    "             y = value, color = model),\n",
    "             position = position_jitter(width =0.03),size =16, \n",
    "             shape = 20,alpha=0.8)+\n",
    "    #coord_flip()+\n",
    "    theme_classic()+\n",
    "    theme(axis.text.y = element_text(size=30,color=\"black\"),\n",
    "        axis.text.x = element_text(size=40,color=\"black\"),\n",
    "        axis.title.y = element_blank(),\n",
    "        axis.title.x = element_blank(),\n",
    "        axis.line = element_line(linetype=1,color=\"black\",size=2),\n",
    "        legend.position = 'none')"
   ]
  },
  {
   "cell_type": "code",
   "execution_count": 25,
   "id": "b21b83f0",
   "metadata": {
    "ExecuteTime": {
     "end_time": "2023-10-17T14:56:22.018244Z",
     "start_time": "2023-10-17T14:56:21.544Z"
    },
    "vscode": {
     "languageId": "r"
    }
   },
   "outputs": [
    {
     "data": {
      "text/html": [
       "<strong>png:</strong> 2"
      ],
      "text/latex": [
       "\\textbf{png:} 2"
      ],
      "text/markdown": [
       "**png:** 2"
      ],
      "text/plain": [
       "png \n",
       "  2 "
      ]
     },
     "metadata": {},
     "output_type": "display_data"
    }
   ],
   "source": [
    "png(\"output_graph/model_compare.png\", bg=\"transparent\",\n",
    "    family = 'sans',units='in',width=10,height=10,res=300)\n",
    "options(repr.plot.width = 10, repr.plot.height=10)\n",
    "ggplot()+\n",
    "    geom_half_violin(data = null_distri_melt,aes(x=variable, y=value,fill=variable,color=variable),\n",
    "                     position=position_nudge(x=0.1,y=0),\n",
    "                   side='R',adjust=1.2,trim=T,alpha=0.8) +\n",
    "    geom_boxplot(data=null_distri_melt, aes(x=variable, y=value,color=variable),\n",
    "                 linewidth = 2,\n",
    "                 outlier.alpha = 0, width=0.1)+\n",
    "    scale_color_manual(values=my.color)+\n",
    "    scale_fill_manual(values=my.color)+\n",
    "    geom_point(data=rsa_cor_melt, aes(x = as.numeric(variable)-0.1,\n",
    "             y = value, color = model),\n",
    "             position = position_jitter(width =0.03),size =16, \n",
    "             shape = 20,alpha=0.8)+\n",
    "    #coord_flip()+\n",
    "    theme_classic()+\n",
    "    theme(axis.text.y = element_text(size=30,color=\"black\"),\n",
    "        axis.text.x = element_text(size=40,color=\"black\"),\n",
    "        axis.title.y = element_blank(),\n",
    "        axis.title.x = element_blank(),\n",
    "        axis.line = element_line(linetype=1,color=\"black\",size=2),\n",
    "        legend.position = 'none')\n",
    "dev.off()"
   ]
  }
 ],
 "metadata": {
  "kernelspec": {
   "display_name": "R",
   "language": "R",
   "name": "ir"
  },
  "language_info": {
   "codemirror_mode": "r",
   "file_extension": ".r",
   "mimetype": "text/x-r-source",
   "name": "R",
   "pygments_lexer": "r",
   "version": "4.1.2"
  },
  "latex_envs": {
   "LaTeX_envs_menu_present": true,
   "autoclose": false,
   "autocomplete": true,
   "bibliofile": "biblio.bib",
   "cite_by": "apalike",
   "current_citInitial": 1,
   "eqLabelWithNumbers": true,
   "eqNumInitial": 1,
   "hotkeys": {
    "equation": "Ctrl-E",
    "itemize": "Ctrl-I"
   },
   "labels_anchors": false,
   "latex_user_defs": false,
   "report_style_numbering": false,
   "user_envs_cfg": false
  },
  "toc": {
   "base_numbering": 1,
   "nav_menu": {},
   "number_sections": true,
   "sideBar": true,
   "skip_h1_title": false,
   "title_cell": "Table of Contents",
   "title_sidebar": "Contents",
   "toc_cell": false,
   "toc_position": {
    "height": "calc(100% - 180px)",
    "left": "10px",
    "top": "150px",
    "width": "321.8px"
   },
   "toc_section_display": true,
   "toc_window_display": true
  }
 },
 "nbformat": 4,
 "nbformat_minor": 5
}
