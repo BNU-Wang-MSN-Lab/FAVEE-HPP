{
 "cells": [
  {
   "cell_type": "markdown",
   "id": "06a2be36",
   "metadata": {},
   "source": [
    "# HPP model"
   ]
  },
  {
   "cell_type": "code",
   "execution_count": 7,
   "id": "1fa7894b",
   "metadata": {
    "ExecuteTime": {
     "end_time": "2023-10-09T17:26:37.149151Z",
     "start_time": "2023-10-09T17:26:36.232917Z"
    }
   },
   "outputs": [],
   "source": [
    "from sklearn.cluster import KMeans\n",
    "import pandas as pd\n",
    "import numpy as np\n",
    "\n",
    "random_state = 2023"
   ]
  },
  {
   "cell_type": "code",
   "execution_count": 3,
   "id": "7ec8762e",
   "metadata": {
    "ExecuteTime": {
     "end_time": "2023-10-09T17:26:37.180090Z",
     "start_time": "2023-10-09T17:26:37.152940Z"
    }
   },
   "outputs": [
    {
     "name": "stdout",
     "output_type": "stream",
     "text": [
      "(258, 33)\n"
     ]
    }
   ],
   "source": [
    "human_scaled = pd.read_csv('human_rating_data/study2_modern/CHN_dim_rel_NLP_258r_33d_scaled_chi.csv',\n",
    "                           index_col=0, encoding = 'gb18030')\n",
    "print(human_scaled.shape)"
   ]
  },
  {
   "cell_type": "code",
   "execution_count": 4,
   "id": "e5af4a0b",
   "metadata": {
    "ExecuteTime": {
     "end_time": "2023-10-09T17:26:37.304093Z",
     "start_time": "2023-10-09T17:26:37.189112Z"
    }
   },
   "outputs": [],
   "source": [
    "data = human_scaled\n",
    "model = KMeans(3, random_state=random_state)\n",
    "model.fit(data)\n",
    "cluster_labels = model.fit_predict(data)\n",
    "\n",
    "human_scaled_hpp = data\n",
    "human_scaled_hpp['k3'] = cluster_labels\n",
    "human_scaled_hpp.to_csv('human_rating_data/human_model/CHN_258r_hpp.csv')"
   ]
  },
  {
   "cell_type": "code",
   "execution_count": 5,
   "id": "704d8157",
   "metadata": {
    "ExecuteTime": {
     "end_time": "2023-10-09T17:26:37.319093Z",
     "start_time": "2023-10-09T17:26:37.308093Z"
    }
   },
   "outputs": [
    {
     "name": "stdout",
     "output_type": "stream",
     "text": [
      "\n",
      "Cluster 1 Relationship:55\n",
      "债主-欠债人, 原配-第三者, 网友之间, 外地人-本地人, 乞丐-路人, 搭讪的人-被搭讪的人, 报案人-受害者, 罪犯-旁观者, 罪犯-被害人亲属, 忠臣-反贼, 小偷-失主, 嫌疑人-警察, 受害者-旁观者, 首领-反贼, 施害者-受害者, 胜者-败者, 前同事之间, 冠军-亚军, 官员-行贿者, 对手之间, 对立球队的球员之间, 赌徒之间, 毒贩-警察, 城管-摊贩, 报案人-罪犯, 霸凌者-受害者, 游客-本地人, 情敌之间, 陌生人之间, 对立球队的球迷之间, 出轨者-小三, 罪犯-受害人, 罪犯-警察, 肇事者-交警, 原告-被告, 艺人-黑粉, 前任官员-现任官员, 卖淫者-嫖客, 罪犯 - 人质, 罪犯 - 检察官, 原配-小三, 假朋友之间（表面朋友，实则讨厌对方）, 同一场体育比赛的对手之间（有正面交锋/比赛中的宿敌）, 体育竞赛的对手之间（不一定有正面交锋，比如预赛中不同的球队之间）, 受害者 - 目击者, 奴隶 - 奴隶主, 金主 - 援交男/女, 贩毒者 - 瘾君子, 认识但不熟的人之间, 离婚夫妇之间, 狱警-囚犯, 政治对手之间, 谈判中对立的双方, 生意竞争对手之间, 敌人之间\n",
      "\n",
      "Cluster 2 Relationship:121\n",
      "助教-学生, 学生会主席-学生会成员, 社团社长-社团社员, 老师-家长, 考官-考生, 家长-班主任, 家教-学生, 辅导员-大学生, 班主任-学生, 班委-班级成员, 主人-佣人, 主力-替补, 主管-助理, 主持人-观众, 主播-打赏者, 中介-客户, 政府官员-老百姓, 明星-经纪人, 演员-观众, 演员-编剧, 物业-业主, 外卖配送员-顾客, 图书管理员-读者, 售票员-乘客, 收银员-顾客, 收件人-快递员, 赛事解说员-观众, 人事工作人员-员工, 评委-选手, 评委-观众, 律师-检察官, 老员工-新员工, 老板-员工, 客服-顾客, 捐款人-受惠者, 居委会-居民, 教练-学员, 寄件人-快递员, 记者-采访对象, 黑帮老大-小弟, 管家-住户, 公务人员-办事人, 高级员工-低级员工, 法官-检察官, 队长-队员, 导演-编剧, 厨师-顾客, 乘务员-乘客, 编辑-作者, 保姆-雇主, 雇主-保镖, 保安-住户, 访客-前台, 校长-老师, 宿管员-学生, 教务老师-学生, 教授-助教, 导师-研究生, 艺人-粉丝, 房东-租户, 博主-粉丝, 作家-评论家, 作家-读者, 组长-组员, 主职-副职, 主管-员工, 主持人-嘉宾, 游客-导游, 医生-患者, 医生-护士, 演员-导演, 研究人员-实验参与者, 外交官之间, 投资人-创业者, 同事之间, 司机-乘客, 实习生-正式员工, 上级-下级, 商家-客户, 卖家-买家, 律师-委托人, 律师-法官, 老板-秘书, 军官-部下, 警察-老百姓, 经理-员工, 经理-老板, 教练-运动员, 顾问-客户, 工人-包工头, 服务员-顾客, 裁判-参赛者, 病人-护工, 保姆-小孩, 主治医生-病人, 主厨 - 顾客, 志愿者 - 志愿活动组织者, 政治盟友之间, 政客 - 支持者, 运动员 - 裁判, 一次/几次活动或事件中互相陪同的人, 演奏家 - 听众, 体育教练 - 学员, 人民代表 - 市民, 领袖 - 追随者, 君臣之间, 俱乐部成员 - 俱乐部主席, 经理 - 经理助理, 假释官 - 假释犯, 工会领袖 - 工会成员, 房东 - 管家, 犯罪同伙之间, 老师-学生, 主人-仆人, 心理咨询师-客户, 面试官-求职者, 客户-销售, 病人-护士, 生意伙伴之间, 教授-研究生, 雇主-雇员\n",
      "\n",
      "Cluster 3 Relationship:82\n",
      "学长学姐-学弟学妹, 义父义母-义子义女, 师父-徒弟, 球友之间, 青梅竹马之间, 旅伴之间, 老乡之间, 老朋友之间, 干爹干妈-干儿女, 暧昧对象之间, 子女-父母, 亲家之间, 婆婆-儿媳, 同一球队的球员之间, 见义勇为者-受助者, 恩人-受助者, 同一团队的成员之间, 电竞队友之间, 校友之间, 同学之间, 主人-客人, 知己之间, 战友之间, 一个人和父母的朋友之间, 新郎-新娘, 玩伴之间, 童年玩伴之间, 同一球队的球迷之间, 舍友之间, 前任恋人之间, 朋友之间, 炮友之间, 邻居之间, 恋人之间, 笔友之间, 暗恋对象-暗恋者, 祖先-后代, 远房亲戚之间, 姨父姨妈-侄子侄女, 爷爷奶奶-孙子女, 养父养母-养子养女, 外公外婆-外孙/外孙女, 叔叔婶婶-侄子侄女, 继父继母-儿女, 父母-婴儿, 宗教信徒之间, 宗教领袖 - 信徒, 终身伴侣之间, 远房表兄弟姐妹之间, 异地恋人之间, 亲密关系中的双方 , 兄妹之间/姐弟之间, 大学兄弟会成员之间, 新娘 - 伴娘, 新郎 - 伴郎, 微博朋友之间, 同居者之间, 同父异母(或同母异父)的子女之间, 同辈之间, 双胞胎之间, 人 - 上帝, 母亲 - 婴儿, 灵魂伴侣之间, 近亲之间, 大学姐妹会成员之间, 教徒之间, 教父教母 - 教子, 寄养父母 - 寄养子女, 继祖父母 - 继孙, 继子女之间, 和自己已故的配偶之间, 挚友之间, 未婚夫-未婚妻, 岳父岳母-女婿, 堂兄弟姐妹之间, 亲兄弟姐妹之间, 公公婆婆-媳妇, 父母-青少年, 父母-儿童, 夫妻之间, 表兄弟姐妹之间, 比赛时的队友之间\n"
     ]
    }
   ],
   "source": [
    "raw_results = human_scaled_hpp\n",
    "for n in range(len(raw_results['k3'].unique())):\n",
    "    each_cluster = raw_results.index[raw_results['k3']==n]\n",
    "    print(\"\\nCluster \"+str(n+1)+\" Relationship:{}\".format(len(each_cluster)))\n",
    "    print(*raw_results.index[raw_results['k3']==n], sep = \", \")"
   ]
  },
  {
   "cell_type": "code",
   "execution_count": 6,
   "id": "6e3b0347",
   "metadata": {
    "ExecuteTime": {
     "end_time": "2023-10-09T17:26:37.365095Z",
     "start_time": "2023-10-09T17:26:37.349093Z"
    }
   },
   "outputs": [],
   "source": [
    "def cluster_rdm(cluster_results,cluster_model='k3'):\n",
    "    dissim_cluster_result = pd.DataFrame(index = cluster_results.index,\n",
    "                                         columns = cluster_results.index)\n",
    "    for i in dissim_cluster_result.index:\n",
    "        for j in dissim_cluster_result.columns:\n",
    "            # cluster result was in the last column\n",
    "            if cluster_results.loc[i,cluster_model] == cluster_results.loc[j,cluster_model]:\n",
    "                dissim_cluster_result.loc[i,j] = 0\n",
    "            else:\n",
    "                dissim_cluster_result.loc[i,j] = 1\n",
    "            dissim_cluster_result = dissim_cluster_result.astype(float)\n",
    "            \n",
    "    return(dissim_cluster_result)"
   ]
  },
  {
   "cell_type": "code",
   "execution_count": 6,
   "id": "9233d014",
   "metadata": {
    "ExecuteTime": {
     "end_time": "2023-10-09T17:26:55.851191Z",
     "start_time": "2023-10-09T17:26:47.600383Z"
    }
   },
   "outputs": [],
   "source": [
    "hpp_sim = -cluster_rdm(human_scaled_hpp,'k3')\n",
    "hpp_sim.to_csv('human_rating_data/human_model/sim_human_258r_hpp.csv',encoding='gb18030')"
   ]
  },
  {
   "cell_type": "markdown",
   "id": "97632d3c",
   "metadata": {},
   "source": [
    "# FAVEE model"
   ]
  },
  {
   "cell_type": "code",
   "execution_count": 2,
   "id": "50a840b0",
   "metadata": {
    "ExecuteTime": {
     "end_time": "2023-10-09T14:11:01.711472Z",
     "start_time": "2023-10-09T14:11:01.029Z"
    }
   },
   "outputs": [],
   "source": [
    "library(tidyverse)\n",
    "library(ggplot2)\n",
    "library(corrplot)\n",
    "library(RColorBrewer)"
   ]
  },
  {
   "cell_type": "code",
   "execution_count": 5,
   "id": "d48ff35c",
   "metadata": {
    "ExecuteTime": {
     "end_time": "2023-10-09T14:12:35.721389Z",
     "start_time": "2023-10-09T14:12:35.498Z"
    }
   },
   "outputs": [
    {
     "data": {
      "image/png": "[encoded data removed]",
      "text/plain": [
       "Plot with title \"\""
      ]
     },
     "metadata": {
      "image/png": {
       "height": 600,
       "width": 360
      }
     },
     "output_type": "display_data"
    }
   ],
   "source": [
    "human_rating = read.csv('human_rating_data/study2_modern/CHN_dim_rel_NLP_258r_33d_scaled_chi.csv',\n",
    "                       row.names = 1, check.names = FALSE, fileEncoding = 'gb18030')\n",
    "dim_rel.pca = prcomp(human_rating)\n",
    "ncomp = 5\n",
    "\n",
    "loadings_none = dim_rel.pca$rotation[,1:ncomp]%*% diag(dim_rel.pca$sdev,ncomp,ncomp)\n",
    "scores_none = dim_rel.pca$x[,1:ncomp] \n",
    "\n",
    "loadings_var = varimax(loadings_none)$loadings\n",
    "scores_var = scale(scores_none) %*% varimax(loadings_none)$rotmat\n",
    "\n",
    "loadings_var_reorder = as.data.frame(loadings_var[,1:ncomp])\n",
    "#filter each row's max loading, and attribute it to correspnding column.\n",
    "order_list = c()\n",
    "for (row in c(1:33)){\n",
    "    temp_max = abs(loadings_var_reorder[row,1])\n",
    "    n = 1\n",
    "    for (col in c(2:5)){\n",
    "        temp = abs(loadings_var_reorder[row,col])\n",
    "        if (temp > temp_max){\n",
    "            temp_max = temp\n",
    "            n = col\n",
    "        }\n",
    "        \n",
    "    }\n",
    "    order_list[row] = n\n",
    "}\n",
    "loadings_var_reorder = loadings_var_reorder %>% mutate(order = order_list)\n",
    "RC1 = loadings_var_reorder %>% filter(order==1) %>% arrange(V1)\n",
    "RC2 = loadings_var_reorder %>% filter(order==2) %>% arrange(desc(V2))\n",
    "RC3 = loadings_var_reorder %>% filter(order==3) %>% arrange(V3)\n",
    "RC4 = loadings_var_reorder %>% filter(order==4) %>% arrange(desc(V4))\n",
    "RC5 = loadings_var_reorder %>% filter(order==5) %>% arrange(desc(V5))\n",
    "\n",
    "loadings_var_reorder = rbind(RC1,RC2,RC3,RC4,RC5)\n",
    "loadings_var_reorder = loadings_var_reorder[1:5]\n",
    "\n",
    "colnames(loadings_var_reorder) = c('Activeness','Exchange','Formality','Equality','Valence')\n",
    "options(repr.plot.width=6, repr.plot.height=10)\n",
    "my.breaks = c(seq(-1,1,by=0.01))\n",
    "corrplot(as.matrix(loadings_var_reorder),is.corr=FALSE,\n",
    "         tl.col = \"black\",tl.srt=60,tl.cex=1.1,family='sans',font=2,\n",
    "         col.lim = c(-1,1),cl.ratio = 0.4,cl.cex=1,\n",
    "         col = colorRampPalette(rev(brewer.pal(n=7,name =\"RdBu\")))(length(my.breaks)))"
   ]
  },
  {
   "cell_type": "code",
   "execution_count": 6,
   "id": "03338524",
   "metadata": {
    "ExecuteTime": {
     "end_time": "2023-10-09T14:13:59.431499Z",
     "start_time": "2023-10-09T14:13:59.392Z"
    }
   },
   "outputs": [],
   "source": [
    "human_scores = data.frame(scores_var)\n",
    "colnames(human_scores) = paste0(colnames(loadings_var_reorder),'.human')\n",
    "human_scores['Activeness.human'] = -human_scores['Activeness.human']\n",
    "human_scores['Formality.human'] = -human_scores['Formality.human']\n",
    "human_scores['Equality.human'] = -human_scores['Equality.human']\n",
    "write.csv(human_scores,'human_rating_data/human_model/CHN_258r_favee.csv')"
   ]
  }
 ],
 "metadata": {
  "kernelspec": {
   "display_name": "base",
   "language": "python",
   "name": "python3"
  },
  "language_info": {
   "codemirror_mode": {
    "name": "ipython",
    "version": 3
   },
   "file_extension": ".py",
   "mimetype": "text/x-python",
   "name": "python",
   "nbconvert_exporter": "python",
   "pygments_lexer": "ipython3",
   "version": "3.8.10"
  },
  "latex_envs": {
   "LaTeX_envs_menu_present": true,
   "autoclose": false,
   "autocomplete": true,
   "bibliofile": "biblio.bib",
   "cite_by": "apalike",
   "current_citInitial": 1,
   "eqLabelWithNumbers": true,
   "eqNumInitial": 1,
   "hotkeys": {
    "equation": "Ctrl-E",
    "itemize": "Ctrl-I"
   },
   "labels_anchors": false,
   "latex_user_defs": false,
   "report_style_numbering": false,
   "user_envs_cfg": false
  },
  "toc": {
   "base_numbering": 1,
   "nav_menu": {},
   "number_sections": true,
   "sideBar": true,
   "skip_h1_title": false,
   "title_cell": "Table of Contents",
   "title_sidebar": "Contents",
   "toc_cell": false,
   "toc_position": {},
   "toc_section_display": true,
   "toc_window_display": false
  }
 },
 "nbformat": 4,
 "nbformat_minor": 5
}
