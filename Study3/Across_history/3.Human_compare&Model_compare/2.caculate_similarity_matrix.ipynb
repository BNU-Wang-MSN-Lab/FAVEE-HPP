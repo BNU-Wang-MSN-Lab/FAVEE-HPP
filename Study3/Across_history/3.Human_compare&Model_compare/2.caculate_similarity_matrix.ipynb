{
 "cells": [
  {
   "cell_type": "code",
   "execution_count": 2,
   "id": "3dbc629d",
   "metadata": {
    "ExecuteTime": {
     "end_time": "2023-10-13T03:33:28.223469Z",
     "start_time": "2023-10-13T03:33:28.186Z"
    },
    "vscode": {
     "languageId": "r"
    }
   },
   "outputs": [],
   "source": [
    "library(lsa) #cosine\n",
    "library(mgsub)\n",
    "library(openxlsx)\n",
    "\n",
    "library(corrplot)\n",
    "library(RColorBrewer)\n",
    "library(ggplot2)\n",
    "library(patchwork)"
   ]
  },
  {
   "cell_type": "markdown",
   "id": "febfa3d2",
   "metadata": {},
   "source": [
    "Helper function"
   ]
  },
  {
   "cell_type": "code",
   "execution_count": 3,
   "id": "99d99eef",
   "metadata": {
    "ExecuteTime": {
     "end_time": "2023-10-13T03:33:30.814487Z",
     "start_time": "2023-10-13T03:33:30.786Z"
    },
    "vscode": {
     "languageId": "r"
    }
   },
   "outputs": [],
   "source": [
    "cosine_matrix = function(raw_data){\n",
    "    # rel*rel matrix caculated by cosine similarity\n",
    "    n <- nrow(raw_data)  # raw_data is an n x n matrix, 159*dimensions\n",
    "    # create an empty matrix to store cosine similarity\n",
    "    raw_data_cor <- matrix(0, nrow = n, ncol = n)\n",
    "    colnames(raw_data_cor) <- rownames(raw_data)\n",
    "    rownames(raw_data_cor) <- rownames(raw_data)\n",
    "    # calculate the cosine similarity of the upper triangular part\n",
    "    for (i in 1:(n - 1)) {\n",
    "        for (j in (i + 1):n) {\n",
    "            cosine_value <- cosine(as.numeric(raw_data[i, ]), as.numeric(raw_data[j, ]))\n",
    "            raw_data_cor[i, j] <- cosine_value\n",
    "        }\n",
    "    }\n",
    "    # symmetrically fill the cosine similarity in the lower triangular part\n",
    "    raw_data_cor <- raw_data_cor + t(raw_data_cor)\n",
    "\n",
    "    # set the diagonal to 1\n",
    "    diag(raw_data_cor) <- 1\n",
    "    return(raw_data_cor)\n",
    "}\n",
    "\n",
    "lowerTriangle <- function(m){\n",
    "  return(m[lower.tri(m,diag = FALSE)])\n",
    "}\n",
    "\n",
    "# R.scale() uses ddof=1, but sklearn.preprocessing.StandardScaler() uses ddof=0\n",
    "scaleN <- function(data){\n",
    "  data_scaled <- scale(data)*sqrt(nrow(data)/(nrow(data)-1))  \n",
    "  return(data_scaled)\n",
    "}"
   ]
  },
  {
   "cell_type": "markdown",
   "id": "178c3ce1",
   "metadata": {},
   "source": [
    "# Human rating"
   ]
  },
  {
   "cell_type": "code",
   "execution_count": 5,
   "id": "a49fe04c",
   "metadata": {
    "ExecuteTime": {
     "end_time": "2023-10-13T03:33:51.686497Z",
     "start_time": "2023-10-13T03:33:39.187Z"
    },
    "vscode": {
     "languageId": "r"
    }
   },
   "outputs": [],
   "source": [
    "# modern: 258 relationships\n",
    "human_258r_33d = read.csv('human_rating_data/study2_modern/CHN_dim_rel_NLP_258r_33d_scaled_chi.csv',\n",
    "                        row.names=1,encoding='gb18030')\n",
    "rels_order_modern = rownames(human_258r_33d)\n",
    "human_258r_33d_sim = cosine_matrix(human_258r_33d)\n",
    "write.csv(human_258r_33d_sim,'human_rating_data/human_model/human_33d_258r_cosine.csv')"
   ]
  },
  {
   "cell_type": "code",
   "execution_count": 6,
   "id": "df4f8257",
   "metadata": {
    "ExecuteTime": {
     "end_time": "2023-10-13T03:33:52.607469Z",
     "start_time": "2023-10-13T03:33:52.536Z"
    },
    "vscode": {
     "languageId": "r"
    }
   },
   "outputs": [],
   "source": [
    "# modern: 120 relationships\n",
    "rels_order_ancient = read.csv('human_rating_data/ancient_modern_map_120r.csv',row.names=1)$'对应的现代人际关系'\n",
    "human_120r_33d_sim = human_258r_33d_sim[rels_order_ancient,rels_order_ancient]\n",
    "write.csv(human_120r_33d_sim,'human_rating_data/human_model/human_33d_120r_cosine.csv')"
   ]
  },
  {
   "cell_type": "markdown",
   "id": "052f84ff",
   "metadata": {},
   "source": [
    "# Bert embedding"
   ]
  },
  {
   "cell_type": "markdown",
   "id": "4ba88f81",
   "metadata": {
    "heading_collapsed": true
   },
   "source": [
    "## modern"
   ]
  },
  {
   "cell_type": "code",
   "execution_count": 8,
   "id": "a9eec06d",
   "metadata": {
    "ExecuteTime": {
     "end_time": "2023-10-12T15:14:28.654026Z",
     "start_time": "2023-10-12T15:14:28.616Z"
    },
    "hidden": true,
    "vscode": {
     "languageId": "r"
    }
   },
   "outputs": [],
   "source": [
    "prompt_rels_map = read.csv('../1.GPT4_DESC/CHN_modern/labels_chinese.csv')\n",
    "name_mapping <- setNames(prompt_rels_map$'Relationships', # new name\n",
    "                         prompt_rels_map$'query') # old name"
   ]
  },
  {
   "cell_type": "code",
   "execution_count": 9,
   "id": "9b554b5a",
   "metadata": {
    "ExecuteTime": {
     "end_time": "2023-10-12T15:14:33.161776Z",
     "start_time": "2023-10-12T15:14:33.126Z"
    },
    "hidden": true,
    "vscode": {
     "languageId": "r"
    }
   },
   "outputs": [],
   "source": [
    "rel_emb_sim_modern = function(input_path,output){\n",
    "    files = list.files(input_path)\n",
    "    for (file in files){\n",
    "        file_path = paste0(input_path,file)\n",
    "        bert_data = read.csv(file_path,row.names=1,encoding='gb18030')\n",
    "\n",
    "        # change the suitable labels\n",
    "        bert_data$'word' = name_mapping[bert_data$'word']\n",
    "        rownames(bert_data) = bert_data$'word'\n",
    "        bert_data = bert_data[,-1]\n",
    "        bert_data = bert_data[rels_order_modern,]\n",
    "\n",
    "        # scale by column(1024d)\n",
    "        bert_data_scaled = scaleN(bert_data)\n",
    "        # caculate cosine_similarity\n",
    "        bert_data_cor = cosine_matrix(bert_data_scaled)\n",
    "\n",
    "        output_path = paste0(output,file)\n",
    "        dir.create(dirname(output_path), recursive = TRUE, showWarnings = FALSE)\n",
    "        write.csv(bert_data_cor,output_path)\n",
    "    }\n",
    "    print(input_path)\n",
    "}"
   ]
  },
  {
   "cell_type": "code",
   "execution_count": 10,
   "id": "b0973fe4",
   "metadata": {
    "ExecuteTime": {
     "end_time": "2023-10-12T15:24:32.654510Z",
     "start_time": "2023-10-12T15:15:51.370Z"
    },
    "hidden": true,
    "vscode": {
     "languageId": "r"
    }
   },
   "outputs": [
    {
     "name": "stdout",
     "output_type": "stream",
     "text": [
      "[1] \"q1.1_bert_embedding_data\"\n",
      "[1] \"bert_embedding_data/modern/q1.1_bert_embedding_data/\"\n",
      "[1] \"q1.2_bert_embedding_data\"\n",
      "[1] \"bert_embedding_data/modern/q1.2_bert_embedding_data/\"\n",
      "[1] \"q2.1_bert_embedding_data\"\n",
      "[1] \"bert_embedding_data/modern/q2.1_bert_embedding_data/\"\n",
      "[1] \"q2.2_bert_embedding_data\"\n",
      "[1] \"bert_embedding_data/modern/q2.2_bert_embedding_data/\"\n",
      "[1] \"q3.1_bert_embedding_data\"\n",
      "[1] \"bert_embedding_data/modern/q3.1_bert_embedding_data/\"\n",
      "[1] \"q3.2_bert_embedding_data\"\n",
      "[1] \"bert_embedding_data/modern/q3.2_bert_embedding_data/\"\n",
      "[1] \"q4.0_bert_embedding_data\"\n",
      "[1] \"bert_embedding_data/modern/q4.0_bert_embedding_data/\"\n"
     ]
    }
   ],
   "source": [
    "querys = dir('bert_embedding_data/modern/')\n",
    "for (query in querys){\n",
    "    print(query)\n",
    "    input_path = paste0('bert_embedding_data/modern/',query,'/')\n",
    "    output = paste0('sim_bert_embedding/modern/',query,'/')\n",
    "    rel_emb_sim_modern(input_path = input_path, output = output)\n",
    "}"
   ]
  },
  {
   "cell_type": "markdown",
   "id": "318afbc3",
   "metadata": {},
   "source": [
    "## ancient"
   ]
  },
  {
   "cell_type": "code",
   "execution_count": 11,
   "id": "6ec8c2e2",
   "metadata": {
    "ExecuteTime": {
     "end_time": "2023-10-13T03:33:57.517494Z",
     "start_time": "2023-10-13T03:33:57.487Z"
    },
    "vscode": {
     "languageId": "r"
    }
   },
   "outputs": [],
   "source": [
    "prompt_rels_map = read.csv('human_rating_data/ancient_modern_map_120r.csv',row.names=1,check.names=FALSE)\n",
    "name_mapping <- setNames(prompt_rels_map$'对应的现代人际关系', # new name\n",
    "                         prompt_rels_map$'query') # old name"
   ]
  },
  {
   "cell_type": "code",
   "execution_count": 12,
   "id": "fd0eb16a",
   "metadata": {
    "ExecuteTime": {
     "end_time": "2023-10-13T03:33:59.764508Z",
     "start_time": "2023-10-13T03:33:59.736Z"
    },
    "vscode": {
     "languageId": "r"
    }
   },
   "outputs": [],
   "source": [
    "rel_emb_sim_ancient = function(input_path,output){\n",
    "    files = list.files(input_path)\n",
    "    for (file in files){\n",
    "        file_path = paste0(input_path,file)\n",
    "        bert_data = read.csv(file_path,row.names=1,encoding='gb18030')\n",
    "\n",
    "        # change the suitable labels\n",
    "        bert_data = bert_data[bert_data$'word' %in% prompt_rels_map$'query',]\n",
    "        bert_data$'word' = prompt_rels_map$'对应的现代人际关系'\n",
    "        rownames(bert_data) = bert_data$'word'\n",
    "        bert_data = bert_data[,-1]\n",
    "\n",
    "        # scale by column(768d)\n",
    "        bert_data_scaled = scaleN(bert_data)\n",
    "        # caculate cosine_similarity\n",
    "        bert_data_cor = cosine_matrix(bert_data_scaled)\n",
    "\n",
    "        output_path = paste0(output,file)\n",
    "        dir.create(dirname(output_path), recursive = TRUE, showWarnings = FALSE)\n",
    "        write.csv(bert_data_cor,output_path)\n",
    "    }\n",
    "    print(input_path)\n",
    "}"
   ]
  },
  {
   "cell_type": "markdown",
   "id": "01c24005",
   "metadata": {},
   "source": [
    "average '關' and '系'"
   ]
  },
  {
   "cell_type": "code",
   "execution_count": 13,
   "id": "f0e9fa0e",
   "metadata": {
    "ExecuteTime": {
     "end_time": "2023-10-09T16:41:22.178683Z",
     "start_time": "2023-10-09T16:40:55.934Z"
    },
    "vscode": {
     "languageId": "r"
    }
   },
   "outputs": [],
   "source": [
    "querys = dir('bert_embedding_data/ancient/')\n",
    "for (query in querys[1:2]){\n",
    "    input_path = paste0('bert_embedding_data/ancient/',query,'/')\n",
    "    files = dir(input_path)\n",
    "    files = files[grep(\"^(關_)\",files)]\n",
    "    for (file in files){\n",
    "        file_pair = gsub('關','系',file)\n",
    "        output_file = gsub('關','關系',file)\n",
    "        embedding_results1 = read.csv(paste0(input_path,file), row.names=1)\n",
    "        embedding_results2 = read.csv(paste0(input_path,file_pair), row.names=1)\n",
    "        \n",
    "        embedding_results = embedding_results1\n",
    "        embedding_results[,2:769] = (embedding_results1[,2:769]+embedding_results2[,2:769])/2\n",
    "        write.csv(embedding_results,\n",
    "                  paste0('bert_embedding_data/ancient/',query,'/',output_file))\n",
    "    }\n",
    "}"
   ]
  },
  {
   "cell_type": "code",
   "execution_count": 14,
   "id": "ebafef1c",
   "metadata": {
    "ExecuteTime": {
     "end_time": "2023-10-13T03:37:47.479311Z",
     "start_time": "2023-10-13T03:34:04.161Z"
    },
    "vscode": {
     "languageId": "r"
    }
   },
   "outputs": [
    {
     "name": "stdout",
     "output_type": "stream",
     "text": [
      "[1] \"q1.1_bert_embedding_data\"\n",
      "[1] \"bert_embedding_data/ancient/q1.1_bert_embedding_data/\"\n",
      "[1] \"q1.2_bert_embedding_data\"\n",
      "[1] \"bert_embedding_data/ancient/q1.2_bert_embedding_data/\"\n",
      "[1] \"q2.1_bert_embedding_data\"\n",
      "[1] \"bert_embedding_data/ancient/q2.1_bert_embedding_data/\"\n",
      "[1] \"q2.2_bert_embedding_data\"\n",
      "[1] \"bert_embedding_data/ancient/q2.2_bert_embedding_data/\"\n",
      "[1] \"q3.1_bert_embedding_data\"\n",
      "[1] \"bert_embedding_data/ancient/q3.1_bert_embedding_data/\"\n",
      "[1] \"q3.2_bert_embedding_data\"\n",
      "[1] \"bert_embedding_data/ancient/q3.2_bert_embedding_data/\"\n",
      "[1] \"q3.3_bert_embedding_data\"\n",
      "[1] \"bert_embedding_data/ancient/q3.3_bert_embedding_data/\"\n",
      "[1] \"q4.1_bert_embedding_data\"\n",
      "[1] \"bert_embedding_data/ancient/q4.1_bert_embedding_data/\"\n",
      "[1] \"q4.2_bert_embedding_data\"\n",
      "[1] \"bert_embedding_data/ancient/q4.2_bert_embedding_data/\"\n",
      "[1] \"q4.3_bert_embedding_data\"\n",
      "[1] \"bert_embedding_data/ancient/q4.3_bert_embedding_data/\"\n"
     ]
    }
   ],
   "source": [
    "for (query in querys){\n",
    "    print(query)\n",
    "    input_path = paste0('bert_embedding_data/ancient/',query,'/')\n",
    "    output = paste0('sim_bert_embedding/ancient/',query,'/')\n",
    "    rel_emb_sim_ancient(input_path = input_path, output = output)\n",
    "}"
   ]
  }
 ],
 "metadata": {
  "kernelspec": {
   "display_name": "R",
   "language": "R",
   "name": "ir"
  },
  "language_info": {
   "codemirror_mode": "r",
   "file_extension": ".r",
   "mimetype": "text/x-r-source",
   "name": "R",
   "pygments_lexer": "r",
   "version": "4.1.2"
  },
  "latex_envs": {
   "LaTeX_envs_menu_present": true,
   "autoclose": false,
   "autocomplete": true,
   "bibliofile": "biblio.bib",
   "cite_by": "apalike",
   "current_citInitial": 1,
   "eqLabelWithNumbers": true,
   "eqNumInitial": 1,
   "hotkeys": {
    "equation": "Ctrl-E",
    "itemize": "Ctrl-I"
   },
   "labels_anchors": false,
   "latex_user_defs": false,
   "report_style_numbering": false,
   "user_envs_cfg": false
  },
  "toc": {
   "base_numbering": 1,
   "nav_menu": {},
   "number_sections": true,
   "sideBar": true,
   "skip_h1_title": false,
   "title_cell": "Table of Contents",
   "title_sidebar": "Contents",
   "toc_cell": false,
   "toc_position": {},
   "toc_section_display": true,
   "toc_window_display": false
  }
 },
 "nbformat": 4,
 "nbformat_minor": 5
}
