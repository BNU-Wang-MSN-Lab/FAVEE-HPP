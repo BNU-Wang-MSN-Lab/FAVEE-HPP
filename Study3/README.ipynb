{
 "cells": [
  {
   "cell_type": "markdown",
   "id": "5d189d31",
   "metadata": {},
   "source": [
    "# Clustering"
   ]
  },
  {
   "cell_type": "markdown",
   "id": "b8480734",
   "metadata": {},
   "source": [
    "Nineteen regions hierarchical clustering    \n",
    "- clustering of 19 regions.ipynb  \n",
    "We performed a hierarchical clustering to find which regions are similar to each other according to their social relationship representations. For each region, we generated a representational dissimilarity matrix (RDM) of the 159 relationships, by calculating their Euclidean distance on the 33 conceptual features. We calculated the Spearman correlation between regions’ relationship RDM and then used 1 minus the correlation value, resulting in a region-by-region RDM in which a higher value indicates higher dissimilarity between these two regions based on their social relationship representation. The RDM was first reduced to 2D space using UMAP and then hierarchical clustering was performed using the ‘hclust’ function in R.   "
   ]
  },
  {
   "cell_type": "markdown",
   "id": "0528d7ed",
   "metadata": {},
   "source": [
    "Categorical Model\n",
    "- CategoricalModel_19regions&WorldAveragedModel.ipynb  \n",
    "For the categorical model, we performed K-means clustering on the RDMs derived from each region as well as the averaged model."
   ]
  },
  {
   "cell_type": "markdown",
   "id": "ce0e2810",
   "metadata": {},
   "source": [
    "- Meaning Of HPP.ipynb  \n",
    "K-means clustering was implemented on each region separately and we examined how clusters in each region corresponded with the world’s HPP model using a LOOCV scheme."
   ]
  },
  {
   "cell_type": "markdown",
   "id": "efaac035",
   "metadata": {},
   "source": [
    "# DataCleanPCA"
   ]
  },
  {
   "cell_type": "markdown",
   "id": "472a98c1",
   "metadata": {},
   "source": [
    "- each_region  \n",
    "Dimensional model via PCA in each region.    \n",
    "- Averaged_world_model.ipynb  \n",
    "the averaged model scores across the 19 regions  \n",
    "\n",
    "- Meaning Of FAVEE.ipynb  \n",
    "We implemented PCA on each region separately and examined how principal components in each region corresponded with the world’s FAVEE model using a leave-one-region-out cross-validation scheme."
   ]
  },
  {
   "cell_type": "markdown",
   "id": "f2a91f97",
   "metadata": {},
   "source": [
    "- Demographics  \n",
    "    - Demographic_RDM.ipynb  \n",
    "    Generate RDM for RSA regression  \n",
    "    - Plot_demographics.ipynb  \n",
    "    There is a visualization of demographic information across all studies, and detailed information can be found in \"Demographics.xlsx\"."
   ]
  },
  {
   "cell_type": "markdown",
   "id": "572daa65",
   "metadata": {},
   "source": [
    "# RSA_Regression"
   ]
  },
  {
   "cell_type": "markdown",
   "id": "b3585e5d",
   "metadata": {},
   "source": [
    "To access which cultural variables account for the variance of social relationship knowledge representation across countries/regions, we performed a multiple regression similarity analysis (RSA).  \n",
    "- ../Cultural_RDM/Variables_rdm.ipynb  \n",
    "We created a representational dissimilarity matrix (RDM) for each cultural variable in which each cell represents the dissimilarity of two countries/regions on this variable (e.g. how dissimilar China and Portugal are, according to their Modernization level). \n",
    "- Models_rdm.ipynb  \n",
    "We also created an RDM to represent the dissimilarity of relationship representation across countries/regions.  \n",
    "- RSA_Regression.ipynb / RSA_Regression_subvariables.ipynb / RSA_Regression_subvariables(check_size).ipynb\n",
    "We then performed a linear regression model in which cultural variable RDMs were predictors, relationship representation RDM was the response variable. For our purpose here, the regression RSA measures how the similarity structure of the response variable (i.e., relationship representation) may be predicted by the similarity of the predictive variables (e.g., Modernization, Languages, etc.). We also added non-social object knowledge as a predictor in the follow-up analysis.   \n",
    "- RSA_Regression_checksize.ipynb   \n",
    "It’s worthy to note that we also briefly measured cultural variation of non-social object concepts across 19 regions (e.g., the size of tools and animals) and found it failed to predict the cross-cultural variability of relationship concepts (all ps >0.384)."
   ]
  },
  {
   "cell_type": "markdown",
   "id": "ed9b9e58",
   "metadata": {},
   "source": [
    "# Cognition of relationships  \n",
    "- Category perception.ipynb + LOOCV.ipynb   \n",
    "Cultural variability on relationships and categories. Cross-region reliability is caculated by relationships or clusters in 33D space.  \n",
    "\n",
    "- ReliabilityCrossRegions_159rels.ipynb  \n",
    "There is no correlation between the difference in cultural variability and familiarity in relationships."
   ]
  },
  {
   "cell_type": "markdown",
   "id": "a9838506",
   "metadata": {},
   "source": [
    "# Subset  \n",
    "- Robustness/ Robustness Test.ipynb  \n",
    "We quantified the robustness of our results across different numbers of social relationships as Lin (2021) did. We removed social relationships one by one and reperformed PCA to extract five dimensions as before (all pairs of social relationships were ranked from the most to the least similar rated in multi-arrangement task, and the social relationship with lower familiarity rating was removed from each pair). The correlations were calculated between the loadings of each dimension from the full set versus the subsets of relationships as the robustness of our results.  \n",
    "- full&dimension_model.ipynb / category_model.ipynb + models_rdm.ipynb  \n",
    "From the full set of each region, we derive the full feature, dimensional, and categorical models for each subset. Then we created RDMs to represent the dissimilarity of relationship representation across countries/regions.  \n",
    "- regression_categorical.ipynb / regression_dimensional.ipynb / regression_full_feature.ipynb   \n",
    "RSA regression results derived from the subset. We report the effect of modernization and religion on different models using the same RSA analysis procedural as mentioned above.  \n",
    "- data    \n",
    "The remaining subsets after removing one relationship at each step."
   ]
  },
  {
   "cell_type": "markdown",
   "id": "4333e67c",
   "metadata": {},
   "source": [
    "# Study3_CHNvsUSA  \n",
    "There were two rounds of data collection for China. The relationships in the first round were directly translated from 159 relationships in the United States **(CHN_Trans_DataCleanPCA.ipynb)**, while the relationships in the second round were generated using NLP **(CHN_NLP_DataCleanPCA.ipynb)**. There was a high correlation between the translation results and the NLP results.\n",
    "\n",
    "To compare CHN and USA, we combined the USA data from Study1 and Study3. **(USA_DataCleanPCA.ipynb)**.  \n",
    "\n",
    "CHN VS USA:  \n",
    "- Similarity_33&30d.ipynb  \n",
    "The dimensional frameworks of the two countries are highly correlated.  \n",
    "- Difference  \n",
    "The different between the two countries in relationship knowledge.  \n",
    "![Study3_CHNvsUSA.png](../graph/Study3_CHNvsUSA.png)"
   ]
  },
  {
   "cell_type": "markdown",
   "id": "80b7945b",
   "metadata": {},
   "source": [
    "# Model_comparison  \n",
    "Across 19 global regions, model comparison analysis was performed between the FAVEE and other 15 existing theories in terms of the explained variance. For most regions (16 out of 19), FAVEE had the highest adjust R squared (i.e., red dots were larger than green dots). For three exception regions, FAVEE was the second or third best model. Asterisks (in orange) indicate those exception models winning over the FAVEE: the ‘Bugental model’ in Mexico, Russia and Chile, and the ‘Wish model’ in Chile **(model_comparisons.ipynb)**."
   ]
  }
 ],
 "metadata": {
  "kernelspec": {
   "display_name": "Python 3 (ipykernel)",
   "language": "python",
   "name": "python3"
  },
  "language_info": {
   "codemirror_mode": {
    "name": "ipython",
    "version": 3
   },
   "file_extension": ".py",
   "mimetype": "text/x-python",
   "name": "python",
   "nbconvert_exporter": "python",
   "pygments_lexer": "ipython3",
   "version": "3.9.13"
  },
  "toc": {
   "base_numbering": 1,
   "nav_menu": {},
   "number_sections": true,
   "sideBar": true,
   "skip_h1_title": false,
   "title_cell": "Table of Contents",
   "title_sidebar": "Contents",
   "toc_cell": false,
   "toc_position": {},
   "toc_section_display": true,
   "toc_window_display": false
  },
  "varInspector": {
   "cols": {
    "lenName": 16,
    "lenType": 16,
    "lenVar": 40
   },
   "kernels_config": {
    "python": {
     "delete_cmd_postfix": "",
     "delete_cmd_prefix": "del ",
     "library": "var_list.py",
     "varRefreshCmd": "print(var_dic_list())"
    },
    "r": {
     "delete_cmd_postfix": ") ",
     "delete_cmd_prefix": "rm(",
     "library": "var_list.r",
     "varRefreshCmd": "cat(var_dic_list()) "
    }
   },
   "types_to_exclude": [
    "module",
    "function",
    "builtin_function_or_method",
    "instance",
    "_Feature"
   ],
   "window_display": false
  }
 },
 "nbformat": 4,
 "nbformat_minor": 5
}
