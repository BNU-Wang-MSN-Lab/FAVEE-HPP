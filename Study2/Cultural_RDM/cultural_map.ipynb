{
 "cells": [
  {
   "cell_type": "code",
   "execution_count": 8,
   "id": "83c15c09",
   "metadata": {
    "ExecuteTime": {
     "end_time": "2023-03-12T03:58:07.454955Z",
     "start_time": "2023-03-12T03:58:06.170Z"
    },
    "vscode": {
     "languageId": "r"
    }
   },
   "outputs": [],
   "source": [
    "library(rnaturalearth) # ne_countries\n",
    "library(rnaturalearthdata)\n",
    "library(tidyverse)\n",
    "library(sf) # st_as_sf()\n",
    "library(mapdata) # maps\n",
    "\n",
    "# color\n",
    "library(ggplot2)\n",
    "library(RColorBrewer)\n",
    "library(ggsci)\n",
    "library(viridis)\n",
    "library(paletteer)\n",
    "library(colorBlindness)"
   ]
  },
  {
   "cell_type": "code",
   "execution_count": 2,
   "id": "8011ad14",
   "metadata": {
    "ExecuteTime": {
     "end_time": "2023-03-12T03:58:07.540987Z",
     "start_time": "2023-03-12T03:58:06.171Z"
    },
    "vscode": {
     "languageId": "r"
    }
   },
   "outputs": [],
   "source": [
    "# geographical position\n",
    "geo = read.csv('input_data/coordinate/Longitude_and_latitude.csv',encoding = 'UTF-8')\n",
    "selceted_region = c('CN','HK','GB','ES','US','FR','DE','AU',\n",
    "                    'CL','PT','MX','ZA','BR','IL','RU','JP','EG','IN','QA')# United Kingdom: GB\n",
    "colnames(geo) = c('code','region','longitude','latitude')"
   ]
  },
  {
   "cell_type": "markdown",
   "id": "9e240734",
   "metadata": {},
   "source": [
    "# version1"
   ]
  },
  {
   "cell_type": "code",
   "execution_count": 3,
   "id": "521fdb09",
   "metadata": {
    "ExecuteTime": {
     "end_time": "2023-03-12T03:58:07.614952Z",
     "start_time": "2023-03-12T03:58:06.191Z"
    },
    "vscode": {
     "languageId": "r"
    }
   },
   "outputs": [
    {
     "data": {
      "text/html": [
       "<style>\n",
       ".list-inline {list-style: none; margin:0; padding: 0}\n",
       ".list-inline>li {display: inline-block}\n",
       ".list-inline>li:not(:last-child)::after {content: \"\\00b7\"; padding: 0 .5ex}\n",
       "</style>\n",
       "<ol class=list-inline><li>'Australia'</li><li>'Brazil'</li><li>'Chile'</li><li>'China'</li><li>'Germany'</li><li>'Egypt'</li><li>'Spain'</li><li>'France'</li><li>'United Kingdom'</li><li>'Hong Kong'</li><li>'Israel'</li><li>'India'</li><li>'Japan'</li><li>'Mexico'</li><li>'Portugal'</li><li>'Qatar'</li><li>'Russian Federation'</li><li>'United States'</li><li>'South Africa'</li></ol>\n"
      ],
      "text/latex": [
       "\\begin{enumerate*}\n",
       "\\item 'Australia'\n",
       "\\item 'Brazil'\n",
       "\\item 'Chile'\n",
       "\\item 'China'\n",
       "\\item 'Germany'\n",
       "\\item 'Egypt'\n",
       "\\item 'Spain'\n",
       "\\item 'France'\n",
       "\\item 'United Kingdom'\n",
       "\\item 'Hong Kong'\n",
       "\\item 'Israel'\n",
       "\\item 'India'\n",
       "\\item 'Japan'\n",
       "\\item 'Mexico'\n",
       "\\item 'Portugal'\n",
       "\\item 'Qatar'\n",
       "\\item 'Russian Federation'\n",
       "\\item 'United States'\n",
       "\\item 'South Africa'\n",
       "\\end{enumerate*}\n"
      ],
      "text/markdown": [
       "1. 'Australia'\n",
       "2. 'Brazil'\n",
       "3. 'Chile'\n",
       "4. 'China'\n",
       "5. 'Germany'\n",
       "6. 'Egypt'\n",
       "7. 'Spain'\n",
       "8. 'France'\n",
       "9. 'United Kingdom'\n",
       "10. 'Hong Kong'\n",
       "11. 'Israel'\n",
       "12. 'India'\n",
       "13. 'Japan'\n",
       "14. 'Mexico'\n",
       "15. 'Portugal'\n",
       "16. 'Qatar'\n",
       "17. 'Russian Federation'\n",
       "18. 'United States'\n",
       "19. 'South Africa'\n",
       "\n",
       "\n"
      ],
      "text/plain": [
       " [1] \"Australia\"          \"Brazil\"             \"Chile\"             \n",
       " [4] \"China\"              \"Germany\"            \"Egypt\"             \n",
       " [7] \"Spain\"              \"France\"             \"United Kingdom\"    \n",
       "[10] \"Hong Kong\"          \"Israel\"             \"India\"             \n",
       "[13] \"Japan\"              \"Mexico\"             \"Portugal\"          \n",
       "[16] \"Qatar\"              \"Russian Federation\" \"United States\"     \n",
       "[19] \"South Africa\"      "
      ]
     },
     "metadata": {},
     "output_type": "display_data"
    }
   ],
   "source": [
    "# map_only countries\n",
    "map = geo %>% filter(code %in% selceted_region) \n",
    "map$region = str_replace(map$region,'Russia','Russian Federation')\n",
    "map$region"
   ]
  },
  {
   "cell_type": "code",
   "execution_count": 4,
   "id": "70e5d12e",
   "metadata": {
    "ExecuteTime": {
     "end_time": "2023-03-12T03:58:08.532757Z",
     "start_time": "2023-03-12T03:58:06.192Z"
    },
    "vscode": {
     "languageId": "r"
    }
   },
   "outputs": [
    {
     "data": {
      "text/html": [
       "<table class=\"dataframe\">\n",
       "<caption>A data.frame: 6 × 7</caption>\n",
       "<thead>\n",
       "\t<tr><th></th><th scope=col>long</th><th scope=col>lat</th><th scope=col>group</th><th scope=col>order</th><th scope=col>region</th><th scope=col>subregion</th><th scope=col>selected</th></tr>\n",
       "\t<tr><th></th><th scope=col>&lt;dbl&gt;</th><th scope=col>&lt;dbl&gt;</th><th scope=col>&lt;dbl&gt;</th><th scope=col>&lt;int&gt;</th><th scope=col>&lt;chr&gt;</th><th scope=col>&lt;chr&gt;</th><th scope=col>&lt;chr&gt;</th></tr>\n",
       "</thead>\n",
       "<tbody>\n",
       "\t<tr><th scope=row>1</th><td>-69.89912</td><td>12.45200</td><td>1</td><td>1</td><td>Aruba</td><td>NA</td><td>no</td></tr>\n",
       "\t<tr><th scope=row>2</th><td>-69.89571</td><td>12.42300</td><td>1</td><td>2</td><td>Aruba</td><td>NA</td><td>no</td></tr>\n",
       "\t<tr><th scope=row>3</th><td>-69.94219</td><td>12.43853</td><td>1</td><td>3</td><td>Aruba</td><td>NA</td><td>no</td></tr>\n",
       "\t<tr><th scope=row>4</th><td>-70.00415</td><td>12.50049</td><td>1</td><td>4</td><td>Aruba</td><td>NA</td><td>no</td></tr>\n",
       "\t<tr><th scope=row>5</th><td>-70.06612</td><td>12.54697</td><td>1</td><td>5</td><td>Aruba</td><td>NA</td><td>no</td></tr>\n",
       "\t<tr><th scope=row>6</th><td>-70.05088</td><td>12.59707</td><td>1</td><td>6</td><td>Aruba</td><td>NA</td><td>no</td></tr>\n",
       "</tbody>\n",
       "</table>\n"
      ],
      "text/latex": [
       "A data.frame: 6 × 7\n",
       "\\begin{tabular}{r|lllllll}\n",
       "  & long & lat & group & order & region & subregion & selected\\\\\n",
       "  & <dbl> & <dbl> & <dbl> & <int> & <chr> & <chr> & <chr>\\\\\n",
       "\\hline\n",
       "\t1 & -69.89912 & 12.45200 & 1 & 1 & Aruba & NA & no\\\\\n",
       "\t2 & -69.89571 & 12.42300 & 1 & 2 & Aruba & NA & no\\\\\n",
       "\t3 & -69.94219 & 12.43853 & 1 & 3 & Aruba & NA & no\\\\\n",
       "\t4 & -70.00415 & 12.50049 & 1 & 4 & Aruba & NA & no\\\\\n",
       "\t5 & -70.06612 & 12.54697 & 1 & 5 & Aruba & NA & no\\\\\n",
       "\t6 & -70.05088 & 12.59707 & 1 & 6 & Aruba & NA & no\\\\\n",
       "\\end{tabular}\n"
      ],
      "text/markdown": [
       "\n",
       "A data.frame: 6 × 7\n",
       "\n",
       "| <!--/--> | long &lt;dbl&gt; | lat &lt;dbl&gt; | group &lt;dbl&gt; | order &lt;int&gt; | region &lt;chr&gt; | subregion &lt;chr&gt; | selected &lt;chr&gt; |\n",
       "|---|---|---|---|---|---|---|---|\n",
       "| 1 | -69.89912 | 12.45200 | 1 | 1 | Aruba | NA | no |\n",
       "| 2 | -69.89571 | 12.42300 | 1 | 2 | Aruba | NA | no |\n",
       "| 3 | -69.94219 | 12.43853 | 1 | 3 | Aruba | NA | no |\n",
       "| 4 | -70.00415 | 12.50049 | 1 | 4 | Aruba | NA | no |\n",
       "| 5 | -70.06612 | 12.54697 | 1 | 5 | Aruba | NA | no |\n",
       "| 6 | -70.05088 | 12.59707 | 1 | 6 | Aruba | NA | no |\n",
       "\n"
      ],
      "text/plain": [
       "  long      lat      group order region subregion selected\n",
       "1 -69.89912 12.45200 1     1     Aruba  NA        no      \n",
       "2 -69.89571 12.42300 1     2     Aruba  NA        no      \n",
       "3 -69.94219 12.43853 1     3     Aruba  NA        no      \n",
       "4 -70.00415 12.50049 1     4     Aruba  NA        no      \n",
       "5 -70.06612 12.54697 1     5     Aruba  NA        no      \n",
       "6 -70.05088 12.59707 1     6     Aruba  NA        no      "
      ]
     },
     "metadata": {},
     "output_type": "display_data"
    },
    {
     "name": "stderr",
     "output_type": "stream",
     "text": [
      "Warning message in geom_map(map = world, aes(x = long, y = lat, map_id = region, :\n",
      "\"\u001b[1m\u001b[22mIgnoring unknown aesthetics: \u001b[32mx\u001b[39m and \u001b[32my\u001b[39m\"\n"
     ]
    },
    {
     "data": {
      "image/png": "[encoded data removed]",
      "text/plain": [
       "plot without title"
      ]
     },
     "metadata": {
      "image/png": {
       "height": 600,
       "width": 900
      }
     },
     "output_type": "display_data"
    }
   ],
   "source": [
    "world <- map_data(\"world\")\n",
    "REGIONS = c('Australia','Brazil','Chile','China','Germany',\n",
    "            'Egypt','Spain','France','UK','Hong Kong','Taiwan',\n",
    "            'Israel','India','Japan','Mexico','Portugal','Qatar',\n",
    "            'Russia','USA','South Africa')\n",
    "world = world %>% mutate(selected=case_when(world$region%in%REGIONS~'yes',\n",
    "                                           TRUE~'no'))\n",
    "head(world)\n",
    "\n",
    "options(repr.plot.width = 15,repr.plot.height = 10)\n",
    "ggplot(world)+\n",
    "geom_map(map = world,\n",
    "    aes(x=long, y=lat, map_id = region,\n",
    "       fill=selected,color=selected))+\n",
    "  scale_color_manual(values=c('yes'='black','no'='grey'))+\n",
    "  scale_fill_manual(values=c('yes'='black','no'='grey'))+\n",
    "\n",
    "theme_void()+\n",
    "theme(legend.position = 'none')"
   ]
  },
  {
   "cell_type": "code",
   "execution_count": 5,
   "id": "1ddb8045",
   "metadata": {
    "ExecuteTime": {
     "end_time": "2023-03-12T03:58:08.633270Z",
     "start_time": "2023-03-12T03:58:06.193Z"
    },
    "vscode": {
     "languageId": "r"
    }
   },
   "outputs": [
    {
     "data": {
      "text/html": [
       "<style>\n",
       ".list-inline {list-style: none; margin:0; padding: 0}\n",
       ".list-inline>li {display: inline-block}\n",
       ".list-inline>li:not(:last-child)::after {content: \"\\00b7\"; padding: 0 .5ex}\n",
       "</style>\n",
       "<ol class=list-inline><li>'Australia'</li><li>'Brazil'</li><li>'Chile'</li><li>'China'</li><li>'Germany'</li><li>'Egypt'</li><li>'Spain'</li><li>'France'</li><li>'UK'</li><li>'India'</li><li>'Israel'</li><li>'Japan'</li><li>'Mexico'</li><li>'Portugal'</li><li>'Qatar'</li><li>'Russia'</li><li>'Taiwan'</li><li>'USA'</li><li>'South Africa'</li></ol>\n"
      ],
      "text/latex": [
       "\\begin{enumerate*}\n",
       "\\item 'Australia'\n",
       "\\item 'Brazil'\n",
       "\\item 'Chile'\n",
       "\\item 'China'\n",
       "\\item 'Germany'\n",
       "\\item 'Egypt'\n",
       "\\item 'Spain'\n",
       "\\item 'France'\n",
       "\\item 'UK'\n",
       "\\item 'India'\n",
       "\\item 'Israel'\n",
       "\\item 'Japan'\n",
       "\\item 'Mexico'\n",
       "\\item 'Portugal'\n",
       "\\item 'Qatar'\n",
       "\\item 'Russia'\n",
       "\\item 'Taiwan'\n",
       "\\item 'USA'\n",
       "\\item 'South Africa'\n",
       "\\end{enumerate*}\n"
      ],
      "text/markdown": [
       "1. 'Australia'\n",
       "2. 'Brazil'\n",
       "3. 'Chile'\n",
       "4. 'China'\n",
       "5. 'Germany'\n",
       "6. 'Egypt'\n",
       "7. 'Spain'\n",
       "8. 'France'\n",
       "9. 'UK'\n",
       "10. 'India'\n",
       "11. 'Israel'\n",
       "12. 'Japan'\n",
       "13. 'Mexico'\n",
       "14. 'Portugal'\n",
       "15. 'Qatar'\n",
       "16. 'Russia'\n",
       "17. 'Taiwan'\n",
       "18. 'USA'\n",
       "19. 'South Africa'\n",
       "\n",
       "\n"
      ],
      "text/plain": [
       " [1] \"Australia\"    \"Brazil\"       \"Chile\"        \"China\"        \"Germany\"     \n",
       " [6] \"Egypt\"        \"Spain\"        \"France\"       \"UK\"           \"India\"       \n",
       "[11] \"Israel\"       \"Japan\"        \"Mexico\"       \"Portugal\"     \"Qatar\"       \n",
       "[16] \"Russia\"       \"Taiwan\"       \"USA\"          \"South Africa\""
      ]
     },
     "metadata": {},
     "output_type": "display_data"
    },
    {
     "data": {
      "text/html": [
       "19"
      ],
      "text/latex": [
       "19"
      ],
      "text/markdown": [
       "19"
      ],
      "text/plain": [
       "[1] 19"
      ]
     },
     "metadata": {},
     "output_type": "display_data"
    }
   ],
   "source": [
    "temp = world %>% filter(selected=='yes')\n",
    "unique(temp$'region')\n",
    "length(unique(temp$'region')) # Hongkong and Taiwan is included in China"
   ]
  },
  {
   "cell_type": "markdown",
   "id": "329fcbc5",
   "metadata": {},
   "source": [
    "# version2"
   ]
  },
  {
   "cell_type": "code",
   "execution_count": 6,
   "id": "7348299b",
   "metadata": {
    "ExecuteTime": {
     "end_time": "2023-03-12T04:00:28.469952Z",
     "start_time": "2023-03-12T04:00:28.359Z"
    },
    "vscode": {
     "languageId": "r"
    }
   },
   "outputs": [],
   "source": [
    "World <- ne_countries(scale = \"medium\", type = \"countries\", \n",
    "                  continent = c('Asia','Europe','North America',\n",
    "                                'South America','Africa','Oceania'),\n",
    "                  country = NULL, geounit = NULL, sovereignty = NULL,\n",
    "                  returnclass = c(\"sf\"))\n",
    "map_countries = World %>% mutate(selected = case_when(name_long %in% map$'region'~'yes',\n",
    "                                                      name_long %in% c('Taiwan')~'yes',\n",
    "                                                     TRUE~'no'))"
   ]
  },
  {
   "cell_type": "code",
   "execution_count": 7,
   "id": "43cf9c42",
   "metadata": {
    "ExecuteTime": {
     "end_time": "2023-03-12T04:00:31.155060Z",
     "start_time": "2023-03-12T04:00:30.508Z"
    },
    "vscode": {
     "languageId": "r"
    }
   },
   "outputs": [
    {
     "data": {
      "image/png": "[encoded data removed]",
      "text/plain": [
       "plot without title"
      ]
     },
     "metadata": {
      "image/png": {
       "height": 600,
       "width": 900
      }
     },
     "output_type": "display_data"
    }
   ],
   "source": [
    "options(repr.plot.width = 15,repr.plot.height = 10)\n",
    "ggplot(map_countries) +\n",
    "  geom_sf(aes(fill = selected,color=selected)) + \n",
    "  scale_color_manual(values=c('yes'='black','no'='grey'))+\n",
    "  scale_fill_manual(values=c('yes'='black','no'='grey'))+\n",
    "\n",
    "  theme_void()+\n",
    "  theme(legend.position = 'bottom',legend.key.size = unit(30,'pt'),\n",
    "        legend.title = element_text(size=18,face=\"bold\"),\n",
    "        legend.spacing.x = unit(1.5, 'cm'),\n",
    "        legend.text=element_text(size=12))"
   ]
  }
 ],
 "metadata": {
  "kernelspec": {
   "display_name": "R",
   "language": "R",
   "name": "ir"
  },
  "language_info": {
   "codemirror_mode": "r",
   "file_extension": ".r",
   "mimetype": "text/x-r-source",
   "name": "R",
   "pygments_lexer": "r",
   "version": "4.1.2"
  },
  "latex_envs": {
   "LaTeX_envs_menu_present": true,
   "autoclose": false,
   "autocomplete": true,
   "bibliofile": "biblio.bib",
   "cite_by": "apalike",
   "current_citInitial": 1,
   "eqLabelWithNumbers": true,
   "eqNumInitial": 1,
   "hotkeys": {
    "equation": "Ctrl-E",
    "itemize": "Ctrl-I"
   },
   "labels_anchors": false,
   "latex_user_defs": false,
   "report_style_numbering": false,
   "user_envs_cfg": false
  },
  "toc": {
   "base_numbering": 1,
   "nav_menu": {},
   "number_sections": true,
   "sideBar": false,
   "skip_h1_title": false,
   "title_cell": "Table of Contents",
   "title_sidebar": "Contents",
   "toc_cell": false,
   "toc_position": {
    "height": "235.742px",
    "left": "1840.99px",
    "top": "284.965px",
    "width": "189.473px"
   },
   "toc_section_display": true,
   "toc_window_display": true
  },
  "varInspector": {
   "cols": {
    "lenName": 16,
    "lenType": 16,
    "lenVar": 40
   },
   "kernels_config": {
    "python": {
     "delete_cmd_postfix": "",
     "delete_cmd_prefix": "del ",
     "library": "var_list.py",
     "varRefreshCmd": "print(var_dic_list())"
    },
    "r": {
     "delete_cmd_postfix": ") ",
     "delete_cmd_prefix": "rm(",
     "library": "var_list.r",
     "varRefreshCmd": "cat(var_dic_list()) "
    }
   },
   "types_to_exclude": [
    "module",
    "function",
    "builtin_function_or_method",
    "instance",
    "_Feature"
   ],
   "window_display": false
  }
 },
 "nbformat": 4,
 "nbformat_minor": 5
}
