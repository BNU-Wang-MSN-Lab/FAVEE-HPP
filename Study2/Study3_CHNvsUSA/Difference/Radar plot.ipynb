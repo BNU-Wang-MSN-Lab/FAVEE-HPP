{
 "cells": [
  {
   "cell_type": "code",
   "execution_count": 1,
   "id": "dbd9d94d",
   "metadata": {
    "ExecuteTime": {
     "end_time": "2022-12-26T03:46:34.508177Z",
     "start_time": "2022-12-26T03:46:32.980Z"
    }
   },
   "outputs": [
    {
     "name": "stderr",
     "output_type": "stream",
     "text": [
      "-- \u001b[1mAttaching packages\u001b[22m ------------------------------------------------------------------------------- tidyverse 1.3.1 --\n",
      "\n",
      "\u001b[32mv\u001b[39m \u001b[34mggplot2\u001b[39m 3.3.5     \u001b[32mv\u001b[39m \u001b[34mpurrr  \u001b[39m 0.3.4\n",
      "\u001b[32mv\u001b[39m \u001b[34mtibble \u001b[39m 3.1.6     \u001b[32mv\u001b[39m \u001b[34mdplyr  \u001b[39m 1.0.7\n",
      "\u001b[32mv\u001b[39m \u001b[34mtidyr  \u001b[39m 1.1.4     \u001b[32mv\u001b[39m \u001b[34mstringr\u001b[39m 1.4.0\n",
      "\u001b[32mv\u001b[39m \u001b[34mreadr  \u001b[39m 2.1.1     \u001b[32mv\u001b[39m \u001b[34mforcats\u001b[39m 0.5.1\n",
      "\n",
      "-- \u001b[1mConflicts\u001b[22m ---------------------------------------------------------------------------------- tidyverse_conflicts() --\n",
      "\u001b[31mx\u001b[39m \u001b[34mdplyr\u001b[39m::\u001b[32mfilter()\u001b[39m masks \u001b[34mstats\u001b[39m::filter()\n",
      "\u001b[31mx\u001b[39m \u001b[34mdplyr\u001b[39m::\u001b[32mlag()\u001b[39m    masks \u001b[34mstats\u001b[39m::lag()\n",
      "\n",
      "\n",
      "载入程辑包：'reshape'\n",
      "\n",
      "\n",
      "The following object is masked from 'package:dplyr':\n",
      "\n",
      "    rename\n",
      "\n",
      "\n",
      "The following objects are masked from 'package:tidyr':\n",
      "\n",
      "    expand, smiths\n",
      "\n",
      "\n",
      "Warning message:\n",
      "\"程辑包'fmsb'是用R版本4.1.3 来建造的\"\n",
      "Warning message:\n",
      "\"程辑包'scales'是用R版本4.1.3 来建造的\"\n",
      "\n",
      "载入程辑包：'scales'\n",
      "\n",
      "\n",
      "The following object is masked from 'package:purrr':\n",
      "\n",
      "    discard\n",
      "\n",
      "\n",
      "The following object is masked from 'package:readr':\n",
      "\n",
      "    col_factor\n",
      "\n",
      "\n"
     ]
    }
   ],
   "source": [
    "library(tidyverse)\n",
    "library(reshape)\n",
    "library(fmsb) #radar plot\n",
    "library(scales)"
   ]
  },
  {
   "cell_type": "code",
   "execution_count": 2,
   "id": "d67731a6",
   "metadata": {
    "ExecuteTime": {
     "end_time": "2022-12-26T03:46:34.564505Z",
     "start_time": "2022-12-26T03:46:32.982Z"
    }
   },
   "outputs": [],
   "source": [
    "#CHN is above USA\n",
    "radar_plot_CHN = function(rel,USA_data,CHN_data){\n",
    "    colors_border = c('#3C3B6E','#DE2910')\n",
    "    colors_in <- alpha(colors_border,0.7)\n",
    "    \n",
    "    options(repr.plot.width=10)\n",
    "    rel_USA = t(USA_data[rel,1:5])\n",
    "    rel_CHN = t(CHN_data[rel,1:5])\n",
    "    rel_com = cbind(rel_USA,rel_CHN)\n",
    "    colnames(rel_com) = c('USA','CHN')\n",
    "\n",
    "    data = rel_com\n",
    "    rel.min = min(data)\n",
    "    rel.max = max(data)\n",
    "    range = data.frame(max=rep(rel.max,5),min=rep(rel.min,5),row.names=rownames(data))\n",
    "    data_range = as.data.frame(t(cbind(range,data)))\n",
    "\n",
    "    radarchart(data_range,axistype=0,maxmin=T,\n",
    "              #custom polygon\n",
    "              pcol=colors_border,pfcol=colors_in,plwd=10 , plty=1,\n",
    "              #custom the grid\n",
    "              cglcol=\"grey\", cglty=1, axislabcol=\"black\", cglwd=2, \n",
    "              #custom labels\n",
    "               vlcex=2)\n",
    "    legend(x=0.7, y=1.2, legend = c('USA','CHN'), \n",
    "           col=colors_in ,\n",
    "           bty = \"n\", pch=20 ,text.col = \"grey\", cex=2, pt.cex=5)\n",
    "    return(data_range)\n",
    "}\n",
    "\n",
    "#USA is above CHN\n",
    "radar_plot_USA = function(rel,CHN_data,USA_data){\n",
    "    colors_border = c('#DE2910','#3C3B6E')\n",
    "    colors_in <- alpha(colors_border,0.7)\n",
    "    \n",
    "    options(repr.plot.width=10)\n",
    "    rel_CHN = t(CHN_data[rel,1:5])\n",
    "    rel_USA = t(USA_data[rel,1:5])\n",
    "    \n",
    "    rel_com = cbind(rel_CHN,rel_USA)\n",
    "    colnames(rel_com) = c('CHN','USA')\n",
    "\n",
    "    data = rel_com\n",
    "    rel.min = min(data)\n",
    "    rel.max = max(data)\n",
    "    range = data.frame(max=rep(rel.max,5),min=rep(rel.min,5),row.names=rownames(data))\n",
    "    data_range = as.data.frame(t(cbind(range,data)))\n",
    "\n",
    "    radarchart(data_range,axistype=0,maxmin=T,\n",
    "              #custom polygon\n",
    "              pcol=colors_border,pfcol=colors_in,plwd=10 , plty=1,\n",
    "              #custom the grid\n",
    "              cglcol=\"grey\", cglty=1, axislabcol=\"black\", cglwd=2, \n",
    "              #custom labels\n",
    "               vlcex=2)\n",
    "    legend(x=0.7, y=1.2, legend = c('CHN','USA'), \n",
    "           col=colors_in ,\n",
    "           bty = \"n\", pch=20 ,text.col = \"grey\", cex=2, pt.cex=5)\n",
    "    return(data_range)\n",
    "}"
   ]
  },
  {
   "cell_type": "code",
   "execution_count": 3,
   "id": "02a9c604",
   "metadata": {
    "ExecuteTime": {
     "end_time": "2022-12-26T03:46:34.589559Z",
     "start_time": "2022-12-26T03:46:32.983Z"
    }
   },
   "outputs": [],
   "source": [
    "radar_plot_CHN_label = function(rel,USA_data,CHN_data){\n",
    "    options(repr.plot.width = 12,repr.plot.height = 8)\n",
    "    colors_border = c('#3C3B6E','#DE2910')\n",
    "    colors_in <- alpha(colors_border,0.7)\n",
    "    \n",
    "    options(repr.plot.width=10)\n",
    "    rel_USA = t(USA_data[rel,1:5])\n",
    "    rel_CHN = t(CHN_data[rel,1:5])\n",
    "    rel_com = cbind(rel_USA,rel_CHN)\n",
    "    colnames(rel_com) = c('USA','CHN')\n",
    "\n",
    "    data = rel_com\n",
    "    rel.min = min(data)\n",
    "    rel.max = max(data)\n",
    "    range = data.frame(max=rep(rel.max,5),min=rep(rel.min,5),row.names=rownames(data))\n",
    "    data_range = as.data.frame(t(cbind(range,data)))\n",
    "\n",
    "    radarchart(data_range,axistype=0,maxmin=T,\n",
    "              #custom polygon\n",
    "              pcol=colors_border,pfcol=colors_in,plwd=10 , plty=1,\n",
    "              #custom the grid\n",
    "              cglcol=\"grey\", cglty=1, axislabcol=\"black\", cglwd=2, \n",
    "              #custom labels\n",
    "              vlcex=2, vlabels = c('','','','',''))\n",
    "#     legend(x=0.7, y=1.2, legend = c('USA','CHN'), \n",
    "#            col=colors_in ,\n",
    "#            bty = \"n\", pch=20 ,text.col = \"grey\", cex=2, pt.cex=5)\n",
    "    #return(data_range)\n",
    "}\n",
    "\n",
    "\n",
    "radar_plot_USA_label = function(rel,CHN_data,USA_data){\n",
    "    options(repr.plot.width = 12,repr.plot.height = 8)\n",
    "    colors_border = c('#DE2910','#3C3B6E')\n",
    "    colors_in <- alpha(colors_border,0.7)\n",
    "    \n",
    "    options(repr.plot.width=10)\n",
    "    rel_CHN = t(CHN_data[rel,1:5])\n",
    "    rel_USA = t(USA_data[rel,1:5])\n",
    "    \n",
    "    rel_com = cbind(rel_CHN,rel_USA)\n",
    "    colnames(rel_com) = c('CHN','USA')\n",
    "\n",
    "    data = rel_com\n",
    "    rel.min = min(data)\n",
    "    rel.max = max(data)\n",
    "    range = data.frame(max=rep(rel.max,5),min=rep(rel.min,5),row.names=rownames(data))\n",
    "    data_range = as.data.frame(t(cbind(range,data)))\n",
    "\n",
    "    radarchart(data_range,axistype=0,maxmin=T,\n",
    "              #custom polygon\n",
    "              pcol=colors_border,pfcol=colors_in,plwd=10 , plty=1,\n",
    "              #custom the grid\n",
    "              cglcol=\"grey\", cglty=1, axislabcol=\"black\", cglwd=2, \n",
    "              #custom labels\n",
    "              vlcex=2,vlabels = c('','','','',''))\n",
    "#     legend(x=0.7, y=1.2, legend = c('CHN','USA'), \n",
    "#            col=colors_in ,\n",
    "#            bty = \"n\", pch=20 ,text.col = \"grey\", cex=2, pt.cex=5)\n",
    "    #return(data_range)\n",
    "}"
   ]
  },
  {
   "cell_type": "markdown",
   "id": "68faea02",
   "metadata": {},
   "source": [
    "# Import data"
   ]
  },
  {
   "cell_type": "code",
   "execution_count": 4,
   "id": "b89765a9",
   "metadata": {
    "ExecuteTime": {
     "end_time": "2022-12-26T03:46:34.633620Z",
     "start_time": "2022-12-26T03:46:32.997Z"
    }
   },
   "outputs": [],
   "source": [
    "USA_33d_pca_5c = read.csv('../output_data/pca_results/USA/USA_scores_var_33d.csv',\n",
    "                      row.names = 1,check.names = FALSE)\n",
    "colnames(USA_33d_pca_5c) = c('Formality','Activeness','Valence','Exchange','Equality')\n",
    "USA_33d_pca_5c = USA_33d_pca_5c[,c('Formality','Activeness','Valence','Exchange','Equality')]\n",
    "USA_33d_pca_5c['Equality'] = -USA_33d_pca_5c['Equality']\n",
    "\n",
    "\n",
    "CHN_33d_pca_5c = read.csv('../output_data/pca_results/CHN/CHN_NLP_159rel_33d_scores_var.csv',\n",
    "                      row.names = 1,check.names = FALSE)\n",
    "colnames(CHN_33d_pca_5c) = c('Valence','Exchange','Equality','Formality','Activeness')\n",
    "CHN_33d_pca_5c = CHN_33d_pca_5c[,c('Formality','Activeness','Valence','Exchange','Equality')]\n",
    "CHN_33d_pca_5c['Valence'] = -CHN_33d_pca_5c['Valence']\n",
    "CHN_33d_pca_5c['Equality'] = -CHN_33d_pca_5c['Equality']\n",
    "CHN_33d_pca_5c['Formality'] = -CHN_33d_pca_5c['Formality']"
   ]
  },
  {
   "cell_type": "markdown",
   "id": "413de252",
   "metadata": {},
   "source": [
    "# Activeness"
   ]
  },
  {
   "cell_type": "code",
   "execution_count": 5,
   "id": "43293070",
   "metadata": {
    "ExecuteTime": {
     "end_time": "2022-12-26T03:46:34.965990Z",
     "start_time": "2022-12-26T03:46:33.007Z"
    }
   },
   "outputs": [
    {
     "data": {
      "text/html": [
       "<table class=\"dataframe\">\n",
       "<caption>A data.frame: 4 × 5</caption>\n",
       "<thead>\n",
       "\t<tr><th></th><th scope=col>Formality</th><th scope=col>Activeness</th><th scope=col>Valence</th><th scope=col>Exchange</th><th scope=col>Equality</th></tr>\n",
       "\t<tr><th></th><th scope=col>&lt;dbl&gt;</th><th scope=col>&lt;dbl&gt;</th><th scope=col>&lt;dbl&gt;</th><th scope=col>&lt;dbl&gt;</th><th scope=col>&lt;dbl&gt;</th></tr>\n",
       "</thead>\n",
       "<tbody>\n",
       "\t<tr><th scope=row>max</th><td> 1.5308266</td><td> 1.5308266</td><td> 1.5308266</td><td> 1.530827</td><td> 1.530827</td></tr>\n",
       "\t<tr><th scope=row>min</th><td>-2.5733467</td><td>-2.5733467</td><td>-2.5733467</td><td>-2.573347</td><td>-2.573347</td></tr>\n",
       "\t<tr><th scope=row>USA</th><td>-0.9625198</td><td>-2.3385725</td><td> 1.5308266</td><td>-1.178608</td><td>-1.600887</td></tr>\n",
       "\t<tr><th scope=row>CHN</th><td>-0.7461866</td><td>-0.7140342</td><td> 0.9934761</td><td>-1.309412</td><td>-2.573347</td></tr>\n",
       "</tbody>\n",
       "</table>\n"
      ],
      "text/latex": [
       "A data.frame: 4 × 5\n",
       "\\begin{tabular}{r|lllll}\n",
       "  & Formality & Activeness & Valence & Exchange & Equality\\\\\n",
       "  & <dbl> & <dbl> & <dbl> & <dbl> & <dbl>\\\\\n",
       "\\hline\n",
       "\tmax &  1.5308266 &  1.5308266 &  1.5308266 &  1.530827 &  1.530827\\\\\n",
       "\tmin & -2.5733467 & -2.5733467 & -2.5733467 & -2.573347 & -2.573347\\\\\n",
       "\tUSA & -0.9625198 & -2.3385725 &  1.5308266 & -1.178608 & -1.600887\\\\\n",
       "\tCHN & -0.7461866 & -0.7140342 &  0.9934761 & -1.309412 & -2.573347\\\\\n",
       "\\end{tabular}\n"
      ],
      "text/markdown": [
       "\n",
       "A data.frame: 4 × 5\n",
       "\n",
       "| <!--/--> | Formality &lt;dbl&gt; | Activeness &lt;dbl&gt; | Valence &lt;dbl&gt; | Exchange &lt;dbl&gt; | Equality &lt;dbl&gt; |\n",
       "|---|---|---|---|---|---|\n",
       "| max |  1.5308266 |  1.5308266 |  1.5308266 |  1.530827 |  1.530827 |\n",
       "| min | -2.5733467 | -2.5733467 | -2.5733467 | -2.573347 | -2.573347 |\n",
       "| USA | -0.9625198 | -2.3385725 |  1.5308266 | -1.178608 | -1.600887 |\n",
       "| CHN | -0.7461866 | -0.7140342 |  0.9934761 | -1.309412 | -2.573347 |\n",
       "\n"
      ],
      "text/plain": [
       "    Formality  Activeness Valence    Exchange  Equality \n",
       "max  1.5308266  1.5308266  1.5308266  1.530827  1.530827\n",
       "min -2.5733467 -2.5733467 -2.5733467 -2.573347 -2.573347\n",
       "USA -0.9625198 -2.3385725  1.5308266 -1.178608 -1.600887\n",
       "CHN -0.7461866 -0.7140342  0.9934761 -1.309412 -2.573347"
      ]
     },
     "metadata": {},
     "output_type": "display_data"
    },
    {
     "data": {
      "text/html": [
       "<strong>png:</strong> 2"
      ],
      "text/latex": [
       "\\textbf{png:} 2"
      ],
      "text/markdown": [
       "**png:** 2"
      ],
      "text/plain": [
       "png \n",
       "  2 "
      ]
     },
     "metadata": {},
     "output_type": "display_data"
    },
    {
     "data": {
      "image/png": "[encoded data removed]",
      "text/plain": [
       "Plot with title \"\""
      ]
     },
     "metadata": {
      "image/png": {
       "height": 420,
       "width": 600
      }
     },
     "output_type": "display_data"
    }
   ],
   "source": [
    "radar_plot_CHN('Ancestor and Descendant',USA_33d_pca_5c,CHN_33d_pca_5c)\n",
    "png(\"../../output_graph/USA_CHN/radar_activeness.png\", bg=\"transparent\",\n",
    "    family = 'sans',units='in',width=10,height=10,res=300)\n",
    "radar_plot_CHN_label('Ancestor and Descendant',USA_33d_pca_5c,CHN_33d_pca_5c)\n",
    "dev.off()"
   ]
  },
  {
   "cell_type": "code",
   "execution_count": 6,
   "id": "2bed61cb",
   "metadata": {
    "ExecuteTime": {
     "end_time": "2022-12-26T03:46:34.987154Z",
     "start_time": "2022-12-26T03:46:33.008Z"
    }
   },
   "outputs": [],
   "source": [
    "# radar_plot_USA('Ancestor and Descendant',CHN_33d_pca_5c,USA_33d_pca_5c)\n",
    "# radar_plot_USA_label('Ancestor and Descendant',CHN_33d_pca_5c,USA_33d_pca_5c)"
   ]
  },
  {
   "cell_type": "code",
   "execution_count": 7,
   "id": "6db62a25",
   "metadata": {
    "ExecuteTime": {
     "end_time": "2022-12-26T03:46:35.082195Z",
     "start_time": "2022-12-26T03:46:33.010Z"
    }
   },
   "outputs": [
    {
     "data": {
      "text/html": [
       "<table class=\"dataframe\">\n",
       "<caption>A data.frame: 4 × 5</caption>\n",
       "<thead>\n",
       "\t<tr><th></th><th scope=col>Formality</th><th scope=col>Activeness</th><th scope=col>Valence</th><th scope=col>Exchange</th><th scope=col>Equality</th></tr>\n",
       "\t<tr><th></th><th scope=col>&lt;dbl&gt;</th><th scope=col>&lt;dbl&gt;</th><th scope=col>&lt;dbl&gt;</th><th scope=col>&lt;dbl&gt;</th><th scope=col>&lt;dbl&gt;</th></tr>\n",
       "</thead>\n",
       "<tbody>\n",
       "\t<tr><th scope=row>max</th><td> 1.730610</td><td> 1.7306103</td><td> 1.7306103</td><td> 1.7306103</td><td> 1.7306103</td></tr>\n",
       "\t<tr><th scope=row>min</th><td>-1.013499</td><td>-1.0134987</td><td>-1.0134987</td><td>-1.0134987</td><td>-1.0134987</td></tr>\n",
       "\t<tr><th scope=row>USA</th><td> 1.225276</td><td> 0.4050364</td><td>-0.5805130</td><td>-0.1577203</td><td>-0.4146401</td></tr>\n",
       "\t<tr><th scope=row>CHN</th><td> 1.730610</td><td>-1.0134987</td><td>-0.3294242</td><td>-0.2220210</td><td>-0.2116563</td></tr>\n",
       "</tbody>\n",
       "</table>\n"
      ],
      "text/latex": [
       "A data.frame: 4 × 5\n",
       "\\begin{tabular}{r|lllll}\n",
       "  & Formality & Activeness & Valence & Exchange & Equality\\\\\n",
       "  & <dbl> & <dbl> & <dbl> & <dbl> & <dbl>\\\\\n",
       "\\hline\n",
       "\tmax &  1.730610 &  1.7306103 &  1.7306103 &  1.7306103 &  1.7306103\\\\\n",
       "\tmin & -1.013499 & -1.0134987 & -1.0134987 & -1.0134987 & -1.0134987\\\\\n",
       "\tUSA &  1.225276 &  0.4050364 & -0.5805130 & -0.1577203 & -0.4146401\\\\\n",
       "\tCHN &  1.730610 & -1.0134987 & -0.3294242 & -0.2220210 & -0.2116563\\\\\n",
       "\\end{tabular}\n"
      ],
      "text/markdown": [
       "\n",
       "A data.frame: 4 × 5\n",
       "\n",
       "| <!--/--> | Formality &lt;dbl&gt; | Activeness &lt;dbl&gt; | Valence &lt;dbl&gt; | Exchange &lt;dbl&gt; | Equality &lt;dbl&gt; |\n",
       "|---|---|---|---|---|---|\n",
       "| max |  1.730610 |  1.7306103 |  1.7306103 |  1.7306103 |  1.7306103 |\n",
       "| min | -1.013499 | -1.0134987 | -1.0134987 | -1.0134987 | -1.0134987 |\n",
       "| USA |  1.225276 |  0.4050364 | -0.5805130 | -0.1577203 | -0.4146401 |\n",
       "| CHN |  1.730610 | -1.0134987 | -0.3294242 | -0.2220210 | -0.2116563 |\n",
       "\n"
      ],
      "text/plain": [
       "    Formality Activeness Valence    Exchange   Equality  \n",
       "max  1.730610  1.7306103  1.7306103  1.7306103  1.7306103\n",
       "min -1.013499 -1.0134987 -1.0134987 -1.0134987 -1.0134987\n",
       "USA  1.225276  0.4050364 -0.5805130 -0.1577203 -0.4146401\n",
       "CHN  1.730610 -1.0134987 -0.3294242 -0.2220210 -0.2116563"
      ]
     },
     "metadata": {},
     "output_type": "display_data"
    },
    {
     "data": {
      "image/png": "[encoded data removed]",
      "text/plain": [
       "Plot with title \"\""
      ]
     },
     "metadata": {
      "image/png": {
       "height": 480,
       "width": 600
      }
     },
     "output_type": "display_data"
    }
   ],
   "source": [
    "radar_plot_CHN('Judge and Contestant',USA_33d_pca_5c,CHN_33d_pca_5c)\n",
    "#radar_plot_CHN_label('Judge and Contestant',USA_33d_pca_5c,CHN_33d_pca_5c)"
   ]
  },
  {
   "cell_type": "markdown",
   "id": "49529093",
   "metadata": {},
   "source": [
    "# Equality"
   ]
  },
  {
   "cell_type": "code",
   "execution_count": 8,
   "id": "2c7f3b8e",
   "metadata": {
    "ExecuteTime": {
     "end_time": "2022-12-26T03:46:35.392113Z",
     "start_time": "2022-12-26T03:46:33.020Z"
    }
   },
   "outputs": [
    {
     "data": {
      "text/html": [
       "<table class=\"dataframe\">\n",
       "<caption>A data.frame: 4 × 5</caption>\n",
       "<thead>\n",
       "\t<tr><th></th><th scope=col>Formality</th><th scope=col>Activeness</th><th scope=col>Valence</th><th scope=col>Exchange</th><th scope=col>Equality</th></tr>\n",
       "\t<tr><th></th><th scope=col>&lt;dbl&gt;</th><th scope=col>&lt;dbl&gt;</th><th scope=col>&lt;dbl&gt;</th><th scope=col>&lt;dbl&gt;</th><th scope=col>&lt;dbl&gt;</th></tr>\n",
       "</thead>\n",
       "<tbody>\n",
       "\t<tr><th scope=row>max</th><td> 1.0278382</td><td> 1.0278382</td><td> 1.0278382</td><td> 1.027838</td><td> 1.0278382</td></tr>\n",
       "\t<tr><th scope=row>min</th><td>-1.7956946</td><td>-1.7956946</td><td>-1.7956946</td><td>-1.795695</td><td>-1.7956946</td></tr>\n",
       "\t<tr><th scope=row>USA</th><td>-1.0352352</td><td> 0.1717466</td><td> 1.0278382</td><td>-0.589862</td><td>-0.2585134</td></tr>\n",
       "\t<tr><th scope=row>CHN</th><td>-0.8590807</td><td> 0.2052155</td><td> 0.8864339</td><td>-1.059261</td><td>-1.7956946</td></tr>\n",
       "</tbody>\n",
       "</table>\n"
      ],
      "text/latex": [
       "A data.frame: 4 × 5\n",
       "\\begin{tabular}{r|lllll}\n",
       "  & Formality & Activeness & Valence & Exchange & Equality\\\\\n",
       "  & <dbl> & <dbl> & <dbl> & <dbl> & <dbl>\\\\\n",
       "\\hline\n",
       "\tmax &  1.0278382 &  1.0278382 &  1.0278382 &  1.027838 &  1.0278382\\\\\n",
       "\tmin & -1.7956946 & -1.7956946 & -1.7956946 & -1.795695 & -1.7956946\\\\\n",
       "\tUSA & -1.0352352 &  0.1717466 &  1.0278382 & -0.589862 & -0.2585134\\\\\n",
       "\tCHN & -0.8590807 &  0.2052155 &  0.8864339 & -1.059261 & -1.7956946\\\\\n",
       "\\end{tabular}\n"
      ],
      "text/markdown": [
       "\n",
       "A data.frame: 4 × 5\n",
       "\n",
       "| <!--/--> | Formality &lt;dbl&gt; | Activeness &lt;dbl&gt; | Valence &lt;dbl&gt; | Exchange &lt;dbl&gt; | Equality &lt;dbl&gt; |\n",
       "|---|---|---|---|---|---|\n",
       "| max |  1.0278382 |  1.0278382 |  1.0278382 |  1.027838 |  1.0278382 |\n",
       "| min | -1.7956946 | -1.7956946 | -1.7956946 | -1.795695 | -1.7956946 |\n",
       "| USA | -1.0352352 |  0.1717466 |  1.0278382 | -0.589862 | -0.2585134 |\n",
       "| CHN | -0.8590807 |  0.2052155 |  0.8864339 | -1.059261 | -1.7956946 |\n",
       "\n"
      ],
      "text/plain": [
       "    Formality  Activeness Valence    Exchange  Equality  \n",
       "max  1.0278382  1.0278382  1.0278382  1.027838  1.0278382\n",
       "min -1.7956946 -1.7956946 -1.7956946 -1.795695 -1.7956946\n",
       "USA -1.0352352  0.1717466  1.0278382 -0.589862 -0.2585134\n",
       "CHN -0.8590807  0.2052155  0.8864339 -1.059261 -1.7956946"
      ]
     },
     "metadata": {},
     "output_type": "display_data"
    },
    {
     "data": {
      "text/html": [
       "<strong>png:</strong> 2"
      ],
      "text/latex": [
       "\\textbf{png:} 2"
      ],
      "text/markdown": [
       "**png:** 2"
      ],
      "text/plain": [
       "png \n",
       "  2 "
      ]
     },
     "metadata": {},
     "output_type": "display_data"
    },
    {
     "data": {
      "image/png": "[encoded data removed]",
      "text/plain": [
       "Plot with title \"\""
      ]
     },
     "metadata": {
      "image/png": {
       "height": 480,
       "width": 600
      }
     },
     "output_type": "display_data"
    }
   ],
   "source": [
    "rel = 'Uncle and Niece/Nephew'\n",
    "radar_plot_CHN(rel,USA_33d_pca_5c,CHN_33d_pca_5c)\n",
    "png(\"../../output_graph/USA_CHN/radar_equality.png\", bg=\"transparent\",\n",
    "    family = 'sans',units='in',width=10,height=10,res=300)\n",
    "radar_plot_CHN_label(rel,USA_33d_pca_5c,CHN_33d_pca_5c)\n",
    "dev.off()"
   ]
  },
  {
   "cell_type": "code",
   "execution_count": 9,
   "id": "2c910bb6",
   "metadata": {
    "ExecuteTime": {
     "end_time": "2022-12-26T03:46:35.489236Z",
     "start_time": "2022-12-26T03:46:33.021Z"
    }
   },
   "outputs": [
    {
     "data": {
      "text/html": [
       "<table class=\"dataframe\">\n",
       "<caption>A data.frame: 4 × 5</caption>\n",
       "<thead>\n",
       "\t<tr><th></th><th scope=col>Formality</th><th scope=col>Activeness</th><th scope=col>Valence</th><th scope=col>Exchange</th><th scope=col>Equality</th></tr>\n",
       "\t<tr><th></th><th scope=col>&lt;dbl&gt;</th><th scope=col>&lt;dbl&gt;</th><th scope=col>&lt;dbl&gt;</th><th scope=col>&lt;dbl&gt;</th><th scope=col>&lt;dbl&gt;</th></tr>\n",
       "</thead>\n",
       "<tbody>\n",
       "\t<tr><th scope=row>max</th><td> 0.8345841</td><td> 0.8345841</td><td> 0.8345841</td><td> 0.8345841</td><td> 0.8345841</td></tr>\n",
       "\t<tr><th scope=row>min</th><td>-1.9781714</td><td>-1.9781714</td><td>-1.9781714</td><td>-1.9781714</td><td>-1.9781714</td></tr>\n",
       "\t<tr><th scope=row>USA</th><td>-1.3634433</td><td> 0.1651762</td><td> 0.6222348</td><td>-0.7415881</td><td>-0.5438110</td></tr>\n",
       "\t<tr><th scope=row>CHN</th><td>-0.8301482</td><td>-0.2869774</td><td> 0.8345841</td><td>-1.3610361</td><td>-1.9781714</td></tr>\n",
       "</tbody>\n",
       "</table>\n"
      ],
      "text/latex": [
       "A data.frame: 4 × 5\n",
       "\\begin{tabular}{r|lllll}\n",
       "  & Formality & Activeness & Valence & Exchange & Equality\\\\\n",
       "  & <dbl> & <dbl> & <dbl> & <dbl> & <dbl>\\\\\n",
       "\\hline\n",
       "\tmax &  0.8345841 &  0.8345841 &  0.8345841 &  0.8345841 &  0.8345841\\\\\n",
       "\tmin & -1.9781714 & -1.9781714 & -1.9781714 & -1.9781714 & -1.9781714\\\\\n",
       "\tUSA & -1.3634433 &  0.1651762 &  0.6222348 & -0.7415881 & -0.5438110\\\\\n",
       "\tCHN & -0.8301482 & -0.2869774 &  0.8345841 & -1.3610361 & -1.9781714\\\\\n",
       "\\end{tabular}\n"
      ],
      "text/markdown": [
       "\n",
       "A data.frame: 4 × 5\n",
       "\n",
       "| <!--/--> | Formality &lt;dbl&gt; | Activeness &lt;dbl&gt; | Valence &lt;dbl&gt; | Exchange &lt;dbl&gt; | Equality &lt;dbl&gt; |\n",
       "|---|---|---|---|---|---|\n",
       "| max |  0.8345841 |  0.8345841 |  0.8345841 |  0.8345841 |  0.8345841 |\n",
       "| min | -1.9781714 | -1.9781714 | -1.9781714 | -1.9781714 | -1.9781714 |\n",
       "| USA | -1.3634433 |  0.1651762 |  0.6222348 | -0.7415881 | -0.5438110 |\n",
       "| CHN | -0.8301482 | -0.2869774 |  0.8345841 | -1.3610361 | -1.9781714 |\n",
       "\n"
      ],
      "text/plain": [
       "    Formality  Activeness Valence    Exchange   Equality  \n",
       "max  0.8345841  0.8345841  0.8345841  0.8345841  0.8345841\n",
       "min -1.9781714 -1.9781714 -1.9781714 -1.9781714 -1.9781714\n",
       "USA -1.3634433  0.1651762  0.6222348 -0.7415881 -0.5438110\n",
       "CHN -0.8301482 -0.2869774  0.8345841 -1.3610361 -1.9781714"
      ]
     },
     "metadata": {},
     "output_type": "display_data"
    },
    {
     "data": {
      "image/png": "[encoded data removed]",
      "text/plain": [
       "Plot with title \"\""
      ]
     },
     "metadata": {
      "image/png": {
       "height": 480,
       "width": 600
      }
     },
     "output_type": "display_data"
    }
   ],
   "source": [
    "rel = 'Aunt and Niece/Nephew'\n",
    "radar_plot_CHN(rel,USA_33d_pca_5c,CHN_33d_pca_5c)"
   ]
  },
  {
   "cell_type": "markdown",
   "id": "39b5e5b5",
   "metadata": {},
   "source": [
    "# Exchange"
   ]
  },
  {
   "cell_type": "code",
   "execution_count": 10,
   "id": "e60a6edf",
   "metadata": {
    "ExecuteTime": {
     "end_time": "2022-12-26T03:46:35.853291Z",
     "start_time": "2022-12-26T03:46:33.032Z"
    }
   },
   "outputs": [
    {
     "data": {
      "text/html": [
       "<table class=\"dataframe\">\n",
       "<caption>A data.frame: 4 × 5</caption>\n",
       "<thead>\n",
       "\t<tr><th></th><th scope=col>Formality</th><th scope=col>Activeness</th><th scope=col>Valence</th><th scope=col>Exchange</th><th scope=col>Equality</th></tr>\n",
       "\t<tr><th></th><th scope=col>&lt;dbl&gt;</th><th scope=col>&lt;dbl&gt;</th><th scope=col>&lt;dbl&gt;</th><th scope=col>&lt;dbl&gt;</th><th scope=col>&lt;dbl&gt;</th></tr>\n",
       "</thead>\n",
       "<tbody>\n",
       "\t<tr><th scope=row>max</th><td> 1.062658</td><td> 1.0626585</td><td> 1.0626585</td><td> 1.0626585</td><td> 1.0626585</td></tr>\n",
       "\t<tr><th scope=row>min</th><td>-1.919719</td><td>-1.9197186</td><td>-1.9197186</td><td>-1.9197186</td><td>-1.9197186</td></tr>\n",
       "\t<tr><th scope=row>USA</th><td>-1.919719</td><td>-1.1719462</td><td> 0.9629409</td><td> 0.6026685</td><td> 1.0626585</td></tr>\n",
       "\t<tr><th scope=row>CHN</th><td>-1.008595</td><td>-0.1938679</td><td> 0.9898637</td><td>-0.9658714</td><td> 0.9080196</td></tr>\n",
       "</tbody>\n",
       "</table>\n"
      ],
      "text/latex": [
       "A data.frame: 4 × 5\n",
       "\\begin{tabular}{r|lllll}\n",
       "  & Formality & Activeness & Valence & Exchange & Equality\\\\\n",
       "  & <dbl> & <dbl> & <dbl> & <dbl> & <dbl>\\\\\n",
       "\\hline\n",
       "\tmax &  1.062658 &  1.0626585 &  1.0626585 &  1.0626585 &  1.0626585\\\\\n",
       "\tmin & -1.919719 & -1.9197186 & -1.9197186 & -1.9197186 & -1.9197186\\\\\n",
       "\tUSA & -1.919719 & -1.1719462 &  0.9629409 &  0.6026685 &  1.0626585\\\\\n",
       "\tCHN & -1.008595 & -0.1938679 &  0.9898637 & -0.9658714 &  0.9080196\\\\\n",
       "\\end{tabular}\n"
      ],
      "text/markdown": [
       "\n",
       "A data.frame: 4 × 5\n",
       "\n",
       "| <!--/--> | Formality &lt;dbl&gt; | Activeness &lt;dbl&gt; | Valence &lt;dbl&gt; | Exchange &lt;dbl&gt; | Equality &lt;dbl&gt; |\n",
       "|---|---|---|---|---|---|\n",
       "| max |  1.062658 |  1.0626585 |  1.0626585 |  1.0626585 |  1.0626585 |\n",
       "| min | -1.919719 | -1.9197186 | -1.9197186 | -1.9197186 | -1.9197186 |\n",
       "| USA | -1.919719 | -1.1719462 |  0.9629409 |  0.6026685 |  1.0626585 |\n",
       "| CHN | -1.008595 | -0.1938679 |  0.9898637 | -0.9658714 |  0.9080196 |\n",
       "\n"
      ],
      "text/plain": [
       "    Formality Activeness Valence    Exchange   Equality  \n",
       "max  1.062658  1.0626585  1.0626585  1.0626585  1.0626585\n",
       "min -1.919719 -1.9197186 -1.9197186 -1.9197186 -1.9197186\n",
       "USA -1.919719 -1.1719462  0.9629409  0.6026685  1.0626585\n",
       "CHN -1.008595 -0.1938679  0.9898637 -0.9658714  0.9080196"
      ]
     },
     "metadata": {},
     "output_type": "display_data"
    },
    {
     "data": {
      "text/html": [
       "<strong>png:</strong> 2"
      ],
      "text/latex": [
       "\\textbf{png:} 2"
      ],
      "text/markdown": [
       "**png:** 2"
      ],
      "text/plain": [
       "png \n",
       "  2 "
      ]
     },
     "metadata": {},
     "output_type": "display_data"
    },
    {
     "data": {
      "image/png": "[encoded data removed]",
      "text/plain": [
       "Plot with title \"\""
      ]
     },
     "metadata": {
      "image/png": {
       "height": 480,
       "width": 600
      }
     },
     "output_type": "display_data"
    }
   ],
   "source": [
    "rel = 'Between long-distance lovers'\n",
    "radar_plot_CHN(rel,USA_33d_pca_5c,CHN_33d_pca_5c)\n",
    "png(\"../../output_graph/USA_CHN/radar_exchange.png\", bg=\"transparent\",\n",
    "    family = 'sans',units='in',width=10,height=10,res=300)\n",
    "radar_plot_CHN_label(rel,USA_33d_pca_5c,CHN_33d_pca_5c)\n",
    "dev.off()"
   ]
  },
  {
   "cell_type": "code",
   "execution_count": 11,
   "id": "5bb372d3",
   "metadata": {
    "ExecuteTime": {
     "end_time": "2022-12-26T03:46:35.877295Z",
     "start_time": "2022-12-26T03:46:33.034Z"
    }
   },
   "outputs": [],
   "source": [
    "# rel = 'Between long-distance lovers'\n",
    "# radar_plot_USA(rel,CHN_33d_pca_5c,USA_33d_pca_5c)\n",
    "# radar_plot_USA_label(rel,CHN_33d_pca_5c,USA_33d_pca_5c)"
   ]
  },
  {
   "cell_type": "code",
   "execution_count": 12,
   "id": "a3d8f0f3",
   "metadata": {
    "ExecuteTime": {
     "end_time": "2022-12-26T03:46:35.981942Z",
     "start_time": "2022-12-26T03:46:33.036Z"
    }
   },
   "outputs": [
    {
     "data": {
      "text/html": [
       "<table class=\"dataframe\">\n",
       "<caption>A data.frame: 4 × 5</caption>\n",
       "<thead>\n",
       "\t<tr><th></th><th scope=col>Formality</th><th scope=col>Activeness</th><th scope=col>Valence</th><th scope=col>Exchange</th><th scope=col>Equality</th></tr>\n",
       "\t<tr><th></th><th scope=col>&lt;dbl&gt;</th><th scope=col>&lt;dbl&gt;</th><th scope=col>&lt;dbl&gt;</th><th scope=col>&lt;dbl&gt;</th><th scope=col>&lt;dbl&gt;</th></tr>\n",
       "</thead>\n",
       "<tbody>\n",
       "\t<tr><th scope=row>max</th><td> 0.8996691</td><td> 0.8996691</td><td> 0.899669076</td><td> 0.8996691</td><td> 0.8996691</td></tr>\n",
       "\t<tr><th scope=row>min</th><td>-0.9007506</td><td>-0.9007506</td><td>-0.900750557</td><td>-0.9007506</td><td>-0.9007506</td></tr>\n",
       "\t<tr><th scope=row>USA</th><td> 0.8996691</td><td> 0.8620518</td><td> 0.519123894</td><td>-0.9007506</td><td> 0.4174383</td></tr>\n",
       "\t<tr><th scope=row>CHN</th><td> 0.7182272</td><td> 0.7081380</td><td>-0.008347692</td><td> 0.7035551</td><td>-0.2048663</td></tr>\n",
       "</tbody>\n",
       "</table>\n"
      ],
      "text/latex": [
       "A data.frame: 4 × 5\n",
       "\\begin{tabular}{r|lllll}\n",
       "  & Formality & Activeness & Valence & Exchange & Equality\\\\\n",
       "  & <dbl> & <dbl> & <dbl> & <dbl> & <dbl>\\\\\n",
       "\\hline\n",
       "\tmax &  0.8996691 &  0.8996691 &  0.899669076 &  0.8996691 &  0.8996691\\\\\n",
       "\tmin & -0.9007506 & -0.9007506 & -0.900750557 & -0.9007506 & -0.9007506\\\\\n",
       "\tUSA &  0.8996691 &  0.8620518 &  0.519123894 & -0.9007506 &  0.4174383\\\\\n",
       "\tCHN &  0.7182272 &  0.7081380 & -0.008347692 &  0.7035551 & -0.2048663\\\\\n",
       "\\end{tabular}\n"
      ],
      "text/markdown": [
       "\n",
       "A data.frame: 4 × 5\n",
       "\n",
       "| <!--/--> | Formality &lt;dbl&gt; | Activeness &lt;dbl&gt; | Valence &lt;dbl&gt; | Exchange &lt;dbl&gt; | Equality &lt;dbl&gt; |\n",
       "|---|---|---|---|---|---|\n",
       "| max |  0.8996691 |  0.8996691 |  0.899669076 |  0.8996691 |  0.8996691 |\n",
       "| min | -0.9007506 | -0.9007506 | -0.900750557 | -0.9007506 | -0.9007506 |\n",
       "| USA |  0.8996691 |  0.8620518 |  0.519123894 | -0.9007506 |  0.4174383 |\n",
       "| CHN |  0.7182272 |  0.7081380 | -0.008347692 |  0.7035551 | -0.2048663 |\n",
       "\n"
      ],
      "text/plain": [
       "    Formality  Activeness Valence      Exchange   Equality  \n",
       "max  0.8996691  0.8996691  0.899669076  0.8996691  0.8996691\n",
       "min -0.9007506 -0.9007506 -0.900750557 -0.9007506 -0.9007506\n",
       "USA  0.8996691  0.8620518  0.519123894 -0.9007506  0.4174383\n",
       "CHN  0.7182272  0.7081380 -0.008347692  0.7035551 -0.2048663"
      ]
     },
     "metadata": {},
     "output_type": "display_data"
    },
    {
     "data": {
      "image/png": "[encoded data removed]",
      "text/plain": [
       "Plot with title \"\""
      ]
     },
     "metadata": {
      "image/png": {
       "height": 480,
       "width": 600
      }
     },
     "output_type": "display_data"
    }
   ],
   "source": [
    "rel = 'Team Captain and Team Members'\n",
    "radar_plot_CHN(rel,USA_33d_pca_5c,CHN_33d_pca_5c)\n",
    "#radar_plot_CHN_label(rel,USA_33d_pca_5c,CHN_33d_pca_5c)"
   ]
  }
 ],
 "metadata": {
  "kernelspec": {
   "display_name": "R",
   "language": "R",
   "name": "ir"
  },
  "language_info": {
   "codemirror_mode": "r",
   "file_extension": ".r",
   "mimetype": "text/x-r-source",
   "name": "R",
   "pygments_lexer": "r",
   "version": "4.1.2"
  },
  "latex_envs": {
   "LaTeX_envs_menu_present": true,
   "autoclose": false,
   "autocomplete": true,
   "bibliofile": "biblio.bib",
   "cite_by": "apalike",
   "current_citInitial": 1,
   "eqLabelWithNumbers": true,
   "eqNumInitial": 1,
   "hotkeys": {
    "equation": "Ctrl-E",
    "itemize": "Ctrl-I"
   },
   "labels_anchors": false,
   "latex_user_defs": false,
   "report_style_numbering": false,
   "user_envs_cfg": false
  },
  "toc": {
   "base_numbering": 1,
   "nav_menu": {},
   "number_sections": true,
   "sideBar": true,
   "skip_h1_title": false,
   "title_cell": "Table of Contents",
   "title_sidebar": "Contents",
   "toc_cell": false,
   "toc_position": {},
   "toc_section_display": true,
   "toc_window_display": true
  },
  "varInspector": {
   "cols": {
    "lenName": 16,
    "lenType": 16,
    "lenVar": 40
   },
   "kernels_config": {
    "python": {
     "delete_cmd_postfix": "",
     "delete_cmd_prefix": "del ",
     "library": "var_list.py",
     "varRefreshCmd": "print(var_dic_list())"
    },
    "r": {
     "delete_cmd_postfix": ") ",
     "delete_cmd_prefix": "rm(",
     "library": "var_list.r",
     "varRefreshCmd": "cat(var_dic_list()) "
    }
   },
   "types_to_exclude": [
    "module",
    "function",
    "builtin_function_or_method",
    "instance",
    "_Feature"
   ],
   "window_display": false
  }
 },
 "nbformat": 4,
 "nbformat_minor": 5
}
