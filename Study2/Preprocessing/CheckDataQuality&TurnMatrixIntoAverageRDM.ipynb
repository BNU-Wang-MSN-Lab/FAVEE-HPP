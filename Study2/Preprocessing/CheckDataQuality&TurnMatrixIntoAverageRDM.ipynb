{
 "cells": [
  {
   "cell_type": "code",
   "execution_count": 2,
   "id": "f3d4ee38",
   "metadata": {
    "ExecuteTime": {
     "end_time": "2022-12-23T08:40:12.591491Z",
     "start_time": "2022-12-23T08:40:11.389Z"
    }
   },
   "outputs": [],
   "source": [
    "library(psych)#melt\n",
    "library(vegan)#Mantel\n",
    "library(tidyverse)\n",
    "library(DescTools)#FisherZ\n",
    "\n",
    "library(reshape)\n",
    "library(ggplot2)"
   ]
  },
  {
   "cell_type": "code",
   "execution_count": 27,
   "id": "8c71f58d",
   "metadata": {
    "ExecuteTime": {
     "end_time": "2022-12-23T09:37:02.830269Z",
     "start_time": "2022-12-23T09:37:02.816Z"
    }
   },
   "outputs": [],
   "source": [
    "LOOCV_sig = function(ind_dir){\n",
    "    rsa = c()\n",
    "    sub = c()\n",
    "    p_value = c()\n",
    "    num = 6 # depend on files\n",
    "    for (one_dir in ind_dir){\n",
    "        # get the one left\n",
    "        dissim_one = read.csv(one_dir,row.names = 1)\n",
    "        sub = append(sub,strsplit(strsplit(one_dir,'/')[[1]][num],'.csv')[[1]][1])\n",
    "\n",
    "        # remove one subjects from all subjects\n",
    "        dissim_left_one = data.frame(matrix(rep(0,159*159),nrow=159,ncol=159))\n",
    "        ind_dir_left_one = ind_dir #after copy, the following revision didn't change raw data\n",
    "        ind_dir_left_one = ind_dir_left_one[-which(ind_dir_left_one == one_dir)]\n",
    "        for (left_one_dir in ind_dir_left_one){\n",
    "            dissim_temp = read.csv(left_one_dir,row.names = 1)\n",
    "            dissim_left_one = dissim_left_one + dissim_temp\n",
    "        }\n",
    "        dissim_left_one_avg = dissim_left_one/length(ind_dir_left_one) \n",
    "        # caculate the correlation between the one and others\n",
    "        # significance test is a permutation test.\n",
    "        rsa = append(rsa, mantel(dissim_one,dissim_left_one_avg,method = 'spearman')$statistic)\n",
    "        p_value = append(p_value,mantel(dissim_one,dissim_left_one_avg,method = 'spearman')$signif)\n",
    "    }\n",
    "    data_quality_df = data.frame(rsa,sub,p_value)\n",
    "    data_quality_df$'FDR' = p.adjust(data_quality_df$p_value,method = \"fdr\")\n",
    "    data_quality_df$'Bonferroni' = p.adjust(data_quality_df$p_value,method = \"bonferroni\")\n",
    "    \n",
    "    return(data_quality_df)\n",
    "}"
   ]
  },
  {
   "cell_type": "markdown",
   "id": "a160079d",
   "metadata": {},
   "source": [
    "# LOOCV: 159 relationships & 60 participants"
   ]
  },
  {
   "cell_type": "code",
   "execution_count": 28,
   "id": "67819136",
   "metadata": {
    "ExecuteTime": {
     "end_time": "2022-12-23T09:37:08.326291Z",
     "start_time": "2022-12-23T09:37:08.303Z"
    }
   },
   "outputs": [],
   "source": [
    "imp_ind_list = list.files('../output_data/individual/category/Subject_MA_RDMs_revised/', pattern = \"*.csv\")\n",
    "imp_ind_dir = c()\n",
    "for (ind in imp_ind_list){\n",
    "  imp_ind_dir = append(imp_ind_dir,paste('../output_data/individual/category/Subject_MA_RDMs_revised/',ind, sep = ''))\n",
    "}\n",
    "\n",
    "exp_ind_list = list.files('../output_data/individual/category/Subject_Category_RDMs_revised/', pattern = \"*.csv\")\n",
    "exp_ind_dir = c()\n",
    "for (ind in exp_ind_list){\n",
    "  exp_ind_dir = append(exp_ind_dir,paste('../output_data/individual/category/Subject_Category_RDMs_revised/',ind, sep = ''))\n",
    "}"
   ]
  },
  {
   "cell_type": "code",
   "execution_count": 29,
   "id": "0945247e",
   "metadata": {
    "ExecuteTime": {
     "end_time": "2022-12-23T09:55:31.139039Z",
     "start_time": "2022-12-23T09:37:14.915Z"
    }
   },
   "outputs": [],
   "source": [
    "exp_159r_60p_LOOCV = LOOCV_sig(exp_ind_dir)\n",
    "imp_159r_60p_LOOCV = LOOCV_sig(imp_ind_dir)"
   ]
  },
  {
   "cell_type": "code",
   "execution_count": 30,
   "id": "30252be8",
   "metadata": {
    "ExecuteTime": {
     "end_time": "2022-12-23T10:03:05.068229Z",
     "start_time": "2022-12-23T10:03:05.050Z"
    }
   },
   "outputs": [],
   "source": [
    "write.csv(exp_159r_60p_LOOCV,file = '../output_data/outlier_check/exp_159r_60p_LOOCV.csv')\n",
    "write.csv(imp_159r_60p_LOOCV,file = '../output_data/outlier_check/imp_159r_60p_LOOCV.csv')"
   ]
  },
  {
   "cell_type": "markdown",
   "id": "b2a2942b",
   "metadata": {},
   "source": [
    "# Outliers list"
   ]
  },
  {
   "cell_type": "markdown",
   "id": "8200fb36",
   "metadata": {},
   "source": [
    "Input results directly"
   ]
  },
  {
   "cell_type": "code",
   "execution_count": 32,
   "id": "c0448378",
   "metadata": {
    "ExecuteTime": {
     "end_time": "2022-12-23T10:03:12.973865Z",
     "start_time": "2022-12-23T10:03:12.957Z"
    }
   },
   "outputs": [],
   "source": [
    "exp_159r_60p_LOOCV = read.csv('../output_data/outlier_check/exp_159r_60p_LOOCV.csv',row.names=1)\n",
    "imp_159r_60p_LOOCV = read.csv('../output_data/outlier_check/imp_159r_60p_LOOCV.csv',row.names=1)"
   ]
  },
  {
   "cell_type": "code",
   "execution_count": 33,
   "id": "463887c7",
   "metadata": {
    "ExecuteTime": {
     "end_time": "2022-12-23T10:03:14.586107Z",
     "start_time": "2022-12-23T10:03:14.568Z"
    }
   },
   "outputs": [
    {
     "data": {
      "text/html": [
       "60"
      ],
      "text/latex": [
       "60"
      ],
      "text/markdown": [
       "60"
      ],
      "text/plain": [
       "[1] 60"
      ]
     },
     "metadata": {},
     "output_type": "display_data"
    }
   ],
   "source": [
    "sum(exp_159r_60p_LOOCV$sub == imp_159r_60p_LOOCV$sub)"
   ]
  },
  {
   "cell_type": "code",
   "execution_count": 35,
   "id": "dd1044f6",
   "metadata": {
    "ExecuteTime": {
     "end_time": "2022-12-23T10:03:23.227449Z",
     "start_time": "2022-12-23T10:03:23.207Z"
    }
   },
   "outputs": [],
   "source": [
    "exp_imp_r_value = data.frame(cbind(exp_159r_60p_LOOCV$sub,exp_159r_60p_LOOCV$rsa,imp_159r_60p_LOOCV$rsa))\n",
    "colnames(exp_imp_r_value) = c('sub','exp','imp')\n",
    "write.csv(exp_imp_r_value,file='../output_data/outlier_check/r_value_exp_imp.csv')\n",
    "\n",
    "exp_imp_r_value_melt = melt(exp_imp_r_value,id.vars = 'sub')\n",
    "colnames(exp_imp_r_value_melt) = c('sub','task','loocv_r')\n",
    "exp_imp_r_value_melt$loocv_r = as.numeric(exp_imp_r_value_melt$loocv_r)"
   ]
  },
  {
   "cell_type": "code",
   "execution_count": 37,
   "id": "7112ca78",
   "metadata": {
    "ExecuteTime": {
     "end_time": "2022-12-23T10:03:29.742722Z",
     "start_time": "2022-12-23T10:03:29.408Z"
    }
   },
   "outputs": [
    {
     "data": {
      "image/png": "[encoded data removed]",
      "text/plain": [
       "plot without title"
      ]
     },
     "metadata": {
      "image/png": {
       "height": 420,
       "width": 420
      }
     },
     "output_type": "display_data"
    }
   ],
   "source": [
    "ggplot(exp_imp_r_value_melt,aes(x=task,y=loocv_r))+\n",
    "geom_boxplot(aes(fill=task),lwd=1.25)+\n",
    "stat_summary(fun = mean, geom = \"point\", shape = 16, size=5,color='red')+\n",
    "geom_jitter(color=\"black\", size=2,alpha=0.5,\n",
    "            position = position_jitter(0.1))+\n",
    "geom_line(aes(group = sub),alpha=0.5,size=0.5) +\n",
    "\n",
    "ggtitle('LOOCV: 60 participants')+\n",
    "theme_bw()+\n",
    "theme(axis.title.x = element_text(size=16,face='bold'),\n",
    "      axis.title.y = element_text(size=16,face='bold'),\n",
    "      axis.text = element_text(size=16),\n",
    "      legend.key.size = unit(1,\"cm\"),\n",
    "      legend.title = element_text(size=16,face='bold'),\n",
    "      legend.text = element_text(size=18),\n",
    "      plot.title = element_text(hjust = 0.5,size=18))"
   ]
  },
  {
   "cell_type": "code",
   "execution_count": 42,
   "id": "d97316d5",
   "metadata": {
    "ExecuteTime": {
     "end_time": "2022-12-23T10:10:49.780308Z",
     "start_time": "2022-12-23T10:10:49.750Z"
    }
   },
   "outputs": [
    {
     "data": {
      "text/html": [
       "<table class=\"dataframe\">\n",
       "<caption>A data.frame: 0 × 5</caption>\n",
       "<thead>\n",
       "\t<tr><th scope=col>rsa</th><th scope=col>sub</th><th scope=col>p_value</th><th scope=col>FDR</th><th scope=col>Bonferroni</th></tr>\n",
       "\t<tr><th scope=col>&lt;dbl&gt;</th><th scope=col>&lt;chr&gt;</th><th scope=col>&lt;dbl&gt;</th><th scope=col>&lt;dbl&gt;</th><th scope=col>&lt;dbl&gt;</th></tr>\n",
       "</thead>\n",
       "<tbody>\n",
       "</tbody>\n",
       "</table>\n"
      ],
      "text/latex": [
       "A data.frame: 0 × 5\n",
       "\\begin{tabular}{lllll}\n",
       " rsa & sub & p\\_value & FDR & Bonferroni\\\\\n",
       " <dbl> & <chr> & <dbl> & <dbl> & <dbl>\\\\\n",
       "\\hline\n",
       "\\end{tabular}\n"
      ],
      "text/markdown": [
       "\n",
       "A data.frame: 0 × 5\n",
       "\n",
       "| rsa &lt;dbl&gt; | sub &lt;chr&gt; | p_value &lt;dbl&gt; | FDR &lt;dbl&gt; | Bonferroni &lt;dbl&gt; |\n",
       "|---|---|---|---|---|\n",
       "\n"
      ],
      "text/plain": [
       "     rsa sub p_value FDR Bonferroni"
      ]
     },
     "metadata": {},
     "output_type": "display_data"
    },
    {
     "data": {
      "text/html": [
       "<table class=\"dataframe\">\n",
       "<caption>A data.frame: 1 × 5</caption>\n",
       "<thead>\n",
       "\t<tr><th scope=col>rsa</th><th scope=col>sub</th><th scope=col>p_value</th><th scope=col>FDR</th><th scope=col>Bonferroni</th></tr>\n",
       "\t<tr><th scope=col>&lt;dbl&gt;</th><th scope=col>&lt;chr&gt;</th><th scope=col>&lt;dbl&gt;</th><th scope=col>&lt;dbl&gt;</th><th scope=col>&lt;dbl&gt;</th></tr>\n",
       "</thead>\n",
       "<tbody>\n",
       "\t<tr><td>-0.003611427</td><td>sub-692</td><td>0.579</td><td>0.579</td><td>1</td></tr>\n",
       "</tbody>\n",
       "</table>\n"
      ],
      "text/latex": [
       "A data.frame: 1 × 5\n",
       "\\begin{tabular}{lllll}\n",
       " rsa & sub & p\\_value & FDR & Bonferroni\\\\\n",
       " <dbl> & <chr> & <dbl> & <dbl> & <dbl>\\\\\n",
       "\\hline\n",
       "\t -0.003611427 & sub-692 & 0.579 & 0.579 & 1\\\\\n",
       "\\end{tabular}\n"
      ],
      "text/markdown": [
       "\n",
       "A data.frame: 1 × 5\n",
       "\n",
       "| rsa &lt;dbl&gt; | sub &lt;chr&gt; | p_value &lt;dbl&gt; | FDR &lt;dbl&gt; | Bonferroni &lt;dbl&gt; |\n",
       "|---|---|---|---|---|\n",
       "| -0.003611427 | sub-692 | 0.579 | 0.579 | 1 |\n",
       "\n"
      ],
      "text/plain": [
       "  rsa          sub     p_value FDR   Bonferroni\n",
       "1 -0.003611427 sub-692 0.579   0.579 1         "
      ]
     },
     "metadata": {},
     "output_type": "display_data"
    }
   ],
   "source": [
    "exp_159r_60p_LOOCV %>% filter(FDR>0.05)\n",
    "imp_159r_60p_LOOCV %>% filter(FDR>0.05)"
   ]
  },
  {
   "cell_type": "markdown",
   "id": "f38b2aa9",
   "metadata": {},
   "source": [
    "There was no significant correlation between the \"sub-692\" and the left average results of the participants. Consequently, we viewed \"sub-692\" as an outlier and remove this participant from the following analysis."
   ]
  },
  {
   "cell_type": "markdown",
   "id": "7515982f",
   "metadata": {},
   "source": [
    "# Turn Matrix into average RDM"
   ]
  },
  {
   "cell_type": "code",
   "execution_count": 1,
   "id": "1c0fa062",
   "metadata": {
    "ExecuteTime": {
     "end_time": "2022-12-23T10:15:21.475114Z",
     "start_time": "2022-12-23T10:15:21.213496Z"
    }
   },
   "outputs": [],
   "source": [
    "import pandas as pd\n",
    "import glob\n",
    "import numpy as np"
   ]
  },
  {
   "cell_type": "code",
   "execution_count": 2,
   "id": "e6814b71",
   "metadata": {
    "ExecuteTime": {
     "end_time": "2022-12-23T10:15:26.575116Z",
     "start_time": "2022-12-23T10:15:26.563114Z"
    }
   },
   "outputs": [],
   "source": [
    "#filter target subjects    \n",
    "def Filter(string, substr):\n",
    "    return [str for str in string if\n",
    "             any(sub in str for sub in substr)]"
   ]
  },
  {
   "cell_type": "code",
   "execution_count": 5,
   "id": "9f9483f1",
   "metadata": {
    "ExecuteTime": {
     "end_time": "2022-12-23T10:16:27.315340Z",
     "start_time": "2022-12-23T10:16:27.299298Z"
    }
   },
   "outputs": [],
   "source": [
    "input_dir = '../output_data/individual/'\n",
    "#All subjects\n",
    "#Explicit Categorization\n",
    "ca_subj_data_paths_all = []\n",
    "for file in glob.glob(input_dir + 'category/Subject_Category_RDMs_revised/*.csv'):\n",
    "    ca_subj_data_paths_all.append(file)\n",
    "\n",
    "#Implicit Categorization\n",
    "ma_subj_data_paths_all = []\n",
    "for file in glob.glob(input_dir + 'category/Subject_MA_RDMs_revised/*.csv'):\n",
    "    ma_subj_data_paths_all.append(file)"
   ]
  },
  {
   "cell_type": "code",
   "execution_count": 6,
   "id": "d06f2c55",
   "metadata": {
    "ExecuteTime": {
     "end_time": "2022-12-23T10:16:29.729241Z",
     "start_time": "2022-12-23T10:16:29.711235Z"
    }
   },
   "outputs": [
    {
     "name": "stdout",
     "output_type": "stream",
     "text": [
      "There were 60 participants in total.\n",
      "There were 59 participants in total after exclusion.\n"
     ]
    }
   ],
   "source": [
    "# remove poor participants\n",
    "sub_60p_list = [i.split('\\\\')[1].split('.')[0] for i in ca_subj_data_paths_all]\n",
    "print(f'There were {len(sub_60p_list)} participants in total.')\n",
    "\n",
    "poor_list = ['sub-692']\n",
    "sub_59p_list = [subj for subj in sub_60p_list if subj not in poor_list]\n",
    "print(f'There were {len(sub_59p_list)} participants in total after exclusion.')"
   ]
  },
  {
   "cell_type": "code",
   "execution_count": 8,
   "id": "65127145",
   "metadata": {
    "ExecuteTime": {
     "end_time": "2022-12-23T10:16:44.042016Z",
     "start_time": "2022-12-23T10:16:44.036016Z"
    }
   },
   "outputs": [
    {
     "name": "stdout",
     "output_type": "stream",
     "text": [
      "Found participants who finished dimension rating task: 14 participants.\n"
     ]
    }
   ],
   "source": [
    "#participants who finished dimension rating\n",
    "sub_file = glob.glob(input_dir + 'dimension/clean_results/dim_rel/*') \n",
    "sub_list = [i.split('\\\\')[1].split('.')[0] for i in sub_file]\n",
    "sub_list = [i.replace('soc','sub') for i in sub_list]\n",
    "print('Found participants who finished dimension rating task: '+str(len(sub_list))+' participants.')"
   ]
  },
  {
   "cell_type": "markdown",
   "id": "a4dc394e",
   "metadata": {},
   "source": [
    "all 59 participants"
   ]
  },
  {
   "cell_type": "code",
   "execution_count": 9,
   "id": "06626e21",
   "metadata": {
    "ExecuteTime": {
     "end_time": "2022-12-23T10:17:59.871522Z",
     "start_time": "2022-12-23T10:17:59.047347Z"
    }
   },
   "outputs": [
    {
     "name": "stdout",
     "output_type": "stream",
     "text": [
      "Explicit task:From 60 subjects filter 59 subjects.\n",
      "Implicit task:From 60 subjects filter 59 subjects.\n"
     ]
    }
   ],
   "source": [
    "#Explicit task\n",
    "ca_59p_data_paths = Filter(ca_subj_data_paths_all, sub_59p_list)\n",
    "print('Explicit task:From {} subjects filter {} subjects.'.format(len(ca_subj_data_paths_all),len(ca_59p_data_paths)))\n",
    "\n",
    "temp_df = pd.read_csv(ca_59p_data_paths[0], index_col=0)\n",
    "dissim_ctg_avg = np.zeros(temp_df.shape)\n",
    "\n",
    "for f in ca_59p_data_paths:\n",
    "    temp_df = pd.read_csv(f, index_col=0)\n",
    "    dissim_ctg_avg += np.array(temp_df)\n",
    "    \n",
    "dissim_ctg_avg = dissim_ctg_avg / len(ca_59p_data_paths)\n",
    "dissim_ctg_avg = pd.DataFrame(dissim_ctg_avg, index=temp_df.index, columns=temp_df.columns)\n",
    "dissim_ctg_avg_159 = dissim_ctg_avg\n",
    "dissim_ctg_avg_159.to_csv('../output_data/group/category/dissim_ctg_avg_159rel_all_59p.csv')\n",
    "\n",
    "#Implicit task\n",
    "ma_59p_data_paths = Filter(ma_subj_data_paths_all, sub_59p_list)\n",
    "print('Implicit task:From {} subjects filter {} subjects.'.format(len(ma_subj_data_paths_all),len(sub_59p_list)))\n",
    "\n",
    "temp_df = pd.read_csv(ma_59p_data_paths[0], index_col=0)\n",
    "dissim_mla_avg = np.zeros(temp_df.shape)\n",
    "\n",
    "for f in ma_59p_data_paths:\n",
    "    temp_df = pd.read_csv(f, index_col=0)\n",
    "    dissim_mla_avg += np.array(temp_df)\n",
    "    \n",
    "dissim_mla_avg = dissim_mla_avg / len(ma_59p_data_paths)\n",
    "dissim_mla_avg = pd.DataFrame(dissim_mla_avg, index=temp_df.index, columns=temp_df.columns)\n",
    "dissim_mla_avg_159 = dissim_mla_avg\n",
    "\n",
    "dissim_mla_avg_159.to_csv('../output_data/group/category/dissim_mla_avg_159rel_all_59p.csv')"
   ]
  }
 ],
 "metadata": {
  "kernelspec": {
   "display_name": "Python 3 (ipykernel)",
   "language": "python",
   "name": "python3"
  },
  "language_info": {
   "codemirror_mode": {
    "name": "ipython",
    "version": 3
   },
   "file_extension": ".py",
   "mimetype": "text/x-python",
   "name": "python",
   "nbconvert_exporter": "python",
   "pygments_lexer": "ipython3",
   "version": "3.9.13"
  },
  "toc": {
   "base_numbering": 1,
   "nav_menu": {},
   "number_sections": true,
   "sideBar": true,
   "skip_h1_title": false,
   "title_cell": "Table of Contents",
   "title_sidebar": "Contents",
   "toc_cell": false,
   "toc_position": {},
   "toc_section_display": true,
   "toc_window_display": true
  },
  "varInspector": {
   "cols": {
    "lenName": 16,
    "lenType": 16,
    "lenVar": 40
   },
   "kernels_config": {
    "python": {
     "delete_cmd_postfix": "",
     "delete_cmd_prefix": "del ",
     "library": "var_list.py",
     "varRefreshCmd": "print(var_dic_list())"
    },
    "r": {
     "delete_cmd_postfix": ") ",
     "delete_cmd_prefix": "rm(",
     "library": "var_list.r",
     "varRefreshCmd": "cat(var_dic_list()) "
    }
   },
   "types_to_exclude": [
    "module",
    "function",
    "builtin_function_or_method",
    "instance",
    "_Feature"
   ],
   "window_display": false
  }
 },
 "nbformat": 4,
 "nbformat_minor": 5
}
