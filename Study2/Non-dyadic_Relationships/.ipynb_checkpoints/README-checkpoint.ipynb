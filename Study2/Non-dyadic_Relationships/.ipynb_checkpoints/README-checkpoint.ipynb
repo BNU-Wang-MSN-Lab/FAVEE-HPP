{
 "cells": [
  {
   "cell_type": "markdown",
   "id": "e4c5472e",
   "metadata": {
    "hide_input": false
   },
   "source": [
    "# None-Dyadic social relationships"
   ]
  },
  {
   "cell_type": "markdown",
   "id": "985ffde4",
   "metadata": {},
   "source": [
    "## Rel_Dyadic"
   ]
  },
  {
   "cell_type": "markdown",
   "id": "430b48c1",
   "metadata": {},
   "source": [
    "* We performed the principal component analysis(PCA) on the datasets of dyadic relationships collected in USA and CHN, to measure the similarity between dyadic relationships and non-dyadic relationships. \n",
    "    * input_data - null\n",
    "    * output_data - here are cleaning results and pca results\n",
    "    * putput_graph - null\n",
    "    * raw_data - null\n",
    "* Codes\n",
    "> CHN_DataCleanPCA.ipynb - performed the data cleaning and PCA in data from China<br>\n",
    "> USA_DataCleanPCA.ipynb - performed the data cleaning and PCA in data from USA"
   ]
  },
  {
   "cell_type": "markdown",
   "id": "78a219e8",
   "metadata": {},
   "source": [
    "## Rel_Group"
   ]
  },
  {
   "cell_type": "markdown",
   "id": "503228ea",
   "metadata": {},
   "source": [
    "* We performed the principal component analysis(PCA) on the datasets of 40 group relationships collected in USA and CHN. \n",
    "    * input_data - here are two waves of raw data collected in China(Naodao) and one wave of raw data collected in USA(Cloud Research),<br> here are also \"group_relationships_fix_label.csv\" and \"qualtrics_question_key.csv\" to form a matrix with rows that are group relationships and columns that are evaluative features. \n",
    "    * output_data - here are cleaning results and pca results, dict_results could be helpful to display the variances of each evaluative features. \n",
    "    * putput_graph - figures of the scree and the pca loadings. \n",
    "    * raw_data - raw data from Naodao and Cloud Research. \n",
    "* Codes\n",
    "> CHN_DataCleanPCA_All_group.ipynb - performed the data cleaning and PCA in data from China(1st wave)<br>\n",
    "> CHN_DataCleanPCA_group.ipynb - performed the data cleaning and PCA in data from China(2ed wave)<br>\n",
    "> USA_DataCleanPCA_group.ipynb - performed the data cleaning and PCA in data from USA"
   ]
  },
  {
   "cell_type": "markdown",
   "id": "f82f3051",
   "metadata": {},
   "source": [
    "## Rel_Triadic"
   ]
  },
  {
   "cell_type": "markdown",
   "id": "2df2cf18",
   "metadata": {},
   "source": [
    "* We performed the principal component analysis(PCA) on the datasets of 34 triadic relationships collected in USA and CHN. \n",
    "    * input_data - here are two waves of raw data collected in China(Naodao) and one wave of raw data collected in USA(Cloud Research),<br> here are also \"triadic_relationships_fix_label.csv\" and \"qualtrics_question_key.csv\" to form a matrix with rows that are triadic relationships and columns that are evaluative features. \n",
    "    * output_data - here are cleaning results and pca results, dict_results could be helpful to display the variances of each evaluative features. \n",
    "    * putput_graph - figures of the scree and the pca loadings. \n",
    "    * raw_data - raw data from Naodao and Cloud Research. \n",
    "* Codes\n",
    "> CHN_DataCleanPCA_All_triadic.ipynb - performed the data cleaning and PCA in data from China(1st wave)<br>\n",
    "> CHN_DataCleanPCA_triadic.ipynb - performed the data cleaning and PCA in data from China(2ed wave)<br>\n",
    "> USA_DataCleanPCA_triadic.ipynb - performed the data cleaning and PCA in data from USA"
   ]
  },
  {
   "cell_type": "markdown",
   "id": "07f43575",
   "metadata": {},
   "source": [
    "## HSR_concat"
   ]
  },
  {
   "cell_type": "markdown",
   "id": "e4d6091c",
   "metadata": {},
   "source": [
    "* We concatenated the Group and Triadic relationships as the relationships we called \"none-dyadic relationships\" and output the results in the folder named \"Concat_Group_and_Triadic_All\", and then we performed the PCA and plotted the scattered plots to know more information about the none-dyadic relationships. \n",
    "    * input_data - data have been concatenated\n",
    "    * output_data - loadings and scores of the data of the none-dyadic relationships\n",
    "    * output_graph - figures of the loadings and the scatter plots\n",
    "* Codes\n",
    "> PCA_GT.ipynb - performed PCA in data from the USA<br>\n",
    "> usa_GT_scattered_plot.ipynb - scattered plots"
   ]
  },
  {
   "cell_type": "markdown",
   "id": "b287356d",
   "metadata": {},
   "source": [
    "## loading_rsa"
   ]
  },
  {
   "cell_type": "markdown",
   "id": "5ec73565",
   "metadata": {},
   "source": [
    "* We performed rsa to show the similarity of social relationships of different structure. \n",
    "    * output_data - chn & usa correlations\n",
    "    * output_graph - figures of the rsa results\n",
    "* Codes\n",
    "> RSA_33d_analysis.ipynb - performed the RSA among the dyadic relationships and the none-dyadic relationships and other relationships"
   ]
  }
 ],
 "metadata": {
  "kernelspec": {
   "display_name": "R",
   "language": "R",
   "name": "ir"
  },
  "language_info": {
   "codemirror_mode": "r",
   "file_extension": ".r",
   "mimetype": "text/x-r-source",
   "name": "R",
   "pygments_lexer": "r",
   "version": "4.3.1"
  },
  "toc": {
   "base_numbering": 1,
   "nav_menu": {},
   "number_sections": true,
   "sideBar": true,
   "skip_h1_title": false,
   "title_cell": "Table of Contents",
   "title_sidebar": "Contents",
   "toc_cell": false,
   "toc_position": {},
   "toc_section_display": true,
   "toc_window_display": false
  },
  "varInspector": {
   "cols": {
    "lenName": 16,
    "lenType": 16,
    "lenVar": 40
   },
   "kernels_config": {
    "python": {
     "delete_cmd_postfix": "",
     "delete_cmd_prefix": "del ",
     "library": "var_list.py",
     "varRefreshCmd": "print(var_dic_list())"
    },
    "r": {
     "delete_cmd_postfix": ") ",
     "delete_cmd_prefix": "rm(",
     "library": "var_list.r",
     "varRefreshCmd": "cat(var_dic_list()) "
    }
   },
   "types_to_exclude": [
    "module",
    "function",
    "builtin_function_or_method",
    "instance",
    "_Feature"
   ],
   "window_display": false
  }
 },
 "nbformat": 4,
 "nbformat_minor": 5
}
