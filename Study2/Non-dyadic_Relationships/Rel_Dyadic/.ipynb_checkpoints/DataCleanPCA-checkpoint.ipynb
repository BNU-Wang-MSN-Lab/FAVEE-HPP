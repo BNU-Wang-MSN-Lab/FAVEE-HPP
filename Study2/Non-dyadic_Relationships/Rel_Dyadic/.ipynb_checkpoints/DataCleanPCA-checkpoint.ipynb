{
 "cells": [
  {
   "cell_type": "markdown",
   "id": "7e248117",
   "metadata": {},
   "source": [
    "# PCA"
   ]
  },
  {
   "cell_type": "code",
   "execution_count": 1,
   "id": "a69426d6",
   "metadata": {
    "ExecuteTime": {
     "end_time": "2023-06-12T12:04:24.331692Z",
     "start_time": "2023-06-12T12:04:22.842Z"
    },
    "vscode": {
     "languageId": "r"
    }
   },
   "outputs": [
    {
     "name": "stderr",
     "output_type": "stream",
     "text": [
      "Loading required package: ggplot2\n",
      "\n",
      "Welcome! Want to learn more? See two factoextra-related books at https://goo.gl/ve3WBa\n",
      "\n",
      "\n",
      "Attaching package: 'psych'\n",
      "\n",
      "\n",
      "The following objects are masked from 'package:ggplot2':\n",
      "\n",
      "    %+%, alpha\n",
      "\n",
      "\n",
      "corrplot 0.92 loaded\n",
      "\n",
      "── \u001b[1mAttaching core tidyverse packages\u001b[22m ──────────────────────────────────────────────────────────────── tidyverse 2.0.0 ──\n",
      "\u001b[32m✔\u001b[39m \u001b[34mdplyr    \u001b[39m 1.1.2     \u001b[32m✔\u001b[39m \u001b[34mreadr    \u001b[39m 2.1.4\n",
      "\u001b[32m✔\u001b[39m \u001b[34mforcats  \u001b[39m 1.0.0     \u001b[32m✔\u001b[39m \u001b[34mstringr  \u001b[39m 1.5.0\n",
      "\u001b[32m✔\u001b[39m \u001b[34mlubridate\u001b[39m 1.9.2     \u001b[32m✔\u001b[39m \u001b[34mtibble   \u001b[39m 3.2.1\n",
      "\u001b[32m✔\u001b[39m \u001b[34mpurrr    \u001b[39m 1.0.2     \u001b[32m✔\u001b[39m \u001b[34mtidyr    \u001b[39m 1.3.0\n",
      "── \u001b[1mConflicts\u001b[22m ────────────────────────────────────────────────────────────────────────────────── tidyverse_conflicts() ──\n",
      "\u001b[31m✖\u001b[39m \u001b[34mpsych\u001b[39m::\u001b[32m%+%()\u001b[39m    masks \u001b[34mggplot2\u001b[39m::%+%()\n",
      "\u001b[31m✖\u001b[39m \u001b[34mpsych\u001b[39m::\u001b[32malpha()\u001b[39m  masks \u001b[34mggplot2\u001b[39m::alpha()\n",
      "\u001b[31m✖\u001b[39m \u001b[34mdplyr\u001b[39m::\u001b[32mfilter()\u001b[39m masks \u001b[34mstats\u001b[39m::filter()\n",
      "\u001b[31m✖\u001b[39m \u001b[34mdplyr\u001b[39m::\u001b[32mlag()\u001b[39m    masks \u001b[34mstats\u001b[39m::lag()\n",
      "\u001b[36mℹ\u001b[39m Use the conflicted package (\u001b[3m\u001b[34m<http://conflicted.r-lib.org/>\u001b[39m\u001b[23m) to force all conflicts to become errors\n",
      "\n",
      "Attaching package: 'reshape'\n",
      "\n",
      "\n",
      "The following object is masked from 'package:lubridate':\n",
      "\n",
      "    stamp\n",
      "\n",
      "\n",
      "The following object is masked from 'package:dplyr':\n",
      "\n",
      "    rename\n",
      "\n",
      "\n",
      "The following objects are masked from 'package:tidyr':\n",
      "\n",
      "    expand, smiths\n",
      "\n",
      "\n",
      "Loading required package: lattice\n",
      "\n",
      "\n",
      "Attaching package: 'nFactors'\n",
      "\n",
      "\n",
      "The following object is masked from 'package:lattice':\n",
      "\n",
      "    parallel\n",
      "\n",
      "\n"
     ]
    }
   ],
   "source": [
    "library(FactoMineR)\n",
    "library(factoextra)#fviz_eig\n",
    "library(psych)\n",
    "\n",
    "library(ggplot2)\n",
    "library(corrplot)\n",
    "library(RColorBrewer)\n",
    "\n",
    "library(tidyverse)\n",
    "library(reshape)#melt\n",
    "library(nFactors)#optimal number of components"
   ]
  },
  {
   "cell_type": "markdown",
   "id": "6e9b40bf",
   "metadata": {},
   "source": [
    "## optimal dimensions\n",
    "plotnScree:https://rdrr.io/cran/nFactors/src/R/plotnScree.R"
   ]
  },
  {
   "cell_type": "code",
   "execution_count": 2,
   "id": "fec07d6c",
   "metadata": {
    "ExecuteTime": {
     "end_time": "2023-06-12T12:04:27.450938Z",
     "start_time": "2023-06-12T12:04:27.433Z"
    },
    "vscode": {
     "languageId": "r"
    }
   },
   "outputs": [],
   "source": [
    "plotnScree <-\n",
    "function (nScree,\n",
    "          elbow = 3,\n",
    "          legend = TRUE,\n",
    "          ylab   = \"Eigenvalues\",\n",
    "          xlab   = \"Components\",\n",
    "          main   = \"Non Graphical Solutions to Scree Test\")\n",
    "          {\n",
    "   if (!inherits(nScree, \"nScree\"))  stop(\"Method is only for nScree objects\")\n",
    "   #if (!exists(\"legend\", mode=\"logical\") ) legend <- TRUE                                   # To develop\n",
    "   #if (!exists(\"ylab\"))                    ylab <- \"Eigenvalues\"                            # To develop\n",
    "   #if (!exists(\"xlab\"))                    xlab <- \"Components\"                             # To develop\n",
    "   #if (!exists(\"main\"))                    main <- \"Non Graphical Solutions to Scree Test\"  # To develop\n",
    "   if (nScree$Model == \"components\") nkaiser = \"Eigenvalues (>mean  = \" else nkaiser = \"Eigenvalues (>0 = \"\n",
    "   if (nScree$Model == \"factors\")  xlab   = \"Factors\"\n",
    "   par(col   = 1, pch = 1)     # Color and symbol for usual scree\n",
    "   par(mfrow = c(1,1),lwd=2)\n",
    "   eig        <- nScree$Analysis$Eigenvalues\n",
    "   k          <- 1:length(eig)\n",
    "   #plotuScree(x=eig, ...)                                                                   # To develop\n",
    "   plotuScree(x=eig, main=main, xlab=xlab, ylab=ylab)\n",
    "   nk         <- length(eig)\n",
    "   noc        <- nScree$Components$noc\n",
    "   vp.p       <- lm(eig[c(noc+1,nk)] ~ k[c(noc+1,nk)])\n",
    "   x          <- sum(c(1,1) * coef(vp.p))\n",
    "   y          <- sum(c(1,nk)* coef(vp.p))\n",
    "   par(col = 10)            # Color for optimal coordinates\n",
    "   lines(k[c(1,nk)],c(x,y),lwd=1.8)\n",
    "   par(col = 11,pch=2)            # Color and symbol for parallel analysis\n",
    "   lines(1:nk, nScree$Analysis$Par.Analysis, type = \"b\",lwd=1.8)\n",
    "   if (legend == TRUE) {\n",
    "     leg.txt  <- c(paste(\"Parallel Analysis (n = \",nScree$Components$nparallel,\")\"),\n",
    "                 c(paste(\"Kaiser-Guttman rule (n = \",nScree$Components$nkaiser,\")\")),\n",
    "                 c(paste(\"Cattell’s scree test (n = \",elbow,\")\")),\n",
    "                 c(paste(\"Optimal Coordinates (n = \",nScree$Components$noc,\")\")) )\n",
    "     legend(\"topright\",\n",
    "            legend   = leg.txt,\n",
    "            pch      = c('△','_','○','_'),\n",
    "            text.col = c(3,4,1,2), \n",
    "            col = c(3,4,1,2),\n",
    "            cex = 1.3)\n",
    "     }\n",
    "   naf        <-   nScree$Components$naf\n",
    "   text(x = noc ,    y = eig[noc],     label = \" (OC)\", cex = 1, adj = c(0,0), col = 2)\n",
    "#    text(x = naf + 1, y = eig[naf + 1], label = \" (AF)\", cex = .70, adj = c(0,0), col = 4)\n",
    "   }"
   ]
  },
  {
   "cell_type": "code",
   "execution_count": 3,
   "id": "7a24a72a",
   "metadata": {
    "ExecuteTime": {
     "end_time": "2023-06-12T12:04:35.437045Z",
     "start_time": "2023-06-12T12:04:28.711Z"
    },
    "vscode": {
     "languageId": "r"
    }
   },
   "outputs": [],
   "source": [
    "# import relationship dimension ratings scaled from the Data cleaning's output\n",
    "dim_rel_scaled = read.csv('output_data/cleaning_results/CHN_dim_rel_scaled_NLP_159r_33d.csv', row.names=1,encoding='UTF-8')\n",
    "\n",
    "# Parallel analysis, Optimal Coordinates, and  Cattell's Scree Test\n",
    "ev <- eigen(cor(dim_rel_scaled)) # get eigenvalues\n",
    "ap <- parallel(subject=nrow(dim_rel_scaled),var=ncol(dim_rel_scaled),model=\"components\",rep=5000,cent=.05) \n",
    "nS <- nScree(x=ev$values, model = \"components\",aparallel=ap$eigen$qevpea) # \"qevpea\" indicate 95 centile given cent=.05 "
   ]
  },
  {
   "cell_type": "code",
   "execution_count": 4,
   "id": "9b74e505",
   "metadata": {
    "ExecuteTime": {
     "end_time": "2023-06-12T12:04:36.456023Z",
     "start_time": "2023-06-12T12:04:36.431Z"
    },
    "vscode": {
     "languageId": "r"
    }
   },
   "outputs": [
    {
     "data": {
      "text/html": [
       "<style>\n",
       ".list-inline {list-style: none; margin:0; padding: 0}\n",
       ".list-inline>li {display: inline-block}\n",
       ".list-inline>li:not(:last-child)::after {content: \"\\00b7\"; padding: 0 .5ex}\n",
       "</style>\n",
       "<ol class=list-inline><li>0.436638065485008</li><li>0.658653673566326</li><li>0.74094011872895</li><li>0.802367155419622</li><li>0.849850599703369</li></ol>\n"
      ],
      "text/latex": [
       "\\begin{enumerate*}\n",
       "\\item 0.436638065485008\n",
       "\\item 0.658653673566326\n",
       "\\item 0.74094011872895\n",
       "\\item 0.802367155419622\n",
       "\\item 0.849850599703369\n",
       "\\end{enumerate*}\n"
      ],
      "text/markdown": [
       "1. 0.436638065485008\n",
       "2. 0.658653673566326\n",
       "3. 0.74094011872895\n",
       "4. 0.802367155419622\n",
       "5. 0.849850599703369\n",
       "\n",
       "\n"
      ],
      "text/plain": [
       "[1] 0.4366381 0.6586537 0.7409401 0.8023672 0.8498506"
      ]
     },
     "metadata": {},
     "output_type": "display_data"
    }
   ],
   "source": [
    "nS$Analysis$Cumu[1:5]"
   ]
  },
  {
   "cell_type": "code",
   "execution_count": 5,
   "id": "2a1455dc",
   "metadata": {
    "ExecuteTime": {
     "end_time": "2023-06-12T12:04:39.705260Z",
     "start_time": "2023-06-12T12:04:39.568Z"
    },
    "vscode": {
     "languageId": "r"
    }
   },
   "outputs": [
    {
     "data": {
      "image/png": "[encoded data removed]",
      "text/plain": [
       "plot without title"
      ]
     },
     "metadata": {
      "image/png": {
       "height": 480,
       "width": 480
      }
     },
     "output_type": "display_data"
    }
   ],
   "source": [
    "options(repr.plot.width=8,repr.plot.height=8)\n",
    "plotnScree(nS, elbow = 3,legend=TRUE, main = NULL)\n",
    "abline(h = 1, col=4, lty=1,lwd =1.8) # Kaiser-Guttman Rule"
   ]
  },
  {
   "cell_type": "code",
   "execution_count": 6,
   "id": "7e0f0467",
   "metadata": {
    "ExecuteTime": {
     "end_time": "2023-02-21T04:24:47.575634Z",
     "start_time": "2023-02-21T04:24:47.300Z"
    },
    "vscode": {
     "languageId": "r"
    }
   },
   "outputs": [
    {
     "data": {
      "text/html": [
       "<strong>png:</strong> 2"
      ],
      "text/latex": [
       "\\textbf{png:} 2"
      ],
      "text/markdown": [
       "**png:** 2"
      ],
      "text/plain": [
       "png \n",
       "  2 "
      ]
     },
     "metadata": {},
     "output_type": "display_data"
    }
   ],
   "source": [
    "png(\"output_graph/optimal_components.png\",\n",
    "    family = 'sans',units='in',width=8,height=8,res=300)\n",
    "plotnScree(nS,elbow = 3, legend=TRUE, main = NULL)\n",
    "abline(h = 1, col=4, lty=1,lwd =1.8) # Kaiser-Guttman Rule\n",
    "dev.off()"
   ]
  },
  {
   "cell_type": "markdown",
   "id": "4eb9fac7",
   "metadata": {},
   "source": [
    "## loading score"
   ]
  },
  {
   "cell_type": "code",
   "execution_count": 7,
   "id": "716cace8",
   "metadata": {
    "ExecuteTime": {
     "end_time": "2023-06-12T12:04:44.672369Z",
     "start_time": "2023-06-12T12:04:44.617Z"
    },
    "cell_style": "center",
    "vscode": {
     "languageId": "r"
    }
   },
   "outputs": [
    {
     "data": {
      "text/plain": [
       "\n",
       "Loadings:\n",
       "                           [,1]   [,2]   [,3]   [,4]   [,5]  \n",
       "Valence.Evaluation         -0.934  0.122                0.251\n",
       "Equality                   -0.160 -0.294 -0.860  0.185       \n",
       "Activity.Intensity         -0.447 -0.379         0.129  0.720\n",
       "Socioemotional             -0.379 -0.647         0.585  0.207\n",
       "Formality.and.Regulation    0.188  0.542  0.127 -0.748       \n",
       "Intimacy                   -0.655 -0.373         0.347  0.522\n",
       "Visibility                 -0.352               -0.804       \n",
       "Communal.Sharing           -0.584 -0.668         0.142  0.369\n",
       "Expected.Reciprocity       -0.394  0.736 -0.210 -0.161  0.122\n",
       "Strategic                   0.562  0.644        -0.331 -0.196\n",
       "Concreteness                       0.760  0.125         0.251\n",
       "Uniqueness                 -0.160 -0.519  0.139  0.492  0.553\n",
       "Love.Expression            -0.642 -0.546         0.308  0.344\n",
       "Information.Exchange       -0.651               -0.232  0.602\n",
       "Money.Exchange              0.177  0.931               -0.100\n",
       "Goods.Exchange              0.148  0.908               -0.220\n",
       "Service.Exchange           -0.285  0.816  0.245 -0.205       \n",
       "Attachment                 -0.690 -0.308         0.291  0.522\n",
       "Mating                     -0.246 -0.293         0.632  0.374\n",
       "Conflict                    0.953                      -0.109\n",
       "Negotiation                -0.485  0.424 -0.436         0.377\n",
       "Coercion                    0.904  0.163  0.216              \n",
       "Importance.for.society     -0.203         0.260 -0.743  0.375\n",
       "Importance.for.individuals -0.562 -0.213        -0.134  0.702\n",
       "Affiliation.Coalition      -0.794                       0.438\n",
       "Occupational                0.158  0.615  0.122 -0.691       \n",
       "Activeness                 -0.700 -0.116 -0.231  0.107  0.508\n",
       "Endurance                  -0.441 -0.492  0.193  0.162  0.513\n",
       "Synchronicity              -0.193  0.270 -0.401 -0.220  0.633\n",
       "Spatial.Distance           -0.323  0.122                0.755\n",
       "Morality                   -0.755 -0.238        -0.457  0.296\n",
       "Trust                      -0.843 -0.108        -0.139  0.447\n",
       "Generation.Gap             -0.136         0.916 -0.104       \n",
       "\n",
       "                [,1]  [,2]  [,3]  [,4]  [,5]\n",
       "SS loadings    9.275 7.241 2.360 4.175 5.172\n",
       "Proportion Var 0.281 0.219 0.072 0.127 0.157\n",
       "Cumulative Var 0.281 0.500 0.572 0.699 0.855"
      ]
     },
     "metadata": {},
     "output_type": "display_data"
    }
   ],
   "source": [
    "dim_rel.pca = prcomp(dim_rel_scaled)\n",
    "ncomp = 5\n",
    "\n",
    "loadings_none = dim_rel.pca$rotation[,1:ncomp]%*% diag(dim_rel.pca$sdev,ncomp,ncomp)\n",
    "scores_none = dim_rel.pca$x[,1:ncomp] \n",
    "\n",
    "loadings_var = varimax(loadings_none)$loadings\n",
    "scores_var = scale(scores_none) %*% varimax(loadings_none)$rotmat\n",
    "loadings_var\n",
    "\n",
    "write.csv(loadings_var,'output_data/pca_results/dyadic_loadings_var.csv')\n",
    "write.csv(scores_var,'output_data/pca_results/dyadic_scores_var.csv')"
   ]
  },
  {
   "cell_type": "code",
   "execution_count": 8,
   "id": "739eba3b",
   "metadata": {
    "ExecuteTime": {
     "end_time": "2023-02-21T04:24:52.499257Z",
     "start_time": "2023-02-21T04:24:52.467Z"
    },
    "vscode": {
     "languageId": "r"
    }
   },
   "outputs": [],
   "source": [
    "loadings_var = read.csv('output_data/pca_results/dyadic_loadings_var.csv',row.names=1)"
   ]
  },
  {
   "cell_type": "code",
   "execution_count": 9,
   "id": "52086f83",
   "metadata": {
    "ExecuteTime": {
     "end_time": "2023-02-21T04:25:02.118397Z",
     "start_time": "2023-02-21T04:25:01.924Z"
    },
    "vscode": {
     "languageId": "r"
    }
   },
   "outputs": [
    {
     "data": {
      "image/png": "[encoded data removed]",
      "text/plain": [
       "Plot with title \"\""
      ]
     },
     "metadata": {
      "image/png": {
       "height": 600,
       "width": 360
      }
     },
     "output_type": "display_data"
    }
   ],
   "source": [
    "loadings_var_reorder = as.data.frame(loadings_var[,1:ncomp])\n",
    "colnames(loadings_var_reorder) = c('Valence','Exchange','Equality','Formality','Activeness')\n",
    "\n",
    "#filter each row's max loading, and attribute it to correspnding column.\n",
    "order_list = c()\n",
    "for (row in c(1:33)){\n",
    "    temp_max = abs(loadings_var_reorder[row,1])\n",
    "    n = 1\n",
    "    for (col in c(2:5)){\n",
    "        temp = abs(loadings_var_reorder[row,col])\n",
    "        if (temp > temp_max){\n",
    "            temp_max = temp\n",
    "            n = col\n",
    "        }\n",
    "        \n",
    "    }\n",
    "    order_list[row] = n\n",
    "}\n",
    "loadings_var_reorder = loadings_var_reorder %>% mutate(order = order_list)\n",
    "RC1 = loadings_var_reorder %>% filter(order==1) %>% arrange(desc(Valence))\n",
    "RC2 = loadings_var_reorder %>% filter(order==2) %>% arrange(desc(Exchange))\n",
    "RC3 = loadings_var_reorder %>% filter(order==3) %>% arrange(desc(Equality))\n",
    "RC4 = loadings_var_reorder %>% filter(order==4) %>% arrange(desc(Formality))\n",
    "RC5 = loadings_var_reorder %>% filter(order==5) %>% arrange(desc(Activeness))\n",
    "\n",
    "loadings_var_reorder = rbind(RC1,RC2,RC3,RC4,RC5)\n",
    "loadings_var_reorder = loadings_var_reorder[1:5]\n",
    "\n",
    "options(repr.plot.width=6, repr.plot.height=10)\n",
    "my.breaks = c(seq(-1,1,by=0.01))\n",
    "corrplot(as.matrix(loadings_var_reorder),is.corr=FALSE,\n",
    "         tl.col = \"black\",tl.srt=60,tl.cex=1.1,family='sans',font=2,\n",
    "         col.lim = c(-1,1),cl.ratio = 0.4,cl.cex=1,\n",
    "         col = colorRampPalette(rev(brewer.pal(n=7,name =\"RdBu\")))(length(my.breaks)))"
   ]
  },
  {
   "cell_type": "code",
   "execution_count": 10,
   "id": "9ed79c4c",
   "metadata": {
    "ExecuteTime": {
     "end_time": "2023-02-21T04:25:04.920089Z",
     "start_time": "2023-02-21T04:25:04.716Z"
    },
    "vscode": {
     "languageId": "r"
    }
   },
   "outputs": [
    {
     "data": {
      "text/html": [
       "<strong>png:</strong> 2"
      ],
      "text/latex": [
       "\\textbf{png:} 2"
      ],
      "text/markdown": [
       "**png:** 2"
      ],
      "text/plain": [
       "png \n",
       "  2 "
      ]
     },
     "metadata": {},
     "output_type": "display_data"
    }
   ],
   "source": [
    "png(\"output_graph/dyadic_loading_bipolar.png\", bg=\"transparent\",\n",
    "    family = 'sans',units='in',width=6,height=10,res=300)\n",
    "colnames(loadings_var_reorder) = rep('',5)\n",
    "corrplot(as.matrix(loadings_var_reorder),is.corr=FALSE,\n",
    "         tl.col = \"black\",tl.srt=60,tl.cex=1.1,family='sans',font=2,\n",
    "         col.lim = c(-1,1),cl.ratio = 0.4,cl.cex=1,\n",
    "         col = colorRampPalette(rev(brewer.pal(n=7,name =\"RdBu\")))(100))\n",
    "dev.off()"
   ]
  },
  {
   "cell_type": "code",
   "execution_count": null,
   "id": "111863bf",
   "metadata": {
    "ExecuteTime": {
     "end_time": "2023-06-01T15:03:06.035058Z",
     "start_time": "2023-06-01T15:03:06.017Z"
    },
    "vscode": {
     "languageId": "r"
    }
   },
   "outputs": [],
   "source": [
    "dim_rel.pca = prcomp(dim_rel_scaled)\n",
    "ncomp = 2\n",
    "\n",
    "loadings_none = dim_rel.pca$rotation[,1:ncomp]\n",
    "scores_none = dim_rel.pca$x[,1:ncomp] \n",
    "\n",
    "rawLoadings = loadings_none %*% diag(dim_rel.pca$sdev,ncomp,ncomp)\n",
    "loadings_var = varimax(rawLoadings)$loadings\n",
    "scores_var = scale(scores_none) %*% varimax(rawLoadings)$rotmat\n",
    "\n",
    "write.csv(loadings_var,'output_data/pca_results/triadic_loadings_var_2c.csv')\n",
    "scores_var = as.data.frame(scores_var)\n",
    "write.csv(scores_var,'output_data/pca_results/triadic_scores_var_2c.csv')\n",
    "\n",
    "loadings_var_reorder = as.data.frame(loadings_var[,1:ncomp])\n",
    "colnames(loadings_var_reorder) = c('F1','F2')\n",
    "\n",
    "# filter each row's max loading, and attribute it to correspnding column.\n",
    "order_list = c()\n",
    "for (row in c(1:33)){\n",
    "     temp_max = abs(loadings_var_reorder[row,1])\n",
    "     n = 1\n",
    "     for (col in c(2)){\n",
    "         temp = abs(loadings_var_reorder[row,col])\n",
    "         if (temp > temp_max){\n",
    "             temp_max = temp\n",
    "             n = col\n",
    "         }\n",
    "        \n",
    "     }\n",
    "     order_list[row] = n\n",
    " }\n",
    " loadings_var_reorder = loadings_var_reorder %>% mutate(order = order_list)\n",
    " RC1 = loadings_var_reorder %>% filter(order==1) %>% arrange(desc(F1))\n",
    " RC2 = loadings_var_reorder %>% filter(order==2) %>% arrange(desc(F2))\n",
    "\n",
    " loadings_var_reorder = rbind(RC1,RC2)\n",
    " loadings_var_reorder = loadings_var_reorder[1:2]\n",
    "\n",
    " options(repr.plot.width=6, repr.plot.height=10)\n",
    " my.breaks = c(seq(-1,1,by=0.01))\n",
    " corrplot(as.matrix(loadings_var_reorder),is.corr=FALSE,\n",
    "          tl.col = \"black\",tl.srt=60,tl.cex=1.1,family='sans',font=2,\n",
    "          col.lim = c(-1,1),cl.ratio = 1.2,cl.cex=1,\n",
    "          col = colorRampPalette(rev(brewer.pal(n=7,name =\"RdBu\")))(length(my.breaks)))"
   ]
  },
  {
   "cell_type": "markdown",
   "id": "d09f59a9",
   "metadata": {},
   "source": [
    "## relationships score"
   ]
  },
  {
   "cell_type": "code",
   "execution_count": null,
   "id": "849b6caf",
   "metadata": {
    "ExecuteTime": {
     "end_time": "2023-06-10T11:35:58.606503Z",
     "start_time": "2023-06-10T11:35:58.558Z"
    },
    "vscode": {
     "languageId": "r"
    }
   },
   "outputs": [],
   "source": [
    "library(ggrepel)"
   ]
  },
  {
   "cell_type": "markdown",
   "id": "718fa9f4",
   "metadata": {},
   "source": [
    "### Formality-Activeness"
   ]
  },
  {
   "cell_type": "code",
   "execution_count": null,
   "id": "d9b30a5a",
   "metadata": {
    "ExecuteTime": {
     "end_time": "2023-06-10T11:36:00.090899Z",
     "start_time": "2023-06-10T11:36:00.062Z"
    },
    "vscode": {
     "languageId": "r"
    }
   },
   "outputs": [],
   "source": [
    "fix_label = function(rels){\n",
    "    rels = gsub(' and ','-',rels)\n",
    "    rels = gsub(' – ','-',rels)\n",
    "    rels = gsub('Between ','',rels)\n",
    "    return(rels)\n",
    "}"
   ]
  },
  {
   "cell_type": "code",
   "execution_count": null,
   "id": "baea15d1",
   "metadata": {
    "ExecuteTime": {
     "end_time": "2023-06-10T11:36:01.235567Z",
     "start_time": "2023-06-10T11:36:01.206Z"
    },
    "vscode": {
     "languageId": "r"
    }
   },
   "outputs": [],
   "source": [
    "scores_var = read.csv('output_data/pca_results/USA_scores_var.csv',row.names=1)"
   ]
  },
  {
   "cell_type": "code",
   "execution_count": null,
   "id": "6ca02a61",
   "metadata": {
    "ExecuteTime": {
     "end_time": "2023-06-10T11:36:03.628107Z",
     "start_time": "2023-06-10T11:36:03.590Z"
    },
    "vscode": {
     "languageId": "r"
    }
   },
   "outputs": [],
   "source": [
    "scores_var_plot = data.frame(scores_var)\n",
    "colnames(scores_var_plot) = c('Formality','Activeness','Valence','Exchange','Equality')\n",
    "scores_var_plot['Equality'] = -scores_var_plot['Equality']\n",
    "scores_var_plot['Valence'] = -scores_var_plot['Valence']\n",
    "\n",
    "scores_var_plot['rel'] = rownames(scores_var_plot)"
   ]
  },
  {
   "cell_type": "code",
   "execution_count": null,
   "id": "ea437bb2",
   "metadata": {
    "ExecuteTime": {
     "end_time": "2023-06-01T15:06:52.370671Z",
     "start_time": "2023-06-01T15:06:52.353Z"
    }
   },
   "outputs": [],
   "source": [
    "# temp = scores_var_plot[,1:5]\n",
    "# temp['Equality'] = -temp['Equality']\n",
    "# write.csv(temp,'output_data/USA_30d_scores_5D.csv')"
   ]
  },
  {
   "cell_type": "code",
   "execution_count": null,
   "id": "e04a81c7",
   "metadata": {
    "ExecuteTime": {
     "end_time": "2023-06-10T11:49:51.999115Z",
     "start_time": "2023-06-10T11:49:51.955Z"
    },
    "vscode": {
     "languageId": "r"
    }
   },
   "outputs": [],
   "source": [
    "show_rel_FA = c('Between Business Partners','Politician and Supporter',\n",
    "            'Wife and Husband','Parent and Infant','Between Co-workers',\n",
    "            'Between distant relatives',\n",
    "            'Officer and Soldier','Between divorced spouses',\n",
    "            'Between Siblings','Man and God','Between strangers')\n",
    "\n",
    "show_rel_FA_df = scores_var_plot %>% filter(rel %in% show_rel_FA)\n",
    "# show_rel_FA_df = scores_var_plot %>% filter(Formality<0&Exchange>1)\n",
    "rel_fix = fix_label(show_rel_FA_df$'rel')\n",
    "#rel_fix = gsub('twins','Twins',rel_fix)\n",
    "rel_fix = gsub('strangers','Strangers',rel_fix)\n",
    "rel_fix = gsub('divorced spouses','Divorced spouses',rel_fix)\n",
    "rel_fix = gsub('soul-mates','Soul-mates',rel_fix)\n",
    "rel_fix = gsub('distant','Distant',rel_fix)\n",
    "show_rel_FA_df['rel'] = rel_fix"
   ]
  },
  {
   "cell_type": "code",
   "execution_count": null,
   "id": "8e8af469",
   "metadata": {
    "ExecuteTime": {
     "end_time": "2023-06-10T12:29:36.517791Z",
     "start_time": "2023-06-10T12:29:36.499Z"
    }
   },
   "outputs": [],
   "source": [
    "# randomseed = 2022\n",
    "# options(repr.plot.height=10.82,repr.plot.width=13.3)\n",
    "# ggplot(scores_var_plot, aes(x=Formality,y=Exchange))+\n",
    "# geom_point(aes(size=Equality),color='#DAFD59',alpha=0.8)+\n",
    "# #scale_color_gradient(low = 'white',high = '#DAFD59')+\n",
    "# #guides(alpha=guide_legend(title = 'alpha:RC5:Equality(7.4%)'))+\n",
    "\n",
    "# geom_text_repel(data = show_rel_FA_df,\n",
    "#                 mapping=aes(label=rel),size=6,\n",
    "#                 seed = randomseed,\n",
    "#                 color='white',\n",
    "#                 #family='',\n",
    "#                 min.segment.length = Inf)+\n",
    "# # geom_point(data = show_rel_FA_df,aes(size=Equality),color='white',\n",
    "# #            shape=1,stroke=3)+\n",
    "# scale_size_continuous(range=c(0.1,12))+\n",
    "# #geom_rug(aes(color=Equality),color='#DAFD59')+\n",
    "\n",
    "\n",
    "# xlab('           Informal                                       RC1:Formality(25.4%)            Formal               ')+\n",
    "# ylab('       RC3:Exchange         ')+\n",
    "# geom_hline(yintercept = 1,linetype='dashed',size = 2,color='white')+\n",
    "# geom_hline(yintercept = 0,linetype='dashed',size = 2,color='white')+\n",
    "# geom_vline(xintercept = 0,linetype='dashed',size = 2,color='white')+\n",
    "# #ggtitle('USA_Study3')+\n",
    "# theme_bw()+\n",
    "# theme(panel.border=element_blank(),panel.grid=element_blank(),\n",
    "#       panel.background = element_rect(fill = 'black'), \n",
    "#       axis.title.x=element_text(size=28,face='bold'),\n",
    "#       axis.title.y=element_text(size=28,face='bold'),\n",
    "#       axis.text=element_text(size=28,face='bold'),\n",
    "#       legend.title=element_text(face=\"bold\",size=30),\n",
    "#       legend.position='top',#legend.key.height=unit(1,'cm')\n",
    "#       legend.text=element_text(face=\"bold\",size=20))+\n",
    "# labs(size = 'RC5-Equality(7.4%)')"
   ]
  },
  {
   "cell_type": "code",
   "execution_count": null,
   "id": "fa2c198e",
   "metadata": {
    "ExecuteTime": {
     "end_time": "2023-06-10T11:36:09.296967Z",
     "start_time": "2023-06-10T11:36:08.639Z"
    },
    "vscode": {
     "languageId": "r"
    }
   },
   "outputs": [],
   "source": [
    "randomseed = 2022\n",
    "options(repr.plot.height=10.82,repr.plot.width=13.3)\n",
    "ggplot(scores_var_plot, aes(x=Formality,y=Activeness))+\n",
    "geom_point(aes(size=Equality),color='#DAFD59',alpha=0.8)+\n",
    "#scale_color_gradient(low = 'white',high = '#DAFD59')+\n",
    "#guides(alpha=guide_legend(title = 'alpha:RC5:Equality(7.4%)'))+\n",
    "\n",
    "geom_text_repel(data = show_rel_FA_df,\n",
    "                mapping=aes(label=rel),size=12,\n",
    "                seed = randomseed,\n",
    "                fontface = 'bold',color='white',\n",
    "                #family='',\n",
    "                min.segment.length = Inf)+\n",
    "geom_point(data = show_rel_FA_df,aes(size=Equality),color='white',\n",
    "           shape=1,stroke=3)+\n",
    "scale_size_continuous(range=c(0.1,12))+\n",
    "#geom_rug(aes(color=Equality),color='#DAFD59')+\n",
    "\n",
    "xlim(-3.7,3)+\n",
    "xlab('           Informal                                       RC1:Formality(25.4%)            Formal               ')+\n",
    "ylab('   Distant    RC2:Activeness(15.7%)     Close    ')+\n",
    "\n",
    "geom_hline(yintercept = 0,linetype='dashed',size = 2,color='white')+\n",
    "geom_vline(xintercept = 0,linetype='dashed',size = 2,color='white')+\n",
    "#ggtitle('USA_Study3')+\n",
    "theme_bw()+\n",
    "theme(panel.border=element_blank(),panel.grid=element_blank(),\n",
    "      panel.background = element_rect(fill = 'black'), \n",
    "      axis.title.x=element_text(size=28,face='bold'),\n",
    "      axis.title.y=element_text(size=28,face='bold'),\n",
    "      axis.text=element_text(size=28,face='bold'),\n",
    "      legend.title=element_text(face=\"bold\",size=30),\n",
    "      legend.position='top',#legend.key.height=unit(1,'cm')\n",
    "      legend.text=element_text(face=\"bold\",size=20))+\n",
    "labs(size = 'RC5-Equality(7.4%)')"
   ]
  },
  {
   "cell_type": "code",
   "execution_count": null,
   "id": "8a138f5b",
   "metadata": {
    "ExecuteTime": {
     "end_time": "2023-01-19T03:33:09.211749Z",
     "start_time": "2023-01-19T03:33:08.735Z"
    },
    "vscode": {
     "languageId": "r"
    }
   },
   "outputs": [],
   "source": [
    "png(\"output_graph/study1_scatter_FA.png\", bg=\"black\",\n",
    "     family = 'sans',units='in',width=14,height=13,res=300)\n",
    "ggplot(scores_var_plot, aes(x=Formality,y=Activeness))+\n",
    "geom_point(aes(size=Equality),color='#DAFD59',alpha=0.8)+\n",
    "geom_point(data = show_rel_FA_df,aes(size=Equality),color='white',\n",
    "           shape=1,stroke=3)+\n",
    "scale_size_continuous(range=c(0.1,12))+\n",
    "guides(size=guide_legend(title = ''))+\n",
    "\n",
    "xlim(-3.7,3)+\n",
    "# xlab('           Informal                                       RC1:Formality(25.4%)                       Formal               ')+\n",
    "# ylab('   Inactive    RC2:Activeness(15.7%)     Active    ')+\n",
    "xlab('')+\n",
    "ylab('')+\n",
    "\n",
    "geom_hline(yintercept = 0,linetype='dashed',size = 2,color='white')+\n",
    "geom_vline(xintercept = 0,linetype='dashed',size = 2,color='white')+\n",
    "#ggtitle('USA_Study3')+\n",
    "theme_bw()+\n",
    "theme(panel.border=element_blank(),panel.grid=element_blank(),\n",
    "      panel.background = element_rect(fill = 'black'), \n",
    "      axis.line=element_line(color='white',size=2),\n",
    "#       axis.title.x=element_text(size=45,face='bold',),\n",
    "#       axis.title.y=element_text(size=45,face='bold'),\n",
    "      axis.text=element_text(size=28,face='bold',color='white'),\n",
    "#       legend.title=element_text(face=\"bold\",size=45),\n",
    "      legend.position='top',#legend.key.height=unit(1,'cm')\n",
    "      legend.text=element_text(face=\"bold\",size=20,color='white'),\n",
    "      legend.background=element_rect(fill='black'),\n",
    "      legend.key=element_rect(fill='black'),\n",
    "      plot.background = element_rect(fill = 'black'))\n",
    "\n",
    "dev.off()"
   ]
  },
  {
   "cell_type": "markdown",
   "id": "030236f6",
   "metadata": {},
   "source": [
    "### Valence-Exchange"
   ]
  },
  {
   "cell_type": "code",
   "execution_count": null,
   "id": "6ad4fa22",
   "metadata": {
    "ExecuteTime": {
     "end_time": "2023-02-21T13:12:51.492908Z",
     "start_time": "2023-02-21T13:12:51.432Z"
    },
    "vscode": {
     "languageId": "r"
    }
   },
   "outputs": [],
   "source": [
    "show_rel_VE = c('Bully and Victim','Dealer and Buyer','Celebrity and Haters',\n",
    "            'Reader and Writer','Slave and Master','Customer and Server',\n",
    "            'Between ex-lovers','Between church members','Prostitute and Customer',\n",
    "            'Between sports rivals','Brother and Sister','Between pen-friends')\n",
    "\n",
    "show_rel_VE_df = scores_var_plot %>% filter(rel %in% show_rel_VE)\n",
    "\n",
    "rel_fix = fix_label(show_rel_VE_df$'rel')\n",
    "rel_fix = gsub('pen-friends','Pen-friends',rel_fix)\n",
    "rel_fix = gsub('romantic','Romantic',rel_fix)\n",
    "rel_fix = gsub('sports rivals','Sports rivals',rel_fix)\n",
    "rel_fix = gsub('ex-lovers','Ex-lovers',rel_fix)\n",
    "#rel_fix = gsub('close','Close',rel_fix)\n",
    "rel_fix = gsub('church','Church',rel_fix)\n",
    "\n",
    "show_rel_VE_df['rel'] = rel_fix"
   ]
  },
  {
   "cell_type": "code",
   "execution_count": null,
   "id": "6045742b",
   "metadata": {
    "ExecuteTime": {
     "end_time": "2023-02-21T13:12:53.973043Z",
     "start_time": "2023-02-21T13:12:53.434Z"
    },
    "vscode": {
     "languageId": "r"
    }
   },
   "outputs": [],
   "source": [
    "randomseed = 2022\n",
    "options(repr.plot.height=10.82,repr.plot.width=13.3)\n",
    "ggplot(scores_var_plot, aes(x=Valence,y=Exchange))+\n",
    "geom_point(aes(size=Equality),color='#DAFD59',alpha=0.8)+\n",
    "#scale_color_gradient(low = 'white',high = '#DAFD59')+\n",
    "scale_size_continuous(range=c(0.1,12))+\n",
    "\n",
    "geom_text_repel(data = show_rel_VE_df,\n",
    "                mapping=aes(label=rel),size=12,\n",
    "                seed = randomseed,\n",
    "                fontface = 'bold',color='white',nudge_y=0.15,\n",
    "                #family='',\n",
    "                min.segment.length = Inf)+\n",
    "geom_point(data = show_rel_VE_df,color='white',aes(size=Equality),\n",
    "           shape=1,stroke=3)+\n",
    "#geom_rug(aes(color=Equality),size=2)+\n",
    "\n",
    "xlim(-3.7,3)+\n",
    "xlab('Conflict                            RC3:Valence(16.6%)         Harmony')+\n",
    "ylab('     Symbolic    RC4:Exchange(17.5%)   Concrete          ')+\n",
    "\n",
    "geom_hline(yintercept = 0,linetype='dashed',size = 2,color='white')+\n",
    "geom_vline(xintercept = 0,linetype='dashed',size = 2,color='white')+\n",
    "\n",
    "theme_bw()+\n",
    "theme(panel.border=element_blank(),panel.grid=element_blank(),\n",
    "      panel.background = element_rect(fill = 'black'),\n",
    "      axis.title.x=element_text(size=28,face='bold'),\n",
    "      axis.title.y=element_text(size=28,face='bold'),\n",
    "      axis.text=element_text(size=28,face='bold'),\n",
    "      legend.title=element_text(face=\"bold\",size=30),\n",
    "      legend.position='top',\n",
    "      legend.text=element_text(face=\"bold\",size=20))+\n",
    "labs(size = 'RC5-Equality(7.4%)',color='')"
   ]
  },
  {
   "cell_type": "code",
   "execution_count": null,
   "id": "fb0ab62e",
   "metadata": {
    "ExecuteTime": {
     "end_time": "2023-01-19T03:33:02.392452Z",
     "start_time": "2023-01-19T03:33:01.922Z"
    },
    "vscode": {
     "languageId": "r"
    }
   },
   "outputs": [],
   "source": [
    "png(\"output_graph/study1_scatter_VE.png\", bg=\"transparent\",\n",
    "    family = 'sans',units='in',width=14,height=13,res=300)\n",
    "\n",
    "ggplot(scores_var_plot, aes(x=Valence,y=Exchange))+\n",
    "geom_point(aes(size=Equality),color='#DAFD59',alpha=0.8)+\n",
    "geom_point(data = show_rel_VE_df,color='white',aes(size=Equality),\n",
    "           shape=1,stroke=3)+\n",
    "scale_size_continuous(range=c(0.1,12))+\n",
    "\n",
    "xlim(-3.7,3)+\n",
    "# xlab('Negative                                          RC3:Valence(16.6%)                      Positive')+\n",
    "# ylab('     Symbolic    RC4:Exchange(17.5%)   Concrete          ')+\n",
    "xlab('')+\n",
    "ylab('')+\n",
    "geom_hline(yintercept = 0,linetype='dashed',size = 2,color='white')+\n",
    "geom_vline(xintercept = 0,linetype='dashed',size = 2,color='white')+\n",
    "\n",
    "theme_bw()+\n",
    "theme(panel.border=element_blank(),panel.grid=element_blank(),\n",
    "      panel.background = element_rect(fill = 'black'),\n",
    "      axis.line=element_line(color='white',size=2),\n",
    "#       axis.title.x=element_text(size=45,face='bold'),\n",
    "#       axis.title.y=element_text(size=45,face='bold'),\n",
    "      axis.text=element_text(size=28,face='bold',color='white'),\n",
    "#       legend.title=element_text(face=\"bold\",size=45),\n",
    "      legend.position='top',\n",
    "      legend.text=element_text(face=\"bold\",size=20),\n",
    "      legend.background=element_rect(fill='black'),\n",
    "      legend.key=element_rect(fill='black'),\n",
    "      plot.background=element_rect(fill='black'))\n",
    "\n",
    "dev.off()"
   ]
  }
 ],
 "metadata": {
  "kernelspec": {
   "display_name": "R",
   "language": "R",
   "name": "ir"
  },
  "language_info": {
   "codemirror_mode": "r",
   "file_extension": ".r",
   "mimetype": "text/x-r-source",
   "name": "R",
   "pygments_lexer": "r",
   "version": "4.3.1"
  },
  "latex_envs": {
   "LaTeX_envs_menu_present": true,
   "autoclose": false,
   "autocomplete": true,
   "bibliofile": "biblio.bib",
   "cite_by": "apalike",
   "current_citInitial": 1,
   "eqLabelWithNumbers": true,
   "eqNumInitial": 1,
   "hotkeys": {
    "equation": "Ctrl-E",
    "itemize": "Ctrl-I"
   },
   "labels_anchors": false,
   "latex_user_defs": false,
   "report_style_numbering": false,
   "user_envs_cfg": false
  },
  "toc": {
   "base_numbering": 1,
   "nav_menu": {},
   "number_sections": true,
   "sideBar": true,
   "skip_h1_title": false,
   "title_cell": "Table of Contents",
   "title_sidebar": "Contents",
   "toc_cell": false,
   "toc_position": {},
   "toc_section_display": true,
   "toc_window_display": true
  },
  "varInspector": {
   "cols": {
    "lenName": 16,
    "lenType": 16,
    "lenVar": 40
   },
   "kernels_config": {
    "python": {
     "delete_cmd_postfix": "",
     "delete_cmd_prefix": "del ",
     "library": "var_list.py",
     "varRefreshCmd": "print(var_dic_list())"
    },
    "r": {
     "delete_cmd_postfix": ") ",
     "delete_cmd_prefix": "rm(",
     "library": "var_list.r",
     "varRefreshCmd": "cat(var_dic_list()) "
    }
   },
   "types_to_exclude": [
    "module",
    "function",
    "builtin_function_or_method",
    "instance",
    "_Feature"
   ],
   "window_display": false
  }
 },
 "nbformat": 4,
 "nbformat_minor": 5
}
