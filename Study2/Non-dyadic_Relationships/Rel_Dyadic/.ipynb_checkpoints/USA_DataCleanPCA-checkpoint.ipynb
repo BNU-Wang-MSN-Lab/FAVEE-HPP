{
 "cells": [
  {
   "cell_type": "markdown",
   "id": "7e248117",
   "metadata": {},
   "source": [
    "# PCA"
   ]
  },
  {
   "cell_type": "code",
   "execution_count": 1,
   "id": "a69426d6",
   "metadata": {
    "ExecuteTime": {
     "end_time": "2023-06-12T12:04:24.331692Z",
     "start_time": "2023-06-12T12:04:22.842Z"
    },
    "vscode": {
     "languageId": "r"
    }
   },
   "outputs": [
    {
     "name": "stderr",
     "output_type": "stream",
     "text": [
      "Loading required package: ggplot2\n",
      "\n",
      "Welcome! Want to learn more? See two factoextra-related books at https://goo.gl/ve3WBa\n",
      "\n",
      "\n",
      "Attaching package: 'psych'\n",
      "\n",
      "\n",
      "The following objects are masked from 'package:ggplot2':\n",
      "\n",
      "    %+%, alpha\n",
      "\n",
      "\n",
      "corrplot 0.92 loaded\n",
      "\n",
      "── \u001b[1mAttaching core tidyverse packages\u001b[22m ──────────────────────────────────────────────────────────────── tidyverse 2.0.0 ──\n",
      "\u001b[32m✔\u001b[39m \u001b[34mdplyr    \u001b[39m 1.1.2     \u001b[32m✔\u001b[39m \u001b[34mreadr    \u001b[39m 2.1.4\n",
      "\u001b[32m✔\u001b[39m \u001b[34mforcats  \u001b[39m 1.0.0     \u001b[32m✔\u001b[39m \u001b[34mstringr  \u001b[39m 1.5.0\n",
      "\u001b[32m✔\u001b[39m \u001b[34mlubridate\u001b[39m 1.9.2     \u001b[32m✔\u001b[39m \u001b[34mtibble   \u001b[39m 3.2.1\n",
      "\u001b[32m✔\u001b[39m \u001b[34mpurrr    \u001b[39m 1.0.2     \u001b[32m✔\u001b[39m \u001b[34mtidyr    \u001b[39m 1.3.0\n",
      "── \u001b[1mConflicts\u001b[22m ────────────────────────────────────────────────────────────────────────────────── tidyverse_conflicts() ──\n",
      "\u001b[31m✖\u001b[39m \u001b[34mpsych\u001b[39m::\u001b[32m%+%()\u001b[39m    masks \u001b[34mggplot2\u001b[39m::%+%()\n",
      "\u001b[31m✖\u001b[39m \u001b[34mpsych\u001b[39m::\u001b[32malpha()\u001b[39m  masks \u001b[34mggplot2\u001b[39m::alpha()\n",
      "\u001b[31m✖\u001b[39m \u001b[34mdplyr\u001b[39m::\u001b[32mfilter()\u001b[39m masks \u001b[34mstats\u001b[39m::filter()\n",
      "\u001b[31m✖\u001b[39m \u001b[34mdplyr\u001b[39m::\u001b[32mlag()\u001b[39m    masks \u001b[34mstats\u001b[39m::lag()\n",
      "\u001b[36mℹ\u001b[39m Use the conflicted package (\u001b[3m\u001b[34m<http://conflicted.r-lib.org/>\u001b[39m\u001b[23m) to force all conflicts to become errors\n",
      "\n",
      "Attaching package: 'reshape'\n",
      "\n",
      "\n",
      "The following object is masked from 'package:lubridate':\n",
      "\n",
      "    stamp\n",
      "\n",
      "\n",
      "The following object is masked from 'package:dplyr':\n",
      "\n",
      "    rename\n",
      "\n",
      "\n",
      "The following objects are masked from 'package:tidyr':\n",
      "\n",
      "    expand, smiths\n",
      "\n",
      "\n",
      "Loading required package: lattice\n",
      "\n",
      "\n",
      "Attaching package: 'nFactors'\n",
      "\n",
      "\n",
      "The following object is masked from 'package:lattice':\n",
      "\n",
      "    parallel\n",
      "\n",
      "\n"
     ]
    }
   ],
   "source": [
    "library(FactoMineR)\n",
    "library(factoextra)#fviz_eig\n",
    "library(psych)\n",
    "\n",
    "library(ggplot2)\n",
    "library(corrplot)\n",
    "library(RColorBrewer)\n",
    "\n",
    "library(tidyverse)\n",
    "library(reshape)#melt\n",
    "library(nFactors)#optimal number of components"
   ]
  },
  {
   "cell_type": "markdown",
   "id": "6e9b40bf",
   "metadata": {},
   "source": [
    "## optimal dimensions\n",
    "plotnScree:https://rdrr.io/cran/nFactors/src/R/plotnScree.R"
   ]
  },
  {
   "cell_type": "code",
   "execution_count": 2,
   "id": "fec07d6c",
   "metadata": {
    "ExecuteTime": {
     "end_time": "2023-06-12T12:04:27.450938Z",
     "start_time": "2023-06-12T12:04:27.433Z"
    },
    "vscode": {
     "languageId": "r"
    }
   },
   "outputs": [],
   "source": [
    "plotnScree <-\n",
    "function (nScree,\n",
    "          elbow = 3,\n",
    "          legend = TRUE,\n",
    "          ylab   = \"Eigenvalues\",\n",
    "          xlab   = \"Components\",\n",
    "          main   = \"Non Graphical Solutions to Scree Test\")\n",
    "          {\n",
    "   if (!inherits(nScree, \"nScree\"))  stop(\"Method is only for nScree objects\")\n",
    "   if (nScree$Model == \"components\") nkaiser = \"Eigenvalues (>mean  = \" else nkaiser = \"Eigenvalues (>0 = \"\n",
    "   if (nScree$Model == \"factors\")  xlab   = \"Factors\"\n",
    "   par(col   = 1, pch = 1)     # Color and symbol for usual scree\n",
    "   par(mfrow = c(1,1),lwd=2)\n",
    "   eig        <- nScree$Analysis$Eigenvalues\n",
    "   k          <- 1:length(eig)\n",
    "   #plotuScree(x=eig, ...)                                                                   # To develop\n",
    "   plotuScree(x=eig, main=main, xlab=xlab, ylab=ylab)\n",
    "   nk         <- length(eig)\n",
    "   noc        <- nScree$Components$noc\n",
    "   vp.p       <- lm(eig[c(noc+1,nk)] ~ k[c(noc+1,nk)])\n",
    "   x          <- sum(c(1,1) * coef(vp.p))\n",
    "   y          <- sum(c(1,nk)* coef(vp.p))\n",
    "   par(col = 10)            # Color for optimal coordinates\n",
    "   lines(k[c(1,nk)],c(x,y),lwd=1.8)\n",
    "   par(col = 11,pch=2)            # Color and symbol for parallel analysis\n",
    "   lines(1:nk, nScree$Analysis$Par.Analysis, type = \"b\",lwd=1.8)\n",
    "   if (legend == TRUE) {\n",
    "     leg.txt  <- c(paste(\"Parallel Analysis (n = \",nScree$Components$nparallel,\")\"),\n",
    "                 c(paste(\"Kaiser-Guttman rule (n = \",nScree$Components$nkaiser,\")\")),\n",
    "                 c(paste(\"Cattell’s scree test (n = \",elbow,\")\")),\n",
    "                 c(paste(\"Optimal Coordinates (n = \",nScree$Components$noc,\")\")) )\n",
    "     legend(\"topright\",\n",
    "            legend   = leg.txt,\n",
    "            pch      = c('△','_','○','_'),\n",
    "            text.col = c(3,4,1,2), \n",
    "            col = c(3,4,1,2),\n",
    "            cex = 1.3)\n",
    "     }\n",
    "   naf        <-   nScree$Components$naf\n",
    "   text(x = noc ,    y = eig[noc],     label = \" (OC)\", cex = 1, adj = c(0,0), col = 2)\n",
    "   }"
   ]
  },
  {
   "cell_type": "code",
   "execution_count": 3,
   "id": "7a24a72a",
   "metadata": {
    "ExecuteTime": {
     "end_time": "2023-06-12T12:04:35.437045Z",
     "start_time": "2023-06-12T12:04:28.711Z"
    },
    "vscode": {
     "languageId": "r"
    }
   },
   "outputs": [],
   "source": [
    "# import relationship dimension ratings scaled from the Data cleaning's output\n",
    "dim_rel_scaled = read.csv('output_data/cleaning_results/USA_combine_dim_rel_scaled_33d.csv', row.names=1,encoding='UTF-8')\n",
    "\n",
    "# Parallel analysis, Optimal Coordinates, and  Cattell's Scree Test\n",
    "ev <- eigen(cor(dim_rel_scaled)) # get eigenvalues\n",
    "ap <- parallel(subject=nrow(dim_rel_scaled),var=ncol(dim_rel_scaled),model=\"components\",rep=5000,cent=.05) \n",
    "nS <- nScree(x=ev$values, model = \"components\",aparallel=ap$eigen$qevpea) # \"qevpea\" indicate 95 centile given cent=.05 "
   ]
  },
  {
   "cell_type": "code",
   "execution_count": 4,
   "id": "9b74e505",
   "metadata": {
    "ExecuteTime": {
     "end_time": "2023-06-12T12:04:36.456023Z",
     "start_time": "2023-06-12T12:04:36.431Z"
    },
    "vscode": {
     "languageId": "r"
    }
   },
   "outputs": [
    {
     "data": {
      "text/html": [
       "<style>\n",
       ".list-inline {list-style: none; margin:0; padding: 0}\n",
       ".list-inline>li {display: inline-block}\n",
       ".list-inline>li:not(:last-child)::after {content: \"\\00b7\"; padding: 0 .5ex}\n",
       "</style>\n",
       "<ol class=list-inline><li>0.403115601141853</li><li>0.628547036144261</li><li>0.708535944142216</li><li>0.779093152232315</li><li>0.822684235647046</li></ol>\n"
      ],
      "text/latex": [
       "\\begin{enumerate*}\n",
       "\\item 0.403115601141853\n",
       "\\item 0.628547036144261\n",
       "\\item 0.708535944142216\n",
       "\\item 0.779093152232315\n",
       "\\item 0.822684235647046\n",
       "\\end{enumerate*}\n"
      ],
      "text/markdown": [
       "1. 0.403115601141853\n",
       "2. 0.628547036144261\n",
       "3. 0.708535944142216\n",
       "4. 0.779093152232315\n",
       "5. 0.822684235647046\n",
       "\n",
       "\n"
      ],
      "text/plain": [
       "[1] 0.4031156 0.6285470 0.7085359 0.7790932 0.8226842"
      ]
     },
     "metadata": {},
     "output_type": "display_data"
    }
   ],
   "source": [
    "nS$Analysis$Cumu[1:5]"
   ]
  },
  {
   "cell_type": "code",
   "execution_count": 5,
   "id": "2a1455dc",
   "metadata": {
    "ExecuteTime": {
     "end_time": "2023-06-12T12:04:39.705260Z",
     "start_time": "2023-06-12T12:04:39.568Z"
    },
    "vscode": {
     "languageId": "r"
    }
   },
   "outputs": [
    {
     "data": {
      "image/png": "[encoded data removed]",
      "text/plain": [
       "plot without title"
      ]
     },
     "metadata": {
      "image/png": {
       "height": 480,
       "width": 480
      }
     },
     "output_type": "display_data"
    }
   ],
   "source": [
    "options(repr.plot.width=8,repr.plot.height=8)\n",
    "plotnScree(nS, elbow = 3,legend=TRUE, main = NULL)\n",
    "abline(h = 1, col=4, lty=1,lwd =1.8) # Kaiser-Guttman Rule"
   ]
  },
  {
   "cell_type": "markdown",
   "id": "4eb9fac7",
   "metadata": {},
   "source": [
    "## loading score"
   ]
  },
  {
   "cell_type": "code",
   "execution_count": 6,
   "id": "716cace8",
   "metadata": {
    "ExecuteTime": {
     "end_time": "2023-06-12T12:04:44.672369Z",
     "start_time": "2023-06-12T12:04:44.617Z"
    },
    "cell_style": "center",
    "vscode": {
     "languageId": "r"
    }
   },
   "outputs": [
    {
     "data": {
      "text/plain": [
       "\n",
       "Loadings:\n",
       "                           [,1]   [,2]   [,3]   [,4]   [,5]  \n",
       "Valence.Evaluation         -0.245  0.368  0.831  0.179       \n",
       "Equality                   -0.337 -0.138  0.177 -0.214 -0.790\n",
       "Activity.Intensity         -0.634  0.637  0.173 -0.152       \n",
       "Socioemotional             -0.840         0.273 -0.317 -0.233\n",
       "Formality.and.Regulation    0.836  0.107 -0.131  0.315  0.261\n",
       "Intimacy                   -0.859  0.292  0.203        -0.122\n",
       "Visibility                  0.759  0.142        -0.289 -0.147\n",
       "Communal.Sharing           -0.662  0.296  0.403 -0.444 -0.231\n",
       "Expected.Reciprocity       -0.314  0.410  0.490        -0.605\n",
       "Strategic                   0.787        -0.212  0.468       \n",
       "Concreteness                0.328  0.196         0.809  0.128\n",
       "Uniqueness                 -0.738  0.353        -0.128       \n",
       "Love.Expression            -0.760  0.239  0.452 -0.286 -0.126\n",
       "Information.Exchange        0.107  0.714  0.497              \n",
       "Money.Exchange              0.341                0.850       \n",
       "Goods.Exchange                            0.217  0.785 -0.153\n",
       "Service.Exchange            0.504  0.278  0.147  0.649  0.352\n",
       "Attachment                 -0.727  0.396  0.443 -0.210       \n",
       "Mating                     -0.791                0.146 -0.134\n",
       "Conflict                    0.123 -0.101 -0.915 -0.125       \n",
       "Negotiation                        0.237         0.570 -0.558\n",
       "Coercion                    0.162        -0.880         0.167\n",
       "Importance.for.society      0.268  0.537  0.220         0.328\n",
       "Importance.for.individuals -0.509  0.607  0.424 -0.145       \n",
       "Affiliation.Coalition      -0.266  0.424  0.713 -0.169 -0.183\n",
       "Occupational                0.810  0.207         0.334  0.268\n",
       "Activeness                 -0.280  0.852         0.127 -0.107\n",
       "Endurance                  -0.659  0.306  0.374 -0.284       \n",
       "Synchronicity                      0.861         0.110 -0.158\n",
       "Spatial.Distance                   0.906         0.149       \n",
       "Morality                           0.920  0.207              \n",
       "Trust                      -0.130  0.905  0.253              \n",
       "Generation.Gap                     0.872         0.143  0.160\n",
       "\n",
       "                [,1]  [,2]  [,3]  [,4]  [,5]\n",
       "SS loadings    8.868 7.665 4.667 4.061 2.060\n",
       "Proportion Var 0.269 0.232 0.141 0.123 0.062\n",
       "Cumulative Var 0.269 0.501 0.642 0.765 0.828"
      ]
     },
     "metadata": {},
     "output_type": "display_data"
    }
   ],
   "source": [
    "dim_rel.pca = prcomp(dim_rel_scaled)\n",
    "ncomp = 5\n",
    "\n",
    "loadings_none = dim_rel.pca$rotation[,1:ncomp]%*% diag(dim_rel.pca$sdev,ncomp,ncomp)\n",
    "scores_none = dim_rel.pca$x[,1:ncomp] \n",
    "\n",
    "loadings_var = varimax(loadings_none)$loadings\n",
    "scores_var = scale(scores_none) %*% varimax(loadings_none)$rotmat\n",
    "loadings_var\n",
    "\n",
    "write.csv(loadings_var,'output_data/pca_results/usa_dyadic_loadings_var.csv')\n",
    "write.csv(scores_var,'output_data/pca_results/usa_dyadic_scores_var.csv')"
   ]
  },
  {
   "cell_type": "code",
   "execution_count": 7,
   "id": "739eba3b",
   "metadata": {
    "ExecuteTime": {
     "end_time": "2023-02-21T04:24:52.499257Z",
     "start_time": "2023-02-21T04:24:52.467Z"
    },
    "vscode": {
     "languageId": "r"
    }
   },
   "outputs": [],
   "source": [
    "loadings_var = read.csv('output_data/pca_results/usa_dyadic_loadings_var.csv',row.names=1)"
   ]
  },
  {
   "cell_type": "code",
   "execution_count": 8,
   "id": "52086f83",
   "metadata": {
    "ExecuteTime": {
     "end_time": "2023-02-21T04:25:02.118397Z",
     "start_time": "2023-02-21T04:25:01.924Z"
    },
    "vscode": {
     "languageId": "r"
    }
   },
   "outputs": [
    {
     "data": {
      "image/png": "[encoded data removed]",
      "text/plain": [
       "Plot with title \"\""
      ]
     },
     "metadata": {
      "image/png": {
       "height": 600,
       "width": 360
      }
     },
     "output_type": "display_data"
    }
   ],
   "source": [
    "loadings_var_reorder = as.data.frame(loadings_var[,1:ncomp])\n",
    "colnames(loadings_var_reorder) = c('Formality','Activeness','Valence','Exchange','Equality')\n",
    "\n",
    "#filter each row's max loading, and attribute it to correspnding column.\n",
    "order_list = c()\n",
    "for (row in c(1:33)){\n",
    "    temp_max = abs(loadings_var_reorder[row,1])\n",
    "    n = 1\n",
    "    for (col in c(2:5)){\n",
    "        temp = abs(loadings_var_reorder[row,col])\n",
    "        if (temp > temp_max){\n",
    "            temp_max = temp\n",
    "            n = col\n",
    "        }\n",
    "        \n",
    "    }\n",
    "    order_list[row] = n\n",
    "}\n",
    "loadings_var_reorder = loadings_var_reorder %>% mutate(order = order_list)\n",
    "RC1 = loadings_var_reorder %>% filter(order==1) %>% arrange(desc(Formality))\n",
    "RC2 = loadings_var_reorder %>% filter(order==2) %>% arrange(desc(Activeness))\n",
    "RC3 = loadings_var_reorder %>% filter(order==3) %>% arrange(desc(Valence))\n",
    "RC4 = loadings_var_reorder %>% filter(order==4) %>% arrange(desc(Exchange))\n",
    "RC5 = loadings_var_reorder %>% filter(order==5) %>% arrange(desc(Equality))\n",
    "\n",
    "loadings_var_reorder = rbind(RC1,RC2,RC3,RC4,RC5)\n",
    "loadings_var_reorder = loadings_var_reorder[1:5]\n",
    "\n",
    "options(repr.plot.width=6, repr.plot.height=10)\n",
    "my.breaks = c(seq(-1,1,by=0.01))\n",
    "corrplot(as.matrix(loadings_var_reorder),is.corr=FALSE,\n",
    "         tl.col = \"black\",tl.srt=60,tl.cex=1.1,family='sans',font=2,\n",
    "         col.lim = c(-1,1),cl.ratio = 0.4,cl.cex=1,\n",
    "         col = colorRampPalette(rev(brewer.pal(n=7,name =\"RdBu\")))(length(my.breaks)))"
   ]
  }
 ],
 "metadata": {
  "kernelspec": {
   "display_name": "R",
   "language": "R",
   "name": "ir"
  },
  "language_info": {
   "codemirror_mode": "r",
   "file_extension": ".r",
   "mimetype": "text/x-r-source",
   "name": "R",
   "pygments_lexer": "r",
   "version": "4.3.1"
  },
  "latex_envs": {
   "LaTeX_envs_menu_present": true,
   "autoclose": false,
   "autocomplete": true,
   "bibliofile": "biblio.bib",
   "cite_by": "apalike",
   "current_citInitial": 1,
   "eqLabelWithNumbers": true,
   "eqNumInitial": 1,
   "hotkeys": {
    "equation": "Ctrl-E",
    "itemize": "Ctrl-I"
   },
   "labels_anchors": false,
   "latex_user_defs": false,
   "report_style_numbering": false,
   "user_envs_cfg": false
  },
  "toc": {
   "base_numbering": 1,
   "nav_menu": {},
   "number_sections": true,
   "sideBar": true,
   "skip_h1_title": false,
   "title_cell": "Table of Contents",
   "title_sidebar": "Contents",
   "toc_cell": false,
   "toc_position": {},
   "toc_section_display": true,
   "toc_window_display": true
  },
  "varInspector": {
   "cols": {
    "lenName": 16,
    "lenType": 16,
    "lenVar": 40
   },
   "kernels_config": {
    "python": {
     "delete_cmd_postfix": "",
     "delete_cmd_prefix": "del ",
     "library": "var_list.py",
     "varRefreshCmd": "print(var_dic_list())"
    },
    "r": {
     "delete_cmd_postfix": ") ",
     "delete_cmd_prefix": "rm(",
     "library": "var_list.r",
     "varRefreshCmd": "cat(var_dic_list()) "
    }
   },
   "types_to_exclude": [
    "module",
    "function",
    "builtin_function_or_method",
    "instance",
    "_Feature"
   ],
   "window_display": false
  }
 },
 "nbformat": 4,
 "nbformat_minor": 5
}
