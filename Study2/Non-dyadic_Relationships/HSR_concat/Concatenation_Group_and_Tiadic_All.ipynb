{
 "cells": [
  {
   "cell_type": "code",
   "execution_count": 1,
   "id": "5d415d5c",
   "metadata": {},
   "outputs": [],
   "source": [
    "import pandas as pd\n",
    "import os\n",
    "import seaborn as sns\n",
    "import matplotlib.pyplot as plt\n",
    "import numpy as np\n",
    "\n",
    "from sklearn import manifold, preprocessing\n",
    "import warnings"
   ]
  },
  {
   "cell_type": "code",
   "execution_count": 2,
   "id": "e77a3800",
   "metadata": {},
   "outputs": [
    {
     "name": "stdout",
     "output_type": "stream",
     "text": [
      "(33, 40)\n",
      "(33, 34)\n",
      "(33, 74)\n"
     ]
    }
   ],
   "source": [
    "data_G = pd.read_csv(\"../Rel_Group/output_data/cleaning_results/chn_group_dim_rel_33d_all.csv\", index_col=0)\n",
    "data_T = pd.read_csv(\"../Rel_Triadic/output_data/cleaning_results/chn_triadic_dim_rel_33d_all.csv\", index_col=0)\n",
    "# Concatenate the two dataframes\n",
    "merged_dataGT = pd.concat([data_G, data_T], axis=1)\n",
    "# Save the merged dataframe to a new csv file\n",
    "merged_dataGT.to_csv(\"../HSR_concat/Concat_Group_and_Triadic_All/chn_GT_dim_rel_33d_all.csv\", index=True)\n",
    "# Show the Shape\n",
    "print(data_G.shape)\n",
    "print(data_T.shape)\n",
    "print(merged_dataGT.shape)"
   ]
  },
  {
   "cell_type": "code",
   "execution_count": 3,
   "id": "8e33dacc",
   "metadata": {},
   "outputs": [],
   "source": [
    "dim_rel_scaled = preprocessing.scale(merged_dataGT.transpose())\n",
    "dim_rel_scaled = pd.DataFrame(dim_rel_scaled,index=merged_dataGT.columns,columns=merged_dataGT.index)\n",
    "dim_rel_scaled.to_csv('../HSR_concat/Concat_Group_and_Triadic_All/chn_GT_dim_rel_scaled_33d_all.csv')"
   ]
  },
  {
   "cell_type": "code",
   "execution_count": 4,
   "id": "22341341",
   "metadata": {},
   "outputs": [
    {
     "name": "stdout",
     "output_type": "stream",
     "text": [
      "(33, 40)\n",
      "(33, 34)\n",
      "(33, 74)\n"
     ]
    }
   ],
   "source": [
    "data_G = pd.read_csv(\"../Rel_Group/output_data/cleaning_results/usa_group_dim_rel_33d.csv\", index_col=0)\n",
    "data_T = pd.read_csv(\"../Rel_Triadic/output_data/cleaning_results/usa_triadic_dim_rel_33d.csv\", index_col=0)\n",
    "# Concatenate the two dataframes\n",
    "merged_dataGT = pd.concat([data_G, data_T], axis=1)\n",
    "# Save the merged dataframe to a new csv file\n",
    "merged_dataGT.to_csv(\"../HSR_concat/Concat_Group_and_Triadic_All/usa_GT_dim_rel_33d.csv\", index=True)\n",
    "# Show the Shape\n",
    "print(data_G.shape)\n",
    "print(data_T.shape)\n",
    "print(merged_dataGT.shape)"
   ]
  },
  {
   "cell_type": "code",
   "execution_count": 5,
   "id": "76b0d395",
   "metadata": {},
   "outputs": [],
   "source": [
    "dim_rel_scaled = preprocessing.scale(merged_dataGT.transpose())\n",
    "dim_rel_scaled = pd.DataFrame(dim_rel_scaled,index=merged_dataGT.columns,columns=merged_dataGT.index)\n",
    "dim_rel_scaled.to_csv('../HSR_concat/Concat_Group_and_Triadic_All/usa_GT_dim_rel_scaled_33d.csv')"
   ]
  }
 ],
 "metadata": {
  "kernelspec": {
   "display_name": "text_analysis",
   "language": "python",
   "name": "text_analysis"
  },
  "language_info": {
   "codemirror_mode": {
    "name": "ipython",
    "version": 3
   },
   "file_extension": ".py",
   "mimetype": "text/x-python",
   "name": "python",
   "nbconvert_exporter": "python",
   "pygments_lexer": "ipython3",
   "version": "3.9.16"
  },
  "toc": {
   "base_numbering": 1,
   "nav_menu": {},
   "number_sections": true,
   "sideBar": true,
   "skip_h1_title": false,
   "title_cell": "Table of Contents",
   "title_sidebar": "Contents",
   "toc_cell": false,
   "toc_position": {},
   "toc_section_display": true,
   "toc_window_display": false
  },
  "varInspector": {
   "cols": {
    "lenName": 16,
    "lenType": 16,
    "lenVar": 40
   },
   "kernels_config": {
    "python": {
     "delete_cmd_postfix": "",
     "delete_cmd_prefix": "del ",
     "library": "var_list.py",
     "varRefreshCmd": "print(var_dic_list())"
    },
    "r": {
     "delete_cmd_postfix": ") ",
     "delete_cmd_prefix": "rm(",
     "library": "var_list.r",
     "varRefreshCmd": "cat(var_dic_list()) "
    }
   },
   "types_to_exclude": [
    "module",
    "function",
    "builtin_function_or_method",
    "instance",
    "_Feature"
   ],
   "window_display": false
  }
 },
 "nbformat": 4,
 "nbformat_minor": 5
}
