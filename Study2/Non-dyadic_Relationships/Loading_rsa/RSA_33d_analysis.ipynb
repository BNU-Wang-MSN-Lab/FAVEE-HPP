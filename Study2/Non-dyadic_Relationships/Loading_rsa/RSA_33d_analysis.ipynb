{
 "cells": [
  {
   "cell_type": "code",
   "execution_count": 2,
   "id": "69c13c1d",
   "metadata": {
    "ExecuteTime": {
     "end_time": "2023-10-07T13:29:38.126632Z",
     "start_time": "2023-10-07T13:29:38.106Z"
    },
    "vscode": {
     "languageId": "r"
    }
   },
   "outputs": [],
   "source": [
    "library(tidyverse)\n",
    "library(ggplot2)\n",
    "\n",
    "library(lsa) #cosine"
   ]
  },
  {
   "cell_type": "markdown",
   "id": "9af7a3be",
   "metadata": {},
   "source": [
    "Helper function"
   ]
  },
  {
   "cell_type": "code",
   "execution_count": 3,
   "id": "4a0cccc2",
   "metadata": {
    "ExecuteTime": {
     "end_time": "2023-10-07T13:29:39.640450Z",
     "start_time": "2023-10-07T13:29:39.622Z"
    },
    "vscode": {
     "languageId": "r"
    }
   },
   "outputs": [],
   "source": [
    "cosine_matrix = function(raw_data){\n",
    "    # dim*dim matrix caculated by cosine similarity\n",
    "    n <- nrow(raw_data)  # raw_data is an n x n matrix, 159*dimensions\n",
    "    # create an empty matrix to store cosine similarity\n",
    "    raw_data_cor <- matrix(0, nrow = n, ncol = n)\n",
    "    colnames(raw_data_cor) <- rownames(raw_data)\n",
    "    rownames(raw_data_cor) <- rownames(raw_data)\n",
    "    # calculate the cosine similarity of the upper triangular part\n",
    "    for (i in 1:(n - 1)) {\n",
    "        for (j in (i + 1):n) {\n",
    "            cosine_value <- cosine(as.numeric(raw_data[i, ]), as.numeric(raw_data[j, ]))\n",
    "            raw_data_cor[i, j] <- cosine_value\n",
    "        }\n",
    "    }\n",
    "    # symmetrically fill the cosine similarity in the lower triangular part\n",
    "    raw_data_cor <- raw_data_cor + t(raw_data_cor)\n",
    "\n",
    "    # set the diagonal to 1\n",
    "    diag(raw_data_cor) <- 1\n",
    "    return(raw_data_cor)\n",
    "}\n",
    "\n",
    "lowerTriangle <- function(m){\n",
    "  return(m[lower.tri(m,diag = FALSE)])\n",
    "}"
   ]
  },
  {
   "cell_type": "markdown",
   "id": "deeccddd",
   "metadata": {},
   "source": [
    "# USA"
   ]
  },
  {
   "cell_type": "code",
   "execution_count": 12,
   "id": "e0338353",
   "metadata": {
    "ExecuteTime": {
     "end_time": "2023-10-07T13:29:42.004098Z",
     "start_time": "2023-10-07T13:29:41.529Z"
    },
    "vscode": {
     "languageId": "r"
    }
   },
   "outputs": [],
   "source": [
    "dyadic_usa = read.csv('../Rel_Dyadic/output_data/pca_results/usa_dyadic_loadings_var.csv',row.names=1) \n",
    "dims_order = rownames(dyadic_usa)\n",
    "dyadic_usa_sim = cosine_matrix(dyadic_usa)\n",
    "\n",
    "triadic_usa = read.csv('../Rel_Triadic/output_data/pca_results/usa_triadic_loadings_var_all_5c.csv',row.names=1) \n",
    "triadic_usa = triadic_usa[dims_order,]\n",
    "triadic_usa_sim = cosine_matrix(triadic_usa)\n",
    "\n",
    "group_usa = read.csv('../Rel_Group/output_data/pca_results/usa_group_loadings_var_all_5c.csv',row.names=1) \n",
    "group_usa = group_usa[dims_order,]\n",
    "group_usa_sim = cosine_matrix(group_usa)\n",
    "\n",
    "nondyadic_usa = read.csv('../HSR_concat/Concat_Group_and_Triadic_All/output_data/usa_GTall_loadings_var.csv',row.names=1) \n",
    "nondyadic_usa = nondyadic_usa[dims_order,]\n",
    "nondyadic_usa_sim = cosine_matrix(nondyadic_usa)"
   ]
  },
  {
   "cell_type": "code",
   "execution_count": 13,
   "metadata": {
    "vscode": {
     "languageId": "r"
    }
   },
   "outputs": [
    {
     "data": {
      "text/html": [
       "<table class=\"dataframe\">\n",
       "<caption>A matrix: 4 × 4 of type dbl</caption>\n",
       "<thead>\n",
       "\t<tr><th></th><th scope=col>dyadic_usa_sim</th><th scope=col>triadic_usa_sim</th><th scope=col>group_usa_sim</th><th scope=col>nondyadic_usa_sim</th></tr>\n",
       "</thead>\n",
       "<tbody>\n",
       "\t<tr><th scope=row>dyadic_usa_sim</th><td>1.0000000</td><td>0.6710335</td><td>0.7553028</td><td>0.7326390</td></tr>\n",
       "\t<tr><th scope=row>triadic_usa_sim</th><td>0.6710335</td><td>1.0000000</td><td>0.6874608</td><td>0.9406679</td></tr>\n",
       "\t<tr><th scope=row>group_usa_sim</th><td>0.7553028</td><td>0.6874608</td><td>1.0000000</td><td>0.8588389</td></tr>\n",
       "\t<tr><th scope=row>nondyadic_usa_sim</th><td>0.7326390</td><td>0.9406679</td><td>0.8588389</td><td>1.0000000</td></tr>\n",
       "</tbody>\n",
       "</table>\n"
      ],
      "text/latex": [
       "A matrix: 4 × 4 of type dbl\n",
       "\\begin{tabular}{r|llll}\n",
       "  & dyadic\\_usa\\_sim & triadic\\_usa\\_sim & group\\_usa\\_sim & nondyadic\\_usa\\_sim\\\\\n",
       "\\hline\n",
       "\tdyadic\\_usa\\_sim & 1.0000000 & 0.6710335 & 0.7553028 & 0.7326390\\\\\n",
       "\ttriadic\\_usa\\_sim & 0.6710335 & 1.0000000 & 0.6874608 & 0.9406679\\\\\n",
       "\tgroup\\_usa\\_sim & 0.7553028 & 0.6874608 & 1.0000000 & 0.8588389\\\\\n",
       "\tnondyadic\\_usa\\_sim & 0.7326390 & 0.9406679 & 0.8588389 & 1.0000000\\\\\n",
       "\\end{tabular}\n"
      ],
      "text/markdown": [
       "\n",
       "A matrix: 4 × 4 of type dbl\n",
       "\n",
       "| <!--/--> | dyadic_usa_sim | triadic_usa_sim | group_usa_sim | nondyadic_usa_sim |\n",
       "|---|---|---|---|---|\n",
       "| dyadic_usa_sim | 1.0000000 | 0.6710335 | 0.7553028 | 0.7326390 |\n",
       "| triadic_usa_sim | 0.6710335 | 1.0000000 | 0.6874608 | 0.9406679 |\n",
       "| group_usa_sim | 0.7553028 | 0.6874608 | 1.0000000 | 0.8588389 |\n",
       "| nondyadic_usa_sim | 0.7326390 | 0.9406679 | 0.8588389 | 1.0000000 |\n",
       "\n"
      ],
      "text/plain": [
       "                  dyadic_usa_sim triadic_usa_sim group_usa_sim\n",
       "dyadic_usa_sim    1.0000000      0.6710335       0.7553028    \n",
       "triadic_usa_sim   0.6710335      1.0000000       0.6874608    \n",
       "group_usa_sim     0.7553028      0.6874608       1.0000000    \n",
       "nondyadic_usa_sim 0.7326390      0.9406679       0.8588389    \n",
       "                  nondyadic_usa_sim\n",
       "dyadic_usa_sim    0.7326390        \n",
       "triadic_usa_sim   0.9406679        \n",
       "group_usa_sim     0.8588389        \n",
       "nondyadic_usa_sim 1.0000000        "
      ]
     },
     "metadata": {},
     "output_type": "display_data"
    }
   ],
   "source": [
    "source_data = c('dyadic_usa_sim','triadic_usa_sim','group_usa_sim','nondyadic_usa_sim')\n",
    "sources = list()\n",
    "for (i in c(1:length(source_data))){\n",
    "    sources[[i]] = get(source_data[i])\n",
    "}\n",
    "\n",
    "source_rsa_cor = matrix(0,ncol=4,nrow=4)\n",
    "colnames(source_rsa_cor) = source_data\n",
    "rownames(source_rsa_cor) = source_data\n",
    "\n",
    "for (i in c(1:(length(source_data)-1))){\n",
    "    for (j in c((i+1):length(source_data))){\n",
    "        datax = lowerTriangle(sources[[i]])\n",
    "        datay = lowerTriangle(sources[[j]])\n",
    "        source_rsa_cor[i,j] = cor(datax,datay,method='spearman')\n",
    "    }\n",
    "}\n",
    "source_rsa_cor <- source_rsa_cor + t(source_rsa_cor)\n",
    "diag(source_rsa_cor) <- 1\n",
    "\n",
    "usa_rsa_cor = source_rsa_cor\n",
    "write.csv(usa_rsa_cor,'output_data/usa_rsa_cor.csv')\n",
    "usa_rsa_cor"
   ]
  },
  {
   "cell_type": "code",
   "execution_count": 14,
   "metadata": {
    "vscode": {
     "languageId": "r"
    }
   },
   "outputs": [
    {
     "name": "stdout",
     "output_type": "stream",
     "text": [
      "    group_usa_sim nondyadic_usa_sim   triadic_usa_sim \n",
      "        0.7553028         0.7326390         0.6710335 \n"
     ]
    },
    {
     "name": "stderr",
     "output_type": "stream",
     "text": [
      "Warning message:\n",
      "\"\u001b[1m\u001b[22mUsing `size` aesthetic for lines was deprecated in ggplot2 3.4.0.\n",
      "\u001b[36mi\u001b[39m Please use `linewidth` instead.\"\n"
     ]
    },
    {
     "data": {
      "image/png": "[encoded data removed]",
      "text/plain": [
       "plot without title"
      ]
     },
     "metadata": {
      "image/png": {
       "height": 360,
       "width": 720
      }
     },
     "output_type": "display_data"
    }
   ],
   "source": [
    "options(repr.plot.width = 12,repr.plot.height=6)\n",
    "value = usa_rsa_cor['dyadic_usa_sim',\n",
    "                    c('group_usa_sim','nondyadic_usa_sim','triadic_usa_sim')]\n",
    "print(value)\n",
    "data <- data.frame(\n",
    "  x_start = c(1, 1, 1),\n",
    "  y_start = c(1, 1, 1),\n",
    "  x_end = c(0, 1, 2),\n",
    "  y_end = c(0, 0, 0),\n",
    "  thickness = value*35\n",
    ")\n",
    "\n",
    "ggplot(data, aes(x = x_start, y = y_start, xend = x_end, yend = y_end, size = thickness, alpha = value*0.9)) +\n",
    "  scale_alpha_continuous(limits = c(0.5, 0.9))+\n",
    "  geom_segment() +\n",
    "  scale_size_identity() +\n",
    "  theme_void()"
   ]
  },
  {
   "cell_type": "markdown",
   "id": "e9dc5652",
   "metadata": {},
   "source": [
    "# CHN"
   ]
  },
  {
   "cell_type": "code",
   "execution_count": 15,
   "id": "a113f99d",
   "metadata": {
    "ExecuteTime": {
     "end_time": "2023-10-08T13:46:00.072640Z",
     "start_time": "2023-10-08T13:45:59.774Z"
    },
    "vscode": {
     "languageId": "r"
    }
   },
   "outputs": [],
   "source": [
    "dyadic_chn = read.csv('../Rel_Dyadic/output_data/pca_results/chn_dyadic_loadings_var.csv',row.names=1) \n",
    "dims_order = rownames(dyadic_chn)\n",
    "dyadic_chn_sim = cosine_matrix(dyadic_chn)\n",
    "\n",
    "triadic_chn = read.csv('../Rel_Triadic/output_data/pca_results/chn_triadic_loadings_var_all_5c.csv',row.names=1) \n",
    "triadic_chn = triadic_chn[dims_order,]\n",
    "triadic_chn_sim = cosine_matrix(triadic_chn)\n",
    "\n",
    "group_chn = read.csv('../Rel_Group/output_data/pca_results/chn_group_loadings_var_all_5c.csv',row.names=1) \n",
    "group_chn = group_chn[dims_order,]\n",
    "group_chn_sim = cosine_matrix(group_chn)\n",
    "\n",
    "nondyadic_chn = read.csv('../HSR_concat/Concat_Group_and_Triadic_All/output_data/chn_GTall_loadings_var_all.csv',row.names=1) \n",
    "nondyadic_chn = nondyadic_chn[dims_order,]\n",
    "nondyadic_chn_sim = cosine_matrix(nondyadic_chn)"
   ]
  },
  {
   "cell_type": "code",
   "execution_count": 16,
   "id": "ec673ed2",
   "metadata": {
    "ExecuteTime": {
     "end_time": "2023-10-08T13:46:01.322408Z",
     "start_time": "2023-10-08T13:46:01.265Z"
    },
    "vscode": {
     "languageId": "r"
    }
   },
   "outputs": [
    {
     "data": {
      "text/html": [
       "<table class=\"dataframe\">\n",
       "<caption>A matrix: 4 × 4 of type dbl</caption>\n",
       "<thead>\n",
       "\t<tr><th></th><th scope=col>dyadic_chn_sim</th><th scope=col>triadic_chn_sim</th><th scope=col>group_chn_sim</th><th scope=col>nondyadic_chn_sim</th></tr>\n",
       "</thead>\n",
       "<tbody>\n",
       "\t<tr><th scope=row>dyadic_chn_sim</th><td>1.0000000</td><td>0.8770202</td><td>0.8431335</td><td>0.8902595</td></tr>\n",
       "\t<tr><th scope=row>triadic_chn_sim</th><td>0.8770202</td><td>1.0000000</td><td>0.8565563</td><td>0.9600388</td></tr>\n",
       "\t<tr><th scope=row>group_chn_sim</th><td>0.8431335</td><td>0.8565563</td><td>1.0000000</td><td>0.9596146</td></tr>\n",
       "\t<tr><th scope=row>nondyadic_chn_sim</th><td>0.8902595</td><td>0.9600388</td><td>0.9596146</td><td>1.0000000</td></tr>\n",
       "</tbody>\n",
       "</table>\n"
      ],
      "text/latex": [
       "A matrix: 4 × 4 of type dbl\n",
       "\\begin{tabular}{r|llll}\n",
       "  & dyadic\\_chn\\_sim & triadic\\_chn\\_sim & group\\_chn\\_sim & nondyadic\\_chn\\_sim\\\\\n",
       "\\hline\n",
       "\tdyadic\\_chn\\_sim & 1.0000000 & 0.8770202 & 0.8431335 & 0.8902595\\\\\n",
       "\ttriadic\\_chn\\_sim & 0.8770202 & 1.0000000 & 0.8565563 & 0.9600388\\\\\n",
       "\tgroup\\_chn\\_sim & 0.8431335 & 0.8565563 & 1.0000000 & 0.9596146\\\\\n",
       "\tnondyadic\\_chn\\_sim & 0.8902595 & 0.9600388 & 0.9596146 & 1.0000000\\\\\n",
       "\\end{tabular}\n"
      ],
      "text/markdown": [
       "\n",
       "A matrix: 4 × 4 of type dbl\n",
       "\n",
       "| <!--/--> | dyadic_chn_sim | triadic_chn_sim | group_chn_sim | nondyadic_chn_sim |\n",
       "|---|---|---|---|---|\n",
       "| dyadic_chn_sim | 1.0000000 | 0.8770202 | 0.8431335 | 0.8902595 |\n",
       "| triadic_chn_sim | 0.8770202 | 1.0000000 | 0.8565563 | 0.9600388 |\n",
       "| group_chn_sim | 0.8431335 | 0.8565563 | 1.0000000 | 0.9596146 |\n",
       "| nondyadic_chn_sim | 0.8902595 | 0.9600388 | 0.9596146 | 1.0000000 |\n",
       "\n"
      ],
      "text/plain": [
       "                  dyadic_chn_sim triadic_chn_sim group_chn_sim\n",
       "dyadic_chn_sim    1.0000000      0.8770202       0.8431335    \n",
       "triadic_chn_sim   0.8770202      1.0000000       0.8565563    \n",
       "group_chn_sim     0.8431335      0.8565563       1.0000000    \n",
       "nondyadic_chn_sim 0.8902595      0.9600388       0.9596146    \n",
       "                  nondyadic_chn_sim\n",
       "dyadic_chn_sim    0.8902595        \n",
       "triadic_chn_sim   0.9600388        \n",
       "group_chn_sim     0.9596146        \n",
       "nondyadic_chn_sim 1.0000000        "
      ]
     },
     "metadata": {},
     "output_type": "display_data"
    }
   ],
   "source": [
    "source_data = c('dyadic_chn_sim','triadic_chn_sim','group_chn_sim','nondyadic_chn_sim')\n",
    "sources = list()\n",
    "for (i in c(1:length(source_data))){\n",
    "    sources[[i]] = get(source_data[i])\n",
    "}\n",
    "\n",
    "source_rsa_cor = matrix(0,ncol=4,nrow=4)\n",
    "colnames(source_rsa_cor) = source_data\n",
    "rownames(source_rsa_cor) = source_data\n",
    "\n",
    "for (i in c(1:(length(source_data)-1))){\n",
    "    for (j in c((i+1):length(source_data))){\n",
    "        datax = lowerTriangle(sources[[i]])\n",
    "        datay = lowerTriangle(sources[[j]])\n",
    "        source_rsa_cor[i,j] = cor(datax,datay,method='spearman')\n",
    "    }\n",
    "}\n",
    "source_rsa_cor <- source_rsa_cor + t(source_rsa_cor)\n",
    "diag(source_rsa_cor) <- 1\n",
    "\n",
    "chn_rsa_cor = source_rsa_cor\n",
    "write.csv(chn_rsa_cor,'output_data/chn_rsa_cor.csv')\n",
    "chn_rsa_cor"
   ]
  },
  {
   "cell_type": "code",
   "execution_count": 17,
   "id": "2511c401",
   "metadata": {
    "ExecuteTime": {
     "end_time": "2023-10-08T13:51:47.704591Z",
     "start_time": "2023-10-08T13:51:47.400Z"
    },
    "vscode": {
     "languageId": "r"
    }
   },
   "outputs": [
    {
     "name": "stdout",
     "output_type": "stream",
     "text": [
      "    group_chn_sim nondyadic_chn_sim   triadic_chn_sim \n",
      "        0.8431335         0.8902595         0.8770202 \n"
     ]
    },
    {
     "data": {
      "image/png": "[encoded data removed]",
      "text/plain": [
       "plot without title"
      ]
     },
     "metadata": {
      "image/png": {
       "height": 360,
       "width": 720
      }
     },
     "output_type": "display_data"
    }
   ],
   "source": [
    "options(repr.plot.width = 12,repr.plot.height=6)\n",
    "value = chn_rsa_cor['dyadic_chn_sim',\n",
    "                    c('group_chn_sim','nondyadic_chn_sim','triadic_chn_sim')]\n",
    "print(value)\n",
    "data <- data.frame(\n",
    "  x_start = c(1, 1, 1),\n",
    "  y_start = c(1, 1, 1),\n",
    "  x_end = c(0, 1, 2),\n",
    "  y_end = c(0, 0, 0),\n",
    "  thickness = value*30\n",
    ")\n",
    "\n",
    "ggplot(data, aes(x = x_start, y = y_start, xend = x_end, yend = y_end, size = thickness, alpha = value*0.9)) +\n",
    "  scale_alpha_continuous(limits = c(0.5, 0.9))+\n",
    "  geom_segment() +\n",
    "  scale_size_identity() +\n",
    "  theme_void()"
   ]
  }
 ],
 "metadata": {
  "kernelspec": {
   "display_name": "R",
   "language": "R",
   "name": "ir"
  },
  "language_info": {
   "codemirror_mode": "r",
   "file_extension": ".r",
   "mimetype": "text/x-r-source",
   "name": "R",
   "pygments_lexer": "r",
   "version": "4.1.2"
  },
  "latex_envs": {
   "LaTeX_envs_menu_present": true,
   "autoclose": false,
   "autocomplete": true,
   "bibliofile": "biblio.bib",
   "cite_by": "apalike",
   "current_citInitial": 1,
   "eqLabelWithNumbers": true,
   "eqNumInitial": 1,
   "hotkeys": {
    "equation": "Ctrl-E",
    "itemize": "Ctrl-I"
   },
   "labels_anchors": false,
   "latex_user_defs": false,
   "report_style_numbering": false,
   "user_envs_cfg": false
  },
  "toc": {
   "base_numbering": 1,
   "nav_menu": {},
   "number_sections": true,
   "sideBar": true,
   "skip_h1_title": false,
   "title_cell": "Table of Contents",
   "title_sidebar": "Contents",
   "toc_cell": false,
   "toc_position": {
    "height": "calc(100% - 180px)",
    "left": "10px",
    "top": "150px",
    "width": "165px"
   },
   "toc_section_display": true,
   "toc_window_display": true
  },
  "varInspector": {
   "cols": {
    "lenName": 16,
    "lenType": 16,
    "lenVar": 40
   },
   "kernels_config": {
    "python": {
     "delete_cmd_postfix": "",
     "delete_cmd_prefix": "del ",
     "library": "var_list.py",
     "varRefreshCmd": "print(var_dic_list())"
    },
    "r": {
     "delete_cmd_postfix": ") ",
     "delete_cmd_prefix": "rm(",
     "library": "var_list.r",
     "varRefreshCmd": "cat(var_dic_list()) "
    }
   },
   "types_to_exclude": [
    "module",
    "function",
    "builtin_function_or_method",
    "instance",
    "_Feature"
   ],
   "window_display": false
  }
 },
 "nbformat": 4,
 "nbformat_minor": 5
}
