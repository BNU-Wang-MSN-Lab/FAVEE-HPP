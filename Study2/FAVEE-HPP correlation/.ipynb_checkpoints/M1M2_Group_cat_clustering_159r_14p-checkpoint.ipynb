{
 "cells": [
  {
   "cell_type": "code",
   "execution_count": 1,
   "id": "8e5c7bce",
   "metadata": {
    "ExecuteTime": {
     "end_time": "2023-02-21T07:08:16.086914Z",
     "start_time": "2023-02-21T07:08:09.814864Z"
    }
   },
   "outputs": [],
   "source": [
    "import os\n",
    "import glob\n",
    "\n",
    "import pandas as pd\n",
    "import numpy as np\n",
    "from sklearn.metrics.pairwise import euclidean_distances\n",
    "\n",
    "import matplotlib.pyplot as plt\n",
    "import seaborn as sns\n",
    "import matplotlib as mpl\n",
    "\n",
    "import warnings\n",
    "warnings.filterwarnings('ignore')\n",
    "\n",
    "import umap\n",
    "import sys\n",
    "sys.path.append('../custom_function')\n",
    "import clustering # custom function\n",
    "\n",
    "random_seed = 2022\n",
    "klist = [3,4,5,6,7]"
   ]
  },
  {
   "cell_type": "markdown",
   "id": "3fc24ee7",
   "metadata": {},
   "source": [
    "# Import data"
   ]
  },
  {
   "cell_type": "code",
   "execution_count": 2,
   "id": "84b3483c",
   "metadata": {
    "ExecuteTime": {
     "end_time": "2023-02-21T07:08:30.204004Z",
     "start_time": "2023-02-21T07:08:30.162055Z"
    }
   },
   "outputs": [],
   "source": [
    "input_dir = '../output_data/group/category/'\n",
    "# all 59 participants\n",
    "dissim_ctg_avg_159r_all = pd.read_csv(input_dir + 'dissim_ctg_avg_159rel_all_14p.csv',index_col=0)\n",
    "dissim_mla_avg_159r_all = pd.read_csv(input_dir + 'dissim_mla_avg_159rel_all_14p.csv',index_col=0)"
   ]
  },
  {
   "cell_type": "markdown",
   "id": "a605cded",
   "metadata": {},
   "source": [
    "# Explicit task(M2)"
   ]
  },
  {
   "cell_type": "code",
   "execution_count": 3,
   "id": "28f523d1",
   "metadata": {
    "ExecuteTime": {
     "end_time": "2023-02-21T07:08:52.391471Z",
     "start_time": "2023-02-21T07:08:47.974569Z"
    }
   },
   "outputs": [],
   "source": [
    "umap_exp_159r_all = umap.UMAP(n_neighbors=15, min_dist=0.01, n_components=2,\n",
    "                      metric = 'precomputed',\n",
    "                      random_state=random_seed).fit_transform(dissim_ctg_avg_159r_all)\n",
    "\n",
    "umap_exp_159r_all = pd.DataFrame(umap_exp_159r_all, columns=['Dim1','Dim2'], index=dissim_ctg_avg_159r_all.index)"
   ]
  },
  {
   "cell_type": "code",
   "execution_count": 4,
   "id": "0a8b5e44",
   "metadata": {
    "ExecuteTime": {
     "end_time": "2023-02-21T07:09:04.943760Z",
     "start_time": "2023-02-21T07:09:04.775760Z"
    }
   },
   "outputs": [
    {
     "name": "stdout",
     "output_type": "stream",
     "text": [
      "\n",
      "Cluster 1 Relationship:29\n",
      "nurse and patient, doctor and patient, prostitute and customer, landlord and tenant, representative and citizen, television host and guest, dealer and buyer, judge and lawyer, patient and caretaker, therapist and patient, driver and passenger, psychologist and client, reader and writer, customer and businessman, police officer and civilian, politician and supporter, salesperson and customer, guide and tourist, chef and customer, judge and contestant, sugar daddy and sugar baby, reviewer and writer, lawyer and client, athlete and referee, consultant and client, researcher and research subject, babysitter and infant, entrepreneur and investor, customer and server\n",
      "\n",
      "Cluster 2 Relationship:23\n",
      "parent and infant, distant relatives, ancestor and descendant, godparent and godchild, step parent and step child, aunt and niece/nephew, parent and child, foster parent and foster child, siblings, second cousins, uncle and niece/nephew, step grandparent and step grandchild, adoptive parents and adopted kids, step siblings, grandparent and grandchild, twins, close relatives, mother and infant, half siblings, parent and teenager, cousins, brother and sister, a person and their in laws\n",
      "\n",
      "Cluster 3 Relationship:12\n",
      "a person and their crush, a person and their deceased spouse, wife and husband, romantic lovers, friends with benefits, bride and groom, life partners, soul mates, fiance and fiancee, long distance lovers, a person and their significant other, man and his mistress\n",
      "\n",
      "Cluster 4 Relationship:24\n",
      "opposing negotiators, man wife and man mistress, frenemies, enemies, slave and master, romantic rivals, sports rivals, guard and prisoner, criminal and police officer, defendant and plaintiff, political opponents, competitors in sports, bully and victim, criminal and prosecutor, master and servant, business rivals, ex lovers, victim and criminal, criminal and hostage, fans of opposing sports teams, divorced spouses, parole officer and parolee, celebrity and haters, police officer and offender\n",
      "\n",
      "Cluster 5 Relationship:34\n",
      "guest and host, neighbors, friends, teammates in sports, brothers in arms, co workers, bride and bridesmaid, alumni, classmates, church members, roommates, victim and witness, close friends, confidants, playmates, fraternity brothers, a person and their family friends, groom and groomsman, strangers, business partners, peers, cohabitants, pen friends, casual acquaintances, diplomats, facebook friends, companions, criminal and their accomplice, religious followers, childhood friends, a person and their social media follower, sorority sisters, political allies, fans of the same sports team\n",
      "\n",
      "Cluster 6 Relationship:37\n",
      "volunteer and organizer, officer and soldier, employer and employee, university student and administrator, athletic trainer and trainee, native and tourist, predecessor and successor, mentor and mentee, superior and subordinate, leader and follower, union leader and union member, teacher and student, manager and staff, drug dealer and addict, team captain and team members, boss and secretary, director and performer, chief and deputy, owner and manager, a monarch and their minister, interviewer and job applicant, student and dorm resident assistant, manager and assistant, professor and teaching assistant, performer and audience, celebrity and fans, club member and club president, coach and athlete, man and god, landlord and housekeeper, professor and graduate student, doctor and nurse, intern and employee, supervisor and subordinate, religious leader and congregant, principal and teacher, foreman and laborer\n"
     ]
    }
   ],
   "source": [
    "umap_exp_results_159r_all = clustering.create_cluster_models(data_type = \"df\",data =umap_exp_159r_all,\n",
    "                                                  methods= ['KMeans', 'Hierarchical'],ks=  klist, keep_orig=True)\n",
    "\n",
    "clustering.cluster_results(umap_exp_results_159r_all,method_number='cl_k6')"
   ]
  },
  {
   "cell_type": "markdown",
   "id": "f4259547",
   "metadata": {},
   "source": [
    "Cluster1: Transactional(29)  \n",
    "Cluster2: Familial(23)   \n",
    "Cluster3: Romantic(12)    \n",
    "Cluster4: Hostile(24)  \n",
    "Cluster5: Affiliation(34)   \n",
    "Cluster6: Power(37)  "
   ]
  }
 ],
 "metadata": {
  "kernelspec": {
   "display_name": "base",
   "language": "python",
   "name": "python3"
  },
  "language_info": {
   "codemirror_mode": {
    "name": "ipython",
    "version": 3
   },
   "file_extension": ".py",
   "mimetype": "text/x-python",
   "name": "python",
   "nbconvert_exporter": "python",
   "pygments_lexer": "ipython3",
   "version": "3.9.12"
  },
  "latex_envs": {
   "LaTeX_envs_menu_present": true,
   "autoclose": false,
   "autocomplete": true,
   "bibliofile": "biblio.bib",
   "cite_by": "apalike",
   "current_citInitial": 1,
   "eqLabelWithNumbers": true,
   "eqNumInitial": 1,
   "hotkeys": {
    "equation": "Ctrl-E",
    "itemize": "Ctrl-I"
   },
   "labels_anchors": false,
   "latex_user_defs": false,
   "report_style_numbering": false,
   "user_envs_cfg": false
  },
  "toc": {
   "base_numbering": 1,
   "nav_menu": {},
   "number_sections": true,
   "sideBar": true,
   "skip_h1_title": false,
   "title_cell": "Table of Contents",
   "title_sidebar": "Contents",
   "toc_cell": false,
   "toc_position": {},
   "toc_section_display": true,
   "toc_window_display": false
  }
 },
 "nbformat": 4,
 "nbformat_minor": 5
}
