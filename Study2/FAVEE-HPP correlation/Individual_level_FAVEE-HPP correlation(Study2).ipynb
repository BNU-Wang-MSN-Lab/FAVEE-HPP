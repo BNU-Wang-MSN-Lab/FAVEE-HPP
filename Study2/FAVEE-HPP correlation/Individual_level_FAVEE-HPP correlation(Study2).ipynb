{
 "cells": [
  {
   "cell_type": "code",
   "execution_count": 1,
   "id": "5c4ad55f",
   "metadata": {
    "ExecuteTime": {
     "end_time": "2023-02-21T12:12:25.456245Z",
     "start_time": "2023-02-21T12:12:22.390074Z"
    }
   },
   "outputs": [],
   "source": [
    "import pandas as pd\n",
    "import numpy as np\n",
    "import glob\n",
    "\n",
    "from sklearn.metrics.pairwise import euclidean_distances\n",
    "from scipy.stats import pearsonr,spearmanr,pointbiserialr\n",
    "\n",
    "import seaborn as sns\n",
    "import matplotlib.pyplot as plt\n",
    "import mantel\n",
    "from permute.core import one_sample"
   ]
  },
  {
   "cell_type": "markdown",
   "id": "7538a15d",
   "metadata": {},
   "source": [
    "# Import data"
   ]
  },
  {
   "cell_type": "code",
   "execution_count": 11,
   "id": "b9d1b97a",
   "metadata": {
    "ExecuteTime": {
     "end_time": "2023-02-21T10:11:51.514574Z",
     "start_time": "2023-02-21T10:11:51.496604Z"
    }
   },
   "outputs": [],
   "source": [
    "# x variables\n",
    "FAVEE_model_inds=glob.glob('../output_data/individual/dimension/pca_results/RDMs_scores_var/*.csv')\n",
    "FV_model_inds=glob.glob('../output_data/individual/dimension/pca_results/RDMs_scores_var_2c/*.csv')\n",
    "# x variables\n",
    "HPP_model_inds=glob.glob('../output_data/individual/category/cluster_RDMs/imp/*.csv')\n",
    "Six_clusters_inds=glob.glob('../output_data/individual/category/cluster_RDMs/exp/*.csv')"
   ]
  },
  {
   "cell_type": "code",
   "execution_count": 12,
   "id": "3554961e",
   "metadata": {
    "ExecuteTime": {
     "end_time": "2023-02-21T10:12:17.440062Z",
     "start_time": "2023-02-21T10:12:17.429032Z"
    }
   },
   "outputs": [],
   "source": [
    "def rdmtoarray(rdm):\n",
    "    rdm_array = np.array(rdm)[np.triu_indices(159,k=1)]\n",
    "    return rdm_array"
   ]
  },
  {
   "cell_type": "code",
   "execution_count": 19,
   "id": "fd252340",
   "metadata": {
    "ExecuteTime": {
     "end_time": "2023-02-21T11:11:06.791299Z",
     "start_time": "2023-02-21T11:11:06.781294Z"
    }
   },
   "outputs": [
    {
     "name": "stdout",
     "output_type": "stream",
     "text": [
      "Found participants who finished dimension rating task: 14 participants.\n"
     ]
    }
   ],
   "source": [
    "dim_raw_data_paths = glob.glob('../output_data/individual/dimension/clean_results/dim_rel_scaled/*.csv')\n",
    "sub_within_list = [i.split('\\\\')[1].split('.')[0] for i in dim_raw_data_paths]\n",
    "print('Found participants who finished dimension rating task: '+str(len(sub_within_list))+' participants.')"
   ]
  },
  {
   "cell_type": "code",
   "execution_count": 34,
   "id": "18ae83b8",
   "metadata": {
    "ExecuteTime": {
     "end_time": "2023-02-21T11:25:19.061086Z",
     "start_time": "2023-02-21T11:25:19.052085Z"
    }
   },
   "outputs": [],
   "source": [
    "FAVEE_model_path = '../output_data/individual/dimension/pca_results/RDMs_scores_var/'\n",
    "FV_model_path = '../output_data/individual/dimension/pca_results/RDMs_scores_var_2c/'\n",
    "HPP_model_path = '../output_data/individual/category/cluster_RDMs/imp/'\n",
    "Six_clusters_path = '../output_data/individual/category/cluster_RDMs/exp/'"
   ]
  },
  {
   "cell_type": "markdown",
   "id": "ef22fbf8",
   "metadata": {},
   "source": [
    "# Correlation and permutation"
   ]
  },
  {
   "cell_type": "code",
   "execution_count": 39,
   "id": "a875b2d3",
   "metadata": {
    "ExecuteTime": {
     "end_time": "2023-02-21T11:28:47.572899Z",
     "start_time": "2023-02-21T11:28:14.969090Z"
    }
   },
   "outputs": [],
   "source": [
    "HPP_rvalue_df = pd.DataFrame(np.zeros((14,2)),columns=['FAVEE','FV'],index=sub_within_list)\n",
    "Sixclusters_rvalue_df = pd.DataFrame(np.zeros((14,2)),columns=['FAVEE','FV'],index=sub_within_list)\n",
    "HPP_pvalue_df = pd.DataFrame(np.zeros((14,2)),columns=['FAVEE','FV'],index=sub_within_list)\n",
    "Sixclusters_pvalue_df = pd.DataFrame(np.zeros((14,2)),columns=['FAVEE','FV'],index=sub_within_list)\n",
    "\n",
    "for ind in sub_within_list:\n",
    "    # prepare x and y variables\n",
    "    FAVEE_model_rdm = pd.read_csv(FAVEE_model_path+ind+'.csv',index_col=0)\n",
    "    FV_model_rdm = pd.read_csv(FV_model_path+ind+'.csv',index_col=0)\n",
    "    HPP_model_rdm = pd.read_csv(HPP_model_path+ind+'.csv',index_col=0)\n",
    "    HPP_model_rdm = HPP_model_rdm.loc[FAVEE_model_rdm.index,FAVEE_model_rdm.index]\n",
    "    Six_clusters_rdm = pd.read_csv(Six_clusters_path+ind+'.csv',index_col=0)\n",
    "    \n",
    "    FAVEE_model_array = rdmtoarray(FAVEE_model_rdm)\n",
    "    FV_model_array = rdmtoarray(FV_model_rdm)\n",
    "    HPP_model_array = rdmtoarray(HPP_model_rdm)\n",
    "    Six_clusters_array = rdmtoarray(Six_clusters_rdm)\n",
    "    \n",
    "    # correlation and permutation\n",
    "    favee_hpp_r,favee_hpp_p,favee_hpp_z = mantel.test(FAVEE_model_array, HPP_model_array, \n",
    "                          perms=10000, method='pearson', tail='two-tail')\n",
    "    fv_hpp_r,fv_hpp_p,fv_hpp_z = mantel.test(FV_model_array, HPP_model_array, \n",
    "                      perms=10000, method='pearson', tail='two-tail')\n",
    "    \n",
    "    HPP_rvalue_df.loc[ind,'FAVEE'] = favee_hpp_r\n",
    "    HPP_rvalue_df.loc[ind,'FV'] = fv_hpp_r\n",
    "    HPP_pvalue_df.loc[ind,'FAVEE'] = favee_hpp_p\n",
    "    HPP_pvalue_df.loc[ind,'FV'] = fv_hpp_p\n",
    "    \n",
    "    favee_sixclusters_r,favee_sixclusters_p,favee_sixclusters_z = mantel.test(FAVEE_model_array, Six_clusters_array, \n",
    "                          perms=10000, method='pearson', tail='two-tail')\n",
    "    fv_sixclusters_r,fv_sixclusters_p,fv_sixclusters_z = mantel.test(FV_model_array, Six_clusters_array, \n",
    "                      perms=10000, method='pearson', tail='two-tail')\n",
    "    \n",
    "    Sixclusters_rvalue_df.loc[ind,'FAVEE'] = favee_sixclusters_r\n",
    "    Sixclusters_rvalue_df.loc[ind,'FV'] = fv_sixclusters_r\n",
    "    Sixclusters_pvalue_df.loc[ind,'FAVEE'] = favee_sixclusters_p\n",
    "    Sixclusters_pvalue_df.loc[ind,'FV'] = fv_sixclusters_p "
   ]
  },
  {
   "cell_type": "code",
   "execution_count": 43,
   "id": "8ed997c0",
   "metadata": {
    "ExecuteTime": {
     "end_time": "2023-02-21T11:32:04.611678Z",
     "start_time": "2023-02-21T11:32:04.589676Z"
    }
   },
   "outputs": [
    {
     "data": {
      "text/html": [
       "<div>\n",
       "<style scoped>\n",
       "    .dataframe tbody tr th:only-of-type {\n",
       "        vertical-align: middle;\n",
       "    }\n",
       "\n",
       "    .dataframe tbody tr th {\n",
       "        vertical-align: top;\n",
       "    }\n",
       "\n",
       "    .dataframe thead th {\n",
       "        text-align: right;\n",
       "    }\n",
       "</style>\n",
       "<table border=\"1\" class=\"dataframe\">\n",
       "  <thead>\n",
       "    <tr style=\"text-align: right;\">\n",
       "      <th></th>\n",
       "      <th>FAVEE</th>\n",
       "      <th>FV</th>\n",
       "    </tr>\n",
       "  </thead>\n",
       "  <tbody>\n",
       "    <tr>\n",
       "      <th>sub-301</th>\n",
       "      <td>0.0001</td>\n",
       "      <td>0.0001</td>\n",
       "    </tr>\n",
       "    <tr>\n",
       "      <th>sub-693</th>\n",
       "      <td>0.0001</td>\n",
       "      <td>0.0297</td>\n",
       "    </tr>\n",
       "    <tr>\n",
       "      <th>sub-700</th>\n",
       "      <td>0.0001</td>\n",
       "      <td>0.0001</td>\n",
       "    </tr>\n",
       "    <tr>\n",
       "      <th>sub-701</th>\n",
       "      <td>0.0001</td>\n",
       "      <td>0.0001</td>\n",
       "    </tr>\n",
       "    <tr>\n",
       "      <th>sub-706</th>\n",
       "      <td>0.0001</td>\n",
       "      <td>0.0001</td>\n",
       "    </tr>\n",
       "    <tr>\n",
       "      <th>sub-716</th>\n",
       "      <td>0.0001</td>\n",
       "      <td>0.0001</td>\n",
       "    </tr>\n",
       "    <tr>\n",
       "      <th>sub-720</th>\n",
       "      <td>0.0001</td>\n",
       "      <td>0.0001</td>\n",
       "    </tr>\n",
       "    <tr>\n",
       "      <th>sub-722</th>\n",
       "      <td>0.0001</td>\n",
       "      <td>0.0001</td>\n",
       "    </tr>\n",
       "    <tr>\n",
       "      <th>sub-754</th>\n",
       "      <td>0.0001</td>\n",
       "      <td>0.0001</td>\n",
       "    </tr>\n",
       "    <tr>\n",
       "      <th>sub-759</th>\n",
       "      <td>0.0001</td>\n",
       "      <td>0.0001</td>\n",
       "    </tr>\n",
       "    <tr>\n",
       "      <th>sub-762</th>\n",
       "      <td>0.0001</td>\n",
       "      <td>0.0001</td>\n",
       "    </tr>\n",
       "    <tr>\n",
       "      <th>sub-765</th>\n",
       "      <td>0.0001</td>\n",
       "      <td>0.0001</td>\n",
       "    </tr>\n",
       "    <tr>\n",
       "      <th>sub-766</th>\n",
       "      <td>0.0001</td>\n",
       "      <td>0.0001</td>\n",
       "    </tr>\n",
       "    <tr>\n",
       "      <th>sub-767</th>\n",
       "      <td>0.0001</td>\n",
       "      <td>0.0001</td>\n",
       "    </tr>\n",
       "  </tbody>\n",
       "</table>\n",
       "</div>"
      ],
      "text/plain": [
       "          FAVEE      FV\n",
       "sub-301  0.0001  0.0001\n",
       "sub-693  0.0001  0.0297\n",
       "sub-700  0.0001  0.0001\n",
       "sub-701  0.0001  0.0001\n",
       "sub-706  0.0001  0.0001\n",
       "sub-716  0.0001  0.0001\n",
       "sub-720  0.0001  0.0001\n",
       "sub-722  0.0001  0.0001\n",
       "sub-754  0.0001  0.0001\n",
       "sub-759  0.0001  0.0001\n",
       "sub-762  0.0001  0.0001\n",
       "sub-765  0.0001  0.0001\n",
       "sub-766  0.0001  0.0001\n",
       "sub-767  0.0001  0.0001"
      ]
     },
     "execution_count": 43,
     "metadata": {},
     "output_type": "execute_result"
    }
   ],
   "source": [
    "HPP_pvalue_df.to_csv('output_data/HPP_pvalue_df')\n",
    "HPP_pvalue_df"
   ]
  },
  {
   "cell_type": "code",
   "execution_count": 45,
   "id": "ad62494e",
   "metadata": {
    "ExecuteTime": {
     "end_time": "2023-02-21T11:32:19.711457Z",
     "start_time": "2023-02-21T11:32:19.699442Z"
    }
   },
   "outputs": [
    {
     "data": {
      "text/html": [
       "<div>\n",
       "<style scoped>\n",
       "    .dataframe tbody tr th:only-of-type {\n",
       "        vertical-align: middle;\n",
       "    }\n",
       "\n",
       "    .dataframe tbody tr th {\n",
       "        vertical-align: top;\n",
       "    }\n",
       "\n",
       "    .dataframe thead th {\n",
       "        text-align: right;\n",
       "    }\n",
       "</style>\n",
       "<table border=\"1\" class=\"dataframe\">\n",
       "  <thead>\n",
       "    <tr style=\"text-align: right;\">\n",
       "      <th></th>\n",
       "      <th>FAVEE</th>\n",
       "      <th>FV</th>\n",
       "    </tr>\n",
       "  </thead>\n",
       "  <tbody>\n",
       "    <tr>\n",
       "      <th>sub-301</th>\n",
       "      <td>0.0096</td>\n",
       "      <td>0.0052</td>\n",
       "    </tr>\n",
       "    <tr>\n",
       "      <th>sub-693</th>\n",
       "      <td>0.5808</td>\n",
       "      <td>0.1921</td>\n",
       "    </tr>\n",
       "    <tr>\n",
       "      <th>sub-700</th>\n",
       "      <td>0.3073</td>\n",
       "      <td>0.5739</td>\n",
       "    </tr>\n",
       "    <tr>\n",
       "      <th>sub-701</th>\n",
       "      <td>0.0100</td>\n",
       "      <td>0.2107</td>\n",
       "    </tr>\n",
       "    <tr>\n",
       "      <th>sub-706</th>\n",
       "      <td>0.0065</td>\n",
       "      <td>0.1164</td>\n",
       "    </tr>\n",
       "    <tr>\n",
       "      <th>sub-716</th>\n",
       "      <td>0.2400</td>\n",
       "      <td>0.0092</td>\n",
       "    </tr>\n",
       "    <tr>\n",
       "      <th>sub-720</th>\n",
       "      <td>0.6436</td>\n",
       "      <td>0.6349</td>\n",
       "    </tr>\n",
       "    <tr>\n",
       "      <th>sub-722</th>\n",
       "      <td>0.3208</td>\n",
       "      <td>0.0198</td>\n",
       "    </tr>\n",
       "    <tr>\n",
       "      <th>sub-754</th>\n",
       "      <td>0.2122</td>\n",
       "      <td>0.1714</td>\n",
       "    </tr>\n",
       "    <tr>\n",
       "      <th>sub-759</th>\n",
       "      <td>0.9569</td>\n",
       "      <td>0.9870</td>\n",
       "    </tr>\n",
       "    <tr>\n",
       "      <th>sub-762</th>\n",
       "      <td>0.4307</td>\n",
       "      <td>0.5336</td>\n",
       "    </tr>\n",
       "    <tr>\n",
       "      <th>sub-765</th>\n",
       "      <td>0.0698</td>\n",
       "      <td>0.0730</td>\n",
       "    </tr>\n",
       "    <tr>\n",
       "      <th>sub-766</th>\n",
       "      <td>0.6317</td>\n",
       "      <td>0.9968</td>\n",
       "    </tr>\n",
       "    <tr>\n",
       "      <th>sub-767</th>\n",
       "      <td>0.6686</td>\n",
       "      <td>0.2879</td>\n",
       "    </tr>\n",
       "  </tbody>\n",
       "</table>\n",
       "</div>"
      ],
      "text/plain": [
       "          FAVEE      FV\n",
       "sub-301  0.0096  0.0052\n",
       "sub-693  0.5808  0.1921\n",
       "sub-700  0.3073  0.5739\n",
       "sub-701  0.0100  0.2107\n",
       "sub-706  0.0065  0.1164\n",
       "sub-716  0.2400  0.0092\n",
       "sub-720  0.6436  0.6349\n",
       "sub-722  0.3208  0.0198\n",
       "sub-754  0.2122  0.1714\n",
       "sub-759  0.9569  0.9870\n",
       "sub-762  0.4307  0.5336\n",
       "sub-765  0.0698  0.0730\n",
       "sub-766  0.6317  0.9968\n",
       "sub-767  0.6686  0.2879"
      ]
     },
     "execution_count": 45,
     "metadata": {},
     "output_type": "execute_result"
    }
   ],
   "source": [
    "Sixclusters_pvalue_df.to_csv('output_data/Sixclusters_pvalue_df')\n",
    "Sixclusters_pvalue_df"
   ]
  },
  {
   "cell_type": "code",
   "execution_count": 46,
   "id": "e83f8bf4",
   "metadata": {
    "ExecuteTime": {
     "end_time": "2023-02-21T11:32:33.001665Z",
     "start_time": "2023-02-21T11:32:32.988667Z"
    }
   },
   "outputs": [
    {
     "data": {
      "text/html": [
       "<div>\n",
       "<style scoped>\n",
       "    .dataframe tbody tr th:only-of-type {\n",
       "        vertical-align: middle;\n",
       "    }\n",
       "\n",
       "    .dataframe tbody tr th {\n",
       "        vertical-align: top;\n",
       "    }\n",
       "\n",
       "    .dataframe thead th {\n",
       "        text-align: right;\n",
       "    }\n",
       "</style>\n",
       "<table border=\"1\" class=\"dataframe\">\n",
       "  <thead>\n",
       "    <tr style=\"text-align: right;\">\n",
       "      <th></th>\n",
       "      <th>FAVEE</th>\n",
       "      <th>FV</th>\n",
       "    </tr>\n",
       "  </thead>\n",
       "  <tbody>\n",
       "    <tr>\n",
       "      <th>sub-301</th>\n",
       "      <td>0.199762</td>\n",
       "      <td>0.224908</td>\n",
       "    </tr>\n",
       "    <tr>\n",
       "      <th>sub-693</th>\n",
       "      <td>0.152696</td>\n",
       "      <td>0.056114</td>\n",
       "    </tr>\n",
       "    <tr>\n",
       "      <th>sub-700</th>\n",
       "      <td>0.240045</td>\n",
       "      <td>0.431717</td>\n",
       "    </tr>\n",
       "    <tr>\n",
       "      <th>sub-701</th>\n",
       "      <td>0.119856</td>\n",
       "      <td>0.268968</td>\n",
       "    </tr>\n",
       "    <tr>\n",
       "      <th>sub-706</th>\n",
       "      <td>0.165305</td>\n",
       "      <td>0.282515</td>\n",
       "    </tr>\n",
       "    <tr>\n",
       "      <th>sub-716</th>\n",
       "      <td>0.135428</td>\n",
       "      <td>0.092295</td>\n",
       "    </tr>\n",
       "    <tr>\n",
       "      <th>sub-720</th>\n",
       "      <td>0.180331</td>\n",
       "      <td>0.180506</td>\n",
       "    </tr>\n",
       "    <tr>\n",
       "      <th>sub-722</th>\n",
       "      <td>0.157996</td>\n",
       "      <td>0.191977</td>\n",
       "    </tr>\n",
       "    <tr>\n",
       "      <th>sub-754</th>\n",
       "      <td>0.388718</td>\n",
       "      <td>0.355100</td>\n",
       "    </tr>\n",
       "    <tr>\n",
       "      <th>sub-759</th>\n",
       "      <td>0.128354</td>\n",
       "      <td>0.155119</td>\n",
       "    </tr>\n",
       "    <tr>\n",
       "      <th>sub-762</th>\n",
       "      <td>0.179140</td>\n",
       "      <td>0.235489</td>\n",
       "    </tr>\n",
       "    <tr>\n",
       "      <th>sub-765</th>\n",
       "      <td>0.202114</td>\n",
       "      <td>0.244740</td>\n",
       "    </tr>\n",
       "    <tr>\n",
       "      <th>sub-766</th>\n",
       "      <td>0.182379</td>\n",
       "      <td>0.290666</td>\n",
       "    </tr>\n",
       "    <tr>\n",
       "      <th>sub-767</th>\n",
       "      <td>0.371479</td>\n",
       "      <td>0.578935</td>\n",
       "    </tr>\n",
       "  </tbody>\n",
       "</table>\n",
       "</div>"
      ],
      "text/plain": [
       "            FAVEE        FV\n",
       "sub-301  0.199762  0.224908\n",
       "sub-693  0.152696  0.056114\n",
       "sub-700  0.240045  0.431717\n",
       "sub-701  0.119856  0.268968\n",
       "sub-706  0.165305  0.282515\n",
       "sub-716  0.135428  0.092295\n",
       "sub-720  0.180331  0.180506\n",
       "sub-722  0.157996  0.191977\n",
       "sub-754  0.388718  0.355100\n",
       "sub-759  0.128354  0.155119\n",
       "sub-762  0.179140  0.235489\n",
       "sub-765  0.202114  0.244740\n",
       "sub-766  0.182379  0.290666\n",
       "sub-767  0.371479  0.578935"
      ]
     },
     "execution_count": 46,
     "metadata": {},
     "output_type": "execute_result"
    }
   ],
   "source": [
    "HPP_rvalue_df.to_csv('output_data/HPP_rvalue_df')\n",
    "HPP_rvalue_df"
   ]
  },
  {
   "cell_type": "code",
   "execution_count": 47,
   "id": "9dd8e4fa",
   "metadata": {
    "ExecuteTime": {
     "end_time": "2023-02-21T11:32:53.628008Z",
     "start_time": "2023-02-21T11:32:53.612993Z"
    }
   },
   "outputs": [
    {
     "data": {
      "text/html": [
       "<div>\n",
       "<style scoped>\n",
       "    .dataframe tbody tr th:only-of-type {\n",
       "        vertical-align: middle;\n",
       "    }\n",
       "\n",
       "    .dataframe tbody tr th {\n",
       "        vertical-align: top;\n",
       "    }\n",
       "\n",
       "    .dataframe thead th {\n",
       "        text-align: right;\n",
       "    }\n",
       "</style>\n",
       "<table border=\"1\" class=\"dataframe\">\n",
       "  <thead>\n",
       "    <tr style=\"text-align: right;\">\n",
       "      <th></th>\n",
       "      <th>FAVEE</th>\n",
       "      <th>FV</th>\n",
       "    </tr>\n",
       "  </thead>\n",
       "  <tbody>\n",
       "    <tr>\n",
       "      <th>sub-301</th>\n",
       "      <td>0.043318</td>\n",
       "      <td>0.038220</td>\n",
       "    </tr>\n",
       "    <tr>\n",
       "      <th>sub-693</th>\n",
       "      <td>0.007808</td>\n",
       "      <td>-0.016615</td>\n",
       "    </tr>\n",
       "    <tr>\n",
       "      <th>sub-700</th>\n",
       "      <td>-0.015992</td>\n",
       "      <td>-0.006939</td>\n",
       "    </tr>\n",
       "    <tr>\n",
       "      <th>sub-701</th>\n",
       "      <td>0.039320</td>\n",
       "      <td>0.015755</td>\n",
       "    </tr>\n",
       "    <tr>\n",
       "      <th>sub-706</th>\n",
       "      <td>-0.038913</td>\n",
       "      <td>-0.018716</td>\n",
       "    </tr>\n",
       "    <tr>\n",
       "      <th>sub-716</th>\n",
       "      <td>0.011754</td>\n",
       "      <td>0.029158</td>\n",
       "    </tr>\n",
       "    <tr>\n",
       "      <th>sub-720</th>\n",
       "      <td>-0.006008</td>\n",
       "      <td>-0.005404</td>\n",
       "    </tr>\n",
       "    <tr>\n",
       "      <th>sub-722</th>\n",
       "      <td>0.008971</td>\n",
       "      <td>0.021574</td>\n",
       "    </tr>\n",
       "    <tr>\n",
       "      <th>sub-754</th>\n",
       "      <td>-0.012682</td>\n",
       "      <td>-0.012894</td>\n",
       "    </tr>\n",
       "    <tr>\n",
       "      <th>sub-759</th>\n",
       "      <td>-0.000928</td>\n",
       "      <td>-0.000282</td>\n",
       "    </tr>\n",
       "    <tr>\n",
       "      <th>sub-762</th>\n",
       "      <td>-0.011578</td>\n",
       "      <td>-0.008304</td>\n",
       "    </tr>\n",
       "    <tr>\n",
       "      <th>sub-765</th>\n",
       "      <td>0.022445</td>\n",
       "      <td>0.021276</td>\n",
       "    </tr>\n",
       "    <tr>\n",
       "      <th>sub-766</th>\n",
       "      <td>0.006151</td>\n",
       "      <td>-0.000049</td>\n",
       "    </tr>\n",
       "    <tr>\n",
       "      <th>sub-767</th>\n",
       "      <td>-0.008984</td>\n",
       "      <td>-0.017058</td>\n",
       "    </tr>\n",
       "  </tbody>\n",
       "</table>\n",
       "</div>"
      ],
      "text/plain": [
       "            FAVEE        FV\n",
       "sub-301  0.043318  0.038220\n",
       "sub-693  0.007808 -0.016615\n",
       "sub-700 -0.015992 -0.006939\n",
       "sub-701  0.039320  0.015755\n",
       "sub-706 -0.038913 -0.018716\n",
       "sub-716  0.011754  0.029158\n",
       "sub-720 -0.006008 -0.005404\n",
       "sub-722  0.008971  0.021574\n",
       "sub-754 -0.012682 -0.012894\n",
       "sub-759 -0.000928 -0.000282\n",
       "sub-762 -0.011578 -0.008304\n",
       "sub-765  0.022445  0.021276\n",
       "sub-766  0.006151 -0.000049\n",
       "sub-767 -0.008984 -0.017058"
      ]
     },
     "execution_count": 47,
     "metadata": {},
     "output_type": "execute_result"
    }
   ],
   "source": [
    "Sixclusters_rvalue_df.to_csv('output_data/Sixclusters_rvalue_df')\n",
    "Sixclusters_rvalue_df"
   ]
  },
  {
   "cell_type": "code",
   "execution_count": 16,
   "id": "4b4cd630",
   "metadata": {
    "ExecuteTime": {
     "end_time": "2023-02-21T12:31:57.204071Z",
     "start_time": "2023-02-21T12:31:53.158516Z"
    }
   },
   "outputs": [
    {
     "data": {
      "text/plain": [
       "(0.03437965620343797, -0.06384699363932649)"
      ]
     },
     "execution_count": 16,
     "metadata": {},
     "output_type": "execute_result"
    }
   ],
   "source": [
    "one_sample(HPP_zvalue_df['FAVEE'], HPP_zvalue_df['FV'],\n",
    "           alternative='two-sided',seed = 2023)"
   ]
  },
  {
   "cell_type": "markdown",
   "id": "6d35a77e",
   "metadata": {},
   "source": [
    "# Model comparison(FAVEE vs FV)"
   ]
  },
  {
   "cell_type": "code",
   "execution_count": 2,
   "id": "c9eb2dd2",
   "metadata": {
    "ExecuteTime": {
     "end_time": "2023-02-21T12:33:20.346597Z",
     "start_time": "2023-02-21T12:33:15.518Z"
    }
   },
   "outputs": [],
   "source": [
    "library(tidyverse)\n",
    "library(ggplot2)\n",
    "library(DescTools)# FisherZ\n",
    "library(Deducer)# permutation test\n",
    "library(broman)# paired permutation test\n",
    "library(reshape)#melt"
   ]
  },
  {
   "cell_type": "code",
   "execution_count": 4,
   "id": "10b0a16e",
   "metadata": {
    "ExecuteTime": {
     "end_time": "2023-02-21T12:33:50.443506Z",
     "start_time": "2023-02-21T12:33:50.404Z"
    }
   },
   "outputs": [],
   "source": [
    "HPP_rvalue_df = read.csv('output_data/HPP_rvalue_df',row.names=1)\n",
    "HPP_zvalue_df = FisherZ(HPP_rvalue_df)\n",
    "write.csv(HPP_zvalue_df,'output_data/HPP_zvalue_df.csv')"
   ]
  },
  {
   "cell_type": "code",
   "execution_count": 5,
   "id": "a9f103cc",
   "metadata": {
    "ExecuteTime": {
     "end_time": "2023-02-21T12:33:56.212729Z",
     "start_time": "2023-02-21T12:33:55.829Z"
    }
   },
   "outputs": [
    {
     "name": "stderr",
     "output_type": "stream",
     "text": [
      "Warning message:\n",
      "\"\u001b[1m\u001b[22mUsing `size` aesthetic for lines was deprecated in ggplot2 3.4.0.\n",
      "\u001b[36mi\u001b[39m Please use `linewidth` instead.\"\n"
     ]
    },
    {
     "data": {
      "image/png": "[encoded data removed]",
      "text/plain": [
       "plot without title"
      ]
     },
     "metadata": {
      "image/png": {
       "height": 420,
       "width": 420
      }
     },
     "output_type": "display_data"
    }
   ],
   "source": [
    "HPP_rvalue_plot = HPP_rvalue_df %>% mutate(sub = rownames(HPP_rvalue_df))\n",
    "HPP_rvalue_melt = melt(HPP_rvalue_plot, id = 'sub')\n",
    "\n",
    "ggplot(HPP_rvalue_melt,aes(x=variable,y=value))+\n",
    "    geom_boxplot(aes(fill=variable),lwd=1.25)+\n",
    "    stat_summary(fun = mean, geom = \"point\", shape = 16, size=5,color='red')+\n",
    "    geom_jitter(color=\"black\", size=2,alpha=0.5,\n",
    "                position = position_jitter(0.1))+\n",
    "    geom_line(aes(group = sub),alpha=0.5,size=0.5) +\n",
    "\n",
    "    ggtitle('14 participants')+\n",
    "    xlab('Feature Model') +\n",
    "    ylab('r value') + \n",
    "    theme_bw()+\n",
    "    theme(axis.title.x = element_text(size=16,face='bold'),\n",
    "          axis.title.y = element_text(size=16,face='bold'),\n",
    "          axis.text = element_text(size=16),\n",
    "          legend.key.size = unit(1,\"cm\"),\n",
    "          legend.title = element_text(size=16,face='bold'),\n",
    "          legend.text = element_text(size=18),\n",
    "          legend.position = 'none',\n",
    "          plot.title = element_text(hjust = 0.5,size=18))"
   ]
  },
  {
   "cell_type": "code",
   "execution_count": 6,
   "id": "87ebaa86",
   "metadata": {
    "ExecuteTime": {
     "end_time": "2023-02-21T12:33:59.688313Z",
     "start_time": "2023-02-21T12:33:58.784Z"
    }
   },
   "outputs": [
    {
     "data": {
      "text/html": [
       "0.0359"
      ],
      "text/latex": [
       "0.0359"
      ],
      "text/markdown": [
       "0.0359"
      ],
      "text/plain": [
       "[1] 0.0359"
      ]
     },
     "metadata": {},
     "output_type": "display_data"
    }
   ],
   "source": [
    "paired.perm.test(HPP_zvalue_df$'FAVEE'-HPP_zvalue_df$'FV',n.perm=10000)"
   ]
  }
 ],
 "metadata": {
  "kernelspec": {
   "display_name": "R",
   "language": "R",
   "name": "ir"
  },
  "language_info": {
   "codemirror_mode": "r",
   "file_extension": ".r",
   "mimetype": "text/x-r-source",
   "name": "R",
   "pygments_lexer": "r",
   "version": "4.1.2"
  },
  "latex_envs": {
   "LaTeX_envs_menu_present": true,
   "autoclose": false,
   "autocomplete": true,
   "bibliofile": "biblio.bib",
   "cite_by": "apalike",
   "current_citInitial": 1,
   "eqLabelWithNumbers": true,
   "eqNumInitial": 1,
   "hotkeys": {
    "equation": "Ctrl-E",
    "itemize": "Ctrl-I"
   },
   "labels_anchors": false,
   "latex_user_defs": false,
   "report_style_numbering": false,
   "user_envs_cfg": false
  },
  "toc": {
   "base_numbering": 1,
   "nav_menu": {},
   "number_sections": true,
   "sideBar": true,
   "skip_h1_title": false,
   "title_cell": "Table of Contents",
   "title_sidebar": "Contents",
   "toc_cell": false,
   "toc_position": {},
   "toc_section_display": true,
   "toc_window_display": true
  }
 },
 "nbformat": 4,
 "nbformat_minor": 5
}
