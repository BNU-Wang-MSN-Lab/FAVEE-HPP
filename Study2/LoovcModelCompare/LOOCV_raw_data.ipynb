{
 "cells": [
  {
   "cell_type": "code",
   "execution_count": 11,
   "id": "f251b842",
   "metadata": {
    "ExecuteTime": {
     "end_time": "2022-12-23T07:51:26.875431Z",
     "start_time": "2022-12-23T07:51:26.859805Z"
    }
   },
   "outputs": [],
   "source": [
    "import pandas as pd\n",
    "import numpy as np\n",
    "\n",
    "import glob\n",
    "from sklearn.metrics.pairwise import euclidean_distances#transform dataframe into rdm\n",
    "from scipy.stats import spearmanr #Loocv\n",
    "from scipy.stats import pointbiserialr\n",
    "\n",
    "import seaborn as sns\n",
    "import matplotlib.pyplot as plt"
   ]
  },
  {
   "cell_type": "code",
   "execution_count": 12,
   "id": "0561259b",
   "metadata": {
    "ExecuteTime": {
     "end_time": "2022-12-23T07:51:27.632129Z",
     "start_time": "2022-12-23T07:51:27.619626Z"
    }
   },
   "outputs": [],
   "source": [
    "#filter target subjects    \n",
    "def Filter(string, substr):\n",
    "    return [str for str in string if\n",
    "             any(sub in str for sub in substr)]"
   ]
  },
  {
   "cell_type": "markdown",
   "id": "717608bf",
   "metadata": {},
   "source": [
    "# Import data"
   ]
  },
  {
   "cell_type": "markdown",
   "id": "8a5ca734",
   "metadata": {},
   "source": [
    "## dim: turn dataframe into RDM"
   ]
  },
  {
   "cell_type": "code",
   "execution_count": 13,
   "id": "bfa4080a",
   "metadata": {
    "ExecuteTime": {
     "end_time": "2022-12-23T07:51:35.166514Z",
     "start_time": "2022-12-23T07:51:34.743748Z"
    }
   },
   "outputs": [],
   "source": [
    "input_dir = '../output_data/individual/dimension/clean_results/'\n",
    "dim_subj_data_paths_all = glob.glob(input_dir+'dim_rel_scaled/*.csv')\n",
    "\n",
    "for f in dim_subj_data_paths_all:\n",
    "    sub_id = f.split('\\\\')[1].split('.')[0]\n",
    "    dim_df = pd.read_csv(f,index_col = 0)\n",
    "    dim_dissim = pd.DataFrame(euclidean_distances(dim_df),\n",
    "                              index=dim_df.index,columns=dim_df.index)\n",
    "    dim_dissim.to_csv(input_dir+'RDMs_dim_rel_scaled/'+sub_id+'.csv')"
   ]
  },
  {
   "cell_type": "code",
   "execution_count": 14,
   "id": "c7484408",
   "metadata": {
    "ExecuteTime": {
     "end_time": "2022-12-23T07:51:37.266710Z",
     "start_time": "2022-12-23T07:51:37.257573Z"
    }
   },
   "outputs": [
    {
     "name": "stdout",
     "output_type": "stream",
     "text": [
      "Found participants who finished dimension rating task: 14 participants.\n"
     ]
    }
   ],
   "source": [
    "#participants who finished dimension rating\n",
    "dim_within_data_paths = glob.glob('../output_data/individual/dimension/clean_results/RDMs_dim_rel_scaled/*.csv')  \n",
    "sub_within_list = [i.split('\\\\')[1].split('.')[0] for i in dim_within_data_paths]\n",
    "print('Found participants who finished dimension rating task: '+str(len(sub_within_list))+' participants.')"
   ]
  },
  {
   "cell_type": "markdown",
   "id": "f2e60f94",
   "metadata": {},
   "source": [
    "## cat: filter within participants "
   ]
  },
  {
   "cell_type": "code",
   "execution_count": 15,
   "id": "67c24920",
   "metadata": {
    "ExecuteTime": {
     "end_time": "2022-12-23T07:51:42.014923Z",
     "start_time": "2022-12-23T07:51:41.995169Z"
    }
   },
   "outputs": [
    {
     "name": "stdout",
     "output_type": "stream",
     "text": [
      "Explicit task:From 60 subjects filter 14 subjects.\n",
      "Implicit task:From 60 subjects filter 14 subjects.\n"
     ]
    }
   ],
   "source": [
    "# all 60 participants\n",
    "ca_subj_data_paths_all = glob.glob('../output_data/individual/category/Subject_Category_RDMs_revised/*.csv')\n",
    "ma_subj_data_paths_all = glob.glob('../output_data/individual/category/Subject_MA_RDMs_revised/*.csv')\n",
    "\n",
    "# within participants\n",
    "#Explicit task\n",
    "ca_within_data_paths = Filter(ca_subj_data_paths_all, sub_within_list)\n",
    "print('Explicit task:From {} subjects filter {} subjects.'.format(len(ca_subj_data_paths_all),len(ca_within_data_paths)))\n",
    "#Implicit task\n",
    "ma_within_data_paths = Filter(ma_subj_data_paths_all, sub_within_list)\n",
    "print('Implicit task:From {} subjects filter {} subjects.'.format(len(ma_subj_data_paths_all),len(sub_within_list)))"
   ]
  },
  {
   "cell_type": "markdown",
   "id": "e3f40638",
   "metadata": {},
   "source": [
    "# LOOCV"
   ]
  },
  {
   "cell_type": "markdown",
   "id": "7a76e969",
   "metadata": {},
   "source": [
    "all were used 'spearman'"
   ]
  },
  {
   "cell_type": "code",
   "execution_count": 16,
   "id": "6fa8001a",
   "metadata": {
    "ExecuteTime": {
     "end_time": "2022-12-23T07:51:46.926283Z",
     "start_time": "2022-12-23T07:51:46.907602Z"
    }
   },
   "outputs": [],
   "source": [
    "def LOOCV(subj_data_paths):\n",
    "    rsa_list = []\n",
    "    sub_id_list = []\n",
    "    for left_one in subj_data_paths:\n",
    "        sub_id_list.append(left_one.split('\\\\')[1].split('.')[0])\n",
    "        # get the one left\n",
    "        left_one_df = pd.read_csv(left_one, index_col=0)\n",
    "        dissim_left_one = left_one_df\n",
    "        \n",
    "        # remove one subjects from all 10 subjects\n",
    "        subj_data_paths_remove_one = subj_data_paths.copy()\n",
    "        subj_data_paths_remove_one.remove(left_one)\n",
    "        \n",
    "        dissim_remove_one = np.zeros((159,159))\n",
    "\n",
    "        for f in subj_data_paths_remove_one:\n",
    "            temp_df = pd.read_csv(f, index_col=0)\n",
    "            dissim_remove_one += np.array(temp_df)\n",
    "\n",
    "        dissim_remove_one_avg = dissim_remove_one / len(subj_data_paths_remove_one)\n",
    "        dissim_remove_one_avg = pd.DataFrame(dissim_remove_one_avg, index=temp_df.index, columns=temp_df.columns)\n",
    "        \n",
    "        # caculate the correlation between the one left and others\n",
    "        array_dissim_left_one = np.array(dissim_left_one)[np.triu_indices(159, k = 1)] \n",
    "        array_dissim_remove_one_avg = np.array(dissim_remove_one_avg)[np.triu_indices(159, k = 1)]\n",
    "           \n",
    "        rsa_list.append(spearmanr(array_dissim_remove_one_avg, array_dissim_left_one)[0])\n",
    "    print(len(subj_data_paths_remove_one))\n",
    "    \n",
    "    rsa_list_df = pd.DataFrame({'sub_id':sub_id_list,'rsa':rsa_list})\n",
    "    return rsa_list_df"
   ]
  },
  {
   "cell_type": "code",
   "execution_count": 17,
   "id": "eca17f30",
   "metadata": {
    "ExecuteTime": {
     "end_time": "2022-12-23T07:51:53.234268Z",
     "start_time": "2022-12-23T07:51:49.287402Z"
    }
   },
   "outputs": [
    {
     "name": "stdout",
     "output_type": "stream",
     "text": [
      "13\n",
      "13\n",
      "13\n"
     ]
    }
   ],
   "source": [
    "exp_raw_loocv = LOOCV(subj_data_paths = ca_within_data_paths)\n",
    "imp_raw_loocv = LOOCV(subj_data_paths = ma_within_data_paths)\n",
    "dim_raw_loocv = LOOCV(subj_data_paths = dim_within_data_paths)"
   ]
  }
 ],
 "metadata": {
  "kernelspec": {
   "display_name": "Python 3 (ipykernel)",
   "language": "python",
   "name": "python3"
  },
  "language_info": {
   "codemirror_mode": {
    "name": "ipython",
    "version": 3
   },
   "file_extension": ".py",
   "mimetype": "text/x-python",
   "name": "python",
   "nbconvert_exporter": "python",
   "pygments_lexer": "ipython3",
   "version": "3.9.13"
  },
  "latex_envs": {
   "LaTeX_envs_menu_present": true,
   "autoclose": false,
   "autocomplete": true,
   "bibliofile": "biblio.bib",
   "cite_by": "apalike",
   "current_citInitial": 1,
   "eqLabelWithNumbers": true,
   "eqNumInitial": 1,
   "hotkeys": {
    "equation": "Ctrl-E",
    "itemize": "Ctrl-I"
   },
   "labels_anchors": false,
   "latex_user_defs": false,
   "report_style_numbering": false,
   "user_envs_cfg": false
  },
  "toc": {
   "base_numbering": 1,
   "nav_menu": {},
   "number_sections": true,
   "sideBar": true,
   "skip_h1_title": false,
   "title_cell": "Table of Contents",
   "title_sidebar": "Contents",
   "toc_cell": false,
   "toc_position": {},
   "toc_section_display": true,
   "toc_window_display": true
  },
  "varInspector": {
   "cols": {
    "lenName": 16,
    "lenType": 16,
    "lenVar": 40
   },
   "kernels_config": {
    "python": {
     "delete_cmd_postfix": "",
     "delete_cmd_prefix": "del ",
     "library": "var_list.py",
     "varRefreshCmd": "print(var_dic_list())"
    },
    "r": {
     "delete_cmd_postfix": ") ",
     "delete_cmd_prefix": "rm(",
     "library": "var_list.r",
     "varRefreshCmd": "cat(var_dic_list()) "
    }
   },
   "types_to_exclude": [
    "module",
    "function",
    "builtin_function_or_method",
    "instance",
    "_Feature"
   ],
   "window_display": false
  }
 },
 "nbformat": 4,
 "nbformat_minor": 5
}
