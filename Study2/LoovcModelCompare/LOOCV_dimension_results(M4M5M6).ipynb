{
 "cells": [
  {
   "cell_type": "code",
   "execution_count": 1,
   "id": "bd9840a0",
   "metadata": {
    "ExecuteTime": {
     "end_time": "2022-12-23T07:16:09.792437Z",
     "start_time": "2022-12-23T07:16:08.736290Z"
    }
   },
   "outputs": [],
   "source": [
    "import pandas as pd\n",
    "import numpy as np\n",
    "\n",
    "import glob\n",
    "from scipy.stats import spearmanr\n",
    "from sklearn.metrics.pairwise import euclidean_distances#transform dataframe into rdm\n",
    "\n",
    "import matplotlib.pyplot as plt\n",
    "import seaborn as sns"
   ]
  },
  {
   "cell_type": "markdown",
   "id": "db58cbfb",
   "metadata": {},
   "source": [
    "# turn model result into RDM"
   ]
  },
  {
   "cell_type": "code",
   "execution_count": 4,
   "id": "c00d6634",
   "metadata": {
    "ExecuteTime": {
     "end_time": "2022-12-23T07:17:16.082556Z",
     "start_time": "2022-12-23T07:17:15.721933Z"
    }
   },
   "outputs": [],
   "source": [
    "exp_relationship_df_data_paths = glob.glob('../output_data/individual/category/dimension_results/exp_mds_2V_ind/relationship_score_none/*.csv')\n",
    "for f in exp_relationship_df_data_paths:\n",
    "    sub_csv = f.split('\\\\')[1]\n",
    "    exp_df = pd.read_csv(f,index_col = 0)\n",
    "    exp_dissim = pd.DataFrame(euclidean_distances(exp_df),\n",
    "                              index=exp_df.index,columns=exp_df.index)\n",
    "    exp_dissim.to_csv('../output_data/individual/category/dimension_results/exp_mds_2V_ind/RDMs_relationship_score_none/'+sub_csv)"
   ]
  },
  {
   "cell_type": "code",
   "execution_count": 5,
   "id": "4a7b19c2",
   "metadata": {
    "ExecuteTime": {
     "end_time": "2022-12-23T07:17:45.901085Z",
     "start_time": "2022-12-23T07:17:45.447982Z"
    }
   },
   "outputs": [],
   "source": [
    "imp_relationship_df_data_paths = glob.glob('../output_data/individual/category/dimension_results/imp_mds_2V_ind/relationship_score_none/*.csv')\n",
    "for f in imp_relationship_df_data_paths:\n",
    "    sub_csv = f.split('\\\\')[1]\n",
    "    imp_df = pd.read_csv(f,index_col = 0)\n",
    "    imp_dissim = pd.DataFrame(euclidean_distances(imp_df),\n",
    "                              index=imp_df.index,columns=imp_df.index)\n",
    "    imp_dissim.to_csv('../output_data/individual/category/dimension_results/imp_mds_2V_ind/RDMs_relationship_score_none/'+sub_csv)"
   ]
  },
  {
   "cell_type": "code",
   "execution_count": 6,
   "id": "1a43c791",
   "metadata": {
    "ExecuteTime": {
     "end_time": "2022-12-23T07:18:29.425517Z",
     "start_time": "2022-12-23T07:18:29.020893Z"
    }
   },
   "outputs": [],
   "source": [
    "dim_scores_var_df_data_paths = glob.glob('../output_data/individual/dimension/pca_results/scores_var/*.csv')\n",
    "for f in dim_scores_var_df_data_paths:\n",
    "    sub_csv = f.split('\\\\')[1]\n",
    "    dim_df = pd.read_csv(f,index_col = 0)\n",
    "    dim_dissim = pd.DataFrame(euclidean_distances(dim_df),\n",
    "                              index=dim_df.index,columns=dim_df.index)\n",
    "    dim_dissim.to_csv('../output_data/individual/dimension/pca_results/RDMs_scores_var/'+sub_csv)"
   ]
  },
  {
   "cell_type": "markdown",
   "id": "1cde2ee7",
   "metadata": {},
   "source": [
    "# run loocv"
   ]
  },
  {
   "cell_type": "code",
   "execution_count": 7,
   "id": "0b29e862",
   "metadata": {
    "ExecuteTime": {
     "end_time": "2022-12-23T07:18:32.590470Z",
     "start_time": "2022-12-23T07:18:32.570456Z"
    }
   },
   "outputs": [],
   "source": [
    "def LOOCV(subj_data_paths):\n",
    "    rsa_list = []\n",
    "    sub_id_list = []\n",
    "    for left_one in subj_data_paths:\n",
    "        sub_id_list.append(left_one.split('\\\\')[1].split('.')[0])\n",
    "        # get the one left\n",
    "        left_one_df = pd.read_csv(left_one, index_col=0)\n",
    "        dissim_left_one = left_one_df\n",
    "        \n",
    "        # remove one subjects from all 10 subjects\n",
    "        subj_data_paths_remove_one = subj_data_paths.copy()\n",
    "        subj_data_paths_remove_one.remove(left_one)\n",
    "        \n",
    "        dissim_remove_one = np.zeros((159,159))\n",
    "\n",
    "        for f in subj_data_paths_remove_one:\n",
    "            temp_df = pd.read_csv(f, index_col=0)\n",
    "            dissim_remove_one += np.array(temp_df)\n",
    "\n",
    "        dissim_remove_one_avg = dissim_remove_one / len(subj_data_paths_remove_one)\n",
    "        dissim_remove_one_avg = pd.DataFrame(dissim_remove_one_avg, index=temp_df.index, columns=temp_df.columns)\n",
    "        \n",
    "        # caculate the correlation between the one left and others\n",
    "        array_dissim_left_one = np.array(dissim_left_one)[np.triu_indices(159, k = 1)] \n",
    "        array_dissim_remove_one_avg = np.array(dissim_remove_one_avg)[np.triu_indices(159, k = 1)]\n",
    "           \n",
    "        rsa_list.append(spearmanr(array_dissim_remove_one_avg, array_dissim_left_one)[0])\n",
    "    print(len(subj_data_paths_remove_one))\n",
    "    \n",
    "    rsa_list_df = pd.DataFrame({'sub_id':sub_id_list,'rsa':rsa_list})\n",
    "    return rsa_list_df"
   ]
  },
  {
   "cell_type": "code",
   "execution_count": 9,
   "id": "5bdf89d9",
   "metadata": {
    "ExecuteTime": {
     "end_time": "2022-12-23T07:24:13.621429Z",
     "start_time": "2022-12-23T07:24:08.742224Z"
    }
   },
   "outputs": [
    {
     "name": "stdout",
     "output_type": "stream",
     "text": [
      "13\n",
      "13\n",
      "13\n"
     ]
    }
   ],
   "source": [
    "exp_mds_rdm_data_paths = glob.glob('../output_data/individual/category/dimension_results/exp_mds_2V_ind/RDMs_relationship_score_none/*.csv')\n",
    "exp_mds_loocv = LOOCV(subj_data_paths = exp_mds_rdm_data_paths)\n",
    "\n",
    "imp_mds_rdm_data_paths = glob.glob('../output_data/individual/category/dimension_results/imp_mds_2V_ind/RDMs_relationship_score_none/*.csv')\n",
    "imp_mds_loocv = LOOCV(subj_data_paths = imp_mds_rdm_data_paths)\n",
    "\n",
    "dim_pca_rdm_data_paths = glob.glob('../output_data/individual/dimension/pca_results/RDMs_scores_var/*.csv')\n",
    "dim_pca_loocv = LOOCV(subj_data_paths = dim_pca_rdm_data_paths)"
   ]
  },
  {
   "cell_type": "code",
   "execution_count": 11,
   "id": "36878f89",
   "metadata": {
    "ExecuteTime": {
     "end_time": "2022-12-23T07:26:33.467156Z",
     "start_time": "2022-12-23T07:26:33.452812Z"
    }
   },
   "outputs": [],
   "source": [
    "dimension_loocv = pd.merge(pd.merge(exp_mds_loocv,imp_mds_loocv,on=['sub_id']),\n",
    "                         dim_pca_loocv,on=['sub_id'])\n",
    "dimension_loocv.columns = ['sub_id','exp','imp','dim']\n",
    "dimension_loocv.index = dimension_loocv['sub_id']\n",
    "dimension_loocv = dimension_loocv.drop(columns=['sub_id'])\n",
    "dimension_loocv.to_csv('../output_data/model_comparison/LOOCV/dimension_model_loocv.csv')"
   ]
  }
 ],
 "metadata": {
  "kernelspec": {
   "display_name": "Python 3 (ipykernel)",
   "language": "python",
   "name": "python3"
  },
  "language_info": {
   "codemirror_mode": {
    "name": "ipython",
    "version": 3
   },
   "file_extension": ".py",
   "mimetype": "text/x-python",
   "name": "python",
   "nbconvert_exporter": "python",
   "pygments_lexer": "ipython3",
   "version": "3.9.13"
  },
  "latex_envs": {
   "LaTeX_envs_menu_present": true,
   "autoclose": false,
   "autocomplete": true,
   "bibliofile": "biblio.bib",
   "cite_by": "apalike",
   "current_citInitial": 1,
   "eqLabelWithNumbers": true,
   "eqNumInitial": 1,
   "hotkeys": {
    "equation": "Ctrl-E",
    "itemize": "Ctrl-I"
   },
   "labels_anchors": false,
   "latex_user_defs": false,
   "report_style_numbering": false,
   "user_envs_cfg": false
  },
  "toc": {
   "base_numbering": 1,
   "nav_menu": {},
   "number_sections": true,
   "sideBar": true,
   "skip_h1_title": false,
   "title_cell": "Table of Contents",
   "title_sidebar": "Contents",
   "toc_cell": false,
   "toc_position": {},
   "toc_section_display": true,
   "toc_window_display": true
  },
  "varInspector": {
   "cols": {
    "lenName": 16,
    "lenType": 16,
    "lenVar": 40
   },
   "kernels_config": {
    "python": {
     "delete_cmd_postfix": "",
     "delete_cmd_prefix": "del ",
     "library": "var_list.py",
     "varRefreshCmd": "print(var_dic_list())"
    },
    "r": {
     "delete_cmd_postfix": ") ",
     "delete_cmd_prefix": "rm(",
     "library": "var_list.r",
     "varRefreshCmd": "cat(var_dic_list()) "
    }
   },
   "types_to_exclude": [
    "module",
    "function",
    "builtin_function_or_method",
    "instance",
    "_Feature"
   ],
   "window_display": false
  }
 },
 "nbformat": 4,
 "nbformat_minor": 5
}
