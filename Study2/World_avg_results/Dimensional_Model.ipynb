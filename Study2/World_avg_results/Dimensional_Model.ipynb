{
 "cells": [
  {
   "cell_type": "code",
   "execution_count": 1,
   "id": "4188221c",
   "metadata": {
    "ExecuteTime": {
     "end_time": "2023-06-03T07:25:00.453269Z",
     "start_time": "2023-06-03T07:24:57.562Z"
    },
    "vscode": {
     "languageId": "r"
    }
   },
   "outputs": [
    {
     "name": "stderr",
     "output_type": "stream",
     "text": [
      "Warning message:\n",
      "\"程辑包'openxlsx'是用R版本4.1.3 来建造的\"\n",
      "Warning message:\n",
      "\"程辑包'tidyverse'是用R版本4.1.3 来建造的\"\n",
      "Warning message:\n",
      "\"程辑包'ggplot2'是用R版本4.1.3 来建造的\"\n",
      "Warning message:\n",
      "\"程辑包'tibble'是用R版本4.1.3 来建造的\"\n",
      "Warning message:\n",
      "\"程辑包'tidyr'是用R版本4.1.3 来建造的\"\n",
      "Warning message:\n",
      "\"程辑包'readr'是用R版本4.1.3 来建造的\"\n",
      "Warning message:\n",
      "\"程辑包'purrr'是用R版本4.1.3 来建造的\"\n",
      "Warning message:\n",
      "\"程辑包'dplyr'是用R版本4.1.3 来建造的\"\n",
      "Warning message:\n",
      "\"程辑包'stringr'是用R版本4.1.3 来建造的\"\n",
      "Warning message:\n",
      "\"程辑包'forcats'是用R版本4.1.3 来建造的\"\n",
      "Warning message:\n",
      "\"程辑包'lubridate'是用R版本4.1.3 来建造的\"\n",
      "-- \u001b[1mAttaching core tidyverse packages\u001b[22m ------------------------ tidyverse 2.0.0 --\n",
      "\u001b[32mv\u001b[39m \u001b[34mdplyr    \u001b[39m 1.1.0     \u001b[32mv\u001b[39m \u001b[34mreadr    \u001b[39m 2.1.4\n",
      "\u001b[32mv\u001b[39m \u001b[34mforcats  \u001b[39m 1.0.0     \u001b[32mv\u001b[39m \u001b[34mstringr  \u001b[39m 1.5.0\n",
      "\u001b[32mv\u001b[39m \u001b[34mggplot2  \u001b[39m 3.4.1     \u001b[32mv\u001b[39m \u001b[34mtibble   \u001b[39m 3.1.7\n",
      "\u001b[32mv\u001b[39m \u001b[34mlubridate\u001b[39m 1.9.2     \u001b[32mv\u001b[39m \u001b[34mtidyr    \u001b[39m 1.3.0\n",
      "\u001b[32mv\u001b[39m \u001b[34mpurrr    \u001b[39m 1.0.1     \n",
      "-- \u001b[1mConflicts\u001b[22m ------------------------------------------ tidyverse_conflicts() --\n",
      "\u001b[31mx\u001b[39m \u001b[34mdplyr\u001b[39m::\u001b[32mfilter()\u001b[39m masks \u001b[34mstats\u001b[39m::filter()\n",
      "\u001b[31mx\u001b[39m \u001b[34mdplyr\u001b[39m::\u001b[32mlag()\u001b[39m    masks \u001b[34mstats\u001b[39m::lag()\n",
      "\u001b[36mi\u001b[39m Use the conflicted package (\u001b[3m\u001b[34m<http://conflicted.r-lib.org/>\u001b[39m\u001b[23m) to force all conflicts to become errors\n",
      "Warning message:\n",
      "\"程辑包'reshape'是用R版本4.1.3 来建造的\"\n",
      "\n",
      "载入程辑包：'reshape'\n",
      "\n",
      "\n",
      "The following object is masked from 'package:lubridate':\n",
      "\n",
      "    stamp\n",
      "\n",
      "\n",
      "The following object is masked from 'package:dplyr':\n",
      "\n",
      "    rename\n",
      "\n",
      "\n",
      "The following objects are masked from 'package:tidyr':\n",
      "\n",
      "    expand, smiths\n",
      "\n",
      "\n",
      "Warning message:\n",
      "\"程辑包'mgsub'是用R版本4.1.3 来建造的\"\n",
      "Warning message:\n",
      "\"程辑包'ggpubr'是用R版本4.1.3 来建造的\"\n",
      "Warning message:\n",
      "\"程辑包'RColorBrewer'是用R版本4.1.3 来建造的\"\n",
      "Warning message:\n",
      "\"程辑包'corrplot'是用R版本4.1.3 来建造的\"\n",
      "corrplot 0.92 loaded\n",
      "\n",
      "Warning message:\n",
      "\"程辑包'corrr'是用R版本4.1.3 来建造的\"\n",
      "Warning message:\n",
      "\"程辑包'psych'是用R版本4.1.3 来建造的\"\n",
      "\n",
      "载入程辑包：'psych'\n",
      "\n",
      "\n",
      "The following objects are masked from 'package:ggplot2':\n",
      "\n",
      "    %+%, alpha\n",
      "\n",
      "\n",
      "Warning message:\n",
      "\"程辑包'nFactors'是用R版本4.1.3 来建造的\"\n",
      "载入需要的程辑包：lattice\n",
      "\n",
      "\n",
      "载入程辑包：'nFactors'\n",
      "\n",
      "\n",
      "The following object is masked from 'package:lattice':\n",
      "\n",
      "    parallel\n",
      "\n",
      "\n"
     ]
    }
   ],
   "source": [
    "library(openxlsx)\n",
    "library(tidyverse)\n",
    "library(reshape)\n",
    "library(mgsub) # mapping\n",
    "\n",
    "library(ggplot2)\n",
    "library(ggpubr)\n",
    "library(RColorBrewer)\n",
    "library(corrplot)\n",
    "library(corrr)\n",
    "\n",
    "library(psych)\n",
    "#optimal number of components\n",
    "library(nFactors)\n",
    "#library(pheatmap)"
   ]
  },
  {
   "cell_type": "code",
   "execution_count": 2,
   "id": "e3f7a3ec",
   "metadata": {
    "ExecuteTime": {
     "end_time": "2023-06-03T07:25:09.483563Z",
     "start_time": "2023-06-03T07:25:09.463Z"
    },
    "vscode": {
     "languageId": "r"
    }
   },
   "outputs": [],
   "source": [
    "# Organize relationship score\n",
    "regions = c(\n",
    "    # English\n",
    "    'USA','UK','Australia','South Africa',\n",
    "    # Germany\n",
    "    'Germany',\n",
    "    # Japanese\n",
    "    'Japan',\n",
    "    # Hebrew\n",
    "    'Israel',\n",
    "    # Chinese\n",
    "    'CHN','HK(region)',\n",
    "\n",
    "    # French\n",
    "    'France',\n",
    "    # Spanish\n",
    "    'Spain','Mexico','Chile',\n",
    "    # Portuguese\n",
    "    'Portugal','Brazil',\n",
    "    # Russian\n",
    "    'Russia',\n",
    "    # Arabic\n",
    "    'Egypt','Qatar',\n",
    "    'India')"
   ]
  },
  {
   "cell_type": "code",
   "execution_count": 3,
   "id": "420f4a08",
   "metadata": {
    "ExecuteTime": {
     "end_time": "2023-06-03T07:26:22.887765Z",
     "start_time": "2023-06-03T07:26:22.563Z"
    },
    "vscode": {
     "languageId": "r"
    }
   },
   "outputs": [],
   "source": [
    "file_path = '../DataClean_FAVEE_HPP/output_data/cleaning_results/'\n",
    "raw_data_list = list()\n",
    "for (region in dir(file_path)[-which(dir(file_path)=='ReadMe.txt')]){\n",
    "    file = paste(file_path,region,sep='')\n",
    "    file = paste(paste(file,'/',sep=''),region,sep='')\n",
    "    file = paste(file,'_dim_rel.csv',sep='')\n",
    "    raw_df = read.csv(file,row.names=1)\n",
    "    raw_df = data.frame(t(raw_df))\n",
    "    \n",
    "    region = gsub('HK','HK(region)',region) \n",
    "    region = gsub('South_africa','South Africa',region)\n",
    "    \n",
    "    # The dimension should be reversed due to the questionnair set\n",
    "    if (region %in% c('Chile','Mexico','Spain')){\n",
    "        raw_df['Goods.Exchange'] = 100-raw_df['Goods.Exchange']}\n",
    "    if (region %in% c('Israel')){\n",
    "        raw_df['Socioemotional'] = 100-raw_df['Socioemotional']\n",
    "        raw_df['Synchronicity'] = 100-raw_df['Synchronicity']}\n",
    "    if (region %in% c('Brazil','Portugal','Russia')){\n",
    "        raw_df['Morality'] = 100-raw_df['Morality']}\n",
    "    if (region %in% c('France')){\n",
    "        raw_df['Formality.and.Regulation'] = 100-raw_df['Formality.and.Regulation']\n",
    "        raw_df['Expected.Reciprocity'] = 100-raw_df['Expected.Reciprocity']\n",
    "        raw_df['Information.Exchange'] = 100-raw_df['Information.Exchange']\n",
    "        raw_df['Money.Exchange'] = 100-raw_df['Money.Exchange']\n",
    "        raw_df['Mating'] = 100-raw_df['Mating']\n",
    "        raw_df['Importance.for.society'] = 100-raw_df['Importance.for.society']\n",
    "        raw_df['Importance.for.individuals'] = 100-raw_df['Importance.for.individuals']\n",
    "        raw_df['Occupational'] = 100-raw_df['Occupational']}\n",
    "\n",
    "    raw_data_list[[region]] = raw_df}"
   ]
  },
  {
   "cell_type": "markdown",
   "id": "dbd68d57",
   "metadata": {},
   "source": [
    "# Averaged results"
   ]
  },
  {
   "cell_type": "code",
   "execution_count": 4,
   "id": "7ca00d82",
   "metadata": {
    "ExecuteTime": {
     "end_time": "2023-06-03T07:26:25.408866Z",
     "start_time": "2023-06-03T07:26:25.247Z"
    },
    "vscode": {
     "languageId": "r"
    }
   },
   "outputs": [],
   "source": [
    "world_averaged = data.frame(matrix(0,nrow=159,ncol=33))\n",
    "for (region in regions){\n",
    "    region_df = raw_data_list[[region]]\n",
    "    world_averaged = world_averaged + region_df\n",
    "}\n",
    "\n",
    "world_averaged = world_averaged/19\n",
    "relationships = read.csv('../DataClean_FAVEE_HPP/input_data/RelDim_labels/159relationships_fix_label.csv',\n",
    "                        row.names=1)\n",
    "relationships = relationships$'X0'\n",
    "dimensions = read.csv('../DataClean_FAVEE_HPP/input_data/RelDim_labels/dimensions_33d.csv',row.names=1)\n",
    "dimensions = dimensions$'X0'\n",
    "\n",
    "colnames(world_averaged) = dimensions\n",
    "rownames(world_averaged) = relationships\n",
    "\n",
    "write.csv(world_averaged,'Total/clean_results/Total_var_33v.csv')\n",
    "write.csv(scale(world_averaged),'Total/clean_results/Total_scale_var_33v.csv')"
   ]
  },
  {
   "cell_type": "markdown",
   "id": "1a5f7f0d",
   "metadata": {},
   "source": [
    "# Optimal dimension"
   ]
  },
  {
   "cell_type": "code",
   "execution_count": 5,
   "id": "f22f6a4b",
   "metadata": {
    "ExecuteTime": {
     "end_time": "2022-12-29T13:30:06.180944Z",
     "start_time": "2022-12-29T13:30:06.165Z"
    },
    "vscode": {
     "languageId": "r"
    }
   },
   "outputs": [],
   "source": [
    "plotnScree <-\n",
    "function (nScree,\n",
    "          elbow = 3,\n",
    "          legend = TRUE,\n",
    "          ylab   = \"Eigenvalues\",\n",
    "          xlab   = \"Components\",\n",
    "          main   = \"Non Graphical Solutions to Scree Test\")\n",
    "          {\n",
    "   if (!inherits(nScree, \"nScree\"))  stop(\"Method is only for nScree objects\")\n",
    "   #if (!exists(\"legend\", mode=\"logical\") ) legend <- TRUE                                   # To develop\n",
    "   #if (!exists(\"ylab\"))                    ylab <- \"Eigenvalues\"                            # To develop\n",
    "   #if (!exists(\"xlab\"))                    xlab <- \"Components\"                             # To develop\n",
    "   #if (!exists(\"main\"))                    main <- \"Non Graphical Solutions to Scree Test\"  # To develop\n",
    "   if (nScree$Model == \"components\") nkaiser = \"Eigenvalues (>mean  = \" else nkaiser = \"Eigenvalues (>0 = \"\n",
    "   if (nScree$Model == \"factors\")  xlab   = \"Factors\"\n",
    "   # panel\n",
    "   par(col   = 1, pch = 1, cex=4)     # Color and symbol for usual scree\n",
    "   par(mfrow = c(1,1),lwd=2, cex=4)\n",
    "   eig        <- nScree$Analysis$Eigenvalues\n",
    "   k          <- 1:length(eig)\n",
    "   #plotuScree(x=eig, ...)                                                                   # To develop\n",
    "   plotuScree(x=eig, main=main, xlab=xlab, ylab=ylab,col=2)\n",
    "   nk         <- length(eig)\n",
    "   noc        <- nScree$Components$noc\n",
    "   vp.p       <- lm(eig[c(noc+1,nk)] ~ k[c(noc+1,nk)])\n",
    "   x          <- sum(c(1,1) * coef(vp.p))\n",
    "   y          <- sum(c(1,nk)* coef(vp.p))\n",
    "   par(col = 10, cex=1.8)            # Color for optimal coordinates\n",
    "   lines(k[c(1,nk)],c(x,y),lwd=1.8)\n",
    "   par(col = 11,pch=2, cex=1.5)            # Color and symbol for parallel analysis\n",
    "   lines(1:nk, nScree$Analysis$Par.Analysis, type = \"b\",lwd=1.8)\n",
    "   if (legend == TRUE) {\n",
    "     leg.txt  <- c(paste(\"Parallel Analysis (n = \",nScree$Components$nparallel,\")\"),\n",
    "                 c(paste(\"Kaiser-Guttman rule (n = \",nScree$Components$nkaiser,\")\")),\n",
    "                 c(paste(\"Cattell’s scree test (n = \",elbow,\")\")),\n",
    "                 c(paste(\"Optimal Coordinates (n = \",nScree$Components$noc,\")\")) )\n",
    "     legend(\"topright\",\n",
    "            legend   = leg.txt,\n",
    "            pch      = c('△','_','○','_'),\n",
    "            text.col = c(3,4,1,2), \n",
    "            col = c(3,4,1,2),\n",
    "            cex = 1)\n",
    "     }\n",
    "   naf        <-   nScree$Components$naf\n",
    "   text(x = noc ,    y = eig[noc],     label = \" (OC)\", cex = 1.2, adj = c(0,0), col = 2)\n",
    "#    text(x = naf + 1, y = eig[naf + 1], label = \" (AF)\", cex = .70, adj = c(0,0), col = 4)\n",
    "   }"
   ]
  },
  {
   "cell_type": "code",
   "execution_count": 6,
   "id": "e4b2748d",
   "metadata": {
    "ExecuteTime": {
     "end_time": "2023-01-04T10:03:28.338514Z",
     "start_time": "2023-01-04T10:03:21.284Z"
    },
    "vscode": {
     "languageId": "r"
    }
   },
   "outputs": [
    {
     "data": {
      "text/html": [
       "<style>\n",
       ".list-inline {list-style: none; margin:0; padding: 0}\n",
       ".list-inline>li {display: inline-block}\n",
       ".list-inline>li:not(:last-child)::after {content: \"\\00b7\"; padding: 0 .5ex}\n",
       "</style>\n",
       "<ol class=list-inline><li>0.446833614085197</li><li>0.66821879772068</li><li>0.754706517105225</li><li>0.814552285415002</li><li>0.866960241529227</li></ol>\n"
      ],
      "text/latex": [
       "\\begin{enumerate*}\n",
       "\\item 0.446833614085197\n",
       "\\item 0.66821879772068\n",
       "\\item 0.754706517105225\n",
       "\\item 0.814552285415002\n",
       "\\item 0.866960241529227\n",
       "\\end{enumerate*}\n"
      ],
      "text/markdown": [
       "1. 0.446833614085197\n",
       "2. 0.66821879772068\n",
       "3. 0.754706517105225\n",
       "4. 0.814552285415002\n",
       "5. 0.866960241529227\n",
       "\n",
       "\n"
      ],
      "text/plain": [
       "[1] 0.4468336 0.6682188 0.7547065 0.8145523 0.8669602"
      ]
     },
     "metadata": {},
     "output_type": "display_data"
    }
   ],
   "source": [
    "dim_rel_scaled = scale(world_averaged)\n",
    "\n",
    "# Parallel analysis, Optimal Coordinates, and  Cattell's Scree Test\n",
    "ev <- eigen(cor(dim_rel_scaled)) # get eigenvalues\n",
    "ap <- parallel(subject=nrow(dim_rel_scaled),var=ncol(dim_rel_scaled),model=\"components\",rep=5000,cent=.05) \n",
    "nS <- nScree(x=ev$values, model = \"components\",aparallel=ap$eigen$qevpea) # \"qevpea\" indicate 95 centile given cent=.05 \n",
    "nS$Analysis$Cumu[1:5]"
   ]
  },
  {
   "cell_type": "code",
   "execution_count": 7,
   "id": "b93ca35d",
   "metadata": {
    "ExecuteTime": {
     "end_time": "2022-12-29T13:30:57.089046Z",
     "start_time": "2022-12-29T13:30:56.789Z"
    },
    "vscode": {
     "languageId": "r"
    }
   },
   "outputs": [
    {
     "data": {
      "text/html": [
       "<strong>png:</strong> 2"
      ],
      "text/latex": [
       "\\textbf{png:} 2"
      ],
      "text/markdown": [
       "**png:** 2"
      ],
      "text/plain": [
       "png \n",
       "  2 "
      ]
     },
     "metadata": {},
     "output_type": "display_data"
    },
    {
     "data": {
      "image/png": "[encoded data removed]",
      "text/plain": [
       "plot without title"
      ]
     },
     "metadata": {
      "image/png": {
       "height": 420,
       "width": 420
      }
     },
     "output_type": "display_data"
    }
   ],
   "source": [
    "plotnScree(nS, elbow = 5,legend=TRUE, main = NULL)\n",
    "abline(h = 1, col=4, lty=1,lwd =1.8) # Kaiser-Guttman Rule\n",
    "\n",
    "png(\"../output_graph/world_averaged/optimal_components.png\",\n",
    "     family = 'sans',units='in',width=8,height=8,res=300)\n",
    "plotnScree(nS,elbow = 5, legend=TRUE, main = NULL)\n",
    "abline(h = 1, col=4, lty=1,lwd =1.8) # Kaiser-Guttman Rule\n",
    "dev.off()"
   ]
  },
  {
   "cell_type": "markdown",
   "id": "d56a4c1e",
   "metadata": {},
   "source": [
    "# Plot loadings"
   ]
  },
  {
   "cell_type": "code",
   "execution_count": 8,
   "id": "80a50cef",
   "metadata": {
    "ExecuteTime": {
     "end_time": "2023-06-03T07:27:06.503071Z",
     "start_time": "2023-06-03T07:27:06.450Z"
    },
    "vscode": {
     "languageId": "r"
    }
   },
   "outputs": [],
   "source": [
    "dim_rel_scaled = read.csv('Total/clean_results/Total_scale_var_33v.csv',\n",
    "                         row.names=1)\n",
    "dim_rel.pca = prcomp(dim_rel_scaled)\n",
    "ncomp = 5\n",
    "\n",
    "loadings_none = dim_rel.pca$rotation[,1:ncomp]\n",
    "scores_none = dim_rel.pca$x[,1:ncomp] \n",
    "\n",
    "rawLoadings = loadings_none %*% diag(dim_rel.pca$sdev,ncomp,ncomp)\n",
    "loadings_var = varimax(rawLoadings)$loadings\n",
    "scores_var = scale(scores_none) %*% varimax(rawLoadings)$rotmat\n",
    "\n",
    "write.csv(loadings_var,'Total/pca_results/Total_loadings_var_5c_33d.csv')\n",
    "scores_var = as.data.frame(scores_var)\n",
    "write.csv(scores_var,'Total/pca_results/Total_scores_var_5c_33d.csv')"
   ]
  },
  {
   "cell_type": "code",
   "execution_count": 9,
   "id": "2b0b4fdd",
   "metadata": {
    "ExecuteTime": {
     "end_time": "2023-06-03T07:29:22.139240Z",
     "start_time": "2023-06-03T07:29:22.102Z"
    },
    "vscode": {
     "languageId": "r"
    }
   },
   "outputs": [],
   "source": [
    "scores_var_labels = scores_var\n",
    "colnames(scores_var_labels) = c('Activeness','Exchange','Formality','Equality','Valence')\n",
    "scores_var_labels['Activeness'] = -scores_var_labels['Activeness']\n",
    "scores_var_labels['Formality'] = -scores_var_labels['Formality']\n",
    "scores_var_labels['Valence'] = -scores_var_labels['Valence']\n",
    "write.csv(scores_var_labels,'Total/pca_results/Total_scores_var_5c_33d_labels.csv')"
   ]
  },
  {
   "cell_type": "markdown",
   "id": "9370a747",
   "metadata": {},
   "source": [
    "## abs"
   ]
  },
  {
   "cell_type": "code",
   "execution_count": 10,
   "id": "5af73dcf",
   "metadata": {
    "ExecuteTime": {
     "end_time": "2023-01-11T10:52:16.978835Z",
     "start_time": "2023-01-11T10:52:16.813Z"
    },
    "vscode": {
     "languageId": "r"
    }
   },
   "outputs": [
    {
     "data": {
      "image/png": "[encoded data removed]",
      "text/plain": [
       "Plot with title \"\""
      ]
     },
     "metadata": {
      "image/png": {
       "height": 600,
       "width": 360
      }
     },
     "output_type": "display_data"
    }
   ],
   "source": [
    "loadings_var_reorder = as.data.frame(loadings_var[,1:5])\n",
    "colnames(loadings_var_reorder) = c('Activeness','Exchange','Formality','Equality','Valence')\n",
    "#loadings_var_reorder = abs(loadings_var_reorder)\n",
    "loadings_var_reorder = loadings_var_reorder[,\n",
    "                        c('Formality','Activeness','Valence','Exchange','Equality')]\n",
    "\n",
    "#filter each row's max loading, and attribute it to correspnding column.\n",
    "order_list = c()\n",
    "for (row in c(1:33)){\n",
    "    temp_max = abs(loadings_var_reorder[row,1])\n",
    "    n = 1\n",
    "    for (col in c(2:5)){\n",
    "        temp = abs(loadings_var_reorder[row,col])\n",
    "        if (temp > temp_max){\n",
    "            temp_max = temp\n",
    "            n = col\n",
    "        }\n",
    "        \n",
    "    }\n",
    "    order_list[row] = n\n",
    "}\n",
    "loadings_var_reorder = loadings_var_reorder %>% mutate(order = order_list)\n",
    "loadings_var_reorder['rel'] = rownames(loadings_var_reorder)\n",
    "RC1 = loadings_var_reorder %>% filter(order==1) %>% arrange(desc(abs(Formality)))\n",
    "RC2 = loadings_var_reorder %>% filter(order==2) %>% arrange(desc(abs(Activeness)))\n",
    "RC3 = loadings_var_reorder %>% filter(order==3) %>% arrange(desc(abs(Valence)))\n",
    "RC4 = loadings_var_reorder %>% filter(order==4) %>% arrange(desc(abs(Exchange)))\n",
    "RC5 = loadings_var_reorder %>% filter(order==5) %>% arrange(desc(abs(Equality)))\n",
    "rownames(loadings_var_reorder) = loadings_var_reorder$'rel'\n",
    "\n",
    "loadings_var_reorder = rbind(RC1,RC2,RC3,RC4,RC5)\n",
    "loadings_var_reorder = loadings_var_reorder[1:5]\n",
    "\n",
    "options(repr.plot.width=6, repr.plot.height=10)\n",
    "my.breaks = c(seq(-1,1,by=0.01))\n",
    "corrplot(as.matrix(abs(loadings_var_reorder)),is.corr=FALSE,\n",
    "         tl.col = \"black\",tl.srt=60,tl.cex=1.1,family='sans',font=2,\n",
    "         col.lim = c(0,1),cl.ratio = 0.4,cl.cex=1,\n",
    "         col = colorRampPalette(c(\"white\",\"darkred\"))(length(my.breaks)))\n",
    "write.csv(loadings_var_reorder,'Total/pca_results/pca_reorder.csv')"
   ]
  },
  {
   "cell_type": "code",
   "execution_count": 11,
   "id": "ccdba5a6",
   "metadata": {
    "ExecuteTime": {
     "end_time": "2022-12-29T13:32:48.819552Z",
     "start_time": "2022-12-29T13:32:48.527Z"
    },
    "vscode": {
     "languageId": "r"
    }
   },
   "outputs": [
    {
     "data": {
      "text/html": [
       "<strong>png:</strong> 2"
      ],
      "text/latex": [
       "\\textbf{png:} 2"
      ],
      "text/markdown": [
       "**png:** 2"
      ],
      "text/plain": [
       "png \n",
       "  2 "
      ]
     },
     "metadata": {},
     "output_type": "display_data"
    }
   ],
   "source": [
    "png(\"../output_graph/world_averaged/loadings.png\", bg=\"transparent\",\n",
    "    family = 'sans',units='in',width=6,height=10,res=300)\n",
    "pca_5c_33d_loadings_total = read.csv('Total/pca_results/Total_loadings_var_5c_33d.csv',row.names=1)\n",
    "loadings_var = pca_5c_33d_loadings_total\n",
    "loadings_var_reorder = as.data.frame(loadings_var[,1:5])\n",
    "colnames(loadings_var_reorder) = c('Activeness','Exchange','Formality','Equality','Valence')\n",
    "loadings_var_reorder = abs(loadings_var_reorder)\n",
    "loadings_var_reorder = loadings_var_reorder[,\n",
    "                        c('Formality','Activeness','Valence','Exchange','Equality')]\n",
    "\n",
    "#filter each row's max loading, and attribute it to correspnding column.\n",
    "order_list = c()\n",
    "for (row in c(1:33)){\n",
    "    temp_max = abs(loadings_var_reorder[row,1])\n",
    "    n = 1\n",
    "    for (col in c(2:5)){\n",
    "        temp = abs(loadings_var_reorder[row,col])\n",
    "        if (temp > temp_max){\n",
    "            temp_max = temp\n",
    "            n = col\n",
    "        }\n",
    "        \n",
    "    }\n",
    "    order_list[row] = n\n",
    "}\n",
    "loadings_var_reorder = loadings_var_reorder %>% mutate(order = order_list)\n",
    "loadings_var_reorder['rel'] = rownames(loadings_var_reorder)\n",
    "RC1 = loadings_var_reorder %>% filter(order==1) %>% arrange(desc(Formality))\n",
    "RC2 = loadings_var_reorder %>% filter(order==2) %>% arrange(desc(Activeness))\n",
    "RC3 = loadings_var_reorder %>% filter(order==3) %>% arrange(desc(Valence))\n",
    "RC4 = loadings_var_reorder %>% filter(order==4) %>% arrange(desc(Exchange))\n",
    "RC5 = loadings_var_reorder %>% filter(order==5) %>% arrange(desc(Equality))\n",
    "rownames(loadings_var_reorder) = loadings_var_reorder$'rel'\n",
    "\n",
    "loadings_var_reorder = rbind(RC1,RC2,RC3,RC4,RC5)\n",
    "loadings_var_reorder = loadings_var_reorder[1:5]\n",
    "\n",
    "options(repr.plot.width=6, repr.plot.height=10)\n",
    "my.breaks = c(seq(-1,1,by=0.01))\n",
    "corrplot(as.matrix(abs(loadings_var_reorder)),is.corr=FALSE,\n",
    "         tl.col = \"black\",tl.srt=60,tl.cex=1.1,family='sans',font=2,\n",
    "         col.lim = c(0,1),cl.ratio = 0.4,cl.cex=1,\n",
    "         col = colorRampPalette(c(\"white\",\"darkred\"))(length(my.breaks)))\n",
    "dev.off()"
   ]
  },
  {
   "cell_type": "code",
   "execution_count": 12,
   "id": "e1bd0e6e",
   "metadata": {
    "ExecuteTime": {
     "end_time": "2023-01-04T10:05:18.301831Z",
     "start_time": "2023-01-04T10:05:18.106Z"
    },
    "vscode": {
     "languageId": "r"
    }
   },
   "outputs": [
    {
     "data": {
      "image/png": "[encoded data removed]",
      "text/plain": [
       "Plot with title \"\""
      ]
     },
     "metadata": {
      "image/png": {
       "height": 600,
       "width": 360
      }
     },
     "output_type": "display_data"
    }
   ],
   "source": [
    "dim_rel.pca = prcomp(dim_rel_scaled)\n",
    "ncomp = 6\n",
    "\n",
    "loadings_none = dim_rel.pca$rotation[,1:ncomp]\n",
    "scores_none = dim_rel.pca$x[,1:ncomp] \n",
    "\n",
    "rawLoadings = loadings_none %*% diag(dim_rel.pca$sdev,ncomp,ncomp)\n",
    "loadings_var = varimax(rawLoadings)$loadings\n",
    "scores_var = scale(scores_none) %*% varimax(rawLoadings)$rotmat\n",
    "\n",
    "loadings_var_reorder = as.data.frame(loadings_var[,1:6])\n",
    "colnames(loadings_var_reorder) = c('Activeness','Exchange','Formality','Equality','Valence',\n",
    "                                  'Visibility')\n",
    "loadings_var_reorder = abs(loadings_var_reorder)\n",
    "loadings_var_reorder = loadings_var_reorder[,\n",
    "                        c('Formality','Activeness','Valence','Exchange','Equality','Visibility')]\n",
    "\n",
    "#filter each row's max loading, and attribute it to correspnding column.\n",
    "order_list = c()\n",
    "for (row in c(1:33)){\n",
    "    temp_max = abs(loadings_var_reorder[row,1])\n",
    "    n = 1\n",
    "    for (col in c(2:6)){\n",
    "        temp = abs(loadings_var_reorder[row,col])\n",
    "        if (temp > temp_max){\n",
    "            temp_max = temp\n",
    "            n = col\n",
    "        }\n",
    "        \n",
    "    }\n",
    "    order_list[row] = n\n",
    "}\n",
    "loadings_var_reorder = loadings_var_reorder %>% mutate(order = order_list)\n",
    "loadings_var_reorder['rel'] = rownames(loadings_var_reorder)\n",
    "RC1 = loadings_var_reorder %>% filter(order==1) %>% arrange(desc(Formality))\n",
    "RC2 = loadings_var_reorder %>% filter(order==2) %>% arrange(desc(Activeness))\n",
    "RC3 = loadings_var_reorder %>% filter(order==3) %>% arrange(desc(Valence))\n",
    "RC4 = loadings_var_reorder %>% filter(order==4) %>% arrange(desc(Exchange))\n",
    "RC5 = loadings_var_reorder %>% filter(order==5) %>% arrange(desc(Equality))\n",
    "RC6 = loadings_var_reorder %>% filter(order==6) %>% arrange(desc(Visibility))\n",
    "rownames(loadings_var_reorder) = loadings_var_reorder$'rel'\n",
    "\n",
    "loadings_var_reorder = rbind(RC1,RC2,RC3,RC4,RC5,RC6)\n",
    "loadings_var_reorder = loadings_var_reorder[1:6]\n",
    "\n",
    "options(repr.plot.width=6, repr.plot.height=10)\n",
    "my.breaks = c(seq(-1,1,by=0.01))\n",
    "corrplot(as.matrix(abs(loadings_var_reorder)),is.corr=FALSE,\n",
    "         tl.col = \"black\",tl.srt=60,tl.cex=1.1,family='sans',font=2,\n",
    "         col.lim = c(0,1),cl.ratio = 0.4,cl.cex=1,\n",
    "         col = colorRampPalette(c(\"white\",\"darkred\"))(length(my.breaks)))"
   ]
  },
  {
   "cell_type": "markdown",
   "id": "995433a9",
   "metadata": {},
   "source": [
    "## colorful"
   ]
  },
  {
   "cell_type": "code",
   "execution_count": 13,
   "id": "c36bd8ab",
   "metadata": {
    "ExecuteTime": {
     "end_time": "2023-01-17T11:03:20.453310Z",
     "start_time": "2023-01-17T11:03:20.291Z"
    },
    "vscode": {
     "languageId": "r"
    }
   },
   "outputs": [
    {
     "data": {
      "image/png": "[encoded data removed]",
      "text/plain": [
       "Plot with title \"\""
      ]
     },
     "metadata": {
      "image/png": {
       "height": 600,
       "width": 360
      }
     },
     "output_type": "display_data"
    }
   ],
   "source": [
    "loadings_var = read.csv('Total/pca_results/Total_loadings_var_5c_33d.csv',\n",
    "                       row.names=1)\n",
    "loadings_var_reorder = as.data.frame(loadings_var[,1:5])\n",
    "colnames(loadings_var_reorder) = c('Activeness','Exchange','Formality','Equality','Valence')\n",
    "\n",
    "#filter each row's max loading, and attribute it to correspnding column.\n",
    "order_list = c()\n",
    "for (row in c(1:33)){\n",
    "    temp_max = abs(loadings_var_reorder[row,1])\n",
    "    n = 1\n",
    "    for (col in c(2:5)){\n",
    "        temp = abs(loadings_var_reorder[row,col])\n",
    "        if (temp > temp_max){\n",
    "            temp_max = temp\n",
    "            n = col\n",
    "        }\n",
    "\n",
    "    }\n",
    "    order_list[row] = n\n",
    "}\n",
    "loadings_var_reorder = loadings_var_reorder %>% mutate(order = order_list)\n",
    "loadings_var_reorder['rel'] = rownames(loadings_var_reorder)\n",
    "RC1 = loadings_var_reorder %>% filter(order==1) %>% arrange(desc(Formality))\n",
    "RC2 = loadings_var_reorder %>% filter(order==2) %>% arrange(desc(Activeness))\n",
    "RC3 = loadings_var_reorder %>% filter(order==3) %>% arrange(desc(Valence))\n",
    "RC4 = loadings_var_reorder %>% filter(order==4) %>% arrange(desc(Exchange))\n",
    "RC5 = loadings_var_reorder %>% filter(order==5) %>% arrange(desc(Equality))\n",
    "rownames(loadings_var_reorder) = loadings_var_reorder$'rel'\n",
    "\n",
    "loadings_var_reorder = rbind(RC1,RC2,RC3,RC4,RC5)\n",
    "loadings_var_reorder = loadings_var_reorder[1:5]\n",
    "\n",
    "options(repr.plot.width=6, repr.plot.height=10)\n",
    "my.breaks = c(seq(-1,1,by=0.01))\n",
    "corrplot(as.matrix(loadings_var_reorder),is.corr=FALSE,\n",
    "         tl.col = \"black\",tl.srt=60,tl.cex=1.1,family='sans',font=2,\n",
    "         col.lim = c(-1,1),cl.ratio = 0.4,cl.cex=1,\n",
    "         col = colorRampPalette(rev(brewer.pal(n=7,name =\"RdBu\")))(length(my.breaks)),\n",
    "         mar=c(0, 0, 1, 0))"
   ]
  },
  {
   "cell_type": "code",
   "execution_count": 14,
   "metadata": {
    "vscode": {
     "languageId": "r"
    }
   },
   "outputs": [],
   "source": [
    "dim_rel.pca = prcomp(dim_rel_scaled)\n",
    "ncomp = 2\n",
    "\n",
    "loadings_none = dim_rel.pca$rotation[,1:ncomp]\n",
    "scores_none = dim_rel.pca$x[,1:ncomp] \n",
    "\n",
    "rawLoadings = loadings_none %*% diag(dim_rel.pca$sdev,ncomp,ncomp)\n",
    "loadings_var = varimax(rawLoadings)$loadings\n",
    "scores_var = scale(scores_none) %*% varimax(rawLoadings)$rotmat\n",
    "\n",
    "write.csv(loadings_var,'Total/pca_results/Total_loadings_var_2c_33d.csv')\n",
    "scores_var = as.data.frame(scores_var)\n",
    "write.csv(scores_var,'Total/pca_results/Total_scores_var_2c_33d.csv')"
   ]
  }
 ],
 "metadata": {
  "kernelspec": {
   "display_name": "R",
   "language": "R",
   "name": "ir"
  },
  "language_info": {
   "codemirror_mode": "r",
   "file_extension": ".r",
   "mimetype": "text/x-r-source",
   "name": "R",
   "pygments_lexer": "r",
   "version": "4.1.2"
  },
  "latex_envs": {
   "LaTeX_envs_menu_present": true,
   "autoclose": false,
   "autocomplete": true,
   "bibliofile": "biblio.bib",
   "cite_by": "apalike",
   "current_citInitial": 1,
   "eqLabelWithNumbers": true,
   "eqNumInitial": 1,
   "hotkeys": {
    "equation": "Ctrl-E",
    "itemize": "Ctrl-I"
   },
   "labels_anchors": false,
   "latex_user_defs": false,
   "report_style_numbering": false,
   "user_envs_cfg": false
  },
  "toc": {
   "base_numbering": 1,
   "nav_menu": {},
   "number_sections": true,
   "sideBar": true,
   "skip_h1_title": false,
   "title_cell": "Table of Contents",
   "title_sidebar": "Contents",
   "toc_cell": false,
   "toc_position": {
    "height": "564.8px",
    "left": "996px",
    "top": "151.6px",
    "width": "261.269px"
   },
   "toc_section_display": true,
   "toc_window_display": true
  },
  "varInspector": {
   "cols": {
    "lenName": 16,
    "lenType": 16,
    "lenVar": 40
   },
   "kernels_config": {
    "python": {
     "delete_cmd_postfix": "",
     "delete_cmd_prefix": "del ",
     "library": "var_list.py",
     "varRefreshCmd": "print(var_dic_list())"
    },
    "r": {
     "delete_cmd_postfix": ") ",
     "delete_cmd_prefix": "rm(",
     "library": "var_list.r",
     "varRefreshCmd": "cat(var_dic_list()) "
    }
   },
   "types_to_exclude": [
    "module",
    "function",
    "builtin_function_or_method",
    "instance",
    "_Feature"
   ],
   "window_display": false
  }
 },
 "nbformat": 4,
 "nbformat_minor": 5
}
