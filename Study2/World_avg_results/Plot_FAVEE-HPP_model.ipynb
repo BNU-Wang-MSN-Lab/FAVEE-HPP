{
 "cells": [
  {
   "cell_type": "code",
   "execution_count": 1,
   "id": "b5efed3d",
   "metadata": {
    "ExecuteTime": {
     "end_time": "2023-02-12T06:46:31.619789Z",
     "start_time": "2023-02-12T06:46:27.381335Z"
    }
   },
   "outputs": [],
   "source": [
    "import plotly\n",
    "import plotly.graph_objects as go\n",
    "import plotly.express as px\n",
    "import numpy as np\n",
    "import pandas as pd"
   ]
  },
  {
   "cell_type": "markdown",
   "id": "e4e4b569",
   "metadata": {},
   "source": [
    "# Import data"
   ]
  },
  {
   "cell_type": "code",
   "execution_count": 2,
   "id": "6d0409fd",
   "metadata": {
    "ExecuteTime": {
     "end_time": "2023-02-12T06:46:37.759461Z",
     "start_time": "2023-02-12T06:46:37.727644Z"
    }
   },
   "outputs": [],
   "source": [
    "raw_results = pd.read_csv('Total/categorical_model/total_raw33d_dissim_3k.csv',\n",
    "                         index_col=0)\n",
    "pca_5c_3k = pd.read_csv('Total/categorical_model/total_pca5d_dissim_3k.csv',\n",
    "                       index_col=0)\n",
    "# transform into range[0,1]\n",
    "Equality_values = pca_5c_3k['Equality']\n",
    "Exchange_values = pca_5c_3k['Exchange']\n",
    "pca_5c_3k['Equality_plot'] = (Equality_values -Equality_values.min())/(Equality_values.max()-Equality_values.min())\n",
    "pca_5c_3k['Exchange_plot'] = (Exchange_values -Exchange_values.min())/(Exchange_values.max()-Exchange_values.min())\n",
    "\n",
    "pca_5c_3k['cl_k3'] = raw_results['cl_k3'] # clustering results based on \"cl_k3\""
   ]
  },
  {
   "cell_type": "code",
   "execution_count": 3,
   "id": "f544fcd4",
   "metadata": {
    "ExecuteTime": {
     "end_time": "2023-02-12T06:46:39.610628Z",
     "start_time": "2023-02-12T06:46:39.594644Z"
    }
   },
   "outputs": [
    {
     "name": "stdout",
     "output_type": "stream",
     "text": [
      "\n",
      "Cluster 1 Relationship:55\n",
      "Parent and Child, Parent and Teenager, Wife and Husband, Fiance and Fiancee, Between Siblings, Between cousins, Between Close Friends, Between second cousins, Parent and Infant, Grandparent and Grandchild, Step-parent and Step-child, Foster-parent and Foster-child, Godparent and Godchild, Step-grandparent and Step-grandchild, Ancestor and Descendant, Bride and Groom, Man and His Mistress, Brother and Sister, Between step-siblings, Between close relatives, Between twins, Between a person and their family friends, Between a person and their deceased spouse, Between religious followers, Man and God, Between peers, Between classmates, Between roommates, Between sorority sisters, Between fraternity brothers, Bride and Bridesmaid, Groom and Groomsman, Between friends, Between Facebook Friends, Between childhood friends, Between pen-friends, Between friends with benefits, Between romantic lovers, Between life-partners, Between soul-mates, Between church members, Between fans of the same sports team, Aunt and Niece/Nephew, Uncle and Niece/Nephew, Between half-siblings, Between adoptive parents and adopted kids, Mother and Infant, Between confidants, Between a person and their significant other, Between companions, Between playmates, Between a person and their crush, Between cohabitants, Between long-distance lovers, Between brothers-in-arms\n",
      "\n",
      "Cluster 2 Relationship:31\n",
      "Between divorced spouses, Between a person and their in-laws, Guard and Prisoner, Between opposing negotiators, Between political opponents, Between business rivals, Between enemies, Between casual acquaintances, Man Wife and Man Mistress, Between distant relatives, Victim and Criminal, Victim and Witness, Criminal and Police officer, Criminal and Prosecutor, Criminal and Hostage, Defendant and Plaintiff, Police officer and Offender, Parole officer and Parolee, Prostitute and Customer, Slave and Master, Between sports rivals, Between romantic rivals, Celebrity and Haters, Bully and Victim, Between a person and their social media follower, Between ex-lovers, Between strangers, Between fans of opposing sports teams, Between frenemies, Between alumni, Between competitors in sports\n",
      "\n",
      "Cluster 3 Relationship:73\n",
      "Employer and Employee, Interviewer and Job applicant, Nurse and Patient, Therapist and Patient, Salesperson and Customer, Between Business Partners, Teacher and Student, Professor and Graduate student, Master and Servant, Between teammates in sports, Manager and Staff, Foreman and Laborer, Owner and Manager, Union leader and union member, Manager and Assistant, Chief and Deputy, Supervisor and Subordinate, Boss and Secretary, Entrepreneur and Investor, Intern and Employee, Lawyer and Client, Judge and Lawyer, Drug dealer and Addict, Police officer and Civilian, Consultant and Client, Chef and Customer, Customer and Server, Customer and Businessman, Doctor and Patient, Doctor and Nurse, Patient and Caretaker, Driver and Passenger, Coach and athlete, Team Captain and Team Members, Club Member and Club President, Politician and Supporter, Leader and Follower, Representative and Citizen, Officer and Soldier, Babysitter and Infant, Religious leader and Congregant, Guide and Tourist, Athlete and Referee, Reader and Writer, Reviewer and Writer, Performer and Audience, Dealer and Buyer, Sugar-daddy and Sugar-baby, Director and Performer, Psychologist and Client, Judge and Contestant, Between Co-workers, Between criminal and their accomplice, Between diplomats, Principal and Teacher, Professor and Teaching Assistant, University student and Administrator, Student and Dorm Resident assistant, Mentor and Mentee, Athletic trainer and Trainee, Researcher and Research Subject, Predecessor and Successor, Landlord and Tenant, Landlord and Housekeeper, Guest and Host, Television host and Guest, Volunteer and Organizer, Celebrity and Fans, Native and Tourist, Between political allies, Between neighbors, Superior and Subordinate, Between a monarch and their minister\n"
     ]
    }
   ],
   "source": [
    "for n in range(len(pca_5c_3k['cl_k3'].unique())):\n",
    "    each_cluster = pca_5c_3k.index[pca_5c_3k['cl_k3']==n]\n",
    "    print(\"\\nCluster \"+str(n+1)+\" Relationship:{}\".format(len(each_cluster)))\n",
    "    print(*pca_5c_3k.index[pca_5c_3k['cl_k3']==n], sep = \", \")"
   ]
  },
  {
   "cell_type": "code",
   "execution_count": 4,
   "id": "798cf47f",
   "metadata": {
    "ExecuteTime": {
     "end_time": "2023-02-12T06:46:42.432326Z",
     "start_time": "2023-02-12T06:46:42.427357Z"
    }
   },
   "outputs": [],
   "source": [
    "pca_5c_3k.loc[pca_5c_3k['cl_k3']==0,'cluster'] = 'Private'\n",
    "pca_5c_3k.loc[pca_5c_3k['cl_k3']==1,'cluster'] = 'Hostile'\n",
    "pca_5c_3k.loc[pca_5c_3k['cl_k3']==2,'cluster'] = 'Public'"
   ]
  },
  {
   "cell_type": "code",
   "execution_count": 5,
   "id": "793b582f",
   "metadata": {
    "ExecuteTime": {
     "end_time": "2023-02-12T06:46:43.334795Z",
     "start_time": "2023-02-12T06:46:43.315771Z"
    }
   },
   "outputs": [],
   "source": [
    "fix_rels = pd.read_csv('../DataClean_FAVEE_HPP/input_data/RelDim_labels/labels_different_versions.csv',index_col=0)\n",
    "fix_rels_zipped = zip(fix_rels['one'],fix_rels['common'])\n",
    "fix_rels_map = {key:value for key,value in fix_rels_zipped}\n",
    "pca_5c_3k.index = pca_5c_3k.index.map(fix_rels_map)\n",
    "rels_159 = list(pca_5c_3k.index)\n",
    "rels_159 = [i.replace('Aunt-Niece/Nephew','Aunt-Niece(Nephew)') for i in rels_159]\n",
    "rels_159 = [i.replace('Uncle-Niece/Nephew','Uncle-Niece(Nephew)') for i in rels_159]\n",
    "pca_5c_3k.index = rels_159\n",
    "pca_5c_3k['rel'] = rels_159\n",
    "\n",
    "pd.DataFrame(pca_5c_3k.index).to_csv('Total/categorical_model/159relationships_simple.csv')"
   ]
  },
  {
   "cell_type": "markdown",
   "id": "94b56b0f",
   "metadata": {},
   "source": [
    "# Plot results"
   ]
  },
  {
   "cell_type": "code",
   "execution_count": 6,
   "id": "54b5aa09",
   "metadata": {
    "ExecuteTime": {
     "end_time": "2023-02-12T06:46:45.543584Z",
     "start_time": "2023-02-12T06:46:45.527497Z"
    }
   },
   "outputs": [
    {
     "data": {
      "text/plain": [
       "{'Private': '#E45E62', 'Hostile': '#6594BE', 'Public': '#4EC186'}"
      ]
     },
     "execution_count": 6,
     "metadata": {},
     "output_type": "execute_result"
    }
   ],
   "source": [
    "color_cluster_dict = dict(zip(['Private','Hostile','Public'],\n",
    "                          [\"#E45E62\",\"#6594BE\",\"#4EC186\"]))\n",
    "color_cluster_dict"
   ]
  },
  {
   "cell_type": "code",
   "execution_count": 7,
   "id": "b377877d",
   "metadata": {
    "ExecuteTime": {
     "end_time": "2023-02-12T06:46:46.368519Z",
     "start_time": "2023-02-12T06:46:46.351858Z"
    }
   },
   "outputs": [],
   "source": [
    "plot_df = pca_5c_3k.copy()\n",
    "plot_df['color'] = plot_df['cluster'].map(color_cluster_dict)\n",
    "plot_df = plot_df.rename(columns = {'Formality':'yFormality','Activeness':'xActiveness',\n",
    "                                   'Valence':'zValence'})"
   ]
  },
  {
   "cell_type": "code",
   "execution_count": 8,
   "id": "45e187f1",
   "metadata": {
    "ExecuteTime": {
     "end_time": "2023-02-12T06:46:47.273766Z",
     "start_time": "2023-02-12T06:46:47.251738Z"
    }
   },
   "outputs": [
    {
     "data": {
      "text/html": [
       "<div>\n",
       "<style scoped>\n",
       "    .dataframe tbody tr th:only-of-type {\n",
       "        vertical-align: middle;\n",
       "    }\n",
       "\n",
       "    .dataframe tbody tr th {\n",
       "        vertical-align: top;\n",
       "    }\n",
       "\n",
       "    .dataframe thead th {\n",
       "        text-align: right;\n",
       "    }\n",
       "</style>\n",
       "<table border=\"1\" class=\"dataframe\">\n",
       "  <thead>\n",
       "    <tr style=\"text-align: right;\">\n",
       "      <th></th>\n",
       "      <th>xActiveness</th>\n",
       "      <th>Exchange</th>\n",
       "      <th>yFormality</th>\n",
       "      <th>Equality</th>\n",
       "      <th>zValence</th>\n",
       "      <th>cl_k3</th>\n",
       "      <th>cl_k6</th>\n",
       "      <th>Equality_plot</th>\n",
       "      <th>Exchange_plot</th>\n",
       "      <th>cluster</th>\n",
       "      <th>rel</th>\n",
       "      <th>color</th>\n",
       "    </tr>\n",
       "  </thead>\n",
       "  <tbody>\n",
       "    <tr>\n",
       "      <th>Parent-Child</th>\n",
       "      <td>2.023071</td>\n",
       "      <td>-0.666555</td>\n",
       "      <td>-1.304578</td>\n",
       "      <td>-2.315921</td>\n",
       "      <td>-0.034640</td>\n",
       "      <td>0</td>\n",
       "      <td>3</td>\n",
       "      <td>0.004998</td>\n",
       "      <td>0.155855</td>\n",
       "      <td>Private</td>\n",
       "      <td>Parent-Child</td>\n",
       "      <td>#E45E62</td>\n",
       "    </tr>\n",
       "    <tr>\n",
       "      <th>Parent-Teenager</th>\n",
       "      <td>1.609455</td>\n",
       "      <td>-0.572094</td>\n",
       "      <td>-1.165753</td>\n",
       "      <td>-1.772691</td>\n",
       "      <td>-0.535921</td>\n",
       "      <td>0</td>\n",
       "      <td>3</td>\n",
       "      <td>0.121241</td>\n",
       "      <td>0.175932</td>\n",
       "      <td>Private</td>\n",
       "      <td>Parent-Teenager</td>\n",
       "      <td>#E45E62</td>\n",
       "    </tr>\n",
       "    <tr>\n",
       "      <th>Wife-Husband</th>\n",
       "      <td>2.114681</td>\n",
       "      <td>0.118098</td>\n",
       "      <td>-1.512656</td>\n",
       "      <td>1.136554</td>\n",
       "      <td>-0.402877</td>\n",
       "      <td>0</td>\n",
       "      <td>2</td>\n",
       "      <td>0.743779</td>\n",
       "      <td>0.322633</td>\n",
       "      <td>Private</td>\n",
       "      <td>Wife-Husband</td>\n",
       "      <td>#E45E62</td>\n",
       "    </tr>\n",
       "    <tr>\n",
       "      <th>Fiance-Fiancee</th>\n",
       "      <td>1.173628</td>\n",
       "      <td>-0.049648</td>\n",
       "      <td>-1.555230</td>\n",
       "      <td>1.223057</td>\n",
       "      <td>0.256281</td>\n",
       "      <td>0</td>\n",
       "      <td>2</td>\n",
       "      <td>0.762289</td>\n",
       "      <td>0.286978</td>\n",
       "      <td>Private</td>\n",
       "      <td>Fiance-Fiancee</td>\n",
       "      <td>#E45E62</td>\n",
       "    </tr>\n",
       "    <tr>\n",
       "      <th>Siblings</th>\n",
       "      <td>1.301050</td>\n",
       "      <td>-1.000725</td>\n",
       "      <td>-0.467402</td>\n",
       "      <td>0.803090</td>\n",
       "      <td>-0.250612</td>\n",
       "      <td>0</td>\n",
       "      <td>2</td>\n",
       "      <td>0.672422</td>\n",
       "      <td>0.084827</td>\n",
       "      <td>Private</td>\n",
       "      <td>Siblings</td>\n",
       "      <td>#E45E62</td>\n",
       "    </tr>\n",
       "    <tr>\n",
       "      <th>...</th>\n",
       "      <td>...</td>\n",
       "      <td>...</td>\n",
       "      <td>...</td>\n",
       "      <td>...</td>\n",
       "      <td>...</td>\n",
       "      <td>...</td>\n",
       "      <td>...</td>\n",
       "      <td>...</td>\n",
       "      <td>...</td>\n",
       "      <td>...</td>\n",
       "      <td>...</td>\n",
       "      <td>...</td>\n",
       "    </tr>\n",
       "    <tr>\n",
       "      <th>Competitors in sports</th>\n",
       "      <td>-0.217612</td>\n",
       "      <td>-0.585352</td>\n",
       "      <td>1.202717</td>\n",
       "      <td>0.945673</td>\n",
       "      <td>-1.494969</td>\n",
       "      <td>1</td>\n",
       "      <td>5</td>\n",
       "      <td>0.702933</td>\n",
       "      <td>0.173114</td>\n",
       "      <td>Hostile</td>\n",
       "      <td>Competitors in sports</td>\n",
       "      <td>#6594BE</td>\n",
       "    </tr>\n",
       "    <tr>\n",
       "      <th>A person and their crush</th>\n",
       "      <td>-0.856559</td>\n",
       "      <td>-0.246800</td>\n",
       "      <td>-1.931025</td>\n",
       "      <td>-0.011071</td>\n",
       "      <td>0.627649</td>\n",
       "      <td>0</td>\n",
       "      <td>0</td>\n",
       "      <td>0.498203</td>\n",
       "      <td>0.245074</td>\n",
       "      <td>Private</td>\n",
       "      <td>A person and their crush</td>\n",
       "      <td>#E45E62</td>\n",
       "    </tr>\n",
       "    <tr>\n",
       "      <th>Cohabitants</th>\n",
       "      <td>0.902526</td>\n",
       "      <td>0.508667</td>\n",
       "      <td>-1.017574</td>\n",
       "      <td>0.813321</td>\n",
       "      <td>-0.130277</td>\n",
       "      <td>0</td>\n",
       "      <td>2</td>\n",
       "      <td>0.674612</td>\n",
       "      <td>0.405648</td>\n",
       "      <td>Private</td>\n",
       "      <td>Cohabitants</td>\n",
       "      <td>#E45E62</td>\n",
       "    </tr>\n",
       "    <tr>\n",
       "      <th>Long-distance lovers</th>\n",
       "      <td>-0.125682</td>\n",
       "      <td>-0.119066</td>\n",
       "      <td>-1.633906</td>\n",
       "      <td>1.319332</td>\n",
       "      <td>0.788866</td>\n",
       "      <td>0</td>\n",
       "      <td>2</td>\n",
       "      <td>0.782891</td>\n",
       "      <td>0.272223</td>\n",
       "      <td>Private</td>\n",
       "      <td>Long-distance lovers</td>\n",
       "      <td>#E45E62</td>\n",
       "    </tr>\n",
       "    <tr>\n",
       "      <th>Brothers in-arms</th>\n",
       "      <td>0.392401</td>\n",
       "      <td>-0.246738</td>\n",
       "      <td>0.138519</td>\n",
       "      <td>0.624121</td>\n",
       "      <td>0.242348</td>\n",
       "      <td>0</td>\n",
       "      <td>2</td>\n",
       "      <td>0.634126</td>\n",
       "      <td>0.245087</td>\n",
       "      <td>Private</td>\n",
       "      <td>Brothers in-arms</td>\n",
       "      <td>#E45E62</td>\n",
       "    </tr>\n",
       "  </tbody>\n",
       "</table>\n",
       "<p>159 rows × 12 columns</p>\n",
       "</div>"
      ],
      "text/plain": [
       "                          xActiveness  Exchange  yFormality  Equality  \\\n",
       "Parent-Child                 2.023071 -0.666555   -1.304578 -2.315921   \n",
       "Parent-Teenager              1.609455 -0.572094   -1.165753 -1.772691   \n",
       "Wife-Husband                 2.114681  0.118098   -1.512656  1.136554   \n",
       "Fiance-Fiancee               1.173628 -0.049648   -1.555230  1.223057   \n",
       "Siblings                     1.301050 -1.000725   -0.467402  0.803090   \n",
       "...                               ...       ...         ...       ...   \n",
       "Competitors in sports       -0.217612 -0.585352    1.202717  0.945673   \n",
       "A person and their crush    -0.856559 -0.246800   -1.931025 -0.011071   \n",
       "Cohabitants                  0.902526  0.508667   -1.017574  0.813321   \n",
       "Long-distance lovers        -0.125682 -0.119066   -1.633906  1.319332   \n",
       "Brothers in-arms             0.392401 -0.246738    0.138519  0.624121   \n",
       "\n",
       "                          zValence  cl_k3  cl_k6  Equality_plot  \\\n",
       "Parent-Child             -0.034640      0      3       0.004998   \n",
       "Parent-Teenager          -0.535921      0      3       0.121241   \n",
       "Wife-Husband             -0.402877      0      2       0.743779   \n",
       "Fiance-Fiancee            0.256281      0      2       0.762289   \n",
       "Siblings                 -0.250612      0      2       0.672422   \n",
       "...                            ...    ...    ...            ...   \n",
       "Competitors in sports    -1.494969      1      5       0.702933   \n",
       "A person and their crush  0.627649      0      0       0.498203   \n",
       "Cohabitants              -0.130277      0      2       0.674612   \n",
       "Long-distance lovers      0.788866      0      2       0.782891   \n",
       "Brothers in-arms          0.242348      0      2       0.634126   \n",
       "\n",
       "                          Exchange_plot  cluster                       rel  \\\n",
       "Parent-Child                   0.155855  Private              Parent-Child   \n",
       "Parent-Teenager                0.175932  Private           Parent-Teenager   \n",
       "Wife-Husband                   0.322633  Private              Wife-Husband   \n",
       "Fiance-Fiancee                 0.286978  Private            Fiance-Fiancee   \n",
       "Siblings                       0.084827  Private                  Siblings   \n",
       "...                                 ...      ...                       ...   \n",
       "Competitors in sports          0.173114  Hostile     Competitors in sports   \n",
       "A person and their crush       0.245074  Private  A person and their crush   \n",
       "Cohabitants                    0.405648  Private               Cohabitants   \n",
       "Long-distance lovers           0.272223  Private      Long-distance lovers   \n",
       "Brothers in-arms               0.245087  Private          Brothers in-arms   \n",
       "\n",
       "                            color  \n",
       "Parent-Child              #E45E62  \n",
       "Parent-Teenager           #E45E62  \n",
       "Wife-Husband              #E45E62  \n",
       "Fiance-Fiancee            #E45E62  \n",
       "Siblings                  #E45E62  \n",
       "...                           ...  \n",
       "Competitors in sports     #6594BE  \n",
       "A person and their crush  #E45E62  \n",
       "Cohabitants               #E45E62  \n",
       "Long-distance lovers      #E45E62  \n",
       "Brothers in-arms          #E45E62  \n",
       "\n",
       "[159 rows x 12 columns]"
      ]
     },
     "execution_count": 8,
     "metadata": {},
     "output_type": "execute_result"
    }
   ],
   "source": [
    "plot_df"
   ]
  },
  {
   "cell_type": "code",
   "execution_count": 9,
   "id": "8cf4b4ba",
   "metadata": {
    "ExecuteTime": {
     "end_time": "2023-02-12T06:46:52.541196Z",
     "start_time": "2023-02-12T06:46:51.767403Z"
    }
   },
   "outputs": [
    {
     "data": {
      "application/vnd.plotly.v1+json": {
       "config": {
        "plotlyServerURL": "https://plot.ly"
       },
       "data": [
        {
         "customdata": [
          -0.666554507412049
         ],
         "hovertemplate": "Formality=%{y:.2f}<br>Activeness=%{x:.2f}<br>Valence=%{z:.2f}<br>Exchange=%{customdata:.2f}<br>Equality=%{text:.2f}<br>",
         "marker": {
          "color": "#E45E62",
          "size": 2.049976667606696
         },
         "mode": "markers",
         "name": "Parent-Child",
         "opacity": 0.15585473551517587,
         "text": [
          "-2.31592093673659"
         ],
         "type": "scatter3d",
         "x": [
          2.02307107935871
         ],
         "y": [
          -1.30457790829587
         ],
         "z": [
          -0.0346398959912769
         ]
        },
        {
         "customdata": [
          -0.572093503479394
         ],
         "hovertemplate": "Formality=%{y:.2f}<br>Activeness=%{x:.2f}<br>Valence=%{z:.2f}<br>Exchange=%{customdata:.2f}<br>Equality=%{text:.2f}<br>",
         "marker": {
          "color": "#E45E62",
          "size": 3.212412127428972
         },
         "mode": "markers",
         "name": "Parent-Teenager",
         "opacity": 0.1759324362473785,
         "text": [
          "-1.77269121637659"
         ],
         "type": "scatter3d",
         "x": [
          1.60945489825759
         ],
         "y": [
          -1.16575285228075
         ],
         "z": [
          -0.535920577509373
         ]
        },
        {
         "customdata": [
          0.118097689990726
         ],
         "hovertemplate": "Formality=%{y:.2f}<br>Activeness=%{x:.2f}<br>Valence=%{z:.2f}<br>Exchange=%{customdata:.2f}<br>Equality=%{text:.2f}<br>",
         "marker": {
          "color": "#E45E62",
          "size": 9.437789067963825
         },
         "mode": "markers",
         "name": "Wife-Husband",
         "opacity": 0.32263267924261874,
         "text": [
          "1.13655397738185"
         ],
         "type": "scatter3d",
         "x": [
          2.11468117146394
         ],
         "y": [
          -1.51265575466058
         ],
         "z": [
          -0.402876940339403
         ]
        },
        {
         "customdata": [
          -0.0496484692788029
         ],
         "hovertemplate": "Formality=%{y:.2f}<br>Activeness=%{x:.2f}<br>Valence=%{z:.2f}<br>Exchange=%{customdata:.2f}<br>Equality=%{text:.2f}<br>",
         "marker": {
          "color": "#E45E62",
          "size": 9.622893325237978
         },
         "mode": "markers",
         "name": "Fiance-Fiancee",
         "opacity": 0.2869782076133404,
         "text": [
          "1.22305695960493"
         ],
         "type": "scatter3d",
         "x": [
          1.17362816006592
         ],
         "y": [
          -1.55523005761279
         ],
         "z": [
          0.256280796083634
         ]
        },
        {
         "customdata": [
          -1.00072546052213
         ],
         "hovertemplate": "Formality=%{y:.2f}<br>Activeness=%{x:.2f}<br>Valence=%{z:.2f}<br>Exchange=%{customdata:.2f}<br>Equality=%{text:.2f}<br>",
         "marker": {
          "color": "#E45E62",
          "size": 8.724221905041055
         },
         "mode": "markers",
         "name": "Siblings",
         "opacity": 0.08482664867923129,
         "text": [
          "0.80308953675658"
         ],
         "type": "scatter3d",
         "x": [
          1.30104958295944
         ],
         "y": [
          -0.467401654882513
         ],
         "z": [
          -0.250611870113248
         ]
        },
        {
         "customdata": [
          -0.0230818452927964
         ],
         "hovertemplate": "Formality=%{y:.2f}<br>Activeness=%{x:.2f}<br>Valence=%{z:.2f}<br>Exchange=%{customdata:.2f}<br>Equality=%{text:.2f}<br>",
         "marker": {
          "color": "#6594BE",
          "size": 9.748865052376203
         },
         "mode": "markers",
         "name": "Divorced spouses",
         "opacity": 0.2926249475763867,
         "text": [
          "1.28192610844957"
         ],
         "type": "scatter3d",
         "x": [
          -1.50619704332289
         ],
         "y": [
          -0.163556399258371
         ],
         "z": [
          -1.06739346392477
         ]
        },
        {
         "customdata": [
          -0.981804627087577
         ],
         "hovertemplate": "Formality=%{y:.2f}<br>Activeness=%{x:.2f}<br>Valence=%{z:.2f}<br>Exchange=%{customdata:.2f}<br>Equality=%{text:.2f}<br>",
         "marker": {
          "color": "#6594BE",
          "size": 5.526085885128447
         },
         "mode": "markers",
         "name": "A person and their in laws",
         "opacity": 0.08884827469935751,
         "text": [
          "-0.691464437049404"
         ],
         "type": "scatter3d",
         "x": [
          -0.978391730014663
         ],
         "y": [
          -0.248217932012632
         ],
         "z": [
          0.576723083776271
         ]
        },
        {
         "customdata": [
          -1.30787333854616
         ],
         "hovertemplate": "Formality=%{y:.2f}<br>Activeness=%{x:.2f}<br>Valence=%{z:.2f}<br>Exchange=%{customdata:.2f}<br>Equality=%{text:.2f}<br>",
         "marker": {
          "color": "#E45E62",
          "size": 8.664979109141509
         },
         "mode": "markers",
         "name": "Cousins",
         "opacity": 0.019542320556971204,
         "text": [
          "0.775404173945319"
         ],
         "type": "scatter3d",
         "x": [
          -0.702682316044045
         ],
         "y": [
          -0.260630353199205
         ],
         "z": [
          1.06812260788348
         ]
        },
        {
         "customdata": [
          1.3436050316795
         ],
         "hovertemplate": "Formality=%{y:.2f}<br>Activeness=%{x:.2f}<br>Valence=%{z:.2f}<br>Exchange=%{customdata:.2f}<br>Equality=%{text:.2f}<br>",
         "marker": {
          "color": "#4EC186",
          "size": 5.921745452977967
         },
         "mode": "markers",
         "name": "Employer-Employee",
         "opacity": 0.5831144508431676,
         "text": [
          "-0.506564678026642"
         ],
         "type": "scatter3d",
         "x": [
          1.15890546405817
         ],
         "y": [
          1.17773993905986
         ],
         "z": [
          -0.460133471992765
         ]
        },
        {
         "customdata": [
          0.286684643372876
         ],
         "hovertemplate": "Formality=%{y:.2f}<br>Activeness=%{x:.2f}<br>Valence=%{z:.2f}<br>Exchange=%{customdata:.2f}<br>Equality=%{text:.2f}<br>",
         "marker": {
          "color": "#4EC186",
          "size": 6.324167733285656
         },
         "mode": "markers",
         "name": "Interviewer-Job applicant",
         "opacity": 0.35846586178823076,
         "text": [
          "-0.318504565999775"
         ],
         "type": "scatter3d",
         "x": [
          -0.376381321268058
         ],
         "y": [
          1.25670635582244
         ],
         "z": [
          0.255633890930116
         ]
        },
        {
         "customdata": [
          -1.20803089826814
         ],
         "hovertemplate": "Formality=%{y:.2f}<br>Activeness=%{x:.2f}<br>Valence=%{z:.2f}<br>Exchange=%{customdata:.2f}<br>Equality=%{text:.2f}<br>",
         "marker": {
          "color": "#6594BE",
          "size": 4.117486001354413
         },
         "mode": "markers",
         "name": "Guard-Prisoner",
         "opacity": 0.040763846401689764,
         "text": [
          "-1.34973179675184"
         ],
         "type": "scatter3d",
         "x": [
          -0.208255401679117
         ],
         "y": [
          0.788669149471417
         ],
         "z": [
          -2.32154718379416
         ]
        },
        {
         "customdata": [
          -0.110917584435528
         ],
         "hovertemplate": "Formality=%{y:.2f}<br>Activeness=%{x:.2f}<br>Valence=%{z:.2f}<br>Exchange=%{customdata:.2f}<br>Equality=%{text:.2f}<br>",
         "marker": {
          "color": "#4EC186",
          "size": 5.346189396476446
         },
         "mode": "markers",
         "name": "Nurse-Patient",
         "opacity": 0.273955447881498,
         "text": [
          "-0.775533723131845"
         ],
         "type": "scatter3d",
         "x": [
          0.315699836969779
         ],
         "y": [
          0.777167728737622
         ],
         "z": [
          0.743325360809073
         ]
        },
        {
         "customdata": [
          0.349182253080146
         ],
         "hovertemplate": "Formality=%{y:.2f}<br>Activeness=%{x:.2f}<br>Valence=%{z:.2f}<br>Exchange=%{customdata:.2f}<br>Equality=%{text:.2f}<br>",
         "marker": {
          "color": "#4EC186",
          "size": 5.290276884955979
         },
         "mode": "markers",
         "name": "Therapist-Patient",
         "opacity": 0.37174973822336976,
         "text": [
          "-0.80166277635475"
         ],
         "type": "scatter3d",
         "x": [
          0.833437341089339
         ],
         "y": [
          0.413859457913997
         ],
         "z": [
          0.428007806976674
         ]
        },
        {
         "customdata": [
          2.30405205222642
         ],
         "hovertemplate": "Formality=%{y:.2f}<br>Activeness=%{x:.2f}<br>Valence=%{z:.2f}<br>Exchange=%{customdata:.2f}<br>Equality=%{text:.2f}<br>",
         "marker": {
          "color": "#4EC186",
          "size": 8.355100889299209
         },
         "mode": "markers",
         "name": "Salesperson-Customer",
         "opacity": 0.7872576109288337,
         "text": [
          "0.630591782609352"
         ],
         "type": "scatter3d",
         "x": [
          -0.737744968449149
         ],
         "y": [
          0.430785353102819
         ],
         "z": [
          0.629400304592589
         ]
        },
        {
         "customdata": [
          1.60953688931767
         ],
         "hovertemplate": "Formality=%{y:.2f}<br>Activeness=%{x:.2f}<br>Valence=%{z:.2f}<br>Exchange=%{customdata:.2f}<br>Equality=%{text:.2f}<br>",
         "marker": {
          "color": "#4EC186",
          "size": 10.089703414329042
         },
         "mode": "markers",
         "name": "Business partners",
         "opacity": 0.6396383075727075,
         "text": [
          "1.44120680355148"
         ],
         "type": "scatter3d",
         "x": [
          0.982877171824726
         ],
         "y": [
          0.362327910006146
         ],
         "z": [
          -0.289499002100679
         ]
        },
        {
         "customdata": [
          0.616266844473774
         ],
         "hovertemplate": "Formality=%{y:.2f}<br>Activeness=%{x:.2f}<br>Valence=%{z:.2f}<br>Exchange=%{customdata:.2f}<br>Equality=%{text:.2f}<br>",
         "marker": {
          "color": "#6594BE",
          "size": 9.622973207611938
         },
         "mode": "markers",
         "name": "Opposing negotiators",
         "opacity": 0.42851860868770425,
         "text": [
          "1.22309429026213"
         ],
         "type": "scatter3d",
         "x": [
          -0.433376920645331
         ],
         "y": [
          0.704415686036547
         ],
         "z": [
          -1.62965361191401
         ]
        },
        {
         "customdata": [
          -0.702046178738938
         ],
         "hovertemplate": "Formality=%{y:.2f}<br>Activeness=%{x:.2f}<br>Valence=%{z:.2f}<br>Exchange=%{customdata:.2f}<br>Equality=%{text:.2f}<br>",
         "marker": {
          "color": "#6594BE",
          "size": 9.837039120926367
         },
         "mode": "markers",
         "name": "Political opponents",
         "opacity": 0.14831097538432855,
         "text": [
          "1.3231316430853"
         ],
         "type": "scatter3d",
         "x": [
          0.361073153042056
         ],
         "y": [
          1.55081745808124
         ],
         "z": [
          -2.58362899624738
         ]
        },
        {
         "customdata": [
          0.447722946546809
         ],
         "hovertemplate": "Formality=%{y:.2f}<br>Activeness=%{x:.2f}<br>Valence=%{z:.2f}<br>Exchange=%{customdata:.2f}<br>Equality=%{text:.2f}<br>",
         "marker": {
          "color": "#6594BE",
          "size": 9.290206321246057
         },
         "mode": "markers",
         "name": "Business rivals",
         "opacity": 0.3926945775856309,
         "text": [
          "1.06758555977894"
         ],
         "type": "scatter3d",
         "x": [
          -0.0877505901549408
         ],
         "y": [
          0.825455611181402
         ],
         "z": [
          -2.24572342240885
         ]
        },
        {
         "customdata": [
          -1.07271419334534
         ],
         "hovertemplate": "Formality=%{y:.2f}<br>Activeness=%{x:.2f}<br>Valence=%{z:.2f}<br>Exchange=%{customdata:.2f}<br>Equality=%{text:.2f}<br>",
         "marker": {
          "color": "#6594BE",
          "size": 8.4487401984335
         },
         "mode": "markers",
         "name": "Enemies",
         "opacity": 0.06952543258432974,
         "text": [
          "0.674351335267443"
         ],
         "type": "scatter3d",
         "x": [
          -1.04244825079673
         ],
         "y": [
          -0.214324073682355
         ],
         "z": [
          -2.60967228152706
         ]
        },
        {
         "customdata": [
          -0.370128989360022
         ],
         "hovertemplate": "Formality=%{y:.2f}<br>Activeness=%{x:.2f}<br>Valence=%{z:.2f}<br>Exchange=%{customdata:.2f}<br>Equality=%{text:.2f}<br>",
         "marker": {
          "color": "#4EC186",
          "size": 4.220610781069141
         },
         "mode": "markers",
         "name": "Teacher-Student",
         "opacity": 0.21886002439692245,
         "text": [
          "-1.30153949087089"
         ],
         "type": "scatter3d",
         "x": [
          0.958103040022008
         ],
         "y": [
          1.06934441675718
         ],
         "z": [
          0.495980801827698
         ]
        },
        {
         "customdata": [
          -0.227049735080888
         ],
         "hovertemplate": "Formality=%{y:.2f}<br>Activeness=%{x:.2f}<br>Valence=%{z:.2f}<br>Exchange=%{customdata:.2f}<br>Equality=%{text:.2f}<br>",
         "marker": {
          "color": "#4EC186",
          "size": 4.830721930638355
         },
         "mode": "markers",
         "name": "Professor-Graduate student",
         "opacity": 0.24927154162419263,
         "text": [
          "-1.01642214833931"
         ],
         "type": "scatter3d",
         "x": [
          0.735182086025806
         ],
         "y": [
          0.999982228713976
         ],
         "z": [
          0.606294630017123
         ]
        },
        {
         "customdata": [
          1.13342896715784
         ],
         "hovertemplate": "Formality=%{y:.2f}<br>Activeness=%{x:.2f}<br>Valence=%{z:.2f}<br>Exchange=%{customdata:.2f}<br>Equality=%{text:.2f}<br>",
         "marker": {
          "color": "#4EC186",
          "size": 4.058735914307032
         },
         "mode": "markers",
         "name": "Master-Servant",
         "opacity": 0.5384414964084836,
         "text": [
          "-1.3771869067007"
         ],
         "type": "scatter3d",
         "x": [
          -0.650803939471595
         ],
         "y": [
          -0.733402743916711
         ],
         "z": [
          -0.441203908392124
         ]
        },
        {
         "customdata": [
          -0.451803574372199
         ],
         "hovertemplate": "Formality=%{y:.2f}<br>Activeness=%{x:.2f}<br>Valence=%{z:.2f}<br>Exchange=%{customdata:.2f}<br>Equality=%{text:.2f}<br>",
         "marker": {
          "color": "#E45E62",
          "size": 9.788888395715214
         },
         "mode": "markers",
         "name": "Close friends",
         "opacity": 0.20150007894821179,
         "text": [
          "1.30062983038631"
         ],
         "type": "scatter3d",
         "x": [
          1.26338673523198
         ],
         "y": [
          -0.964822776580424
         ],
         "z": [
          0.641432706880755
         ]
        },
        {
         "customdata": [
          -0.780840649584104
         ],
         "hovertemplate": "Formality=%{y:.2f}<br>Activeness=%{x:.2f}<br>Valence=%{z:.2f}<br>Exchange=%{customdata:.2f}<br>Equality=%{text:.2f}<br>",
         "marker": {
          "color": "#6594BE",
          "size": 8.550832191732841
         },
         "mode": "markers",
         "name": "Casual acquaintances",
         "opacity": 0.13156319863923505,
         "text": [
          "0.722060999062003"
         ],
         "type": "scatter3d",
         "x": [
          -1.74394985560318
         ],
         "y": [
          -0.371965809396585
         ],
         "z": [
          1.17769684440696
         ]
        },
        {
         "customdata": [
          0.0979337673385384
         ],
         "hovertemplate": "Formality=%{y:.2f}<br>Activeness=%{x:.2f}<br>Valence=%{z:.2f}<br>Exchange=%{customdata:.2f}<br>Equality=%{text:.2f}<br>",
         "marker": {
          "color": "#4EC186",
          "size": 12
         },
         "mode": "markers",
         "name": "Teammates in sports",
         "opacity": 0.31834683442048944,
         "text": [
          "2.33392723053962"
         ],
         "type": "scatter3d",
         "x": [
          1.32516893603399
         ],
         "y": [
          1.4256322382053
         ],
         "z": [
          -0.175025327867705
         ]
        },
        {
         "customdata": [
          -1.01785749437729
         ],
         "hovertemplate": "Formality=%{y:.2f}<br>Activeness=%{x:.2f}<br>Valence=%{z:.2f}<br>Exchange=%{customdata:.2f}<br>Equality=%{text:.2f}<br>",
         "marker": {
          "color": "#E45E62",
          "size": 9.352385737771801
         },
         "mode": "markers",
         "name": "Second cousins",
         "opacity": 0.08118523228138,
         "text": [
          "1.09664326510444"
         ],
         "type": "scatter3d",
         "x": [
          -1.15600181413696
         ],
         "y": [
          -0.340871097072257
         ],
         "z": [
          1.15696531239419
         ]
        },
        {
         "customdata": [
          -0.644512454648511
         ],
         "hovertemplate": "Formality=%{y:.2f}<br>Activeness=%{x:.2f}<br>Valence=%{z:.2f}<br>Exchange=%{customdata:.2f}<br>Equality=%{text:.2f}<br>",
         "marker": {
          "color": "#E45E62",
          "size": 3.0344468228739867
         },
         "mode": "markers",
         "name": "Parent-Infant",
         "opacity": 0.16053977717771473,
         "text": [
          "-1.85585802087339"
         ],
         "type": "scatter3d",
         "x": [
          1.98889665204717
         ],
         "y": [
          -1.31822888221835
         ],
         "z": [
          0.176981181835986
         ]
        },
        {
         "customdata": [
          -0.759596289640733
         ],
         "hovertemplate": "Formality=%{y:.2f}<br>Activeness=%{x:.2f}<br>Valence=%{z:.2f}<br>Exchange=%{customdata:.2f}<br>Equality=%{text:.2f}<br>",
         "marker": {
          "color": "#E45E62",
          "size": 2.732495396397492
         },
         "mode": "markers",
         "name": "Grandparent-Grandchild",
         "opacity": 0.13607869057169736,
         "text": [
          "-1.99696606053368"
         ],
         "type": "scatter3d",
         "x": [
          1.123278309677
         ],
         "y": [
          -1.22444493998233
         ],
         "z": [
          0.827698986957962
         ]
        },
        {
         "customdata": [
          -0.774831053614959
         ],
         "hovertemplate": "Formality=%{y:.2f}<br>Activeness=%{x:.2f}<br>Valence=%{z:.2f}<br>Exchange=%{customdata:.2f}<br>Equality=%{text:.2f}<br>",
         "marker": {
          "color": "#E45E62",
          "size": 3.989428124500407
         },
         "mode": "markers",
         "name": "Step-parent-Step-child",
         "opacity": 0.1328405391751875,
         "text": [
          "-1.40957584576591"
         ],
         "type": "scatter3d",
         "x": [
          0.525850072953928
         ],
         "y": [
          -0.804583338872388
         ],
         "z": [
          -0.0250397288501951
         ]
        },
        {
         "customdata": [
          -0.757307242818799
         ],
         "hovertemplate": "Formality=%{y:.2f}<br>Activeness=%{x:.2f}<br>Valence=%{z:.2f}<br>Exchange=%{customdata:.2f}<br>Equality=%{text:.2f}<br>",
         "marker": {
          "color": "#E45E62",
          "size": 3.7318220617826308
         },
         "mode": "markers",
         "name": "Foster-parent-Foster-child",
         "opacity": 0.1365652278213497,
         "text": [
          "-1.52996039548931"
         ],
         "type": "scatter3d",
         "x": [
          0.744198313428128
         ],
         "y": [
          -0.767339334784743
         ],
         "z": [
          0.143370586122501
         ]
        },
        {
         "customdata": [
          -0.878109968167671
         ],
         "hovertemplate": "Formality=%{y:.2f}<br>Activeness=%{x:.2f}<br>Valence=%{z:.2f}<br>Exchange=%{customdata:.2f}<br>Equality=%{text:.2f}<br>",
         "marker": {
          "color": "#E45E62",
          "size": 4.5399575166543045
         },
         "mode": "markers",
         "name": "Godparent-Godchild",
         "opacity": 0.11088859020146676,
         "text": [
          "-1.15230226965232"
         ],
         "type": "scatter3d",
         "x": [
          -0.479390805324776
         ],
         "y": [
          -0.763454104531925
         ],
         "z": [
          1.1668520766825
         ]
        },
        {
         "customdata": [
          -0.974655652746178
         ],
         "hovertemplate": "Formality=%{y:.2f}<br>Activeness=%{x:.2f}<br>Valence=%{z:.2f}<br>Exchange=%{customdata:.2f}<br>Equality=%{text:.2f}<br>",
         "marker": {
          "color": "#E45E62",
          "size": 3.335481136557
         },
         "mode": "markers",
         "name": "Step-grandparent-Step-grandchild",
         "opacity": 0.09036779028137625,
         "text": [
          "-1.71517856666456"
         ],
         "type": "scatter3d",
         "x": [
          -0.446468349929576
         ],
         "y": [
          -0.835650019485334
         ],
         "z": [
          0.864299374118736
         ]
        },
        {
         "customdata": [
          -1.34931159949087
         ],
         "hovertemplate": "Formality=%{y:.2f}<br>Activeness=%{x:.2f}<br>Valence=%{z:.2f}<br>Exchange=%{customdata:.2f}<br>Equality=%{text:.2f}<br>",
         "marker": {
          "color": "#E45E62",
          "size": 2.6599739916590575
         },
         "mode": "markers",
         "name": "Ancestor-Descendant",
         "opacity": 0.01073461189971449,
         "text": [
          "-2.03085678718288"
         ],
         "type": "scatter3d",
         "x": [
          -0.699656059667619
         ],
         "y": [
          -0.483437307880038
         ],
         "z": [
          1.2401956453913
         ]
        },
        {
         "customdata": [
          0.360175508020645
         ],
         "hovertemplate": "Formality=%{y:.2f}<br>Activeness=%{x:.2f}<br>Valence=%{z:.2f}<br>Exchange=%{customdata:.2f}<br>Equality=%{text:.2f}<br>",
         "marker": {
          "color": "#E45E62",
          "size": 9.907196338987337
         },
         "mode": "markers",
         "name": "Bride-Groom",
         "opacity": 0.37408635623057945,
         "text": [
          "1.35591753724094"
         ],
         "type": "scatter3d",
         "x": [
          1.9979781576757
         ],
         "y": [
          -1.49443414986284
         ],
         "z": [
          -0.229822344531931
         ]
        },
        {
         "customdata": [
          1.69794459049547
         ],
         "hovertemplate": "Formality=%{y:.2f}<br>Activeness=%{x:.2f}<br>Valence=%{z:.2f}<br>Exchange=%{customdata:.2f}<br>Equality=%{text:.2f}<br>",
         "marker": {
          "color": "#E45E62",
          "size": 7.7261184536631236
         },
         "mode": "markers",
         "name": "Man-His Mistress",
         "opacity": 0.658429377885017,
         "text": [
          "0.336655504483269"
         ],
         "type": "scatter3d",
         "x": [
          -0.409128867101176
         ],
         "y": [
          -3.07749529647705
         ],
         "z": [
          -0.739921061292964
         ]
        },
        {
         "customdata": [
          -0.126804720141262
         ],
         "hovertemplate": "Formality=%{y:.2f}<br>Activeness=%{x:.2f}<br>Valence=%{z:.2f}<br>Exchange=%{customdata:.2f}<br>Equality=%{text:.2f}<br>",
         "marker": {
          "color": "#6594BE",
          "size": 7.049852441735836
         },
         "mode": "markers",
         "name": "Man Wife-Man Mistress",
         "opacity": 0.27057863477437677,
         "text": [
          "0.0206226499758884"
         ],
         "type": "scatter3d",
         "x": [
          -1.42104505553705
         ],
         "y": [
          -1.595300212957
         ],
         "z": [
          -1.278226734883
         ]
        },
        {
         "customdata": [
          -0.835625924431222
         ],
         "hovertemplate": "Formality=%{y:.2f}<br>Activeness=%{x:.2f}<br>Valence=%{z:.2f}<br>Exchange=%{customdata:.2f}<br>Equality=%{text:.2f}<br>",
         "marker": {
          "color": "#E45E62",
          "size": 8.662913417908438
         },
         "mode": "markers",
         "name": "Brother-Sister",
         "opacity": 0.11991858014993644,
         "text": [
          "0.774438834440738"
         ],
         "type": "scatter3d",
         "x": [
          1.41048248986731
         ],
         "y": [
          -0.28423350961795
         ],
         "z": [
          0.0483397614706025
         ]
        },
        {
         "customdata": [
          -1.03408124542465
         ],
         "hovertemplate": "Formality=%{y:.2f}<br>Activeness=%{x:.2f}<br>Valence=%{z:.2f}<br>Exchange=%{customdata:.2f}<br>Equality=%{text:.2f}<br>",
         "marker": {
          "color": "#E45E62",
          "size": 7.985377061606235
         },
         "mode": "markers",
         "name": "Step siblings",
         "opacity": 0.07773687153227254,
         "text": [
          "0.457812322183403"
         ],
         "type": "scatter3d",
         "x": [
          -0.171860766900456
         ],
         "y": [
          -0.260171980967457
         ],
         "z": [
          0.0880324918793745
         ]
        },
        {
         "customdata": [
          -1.1046660842739
         ],
         "hovertemplate": "Formality=%{y:.2f}<br>Activeness=%{x:.2f}<br>Valence=%{z:.2f}<br>Exchange=%{customdata:.2f}<br>Equality=%{text:.2f}<br>",
         "marker": {
          "color": "#6594BE",
          "size": 6.737552133054075
         },
         "mode": "markers",
         "name": "Distant relatives",
         "opacity": 0.06273405331475332,
         "text": [
          "-0.125321632710973"
         ],
         "type": "scatter3d",
         "x": [
          -1.72528937039913
         ],
         "y": [
          -0.166128212038777
         ],
         "z": [
          1.09218474767693
         ]
        },
        {
         "customdata": [
          -0.712201509338914
         ],
         "hovertemplate": "Formality=%{y:.2f}<br>Activeness=%{x:.2f}<br>Valence=%{z:.2f}<br>Exchange=%{customdata:.2f}<br>Equality=%{text:.2f}<br>",
         "marker": {
          "color": "#E45E62",
          "size": 7.420773554399922
         },
         "mode": "markers",
         "name": "Close relatives",
         "opacity": 0.14615245832295726,
         "text": [
          "0.193961626007245"
         ],
         "type": "scatter3d",
         "x": [
          0.902399241322352
         ],
         "y": [
          -0.40859786149422
         ],
         "z": [
          0.428048997961319
         ]
        },
        {
         "customdata": [
          -1.14494369214567
         ],
         "hovertemplate": "Formality=%{y:.2f}<br>Activeness=%{x:.2f}<br>Valence=%{z:.2f}<br>Exchange=%{customdata:.2f}<br>Equality=%{text:.2f}<br>",
         "marker": {
          "color": "#E45E62",
          "size": 10.172750789997863
         },
         "mode": "markers",
         "name": "Twins",
         "opacity": 0.054173041644424824,
         "text": [
          "1.48001653038836"
         ],
         "type": "scatter3d",
         "x": [
          1.36183536284757
         ],
         "y": [
          -0.890707622628651
         ],
         "z": [
          0.130886748224558
         ]
        },
        {
         "customdata": [
          -0.958982251851116
         ],
         "hovertemplate": "Formality=%{y:.2f}<br>Activeness=%{x:.2f}<br>Valence=%{z:.2f}<br>Exchange=%{customdata:.2f}<br>Equality=%{text:.2f}<br>",
         "marker": {
          "color": "#E45E62",
          "size": 8.100828044970973
         },
         "mode": "markers",
         "name": "A person and their family friends",
         "opacity": 0.09369917402202806,
         "text": [
          "0.511764913597039"
         ],
         "type": "scatter3d",
         "x": [
          0.614067168282595
         ],
         "y": [
          -0.53959968286052
         ],
         "z": [
          0.692082045691532
         ]
        },
        {
         "customdata": [
          -1.39981550082894
         ],
         "hovertemplate": "Formality=%{y:.2f}<br>Activeness=%{x:.2f}<br>Valence=%{z:.2f}<br>Exchange=%{customdata:.2f}<br>Equality=%{text:.2f}<br>",
         "marker": {
          "color": "#E45E62",
          "size": 7.385954478028028
         },
         "mode": "markers",
         "name": "A person and their deceased spouse",
         "opacity": 0,
         "text": [
          "0.177689963816563"
         ],
         "type": "scatter3d",
         "x": [
          -0.910369300899361
         ],
         "y": [
          -1.75666857205718
         ],
         "z": [
          1.17340391145809
         ]
        },
        {
         "customdata": [
          1.29081458380078
         ],
         "hovertemplate": "Formality=%{y:.2f}<br>Activeness=%{x:.2f}<br>Valence=%{z:.2f}<br>Exchange=%{customdata:.2f}<br>Equality=%{text:.2f}<br>",
         "marker": {
          "color": "#4EC186",
          "size": 6.2337830214293195
         },
         "mode": "markers",
         "name": "Manager-Staff",
         "opacity": 0.5718938331289674,
         "text": [
          "-0.360743179190432"
         ],
         "type": "scatter3d",
         "x": [
          0.158788588332463
         ],
         "y": [
          0.975871776152102
         ],
         "z": [
          -0.33401411624494
         ]
        },
        {
         "customdata": [
          1.26182678072248
         ],
         "hovertemplate": "Formality=%{y:.2f}<br>Activeness=%{x:.2f}<br>Valence=%{z:.2f}<br>Exchange=%{customdata:.2f}<br>Equality=%{text:.2f}<br>",
         "marker": {
          "color": "#4EC186",
          "size": 6.1622124120506605
         },
         "mode": "markers",
         "name": "Foreman-Laborer",
         "opacity": 0.5657324711821363,
         "text": [
          "-0.394189579840244"
         ],
         "type": "scatter3d",
         "x": [
          -0.0418868034966566
         ],
         "y": [
          0.834797057049459
         ],
         "z": [
          -0.471592495345494
         ]
        },
        {
         "customdata": [
          1.45437438306329
         ],
         "hovertemplate": "Formality=%{y:.2f}<br>Activeness=%{x:.2f}<br>Valence=%{z:.2f}<br>Exchange=%{customdata:.2f}<br>Equality=%{text:.2f}<br>",
         "marker": {
          "color": "#4EC186",
          "size": 6.455601512668995
         },
         "mode": "markers",
         "name": "Owner-Manager",
         "opacity": 0.6066584933029482,
         "text": [
          "-0.25708288910841"
         ],
         "type": "scatter3d",
         "x": [
          0.11101164905594
         ],
         "y": [
          0.763842076216645
         ],
         "z": [
          -0.350642589720559
         ]
        },
        {
         "customdata": [
          0.454382408606028
         ],
         "hovertemplate": "Formality=%{y:.2f}<br>Activeness=%{x:.2f}<br>Valence=%{z:.2f}<br>Exchange=%{customdata:.2f}<br>Equality=%{text:.2f}<br>",
         "marker": {
          "color": "#4EC186",
          "size": 7.056094684436036
         },
         "mode": "markers",
         "name": "Union leader-union member",
         "opacity": 0.39411004725772736,
         "text": [
          "0.0235397768819857"
         ],
         "type": "scatter3d",
         "x": [
          -0.347623008464807
         ],
         "y": [
          0.972573824884577
         ],
         "z": [
          0.243706274540009
         ]
        },
        {
         "customdata": [
          1.3362654876917
         ],
         "hovertemplate": "Formality=%{y:.2f}<br>Activeness=%{x:.2f}<br>Valence=%{z:.2f}<br>Exchange=%{customdata:.2f}<br>Equality=%{text:.2f}<br>",
         "marker": {
          "color": "#4EC186",
          "size": 6.258755757096759
         },
         "mode": "markers",
         "name": "Manager-Assistant",
         "opacity": 0.5815544296538634,
         "text": [
          "-0.349072912167331"
         ],
         "type": "scatter3d",
         "x": [
          0.156731144219269
         ],
         "y": [
          0.716905171656851
         ],
         "z": [
          -0.221743850859382
         ]
        },
        {
         "customdata": [
          0.712877046933737
         ],
         "hovertemplate": "Formality=%{y:.2f}<br>Activeness=%{x:.2f}<br>Valence=%{z:.2f}<br>Exchange=%{customdata:.2f}<br>Equality=%{text:.2f}<br>",
         "marker": {
          "color": "#4EC186",
          "size": 6.726338719846817
         },
         "mode": "markers",
         "name": "Chief-Deputy",
         "opacity": 0.44905312189329694,
         "text": [
          "-0.13056188864896"
         ],
         "type": "scatter3d",
         "x": [
          1.13447345841811
         ],
         "y": [
          1.21863574814951
         ],
         "z": [
          -0.196789776709523
         ]
        },
        {
         "customdata": [
          0.779437117730834
         ],
         "hovertemplate": "Formality=%{y:.2f}<br>Activeness=%{x:.2f}<br>Valence=%{z:.2f}<br>Exchange=%{customdata:.2f}<br>Equality=%{text:.2f}<br>",
         "marker": {
          "color": "#4EC186",
          "size": 5.6771617924865705
         },
         "mode": "markers",
         "name": "Supervisor-Subordinate",
         "opacity": 0.4632004750500672,
         "text": [
          "-0.620863594470295"
         ],
         "type": "scatter3d",
         "x": [
          0.892686171732779
         ],
         "y": [
          1.16912097548018
         ],
         "z": [
          -0.354731579962629
         ]
        },
        {
         "customdata": [
          1.04191381488041
         ],
         "hovertemplate": "Formality=%{y:.2f}<br>Activeness=%{x:.2f}<br>Valence=%{z:.2f}<br>Exchange=%{customdata:.2f}<br>Equality=%{text:.2f}<br>",
         "marker": {
          "color": "#4EC186",
          "size": 5.200293002745134
         },
         "mode": "markers",
         "name": "Boss-Secretary",
         "opacity": 0.5189899368930019,
         "text": [
          "-0.843714073704005"
         ],
         "type": "scatter3d",
         "x": [
          0.80496892551546
         ],
         "y": [
          0.638663894000649
         ],
         "z": [
          -0.0105721310573022
         ]
        },
        {
         "customdata": [
          1.98749638946452
         ],
         "hovertemplate": "Formality=%{y:.2f}<br>Activeness=%{x:.2f}<br>Valence=%{z:.2f}<br>Exchange=%{customdata:.2f}<br>Equality=%{text:.2f}<br>",
         "marker": {
          "color": "#4EC186",
          "size": 8.82406599144729
         },
         "mode": "markers",
         "name": "Entrepreneur-Investor",
         "opacity": 0.7199736567317269,
         "text": [
          "0.849748707964546"
         ],
         "type": "scatter3d",
         "x": [
          0.329606733457592
         ],
         "y": [
          0.702351215417951
         ],
         "z": [
          0.20882384793907
         ]
        },
        {
         "customdata": [
          0.272951591782916
         ],
         "hovertemplate": "Formality=%{y:.2f}<br>Activeness=%{x:.2f}<br>Valence=%{z:.2f}<br>Exchange=%{customdata:.2f}<br>Equality=%{text:.2f}<br>",
         "marker": {
          "color": "#4EC186",
          "size": 6.163681266580632
         },
         "mode": "markers",
         "name": "Intern-Employee",
         "opacity": 0.35554689958707003,
         "text": [
          "-0.393503154259517"
         ],
         "type": "scatter3d",
         "x": [
          -0.0626683101337035
         ],
         "y": [
          0.973798373826942
         ],
         "z": [
          0.469289856178112
         ]
        },
        {
         "customdata": [
          1.67494534012909
         ],
         "hovertemplate": "Formality=%{y:.2f}<br>Activeness=%{x:.2f}<br>Valence=%{z:.2f}<br>Exchange=%{customdata:.2f}<br>Equality=%{text:.2f}<br>",
         "marker": {
          "color": "#4EC186",
          "size": 7.404424512628832
         },
         "mode": "markers",
         "name": "Lawyer-Client",
         "opacity": 0.6535408837266191,
         "text": [
          "0.186321386444335"
         ],
         "type": "scatter3d",
         "x": [
          0.72368852810335
         ],
         "y": [
          0.767090179482509
         ],
         "z": [
          0.271129828703616
         ]
        },
        {
         "customdata": [
          -0.116495409356077
         ],
         "hovertemplate": "Formality=%{y:.2f}<br>Activeness=%{x:.2f}<br>Valence=%{z:.2f}<br>Exchange=%{customdata:.2f}<br>Equality=%{text:.2f}<br>",
         "marker": {
          "color": "#4EC186",
          "size": 7.009669888458985
         },
         "mode": "markers",
         "name": "Judge-Lawyer",
         "opacity": 0.27276988034750005,
         "text": [
          "0.0018445259987761"
         ],
         "type": "scatter3d",
         "x": [
          0.422586488555845
         ],
         "y": [
          1.68712997543675
         ],
         "z": [
          -0.465727959203688
         ]
        },
        {
         "customdata": [
          -0.928221608919624
         ],
         "hovertemplate": "Formality=%{y:.2f}<br>Activeness=%{x:.2f}<br>Valence=%{z:.2f}<br>Exchange=%{customdata:.2f}<br>Equality=%{text:.2f}<br>",
         "marker": {
          "color": "#6594BE",
          "size": 4.993399500121333
         },
         "mode": "markers",
         "name": "Victim-Criminal",
         "opacity": 0.1002373533489062,
         "text": [
          "-0.940399613210699"
         ],
         "type": "scatter3d",
         "x": [
          -1.39638826027524
         ],
         "y": [
          -0.619295468197112
         ],
         "z": [
          -2.90615926380462
         ]
        },
        {
         "customdata": [
          3.29479114535761
         ],
         "hovertemplate": "Formality=%{y:.2f}<br>Activeness=%{x:.2f}<br>Valence=%{z:.2f}<br>Exchange=%{customdata:.2f}<br>Equality=%{text:.2f}<br>",
         "marker": {
          "color": "#4EC186",
          "size": 6.608534821353966
         },
         "mode": "markers",
         "name": "Drug dealer-Addict",
         "opacity": 0.9978393556429115,
         "text": [
          "-0.185614045132016"
         ],
         "type": "scatter3d",
         "x": [
          -0.850143586886117
         ],
         "y": [
          -2.08181521990545
         ],
         "z": [
          -1.00020157756439
         ]
        },
        {
         "customdata": [
          -1.37149538792283
         ],
         "hovertemplate": "Formality=%{y:.2f}<br>Activeness=%{x:.2f}<br>Valence=%{z:.2f}<br>Exchange=%{customdata:.2f}<br>Equality=%{text:.2f}<br>",
         "marker": {
          "color": "#6594BE",
          "size": 6.806502347887125
         },
         "mode": "markers",
         "name": "Victim-Witness",
         "opacity": 0.00601944429932635,
         "text": [
          "-0.0930997956996981"
         ],
         "type": "scatter3d",
         "x": [
          -0.783015712887237
         ],
         "y": [
          0.394132907788725
         ],
         "z": [
          -0.0046175967336388
         ]
        },
        {
         "customdata": [
          -1.28858279858172
         ],
         "hovertemplate": "Formality=%{y:.2f}<br>Activeness=%{x:.2f}<br>Valence=%{z:.2f}<br>Exchange=%{customdata:.2f}<br>Equality=%{text:.2f}<br>",
         "marker": {
          "color": "#6594BE",
          "size": 4.959271922225621
         },
         "mode": "markers",
         "name": "Criminal-Police officer",
         "opacity": 0.023642527756174283,
         "text": [
          "-0.956348124106681"
         ],
         "type": "scatter3d",
         "x": [
          -0.17335562186222
         ],
         "y": [
          1.10916363748564
         ],
         "z": [
          -2.42338070568784
         ]
        },
        {
         "customdata": [
          -1.13195811936871
         ],
         "hovertemplate": "Formality=%{y:.2f}<br>Activeness=%{x:.2f}<br>Valence=%{z:.2f}<br>Exchange=%{customdata:.2f}<br>Equality=%{text:.2f}<br>",
         "marker": {
          "color": "#6594BE",
          "size": 4.917034283983343
         },
         "mode": "markers",
         "name": "Criminal-Prosecutor",
         "opacity": 0.05693312711035864,
         "text": [
          "-0.9760866310639"
         ],
         "type": "scatter3d",
         "x": [
          -0.357641469304113
         ],
         "y": [
          1.17189297284122
         ],
         "z": [
          -1.7581045297536
         ]
        },
        {
         "customdata": [
          -0.0846362349540673
         ],
         "hovertemplate": "Formality=%{y:.2f}<br>Activeness=%{x:.2f}<br>Valence=%{z:.2f}<br>Exchange=%{customdata:.2f}<br>Equality=%{text:.2f}<br>",
         "marker": {
          "color": "#6594BE",
          "size": 5.102460110230451
         },
         "mode": "markers",
         "name": "Criminal-Hostage",
         "opacity": 0.27954155270527686,
         "text": [
          "-0.889433373122905"
         ],
         "type": "scatter3d",
         "x": [
          -0.790103001602426
         ],
         "y": [
          -0.8617466002233
         ],
         "z": [
          -3.1478166115373
         ]
        },
        {
         "customdata": [
          -0.89074671366171
         ],
         "hovertemplate": "Formality=%{y:.2f}<br>Activeness=%{x:.2f}<br>Valence=%{z:.2f}<br>Exchange=%{customdata:.2f}<br>Equality=%{text:.2f}<br>",
         "marker": {
          "color": "#6594BE",
          "size": 6.781760589832986
         },
         "mode": "markers",
         "name": "Defendant-Plaintiff",
         "opacity": 0.1082026480274961,
         "text": [
          "-0.104662122188792"
         ],
         "type": "scatter3d",
         "x": [
          -0.407545309056975
         ],
         "y": [
          0.699912437549718
         ],
         "z": [
          -1.83887089442025
         ]
        },
        {
         "customdata": [
          -0.818450498906924
         ],
         "hovertemplate": "Formality=%{y:.2f}<br>Activeness=%{x:.2f}<br>Valence=%{z:.2f}<br>Exchange=%{customdata:.2f}<br>Equality=%{text:.2f}<br>",
         "marker": {
          "color": "#6594BE",
          "size": 5.32662288873084
         },
         "mode": "markers",
         "name": "Police officer-Offender",
         "opacity": 0.12356921945365315,
         "text": [
          "-0.784677549949286"
         ],
         "type": "scatter3d",
         "x": [
          -0.334710796125442
         ],
         "y": [
          1.06305009151849
         ],
         "z": [
          -1.74831139132123
         ]
        },
        {
         "customdata": [
          -1.15675158631659
         ],
         "hovertemplate": "Formality=%{y:.2f}<br>Activeness=%{x:.2f}<br>Valence=%{z:.2f}<br>Exchange=%{customdata:.2f}<br>Equality=%{text:.2f}<br>",
         "marker": {
          "color": "#4EC186",
          "size": 6.039735733718715
         },
         "mode": "markers",
         "name": "Police officer-Civilian",
         "opacity": 0.051663271945065356,
         "text": [
          "-0.451425421330365"
         ],
         "type": "scatter3d",
         "x": [
          -0.467495093929392
         ],
         "y": [
          1.38305496440828
         ],
         "z": [
          0.940503883647689
         ]
        },
        {
         "customdata": [
          -0.67472967566495
         ],
         "hovertemplate": "Formality=%{y:.2f}<br>Activeness=%{x:.2f}<br>Valence=%{z:.2f}<br>Exchange=%{customdata:.2f}<br>Equality=%{text:.2f}<br>",
         "marker": {
          "color": "#6594BE",
          "size": 4.8181213558344655
         },
         "mode": "markers",
         "name": "Parole officer-Parolee",
         "opacity": 0.15411710226141362,
         "text": [
          "-1.02231065308962"
         ],
         "type": "scatter3d",
         "x": [
          0.159371221633564
         ],
         "y": [
          0.991224185748582
         ],
         "z": [
          -1.56342002970998
         ]
        },
        {
         "customdata": [
          1.79719122074492
         ],
         "hovertemplate": "Formality=%{y:.2f}<br>Activeness=%{x:.2f}<br>Valence=%{z:.2f}<br>Exchange=%{customdata:.2f}<br>Equality=%{text:.2f}<br>",
         "marker": {
          "color": "#4EC186",
          "size": 7.506075796048316
         },
         "mode": "markers",
         "name": "Consultant-Client",
         "opacity": 0.6795242642176741,
         "text": [
          "0.233825097553289"
         ],
         "type": "scatter3d",
         "x": [
          -0.194959787349997
         ],
         "y": [
          0.547261115875634
         ],
         "z": [
          0.420295984872726
         ]
        },
        {
         "customdata": [
          1.48035239541589
         ],
         "hovertemplate": "Formality=%{y:.2f}<br>Activeness=%{x:.2f}<br>Valence=%{z:.2f}<br>Exchange=%{customdata:.2f}<br>Equality=%{text:.2f}<br>",
         "marker": {
          "color": "#4EC186",
          "size": 6.387461428304002
         },
         "mode": "markers",
         "name": "Chef-Customer",
         "opacity": 0.6121801237739182,
         "text": [
          "-0.288926135683632"
         ],
         "type": "scatter3d",
         "x": [
          -1.58967765122121
         ],
         "y": [
          0.197177734434449
         ],
         "z": [
          1.54733458813165
         ]
        },
        {
         "customdata": [
          1.67479632606881
         ],
         "hovertemplate": "Formality=%{y:.2f}<br>Activeness=%{x:.2f}<br>Valence=%{z:.2f}<br>Exchange=%{customdata:.2f}<br>Equality=%{text:.2f}<br>",
         "marker": {
          "color": "#4EC186",
          "size": 6.8246999145792815
         },
         "mode": "markers",
         "name": "Customer-Server",
         "opacity": 0.653509210765475,
         "text": [
          "-0.0845957028643641"
         ],
         "type": "scatter3d",
         "x": [
          -0.901403881237967
         ],
         "y": [
          0.402939474930309
         ],
         "z": [
          1.07782150668733
         ]
        },
        {
         "customdata": [
          2.33288561010263
         ],
         "hovertemplate": "Formality=%{y:.2f}<br>Activeness=%{x:.2f}<br>Valence=%{z:.2f}<br>Exchange=%{customdata:.2f}<br>Equality=%{text:.2f}<br>",
         "marker": {
          "color": "#4EC186",
          "size": 7.65868960965699
         },
         "mode": "markers",
         "name": "Customer-Businessman",
         "opacity": 0.7933861880345345,
         "text": [
          "0.305144634985834"
         ],
         "type": "scatter3d",
         "x": [
          -0.52456448333271
         ],
         "y": [
          0.251106405373182
         ],
         "z": [
          0.572945631360625
         ]
        },
        {
         "customdata": [
          0.523394341531754
         ],
         "hovertemplate": "Formality=%{y:.2f}<br>Activeness=%{x:.2f}<br>Valence=%{z:.2f}<br>Exchange=%{customdata:.2f}<br>Equality=%{text:.2f}<br>",
         "marker": {
          "color": "#4EC186",
          "size": 4.53687943829188
         },
         "mode": "markers",
         "name": "Doctor-Patient",
         "opacity": 0.4087785440823156,
         "text": [
          "-1.15374071824225"
         ],
         "type": "scatter3d",
         "x": [
          0.724844837403682
         ],
         "y": [
          0.536607021743142
         ],
         "z": [
          0.510991001523463
         ]
        },
        {
         "customdata": [
          -0.348917917513405
         ],
         "hovertemplate": "Formality=%{y:.2f}<br>Activeness=%{x:.2f}<br>Valence=%{z:.2f}<br>Exchange=%{customdata:.2f}<br>Equality=%{text:.2f}<br>",
         "marker": {
          "color": "#4EC186",
          "size": 5.850353014216109
         },
         "mode": "markers",
         "name": "Doctor-Nurse",
         "opacity": 0.22336844093936406,
         "text": [
          "-0.53992781592537"
         ],
         "type": "scatter3d",
         "x": [
          0.81326055316789
         ],
         "y": [
          0.906572443147335
         ],
         "z": [
          0.460195627085295
         ]
        },
        {
         "customdata": [
          0.301842474475079
         ],
         "hovertemplate": "Formality=%{y:.2f}<br>Activeness=%{x:.2f}<br>Valence=%{z:.2f}<br>Exchange=%{customdata:.2f}<br>Equality=%{text:.2f}<br>",
         "marker": {
          "color": "#4EC186",
          "size": 5.067349274212999
         },
         "mode": "markers",
         "name": "Patient-Caretaker",
         "opacity": 0.36168766109110795,
         "text": [
          "-0.905841380526845"
         ],
         "type": "scatter3d",
         "x": [
          0.618287187868584
         ],
         "y": [
          0.109183826442755
         ],
         "z": [
          0.553543382214698
         ]
        },
        {
         "customdata": [
          1.43537834038248
         ],
         "hovertemplate": "Formality=%{y:.2f}<br>Activeness=%{x:.2f}<br>Valence=%{z:.2f}<br>Exchange=%{customdata:.2f}<br>Equality=%{text:.2f}<br>",
         "marker": {
          "color": "#4EC186",
          "size": 6.9824375120208035
         },
         "mode": "markers",
         "name": "Driver-Passenger",
         "opacity": 0.6026208815461076,
         "text": [
          "-0.0108817170904646"
         ],
         "type": "scatter3d",
         "x": [
          -1.08063510459248
         ],
         "y": [
          0.478934466952245
         ],
         "z": [
          1.20952675019603
         ]
        },
        {
         "customdata": [
          0.554757477417389
         ],
         "hovertemplate": "Formality=%{y:.2f}<br>Activeness=%{x:.2f}<br>Valence=%{z:.2f}<br>Exchange=%{customdata:.2f}<br>Equality=%{text:.2f}<br>",
         "marker": {
          "color": "#4EC186",
          "size": 5.366007228849817
         },
         "mode": "markers",
         "name": "Coach-athlete",
         "opacity": 0.4154447833781008,
         "text": [
          "-0.766272447206923"
         ],
         "type": "scatter3d",
         "x": [
          1.26487124147839
         ],
         "y": [
          0.434903012077417
         ],
         "z": [
          0.0426359510930812
         ]
        },
        {
         "customdata": [
          0.0652567029920689
         ],
         "hovertemplate": "Formality=%{y:.2f}<br>Activeness=%{x:.2f}<br>Valence=%{z:.2f}<br>Exchange=%{customdata:.2f}<br>Equality=%{text:.2f}<br>",
         "marker": {
          "color": "#4EC186",
          "size": 7.93974484229597
         },
         "mode": "markers",
         "name": "Team captain-Team members",
         "opacity": 0.3114013194308003,
         "text": [
          "0.436487458488079"
         ],
         "type": "scatter3d",
         "x": [
          0.997640371412275
         ],
         "y": [
          0.699382008754479
         ],
         "z": [
          -0.0814024778276755
         ]
        },
        {
         "customdata": [
          0.211523678105644
         ],
         "hovertemplate": "Formality=%{y:.2f}<br>Activeness=%{x:.2f}<br>Valence=%{z:.2f}<br>Exchange=%{customdata:.2f}<br>Equality=%{text:.2f}<br>",
         "marker": {
          "color": "#4EC186",
          "size": 6.464594092723551
         },
         "mode": "markers",
         "name": "Club Member-Club President",
         "opacity": 0.34249038720556774,
         "text": [
          "-0.252880473647772"
         ],
         "type": "scatter3d",
         "x": [
          -0.421603200289389
         ],
         "y": [
          0.520361036448208
         ],
         "z": [
          0.645074843471497
         ]
        },
        {
         "customdata": [
          -0.395619298885541
         ],
         "hovertemplate": "Formality=%{y:.2f}<br>Activeness=%{x:.2f}<br>Valence=%{z:.2f}<br>Exchange=%{customdata:.2f}<br>Equality=%{text:.2f}<br>",
         "marker": {
          "color": "#4EC186",
          "size": 5.920836093935694
         },
         "mode": "markers",
         "name": "Politician-Supporter",
         "opacity": 0.21344205523591864,
         "text": [
          "-0.506989639992544"
         ],
         "type": "scatter3d",
         "x": [
          -0.603458912722623
         ],
         "y": [
          1.08733819185644
         ],
         "z": [
          0.47766509704776
         ]
        },
        {
         "customdata": [
          -0.809888946182599
         ],
         "hovertemplate": "Formality=%{y:.2f}<br>Activeness=%{x:.2f}<br>Valence=%{z:.2f}<br>Exchange=%{customdata:.2f}<br>Equality=%{text:.2f}<br>",
         "marker": {
          "color": "#4EC186",
          "size": 5.09740620172202
         },
         "mode": "markers",
         "name": "Leader-Follower",
         "opacity": 0.12538897878549896,
         "text": [
          "-0.891795167304734"
         ],
         "type": "scatter3d",
         "x": [
          -0.215791894459888
         ],
         "y": [
          0.714361468909088
         ],
         "z": [
          0.399138905207095
         ]
        },
        {
         "customdata": [
          -0.752313879347251
         ],
         "hovertemplate": "Formality=%{y:.2f}<br>Activeness=%{x:.2f}<br>Valence=%{z:.2f}<br>Exchange=%{customdata:.2f}<br>Equality=%{text:.2f}<br>",
         "marker": {
          "color": "#4EC186",
          "size": 6.460537121438513
         },
         "mode": "markers",
         "name": "Representative-Citizen",
         "opacity": 0.13762656798559703,
         "text": [
          "-0.254776378799372"
         ],
         "type": "scatter3d",
         "x": [
          -0.536655403111014
         ],
         "y": [
          1.29411454308315
         ],
         "z": [
          0.60781177550631
         ]
        },
        {
         "customdata": [
          -0.576686133685933
         ],
         "hovertemplate": "Formality=%{y:.2f}<br>Activeness=%{x:.2f}<br>Valence=%{z:.2f}<br>Exchange=%{customdata:.2f}<br>Equality=%{text:.2f}<br>",
         "marker": {
          "color": "#4EC186",
          "size": 4.326462656727504
         },
         "mode": "markers",
         "name": "Officer-Soldier",
         "opacity": 0.17495627199947042,
         "text": [
          "-1.25207275761908"
         ],
         "type": "scatter3d",
         "x": [
          1.02442153502919
         ],
         "y": [
          1.13562143106136
         ],
         "z": [
          -0.784822872171126
         ]
        },
        {
         "customdata": [
          0.37445937008777
         ],
         "hovertemplate": "Formality=%{y:.2f}<br>Activeness=%{x:.2f}<br>Valence=%{z:.2f}<br>Exchange=%{customdata:.2f}<br>Equality=%{text:.2f}<br>",
         "marker": {
          "color": "#4EC186",
          "size": 2
         },
         "mode": "markers",
         "name": "Babysitter-Infant",
         "opacity": 0.3771223932823163,
         "text": [
          "-2.33927604943477"
         ],
         "type": "scatter3d",
         "x": [
          0.58289877897373
         ],
         "y": [
          -0.540299564485119
         ],
         "z": [
          0.673199460493745
         ]
        },
        {
         "customdata": [
          -0.58532971390028
         ],
         "hovertemplate": "Formality=%{y:.2f}<br>Activeness=%{x:.2f}<br>Valence=%{z:.2f}<br>Exchange=%{customdata:.2f}<br>Equality=%{text:.2f}<br>",
         "marker": {
          "color": "#4EC186",
          "size": 4.762386185003393
         },
         "mode": "markers",
         "name": "Religious leader-Congregant",
         "opacity": 0.17311907771216248,
         "text": [
          "-1.04835683140339"
         ],
         "type": "scatter3d",
         "x": [
          0.0866964900001598
         ],
         "y": [
          0.502270147039726
         ],
         "z": [
          0.516118018532945
         ]
        },
        {
         "customdata": [
          -1.20570501051337
         ],
         "hovertemplate": "Formality=%{y:.2f}<br>Activeness=%{x:.2f}<br>Valence=%{z:.2f}<br>Exchange=%{customdata:.2f}<br>Equality=%{text:.2f}<br>",
         "marker": {
          "color": "#E45E62",
          "size": 8.534899778347182
         },
         "mode": "markers",
         "name": "Religious followers",
         "opacity": 0.041258214197211616,
         "text": [
          "0.714615458412826"
         ],
         "type": "scatter3d",
         "x": [
          -0.657563763181603
         ],
         "y": [
          0.308501215055743
         ],
         "z": [
          0.86007271400928
         ]
        },
        {
         "customdata": [
          3.30495648439888
         ],
         "hovertemplate": "Formality=%{y:.2f}<br>Activeness=%{x:.2f}<br>Valence=%{z:.2f}<br>Exchange=%{customdata:.2f}<br>Equality=%{text:.2f}<br>",
         "marker": {
          "color": "#6594BE",
          "size": 5.730153436557729
         },
         "mode": "markers",
         "name": "Prostitute-Customer",
         "opacity": 1,
         "text": [
          "-0.596099521981838"
         ],
         "type": "scatter3d",
         "x": [
          -1.86310379971315
         ],
         "y": [
          -2.46791975773895
         ],
         "z": [
          -0.692274908383561
         ]
        },
        {
         "customdata": [
          1.52321763465651
         ],
         "hovertemplate": "Formality=%{y:.2f}<br>Activeness=%{x:.2f}<br>Valence=%{z:.2f}<br>Exchange=%{customdata:.2f}<br>Equality=%{text:.2f}<br>",
         "marker": {
          "color": "#4EC186",
          "size": 7.101885943428312
         },
         "mode": "markers",
         "name": "Guide-Tourist",
         "opacity": 0.6212911368846937,
         "text": [
          "0.0449389630536718"
         ],
         "type": "scatter3d",
         "x": [
          -0.645060434443523
         ],
         "y": [
          0.878243061739522
         ],
         "z": [
          1.26765825210781
         ]
        },
        {
         "customdata": [
          -0.513445894928787
         ],
         "hovertemplate": "Formality=%{y:.2f}<br>Activeness=%{x:.2f}<br>Valence=%{z:.2f}<br>Exchange=%{customdata:.2f}<br>Equality=%{text:.2f}<br>",
         "marker": {
          "color": "#4EC186",
          "size": 6.511765489916948
         },
         "mode": "markers",
         "name": "Athlete-Referee",
         "opacity": 0.18839799435194776,
         "text": [
          "-0.230836320839256"
         ],
         "type": "scatter3d",
         "x": [
          -0.163041530985488
         ],
         "y": [
          1.44702199019435
         ],
         "z": [
          -0.260982791552684
         ]
        },
        {
         "customdata": [
          0.460467944909669
         ],
         "hovertemplate": "Formality=%{y:.2f}<br>Activeness=%{x:.2f}<br>Valence=%{z:.2f}<br>Exchange=%{customdata:.2f}<br>Equality=%{text:.2f}<br>",
         "marker": {
          "color": "#6594BE",
          "size": 2.9292034469236476
         },
         "mode": "markers",
         "name": "Slave-Master",
         "opacity": 0.39540352892331043,
         "text": [
          "-1.90504038984206"
         ],
         "type": "scatter3d",
         "x": [
          -1.35340785675362
         ],
         "y": [
          -1.32291118459383
         ],
         "z": [
          -2.34327827321095
         ]
        },
        {
         "customdata": [
          0.200070227685927
         ],
         "hovertemplate": "Formality=%{y:.2f}<br>Activeness=%{x:.2f}<br>Valence=%{z:.2f}<br>Exchange=%{customdata:.2f}<br>Equality=%{text:.2f}<br>",
         "marker": {
          "color": "#4EC186",
          "size": 6.3303276284542775
         },
         "mode": "markers",
         "name": "Reader-Writer",
         "opacity": 0.34005595457935783,
         "text": [
          "-0.315625921769145"
         ],
         "type": "scatter3d",
         "x": [
          -1.33335591663411
         ],
         "y": [
          0.240559046044794
         ],
         "z": [
          2.01374876349258
         ]
        },
        {
         "customdata": [
          -0.486264873136796
         ],
         "hovertemplate": "Formality=%{y:.2f}<br>Activeness=%{x:.2f}<br>Valence=%{z:.2f}<br>Exchange=%{customdata:.2f}<br>Equality=%{text:.2f}<br>",
         "marker": {
          "color": "#4EC186",
          "size": 7.331589381632713
         },
         "mode": "markers",
         "name": "Reviewer-Writer",
         "opacity": 0.19417532466196805,
         "text": [
          "0.152284049137492"
         ],
         "type": "scatter3d",
         "x": [
          -0.634662715435608
         ],
         "y": [
          1.20607623123757
         ],
         "z": [
          0.301145456696632
         ]
        },
        {
         "customdata": [
          -0.206483250446105
         ],
         "hovertemplate": "Formality=%{y:.2f}<br>Activeness=%{x:.2f}<br>Valence=%{z:.2f}<br>Exchange=%{customdata:.2f}<br>Equality=%{text:.2f}<br>",
         "marker": {
          "color": "#4EC186",
          "size": 6.284302368929798
         },
         "mode": "markers",
         "name": "Performer-Audience",
         "opacity": 0.2536429510568619,
         "text": [
          "-0.337134461146292"
         ],
         "type": "scatter3d",
         "x": [
          -0.169271429454172
         ],
         "y": [
          0.743259499732301
         ],
         "z": [
          0.889858989102159
         ]
        },
        {
         "customdata": [
          2.65512812532398
         ],
         "hovertemplate": "Formality=%{y:.2f}<br>Activeness=%{x:.2f}<br>Valence=%{z:.2f}<br>Exchange=%{customdata:.2f}<br>Equality=%{text:.2f}<br>",
         "marker": {
          "color": "#4EC186",
          "size": 8.462690670872124
         },
         "mode": "markers",
         "name": "Dealer-Buyer",
         "opacity": 0.8618788835855913,
         "text": [
          "0.68087067462318"
         ],
         "type": "scatter3d",
         "x": [
          0.159223436571117
         ],
         "y": [
          0.455101683161385
         ],
         "z": [
          -0.227450796429135
         ]
        },
        {
         "customdata": [
          2.46301325089507
         ],
         "hovertemplate": "Formality=%{y:.2f}<br>Activeness=%{x:.2f}<br>Valence=%{z:.2f}<br>Exchange=%{customdata:.2f}<br>Equality=%{text:.2f}<br>",
         "marker": {
          "color": "#4EC186",
          "size": 4.496405158247542
         },
         "mode": "markers",
         "name": "Sugar daddy-Sugar baby",
         "opacity": 0.8210448378481746,
         "text": [
          "-1.17265517206803"
         ],
         "type": "scatter3d",
         "x": [
          -0.767097591727476
         ],
         "y": [
          -3.10342248166961
         ],
         "z": [
          -0.65221650678504
         ]
        },
        {
         "customdata": [
          0.486814400485314
         ],
         "hovertemplate": "Formality=%{y:.2f}<br>Activeness=%{x:.2f}<br>Valence=%{z:.2f}<br>Exchange=%{customdata:.2f}<br>Equality=%{text:.2f}<br>",
         "marker": {
          "color": "#4EC186",
          "size": 7.049535072009102
         },
         "mode": "markers",
         "name": "Director-Performer",
         "opacity": 0.40100347205729614,
         "text": [
          "0.0204743366510949"
         ],
         "type": "scatter3d",
         "x": [
          0.764207472358095
         ],
         "y": [
          0.740012392127643
         ],
         "z": [
          -0.128674497012128
         ]
        },
        {
         "customdata": [
          1.04959364070361
         ],
         "hovertemplate": "Formality=%{y:.2f}<br>Activeness=%{x:.2f}<br>Valence=%{z:.2f}<br>Exchange=%{customdata:.2f}<br>Equality=%{text:.2f}<br>",
         "marker": {
          "color": "#4EC186",
          "size": 5.257337886952159
         },
         "mode": "markers",
         "name": "Psychologist-Client",
         "opacity": 0.5206222850381008,
         "text": [
          "-0.817055839705802"
         ],
         "type": "scatter3d",
         "x": [
          1.02136589481869
         ],
         "y": [
          -0.141809906149879
         ],
         "z": [
          -0.0502283017474019
         ]
        },
        {
         "customdata": [
          -0.681460869558955
         ],
         "hovertemplate": "Formality=%{y:.2f}<br>Activeness=%{x:.2f}<br>Valence=%{z:.2f}<br>Exchange=%{customdata:.2f}<br>Equality=%{text:.2f}<br>",
         "marker": {
          "color": "#4EC186",
          "size": 6.20564636049347
         },
         "mode": "markers",
         "name": "Judge-Contestant",
         "opacity": 0.1526863859769391,
         "text": [
          "-0.373892012807726"
         ],
         "type": "scatter3d",
         "x": [
          -0.10393638952325
         ],
         "y": [
          1.36386165142283
         ],
         "z": [
          -0.645765474663961
         ]
        },
        {
         "customdata": [
          -1.20752523988043
         ],
         "hovertemplate": "Formality=%{y:.2f}<br>Activeness=%{x:.2f}<br>Valence=%{z:.2f}<br>Exchange=%{customdata:.2f}<br>Equality=%{text:.2f}<br>",
         "marker": {
          "color": "#E45E62",
          "size": 2.8652487301612437
         },
         "mode": "markers",
         "name": "Man-God",
         "opacity": 0.04087132416879469,
         "text": [
          "-1.93492772905645"
         ],
         "type": "scatter3d",
         "x": [
          -0.558473814721024
         ],
         "y": [
          -1.11004655782877
         ],
         "z": [
          0.696480820214924
         ]
        },
        {
         "customdata": [
          0.409091401977792
         ],
         "hovertemplate": "Formality=%{y:.2f}<br>Activeness=%{x:.2f}<br>Valence=%{z:.2f}<br>Exchange=%{customdata:.2f}<br>Equality=%{text:.2f}<br>",
         "marker": {
          "color": "#4EC186",
          "size": 10.046088362989137
         },
         "mode": "markers",
         "name": "Co-workers",
         "opacity": 0.3844834369202993,
         "text": [
          "1.42082460345369"
         ],
         "type": "scatter3d",
         "x": [
          1.24451714880014
         ],
         "y": [
          1.41823968422416
         ],
         "z": [
          -0.14557169372268
         ]
        },
        {
         "customdata": [
          -1.26235240653718
         ],
         "hovertemplate": "Formality=%{y:.2f}<br>Activeness=%{x:.2f}<br>Valence=%{z:.2f}<br>Exchange=%{customdata:.2f}<br>Equality=%{text:.2f}<br>",
         "marker": {
          "color": "#6594BE",
          "size": 10.046876713311729
         },
         "mode": "markers",
         "name": "Sports rivals",
         "opacity": 0.029217801568996428,
         "text": [
          "1.42119301558502"
         ],
         "type": "scatter3d",
         "x": [
          -0.31968933863164
         ],
         "y": [
          1.22026920040999
         ],
         "z": [
          -1.60450607236725
         ]
        },
        {
         "customdata": [
          -0.944206412870348
         ],
         "hovertemplate": "Formality=%{y:.2f}<br>Activeness=%{x:.2f}<br>Valence=%{z:.2f}<br>Exchange=%{customdata:.2f}<br>Equality=%{text:.2f}<br>",
         "marker": {
          "color": "#6594BE",
          "size": 8.902169723834053
         },
         "mode": "markers",
         "name": "Romantic rivals",
         "opacity": 0.09683978084147894,
         "text": [
          "0.886248169801352"
         ],
         "type": "scatter3d",
         "x": [
          -0.748963015283713
         ],
         "y": [
          -1.02191174115028
         ],
         "z": [
          -2.00267863457277
         ]
        },
        {
         "customdata": [
          1.61588880702775
         ],
         "hovertemplate": "Formality=%{y:.2f}<br>Activeness=%{x:.2f}<br>Valence=%{z:.2f}<br>Exchange=%{customdata:.2f}<br>Equality=%{text:.2f}<br>",
         "marker": {
          "color": "#4EC186",
          "size": 7.85787083931192
         },
         "mode": "markers",
         "name": "Criminal and their accomplice",
         "opacity": 0.6409884086466859,
         "text": [
          "0.398226072559109"
         ],
         "type": "scatter3d",
         "x": [
          -0.20211611481784
         ],
         "y": [
          -1.09663361451809
         ],
         "z": [
          -1.36504303432599
         ]
        },
        {
         "customdata": [
          0.385442216506973
         ],
         "hovertemplate": "Formality=%{y:.2f}<br>Activeness=%{x:.2f}<br>Valence=%{z:.2f}<br>Exchange=%{customdata:.2f}<br>Equality=%{text:.2f}<br>",
         "marker": {
          "color": "#4EC186",
          "size": 9.786546184618897
         },
         "mode": "markers",
         "name": "Diplomats",
         "opacity": 0.3794567989567437,
         "text": [
          "1.29953526752854"
         ],
         "type": "scatter3d",
         "x": [
          0.311671059709706
         ],
         "y": [
          1.39242259278541
         ],
         "z": [
          -0.743285838873811
         ]
        },
        {
         "customdata": [
          0.0311743951851463
         ],
         "hovertemplate": "Formality=%{y:.2f}<br>Activeness=%{x:.2f}<br>Valence=%{z:.2f}<br>Exchange=%{customdata:.2f}<br>Equality=%{text:.2f}<br>",
         "marker": {
          "color": "#4EC186",
          "size": 5.899410599013961
         },
         "mode": "markers",
         "name": "Principal-Teacher",
         "opacity": 0.3041571197301697,
         "text": [
          "-0.517002209306876"
         ],
         "type": "scatter3d",
         "x": [
          0.525836241020788
         ],
         "y": [
          1.17011367556438
         ],
         "z": [
          0.332481249682779
         ]
        },
        {
         "customdata": [
          0.0007762256286709
         ],
         "hovertemplate": "Formality=%{y:.2f}<br>Activeness=%{x:.2f}<br>Valence=%{z:.2f}<br>Exchange=%{customdata:.2f}<br>Equality=%{text:.2f}<br>",
         "marker": {
          "color": "#4EC186",
          "size": 5.848333367655538
         },
         "mode": "markers",
         "name": "Professor-Teaching Assistant",
         "opacity": 0.2976959841742022,
         "text": [
          "-0.540871637818495"
         ],
         "type": "scatter3d",
         "x": [
          0.457742894722167
         ],
         "y": [
          1.05981528162234
         ],
         "z": [
          0.529111155278825
         ]
        },
        {
         "customdata": [
          -0.0457169334999151
         ],
         "hovertemplate": "Formality=%{y:.2f}<br>Activeness=%{x:.2f}<br>Valence=%{z:.2f}<br>Exchange=%{customdata:.2f}<br>Equality=%{text:.2f}<br>",
         "marker": {
          "color": "#4EC186",
          "size": 4.829927624132365
         },
         "mode": "markers",
         "name": "University student-Administrator",
         "opacity": 0.2878138561402472,
         "text": [
          "-1.01679334391622"
         ],
         "type": "scatter3d",
         "x": [
          -0.502662386190129
         ],
         "y": [
          0.900830377818612
         ],
         "z": [
          0.877609702635563
         ]
        },
        {
         "customdata": [
          0.409799799863595
         ],
         "hovertemplate": "Formality=%{y:.2f}<br>Activeness=%{x:.2f}<br>Valence=%{z:.2f}<br>Exchange=%{customdata:.2f}<br>Equality=%{text:.2f}<br>",
         "marker": {
          "color": "#4EC186",
          "size": 5.69002123255238
         },
         "mode": "markers",
         "name": "Student-Dorm Resident assistant",
         "opacity": 0.384634006998515,
         "text": [
          "-0.614854116720878"
         ],
         "type": "scatter3d",
         "x": [
          -0.825926844397464
         ],
         "y": [
          0.555116984147164
         ],
         "z": [
          0.65715974933741
         ]
        },
        {
         "customdata": [
          0.26834892718888
         ],
         "hovertemplate": "Formality=%{y:.2f}<br>Activeness=%{x:.2f}<br>Valence=%{z:.2f}<br>Exchange=%{customdata:.2f}<br>Equality=%{text:.2f}<br>",
         "marker": {
          "color": "#4EC186",
          "size": 4.604113745845289
         },
         "mode": "markers",
         "name": "Mentor-Mentee",
         "opacity": 0.35456860252857547,
         "text": [
          "-1.12232075958371"
         ],
         "type": "scatter3d",
         "x": [
          0.94601630888354
         ],
         "y": [
          0.900631318694456
         ],
         "z": [
          0.324551076884455
         ]
        },
        {
         "customdata": [
          0.863494854875001
         ],
         "hovertemplate": "Formality=%{y:.2f}<br>Activeness=%{x:.2f}<br>Valence=%{z:.2f}<br>Exchange=%{customdata:.2f}<br>Equality=%{text:.2f}<br>",
         "marker": {
          "color": "#4EC186",
          "size": 5.298681825936917
         },
         "mode": "markers",
         "name": "Athletic trainer-Trainee",
         "opacity": 0.48106695984637476,
         "text": [
          "-0.797734976578739"
         ],
         "type": "scatter3d",
         "x": [
          0.917941944642326
         ],
         "y": [
          0.712992055428702
         ],
         "z": [
          0.15233519119233
         ]
        },
        {
         "customdata": [
          0.688563749252275
         ],
         "hovertemplate": "Formality=%{y:.2f}<br>Activeness=%{x:.2f}<br>Valence=%{z:.2f}<br>Exchange=%{customdata:.2f}<br>Equality=%{text:.2f}<br>",
         "marker": {
          "color": "#4EC186",
          "size": 6.156388308214674
         },
         "mode": "markers",
         "name": "Researcher-Research Subject",
         "opacity": 0.4438853267785068,
         "text": [
          "-0.396911301955168"
         ],
         "type": "scatter3d",
         "x": [
          -0.197805546632465
         ],
         "y": [
          0.961748911879806
         ],
         "z": [
          0.725680532015007
         ]
        },
        {
         "customdata": [
          -0.654903621758776
         ],
         "hovertemplate": "Formality=%{y:.2f}<br>Activeness=%{x:.2f}<br>Valence=%{z:.2f}<br>Exchange=%{customdata:.2f}<br>Equality=%{text:.2f}<br>",
         "marker": {
          "color": "#E45E62",
          "size": 10.598548464246052
         },
         "mode": "markers",
         "name": "Peers",
         "opacity": 0.1583311330302637,
         "text": [
          "1.67900043917857"
         ],
         "type": "scatter3d",
         "x": [
          0.0073639911983526
         ],
         "y": [
          -0.0154425311627462
         ],
         "z": [
          0.16543101161631
         ]
        },
        {
         "customdata": [
          -0.626505222296198
         ],
         "hovertemplate": "Formality=%{y:.2f}<br>Activeness=%{x:.2f}<br>Valence=%{z:.2f}<br>Exchange=%{customdata:.2f}<br>Equality=%{text:.2f}<br>",
         "marker": {
          "color": "#E45E62",
          "size": 11.368183776625639
         },
         "mode": "markers",
         "name": "Classmates",
         "opacity": 0.16436721714905717,
         "text": [
          "2.03866666579821"
         ],
         "type": "scatter3d",
         "x": [
          0.595423806373039
         ],
         "y": [
          0.278417822868959
         ],
         "z": [
          -0.118248164768773
         ]
        },
        {
         "customdata": [
          -0.0530759143973132
         ],
         "hovertemplate": "Formality=%{y:.2f}<br>Activeness=%{x:.2f}<br>Valence=%{z:.2f}<br>Exchange=%{customdata:.2f}<br>Equality=%{text:.2f}<br>",
         "marker": {
          "color": "#E45E62",
          "size": 10.230044742966452
         },
         "mode": "markers",
         "name": "Roommates",
         "opacity": 0.2862497036328559,
         "text": [
          "1.50679115928191"
         ],
         "type": "scatter3d",
         "x": [
          0.577222591982797
         ],
         "y": [
          -0.59864741860058
         ],
         "z": [
          -0.0161449196522848
         ]
        },
        {
         "customdata": [
          -0.417217594184654
         ],
         "hovertemplate": "Formality=%{y:.2f}<br>Activeness=%{x:.2f}<br>Valence=%{z:.2f}<br>Exchange=%{customdata:.2f}<br>Equality=%{text:.2f}<br>",
         "marker": {
          "color": "#E45E62",
          "size": 9.788550149042322
         },
         "mode": "markers",
         "name": "Sorority sisters",
         "opacity": 0.2088513342898392,
         "text": [
          "1.30047176084019"
         ],
         "type": "scatter3d",
         "x": [
          -0.213430871923552
         ],
         "y": [
          -0.302272288472919
         ],
         "z": [
          0.491958792366111
         ]
        },
        {
         "customdata": [
          -0.721288859945057
         ],
         "hovertemplate": "Formality=%{y:.2f}<br>Activeness=%{x:.2f}<br>Valence=%{z:.2f}<br>Exchange=%{customdata:.2f}<br>Equality=%{text:.2f}<br>",
         "marker": {
          "color": "#E45E62",
          "size": 10.004166812293663
         },
         "mode": "markers",
         "name": "Fraternity brothers",
         "opacity": 0.14422094057147522,
         "text": [
          "1.40123381063252"
         ],
         "type": "scatter3d",
         "x": [
          0.683197980999243
         ],
         "y": [
          0.0019979887754964
         ],
         "z": [
          0.36131315255581
         ]
        },
        {
         "customdata": [
          -0.720005387937027
         ],
         "hovertemplate": "Formality=%{y:.2f}<br>Activeness=%{x:.2f}<br>Valence=%{z:.2f}<br>Exchange=%{customdata:.2f}<br>Equality=%{text:.2f}<br>",
         "marker": {
          "color": "#E45E62",
          "size": 8.414037273582018
         },
         "mode": "markers",
         "name": "Bride-Bridesmaid",
         "opacity": 0.14449374274171,
         "text": [
          "0.658133953043378"
         ],
         "type": "scatter3d",
         "x": [
          0.751237000205409
         ],
         "y": [
          -0.603948919086118
         ],
         "z": [
          0.491058539862169
         ]
        },
        {
         "customdata": [
          -0.751757831222835
         ],
         "hovertemplate": "Formality=%{y:.2f}<br>Activeness=%{x:.2f}<br>Valence=%{z:.2f}<br>Exchange=%{customdata:.2f}<br>Equality=%{text:.2f}<br>",
         "marker": {
          "color": "#E45E62",
          "size": 8.30038430950609
         },
         "mode": "markers",
         "name": "Groom-Groomsman",
         "opacity": 0.13774475609889175,
         "text": [
          "0.605021612593534"
         ],
         "type": "scatter3d",
         "x": [
          0.671905403947306
         ],
         "y": [
          -0.587276532997374
         ],
         "z": [
          0.635262538361464
         ]
        },
        {
         "customdata": [
          0.0721699484495764
         ],
         "hovertemplate": "Formality=%{y:.2f}<br>Activeness=%{x:.2f}<br>Valence=%{z:.2f}<br>Exchange=%{customdata:.2f}<br>Equality=%{text:.2f}<br>",
         "marker": {
          "color": "#4EC186",
          "size": 5.979447480903627
         },
         "mode": "markers",
         "name": "Predecessor-Successor",
         "opacity": 0.3128707308027464,
         "text": [
          "-0.479599347410305"
         ],
         "type": "scatter3d",
         "x": [
          -0.559812661266143
         ],
         "y": [
          0.673263670438949
         ],
         "z": [
          0.263835156996696
         ]
        },
        {
         "customdata": [
          1.83515851902992
         ],
         "hovertemplate": "Formality=%{y:.2f}<br>Activeness=%{x:.2f}<br>Valence=%{z:.2f}<br>Exchange=%{customdata:.2f}<br>Equality=%{text:.2f}<br>",
         "marker": {
          "color": "#4EC186",
          "size": 5.9550840388977155
         },
         "mode": "markers",
         "name": "Landlord-Tenant",
         "opacity": 0.687594219234455,
         "text": [
          "-0.490984879119654"
         ],
         "type": "scatter3d",
         "x": [
          -0.705764148977619
         ],
         "y": [
          0.158911583296918
         ],
         "z": [
          0.0743956667446389
         ]
        },
        {
         "customdata": [
          1.64008445837328
         ],
         "hovertemplate": "Formality=%{y:.2f}<br>Activeness=%{x:.2f}<br>Valence=%{z:.2f}<br>Exchange=%{customdata:.2f}<br>Equality=%{text:.2f}<br>",
         "marker": {
          "color": "#4EC186",
          "size": 5.1355605040142756
         },
         "mode": "markers",
         "name": "Landlord-Housekeeper",
         "opacity": 0.6461311980149061,
         "text": [
          "-0.873964886243004"
         ],
         "type": "scatter3d",
         "x": [
          -0.645078499336968
         ],
         "y": [
          -0.0985651183628657
         ],
         "z": [
          0.189838928198356
         ]
        },
        {
         "customdata": [
          -0.164707651768305
         ],
         "hovertemplate": "Formality=%{y:.2f}<br>Activeness=%{x:.2f}<br>Valence=%{z:.2f}<br>Exchange=%{customdata:.2f}<br>Equality=%{text:.2f}<br>",
         "marker": {
          "color": "#4EC186",
          "size": 7.414428278638658
         },
         "mode": "markers",
         "name": "Guest-Host",
         "opacity": 0.2625223609005202,
         "text": [
          "0.190996349657256"
         ],
         "type": "scatter3d",
         "x": [
          -0.393009888711768
         ],
         "y": [
          -0.0019007459923005
         ],
         "z": [
          0.872981570711896
         ]
        },
        {
         "customdata": [
          0.104301054927535
         ],
         "hovertemplate": "Formality=%{y:.2f}<br>Activeness=%{x:.2f}<br>Valence=%{z:.2f}<br>Exchange=%{customdata:.2f}<br>Equality=%{text:.2f}<br>",
         "marker": {
          "color": "#4EC186",
          "size": 7.569946902662576
         },
         "mode": "markers",
         "name": "Television host-Guest",
         "opacity": 0.319700202364566,
         "text": [
          "0.263673364045824"
         ],
         "type": "scatter3d",
         "x": [
          -0.898214489145052
         ],
         "y": [
          1.01218746529936
         ],
         "z": [
          0.790361759112105
         ]
        },
        {
         "customdata": [
          0.452903645387197
         ],
         "hovertemplate": "Formality=%{y:.2f}<br>Activeness=%{x:.2f}<br>Valence=%{z:.2f}<br>Exchange=%{customdata:.2f}<br>Equality=%{text:.2f}<br>",
         "marker": {
          "color": "#4EC186",
          "size": 7.277342289905827
         },
         "mode": "markers",
         "name": "Volunteer-Organizer",
         "opacity": 0.39379573591097683,
         "text": [
          "0.126933280438777"
         ],
         "type": "scatter3d",
         "x": [
          0.794935471095355
         ],
         "y": [
          1.20411502535096
         ],
         "z": [
          0.696569784627631
         ]
        },
        {
         "customdata": [
          -0.223058970588312
         ],
         "hovertemplate": "Formality=%{y:.2f}<br>Activeness=%{x:.2f}<br>Valence=%{z:.2f}<br>Exchange=%{customdata:.2f}<br>Equality=%{text:.2f}<br>",
         "marker": {
          "color": "#4EC186",
          "size": 5.8071291930069036
         },
         "mode": "markers",
         "name": "Celebrity-Fans",
         "opacity": 0.25011977922318923,
         "text": [
          "-0.560127186230159"
         ],
         "type": "scatter3d",
         "x": [
          -1.39353893209304
         ],
         "y": [
          -0.269766563968455
         ],
         "z": [
          1.49056256022071
         ]
        },
        {
         "customdata": [
          -1.21828492692979
         ],
         "hovertemplate": "Formality=%{y:.2f}<br>Activeness=%{x:.2f}<br>Valence=%{z:.2f}<br>Exchange=%{customdata:.2f}<br>Equality=%{text:.2f}<br>",
         "marker": {
          "color": "#6594BE",
          "size": 6.171055900763021
         },
         "mode": "markers",
         "name": "Celebrity-Haters",
         "opacity": 0.03858435105231984,
         "text": [
          "-0.390056837794542"
         ],
         "type": "scatter3d",
         "x": [
          -2.3279982257601
         ],
         "y": [
          -0.47959035343393
         ],
         "z": [
          -1.01053839247109
         ]
        },
        {
         "customdata": [
          0.577213895660397
         ],
         "hovertemplate": "Formality=%{y:.2f}<br>Activeness=%{x:.2f}<br>Valence=%{z:.2f}<br>Exchange=%{customdata:.2f}<br>Equality=%{text:.2f}<br>",
         "marker": {
          "color": "#4EC186",
          "size": 7.190192408693912
         },
         "mode": "markers",
         "name": "Native-Tourist",
         "opacity": 0.420217898486233,
         "text": [
          "0.086206369365887"
         ],
         "type": "scatter3d",
         "x": [
          -1.26575218381848
         ],
         "y": [
          0.144609377951027
         ],
         "z": [
          1.03560637345793
         ]
        },
        {
         "customdata": [
          -0.821087575220013
         ],
         "hovertemplate": "Formality=%{y:.2f}<br>Activeness=%{x:.2f}<br>Valence=%{z:.2f}<br>Exchange=%{customdata:.2f}<br>Equality=%{text:.2f}<br>",
         "marker": {
          "color": "#6594BE",
          "size": 5.796582196717852
         },
         "mode": "markers",
         "name": "Bully-Victim",
         "opacity": 0.12300870848279867,
         "text": [
          "-0.565056011995346"
         ],
         "type": "scatter3d",
         "x": [
          -0.951898721396031
         ],
         "y": [
          -1.18779482618953
         ],
         "z": [
          -3.24581652992477
         ]
        },
        {
         "customdata": [
          -0.215917593247513
         ],
         "hovertemplate": "Formality=%{y:.2f}<br>Activeness=%{x:.2f}<br>Valence=%{z:.2f}<br>Exchange=%{customdata:.2f}<br>Equality=%{text:.2f}<br>",
         "marker": {
          "color": "#E45E62",
          "size": 9.881795762726217
         },
         "mode": "markers",
         "name": "Friends",
         "opacity": 0.2516376800615766,
         "text": [
          "1.34404733161127"
         ],
         "type": "scatter3d",
         "x": [
          1.37712277306375
         ],
         "y": [
          -0.695820964959399
         ],
         "z": [
          0.48847503743639
         ]
        },
        {
         "customdata": [
          -0.719751035699345
         ],
         "hovertemplate": "Formality=%{y:.2f}<br>Activeness=%{x:.2f}<br>Valence=%{z:.2f}<br>Exchange=%{customdata:.2f}<br>Equality=%{text:.2f}<br>",
         "marker": {
          "color": "#E45E62",
          "size": 9.046480440037202
         },
         "mode": "markers",
         "name": "Facebook friends",
         "opacity": 0.1445478053484592,
         "text": [
          "0.953687501030953"
         ],
         "type": "scatter3d",
         "x": [
          -1.19218450416032
         ],
         "y": [
          -0.411335438091119
         ],
         "z": [
          1.16379006896628
         ]
        },
        {
         "customdata": [
          -0.203333722256103
         ],
         "hovertemplate": "Formality=%{y:.2f}<br>Activeness=%{x:.2f}<br>Valence=%{z:.2f}<br>Exchange=%{customdata:.2f}<br>Equality=%{text:.2f}<br>",
         "marker": {
          "color": "#6594BE",
          "size": 6.8989528643154285
         },
         "mode": "markers",
         "name": "A person and their social media follower",
         "opacity": 0.2543123837519831,
         "text": [
          "-0.0498957900388911"
         ],
         "type": "scatter3d",
         "x": [
          -1.81298872667124
         ],
         "y": [
          -0.28679907402849
         ],
         "z": [
          1.36062356162849
         ]
        },
        {
         "customdata": [
          -0.954552456325544
         ],
         "hovertemplate": "Formality=%{y:.2f}<br>Activeness=%{x:.2f}<br>Valence=%{z:.2f}<br>Exchange=%{customdata:.2f}<br>Equality=%{text:.2f}<br>",
         "marker": {
          "color": "#E45E62",
          "size": 10.32178684740678
         },
         "mode": "markers",
         "name": "Childhood friends",
         "opacity": 0.09464072773376601,
         "text": [
          "1.54966410962014"
         ],
         "type": "scatter3d",
         "x": [
          0.675280432170243
         ],
         "y": [
          -0.230890114158386
         ],
         "z": [
          0.856760055538344
         ]
        },
        {
         "customdata": [
          -0.638032577672185
         ],
         "hovertemplate": "Formality=%{y:.2f}<br>Activeness=%{x:.2f}<br>Valence=%{z:.2f}<br>Exchange=%{customdata:.2f}<br>Equality=%{text:.2f}<br>",
         "marker": {
          "color": "#E45E62",
          "size": 8.96228338041955
         },
         "mode": "markers",
         "name": "Pen-friends",
         "opacity": 0.1619170760131677,
         "text": [
          "0.914340503514012"
         ],
         "type": "scatter3d",
         "x": [
          -1.3011505910394
         ],
         "y": [
          -0.390450741414773
         ],
         "z": [
          1.45862271159455
         ]
        },
        {
         "customdata": [
          1.16925809242584
         ],
         "hovertemplate": "Formality=%{y:.2f}<br>Activeness=%{x:.2f}<br>Valence=%{z:.2f}<br>Exchange=%{customdata:.2f}<br>Equality=%{text:.2f}<br>",
         "marker": {
          "color": "#E45E62",
          "size": 9.071341848698331
         },
         "mode": "markers",
         "name": "Friends with benefits",
         "opacity": 0.5460569824257652,
         "text": [
          "0.96530574268095"
         ],
         "type": "scatter3d",
         "x": [
          -0.917221459411046
         ],
         "y": [
          -1.9216272082048
         ],
         "z": [
          -0.195228656236406
         ]
        },
        {
         "customdata": [
          0.862565432434259
         ],
         "hovertemplate": "Formality=%{y:.2f}<br>Activeness=%{x:.2f}<br>Valence=%{z:.2f}<br>Exchange=%{customdata:.2f}<br>Equality=%{text:.2f}<br>",
         "marker": {
          "color": "#4EC186",
          "size": 8.114146713787386
         },
         "mode": "markers",
         "name": "Political allies",
         "opacity": 0.48086941096543856,
         "text": [
          "0.517988998276815"
         ],
         "type": "scatter3d",
         "x": [
          0.0810439519976947
         ],
         "y": [
          1.03900081802323
         ],
         "z": [
          -0.748273999384869
         ]
        },
        {
         "customdata": [
          0.263238406571592
         ],
         "hovertemplate": "Formality=%{y:.2f}<br>Activeness=%{x:.2f}<br>Valence=%{z:.2f}<br>Exchange=%{customdata:.2f}<br>Equality=%{text:.2f}<br>",
         "marker": {
          "color": "#E45E62",
          "size": 9.33793320374307
         },
         "mode": "markers",
         "name": "Romantic lovers",
         "opacity": 0.35348236059520777,
         "text": [
          "1.08988930216174"
         ],
         "type": "scatter3d",
         "x": [
          1.35469386232076
         ],
         "y": [
          -1.75477070849878
         ],
         "z": [
          -0.2447176418725
         ]
        },
        {
         "customdata": [
          -0.656311556479443
         ],
         "hovertemplate": "Formality=%{y:.2f}<br>Activeness=%{x:.2f}<br>Valence=%{z:.2f}<br>Exchange=%{customdata:.2f}<br>Equality=%{text:.2f}<br>",
         "marker": {
          "color": "#6594BE",
          "size": 8.164425153168033
         },
         "mode": "markers",
         "name": "Ex-lovers",
         "opacity": 0.1580318762915551,
         "text": [
          "0.541485135059378"
         ],
         "type": "scatter3d",
         "x": [
          -1.94547331187551
         ],
         "y": [
          -1.09344892260633
         ],
         "z": [
          -0.460057253300886
         ]
        },
        {
         "customdata": [
          0.321146361310896
         ],
         "hovertemplate": "Formality=%{y:.2f}<br>Activeness=%{x:.2f}<br>Valence=%{z:.2f}<br>Exchange=%{customdata:.2f}<br>Equality=%{text:.2f}<br>",
         "marker": {
          "color": "#E45E62",
          "size": 9.106098879905499
         },
         "mode": "markers",
         "name": "Life partners",
         "opacity": 0.36579070516984924,
         "text": [
          "0.981548409904901"
         ],
         "type": "scatter3d",
         "x": [
          2.06147895205444
         ],
         "y": [
          -1.42969677405097
         ],
         "z": [
          -0.25673617302017
         ]
        },
        {
         "customdata": [
          -0.110147605695378
         ],
         "hovertemplate": "Formality=%{y:.2f}<br>Activeness=%{x:.2f}<br>Valence=%{z:.2f}<br>Exchange=%{customdata:.2f}<br>Equality=%{text:.2f}<br>",
         "marker": {
          "color": "#E45E62",
          "size": 9.347748141805994
         },
         "mode": "markers",
         "name": "Soul mates",
         "opacity": 0.2741191069796578,
         "text": [
          "1.09447602223658"
         ],
         "type": "scatter3d",
         "x": [
          1.47954892838549
         ],
         "y": [
          -1.38139728232433
         ],
         "z": [
          0.169284406998879
         ]
        },
        {
         "customdata": [
          -0.336426012745854
         ],
         "hovertemplate": "Formality=%{y:.2f}<br>Activeness=%{x:.2f}<br>Valence=%{z:.2f}<br>Exchange=%{customdata:.2f}<br>Equality=%{text:.2f}<br>",
         "marker": {
          "color": "#6594BE",
          "size": 8.10819787126818
         },
         "mode": "markers",
         "name": "Strangers",
         "opacity": 0.2260235971949219,
         "text": [
          "0.515208983239534"
         ],
         "type": "scatter3d",
         "x": [
          -3.2267614687266
         ],
         "y": [
          0.0671482900668563
         ],
         "z": [
          1.13451334237683
         ]
        },
        {
         "customdata": [
          -0.422196490408921
         ],
         "hovertemplate": "Formality=%{y:.2f}<br>Activeness=%{x:.2f}<br>Valence=%{z:.2f}<br>Exchange=%{customdata:.2f}<br>Equality=%{text:.2f}<br>",
         "marker": {
          "color": "#4EC186",
          "size": 8.886322919759884
         },
         "mode": "markers",
         "name": "Neighbors",
         "opacity": 0.20779306914119863,
         "text": [
          "0.878842636123701"
         ],
         "type": "scatter3d",
         "x": [
          -0.563199344304467
         ],
         "y": [
          0.180503267832406
         ],
         "z": [
          0.485436474807728
         ]
        },
        {
         "customdata": [
          -0.719529793823646
         ],
         "hovertemplate": "Formality=%{y:.2f}<br>Activeness=%{x:.2f}<br>Valence=%{z:.2f}<br>Exchange=%{customdata:.2f}<br>Equality=%{text:.2f}<br>",
         "marker": {
          "color": "#E45E62",
          "size": 7.8497508084121534
         },
         "mode": "markers",
         "name": "Church members",
         "opacity": 0.14459483034274026,
         "text": [
          "0.394431417055681"
         ],
         "type": "scatter3d",
         "x": [
          -0.506556263261423
         ],
         "y": [
          0.107093900852471
         ],
         "z": [
          0.961439695196743
         ]
        },
        {
         "customdata": [
          -0.808975404599933
         ],
         "hovertemplate": "Formality=%{y:.2f}<br>Activeness=%{x:.2f}<br>Valence=%{z:.2f}<br>Exchange=%{customdata:.2f}<br>Equality=%{text:.2f}<br>",
         "marker": {
          "color": "#E45E62",
          "size": 9.501302273046148
         },
         "mode": "markers",
         "name": "Fans of the same sports team",
         "opacity": 0.12558315218763924,
         "text": [
          "1.16623498921309"
         ],
         "type": "scatter3d",
         "x": [
          -0.543923676297445
         ],
         "y": [
          0.118145953931829
         ],
         "z": [
          1.17476455369731
         ]
        },
        {
         "customdata": [
          -1.23559999443267
         ],
         "hovertemplate": "Formality=%{y:.2f}<br>Activeness=%{x:.2f}<br>Valence=%{z:.2f}<br>Exchange=%{customdata:.2f}<br>Equality=%{text:.2f}<br>",
         "marker": {
          "color": "#6594BE",
          "size": 8.513766330036596
         },
         "mode": "markers",
         "name": "Fans of opposing sports teams",
         "opacity": 0.03490403082484729,
         "text": [
          "0.704739368416606"
         ],
         "type": "scatter3d",
         "x": [
          -1.91250778359496
         ],
         "y": [
          0.206558105849776
         ],
         "z": [
          -0.789866719450093
         ]
        },
        {
         "customdata": [
          1.15844412182269
         ],
         "hovertemplate": "Formality=%{y:.2f}<br>Activeness=%{x:.2f}<br>Valence=%{z:.2f}<br>Exchange=%{customdata:.2f}<br>Equality=%{text:.2f}<br>",
         "marker": {
          "color": "#4EC186",
          "size": 5.5877853516462785
         },
         "mode": "markers",
         "name": "Superior-Subordinate",
         "opacity": 0.5437584713316879,
         "text": [
          "-0.662631022119024"
         ],
         "type": "scatter3d",
         "x": [
          0.603483963951435
         ],
         "y": [
          0.683222658770372
         ],
         "z": [
          -0.867180363211999
         ]
        },
        {
         "customdata": [
          -0.868693631245678
         ],
         "hovertemplate": "Formality=%{y:.2f}<br>Activeness=%{x:.2f}<br>Valence=%{z:.2f}<br>Exchange=%{customdata:.2f}<br>Equality=%{text:.2f}<br>",
         "marker": {
          "color": "#E45E62",
          "size": 4.842079582629367
         },
         "mode": "markers",
         "name": "Aunt-Niece(Nephew)",
         "opacity": 0.11289003404434769,
         "text": [
          "-1.01111448668559"
         ],
         "type": "scatter3d",
         "x": [
          0.748419799075112
         ],
         "y": [
          -0.939901021788685
         ],
         "z": [
          0.748703256624205
         ]
        },
        {
         "customdata": [
          -0.839354246677043
         ],
         "hovertemplate": "Formality=%{y:.2f}<br>Activeness=%{x:.2f}<br>Valence=%{z:.2f}<br>Exchange=%{customdata:.2f}<br>Equality=%{text:.2f}<br>",
         "marker": {
          "color": "#E45E62",
          "size": 4.903857257155513
         },
         "mode": "markers",
         "name": "Uncle-Niece(Nephew)",
         "opacity": 0.1191261246903462,
         "text": [
          "-0.982244523563112"
         ],
         "type": "scatter3d",
         "x": [
          0.796362275653772
         ],
         "y": [
          -0.898458229907263
         ],
         "z": [
          0.740669913166969
         ]
        },
        {
         "customdata": [
          -0.563038620444498
         ],
         "hovertemplate": "Formality=%{y:.2f}<br>Activeness=%{x:.2f}<br>Valence=%{z:.2f}<br>Exchange=%{customdata:.2f}<br>Equality=%{text:.2f}<br>",
         "marker": {
          "color": "#6594BE",
          "size": 9.653866436596743
         },
         "mode": "markers",
         "name": "Frenemies",
         "opacity": 0.17785705301166096,
         "text": [
          "1.23753132416421"
         ],
         "type": "scatter3d",
         "x": [
          -1.29392698934361
         ],
         "y": [
          -0.365196086280887
         ],
         "z": [
          -1.45136285834906
         ]
        },
        {
         "customdata": [
          -0.981639505216926
         ],
         "hovertemplate": "Formality=%{y:.2f}<br>Activeness=%{x:.2f}<br>Valence=%{z:.2f}<br>Exchange=%{customdata:.2f}<br>Equality=%{text:.2f}<br>",
         "marker": {
          "color": "#E45E62",
          "size": 8.813463968302354
         },
         "mode": "markers",
         "name": "Half siblings",
         "opacity": 0.08888337137804235,
         "text": [
          "0.844794167031018"
         ],
         "type": "scatter3d",
         "x": [
          0.60511160101673
         ],
         "y": [
          -0.673500326445699
         ],
         "z": [
          -0.313431042920766
         ]
        },
        {
         "customdata": [
          -0.827599252398706
         ],
         "hovertemplate": "Formality=%{y:.2f}<br>Activeness=%{x:.2f}<br>Valence=%{z:.2f}<br>Exchange=%{customdata:.2f}<br>Equality=%{text:.2f}<br>",
         "marker": {
          "color": "#E45E62",
          "size": 4.115885594056351
         },
         "mode": "markers",
         "name": "Adoptive parents-Adopted kids",
         "opacity": 0.12162465050950293,
         "text": [
          "-1.3504796996153"
         ],
         "type": "scatter3d",
         "x": [
          1.21164687139559
         ],
         "y": [
          -1.01265802351705
         ],
         "z": [
          0.0790228223968269
         ]
        },
        {
         "customdata": [
          -0.984355108037796
         ],
         "hovertemplate": "Formality=%{y:.2f}<br>Activeness=%{x:.2f}<br>Valence=%{z:.2f}<br>Exchange=%{customdata:.2f}<br>Equality=%{text:.2f}<br>",
         "marker": {
          "color": "#E45E62",
          "size": 2.75841988119595
         },
         "mode": "markers",
         "name": "Mother-Infant",
         "opacity": 0.08830616958603275,
         "text": [
          "-1.9848510217945"
         ],
         "type": "scatter3d",
         "x": [
          1.84355613615411
         ],
         "y": [
          -1.30628194772921
         ],
         "z": [
          0.339280510824645
         ]
        },
        {
         "customdata": [
          -0.489164251210095
         ],
         "hovertemplate": "Formality=%{y:.2f}<br>Activeness=%{x:.2f}<br>Valence=%{z:.2f}<br>Exchange=%{customdata:.2f}<br>Equality=%{text:.2f}<br>",
         "marker": {
          "color": "#6594BE",
          "size": 10.00515609598738
         },
         "mode": "markers",
         "name": "Alumni",
         "opacity": 0.1935590614121437,
         "text": [
          "1.40169612301275"
         ],
         "type": "scatter3d",
         "x": [
          -1.18465896793278
         ],
         "y": [
          0.518380200553391
         ],
         "z": [
          0.691982960049404
         ]
        },
        {
         "customdata": [
          0.679818171906283
         ],
         "hovertemplate": "Formality=%{y:.2f}<br>Activeness=%{x:.2f}<br>Valence=%{z:.2f}<br>Exchange=%{customdata:.2f}<br>Equality=%{text:.2f}<br>",
         "marker": {
          "color": "#4EC186",
          "size": 6.234969584780048
         },
         "mode": "markers",
         "name": "A monarch and their minister",
         "opacity": 0.4420264529853768,
         "text": [
          "-0.36018867401618"
         ],
         "type": "scatter3d",
         "x": [
          0.150367853848862
         ],
         "y": [
          0.989982532660255
         ],
         "z": [
          -0.673273244041891
         ]
        },
        {
         "customdata": [
          -0.390059282211026
         ],
         "hovertemplate": "Formality=%{y:.2f}<br>Activeness=%{x:.2f}<br>Valence=%{z:.2f}<br>Exchange=%{customdata:.2f}<br>Equality=%{text:.2f}<br>",
         "marker": {
          "color": "#E45E62",
          "size": 9.020856132535501
         },
         "mode": "markers",
         "name": "Confidants",
         "opacity": 0.21462383762451737,
         "text": [
          "0.941712741244551"
         ],
         "type": "scatter3d",
         "x": [
          0.486263209204353
         ],
         "y": [
          -0.617183699752776
         ],
         "z": [
          0.50763250672886
         ]
        },
        {
         "customdata": [
          -0.0467439714138614
         ],
         "hovertemplate": "Formality=%{y:.2f}<br>Activeness=%{x:.2f}<br>Valence=%{z:.2f}<br>Exchange=%{customdata:.2f}<br>Equality=%{text:.2f}<br>",
         "marker": {
          "color": "#E45E62",
          "size": 9.141408891986691
         },
         "mode": "markers",
         "name": "A person and their significant other",
         "opacity": 0.2875955590756559,
         "text": [
          "0.998049496332278"
         ],
         "type": "scatter3d",
         "x": [
          1.72143495424507
         ],
         "y": [
          -1.5326367163095
         ],
         "z": [
          -0.150445668147011
         ]
        },
        {
         "customdata": [
          0.0856440342192783
         ],
         "hovertemplate": "Formality=%{y:.2f}<br>Activeness=%{x:.2f}<br>Valence=%{z:.2f}<br>Exchange=%{customdata:.2f}<br>Equality=%{text:.2f}<br>",
         "marker": {
          "color": "#E45E62",
          "size": 9.522293852334762
         },
         "mode": "markers",
         "name": "Companions",
         "opacity": 0.31573464977948074,
         "text": [
          "1.17604478093143"
         ],
         "type": "scatter3d",
         "x": [
          0.620944348036643
         ],
         "y": [
          -0.15328711894997
         ],
         "z": [
          0.47812357413141
         ]
        },
        {
         "customdata": [
          -0.161127178246977
         ],
         "hovertemplate": "Formality=%{y:.2f}<br>Activeness=%{x:.2f}<br>Valence=%{z:.2f}<br>Exchange=%{customdata:.2f}<br>Equality=%{text:.2f}<br>",
         "marker": {
          "color": "#E45E62",
          "size": 9.928415205144287
         },
         "mode": "markers",
         "name": "Playmates",
         "opacity": 0.2632833910912649,
         "text": [
          "1.36583354473314"
         ],
         "type": "scatter3d",
         "x": [
          0.59652928722783
         ],
         "y": [
          -0.0690940774329134
         ],
         "z": [
          0.370935999258708
         ]
        },
        {
         "customdata": [
          -0.585351659485193
         ],
         "hovertemplate": "Formality=%{y:.2f}<br>Activeness=%{x:.2f}<br>Valence=%{z:.2f}<br>Exchange=%{customdata:.2f}<br>Equality=%{text:.2f}<br>",
         "marker": {
          "color": "#6594BE",
          "size": 9.029331231789516
         },
         "mode": "markers",
         "name": "Competitors in sports",
         "opacity": 0.17311441317475623,
         "text": [
          "0.945673327407748"
         ],
         "type": "scatter3d",
         "x": [
          -0.21761222318108
         ],
         "y": [
          1.20271715191331
         ],
         "z": [
          -1.49496898182311
         ]
        },
        {
         "customdata": [
          -0.24680019459324
         ],
         "hovertemplate": "Formality=%{y:.2f}<br>Activeness=%{x:.2f}<br>Valence=%{z:.2f}<br>Exchange=%{customdata:.2f}<br>Equality=%{text:.2f}<br>",
         "marker": {
          "color": "#E45E62",
          "size": 6.982033055494361
         },
         "mode": "markers",
         "name": "A person and their crush",
         "opacity": 0.2450735784552303,
         "text": [
          "-0.0110707278470621"
         ],
         "type": "scatter3d",
         "x": [
          -0.85655859201726
         ],
         "y": [
          -1.931024881752
         ],
         "z": [
          0.627648733494357
         ]
        },
        {
         "customdata": [
          0.508667086955576
         ],
         "hovertemplate": "Formality=%{y:.2f}<br>Activeness=%{x:.2f}<br>Valence=%{z:.2f}<br>Exchange=%{customdata:.2f}<br>Equality=%{text:.2f}<br>",
         "marker": {
          "color": "#E45E62",
          "size": 8.746116627539175
         },
         "mode": "markers",
         "name": "Cohabitants",
         "opacity": 0.40564826388543906,
         "text": [
          "0.813321385655814"
         ],
         "type": "scatter3d",
         "x": [
          0.90252578389782
         ],
         "y": [
          -1.01757403327498
         ],
         "z": [
          -0.130276999946818
         ]
        },
        {
         "customdata": [
          -0.119066356649144
         ],
         "hovertemplate": "Formality=%{y:.2f}<br>Activeness=%{x:.2f}<br>Valence=%{z:.2f}<br>Exchange=%{customdata:.2f}<br>Equality=%{text:.2f}<br>",
         "marker": {
          "color": "#E45E62",
          "size": 9.828908012340051
         },
         "mode": "markers",
         "name": "Long-distance lovers",
         "opacity": 0.2722234251098946,
         "text": [
          "1.31933181075376"
         ],
         "type": "scatter3d",
         "x": [
          -0.125682384319095
         ],
         "y": [
          -1.63390596988629
         ],
         "z": [
          0.788866218806996
         ]
        },
        {
         "customdata": [
          -0.246738416477759
         ],
         "hovertemplate": "Formality=%{y:.2f}<br>Activeness=%{x:.2f}<br>Valence=%{z:.2f}<br>Exchange=%{customdata:.2f}<br>Equality=%{text:.2f}<br>",
         "marker": {
          "color": "#E45E62",
          "size": 8.341255150635657
         },
         "mode": "markers",
         "name": "Brothers in-arms",
         "opacity": 0.24508670940305838,
         "text": [
          "0.624121387475735"
         ],
         "type": "scatter3d",
         "x": [
          0.392401456887438
         ],
         "y": [
          0.138519203619256
         ],
         "z": [
          0.242347897797727
         ]
        }
       ],
       "layout": {
        "font": {
         "size": 12
        },
        "height": 450,
        "scene": {
         "xaxis": {
          "backgroundcolor": "#F2F2F2",
          "showbackground": true,
          "showgrid": true,
          "title": {
           "text": "Activeness"
          },
          "zeroline": false,
          "zerolinecolor": "white"
         },
         "yaxis": {
          "backgroundcolor": "#F2F2F2",
          "showbackground": true,
          "showgrid": true,
          "title": {
           "text": "Formality"
          },
          "zeroline": false,
          "zerolinecolor": "white"
         },
         "zaxis": {
          "backgroundcolor": "#F2F2F2",
          "showbackground": true,
          "showgrid": true,
          "title": {
           "text": "Valence"
          },
          "zeroline": false,
          "zerolinecolor": "white"
         }
        },
        "showlegend": false,
        "template": {
         "data": {
          "bar": [
           {
            "error_x": {
             "color": "#2a3f5f"
            },
            "error_y": {
             "color": "#2a3f5f"
            },
            "marker": {
             "line": {
              "color": "#E5ECF6",
              "width": 0.5
             },
             "pattern": {
              "fillmode": "overlay",
              "size": 10,
              "solidity": 0.2
             }
            },
            "type": "bar"
           }
          ],
          "barpolar": [
           {
            "marker": {
             "line": {
              "color": "#E5ECF6",
              "width": 0.5
             },
             "pattern": {
              "fillmode": "overlay",
              "size": 10,
              "solidity": 0.2
             }
            },
            "type": "barpolar"
           }
          ],
          "carpet": [
           {
            "aaxis": {
             "endlinecolor": "#2a3f5f",
             "gridcolor": "white",
             "linecolor": "white",
             "minorgridcolor": "white",
             "startlinecolor": "#2a3f5f"
            },
            "baxis": {
             "endlinecolor": "#2a3f5f",
             "gridcolor": "white",
             "linecolor": "white",
             "minorgridcolor": "white",
             "startlinecolor": "#2a3f5f"
            },
            "type": "carpet"
           }
          ],
          "choropleth": [
           {
            "colorbar": {
             "outlinewidth": 0,
             "ticks": ""
            },
            "type": "choropleth"
           }
          ],
          "contour": [
           {
            "colorbar": {
             "outlinewidth": 0,
             "ticks": ""
            },
            "colorscale": [
             [
              0,
              "#0d0887"
             ],
             [
              0.1111111111111111,
              "#46039f"
             ],
             [
              0.2222222222222222,
              "#7201a8"
             ],
             [
              0.3333333333333333,
              "#9c179e"
             ],
             [
              0.4444444444444444,
              "#bd3786"
             ],
             [
              0.5555555555555556,
              "#d8576b"
             ],
             [
              0.6666666666666666,
              "#ed7953"
             ],
             [
              0.7777777777777778,
              "#fb9f3a"
             ],
             [
              0.8888888888888888,
              "#fdca26"
             ],
             [
              1,
              "#f0f921"
             ]
            ],
            "type": "contour"
           }
          ],
          "contourcarpet": [
           {
            "colorbar": {
             "outlinewidth": 0,
             "ticks": ""
            },
            "type": "contourcarpet"
           }
          ],
          "heatmap": [
           {
            "colorbar": {
             "outlinewidth": 0,
             "ticks": ""
            },
            "colorscale": [
             [
              0,
              "#0d0887"
             ],
             [
              0.1111111111111111,
              "#46039f"
             ],
             [
              0.2222222222222222,
              "#7201a8"
             ],
             [
              0.3333333333333333,
              "#9c179e"
             ],
             [
              0.4444444444444444,
              "#bd3786"
             ],
             [
              0.5555555555555556,
              "#d8576b"
             ],
             [
              0.6666666666666666,
              "#ed7953"
             ],
             [
              0.7777777777777778,
              "#fb9f3a"
             ],
             [
              0.8888888888888888,
              "#fdca26"
             ],
             [
              1,
              "#f0f921"
             ]
            ],
            "type": "heatmap"
           }
          ],
          "heatmapgl": [
           {
            "colorbar": {
             "outlinewidth": 0,
             "ticks": ""
            },
            "colorscale": [
             [
              0,
              "#0d0887"
             ],
             [
              0.1111111111111111,
              "#46039f"
             ],
             [
              0.2222222222222222,
              "#7201a8"
             ],
             [
              0.3333333333333333,
              "#9c179e"
             ],
             [
              0.4444444444444444,
              "#bd3786"
             ],
             [
              0.5555555555555556,
              "#d8576b"
             ],
             [
              0.6666666666666666,
              "#ed7953"
             ],
             [
              0.7777777777777778,
              "#fb9f3a"
             ],
             [
              0.8888888888888888,
              "#fdca26"
             ],
             [
              1,
              "#f0f921"
             ]
            ],
            "type": "heatmapgl"
           }
          ],
          "histogram": [
           {
            "marker": {
             "pattern": {
              "fillmode": "overlay",
              "size": 10,
              "solidity": 0.2
             }
            },
            "type": "histogram"
           }
          ],
          "histogram2d": [
           {
            "colorbar": {
             "outlinewidth": 0,
             "ticks": ""
            },
            "colorscale": [
             [
              0,
              "#0d0887"
             ],
             [
              0.1111111111111111,
              "#46039f"
             ],
             [
              0.2222222222222222,
              "#7201a8"
             ],
             [
              0.3333333333333333,
              "#9c179e"
             ],
             [
              0.4444444444444444,
              "#bd3786"
             ],
             [
              0.5555555555555556,
              "#d8576b"
             ],
             [
              0.6666666666666666,
              "#ed7953"
             ],
             [
              0.7777777777777778,
              "#fb9f3a"
             ],
             [
              0.8888888888888888,
              "#fdca26"
             ],
             [
              1,
              "#f0f921"
             ]
            ],
            "type": "histogram2d"
           }
          ],
          "histogram2dcontour": [
           {
            "colorbar": {
             "outlinewidth": 0,
             "ticks": ""
            },
            "colorscale": [
             [
              0,
              "#0d0887"
             ],
             [
              0.1111111111111111,
              "#46039f"
             ],
             [
              0.2222222222222222,
              "#7201a8"
             ],
             [
              0.3333333333333333,
              "#9c179e"
             ],
             [
              0.4444444444444444,
              "#bd3786"
             ],
             [
              0.5555555555555556,
              "#d8576b"
             ],
             [
              0.6666666666666666,
              "#ed7953"
             ],
             [
              0.7777777777777778,
              "#fb9f3a"
             ],
             [
              0.8888888888888888,
              "#fdca26"
             ],
             [
              1,
              "#f0f921"
             ]
            ],
            "type": "histogram2dcontour"
           }
          ],
          "mesh3d": [
           {
            "colorbar": {
             "outlinewidth": 0,
             "ticks": ""
            },
            "type": "mesh3d"
           }
          ],
          "parcoords": [
           {
            "line": {
             "colorbar": {
              "outlinewidth": 0,
              "ticks": ""
             }
            },
            "type": "parcoords"
           }
          ],
          "pie": [
           {
            "automargin": true,
            "type": "pie"
           }
          ],
          "scatter": [
           {
            "marker": {
             "colorbar": {
              "outlinewidth": 0,
              "ticks": ""
             }
            },
            "type": "scatter"
           }
          ],
          "scatter3d": [
           {
            "line": {
             "colorbar": {
              "outlinewidth": 0,
              "ticks": ""
             }
            },
            "marker": {
             "colorbar": {
              "outlinewidth": 0,
              "ticks": ""
             }
            },
            "type": "scatter3d"
           }
          ],
          "scattercarpet": [
           {
            "marker": {
             "colorbar": {
              "outlinewidth": 0,
              "ticks": ""
             }
            },
            "type": "scattercarpet"
           }
          ],
          "scattergeo": [
           {
            "marker": {
             "colorbar": {
              "outlinewidth": 0,
              "ticks": ""
             }
            },
            "type": "scattergeo"
           }
          ],
          "scattergl": [
           {
            "marker": {
             "colorbar": {
              "outlinewidth": 0,
              "ticks": ""
             }
            },
            "type": "scattergl"
           }
          ],
          "scattermapbox": [
           {
            "marker": {
             "colorbar": {
              "outlinewidth": 0,
              "ticks": ""
             }
            },
            "type": "scattermapbox"
           }
          ],
          "scatterpolar": [
           {
            "marker": {
             "colorbar": {
              "outlinewidth": 0,
              "ticks": ""
             }
            },
            "type": "scatterpolar"
           }
          ],
          "scatterpolargl": [
           {
            "marker": {
             "colorbar": {
              "outlinewidth": 0,
              "ticks": ""
             }
            },
            "type": "scatterpolargl"
           }
          ],
          "scatterternary": [
           {
            "marker": {
             "colorbar": {
              "outlinewidth": 0,
              "ticks": ""
             }
            },
            "type": "scatterternary"
           }
          ],
          "surface": [
           {
            "colorbar": {
             "outlinewidth": 0,
             "ticks": ""
            },
            "colorscale": [
             [
              0,
              "#0d0887"
             ],
             [
              0.1111111111111111,
              "#46039f"
             ],
             [
              0.2222222222222222,
              "#7201a8"
             ],
             [
              0.3333333333333333,
              "#9c179e"
             ],
             [
              0.4444444444444444,
              "#bd3786"
             ],
             [
              0.5555555555555556,
              "#d8576b"
             ],
             [
              0.6666666666666666,
              "#ed7953"
             ],
             [
              0.7777777777777778,
              "#fb9f3a"
             ],
             [
              0.8888888888888888,
              "#fdca26"
             ],
             [
              1,
              "#f0f921"
             ]
            ],
            "type": "surface"
           }
          ],
          "table": [
           {
            "cells": {
             "fill": {
              "color": "#EBF0F8"
             },
             "line": {
              "color": "white"
             }
            },
            "header": {
             "fill": {
              "color": "#C8D4E3"
             },
             "line": {
              "color": "white"
             }
            },
            "type": "table"
           }
          ]
         },
         "layout": {
          "annotationdefaults": {
           "arrowcolor": "#2a3f5f",
           "arrowhead": 0,
           "arrowwidth": 1
          },
          "autotypenumbers": "strict",
          "coloraxis": {
           "colorbar": {
            "outlinewidth": 0,
            "ticks": ""
           }
          },
          "colorscale": {
           "diverging": [
            [
             0,
             "#8e0152"
            ],
            [
             0.1,
             "#c51b7d"
            ],
            [
             0.2,
             "#de77ae"
            ],
            [
             0.3,
             "#f1b6da"
            ],
            [
             0.4,
             "#fde0ef"
            ],
            [
             0.5,
             "#f7f7f7"
            ],
            [
             0.6,
             "#e6f5d0"
            ],
            [
             0.7,
             "#b8e186"
            ],
            [
             0.8,
             "#7fbc41"
            ],
            [
             0.9,
             "#4d9221"
            ],
            [
             1,
             "#276419"
            ]
           ],
           "sequential": [
            [
             0,
             "#0d0887"
            ],
            [
             0.1111111111111111,
             "#46039f"
            ],
            [
             0.2222222222222222,
             "#7201a8"
            ],
            [
             0.3333333333333333,
             "#9c179e"
            ],
            [
             0.4444444444444444,
             "#bd3786"
            ],
            [
             0.5555555555555556,
             "#d8576b"
            ],
            [
             0.6666666666666666,
             "#ed7953"
            ],
            [
             0.7777777777777778,
             "#fb9f3a"
            ],
            [
             0.8888888888888888,
             "#fdca26"
            ],
            [
             1,
             "#f0f921"
            ]
           ],
           "sequentialminus": [
            [
             0,
             "#0d0887"
            ],
            [
             0.1111111111111111,
             "#46039f"
            ],
            [
             0.2222222222222222,
             "#7201a8"
            ],
            [
             0.3333333333333333,
             "#9c179e"
            ],
            [
             0.4444444444444444,
             "#bd3786"
            ],
            [
             0.5555555555555556,
             "#d8576b"
            ],
            [
             0.6666666666666666,
             "#ed7953"
            ],
            [
             0.7777777777777778,
             "#fb9f3a"
            ],
            [
             0.8888888888888888,
             "#fdca26"
            ],
            [
             1,
             "#f0f921"
            ]
           ]
          },
          "colorway": [
           "#636efa",
           "#EF553B",
           "#00cc96",
           "#ab63fa",
           "#FFA15A",
           "#19d3f3",
           "#FF6692",
           "#B6E880",
           "#FF97FF",
           "#FECB52"
          ],
          "font": {
           "color": "#2a3f5f"
          },
          "geo": {
           "bgcolor": "white",
           "lakecolor": "white",
           "landcolor": "#E5ECF6",
           "showlakes": true,
           "showland": true,
           "subunitcolor": "white"
          },
          "hoverlabel": {
           "align": "left"
          },
          "hovermode": "closest",
          "mapbox": {
           "style": "light"
          },
          "paper_bgcolor": "white",
          "plot_bgcolor": "#E5ECF6",
          "polar": {
           "angularaxis": {
            "gridcolor": "white",
            "linecolor": "white",
            "ticks": ""
           },
           "bgcolor": "#E5ECF6",
           "radialaxis": {
            "gridcolor": "white",
            "linecolor": "white",
            "ticks": ""
           }
          },
          "scene": {
           "xaxis": {
            "backgroundcolor": "#E5ECF6",
            "gridcolor": "white",
            "gridwidth": 2,
            "linecolor": "white",
            "showbackground": true,
            "ticks": "",
            "zerolinecolor": "white"
           },
           "yaxis": {
            "backgroundcolor": "#E5ECF6",
            "gridcolor": "white",
            "gridwidth": 2,
            "linecolor": "white",
            "showbackground": true,
            "ticks": "",
            "zerolinecolor": "white"
           },
           "zaxis": {
            "backgroundcolor": "#E5ECF6",
            "gridcolor": "white",
            "gridwidth": 2,
            "linecolor": "white",
            "showbackground": true,
            "ticks": "",
            "zerolinecolor": "white"
           }
          },
          "shapedefaults": {
           "line": {
            "color": "#2a3f5f"
           }
          },
          "ternary": {
           "aaxis": {
            "gridcolor": "white",
            "linecolor": "white",
            "ticks": ""
           },
           "baxis": {
            "gridcolor": "white",
            "linecolor": "white",
            "ticks": ""
           },
           "bgcolor": "#E5ECF6",
           "caxis": {
            "gridcolor": "white",
            "linecolor": "white",
            "ticks": ""
           }
          },
          "title": {
           "x": 0.05
          },
          "xaxis": {
           "automargin": true,
           "gridcolor": "white",
           "linecolor": "white",
           "ticks": "",
           "title": {
            "standoff": 15
           },
           "zerolinecolor": "white",
           "zerolinewidth": 2
          },
          "yaxis": {
           "automargin": true,
           "gridcolor": "white",
           "linecolor": "white",
           "ticks": "",
           "title": {
            "standoff": 15
           },
           "zerolinecolor": "white",
           "zerolinewidth": 2
          }
         }
        },
        "width": 450
       }
      }
     },
     "metadata": {},
     "output_type": "display_data"
    }
   ],
   "source": [
    "trace0 = []\n",
    "for i in range(159):\n",
    "    plot_temp = plot_df.iloc[i,:] #Slice input data\n",
    "    trace0.append(go.Scatter3d(x=[plot_temp.xActiveness],\n",
    "                             y=[plot_temp.yFormality],\n",
    "                             z=[plot_temp.zValence],\n",
    "                             mode='markers',\n",
    "                             opacity=plot_temp.Exchange_plot,\n",
    "                             name = plot_temp.rel,\n",
    "                             text=[plot_temp.Equality],\n",
    "                             customdata=[plot_temp.Exchange],  \n",
    "                             hovertemplate= \n",
    "                             'Formality=%{y:.2f}<br>'+\n",
    "                             'Activeness=%{x:.2f}<br>'+\n",
    "                             'Valence=%{z:.2f}<br>'+\n",
    "                             'Exchange=%{customdata:.2f}<br>'+\n",
    "                             'Equality=%{text:.2f}<br>',\n",
    "                             \n",
    "                             \n",
    "#         hovertemplate='<br>'.join([\n",
    "#         '%{name}','Formality=%{y:.2f}','Activeness=%{x:.2f}',\n",
    "#         'Valence=%{z:.2f}','Exchange=%{customdata[1]}<extra></extra>']\n",
    "#         ),\n",
    "                             marker=dict(color=plot_temp.color,\n",
    "                                         size=plot_temp.Equality_plot*10+2)))\n",
    "\n",
    "fig = go.Figure(data=trace0)\n",
    "#fig.update_xaxes(overwrite=True,title={'text':'Activeness'})\n",
    "fig.update_layout(\n",
    "                scene=dict(\n",
    "                # title\n",
    "                xaxis_title='Activeness',\n",
    "                yaxis_title='Formality',\n",
    "                zaxis_title='Valence',\n",
    "                # axes\n",
    "                xaxis = dict(\n",
    "                         backgroundcolor=\"#F2F2F2\",\n",
    "                         showgrid=True,zeroline=False,\n",
    "                         showbackground=True,\n",
    "                         zerolinecolor=\"white\"),\n",
    "                yaxis = dict(\n",
    "                         backgroundcolor=\"#F2F2F2\",\n",
    "                         showgrid=True,zeroline=False,\n",
    "                         showbackground=True,\n",
    "                         zerolinecolor=\"white\"),\n",
    "                zaxis = dict(\n",
    "                         backgroundcolor=\"#F2F2F2\",\n",
    "                         showgrid=True,zeroline=False,\n",
    "                         showbackground=True,\n",
    "                         zerolinecolor=\"white\")),\n",
    "                # legend\n",
    "                showlegend=False,  \n",
    "                  \n",
    "                width=450,height=450,\n",
    "                font_size =12\n",
    "                )\n",
    "fig.show() "
   ]
  },
  {
   "cell_type": "code",
   "execution_count": 10,
   "id": "ea600777",
   "metadata": {
    "ExecuteTime": {
     "end_time": "2023-02-01T07:43:04.683404Z",
     "start_time": "2023-02-01T07:43:04.567377Z"
    }
   },
   "outputs": [
    {
     "data": {
      "text/plain": [
       "'output_graph/Averaged_world_model_cube.html'"
      ]
     },
     "execution_count": 10,
     "metadata": {},
     "output_type": "execute_result"
    }
   ],
   "source": [
    "plotly.offline.plot(fig,filename='output_graph/Averaged_world_model_cube.html')                 "
   ]
  },
  {
   "cell_type": "markdown",
   "id": "4ee1d0d0",
   "metadata": {},
   "source": [
    "# galaxy"
   ]
  },
  {
   "cell_type": "code",
   "execution_count": 11,
   "id": "34ab15e2",
   "metadata": {
    "ExecuteTime": {
     "end_time": "2023-02-12T07:20:57.471943Z",
     "start_time": "2023-02-12T07:20:57.243946Z"
    }
   },
   "outputs": [
    {
     "data": {
      "application/vnd.plotly.v1+json": {
       "config": {
        "plotlyServerURL": "https://plot.ly"
       },
       "data": [
        {
         "customdata": [
          -0.666554507412049
         ],
         "hovertemplate": "Formality=%{y:.2f}<br>Activeness=%{x:.2f}<br>Valence=%{z:.2f}<br>Exchange=%{customdata:.2f}<br>Equality=%{text:.2f}<br>",
         "marker": {
          "color": "#E45E62",
          "size": 2.049976667606696
         },
         "mode": "markers",
         "name": "Parent-Child",
         "opacity": 0.15585473551517587,
         "text": [
          "-2.31592093673659"
         ],
         "type": "scatter3d",
         "x": [
          2.02307107935871
         ],
         "y": [
          -1.30457790829587
         ],
         "z": [
          -0.0346398959912769
         ]
        },
        {
         "customdata": [
          -0.572093503479394
         ],
         "hovertemplate": "Formality=%{y:.2f}<br>Activeness=%{x:.2f}<br>Valence=%{z:.2f}<br>Exchange=%{customdata:.2f}<br>Equality=%{text:.2f}<br>",
         "marker": {
          "color": "#E45E62",
          "size": 3.212412127428972
         },
         "mode": "markers",
         "name": "Parent-Teenager",
         "opacity": 0.1759324362473785,
         "text": [
          "-1.77269121637659"
         ],
         "type": "scatter3d",
         "x": [
          1.60945489825759
         ],
         "y": [
          -1.16575285228075
         ],
         "z": [
          -0.535920577509373
         ]
        },
        {
         "customdata": [
          0.118097689990726
         ],
         "hovertemplate": "Formality=%{y:.2f}<br>Activeness=%{x:.2f}<br>Valence=%{z:.2f}<br>Exchange=%{customdata:.2f}<br>Equality=%{text:.2f}<br>",
         "marker": {
          "color": "#E45E62",
          "size": 9.437789067963825
         },
         "mode": "markers",
         "name": "Wife-Husband",
         "opacity": 0.32263267924261874,
         "text": [
          "1.13655397738185"
         ],
         "type": "scatter3d",
         "x": [
          2.11468117146394
         ],
         "y": [
          -1.51265575466058
         ],
         "z": [
          -0.402876940339403
         ]
        },
        {
         "customdata": [
          -0.0496484692788029
         ],
         "hovertemplate": "Formality=%{y:.2f}<br>Activeness=%{x:.2f}<br>Valence=%{z:.2f}<br>Exchange=%{customdata:.2f}<br>Equality=%{text:.2f}<br>",
         "marker": {
          "color": "#E45E62",
          "size": 9.622893325237978
         },
         "mode": "markers",
         "name": "Fiance-Fiancee",
         "opacity": 0.2869782076133404,
         "text": [
          "1.22305695960493"
         ],
         "type": "scatter3d",
         "x": [
          1.17362816006592
         ],
         "y": [
          -1.55523005761279
         ],
         "z": [
          0.256280796083634
         ]
        },
        {
         "customdata": [
          -1.00072546052213
         ],
         "hovertemplate": "Formality=%{y:.2f}<br>Activeness=%{x:.2f}<br>Valence=%{z:.2f}<br>Exchange=%{customdata:.2f}<br>Equality=%{text:.2f}<br>",
         "marker": {
          "color": "#E45E62",
          "size": 8.724221905041055
         },
         "mode": "markers",
         "name": "Siblings",
         "opacity": 0.08482664867923129,
         "text": [
          "0.80308953675658"
         ],
         "type": "scatter3d",
         "x": [
          1.30104958295944
         ],
         "y": [
          -0.467401654882513
         ],
         "z": [
          -0.250611870113248
         ]
        },
        {
         "customdata": [
          -0.0230818452927964
         ],
         "hovertemplate": "Formality=%{y:.2f}<br>Activeness=%{x:.2f}<br>Valence=%{z:.2f}<br>Exchange=%{customdata:.2f}<br>Equality=%{text:.2f}<br>",
         "marker": {
          "color": "#6594BE",
          "size": 9.748865052376203
         },
         "mode": "markers",
         "name": "Divorced spouses",
         "opacity": 0.2926249475763867,
         "text": [
          "1.28192610844957"
         ],
         "type": "scatter3d",
         "x": [
          -1.50619704332289
         ],
         "y": [
          -0.163556399258371
         ],
         "z": [
          -1.06739346392477
         ]
        },
        {
         "customdata": [
          -0.981804627087577
         ],
         "hovertemplate": "Formality=%{y:.2f}<br>Activeness=%{x:.2f}<br>Valence=%{z:.2f}<br>Exchange=%{customdata:.2f}<br>Equality=%{text:.2f}<br>",
         "marker": {
          "color": "#6594BE",
          "size": 5.526085885128447
         },
         "mode": "markers",
         "name": "A person and their in laws",
         "opacity": 0.08884827469935751,
         "text": [
          "-0.691464437049404"
         ],
         "type": "scatter3d",
         "x": [
          -0.978391730014663
         ],
         "y": [
          -0.248217932012632
         ],
         "z": [
          0.576723083776271
         ]
        },
        {
         "customdata": [
          -1.30787333854616
         ],
         "hovertemplate": "Formality=%{y:.2f}<br>Activeness=%{x:.2f}<br>Valence=%{z:.2f}<br>Exchange=%{customdata:.2f}<br>Equality=%{text:.2f}<br>",
         "marker": {
          "color": "#E45E62",
          "size": 8.664979109141509
         },
         "mode": "markers",
         "name": "Cousins",
         "opacity": 0.019542320556971204,
         "text": [
          "0.775404173945319"
         ],
         "type": "scatter3d",
         "x": [
          -0.702682316044045
         ],
         "y": [
          -0.260630353199205
         ],
         "z": [
          1.06812260788348
         ]
        },
        {
         "customdata": [
          1.3436050316795
         ],
         "hovertemplate": "Formality=%{y:.2f}<br>Activeness=%{x:.2f}<br>Valence=%{z:.2f}<br>Exchange=%{customdata:.2f}<br>Equality=%{text:.2f}<br>",
         "marker": {
          "color": "#4EC186",
          "size": 5.921745452977967
         },
         "mode": "markers",
         "name": "Employer-Employee",
         "opacity": 0.5831144508431676,
         "text": [
          "-0.506564678026642"
         ],
         "type": "scatter3d",
         "x": [
          1.15890546405817
         ],
         "y": [
          1.17773993905986
         ],
         "z": [
          -0.460133471992765
         ]
        },
        {
         "customdata": [
          0.286684643372876
         ],
         "hovertemplate": "Formality=%{y:.2f}<br>Activeness=%{x:.2f}<br>Valence=%{z:.2f}<br>Exchange=%{customdata:.2f}<br>Equality=%{text:.2f}<br>",
         "marker": {
          "color": "#4EC186",
          "size": 6.324167733285656
         },
         "mode": "markers",
         "name": "Interviewer-Job applicant",
         "opacity": 0.35846586178823076,
         "text": [
          "-0.318504565999775"
         ],
         "type": "scatter3d",
         "x": [
          -0.376381321268058
         ],
         "y": [
          1.25670635582244
         ],
         "z": [
          0.255633890930116
         ]
        },
        {
         "customdata": [
          -1.20803089826814
         ],
         "hovertemplate": "Formality=%{y:.2f}<br>Activeness=%{x:.2f}<br>Valence=%{z:.2f}<br>Exchange=%{customdata:.2f}<br>Equality=%{text:.2f}<br>",
         "marker": {
          "color": "#6594BE",
          "size": 4.117486001354413
         },
         "mode": "markers",
         "name": "Guard-Prisoner",
         "opacity": 0.040763846401689764,
         "text": [
          "-1.34973179675184"
         ],
         "type": "scatter3d",
         "x": [
          -0.208255401679117
         ],
         "y": [
          0.788669149471417
         ],
         "z": [
          -2.32154718379416
         ]
        },
        {
         "customdata": [
          -0.110917584435528
         ],
         "hovertemplate": "Formality=%{y:.2f}<br>Activeness=%{x:.2f}<br>Valence=%{z:.2f}<br>Exchange=%{customdata:.2f}<br>Equality=%{text:.2f}<br>",
         "marker": {
          "color": "#4EC186",
          "size": 5.346189396476446
         },
         "mode": "markers",
         "name": "Nurse-Patient",
         "opacity": 0.273955447881498,
         "text": [
          "-0.775533723131845"
         ],
         "type": "scatter3d",
         "x": [
          0.315699836969779
         ],
         "y": [
          0.777167728737622
         ],
         "z": [
          0.743325360809073
         ]
        },
        {
         "customdata": [
          0.349182253080146
         ],
         "hovertemplate": "Formality=%{y:.2f}<br>Activeness=%{x:.2f}<br>Valence=%{z:.2f}<br>Exchange=%{customdata:.2f}<br>Equality=%{text:.2f}<br>",
         "marker": {
          "color": "#4EC186",
          "size": 5.290276884955979
         },
         "mode": "markers",
         "name": "Therapist-Patient",
         "opacity": 0.37174973822336976,
         "text": [
          "-0.80166277635475"
         ],
         "type": "scatter3d",
         "x": [
          0.833437341089339
         ],
         "y": [
          0.413859457913997
         ],
         "z": [
          0.428007806976674
         ]
        },
        {
         "customdata": [
          2.30405205222642
         ],
         "hovertemplate": "Formality=%{y:.2f}<br>Activeness=%{x:.2f}<br>Valence=%{z:.2f}<br>Exchange=%{customdata:.2f}<br>Equality=%{text:.2f}<br>",
         "marker": {
          "color": "#4EC186",
          "size": 8.355100889299209
         },
         "mode": "markers",
         "name": "Salesperson-Customer",
         "opacity": 0.7872576109288337,
         "text": [
          "0.630591782609352"
         ],
         "type": "scatter3d",
         "x": [
          -0.737744968449149
         ],
         "y": [
          0.430785353102819
         ],
         "z": [
          0.629400304592589
         ]
        },
        {
         "customdata": [
          1.60953688931767
         ],
         "hovertemplate": "Formality=%{y:.2f}<br>Activeness=%{x:.2f}<br>Valence=%{z:.2f}<br>Exchange=%{customdata:.2f}<br>Equality=%{text:.2f}<br>",
         "marker": {
          "color": "#4EC186",
          "size": 10.089703414329042
         },
         "mode": "markers",
         "name": "Business partners",
         "opacity": 0.6396383075727075,
         "text": [
          "1.44120680355148"
         ],
         "type": "scatter3d",
         "x": [
          0.982877171824726
         ],
         "y": [
          0.362327910006146
         ],
         "z": [
          -0.289499002100679
         ]
        },
        {
         "customdata": [
          0.616266844473774
         ],
         "hovertemplate": "Formality=%{y:.2f}<br>Activeness=%{x:.2f}<br>Valence=%{z:.2f}<br>Exchange=%{customdata:.2f}<br>Equality=%{text:.2f}<br>",
         "marker": {
          "color": "#6594BE",
          "size": 9.622973207611938
         },
         "mode": "markers",
         "name": "Opposing negotiators",
         "opacity": 0.42851860868770425,
         "text": [
          "1.22309429026213"
         ],
         "type": "scatter3d",
         "x": [
          -0.433376920645331
         ],
         "y": [
          0.704415686036547
         ],
         "z": [
          -1.62965361191401
         ]
        },
        {
         "customdata": [
          -0.702046178738938
         ],
         "hovertemplate": "Formality=%{y:.2f}<br>Activeness=%{x:.2f}<br>Valence=%{z:.2f}<br>Exchange=%{customdata:.2f}<br>Equality=%{text:.2f}<br>",
         "marker": {
          "color": "#6594BE",
          "size": 9.837039120926367
         },
         "mode": "markers",
         "name": "Political opponents",
         "opacity": 0.14831097538432855,
         "text": [
          "1.3231316430853"
         ],
         "type": "scatter3d",
         "x": [
          0.361073153042056
         ],
         "y": [
          1.55081745808124
         ],
         "z": [
          -2.58362899624738
         ]
        },
        {
         "customdata": [
          0.447722946546809
         ],
         "hovertemplate": "Formality=%{y:.2f}<br>Activeness=%{x:.2f}<br>Valence=%{z:.2f}<br>Exchange=%{customdata:.2f}<br>Equality=%{text:.2f}<br>",
         "marker": {
          "color": "#6594BE",
          "size": 9.290206321246057
         },
         "mode": "markers",
         "name": "Business rivals",
         "opacity": 0.3926945775856309,
         "text": [
          "1.06758555977894"
         ],
         "type": "scatter3d",
         "x": [
          -0.0877505901549408
         ],
         "y": [
          0.825455611181402
         ],
         "z": [
          -2.24572342240885
         ]
        },
        {
         "customdata": [
          -1.07271419334534
         ],
         "hovertemplate": "Formality=%{y:.2f}<br>Activeness=%{x:.2f}<br>Valence=%{z:.2f}<br>Exchange=%{customdata:.2f}<br>Equality=%{text:.2f}<br>",
         "marker": {
          "color": "#6594BE",
          "size": 8.4487401984335
         },
         "mode": "markers",
         "name": "Enemies",
         "opacity": 0.06952543258432974,
         "text": [
          "0.674351335267443"
         ],
         "type": "scatter3d",
         "x": [
          -1.04244825079673
         ],
         "y": [
          -0.214324073682355
         ],
         "z": [
          -2.60967228152706
         ]
        },
        {
         "customdata": [
          -0.370128989360022
         ],
         "hovertemplate": "Formality=%{y:.2f}<br>Activeness=%{x:.2f}<br>Valence=%{z:.2f}<br>Exchange=%{customdata:.2f}<br>Equality=%{text:.2f}<br>",
         "marker": {
          "color": "#4EC186",
          "size": 4.220610781069141
         },
         "mode": "markers",
         "name": "Teacher-Student",
         "opacity": 0.21886002439692245,
         "text": [
          "-1.30153949087089"
         ],
         "type": "scatter3d",
         "x": [
          0.958103040022008
         ],
         "y": [
          1.06934441675718
         ],
         "z": [
          0.495980801827698
         ]
        },
        {
         "customdata": [
          -0.227049735080888
         ],
         "hovertemplate": "Formality=%{y:.2f}<br>Activeness=%{x:.2f}<br>Valence=%{z:.2f}<br>Exchange=%{customdata:.2f}<br>Equality=%{text:.2f}<br>",
         "marker": {
          "color": "#4EC186",
          "size": 4.830721930638355
         },
         "mode": "markers",
         "name": "Professor-Graduate student",
         "opacity": 0.24927154162419263,
         "text": [
          "-1.01642214833931"
         ],
         "type": "scatter3d",
         "x": [
          0.735182086025806
         ],
         "y": [
          0.999982228713976
         ],
         "z": [
          0.606294630017123
         ]
        },
        {
         "customdata": [
          1.13342896715784
         ],
         "hovertemplate": "Formality=%{y:.2f}<br>Activeness=%{x:.2f}<br>Valence=%{z:.2f}<br>Exchange=%{customdata:.2f}<br>Equality=%{text:.2f}<br>",
         "marker": {
          "color": "#4EC186",
          "size": 4.058735914307032
         },
         "mode": "markers",
         "name": "Master-Servant",
         "opacity": 0.5384414964084836,
         "text": [
          "-1.3771869067007"
         ],
         "type": "scatter3d",
         "x": [
          -0.650803939471595
         ],
         "y": [
          -0.733402743916711
         ],
         "z": [
          -0.441203908392124
         ]
        },
        {
         "customdata": [
          -0.451803574372199
         ],
         "hovertemplate": "Formality=%{y:.2f}<br>Activeness=%{x:.2f}<br>Valence=%{z:.2f}<br>Exchange=%{customdata:.2f}<br>Equality=%{text:.2f}<br>",
         "marker": {
          "color": "#E45E62",
          "size": 9.788888395715214
         },
         "mode": "markers",
         "name": "Close friends",
         "opacity": 0.20150007894821179,
         "text": [
          "1.30062983038631"
         ],
         "type": "scatter3d",
         "x": [
          1.26338673523198
         ],
         "y": [
          -0.964822776580424
         ],
         "z": [
          0.641432706880755
         ]
        },
        {
         "customdata": [
          -0.780840649584104
         ],
         "hovertemplate": "Formality=%{y:.2f}<br>Activeness=%{x:.2f}<br>Valence=%{z:.2f}<br>Exchange=%{customdata:.2f}<br>Equality=%{text:.2f}<br>",
         "marker": {
          "color": "#6594BE",
          "size": 8.550832191732841
         },
         "mode": "markers",
         "name": "Casual acquaintances",
         "opacity": 0.13156319863923505,
         "text": [
          "0.722060999062003"
         ],
         "type": "scatter3d",
         "x": [
          -1.74394985560318
         ],
         "y": [
          -0.371965809396585
         ],
         "z": [
          1.17769684440696
         ]
        },
        {
         "customdata": [
          0.0979337673385384
         ],
         "hovertemplate": "Formality=%{y:.2f}<br>Activeness=%{x:.2f}<br>Valence=%{z:.2f}<br>Exchange=%{customdata:.2f}<br>Equality=%{text:.2f}<br>",
         "marker": {
          "color": "#4EC186",
          "size": 12
         },
         "mode": "markers",
         "name": "Teammates in sports",
         "opacity": 0.31834683442048944,
         "text": [
          "2.33392723053962"
         ],
         "type": "scatter3d",
         "x": [
          1.32516893603399
         ],
         "y": [
          1.4256322382053
         ],
         "z": [
          -0.175025327867705
         ]
        },
        {
         "customdata": [
          -1.01785749437729
         ],
         "hovertemplate": "Formality=%{y:.2f}<br>Activeness=%{x:.2f}<br>Valence=%{z:.2f}<br>Exchange=%{customdata:.2f}<br>Equality=%{text:.2f}<br>",
         "marker": {
          "color": "#E45E62",
          "size": 9.352385737771801
         },
         "mode": "markers",
         "name": "Second cousins",
         "opacity": 0.08118523228138,
         "text": [
          "1.09664326510444"
         ],
         "type": "scatter3d",
         "x": [
          -1.15600181413696
         ],
         "y": [
          -0.340871097072257
         ],
         "z": [
          1.15696531239419
         ]
        },
        {
         "customdata": [
          -0.644512454648511
         ],
         "hovertemplate": "Formality=%{y:.2f}<br>Activeness=%{x:.2f}<br>Valence=%{z:.2f}<br>Exchange=%{customdata:.2f}<br>Equality=%{text:.2f}<br>",
         "marker": {
          "color": "#E45E62",
          "size": 3.0344468228739867
         },
         "mode": "markers",
         "name": "Parent-Infant",
         "opacity": 0.16053977717771473,
         "text": [
          "-1.85585802087339"
         ],
         "type": "scatter3d",
         "x": [
          1.98889665204717
         ],
         "y": [
          -1.31822888221835
         ],
         "z": [
          0.176981181835986
         ]
        },
        {
         "customdata": [
          -0.759596289640733
         ],
         "hovertemplate": "Formality=%{y:.2f}<br>Activeness=%{x:.2f}<br>Valence=%{z:.2f}<br>Exchange=%{customdata:.2f}<br>Equality=%{text:.2f}<br>",
         "marker": {
          "color": "#E45E62",
          "size": 2.732495396397492
         },
         "mode": "markers",
         "name": "Grandparent-Grandchild",
         "opacity": 0.13607869057169736,
         "text": [
          "-1.99696606053368"
         ],
         "type": "scatter3d",
         "x": [
          1.123278309677
         ],
         "y": [
          -1.22444493998233
         ],
         "z": [
          0.827698986957962
         ]
        },
        {
         "customdata": [
          -0.774831053614959
         ],
         "hovertemplate": "Formality=%{y:.2f}<br>Activeness=%{x:.2f}<br>Valence=%{z:.2f}<br>Exchange=%{customdata:.2f}<br>Equality=%{text:.2f}<br>",
         "marker": {
          "color": "#E45E62",
          "size": 3.989428124500407
         },
         "mode": "markers",
         "name": "Step-parent-Step-child",
         "opacity": 0.1328405391751875,
         "text": [
          "-1.40957584576591"
         ],
         "type": "scatter3d",
         "x": [
          0.525850072953928
         ],
         "y": [
          -0.804583338872388
         ],
         "z": [
          -0.0250397288501951
         ]
        },
        {
         "customdata": [
          -0.757307242818799
         ],
         "hovertemplate": "Formality=%{y:.2f}<br>Activeness=%{x:.2f}<br>Valence=%{z:.2f}<br>Exchange=%{customdata:.2f}<br>Equality=%{text:.2f}<br>",
         "marker": {
          "color": "#E45E62",
          "size": 3.7318220617826308
         },
         "mode": "markers",
         "name": "Foster-parent-Foster-child",
         "opacity": 0.1365652278213497,
         "text": [
          "-1.52996039548931"
         ],
         "type": "scatter3d",
         "x": [
          0.744198313428128
         ],
         "y": [
          -0.767339334784743
         ],
         "z": [
          0.143370586122501
         ]
        },
        {
         "customdata": [
          -0.878109968167671
         ],
         "hovertemplate": "Formality=%{y:.2f}<br>Activeness=%{x:.2f}<br>Valence=%{z:.2f}<br>Exchange=%{customdata:.2f}<br>Equality=%{text:.2f}<br>",
         "marker": {
          "color": "#E45E62",
          "size": 4.5399575166543045
         },
         "mode": "markers",
         "name": "Godparent-Godchild",
         "opacity": 0.11088859020146676,
         "text": [
          "-1.15230226965232"
         ],
         "type": "scatter3d",
         "x": [
          -0.479390805324776
         ],
         "y": [
          -0.763454104531925
         ],
         "z": [
          1.1668520766825
         ]
        },
        {
         "customdata": [
          -0.974655652746178
         ],
         "hovertemplate": "Formality=%{y:.2f}<br>Activeness=%{x:.2f}<br>Valence=%{z:.2f}<br>Exchange=%{customdata:.2f}<br>Equality=%{text:.2f}<br>",
         "marker": {
          "color": "#E45E62",
          "size": 3.335481136557
         },
         "mode": "markers",
         "name": "Step-grandparent-Step-grandchild",
         "opacity": 0.09036779028137625,
         "text": [
          "-1.71517856666456"
         ],
         "type": "scatter3d",
         "x": [
          -0.446468349929576
         ],
         "y": [
          -0.835650019485334
         ],
         "z": [
          0.864299374118736
         ]
        },
        {
         "customdata": [
          -1.34931159949087
         ],
         "hovertemplate": "Formality=%{y:.2f}<br>Activeness=%{x:.2f}<br>Valence=%{z:.2f}<br>Exchange=%{customdata:.2f}<br>Equality=%{text:.2f}<br>",
         "marker": {
          "color": "#E45E62",
          "size": 2.6599739916590575
         },
         "mode": "markers",
         "name": "Ancestor-Descendant",
         "opacity": 0.01073461189971449,
         "text": [
          "-2.03085678718288"
         ],
         "type": "scatter3d",
         "x": [
          -0.699656059667619
         ],
         "y": [
          -0.483437307880038
         ],
         "z": [
          1.2401956453913
         ]
        },
        {
         "customdata": [
          0.360175508020645
         ],
         "hovertemplate": "Formality=%{y:.2f}<br>Activeness=%{x:.2f}<br>Valence=%{z:.2f}<br>Exchange=%{customdata:.2f}<br>Equality=%{text:.2f}<br>",
         "marker": {
          "color": "#E45E62",
          "size": 9.907196338987337
         },
         "mode": "markers",
         "name": "Bride-Groom",
         "opacity": 0.37408635623057945,
         "text": [
          "1.35591753724094"
         ],
         "type": "scatter3d",
         "x": [
          1.9979781576757
         ],
         "y": [
          -1.49443414986284
         ],
         "z": [
          -0.229822344531931
         ]
        },
        {
         "customdata": [
          1.69794459049547
         ],
         "hovertemplate": "Formality=%{y:.2f}<br>Activeness=%{x:.2f}<br>Valence=%{z:.2f}<br>Exchange=%{customdata:.2f}<br>Equality=%{text:.2f}<br>",
         "marker": {
          "color": "#E45E62",
          "size": 7.7261184536631236
         },
         "mode": "markers",
         "name": "Man-His Mistress",
         "opacity": 0.658429377885017,
         "text": [
          "0.336655504483269"
         ],
         "type": "scatter3d",
         "x": [
          -0.409128867101176
         ],
         "y": [
          -3.07749529647705
         ],
         "z": [
          -0.739921061292964
         ]
        },
        {
         "customdata": [
          -0.126804720141262
         ],
         "hovertemplate": "Formality=%{y:.2f}<br>Activeness=%{x:.2f}<br>Valence=%{z:.2f}<br>Exchange=%{customdata:.2f}<br>Equality=%{text:.2f}<br>",
         "marker": {
          "color": "#6594BE",
          "size": 7.049852441735836
         },
         "mode": "markers",
         "name": "Man Wife-Man Mistress",
         "opacity": 0.27057863477437677,
         "text": [
          "0.0206226499758884"
         ],
         "type": "scatter3d",
         "x": [
          -1.42104505553705
         ],
         "y": [
          -1.595300212957
         ],
         "z": [
          -1.278226734883
         ]
        },
        {
         "customdata": [
          -0.835625924431222
         ],
         "hovertemplate": "Formality=%{y:.2f}<br>Activeness=%{x:.2f}<br>Valence=%{z:.2f}<br>Exchange=%{customdata:.2f}<br>Equality=%{text:.2f}<br>",
         "marker": {
          "color": "#E45E62",
          "size": 8.662913417908438
         },
         "mode": "markers",
         "name": "Brother-Sister",
         "opacity": 0.11991858014993644,
         "text": [
          "0.774438834440738"
         ],
         "type": "scatter3d",
         "x": [
          1.41048248986731
         ],
         "y": [
          -0.28423350961795
         ],
         "z": [
          0.0483397614706025
         ]
        },
        {
         "customdata": [
          -1.03408124542465
         ],
         "hovertemplate": "Formality=%{y:.2f}<br>Activeness=%{x:.2f}<br>Valence=%{z:.2f}<br>Exchange=%{customdata:.2f}<br>Equality=%{text:.2f}<br>",
         "marker": {
          "color": "#E45E62",
          "size": 7.985377061606235
         },
         "mode": "markers",
         "name": "Step siblings",
         "opacity": 0.07773687153227254,
         "text": [
          "0.457812322183403"
         ],
         "type": "scatter3d",
         "x": [
          -0.171860766900456
         ],
         "y": [
          -0.260171980967457
         ],
         "z": [
          0.0880324918793745
         ]
        },
        {
         "customdata": [
          -1.1046660842739
         ],
         "hovertemplate": "Formality=%{y:.2f}<br>Activeness=%{x:.2f}<br>Valence=%{z:.2f}<br>Exchange=%{customdata:.2f}<br>Equality=%{text:.2f}<br>",
         "marker": {
          "color": "#6594BE",
          "size": 6.737552133054075
         },
         "mode": "markers",
         "name": "Distant relatives",
         "opacity": 0.06273405331475332,
         "text": [
          "-0.125321632710973"
         ],
         "type": "scatter3d",
         "x": [
          -1.72528937039913
         ],
         "y": [
          -0.166128212038777
         ],
         "z": [
          1.09218474767693
         ]
        },
        {
         "customdata": [
          -0.712201509338914
         ],
         "hovertemplate": "Formality=%{y:.2f}<br>Activeness=%{x:.2f}<br>Valence=%{z:.2f}<br>Exchange=%{customdata:.2f}<br>Equality=%{text:.2f}<br>",
         "marker": {
          "color": "#E45E62",
          "size": 7.420773554399922
         },
         "mode": "markers",
         "name": "Close relatives",
         "opacity": 0.14615245832295726,
         "text": [
          "0.193961626007245"
         ],
         "type": "scatter3d",
         "x": [
          0.902399241322352
         ],
         "y": [
          -0.40859786149422
         ],
         "z": [
          0.428048997961319
         ]
        },
        {
         "customdata": [
          -1.14494369214567
         ],
         "hovertemplate": "Formality=%{y:.2f}<br>Activeness=%{x:.2f}<br>Valence=%{z:.2f}<br>Exchange=%{customdata:.2f}<br>Equality=%{text:.2f}<br>",
         "marker": {
          "color": "#E45E62",
          "size": 10.172750789997863
         },
         "mode": "markers",
         "name": "Twins",
         "opacity": 0.054173041644424824,
         "text": [
          "1.48001653038836"
         ],
         "type": "scatter3d",
         "x": [
          1.36183536284757
         ],
         "y": [
          -0.890707622628651
         ],
         "z": [
          0.130886748224558
         ]
        },
        {
         "customdata": [
          -0.958982251851116
         ],
         "hovertemplate": "Formality=%{y:.2f}<br>Activeness=%{x:.2f}<br>Valence=%{z:.2f}<br>Exchange=%{customdata:.2f}<br>Equality=%{text:.2f}<br>",
         "marker": {
          "color": "#E45E62",
          "size": 8.100828044970973
         },
         "mode": "markers",
         "name": "A person and their family friends",
         "opacity": 0.09369917402202806,
         "text": [
          "0.511764913597039"
         ],
         "type": "scatter3d",
         "x": [
          0.614067168282595
         ],
         "y": [
          -0.53959968286052
         ],
         "z": [
          0.692082045691532
         ]
        },
        {
         "customdata": [
          -1.39981550082894
         ],
         "hovertemplate": "Formality=%{y:.2f}<br>Activeness=%{x:.2f}<br>Valence=%{z:.2f}<br>Exchange=%{customdata:.2f}<br>Equality=%{text:.2f}<br>",
         "marker": {
          "color": "#E45E62",
          "size": 7.385954478028028
         },
         "mode": "markers",
         "name": "A person and their deceased spouse",
         "opacity": 0,
         "text": [
          "0.177689963816563"
         ],
         "type": "scatter3d",
         "x": [
          -0.910369300899361
         ],
         "y": [
          -1.75666857205718
         ],
         "z": [
          1.17340391145809
         ]
        },
        {
         "customdata": [
          1.29081458380078
         ],
         "hovertemplate": "Formality=%{y:.2f}<br>Activeness=%{x:.2f}<br>Valence=%{z:.2f}<br>Exchange=%{customdata:.2f}<br>Equality=%{text:.2f}<br>",
         "marker": {
          "color": "#4EC186",
          "size": 6.2337830214293195
         },
         "mode": "markers",
         "name": "Manager-Staff",
         "opacity": 0.5718938331289674,
         "text": [
          "-0.360743179190432"
         ],
         "type": "scatter3d",
         "x": [
          0.158788588332463
         ],
         "y": [
          0.975871776152102
         ],
         "z": [
          -0.33401411624494
         ]
        },
        {
         "customdata": [
          1.26182678072248
         ],
         "hovertemplate": "Formality=%{y:.2f}<br>Activeness=%{x:.2f}<br>Valence=%{z:.2f}<br>Exchange=%{customdata:.2f}<br>Equality=%{text:.2f}<br>",
         "marker": {
          "color": "#4EC186",
          "size": 6.1622124120506605
         },
         "mode": "markers",
         "name": "Foreman-Laborer",
         "opacity": 0.5657324711821363,
         "text": [
          "-0.394189579840244"
         ],
         "type": "scatter3d",
         "x": [
          -0.0418868034966566
         ],
         "y": [
          0.834797057049459
         ],
         "z": [
          -0.471592495345494
         ]
        },
        {
         "customdata": [
          1.45437438306329
         ],
         "hovertemplate": "Formality=%{y:.2f}<br>Activeness=%{x:.2f}<br>Valence=%{z:.2f}<br>Exchange=%{customdata:.2f}<br>Equality=%{text:.2f}<br>",
         "marker": {
          "color": "#4EC186",
          "size": 6.455601512668995
         },
         "mode": "markers",
         "name": "Owner-Manager",
         "opacity": 0.6066584933029482,
         "text": [
          "-0.25708288910841"
         ],
         "type": "scatter3d",
         "x": [
          0.11101164905594
         ],
         "y": [
          0.763842076216645
         ],
         "z": [
          -0.350642589720559
         ]
        },
        {
         "customdata": [
          0.454382408606028
         ],
         "hovertemplate": "Formality=%{y:.2f}<br>Activeness=%{x:.2f}<br>Valence=%{z:.2f}<br>Exchange=%{customdata:.2f}<br>Equality=%{text:.2f}<br>",
         "marker": {
          "color": "#4EC186",
          "size": 7.056094684436036
         },
         "mode": "markers",
         "name": "Union leader-union member",
         "opacity": 0.39411004725772736,
         "text": [
          "0.0235397768819857"
         ],
         "type": "scatter3d",
         "x": [
          -0.347623008464807
         ],
         "y": [
          0.972573824884577
         ],
         "z": [
          0.243706274540009
         ]
        },
        {
         "customdata": [
          1.3362654876917
         ],
         "hovertemplate": "Formality=%{y:.2f}<br>Activeness=%{x:.2f}<br>Valence=%{z:.2f}<br>Exchange=%{customdata:.2f}<br>Equality=%{text:.2f}<br>",
         "marker": {
          "color": "#4EC186",
          "size": 6.258755757096759
         },
         "mode": "markers",
         "name": "Manager-Assistant",
         "opacity": 0.5815544296538634,
         "text": [
          "-0.349072912167331"
         ],
         "type": "scatter3d",
         "x": [
          0.156731144219269
         ],
         "y": [
          0.716905171656851
         ],
         "z": [
          -0.221743850859382
         ]
        },
        {
         "customdata": [
          0.712877046933737
         ],
         "hovertemplate": "Formality=%{y:.2f}<br>Activeness=%{x:.2f}<br>Valence=%{z:.2f}<br>Exchange=%{customdata:.2f}<br>Equality=%{text:.2f}<br>",
         "marker": {
          "color": "#4EC186",
          "size": 6.726338719846817
         },
         "mode": "markers",
         "name": "Chief-Deputy",
         "opacity": 0.44905312189329694,
         "text": [
          "-0.13056188864896"
         ],
         "type": "scatter3d",
         "x": [
          1.13447345841811
         ],
         "y": [
          1.21863574814951
         ],
         "z": [
          -0.196789776709523
         ]
        },
        {
         "customdata": [
          0.779437117730834
         ],
         "hovertemplate": "Formality=%{y:.2f}<br>Activeness=%{x:.2f}<br>Valence=%{z:.2f}<br>Exchange=%{customdata:.2f}<br>Equality=%{text:.2f}<br>",
         "marker": {
          "color": "#4EC186",
          "size": 5.6771617924865705
         },
         "mode": "markers",
         "name": "Supervisor-Subordinate",
         "opacity": 0.4632004750500672,
         "text": [
          "-0.620863594470295"
         ],
         "type": "scatter3d",
         "x": [
          0.892686171732779
         ],
         "y": [
          1.16912097548018
         ],
         "z": [
          -0.354731579962629
         ]
        },
        {
         "customdata": [
          1.04191381488041
         ],
         "hovertemplate": "Formality=%{y:.2f}<br>Activeness=%{x:.2f}<br>Valence=%{z:.2f}<br>Exchange=%{customdata:.2f}<br>Equality=%{text:.2f}<br>",
         "marker": {
          "color": "#4EC186",
          "size": 5.200293002745134
         },
         "mode": "markers",
         "name": "Boss-Secretary",
         "opacity": 0.5189899368930019,
         "text": [
          "-0.843714073704005"
         ],
         "type": "scatter3d",
         "x": [
          0.80496892551546
         ],
         "y": [
          0.638663894000649
         ],
         "z": [
          -0.0105721310573022
         ]
        },
        {
         "customdata": [
          1.98749638946452
         ],
         "hovertemplate": "Formality=%{y:.2f}<br>Activeness=%{x:.2f}<br>Valence=%{z:.2f}<br>Exchange=%{customdata:.2f}<br>Equality=%{text:.2f}<br>",
         "marker": {
          "color": "#4EC186",
          "size": 8.82406599144729
         },
         "mode": "markers",
         "name": "Entrepreneur-Investor",
         "opacity": 0.7199736567317269,
         "text": [
          "0.849748707964546"
         ],
         "type": "scatter3d",
         "x": [
          0.329606733457592
         ],
         "y": [
          0.702351215417951
         ],
         "z": [
          0.20882384793907
         ]
        },
        {
         "customdata": [
          0.272951591782916
         ],
         "hovertemplate": "Formality=%{y:.2f}<br>Activeness=%{x:.2f}<br>Valence=%{z:.2f}<br>Exchange=%{customdata:.2f}<br>Equality=%{text:.2f}<br>",
         "marker": {
          "color": "#4EC186",
          "size": 6.163681266580632
         },
         "mode": "markers",
         "name": "Intern-Employee",
         "opacity": 0.35554689958707003,
         "text": [
          "-0.393503154259517"
         ],
         "type": "scatter3d",
         "x": [
          -0.0626683101337035
         ],
         "y": [
          0.973798373826942
         ],
         "z": [
          0.469289856178112
         ]
        },
        {
         "customdata": [
          1.67494534012909
         ],
         "hovertemplate": "Formality=%{y:.2f}<br>Activeness=%{x:.2f}<br>Valence=%{z:.2f}<br>Exchange=%{customdata:.2f}<br>Equality=%{text:.2f}<br>",
         "marker": {
          "color": "#4EC186",
          "size": 7.404424512628832
         },
         "mode": "markers",
         "name": "Lawyer-Client",
         "opacity": 0.6535408837266191,
         "text": [
          "0.186321386444335"
         ],
         "type": "scatter3d",
         "x": [
          0.72368852810335
         ],
         "y": [
          0.767090179482509
         ],
         "z": [
          0.271129828703616
         ]
        },
        {
         "customdata": [
          -0.116495409356077
         ],
         "hovertemplate": "Formality=%{y:.2f}<br>Activeness=%{x:.2f}<br>Valence=%{z:.2f}<br>Exchange=%{customdata:.2f}<br>Equality=%{text:.2f}<br>",
         "marker": {
          "color": "#4EC186",
          "size": 7.009669888458985
         },
         "mode": "markers",
         "name": "Judge-Lawyer",
         "opacity": 0.27276988034750005,
         "text": [
          "0.0018445259987761"
         ],
         "type": "scatter3d",
         "x": [
          0.422586488555845
         ],
         "y": [
          1.68712997543675
         ],
         "z": [
          -0.465727959203688
         ]
        },
        {
         "customdata": [
          -0.928221608919624
         ],
         "hovertemplate": "Formality=%{y:.2f}<br>Activeness=%{x:.2f}<br>Valence=%{z:.2f}<br>Exchange=%{customdata:.2f}<br>Equality=%{text:.2f}<br>",
         "marker": {
          "color": "#6594BE",
          "size": 4.993399500121333
         },
         "mode": "markers",
         "name": "Victim-Criminal",
         "opacity": 0.1002373533489062,
         "text": [
          "-0.940399613210699"
         ],
         "type": "scatter3d",
         "x": [
          -1.39638826027524
         ],
         "y": [
          -0.619295468197112
         ],
         "z": [
          -2.90615926380462
         ]
        },
        {
         "customdata": [
          3.29479114535761
         ],
         "hovertemplate": "Formality=%{y:.2f}<br>Activeness=%{x:.2f}<br>Valence=%{z:.2f}<br>Exchange=%{customdata:.2f}<br>Equality=%{text:.2f}<br>",
         "marker": {
          "color": "#4EC186",
          "size": 6.608534821353966
         },
         "mode": "markers",
         "name": "Drug dealer-Addict",
         "opacity": 0.9978393556429115,
         "text": [
          "-0.185614045132016"
         ],
         "type": "scatter3d",
         "x": [
          -0.850143586886117
         ],
         "y": [
          -2.08181521990545
         ],
         "z": [
          -1.00020157756439
         ]
        },
        {
         "customdata": [
          -1.37149538792283
         ],
         "hovertemplate": "Formality=%{y:.2f}<br>Activeness=%{x:.2f}<br>Valence=%{z:.2f}<br>Exchange=%{customdata:.2f}<br>Equality=%{text:.2f}<br>",
         "marker": {
          "color": "#6594BE",
          "size": 6.806502347887125
         },
         "mode": "markers",
         "name": "Victim-Witness",
         "opacity": 0.00601944429932635,
         "text": [
          "-0.0930997956996981"
         ],
         "type": "scatter3d",
         "x": [
          -0.783015712887237
         ],
         "y": [
          0.394132907788725
         ],
         "z": [
          -0.0046175967336388
         ]
        },
        {
         "customdata": [
          -1.28858279858172
         ],
         "hovertemplate": "Formality=%{y:.2f}<br>Activeness=%{x:.2f}<br>Valence=%{z:.2f}<br>Exchange=%{customdata:.2f}<br>Equality=%{text:.2f}<br>",
         "marker": {
          "color": "#6594BE",
          "size": 4.959271922225621
         },
         "mode": "markers",
         "name": "Criminal-Police officer",
         "opacity": 0.023642527756174283,
         "text": [
          "-0.956348124106681"
         ],
         "type": "scatter3d",
         "x": [
          -0.17335562186222
         ],
         "y": [
          1.10916363748564
         ],
         "z": [
          -2.42338070568784
         ]
        },
        {
         "customdata": [
          -1.13195811936871
         ],
         "hovertemplate": "Formality=%{y:.2f}<br>Activeness=%{x:.2f}<br>Valence=%{z:.2f}<br>Exchange=%{customdata:.2f}<br>Equality=%{text:.2f}<br>",
         "marker": {
          "color": "#6594BE",
          "size": 4.917034283983343
         },
         "mode": "markers",
         "name": "Criminal-Prosecutor",
         "opacity": 0.05693312711035864,
         "text": [
          "-0.9760866310639"
         ],
         "type": "scatter3d",
         "x": [
          -0.357641469304113
         ],
         "y": [
          1.17189297284122
         ],
         "z": [
          -1.7581045297536
         ]
        },
        {
         "customdata": [
          -0.0846362349540673
         ],
         "hovertemplate": "Formality=%{y:.2f}<br>Activeness=%{x:.2f}<br>Valence=%{z:.2f}<br>Exchange=%{customdata:.2f}<br>Equality=%{text:.2f}<br>",
         "marker": {
          "color": "#6594BE",
          "size": 5.102460110230451
         },
         "mode": "markers",
         "name": "Criminal-Hostage",
         "opacity": 0.27954155270527686,
         "text": [
          "-0.889433373122905"
         ],
         "type": "scatter3d",
         "x": [
          -0.790103001602426
         ],
         "y": [
          -0.8617466002233
         ],
         "z": [
          -3.1478166115373
         ]
        },
        {
         "customdata": [
          -0.89074671366171
         ],
         "hovertemplate": "Formality=%{y:.2f}<br>Activeness=%{x:.2f}<br>Valence=%{z:.2f}<br>Exchange=%{customdata:.2f}<br>Equality=%{text:.2f}<br>",
         "marker": {
          "color": "#6594BE",
          "size": 6.781760589832986
         },
         "mode": "markers",
         "name": "Defendant-Plaintiff",
         "opacity": 0.1082026480274961,
         "text": [
          "-0.104662122188792"
         ],
         "type": "scatter3d",
         "x": [
          -0.407545309056975
         ],
         "y": [
          0.699912437549718
         ],
         "z": [
          -1.83887089442025
         ]
        },
        {
         "customdata": [
          -0.818450498906924
         ],
         "hovertemplate": "Formality=%{y:.2f}<br>Activeness=%{x:.2f}<br>Valence=%{z:.2f}<br>Exchange=%{customdata:.2f}<br>Equality=%{text:.2f}<br>",
         "marker": {
          "color": "#6594BE",
          "size": 5.32662288873084
         },
         "mode": "markers",
         "name": "Police officer-Offender",
         "opacity": 0.12356921945365315,
         "text": [
          "-0.784677549949286"
         ],
         "type": "scatter3d",
         "x": [
          -0.334710796125442
         ],
         "y": [
          1.06305009151849
         ],
         "z": [
          -1.74831139132123
         ]
        },
        {
         "customdata": [
          -1.15675158631659
         ],
         "hovertemplate": "Formality=%{y:.2f}<br>Activeness=%{x:.2f}<br>Valence=%{z:.2f}<br>Exchange=%{customdata:.2f}<br>Equality=%{text:.2f}<br>",
         "marker": {
          "color": "#4EC186",
          "size": 6.039735733718715
         },
         "mode": "markers",
         "name": "Police officer-Civilian",
         "opacity": 0.051663271945065356,
         "text": [
          "-0.451425421330365"
         ],
         "type": "scatter3d",
         "x": [
          -0.467495093929392
         ],
         "y": [
          1.38305496440828
         ],
         "z": [
          0.940503883647689
         ]
        },
        {
         "customdata": [
          -0.67472967566495
         ],
         "hovertemplate": "Formality=%{y:.2f}<br>Activeness=%{x:.2f}<br>Valence=%{z:.2f}<br>Exchange=%{customdata:.2f}<br>Equality=%{text:.2f}<br>",
         "marker": {
          "color": "#6594BE",
          "size": 4.8181213558344655
         },
         "mode": "markers",
         "name": "Parole officer-Parolee",
         "opacity": 0.15411710226141362,
         "text": [
          "-1.02231065308962"
         ],
         "type": "scatter3d",
         "x": [
          0.159371221633564
         ],
         "y": [
          0.991224185748582
         ],
         "z": [
          -1.56342002970998
         ]
        },
        {
         "customdata": [
          1.79719122074492
         ],
         "hovertemplate": "Formality=%{y:.2f}<br>Activeness=%{x:.2f}<br>Valence=%{z:.2f}<br>Exchange=%{customdata:.2f}<br>Equality=%{text:.2f}<br>",
         "marker": {
          "color": "#4EC186",
          "size": 7.506075796048316
         },
         "mode": "markers",
         "name": "Consultant-Client",
         "opacity": 0.6795242642176741,
         "text": [
          "0.233825097553289"
         ],
         "type": "scatter3d",
         "x": [
          -0.194959787349997
         ],
         "y": [
          0.547261115875634
         ],
         "z": [
          0.420295984872726
         ]
        },
        {
         "customdata": [
          1.48035239541589
         ],
         "hovertemplate": "Formality=%{y:.2f}<br>Activeness=%{x:.2f}<br>Valence=%{z:.2f}<br>Exchange=%{customdata:.2f}<br>Equality=%{text:.2f}<br>",
         "marker": {
          "color": "#4EC186",
          "size": 6.387461428304002
         },
         "mode": "markers",
         "name": "Chef-Customer",
         "opacity": 0.6121801237739182,
         "text": [
          "-0.288926135683632"
         ],
         "type": "scatter3d",
         "x": [
          -1.58967765122121
         ],
         "y": [
          0.197177734434449
         ],
         "z": [
          1.54733458813165
         ]
        },
        {
         "customdata": [
          1.67479632606881
         ],
         "hovertemplate": "Formality=%{y:.2f}<br>Activeness=%{x:.2f}<br>Valence=%{z:.2f}<br>Exchange=%{customdata:.2f}<br>Equality=%{text:.2f}<br>",
         "marker": {
          "color": "#4EC186",
          "size": 6.8246999145792815
         },
         "mode": "markers",
         "name": "Customer-Server",
         "opacity": 0.653509210765475,
         "text": [
          "-0.0845957028643641"
         ],
         "type": "scatter3d",
         "x": [
          -0.901403881237967
         ],
         "y": [
          0.402939474930309
         ],
         "z": [
          1.07782150668733
         ]
        },
        {
         "customdata": [
          2.33288561010263
         ],
         "hovertemplate": "Formality=%{y:.2f}<br>Activeness=%{x:.2f}<br>Valence=%{z:.2f}<br>Exchange=%{customdata:.2f}<br>Equality=%{text:.2f}<br>",
         "marker": {
          "color": "#4EC186",
          "size": 7.65868960965699
         },
         "mode": "markers",
         "name": "Customer-Businessman",
         "opacity": 0.7933861880345345,
         "text": [
          "0.305144634985834"
         ],
         "type": "scatter3d",
         "x": [
          -0.52456448333271
         ],
         "y": [
          0.251106405373182
         ],
         "z": [
          0.572945631360625
         ]
        },
        {
         "customdata": [
          0.523394341531754
         ],
         "hovertemplate": "Formality=%{y:.2f}<br>Activeness=%{x:.2f}<br>Valence=%{z:.2f}<br>Exchange=%{customdata:.2f}<br>Equality=%{text:.2f}<br>",
         "marker": {
          "color": "#4EC186",
          "size": 4.53687943829188
         },
         "mode": "markers",
         "name": "Doctor-Patient",
         "opacity": 0.4087785440823156,
         "text": [
          "-1.15374071824225"
         ],
         "type": "scatter3d",
         "x": [
          0.724844837403682
         ],
         "y": [
          0.536607021743142
         ],
         "z": [
          0.510991001523463
         ]
        },
        {
         "customdata": [
          -0.348917917513405
         ],
         "hovertemplate": "Formality=%{y:.2f}<br>Activeness=%{x:.2f}<br>Valence=%{z:.2f}<br>Exchange=%{customdata:.2f}<br>Equality=%{text:.2f}<br>",
         "marker": {
          "color": "#4EC186",
          "size": 5.850353014216109
         },
         "mode": "markers",
         "name": "Doctor-Nurse",
         "opacity": 0.22336844093936406,
         "text": [
          "-0.53992781592537"
         ],
         "type": "scatter3d",
         "x": [
          0.81326055316789
         ],
         "y": [
          0.906572443147335
         ],
         "z": [
          0.460195627085295
         ]
        },
        {
         "customdata": [
          0.301842474475079
         ],
         "hovertemplate": "Formality=%{y:.2f}<br>Activeness=%{x:.2f}<br>Valence=%{z:.2f}<br>Exchange=%{customdata:.2f}<br>Equality=%{text:.2f}<br>",
         "marker": {
          "color": "#4EC186",
          "size": 5.067349274212999
         },
         "mode": "markers",
         "name": "Patient-Caretaker",
         "opacity": 0.36168766109110795,
         "text": [
          "-0.905841380526845"
         ],
         "type": "scatter3d",
         "x": [
          0.618287187868584
         ],
         "y": [
          0.109183826442755
         ],
         "z": [
          0.553543382214698
         ]
        },
        {
         "customdata": [
          1.43537834038248
         ],
         "hovertemplate": "Formality=%{y:.2f}<br>Activeness=%{x:.2f}<br>Valence=%{z:.2f}<br>Exchange=%{customdata:.2f}<br>Equality=%{text:.2f}<br>",
         "marker": {
          "color": "#4EC186",
          "size": 6.9824375120208035
         },
         "mode": "markers",
         "name": "Driver-Passenger",
         "opacity": 0.6026208815461076,
         "text": [
          "-0.0108817170904646"
         ],
         "type": "scatter3d",
         "x": [
          -1.08063510459248
         ],
         "y": [
          0.478934466952245
         ],
         "z": [
          1.20952675019603
         ]
        },
        {
         "customdata": [
          0.554757477417389
         ],
         "hovertemplate": "Formality=%{y:.2f}<br>Activeness=%{x:.2f}<br>Valence=%{z:.2f}<br>Exchange=%{customdata:.2f}<br>Equality=%{text:.2f}<br>",
         "marker": {
          "color": "#4EC186",
          "size": 5.366007228849817
         },
         "mode": "markers",
         "name": "Coach-athlete",
         "opacity": 0.4154447833781008,
         "text": [
          "-0.766272447206923"
         ],
         "type": "scatter3d",
         "x": [
          1.26487124147839
         ],
         "y": [
          0.434903012077417
         ],
         "z": [
          0.0426359510930812
         ]
        },
        {
         "customdata": [
          0.0652567029920689
         ],
         "hovertemplate": "Formality=%{y:.2f}<br>Activeness=%{x:.2f}<br>Valence=%{z:.2f}<br>Exchange=%{customdata:.2f}<br>Equality=%{text:.2f}<br>",
         "marker": {
          "color": "#4EC186",
          "size": 7.93974484229597
         },
         "mode": "markers",
         "name": "Team captain-Team members",
         "opacity": 0.3114013194308003,
         "text": [
          "0.436487458488079"
         ],
         "type": "scatter3d",
         "x": [
          0.997640371412275
         ],
         "y": [
          0.699382008754479
         ],
         "z": [
          -0.0814024778276755
         ]
        },
        {
         "customdata": [
          0.211523678105644
         ],
         "hovertemplate": "Formality=%{y:.2f}<br>Activeness=%{x:.2f}<br>Valence=%{z:.2f}<br>Exchange=%{customdata:.2f}<br>Equality=%{text:.2f}<br>",
         "marker": {
          "color": "#4EC186",
          "size": 6.464594092723551
         },
         "mode": "markers",
         "name": "Club Member-Club President",
         "opacity": 0.34249038720556774,
         "text": [
          "-0.252880473647772"
         ],
         "type": "scatter3d",
         "x": [
          -0.421603200289389
         ],
         "y": [
          0.520361036448208
         ],
         "z": [
          0.645074843471497
         ]
        },
        {
         "customdata": [
          -0.395619298885541
         ],
         "hovertemplate": "Formality=%{y:.2f}<br>Activeness=%{x:.2f}<br>Valence=%{z:.2f}<br>Exchange=%{customdata:.2f}<br>Equality=%{text:.2f}<br>",
         "marker": {
          "color": "#4EC186",
          "size": 5.920836093935694
         },
         "mode": "markers",
         "name": "Politician-Supporter",
         "opacity": 0.21344205523591864,
         "text": [
          "-0.506989639992544"
         ],
         "type": "scatter3d",
         "x": [
          -0.603458912722623
         ],
         "y": [
          1.08733819185644
         ],
         "z": [
          0.47766509704776
         ]
        },
        {
         "customdata": [
          -0.809888946182599
         ],
         "hovertemplate": "Formality=%{y:.2f}<br>Activeness=%{x:.2f}<br>Valence=%{z:.2f}<br>Exchange=%{customdata:.2f}<br>Equality=%{text:.2f}<br>",
         "marker": {
          "color": "#4EC186",
          "size": 5.09740620172202
         },
         "mode": "markers",
         "name": "Leader-Follower",
         "opacity": 0.12538897878549896,
         "text": [
          "-0.891795167304734"
         ],
         "type": "scatter3d",
         "x": [
          -0.215791894459888
         ],
         "y": [
          0.714361468909088
         ],
         "z": [
          0.399138905207095
         ]
        },
        {
         "customdata": [
          -0.752313879347251
         ],
         "hovertemplate": "Formality=%{y:.2f}<br>Activeness=%{x:.2f}<br>Valence=%{z:.2f}<br>Exchange=%{customdata:.2f}<br>Equality=%{text:.2f}<br>",
         "marker": {
          "color": "#4EC186",
          "size": 6.460537121438513
         },
         "mode": "markers",
         "name": "Representative-Citizen",
         "opacity": 0.13762656798559703,
         "text": [
          "-0.254776378799372"
         ],
         "type": "scatter3d",
         "x": [
          -0.536655403111014
         ],
         "y": [
          1.29411454308315
         ],
         "z": [
          0.60781177550631
         ]
        },
        {
         "customdata": [
          -0.576686133685933
         ],
         "hovertemplate": "Formality=%{y:.2f}<br>Activeness=%{x:.2f}<br>Valence=%{z:.2f}<br>Exchange=%{customdata:.2f}<br>Equality=%{text:.2f}<br>",
         "marker": {
          "color": "#4EC186",
          "size": 4.326462656727504
         },
         "mode": "markers",
         "name": "Officer-Soldier",
         "opacity": 0.17495627199947042,
         "text": [
          "-1.25207275761908"
         ],
         "type": "scatter3d",
         "x": [
          1.02442153502919
         ],
         "y": [
          1.13562143106136
         ],
         "z": [
          -0.784822872171126
         ]
        },
        {
         "customdata": [
          0.37445937008777
         ],
         "hovertemplate": "Formality=%{y:.2f}<br>Activeness=%{x:.2f}<br>Valence=%{z:.2f}<br>Exchange=%{customdata:.2f}<br>Equality=%{text:.2f}<br>",
         "marker": {
          "color": "#4EC186",
          "size": 2
         },
         "mode": "markers",
         "name": "Babysitter-Infant",
         "opacity": 0.3771223932823163,
         "text": [
          "-2.33927604943477"
         ],
         "type": "scatter3d",
         "x": [
          0.58289877897373
         ],
         "y": [
          -0.540299564485119
         ],
         "z": [
          0.673199460493745
         ]
        },
        {
         "customdata": [
          -0.58532971390028
         ],
         "hovertemplate": "Formality=%{y:.2f}<br>Activeness=%{x:.2f}<br>Valence=%{z:.2f}<br>Exchange=%{customdata:.2f}<br>Equality=%{text:.2f}<br>",
         "marker": {
          "color": "#4EC186",
          "size": 4.762386185003393
         },
         "mode": "markers",
         "name": "Religious leader-Congregant",
         "opacity": 0.17311907771216248,
         "text": [
          "-1.04835683140339"
         ],
         "type": "scatter3d",
         "x": [
          0.0866964900001598
         ],
         "y": [
          0.502270147039726
         ],
         "z": [
          0.516118018532945
         ]
        },
        {
         "customdata": [
          -1.20570501051337
         ],
         "hovertemplate": "Formality=%{y:.2f}<br>Activeness=%{x:.2f}<br>Valence=%{z:.2f}<br>Exchange=%{customdata:.2f}<br>Equality=%{text:.2f}<br>",
         "marker": {
          "color": "#E45E62",
          "size": 8.534899778347182
         },
         "mode": "markers",
         "name": "Religious followers",
         "opacity": 0.041258214197211616,
         "text": [
          "0.714615458412826"
         ],
         "type": "scatter3d",
         "x": [
          -0.657563763181603
         ],
         "y": [
          0.308501215055743
         ],
         "z": [
          0.86007271400928
         ]
        },
        {
         "customdata": [
          3.30495648439888
         ],
         "hovertemplate": "Formality=%{y:.2f}<br>Activeness=%{x:.2f}<br>Valence=%{z:.2f}<br>Exchange=%{customdata:.2f}<br>Equality=%{text:.2f}<br>",
         "marker": {
          "color": "#6594BE",
          "size": 5.730153436557729
         },
         "mode": "markers",
         "name": "Prostitute-Customer",
         "opacity": 1,
         "text": [
          "-0.596099521981838"
         ],
         "type": "scatter3d",
         "x": [
          -1.86310379971315
         ],
         "y": [
          -2.46791975773895
         ],
         "z": [
          -0.692274908383561
         ]
        },
        {
         "customdata": [
          1.52321763465651
         ],
         "hovertemplate": "Formality=%{y:.2f}<br>Activeness=%{x:.2f}<br>Valence=%{z:.2f}<br>Exchange=%{customdata:.2f}<br>Equality=%{text:.2f}<br>",
         "marker": {
          "color": "#4EC186",
          "size": 7.101885943428312
         },
         "mode": "markers",
         "name": "Guide-Tourist",
         "opacity": 0.6212911368846937,
         "text": [
          "0.0449389630536718"
         ],
         "type": "scatter3d",
         "x": [
          -0.645060434443523
         ],
         "y": [
          0.878243061739522
         ],
         "z": [
          1.26765825210781
         ]
        },
        {
         "customdata": [
          -0.513445894928787
         ],
         "hovertemplate": "Formality=%{y:.2f}<br>Activeness=%{x:.2f}<br>Valence=%{z:.2f}<br>Exchange=%{customdata:.2f}<br>Equality=%{text:.2f}<br>",
         "marker": {
          "color": "#4EC186",
          "size": 6.511765489916948
         },
         "mode": "markers",
         "name": "Athlete-Referee",
         "opacity": 0.18839799435194776,
         "text": [
          "-0.230836320839256"
         ],
         "type": "scatter3d",
         "x": [
          -0.163041530985488
         ],
         "y": [
          1.44702199019435
         ],
         "z": [
          -0.260982791552684
         ]
        },
        {
         "customdata": [
          0.460467944909669
         ],
         "hovertemplate": "Formality=%{y:.2f}<br>Activeness=%{x:.2f}<br>Valence=%{z:.2f}<br>Exchange=%{customdata:.2f}<br>Equality=%{text:.2f}<br>",
         "marker": {
          "color": "#6594BE",
          "size": 2.9292034469236476
         },
         "mode": "markers",
         "name": "Slave-Master",
         "opacity": 0.39540352892331043,
         "text": [
          "-1.90504038984206"
         ],
         "type": "scatter3d",
         "x": [
          -1.35340785675362
         ],
         "y": [
          -1.32291118459383
         ],
         "z": [
          -2.34327827321095
         ]
        },
        {
         "customdata": [
          0.200070227685927
         ],
         "hovertemplate": "Formality=%{y:.2f}<br>Activeness=%{x:.2f}<br>Valence=%{z:.2f}<br>Exchange=%{customdata:.2f}<br>Equality=%{text:.2f}<br>",
         "marker": {
          "color": "#4EC186",
          "size": 6.3303276284542775
         },
         "mode": "markers",
         "name": "Reader-Writer",
         "opacity": 0.34005595457935783,
         "text": [
          "-0.315625921769145"
         ],
         "type": "scatter3d",
         "x": [
          -1.33335591663411
         ],
         "y": [
          0.240559046044794
         ],
         "z": [
          2.01374876349258
         ]
        },
        {
         "customdata": [
          -0.486264873136796
         ],
         "hovertemplate": "Formality=%{y:.2f}<br>Activeness=%{x:.2f}<br>Valence=%{z:.2f}<br>Exchange=%{customdata:.2f}<br>Equality=%{text:.2f}<br>",
         "marker": {
          "color": "#4EC186",
          "size": 7.331589381632713
         },
         "mode": "markers",
         "name": "Reviewer-Writer",
         "opacity": 0.19417532466196805,
         "text": [
          "0.152284049137492"
         ],
         "type": "scatter3d",
         "x": [
          -0.634662715435608
         ],
         "y": [
          1.20607623123757
         ],
         "z": [
          0.301145456696632
         ]
        },
        {
         "customdata": [
          -0.206483250446105
         ],
         "hovertemplate": "Formality=%{y:.2f}<br>Activeness=%{x:.2f}<br>Valence=%{z:.2f}<br>Exchange=%{customdata:.2f}<br>Equality=%{text:.2f}<br>",
         "marker": {
          "color": "#4EC186",
          "size": 6.284302368929798
         },
         "mode": "markers",
         "name": "Performer-Audience",
         "opacity": 0.2536429510568619,
         "text": [
          "-0.337134461146292"
         ],
         "type": "scatter3d",
         "x": [
          -0.169271429454172
         ],
         "y": [
          0.743259499732301
         ],
         "z": [
          0.889858989102159
         ]
        },
        {
         "customdata": [
          2.65512812532398
         ],
         "hovertemplate": "Formality=%{y:.2f}<br>Activeness=%{x:.2f}<br>Valence=%{z:.2f}<br>Exchange=%{customdata:.2f}<br>Equality=%{text:.2f}<br>",
         "marker": {
          "color": "#4EC186",
          "size": 8.462690670872124
         },
         "mode": "markers",
         "name": "Dealer-Buyer",
         "opacity": 0.8618788835855913,
         "text": [
          "0.68087067462318"
         ],
         "type": "scatter3d",
         "x": [
          0.159223436571117
         ],
         "y": [
          0.455101683161385
         ],
         "z": [
          -0.227450796429135
         ]
        },
        {
         "customdata": [
          2.46301325089507
         ],
         "hovertemplate": "Formality=%{y:.2f}<br>Activeness=%{x:.2f}<br>Valence=%{z:.2f}<br>Exchange=%{customdata:.2f}<br>Equality=%{text:.2f}<br>",
         "marker": {
          "color": "#4EC186",
          "size": 4.496405158247542
         },
         "mode": "markers",
         "name": "Sugar daddy-Sugar baby",
         "opacity": 0.8210448378481746,
         "text": [
          "-1.17265517206803"
         ],
         "type": "scatter3d",
         "x": [
          -0.767097591727476
         ],
         "y": [
          -3.10342248166961
         ],
         "z": [
          -0.65221650678504
         ]
        },
        {
         "customdata": [
          0.486814400485314
         ],
         "hovertemplate": "Formality=%{y:.2f}<br>Activeness=%{x:.2f}<br>Valence=%{z:.2f}<br>Exchange=%{customdata:.2f}<br>Equality=%{text:.2f}<br>",
         "marker": {
          "color": "#4EC186",
          "size": 7.049535072009102
         },
         "mode": "markers",
         "name": "Director-Performer",
         "opacity": 0.40100347205729614,
         "text": [
          "0.0204743366510949"
         ],
         "type": "scatter3d",
         "x": [
          0.764207472358095
         ],
         "y": [
          0.740012392127643
         ],
         "z": [
          -0.128674497012128
         ]
        },
        {
         "customdata": [
          1.04959364070361
         ],
         "hovertemplate": "Formality=%{y:.2f}<br>Activeness=%{x:.2f}<br>Valence=%{z:.2f}<br>Exchange=%{customdata:.2f}<br>Equality=%{text:.2f}<br>",
         "marker": {
          "color": "#4EC186",
          "size": 5.257337886952159
         },
         "mode": "markers",
         "name": "Psychologist-Client",
         "opacity": 0.5206222850381008,
         "text": [
          "-0.817055839705802"
         ],
         "type": "scatter3d",
         "x": [
          1.02136589481869
         ],
         "y": [
          -0.141809906149879
         ],
         "z": [
          -0.0502283017474019
         ]
        },
        {
         "customdata": [
          -0.681460869558955
         ],
         "hovertemplate": "Formality=%{y:.2f}<br>Activeness=%{x:.2f}<br>Valence=%{z:.2f}<br>Exchange=%{customdata:.2f}<br>Equality=%{text:.2f}<br>",
         "marker": {
          "color": "#4EC186",
          "size": 6.20564636049347
         },
         "mode": "markers",
         "name": "Judge-Contestant",
         "opacity": 0.1526863859769391,
         "text": [
          "-0.373892012807726"
         ],
         "type": "scatter3d",
         "x": [
          -0.10393638952325
         ],
         "y": [
          1.36386165142283
         ],
         "z": [
          -0.645765474663961
         ]
        },
        {
         "customdata": [
          -1.20752523988043
         ],
         "hovertemplate": "Formality=%{y:.2f}<br>Activeness=%{x:.2f}<br>Valence=%{z:.2f}<br>Exchange=%{customdata:.2f}<br>Equality=%{text:.2f}<br>",
         "marker": {
          "color": "#E45E62",
          "size": 2.8652487301612437
         },
         "mode": "markers",
         "name": "Man-God",
         "opacity": 0.04087132416879469,
         "text": [
          "-1.93492772905645"
         ],
         "type": "scatter3d",
         "x": [
          -0.558473814721024
         ],
         "y": [
          -1.11004655782877
         ],
         "z": [
          0.696480820214924
         ]
        },
        {
         "customdata": [
          0.409091401977792
         ],
         "hovertemplate": "Formality=%{y:.2f}<br>Activeness=%{x:.2f}<br>Valence=%{z:.2f}<br>Exchange=%{customdata:.2f}<br>Equality=%{text:.2f}<br>",
         "marker": {
          "color": "#4EC186",
          "size": 10.046088362989137
         },
         "mode": "markers",
         "name": "Co-workers",
         "opacity": 0.3844834369202993,
         "text": [
          "1.42082460345369"
         ],
         "type": "scatter3d",
         "x": [
          1.24451714880014
         ],
         "y": [
          1.41823968422416
         ],
         "z": [
          -0.14557169372268
         ]
        },
        {
         "customdata": [
          -1.26235240653718
         ],
         "hovertemplate": "Formality=%{y:.2f}<br>Activeness=%{x:.2f}<br>Valence=%{z:.2f}<br>Exchange=%{customdata:.2f}<br>Equality=%{text:.2f}<br>",
         "marker": {
          "color": "#6594BE",
          "size": 10.046876713311729
         },
         "mode": "markers",
         "name": "Sports rivals",
         "opacity": 0.029217801568996428,
         "text": [
          "1.42119301558502"
         ],
         "type": "scatter3d",
         "x": [
          -0.31968933863164
         ],
         "y": [
          1.22026920040999
         ],
         "z": [
          -1.60450607236725
         ]
        },
        {
         "customdata": [
          -0.944206412870348
         ],
         "hovertemplate": "Formality=%{y:.2f}<br>Activeness=%{x:.2f}<br>Valence=%{z:.2f}<br>Exchange=%{customdata:.2f}<br>Equality=%{text:.2f}<br>",
         "marker": {
          "color": "#6594BE",
          "size": 8.902169723834053
         },
         "mode": "markers",
         "name": "Romantic rivals",
         "opacity": 0.09683978084147894,
         "text": [
          "0.886248169801352"
         ],
         "type": "scatter3d",
         "x": [
          -0.748963015283713
         ],
         "y": [
          -1.02191174115028
         ],
         "z": [
          -2.00267863457277
         ]
        },
        {
         "customdata": [
          1.61588880702775
         ],
         "hovertemplate": "Formality=%{y:.2f}<br>Activeness=%{x:.2f}<br>Valence=%{z:.2f}<br>Exchange=%{customdata:.2f}<br>Equality=%{text:.2f}<br>",
         "marker": {
          "color": "#4EC186",
          "size": 7.85787083931192
         },
         "mode": "markers",
         "name": "Criminal and their accomplice",
         "opacity": 0.6409884086466859,
         "text": [
          "0.398226072559109"
         ],
         "type": "scatter3d",
         "x": [
          -0.20211611481784
         ],
         "y": [
          -1.09663361451809
         ],
         "z": [
          -1.36504303432599
         ]
        },
        {
         "customdata": [
          0.385442216506973
         ],
         "hovertemplate": "Formality=%{y:.2f}<br>Activeness=%{x:.2f}<br>Valence=%{z:.2f}<br>Exchange=%{customdata:.2f}<br>Equality=%{text:.2f}<br>",
         "marker": {
          "color": "#4EC186",
          "size": 9.786546184618897
         },
         "mode": "markers",
         "name": "Diplomats",
         "opacity": 0.3794567989567437,
         "text": [
          "1.29953526752854"
         ],
         "type": "scatter3d",
         "x": [
          0.311671059709706
         ],
         "y": [
          1.39242259278541
         ],
         "z": [
          -0.743285838873811
         ]
        },
        {
         "customdata": [
          0.0311743951851463
         ],
         "hovertemplate": "Formality=%{y:.2f}<br>Activeness=%{x:.2f}<br>Valence=%{z:.2f}<br>Exchange=%{customdata:.2f}<br>Equality=%{text:.2f}<br>",
         "marker": {
          "color": "#4EC186",
          "size": 5.899410599013961
         },
         "mode": "markers",
         "name": "Principal-Teacher",
         "opacity": 0.3041571197301697,
         "text": [
          "-0.517002209306876"
         ],
         "type": "scatter3d",
         "x": [
          0.525836241020788
         ],
         "y": [
          1.17011367556438
         ],
         "z": [
          0.332481249682779
         ]
        },
        {
         "customdata": [
          0.0007762256286709
         ],
         "hovertemplate": "Formality=%{y:.2f}<br>Activeness=%{x:.2f}<br>Valence=%{z:.2f}<br>Exchange=%{customdata:.2f}<br>Equality=%{text:.2f}<br>",
         "marker": {
          "color": "#4EC186",
          "size": 5.848333367655538
         },
         "mode": "markers",
         "name": "Professor-Teaching Assistant",
         "opacity": 0.2976959841742022,
         "text": [
          "-0.540871637818495"
         ],
         "type": "scatter3d",
         "x": [
          0.457742894722167
         ],
         "y": [
          1.05981528162234
         ],
         "z": [
          0.529111155278825
         ]
        },
        {
         "customdata": [
          -0.0457169334999151
         ],
         "hovertemplate": "Formality=%{y:.2f}<br>Activeness=%{x:.2f}<br>Valence=%{z:.2f}<br>Exchange=%{customdata:.2f}<br>Equality=%{text:.2f}<br>",
         "marker": {
          "color": "#4EC186",
          "size": 4.829927624132365
         },
         "mode": "markers",
         "name": "University student-Administrator",
         "opacity": 0.2878138561402472,
         "text": [
          "-1.01679334391622"
         ],
         "type": "scatter3d",
         "x": [
          -0.502662386190129
         ],
         "y": [
          0.900830377818612
         ],
         "z": [
          0.877609702635563
         ]
        },
        {
         "customdata": [
          0.409799799863595
         ],
         "hovertemplate": "Formality=%{y:.2f}<br>Activeness=%{x:.2f}<br>Valence=%{z:.2f}<br>Exchange=%{customdata:.2f}<br>Equality=%{text:.2f}<br>",
         "marker": {
          "color": "#4EC186",
          "size": 5.69002123255238
         },
         "mode": "markers",
         "name": "Student-Dorm Resident assistant",
         "opacity": 0.384634006998515,
         "text": [
          "-0.614854116720878"
         ],
         "type": "scatter3d",
         "x": [
          -0.825926844397464
         ],
         "y": [
          0.555116984147164
         ],
         "z": [
          0.65715974933741
         ]
        },
        {
         "customdata": [
          0.26834892718888
         ],
         "hovertemplate": "Formality=%{y:.2f}<br>Activeness=%{x:.2f}<br>Valence=%{z:.2f}<br>Exchange=%{customdata:.2f}<br>Equality=%{text:.2f}<br>",
         "marker": {
          "color": "#4EC186",
          "size": 4.604113745845289
         },
         "mode": "markers",
         "name": "Mentor-Mentee",
         "opacity": 0.35456860252857547,
         "text": [
          "-1.12232075958371"
         ],
         "type": "scatter3d",
         "x": [
          0.94601630888354
         ],
         "y": [
          0.900631318694456
         ],
         "z": [
          0.324551076884455
         ]
        },
        {
         "customdata": [
          0.863494854875001
         ],
         "hovertemplate": "Formality=%{y:.2f}<br>Activeness=%{x:.2f}<br>Valence=%{z:.2f}<br>Exchange=%{customdata:.2f}<br>Equality=%{text:.2f}<br>",
         "marker": {
          "color": "#4EC186",
          "size": 5.298681825936917
         },
         "mode": "markers",
         "name": "Athletic trainer-Trainee",
         "opacity": 0.48106695984637476,
         "text": [
          "-0.797734976578739"
         ],
         "type": "scatter3d",
         "x": [
          0.917941944642326
         ],
         "y": [
          0.712992055428702
         ],
         "z": [
          0.15233519119233
         ]
        },
        {
         "customdata": [
          0.688563749252275
         ],
         "hovertemplate": "Formality=%{y:.2f}<br>Activeness=%{x:.2f}<br>Valence=%{z:.2f}<br>Exchange=%{customdata:.2f}<br>Equality=%{text:.2f}<br>",
         "marker": {
          "color": "#4EC186",
          "size": 6.156388308214674
         },
         "mode": "markers",
         "name": "Researcher-Research Subject",
         "opacity": 0.4438853267785068,
         "text": [
          "-0.396911301955168"
         ],
         "type": "scatter3d",
         "x": [
          -0.197805546632465
         ],
         "y": [
          0.961748911879806
         ],
         "z": [
          0.725680532015007
         ]
        },
        {
         "customdata": [
          -0.654903621758776
         ],
         "hovertemplate": "Formality=%{y:.2f}<br>Activeness=%{x:.2f}<br>Valence=%{z:.2f}<br>Exchange=%{customdata:.2f}<br>Equality=%{text:.2f}<br>",
         "marker": {
          "color": "#E45E62",
          "size": 10.598548464246052
         },
         "mode": "markers",
         "name": "Peers",
         "opacity": 0.1583311330302637,
         "text": [
          "1.67900043917857"
         ],
         "type": "scatter3d",
         "x": [
          0.0073639911983526
         ],
         "y": [
          -0.0154425311627462
         ],
         "z": [
          0.16543101161631
         ]
        },
        {
         "customdata": [
          -0.626505222296198
         ],
         "hovertemplate": "Formality=%{y:.2f}<br>Activeness=%{x:.2f}<br>Valence=%{z:.2f}<br>Exchange=%{customdata:.2f}<br>Equality=%{text:.2f}<br>",
         "marker": {
          "color": "#E45E62",
          "size": 11.368183776625639
         },
         "mode": "markers",
         "name": "Classmates",
         "opacity": 0.16436721714905717,
         "text": [
          "2.03866666579821"
         ],
         "type": "scatter3d",
         "x": [
          0.595423806373039
         ],
         "y": [
          0.278417822868959
         ],
         "z": [
          -0.118248164768773
         ]
        },
        {
         "customdata": [
          -0.0530759143973132
         ],
         "hovertemplate": "Formality=%{y:.2f}<br>Activeness=%{x:.2f}<br>Valence=%{z:.2f}<br>Exchange=%{customdata:.2f}<br>Equality=%{text:.2f}<br>",
         "marker": {
          "color": "#E45E62",
          "size": 10.230044742966452
         },
         "mode": "markers",
         "name": "Roommates",
         "opacity": 0.2862497036328559,
         "text": [
          "1.50679115928191"
         ],
         "type": "scatter3d",
         "x": [
          0.577222591982797
         ],
         "y": [
          -0.59864741860058
         ],
         "z": [
          -0.0161449196522848
         ]
        },
        {
         "customdata": [
          -0.417217594184654
         ],
         "hovertemplate": "Formality=%{y:.2f}<br>Activeness=%{x:.2f}<br>Valence=%{z:.2f}<br>Exchange=%{customdata:.2f}<br>Equality=%{text:.2f}<br>",
         "marker": {
          "color": "#E45E62",
          "size": 9.788550149042322
         },
         "mode": "markers",
         "name": "Sorority sisters",
         "opacity": 0.2088513342898392,
         "text": [
          "1.30047176084019"
         ],
         "type": "scatter3d",
         "x": [
          -0.213430871923552
         ],
         "y": [
          -0.302272288472919
         ],
         "z": [
          0.491958792366111
         ]
        },
        {
         "customdata": [
          -0.721288859945057
         ],
         "hovertemplate": "Formality=%{y:.2f}<br>Activeness=%{x:.2f}<br>Valence=%{z:.2f}<br>Exchange=%{customdata:.2f}<br>Equality=%{text:.2f}<br>",
         "marker": {
          "color": "#E45E62",
          "size": 10.004166812293663
         },
         "mode": "markers",
         "name": "Fraternity brothers",
         "opacity": 0.14422094057147522,
         "text": [
          "1.40123381063252"
         ],
         "type": "scatter3d",
         "x": [
          0.683197980999243
         ],
         "y": [
          0.0019979887754964
         ],
         "z": [
          0.36131315255581
         ]
        },
        {
         "customdata": [
          -0.720005387937027
         ],
         "hovertemplate": "Formality=%{y:.2f}<br>Activeness=%{x:.2f}<br>Valence=%{z:.2f}<br>Exchange=%{customdata:.2f}<br>Equality=%{text:.2f}<br>",
         "marker": {
          "color": "#E45E62",
          "size": 8.414037273582018
         },
         "mode": "markers",
         "name": "Bride-Bridesmaid",
         "opacity": 0.14449374274171,
         "text": [
          "0.658133953043378"
         ],
         "type": "scatter3d",
         "x": [
          0.751237000205409
         ],
         "y": [
          -0.603948919086118
         ],
         "z": [
          0.491058539862169
         ]
        },
        {
         "customdata": [
          -0.751757831222835
         ],
         "hovertemplate": "Formality=%{y:.2f}<br>Activeness=%{x:.2f}<br>Valence=%{z:.2f}<br>Exchange=%{customdata:.2f}<br>Equality=%{text:.2f}<br>",
         "marker": {
          "color": "#E45E62",
          "size": 8.30038430950609
         },
         "mode": "markers",
         "name": "Groom-Groomsman",
         "opacity": 0.13774475609889175,
         "text": [
          "0.605021612593534"
         ],
         "type": "scatter3d",
         "x": [
          0.671905403947306
         ],
         "y": [
          -0.587276532997374
         ],
         "z": [
          0.635262538361464
         ]
        },
        {
         "customdata": [
          0.0721699484495764
         ],
         "hovertemplate": "Formality=%{y:.2f}<br>Activeness=%{x:.2f}<br>Valence=%{z:.2f}<br>Exchange=%{customdata:.2f}<br>Equality=%{text:.2f}<br>",
         "marker": {
          "color": "#4EC186",
          "size": 5.979447480903627
         },
         "mode": "markers",
         "name": "Predecessor-Successor",
         "opacity": 0.3128707308027464,
         "text": [
          "-0.479599347410305"
         ],
         "type": "scatter3d",
         "x": [
          -0.559812661266143
         ],
         "y": [
          0.673263670438949
         ],
         "z": [
          0.263835156996696
         ]
        },
        {
         "customdata": [
          1.83515851902992
         ],
         "hovertemplate": "Formality=%{y:.2f}<br>Activeness=%{x:.2f}<br>Valence=%{z:.2f}<br>Exchange=%{customdata:.2f}<br>Equality=%{text:.2f}<br>",
         "marker": {
          "color": "#4EC186",
          "size": 5.9550840388977155
         },
         "mode": "markers",
         "name": "Landlord-Tenant",
         "opacity": 0.687594219234455,
         "text": [
          "-0.490984879119654"
         ],
         "type": "scatter3d",
         "x": [
          -0.705764148977619
         ],
         "y": [
          0.158911583296918
         ],
         "z": [
          0.0743956667446389
         ]
        },
        {
         "customdata": [
          1.64008445837328
         ],
         "hovertemplate": "Formality=%{y:.2f}<br>Activeness=%{x:.2f}<br>Valence=%{z:.2f}<br>Exchange=%{customdata:.2f}<br>Equality=%{text:.2f}<br>",
         "marker": {
          "color": "#4EC186",
          "size": 5.1355605040142756
         },
         "mode": "markers",
         "name": "Landlord-Housekeeper",
         "opacity": 0.6461311980149061,
         "text": [
          "-0.873964886243004"
         ],
         "type": "scatter3d",
         "x": [
          -0.645078499336968
         ],
         "y": [
          -0.0985651183628657
         ],
         "z": [
          0.189838928198356
         ]
        },
        {
         "customdata": [
          -0.164707651768305
         ],
         "hovertemplate": "Formality=%{y:.2f}<br>Activeness=%{x:.2f}<br>Valence=%{z:.2f}<br>Exchange=%{customdata:.2f}<br>Equality=%{text:.2f}<br>",
         "marker": {
          "color": "#4EC186",
          "size": 7.414428278638658
         },
         "mode": "markers",
         "name": "Guest-Host",
         "opacity": 0.2625223609005202,
         "text": [
          "0.190996349657256"
         ],
         "type": "scatter3d",
         "x": [
          -0.393009888711768
         ],
         "y": [
          -0.0019007459923005
         ],
         "z": [
          0.872981570711896
         ]
        },
        {
         "customdata": [
          0.104301054927535
         ],
         "hovertemplate": "Formality=%{y:.2f}<br>Activeness=%{x:.2f}<br>Valence=%{z:.2f}<br>Exchange=%{customdata:.2f}<br>Equality=%{text:.2f}<br>",
         "marker": {
          "color": "#4EC186",
          "size": 7.569946902662576
         },
         "mode": "markers",
         "name": "Television host-Guest",
         "opacity": 0.319700202364566,
         "text": [
          "0.263673364045824"
         ],
         "type": "scatter3d",
         "x": [
          -0.898214489145052
         ],
         "y": [
          1.01218746529936
         ],
         "z": [
          0.790361759112105
         ]
        },
        {
         "customdata": [
          0.452903645387197
         ],
         "hovertemplate": "Formality=%{y:.2f}<br>Activeness=%{x:.2f}<br>Valence=%{z:.2f}<br>Exchange=%{customdata:.2f}<br>Equality=%{text:.2f}<br>",
         "marker": {
          "color": "#4EC186",
          "size": 7.277342289905827
         },
         "mode": "markers",
         "name": "Volunteer-Organizer",
         "opacity": 0.39379573591097683,
         "text": [
          "0.126933280438777"
         ],
         "type": "scatter3d",
         "x": [
          0.794935471095355
         ],
         "y": [
          1.20411502535096
         ],
         "z": [
          0.696569784627631
         ]
        },
        {
         "customdata": [
          -0.223058970588312
         ],
         "hovertemplate": "Formality=%{y:.2f}<br>Activeness=%{x:.2f}<br>Valence=%{z:.2f}<br>Exchange=%{customdata:.2f}<br>Equality=%{text:.2f}<br>",
         "marker": {
          "color": "#4EC186",
          "size": 5.8071291930069036
         },
         "mode": "markers",
         "name": "Celebrity-Fans",
         "opacity": 0.25011977922318923,
         "text": [
          "-0.560127186230159"
         ],
         "type": "scatter3d",
         "x": [
          -1.39353893209304
         ],
         "y": [
          -0.269766563968455
         ],
         "z": [
          1.49056256022071
         ]
        },
        {
         "customdata": [
          -1.21828492692979
         ],
         "hovertemplate": "Formality=%{y:.2f}<br>Activeness=%{x:.2f}<br>Valence=%{z:.2f}<br>Exchange=%{customdata:.2f}<br>Equality=%{text:.2f}<br>",
         "marker": {
          "color": "#6594BE",
          "size": 6.171055900763021
         },
         "mode": "markers",
         "name": "Celebrity-Haters",
         "opacity": 0.03858435105231984,
         "text": [
          "-0.390056837794542"
         ],
         "type": "scatter3d",
         "x": [
          -2.3279982257601
         ],
         "y": [
          -0.47959035343393
         ],
         "z": [
          -1.01053839247109
         ]
        },
        {
         "customdata": [
          0.577213895660397
         ],
         "hovertemplate": "Formality=%{y:.2f}<br>Activeness=%{x:.2f}<br>Valence=%{z:.2f}<br>Exchange=%{customdata:.2f}<br>Equality=%{text:.2f}<br>",
         "marker": {
          "color": "#4EC186",
          "size": 7.190192408693912
         },
         "mode": "markers",
         "name": "Native-Tourist",
         "opacity": 0.420217898486233,
         "text": [
          "0.086206369365887"
         ],
         "type": "scatter3d",
         "x": [
          -1.26575218381848
         ],
         "y": [
          0.144609377951027
         ],
         "z": [
          1.03560637345793
         ]
        },
        {
         "customdata": [
          -0.821087575220013
         ],
         "hovertemplate": "Formality=%{y:.2f}<br>Activeness=%{x:.2f}<br>Valence=%{z:.2f}<br>Exchange=%{customdata:.2f}<br>Equality=%{text:.2f}<br>",
         "marker": {
          "color": "#6594BE",
          "size": 5.796582196717852
         },
         "mode": "markers",
         "name": "Bully-Victim",
         "opacity": 0.12300870848279867,
         "text": [
          "-0.565056011995346"
         ],
         "type": "scatter3d",
         "x": [
          -0.951898721396031
         ],
         "y": [
          -1.18779482618953
         ],
         "z": [
          -3.24581652992477
         ]
        },
        {
         "customdata": [
          -0.215917593247513
         ],
         "hovertemplate": "Formality=%{y:.2f}<br>Activeness=%{x:.2f}<br>Valence=%{z:.2f}<br>Exchange=%{customdata:.2f}<br>Equality=%{text:.2f}<br>",
         "marker": {
          "color": "#E45E62",
          "size": 9.881795762726217
         },
         "mode": "markers",
         "name": "Friends",
         "opacity": 0.2516376800615766,
         "text": [
          "1.34404733161127"
         ],
         "type": "scatter3d",
         "x": [
          1.37712277306375
         ],
         "y": [
          -0.695820964959399
         ],
         "z": [
          0.48847503743639
         ]
        },
        {
         "customdata": [
          -0.719751035699345
         ],
         "hovertemplate": "Formality=%{y:.2f}<br>Activeness=%{x:.2f}<br>Valence=%{z:.2f}<br>Exchange=%{customdata:.2f}<br>Equality=%{text:.2f}<br>",
         "marker": {
          "color": "#E45E62",
          "size": 9.046480440037202
         },
         "mode": "markers",
         "name": "Facebook friends",
         "opacity": 0.1445478053484592,
         "text": [
          "0.953687501030953"
         ],
         "type": "scatter3d",
         "x": [
          -1.19218450416032
         ],
         "y": [
          -0.411335438091119
         ],
         "z": [
          1.16379006896628
         ]
        },
        {
         "customdata": [
          -0.203333722256103
         ],
         "hovertemplate": "Formality=%{y:.2f}<br>Activeness=%{x:.2f}<br>Valence=%{z:.2f}<br>Exchange=%{customdata:.2f}<br>Equality=%{text:.2f}<br>",
         "marker": {
          "color": "#6594BE",
          "size": 6.8989528643154285
         },
         "mode": "markers",
         "name": "A person and their social media follower",
         "opacity": 0.2543123837519831,
         "text": [
          "-0.0498957900388911"
         ],
         "type": "scatter3d",
         "x": [
          -1.81298872667124
         ],
         "y": [
          -0.28679907402849
         ],
         "z": [
          1.36062356162849
         ]
        },
        {
         "customdata": [
          -0.954552456325544
         ],
         "hovertemplate": "Formality=%{y:.2f}<br>Activeness=%{x:.2f}<br>Valence=%{z:.2f}<br>Exchange=%{customdata:.2f}<br>Equality=%{text:.2f}<br>",
         "marker": {
          "color": "#E45E62",
          "size": 10.32178684740678
         },
         "mode": "markers",
         "name": "Childhood friends",
         "opacity": 0.09464072773376601,
         "text": [
          "1.54966410962014"
         ],
         "type": "scatter3d",
         "x": [
          0.675280432170243
         ],
         "y": [
          -0.230890114158386
         ],
         "z": [
          0.856760055538344
         ]
        },
        {
         "customdata": [
          -0.638032577672185
         ],
         "hovertemplate": "Formality=%{y:.2f}<br>Activeness=%{x:.2f}<br>Valence=%{z:.2f}<br>Exchange=%{customdata:.2f}<br>Equality=%{text:.2f}<br>",
         "marker": {
          "color": "#E45E62",
          "size": 8.96228338041955
         },
         "mode": "markers",
         "name": "Pen-friends",
         "opacity": 0.1619170760131677,
         "text": [
          "0.914340503514012"
         ],
         "type": "scatter3d",
         "x": [
          -1.3011505910394
         ],
         "y": [
          -0.390450741414773
         ],
         "z": [
          1.45862271159455
         ]
        },
        {
         "customdata": [
          1.16925809242584
         ],
         "hovertemplate": "Formality=%{y:.2f}<br>Activeness=%{x:.2f}<br>Valence=%{z:.2f}<br>Exchange=%{customdata:.2f}<br>Equality=%{text:.2f}<br>",
         "marker": {
          "color": "#E45E62",
          "size": 9.071341848698331
         },
         "mode": "markers",
         "name": "Friends with benefits",
         "opacity": 0.5460569824257652,
         "text": [
          "0.96530574268095"
         ],
         "type": "scatter3d",
         "x": [
          -0.917221459411046
         ],
         "y": [
          -1.9216272082048
         ],
         "z": [
          -0.195228656236406
         ]
        },
        {
         "customdata": [
          0.862565432434259
         ],
         "hovertemplate": "Formality=%{y:.2f}<br>Activeness=%{x:.2f}<br>Valence=%{z:.2f}<br>Exchange=%{customdata:.2f}<br>Equality=%{text:.2f}<br>",
         "marker": {
          "color": "#4EC186",
          "size": 8.114146713787386
         },
         "mode": "markers",
         "name": "Political allies",
         "opacity": 0.48086941096543856,
         "text": [
          "0.517988998276815"
         ],
         "type": "scatter3d",
         "x": [
          0.0810439519976947
         ],
         "y": [
          1.03900081802323
         ],
         "z": [
          -0.748273999384869
         ]
        },
        {
         "customdata": [
          0.263238406571592
         ],
         "hovertemplate": "Formality=%{y:.2f}<br>Activeness=%{x:.2f}<br>Valence=%{z:.2f}<br>Exchange=%{customdata:.2f}<br>Equality=%{text:.2f}<br>",
         "marker": {
          "color": "#E45E62",
          "size": 9.33793320374307
         },
         "mode": "markers",
         "name": "Romantic lovers",
         "opacity": 0.35348236059520777,
         "text": [
          "1.08988930216174"
         ],
         "type": "scatter3d",
         "x": [
          1.35469386232076
         ],
         "y": [
          -1.75477070849878
         ],
         "z": [
          -0.2447176418725
         ]
        },
        {
         "customdata": [
          -0.656311556479443
         ],
         "hovertemplate": "Formality=%{y:.2f}<br>Activeness=%{x:.2f}<br>Valence=%{z:.2f}<br>Exchange=%{customdata:.2f}<br>Equality=%{text:.2f}<br>",
         "marker": {
          "color": "#6594BE",
          "size": 8.164425153168033
         },
         "mode": "markers",
         "name": "Ex-lovers",
         "opacity": 0.1580318762915551,
         "text": [
          "0.541485135059378"
         ],
         "type": "scatter3d",
         "x": [
          -1.94547331187551
         ],
         "y": [
          -1.09344892260633
         ],
         "z": [
          -0.460057253300886
         ]
        },
        {
         "customdata": [
          0.321146361310896
         ],
         "hovertemplate": "Formality=%{y:.2f}<br>Activeness=%{x:.2f}<br>Valence=%{z:.2f}<br>Exchange=%{customdata:.2f}<br>Equality=%{text:.2f}<br>",
         "marker": {
          "color": "#E45E62",
          "size": 9.106098879905499
         },
         "mode": "markers",
         "name": "Life partners",
         "opacity": 0.36579070516984924,
         "text": [
          "0.981548409904901"
         ],
         "type": "scatter3d",
         "x": [
          2.06147895205444
         ],
         "y": [
          -1.42969677405097
         ],
         "z": [
          -0.25673617302017
         ]
        },
        {
         "customdata": [
          -0.110147605695378
         ],
         "hovertemplate": "Formality=%{y:.2f}<br>Activeness=%{x:.2f}<br>Valence=%{z:.2f}<br>Exchange=%{customdata:.2f}<br>Equality=%{text:.2f}<br>",
         "marker": {
          "color": "#E45E62",
          "size": 9.347748141805994
         },
         "mode": "markers",
         "name": "Soul mates",
         "opacity": 0.2741191069796578,
         "text": [
          "1.09447602223658"
         ],
         "type": "scatter3d",
         "x": [
          1.47954892838549
         ],
         "y": [
          -1.38139728232433
         ],
         "z": [
          0.169284406998879
         ]
        },
        {
         "customdata": [
          -0.336426012745854
         ],
         "hovertemplate": "Formality=%{y:.2f}<br>Activeness=%{x:.2f}<br>Valence=%{z:.2f}<br>Exchange=%{customdata:.2f}<br>Equality=%{text:.2f}<br>",
         "marker": {
          "color": "#6594BE",
          "size": 8.10819787126818
         },
         "mode": "markers",
         "name": "Strangers",
         "opacity": 0.2260235971949219,
         "text": [
          "0.515208983239534"
         ],
         "type": "scatter3d",
         "x": [
          -3.2267614687266
         ],
         "y": [
          0.0671482900668563
         ],
         "z": [
          1.13451334237683
         ]
        },
        {
         "customdata": [
          -0.422196490408921
         ],
         "hovertemplate": "Formality=%{y:.2f}<br>Activeness=%{x:.2f}<br>Valence=%{z:.2f}<br>Exchange=%{customdata:.2f}<br>Equality=%{text:.2f}<br>",
         "marker": {
          "color": "#4EC186",
          "size": 8.886322919759884
         },
         "mode": "markers",
         "name": "Neighbors",
         "opacity": 0.20779306914119863,
         "text": [
          "0.878842636123701"
         ],
         "type": "scatter3d",
         "x": [
          -0.563199344304467
         ],
         "y": [
          0.180503267832406
         ],
         "z": [
          0.485436474807728
         ]
        },
        {
         "customdata": [
          -0.719529793823646
         ],
         "hovertemplate": "Formality=%{y:.2f}<br>Activeness=%{x:.2f}<br>Valence=%{z:.2f}<br>Exchange=%{customdata:.2f}<br>Equality=%{text:.2f}<br>",
         "marker": {
          "color": "#E45E62",
          "size": 7.8497508084121534
         },
         "mode": "markers",
         "name": "Church members",
         "opacity": 0.14459483034274026,
         "text": [
          "0.394431417055681"
         ],
         "type": "scatter3d",
         "x": [
          -0.506556263261423
         ],
         "y": [
          0.107093900852471
         ],
         "z": [
          0.961439695196743
         ]
        },
        {
         "customdata": [
          -0.808975404599933
         ],
         "hovertemplate": "Formality=%{y:.2f}<br>Activeness=%{x:.2f}<br>Valence=%{z:.2f}<br>Exchange=%{customdata:.2f}<br>Equality=%{text:.2f}<br>",
         "marker": {
          "color": "#E45E62",
          "size": 9.501302273046148
         },
         "mode": "markers",
         "name": "Fans of the same sports team",
         "opacity": 0.12558315218763924,
         "text": [
          "1.16623498921309"
         ],
         "type": "scatter3d",
         "x": [
          -0.543923676297445
         ],
         "y": [
          0.118145953931829
         ],
         "z": [
          1.17476455369731
         ]
        },
        {
         "customdata": [
          -1.23559999443267
         ],
         "hovertemplate": "Formality=%{y:.2f}<br>Activeness=%{x:.2f}<br>Valence=%{z:.2f}<br>Exchange=%{customdata:.2f}<br>Equality=%{text:.2f}<br>",
         "marker": {
          "color": "#6594BE",
          "size": 8.513766330036596
         },
         "mode": "markers",
         "name": "Fans of opposing sports teams",
         "opacity": 0.03490403082484729,
         "text": [
          "0.704739368416606"
         ],
         "type": "scatter3d",
         "x": [
          -1.91250778359496
         ],
         "y": [
          0.206558105849776
         ],
         "z": [
          -0.789866719450093
         ]
        },
        {
         "customdata": [
          1.15844412182269
         ],
         "hovertemplate": "Formality=%{y:.2f}<br>Activeness=%{x:.2f}<br>Valence=%{z:.2f}<br>Exchange=%{customdata:.2f}<br>Equality=%{text:.2f}<br>",
         "marker": {
          "color": "#4EC186",
          "size": 5.5877853516462785
         },
         "mode": "markers",
         "name": "Superior-Subordinate",
         "opacity": 0.5437584713316879,
         "text": [
          "-0.662631022119024"
         ],
         "type": "scatter3d",
         "x": [
          0.603483963951435
         ],
         "y": [
          0.683222658770372
         ],
         "z": [
          -0.867180363211999
         ]
        },
        {
         "customdata": [
          -0.868693631245678
         ],
         "hovertemplate": "Formality=%{y:.2f}<br>Activeness=%{x:.2f}<br>Valence=%{z:.2f}<br>Exchange=%{customdata:.2f}<br>Equality=%{text:.2f}<br>",
         "marker": {
          "color": "#E45E62",
          "size": 4.842079582629367
         },
         "mode": "markers",
         "name": "Aunt-Niece(Nephew)",
         "opacity": 0.11289003404434769,
         "text": [
          "-1.01111448668559"
         ],
         "type": "scatter3d",
         "x": [
          0.748419799075112
         ],
         "y": [
          -0.939901021788685
         ],
         "z": [
          0.748703256624205
         ]
        },
        {
         "customdata": [
          -0.839354246677043
         ],
         "hovertemplate": "Formality=%{y:.2f}<br>Activeness=%{x:.2f}<br>Valence=%{z:.2f}<br>Exchange=%{customdata:.2f}<br>Equality=%{text:.2f}<br>",
         "marker": {
          "color": "#E45E62",
          "size": 4.903857257155513
         },
         "mode": "markers",
         "name": "Uncle-Niece(Nephew)",
         "opacity": 0.1191261246903462,
         "text": [
          "-0.982244523563112"
         ],
         "type": "scatter3d",
         "x": [
          0.796362275653772
         ],
         "y": [
          -0.898458229907263
         ],
         "z": [
          0.740669913166969
         ]
        },
        {
         "customdata": [
          -0.563038620444498
         ],
         "hovertemplate": "Formality=%{y:.2f}<br>Activeness=%{x:.2f}<br>Valence=%{z:.2f}<br>Exchange=%{customdata:.2f}<br>Equality=%{text:.2f}<br>",
         "marker": {
          "color": "#6594BE",
          "size": 9.653866436596743
         },
         "mode": "markers",
         "name": "Frenemies",
         "opacity": 0.17785705301166096,
         "text": [
          "1.23753132416421"
         ],
         "type": "scatter3d",
         "x": [
          -1.29392698934361
         ],
         "y": [
          -0.365196086280887
         ],
         "z": [
          -1.45136285834906
         ]
        },
        {
         "customdata": [
          -0.981639505216926
         ],
         "hovertemplate": "Formality=%{y:.2f}<br>Activeness=%{x:.2f}<br>Valence=%{z:.2f}<br>Exchange=%{customdata:.2f}<br>Equality=%{text:.2f}<br>",
         "marker": {
          "color": "#E45E62",
          "size": 8.813463968302354
         },
         "mode": "markers",
         "name": "Half siblings",
         "opacity": 0.08888337137804235,
         "text": [
          "0.844794167031018"
         ],
         "type": "scatter3d",
         "x": [
          0.60511160101673
         ],
         "y": [
          -0.673500326445699
         ],
         "z": [
          -0.313431042920766
         ]
        },
        {
         "customdata": [
          -0.827599252398706
         ],
         "hovertemplate": "Formality=%{y:.2f}<br>Activeness=%{x:.2f}<br>Valence=%{z:.2f}<br>Exchange=%{customdata:.2f}<br>Equality=%{text:.2f}<br>",
         "marker": {
          "color": "#E45E62",
          "size": 4.115885594056351
         },
         "mode": "markers",
         "name": "Adoptive parents-Adopted kids",
         "opacity": 0.12162465050950293,
         "text": [
          "-1.3504796996153"
         ],
         "type": "scatter3d",
         "x": [
          1.21164687139559
         ],
         "y": [
          -1.01265802351705
         ],
         "z": [
          0.0790228223968269
         ]
        },
        {
         "customdata": [
          -0.984355108037796
         ],
         "hovertemplate": "Formality=%{y:.2f}<br>Activeness=%{x:.2f}<br>Valence=%{z:.2f}<br>Exchange=%{customdata:.2f}<br>Equality=%{text:.2f}<br>",
         "marker": {
          "color": "#E45E62",
          "size": 2.75841988119595
         },
         "mode": "markers",
         "name": "Mother-Infant",
         "opacity": 0.08830616958603275,
         "text": [
          "-1.9848510217945"
         ],
         "type": "scatter3d",
         "x": [
          1.84355613615411
         ],
         "y": [
          -1.30628194772921
         ],
         "z": [
          0.339280510824645
         ]
        },
        {
         "customdata": [
          -0.489164251210095
         ],
         "hovertemplate": "Formality=%{y:.2f}<br>Activeness=%{x:.2f}<br>Valence=%{z:.2f}<br>Exchange=%{customdata:.2f}<br>Equality=%{text:.2f}<br>",
         "marker": {
          "color": "#6594BE",
          "size": 10.00515609598738
         },
         "mode": "markers",
         "name": "Alumni",
         "opacity": 0.1935590614121437,
         "text": [
          "1.40169612301275"
         ],
         "type": "scatter3d",
         "x": [
          -1.18465896793278
         ],
         "y": [
          0.518380200553391
         ],
         "z": [
          0.691982960049404
         ]
        },
        {
         "customdata": [
          0.679818171906283
         ],
         "hovertemplate": "Formality=%{y:.2f}<br>Activeness=%{x:.2f}<br>Valence=%{z:.2f}<br>Exchange=%{customdata:.2f}<br>Equality=%{text:.2f}<br>",
         "marker": {
          "color": "#4EC186",
          "size": 6.234969584780048
         },
         "mode": "markers",
         "name": "A monarch and their minister",
         "opacity": 0.4420264529853768,
         "text": [
          "-0.36018867401618"
         ],
         "type": "scatter3d",
         "x": [
          0.150367853848862
         ],
         "y": [
          0.989982532660255
         ],
         "z": [
          -0.673273244041891
         ]
        },
        {
         "customdata": [
          -0.390059282211026
         ],
         "hovertemplate": "Formality=%{y:.2f}<br>Activeness=%{x:.2f}<br>Valence=%{z:.2f}<br>Exchange=%{customdata:.2f}<br>Equality=%{text:.2f}<br>",
         "marker": {
          "color": "#E45E62",
          "size": 9.020856132535501
         },
         "mode": "markers",
         "name": "Confidants",
         "opacity": 0.21462383762451737,
         "text": [
          "0.941712741244551"
         ],
         "type": "scatter3d",
         "x": [
          0.486263209204353
         ],
         "y": [
          -0.617183699752776
         ],
         "z": [
          0.50763250672886
         ]
        },
        {
         "customdata": [
          -0.0467439714138614
         ],
         "hovertemplate": "Formality=%{y:.2f}<br>Activeness=%{x:.2f}<br>Valence=%{z:.2f}<br>Exchange=%{customdata:.2f}<br>Equality=%{text:.2f}<br>",
         "marker": {
          "color": "#E45E62",
          "size": 9.141408891986691
         },
         "mode": "markers",
         "name": "A person and their significant other",
         "opacity": 0.2875955590756559,
         "text": [
          "0.998049496332278"
         ],
         "type": "scatter3d",
         "x": [
          1.72143495424507
         ],
         "y": [
          -1.5326367163095
         ],
         "z": [
          -0.150445668147011
         ]
        },
        {
         "customdata": [
          0.0856440342192783
         ],
         "hovertemplate": "Formality=%{y:.2f}<br>Activeness=%{x:.2f}<br>Valence=%{z:.2f}<br>Exchange=%{customdata:.2f}<br>Equality=%{text:.2f}<br>",
         "marker": {
          "color": "#E45E62",
          "size": 9.522293852334762
         },
         "mode": "markers",
         "name": "Companions",
         "opacity": 0.31573464977948074,
         "text": [
          "1.17604478093143"
         ],
         "type": "scatter3d",
         "x": [
          0.620944348036643
         ],
         "y": [
          -0.15328711894997
         ],
         "z": [
          0.47812357413141
         ]
        },
        {
         "customdata": [
          -0.161127178246977
         ],
         "hovertemplate": "Formality=%{y:.2f}<br>Activeness=%{x:.2f}<br>Valence=%{z:.2f}<br>Exchange=%{customdata:.2f}<br>Equality=%{text:.2f}<br>",
         "marker": {
          "color": "#E45E62",
          "size": 9.928415205144287
         },
         "mode": "markers",
         "name": "Playmates",
         "opacity": 0.2632833910912649,
         "text": [
          "1.36583354473314"
         ],
         "type": "scatter3d",
         "x": [
          0.59652928722783
         ],
         "y": [
          -0.0690940774329134
         ],
         "z": [
          0.370935999258708
         ]
        },
        {
         "customdata": [
          -0.585351659485193
         ],
         "hovertemplate": "Formality=%{y:.2f}<br>Activeness=%{x:.2f}<br>Valence=%{z:.2f}<br>Exchange=%{customdata:.2f}<br>Equality=%{text:.2f}<br>",
         "marker": {
          "color": "#6594BE",
          "size": 9.029331231789516
         },
         "mode": "markers",
         "name": "Competitors in sports",
         "opacity": 0.17311441317475623,
         "text": [
          "0.945673327407748"
         ],
         "type": "scatter3d",
         "x": [
          -0.21761222318108
         ],
         "y": [
          1.20271715191331
         ],
         "z": [
          -1.49496898182311
         ]
        },
        {
         "customdata": [
          -0.24680019459324
         ],
         "hovertemplate": "Formality=%{y:.2f}<br>Activeness=%{x:.2f}<br>Valence=%{z:.2f}<br>Exchange=%{customdata:.2f}<br>Equality=%{text:.2f}<br>",
         "marker": {
          "color": "#E45E62",
          "size": 6.982033055494361
         },
         "mode": "markers",
         "name": "A person and their crush",
         "opacity": 0.2450735784552303,
         "text": [
          "-0.0110707278470621"
         ],
         "type": "scatter3d",
         "x": [
          -0.85655859201726
         ],
         "y": [
          -1.931024881752
         ],
         "z": [
          0.627648733494357
         ]
        },
        {
         "customdata": [
          0.508667086955576
         ],
         "hovertemplate": "Formality=%{y:.2f}<br>Activeness=%{x:.2f}<br>Valence=%{z:.2f}<br>Exchange=%{customdata:.2f}<br>Equality=%{text:.2f}<br>",
         "marker": {
          "color": "#E45E62",
          "size": 8.746116627539175
         },
         "mode": "markers",
         "name": "Cohabitants",
         "opacity": 0.40564826388543906,
         "text": [
          "0.813321385655814"
         ],
         "type": "scatter3d",
         "x": [
          0.90252578389782
         ],
         "y": [
          -1.01757403327498
         ],
         "z": [
          -0.130276999946818
         ]
        },
        {
         "customdata": [
          -0.119066356649144
         ],
         "hovertemplate": "Formality=%{y:.2f}<br>Activeness=%{x:.2f}<br>Valence=%{z:.2f}<br>Exchange=%{customdata:.2f}<br>Equality=%{text:.2f}<br>",
         "marker": {
          "color": "#E45E62",
          "size": 9.828908012340051
         },
         "mode": "markers",
         "name": "Long-distance lovers",
         "opacity": 0.2722234251098946,
         "text": [
          "1.31933181075376"
         ],
         "type": "scatter3d",
         "x": [
          -0.125682384319095
         ],
         "y": [
          -1.63390596988629
         ],
         "z": [
          0.788866218806996
         ]
        },
        {
         "customdata": [
          -0.246738416477759
         ],
         "hovertemplate": "Formality=%{y:.2f}<br>Activeness=%{x:.2f}<br>Valence=%{z:.2f}<br>Exchange=%{customdata:.2f}<br>Equality=%{text:.2f}<br>",
         "marker": {
          "color": "#E45E62",
          "size": 8.341255150635657
         },
         "mode": "markers",
         "name": "Brothers in-arms",
         "opacity": 0.24508670940305838,
         "text": [
          "0.624121387475735"
         ],
         "type": "scatter3d",
         "x": [
          0.392401456887438
         ],
         "y": [
          0.138519203619256
         ],
         "z": [
          0.242347897797727
         ]
        }
       ],
       "layout": {
        "font": {
         "size": 12
        },
        "height": 800,
        "scene": {
         "xaxis": {
          "title": {
           "text": ""
          },
          "visible": false
         },
         "yaxis": {
          "title": {
           "text": ""
          },
          "visible": false
         },
         "zaxis": {
          "title": {
           "text": ""
          },
          "visible": false
         }
        },
        "showlegend": false,
        "template": {
         "data": {
          "bar": [
           {
            "error_x": {
             "color": "#2a3f5f"
            },
            "error_y": {
             "color": "#2a3f5f"
            },
            "marker": {
             "line": {
              "color": "#E5ECF6",
              "width": 0.5
             },
             "pattern": {
              "fillmode": "overlay",
              "size": 10,
              "solidity": 0.2
             }
            },
            "type": "bar"
           }
          ],
          "barpolar": [
           {
            "marker": {
             "line": {
              "color": "#E5ECF6",
              "width": 0.5
             },
             "pattern": {
              "fillmode": "overlay",
              "size": 10,
              "solidity": 0.2
             }
            },
            "type": "barpolar"
           }
          ],
          "carpet": [
           {
            "aaxis": {
             "endlinecolor": "#2a3f5f",
             "gridcolor": "white",
             "linecolor": "white",
             "minorgridcolor": "white",
             "startlinecolor": "#2a3f5f"
            },
            "baxis": {
             "endlinecolor": "#2a3f5f",
             "gridcolor": "white",
             "linecolor": "white",
             "minorgridcolor": "white",
             "startlinecolor": "#2a3f5f"
            },
            "type": "carpet"
           }
          ],
          "choropleth": [
           {
            "colorbar": {
             "outlinewidth": 0,
             "ticks": ""
            },
            "type": "choropleth"
           }
          ],
          "contour": [
           {
            "colorbar": {
             "outlinewidth": 0,
             "ticks": ""
            },
            "colorscale": [
             [
              0,
              "#0d0887"
             ],
             [
              0.1111111111111111,
              "#46039f"
             ],
             [
              0.2222222222222222,
              "#7201a8"
             ],
             [
              0.3333333333333333,
              "#9c179e"
             ],
             [
              0.4444444444444444,
              "#bd3786"
             ],
             [
              0.5555555555555556,
              "#d8576b"
             ],
             [
              0.6666666666666666,
              "#ed7953"
             ],
             [
              0.7777777777777778,
              "#fb9f3a"
             ],
             [
              0.8888888888888888,
              "#fdca26"
             ],
             [
              1,
              "#f0f921"
             ]
            ],
            "type": "contour"
           }
          ],
          "contourcarpet": [
           {
            "colorbar": {
             "outlinewidth": 0,
             "ticks": ""
            },
            "type": "contourcarpet"
           }
          ],
          "heatmap": [
           {
            "colorbar": {
             "outlinewidth": 0,
             "ticks": ""
            },
            "colorscale": [
             [
              0,
              "#0d0887"
             ],
             [
              0.1111111111111111,
              "#46039f"
             ],
             [
              0.2222222222222222,
              "#7201a8"
             ],
             [
              0.3333333333333333,
              "#9c179e"
             ],
             [
              0.4444444444444444,
              "#bd3786"
             ],
             [
              0.5555555555555556,
              "#d8576b"
             ],
             [
              0.6666666666666666,
              "#ed7953"
             ],
             [
              0.7777777777777778,
              "#fb9f3a"
             ],
             [
              0.8888888888888888,
              "#fdca26"
             ],
             [
              1,
              "#f0f921"
             ]
            ],
            "type": "heatmap"
           }
          ],
          "heatmapgl": [
           {
            "colorbar": {
             "outlinewidth": 0,
             "ticks": ""
            },
            "colorscale": [
             [
              0,
              "#0d0887"
             ],
             [
              0.1111111111111111,
              "#46039f"
             ],
             [
              0.2222222222222222,
              "#7201a8"
             ],
             [
              0.3333333333333333,
              "#9c179e"
             ],
             [
              0.4444444444444444,
              "#bd3786"
             ],
             [
              0.5555555555555556,
              "#d8576b"
             ],
             [
              0.6666666666666666,
              "#ed7953"
             ],
             [
              0.7777777777777778,
              "#fb9f3a"
             ],
             [
              0.8888888888888888,
              "#fdca26"
             ],
             [
              1,
              "#f0f921"
             ]
            ],
            "type": "heatmapgl"
           }
          ],
          "histogram": [
           {
            "marker": {
             "pattern": {
              "fillmode": "overlay",
              "size": 10,
              "solidity": 0.2
             }
            },
            "type": "histogram"
           }
          ],
          "histogram2d": [
           {
            "colorbar": {
             "outlinewidth": 0,
             "ticks": ""
            },
            "colorscale": [
             [
              0,
              "#0d0887"
             ],
             [
              0.1111111111111111,
              "#46039f"
             ],
             [
              0.2222222222222222,
              "#7201a8"
             ],
             [
              0.3333333333333333,
              "#9c179e"
             ],
             [
              0.4444444444444444,
              "#bd3786"
             ],
             [
              0.5555555555555556,
              "#d8576b"
             ],
             [
              0.6666666666666666,
              "#ed7953"
             ],
             [
              0.7777777777777778,
              "#fb9f3a"
             ],
             [
              0.8888888888888888,
              "#fdca26"
             ],
             [
              1,
              "#f0f921"
             ]
            ],
            "type": "histogram2d"
           }
          ],
          "histogram2dcontour": [
           {
            "colorbar": {
             "outlinewidth": 0,
             "ticks": ""
            },
            "colorscale": [
             [
              0,
              "#0d0887"
             ],
             [
              0.1111111111111111,
              "#46039f"
             ],
             [
              0.2222222222222222,
              "#7201a8"
             ],
             [
              0.3333333333333333,
              "#9c179e"
             ],
             [
              0.4444444444444444,
              "#bd3786"
             ],
             [
              0.5555555555555556,
              "#d8576b"
             ],
             [
              0.6666666666666666,
              "#ed7953"
             ],
             [
              0.7777777777777778,
              "#fb9f3a"
             ],
             [
              0.8888888888888888,
              "#fdca26"
             ],
             [
              1,
              "#f0f921"
             ]
            ],
            "type": "histogram2dcontour"
           }
          ],
          "mesh3d": [
           {
            "colorbar": {
             "outlinewidth": 0,
             "ticks": ""
            },
            "type": "mesh3d"
           }
          ],
          "parcoords": [
           {
            "line": {
             "colorbar": {
              "outlinewidth": 0,
              "ticks": ""
             }
            },
            "type": "parcoords"
           }
          ],
          "pie": [
           {
            "automargin": true,
            "type": "pie"
           }
          ],
          "scatter": [
           {
            "marker": {
             "colorbar": {
              "outlinewidth": 0,
              "ticks": ""
             }
            },
            "type": "scatter"
           }
          ],
          "scatter3d": [
           {
            "line": {
             "colorbar": {
              "outlinewidth": 0,
              "ticks": ""
             }
            },
            "marker": {
             "colorbar": {
              "outlinewidth": 0,
              "ticks": ""
             }
            },
            "type": "scatter3d"
           }
          ],
          "scattercarpet": [
           {
            "marker": {
             "colorbar": {
              "outlinewidth": 0,
              "ticks": ""
             }
            },
            "type": "scattercarpet"
           }
          ],
          "scattergeo": [
           {
            "marker": {
             "colorbar": {
              "outlinewidth": 0,
              "ticks": ""
             }
            },
            "type": "scattergeo"
           }
          ],
          "scattergl": [
           {
            "marker": {
             "colorbar": {
              "outlinewidth": 0,
              "ticks": ""
             }
            },
            "type": "scattergl"
           }
          ],
          "scattermapbox": [
           {
            "marker": {
             "colorbar": {
              "outlinewidth": 0,
              "ticks": ""
             }
            },
            "type": "scattermapbox"
           }
          ],
          "scatterpolar": [
           {
            "marker": {
             "colorbar": {
              "outlinewidth": 0,
              "ticks": ""
             }
            },
            "type": "scatterpolar"
           }
          ],
          "scatterpolargl": [
           {
            "marker": {
             "colorbar": {
              "outlinewidth": 0,
              "ticks": ""
             }
            },
            "type": "scatterpolargl"
           }
          ],
          "scatterternary": [
           {
            "marker": {
             "colorbar": {
              "outlinewidth": 0,
              "ticks": ""
             }
            },
            "type": "scatterternary"
           }
          ],
          "surface": [
           {
            "colorbar": {
             "outlinewidth": 0,
             "ticks": ""
            },
            "colorscale": [
             [
              0,
              "#0d0887"
             ],
             [
              0.1111111111111111,
              "#46039f"
             ],
             [
              0.2222222222222222,
              "#7201a8"
             ],
             [
              0.3333333333333333,
              "#9c179e"
             ],
             [
              0.4444444444444444,
              "#bd3786"
             ],
             [
              0.5555555555555556,
              "#d8576b"
             ],
             [
              0.6666666666666666,
              "#ed7953"
             ],
             [
              0.7777777777777778,
              "#fb9f3a"
             ],
             [
              0.8888888888888888,
              "#fdca26"
             ],
             [
              1,
              "#f0f921"
             ]
            ],
            "type": "surface"
           }
          ],
          "table": [
           {
            "cells": {
             "fill": {
              "color": "#EBF0F8"
             },
             "line": {
              "color": "white"
             }
            },
            "header": {
             "fill": {
              "color": "#C8D4E3"
             },
             "line": {
              "color": "white"
             }
            },
            "type": "table"
           }
          ]
         },
         "layout": {
          "annotationdefaults": {
           "arrowcolor": "#2a3f5f",
           "arrowhead": 0,
           "arrowwidth": 1
          },
          "autotypenumbers": "strict",
          "coloraxis": {
           "colorbar": {
            "outlinewidth": 0,
            "ticks": ""
           }
          },
          "colorscale": {
           "diverging": [
            [
             0,
             "#8e0152"
            ],
            [
             0.1,
             "#c51b7d"
            ],
            [
             0.2,
             "#de77ae"
            ],
            [
             0.3,
             "#f1b6da"
            ],
            [
             0.4,
             "#fde0ef"
            ],
            [
             0.5,
             "#f7f7f7"
            ],
            [
             0.6,
             "#e6f5d0"
            ],
            [
             0.7,
             "#b8e186"
            ],
            [
             0.8,
             "#7fbc41"
            ],
            [
             0.9,
             "#4d9221"
            ],
            [
             1,
             "#276419"
            ]
           ],
           "sequential": [
            [
             0,
             "#0d0887"
            ],
            [
             0.1111111111111111,
             "#46039f"
            ],
            [
             0.2222222222222222,
             "#7201a8"
            ],
            [
             0.3333333333333333,
             "#9c179e"
            ],
            [
             0.4444444444444444,
             "#bd3786"
            ],
            [
             0.5555555555555556,
             "#d8576b"
            ],
            [
             0.6666666666666666,
             "#ed7953"
            ],
            [
             0.7777777777777778,
             "#fb9f3a"
            ],
            [
             0.8888888888888888,
             "#fdca26"
            ],
            [
             1,
             "#f0f921"
            ]
           ],
           "sequentialminus": [
            [
             0,
             "#0d0887"
            ],
            [
             0.1111111111111111,
             "#46039f"
            ],
            [
             0.2222222222222222,
             "#7201a8"
            ],
            [
             0.3333333333333333,
             "#9c179e"
            ],
            [
             0.4444444444444444,
             "#bd3786"
            ],
            [
             0.5555555555555556,
             "#d8576b"
            ],
            [
             0.6666666666666666,
             "#ed7953"
            ],
            [
             0.7777777777777778,
             "#fb9f3a"
            ],
            [
             0.8888888888888888,
             "#fdca26"
            ],
            [
             1,
             "#f0f921"
            ]
           ]
          },
          "colorway": [
           "#636efa",
           "#EF553B",
           "#00cc96",
           "#ab63fa",
           "#FFA15A",
           "#19d3f3",
           "#FF6692",
           "#B6E880",
           "#FF97FF",
           "#FECB52"
          ],
          "font": {
           "color": "#2a3f5f"
          },
          "geo": {
           "bgcolor": "white",
           "lakecolor": "white",
           "landcolor": "#E5ECF6",
           "showlakes": true,
           "showland": true,
           "subunitcolor": "white"
          },
          "hoverlabel": {
           "align": "left"
          },
          "hovermode": "closest",
          "mapbox": {
           "style": "light"
          },
          "paper_bgcolor": "white",
          "plot_bgcolor": "#E5ECF6",
          "polar": {
           "angularaxis": {
            "gridcolor": "white",
            "linecolor": "white",
            "ticks": ""
           },
           "bgcolor": "#E5ECF6",
           "radialaxis": {
            "gridcolor": "white",
            "linecolor": "white",
            "ticks": ""
           }
          },
          "scene": {
           "xaxis": {
            "backgroundcolor": "#E5ECF6",
            "gridcolor": "white",
            "gridwidth": 2,
            "linecolor": "white",
            "showbackground": true,
            "ticks": "",
            "zerolinecolor": "white"
           },
           "yaxis": {
            "backgroundcolor": "#E5ECF6",
            "gridcolor": "white",
            "gridwidth": 2,
            "linecolor": "white",
            "showbackground": true,
            "ticks": "",
            "zerolinecolor": "white"
           },
           "zaxis": {
            "backgroundcolor": "#E5ECF6",
            "gridcolor": "white",
            "gridwidth": 2,
            "linecolor": "white",
            "showbackground": true,
            "ticks": "",
            "zerolinecolor": "white"
           }
          },
          "shapedefaults": {
           "line": {
            "color": "#2a3f5f"
           }
          },
          "ternary": {
           "aaxis": {
            "gridcolor": "white",
            "linecolor": "white",
            "ticks": ""
           },
           "baxis": {
            "gridcolor": "white",
            "linecolor": "white",
            "ticks": ""
           },
           "bgcolor": "#E5ECF6",
           "caxis": {
            "gridcolor": "white",
            "linecolor": "white",
            "ticks": ""
           }
          },
          "title": {
           "x": 0.05
          },
          "xaxis": {
           "automargin": true,
           "gridcolor": "white",
           "linecolor": "white",
           "ticks": "",
           "title": {
            "standoff": 15
           },
           "zerolinecolor": "white",
           "zerolinewidth": 2
          },
          "yaxis": {
           "automargin": true,
           "gridcolor": "white",
           "linecolor": "white",
           "ticks": "",
           "title": {
            "standoff": 15
           },
           "zerolinecolor": "white",
           "zerolinewidth": 2
          }
         }
        },
        "width": 800
       }
      }
     },
     "metadata": {},
     "output_type": "display_data"
    },
    {
     "data": {
      "text/plain": [
       "'output_graph/Averaged_world_model_cube_galaxy.html'"
      ]
     },
     "execution_count": 11,
     "metadata": {},
     "output_type": "execute_result"
    }
   ],
   "source": [
    "trace0 = []\n",
    "for i in range(159):\n",
    "    plot_temp = plot_df.iloc[i,:] #Slice input data\n",
    "    trace0.append(go.Scatter3d(x=[plot_temp.xActiveness],\n",
    "                             y=[plot_temp.yFormality],\n",
    "                             z=[plot_temp.zValence],\n",
    "                             mode='markers',\n",
    "                             opacity=plot_temp.Exchange_plot,\n",
    "                             name = plot_temp.rel,\n",
    "                             text=[plot_temp.Equality],\n",
    "                             customdata=[plot_temp.Exchange],  \n",
    "                             hovertemplate= \n",
    "                             'Formality=%{y:.2f}<br>'+\n",
    "                             'Activeness=%{x:.2f}<br>'+\n",
    "                             'Valence=%{z:.2f}<br>'+\n",
    "                             'Exchange=%{customdata:.2f}<br>'+\n",
    "                             'Equality=%{text:.2f}<br>',\n",
    "                             \n",
    "                             \n",
    "#         hovertemplate='<br>'.join([\n",
    "#         '%{name}','Formality=%{y:.2f}','Activeness=%{x:.2f}',\n",
    "#         'Valence=%{z:.2f}','Exchange=%{customdata[1]}<extra></extra>']\n",
    "#         ),\n",
    "                             marker=dict(color=plot_temp.color,\n",
    "                                         size=plot_temp.Equality_plot*10+2)))\n",
    "\n",
    "fig = go.Figure(data=trace0)\n",
    "#fig.update_xaxes(overwrite=True,title={'text':'Activeness'})\n",
    "fig.update_layout(\n",
    "                scene=dict(\n",
    "                # title\n",
    "                #xaxis_title='Activeness',\n",
    "                #yaxis_title='Formality',\n",
    "                #zaxis_title='Valence',\n",
    "                xaxis_title='',yaxis_title='',zaxis_title='',\n",
    "                # axes\n",
    "                xaxis = dict(visible =False),\n",
    "                yaxis = dict(visible =False),\n",
    "                zaxis = dict(visible =False)),\n",
    "                # legend\n",
    "                showlegend=False,  \n",
    "                  \n",
    "                width=800,height=800,\n",
    "                font_size =12\n",
    "                )\n",
    "fig.show() \n",
    "plotly.offline.plot(fig,filename='output_graph/Averaged_world_model_cube_galaxy.html')     "
   ]
  },
  {
   "cell_type": "code",
   "execution_count": 12,
   "id": "22171af6",
   "metadata": {
    "ExecuteTime": {
     "end_time": "2023-02-12T08:05:14.238137Z",
     "start_time": "2023-02-12T08:05:14.033228Z"
    }
   },
   "outputs": [
    {
     "data": {
      "text/plain": [
       "'output_graph/Averaged_world_model_cube_galaxy_axes.html'"
      ]
     },
     "execution_count": 12,
     "metadata": {},
     "output_type": "execute_result"
    }
   ],
   "source": [
    "trace0 = []\n",
    "for i in range(159):\n",
    "    plot_temp = plot_df.iloc[i,:] #Slice input data\n",
    "    trace0.append(go.Scatter3d(x=[plot_temp.xActiveness],\n",
    "                             y=[plot_temp.yFormality],\n",
    "                             z=[plot_temp.zValence],\n",
    "                             mode='markers',\n",
    "                             opacity=plot_temp.Exchange_plot,\n",
    "                             name = plot_temp.rel,\n",
    "                             text=[plot_temp.Equality],\n",
    "                             customdata=[plot_temp.Exchange],  \n",
    "                             hovertemplate= \n",
    "                             'Formality=%{y:.2f}<br>'+\n",
    "                             'Activeness=%{x:.2f}<br>'+\n",
    "                             'Valence=%{z:.2f}<br>'+\n",
    "                             'Exchange=%{customdata:.2f}<br>'+\n",
    "                             'Equality=%{text:.2f}<br>',\n",
    "                             \n",
    "                             \n",
    "#         hovertemplate='<br>'.join([\n",
    "#         '%{name}','Formality=%{y:.2f}','Activeness=%{x:.2f}',\n",
    "#         'Valence=%{z:.2f}','Exchange=%{customdata[1]}<extra></extra>']\n",
    "#         ),\n",
    "                             marker=dict(color=plot_temp.color,\n",
    "                                         size=plot_temp.Equality_plot*10+2)))\n",
    "\n",
    "fig = go.Figure(data=trace0)\n",
    "#fig.update_xaxes(overwrite=True,title={'text':'Activeness'})\n",
    "fig.update_layout(\n",
    "                scene=dict(\n",
    "                # title\n",
    "                xaxis_title='Activeness',\n",
    "                yaxis_title='Formality',\n",
    "                zaxis_title='Valence',\n",
    "                # axes\n",
    "                xaxis = dict(\n",
    "                         backgroundcolor=\"#F2F2F2\",\n",
    "                         showgrid=False,zeroline=False,\n",
    "                         showbackground=False,\n",
    "                         zerolinecolor=\"white\"),\n",
    "                yaxis = dict(\n",
    "                         backgroundcolor=\"#F2F2F2\",\n",
    "                         showgrid=False,zeroline=False,\n",
    "                         showbackground=False,\n",
    "                         zerolinecolor=\"white\"),\n",
    "                zaxis = dict(\n",
    "                         backgroundcolor=\"#F2F2F2\",\n",
    "                         showgrid=False,zeroline=False,\n",
    "                         showbackground=False,\n",
    "                         zerolinecolor=\"white\")),\n",
    "                # legend\n",
    "                showlegend=False,  \n",
    "                  \n",
    "                width=800,height=800,\n",
    "                font_size =12\n",
    "                )\n",
    "plotly.offline.plot(fig,filename='output_graph/Averaged_world_model_cube_galaxy_axes.html')     "
   ]
  }
 ],
 "metadata": {
  "kernelspec": {
   "display_name": "base",
   "language": "python",
   "name": "python3"
  },
  "language_info": {
   "codemirror_mode": {
    "name": "ipython",
    "version": 3
   },
   "file_extension": ".py",
   "mimetype": "text/x-python",
   "name": "python",
   "nbconvert_exporter": "python",
   "pygments_lexer": "ipython3",
   "version": "3.9.12"
  },
  "latex_envs": {
   "LaTeX_envs_menu_present": true,
   "autoclose": false,
   "autocomplete": true,
   "bibliofile": "biblio.bib",
   "cite_by": "apalike",
   "current_citInitial": 1,
   "eqLabelWithNumbers": true,
   "eqNumInitial": 1,
   "hotkeys": {
    "equation": "Ctrl-E",
    "itemize": "Ctrl-I"
   },
   "labels_anchors": false,
   "latex_user_defs": false,
   "report_style_numbering": false,
   "user_envs_cfg": false
  },
  "toc": {
   "base_numbering": 1,
   "nav_menu": {},
   "number_sections": true,
   "sideBar": true,
   "skip_h1_title": false,
   "title_cell": "Table of Contents",
   "title_sidebar": "Contents",
   "toc_cell": false,
   "toc_position": {},
   "toc_section_display": true,
   "toc_window_display": false
  },
  "varInspector": {
   "cols": {
    "lenName": 16,
    "lenType": 16,
    "lenVar": 40
   },
   "kernels_config": {
    "python": {
     "delete_cmd_postfix": "",
     "delete_cmd_prefix": "del ",
     "library": "var_list.py",
     "varRefreshCmd": "print(var_dic_list())"
    },
    "r": {
     "delete_cmd_postfix": ") ",
     "delete_cmd_prefix": "rm(",
     "library": "var_list.r",
     "varRefreshCmd": "cat(var_dic_list()) "
    }
   },
   "types_to_exclude": [
    "module",
    "function",
    "builtin_function_or_method",
    "instance",
    "_Feature"
   ],
   "window_display": false
  }
 },
 "nbformat": 4,
 "nbformat_minor": 5
}
