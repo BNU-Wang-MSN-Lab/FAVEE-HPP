{
 "cells": [
  {
   "cell_type": "markdown",
   "id": "7fbf5950",
   "metadata": {
    "toc": true
   },
   "source": [
    "<h1>Table of Contents<span class=\"tocSkip\"></span></h1>\n",
    "<div class=\"toc\"><ul class=\"toc-item\"><li><span><a href=\"#Predictor-variable-rdm\" data-toc-modified-id=\"Predictor-variable-rdm-1\"><span class=\"toc-item-num\">1&nbsp;&nbsp;</span>Predictor variable rdm</a></span></li><li><span><a href=\"#Full-feature-model\" data-toc-modified-id=\"Full-feature-model-2\"><span class=\"toc-item-num\">2&nbsp;&nbsp;</span>Full feature model</a></span><ul class=\"toc-item\"><li><span><a href=\"#regression-coefficient\" data-toc-modified-id=\"regression-coefficient-2.1\"><span class=\"toc-item-num\">2.1&nbsp;&nbsp;</span>regression coefficient</a></span></li><li><span><a href=\"#permutation\" data-toc-modified-id=\"permutation-2.2\"><span class=\"toc-item-num\">2.2&nbsp;&nbsp;</span>permutation</a></span></li></ul></li><li><span><a href=\"#Dimensional-model\" data-toc-modified-id=\"Dimensional-model-3\"><span class=\"toc-item-num\">3&nbsp;&nbsp;</span>Dimensional model</a></span><ul class=\"toc-item\"><li><span><a href=\"#regression-coefficient\" data-toc-modified-id=\"regression-coefficient-3.1\"><span class=\"toc-item-num\">3.1&nbsp;&nbsp;</span>regression coefficient</a></span></li><li><span><a href=\"#permutation\" data-toc-modified-id=\"permutation-3.2\"><span class=\"toc-item-num\">3.2&nbsp;&nbsp;</span>permutation</a></span></li></ul></li><li><span><a href=\"#Categorical-model\" data-toc-modified-id=\"Categorical-model-4\"><span class=\"toc-item-num\">4&nbsp;&nbsp;</span>Categorical model</a></span><ul class=\"toc-item\"><li><span><a href=\"#regression-coefficient\" data-toc-modified-id=\"regression-coefficient-4.1\"><span class=\"toc-item-num\">4.1&nbsp;&nbsp;</span>regression coefficient</a></span></li><li><span><a href=\"#permutation\" data-toc-modified-id=\"permutation-4.2\"><span class=\"toc-item-num\">4.2&nbsp;&nbsp;</span>permutation</a></span></li></ul></li><li><span><a href=\"#Plot-RSA-regression-results-in-Main-Text\" data-toc-modified-id=\"Plot-RSA-regression-results-in-Main-Text-5\"><span class=\"toc-item-num\">5&nbsp;&nbsp;</span>Plot RSA regression results in Main Text</a></span><ul class=\"toc-item\"><li><span><a href=\"#bar-plot\" data-toc-modified-id=\"bar-plot-5.1\"><span class=\"toc-item-num\">5.1&nbsp;&nbsp;</span>bar plot</a></span></li><li><span><a href=\"#scatter-plot\" data-toc-modified-id=\"scatter-plot-5.2\"><span class=\"toc-item-num\">5.2&nbsp;&nbsp;</span>scatter plot</a></span><ul class=\"toc-item\"><li><span><a href=\"#full-feature\" data-toc-modified-id=\"full-feature-5.2.1\"><span class=\"toc-item-num\">5.2.1&nbsp;&nbsp;</span>full feature</a></span></li><li><span><a href=\"#favee\" data-toc-modified-id=\"favee-5.2.2\"><span class=\"toc-item-num\">5.2.2&nbsp;&nbsp;</span>favee</a></span></li><li><span><a href=\"#hpp\" data-toc-modified-id=\"hpp-5.2.3\"><span class=\"toc-item-num\">5.2.3&nbsp;&nbsp;</span>hpp</a></span></li></ul></li></ul></li><li><span><a href=\"#Dimensional:-single-dimension\" data-toc-modified-id=\"Dimensional:-single-dimension-6\"><span class=\"toc-item-num\">6&nbsp;&nbsp;</span>Dimensional: single dimension</a></span><ul class=\"toc-item\"><li><span><a href=\"#Formality\" data-toc-modified-id=\"Formality-6.1\"><span class=\"toc-item-num\">6.1&nbsp;&nbsp;</span>Formality</a></span></li><li><span><a href=\"#Activeness\" data-toc-modified-id=\"Activeness-6.2\"><span class=\"toc-item-num\">6.2&nbsp;&nbsp;</span>Activeness</a></span></li><li><span><a href=\"#Valence\" data-toc-modified-id=\"Valence-6.3\"><span class=\"toc-item-num\">6.3&nbsp;&nbsp;</span>Valence</a></span></li><li><span><a href=\"#Exchange\" data-toc-modified-id=\"Exchange-6.4\"><span class=\"toc-item-num\">6.4&nbsp;&nbsp;</span>Exchange</a></span></li><li><span><a href=\"#Equality\" data-toc-modified-id=\"Equality-6.5\"><span class=\"toc-item-num\">6.5&nbsp;&nbsp;</span>Equality</a></span></li></ul></li><li><span><a href=\"#Categorical:-single-category\" data-toc-modified-id=\"Categorical:-single-category-7\"><span class=\"toc-item-num\">7&nbsp;&nbsp;</span>Categorical: single category</a></span><ul class=\"toc-item\"><li><span><a href=\"#Hostile\" data-toc-modified-id=\"Hostile-7.1\"><span class=\"toc-item-num\">7.1&nbsp;&nbsp;</span>Hostile</a></span></li><li><span><a href=\"#Private\" data-toc-modified-id=\"Private-7.2\"><span class=\"toc-item-num\">7.2&nbsp;&nbsp;</span>Private</a></span></li><li><span><a href=\"#Public\" data-toc-modified-id=\"Public-7.3\"><span class=\"toc-item-num\">7.3&nbsp;&nbsp;</span>Public</a></span></li></ul></li></ul></div>"
   ]
  },
  {
   "cell_type": "code",
   "execution_count": 1,
   "id": "cf153305",
   "metadata": {
    "ExecuteTime": {
     "end_time": "2023-10-29T12:09:35.991208Z",
     "start_time": "2023-10-29T12:09:33.549Z"
    },
    "vscode": {
     "languageId": "r"
    }
   },
   "outputs": [
    {
     "name": "stderr",
     "output_type": "stream",
     "text": [
      "-- \u001b[1mAttaching core tidyverse packages\u001b[22m ------------------------ tidyverse 2.0.0 --\n",
      "\u001b[32mv\u001b[39m \u001b[34mdplyr    \u001b[39m 1.1.0     \u001b[32mv\u001b[39m \u001b[34mreadr    \u001b[39m 2.1.4\n",
      "\u001b[32mv\u001b[39m \u001b[34mforcats  \u001b[39m 1.0.0     \u001b[32mv\u001b[39m \u001b[34mstringr  \u001b[39m 1.5.0\n",
      "\u001b[32mv\u001b[39m \u001b[34mggplot2  \u001b[39m 3.4.1     \u001b[32mv\u001b[39m \u001b[34mtibble   \u001b[39m 3.1.7\n",
      "\u001b[32mv\u001b[39m \u001b[34mlubridate\u001b[39m 1.9.2     \u001b[32mv\u001b[39m \u001b[34mtidyr    \u001b[39m 1.3.0\n",
      "\u001b[32mv\u001b[39m \u001b[34mpurrr    \u001b[39m 1.0.1     \n",
      "-- \u001b[1mConflicts\u001b[22m ------------------------------------------ tidyverse_conflicts() --\n",
      "\u001b[31mx\u001b[39m \u001b[34mdplyr\u001b[39m::\u001b[32mfilter()\u001b[39m masks \u001b[34mstats\u001b[39m::filter()\n",
      "\u001b[31mx\u001b[39m \u001b[34mdplyr\u001b[39m::\u001b[32mlag()\u001b[39m    masks \u001b[34mstats\u001b[39m::lag()\n",
      "\u001b[36mi\u001b[39m Use the conflicted package (\u001b[3m\u001b[34m<http://conflicted.r-lib.org/>\u001b[39m\u001b[23m) to force all conflicts to become errors\n",
      "\n",
      "载入程辑包：'reshape'\n",
      "\n",
      "\n",
      "The following object is masked from 'package:lubridate':\n",
      "\n",
      "    stamp\n",
      "\n",
      "\n",
      "The following object is masked from 'package:dplyr':\n",
      "\n",
      "    rename\n",
      "\n",
      "\n",
      "The following objects are masked from 'package:tidyr':\n",
      "\n",
      "    expand, smiths\n",
      "\n",
      "\n",
      "corrplot 0.92 loaded\n",
      "\n",
      "\n",
      "载入程辑包：'rstatix'\n",
      "\n",
      "\n",
      "The following object is masked from 'package:stats':\n",
      "\n",
      "    filter\n",
      "\n",
      "\n"
     ]
    }
   ],
   "source": [
    "options(warn=-1)\n",
    "library(openxlsx)\n",
    "library(tidyverse)\n",
    "library(reshape)\n",
    "\n",
    "library(ggplot2)\n",
    "library(ggpubr)\n",
    "library(RColorBrewer)\n",
    "library(corrplot)\n",
    "library(corrr)\n",
    "\n",
    "library(DescTools) #Fisher Z\n",
    "library(rstatix)"
   ]
  },
  {
   "cell_type": "code",
   "execution_count": 2,
   "id": "951274ff",
   "metadata": {
    "ExecuteTime": {
     "end_time": "2023-10-05T06:15:22.155435Z",
     "start_time": "2023-10-05T06:15:20.163Z"
    },
    "vscode": {
     "languageId": "r"
    }
   },
   "outputs": [],
   "source": [
    "regions_order = c(\n",
    "    # English\n",
    "    'USA','UK','Australia','South Africa',\n",
    "    # Germany\n",
    "    'Germany',\n",
    "    # Japanese\n",
    "    'Japan',\n",
    "    # Hebrew\n",
    "    'Israel',\n",
    "    # Chinese\n",
    "    'CHN','HK(region)',\n",
    "\n",
    "    # French\n",
    "    'France',\n",
    "    # Spanish\n",
    "    'Spain','Mexico','Chile',\n",
    "    # Portuguese\n",
    "    'Portugal','Brazil',\n",
    "    # Russian\n",
    "    'Russia',\n",
    "    # Arabic\n",
    "    'Egypt','Qatar',\n",
    "    'India')\n",
    "\n",
    "fix_region = function(df){\n",
    "    regions = rownames(df)\n",
    "    regions = str_replace(regions,'United States','USA')\n",
    "    regions = str_replace(regions,'United Kingdom','UK')\n",
    "    regions = str_replace(regions,'China','CHN')\n",
    "    regions = str_replace(regions,'South_africa','South Africa')\n",
    "    regions = str_replace(regions,'Spain','Spanish')\n",
    "    regions = str_replace(regions,'HK','HK(region)')\n",
    "    regions = gsub('Hong Kong SAR, CHN','HK(region)',regions,fixed=TRUE)\n",
    "    regions = str_replace(regions,'Hong Kong','HK(region)')\n",
    "    regions = str_replace(regions,'Spanish','Spain')\n",
    "    regions = str_replace(regions,'Russian Federation','Russia')\n",
    "    regions = str_replace(regions,'Russian','Russia')\n",
    "    regions = str_replace(regions,'Egypt, Arab Rep.','Egypt')\n",
    "    \n",
    "    rownames(df) = regions\n",
    "    colnames(df) = regions\n",
    "    \n",
    "    df = df[regions_order,regions_order]\n",
    "    return(df)\n",
    "}\n",
    "\n",
    "lowerTriangle <- function(m){\n",
    "  return(m[lower.tri(m,diag = FALSE)])\n",
    "}"
   ]
  },
  {
   "cell_type": "markdown",
   "id": "704eb88b",
   "metadata": {},
   "source": [
    "# Predictor variable rdm"
   ]
  },
  {
   "cell_type": "code",
   "execution_count": 3,
   "id": "dbbd3b5b",
   "metadata": {
    "ExecuteTime": {
     "end_time": "2023-10-05T06:15:22.364408Z",
     "start_time": "2023-10-05T06:15:20.314Z"
    },
    "vscode": {
     "languageId": "r"
    }
   },
   "outputs": [],
   "source": [
    "# Language\n",
    "#Lexical = read.csv('../Cultural_RDM/rdm/Lexical_dist.csv', row.names=1, encoding = \"UTF-8\",check.names = FALSE)\n",
    "Lexical = read.csv('../Cultural_RDM/rdm/linguistic_dist.csv', row.names=1, encoding = \"UTF-8\",check.names = FALSE)\n",
    "Lexical = fix_region(Lexical)\n",
    "\n",
    "# Personality\n",
    "Agreeableness = read.csv('../Cultural_RDM/rdm/Agreeableness_dist.csv',row.names=1, encoding = \"UTF-8\",check.names = FALSE)\n",
    "Agreeableness = fix_region(Agreeableness)\n",
    "Conscientiousness = read.csv('../Cultural_RDM/rdm/Conscientiousness_dist.csv',row.names=1, encoding = \"UTF-8\",check.names = FALSE)\n",
    "Conscientiousness = fix_region(Conscientiousness)\n",
    "Extraversion = read.csv('../Cultural_RDM/rdm/Extraversion_dist.csv',row.names=1, encoding = \"UTF-8\",check.names = FALSE)\n",
    "Extraversion = fix_region(Extraversion)\n",
    "Neuroticism = read.csv('../Cultural_RDM/rdm/Neuroticism_dist.csv',row.names=1, encoding = \"UTF-8\",check.names = FALSE)\n",
    "Neuroticism = fix_region(Neuroticism)\n",
    "Openness = read.csv('../Cultural_RDM/rdm/Openness_dist.csv',row.names=1, encoding = \"UTF-8\",check.names = FALSE)\n",
    "Openness = fix_region(Openness)\n",
    "personality_all = read.csv('../Cultural_RDM/rdm/personality_all_dist.csv', row.names=1, encoding = \"UTF-8\",check.names = FALSE)\n",
    "personality_all = fix_region(personality_all)\n",
    "\n",
    "# Socioecological\n",
    "Climatic_demands = read.csv('../Cultural_RDM/rdm/Climatic_demands_dist.csv', row.names=1, encoding = \"UTF-8\",check.names = FALSE)\n",
    "Climatic_demands = fix_region(Climatic_demands)\n",
    "Coordinate = read.csv('../Cultural_RDM/rdm/Coordinate_dist.csv', row.names=1, encoding = \"UTF-8\",check.names = FALSE)\n",
    "Coordinate = fix_region(Coordinate)\n",
    "subsistence = read.csv('../Cultural_RDM/rdm/subsistence_dist.csv', row.names=1, encoding = \"UTF-8\",check.names = FALSE)\n",
    "subsistence = fix_region(subsistence)\n",
    "disease = read.csv('../Cultural_RDM/rdm/disease_dist.csv', row.names=1, encoding = \"UTF-8\",check.names = FALSE)\n",
    "disease = fix_region(disease)\n",
    "\n",
    "# Modernization\n",
    "urban = read.csv('../Cultural_RDM/rdm/urban_rdm.csv', row.names=1, encoding = \"UTF-8\")\n",
    "urban = fix_region(urban)\n",
    "wealth = read.csv('../Cultural_RDM/rdm/wealth_rdm.csv', row.names=1, encoding = \"UTF-8\")\n",
    "wealth = fix_region(wealth)\n",
    "edu = read.csv('../Cultural_RDM/rdm/edu_rdm.csv', row.names=1, encoding = \"UTF-8\")\n",
    "edu = fix_region(edu)\n",
    "modern = read.csv('../Cultural_RDM/rdm/modern_dist.csv', row.names=1, encoding = \"UTF-8\",check.names = FALSE)\n",
    "modern = fix_region(modern)\n",
    "\n",
    "# Cultural value\n",
    "## Hofstede 6D\n",
    "power = read.csv('../Cultural_RDM/rdm/power_rdm.csv', row.names=1, encoding = \"UTF-8\")\n",
    "power = fix_region(power)\n",
    "Individualism = read.csv('../Cultural_RDM/rdm/Individualism_rdm.csv', row.names=1, encoding = \"UTF-8\",check.names = FALSE)\n",
    "Individualism = fix_region(Individualism)\n",
    "Masculine = read.csv('../Cultural_RDM/rdm/Masculine_rdm.csv', row.names=1, encoding = \"UTF-8\",check.names = FALSE)\n",
    "Masculine = fix_region(Masculine)\n",
    "Uncertainty_Avoidance = read.csv('../Cultural_RDM/rdm/Uncertainty_Avoidance_rdm.csv', row.names=1, encoding = \"UTF-8\",check.names = FALSE)\n",
    "Uncertainty_Avoidance = fix_region(Uncertainty_Avoidance)\n",
    "Long_Term_Orientation = read.csv('../Cultural_RDM/rdm/Long_Term_Orientation_rdm.csv', row.names=1, encoding = \"UTF-8\",check.names = FALSE)\n",
    "Long_Term_Orientation = fix_region(Long_Term_Orientation)\n",
    "Indulgence = read.csv('../Cultural_RDM/rdm/Indulgence_rdm.csv', row.names=1, encoding = \"UTF-8\",check.names = FALSE)\n",
    "Indulgence = fix_region(Indulgence)\n",
    "Hofstede_6D = read.csv('../Cultural_RDM/rdm/Hofstede_6D_rdm.csv', row.names=1, encoding = \"UTF-8\",check.names = FALSE)\n",
    "Hofstede_6D = fix_region(Hofstede_6D)\n",
    "\n",
    "# Gene\n",
    "new_gendist_weighted = read.csv('../Cultural_RDM/rdm/new_gendist_weighted_dist.csv', row.names=1, encoding = \"UTF-8\",check.names = FALSE)\n",
    "new_gendist_weighted = fix_region(new_gendist_weighted)\n",
    "\n",
    "# Religion\n",
    "reldist_weighted_WCD_form = read.csv('../Cultural_RDM/rdm/reldist_weighted_WCD_form_dist.csv', row.names=1, encoding = \"UTF-8\",check.names = FALSE)\n",
    "reldist_weighted_WCD_form = fix_region(reldist_weighted_WCD_form)\n",
    "religion_per = read.csv('../Cultural_RDM/rdm/religion_percentage_rdm.csv', row.names=1, encoding = \"UTF-8\",check.names = FALSE)\n",
    "religion_per = fix_region(religion_per)\n",
    "\n",
    "# Political\n",
    "idealogy = read.csv('../Cultural_RDM/rdm/political_idealogy_rdm_range.csv', row.names=1, encoding = \"UTF-8\",check.names = FALSE)\n",
    "idealogy = fix_region(idealogy)"
   ]
  },
  {
   "cell_type": "code",
   "execution_count": 4,
   "id": "b8a47473",
   "metadata": {
    "ExecuteTime": {
     "end_time": "2023-10-05T06:15:22.427408Z",
     "start_time": "2023-10-05T06:15:20.317Z"
    },
    "vscode": {
     "languageId": "r"
    }
   },
   "outputs": [],
   "source": [
    "# Demographics\n",
    "gender = read.csv('../DataClean_FAVEE_HPP/output_data/rdm/gender_rdm.csv', row.names=1, encoding = \"UTF-8\",check.names = FALSE)\n",
    "gender = fix_region(gender)\n",
    "age = read.csv('../DataClean_FAVEE_HPP/output_data/rdm/age_rdm.csv', row.names=1, encoding = \"UTF-8\",check.names = FALSE)\n",
    "age = fix_region(age)\n",
    "education_ind = read.csv('../DataClean_FAVEE_HPP/output_data/rdm/education_ind_rdm.csv', row.names=1, encoding = \"UTF-8\",check.names = FALSE)\n",
    "education_ind = fix_region(education_ind)\n",
    "demographics = read.csv('../DataClean_FAVEE_HPP/output_data/rdm/demographics_rdm.csv', row.names=1, encoding = \"UTF-8\",check.names = FALSE)\n",
    "demographics = fix_region(demographics)\n",
    "\n",
    "# check size\n",
    "check_size = read.csv('../DataClean_FAVEE_HPP/output_data/rdm/check_size_rdm.csv', row.names=1, encoding = \"UTF-8\",check.names = FALSE)\n",
    "check_size = fix_region(check_size)"
   ]
  },
  {
   "cell_type": "code",
   "execution_count": 5,
   "id": "1b62a8c1",
   "metadata": {
    "ExecuteTime": {
     "end_time": "2023-10-05T06:15:22.471409Z",
     "start_time": "2023-10-05T06:15:20.319Z"
    },
    "vscode": {
     "languageId": "r"
    }
   },
   "outputs": [],
   "source": [
    "# get rdms of predicators \n",
    "variables_names <- c('Lexical',# Language\n",
    "                     'personality_all',# Personality\n",
    "                     'Coordinate','Climatic_demands','subsistence','disease',# Socioecological\n",
    "                     'modern',# Modernization\n",
    "                     'Hofstede_6D',# Cultural value\n",
    "                     'new_gendist_weighted',# Gene\n",
    "                     'religion_per',#'reldist_weighted_WCD_form',# Religion\n",
    "                     'idealogy',# Political\n",
    "                     'demographics'# Demographics\n",
    "                     #'check_size'\n",
    "                    )\n",
    "\n",
    "variables <- list()\n",
    "for(i in c(1:length(variables_names))){\n",
    "  variables[[i]] = get(variables_names[i])\n",
    "}"
   ]
  },
  {
   "cell_type": "code",
   "execution_count": 6,
   "id": "a8426677",
   "metadata": {
    "ExecuteTime": {
     "end_time": "2023-10-05T06:15:22.513410Z",
     "start_time": "2023-10-05T06:15:20.322Z"
    },
    "vscode": {
     "languageId": "r"
    }
   },
   "outputs": [],
   "source": [
    "permutation_result = function(culture_regress_standard_model){\n",
    "    # create permutation matrix\n",
    "    nperm <- 10000\n",
    "    permf <- matrix(NA,nperm)\n",
    "    permr2 <- matrix(NA,nperm)\n",
    "    # contain beta\n",
    "    permt <- matrix(NA,nperm,length(variables_names)) # 12variables\n",
    "    colnames(permt) <- variables_names\n",
    "    # caculate proportation of beta or F value over the model results\n",
    "    permf_pvals <- NA \n",
    "    permt_pvals <- NA\n",
    "    tstats = NA\n",
    "\n",
    "    # the model results\n",
    "    fstats <- culture_regress_standard_model$fstatistic[[1]]\n",
    "    for (i in 1:length(variables_names)){\n",
    "      tstats[i] <- culture_regress_standard_model$coefficients[1+i,1]\n",
    "    }\n",
    "    r2stats <- culture_regress_standard_model$r.squared\n",
    "    print(paste('fstats:',fstats))\n",
    "    #print('tstats:')\n",
    "    #tstats\n",
    "    print(paste('r2stats:',r2stats))\n",
    "\n",
    "    set.seed(2)\n",
    "    for (i in 1:nperm){\n",
    "      psel <- sample(19) # permuted index, total 19 regions\n",
    "      x <- do.call(cbind,lapply(variables,function(x) lowerTriangle(x[psel,psel]))) # generate permuted predictors\n",
    "      rfit <- lm(scale(model_rdm_array)~scale(x)) # fit permuted model\n",
    "      srfit <- summary(rfit)\n",
    "      permf[i,1] <- srfit$fstatistic[1] # F-stat\n",
    "      permr2[i,1] <- srfit$r.squared # R-squared\n",
    "      #permf[,i] <- unlist(lapply(srfit,function(x) x$fstatistic[1])) # F-stat\n",
    "      #permr2[,i] <- unlist(lapply(srfit,function(x) x$r.squared)) # R-squared\n",
    "      for (j in 1:length(variables_names)){\n",
    "        permt[i,j] <- srfit$coefficients[1+j,1] # each var t-stat\n",
    "      }\n",
    "      #print(i)\n",
    "    }\n",
    "    print(i)\n",
    "\n",
    "    # F statistics\n",
    "    permf_pvals <- mean(permf[,1] >= fstats)\n",
    "    print(paste('permf_pvals',permf_pvals))\n",
    "\n",
    "    # Each variable's regression\n",
    "    for (i in 1:length(variables_names)){\n",
    "      permt_pvals[i] <- mean(permt[,i] >= tstats[i])\n",
    "    }\n",
    "\n",
    "    permt_pvals <- as.data.frame(t(permt_pvals)) \n",
    "\n",
    "    colnames(permt_pvals) <- variables_names\n",
    "    return(permt_pvals)\n",
    "} "
   ]
  },
  {
   "cell_type": "markdown",
   "id": "7a0ad86f",
   "metadata": {},
   "source": [
    "# Full feature model"
   ]
  },
  {
   "cell_type": "markdown",
   "id": "d922d471",
   "metadata": {},
   "source": [
    "## regression coefficient"
   ]
  },
  {
   "cell_type": "code",
   "execution_count": 7,
   "id": "b735b461",
   "metadata": {
    "ExecuteTime": {
     "end_time": "2023-10-05T06:15:22.589423Z",
     "start_time": "2023-10-05T06:15:20.601Z"
    },
    "vscode": {
     "languageId": "r"
    }
   },
   "outputs": [
    {
     "data": {
      "text/plain": [
       "\n",
       "Call:\n",
       "lm(formula = scale(model_rdm_array) ~ scale(x))\n",
       "\n",
       "Residuals:\n",
       "     Min       1Q   Median       3Q      Max \n",
       "-1.68144 -0.45299  0.03069  0.47348  2.15814 \n",
       "\n",
       "Coefficients:\n",
       "                               Estimate Std. Error t value Pr(>|t|)    \n",
       "(Intercept)                   5.894e-17  5.067e-02   0.000 1.000000    \n",
       "scale(x)Lexical               4.762e-03  8.047e-02   0.059 0.952885    \n",
       "scale(x)personality_all       1.330e-01  5.695e-02   2.336 0.020752 *  \n",
       "scale(x)Coordinate           -2.129e-01  5.889e-02  -3.616 0.000402 ***\n",
       "scale(x)Climatic_demands      1.630e-01  5.664e-02   2.878 0.004554 ** \n",
       "scale(x)subsistence          -7.926e-02  5.898e-02  -1.344 0.180912    \n",
       "scale(x)disease               3.987e-03  5.909e-02   0.067 0.946290    \n",
       "scale(x)modern                3.472e-01  5.257e-02   6.604 5.79e-10 ***\n",
       "scale(x)Hofstede_6D          -1.465e-01  5.966e-02  -2.456 0.015140 *  \n",
       "scale(x)new_gendist_weighted -5.635e-02  6.615e-02  -0.852 0.395557    \n",
       "scale(x)religion_per          5.612e-01  8.071e-02   6.954 8.88e-11 ***\n",
       "scale(x)idealogy             -1.252e-01  5.570e-02  -2.247 0.026020 *  \n",
       "scale(x)demographics         -5.176e-02  5.860e-02  -0.883 0.378364    \n",
       "---\n",
       "Signif. codes:  0 '***' 0.001 '**' 0.01 '*' 0.05 '.' 0.1 ' ' 1\n",
       "\n",
       "Residual standard error: 0.6627 on 158 degrees of freedom\n",
       "Multiple R-squared:  0.5919,\tAdjusted R-squared:  0.5609 \n",
       "F-statistic: 19.09 on 12 and 158 DF,  p-value: < 2.2e-16\n"
      ]
     },
     "metadata": {},
     "output_type": "display_data"
    }
   ],
   "source": [
    "model_rdm = read.csv('output_data/models_rdm/full_feature/raw33d_dissim_dist.csv',\n",
    "                    row.names =1, check.names = FALSE)\n",
    "model_rdm = model_rdm[regions_order,regions_order]\n",
    "model_rdm_array = lowerTriangle(model_rdm)\n",
    "\n",
    "x <- do.call(cbind,lapply(variables,function(x) lowerTriangle(x))) # generate permuted predictors\n",
    "colnames(x) = variables_names\n",
    "culture_regress_standard <- lm(scale(model_rdm_array)~scale(x))\n",
    "culture_regress_standard_model <- summary(culture_regress_standard)\n",
    "culture_regress_standard_model\n",
    "\n",
    "write.csv(culture_regress_standard_model$coefficients,\n",
    " file='output_data/rsa_results/beta/raw_33d.csv')\n",
    "full_feature_regression = culture_regress_standard_model"
   ]
  },
  {
   "cell_type": "markdown",
   "id": "43e7cdda",
   "metadata": {},
   "source": [
    "## permutation"
   ]
  },
  {
   "cell_type": "code",
   "execution_count": 8,
   "id": "93665bb4",
   "metadata": {
    "ExecuteTime": {
     "end_time": "2023-10-05T06:16:05.578958Z",
     "start_time": "2023-10-05T06:15:20.740Z"
    },
    "vscode": {
     "languageId": "r"
    }
   },
   "outputs": [
    {
     "name": "stdout",
     "output_type": "stream",
     "text": [
      "[1] \"fstats: 19.0948581486616\"\n",
      "[1] \"r2stats: 0.591877112379671\"\n",
      "[1] 10000\n",
      "[1] \"permf_pvals 5e-04\"\n"
     ]
    },
    {
     "data": {
      "text/html": [
       "<table class=\"dataframe\">\n",
       "<caption>A data.frame: 1 × 12</caption>\n",
       "<thead>\n",
       "\t<tr><th scope=col>Lexical</th><th scope=col>personality_all</th><th scope=col>Coordinate</th><th scope=col>Climatic_demands</th><th scope=col>subsistence</th><th scope=col>disease</th><th scope=col>modern</th><th scope=col>Hofstede_6D</th><th scope=col>new_gendist_weighted</th><th scope=col>religion_per</th><th scope=col>idealogy</th><th scope=col>demographics</th></tr>\n",
       "\t<tr><th scope=col>&lt;dbl&gt;</th><th scope=col>&lt;dbl&gt;</th><th scope=col>&lt;dbl&gt;</th><th scope=col>&lt;dbl&gt;</th><th scope=col>&lt;dbl&gt;</th><th scope=col>&lt;dbl&gt;</th><th scope=col>&lt;dbl&gt;</th><th scope=col>&lt;dbl&gt;</th><th scope=col>&lt;dbl&gt;</th><th scope=col>&lt;dbl&gt;</th><th scope=col>&lt;dbl&gt;</th><th scope=col>&lt;dbl&gt;</th></tr>\n",
       "</thead>\n",
       "<tbody>\n",
       "\t<tr><td>0.4975</td><td>0.2045</td><td>0.9236</td><td>0.1804</td><td>0.6983</td><td>0.4988</td><td>0.022</td><td>0.8104</td><td>0.5675</td><td>0.0143</td><td>0.8197</td><td>0.5909</td></tr>\n",
       "</tbody>\n",
       "</table>\n"
      ],
      "text/latex": [
       "A data.frame: 1 × 12\n",
       "\\begin{tabular}{llllllllllll}\n",
       " Lexical & personality\\_all & Coordinate & Climatic\\_demands & subsistence & disease & modern & Hofstede\\_6D & new\\_gendist\\_weighted & religion\\_per & idealogy & demographics\\\\\n",
       " <dbl> & <dbl> & <dbl> & <dbl> & <dbl> & <dbl> & <dbl> & <dbl> & <dbl> & <dbl> & <dbl> & <dbl>\\\\\n",
       "\\hline\n",
       "\t 0.4975 & 0.2045 & 0.9236 & 0.1804 & 0.6983 & 0.4988 & 0.022 & 0.8104 & 0.5675 & 0.0143 & 0.8197 & 0.5909\\\\\n",
       "\\end{tabular}\n"
      ],
      "text/markdown": [
       "\n",
       "A data.frame: 1 × 12\n",
       "\n",
       "| Lexical &lt;dbl&gt; | personality_all &lt;dbl&gt; | Coordinate &lt;dbl&gt; | Climatic_demands &lt;dbl&gt; | subsistence &lt;dbl&gt; | disease &lt;dbl&gt; | modern &lt;dbl&gt; | Hofstede_6D &lt;dbl&gt; | new_gendist_weighted &lt;dbl&gt; | religion_per &lt;dbl&gt; | idealogy &lt;dbl&gt; | demographics &lt;dbl&gt; |\n",
       "|---|---|---|---|---|---|---|---|---|---|---|---|\n",
       "| 0.4975 | 0.2045 | 0.9236 | 0.1804 | 0.6983 | 0.4988 | 0.022 | 0.8104 | 0.5675 | 0.0143 | 0.8197 | 0.5909 |\n",
       "\n"
      ],
      "text/plain": [
       "  Lexical personality_all Coordinate Climatic_demands subsistence disease\n",
       "1 0.4975  0.2045          0.9236     0.1804           0.6983      0.4988 \n",
       "  modern Hofstede_6D new_gendist_weighted religion_per idealogy demographics\n",
       "1 0.022  0.8104      0.5675               0.0143       0.8197   0.5909      "
      ]
     },
     "metadata": {},
     "output_type": "display_data"
    }
   ],
   "source": [
    "p_value = permutation_result(full_feature_regression)\n",
    "p_value\n",
    "write.csv(p_value,'output_data/rsa_results/p_value/raw_33d.csv')"
   ]
  },
  {
   "cell_type": "markdown",
   "id": "2c261bbd",
   "metadata": {},
   "source": [
    "# Dimensional model"
   ]
  },
  {
   "cell_type": "markdown",
   "id": "57ec0ce3",
   "metadata": {},
   "source": [
    "## regression coefficient"
   ]
  },
  {
   "cell_type": "code",
   "execution_count": 9,
   "id": "d6aa9f33",
   "metadata": {
    "ExecuteTime": {
     "end_time": "2023-10-05T06:16:05.629954Z",
     "start_time": "2023-10-05T06:15:20.997Z"
    },
    "vscode": {
     "languageId": "r"
    }
   },
   "outputs": [
    {
     "data": {
      "text/plain": [
       "\n",
       "Call:\n",
       "lm(formula = scale(model_rdm_array) ~ scale(x))\n",
       "\n",
       "Residuals:\n",
       "     Min       1Q   Median       3Q      Max \n",
       "-2.26355 -0.39565  0.07438  0.44399  1.72522 \n",
       "\n",
       "Coefficients:\n",
       "                               Estimate Std. Error t value Pr(>|t|)    \n",
       "(Intercept)                  -1.113e-16  5.234e-02   0.000  1.00000    \n",
       "scale(x)Lexical              -1.070e-01  8.312e-02  -1.287  0.19994    \n",
       "scale(x)personality_all       1.705e-01  5.882e-02   2.898  0.00428 ** \n",
       "scale(x)Coordinate           -1.971e-01  6.082e-02  -3.241  0.00145 ** \n",
       "scale(x)Climatic_demands      1.673e-01  5.850e-02   2.859  0.00482 ** \n",
       "scale(x)subsistence          -2.912e-02  6.092e-02  -0.478  0.63331    \n",
       "scale(x)disease              -2.463e-02  6.103e-02  -0.404  0.68712    \n",
       "scale(x)modern                2.739e-01  5.430e-02   5.044 1.24e-06 ***\n",
       "scale(x)Hofstede_6D          -1.783e-01  6.162e-02  -2.894  0.00434 ** \n",
       "scale(x)new_gendist_weighted -1.570e-01  6.832e-02  -2.299  0.02283 *  \n",
       "scale(x)religion_per          6.013e-01  8.336e-02   7.213 2.14e-11 ***\n",
       "scale(x)idealogy             -1.220e-01  5.753e-02  -2.120  0.03556 *  \n",
       "scale(x)demographics         -2.528e-03  6.052e-02  -0.042  0.96673    \n",
       "---\n",
       "Signif. codes:  0 '***' 0.001 '**' 0.01 '*' 0.05 '.' 0.1 ' ' 1\n",
       "\n",
       "Residual standard error: 0.6844 on 158 degrees of freedom\n",
       "Multiple R-squared:  0.5646,\tAdjusted R-squared:  0.5316 \n",
       "F-statistic: 17.08 on 12 and 158 DF,  p-value: < 2.2e-16\n"
      ]
     },
     "metadata": {},
     "output_type": "display_data"
    }
   ],
   "source": [
    "model_rdm = read.csv('output_data/models_rdm/dimensional/favee_dissim_dist.csv',\n",
    "                    row.names =1, check.names = FALSE)\n",
    "model_rdm = model_rdm[regions_order,regions_order]\n",
    "model_rdm_array = lowerTriangle(model_rdm)\n",
    "\n",
    "x <- do.call(cbind,lapply(variables,function(x) lowerTriangle(x))) # generate permuted predictors\n",
    "colnames(x) = variables_names\n",
    "culture_regress_standard <- lm(scale(model_rdm_array)~scale(x))\n",
    "culture_regress_standard_model <- summary(culture_regress_standard)\n",
    "culture_regress_standard_model\n",
    "\n",
    "write.csv(culture_regress_standard_model$coefficients,\n",
    " file='output_data/rsa_results/beta/favee_33d.csv')\n",
    "dimensional_regression = culture_regress_standard_model"
   ]
  },
  {
   "cell_type": "markdown",
   "id": "6b093358",
   "metadata": {},
   "source": [
    "## permutation"
   ]
  },
  {
   "cell_type": "code",
   "execution_count": 10,
   "id": "642ae67d",
   "metadata": {
    "ExecuteTime": {
     "end_time": "2023-10-05T06:16:48.405961Z",
     "start_time": "2023-10-05T06:15:21.143Z"
    },
    "vscode": {
     "languageId": "r"
    }
   },
   "outputs": [
    {
     "name": "stdout",
     "output_type": "stream",
     "text": [
      "[1] \"fstats: 17.0750016342814\"\n",
      "[1] \"r2stats: 0.564618375691467\"\n",
      "[1] 10000\n",
      "[1] \"permf_pvals 8e-04\"\n"
     ]
    },
    {
     "data": {
      "text/html": [
       "<table class=\"dataframe\">\n",
       "<caption>A data.frame: 1 × 12</caption>\n",
       "<thead>\n",
       "\t<tr><th scope=col>Lexical</th><th scope=col>personality_all</th><th scope=col>Coordinate</th><th scope=col>Climatic_demands</th><th scope=col>subsistence</th><th scope=col>disease</th><th scope=col>modern</th><th scope=col>Hofstede_6D</th><th scope=col>new_gendist_weighted</th><th scope=col>religion_per</th><th scope=col>idealogy</th><th scope=col>demographics</th></tr>\n",
       "\t<tr><th scope=col>&lt;dbl&gt;</th><th scope=col>&lt;dbl&gt;</th><th scope=col>&lt;dbl&gt;</th><th scope=col>&lt;dbl&gt;</th><th scope=col>&lt;dbl&gt;</th><th scope=col>&lt;dbl&gt;</th><th scope=col>&lt;dbl&gt;</th><th scope=col>&lt;dbl&gt;</th><th scope=col>&lt;dbl&gt;</th><th scope=col>&lt;dbl&gt;</th><th scope=col>&lt;dbl&gt;</th><th scope=col>&lt;dbl&gt;</th></tr>\n",
       "</thead>\n",
       "<tbody>\n",
       "\t<tr><td>0.6667</td><td>0.1909</td><td>0.8956</td><td>0.2005</td><td>0.5632</td><td>0.609</td><td>0.0485</td><td>0.857</td><td>0.7404</td><td>0.0108</td><td>0.8184</td><td>0.4686</td></tr>\n",
       "</tbody>\n",
       "</table>\n"
      ],
      "text/latex": [
       "A data.frame: 1 × 12\n",
       "\\begin{tabular}{llllllllllll}\n",
       " Lexical & personality\\_all & Coordinate & Climatic\\_demands & subsistence & disease & modern & Hofstede\\_6D & new\\_gendist\\_weighted & religion\\_per & idealogy & demographics\\\\\n",
       " <dbl> & <dbl> & <dbl> & <dbl> & <dbl> & <dbl> & <dbl> & <dbl> & <dbl> & <dbl> & <dbl> & <dbl>\\\\\n",
       "\\hline\n",
       "\t 0.6667 & 0.1909 & 0.8956 & 0.2005 & 0.5632 & 0.609 & 0.0485 & 0.857 & 0.7404 & 0.0108 & 0.8184 & 0.4686\\\\\n",
       "\\end{tabular}\n"
      ],
      "text/markdown": [
       "\n",
       "A data.frame: 1 × 12\n",
       "\n",
       "| Lexical &lt;dbl&gt; | personality_all &lt;dbl&gt; | Coordinate &lt;dbl&gt; | Climatic_demands &lt;dbl&gt; | subsistence &lt;dbl&gt; | disease &lt;dbl&gt; | modern &lt;dbl&gt; | Hofstede_6D &lt;dbl&gt; | new_gendist_weighted &lt;dbl&gt; | religion_per &lt;dbl&gt; | idealogy &lt;dbl&gt; | demographics &lt;dbl&gt; |\n",
       "|---|---|---|---|---|---|---|---|---|---|---|---|\n",
       "| 0.6667 | 0.1909 | 0.8956 | 0.2005 | 0.5632 | 0.609 | 0.0485 | 0.857 | 0.7404 | 0.0108 | 0.8184 | 0.4686 |\n",
       "\n"
      ],
      "text/plain": [
       "  Lexical personality_all Coordinate Climatic_demands subsistence disease\n",
       "1 0.6667  0.1909          0.8956     0.2005           0.5632      0.609  \n",
       "  modern Hofstede_6D new_gendist_weighted religion_per idealogy demographics\n",
       "1 0.0485 0.857       0.7404               0.0108       0.8184   0.4686      "
      ]
     },
     "metadata": {},
     "output_type": "display_data"
    }
   ],
   "source": [
    "p_value = permutation_result(dimensional_regression)\n",
    "p_value\n",
    "write.csv(p_value,'output_data/rsa_results/p_value/favee_33d.csv')"
   ]
  },
  {
   "cell_type": "markdown",
   "id": "9cd7c8c4",
   "metadata": {},
   "source": [
    "# Categorical model"
   ]
  },
  {
   "cell_type": "markdown",
   "id": "b39059eb",
   "metadata": {},
   "source": [
    "## regression coefficient"
   ]
  },
  {
   "cell_type": "code",
   "execution_count": 11,
   "id": "1024f2d4",
   "metadata": {
    "ExecuteTime": {
     "end_time": "2023-10-05T06:16:48.481995Z",
     "start_time": "2023-10-05T06:15:21.419Z"
    },
    "vscode": {
     "languageId": "r"
    }
   },
   "outputs": [
    {
     "data": {
      "text/plain": [
       "\n",
       "Call:\n",
       "lm(formula = scale(model_rdm_array) ~ scale(x))\n",
       "\n",
       "Residuals:\n",
       "     Min       1Q   Median       3Q      Max \n",
       "-2.19901 -0.61384  0.04066  0.51264  2.39381 \n",
       "\n",
       "Coefficients:\n",
       "                               Estimate Std. Error t value Pr(>|t|)    \n",
       "(Intercept)                   1.762e-16  6.551e-02   0.000 1.000000    \n",
       "scale(x)Lexical               1.892e-01  1.040e-01   1.819 0.070860 .  \n",
       "scale(x)personality_all       6.222e-02  7.363e-02   0.845 0.399357    \n",
       "scale(x)Coordinate           -2.052e-01  7.613e-02  -2.696 0.007780 ** \n",
       "scale(x)Climatic_demands      1.457e-01  7.322e-02   1.990 0.048276 *  \n",
       "scale(x)subsistence          -3.572e-03  7.625e-02  -0.047 0.962695    \n",
       "scale(x)disease              -1.214e-02  7.639e-02  -0.159 0.873943    \n",
       "scale(x)modern                2.453e-01  6.797e-02   3.609 0.000412 ***\n",
       "scale(x)Hofstede_6D          -9.690e-02  7.712e-02  -1.256 0.210830    \n",
       "scale(x)new_gendist_weighted -5.202e-02  8.551e-02  -0.608 0.543820    \n",
       "scale(x)religion_per          2.994e-01  1.043e-01   2.869 0.004676 ** \n",
       "scale(x)idealogy             -7.704e-02  7.201e-02  -1.070 0.286347    \n",
       "scale(x)demographics         -3.235e-01  7.575e-02  -4.270 3.36e-05 ***\n",
       "---\n",
       "Signif. codes:  0 '***' 0.001 '**' 0.01 '*' 0.05 '.' 0.1 ' ' 1\n",
       "\n",
       "Residual standard error: 0.8567 on 158 degrees of freedom\n",
       "Multiple R-squared:  0.3179,\tAdjusted R-squared:  0.2661 \n",
       "F-statistic: 6.136 on 12 and 158 DF,  p-value: 8.632e-09\n"
      ]
     },
     "metadata": {},
     "output_type": "display_data"
    }
   ],
   "source": [
    "model_rdm = read.csv('output_data/models_rdm/categorical/hpp_dissim_dist.csv',\n",
    "                    row.names =1, check.names = FALSE)\n",
    "model_rdm = model_rdm[regions_order,regions_order]\n",
    "model_rdm_array = lowerTriangle(model_rdm)\n",
    "\n",
    "x <- do.call(cbind,lapply(variables,function(x) lowerTriangle(x))) # generate permuted predictors\n",
    "colnames(x) = variables_names\n",
    "culture_regress_standard <- lm(scale(model_rdm_array)~scale(x))\n",
    "culture_regress_standard_model <- summary(culture_regress_standard)\n",
    "culture_regress_standard_model\n",
    "\n",
    "write.csv(culture_regress_standard_model$coefficients,\n",
    " file='output_data/rsa_results/beta/hpp_33d.csv')\n",
    "categorical_regression = culture_regress_standard_model"
   ]
  },
  {
   "cell_type": "markdown",
   "id": "07e35a6c",
   "metadata": {},
   "source": [
    "## permutation"
   ]
  },
  {
   "cell_type": "code",
   "execution_count": 12,
   "id": "2b4ab105",
   "metadata": {
    "ExecuteTime": {
     "end_time": "2023-10-05T06:17:29.871992Z",
     "start_time": "2023-10-05T06:15:21.588Z"
    },
    "vscode": {
     "languageId": "r"
    }
   },
   "outputs": [
    {
     "name": "stdout",
     "output_type": "stream",
     "text": [
      "[1] \"fstats: 6.1360843571897\"\n",
      "[1] \"r2stats: 0.317886520403547\"\n",
      "[1] 10000\n",
      "[1] \"permf_pvals 0.0816\"\n"
     ]
    },
    {
     "data": {
      "text/html": [
       "<table class=\"dataframe\">\n",
       "<caption>A data.frame: 1 × 12</caption>\n",
       "<thead>\n",
       "\t<tr><th scope=col>Lexical</th><th scope=col>personality_all</th><th scope=col>Coordinate</th><th scope=col>Climatic_demands</th><th scope=col>subsistence</th><th scope=col>disease</th><th scope=col>modern</th><th scope=col>Hofstede_6D</th><th scope=col>new_gendist_weighted</th><th scope=col>religion_per</th><th scope=col>idealogy</th><th scope=col>demographics</th></tr>\n",
       "\t<tr><th scope=col>&lt;dbl&gt;</th><th scope=col>&lt;dbl&gt;</th><th scope=col>&lt;dbl&gt;</th><th scope=col>&lt;dbl&gt;</th><th scope=col>&lt;dbl&gt;</th><th scope=col>&lt;dbl&gt;</th><th scope=col>&lt;dbl&gt;</th><th scope=col>&lt;dbl&gt;</th><th scope=col>&lt;dbl&gt;</th><th scope=col>&lt;dbl&gt;</th><th scope=col>&lt;dbl&gt;</th><th scope=col>&lt;dbl&gt;</th></tr>\n",
       "</thead>\n",
       "<tbody>\n",
       "\t<tr><td>0.2081</td><td>0.2954</td><td>0.9361</td><td>0.154</td><td>0.4909</td><td>0.5551</td><td>0.0466</td><td>0.7457</td><td>0.5739</td><td>0.1089</td><td>0.7296</td><td>0.9956</td></tr>\n",
       "</tbody>\n",
       "</table>\n"
      ],
      "text/latex": [
       "A data.frame: 1 × 12\n",
       "\\begin{tabular}{llllllllllll}\n",
       " Lexical & personality\\_all & Coordinate & Climatic\\_demands & subsistence & disease & modern & Hofstede\\_6D & new\\_gendist\\_weighted & religion\\_per & idealogy & demographics\\\\\n",
       " <dbl> & <dbl> & <dbl> & <dbl> & <dbl> & <dbl> & <dbl> & <dbl> & <dbl> & <dbl> & <dbl> & <dbl>\\\\\n",
       "\\hline\n",
       "\t 0.2081 & 0.2954 & 0.9361 & 0.154 & 0.4909 & 0.5551 & 0.0466 & 0.7457 & 0.5739 & 0.1089 & 0.7296 & 0.9956\\\\\n",
       "\\end{tabular}\n"
      ],
      "text/markdown": [
       "\n",
       "A data.frame: 1 × 12\n",
       "\n",
       "| Lexical &lt;dbl&gt; | personality_all &lt;dbl&gt; | Coordinate &lt;dbl&gt; | Climatic_demands &lt;dbl&gt; | subsistence &lt;dbl&gt; | disease &lt;dbl&gt; | modern &lt;dbl&gt; | Hofstede_6D &lt;dbl&gt; | new_gendist_weighted &lt;dbl&gt; | religion_per &lt;dbl&gt; | idealogy &lt;dbl&gt; | demographics &lt;dbl&gt; |\n",
       "|---|---|---|---|---|---|---|---|---|---|---|---|\n",
       "| 0.2081 | 0.2954 | 0.9361 | 0.154 | 0.4909 | 0.5551 | 0.0466 | 0.7457 | 0.5739 | 0.1089 | 0.7296 | 0.9956 |\n",
       "\n"
      ],
      "text/plain": [
       "  Lexical personality_all Coordinate Climatic_demands subsistence disease\n",
       "1 0.2081  0.2954          0.9361     0.154            0.4909      0.5551 \n",
       "  modern Hofstede_6D new_gendist_weighted religion_per idealogy demographics\n",
       "1 0.0466 0.7457      0.5739               0.1089       0.7296   0.9956      "
      ]
     },
     "metadata": {},
     "output_type": "display_data"
    }
   ],
   "source": [
    "p_value = permutation_result(categorical_regression)\n",
    "p_value\n",
    "write.csv(p_value,'output_data/rsa_results/p_value/hpp_33d.csv')"
   ]
  },
  {
   "cell_type": "code",
   "execution_count": 13,
   "id": "0e943ab0",
   "metadata": {
    "ExecuteTime": {
     "end_time": "2023-10-05T06:17:29.908961Z",
     "start_time": "2023-10-05T06:15:21.591Z"
    },
    "vscode": {
     "languageId": "r"
    }
   },
   "outputs": [],
   "source": [
    "variables_name_final = c(\n",
    "    'Language',\n",
    "    'Personality',\n",
    "    'Geography',\n",
    "    'Climates',\n",
    "    'Subsistence',\n",
    "    'Disease',\n",
    "    'Modernization',\n",
    "    'Hofstede6D',\n",
    "    'Gene',\n",
    "    'Religion',\n",
    "    'Politics',\n",
    "    'Demographics')\n",
    "\n",
    "output_order = c('Climates','Demographics','Disease','Gene','Geography',\n",
    "                'Hofstede6D','Language','Modernization','Personality','Politics','Religion','Subsistence')"
   ]
  },
  {
   "cell_type": "code",
   "execution_count": 14,
   "id": "bb461a73",
   "metadata": {
    "ExecuteTime": {
     "end_time": "2023-10-05T06:17:29.951992Z",
     "start_time": "2023-10-05T06:15:21.593Z"
    },
    "vscode": {
     "languageId": "r"
    }
   },
   "outputs": [],
   "source": [
    "full_feature_beta = read.csv('output_data/rsa_results/beta/raw_33d.csv',row.names=1)\n",
    "full_feature_beta = full_feature_beta[2:13,'Estimate']\n",
    "# rownames(full_feature_beta) = variables_name_final\n",
    "\n",
    "favee_beta = read.csv('output_data/rsa_results/beta/favee_33d.csv',row.names=1)\n",
    "favee_beta = favee_beta[2:13,'Estimate']\n",
    "# rownames(favee_beta) = variables_name_final\n",
    "\n",
    "hpp_beta = read.csv('output_data/rsa_results/beta/hpp_33d.csv',row.names=1)\n",
    "hpp_beta = hpp_beta[2:13,'Estimate']\n",
    "# rownames(hpp_beta) = variables_name_final"
   ]
  },
  {
   "cell_type": "code",
   "execution_count": 15,
   "id": "9c792aff",
   "metadata": {
    "ExecuteTime": {
     "end_time": "2023-10-05T06:17:29.989995Z",
     "start_time": "2023-10-05T06:15:21.595Z"
    },
    "vscode": {
     "languageId": "r"
    }
   },
   "outputs": [],
   "source": [
    "full_feature_p = read.csv('output_data/rsa_results/p_value/raw_33d.csv',row.names=1)\n",
    "full_feature_p = t(full_feature_p)[1:12,]\n",
    "# colnames(full_feature_p) = variables_name_final[2:13]\n",
    "\n",
    "favee_p = read.csv('output_data/rsa_results/p_value/favee_33d.csv',row.names=1)\n",
    "favee_p = t(favee_p)[1:12,]\n",
    "# colnames(favee_p) = variables_name_final[2:13]\n",
    "\n",
    "hpp_p = read.csv('output_data/rsa_results/p_value/hpp_33d.csv',row.names=1)\n",
    "hpp_p = t(hpp_p)[1:12,]\n",
    "# colnames(hpp_p) = variables_name_final[2:13]"
   ]
  },
  {
   "cell_type": "code",
   "execution_count": 16,
   "id": "97903264",
   "metadata": {
    "ExecuteTime": {
     "end_time": "2023-10-05T06:17:30.039992Z",
     "start_time": "2023-10-05T06:15:21.597Z"
    },
    "vscode": {
     "languageId": "r"
    }
   },
   "outputs": [
    {
     "data": {
      "text/html": [
       "<table class=\"dataframe\">\n",
       "<caption>A data.frame: 12 × 6</caption>\n",
       "<thead>\n",
       "\t<tr><th></th><th scope=col>full_r</th><th scope=col>full_p</th><th scope=col>favee_r</th><th scope=col>favee_p</th><th scope=col>hpp_r</th><th scope=col>hpp_p</th></tr>\n",
       "\t<tr><th></th><th scope=col>&lt;dbl&gt;</th><th scope=col>&lt;dbl&gt;</th><th scope=col>&lt;dbl&gt;</th><th scope=col>&lt;dbl&gt;</th><th scope=col>&lt;dbl&gt;</th><th scope=col>&lt;dbl&gt;</th></tr>\n",
       "</thead>\n",
       "<tbody>\n",
       "\t<tr><th scope=row>Climates</th><td> 0.163</td><td>0.180</td><td> 0.167</td><td>0.200</td><td> 0.146</td><td>0.154</td></tr>\n",
       "\t<tr><th scope=row>Demographics</th><td>-0.052</td><td>0.591</td><td>-0.003</td><td>0.469</td><td>-0.323</td><td>0.996</td></tr>\n",
       "\t<tr><th scope=row>Disease</th><td> 0.004</td><td>0.499</td><td>-0.025</td><td>0.609</td><td>-0.012</td><td>0.555</td></tr>\n",
       "\t<tr><th scope=row>Gene</th><td>-0.056</td><td>0.568</td><td>-0.157</td><td>0.740</td><td>-0.052</td><td>0.574</td></tr>\n",
       "\t<tr><th scope=row>Geography</th><td>-0.213</td><td>0.924</td><td>-0.197</td><td>0.896</td><td>-0.205</td><td>0.936</td></tr>\n",
       "\t<tr><th scope=row>Hofstede6D</th><td>-0.147</td><td>0.810</td><td>-0.178</td><td>0.857</td><td>-0.097</td><td>0.746</td></tr>\n",
       "\t<tr><th scope=row>Language</th><td> 0.005</td><td>0.498</td><td>-0.107</td><td>0.667</td><td> 0.189</td><td>0.208</td></tr>\n",
       "\t<tr><th scope=row>Modernization</th><td> 0.347</td><td>0.022</td><td> 0.274</td><td>0.048</td><td> 0.245</td><td>0.047</td></tr>\n",
       "\t<tr><th scope=row>Personality</th><td> 0.133</td><td>0.204</td><td> 0.170</td><td>0.191</td><td> 0.062</td><td>0.295</td></tr>\n",
       "\t<tr><th scope=row>Politics</th><td>-0.125</td><td>0.820</td><td>-0.122</td><td>0.818</td><td>-0.077</td><td>0.730</td></tr>\n",
       "\t<tr><th scope=row>Religion</th><td> 0.561</td><td>0.014</td><td> 0.601</td><td>0.011</td><td> 0.299</td><td>0.109</td></tr>\n",
       "\t<tr><th scope=row>Subsistence</th><td>-0.079</td><td>0.698</td><td>-0.029</td><td>0.563</td><td>-0.004</td><td>0.491</td></tr>\n",
       "</tbody>\n",
       "</table>\n"
      ],
      "text/latex": [
       "A data.frame: 12 × 6\n",
       "\\begin{tabular}{r|llllll}\n",
       "  & full\\_r & full\\_p & favee\\_r & favee\\_p & hpp\\_r & hpp\\_p\\\\\n",
       "  & <dbl> & <dbl> & <dbl> & <dbl> & <dbl> & <dbl>\\\\\n",
       "\\hline\n",
       "\tClimates &  0.163 & 0.180 &  0.167 & 0.200 &  0.146 & 0.154\\\\\n",
       "\tDemographics & -0.052 & 0.591 & -0.003 & 0.469 & -0.323 & 0.996\\\\\n",
       "\tDisease &  0.004 & 0.499 & -0.025 & 0.609 & -0.012 & 0.555\\\\\n",
       "\tGene & -0.056 & 0.568 & -0.157 & 0.740 & -0.052 & 0.574\\\\\n",
       "\tGeography & -0.213 & 0.924 & -0.197 & 0.896 & -0.205 & 0.936\\\\\n",
       "\tHofstede6D & -0.147 & 0.810 & -0.178 & 0.857 & -0.097 & 0.746\\\\\n",
       "\tLanguage &  0.005 & 0.498 & -0.107 & 0.667 &  0.189 & 0.208\\\\\n",
       "\tModernization &  0.347 & 0.022 &  0.274 & 0.048 &  0.245 & 0.047\\\\\n",
       "\tPersonality &  0.133 & 0.204 &  0.170 & 0.191 &  0.062 & 0.295\\\\\n",
       "\tPolitics & -0.125 & 0.820 & -0.122 & 0.818 & -0.077 & 0.730\\\\\n",
       "\tReligion &  0.561 & 0.014 &  0.601 & 0.011 &  0.299 & 0.109\\\\\n",
       "\tSubsistence & -0.079 & 0.698 & -0.029 & 0.563 & -0.004 & 0.491\\\\\n",
       "\\end{tabular}\n"
      ],
      "text/markdown": [
       "\n",
       "A data.frame: 12 × 6\n",
       "\n",
       "| <!--/--> | full_r &lt;dbl&gt; | full_p &lt;dbl&gt; | favee_r &lt;dbl&gt; | favee_p &lt;dbl&gt; | hpp_r &lt;dbl&gt; | hpp_p &lt;dbl&gt; |\n",
       "|---|---|---|---|---|---|---|\n",
       "| Climates |  0.163 | 0.180 |  0.167 | 0.200 |  0.146 | 0.154 |\n",
       "| Demographics | -0.052 | 0.591 | -0.003 | 0.469 | -0.323 | 0.996 |\n",
       "| Disease |  0.004 | 0.499 | -0.025 | 0.609 | -0.012 | 0.555 |\n",
       "| Gene | -0.056 | 0.568 | -0.157 | 0.740 | -0.052 | 0.574 |\n",
       "| Geography | -0.213 | 0.924 | -0.197 | 0.896 | -0.205 | 0.936 |\n",
       "| Hofstede6D | -0.147 | 0.810 | -0.178 | 0.857 | -0.097 | 0.746 |\n",
       "| Language |  0.005 | 0.498 | -0.107 | 0.667 |  0.189 | 0.208 |\n",
       "| Modernization |  0.347 | 0.022 |  0.274 | 0.048 |  0.245 | 0.047 |\n",
       "| Personality |  0.133 | 0.204 |  0.170 | 0.191 |  0.062 | 0.295 |\n",
       "| Politics | -0.125 | 0.820 | -0.122 | 0.818 | -0.077 | 0.730 |\n",
       "| Religion |  0.561 | 0.014 |  0.601 | 0.011 |  0.299 | 0.109 |\n",
       "| Subsistence | -0.079 | 0.698 | -0.029 | 0.563 | -0.004 | 0.491 |\n",
       "\n"
      ],
      "text/plain": [
       "              full_r full_p favee_r favee_p hpp_r  hpp_p\n",
       "Climates       0.163 0.180   0.167  0.200    0.146 0.154\n",
       "Demographics  -0.052 0.591  -0.003  0.469   -0.323 0.996\n",
       "Disease        0.004 0.499  -0.025  0.609   -0.012 0.555\n",
       "Gene          -0.056 0.568  -0.157  0.740   -0.052 0.574\n",
       "Geography     -0.213 0.924  -0.197  0.896   -0.205 0.936\n",
       "Hofstede6D    -0.147 0.810  -0.178  0.857   -0.097 0.746\n",
       "Language       0.005 0.498  -0.107  0.667    0.189 0.208\n",
       "Modernization  0.347 0.022   0.274  0.048    0.245 0.047\n",
       "Personality    0.133 0.204   0.170  0.191    0.062 0.295\n",
       "Politics      -0.125 0.820  -0.122  0.818   -0.077 0.730\n",
       "Religion       0.561 0.014   0.601  0.011    0.299 0.109\n",
       "Subsistence   -0.079 0.698  -0.029  0.563   -0.004 0.491"
      ]
     },
     "metadata": {},
     "output_type": "display_data"
    }
   ],
   "source": [
    "rsa_result = data.frame(full_r = full_feature_beta,full_p = full_feature_p,\n",
    "                        favee_r = favee_beta,favee_p = favee_p,\n",
    "                        hpp_r = hpp_beta,hpp_p = hpp_p)\n",
    "rownames(rsa_result) = variables_name_final\n",
    "rsa_result = rsa_result[output_order,]\n",
    "rsa_result = round(rsa_result,3)\n",
    "rsa_result\n",
    "write.csv(rsa_result,'output_data/rsa_results/main_analysis.csv')"
   ]
  },
  {
   "cell_type": "markdown",
   "id": "f2e6b032",
   "metadata": {},
   "source": [
    "# Plot RSA regression results in Main Text"
   ]
  },
  {
   "cell_type": "markdown",
   "id": "89dbbc39",
   "metadata": {},
   "source": [
    "## bar plot"
   ]
  },
  {
   "cell_type": "code",
   "execution_count": 17,
   "id": "fbfe3b82",
   "metadata": {
    "ExecuteTime": {
     "end_time": "2023-10-29T12:10:12.687602Z",
     "start_time": "2023-10-29T12:10:12.610Z"
    },
    "vscode": {
     "languageId": "r"
    }
   },
   "outputs": [
    {
     "data": {
      "text/html": [
       "<table class=\"dataframe\">\n",
       "<caption>A data.frame: 12 × 4</caption>\n",
       "<thead>\n",
       "\t<tr><th></th><th scope=col>Full model</th><th scope=col>Dimension</th><th scope=col>Category</th><th scope=col>Predictor</th></tr>\n",
       "\t<tr><th></th><th scope=col>&lt;dbl&gt;</th><th scope=col>&lt;dbl&gt;</th><th scope=col>&lt;dbl&gt;</th><th scope=col>&lt;chr&gt;</th></tr>\n",
       "</thead>\n",
       "<tbody>\n",
       "\t<tr><th scope=row>Language</th><td> 0.004762153</td><td>-0.10697771</td><td> 0.189199974</td><td>Language     </td></tr>\n",
       "\t<tr><th scope=row>Personality</th><td> 0.133038448</td><td> 0.17049891</td><td> 0.062221370</td><td>Personality  </td></tr>\n",
       "\t<tr><th scope=row>Geography</th><td>-0.212919053</td><td>-0.19711407</td><td>-0.205240469</td><td>Geography    </td></tr>\n",
       "\t<tr><th scope=row>Climates</th><td> 0.163014939</td><td> 0.16725624</td><td> 0.145740268</td><td>Climates     </td></tr>\n",
       "\t<tr><th scope=row>Subsistence</th><td>-0.079264337</td><td>-0.02911967</td><td>-0.003572058</td><td>Subsistence  </td></tr>\n",
       "\t<tr><th scope=row>Disease</th><td> 0.003987127</td><td>-0.02462745</td><td>-0.012139785</td><td>Disease      </td></tr>\n",
       "\t<tr><th scope=row>Modernization</th><td> 0.347189258</td><td> 0.27388947</td><td> 0.245314283</td><td>Modernization</td></tr>\n",
       "\t<tr><th scope=row>Hofstede6D</th><td>-0.146502302</td><td>-0.17832825</td><td>-0.096895666</td><td>Hofstede6D   </td></tr>\n",
       "\t<tr><th scope=row>Genetics</th><td>-0.056350167</td><td>-0.15704750</td><td>-0.052023645</td><td>Genetics     </td></tr>\n",
       "\t<tr><th scope=row>Religion</th><td> 0.561205508</td><td> 0.60130350</td><td> 0.299383980</td><td>Religion     </td></tr>\n",
       "\t<tr><th scope=row>Politics</th><td>-0.125171700</td><td>-0.12197670</td><td>-0.077040532</td><td>Politics     </td></tr>\n",
       "\t<tr><th scope=row>Demographics</th><td>-0.051764417</td><td>-0.00252826</td><td>-0.323490323</td><td>Demographics </td></tr>\n",
       "</tbody>\n",
       "</table>\n"
      ],
      "text/latex": [
       "A data.frame: 12 × 4\n",
       "\\begin{tabular}{r|llll}\n",
       "  & Full model & Dimension & Category & Predictor\\\\\n",
       "  & <dbl> & <dbl> & <dbl> & <chr>\\\\\n",
       "\\hline\n",
       "\tLanguage &  0.004762153 & -0.10697771 &  0.189199974 & Language     \\\\\n",
       "\tPersonality &  0.133038448 &  0.17049891 &  0.062221370 & Personality  \\\\\n",
       "\tGeography & -0.212919053 & -0.19711407 & -0.205240469 & Geography    \\\\\n",
       "\tClimates &  0.163014939 &  0.16725624 &  0.145740268 & Climates     \\\\\n",
       "\tSubsistence & -0.079264337 & -0.02911967 & -0.003572058 & Subsistence  \\\\\n",
       "\tDisease &  0.003987127 & -0.02462745 & -0.012139785 & Disease      \\\\\n",
       "\tModernization &  0.347189258 &  0.27388947 &  0.245314283 & Modernization\\\\\n",
       "\tHofstede6D & -0.146502302 & -0.17832825 & -0.096895666 & Hofstede6D   \\\\\n",
       "\tGenetics & -0.056350167 & -0.15704750 & -0.052023645 & Genetics     \\\\\n",
       "\tReligion &  0.561205508 &  0.60130350 &  0.299383980 & Religion     \\\\\n",
       "\tPolitics & -0.125171700 & -0.12197670 & -0.077040532 & Politics     \\\\\n",
       "\tDemographics & -0.051764417 & -0.00252826 & -0.323490323 & Demographics \\\\\n",
       "\\end{tabular}\n"
      ],
      "text/markdown": [
       "\n",
       "A data.frame: 12 × 4\n",
       "\n",
       "| <!--/--> | Full model &lt;dbl&gt; | Dimension &lt;dbl&gt; | Category &lt;dbl&gt; | Predictor &lt;chr&gt; |\n",
       "|---|---|---|---|---|\n",
       "| Language |  0.004762153 | -0.10697771 |  0.189199974 | Language      |\n",
       "| Personality |  0.133038448 |  0.17049891 |  0.062221370 | Personality   |\n",
       "| Geography | -0.212919053 | -0.19711407 | -0.205240469 | Geography     |\n",
       "| Climates |  0.163014939 |  0.16725624 |  0.145740268 | Climates      |\n",
       "| Subsistence | -0.079264337 | -0.02911967 | -0.003572058 | Subsistence   |\n",
       "| Disease |  0.003987127 | -0.02462745 | -0.012139785 | Disease       |\n",
       "| Modernization |  0.347189258 |  0.27388947 |  0.245314283 | Modernization |\n",
       "| Hofstede6D | -0.146502302 | -0.17832825 | -0.096895666 | Hofstede6D    |\n",
       "| Genetics | -0.056350167 | -0.15704750 | -0.052023645 | Genetics      |\n",
       "| Religion |  0.561205508 |  0.60130350 |  0.299383980 | Religion      |\n",
       "| Politics | -0.125171700 | -0.12197670 | -0.077040532 | Politics      |\n",
       "| Demographics | -0.051764417 | -0.00252826 | -0.323490323 | Demographics  |\n",
       "\n"
      ],
      "text/plain": [
       "              Full model   Dimension   Category     Predictor    \n",
       "Language       0.004762153 -0.10697771  0.189199974 Language     \n",
       "Personality    0.133038448  0.17049891  0.062221370 Personality  \n",
       "Geography     -0.212919053 -0.19711407 -0.205240469 Geography    \n",
       "Climates       0.163014939  0.16725624  0.145740268 Climates     \n",
       "Subsistence   -0.079264337 -0.02911967 -0.003572058 Subsistence  \n",
       "Disease        0.003987127 -0.02462745 -0.012139785 Disease      \n",
       "Modernization  0.347189258  0.27388947  0.245314283 Modernization\n",
       "Hofstede6D    -0.146502302 -0.17832825 -0.096895666 Hofstede6D   \n",
       "Genetics      -0.056350167 -0.15704750 -0.052023645 Genetics     \n",
       "Religion       0.561205508  0.60130350  0.299383980 Religion     \n",
       "Politics      -0.125171700 -0.12197670 -0.077040532 Politics     \n",
       "Demographics  -0.051764417 -0.00252826 -0.323490323 Demographics "
      ]
     },
     "metadata": {},
     "output_type": "display_data"
    }
   ],
   "source": [
    "full_feature_beta = read.csv('output_data/rsa_results/beta/raw_33d.csv',row.names=1)\n",
    "full_feature_beta = full_feature_beta['Estimate']\n",
    "\n",
    "favee_beta = read.csv('output_data/rsa_results/beta/favee_33d.csv',row.names=1)\n",
    "favee_beta = favee_beta['Estimate']\n",
    "\n",
    "hpp_beta = read.csv('output_data/rsa_results/beta/hpp_33d.csv',row.names=1)\n",
    "hpp_beta = hpp_beta['Estimate']\n",
    "\n",
    "regression_results = cbind(full_feature_beta,favee_beta,hpp_beta)\n",
    "regression_results = regression_results[-c(1),]\n",
    "rownames(regression_results) = c('Language','Personality','Geography',\n",
    "           'Climates','Subsistence','Disease','Modernization','Hofstede6D',\n",
    "           'Genetics','Religion','Politics','Demographics')\n",
    "colnames(regression_results) = c('Full model','Dimension','Category')\n",
    "\n",
    "regression_results['Predictor'] = rownames(regression_results)\n",
    "regression_results\n",
    "regression_results_melt = melt(regression_results,id.vars = 'Predictor')\n",
    "\n",
    "regression_results_melt = regression_results_melt %>% filter(!Predictor %in% c('Demographics'))\n",
    "regression_results_melt$Predictor = factor(regression_results_melt$Predictor,\n",
    "levels = c('Geography','Hofstede6D','Subsistence','Genetics',\n",
    "           'Politics','Disease','Language','Personality','Climates',\n",
    "           'Modernization','Religion'))"
   ]
  },
  {
   "cell_type": "code",
   "execution_count": 35,
   "id": "ee6198a3",
   "metadata": {
    "ExecuteTime": {
     "end_time": "2023-10-29T12:09:41.058939Z",
     "start_time": "2023-10-29T12:09:41.026Z"
    },
    "vscode": {
     "languageId": "r"
    }
   },
   "outputs": [],
   "source": [
    "raw_data = read.csv('output_data/loocv/raw33d_loocv.csv',row.names=1)\n",
    "raw_data_mean = mean(raw_data[,1])\n",
    "\n",
    "favee = read.csv('output_data/loocv/favee33d_loocv.csv',row.names=1)\n",
    "favee_mean = mean(favee[,1])\n",
    "\n",
    "hpp = read.csv('output_data/loocv/hpp33d_loocv.csv',row.names=1)\n",
    "hpp_mean = mean(hpp[,1])"
   ]
  },
  {
   "cell_type": "code",
   "execution_count": 36,
   "id": "1c8dd0e4",
   "metadata": {
    "ExecuteTime": {
     "end_time": "2023-10-29T12:25:26.057626Z",
     "start_time": "2023-10-29T12:25:25.154Z"
    },
    "vscode": {
     "languageId": "r"
    }
   },
   "outputs": [
    {
     "data": {
      "text/html": [
       "<strong>png:</strong> 2"
      ],
      "text/latex": [
       "\\textbf{png:} 2"
      ],
      "text/markdown": [
       "**png:** 2"
      ],
      "text/plain": [
       "png \n",
       "  2 "
      ]
     },
     "metadata": {},
     "output_type": "display_data"
    },
    {
     "data": {
      "image/png": "[encoded data removed]",
      "text/plain": [
       "plot without title"
      ]
     },
     "metadata": {
      "image/png": {
       "height": 780,
       "width": 1200
      }
     },
     "output_type": "display_data"
    }
   ],
   "source": [
    "options(repr.plot.width=20,repr.plot.height=13)\n",
    "regression_results_melt %>%\n",
    "ggdotchart(x = \"Predictor\", y = \"value\",group = \"variable\",\n",
    "           #shape = 25,\n",
    "           size = 16,\n",
    "           color = \"variable\",                                \n",
    "           palette = c(\"#E7B800\", \"#00AFBB\", \"#FC4E07\"), \n",
    "           sorting = \"ascending\",                        \n",
    "           add = \"segments\",                             \n",
    "           ggtheme = theme_pubr()\n",
    ") + \n",
    "geom_hline(aes(yintercept=0),size=3)+\n",
    "geom_hline(aes(yintercept=-0.4),size=3)+\n",
    "geom_hline(aes(yintercept=raw_data_mean),size=2,linetype=\"dashed\",colour=\"#E7B800\")+\n",
    "geom_hline(aes(yintercept=favee_mean),size=2,linetype=\"dashed\",colour=\"#00AFBB\")+\n",
    "geom_hline(aes(yintercept=hpp_mean),size=2,linetype=\"dashed\",colour=\"#FC4E07\")+\n",
    "scale_y_continuous(breaks=seq(-0.5,1,0.25))+\n",
    "\n",
    "theme(axis.title=element_blank(),\n",
    "      #axis.text=element_text(color='white'),axis.ticks = element_blank(),\n",
    "      #axis.text.x=element_text(color='white'),\n",
    "      axis.line.x=element_line(linetype=1,color=\"black\",size=3),\n",
    "      axis.line.y=element_line(linetype=1,color=\"black\",size=3),\n",
    "      legend.title = element_blank(),\n",
    "      legend.text = element_text(size = 25,face='bold'),\n",
    "      legend.key.size = unit(3,'cm'),\n",
    "      legend.position = 'none')\n",
    "\n",
    "#################################################################\n",
    "png(\"../output_graph/regression/RSA_regression_revised.png\", bg=\"transparent\",\n",
    "    family = 'sans',units='in',width=20,height=13,res=300)\n",
    "regression_results_melt %>% \n",
    "ggdotchart(x = \"Predictor\", y = \"value\",group = \"variable\",\n",
    "           #shape = 25,\n",
    "           size = 16,\n",
    "           color = \"variable\",                                \n",
    "           palette = c(\"#E7B800\", \"#00AFBB\", \"#FC4E07\"), \n",
    "           sorting = \"ascending\",                        \n",
    "           add = \"segments\",                             \n",
    "           ggtheme = theme_pubr()\n",
    ") + \n",
    "geom_hline(aes(yintercept=0),size=3)+\n",
    "geom_hline(aes(yintercept=-0.4),size=3)+\n",
    "geom_hline(aes(yintercept=raw_data_mean),size=2,linetype=\"dashed\",colour=\"#E7B800\")+\n",
    "geom_hline(aes(yintercept=favee_mean),size=2,linetype=\"dashed\",colour=\"#00AFBB\")+\n",
    "geom_hline(aes(yintercept=hpp_mean),size=2,linetype=\"dashed\",colour=\"#FC4E07\")+\n",
    "scale_y_continuous(breaks=seq(-0.5,1,0.25))+\n",
    "\n",
    "theme(axis.title=element_blank(),\n",
    "      axis.text=element_text(color='white'),axis.ticks = element_blank(),\n",
    "      axis.line.x=element_line(linetype=1,color=\"white\",size=3),\n",
    "      axis.line.y=element_line(linetype=1,color=\"black\",size=3),\n",
    "      legend.title = element_blank(),\n",
    "      legend.text = element_text(size = 25,face='bold'),\n",
    "      legend.key.size = unit(3,'cm'),\n",
    "      legend.position = 'none')\n",
    "dev.off()"
   ]
  },
  {
   "cell_type": "markdown",
   "id": "3683d782",
   "metadata": {},
   "source": [
    "## scatter plot"
   ]
  },
  {
   "cell_type": "code",
   "execution_count": 37,
   "id": "1d7e4186",
   "metadata": {
    "ExecuteTime": {
     "end_time": "2023-10-29T13:20:44.515955Z",
     "start_time": "2023-10-29T13:20:44.494Z"
    },
    "vscode": {
     "languageId": "r"
    }
   },
   "outputs": [],
   "source": [
    "fix_region = function(df){\n",
    "    regions = rownames(df)\n",
    "    regions = str_replace(regions,'United States','USA')\n",
    "    regions = str_replace(regions,'United Kingdom','UK')\n",
    "    regions = str_replace(regions,'China','CHN')\n",
    "    regions = str_replace(regions,'South_africa','South Africa')\n",
    "    regions = str_replace(regions,'Spain','Spanish')\n",
    "    regions = str_replace(regions,'HK','HK(region)')\n",
    "    regions = gsub('Hong Kong SAR, CHN','HK(region)',regions,fixed=TRUE)\n",
    "    regions = str_replace(regions,'Hong Kong','HK(region)')\n",
    "    regions = str_replace(regions,'Spanish','Spain')\n",
    "    regions = str_replace(regions,'Russian Federation','Russia')\n",
    "    regions = str_replace(regions,'Russian','Russia')\n",
    "    regions = str_replace(regions,'Egypt, Arab Rep.','Egypt')\n",
    "    \n",
    "    rownames(df) = regions\n",
    "    colnames(df) = regions\n",
    "    \n",
    "    df = df[regions_selected,regions_selected]\n",
    "    return(df)\n",
    "}"
   ]
  },
  {
   "cell_type": "code",
   "execution_count": 38,
   "id": "4eee95cc",
   "metadata": {
    "ExecuteTime": {
     "end_time": "2023-10-29T13:46:31.739696Z",
     "start_time": "2023-10-29T13:46:31.708Z"
    },
    "vscode": {
     "languageId": "r"
    }
   },
   "outputs": [],
   "source": [
    "raw33d_dissim_dist = read.csv('output_data/models_rdm/full_feature/raw33d_dissim_dist.csv',\n",
    "                             row.names=1)\n",
    "regions_selected = rownames(raw33d_dissim_dist)\n",
    "raw_rdm = raw33d_dissim_dist[lower.tri(raw33d_dissim_dist,diag = FALSE)]\n",
    "favee_dissim_dist = read.csv('output_data/models_rdm/dimensional/favee_dissim_dist.csv',\n",
    "                             row.names=1)\n",
    "favee_rdm = favee_dissim_dist[lower.tri(favee_dissim_dist,diag = FALSE)]\n",
    "hpp_dissim_dist = read.csv('output_data/models_rdm/categorical/hpp_dissim_dist.csv',\n",
    "                             row.names=1)\n",
    "hpp_rdm = hpp_dissim_dist[lower.tri(hpp_dissim_dist,diag = FALSE)]"
   ]
  },
  {
   "cell_type": "markdown",
   "id": "b6dc44e9",
   "metadata": {},
   "source": [
    "### full feature"
   ]
  },
  {
   "cell_type": "code",
   "execution_count": 39,
   "id": "d447fea9",
   "metadata": {
    "ExecuteTime": {
     "end_time": "2023-10-29T13:46:38.467725Z",
     "start_time": "2023-10-29T13:46:38.391Z"
    },
    "vscode": {
     "languageId": "r"
    }
   },
   "outputs": [
    {
     "data": {
      "text/plain": [
       "\n",
       "Call:\n",
       "lm(formula = scale(raw_rdm) ~ scale(modern_rdm))\n",
       "\n",
       "Residuals:\n",
       "     Min       1Q   Median       3Q      Max \n",
       "-2.31280 -0.70645 -0.07477  0.65156  3.04552 \n",
       "\n",
       "Coefficients:\n",
       "                   Estimate Std. Error t value Pr(>|t|)    \n",
       "(Intercept)       1.321e-16  6.926e-02   0.000        1    \n",
       "scale(modern_rdm) 4.295e-01  6.946e-02   6.184 4.56e-09 ***\n",
       "---\n",
       "Signif. codes:  0 '***' 0.001 '**' 0.01 '*' 0.05 '.' 0.1 ' ' 1\n",
       "\n",
       "Residual standard error: 0.9057 on 169 degrees of freedom\n",
       "Multiple R-squared:  0.1845,\tAdjusted R-squared:  0.1797 \n",
       "F-statistic: 38.24 on 1 and 169 DF,  p-value: 4.556e-09\n"
      ]
     },
     "metadata": {},
     "output_type": "display_data"
    },
    {
     "data": {
      "text/html": [
       "0.429546386075219"
      ],
      "text/latex": [
       "0.429546386075219"
      ],
      "text/markdown": [
       "0.429546386075219"
      ],
      "text/plain": [
       "[1] 0.4295464"
      ]
     },
     "metadata": {},
     "output_type": "display_data"
    },
    {
     "data": {
      "text/plain": [
       "\n",
       "Call:\n",
       "lm(formula = scale(raw_rdm) ~ scale(religion_rdm))\n",
       "\n",
       "Residuals:\n",
       "     Min       1Q   Median       3Q      Max \n",
       "-1.83794 -0.68998  0.05443  0.47180  2.10597 \n",
       "\n",
       "Coefficients:\n",
       "                     Estimate Std. Error t value Pr(>|t|)    \n",
       "(Intercept)         1.203e-16  6.358e-02    0.00        1    \n",
       "scale(religion_rdm) 5.593e-01  6.377e-02    8.77 1.86e-15 ***\n",
       "---\n",
       "Signif. codes:  0 '***' 0.001 '**' 0.01 '*' 0.05 '.' 0.1 ' ' 1\n",
       "\n",
       "Residual standard error: 0.8314 on 169 degrees of freedom\n",
       "Multiple R-squared:  0.3128,\tAdjusted R-squared:  0.3087 \n",
       "F-statistic: 76.92 on 1 and 169 DF,  p-value: 1.856e-15\n"
      ]
     },
     "metadata": {},
     "output_type": "display_data"
    },
    {
     "data": {
      "text/html": [
       "0.559273181428164"
      ],
      "text/latex": [
       "0.559273181428164"
      ],
      "text/markdown": [
       "0.559273181428164"
      ],
      "text/plain": [
       "[1] 0.5592732"
      ]
     },
     "metadata": {},
     "output_type": "display_data"
    }
   ],
   "source": [
    "religion = read.csv('../Cultural_RDM/rdm/religion_percentage_rdm.csv',\n",
    "                     row.names=1, encoding = \"UTF-8\",check.names = FALSE)\n",
    "religion = fix_region(religion)\n",
    "religion_rdm = religion[lower.tri(religion,diag = FALSE)]\n",
    "\n",
    "modern = read.csv('../Cultural_RDM/rdm/modern_dist.csv', \n",
    "                  row.names=1, encoding = \"UTF-8\",check.names = FALSE)\n",
    "modern = fix_region(modern)\n",
    "modern_rdm = modern[lower.tri(modern,diag = FALSE)]\n",
    "\n",
    "raw_religion = data.frame(cbind(scale(raw_rdm),scale(religion_rdm)))\n",
    "raw_religion['pre'] = 'religion'\n",
    "raw_modern = data.frame(cbind(scale(raw_rdm),scale(modern_rdm)))\n",
    "raw_modern['pre'] = 'modern'\n",
    "raw_resutls = rbind(raw_religion,raw_modern)\n",
    "colnames(raw_resutls) = c('model_rdm','pre_rdm','pre')\n",
    "raw_resutls$pre = factor(raw_resutls$pre,levels=c('modern','religion'))\n",
    "\n",
    "# results of correlation is the same as regression\n",
    "summary(lm(scale(raw_rdm)~scale(modern_rdm)))\n",
    "raw_modern = cor(scale(raw_rdm),scale(modern_rdm))[1,1]\n",
    "raw_modern\n",
    "summary(lm(scale(raw_rdm)~scale(religion_rdm)))\n",
    "raw_religion = cor(scale(raw_rdm),scale(religion_rdm))[1,1]\n",
    "raw_religion"
   ]
  },
  {
   "cell_type": "code",
   "execution_count": 40,
   "id": "fa94a793",
   "metadata": {
    "ExecuteTime": {
     "end_time": "2023-10-29T13:38:44.659497Z",
     "start_time": "2023-10-29T13:38:33.962Z"
    },
    "vscode": {
     "languageId": "r"
    }
   },
   "outputs": [],
   "source": [
    "r_modern_distri = c()\n",
    "r_religion_distri = c()\n",
    "for (i in (1:10000)){\n",
    "    sel = sample(19)\n",
    "    modern_permat = modern[sel,sel]\n",
    "    modern_rdm = modern_permat[lower.tri(modern_permat,diag = FALSE)]\n",
    "    religion_permat = religion[sel,sel]\n",
    "    religion_rdm = religion_permat[lower.tri(religion_permat,diag = FALSE)]\n",
    "    \n",
    "    r_modern = cor(scale(raw_rdm),scale(modern_rdm))\n",
    "    r_religion = cor(scale(raw_rdm),scale(religion_rdm))\n",
    "    \n",
    "    r_modern_distri = c(r_modern_distri,r_modern)\n",
    "    r_religion_distri = c(r_religion_distri,r_religion)\n",
    "}"
   ]
  },
  {
   "cell_type": "code",
   "execution_count": 41,
   "id": "45195e2b",
   "metadata": {
    "ExecuteTime": {
     "end_time": "2023-10-29T13:43:13.452117Z",
     "start_time": "2023-10-29T13:43:13.420Z"
    },
    "vscode": {
     "languageId": "r"
    }
   },
   "outputs": [
    {
     "data": {
      "text/html": [
       "0.0059"
      ],
      "text/latex": [
       "0.0059"
      ],
      "text/markdown": [
       "0.0059"
      ],
      "text/plain": [
       "[1] 0.0059"
      ]
     },
     "metadata": {},
     "output_type": "display_data"
    },
    {
     "data": {
      "text/html": [
       "2e-04"
      ],
      "text/latex": [
       "2e-04"
      ],
      "text/markdown": [
       "2e-04"
      ],
      "text/plain": [
       "[1] 2e-04"
      ]
     },
     "metadata": {},
     "output_type": "display_data"
    }
   ],
   "source": [
    "sum(r_modern_distri>raw_modern)/10000\n",
    "sum(r_religion_distri>raw_religion)/10000"
   ]
  },
  {
   "cell_type": "code",
   "execution_count": 42,
   "id": "28cfd6d9",
   "metadata": {
    "ExecuteTime": {
     "end_time": "2023-10-05T06:17:31.296992Z",
     "start_time": "2023-10-05T06:15:22.209Z"
    },
    "vscode": {
     "languageId": "r"
    }
   },
   "outputs": [
    {
     "data": {
      "image/png": "[encoded data removed]",
      "text/plain": [
       "plot without title"
      ]
     },
     "metadata": {
      "image/png": {
       "height": 480,
       "width": 720
      }
     },
     "output_type": "display_data"
    }
   ],
   "source": [
    "options(repr.plot.width = 12,repr.plot.height = 8)\n",
    "ggplot(raw_resutls,aes(x=pre_rdm,y=model_rdm,group=pre,shape=pre))+\n",
    "geom_point(aes(alpha=pre),size=15,colour='#E7B800',stroke=3)+\n",
    "scale_shape_manual(values=c('religion'=1,'modern'=16))+\n",
    "scale_alpha_manual(values=c('religion'=0.8,'modern'=0.3))+\n",
    "geom_smooth(aes(linetype = pre),\n",
    "            method = 'lm', size=3,formula = y ~ x,color = '#E7B800') +\n",
    "\n",
    "theme_classic() + \n",
    "theme(#axis.text.x=element_blank(),axis.title.x =element_blank(),\n",
    "    #axis.ticks.x = element_blank(),\n",
    "    axis.text.y=element_text(size=50,face='bold',color=\"black\"),\n",
    "    axis.title.y=element_text(size=28,face='bold',color=\"black\"),\n",
    "    axis.text.x=element_text(size=50,face='bold',color=\"black\"),\n",
    "    axis.title.x=element_text(size=28,face='bold',color=\"black\"),\n",
    "    axis.line.x=element_line(linetype=1,color=\"black\",size=2),\n",
    "    axis.line.y=element_line(linetype=1,color=\"black\",size=2),\n",
    "    legend.position = 'none') \n",
    "\n",
    "# png(\"../output_graph/regression/full_feature_correlation.png\", bg=\"transparent\",\n",
    "#     family = 'sans',units='in',width=12,height=8,res=300)\n",
    "# ggplot(raw_resutls,aes(x=pre_rdm,y=model_rdm,group=pre,shape=pre))+\n",
    "# geom_point(aes(alpha=pre),size=15,colour='#E7B800',stroke=3)+\n",
    "# scale_shape_manual(values=c('religion'=1,'modern'=16))+\n",
    "# scale_alpha_manual(values=c('religion'=0.8,'modern'=0.3))+\n",
    "# geom_smooth(aes(linetype = pre),\n",
    "#             method = 'lm', size=3,formula = y ~ x,color = '#E7B800') +\n",
    "\n",
    "# theme_classic() + \n",
    "# theme(#axis.text.x=element_blank(),\n",
    "#     axis.title =element_blank(),\n",
    "#     #axis.ticks.x = element_blank(),\n",
    "#     axis.text.y=element_text(size=50,face='bold',color=\"black\"),\n",
    "#     #axis.title.y=element_text(size=28,face='bold',color=\"black\"),\n",
    "#     axis.text.x=element_text(size=50,face='bold',color=\"black\"),\n",
    "#     #axis.title.x=element_text(size=28,face='bold',color=\"black\"),\n",
    "#     axis.line.x=element_line(linetype=1,color=\"black\",size=2),\n",
    "#     axis.line.y=element_line(linetype=1,color=\"black\",size=2),\n",
    "#     legend.position = 'none') \n",
    "# dev.off()"
   ]
  },
  {
   "cell_type": "markdown",
   "id": "0b3315f0",
   "metadata": {},
   "source": [
    "### favee"
   ]
  },
  {
   "cell_type": "code",
   "execution_count": 26,
   "id": "175e4c07",
   "metadata": {
    "ExecuteTime": {
     "end_time": "2023-10-29T13:46:48.770050Z",
     "start_time": "2023-10-29T13:46:48.695Z"
    },
    "vscode": {
     "languageId": "r"
    }
   },
   "outputs": [
    {
     "data": {
      "text/plain": [
       "\n",
       "Call:\n",
       "lm(formula = scale(favee_rdm) ~ scale(modern_rdm))\n",
       "\n",
       "Residuals:\n",
       "     Min       1Q   Median       3Q      Max \n",
       "-2.22099 -0.73633  0.03004  0.80814  2.60364 \n",
       "\n",
       "Coefficients:\n",
       "                    Estimate Std. Error t value Pr(>|t|)    \n",
       "(Intercept)       -9.719e-18  7.205e-02   0.000        1    \n",
       "scale(modern_rdm)  3.430e-01  7.226e-02   4.747 4.39e-06 ***\n",
       "---\n",
       "Signif. codes:  0 '***' 0.001 '**' 0.01 '*' 0.05 '.' 0.1 ' ' 1\n",
       "\n",
       "Residual standard error: 0.9421 on 169 degrees of freedom\n",
       "Multiple R-squared:  0.1176,\tAdjusted R-squared:  0.1124 \n",
       "F-statistic: 22.53 on 1 and 169 DF,  p-value: 4.385e-06\n"
      ]
     },
     "metadata": {},
     "output_type": "display_data"
    },
    {
     "data": {
      "text/html": [
       "0.342981128676979"
      ],
      "text/latex": [
       "0.342981128676979"
      ],
      "text/markdown": [
       "0.342981128676979"
      ],
      "text/plain": [
       "[1] 0.3429811"
      ]
     },
     "metadata": {},
     "output_type": "display_data"
    },
    {
     "data": {
      "text/plain": [
       "\n",
       "Call:\n",
       "lm(formula = scale(favee_rdm) ~ scale(religion_rdm))\n",
       "\n",
       "Residuals:\n",
       "    Min      1Q  Median      3Q     Max \n",
       "-1.8168 -0.6851  0.1301  0.6692  2.3948 \n",
       "\n",
       "Coefficients:\n",
       "                      Estimate Std. Error t value Pr(>|t|)    \n",
       "(Intercept)         -2.680e-17  6.592e-02   0.000        1    \n",
       "scale(religion_rdm)  5.112e-01  6.611e-02   7.732 9.08e-13 ***\n",
       "---\n",
       "Signif. codes:  0 '***' 0.001 '**' 0.01 '*' 0.05 '.' 0.1 ' ' 1\n",
       "\n",
       "Residual standard error: 0.862 on 169 degrees of freedom\n",
       "Multiple R-squared:  0.2613,\tAdjusted R-squared:  0.2569 \n",
       "F-statistic: 59.78 on 1 and 169 DF,  p-value: 9.076e-13\n"
      ]
     },
     "metadata": {},
     "output_type": "display_data"
    },
    {
     "data": {
      "text/html": [
       "0.511166295079501"
      ],
      "text/latex": [
       "0.511166295079501"
      ],
      "text/markdown": [
       "0.511166295079501"
      ],
      "text/plain": [
       "[1] 0.5111663"
      ]
     },
     "metadata": {},
     "output_type": "display_data"
    }
   ],
   "source": [
    "religion = read.csv('../Cultural_RDM/rdm/religion_percentage_rdm.csv',\n",
    "                     row.names=1, encoding = \"UTF-8\",check.names = FALSE)\n",
    "religion = fix_region(religion)\n",
    "religion_rdm = religion[lower.tri(religion,diag = FALSE)]\n",
    "\n",
    "modern = read.csv('../Cultural_RDM/rdm/modern_dist.csv', \n",
    "                  row.names=1, encoding = \"UTF-8\",check.names = FALSE)\n",
    "modern = fix_region(modern)\n",
    "modern_rdm = modern[lower.tri(modern,diag = FALSE)]\n",
    "\n",
    "favee_religion = data.frame(cbind(scale(favee_rdm),scale(religion_rdm)))\n",
    "favee_religion['pre'] = 'religion'\n",
    "favee_modern = data.frame(cbind(scale(favee_rdm),scale(modern_rdm)))\n",
    "favee_modern['pre'] = 'modern'\n",
    "favee_resutls = rbind(favee_religion,favee_modern)\n",
    "colnames(favee_resutls) = c('model_rdm','pre_rdm','pre')\n",
    "favee_resutls$pre = factor(favee_resutls$pre,levels=c('modern','religion'))\n",
    "\n",
    "# results of correlation is the same as regression\n",
    "summary(lm(scale(favee_rdm)~scale(modern_rdm)))\n",
    "favee_modern = cor(scale(favee_rdm),scale(modern_rdm))[1,1]\n",
    "favee_modern\n",
    "summary(lm(scale(favee_rdm)~scale(religion_rdm)))\n",
    "favee_religion = cor(scale(favee_rdm),scale(religion_rdm))[1,1]\n",
    "favee_religion"
   ]
  },
  {
   "cell_type": "code",
   "execution_count": 27,
   "id": "48f57c62",
   "metadata": {
    "ExecuteTime": {
     "end_time": "2023-10-29T13:44:54.233639Z",
     "start_time": "2023-10-29T13:44:43.948Z"
    },
    "vscode": {
     "languageId": "r"
    }
   },
   "outputs": [
    {
     "data": {
      "text/html": [
       "0.0199"
      ],
      "text/latex": [
       "0.0199"
      ],
      "text/markdown": [
       "0.0199"
      ],
      "text/plain": [
       "[1] 0.0199"
      ]
     },
     "metadata": {},
     "output_type": "display_data"
    },
    {
     "data": {
      "text/html": [
       "6e-04"
      ],
      "text/latex": [
       "6e-04"
      ],
      "text/markdown": [
       "6e-04"
      ],
      "text/plain": [
       "[1] 6e-04"
      ]
     },
     "metadata": {},
     "output_type": "display_data"
    }
   ],
   "source": [
    "r_modern_distri = c()\n",
    "r_religion_distri = c()\n",
    "for (i in (1:10000)){\n",
    "    sel = sample(19)\n",
    "    modern_permat = modern[sel,sel]\n",
    "    modern_rdm = modern_permat[lower.tri(modern_permat,diag = FALSE)]\n",
    "    religion_permat = religion[sel,sel]\n",
    "    religion_rdm = religion_permat[lower.tri(religion_permat,diag = FALSE)]\n",
    "    \n",
    "    r_modern = cor(scale(favee_rdm),scale(modern_rdm))\n",
    "    r_religion = cor(scale(favee_rdm),scale(religion_rdm))\n",
    "    \n",
    "    r_modern_distri = c(r_modern_distri,r_modern)\n",
    "    r_religion_distri = c(r_religion_distri,r_religion)\n",
    "}\n",
    "sum(r_modern_distri>favee_modern)/10000\n",
    "sum(r_religion_distri>favee_religion)/10000"
   ]
  },
  {
   "cell_type": "code",
   "execution_count": 28,
   "id": "19eb24d8",
   "metadata": {
    "ExecuteTime": {
     "end_time": "2023-10-05T06:17:31.599992Z",
     "start_time": "2023-10-05T06:15:22.358Z"
    },
    "vscode": {
     "languageId": "r"
    }
   },
   "outputs": [
    {
     "data": {
      "image/png": "[encoded data removed]",
      "text/plain": [
       "plot without title"
      ]
     },
     "metadata": {
      "image/png": {
       "height": 480,
       "width": 720
      }
     },
     "output_type": "display_data"
    }
   ],
   "source": [
    "options(repr.plot.width = 12,repr.plot.height = 8)\n",
    "ggplot(favee_resutls,aes(x=pre_rdm,y=model_rdm,group=pre,shape=pre))+\n",
    "geom_point(aes(alpha=pre),size=15,colour='#00AFBB',stroke=3)+\n",
    "scale_shape_manual(values=c('religion'=1,'modern'=16))+\n",
    "scale_alpha_manual(values=c('religion'=0.8,'modern'=0.3))+\n",
    "geom_smooth(aes(linetype = pre),\n",
    "            method = 'lm', size=3,formula = y ~ x,color = '#00AFBB') +\n",
    "\n",
    "theme_classic() + \n",
    "theme(#axis.text.x=element_blank(),axis.title.x =element_blank(),\n",
    "    #axis.ticks.x = element_blank(),\n",
    "    axis.text.y=element_text(size=50,face='bold',color=\"black\"),\n",
    "    axis.title.y=element_text(size=28,face='bold',color=\"black\"),\n",
    "    axis.text.x=element_text(size=50,face='bold',color=\"black\"),\n",
    "    axis.title.x=element_text(size=28,face='bold',color=\"black\"),\n",
    "    axis.line.x=element_line(linetype=1,color=\"black\",size=2),\n",
    "    axis.line.y=element_line(linetype=1,color=\"black\",size=2),\n",
    "    legend.position = 'none') \n",
    "\n",
    "# png(\"../output_graph/regression/favee_correlation.png\", bg=\"transparent\",\n",
    "#     family = 'sans',units='in',width=12,height=8,res=300)\n",
    "# ggplot(favee_resutls,aes(x=pre_rdm,y=model_rdm,group=pre,shape=pre))+\n",
    "# geom_point(aes(alpha=pre),size=15,colour='#00AFBB',stroke=3)+\n",
    "# scale_shape_manual(values=c('religion'=1,'modern'=16))+\n",
    "# scale_alpha_manual(values=c('religion'=0.8,'modern'=0.3))+\n",
    "# geom_smooth(aes(linetype = pre),\n",
    "#             method = 'lm', size=3,formula = y ~ x,color = '#00AFBB') +\n",
    "\n",
    "# theme_classic() + \n",
    "# theme(#axis.text.x=element_blank(),\n",
    "#     axis.title =element_blank(),\n",
    "#     #axis.ticks.x = element_blank(),\n",
    "#     axis.text.y=element_text(size=50,face='bold',color=\"black\"),\n",
    "#     #axis.title.y=element_text(size=28,face='bold',color=\"black\"),\n",
    "#     axis.text.x=element_text(size=50,face='bold',color=\"black\"),\n",
    "#     #axis.title.x=element_text(size=28,face='bold',color=\"black\"),\n",
    "#     axis.line.x=element_line(linetype=1,color=\"black\",size=2),\n",
    "#     axis.line.y=element_line(linetype=1,color=\"black\",size=2),\n",
    "#     legend.position = 'none') \n",
    "# dev.off()"
   ]
  },
  {
   "cell_type": "markdown",
   "id": "b2f2cbd1",
   "metadata": {},
   "source": [
    "### hpp"
   ]
  },
  {
   "cell_type": "code",
   "execution_count": 29,
   "id": "ce5207bd",
   "metadata": {
    "ExecuteTime": {
     "end_time": "2023-10-29T13:46:56.584777Z",
     "start_time": "2023-10-29T13:46:56.518Z"
    },
    "vscode": {
     "languageId": "r"
    }
   },
   "outputs": [
    {
     "data": {
      "text/plain": [
       "\n",
       "Call:\n",
       "lm(formula = scale(hpp_rdm) ~ scale(modern_rdm))\n",
       "\n",
       "Residuals:\n",
       "     Min       1Q   Median       3Q      Max \n",
       "-2.08057 -0.72525 -0.01331  0.74462  2.94606 \n",
       "\n",
       "Coefficients:\n",
       "                   Estimate Std. Error t value Pr(>|t|)    \n",
       "(Intercept)       1.503e-16  7.349e-02   0.000 1.000000    \n",
       "scale(modern_rdm) 2.863e-01  7.370e-02   3.884 0.000147 ***\n",
       "---\n",
       "Signif. codes:  0 '***' 0.001 '**' 0.01 '*' 0.05 '.' 0.1 ' ' 1\n",
       "\n",
       "Residual standard error: 0.961 on 169 degrees of freedom\n",
       "Multiple R-squared:  0.08195,\tAdjusted R-squared:  0.07652 \n",
       "F-statistic: 15.09 on 1 and 169 DF,  p-value: 0.0001472\n"
      ]
     },
     "metadata": {},
     "output_type": "display_data"
    },
    {
     "data": {
      "text/html": [
       "0.286267381600812"
      ],
      "text/latex": [
       "0.286267381600812"
      ],
      "text/markdown": [
       "0.286267381600812"
      ],
      "text/plain": [
       "[1] 0.2862674"
      ]
     },
     "metadata": {},
     "output_type": "display_data"
    },
    {
     "data": {
      "text/plain": [
       "\n",
       "Call:\n",
       "lm(formula = scale(hpp_rdm) ~ scale(religion_rdm))\n",
       "\n",
       "Residuals:\n",
       "     Min       1Q   Median       3Q      Max \n",
       "-2.54112 -0.65128  0.00955  0.67098  2.19945 \n",
       "\n",
       "Coefficients:\n",
       "                     Estimate Std. Error t value Pr(>|t|)    \n",
       "(Intercept)         1.478e-16  7.246e-02   0.000        1    \n",
       "scale(religion_rdm) 3.278e-01  7.267e-02   4.511  1.2e-05 ***\n",
       "---\n",
       "Signif. codes:  0 '***' 0.001 '**' 0.01 '*' 0.05 '.' 0.1 ' ' 1\n",
       "\n",
       "Residual standard error: 0.9475 on 169 degrees of freedom\n",
       "Multiple R-squared:  0.1075,\tAdjusted R-squared:  0.1022 \n",
       "F-statistic: 20.35 on 1 and 169 DF,  p-value: 1.201e-05\n"
      ]
     },
     "metadata": {},
     "output_type": "display_data"
    },
    {
     "data": {
      "text/html": [
       "0.327849052796355"
      ],
      "text/latex": [
       "0.327849052796355"
      ],
      "text/markdown": [
       "0.327849052796355"
      ],
      "text/plain": [
       "[1] 0.3278491"
      ]
     },
     "metadata": {},
     "output_type": "display_data"
    }
   ],
   "source": [
    "religion = read.csv('../Cultural_RDM/rdm/religion_percentage_rdm.csv',\n",
    "                     row.names=1, encoding = \"UTF-8\",check.names = FALSE)\n",
    "religion = fix_region(religion)\n",
    "religion_rdm = religion[lower.tri(religion,diag = FALSE)]\n",
    "\n",
    "modern = read.csv('../Cultural_RDM/rdm/modern_dist.csv', \n",
    "                  row.names=1, encoding = \"UTF-8\",check.names = FALSE)\n",
    "modern = fix_region(modern)\n",
    "modern_rdm = modern[lower.tri(modern,diag = FALSE)]\n",
    "\n",
    "hpp_religion = data.frame(cbind(scale(hpp_rdm),scale(religion_rdm)))\n",
    "hpp_religion['pre'] = 'religion'\n",
    "hpp_modern = data.frame(cbind(scale(hpp_rdm),scale(modern_rdm)))\n",
    "hpp_modern['pre'] = 'modern'\n",
    "hpp_resutls = rbind(hpp_religion,hpp_modern)\n",
    "colnames(hpp_resutls) = c('model_rdm','pre_rdm','pre')\n",
    "hpp_resutls$pre = factor(hpp_resutls$pre,levels=c('modern','religion'))\n",
    "\n",
    "summary(lm(scale(hpp_rdm)~scale(modern_rdm)))\n",
    "hpp_modern = cor(scale(hpp_rdm),scale(modern_rdm))[1,1]\n",
    "hpp_modern\n",
    "summary(lm(scale(hpp_rdm)~scale(religion_rdm)))\n",
    "hpp_religion = cor(scale(hpp_rdm),scale(religion_rdm))[1,1]\n",
    "hpp_religion"
   ]
  },
  {
   "cell_type": "code",
   "execution_count": 30,
   "id": "a6850d6e",
   "metadata": {
    "ExecuteTime": {
     "end_time": "2023-10-29T13:47:39.534831Z",
     "start_time": "2023-10-29T13:47:29.218Z"
    },
    "vscode": {
     "languageId": "r"
    }
   },
   "outputs": [
    {
     "data": {
      "text/html": [
       "0.0293"
      ],
      "text/latex": [
       "0.0293"
      ],
      "text/markdown": [
       "0.0293"
      ],
      "text/plain": [
       "[1] 0.0293"
      ]
     },
     "metadata": {},
     "output_type": "display_data"
    },
    {
     "data": {
      "text/html": [
       "0.0101"
      ],
      "text/latex": [
       "0.0101"
      ],
      "text/markdown": [
       "0.0101"
      ],
      "text/plain": [
       "[1] 0.0101"
      ]
     },
     "metadata": {},
     "output_type": "display_data"
    }
   ],
   "source": [
    "r_modern_distri = c()\n",
    "r_religion_distri = c()\n",
    "for (i in (1:10000)){\n",
    "    sel = sample(19)\n",
    "    modern_permat = modern[sel,sel]\n",
    "    modern_rdm = modern_permat[lower.tri(modern_permat,diag = FALSE)]\n",
    "    religion_permat = religion[sel,sel]\n",
    "    religion_rdm = religion_permat[lower.tri(religion_permat,diag = FALSE)]\n",
    "    \n",
    "    r_modern = cor(scale(hpp_rdm),scale(modern_rdm))\n",
    "    r_religion = cor(scale(hpp_rdm),scale(religion_rdm))\n",
    "    \n",
    "    r_modern_distri = c(r_modern_distri,r_modern)\n",
    "    r_religion_distri = c(r_religion_distri,r_religion)\n",
    "}\n",
    "sum(r_modern_distri>hpp_modern)/10000\n",
    "sum(r_religion_distri>hpp_religion)/10000"
   ]
  },
  {
   "cell_type": "code",
   "execution_count": 31,
   "id": "f773abfa",
   "metadata": {
    "ExecuteTime": {
     "end_time": "2023-10-05T06:17:31.905962Z",
     "start_time": "2023-10-05T06:15:22.516Z"
    },
    "vscode": {
     "languageId": "r"
    }
   },
   "outputs": [
    {
     "data": {
      "image/png": "[encoded data removed]",
      "text/plain": [
       "plot without title"
      ]
     },
     "metadata": {
      "image/png": {
       "height": 480,
       "width": 720
      }
     },
     "output_type": "display_data"
    }
   ],
   "source": [
    "options(repr.plot.width = 12,repr.plot.height = 8)\n",
    "ggplot(hpp_resutls,aes(x=pre_rdm,y=model_rdm,group=pre,shape=pre))+\n",
    "geom_point(aes(alpha=pre),size=15,colour='#FC4E07',stroke=3)+\n",
    "scale_shape_manual(values=c('religion'=1,'modern'=16))+\n",
    "scale_alpha_manual(values=c('religion'=0.8,'modern'=0.3))+\n",
    "\n",
    "geom_smooth(aes(linetype = pre),\n",
    "            method = 'lm', size=3,formula = y ~ x,color = \"#FC4E07\") +\n",
    "\n",
    "theme_classic() +  \n",
    "theme(#axis.text.x=element_blank(),axis.title.x =element_blank(),\n",
    "    #axis.ticks.x = element_blank(),\n",
    "    axis.text.y=element_text(size=50,face='bold',color=\"black\"),\n",
    "    axis.title.y=element_text(size=28,face='bold',color=\"black\"),\n",
    "    axis.text.x=element_text(size=50,face='bold',color=\"black\"),\n",
    "    axis.title.x=element_text(size=28,face='bold',color=\"black\"),\n",
    "    axis.line.x=element_line(linetype=1,color=\"black\",size=2),\n",
    "    axis.line.y=element_line(linetype=1,color=\"black\",size=2),\n",
    "    legend.position = 'none')  \n",
    "\n",
    "# png(\"../output_graph/regression/hpp_correlation.png\", bg=\"transparent\",\n",
    "#     family = 'sans',units='in',width=12,height=8,res=300)\n",
    "# ggplot(hpp_resutls,aes(x=pre_rdm,y=model_rdm,group=pre,shape=pre))+\n",
    "# geom_point(aes(alpha=pre),size=15,colour='#FC4E07',stroke=3)+\n",
    "# scale_shape_manual(values=c('religion'=1,'modern'=16))+\n",
    "# scale_alpha_manual(values=c('religion'=0.8,'modern'=0.3))+\n",
    "# geom_smooth(aes(linetype = pre),\n",
    "#             method = 'lm', size=3,formula = y ~ x,color = \"#FC4E07\") +\n",
    "\n",
    "# theme_classic() + \n",
    "# theme(#axis.text.x=element_blank(),\n",
    "#     axis.title =element_blank(),\n",
    "#     #axis.ticks.x = element_blank(),\n",
    "#     axis.text.y=element_text(size=50,face='bold',color=\"black\"),\n",
    "#     #axis.title.y=element_text(size=28,face='bold',color=\"black\"),\n",
    "#     axis.text.x=element_text(size=50,face='bold',color=\"black\"),\n",
    "#     #axis.title.x=element_text(size=28,face='bold',color=\"black\"),\n",
    "#     axis.line.x=element_line(linetype=1,color=\"black\",size=2),\n",
    "#     axis.line.y=element_line(linetype=1,color=\"black\",size=2),\n",
    "#     legend.position = 'none') \n",
    "# dev.off()"
   ]
  },
  {
   "cell_type": "markdown",
   "id": "362179ff",
   "metadata": {},
   "source": [
    "legend"
   ]
  },
  {
   "cell_type": "code",
   "execution_count": 32,
   "id": "df478880",
   "metadata": {
    "ExecuteTime": {
     "end_time": "2023-10-05T06:17:31.948992Z",
     "start_time": "2023-10-05T06:15:22.670Z"
    },
    "vscode": {
     "languageId": "r"
    }
   },
   "outputs": [],
   "source": [
    "# options(repr.plot.width = 12,repr.plot.height = 8)\n",
    "# ggplot(hpp_resutls,aes(x=pre_rdm,y=model_rdm,group=pre,shape=pre))+\n",
    "# geom_point(size=6,colour='black',stroke=1)+\n",
    "# scale_shape_manual(values=c('religion'=1,'modern'=16))+\n",
    "# geom_smooth(aes(linetype = pre),\n",
    "#             method = 'lm', size=3,formula = y ~ x,color = \"black\") +\n",
    "\n",
    "# theme_classic() +  \n",
    "# theme(#axis.text.x=element_blank(),axis.title.x =element_blank(),\n",
    "#     #axis.ticks.x = element_blank(),\n",
    "#     axis.text.y=element_text(size=28,face='bold',color=\"black\"),\n",
    "#     axis.title.y=element_text(size=28,face='bold',color=\"black\"),\n",
    "#     axis.text.x=element_text(size=28,face='bold',color=\"black\"),\n",
    "#     axis.title.x=element_text(size=28,face='bold',color=\"black\"),\n",
    "#     axis.line.x=element_line(linetype=1,color=\"black\",size=2),\n",
    "#     axis.line.y=element_line(linetype=1,color=\"black\",size=2),\n",
    "#     legend.position = 'top',legend.text = element_blank(),\n",
    "#     legend.key.size = unit(5,'cm')) "
   ]
  },
  {
   "cell_type": "markdown",
   "id": "90e472ce",
   "metadata": {},
   "source": [
    "# Dimensional: single dimension"
   ]
  },
  {
   "cell_type": "markdown",
   "id": "f1a21f44",
   "metadata": {},
   "source": [
    "## Formality"
   ]
  },
  {
   "cell_type": "code",
   "execution_count": 45,
   "id": "8aa6111e",
   "metadata": {
    "ExecuteTime": {
     "end_time": "2023-10-05T06:18:14.528291Z",
     "start_time": "2023-10-05T06:15:22.974Z"
    },
    "vscode": {
     "languageId": "r"
    }
   },
   "outputs": [
    {
     "data": {
      "text/plain": [
       "\n",
       "Call:\n",
       "lm(formula = scale(model_rdm_array) ~ scale(x))\n",
       "\n",
       "Residuals:\n",
       "     Min       1Q   Median       3Q      Max \n",
       "-2.10092 -0.55861  0.01619  0.51849  1.95855 \n",
       "\n",
       "Coefficients:\n",
       "                               Estimate Std. Error t value Pr(>|t|)    \n",
       "(Intercept)                  -3.407e-16  5.988e-02   0.000 1.000000    \n",
       "scale(x)Lexical              -3.465e-01  9.509e-02  -3.644 0.000363 ***\n",
       "scale(x)personality_all       2.157e-02  6.730e-02   0.321 0.748956    \n",
       "scale(x)Coordinate           -2.339e-01  6.959e-02  -3.361 0.000974 ***\n",
       "scale(x)Climatic_demands      8.225e-02  6.693e-02   1.229 0.220899    \n",
       "scale(x)subsistence          -6.908e-02  6.970e-02  -0.991 0.323112    \n",
       "scale(x)disease              -1.175e-01  6.983e-02  -1.683 0.094350 .  \n",
       "scale(x)modern                1.267e-01  6.213e-02   2.040 0.043051 *  \n",
       "scale(x)Hofstede_6D          -5.765e-02  7.049e-02  -0.818 0.414664    \n",
       "scale(x)new_gendist_weighted -3.561e-02  7.816e-02  -0.456 0.649322    \n",
       "scale(x)religion_per          7.470e-01  9.537e-02   7.833 6.54e-13 ***\n",
       "scale(x)idealogy             -7.912e-02  6.582e-02  -1.202 0.231187    \n",
       "scale(x)demographics         -4.900e-02  6.924e-02  -0.708 0.480158    \n",
       "---\n",
       "Signif. codes:  0 '***' 0.001 '**' 0.01 '*' 0.05 '.' 0.1 ' ' 1\n",
       "\n",
       "Residual standard error: 0.783 on 158 degrees of freedom\n",
       "Multiple R-squared:  0.4301,\tAdjusted R-squared:  0.3868 \n",
       "F-statistic: 9.938 on 12 and 158 DF,  p-value: 2.516e-14\n"
      ]
     },
     "metadata": {},
     "output_type": "display_data"
    },
    {
     "name": "stdout",
     "output_type": "stream",
     "text": [
      "[1] \"fstats: 9.93798942756035\"\n",
      "[1] \"r2stats: 0.430129294590257\"\n",
      "[1] 10000\n",
      "[1] \"permf_pvals 0.0112\"\n"
     ]
    },
    {
     "data": {
      "text/html": [
       "<table class=\"dataframe\">\n",
       "<caption>A data.frame: 1 × 12</caption>\n",
       "<thead>\n",
       "\t<tr><th scope=col>Lexical</th><th scope=col>personality_all</th><th scope=col>Coordinate</th><th scope=col>Climatic_demands</th><th scope=col>subsistence</th><th scope=col>disease</th><th scope=col>modern</th><th scope=col>Hofstede_6D</th><th scope=col>new_gendist_weighted</th><th scope=col>religion_per</th><th scope=col>idealogy</th><th scope=col>demographics</th></tr>\n",
       "\t<tr><th scope=col>&lt;dbl&gt;</th><th scope=col>&lt;dbl&gt;</th><th scope=col>&lt;dbl&gt;</th><th scope=col>&lt;dbl&gt;</th><th scope=col>&lt;dbl&gt;</th><th scope=col>&lt;dbl&gt;</th><th scope=col>&lt;dbl&gt;</th><th scope=col>&lt;dbl&gt;</th><th scope=col>&lt;dbl&gt;</th><th scope=col>&lt;dbl&gt;</th><th scope=col>&lt;dbl&gt;</th><th scope=col>&lt;dbl&gt;</th></tr>\n",
       "</thead>\n",
       "<tbody>\n",
       "\t<tr><td>0.9285</td><td>0.4143</td><td>0.9484</td><td>0.2921</td><td>0.6876</td><td>0.8987</td><td>0.1989</td><td>0.6396</td><td>0.5372</td><td>6e-04</td><td>0.727</td><td>0.5979</td></tr>\n",
       "</tbody>\n",
       "</table>\n"
      ],
      "text/latex": [
       "A data.frame: 1 × 12\n",
       "\\begin{tabular}{llllllllllll}\n",
       " Lexical & personality\\_all & Coordinate & Climatic\\_demands & subsistence & disease & modern & Hofstede\\_6D & new\\_gendist\\_weighted & religion\\_per & idealogy & demographics\\\\\n",
       " <dbl> & <dbl> & <dbl> & <dbl> & <dbl> & <dbl> & <dbl> & <dbl> & <dbl> & <dbl> & <dbl> & <dbl>\\\\\n",
       "\\hline\n",
       "\t 0.9285 & 0.4143 & 0.9484 & 0.2921 & 0.6876 & 0.8987 & 0.1989 & 0.6396 & 0.5372 & 6e-04 & 0.727 & 0.5979\\\\\n",
       "\\end{tabular}\n"
      ],
      "text/markdown": [
       "\n",
       "A data.frame: 1 × 12\n",
       "\n",
       "| Lexical &lt;dbl&gt; | personality_all &lt;dbl&gt; | Coordinate &lt;dbl&gt; | Climatic_demands &lt;dbl&gt; | subsistence &lt;dbl&gt; | disease &lt;dbl&gt; | modern &lt;dbl&gt; | Hofstede_6D &lt;dbl&gt; | new_gendist_weighted &lt;dbl&gt; | religion_per &lt;dbl&gt; | idealogy &lt;dbl&gt; | demographics &lt;dbl&gt; |\n",
       "|---|---|---|---|---|---|---|---|---|---|---|---|\n",
       "| 0.9285 | 0.4143 | 0.9484 | 0.2921 | 0.6876 | 0.8987 | 0.1989 | 0.6396 | 0.5372 | 6e-04 | 0.727 | 0.5979 |\n",
       "\n"
      ],
      "text/plain": [
       "  Lexical personality_all Coordinate Climatic_demands subsistence disease\n",
       "1 0.9285  0.4143          0.9484     0.2921           0.6876      0.8987 \n",
       "  modern Hofstede_6D new_gendist_weighted religion_per idealogy demographics\n",
       "1 0.1989 0.6396      0.5372               6e-04        0.727    0.5979      "
      ]
     },
     "metadata": {},
     "output_type": "display_data"
    }
   ],
   "source": [
    "# 1.regression coefficient\n",
    "model_rdm = read.csv('output_data/models_rdm/dimensional/formality_dissim_dist.csv',\n",
    "                    row.names =1, check.names = FALSE)\n",
    "model_rdm = model_rdm[regions_order,regions_order]\n",
    "model_rdm_array = lowerTriangle(model_rdm)\n",
    "\n",
    "x <- do.call(cbind,lapply(variables,function(x) lowerTriangle(x))) # generate permuted predictors\n",
    "colnames(x) = variables_names\n",
    "culture_regress_standard <- lm(scale(model_rdm_array)~scale(x))\n",
    "culture_regress_standard_model <- summary(culture_regress_standard)\n",
    "culture_regress_standard_model\n",
    "\n",
    "write.csv(culture_regress_standard_model$coefficients,\n",
    " file='output_data/rsa_results/beta/formality_33d.csv')\n",
    "formality_regression = culture_regress_standard_model\n",
    "\n",
    "# 2.permutation\n",
    "p_value = permutation_result(formality_regression)\n",
    "p_value\n",
    "write.csv(p_value,'output_data/rsa_results/p_value/formality_33d.csv')"
   ]
  },
  {
   "cell_type": "markdown",
   "id": "54d736c2",
   "metadata": {},
   "source": [
    "## Activeness"
   ]
  },
  {
   "cell_type": "code",
   "execution_count": 46,
   "id": "c76ed67e",
   "metadata": {
    "ExecuteTime": {
     "end_time": "2023-10-05T06:18:55.789294Z",
     "start_time": "2023-10-05T06:15:23.116Z"
    },
    "vscode": {
     "languageId": "r"
    }
   },
   "outputs": [
    {
     "data": {
      "text/plain": [
       "\n",
       "Call:\n",
       "lm(formula = scale(model_rdm_array) ~ scale(x))\n",
       "\n",
       "Residuals:\n",
       "    Min      1Q  Median      3Q     Max \n",
       "-2.5013 -0.4020  0.1123  0.5618  2.1770 \n",
       "\n",
       "Coefficients:\n",
       "                               Estimate Std. Error t value Pr(>|t|)    \n",
       "(Intercept)                   4.092e-16  6.574e-02   0.000  1.00000    \n",
       "scale(x)Lexical              -1.994e-01  1.044e-01  -1.910  0.05798 .  \n",
       "scale(x)personality_all       1.089e-01  7.389e-02   1.474  0.14259    \n",
       "scale(x)Coordinate           -1.729e-01  7.640e-02  -2.263  0.02502 *  \n",
       "scale(x)Climatic_demands      3.540e-02  7.348e-02   0.482  0.63059    \n",
       "scale(x)subsistence          -4.208e-02  7.652e-02  -0.550  0.58313    \n",
       "scale(x)disease              -4.770e-02  7.666e-02  -0.622  0.53472    \n",
       "scale(x)modern                2.206e-01  6.820e-02   3.235  0.00148 ** \n",
       "scale(x)Hofstede_6D          -6.862e-02  7.739e-02  -0.887  0.37661    \n",
       "scale(x)new_gendist_weighted  4.855e-02  8.581e-02   0.566  0.57232    \n",
       "scale(x)religion_per          5.909e-01  1.047e-01   5.644 7.53e-08 ***\n",
       "scale(x)idealogy             -1.223e-01  7.227e-02  -1.692  0.09257 .  \n",
       "scale(x)demographics         -4.331e-02  7.602e-02  -0.570  0.56968    \n",
       "---\n",
       "Signif. codes:  0 '***' 0.001 '**' 0.01 '*' 0.05 '.' 0.1 ' ' 1\n",
       "\n",
       "Residual standard error: 0.8597 on 158 degrees of freedom\n",
       "Multiple R-squared:  0.3131,\tAdjusted R-squared:  0.261 \n",
       "F-statistic: 6.002 on 12 and 158 DF,  p-value: 1.39e-08\n"
      ]
     },
     "metadata": {},
     "output_type": "display_data"
    },
    {
     "name": "stdout",
     "output_type": "stream",
     "text": [
      "[1] \"fstats: 6.00246572543594\"\n",
      "[1] \"r2stats: 0.31313184147598\"\n",
      "[1] 10000\n",
      "[1] \"permf_pvals 0.0587\"\n"
     ]
    },
    {
     "data": {
      "text/html": [
       "<table class=\"dataframe\">\n",
       "<caption>A data.frame: 1 × 12</caption>\n",
       "<thead>\n",
       "\t<tr><th scope=col>Lexical</th><th scope=col>personality_all</th><th scope=col>Coordinate</th><th scope=col>Climatic_demands</th><th scope=col>subsistence</th><th scope=col>disease</th><th scope=col>modern</th><th scope=col>Hofstede_6D</th><th scope=col>new_gendist_weighted</th><th scope=col>religion_per</th><th scope=col>idealogy</th><th scope=col>demographics</th></tr>\n",
       "\t<tr><th scope=col>&lt;dbl&gt;</th><th scope=col>&lt;dbl&gt;</th><th scope=col>&lt;dbl&gt;</th><th scope=col>&lt;dbl&gt;</th><th scope=col>&lt;dbl&gt;</th><th scope=col>&lt;dbl&gt;</th><th scope=col>&lt;dbl&gt;</th><th scope=col>&lt;dbl&gt;</th><th scope=col>&lt;dbl&gt;</th><th scope=col>&lt;dbl&gt;</th><th scope=col>&lt;dbl&gt;</th><th scope=col>&lt;dbl&gt;</th></tr>\n",
       "</thead>\n",
       "<tbody>\n",
       "\t<tr><td>0.8143</td><td>0.2568</td><td>0.89</td><td>0.3889</td><td>0.6086</td><td>0.6953</td><td>0.0544</td><td>0.6841</td><td>0.3732</td><td>0.0042</td><td>0.8482</td><td>0.5947</td></tr>\n",
       "</tbody>\n",
       "</table>\n"
      ],
      "text/latex": [
       "A data.frame: 1 × 12\n",
       "\\begin{tabular}{llllllllllll}\n",
       " Lexical & personality\\_all & Coordinate & Climatic\\_demands & subsistence & disease & modern & Hofstede\\_6D & new\\_gendist\\_weighted & religion\\_per & idealogy & demographics\\\\\n",
       " <dbl> & <dbl> & <dbl> & <dbl> & <dbl> & <dbl> & <dbl> & <dbl> & <dbl> & <dbl> & <dbl> & <dbl>\\\\\n",
       "\\hline\n",
       "\t 0.8143 & 0.2568 & 0.89 & 0.3889 & 0.6086 & 0.6953 & 0.0544 & 0.6841 & 0.3732 & 0.0042 & 0.8482 & 0.5947\\\\\n",
       "\\end{tabular}\n"
      ],
      "text/markdown": [
       "\n",
       "A data.frame: 1 × 12\n",
       "\n",
       "| Lexical &lt;dbl&gt; | personality_all &lt;dbl&gt; | Coordinate &lt;dbl&gt; | Climatic_demands &lt;dbl&gt; | subsistence &lt;dbl&gt; | disease &lt;dbl&gt; | modern &lt;dbl&gt; | Hofstede_6D &lt;dbl&gt; | new_gendist_weighted &lt;dbl&gt; | religion_per &lt;dbl&gt; | idealogy &lt;dbl&gt; | demographics &lt;dbl&gt; |\n",
       "|---|---|---|---|---|---|---|---|---|---|---|---|\n",
       "| 0.8143 | 0.2568 | 0.89 | 0.3889 | 0.6086 | 0.6953 | 0.0544 | 0.6841 | 0.3732 | 0.0042 | 0.8482 | 0.5947 |\n",
       "\n"
      ],
      "text/plain": [
       "  Lexical personality_all Coordinate Climatic_demands subsistence disease\n",
       "1 0.8143  0.2568          0.89       0.3889           0.6086      0.6953 \n",
       "  modern Hofstede_6D new_gendist_weighted religion_per idealogy demographics\n",
       "1 0.0544 0.6841      0.3732               0.0042       0.8482   0.5947      "
      ]
     },
     "metadata": {},
     "output_type": "display_data"
    }
   ],
   "source": [
    "# 1.regression coefficient\n",
    "model_rdm = read.csv('output_data/models_rdm/dimensional/activeness_dissim_dist.csv',\n",
    "                    row.names =1, check.names = FALSE)\n",
    "model_rdm = model_rdm[regions_order,regions_order]\n",
    "model_rdm_array = lowerTriangle(model_rdm)\n",
    "\n",
    "x <- do.call(cbind,lapply(variables,function(x) lowerTriangle(x))) # generate permuted predictors\n",
    "colnames(x) = variables_names\n",
    "culture_regress_standard <- lm(scale(model_rdm_array)~scale(x))\n",
    "culture_regress_standard_model <- summary(culture_regress_standard)\n",
    "culture_regress_standard_model\n",
    "\n",
    "write.csv(culture_regress_standard_model$coefficients,\n",
    " file='output_data/rsa_results/beta/activeness_33d.csv')\n",
    "activeness_regression = culture_regress_standard_model\n",
    "\n",
    "# 2.permutation\n",
    "p_value = permutation_result(activeness_regression)\n",
    "p_value\n",
    "write.csv(p_value,'output_data/rsa_results/p_value/activeness_33d.csv')                         "
   ]
  },
  {
   "cell_type": "markdown",
   "id": "41bd4acc",
   "metadata": {},
   "source": [
    "## Valence"
   ]
  },
  {
   "cell_type": "code",
   "execution_count": 47,
   "id": "f4f8de88",
   "metadata": {
    "ExecuteTime": {
     "end_time": "2023-10-05T06:19:37.014291Z",
     "start_time": "2023-10-05T06:15:23.263Z"
    },
    "vscode": {
     "languageId": "r"
    }
   },
   "outputs": [
    {
     "data": {
      "text/plain": [
       "\n",
       "Call:\n",
       "lm(formula = scale(model_rdm_array) ~ scale(x))\n",
       "\n",
       "Residuals:\n",
       "     Min       1Q   Median       3Q      Max \n",
       "-2.05250 -0.48893  0.05988  0.49924  2.01711 \n",
       "\n",
       "Coefficients:\n",
       "                               Estimate Std. Error t value Pr(>|t|)    \n",
       "(Intercept)                   5.642e-17  6.230e-02   0.000  1.00000    \n",
       "scale(x)Lexical              -3.182e-01  9.893e-02  -3.216  0.00157 ** \n",
       "scale(x)personality_all       9.641e-02  7.002e-02   1.377  0.17047    \n",
       "scale(x)Coordinate           -9.990e-02  7.240e-02  -1.380  0.16958    \n",
       "scale(x)Climatic_demands      1.715e-01  6.963e-02   2.463  0.01483 *  \n",
       "scale(x)subsistence          -1.988e-01  7.251e-02  -2.741  0.00683 ** \n",
       "scale(x)disease              -6.219e-02  7.265e-02  -0.856  0.39329    \n",
       "scale(x)modern                3.289e-01  6.463e-02   5.088 1.01e-06 ***\n",
       "scale(x)Hofstede_6D          -1.739e-01  7.334e-02  -2.372  0.01891 *  \n",
       "scale(x)new_gendist_weighted  1.600e-01  8.132e-02   1.968  0.05083 .  \n",
       "scale(x)religion_per          5.009e-01  9.922e-02   5.048 1.22e-06 ***\n",
       "scale(x)idealogy             -6.868e-02  6.848e-02  -1.003  0.31748    \n",
       "scale(x)demographics          7.828e-02  7.204e-02   1.087  0.27883    \n",
       "---\n",
       "Signif. codes:  0 '***' 0.001 '**' 0.01 '*' 0.05 '.' 0.1 ' ' 1\n",
       "\n",
       "Residual standard error: 0.8147 on 158 degrees of freedom\n",
       "Multiple R-squared:  0.3832,\tAdjusted R-squared:  0.3363 \n",
       "F-statistic: 8.179 on 12 and 158 DF,  p-value: 7.504e-12\n"
      ]
     },
     "metadata": {},
     "output_type": "display_data"
    },
    {
     "name": "stdout",
     "output_type": "stream",
     "text": [
      "[1] \"fstats: 8.17854288435296\"\n",
      "[1] \"r2stats: 0.383155895696619\"\n",
      "[1] 10000\n",
      "[1] \"permf_pvals 0.0896\"\n"
     ]
    },
    {
     "data": {
      "text/html": [
       "<table class=\"dataframe\">\n",
       "<caption>A data.frame: 1 × 12</caption>\n",
       "<thead>\n",
       "\t<tr><th scope=col>Lexical</th><th scope=col>personality_all</th><th scope=col>Coordinate</th><th scope=col>Climatic_demands</th><th scope=col>subsistence</th><th scope=col>disease</th><th scope=col>modern</th><th scope=col>Hofstede_6D</th><th scope=col>new_gendist_weighted</th><th scope=col>religion_per</th><th scope=col>idealogy</th><th scope=col>demographics</th></tr>\n",
       "\t<tr><th scope=col>&lt;dbl&gt;</th><th scope=col>&lt;dbl&gt;</th><th scope=col>&lt;dbl&gt;</th><th scope=col>&lt;dbl&gt;</th><th scope=col>&lt;dbl&gt;</th><th scope=col>&lt;dbl&gt;</th><th scope=col>&lt;dbl&gt;</th><th scope=col>&lt;dbl&gt;</th><th scope=col>&lt;dbl&gt;</th><th scope=col>&lt;dbl&gt;</th><th scope=col>&lt;dbl&gt;</th><th scope=col>&lt;dbl&gt;</th></tr>\n",
       "</thead>\n",
       "<tbody>\n",
       "\t<tr><td>0.8946</td><td>0.2748</td><td>0.7024</td><td>0.1907</td><td>0.9288</td><td>0.7487</td><td>0.0241</td><td>0.8638</td><td>0.2144</td><td>0.0306</td><td>0.6887</td><td>0.3017</td></tr>\n",
       "</tbody>\n",
       "</table>\n"
      ],
      "text/latex": [
       "A data.frame: 1 × 12\n",
       "\\begin{tabular}{llllllllllll}\n",
       " Lexical & personality\\_all & Coordinate & Climatic\\_demands & subsistence & disease & modern & Hofstede\\_6D & new\\_gendist\\_weighted & religion\\_per & idealogy & demographics\\\\\n",
       " <dbl> & <dbl> & <dbl> & <dbl> & <dbl> & <dbl> & <dbl> & <dbl> & <dbl> & <dbl> & <dbl> & <dbl>\\\\\n",
       "\\hline\n",
       "\t 0.8946 & 0.2748 & 0.7024 & 0.1907 & 0.9288 & 0.7487 & 0.0241 & 0.8638 & 0.2144 & 0.0306 & 0.6887 & 0.3017\\\\\n",
       "\\end{tabular}\n"
      ],
      "text/markdown": [
       "\n",
       "A data.frame: 1 × 12\n",
       "\n",
       "| Lexical &lt;dbl&gt; | personality_all &lt;dbl&gt; | Coordinate &lt;dbl&gt; | Climatic_demands &lt;dbl&gt; | subsistence &lt;dbl&gt; | disease &lt;dbl&gt; | modern &lt;dbl&gt; | Hofstede_6D &lt;dbl&gt; | new_gendist_weighted &lt;dbl&gt; | religion_per &lt;dbl&gt; | idealogy &lt;dbl&gt; | demographics &lt;dbl&gt; |\n",
       "|---|---|---|---|---|---|---|---|---|---|---|---|\n",
       "| 0.8946 | 0.2748 | 0.7024 | 0.1907 | 0.9288 | 0.7487 | 0.0241 | 0.8638 | 0.2144 | 0.0306 | 0.6887 | 0.3017 |\n",
       "\n"
      ],
      "text/plain": [
       "  Lexical personality_all Coordinate Climatic_demands subsistence disease\n",
       "1 0.8946  0.2748          0.7024     0.1907           0.9288      0.7487 \n",
       "  modern Hofstede_6D new_gendist_weighted religion_per idealogy demographics\n",
       "1 0.0241 0.8638      0.2144               0.0306       0.6887   0.3017      "
      ]
     },
     "metadata": {},
     "output_type": "display_data"
    }
   ],
   "source": [
    "# 1.regression coefficient\n",
    "model_rdm = read.csv('output_data/models_rdm/dimensional/valence_dissim_dist.csv',\n",
    "                    row.names =1, check.names = FALSE)\n",
    "model_rdm = model_rdm[regions_order,regions_order]\n",
    "model_rdm_array = lowerTriangle(model_rdm)\n",
    "\n",
    "x <- do.call(cbind,lapply(variables,function(x) lowerTriangle(x))) # generate permuted predictors\n",
    "colnames(x) = variables_names\n",
    "culture_regress_standard <- lm(scale(model_rdm_array)~scale(x))\n",
    "culture_regress_standard_model <- summary(culture_regress_standard)\n",
    "culture_regress_standard_model\n",
    "\n",
    "write.csv(culture_regress_standard_model$coefficients,\n",
    " file='output_data/rsa_results/beta/valence_33d.csv')\n",
    "valence_regression = culture_regress_standard_model\n",
    "\n",
    "# 2.permutation\n",
    "p_value = permutation_result(valence_regression)\n",
    "p_value\n",
    "write.csv(p_value,'output_data/rsa_results/p_value/valence_33d.csv')                          "
   ]
  },
  {
   "cell_type": "markdown",
   "id": "ec719acf",
   "metadata": {},
   "source": [
    "## Exchange"
   ]
  },
  {
   "cell_type": "code",
   "execution_count": 48,
   "id": "ae8b1d09",
   "metadata": {
    "ExecuteTime": {
     "end_time": "2023-10-05T06:20:21.911237Z",
     "start_time": "2023-10-05T06:15:23.413Z"
    },
    "vscode": {
     "languageId": "r"
    }
   },
   "outputs": [
    {
     "data": {
      "text/plain": [
       "\n",
       "Call:\n",
       "lm(formula = scale(model_rdm_array) ~ scale(x))\n",
       "\n",
       "Residuals:\n",
       "    Min      1Q  Median      3Q     Max \n",
       "-2.4421 -0.5643 -0.1215  0.5865  2.0657 \n",
       "\n",
       "Coefficients:\n",
       "                               Estimate Std. Error t value Pr(>|t|)    \n",
       "(Intercept)                   3.081e-16  7.014e-02   0.000  1.00000    \n",
       "scale(x)Lexical              -5.250e-02  1.114e-01  -0.471  0.63801    \n",
       "scale(x)personality_all      -8.462e-02  7.883e-02  -1.073  0.28470    \n",
       "scale(x)Coordinate           -1.078e-01  8.151e-02  -1.323  0.18779    \n",
       "scale(x)Climatic_demands     -6.185e-04  7.840e-02  -0.008  0.99371    \n",
       "scale(x)subsistence           4.274e-02  8.164e-02   0.524  0.60135    \n",
       "scale(x)disease               1.717e-02  8.179e-02   0.210  0.83403    \n",
       "scale(x)modern                2.608e-01  7.277e-02   3.584  0.00045 ***\n",
       "scale(x)Hofstede_6D          -4.320e-02  8.257e-02  -0.523  0.60161    \n",
       "scale(x)new_gendist_weighted -1.669e-01  9.155e-02  -1.823  0.07018 .  \n",
       "scale(x)religion_per          3.285e-01  1.117e-01   2.941  0.00377 ** \n",
       "scale(x)idealogy             -2.114e-01  7.710e-02  -2.741  0.00682 ** \n",
       "scale(x)demographics         -3.625e-02  8.111e-02  -0.447  0.65549    \n",
       "---\n",
       "Signif. codes:  0 '***' 0.001 '**' 0.01 '*' 0.05 '.' 0.1 ' ' 1\n",
       "\n",
       "Residual standard error: 0.9172 on 158 degrees of freedom\n",
       "Multiple R-squared:  0.2181,\tAdjusted R-squared:  0.1587 \n",
       "F-statistic: 3.673 on 12 and 158 DF,  p-value: 6.996e-05\n"
      ]
     },
     "metadata": {},
     "output_type": "display_data"
    },
    {
     "name": "stdout",
     "output_type": "stream",
     "text": [
      "[1] \"fstats: 3.67299364546558\"\n",
      "[1] \"r2stats: 0.218115661324792\"\n",
      "[1] 10000\n",
      "[1] \"permf_pvals 0.5794\"\n"
     ]
    },
    {
     "data": {
      "text/html": [
       "<table class=\"dataframe\">\n",
       "<caption>A data.frame: 1 × 12</caption>\n",
       "<thead>\n",
       "\t<tr><th scope=col>Lexical</th><th scope=col>personality_all</th><th scope=col>Coordinate</th><th scope=col>Climatic_demands</th><th scope=col>subsistence</th><th scope=col>disease</th><th scope=col>modern</th><th scope=col>Hofstede_6D</th><th scope=col>new_gendist_weighted</th><th scope=col>religion_per</th><th scope=col>idealogy</th><th scope=col>demographics</th></tr>\n",
       "\t<tr><th scope=col>&lt;dbl&gt;</th><th scope=col>&lt;dbl&gt;</th><th scope=col>&lt;dbl&gt;</th><th scope=col>&lt;dbl&gt;</th><th scope=col>&lt;dbl&gt;</th><th scope=col>&lt;dbl&gt;</th><th scope=col>&lt;dbl&gt;</th><th scope=col>&lt;dbl&gt;</th><th scope=col>&lt;dbl&gt;</th><th scope=col>&lt;dbl&gt;</th><th scope=col>&lt;dbl&gt;</th><th scope=col>&lt;dbl&gt;</th></tr>\n",
       "</thead>\n",
       "<tbody>\n",
       "\t<tr><td>0.5879</td><td>0.6464</td><td>0.7355</td><td>0.4176</td><td>0.3663</td><td>0.4298</td><td>0.048</td><td>0.6102</td><td>0.7692</td><td>0.0999</td><td>0.9599</td><td>0.5599</td></tr>\n",
       "</tbody>\n",
       "</table>\n"
      ],
      "text/latex": [
       "A data.frame: 1 × 12\n",
       "\\begin{tabular}{llllllllllll}\n",
       " Lexical & personality\\_all & Coordinate & Climatic\\_demands & subsistence & disease & modern & Hofstede\\_6D & new\\_gendist\\_weighted & religion\\_per & idealogy & demographics\\\\\n",
       " <dbl> & <dbl> & <dbl> & <dbl> & <dbl> & <dbl> & <dbl> & <dbl> & <dbl> & <dbl> & <dbl> & <dbl>\\\\\n",
       "\\hline\n",
       "\t 0.5879 & 0.6464 & 0.7355 & 0.4176 & 0.3663 & 0.4298 & 0.048 & 0.6102 & 0.7692 & 0.0999 & 0.9599 & 0.5599\\\\\n",
       "\\end{tabular}\n"
      ],
      "text/markdown": [
       "\n",
       "A data.frame: 1 × 12\n",
       "\n",
       "| Lexical &lt;dbl&gt; | personality_all &lt;dbl&gt; | Coordinate &lt;dbl&gt; | Climatic_demands &lt;dbl&gt; | subsistence &lt;dbl&gt; | disease &lt;dbl&gt; | modern &lt;dbl&gt; | Hofstede_6D &lt;dbl&gt; | new_gendist_weighted &lt;dbl&gt; | religion_per &lt;dbl&gt; | idealogy &lt;dbl&gt; | demographics &lt;dbl&gt; |\n",
       "|---|---|---|---|---|---|---|---|---|---|---|---|\n",
       "| 0.5879 | 0.6464 | 0.7355 | 0.4176 | 0.3663 | 0.4298 | 0.048 | 0.6102 | 0.7692 | 0.0999 | 0.9599 | 0.5599 |\n",
       "\n"
      ],
      "text/plain": [
       "  Lexical personality_all Coordinate Climatic_demands subsistence disease\n",
       "1 0.5879  0.6464          0.7355     0.4176           0.3663      0.4298 \n",
       "  modern Hofstede_6D new_gendist_weighted religion_per idealogy demographics\n",
       "1 0.048  0.6102      0.7692               0.0999       0.9599   0.5599      "
      ]
     },
     "metadata": {},
     "output_type": "display_data"
    }
   ],
   "source": [
    "# 1.regression coefficient\n",
    "model_rdm = read.csv('output_data/models_rdm/dimensional/exchange_dissim_dist.csv',\n",
    "                    row.names =1, check.names = FALSE)\n",
    "model_rdm = model_rdm[regions_order,regions_order]\n",
    "model_rdm_array = lowerTriangle(model_rdm)\n",
    "\n",
    "x <- do.call(cbind,lapply(variables,function(x) lowerTriangle(x))) # generate permuted predictors\n",
    "colnames(x) = variables_names\n",
    "culture_regress_standard <- lm(scale(model_rdm_array)~scale(x))\n",
    "culture_regress_standard_model <- summary(culture_regress_standard)\n",
    "culture_regress_standard_model\n",
    "\n",
    "write.csv(culture_regress_standard_model$coefficients,\n",
    " file='output_data/rsa_results/beta/exchange_33d.csv')\n",
    "exchange_regression = culture_regress_standard_model\n",
    "\n",
    "# 2.permutation\n",
    "p_value = permutation_result(exchange_regression)\n",
    "p_value\n",
    "write.csv(p_value,'output_data/rsa_results/p_value/exchange_33d.csv')                         "
   ]
  },
  {
   "cell_type": "markdown",
   "id": "4f61c16f",
   "metadata": {},
   "source": [
    "## Equality"
   ]
  },
  {
   "cell_type": "code",
   "execution_count": 49,
   "id": "a56d9a56",
   "metadata": {
    "ExecuteTime": {
     "end_time": "2023-10-05T06:21:04.876591Z",
     "start_time": "2023-10-05T06:15:23.576Z"
    },
    "vscode": {
     "languageId": "r"
    }
   },
   "outputs": [
    {
     "data": {
      "text/plain": [
       "\n",
       "Call:\n",
       "lm(formula = scale(model_rdm_array) ~ scale(x))\n",
       "\n",
       "Residuals:\n",
       "     Min       1Q   Median       3Q      Max \n",
       "-2.25705 -0.44287  0.07675  0.48527  1.45908 \n",
       "\n",
       "Coefficients:\n",
       "                               Estimate Std. Error t value Pr(>|t|)    \n",
       "(Intercept)                  -2.982e-17  5.482e-02   0.000  1.00000    \n",
       "scale(x)Lexical              -1.901e-01  8.705e-02  -2.184  0.03047 *  \n",
       "scale(x)personality_all       2.685e-01  6.161e-02   4.358 2.36e-05 ***\n",
       "scale(x)Coordinate           -1.794e-01  6.370e-02  -2.816  0.00548 ** \n",
       "scale(x)Climatic_demands      7.625e-02  6.127e-02   1.245  0.21512    \n",
       "scale(x)subsistence          -2.471e-02  6.380e-02  -0.387  0.69904    \n",
       "scale(x)disease              -6.103e-04  6.392e-02  -0.010  0.99239    \n",
       "scale(x)modern                2.637e-01  5.687e-02   4.637 7.35e-06 ***\n",
       "scale(x)Hofstede_6D          -1.542e-01  6.453e-02  -2.390  0.01801 *  \n",
       "scale(x)new_gendist_weighted -1.251e-01  7.155e-02  -1.748  0.08239 .  \n",
       "scale(x)religion_per          5.845e-01  8.730e-02   6.695 3.57e-10 ***\n",
       "scale(x)idealogy             -1.115e-01  6.026e-02  -1.850  0.06620 .  \n",
       "scale(x)demographics          7.679e-02  6.339e-02   1.211  0.22753    \n",
       "---\n",
       "Signif. codes:  0 '***' 0.001 '**' 0.01 '*' 0.05 '.' 0.1 ' ' 1\n",
       "\n",
       "Residual standard error: 0.7168 on 158 degrees of freedom\n",
       "Multiple R-squared:  0.5224,\tAdjusted R-squared:  0.4862 \n",
       "F-statistic:  14.4 on 12 and 158 DF,  p-value: < 2.2e-16\n"
      ]
     },
     "metadata": {},
     "output_type": "display_data"
    },
    {
     "name": "stdout",
     "output_type": "stream",
     "text": [
      "[1] \"fstats: 14.4037742635743\"\n",
      "[1] \"r2stats: 0.522435397388779\"\n",
      "[1] 10000\n",
      "[1] \"permf_pvals 0.0018\"\n"
     ]
    },
    {
     "data": {
      "text/html": [
       "<table class=\"dataframe\">\n",
       "<caption>A data.frame: 1 × 12</caption>\n",
       "<thead>\n",
       "\t<tr><th scope=col>Lexical</th><th scope=col>personality_all</th><th scope=col>Coordinate</th><th scope=col>Climatic_demands</th><th scope=col>subsistence</th><th scope=col>disease</th><th scope=col>modern</th><th scope=col>Hofstede_6D</th><th scope=col>new_gendist_weighted</th><th scope=col>religion_per</th><th scope=col>idealogy</th><th scope=col>demographics</th></tr>\n",
       "\t<tr><th scope=col>&lt;dbl&gt;</th><th scope=col>&lt;dbl&gt;</th><th scope=col>&lt;dbl&gt;</th><th scope=col>&lt;dbl&gt;</th><th scope=col>&lt;dbl&gt;</th><th scope=col>&lt;dbl&gt;</th><th scope=col>&lt;dbl&gt;</th><th scope=col>&lt;dbl&gt;</th><th scope=col>&lt;dbl&gt;</th><th scope=col>&lt;dbl&gt;</th><th scope=col>&lt;dbl&gt;</th><th scope=col>&lt;dbl&gt;</th></tr>\n",
       "</thead>\n",
       "<tbody>\n",
       "\t<tr><td>0.7801</td><td>0.0796</td><td>0.8822</td><td>0.3007</td><td>0.5451</td><td>0.5004</td><td>0.0456</td><td>0.8331</td><td>0.6993</td><td>0.0105</td><td>0.8079</td><td>0.2975</td></tr>\n",
       "</tbody>\n",
       "</table>\n"
      ],
      "text/latex": [
       "A data.frame: 1 × 12\n",
       "\\begin{tabular}{llllllllllll}\n",
       " Lexical & personality\\_all & Coordinate & Climatic\\_demands & subsistence & disease & modern & Hofstede\\_6D & new\\_gendist\\_weighted & religion\\_per & idealogy & demographics\\\\\n",
       " <dbl> & <dbl> & <dbl> & <dbl> & <dbl> & <dbl> & <dbl> & <dbl> & <dbl> & <dbl> & <dbl> & <dbl>\\\\\n",
       "\\hline\n",
       "\t 0.7801 & 0.0796 & 0.8822 & 0.3007 & 0.5451 & 0.5004 & 0.0456 & 0.8331 & 0.6993 & 0.0105 & 0.8079 & 0.2975\\\\\n",
       "\\end{tabular}\n"
      ],
      "text/markdown": [
       "\n",
       "A data.frame: 1 × 12\n",
       "\n",
       "| Lexical &lt;dbl&gt; | personality_all &lt;dbl&gt; | Coordinate &lt;dbl&gt; | Climatic_demands &lt;dbl&gt; | subsistence &lt;dbl&gt; | disease &lt;dbl&gt; | modern &lt;dbl&gt; | Hofstede_6D &lt;dbl&gt; | new_gendist_weighted &lt;dbl&gt; | religion_per &lt;dbl&gt; | idealogy &lt;dbl&gt; | demographics &lt;dbl&gt; |\n",
       "|---|---|---|---|---|---|---|---|---|---|---|---|\n",
       "| 0.7801 | 0.0796 | 0.8822 | 0.3007 | 0.5451 | 0.5004 | 0.0456 | 0.8331 | 0.6993 | 0.0105 | 0.8079 | 0.2975 |\n",
       "\n"
      ],
      "text/plain": [
       "  Lexical personality_all Coordinate Climatic_demands subsistence disease\n",
       "1 0.7801  0.0796          0.8822     0.3007           0.5451      0.5004 \n",
       "  modern Hofstede_6D new_gendist_weighted religion_per idealogy demographics\n",
       "1 0.0456 0.8331      0.6993               0.0105       0.8079   0.2975      "
      ]
     },
     "metadata": {},
     "output_type": "display_data"
    }
   ],
   "source": [
    "# 1.regression coefficient\n",
    "model_rdm = read.csv('output_data/models_rdm/dimensional/equality_dissim_dist.csv',\n",
    "                    row.names =1, check.names = FALSE)\n",
    "model_rdm = model_rdm[regions_order,regions_order]\n",
    "model_rdm_array = lowerTriangle(model_rdm)\n",
    "\n",
    "x <- do.call(cbind,lapply(variables,function(x) lowerTriangle(x))) # generate permuted predictors\n",
    "colnames(x) = variables_names\n",
    "culture_regress_standard <- lm(scale(model_rdm_array)~scale(x))\n",
    "culture_regress_standard_model <- summary(culture_regress_standard)\n",
    "culture_regress_standard_model\n",
    "\n",
    "write.csv(culture_regress_standard_model$coefficients,\n",
    " file='output_data/rsa_results/beta/equality_33d.csv')\n",
    "equality_regression = culture_regress_standard_model\n",
    "\n",
    "# 2.permutation\n",
    "p_value = permutation_result(equality_regression)\n",
    "p_value\n",
    "write.csv(p_value,'output_data/rsa_results/p_value/equality_33d.csv')                          "
   ]
  },
  {
   "cell_type": "markdown",
   "id": "536a4c43",
   "metadata": {},
   "source": [
    "# Categorical: single category"
   ]
  },
  {
   "cell_type": "markdown",
   "id": "fe77b036",
   "metadata": {},
   "source": [
    "## Hostile"
   ]
  },
  {
   "cell_type": "code",
   "execution_count": 50,
   "id": "2d301249",
   "metadata": {
    "ExecuteTime": {
     "end_time": "2023-10-05T06:21:48.129503Z",
     "start_time": "2023-10-05T06:15:23.860Z"
    },
    "vscode": {
     "languageId": "r"
    }
   },
   "outputs": [
    {
     "data": {
      "text/plain": [
       "\n",
       "Call:\n",
       "lm(formula = scale(model_rdm_array) ~ scale(x))\n",
       "\n",
       "Residuals:\n",
       "     Min       1Q   Median       3Q      Max \n",
       "-2.36987 -0.59166 -0.01137  0.74785  1.92570 \n",
       "\n",
       "Coefficients:\n",
       "                               Estimate Std. Error t value Pr(>|t|)   \n",
       "(Intercept)                  -6.309e-17  7.156e-02   0.000  1.00000   \n",
       "scale(x)Lexical               3.418e-01  1.136e-01   3.008  0.00306 **\n",
       "scale(x)personality_all       1.795e-02  8.043e-02   0.223  0.82366   \n",
       "scale(x)Coordinate           -1.261e-01  8.316e-02  -1.516  0.13145   \n",
       "scale(x)Climatic_demands      4.229e-02  7.999e-02   0.529  0.59777   \n",
       "scale(x)subsistence           2.253e-01  8.329e-02   2.705  0.00758 **\n",
       "scale(x)disease               8.558e-02  8.345e-02   1.025  0.30670   \n",
       "scale(x)modern                4.195e-02  7.425e-02   0.565  0.57288   \n",
       "scale(x)Hofstede_6D          -2.194e-03  8.424e-02  -0.026  0.97926   \n",
       "scale(x)new_gendist_weighted -2.179e-01  9.341e-02  -2.333  0.02093 * \n",
       "scale(x)religion_per          5.912e-04  1.140e-01   0.005  0.99587   \n",
       "scale(x)idealogy              1.406e-02  7.867e-02   0.179  0.85840   \n",
       "scale(x)demographics         -1.979e-01  8.275e-02  -2.392  0.01794 * \n",
       "---\n",
       "Signif. codes:  0 '***' 0.001 '**' 0.01 '*' 0.05 '.' 0.1 ' ' 1\n",
       "\n",
       "Residual standard error: 0.9358 on 158 degrees of freedom\n",
       "Multiple R-squared:  0.1861,\tAdjusted R-squared:  0.1243 \n",
       "F-statistic:  3.01 on 12 and 158 DF,  p-value: 0.0007977\n"
      ]
     },
     "metadata": {},
     "output_type": "display_data"
    },
    {
     "name": "stdout",
     "output_type": "stream",
     "text": [
      "[1] \"fstats: 3.01035205975643\"\n",
      "[1] \"r2stats: 0.186088185386063\"\n",
      "[1] 10000\n",
      "[1] \"permf_pvals 0.0489\"\n"
     ]
    },
    {
     "data": {
      "text/html": [
       "<table class=\"dataframe\">\n",
       "<caption>A data.frame: 1 × 12</caption>\n",
       "<thead>\n",
       "\t<tr><th scope=col>Lexical</th><th scope=col>personality_all</th><th scope=col>Coordinate</th><th scope=col>Climatic_demands</th><th scope=col>subsistence</th><th scope=col>disease</th><th scope=col>modern</th><th scope=col>Hofstede_6D</th><th scope=col>new_gendist_weighted</th><th scope=col>religion_per</th><th scope=col>idealogy</th><th scope=col>demographics</th></tr>\n",
       "\t<tr><th scope=col>&lt;dbl&gt;</th><th scope=col>&lt;dbl&gt;</th><th scope=col>&lt;dbl&gt;</th><th scope=col>&lt;dbl&gt;</th><th scope=col>&lt;dbl&gt;</th><th scope=col>&lt;dbl&gt;</th><th scope=col>&lt;dbl&gt;</th><th scope=col>&lt;dbl&gt;</th><th scope=col>&lt;dbl&gt;</th><th scope=col>&lt;dbl&gt;</th><th scope=col>&lt;dbl&gt;</th><th scope=col>&lt;dbl&gt;</th></tr>\n",
       "</thead>\n",
       "<tbody>\n",
       "\t<tr><td>0.0171</td><td>0.4018</td><td>0.8935</td><td>0.3198</td><td>0.0264</td><td>0.1502</td><td>0.3199</td><td>0.506</td><td>0.9592</td><td>0.4942</td><td>0.4234</td><td>0.9827</td></tr>\n",
       "</tbody>\n",
       "</table>\n"
      ],
      "text/latex": [
       "A data.frame: 1 × 12\n",
       "\\begin{tabular}{llllllllllll}\n",
       " Lexical & personality\\_all & Coordinate & Climatic\\_demands & subsistence & disease & modern & Hofstede\\_6D & new\\_gendist\\_weighted & religion\\_per & idealogy & demographics\\\\\n",
       " <dbl> & <dbl> & <dbl> & <dbl> & <dbl> & <dbl> & <dbl> & <dbl> & <dbl> & <dbl> & <dbl> & <dbl>\\\\\n",
       "\\hline\n",
       "\t 0.0171 & 0.4018 & 0.8935 & 0.3198 & 0.0264 & 0.1502 & 0.3199 & 0.506 & 0.9592 & 0.4942 & 0.4234 & 0.9827\\\\\n",
       "\\end{tabular}\n"
      ],
      "text/markdown": [
       "\n",
       "A data.frame: 1 × 12\n",
       "\n",
       "| Lexical &lt;dbl&gt; | personality_all &lt;dbl&gt; | Coordinate &lt;dbl&gt; | Climatic_demands &lt;dbl&gt; | subsistence &lt;dbl&gt; | disease &lt;dbl&gt; | modern &lt;dbl&gt; | Hofstede_6D &lt;dbl&gt; | new_gendist_weighted &lt;dbl&gt; | religion_per &lt;dbl&gt; | idealogy &lt;dbl&gt; | demographics &lt;dbl&gt; |\n",
       "|---|---|---|---|---|---|---|---|---|---|---|---|\n",
       "| 0.0171 | 0.4018 | 0.8935 | 0.3198 | 0.0264 | 0.1502 | 0.3199 | 0.506 | 0.9592 | 0.4942 | 0.4234 | 0.9827 |\n",
       "\n"
      ],
      "text/plain": [
       "  Lexical personality_all Coordinate Climatic_demands subsistence disease\n",
       "1 0.0171  0.4018          0.8935     0.3198           0.0264      0.1502 \n",
       "  modern Hofstede_6D new_gendist_weighted religion_per idealogy demographics\n",
       "1 0.3199 0.506       0.9592               0.4942       0.4234   0.9827      "
      ]
     },
     "metadata": {},
     "output_type": "display_data"
    }
   ],
   "source": [
    "# 1.regression coefficient\n",
    "model_rdm = read.csv('output_data/models_rdm/categorical/hostile_dissim_dist.csv',\n",
    "                    row.names =1, check.names = FALSE)\n",
    "model_rdm = model_rdm[regions_order,regions_order]\n",
    "model_rdm_array = lowerTriangle(model_rdm)\n",
    "\n",
    "x <- do.call(cbind,lapply(variables,function(x) lowerTriangle(x))) # generate permuted predictors\n",
    "colnames(x) = variables_names\n",
    "culture_regress_standard <- lm(scale(model_rdm_array)~scale(x))\n",
    "culture_regress_standard_model <- summary(culture_regress_standard)\n",
    "culture_regress_standard_model\n",
    "\n",
    "write.csv(culture_regress_standard_model$coefficients,\n",
    " file='output_data/rsa_results/beta/hostile_33d.csv')\n",
    "hostile_regression = culture_regress_standard_model\n",
    "\n",
    "# 2.permutation\n",
    "p_value = permutation_result(hostile_regression)\n",
    "p_value\n",
    "write.csv(p_value,'output_data/rsa_results/p_value/hostile_33d.csv')                         "
   ]
  },
  {
   "cell_type": "markdown",
   "id": "43918259",
   "metadata": {},
   "source": [
    "## Private"
   ]
  },
  {
   "cell_type": "code",
   "execution_count": 51,
   "id": "9b64f1c6",
   "metadata": {
    "ExecuteTime": {
     "end_time": "2023-10-05T06:22:29.650717Z",
     "start_time": "2023-10-05T06:15:24.008Z"
    },
    "vscode": {
     "languageId": "r"
    }
   },
   "outputs": [
    {
     "data": {
      "text/plain": [
       "\n",
       "Call:\n",
       "lm(formula = scale(model_rdm_array) ~ scale(x))\n",
       "\n",
       "Residuals:\n",
       "     Min       1Q   Median       3Q      Max \n",
       "-2.47572 -0.53634 -0.08213  0.64160  2.53092 \n",
       "\n",
       "Coefficients:\n",
       "                               Estimate Std. Error t value Pr(>|t|)    \n",
       "(Intercept)                  -3.133e-16  6.976e-02   0.000 1.000000    \n",
       "scale(x)Lexical               2.393e-01  1.108e-01   2.160 0.032245 *  \n",
       "scale(x)personality_all       1.427e-02  7.841e-02   0.182 0.855850    \n",
       "scale(x)Coordinate           -1.619e-01  8.107e-02  -1.998 0.047473 *  \n",
       "scale(x)Climatic_demands      1.114e-01  7.797e-02   1.429 0.154896    \n",
       "scale(x)subsistence          -1.089e-01  8.120e-02  -1.341 0.181757    \n",
       "scale(x)disease              -6.725e-02  8.135e-02  -0.827 0.409645    \n",
       "scale(x)modern                1.874e-01  7.238e-02   2.589 0.010518 *  \n",
       "scale(x)Hofstede_6D          -7.715e-02  8.213e-02  -0.939 0.348949    \n",
       "scale(x)new_gendist_weighted  8.491e-03  9.106e-02   0.093 0.925830    \n",
       "scale(x)religion_per          2.144e-01  1.111e-01   1.930 0.055446 .  \n",
       "scale(x)idealogy             -7.875e-02  7.669e-02  -1.027 0.306017    \n",
       "scale(x)demographics         -3.094e-01  8.067e-02  -3.836 0.000181 ***\n",
       "---\n",
       "Signif. codes:  0 '***' 0.001 '**' 0.01 '*' 0.05 '.' 0.1 ' ' 1\n",
       "\n",
       "Residual standard error: 0.9123 on 158 degrees of freedom\n",
       "Multiple R-squared:  0.2265,\tAdjusted R-squared:  0.1678 \n",
       "F-statistic: 3.856 on 12 and 158 DF,  p-value: 3.555e-05\n"
      ]
     },
     "metadata": {},
     "output_type": "display_data"
    },
    {
     "name": "stdout",
     "output_type": "stream",
     "text": [
      "[1] \"fstats: 3.85605508027613\"\n",
      "[1] \"r2stats: 0.226524003481914\"\n",
      "[1] 10000\n",
      "[1] \"permf_pvals 0.1712\"\n"
     ]
    },
    {
     "data": {
      "text/html": [
       "<table class=\"dataframe\">\n",
       "<caption>A data.frame: 1 × 12</caption>\n",
       "<thead>\n",
       "\t<tr><th scope=col>Lexical</th><th scope=col>personality_all</th><th scope=col>Coordinate</th><th scope=col>Climatic_demands</th><th scope=col>subsistence</th><th scope=col>disease</th><th scope=col>modern</th><th scope=col>Hofstede_6D</th><th scope=col>new_gendist_weighted</th><th scope=col>religion_per</th><th scope=col>idealogy</th><th scope=col>demographics</th></tr>\n",
       "\t<tr><th scope=col>&lt;dbl&gt;</th><th scope=col>&lt;dbl&gt;</th><th scope=col>&lt;dbl&gt;</th><th scope=col>&lt;dbl&gt;</th><th scope=col>&lt;dbl&gt;</th><th scope=col>&lt;dbl&gt;</th><th scope=col>&lt;dbl&gt;</th><th scope=col>&lt;dbl&gt;</th><th scope=col>&lt;dbl&gt;</th><th scope=col>&lt;dbl&gt;</th><th scope=col>&lt;dbl&gt;</th><th scope=col>&lt;dbl&gt;</th></tr>\n",
       "</thead>\n",
       "<tbody>\n",
       "\t<tr><td>0.1215</td><td>0.411</td><td>0.8962</td><td>0.2087</td><td>0.8143</td><td>0.7649</td><td>0.0737</td><td>0.7184</td><td>0.4506</td><td>0.1624</td><td>0.7503</td><td>0.9972</td></tr>\n",
       "</tbody>\n",
       "</table>\n"
      ],
      "text/latex": [
       "A data.frame: 1 × 12\n",
       "\\begin{tabular}{llllllllllll}\n",
       " Lexical & personality\\_all & Coordinate & Climatic\\_demands & subsistence & disease & modern & Hofstede\\_6D & new\\_gendist\\_weighted & religion\\_per & idealogy & demographics\\\\\n",
       " <dbl> & <dbl> & <dbl> & <dbl> & <dbl> & <dbl> & <dbl> & <dbl> & <dbl> & <dbl> & <dbl> & <dbl>\\\\\n",
       "\\hline\n",
       "\t 0.1215 & 0.411 & 0.8962 & 0.2087 & 0.8143 & 0.7649 & 0.0737 & 0.7184 & 0.4506 & 0.1624 & 0.7503 & 0.9972\\\\\n",
       "\\end{tabular}\n"
      ],
      "text/markdown": [
       "\n",
       "A data.frame: 1 × 12\n",
       "\n",
       "| Lexical &lt;dbl&gt; | personality_all &lt;dbl&gt; | Coordinate &lt;dbl&gt; | Climatic_demands &lt;dbl&gt; | subsistence &lt;dbl&gt; | disease &lt;dbl&gt; | modern &lt;dbl&gt; | Hofstede_6D &lt;dbl&gt; | new_gendist_weighted &lt;dbl&gt; | religion_per &lt;dbl&gt; | idealogy &lt;dbl&gt; | demographics &lt;dbl&gt; |\n",
       "|---|---|---|---|---|---|---|---|---|---|---|---|\n",
       "| 0.1215 | 0.411 | 0.8962 | 0.2087 | 0.8143 | 0.7649 | 0.0737 | 0.7184 | 0.4506 | 0.1624 | 0.7503 | 0.9972 |\n",
       "\n"
      ],
      "text/plain": [
       "  Lexical personality_all Coordinate Climatic_demands subsistence disease\n",
       "1 0.1215  0.411           0.8962     0.2087           0.8143      0.7649 \n",
       "  modern Hofstede_6D new_gendist_weighted religion_per idealogy demographics\n",
       "1 0.0737 0.7184      0.4506               0.1624       0.7503   0.9972      "
      ]
     },
     "metadata": {},
     "output_type": "display_data"
    }
   ],
   "source": [
    "# 1.regression coefficient\n",
    "model_rdm = read.csv('output_data/models_rdm/categorical/private_dissim_dist.csv',\n",
    "                    row.names =1, check.names = FALSE)\n",
    "model_rdm = model_rdm[regions_order,regions_order]\n",
    "model_rdm_array = lowerTriangle(model_rdm)\n",
    "\n",
    "x <- do.call(cbind,lapply(variables,function(x) lowerTriangle(x))) # generate permuted predictors\n",
    "colnames(x) = variables_names\n",
    "culture_regress_standard <- lm(scale(model_rdm_array)~scale(x))\n",
    "culture_regress_standard_model <- summary(culture_regress_standard)\n",
    "culture_regress_standard_model\n",
    "\n",
    "write.csv(culture_regress_standard_model$coefficients,\n",
    " file='output_data/rsa_results/beta/private_33d.csv')\n",
    "private_regression = culture_regress_standard_model\n",
    "\n",
    "# 2.permutation\n",
    "p_value = permutation_result(private_regression)\n",
    "p_value\n",
    "write.csv(p_value,'output_data/rsa_results/p_value/private_33d.csv')                           "
   ]
  },
  {
   "cell_type": "markdown",
   "id": "7bc105b3",
   "metadata": {},
   "source": [
    "## Public"
   ]
  },
  {
   "cell_type": "code",
   "execution_count": 52,
   "id": "8ddbd3c0",
   "metadata": {
    "ExecuteTime": {
     "end_time": "2023-10-05T06:23:10.370958Z",
     "start_time": "2023-10-05T06:15:24.178Z"
    },
    "vscode": {
     "languageId": "r"
    }
   },
   "outputs": [
    {
     "data": {
      "text/plain": [
       "\n",
       "Call:\n",
       "lm(formula = scale(model_rdm_array) ~ scale(x))\n",
       "\n",
       "Residuals:\n",
       "     Min       1Q   Median       3Q      Max \n",
       "-1.55154 -0.60544 -0.01901  0.52991  2.37232 \n",
       "\n",
       "Coefficients:\n",
       "                               Estimate Std. Error t value Pr(>|t|)    \n",
       "(Intercept)                  -9.460e-18  6.275e-02   0.000  1.00000    \n",
       "scale(x)Lexical               7.928e-02  9.964e-02   0.796  0.42742    \n",
       "scale(x)personality_all       7.934e-02  7.052e-02   1.125  0.26226    \n",
       "scale(x)Coordinate           -2.178e-01  7.292e-02  -2.987  0.00327 ** \n",
       "scale(x)Climatic_demands      1.240e-01  7.013e-02   1.768  0.07901 .  \n",
       "scale(x)subsistence          -1.962e-02  7.303e-02  -0.269  0.78860    \n",
       "scale(x)disease              -5.497e-03  7.317e-02  -0.075  0.94021    \n",
       "scale(x)modern                3.022e-01  6.510e-02   4.642 7.21e-06 ***\n",
       "scale(x)Hofstede_6D          -1.226e-01  7.387e-02  -1.660  0.09890 .  \n",
       "scale(x)new_gendist_weighted -3.032e-02  8.191e-02  -0.370  0.71170    \n",
       "scale(x)religion_per          4.167e-01  9.994e-02   4.169 5.02e-05 ***\n",
       "scale(x)idealogy             -1.009e-01  6.898e-02  -1.463  0.14554    \n",
       "scale(x)demographics         -3.116e-01  7.256e-02  -4.294 3.05e-05 ***\n",
       "---\n",
       "Signif. codes:  0 '***' 0.001 '**' 0.01 '*' 0.05 '.' 0.1 ' ' 1\n",
       "\n",
       "Residual standard error: 0.8205 on 158 degrees of freedom\n",
       "Multiple R-squared:  0.3742,\tAdjusted R-squared:  0.3267 \n",
       "F-statistic: 7.874 on 12 and 158 DF,  p-value: 2.081e-11\n"
      ]
     },
     "metadata": {},
     "output_type": "display_data"
    },
    {
     "name": "stdout",
     "output_type": "stream",
     "text": [
      "[1] \"fstats: 7.87447841813566\"\n",
      "[1] \"r2stats: 0.374241914420488\"\n",
      "[1] 10000\n",
      "[1] \"permf_pvals 0.0631\"\n"
     ]
    },
    {
     "data": {
      "text/html": [
       "<table class=\"dataframe\">\n",
       "<caption>A data.frame: 1 × 12</caption>\n",
       "<thead>\n",
       "\t<tr><th scope=col>Lexical</th><th scope=col>personality_all</th><th scope=col>Coordinate</th><th scope=col>Climatic_demands</th><th scope=col>subsistence</th><th scope=col>disease</th><th scope=col>modern</th><th scope=col>Hofstede_6D</th><th scope=col>new_gendist_weighted</th><th scope=col>religion_per</th><th scope=col>idealogy</th><th scope=col>demographics</th></tr>\n",
       "\t<tr><th scope=col>&lt;dbl&gt;</th><th scope=col>&lt;dbl&gt;</th><th scope=col>&lt;dbl&gt;</th><th scope=col>&lt;dbl&gt;</th><th scope=col>&lt;dbl&gt;</th><th scope=col>&lt;dbl&gt;</th><th scope=col>&lt;dbl&gt;</th><th scope=col>&lt;dbl&gt;</th><th scope=col>&lt;dbl&gt;</th><th scope=col>&lt;dbl&gt;</th><th scope=col>&lt;dbl&gt;</th><th scope=col>&lt;dbl&gt;</th></tr>\n",
       "</thead>\n",
       "<tbody>\n",
       "\t<tr><td>0.3794</td><td>0.2577</td><td>0.9406</td><td>0.1854</td><td>0.5471</td><td>0.5362</td><td>0.0264</td><td>0.7786</td><td>0.5202</td><td>0.0469</td><td>0.7788</td><td>0.9903</td></tr>\n",
       "</tbody>\n",
       "</table>\n"
      ],
      "text/latex": [
       "A data.frame: 1 × 12\n",
       "\\begin{tabular}{llllllllllll}\n",
       " Lexical & personality\\_all & Coordinate & Climatic\\_demands & subsistence & disease & modern & Hofstede\\_6D & new\\_gendist\\_weighted & religion\\_per & idealogy & demographics\\\\\n",
       " <dbl> & <dbl> & <dbl> & <dbl> & <dbl> & <dbl> & <dbl> & <dbl> & <dbl> & <dbl> & <dbl> & <dbl>\\\\\n",
       "\\hline\n",
       "\t 0.3794 & 0.2577 & 0.9406 & 0.1854 & 0.5471 & 0.5362 & 0.0264 & 0.7786 & 0.5202 & 0.0469 & 0.7788 & 0.9903\\\\\n",
       "\\end{tabular}\n"
      ],
      "text/markdown": [
       "\n",
       "A data.frame: 1 × 12\n",
       "\n",
       "| Lexical &lt;dbl&gt; | personality_all &lt;dbl&gt; | Coordinate &lt;dbl&gt; | Climatic_demands &lt;dbl&gt; | subsistence &lt;dbl&gt; | disease &lt;dbl&gt; | modern &lt;dbl&gt; | Hofstede_6D &lt;dbl&gt; | new_gendist_weighted &lt;dbl&gt; | religion_per &lt;dbl&gt; | idealogy &lt;dbl&gt; | demographics &lt;dbl&gt; |\n",
       "|---|---|---|---|---|---|---|---|---|---|---|---|\n",
       "| 0.3794 | 0.2577 | 0.9406 | 0.1854 | 0.5471 | 0.5362 | 0.0264 | 0.7786 | 0.5202 | 0.0469 | 0.7788 | 0.9903 |\n",
       "\n"
      ],
      "text/plain": [
       "  Lexical personality_all Coordinate Climatic_demands subsistence disease\n",
       "1 0.3794  0.2577          0.9406     0.1854           0.5471      0.5362 \n",
       "  modern Hofstede_6D new_gendist_weighted religion_per idealogy demographics\n",
       "1 0.0264 0.7786      0.5202               0.0469       0.7788   0.9903      "
      ]
     },
     "metadata": {},
     "output_type": "display_data"
    }
   ],
   "source": [
    "# 1.regression coefficient\n",
    "model_rdm = read.csv('output_data/models_rdm/categorical/public_dissim_dist.csv',\n",
    "                    row.names =1, check.names = FALSE)\n",
    "model_rdm = model_rdm[regions_order,regions_order]\n",
    "model_rdm_array = lowerTriangle(model_rdm)\n",
    "\n",
    "x <- do.call(cbind,lapply(variables,function(x) lowerTriangle(x))) # generate permuted predictors\n",
    "colnames(x) = variables_names\n",
    "culture_regress_standard <- lm(scale(model_rdm_array)~scale(x))\n",
    "culture_regress_standard_model <- summary(culture_regress_standard)\n",
    "culture_regress_standard_model\n",
    "\n",
    "write.csv(culture_regress_standard_model$coefficients,\n",
    " file='output_data/rsa_results/beta/public_33d.csv')\n",
    "public_regression = culture_regress_standard_model\n",
    "\n",
    "# 2.permutation\n",
    "p_value = permutation_result(public_regression)\n",
    "p_value\n",
    "write.csv(p_value,'output_data/rsa_results/p_value/public_33d.csv')                         "
   ]
  }
 ],
 "metadata": {
  "kernelspec": {
   "display_name": "R",
   "language": "R",
   "name": "ir"
  },
  "language_info": {
   "codemirror_mode": "r",
   "file_extension": ".r",
   "mimetype": "text/x-r-source",
   "name": "R",
   "pygments_lexer": "r",
   "version": "4.1.2"
  },
  "latex_envs": {
   "LaTeX_envs_menu_present": true,
   "autoclose": false,
   "autocomplete": true,
   "bibliofile": "biblio.bib",
   "cite_by": "apalike",
   "current_citInitial": 1,
   "eqLabelWithNumbers": true,
   "eqNumInitial": 1,
   "hotkeys": {
    "equation": "Ctrl-E",
    "itemize": "Ctrl-I"
   },
   "labels_anchors": false,
   "latex_user_defs": false,
   "report_style_numbering": false,
   "user_envs_cfg": false
  },
  "toc": {
   "base_numbering": 1,
   "nav_menu": {},
   "number_sections": true,
   "sideBar": false,
   "skip_h1_title": false,
   "title_cell": "Table of Contents",
   "title_sidebar": "Contents",
   "toc_cell": true,
   "toc_position": {
    "height": "618.168px",
    "left": "1193.98px",
    "top": "53.5938px",
    "width": "198.295px"
   },
   "toc_section_display": true,
   "toc_window_display": true
  },
  "varInspector": {
   "cols": {
    "lenName": 16,
    "lenType": 16,
    "lenVar": 40
   },
   "kernels_config": {
    "python": {
     "delete_cmd_postfix": "",
     "delete_cmd_prefix": "del ",
     "library": "var_list.py",
     "varRefreshCmd": "print(var_dic_list())"
    },
    "r": {
     "delete_cmd_postfix": ") ",
     "delete_cmd_prefix": "rm(",
     "library": "var_list.r",
     "varRefreshCmd": "cat(var_dic_list()) "
    }
   },
   "types_to_exclude": [
    "module",
    "function",
    "builtin_function_or_method",
    "instance",
    "_Feature"
   ],
   "window_display": false
  }
 },
 "nbformat": 4,
 "nbformat_minor": 5
}
