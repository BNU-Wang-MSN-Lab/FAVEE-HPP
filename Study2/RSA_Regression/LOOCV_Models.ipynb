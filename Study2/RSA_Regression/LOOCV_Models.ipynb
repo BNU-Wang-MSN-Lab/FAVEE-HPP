{
 "cells": [
  {
   "cell_type": "code",
   "execution_count": 1,
   "id": "d1f1a122",
   "metadata": {
    "ExecuteTime": {
     "end_time": "2022-12-23T13:38:31.501649Z",
     "start_time": "2022-12-23T13:38:30.788227Z"
    }
   },
   "outputs": [],
   "source": [
    "import glob\n",
    "#import os\n",
    "\n",
    "import pandas as pd\n",
    "import numpy as np\n",
    "\n",
    "from scipy.stats import spearmanr #Loocv"
   ]
  },
  {
   "cell_type": "code",
   "execution_count": 2,
   "id": "57efc81f",
   "metadata": {
    "ExecuteTime": {
     "end_time": "2022-12-23T13:38:33.425565Z",
     "start_time": "2022-12-23T13:38:33.412562Z"
    }
   },
   "outputs": [],
   "source": [
    "regions = [\n",
    "    # English\n",
    "    'USA','UK','Australia','South Africa',\n",
    "    # Germany\n",
    "    'Germany',\n",
    "    # Japanese\n",
    "    'Japan',\n",
    "    # Hebrew\n",
    "    'Israel',\n",
    "    # Chinese\n",
    "    'CHN','HK(region)',\n",
    "\n",
    "    # French\n",
    "    'France',\n",
    "    # Spanish\n",
    "    'Spain','Mexico','Chile',\n",
    "    # Portuguese\n",
    "    'Portugal','Brazil',\n",
    "    # Russian\n",
    "    'Russia',\n",
    "    # Arabic\n",
    "    'Egypt','Qatar',\n",
    "    'India']"
   ]
  },
  {
   "cell_type": "markdown",
   "id": "907b9ee6",
   "metadata": {},
   "source": [
    "# Caculate LOOCV"
   ]
  },
  {
   "cell_type": "markdown",
   "id": "f8fb8d02",
   "metadata": {},
   "source": [
    "## Raw data"
   ]
  },
  {
   "cell_type": "code",
   "execution_count": 3,
   "id": "b29946e4",
   "metadata": {
    "ExecuteTime": {
     "end_time": "2022-12-23T13:38:58.863812Z",
     "start_time": "2022-12-23T13:38:58.747471Z"
    }
   },
   "outputs": [],
   "source": [
    "raw_dissim_combine = pd.read_csv('output_data/models_rdm/full_feature/raw33d_dissim_array.csv',index_col=0)\n",
    "raw_loocv = []\n",
    "for region in regions:\n",
    "    # one region\n",
    "    region_df = raw_dissim_combine[region]\n",
    "    # n-1 region: sum firstly and then average\n",
    "    regions_left = [i for i in regions if i not in [region]]\n",
    "    region_left_df = raw_dissim_combine[regions_left[0]]\n",
    "    for region_left in regions_left[1:]:\n",
    "        temp_df = raw_dissim_combine[region_left]\n",
    "        region_left_df = region_left_df + temp_df\n",
    "    region_left_df = region_left_df / (len(regions)-1)\n",
    "    r_value = spearmanr(region_df,region_left_df)[0]\n",
    "    raw_loocv.append(r_value)\n",
    "raw_loocv = pd.DataFrame(raw_loocv,index=regions,columns=['Raw data'])\n",
    "raw_loocv.to_csv('output_data/loocv/raw33d_loocv.csv')"
   ]
  },
  {
   "cell_type": "markdown",
   "id": "7b6bbbd6",
   "metadata": {},
   "source": [
    "## FAVEE"
   ]
  },
  {
   "cell_type": "code",
   "execution_count": 4,
   "id": "8da35f03",
   "metadata": {
    "ExecuteTime": {
     "end_time": "2022-12-23T13:39:12.682511Z",
     "start_time": "2022-12-23T13:39:12.574258Z"
    }
   },
   "outputs": [],
   "source": [
    "favee_dissim_combine = pd.read_csv('output_data/models_rdm/dimensional/favee_cor_array.csv',index_col=0)\n",
    "favee_loocv = []\n",
    "for region in regions:\n",
    "    # one region\n",
    "    region_df = favee_dissim_combine[region]\n",
    "    # n-1 region: sum firstly and then average\n",
    "    regions_left = [i for i in regions if i not in [region]]\n",
    "    region_left_df = favee_dissim_combine[regions_left[0]]\n",
    "    for region_left in regions_left[1:]:\n",
    "        temp_df = favee_dissim_combine[region_left]\n",
    "        region_left_df = region_left_df + temp_df\n",
    "    region_left_df = region_left_df / (len(regions)-1)\n",
    "    r_value = spearmanr(region_df,region_left_df)[0]\n",
    "    favee_loocv.append(r_value)\n",
    "favee_loocv = pd.DataFrame(favee_loocv,index=regions,columns=['FAVEE'])\n",
    "favee_loocv.to_csv('output_data/loocv/favee33d_loocv.csv')"
   ]
  },
  {
   "cell_type": "markdown",
   "id": "c63b0c3a",
   "metadata": {},
   "source": [
    "### Formality"
   ]
  },
  {
   "cell_type": "code",
   "execution_count": 5,
   "id": "9fad533f",
   "metadata": {
    "ExecuteTime": {
     "end_time": "2022-12-23T13:39:26.680020Z",
     "start_time": "2022-12-23T13:39:26.558086Z"
    }
   },
   "outputs": [
    {
     "data": {
      "text/plain": [
       "formality    0.558339\n",
       "dtype: float64"
      ]
     },
     "execution_count": 5,
     "metadata": {},
     "output_type": "execute_result"
    }
   ],
   "source": [
    "formality_dissim_combine = pd.read_csv('output_data/models_rdm/dimensional/formality_cor_array.csv',index_col=0)\n",
    "formality_loocv = []\n",
    "for region in regions:\n",
    "    # one region\n",
    "    region_df = formality_dissim_combine[region]\n",
    "    # n-1 region: sum firstly and then average\n",
    "    regions_left = [i for i in regions if i not in [region]]\n",
    "    region_left_df = formality_dissim_combine[regions_left[0]]\n",
    "    for region_left in regions_left[1:]:\n",
    "        temp_df = formality_dissim_combine[region_left]\n",
    "        region_left_df = region_left_df + temp_df\n",
    "    region_left_df = region_left_df / (len(regions)-1)\n",
    "    r_value = spearmanr(region_df,region_left_df)[0]\n",
    "    formality_loocv.append(r_value)\n",
    "formality_loocv = pd.DataFrame(formality_loocv,index=regions,columns=['formality'])\n",
    "formality_loocv.to_csv('output_data/loocv/formality33d_loocv.csv')\n",
    "formality_loocv.mean()"
   ]
  },
  {
   "cell_type": "markdown",
   "id": "8d5f463f",
   "metadata": {},
   "source": [
    "### Activeness"
   ]
  },
  {
   "cell_type": "code",
   "execution_count": 6,
   "id": "c725a796",
   "metadata": {
    "ExecuteTime": {
     "end_time": "2022-12-23T13:39:40.485935Z",
     "start_time": "2022-12-23T13:39:40.371477Z"
    }
   },
   "outputs": [
    {
     "data": {
      "text/plain": [
       "activeness    0.468577\n",
       "dtype: float64"
      ]
     },
     "execution_count": 6,
     "metadata": {},
     "output_type": "execute_result"
    }
   ],
   "source": [
    "activeness_dissim_combine = pd.read_csv('output_data/models_rdm/dimensional/activeness_cor_array.csv',index_col=0)\n",
    "activeness_loocv = []\n",
    "for region in regions:\n",
    "    # one region\n",
    "    region_df = activeness_dissim_combine[region]\n",
    "    # n-1 region: sum firstly and then average\n",
    "    regions_left = [i for i in regions if i not in [region]]\n",
    "    region_left_df = activeness_dissim_combine[regions_left[0]]\n",
    "    for region_left in regions_left[1:]:\n",
    "        temp_df = activeness_dissim_combine[region_left]\n",
    "        region_left_df = region_left_df + temp_df\n",
    "    region_left_df = region_left_df / (len(regions)-1)\n",
    "    r_value = spearmanr(region_df,region_left_df)[0]\n",
    "    activeness_loocv.append(r_value)\n",
    "activeness_loocv = pd.DataFrame(activeness_loocv,index=regions,columns=['activeness'])\n",
    "activeness_loocv.to_csv('output_data/loocv/activeness33d_loocv.csv')\n",
    "activeness_loocv.mean()"
   ]
  },
  {
   "cell_type": "markdown",
   "id": "0c589c2b",
   "metadata": {},
   "source": [
    "### Valence"
   ]
  },
  {
   "cell_type": "code",
   "execution_count": 7,
   "id": "a4ef1c09",
   "metadata": {
    "ExecuteTime": {
     "end_time": "2022-12-23T13:39:51.088366Z",
     "start_time": "2022-12-23T13:39:50.971340Z"
    }
   },
   "outputs": [
    {
     "data": {
      "text/plain": [
       "valence    0.52901\n",
       "dtype: float64"
      ]
     },
     "execution_count": 7,
     "metadata": {},
     "output_type": "execute_result"
    }
   ],
   "source": [
    "valence_dissim_combine = pd.read_csv('output_data/models_rdm/dimensional/valence_cor_array.csv',index_col=0)\n",
    "valence_loocv = []\n",
    "for region in regions:\n",
    "    # one region\n",
    "    region_df = valence_dissim_combine[region]\n",
    "    # n-1 region: sum firstly and then average\n",
    "    regions_left = [i for i in regions if i not in [region]]\n",
    "    region_left_df = valence_dissim_combine[regions_left[0]]\n",
    "    for region_left in regions_left[1:]:\n",
    "        temp_df = valence_dissim_combine[region_left]\n",
    "        region_left_df = region_left_df + temp_df\n",
    "    region_left_df = region_left_df / (len(regions)-1)\n",
    "    r_value = spearmanr(region_df,region_left_df)[0]\n",
    "    valence_loocv.append(r_value)\n",
    "valence_loocv = pd.DataFrame(valence_loocv,index=regions,columns=['valence'])\n",
    "valence_loocv.to_csv('output_data/loocv/valence33d_loocv.csv')\n",
    "valence_loocv.mean()"
   ]
  },
  {
   "cell_type": "markdown",
   "id": "7d4e0d35",
   "metadata": {},
   "source": [
    "### Exchange"
   ]
  },
  {
   "cell_type": "code",
   "execution_count": 8,
   "id": "5a177db5",
   "metadata": {
    "ExecuteTime": {
     "end_time": "2022-12-23T13:39:59.410485Z",
     "start_time": "2022-12-23T13:39:59.295539Z"
    }
   },
   "outputs": [
    {
     "data": {
      "text/plain": [
       "exchange    0.504486\n",
       "dtype: float64"
      ]
     },
     "execution_count": 8,
     "metadata": {},
     "output_type": "execute_result"
    }
   ],
   "source": [
    "exchange_dissim_combine = pd.read_csv('output_data/models_rdm/dimensional/exchange_cor_array.csv',index_col=0)\n",
    "exchange_loocv = []\n",
    "for region in regions:\n",
    "    # one region\n",
    "    region_df = exchange_dissim_combine[region]\n",
    "    # n-1 region: sum firstly and then average\n",
    "    regions_left = [i for i in regions if i not in [region]]\n",
    "    region_left_df = exchange_dissim_combine[regions_left[0]]\n",
    "    for region_left in regions_left[1:]:\n",
    "        temp_df = exchange_dissim_combine[region_left]\n",
    "        region_left_df = region_left_df + temp_df\n",
    "    region_left_df = region_left_df / (len(regions)-1)\n",
    "    r_value = spearmanr(region_df,region_left_df)[0]\n",
    "    exchange_loocv.append(r_value)\n",
    "exchange_loocv = pd.DataFrame(exchange_loocv,index=regions,columns=['exchange'])\n",
    "exchange_loocv.to_csv('output_data/loocv/exchange33d_loocv.csv')\n",
    "exchange_loocv.mean()"
   ]
  },
  {
   "cell_type": "markdown",
   "id": "e5fbc784",
   "metadata": {},
   "source": [
    "### Equality"
   ]
  },
  {
   "cell_type": "code",
   "execution_count": 9,
   "id": "555c878f",
   "metadata": {
    "ExecuteTime": {
     "end_time": "2022-12-23T13:40:10.659824Z",
     "start_time": "2022-12-23T13:40:10.546468Z"
    }
   },
   "outputs": [
    {
     "data": {
      "text/plain": [
       "equality    0.513777\n",
       "dtype: float64"
      ]
     },
     "execution_count": 9,
     "metadata": {},
     "output_type": "execute_result"
    }
   ],
   "source": [
    "equality_dissim_combine = pd.read_csv('output_data/models_rdm/dimensional/equality_cor_array.csv',index_col=0)\n",
    "equality_loocv = []\n",
    "for region in regions:\n",
    "    # one region\n",
    "    region_df = equality_dissim_combine[region]\n",
    "    # n-1 region: sum firstly and then average\n",
    "    regions_left = [i for i in regions if i not in [region]]\n",
    "    region_left_df = equality_dissim_combine[regions_left[0]]\n",
    "    for region_left in regions_left[1:]:\n",
    "        temp_df = equality_dissim_combine[region_left]\n",
    "        region_left_df = region_left_df + temp_df\n",
    "    region_left_df = region_left_df / (len(regions)-1)\n",
    "    r_value = spearmanr(region_df,region_left_df)[0]\n",
    "    equality_loocv.append(r_value)\n",
    "equality_loocv = pd.DataFrame(equality_loocv,index=regions,columns=['equality'])\n",
    "equality_loocv.to_csv('output_data/loocv/equality33d_loocv.csv')\n",
    "equality_loocv.mean()"
   ]
  },
  {
   "cell_type": "markdown",
   "id": "f99192b5",
   "metadata": {
    "ExecuteTime": {
     "end_time": "2022-10-18T14:03:37.142542Z",
     "start_time": "2022-10-18T14:03:37.132542Z"
    }
   },
   "source": [
    "## HPP"
   ]
  },
  {
   "cell_type": "code",
   "execution_count": 10,
   "id": "f743ba84",
   "metadata": {
    "ExecuteTime": {
     "end_time": "2022-12-23T13:40:19.505389Z",
     "start_time": "2022-12-23T13:40:19.433559Z"
    }
   },
   "outputs": [],
   "source": [
    "hpp_dissim_combine = pd.read_csv('output_data/models_rdm/categorical/hpp_cor_array.csv',index_col=0)\n",
    "hpp_loocv = []\n",
    "for region in regions:\n",
    "    # one region\n",
    "    region_df = hpp_dissim_combine[region]\n",
    "    # n-1 region: sum firstly and then average\n",
    "    regions_left = [i for i in regions if i not in [region]]\n",
    "    region_left_df = hpp_dissim_combine[regions_left[0]]\n",
    "    for region_left in regions_left[1:]:\n",
    "        temp_df = hpp_dissim_combine[region_left]\n",
    "        region_left_df = region_left_df + temp_df\n",
    "    region_left_df = region_left_df / (len(regions)-1)\n",
    "    r_value = spearmanr(region_df,region_left_df)[0]\n",
    "    hpp_loocv.append(r_value)\n",
    "hpp_loocv = pd.DataFrame(hpp_loocv,index=regions,columns=['HPP'])\n",
    "hpp_loocv.to_csv('output_data/loocv/hpp33d_loocv.csv')"
   ]
  },
  {
   "cell_type": "markdown",
   "id": "cb5a4d9d",
   "metadata": {},
   "source": [
    "***"
   ]
  },
  {
   "cell_type": "markdown",
   "id": "ff26d1f5",
   "metadata": {},
   "source": [
    "# Plot results+Repeated measure ANOVA"
   ]
  },
  {
   "cell_type": "code",
   "execution_count": 2,
   "id": "29d60d93",
   "metadata": {
    "ExecuteTime": {
     "end_time": "2022-12-23T13:40:49.654799Z",
     "start_time": "2022-12-23T13:40:49.179Z"
    }
   },
   "outputs": [],
   "source": [
    "library(ggplot2)\n",
    "library(ggpubr)\n",
    "library(reshape)\n",
    "library(tidyverse)\n",
    "library(DescTools) #Fisher Z\n",
    "library(rstatix)"
   ]
  },
  {
   "cell_type": "markdown",
   "id": "9f947f0f",
   "metadata": {},
   "source": [
    "## Models in main text"
   ]
  },
  {
   "cell_type": "code",
   "execution_count": 3,
   "id": "f36c925f",
   "metadata": {
    "ExecuteTime": {
     "end_time": "2022-12-23T13:40:51.546093Z",
     "start_time": "2022-12-23T13:40:51.517Z"
    }
   },
   "outputs": [
    {
     "name": "stdout",
     "output_type": "stream",
     "text": [
      "[1] \"Full model: 0.808146015878234\"\n",
      "[1] \"Dimension model: 0.720926384523485\"\n",
      "[1] \"Category model: 0.687000036094497\"\n"
     ]
    }
   ],
   "source": [
    "raw_data = read.csv('output_data/loocv/raw33d_loocv.csv',row.names=1)\n",
    "raw_data_mean = mean(raw_data[[1]])\n",
    "favee = read.csv('output_data/loocv/favee33d_loocv.csv',row.names=1)\n",
    "favee_mean = mean(favee[[1]])\n",
    "hpp = read.csv('output_data/loocv/hpp33d_loocv.csv',row.names=1)\n",
    "hpp_mean = mean(hpp[[1]])\n",
    "\n",
    "print(paste('Full model:',raw_data_mean))\n",
    "print(paste('Dimension model:',favee_mean))\n",
    "print(paste('Category model:',hpp_mean))"
   ]
  },
  {
   "cell_type": "code",
   "execution_count": 4,
   "id": "55452995",
   "metadata": {
    "ExecuteTime": {
     "end_time": "2022-12-23T13:40:54.625952Z",
     "start_time": "2022-12-23T13:40:54.573Z"
    }
   },
   "outputs": [
    {
     "data": {
      "text/html": [
       "<table class=\"dataframe\">\n",
       "<caption>A data.frame: 6 × 3</caption>\n",
       "<thead>\n",
       "\t<tr><th></th><th scope=col>region</th><th scope=col>variable</th><th scope=col>value</th></tr>\n",
       "\t<tr><th></th><th scope=col>&lt;chr&gt;</th><th scope=col>&lt;fct&gt;</th><th scope=col>&lt;dbl&gt;</th></tr>\n",
       "</thead>\n",
       "<tbody>\n",
       "\t<tr><th scope=row>1</th><td>USA         </td><td>Full</td><td>0.8620497</td></tr>\n",
       "\t<tr><th scope=row>2</th><td>UK          </td><td>Full</td><td>0.8234567</td></tr>\n",
       "\t<tr><th scope=row>3</th><td>Australia   </td><td>Full</td><td>0.8939200</td></tr>\n",
       "\t<tr><th scope=row>4</th><td>South Africa</td><td>Full</td><td>0.8607299</td></tr>\n",
       "\t<tr><th scope=row>5</th><td>Germany     </td><td>Full</td><td>0.8614090</td></tr>\n",
       "\t<tr><th scope=row>6</th><td>Japan       </td><td>Full</td><td>0.8692764</td></tr>\n",
       "</tbody>\n",
       "</table>\n"
      ],
      "text/latex": [
       "A data.frame: 6 × 3\n",
       "\\begin{tabular}{r|lll}\n",
       "  & region & variable & value\\\\\n",
       "  & <chr> & <fct> & <dbl>\\\\\n",
       "\\hline\n",
       "\t1 & USA          & Full & 0.8620497\\\\\n",
       "\t2 & UK           & Full & 0.8234567\\\\\n",
       "\t3 & Australia    & Full & 0.8939200\\\\\n",
       "\t4 & South Africa & Full & 0.8607299\\\\\n",
       "\t5 & Germany      & Full & 0.8614090\\\\\n",
       "\t6 & Japan        & Full & 0.8692764\\\\\n",
       "\\end{tabular}\n"
      ],
      "text/markdown": [
       "\n",
       "A data.frame: 6 × 3\n",
       "\n",
       "| <!--/--> | region &lt;chr&gt; | variable &lt;fct&gt; | value &lt;dbl&gt; |\n",
       "|---|---|---|---|\n",
       "| 1 | USA          | Full | 0.8620497 |\n",
       "| 2 | UK           | Full | 0.8234567 |\n",
       "| 3 | Australia    | Full | 0.8939200 |\n",
       "| 4 | South Africa | Full | 0.8607299 |\n",
       "| 5 | Germany      | Full | 0.8614090 |\n",
       "| 6 | Japan        | Full | 0.8692764 |\n",
       "\n"
      ],
      "text/plain": [
       "  region       variable value    \n",
       "1 USA          Full     0.8620497\n",
       "2 UK           Full     0.8234567\n",
       "3 Australia    Full     0.8939200\n",
       "4 South Africa Full     0.8607299\n",
       "5 Germany      Full     0.8614090\n",
       "6 Japan        Full     0.8692764"
      ]
     },
     "metadata": {},
     "output_type": "display_data"
    },
    {
     "data": {
      "text/html": [
       "<table class=\"dataframe\">\n",
       "<caption>A tibble: 3 × 3</caption>\n",
       "<thead>\n",
       "\t<tr><th scope=col>variable</th><th scope=col>MEAN</th><th scope=col>STD</th></tr>\n",
       "\t<tr><th scope=col>&lt;fct&gt;</th><th scope=col>&lt;dbl&gt;</th><th scope=col>&lt;dbl&gt;</th></tr>\n",
       "</thead>\n",
       "<tbody>\n",
       "\t<tr><td>Full     </td><td>0.8081460</td><td>0.1029343</td></tr>\n",
       "\t<tr><td>Dimension</td><td>0.7209264</td><td>0.1372515</td></tr>\n",
       "\t<tr><td>Category </td><td>0.6870000</td><td>0.0793043</td></tr>\n",
       "</tbody>\n",
       "</table>\n"
      ],
      "text/latex": [
       "A tibble: 3 × 3\n",
       "\\begin{tabular}{lll}\n",
       " variable & MEAN & STD\\\\\n",
       " <fct> & <dbl> & <dbl>\\\\\n",
       "\\hline\n",
       "\t Full      & 0.8081460 & 0.1029343\\\\\n",
       "\t Dimension & 0.7209264 & 0.1372515\\\\\n",
       "\t Category  & 0.6870000 & 0.0793043\\\\\n",
       "\\end{tabular}\n"
      ],
      "text/markdown": [
       "\n",
       "A tibble: 3 × 3\n",
       "\n",
       "| variable &lt;fct&gt; | MEAN &lt;dbl&gt; | STD &lt;dbl&gt; |\n",
       "|---|---|---|\n",
       "| Full      | 0.8081460 | 0.1029343 |\n",
       "| Dimension | 0.7209264 | 0.1372515 |\n",
       "| Category  | 0.6870000 | 0.0793043 |\n",
       "\n"
      ],
      "text/plain": [
       "  variable  MEAN      STD      \n",
       "1 Full      0.8081460 0.1029343\n",
       "2 Dimension 0.7209264 0.1372515\n",
       "3 Category  0.6870000 0.0793043"
      ]
     },
     "metadata": {},
     "output_type": "display_data"
    },
    {
     "data": {
      "text/plain": [
       "Aesthetic mapping: \n",
       "* `ymax` -> `MEAN + STD`\n",
       "* `ymin` -> `MEAN - STD`"
      ]
     },
     "metadata": {},
     "output_type": "display_data"
    }
   ],
   "source": [
    "loocv_df = cbind(raw_data,favee,hpp)\n",
    "colnames(loocv_df) = c('Full','Dimension','Category')\n",
    "loocv_df$'region' = rownames(loocv_df)\n",
    "loocv_df_melt = melt(loocv_df,id.var=c('region'))\n",
    "head(loocv_df_melt)\n",
    "\n",
    "STAT = loocv_df_melt %>% group_by(variable) %>%\n",
    "    summarise(MEAN = mean(value),STD = sd(value))\n",
    "STAT$'variable' = factor(STAT$'variable',level=c('Full','Dimension','Category'))\n",
    "STAT\n",
    "# Define the top and bottom of the errorbars\n",
    "limits = aes(ymax = MEAN + STD, ymin=MEAN - STD)\n",
    "limits"
   ]
  },
  {
   "cell_type": "code",
   "execution_count": 5,
   "id": "a5c235bb",
   "metadata": {
    "ExecuteTime": {
     "end_time": "2022-12-23T13:40:58.039124Z",
     "start_time": "2022-12-23T13:40:57.757Z"
    }
   },
   "outputs": [
    {
     "data": {
      "text/html": [
       "<table class=\"dataframe\">\n",
       "<caption>A data.frame: 3 × 3</caption>\n",
       "<thead>\n",
       "\t<tr><th></th><th scope=col>Region</th><th scope=col>Model</th><th scope=col>loocv</th></tr>\n",
       "\t<tr><th></th><th scope=col>&lt;fct&gt;</th><th scope=col>&lt;fct&gt;</th><th scope=col>&lt;dbl&gt;</th></tr>\n",
       "</thead>\n",
       "<tbody>\n",
       "\t<tr><th scope=row>1</th><td>USA      </td><td>Full</td><td>1.301270</td></tr>\n",
       "\t<tr><th scope=row>2</th><td>UK       </td><td>Full</td><td>1.167462</td></tr>\n",
       "\t<tr><th scope=row>3</th><td>Australia</td><td>Full</td><td>1.441105</td></tr>\n",
       "</tbody>\n",
       "</table>\n"
      ],
      "text/latex": [
       "A data.frame: 3 × 3\n",
       "\\begin{tabular}{r|lll}\n",
       "  & Region & Model & loocv\\\\\n",
       "  & <fct> & <fct> & <dbl>\\\\\n",
       "\\hline\n",
       "\t1 & USA       & Full & 1.301270\\\\\n",
       "\t2 & UK        & Full & 1.167462\\\\\n",
       "\t3 & Australia & Full & 1.441105\\\\\n",
       "\\end{tabular}\n"
      ],
      "text/markdown": [
       "\n",
       "A data.frame: 3 × 3\n",
       "\n",
       "| <!--/--> | Region &lt;fct&gt; | Model &lt;fct&gt; | loocv &lt;dbl&gt; |\n",
       "|---|---|---|---|\n",
       "| 1 | USA       | Full | 1.301270 |\n",
       "| 2 | UK        | Full | 1.167462 |\n",
       "| 3 | Australia | Full | 1.441105 |\n",
       "\n"
      ],
      "text/plain": [
       "  Region    Model loocv   \n",
       "1 USA       Full  1.301270\n",
       "2 UK        Full  1.167462\n",
       "3 Australia Full  1.441105"
      ]
     },
     "metadata": {},
     "output_type": "display_data"
    },
    {
     "data": {
      "text/html": [
       "<table class=\"dataframe\">\n",
       "<caption>A anova_test: 1 × 7</caption>\n",
       "<thead>\n",
       "\t<tr><th></th><th scope=col>Effect</th><th scope=col>DFn</th><th scope=col>DFd</th><th scope=col>F</th><th scope=col>p</th><th scope=col>p&lt;.05</th><th scope=col>ges</th></tr>\n",
       "\t<tr><th></th><th scope=col>&lt;chr&gt;</th><th scope=col>&lt;dbl&gt;</th><th scope=col>&lt;dbl&gt;</th><th scope=col>&lt;dbl&gt;</th><th scope=col>&lt;dbl&gt;</th><th scope=col>&lt;chr&gt;</th><th scope=col>&lt;dbl&gt;</th></tr>\n",
       "</thead>\n",
       "<tbody>\n",
       "\t<tr><th scope=row>1</th><td>Model</td><td>1.3</td><td>23.45</td><td>37.971</td><td>5.74e-07</td><td>*</td><td>0.268</td></tr>\n",
       "</tbody>\n",
       "</table>\n"
      ],
      "text/latex": [
       "A anova\\_test: 1 × 7\n",
       "\\begin{tabular}{r|lllllll}\n",
       "  & Effect & DFn & DFd & F & p & p<.05 & ges\\\\\n",
       "  & <chr> & <dbl> & <dbl> & <dbl> & <dbl> & <chr> & <dbl>\\\\\n",
       "\\hline\n",
       "\t1 & Model & 1.3 & 23.45 & 37.971 & 5.74e-07 & * & 0.268\\\\\n",
       "\\end{tabular}\n"
      ],
      "text/markdown": [
       "\n",
       "A anova_test: 1 × 7\n",
       "\n",
       "| <!--/--> | Effect &lt;chr&gt; | DFn &lt;dbl&gt; | DFd &lt;dbl&gt; | F &lt;dbl&gt; | p &lt;dbl&gt; | p&lt;.05 &lt;chr&gt; | ges &lt;dbl&gt; |\n",
       "|---|---|---|---|---|---|---|---|\n",
       "| 1 | Model | 1.3 | 23.45 | 37.971 | 5.74e-07 | * | 0.268 |\n",
       "\n"
      ],
      "text/plain": [
       "  Effect DFn DFd   F      p        p<.05 ges  \n",
       "1 Model  1.3 23.45 37.971 5.74e-07 *     0.268"
      ]
     },
     "metadata": {},
     "output_type": "display_data"
    },
    {
     "data": {
      "text/html": [
       "<table class=\"dataframe\">\n",
       "<caption>A rstatix_test: 3 × 10</caption>\n",
       "<thead>\n",
       "\t<tr><th></th><th scope=col>.y.</th><th scope=col>group1</th><th scope=col>group2</th><th scope=col>n1</th><th scope=col>n2</th><th scope=col>statistic</th><th scope=col>df</th><th scope=col>p</th><th scope=col>p.adj</th><th scope=col>p.adj.signif</th></tr>\n",
       "\t<tr><th></th><th scope=col>&lt;chr&gt;</th><th scope=col>&lt;chr&gt;</th><th scope=col>&lt;chr&gt;</th><th scope=col>&lt;int&gt;</th><th scope=col>&lt;int&gt;</th><th scope=col>&lt;dbl&gt;</th><th scope=col>&lt;dbl&gt;</th><th scope=col>&lt;dbl&gt;</th><th scope=col>&lt;dbl&gt;</th><th scope=col>&lt;chr&gt;</th></tr>\n",
       "</thead>\n",
       "<tbody>\n",
       "\t<tr><th scope=row>1</th><td>loocv</td><td>Category </td><td>Dimension</td><td>19</td><td>19</td><td> -2.234847</td><td>18</td><td>3.80e-02</td><td>1.15e-01</td><td>ns  </td></tr>\n",
       "\t<tr><th scope=row>2</th><td>loocv</td><td>Category </td><td>Full     </td><td>19</td><td>19</td><td> -7.751797</td><td>18</td><td>3.83e-07</td><td>1.15e-06</td><td>****</td></tr>\n",
       "\t<tr><th scope=row>3</th><td>loocv</td><td>Dimension</td><td>Full     </td><td>19</td><td>19</td><td>-10.807161</td><td>18</td><td>2.67e-09</td><td>8.01e-09</td><td>****</td></tr>\n",
       "</tbody>\n",
       "</table>\n"
      ],
      "text/latex": [
       "A rstatix\\_test: 3 × 10\n",
       "\\begin{tabular}{r|llllllllll}\n",
       "  & .y. & group1 & group2 & n1 & n2 & statistic & df & p & p.adj & p.adj.signif\\\\\n",
       "  & <chr> & <chr> & <chr> & <int> & <int> & <dbl> & <dbl> & <dbl> & <dbl> & <chr>\\\\\n",
       "\\hline\n",
       "\t1 & loocv & Category  & Dimension & 19 & 19 &  -2.234847 & 18 & 3.80e-02 & 1.15e-01 & ns  \\\\\n",
       "\t2 & loocv & Category  & Full      & 19 & 19 &  -7.751797 & 18 & 3.83e-07 & 1.15e-06 & ****\\\\\n",
       "\t3 & loocv & Dimension & Full      & 19 & 19 & -10.807161 & 18 & 2.67e-09 & 8.01e-09 & ****\\\\\n",
       "\\end{tabular}\n"
      ],
      "text/markdown": [
       "\n",
       "A rstatix_test: 3 × 10\n",
       "\n",
       "| <!--/--> | .y. &lt;chr&gt; | group1 &lt;chr&gt; | group2 &lt;chr&gt; | n1 &lt;int&gt; | n2 &lt;int&gt; | statistic &lt;dbl&gt; | df &lt;dbl&gt; | p &lt;dbl&gt; | p.adj &lt;dbl&gt; | p.adj.signif &lt;chr&gt; |\n",
       "|---|---|---|---|---|---|---|---|---|---|---|\n",
       "| 1 | loocv | Category  | Dimension | 19 | 19 |  -2.234847 | 18 | 3.80e-02 | 1.15e-01 | ns   |\n",
       "| 2 | loocv | Category  | Full      | 19 | 19 |  -7.751797 | 18 | 3.83e-07 | 1.15e-06 | **** |\n",
       "| 3 | loocv | Dimension | Full      | 19 | 19 | -10.807161 | 18 | 2.67e-09 | 8.01e-09 | **** |\n",
       "\n"
      ],
      "text/plain": [
       "  .y.   group1    group2    n1 n2 statistic  df p        p.adj    p.adj.signif\n",
       "1 loocv Category  Dimension 19 19  -2.234847 18 3.80e-02 1.15e-01 ns          \n",
       "2 loocv Category  Full      19 19  -7.751797 18 3.83e-07 1.15e-06 ****        \n",
       "3 loocv Dimension Full      19 19 -10.807161 18 2.67e-09 8.01e-09 ****        "
      ]
     },
     "metadata": {},
     "output_type": "display_data"
    }
   ],
   "source": [
    "loocv_df = FisherZ(loocv_df[,c('Full','Dimension','Category')])\n",
    "loocv_df <- loocv_df %>% mutate(\"Region\" = rownames(loocv_df)) %>%\n",
    "  gather(key = \"Model\", value = \"loocv\", Full, Dimension, Category) %>%\n",
    "  convert_as_factor(Region, Model)\n",
    "head(loocv_df, 3)\n",
    "\n",
    "res.aov = anova_test(\n",
    "    data = loocv_df,dv = loocv, wid = Region,\n",
    "    within = Model)\n",
    "get_anova_table(res.aov)\n",
    "\n",
    "# pairwise comparisons\n",
    "pwc <- loocv_df %>%\n",
    "  pairwise_t_test(\n",
    "    loocv ~ Model, paired = TRUE,\n",
    "    p.adjust.method = \"bonferroni\"\n",
    "    )\n",
    "pwc"
   ]
  },
  {
   "cell_type": "code",
   "execution_count": 6,
   "id": "a36f6ea0",
   "metadata": {
    "ExecuteTime": {
     "end_time": "2022-12-23T13:41:13.765767Z",
     "start_time": "2022-12-23T13:41:13.367Z"
    }
   },
   "outputs": [
    {
     "data": {
      "text/html": [
       "<strong>png:</strong> 2"
      ],
      "text/latex": [
       "\\textbf{png:} 2"
      ],
      "text/markdown": [
       "**png:** 2"
      ],
      "text/plain": [
       "png \n",
       "  2 "
      ]
     },
     "metadata": {},
     "output_type": "display_data"
    },
    {
     "data": {
      "image/png": "[encoded data removed]",
      "text/plain": [
       "plot without title"
      ]
     },
     "metadata": {
      "image/png": {
       "height": 600,
       "width": 600
      }
     },
     "output_type": "display_data"
    }
   ],
   "source": [
    "loocv_df_melt$region[loocv_df_melt$region=='HK(region)']='Hong Kong SAR'\n",
    "loocv_df_melt$region[loocv_df_melt$region=='CHN']='China'\n",
    "loocv_df_melt$region[loocv_df_melt$region=='UK']='United Kingdom'\n",
    "loocv_df_melt$region[loocv_df_melt$region=='USA']='United States'\n",
    "\n",
    "options(repr.plot.width=10,repr.plot.height=10)\n",
    "ggplot(loocv_df_melt,aes(x=variable,y=value))+\n",
    "geom_boxplot(color='grey',fill='black',size=3,\n",
    "             outlier.alpha = 0,width=0.6)+\n",
    "\n",
    "theme_classic()+\n",
    "theme(axis.text.x=element_blank(),\n",
    "      axis.text.y=element_text(size=60,face='bold'),\n",
    "      axis.title.x=element_blank(),\n",
    "      axis.title.y=element_blank(),\n",
    "      axis.line.x=element_line(linetype=1,color=\"black\",size=3),\n",
    "      axis.line.y=element_line(linetype=1,color=\"black\",size=3),\n",
    "      axis.ticks.length = unit(0.75,'cm'),\n",
    "      axis.ticks = element_line(size=3),\n",
    "      legend.title = element_text(size=35,face='bold'),\n",
    "      #legend.key.size = unit(50,'pt'),\n",
    "      legend.text=element_text(size=30),\n",
    "      legend.position = 'none')\n",
    "\n",
    "#####################################################\n",
    "png(\"../output_graph/LOOCV_Models.png\", bg=\"transparent\",\n",
    "    family = 'sans',units='in',width=10,height=10,res=300)\n",
    "ggplot(loocv_df_melt,aes(x=variable,y=value))+\n",
    "geom_boxplot(color='grey',fill='black',size=3,\n",
    "             outlier.alpha = 0,width=0.6)+\n",
    "\n",
    "theme_classic()+\n",
    "theme(axis.text.x=element_blank(),\n",
    "      #axis.text.y=element_text(size=30,face='bold'),\n",
    "      axis.text.y=element_blank(),\n",
    "      axis.title.x=element_blank(),\n",
    "      axis.title.y=element_blank(),\n",
    "      axis.line.x=element_line(linetype=1,color=\"black\",size=3),\n",
    "      axis.line.y=element_line(linetype=1,color=\"black\",size=3),\n",
    "      axis.ticks.length = unit(0.75,'cm'),\n",
    "      axis.ticks = element_line(size=3),\n",
    "      legend.title = element_text(size=35,face='bold'),\n",
    "      #legend.key.size = unit(50,'pt'),\n",
    "      legend.text=element_text(size=30),\n",
    "      legend.position = 'none')\n",
    "dev.off()"
   ]
  },
  {
   "cell_type": "markdown",
   "id": "82c73c22",
   "metadata": {},
   "source": [
    "## Each dimension"
   ]
  },
  {
   "cell_type": "code",
   "execution_count": 8,
   "id": "6dc0d527",
   "metadata": {
    "ExecuteTime": {
     "end_time": "2022-12-23T13:41:31.677797Z",
     "start_time": "2022-12-23T13:41:31.329Z"
    }
   },
   "outputs": [
    {
     "data": {
      "text/html": [
       "<table class=\"dataframe\">\n",
       "<caption>A anova_test: 1 × 7</caption>\n",
       "<thead>\n",
       "\t<tr><th></th><th scope=col>Effect</th><th scope=col>DFn</th><th scope=col>DFd</th><th scope=col>F</th><th scope=col>p</th><th scope=col>p&lt;.05</th><th scope=col>ges</th></tr>\n",
       "\t<tr><th></th><th scope=col>&lt;chr&gt;</th><th scope=col>&lt;dbl&gt;</th><th scope=col>&lt;dbl&gt;</th><th scope=col>&lt;dbl&gt;</th><th scope=col>&lt;dbl&gt;</th><th scope=col>&lt;chr&gt;</th><th scope=col>&lt;dbl&gt;</th></tr>\n",
       "</thead>\n",
       "<tbody>\n",
       "\t<tr><th scope=row>1</th><td>dimension</td><td>4</td><td>72</td><td>2.053</td><td>0.096</td><td></td><td>0.039</td></tr>\n",
       "</tbody>\n",
       "</table>\n"
      ],
      "text/latex": [
       "A anova\\_test: 1 × 7\n",
       "\\begin{tabular}{r|lllllll}\n",
       "  & Effect & DFn & DFd & F & p & p<.05 & ges\\\\\n",
       "  & <chr> & <dbl> & <dbl> & <dbl> & <dbl> & <chr> & <dbl>\\\\\n",
       "\\hline\n",
       "\t1 & dimension & 4 & 72 & 2.053 & 0.096 &  & 0.039\\\\\n",
       "\\end{tabular}\n"
      ],
      "text/markdown": [
       "\n",
       "A anova_test: 1 × 7\n",
       "\n",
       "| <!--/--> | Effect &lt;chr&gt; | DFn &lt;dbl&gt; | DFd &lt;dbl&gt; | F &lt;dbl&gt; | p &lt;dbl&gt; | p&lt;.05 &lt;chr&gt; | ges &lt;dbl&gt; |\n",
       "|---|---|---|---|---|---|---|---|\n",
       "| 1 | dimension | 4 | 72 | 2.053 | 0.096 | <!----> | 0.039 |\n",
       "\n"
      ],
      "text/plain": [
       "  Effect    DFn DFd F     p     p<.05 ges  \n",
       "1 dimension 4   72  2.053 0.096       0.039"
      ]
     },
     "metadata": {},
     "output_type": "display_data"
    },
    {
     "data": {
      "text/html": [
       "<table class=\"dataframe\">\n",
       "<caption>A rstatix_test: 10 × 10</caption>\n",
       "<thead>\n",
       "\t<tr><th></th><th scope=col>.y.</th><th scope=col>group1</th><th scope=col>group2</th><th scope=col>n1</th><th scope=col>n2</th><th scope=col>statistic</th><th scope=col>df</th><th scope=col>p</th><th scope=col>p.adj</th><th scope=col>p.adj.signif</th></tr>\n",
       "\t<tr><th></th><th scope=col>&lt;chr&gt;</th><th scope=col>&lt;chr&gt;</th><th scope=col>&lt;chr&gt;</th><th scope=col>&lt;int&gt;</th><th scope=col>&lt;int&gt;</th><th scope=col>&lt;dbl&gt;</th><th scope=col>&lt;dbl&gt;</th><th scope=col>&lt;dbl&gt;</th><th scope=col>&lt;dbl&gt;</th><th scope=col>&lt;chr&gt;</th></tr>\n",
       "</thead>\n",
       "<tbody>\n",
       "\t<tr><th scope=row>1</th><td>value</td><td>formality </td><td>activeness</td><td>19</td><td>19</td><td> 3.1207322</td><td>18</td><td>0.006</td><td>0.059</td><td>ns</td></tr>\n",
       "\t<tr><th scope=row>2</th><td>value</td><td>formality </td><td>valence   </td><td>19</td><td>19</td><td> 0.9769606</td><td>18</td><td>0.342</td><td>1.000</td><td>ns</td></tr>\n",
       "\t<tr><th scope=row>3</th><td>value</td><td>formality </td><td>exchange  </td><td>19</td><td>19</td><td> 1.4722127</td><td>18</td><td>0.158</td><td>1.000</td><td>ns</td></tr>\n",
       "\t<tr><th scope=row>4</th><td>value</td><td>formality </td><td>equality  </td><td>19</td><td>19</td><td> 1.0755758</td><td>18</td><td>0.296</td><td>1.000</td><td>ns</td></tr>\n",
       "\t<tr><th scope=row>5</th><td>value</td><td>activeness</td><td>valence   </td><td>19</td><td>19</td><td>-2.4482919</td><td>18</td><td>0.025</td><td>0.248</td><td>ns</td></tr>\n",
       "\t<tr><th scope=row>6</th><td>value</td><td>activeness</td><td>exchange  </td><td>19</td><td>19</td><td>-1.1476608</td><td>18</td><td>0.266</td><td>1.000</td><td>ns</td></tr>\n",
       "\t<tr><th scope=row>7</th><td>value</td><td>activeness</td><td>equality  </td><td>19</td><td>19</td><td>-1.6330167</td><td>18</td><td>0.120</td><td>1.000</td><td>ns</td></tr>\n",
       "\t<tr><th scope=row>8</th><td>value</td><td>valence   </td><td>exchange  </td><td>19</td><td>19</td><td> 0.6941438</td><td>18</td><td>0.496</td><td>1.000</td><td>ns</td></tr>\n",
       "\t<tr><th scope=row>9</th><td>value</td><td>valence   </td><td>equality  </td><td>19</td><td>19</td><td> 0.2010250</td><td>18</td><td>0.843</td><td>1.000</td><td>ns</td></tr>\n",
       "\t<tr><th scope=row>10</th><td>value</td><td>exchange  </td><td>equality  </td><td>19</td><td>19</td><td>-0.5456744</td><td>18</td><td>0.592</td><td>1.000</td><td>ns</td></tr>\n",
       "</tbody>\n",
       "</table>\n"
      ],
      "text/latex": [
       "A rstatix\\_test: 10 × 10\n",
       "\\begin{tabular}{r|llllllllll}\n",
       "  & .y. & group1 & group2 & n1 & n2 & statistic & df & p & p.adj & p.adj.signif\\\\\n",
       "  & <chr> & <chr> & <chr> & <int> & <int> & <dbl> & <dbl> & <dbl> & <dbl> & <chr>\\\\\n",
       "\\hline\n",
       "\t1 & value & formality  & activeness & 19 & 19 &  3.1207322 & 18 & 0.006 & 0.059 & ns\\\\\n",
       "\t2 & value & formality  & valence    & 19 & 19 &  0.9769606 & 18 & 0.342 & 1.000 & ns\\\\\n",
       "\t3 & value & formality  & exchange   & 19 & 19 &  1.4722127 & 18 & 0.158 & 1.000 & ns\\\\\n",
       "\t4 & value & formality  & equality   & 19 & 19 &  1.0755758 & 18 & 0.296 & 1.000 & ns\\\\\n",
       "\t5 & value & activeness & valence    & 19 & 19 & -2.4482919 & 18 & 0.025 & 0.248 & ns\\\\\n",
       "\t6 & value & activeness & exchange   & 19 & 19 & -1.1476608 & 18 & 0.266 & 1.000 & ns\\\\\n",
       "\t7 & value & activeness & equality   & 19 & 19 & -1.6330167 & 18 & 0.120 & 1.000 & ns\\\\\n",
       "\t8 & value & valence    & exchange   & 19 & 19 &  0.6941438 & 18 & 0.496 & 1.000 & ns\\\\\n",
       "\t9 & value & valence    & equality   & 19 & 19 &  0.2010250 & 18 & 0.843 & 1.000 & ns\\\\\n",
       "\t10 & value & exchange   & equality   & 19 & 19 & -0.5456744 & 18 & 0.592 & 1.000 & ns\\\\\n",
       "\\end{tabular}\n"
      ],
      "text/markdown": [
       "\n",
       "A rstatix_test: 10 × 10\n",
       "\n",
       "| <!--/--> | .y. &lt;chr&gt; | group1 &lt;chr&gt; | group2 &lt;chr&gt; | n1 &lt;int&gt; | n2 &lt;int&gt; | statistic &lt;dbl&gt; | df &lt;dbl&gt; | p &lt;dbl&gt; | p.adj &lt;dbl&gt; | p.adj.signif &lt;chr&gt; |\n",
       "|---|---|---|---|---|---|---|---|---|---|---|\n",
       "| 1 | value | formality  | activeness | 19 | 19 |  3.1207322 | 18 | 0.006 | 0.059 | ns |\n",
       "| 2 | value | formality  | valence    | 19 | 19 |  0.9769606 | 18 | 0.342 | 1.000 | ns |\n",
       "| 3 | value | formality  | exchange   | 19 | 19 |  1.4722127 | 18 | 0.158 | 1.000 | ns |\n",
       "| 4 | value | formality  | equality   | 19 | 19 |  1.0755758 | 18 | 0.296 | 1.000 | ns |\n",
       "| 5 | value | activeness | valence    | 19 | 19 | -2.4482919 | 18 | 0.025 | 0.248 | ns |\n",
       "| 6 | value | activeness | exchange   | 19 | 19 | -1.1476608 | 18 | 0.266 | 1.000 | ns |\n",
       "| 7 | value | activeness | equality   | 19 | 19 | -1.6330167 | 18 | 0.120 | 1.000 | ns |\n",
       "| 8 | value | valence    | exchange   | 19 | 19 |  0.6941438 | 18 | 0.496 | 1.000 | ns |\n",
       "| 9 | value | valence    | equality   | 19 | 19 |  0.2010250 | 18 | 0.843 | 1.000 | ns |\n",
       "| 10 | value | exchange   | equality   | 19 | 19 | -0.5456744 | 18 | 0.592 | 1.000 | ns |\n",
       "\n"
      ],
      "text/plain": [
       "   .y.   group1     group2     n1 n2 statistic  df p     p.adj p.adj.signif\n",
       "1  value formality  activeness 19 19  3.1207322 18 0.006 0.059 ns          \n",
       "2  value formality  valence    19 19  0.9769606 18 0.342 1.000 ns          \n",
       "3  value formality  exchange   19 19  1.4722127 18 0.158 1.000 ns          \n",
       "4  value formality  equality   19 19  1.0755758 18 0.296 1.000 ns          \n",
       "5  value activeness valence    19 19 -2.4482919 18 0.025 0.248 ns          \n",
       "6  value activeness exchange   19 19 -1.1476608 18 0.266 1.000 ns          \n",
       "7  value activeness equality   19 19 -1.6330167 18 0.120 1.000 ns          \n",
       "8  value valence    exchange   19 19  0.6941438 18 0.496 1.000 ns          \n",
       "9  value valence    equality   19 19  0.2010250 18 0.843 1.000 ns          \n",
       "10 value exchange   equality   19 19 -0.5456744 18 0.592 1.000 ns          "
      ]
     },
     "metadata": {},
     "output_type": "display_data"
    }
   ],
   "source": [
    "options(warn = -1)\n",
    "formality = read.csv('output_data/loocv/formality33d_loocv.csv',row.names=1)\n",
    "activeness = read.csv('output_data/loocv/activeness33d_loocv.csv',row.names=1)\n",
    "valence = read.csv('output_data/loocv/valence33d_loocv.csv',row.names=1)\n",
    "exchange = read.csv('output_data/loocv/exchange33d_loocv.csv',row.names=1)\n",
    "equality = read.csv('output_data/loocv/equality33d_loocv.csv',row.names=1)\n",
    "\n",
    "dimensions19r = cbind(formality,activeness,valence,exchange,equality)\n",
    "dimensions19r = FisherZ(dimensions19r)\n",
    "dimensions19r_melt = dimensions19r %>% as.matrix() %>% melt()\n",
    "colnames(dimensions19r_melt) = c('region','dimension','value')\n",
    "\n",
    "res.aov = anova_test(\n",
    "    data = dimensions19r_melt,dv = value, wid = region,\n",
    "    within = dimension)\n",
    "get_anova_table(res.aov)\n",
    "\n",
    "# pairwise comparisons\n",
    "pwc <- dimensions19r_melt %>%\n",
    "  pairwise_t_test(\n",
    "    value ~ dimension, paired = TRUE,\n",
    "    p.adjust.method = \"bonferroni\"\n",
    "    )\n",
    "pwc"
   ]
  },
  {
   "cell_type": "code",
   "execution_count": 9,
   "id": "48a27eed",
   "metadata": {
    "ExecuteTime": {
     "end_time": "2022-12-23T13:41:34.630224Z",
     "start_time": "2022-12-23T13:41:34.605Z"
    }
   },
   "outputs": [
    {
     "data": {
      "text/html": [
       "<table class=\"dataframe\">\n",
       "<caption>A data.frame: 6 × 3</caption>\n",
       "<thead>\n",
       "\t<tr><th></th><th scope=col>region</th><th scope=col>dimension</th><th scope=col>value</th></tr>\n",
       "\t<tr><th></th><th scope=col>&lt;fct&gt;</th><th scope=col>&lt;fct&gt;</th><th scope=col>&lt;dbl&gt;</th></tr>\n",
       "</thead>\n",
       "<tbody>\n",
       "\t<tr><th scope=row>1</th><td>USA         </td><td>Formality</td><td>0.7847838</td></tr>\n",
       "\t<tr><th scope=row>2</th><td>UK          </td><td>Formality</td><td>0.7732595</td></tr>\n",
       "\t<tr><th scope=row>3</th><td>Australia   </td><td>Formality</td><td>0.8299260</td></tr>\n",
       "\t<tr><th scope=row>4</th><td>South Africa</td><td>Formality</td><td>0.7408709</td></tr>\n",
       "\t<tr><th scope=row>5</th><td>Germany     </td><td>Formality</td><td>0.7959365</td></tr>\n",
       "\t<tr><th scope=row>6</th><td>Japan       </td><td>Formality</td><td>0.7552286</td></tr>\n",
       "</tbody>\n",
       "</table>\n"
      ],
      "text/latex": [
       "A data.frame: 6 × 3\n",
       "\\begin{tabular}{r|lll}\n",
       "  & region & dimension & value\\\\\n",
       "  & <fct> & <fct> & <dbl>\\\\\n",
       "\\hline\n",
       "\t1 & USA          & Formality & 0.7847838\\\\\n",
       "\t2 & UK           & Formality & 0.7732595\\\\\n",
       "\t3 & Australia    & Formality & 0.8299260\\\\\n",
       "\t4 & South Africa & Formality & 0.7408709\\\\\n",
       "\t5 & Germany      & Formality & 0.7959365\\\\\n",
       "\t6 & Japan        & Formality & 0.7552286\\\\\n",
       "\\end{tabular}\n"
      ],
      "text/markdown": [
       "\n",
       "A data.frame: 6 × 3\n",
       "\n",
       "| <!--/--> | region &lt;fct&gt; | dimension &lt;fct&gt; | value &lt;dbl&gt; |\n",
       "|---|---|---|---|\n",
       "| 1 | USA          | Formality | 0.7847838 |\n",
       "| 2 | UK           | Formality | 0.7732595 |\n",
       "| 3 | Australia    | Formality | 0.8299260 |\n",
       "| 4 | South Africa | Formality | 0.7408709 |\n",
       "| 5 | Germany      | Formality | 0.7959365 |\n",
       "| 6 | Japan        | Formality | 0.7552286 |\n",
       "\n"
      ],
      "text/plain": [
       "  region       dimension value    \n",
       "1 USA          Formality 0.7847838\n",
       "2 UK           Formality 0.7732595\n",
       "3 Australia    Formality 0.8299260\n",
       "4 South Africa Formality 0.7408709\n",
       "5 Germany      Formality 0.7959365\n",
       "6 Japan        Formality 0.7552286"
      ]
     },
     "metadata": {},
     "output_type": "display_data"
    }
   ],
   "source": [
    "dimensions19r = cbind(formality,activeness,valence,exchange,equality)\n",
    "colnames(dimensions19r) = c('Formality','Activeness','Valence','Exchange','Equality')\n",
    "dimensions19r_melt = dimensions19r %>% as.matrix() %>% melt() \n",
    "colnames(dimensions19r_melt) = c('region','dimension','value')\n",
    "head(dimensions19r_melt,6)"
   ]
  },
  {
   "cell_type": "code",
   "execution_count": 10,
   "id": "d58e930d",
   "metadata": {
    "ExecuteTime": {
     "end_time": "2022-12-23T13:41:41.224643Z",
     "start_time": "2022-12-23T13:41:40.656Z"
    }
   },
   "outputs": [
    {
     "data": {
      "text/html": [
       "<strong>png:</strong> 2"
      ],
      "text/latex": [
       "\\textbf{png:} 2"
      ],
      "text/markdown": [
       "**png:** 2"
      ],
      "text/plain": [
       "png \n",
       "  2 "
      ]
     },
     "metadata": {},
     "output_type": "display_data"
    },
    {
     "data": {
      "image/png": "[encoded data removed]",
      "text/plain": [
       "plot without title"
      ]
     },
     "metadata": {
      "image/png": {
       "height": 600,
       "width": 720
      }
     },
     "output_type": "display_data"
    }
   ],
   "source": [
    "options(repr.plot.width=12, repr.plot.height=10)\n",
    "ggviolin(dimensions19r_melt, x=\"dimension\", y=\"value\", fill = \"dimension\",\n",
    "         size = 1.2,\n",
    " #palette = c(\"#00AFBB\", \"#E7B800\", \"#FC4E07\"), \n",
    "         add = c(\"boxplot\"),\n",
    "         add.params = list(fill = \"white\",size = 1.2))+\n",
    "\n",
    "scale_fill_manual(values=c('Formality'='#009E73','Activeness'='#CC79A7',\n",
    "                           'Valence'='#D55E00','Exchange'='#F0E442','Equality'='#56B4E9'))+\n",
    "scale_y_continuous(breaks = seq(0,2.5,by=0.5))+\n",
    "\n",
    "theme_classic()+\n",
    "theme(#axis.text.x=element_text(size=30,face='bold'),\n",
    "      axis.text.x=element_blank(),\n",
    "      axis.text.y=element_text(size=30,face='bold'),\n",
    "      axis.title.x=element_blank(),\n",
    "      axis.title.y=element_blank(),\n",
    "      axis.line.x=element_line(linetype=1,color=\"black\",size=3),\n",
    "      axis.line.y=element_line(linetype=1,color=\"black\",size=3),\n",
    "      legend.title = element_text(size=35,face='bold'),\n",
    "      legend.position = 'none')\n",
    "\n",
    "##############################\n",
    "png(\"../output_graph/LOOCV_EachDimension.png\", bg=\"transparent\",\n",
    "    family = 'sans',units='in',width=10,height=10,res=300)\n",
    "ggviolin(dimensions19r_melt, x=\"dimension\", y=\"value\", fill = \"dimension\",\n",
    "         size = 1.2,\n",
    " #palette = c(\"#00AFBB\", \"#E7B800\", \"#FC4E07\"), \n",
    "         add = c(\"boxplot\"),\n",
    "         add.params = list(fill = \"white\",size = 1.2))+\n",
    "\n",
    "scale_fill_manual(values=c('Formality'='#009E73','Activeness'='#CC79A7',\n",
    "                           'Valence'='#D55E00','Exchange'='#F0E442','Equality'='#56B4E9'))+\n",
    "scale_y_continuous(breaks = seq(0,2.5,by=0.5))+\n",
    "\n",
    "theme_classic()+\n",
    "theme(#axis.text.x=element_text(size=30,face='bold'),\n",
    "      #axis.text.y=element_text(size=30,face='bold'),\n",
    "      axis.text=element_blank(),\n",
    "      axis.title.x=element_blank(),\n",
    "      axis.title.y=element_blank(),\n",
    "      axis.line.x=element_line(linetype=1,color=\"black\",size=3),\n",
    "      axis.line.y=element_line(linetype=1,color=\"black\",size=3),\n",
    "      legend.title = element_text(size=35,face='bold'),\n",
    "      legend.position = 'none')\n",
    "dev.off()"
   ]
  }
 ],
 "metadata": {
  "kernelspec": {
   "display_name": "R",
   "language": "R",
   "name": "ir"
  },
  "language_info": {
   "codemirror_mode": "r",
   "file_extension": ".r",
   "mimetype": "text/x-r-source",
   "name": "R",
   "pygments_lexer": "r",
   "version": "4.1.2"
  },
  "latex_envs": {
   "LaTeX_envs_menu_present": true,
   "autoclose": false,
   "autocomplete": true,
   "bibliofile": "biblio.bib",
   "cite_by": "apalike",
   "current_citInitial": 1,
   "eqLabelWithNumbers": true,
   "eqNumInitial": 1,
   "hotkeys": {
    "equation": "Ctrl-E",
    "itemize": "Ctrl-I"
   },
   "labels_anchors": false,
   "latex_user_defs": false,
   "report_style_numbering": false,
   "user_envs_cfg": false
  },
  "toc": {
   "base_numbering": 1,
   "nav_menu": {},
   "number_sections": true,
   "sideBar": true,
   "skip_h1_title": false,
   "title_cell": "Table of Contents",
   "title_sidebar": "Contents",
   "toc_cell": false,
   "toc_position": {
    "height": "429.266px",
    "left": "496.986px",
    "top": "60.3125px",
    "width": "386.516px"
   },
   "toc_section_display": true,
   "toc_window_display": true
  },
  "varInspector": {
   "cols": {
    "lenName": 16,
    "lenType": 16,
    "lenVar": 40
   },
   "kernels_config": {
    "python": {
     "delete_cmd_postfix": "",
     "delete_cmd_prefix": "del ",
     "library": "var_list.py",
     "varRefreshCmd": "print(var_dic_list())"
    },
    "r": {
     "delete_cmd_postfix": ") ",
     "delete_cmd_prefix": "rm(",
     "library": "var_list.r",
     "varRefreshCmd": "cat(var_dic_list()) "
    }
   },
   "types_to_exclude": [
    "module",
    "function",
    "builtin_function_or_method",
    "instance",
    "_Feature"
   ],
   "window_display": false
  }
 },
 "nbformat": 4,
 "nbformat_minor": 5
}
