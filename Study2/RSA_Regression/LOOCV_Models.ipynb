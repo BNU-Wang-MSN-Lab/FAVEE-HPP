{
 "cells": [
  {
   "cell_type": "code",
   "execution_count": 1,
   "id": "d1f1a122",
   "metadata": {
    "ExecuteTime": {
     "end_time": "2022-12-23T13:38:31.501649Z",
     "start_time": "2022-12-23T13:38:30.788227Z"
    },
    "vscode": {
     "languageId": "r"
    }
   },
   "outputs": [],
   "source": [
    "import glob\n",
    "#import os\n",
    "\n",
    "import pandas as pd\n",
    "import numpy as np\n",
    "\n",
    "from scipy.stats import spearmanr #Loocv"
   ]
  },
  {
   "cell_type": "code",
   "execution_count": 2,
   "id": "57efc81f",
   "metadata": {
    "ExecuteTime": {
     "end_time": "2022-12-23T13:38:33.425565Z",
     "start_time": "2022-12-23T13:38:33.412562Z"
    },
    "vscode": {
     "languageId": "r"
    }
   },
   "outputs": [],
   "source": [
    "regions = [\n",
    "    # English\n",
    "    'USA','UK','Australia','South Africa',\n",
    "    # Germany\n",
    "    'Germany',\n",
    "    # Japanese\n",
    "    'Japan',\n",
    "    # Hebrew\n",
    "    'Israel',\n",
    "    # Chinese\n",
    "    'CHN','HK(region)',\n",
    "\n",
    "    # French\n",
    "    'France',\n",
    "    # Spanish\n",
    "    'Spain','Mexico','Chile',\n",
    "    # Portuguese\n",
    "    'Portugal','Brazil',\n",
    "    # Russian\n",
    "    'Russia',\n",
    "    # Arabic\n",
    "    'Egypt','Qatar',\n",
    "    'India']"
   ]
  },
  {
   "cell_type": "markdown",
   "id": "907b9ee6",
   "metadata": {},
   "source": [
    "# Caculate LOOCV"
   ]
  },
  {
   "cell_type": "markdown",
   "id": "f8fb8d02",
   "metadata": {},
   "source": [
    "## Raw data"
   ]
  },
  {
   "cell_type": "code",
   "execution_count": 3,
   "id": "b29946e4",
   "metadata": {
    "ExecuteTime": {
     "end_time": "2022-12-23T13:38:58.863812Z",
     "start_time": "2022-12-23T13:38:58.747471Z"
    },
    "vscode": {
     "languageId": "r"
    }
   },
   "outputs": [],
   "source": [
    "raw_dissim_combine = pd.read_csv('output_data/models_rdm/full_feature/raw33d_dissim_array.csv',index_col=0)\n",
    "raw_loocv = []\n",
    "for region in regions:\n",
    "    # one region\n",
    "    region_df = raw_dissim_combine[region]\n",
    "    # n-1 region: sum firstly and then average\n",
    "    regions_left = [i for i in regions if i not in [region]]\n",
    "    region_left_df = raw_dissim_combine[regions_left[0]]\n",
    "    for region_left in regions_left[1:]:\n",
    "        temp_df = raw_dissim_combine[region_left]\n",
    "        region_left_df = region_left_df + temp_df\n",
    "    region_left_df = region_left_df / (len(regions)-1)\n",
    "    r_value = spearmanr(region_df,region_left_df)[0]\n",
    "    raw_loocv.append(r_value)\n",
    "raw_loocv = pd.DataFrame(raw_loocv,index=regions,columns=['Raw data'])\n",
    "raw_loocv.to_csv('output_data/loocv/raw33d_loocv.csv')"
   ]
  },
  {
   "cell_type": "markdown",
   "id": "7b6bbbd6",
   "metadata": {},
   "source": [
    "## FAVEE"
   ]
  },
  {
   "cell_type": "code",
   "execution_count": 4,
   "id": "8da35f03",
   "metadata": {
    "ExecuteTime": {
     "end_time": "2022-12-23T13:39:12.682511Z",
     "start_time": "2022-12-23T13:39:12.574258Z"
    },
    "vscode": {
     "languageId": "r"
    }
   },
   "outputs": [],
   "source": [
    "favee_dissim_combine = pd.read_csv('output_data/models_rdm/dimensional/favee_dissim_array.csv',index_col=0)\n",
    "favee_loocv = []\n",
    "for region in regions:\n",
    "    # one region\n",
    "    region_df = favee_dissim_combine[region]\n",
    "    # n-1 region: sum firstly and then average\n",
    "    regions_left = [i for i in regions if i not in [region]]\n",
    "    region_left_df = favee_dissim_combine[regions_left[0]]\n",
    "    for region_left in regions_left[1:]:\n",
    "        temp_df = favee_dissim_combine[region_left]\n",
    "        region_left_df = region_left_df + temp_df\n",
    "    region_left_df = region_left_df / (len(regions)-1)\n",
    "    r_value = spearmanr(region_df,region_left_df)[0]\n",
    "    favee_loocv.append(r_value)\n",
    "favee_loocv = pd.DataFrame(favee_loocv,index=regions,columns=['FAVEE'])\n",
    "favee_loocv.to_csv('output_data/loocv/favee33d_loocv.csv')"
   ]
  },
  {
   "cell_type": "markdown",
   "id": "c63b0c3a",
   "metadata": {},
   "source": [
    "### Formality"
   ]
  },
  {
   "cell_type": "code",
   "execution_count": 5,
   "id": "9fad533f",
   "metadata": {
    "ExecuteTime": {
     "end_time": "2022-12-23T13:39:26.680020Z",
     "start_time": "2022-12-23T13:39:26.558086Z"
    },
    "vscode": {
     "languageId": "r"
    }
   },
   "outputs": [
    {
     "data": {
      "text/plain": [
       "formality    0.558339\n",
       "dtype: float64"
      ]
     },
     "execution_count": 5,
     "metadata": {},
     "output_type": "execute_result"
    }
   ],
   "source": [
    "formality_dissim_combine = pd.read_csv('output_data/models_rdm/dimensional/formality_cor_array.csv',index_col=0)\n",
    "formality_loocv = []\n",
    "for region in regions:\n",
    "    # one region\n",
    "    region_df = formality_dissim_combine[region]\n",
    "    # n-1 region: sum firstly and then average\n",
    "    regions_left = [i for i in regions if i not in [region]]\n",
    "    region_left_df = formality_dissim_combine[regions_left[0]]\n",
    "    for region_left in regions_left[1:]:\n",
    "        temp_df = formality_dissim_combine[region_left]\n",
    "        region_left_df = region_left_df + temp_df\n",
    "    region_left_df = region_left_df / (len(regions)-1)\n",
    "    r_value = spearmanr(region_df,region_left_df)[0]\n",
    "    formality_loocv.append(r_value)\n",
    "formality_loocv = pd.DataFrame(formality_loocv,index=regions,columns=['formality'])\n",
    "formality_loocv.to_csv('output_data/loocv/formality33d_loocv.csv')\n",
    "formality_loocv.mean()"
   ]
  },
  {
   "cell_type": "markdown",
   "id": "8d5f463f",
   "metadata": {},
   "source": [
    "### Activeness"
   ]
  },
  {
   "cell_type": "code",
   "execution_count": 6,
   "id": "c725a796",
   "metadata": {
    "ExecuteTime": {
     "end_time": "2022-12-23T13:39:40.485935Z",
     "start_time": "2022-12-23T13:39:40.371477Z"
    },
    "vscode": {
     "languageId": "r"
    }
   },
   "outputs": [
    {
     "data": {
      "text/plain": [
       "activeness    0.468577\n",
       "dtype: float64"
      ]
     },
     "execution_count": 6,
     "metadata": {},
     "output_type": "execute_result"
    }
   ],
   "source": [
    "activeness_dissim_combine = pd.read_csv('output_data/models_rdm/dimensional/activeness_cor_array.csv',index_col=0)\n",
    "activeness_loocv = []\n",
    "for region in regions:\n",
    "    # one region\n",
    "    region_df = activeness_dissim_combine[region]\n",
    "    # n-1 region: sum firstly and then average\n",
    "    regions_left = [i for i in regions if i not in [region]]\n",
    "    region_left_df = activeness_dissim_combine[regions_left[0]]\n",
    "    for region_left in regions_left[1:]:\n",
    "        temp_df = activeness_dissim_combine[region_left]\n",
    "        region_left_df = region_left_df + temp_df\n",
    "    region_left_df = region_left_df / (len(regions)-1)\n",
    "    r_value = spearmanr(region_df,region_left_df)[0]\n",
    "    activeness_loocv.append(r_value)\n",
    "activeness_loocv = pd.DataFrame(activeness_loocv,index=regions,columns=['activeness'])\n",
    "activeness_loocv.to_csv('output_data/loocv/activeness33d_loocv.csv')\n",
    "activeness_loocv.mean()"
   ]
  },
  {
   "cell_type": "markdown",
   "id": "0c589c2b",
   "metadata": {},
   "source": [
    "### Valence"
   ]
  },
  {
   "cell_type": "code",
   "execution_count": 7,
   "id": "a4ef1c09",
   "metadata": {
    "ExecuteTime": {
     "end_time": "2022-12-23T13:39:51.088366Z",
     "start_time": "2022-12-23T13:39:50.971340Z"
    },
    "vscode": {
     "languageId": "r"
    }
   },
   "outputs": [
    {
     "data": {
      "text/plain": [
       "valence    0.52901\n",
       "dtype: float64"
      ]
     },
     "execution_count": 7,
     "metadata": {},
     "output_type": "execute_result"
    }
   ],
   "source": [
    "valence_dissim_combine = pd.read_csv('output_data/models_rdm/dimensional/valence_cor_array.csv',index_col=0)\n",
    "valence_loocv = []\n",
    "for region in regions:\n",
    "    # one region\n",
    "    region_df = valence_dissim_combine[region]\n",
    "    # n-1 region: sum firstly and then average\n",
    "    regions_left = [i for i in regions if i not in [region]]\n",
    "    region_left_df = valence_dissim_combine[regions_left[0]]\n",
    "    for region_left in regions_left[1:]:\n",
    "        temp_df = valence_dissim_combine[region_left]\n",
    "        region_left_df = region_left_df + temp_df\n",
    "    region_left_df = region_left_df / (len(regions)-1)\n",
    "    r_value = spearmanr(region_df,region_left_df)[0]\n",
    "    valence_loocv.append(r_value)\n",
    "valence_loocv = pd.DataFrame(valence_loocv,index=regions,columns=['valence'])\n",
    "valence_loocv.to_csv('output_data/loocv/valence33d_loocv.csv')\n",
    "valence_loocv.mean()"
   ]
  },
  {
   "cell_type": "markdown",
   "id": "7d4e0d35",
   "metadata": {},
   "source": [
    "### Exchange"
   ]
  },
  {
   "cell_type": "code",
   "execution_count": 8,
   "id": "5a177db5",
   "metadata": {
    "ExecuteTime": {
     "end_time": "2022-12-23T13:39:59.410485Z",
     "start_time": "2022-12-23T13:39:59.295539Z"
    },
    "vscode": {
     "languageId": "r"
    }
   },
   "outputs": [
    {
     "data": {
      "text/plain": [
       "exchange    0.504486\n",
       "dtype: float64"
      ]
     },
     "execution_count": 8,
     "metadata": {},
     "output_type": "execute_result"
    }
   ],
   "source": [
    "exchange_dissim_combine = pd.read_csv('output_data/models_rdm/dimensional/exchange_cor_array.csv',index_col=0)\n",
    "exchange_loocv = []\n",
    "for region in regions:\n",
    "    # one region\n",
    "    region_df = exchange_dissim_combine[region]\n",
    "    # n-1 region: sum firstly and then average\n",
    "    regions_left = [i for i in regions if i not in [region]]\n",
    "    region_left_df = exchange_dissim_combine[regions_left[0]]\n",
    "    for region_left in regions_left[1:]:\n",
    "        temp_df = exchange_dissim_combine[region_left]\n",
    "        region_left_df = region_left_df + temp_df\n",
    "    region_left_df = region_left_df / (len(regions)-1)\n",
    "    r_value = spearmanr(region_df,region_left_df)[0]\n",
    "    exchange_loocv.append(r_value)\n",
    "exchange_loocv = pd.DataFrame(exchange_loocv,index=regions,columns=['exchange'])\n",
    "exchange_loocv.to_csv('output_data/loocv/exchange33d_loocv.csv')\n",
    "exchange_loocv.mean()"
   ]
  },
  {
   "cell_type": "markdown",
   "id": "e5fbc784",
   "metadata": {},
   "source": [
    "### Equality"
   ]
  },
  {
   "cell_type": "code",
   "execution_count": 9,
   "id": "555c878f",
   "metadata": {
    "ExecuteTime": {
     "end_time": "2022-12-23T13:40:10.659824Z",
     "start_time": "2022-12-23T13:40:10.546468Z"
    },
    "vscode": {
     "languageId": "r"
    }
   },
   "outputs": [
    {
     "data": {
      "text/plain": [
       "equality    0.513777\n",
       "dtype: float64"
      ]
     },
     "execution_count": 9,
     "metadata": {},
     "output_type": "execute_result"
    }
   ],
   "source": [
    "equality_dissim_combine = pd.read_csv('output_data/models_rdm/dimensional/equality_cor_array.csv',index_col=0)\n",
    "equality_loocv = []\n",
    "for region in regions:\n",
    "    # one region\n",
    "    region_df = equality_dissim_combine[region]\n",
    "    # n-1 region: sum firstly and then average\n",
    "    regions_left = [i for i in regions if i not in [region]]\n",
    "    region_left_df = equality_dissim_combine[regions_left[0]]\n",
    "    for region_left in regions_left[1:]:\n",
    "        temp_df = equality_dissim_combine[region_left]\n",
    "        region_left_df = region_left_df + temp_df\n",
    "    region_left_df = region_left_df / (len(regions)-1)\n",
    "    r_value = spearmanr(region_df,region_left_df)[0]\n",
    "    equality_loocv.append(r_value)\n",
    "equality_loocv = pd.DataFrame(equality_loocv,index=regions,columns=['equality'])\n",
    "equality_loocv.to_csv('output_data/loocv/equality33d_loocv.csv')\n",
    "equality_loocv.mean()"
   ]
  },
  {
   "cell_type": "markdown",
   "id": "f99192b5",
   "metadata": {
    "ExecuteTime": {
     "end_time": "2022-10-18T14:03:37.142542Z",
     "start_time": "2022-10-18T14:03:37.132542Z"
    }
   },
   "source": [
    "## HPP"
   ]
  },
  {
   "cell_type": "code",
   "execution_count": 10,
   "id": "f743ba84",
   "metadata": {
    "ExecuteTime": {
     "end_time": "2022-12-23T13:40:19.505389Z",
     "start_time": "2022-12-23T13:40:19.433559Z"
    },
    "vscode": {
     "languageId": "r"
    }
   },
   "outputs": [],
   "source": [
    "hpp_dissim_combine = pd.read_csv('output_data/models_rdm/categorical/hpp_cor_array.csv',index_col=0)\n",
    "hpp_loocv = []\n",
    "for region in regions:\n",
    "    # one region\n",
    "    region_df = hpp_dissim_combine[region]\n",
    "    # n-1 region: sum firstly and then average\n",
    "    regions_left = [i for i in regions if i not in [region]]\n",
    "    region_left_df = hpp_dissim_combine[regions_left[0]]\n",
    "    for region_left in regions_left[1:]:\n",
    "        temp_df = hpp_dissim_combine[region_left]\n",
    "        region_left_df = region_left_df + temp_df\n",
    "    region_left_df = region_left_df / (len(regions)-1)\n",
    "    r_value = spearmanr(region_df,region_left_df)[0]\n",
    "    hpp_loocv.append(r_value)\n",
    "hpp_loocv = pd.DataFrame(hpp_loocv,index=regions,columns=['HPP'])\n",
    "hpp_loocv.to_csv('output_data/loocv/hpp33d_loocv.csv')"
   ]
  },
  {
   "cell_type": "markdown",
   "id": "cb5a4d9d",
   "metadata": {},
   "source": [
    "***"
   ]
  },
  {
   "cell_type": "markdown",
   "id": "ff26d1f5",
   "metadata": {},
   "source": [
    "# Plot results+Repeated measure ANOVA"
   ]
  },
  {
   "cell_type": "code",
   "execution_count": 4,
   "id": "29d60d93",
   "metadata": {
    "ExecuteTime": {
     "end_time": "2022-12-23T13:40:49.654799Z",
     "start_time": "2022-12-23T13:40:49.179Z"
    },
    "vscode": {
     "languageId": "r"
    }
   },
   "outputs": [],
   "source": [
    "library(ggplot2)\n",
    "library(ggpubr)\n",
    "library(reshape)\n",
    "library(tidyverse)\n",
    "library(DescTools) #Fisher Z\n",
    "library(rstatix)"
   ]
  },
  {
   "cell_type": "markdown",
   "id": "9f947f0f",
   "metadata": {},
   "source": [
    "## Models in main text"
   ]
  },
  {
   "cell_type": "code",
   "execution_count": 5,
   "id": "f36c925f",
   "metadata": {
    "ExecuteTime": {
     "end_time": "2022-12-23T13:40:51.546093Z",
     "start_time": "2022-12-23T13:40:51.517Z"
    },
    "vscode": {
     "languageId": "r"
    }
   },
   "outputs": [
    {
     "name": "stdout",
     "output_type": "stream",
     "text": [
      "[1] \"Full model: 0.808146015878234\"\n"
     ]
    },
    {
     "name": "stdout",
     "output_type": "stream",
     "text": [
      "[1] \"Dimension model: 0.720926384523485\"\n",
      "[1] \"Category model: 0.687000036094497\"\n"
     ]
    }
   ],
   "source": [
    "raw_data = read.csv('output_data/loocv/raw33d_loocv.csv',row.names=1)\n",
    "raw_data_mean = mean(raw_data[[1]])\n",
    "favee = read.csv('output_data/loocv/favee33d_loocv.csv',row.names=1)\n",
    "favee_mean = mean(favee[[1]])\n",
    "hpp = read.csv('output_data/loocv/hpp33d_loocv.csv',row.names=1)\n",
    "hpp_mean = mean(hpp[[1]])\n",
    "\n",
    "print(paste('Full model:',raw_data_mean))\n",
    "print(paste('Dimension model:',favee_mean))\n",
    "print(paste('Category model:',hpp_mean))"
   ]
  },
  {
   "cell_type": "code",
   "execution_count": 6,
   "id": "55452995",
   "metadata": {
    "ExecuteTime": {
     "end_time": "2022-12-23T13:40:54.625952Z",
     "start_time": "2022-12-23T13:40:54.573Z"
    },
    "vscode": {
     "languageId": "r"
    }
   },
   "outputs": [
    {
     "data": {
      "text/html": [
       "<table class=\"dataframe\">\n",
       "<caption>A data.frame: 6 × 3</caption>\n",
       "<thead>\n",
       "\t<tr><th></th><th scope=col>region</th><th scope=col>variable</th><th scope=col>value</th></tr>\n",
       "\t<tr><th></th><th scope=col>&lt;chr&gt;</th><th scope=col>&lt;fct&gt;</th><th scope=col>&lt;dbl&gt;</th></tr>\n",
       "</thead>\n",
       "<tbody>\n",
       "\t<tr><th scope=row>1</th><td>USA         </td><td>Full</td><td>0.8620497</td></tr>\n",
       "\t<tr><th scope=row>2</th><td>UK          </td><td>Full</td><td>0.8234567</td></tr>\n",
       "\t<tr><th scope=row>3</th><td>Australia   </td><td>Full</td><td>0.8939200</td></tr>\n",
       "\t<tr><th scope=row>4</th><td>South Africa</td><td>Full</td><td>0.8607299</td></tr>\n",
       "\t<tr><th scope=row>5</th><td>Germany     </td><td>Full</td><td>0.8614090</td></tr>\n",
       "\t<tr><th scope=row>6</th><td>Japan       </td><td>Full</td><td>0.8692764</td></tr>\n",
       "</tbody>\n",
       "</table>\n"
      ],
      "text/latex": [
       "A data.frame: 6 × 3\n",
       "\\begin{tabular}{r|lll}\n",
       "  & region & variable & value\\\\\n",
       "  & <chr> & <fct> & <dbl>\\\\\n",
       "\\hline\n",
       "\t1 & USA          & Full & 0.8620497\\\\\n",
       "\t2 & UK           & Full & 0.8234567\\\\\n",
       "\t3 & Australia    & Full & 0.8939200\\\\\n",
       "\t4 & South Africa & Full & 0.8607299\\\\\n",
       "\t5 & Germany      & Full & 0.8614090\\\\\n",
       "\t6 & Japan        & Full & 0.8692764\\\\\n",
       "\\end{tabular}\n"
      ],
      "text/markdown": [
       "\n",
       "A data.frame: 6 × 3\n",
       "\n",
       "| <!--/--> | region &lt;chr&gt; | variable &lt;fct&gt; | value &lt;dbl&gt; |\n",
       "|---|---|---|---|\n",
       "| 1 | USA          | Full | 0.8620497 |\n",
       "| 2 | UK           | Full | 0.8234567 |\n",
       "| 3 | Australia    | Full | 0.8939200 |\n",
       "| 4 | South Africa | Full | 0.8607299 |\n",
       "| 5 | Germany      | Full | 0.8614090 |\n",
       "| 6 | Japan        | Full | 0.8692764 |\n",
       "\n"
      ],
      "text/plain": [
       "  region       variable value    \n",
       "1 USA          Full     0.8620497\n",
       "2 UK           Full     0.8234567\n",
       "3 Australia    Full     0.8939200\n",
       "4 South Africa Full     0.8607299\n",
       "5 Germany      Full     0.8614090\n",
       "6 Japan        Full     0.8692764"
      ]
     },
     "metadata": {},
     "output_type": "display_data"
    },
    {
     "data": {
      "text/html": [
       "<table class=\"dataframe\">\n",
       "<caption>A tibble: 3 × 3</caption>\n",
       "<thead>\n",
       "\t<tr><th scope=col>variable</th><th scope=col>MEAN</th><th scope=col>STD</th></tr>\n",
       "\t<tr><th scope=col>&lt;fct&gt;</th><th scope=col>&lt;dbl&gt;</th><th scope=col>&lt;dbl&gt;</th></tr>\n",
       "</thead>\n",
       "<tbody>\n",
       "\t<tr><td>Full     </td><td>0.8081460</td><td>0.1029343</td></tr>\n",
       "\t<tr><td>Dimension</td><td>0.7209264</td><td>0.1372515</td></tr>\n",
       "\t<tr><td>Category </td><td>0.6870000</td><td>0.0793043</td></tr>\n",
       "</tbody>\n",
       "</table>\n"
      ],
      "text/latex": [
       "A tibble: 3 × 3\n",
       "\\begin{tabular}{lll}\n",
       " variable & MEAN & STD\\\\\n",
       " <fct> & <dbl> & <dbl>\\\\\n",
       "\\hline\n",
       "\t Full      & 0.8081460 & 0.1029343\\\\\n",
       "\t Dimension & 0.7209264 & 0.1372515\\\\\n",
       "\t Category  & 0.6870000 & 0.0793043\\\\\n",
       "\\end{tabular}\n"
      ],
      "text/markdown": [
       "\n",
       "A tibble: 3 × 3\n",
       "\n",
       "| variable &lt;fct&gt; | MEAN &lt;dbl&gt; | STD &lt;dbl&gt; |\n",
       "|---|---|---|\n",
       "| Full      | 0.8081460 | 0.1029343 |\n",
       "| Dimension | 0.7209264 | 0.1372515 |\n",
       "| Category  | 0.6870000 | 0.0793043 |\n",
       "\n"
      ],
      "text/plain": [
       "  variable  MEAN      STD      \n",
       "1 Full      0.8081460 0.1029343\n",
       "2 Dimension 0.7209264 0.1372515\n",
       "3 Category  0.6870000 0.0793043"
      ]
     },
     "metadata": {},
     "output_type": "display_data"
    },
    {
     "data": {
      "text/plain": [
       "Aesthetic mapping: \n",
       "* `ymax` -> `MEAN + STD`\n",
       "* `ymin` -> `MEAN - STD`"
      ]
     },
     "metadata": {},
     "output_type": "display_data"
    }
   ],
   "source": [
    "loocv_df = cbind(raw_data,favee,hpp)\n",
    "colnames(loocv_df) = c('Full','Dimension','Category')\n",
    "loocv_df$'region' = rownames(loocv_df)\n",
    "loocv_df_melt = melt(loocv_df,id.var=c('region'))\n",
    "head(loocv_df_melt)\n",
    "\n",
    "STAT = loocv_df_melt %>% group_by(variable) %>%\n",
    "    summarise(MEAN = mean(value),STD = sd(value))\n",
    "STAT$'variable' = factor(STAT$'variable',level=c('Full','Dimension','Category'))\n",
    "STAT\n",
    "# Define the top and bottom of the errorbars\n",
    "limits = aes(ymax = MEAN + STD, ymin=MEAN - STD)\n",
    "limits"
   ]
  },
  {
   "cell_type": "code",
   "execution_count": 7,
   "id": "a5c235bb",
   "metadata": {
    "ExecuteTime": {
     "end_time": "2022-12-23T13:40:58.039124Z",
     "start_time": "2022-12-23T13:40:57.757Z"
    },
    "vscode": {
     "languageId": "r"
    }
   },
   "outputs": [
    {
     "data": {
      "text/html": [
       "<table class=\"dataframe\">\n",
       "<caption>A data.frame: 3 × 3</caption>\n",
       "<thead>\n",
       "\t<tr><th></th><th scope=col>Region</th><th scope=col>Model</th><th scope=col>loocv</th></tr>\n",
       "\t<tr><th></th><th scope=col>&lt;fct&gt;</th><th scope=col>&lt;fct&gt;</th><th scope=col>&lt;dbl&gt;</th></tr>\n",
       "</thead>\n",
       "<tbody>\n",
       "\t<tr><th scope=row>1</th><td>USA      </td><td>Full</td><td>1.301270</td></tr>\n",
       "\t<tr><th scope=row>2</th><td>UK       </td><td>Full</td><td>1.167462</td></tr>\n",
       "\t<tr><th scope=row>3</th><td>Australia</td><td>Full</td><td>1.441105</td></tr>\n",
       "</tbody>\n",
       "</table>\n"
      ],
      "text/latex": [
       "A data.frame: 3 × 3\n",
       "\\begin{tabular}{r|lll}\n",
       "  & Region & Model & loocv\\\\\n",
       "  & <fct> & <fct> & <dbl>\\\\\n",
       "\\hline\n",
       "\t1 & USA       & Full & 1.301270\\\\\n",
       "\t2 & UK        & Full & 1.167462\\\\\n",
       "\t3 & Australia & Full & 1.441105\\\\\n",
       "\\end{tabular}\n"
      ],
      "text/markdown": [
       "\n",
       "A data.frame: 3 × 3\n",
       "\n",
       "| <!--/--> | Region &lt;fct&gt; | Model &lt;fct&gt; | loocv &lt;dbl&gt; |\n",
       "|---|---|---|---|\n",
       "| 1 | USA       | Full | 1.301270 |\n",
       "| 2 | UK        | Full | 1.167462 |\n",
       "| 3 | Australia | Full | 1.441105 |\n",
       "\n"
      ],
      "text/plain": [
       "  Region    Model loocv   \n",
       "1 USA       Full  1.301270\n",
       "2 UK        Full  1.167462\n",
       "3 Australia Full  1.441105"
      ]
     },
     "metadata": {},
     "output_type": "display_data"
    },
    {
     "data": {
      "text/html": [
       "<table class=\"dataframe\">\n",
       "<caption>A anova_test: 1 × 7</caption>\n",
       "<thead>\n",
       "\t<tr><th></th><th scope=col>Effect</th><th scope=col>DFn</th><th scope=col>DFd</th><th scope=col>F</th><th scope=col>p</th><th scope=col>p&lt;.05</th><th scope=col>ges</th></tr>\n",
       "\t<tr><th></th><th scope=col>&lt;chr&gt;</th><th scope=col>&lt;dbl&gt;</th><th scope=col>&lt;dbl&gt;</th><th scope=col>&lt;dbl&gt;</th><th scope=col>&lt;dbl&gt;</th><th scope=col>&lt;chr&gt;</th><th scope=col>&lt;dbl&gt;</th></tr>\n",
       "</thead>\n",
       "<tbody>\n",
       "\t<tr><th scope=row>1</th><td>Model</td><td>1.3</td><td>23.45</td><td>37.971</td><td>5.74e-07</td><td>*</td><td>0.268</td></tr>\n",
       "</tbody>\n",
       "</table>\n"
      ],
      "text/latex": [
       "A anova\\_test: 1 × 7\n",
       "\\begin{tabular}{r|lllllll}\n",
       "  & Effect & DFn & DFd & F & p & p<.05 & ges\\\\\n",
       "  & <chr> & <dbl> & <dbl> & <dbl> & <dbl> & <chr> & <dbl>\\\\\n",
       "\\hline\n",
       "\t1 & Model & 1.3 & 23.45 & 37.971 & 5.74e-07 & * & 0.268\\\\\n",
       "\\end{tabular}\n"
      ],
      "text/markdown": [
       "\n",
       "A anova_test: 1 × 7\n",
       "\n",
       "| <!--/--> | Effect &lt;chr&gt; | DFn &lt;dbl&gt; | DFd &lt;dbl&gt; | F &lt;dbl&gt; | p &lt;dbl&gt; | p&lt;.05 &lt;chr&gt; | ges &lt;dbl&gt; |\n",
       "|---|---|---|---|---|---|---|---|\n",
       "| 1 | Model | 1.3 | 23.45 | 37.971 | 5.74e-07 | * | 0.268 |\n",
       "\n"
      ],
      "text/plain": [
       "  Effect DFn DFd   F      p        p<.05 ges  \n",
       "1 Model  1.3 23.45 37.971 5.74e-07 *     0.268"
      ]
     },
     "metadata": {},
     "output_type": "display_data"
    },
    {
     "data": {
      "text/html": [
       "<table class=\"dataframe\">\n",
       "<caption>A rstatix_test: 3 × 10</caption>\n",
       "<thead>\n",
       "\t<tr><th></th><th scope=col>.y.</th><th scope=col>group1</th><th scope=col>group2</th><th scope=col>n1</th><th scope=col>n2</th><th scope=col>statistic</th><th scope=col>df</th><th scope=col>p</th><th scope=col>p.adj</th><th scope=col>p.adj.signif</th></tr>\n",
       "\t<tr><th></th><th scope=col>&lt;chr&gt;</th><th scope=col>&lt;chr&gt;</th><th scope=col>&lt;chr&gt;</th><th scope=col>&lt;int&gt;</th><th scope=col>&lt;int&gt;</th><th scope=col>&lt;dbl&gt;</th><th scope=col>&lt;dbl&gt;</th><th scope=col>&lt;dbl&gt;</th><th scope=col>&lt;dbl&gt;</th><th scope=col>&lt;chr&gt;</th></tr>\n",
       "</thead>\n",
       "<tbody>\n",
       "\t<tr><th scope=row>1</th><td>loocv</td><td>Category </td><td>Dimension</td><td>19</td><td>19</td><td> -2.234847</td><td>18</td><td>3.80e-02</td><td>1.15e-01</td><td>ns  </td></tr>\n",
       "\t<tr><th scope=row>2</th><td>loocv</td><td>Category </td><td>Full     </td><td>19</td><td>19</td><td> -7.751797</td><td>18</td><td>3.83e-07</td><td>1.15e-06</td><td>****</td></tr>\n",
       "\t<tr><th scope=row>3</th><td>loocv</td><td>Dimension</td><td>Full     </td><td>19</td><td>19</td><td>-10.807161</td><td>18</td><td>2.67e-09</td><td>8.01e-09</td><td>****</td></tr>\n",
       "</tbody>\n",
       "</table>\n"
      ],
      "text/latex": [
       "A rstatix\\_test: 3 × 10\n",
       "\\begin{tabular}{r|llllllllll}\n",
       "  & .y. & group1 & group2 & n1 & n2 & statistic & df & p & p.adj & p.adj.signif\\\\\n",
       "  & <chr> & <chr> & <chr> & <int> & <int> & <dbl> & <dbl> & <dbl> & <dbl> & <chr>\\\\\n",
       "\\hline\n",
       "\t1 & loocv & Category  & Dimension & 19 & 19 &  -2.234847 & 18 & 3.80e-02 & 1.15e-01 & ns  \\\\\n",
       "\t2 & loocv & Category  & Full      & 19 & 19 &  -7.751797 & 18 & 3.83e-07 & 1.15e-06 & ****\\\\\n",
       "\t3 & loocv & Dimension & Full      & 19 & 19 & -10.807161 & 18 & 2.67e-09 & 8.01e-09 & ****\\\\\n",
       "\\end{tabular}\n"
      ],
      "text/markdown": [
       "\n",
       "A rstatix_test: 3 × 10\n",
       "\n",
       "| <!--/--> | .y. &lt;chr&gt; | group1 &lt;chr&gt; | group2 &lt;chr&gt; | n1 &lt;int&gt; | n2 &lt;int&gt; | statistic &lt;dbl&gt; | df &lt;dbl&gt; | p &lt;dbl&gt; | p.adj &lt;dbl&gt; | p.adj.signif &lt;chr&gt; |\n",
       "|---|---|---|---|---|---|---|---|---|---|---|\n",
       "| 1 | loocv | Category  | Dimension | 19 | 19 |  -2.234847 | 18 | 3.80e-02 | 1.15e-01 | ns   |\n",
       "| 2 | loocv | Category  | Full      | 19 | 19 |  -7.751797 | 18 | 3.83e-07 | 1.15e-06 | **** |\n",
       "| 3 | loocv | Dimension | Full      | 19 | 19 | -10.807161 | 18 | 2.67e-09 | 8.01e-09 | **** |\n",
       "\n"
      ],
      "text/plain": [
       "  .y.   group1    group2    n1 n2 statistic  df p        p.adj    p.adj.signif\n",
       "1 loocv Category  Dimension 19 19  -2.234847 18 3.80e-02 1.15e-01 ns          \n",
       "2 loocv Category  Full      19 19  -7.751797 18 3.83e-07 1.15e-06 ****        \n",
       "3 loocv Dimension Full      19 19 -10.807161 18 2.67e-09 8.01e-09 ****        "
      ]
     },
     "metadata": {},
     "output_type": "display_data"
    }
   ],
   "source": [
    "loocv_df = FisherZ(loocv_df[,c('Full','Dimension','Category')])\n",
    "loocv_df <- loocv_df %>% mutate(\"Region\" = rownames(loocv_df)) %>%\n",
    "  gather(key = \"Model\", value = \"loocv\", Full, Dimension, Category) %>%\n",
    "  convert_as_factor(Region, Model)\n",
    "head(loocv_df, 3)\n",
    "\n",
    "res.aov = anova_test(\n",
    "    data = loocv_df,dv = loocv, wid = Region,\n",
    "    within = Model)\n",
    "get_anova_table(res.aov)\n",
    "\n",
    "# pairwise comparisons\n",
    "pwc <- loocv_df %>%\n",
    "  pairwise_t_test(\n",
    "    loocv ~ Model, paired = TRUE,\n",
    "    p.adjust.method = \"bonferroni\"\n",
    "    )\n",
    "pwc"
   ]
  },
  {
   "cell_type": "code",
   "execution_count": 8,
   "id": "a36f6ea0",
   "metadata": {
    "ExecuteTime": {
     "end_time": "2022-12-23T13:41:13.765767Z",
     "start_time": "2022-12-23T13:41:13.367Z"
    },
    "vscode": {
     "languageId": "r"
    }
   },
   "outputs": [
    {
     "name": "stderr",
     "output_type": "stream",
     "text": [
      "Warning message:\n",
      "\"\u001b[1m\u001b[22mThe `size` argument of `element_line()` is deprecated as of ggplot2 3.4.0.\n",
      "\u001b[36mi\u001b[39m Please use the `linewidth` argument instead.\"\n"
     ]
    },
    {
     "data": {
      "text/html": [
       "<strong>png:</strong> 2"
      ],
      "text/latex": [
       "\\textbf{png:} 2"
      ],
      "text/markdown": [
       "**png:** 2"
      ],
      "text/plain": [
       "png \n",
       "  2 "
      ]
     },
     "metadata": {},
     "output_type": "display_data"
    },
    {
     "data": {
      "image/png": "[encoded data removed]",
      "text/plain": [
       "plot without title"
      ]
     },
     "metadata": {
      "image/png": {
       "height": 600,
       "width": 600
      }
     },
     "output_type": "display_data"
    }
   ],
   "source": [
    "loocv_df_melt$region[loocv_df_melt$region=='HK(region)']='Hong Kong SAR'\n",
    "loocv_df_melt$region[loocv_df_melt$region=='CHN']='China'\n",
    "loocv_df_melt$region[loocv_df_melt$region=='UK']='United Kingdom'\n",
    "loocv_df_melt$region[loocv_df_melt$region=='USA']='United States'\n",
    "\n",
    "options(repr.plot.width=10,repr.plot.height=10)\n",
    "ggplot(loocv_df_melt,aes(x=variable,y=value))+\n",
    "geom_boxplot(color='grey',fill='black',size=3,\n",
    "             outlier.alpha = 0,width=0.6)+\n",
    "\n",
    "theme_classic()+\n",
    "theme(axis.text.x=element_blank(),\n",
    "      axis.text.y=element_text(size=60,face='bold'),\n",
    "      axis.title.x=element_blank(),\n",
    "      axis.title.y=element_blank(),\n",
    "      axis.line.x=element_line(linetype=1,color=\"black\",size=3),\n",
    "      axis.line.y=element_line(linetype=1,color=\"black\",size=3),\n",
    "      axis.ticks.length = unit(0.75,'cm'),\n",
    "      axis.ticks = element_line(size=3),\n",
    "      legend.title = element_text(size=35,face='bold'),\n",
    "      #legend.key.size = unit(50,'pt'),\n",
    "      legend.text=element_text(size=30),\n",
    "      legend.position = 'none')\n",
    "\n",
    "#####################################################\n",
    "png(\"../output_graph/LOOCV_Models.png\", bg=\"transparent\",\n",
    "    family = 'sans',units='in',width=10,height=10,res=300)\n",
    "ggplot(loocv_df_melt,aes(x=variable,y=value))+\n",
    "geom_boxplot(color='grey',fill='black',size=3,\n",
    "             outlier.alpha = 0,width=0.6)+\n",
    "\n",
    "theme_classic()+\n",
    "theme(axis.text.x=element_blank(),\n",
    "      #axis.text.y=element_text(size=30,face='bold'),\n",
    "      axis.text.y=element_blank(),\n",
    "      axis.title.x=element_blank(),\n",
    "      axis.title.y=element_blank(),\n",
    "      axis.line.x=element_line(linetype=1,color=\"black\",size=3),\n",
    "      axis.line.y=element_line(linetype=1,color=\"black\",size=3),\n",
    "      axis.ticks.length = unit(0.75,'cm'),\n",
    "      axis.ticks = element_line(size=3),\n",
    "      legend.title = element_text(size=35,face='bold'),\n",
    "      #legend.key.size = unit(50,'pt'),\n",
    "      legend.text=element_text(size=30),\n",
    "      legend.position = 'none')\n",
    "dev.off()"
   ]
  },
  {
   "cell_type": "markdown",
   "id": "82c73c22",
   "metadata": {},
   "source": [
    "## Each dimension"
   ]
  },
  {
   "cell_type": "code",
   "execution_count": 9,
   "id": "6dc0d527",
   "metadata": {
    "ExecuteTime": {
     "end_time": "2022-12-23T13:41:31.677797Z",
     "start_time": "2022-12-23T13:41:31.329Z"
    },
    "vscode": {
     "languageId": "r"
    }
   },
   "outputs": [
    {
     "data": {
      "text/html": [
       "<table class=\"dataframe\">\n",
       "<caption>A anova_test: 1 × 7</caption>\n",
       "<thead>\n",
       "\t<tr><th></th><th scope=col>Effect</th><th scope=col>DFn</th><th scope=col>DFd</th><th scope=col>F</th><th scope=col>p</th><th scope=col>p&lt;.05</th><th scope=col>ges</th></tr>\n",
       "\t<tr><th></th><th scope=col>&lt;chr&gt;</th><th scope=col>&lt;dbl&gt;</th><th scope=col>&lt;dbl&gt;</th><th scope=col>&lt;dbl&gt;</th><th scope=col>&lt;dbl&gt;</th><th scope=col>&lt;chr&gt;</th><th scope=col>&lt;dbl&gt;</th></tr>\n",
       "</thead>\n",
       "<tbody>\n",
       "\t<tr><th scope=row>1</th><td>dimension</td><td>4</td><td>72</td><td>2.053</td><td>0.096</td><td></td><td>0.039</td></tr>\n",
       "</tbody>\n",
       "</table>\n"
      ],
      "text/latex": [
       "A anova\\_test: 1 × 7\n",
       "\\begin{tabular}{r|lllllll}\n",
       "  & Effect & DFn & DFd & F & p & p<.05 & ges\\\\\n",
       "  & <chr> & <dbl> & <dbl> & <dbl> & <dbl> & <chr> & <dbl>\\\\\n",
       "\\hline\n",
       "\t1 & dimension & 4 & 72 & 2.053 & 0.096 &  & 0.039\\\\\n",
       "\\end{tabular}\n"
      ],
      "text/markdown": [
       "\n",
       "A anova_test: 1 × 7\n",
       "\n",
       "| <!--/--> | Effect &lt;chr&gt; | DFn &lt;dbl&gt; | DFd &lt;dbl&gt; | F &lt;dbl&gt; | p &lt;dbl&gt; | p&lt;.05 &lt;chr&gt; | ges &lt;dbl&gt; |\n",
       "|---|---|---|---|---|---|---|---|\n",
       "| 1 | dimension | 4 | 72 | 2.053 | 0.096 | <!----> | 0.039 |\n",
       "\n"
      ],
      "text/plain": [
       "  Effect    DFn DFd F     p     p<.05 ges  \n",
       "1 dimension 4   72  2.053 0.096       0.039"
      ]
     },
     "metadata": {},
     "output_type": "display_data"
    },
    {
     "data": {
      "text/html": [
       "<table class=\"dataframe\">\n",
       "<caption>A rstatix_test: 10 × 10</caption>\n",
       "<thead>\n",
       "\t<tr><th></th><th scope=col>.y.</th><th scope=col>group1</th><th scope=col>group2</th><th scope=col>n1</th><th scope=col>n2</th><th scope=col>statistic</th><th scope=col>df</th><th scope=col>p</th><th scope=col>p.adj</th><th scope=col>p.adj.signif</th></tr>\n",
       "\t<tr><th></th><th scope=col>&lt;chr&gt;</th><th scope=col>&lt;chr&gt;</th><th scope=col>&lt;chr&gt;</th><th scope=col>&lt;int&gt;</th><th scope=col>&lt;int&gt;</th><th scope=col>&lt;dbl&gt;</th><th scope=col>&lt;dbl&gt;</th><th scope=col>&lt;dbl&gt;</th><th scope=col>&lt;dbl&gt;</th><th scope=col>&lt;chr&gt;</th></tr>\n",
       "</thead>\n",
       "<tbody>\n",
       "\t<tr><th scope=row>1</th><td>value</td><td>formality </td><td>activeness</td><td>19</td><td>19</td><td> 3.1207322</td><td>18</td><td>0.006</td><td>0.059</td><td>ns</td></tr>\n",
       "\t<tr><th scope=row>2</th><td>value</td><td>formality </td><td>valence   </td><td>19</td><td>19</td><td> 0.9769606</td><td>18</td><td>0.342</td><td>1.000</td><td>ns</td></tr>\n",
       "\t<tr><th scope=row>3</th><td>value</td><td>formality </td><td>exchange  </td><td>19</td><td>19</td><td> 1.4722127</td><td>18</td><td>0.158</td><td>1.000</td><td>ns</td></tr>\n",
       "\t<tr><th scope=row>4</th><td>value</td><td>formality </td><td>equality  </td><td>19</td><td>19</td><td> 1.0755758</td><td>18</td><td>0.296</td><td>1.000</td><td>ns</td></tr>\n",
       "\t<tr><th scope=row>5</th><td>value</td><td>activeness</td><td>valence   </td><td>19</td><td>19</td><td>-2.4482919</td><td>18</td><td>0.025</td><td>0.248</td><td>ns</td></tr>\n",
       "\t<tr><th scope=row>6</th><td>value</td><td>activeness</td><td>exchange  </td><td>19</td><td>19</td><td>-1.1476608</td><td>18</td><td>0.266</td><td>1.000</td><td>ns</td></tr>\n",
       "\t<tr><th scope=row>7</th><td>value</td><td>activeness</td><td>equality  </td><td>19</td><td>19</td><td>-1.6330167</td><td>18</td><td>0.120</td><td>1.000</td><td>ns</td></tr>\n",
       "\t<tr><th scope=row>8</th><td>value</td><td>valence   </td><td>exchange  </td><td>19</td><td>19</td><td> 0.6941438</td><td>18</td><td>0.496</td><td>1.000</td><td>ns</td></tr>\n",
       "\t<tr><th scope=row>9</th><td>value</td><td>valence   </td><td>equality  </td><td>19</td><td>19</td><td> 0.2010250</td><td>18</td><td>0.843</td><td>1.000</td><td>ns</td></tr>\n",
       "\t<tr><th scope=row>10</th><td>value</td><td>exchange  </td><td>equality  </td><td>19</td><td>19</td><td>-0.5456744</td><td>18</td><td>0.592</td><td>1.000</td><td>ns</td></tr>\n",
       "</tbody>\n",
       "</table>\n"
      ],
      "text/latex": [
       "A rstatix\\_test: 10 × 10\n",
       "\\begin{tabular}{r|llllllllll}\n",
       "  & .y. & group1 & group2 & n1 & n2 & statistic & df & p & p.adj & p.adj.signif\\\\\n",
       "  & <chr> & <chr> & <chr> & <int> & <int> & <dbl> & <dbl> & <dbl> & <dbl> & <chr>\\\\\n",
       "\\hline\n",
       "\t1 & value & formality  & activeness & 19 & 19 &  3.1207322 & 18 & 0.006 & 0.059 & ns\\\\\n",
       "\t2 & value & formality  & valence    & 19 & 19 &  0.9769606 & 18 & 0.342 & 1.000 & ns\\\\\n",
       "\t3 & value & formality  & exchange   & 19 & 19 &  1.4722127 & 18 & 0.158 & 1.000 & ns\\\\\n",
       "\t4 & value & formality  & equality   & 19 & 19 &  1.0755758 & 18 & 0.296 & 1.000 & ns\\\\\n",
       "\t5 & value & activeness & valence    & 19 & 19 & -2.4482919 & 18 & 0.025 & 0.248 & ns\\\\\n",
       "\t6 & value & activeness & exchange   & 19 & 19 & -1.1476608 & 18 & 0.266 & 1.000 & ns\\\\\n",
       "\t7 & value & activeness & equality   & 19 & 19 & -1.6330167 & 18 & 0.120 & 1.000 & ns\\\\\n",
       "\t8 & value & valence    & exchange   & 19 & 19 &  0.6941438 & 18 & 0.496 & 1.000 & ns\\\\\n",
       "\t9 & value & valence    & equality   & 19 & 19 &  0.2010250 & 18 & 0.843 & 1.000 & ns\\\\\n",
       "\t10 & value & exchange   & equality   & 19 & 19 & -0.5456744 & 18 & 0.592 & 1.000 & ns\\\\\n",
       "\\end{tabular}\n"
      ],
      "text/markdown": [
       "\n",
       "A rstatix_test: 10 × 10\n",
       "\n",
       "| <!--/--> | .y. &lt;chr&gt; | group1 &lt;chr&gt; | group2 &lt;chr&gt; | n1 &lt;int&gt; | n2 &lt;int&gt; | statistic &lt;dbl&gt; | df &lt;dbl&gt; | p &lt;dbl&gt; | p.adj &lt;dbl&gt; | p.adj.signif &lt;chr&gt; |\n",
       "|---|---|---|---|---|---|---|---|---|---|---|\n",
       "| 1 | value | formality  | activeness | 19 | 19 |  3.1207322 | 18 | 0.006 | 0.059 | ns |\n",
       "| 2 | value | formality  | valence    | 19 | 19 |  0.9769606 | 18 | 0.342 | 1.000 | ns |\n",
       "| 3 | value | formality  | exchange   | 19 | 19 |  1.4722127 | 18 | 0.158 | 1.000 | ns |\n",
       "| 4 | value | formality  | equality   | 19 | 19 |  1.0755758 | 18 | 0.296 | 1.000 | ns |\n",
       "| 5 | value | activeness | valence    | 19 | 19 | -2.4482919 | 18 | 0.025 | 0.248 | ns |\n",
       "| 6 | value | activeness | exchange   | 19 | 19 | -1.1476608 | 18 | 0.266 | 1.000 | ns |\n",
       "| 7 | value | activeness | equality   | 19 | 19 | -1.6330167 | 18 | 0.120 | 1.000 | ns |\n",
       "| 8 | value | valence    | exchange   | 19 | 19 |  0.6941438 | 18 | 0.496 | 1.000 | ns |\n",
       "| 9 | value | valence    | equality   | 19 | 19 |  0.2010250 | 18 | 0.843 | 1.000 | ns |\n",
       "| 10 | value | exchange   | equality   | 19 | 19 | -0.5456744 | 18 | 0.592 | 1.000 | ns |\n",
       "\n"
      ],
      "text/plain": [
       "   .y.   group1     group2     n1 n2 statistic  df p     p.adj p.adj.signif\n",
       "1  value formality  activeness 19 19  3.1207322 18 0.006 0.059 ns          \n",
       "2  value formality  valence    19 19  0.9769606 18 0.342 1.000 ns          \n",
       "3  value formality  exchange   19 19  1.4722127 18 0.158 1.000 ns          \n",
       "4  value formality  equality   19 19  1.0755758 18 0.296 1.000 ns          \n",
       "5  value activeness valence    19 19 -2.4482919 18 0.025 0.248 ns          \n",
       "6  value activeness exchange   19 19 -1.1476608 18 0.266 1.000 ns          \n",
       "7  value activeness equality   19 19 -1.6330167 18 0.120 1.000 ns          \n",
       "8  value valence    exchange   19 19  0.6941438 18 0.496 1.000 ns          \n",
       "9  value valence    equality   19 19  0.2010250 18 0.843 1.000 ns          \n",
       "10 value exchange   equality   19 19 -0.5456744 18 0.592 1.000 ns          "
      ]
     },
     "metadata": {},
     "output_type": "display_data"
    }
   ],
   "source": [
    "options(warn = -1)\n",
    "formality = read.csv('output_data/loocv/formality33d_loocv.csv',row.names=1)\n",
    "activeness = read.csv('output_data/loocv/activeness33d_loocv.csv',row.names=1)\n",
    "valence = read.csv('output_data/loocv/valence33d_loocv.csv',row.names=1)\n",
    "exchange = read.csv('output_data/loocv/exchange33d_loocv.csv',row.names=1)\n",
    "equality = read.csv('output_data/loocv/equality33d_loocv.csv',row.names=1)\n",
    "\n",
    "dimensions19r = cbind(formality,activeness,valence,exchange,equality)\n",
    "dimensions19r = FisherZ(dimensions19r)\n",
    "dimensions19r_melt = dimensions19r %>% as.matrix() %>% melt()\n",
    "colnames(dimensions19r_melt) = c('region','dimension','value')\n",
    "\n",
    "res.aov = anova_test(\n",
    "    data = dimensions19r_melt,dv = value, wid = region,\n",
    "    within = dimension)\n",
    "get_anova_table(res.aov)\n",
    "\n",
    "# pairwise comparisons\n",
    "pwc <- dimensions19r_melt %>%\n",
    "  pairwise_t_test(\n",
    "    value ~ dimension, paired = TRUE,\n",
    "    p.adjust.method = \"bonferroni\"\n",
    "    )\n",
    "pwc"
   ]
  },
  {
   "cell_type": "code",
   "execution_count": 10,
   "id": "48a27eed",
   "metadata": {
    "ExecuteTime": {
     "end_time": "2022-12-23T13:41:34.630224Z",
     "start_time": "2022-12-23T13:41:34.605Z"
    },
    "vscode": {
     "languageId": "r"
    }
   },
   "outputs": [
    {
     "data": {
      "text/html": [
       "<table class=\"dataframe\">\n",
       "<caption>A data.frame: 6 × 3</caption>\n",
       "<thead>\n",
       "\t<tr><th></th><th scope=col>region</th><th scope=col>dimension</th><th scope=col>value</th></tr>\n",
       "\t<tr><th></th><th scope=col>&lt;fct&gt;</th><th scope=col>&lt;fct&gt;</th><th scope=col>&lt;dbl&gt;</th></tr>\n",
       "</thead>\n",
       "<tbody>\n",
       "\t<tr><th scope=row>1</th><td>USA         </td><td>Formality</td><td>0.7847838</td></tr>\n",
       "\t<tr><th scope=row>2</th><td>UK          </td><td>Formality</td><td>0.7732595</td></tr>\n",
       "\t<tr><th scope=row>3</th><td>Australia   </td><td>Formality</td><td>0.8299260</td></tr>\n",
       "\t<tr><th scope=row>4</th><td>South Africa</td><td>Formality</td><td>0.7408709</td></tr>\n",
       "\t<tr><th scope=row>5</th><td>Germany     </td><td>Formality</td><td>0.7959365</td></tr>\n",
       "\t<tr><th scope=row>6</th><td>Japan       </td><td>Formality</td><td>0.7552286</td></tr>\n",
       "</tbody>\n",
       "</table>\n"
      ],
      "text/latex": [
       "A data.frame: 6 × 3\n",
       "\\begin{tabular}{r|lll}\n",
       "  & region & dimension & value\\\\\n",
       "  & <fct> & <fct> & <dbl>\\\\\n",
       "\\hline\n",
       "\t1 & USA          & Formality & 0.7847838\\\\\n",
       "\t2 & UK           & Formality & 0.7732595\\\\\n",
       "\t3 & Australia    & Formality & 0.8299260\\\\\n",
       "\t4 & South Africa & Formality & 0.7408709\\\\\n",
       "\t5 & Germany      & Formality & 0.7959365\\\\\n",
       "\t6 & Japan        & Formality & 0.7552286\\\\\n",
       "\\end{tabular}\n"
      ],
      "text/markdown": [
       "\n",
       "A data.frame: 6 × 3\n",
       "\n",
       "| <!--/--> | region &lt;fct&gt; | dimension &lt;fct&gt; | value &lt;dbl&gt; |\n",
       "|---|---|---|---|\n",
       "| 1 | USA          | Formality | 0.7847838 |\n",
       "| 2 | UK           | Formality | 0.7732595 |\n",
       "| 3 | Australia    | Formality | 0.8299260 |\n",
       "| 4 | South Africa | Formality | 0.7408709 |\n",
       "| 5 | Germany      | Formality | 0.7959365 |\n",
       "| 6 | Japan        | Formality | 0.7552286 |\n",
       "\n"
      ],
      "text/plain": [
       "  region       dimension value    \n",
       "1 USA          Formality 0.7847838\n",
       "2 UK           Formality 0.7732595\n",
       "3 Australia    Formality 0.8299260\n",
       "4 South Africa Formality 0.7408709\n",
       "5 Germany      Formality 0.7959365\n",
       "6 Japan        Formality 0.7552286"
      ]
     },
     "metadata": {},
     "output_type": "display_data"
    }
   ],
   "source": [
    "dimensions19r = cbind(formality,activeness,valence,exchange,equality)\n",
    "colnames(dimensions19r) = c('Formality','Activeness','Valence','Exchange','Equality')\n",
    "dimensions19r_melt = dimensions19r %>% as.matrix() %>% melt() \n",
    "colnames(dimensions19r_melt) = c('region','dimension','value')\n",
    "head(dimensions19r_melt,6)"
   ]
  },
  {
   "cell_type": "code",
   "execution_count": 11,
   "id": "d58e930d",
   "metadata": {
    "ExecuteTime": {
     "end_time": "2022-12-23T13:41:41.224643Z",
     "start_time": "2022-12-23T13:41:40.656Z"
    },
    "vscode": {
     "languageId": "r"
    }
   },
   "outputs": [
    {
     "data": {
      "text/html": [
       "<strong>png:</strong> 2"
      ],
      "text/latex": [
       "\\textbf{png:} 2"
      ],
      "text/markdown": [
       "**png:** 2"
      ],
      "text/plain": [
       "png \n",
       "  2 "
      ]
     },
     "metadata": {},
     "output_type": "display_data"
    },
    {
     "data": {
      "image/png": "[encoded data removed]",
      "text/plain": [
       "plot without title"
      ]
     },
     "metadata": {
      "image/png": {
       "height": 600,
       "width": 720
      }
     },
     "output_type": "display_data"
    }
   ],
   "source": [
    "options(repr.plot.width=12, repr.plot.height=10)\n",
    "ggviolin(dimensions19r_melt, x=\"dimension\", y=\"value\", fill = \"dimension\",\n",
    "         size = 1.2,\n",
    " #palette = c(\"#00AFBB\", \"#E7B800\", \"#FC4E07\"), \n",
    "         add = c(\"boxplot\"),\n",
    "         add.params = list(fill = \"white\",size = 1.2))+\n",
    "\n",
    "scale_fill_manual(values=c('Formality'='#009E73','Activeness'='#CC79A7',\n",
    "                           'Valence'='#D55E00','Exchange'='#F0E442','Equality'='#56B4E9'))+\n",
    "scale_y_continuous(breaks = seq(0,2.5,by=0.5))+\n",
    "\n",
    "theme_classic()+\n",
    "theme(#axis.text.x=element_text(size=30,face='bold'),\n",
    "      axis.text.x=element_blank(),\n",
    "      axis.text.y=element_text(size=30,face='bold'),\n",
    "      axis.title.x=element_blank(),\n",
    "      axis.title.y=element_blank(),\n",
    "      axis.line.x=element_line(linetype=1,color=\"black\",size=3),\n",
    "      axis.line.y=element_line(linetype=1,color=\"black\",size=3),\n",
    "      legend.title = element_text(size=35,face='bold'),\n",
    "      legend.position = 'none')\n",
    "\n",
    "##############################\n",
    "png(\"../output_graph/LOOCV_EachDimension.png\", bg=\"transparent\",\n",
    "    family = 'sans',units='in',width=10,height=10,res=300)\n",
    "ggviolin(dimensions19r_melt, x=\"dimension\", y=\"value\", fill = \"dimension\",\n",
    "         size = 1.2,\n",
    " #palette = c(\"#00AFBB\", \"#E7B800\", \"#FC4E07\"), \n",
    "         add = c(\"boxplot\"),\n",
    "         add.params = list(fill = \"white\",size = 1.2))+\n",
    "\n",
    "scale_fill_manual(values=c('Formality'='#009E73','Activeness'='#CC79A7',\n",
    "                           'Valence'='#D55E00','Exchange'='#F0E442','Equality'='#56B4E9'))+\n",
    "scale_y_continuous(breaks = seq(0,2.5,by=0.5))+\n",
    "\n",
    "theme_classic()+\n",
    "theme(#axis.text.x=element_text(size=30,face='bold'),\n",
    "      #axis.text.y=element_text(size=30,face='bold'),\n",
    "      axis.text=element_blank(),\n",
    "      axis.title.x=element_blank(),\n",
    "      axis.title.y=element_blank(),\n",
    "      axis.line.x=element_line(linetype=1,color=\"black\",size=3),\n",
    "      axis.line.y=element_line(linetype=1,color=\"black\",size=3),\n",
    "      legend.title = element_text(size=35,face='bold'),\n",
    "      legend.position = 'none')\n",
    "dev.off()"
   ]
  },
  {
   "cell_type": "markdown",
   "metadata": {},
   "source": [
    "# 159 relationships in 33D"
   ]
  },
  {
   "cell_type": "code",
   "execution_count": 12,
   "metadata": {
    "vscode": {
     "languageId": "r"
    }
   },
   "outputs": [],
   "source": [
    "# Organize relationship score\n",
    "regions = c(\n",
    "    # English\n",
    "    'USA','UK','Australia','South Africa',\n",
    "    # Germany\n",
    "    'Germany',\n",
    "    # Japanese\n",
    "    'Japan',\n",
    "    # Hebrew\n",
    "    'Israel',\n",
    "    # Chinese\n",
    "    'CHN','HK(region)',\n",
    "\n",
    "    # French\n",
    "    'France',\n",
    "    # Spanish\n",
    "    'Spain','Mexico','Chile',\n",
    "    # Portuguese\n",
    "    'Portugal','Brazil',\n",
    "    # Russian\n",
    "    'Russia',\n",
    "    # Arabic\n",
    "    'Egypt','Qatar',\n",
    "    'India')"
   ]
  },
  {
   "cell_type": "code",
   "execution_count": 14,
   "metadata": {
    "vscode": {
     "languageId": "r"
    }
   },
   "outputs": [],
   "source": [
    "file_path = '../DataClean_FAVEE_HPP/output_data/cleaning_results/'\n",
    "\n",
    "raw_data_list = list()\n",
    "for (region in dir(file_path)[-which(dir(file_path)=='ReadMe.txt')]){\n",
    "    file = paste(file_path,region,sep='')\n",
    "    file = paste(paste(file,'/',sep=''),region,sep='')\n",
    "    file = paste(file,'_dim_rel_scaled.csv',sep='')\n",
    "    raw_df = read.csv(file,row.names=1)\n",
    "    \n",
    "    region = gsub('HK','HK(region)',region) \n",
    "    region = gsub('South_africa','South Africa',region)\n",
    "    \n",
    "    # The dimension should be reversed due to the questionnair set\n",
    "    if (region %in% c('Chile','Mexico','Spain')){\n",
    "        raw_df['Goods.Exchange'] = -raw_df['Goods.Exchange']}\n",
    "    if (region %in% c('Israel')){\n",
    "        raw_df['Socioemotional'] = -raw_df['Socioemotional']\n",
    "        raw_df['Synchronicity'] = -raw_df['Synchronicity']}\n",
    "    if (region %in% c('Brazil','Portugal','Russia')){\n",
    "        raw_df['Morality'] = -raw_df['Morality']}\n",
    "    if (region %in% c('France')){\n",
    "        raw_df['Formality.and.Regulation'] = -raw_df['Formality.and.Regulation']\n",
    "        raw_df['Expected.Reciprocity'] = -raw_df['Expected.Reciprocity']\n",
    "        raw_df['Information.Exchange'] = -raw_df['Information.Exchange']\n",
    "        raw_df['Money.Exchange'] = -raw_df['Money.Exchange']\n",
    "        raw_df['Mating'] = -raw_df['Mating']\n",
    "        raw_df['Importance.for.society'] = -raw_df['Importance.for.society']\n",
    "        raw_df['Importance.for.individuals'] = -raw_df['Importance.for.individuals']\n",
    "        raw_df['Occupational'] = -raw_df['Occupational']}\n",
    "\n",
    "    raw_data_list[[region]] = raw_df}"
   ]
  },
  {
   "cell_type": "code",
   "execution_count": 15,
   "metadata": {
    "vscode": {
     "languageId": "r"
    }
   },
   "outputs": [],
   "source": [
    "relationships = read.csv('../DataClean_FAVEE_HPP/input_data/RelDim_labels/159relationships_fix_label.csv',\n",
    "                        row.names=1)\n",
    "relationships = relationships$'X0'"
   ]
  },
  {
   "cell_type": "code",
   "execution_count": 16,
   "metadata": {
    "vscode": {
     "languageId": "r"
    }
   },
   "outputs": [
    {
     "data": {
      "text/html": [
       "<table class=\"dataframe\">\n",
       "<caption>A data.frame: 19 × 159</caption>\n",
       "<thead>\n",
       "\t<tr><th></th><th scope=col>Between brothers-in-arms</th><th scope=col>Guest and Host</th><th scope=col>Between alumni</th><th scope=col>Victim and Witness</th><th scope=col>Between church members</th><th scope=col>Between religious followers</th><th scope=col>Predecessor and Successor</th><th scope=col>Student and Dorm Resident assistant</th><th scope=col>Patient and Caretaker</th><th scope=col>Director and Performer</th><th scope=col>...</th><th scope=col>Uncle and Niece/Nephew</th><th scope=col>Wife and Husband</th><th scope=col>Between business rivals</th><th scope=col>Fiance and Fiancee</th><th scope=col>Parent and Child</th><th scope=col>Prostitute and Customer</th><th scope=col>Mother and Infant</th><th scope=col>Parent and Infant</th><th scope=col>Between twins</th><th scope=col>Grandparent and Grandchild</th></tr>\n",
       "\t<tr><th></th><th scope=col>&lt;dbl&gt;</th><th scope=col>&lt;dbl&gt;</th><th scope=col>&lt;dbl&gt;</th><th scope=col>&lt;dbl&gt;</th><th scope=col>&lt;dbl&gt;</th><th scope=col>&lt;dbl&gt;</th><th scope=col>&lt;dbl&gt;</th><th scope=col>&lt;dbl&gt;</th><th scope=col>&lt;dbl&gt;</th><th scope=col>&lt;dbl&gt;</th><th scope=col>...</th><th scope=col>&lt;dbl&gt;</th><th scope=col>&lt;dbl&gt;</th><th scope=col>&lt;dbl&gt;</th><th scope=col>&lt;dbl&gt;</th><th scope=col>&lt;dbl&gt;</th><th scope=col>&lt;dbl&gt;</th><th scope=col>&lt;dbl&gt;</th><th scope=col>&lt;dbl&gt;</th><th scope=col>&lt;dbl&gt;</th><th scope=col>&lt;dbl&gt;</th></tr>\n",
       "</thead>\n",
       "<tbody>\n",
       "\t<tr><th scope=row>USA</th><td> 0.6250000</td><td> 0.63970588</td><td>0.77740642</td><td>0.7683824</td><td> 0.69819519</td><td>0.5631684</td><td>0.73863636</td><td> 0.35895722</td><td>0.7349599</td><td>0.78008021</td><td>...</td><td>0.9014037</td><td>0.8676471</td><td>0.8663102</td><td>0.8201872</td><td>0.8191845</td><td>0.9024064</td><td>0.8151738</td><td>0.8913770</td><td>0.7917781</td><td>0.9151070</td></tr>\n",
       "\t<tr><th scope=row>UK</th><td> 0.6052807</td><td> 0.44117647</td><td>0.43883690</td><td>0.5083556</td><td> 0.77707219</td><td>0.7042112</td><td>0.65708556</td><td> 0.27606952</td><td>0.4535428</td><td>0.60528075</td><td>...</td><td>0.9351604</td><td>0.6667781</td><td>0.7864305</td><td>0.6858289</td><td>0.6737968</td><td>0.8629679</td><td>0.8292112</td><td>0.8566176</td><td>0.7967914</td><td>0.8666444</td></tr>\n",
       "\t<tr><th scope=row>Australia</th><td> 0.6995321</td><td> 0.71457219</td><td>0.86697861</td><td>0.6928476</td><td> 0.81250000</td><td>0.7426471</td><td>0.32586898</td><td> 0.56216578</td><td>0.7774064</td><td>0.62800802</td><td>...</td><td>0.9161096</td><td>0.8258690</td><td>0.8843583</td><td>0.9047460</td><td>0.8850267</td><td>0.8626337</td><td>0.9117647</td><td>0.8272059</td><td>0.9364973</td><td>0.8653075</td></tr>\n",
       "\t<tr><th scope=row>South.Africa</th><td> 0.3836898</td><td> 0.38669786</td><td>0.81149733</td><td>0.7299465</td><td> 0.68148396</td><td>0.7473262</td><td>0.42045455</td><td> 0.53375668</td><td>0.5093583</td><td>0.66677807</td><td>...</td><td>0.9087567</td><td>0.8716578</td><td>0.8475936</td><td>0.8425802</td><td>0.8760027</td><td>0.9177807</td><td>0.9054144</td><td>0.7891043</td><td>0.9605615</td><td>0.8516043</td></tr>\n",
       "\t<tr><th scope=row>Germany</th><td>-0.0598262</td><td> 0.87901070</td><td>0.56818182</td><td>0.4592246</td><td> 0.69217914</td><td>0.5865642</td><td>0.76570856</td><td> 0.80614973</td><td>0.7987968</td><td>0.67847594</td><td>...</td><td>0.8506016</td><td>0.8810160</td><td>0.8449198</td><td>0.8953877</td><td>0.8519385</td><td>0.9097594</td><td>0.8977273</td><td>0.8248663</td><td>0.9341578</td><td>0.9077540</td></tr>\n",
       "\t<tr><th scope=row>Japan</th><td> 0.5213904</td><td> 0.54344920</td><td>0.07586898</td><td>0.5334225</td><td> 0.67179144</td><td>0.6390374</td><td>0.76537433</td><td> 0.71590909</td><td>0.6366979</td><td>0.43649733</td><td>...</td><td>0.8633021</td><td>0.9512032</td><td>0.8820187</td><td>0.9131016</td><td>0.9027406</td><td>0.9395053</td><td>0.8910428</td><td>0.8482620</td><td>0.9034091</td><td>0.8833556</td></tr>\n",
       "\t<tr><th scope=row>Israel</th><td> 0.4923128</td><td> 0.65340909</td><td>0.81818182</td><td>0.7289439</td><td> 0.62800802</td><td>0.6791444</td><td>0.57419786</td><td> 0.68415775</td><td>0.7496658</td><td>0.53475936</td><td>...</td><td>0.9324866</td><td>0.8679813</td><td>0.9187834</td><td>0.8887032</td><td>0.8656417</td><td>0.8816845</td><td>0.8816845</td><td>0.8800134</td><td>0.9545455</td><td>0.8669786</td></tr>\n",
       "\t<tr><th scope=row>CHN</th><td> 0.6510695</td><td> 0.62199198</td><td>0.22560160</td><td>0.5648396</td><td> 0.40608289</td><td>0.6393717</td><td>0.72593583</td><td> 0.63602941</td><td>0.2613636</td><td>0.73930481</td><td>...</td><td>0.8064840</td><td>0.8365642</td><td>0.8556150</td><td>0.8729947</td><td>0.9097594</td><td>0.8887032</td><td>0.8823529</td><td>0.9134358</td><td>0.9047460</td><td>0.9020722</td></tr>\n",
       "\t<tr><th scope=row>HK.region.</th><td> 0.5795455</td><td> 0.53776738</td><td>0.40407754</td><td>0.6624332</td><td> 0.22894385</td><td>0.6326872</td><td>0.77339572</td><td> 0.38903743</td><td>0.3920455</td><td>0.34324866</td><td>...</td><td>0.7225936</td><td>0.8034759</td><td>0.7817513</td><td>0.8669786</td><td>0.8653075</td><td>0.9117647</td><td>0.8231952</td><td>0.7406417</td><td>0.8997326</td><td>0.8048128</td></tr>\n",
       "\t<tr><th scope=row>France</th><td> 0.4481952</td><td> 0.64070856</td><td>0.45086898</td><td>0.5300802</td><td> 0.27707219</td><td>0.7012032</td><td>0.58221925</td><td> 0.51537433</td><td>0.5748663</td><td>0.49832888</td><td>...</td><td>0.7533422</td><td>0.6547460</td><td>0.7510027</td><td>0.6911765</td><td>0.7663770</td><td>0.7132353</td><td>0.7767380</td><td>0.6838235</td><td>0.8248663</td><td>0.7817513</td></tr>\n",
       "\t<tr><th scope=row>Spain</th><td> 0.2523396</td><td> 0.42613636</td><td>0.34725936</td><td>0.1848262</td><td> 0.78509358</td><td>0.5879011</td><td>0.84692513</td><td> 0.59893048</td><td>0.6600936</td><td>0.65374332</td><td>...</td><td>0.8753342</td><td>0.8743316</td><td>0.8987299</td><td>0.9134358</td><td>0.8559492</td><td>0.8649733</td><td>0.8054813</td><td>0.8205214</td><td>0.9147727</td><td>0.8375668</td></tr>\n",
       "\t<tr><th scope=row>Mexico</th><td>-0.1891711</td><td> 0.22794118</td><td>0.41109626</td><td>0.3783422</td><td> 0.65875668</td><td>0.4695856</td><td>0.83756684</td><td> 0.66945187</td><td>0.6828209</td><td>0.57687166</td><td>...</td><td>0.8957219</td><td>0.8582888</td><td>0.8863636</td><td>0.9060829</td><td>0.8506016</td><td>0.8422460</td><td>0.8462567</td><td>0.9104278</td><td>0.9034091</td><td>0.9331551</td></tr>\n",
       "\t<tr><th scope=row>Chile</th><td> 0.3877005</td><td> 0.35127005</td><td>0.58890374</td><td>0.6550802</td><td> 0.69919786</td><td>0.6724599</td><td>0.87733957</td><td> 0.73596257</td><td>0.7543449</td><td>0.68950535</td><td>...</td><td>0.8128342</td><td>0.9244652</td><td>0.8973930</td><td>0.9161096</td><td>0.8903743</td><td>0.9181150</td><td>0.9087567</td><td>0.9288102</td><td>0.9177807</td><td>0.9405080</td></tr>\n",
       "\t<tr><th scope=row>Portugal</th><td> 0.6460561</td><td> 0.59191176</td><td>0.75768717</td><td>0.5120321</td><td> 0.61363636</td><td>0.5137032</td><td>0.42145722</td><td> 0.65641711</td><td>0.5457888</td><td>0.65808824</td><td>...</td><td>0.9234626</td><td>0.7159091</td><td>0.8522727</td><td>0.7596925</td><td>0.7810829</td><td>0.9097594</td><td>0.8165107</td><td>0.9047460</td><td>0.8863636</td><td>0.9354947</td></tr>\n",
       "\t<tr><th scope=row>Brazil</th><td> 0.3783422</td><td> 0.59792781</td><td>0.50200535</td><td>0.5033422</td><td> 0.49565508</td><td>0.1316845</td><td>0.52439840</td><td> 0.45153743</td><td>0.1420455</td><td>0.58723262</td><td>...</td><td>0.8191845</td><td>0.8937166</td><td>0.7797460</td><td>0.8913770</td><td>0.8288770</td><td>0.7486631</td><td>0.8823529</td><td>0.9191176</td><td>0.8412433</td><td>0.9411765</td></tr>\n",
       "\t<tr><th scope=row>Russia</th><td> 0.4562166</td><td> 0.31684492</td><td>0.24164439</td><td>0.5220588</td><td>-0.02473262</td><td>0.1844920</td><td>0.02907754</td><td> 0.60762032</td><td>0.1751337</td><td>0.33121658</td><td>...</td><td>0.6534091</td><td>0.8816845</td><td>0.8562834</td><td>0.7794118</td><td>0.8609626</td><td>0.6647727</td><td>0.8018048</td><td>0.7844251</td><td>0.6975267</td><td>0.8114973</td></tr>\n",
       "\t<tr><th scope=row>Egypt</th><td>-0.1607620</td><td> 0.25300802</td><td>0.25033422</td><td>0.4535428</td><td> 0.59291444</td><td>0.1784759</td><td>0.21490642</td><td> 0.67413102</td><td>0.5401070</td><td>0.64004011</td><td>...</td><td>0.8439171</td><td>0.7787433</td><td>0.6901738</td><td>0.7386364</td><td>0.6788102</td><td>0.7727273</td><td>0.9284759</td><td>0.8552807</td><td>0.7540107</td><td>0.8298797</td></tr>\n",
       "\t<tr><th scope=row>Qatar</th><td> 0.1166444</td><td> 0.27239305</td><td>0.53910428</td><td>0.4017380</td><td> 0.03141711</td><td>0.4625668</td><td>0.02941176</td><td> 0.41911765</td><td>0.3125000</td><td>0.21022727</td><td>...</td><td>0.7633690</td><td>0.9007353</td><td>0.7850936</td><td>0.7446524</td><td>0.8622995</td><td>0.8368984</td><td>0.8355615</td><td>0.8649733</td><td>0.6203209</td><td>0.9100936</td></tr>\n",
       "\t<tr><th scope=row>India</th><td> 0.3058155</td><td>-0.01504011</td><td>0.42413102</td><td>0.1490642</td><td> 0.23897059</td><td>0.2115642</td><td>0.01604278</td><td>-0.08054813</td><td>0.6169786</td><td>0.07653743</td><td>...</td><td>0.4164439</td><td>0.5979278</td><td>0.6423797</td><td>0.7118984</td><td>0.7730615</td><td>0.6397059</td><td>0.5548128</td><td>0.7824198</td><td>0.7159091</td><td>0.7767380</td></tr>\n",
       "</tbody>\n",
       "</table>\n"
      ],
      "text/latex": [
       "A data.frame: 19 × 159\n",
       "\\begin{tabular}{r|lllllllllllllllllllll}\n",
       "  & Between brothers-in-arms & Guest and Host & Between alumni & Victim and Witness & Between church members & Between religious followers & Predecessor and Successor & Student and Dorm Resident assistant & Patient and Caretaker & Director and Performer & ... & Uncle and Niece/Nephew & Wife and Husband & Between business rivals & Fiance and Fiancee & Parent and Child & Prostitute and Customer & Mother and Infant & Parent and Infant & Between twins & Grandparent and Grandchild\\\\\n",
       "  & <dbl> & <dbl> & <dbl> & <dbl> & <dbl> & <dbl> & <dbl> & <dbl> & <dbl> & <dbl> & ... & <dbl> & <dbl> & <dbl> & <dbl> & <dbl> & <dbl> & <dbl> & <dbl> & <dbl> & <dbl>\\\\\n",
       "\\hline\n",
       "\tUSA &  0.6250000 &  0.63970588 & 0.77740642 & 0.7683824 &  0.69819519 & 0.5631684 & 0.73863636 &  0.35895722 & 0.7349599 & 0.78008021 & ... & 0.9014037 & 0.8676471 & 0.8663102 & 0.8201872 & 0.8191845 & 0.9024064 & 0.8151738 & 0.8913770 & 0.7917781 & 0.9151070\\\\\n",
       "\tUK &  0.6052807 &  0.44117647 & 0.43883690 & 0.5083556 &  0.77707219 & 0.7042112 & 0.65708556 &  0.27606952 & 0.4535428 & 0.60528075 & ... & 0.9351604 & 0.6667781 & 0.7864305 & 0.6858289 & 0.6737968 & 0.8629679 & 0.8292112 & 0.8566176 & 0.7967914 & 0.8666444\\\\\n",
       "\tAustralia &  0.6995321 &  0.71457219 & 0.86697861 & 0.6928476 &  0.81250000 & 0.7426471 & 0.32586898 &  0.56216578 & 0.7774064 & 0.62800802 & ... & 0.9161096 & 0.8258690 & 0.8843583 & 0.9047460 & 0.8850267 & 0.8626337 & 0.9117647 & 0.8272059 & 0.9364973 & 0.8653075\\\\\n",
       "\tSouth.Africa &  0.3836898 &  0.38669786 & 0.81149733 & 0.7299465 &  0.68148396 & 0.7473262 & 0.42045455 &  0.53375668 & 0.5093583 & 0.66677807 & ... & 0.9087567 & 0.8716578 & 0.8475936 & 0.8425802 & 0.8760027 & 0.9177807 & 0.9054144 & 0.7891043 & 0.9605615 & 0.8516043\\\\\n",
       "\tGermany & -0.0598262 &  0.87901070 & 0.56818182 & 0.4592246 &  0.69217914 & 0.5865642 & 0.76570856 &  0.80614973 & 0.7987968 & 0.67847594 & ... & 0.8506016 & 0.8810160 & 0.8449198 & 0.8953877 & 0.8519385 & 0.9097594 & 0.8977273 & 0.8248663 & 0.9341578 & 0.9077540\\\\\n",
       "\tJapan &  0.5213904 &  0.54344920 & 0.07586898 & 0.5334225 &  0.67179144 & 0.6390374 & 0.76537433 &  0.71590909 & 0.6366979 & 0.43649733 & ... & 0.8633021 & 0.9512032 & 0.8820187 & 0.9131016 & 0.9027406 & 0.9395053 & 0.8910428 & 0.8482620 & 0.9034091 & 0.8833556\\\\\n",
       "\tIsrael &  0.4923128 &  0.65340909 & 0.81818182 & 0.7289439 &  0.62800802 & 0.6791444 & 0.57419786 &  0.68415775 & 0.7496658 & 0.53475936 & ... & 0.9324866 & 0.8679813 & 0.9187834 & 0.8887032 & 0.8656417 & 0.8816845 & 0.8816845 & 0.8800134 & 0.9545455 & 0.8669786\\\\\n",
       "\tCHN &  0.6510695 &  0.62199198 & 0.22560160 & 0.5648396 &  0.40608289 & 0.6393717 & 0.72593583 &  0.63602941 & 0.2613636 & 0.73930481 & ... & 0.8064840 & 0.8365642 & 0.8556150 & 0.8729947 & 0.9097594 & 0.8887032 & 0.8823529 & 0.9134358 & 0.9047460 & 0.9020722\\\\\n",
       "\tHK.region. &  0.5795455 &  0.53776738 & 0.40407754 & 0.6624332 &  0.22894385 & 0.6326872 & 0.77339572 &  0.38903743 & 0.3920455 & 0.34324866 & ... & 0.7225936 & 0.8034759 & 0.7817513 & 0.8669786 & 0.8653075 & 0.9117647 & 0.8231952 & 0.7406417 & 0.8997326 & 0.8048128\\\\\n",
       "\tFrance &  0.4481952 &  0.64070856 & 0.45086898 & 0.5300802 &  0.27707219 & 0.7012032 & 0.58221925 &  0.51537433 & 0.5748663 & 0.49832888 & ... & 0.7533422 & 0.6547460 & 0.7510027 & 0.6911765 & 0.7663770 & 0.7132353 & 0.7767380 & 0.6838235 & 0.8248663 & 0.7817513\\\\\n",
       "\tSpain &  0.2523396 &  0.42613636 & 0.34725936 & 0.1848262 &  0.78509358 & 0.5879011 & 0.84692513 &  0.59893048 & 0.6600936 & 0.65374332 & ... & 0.8753342 & 0.8743316 & 0.8987299 & 0.9134358 & 0.8559492 & 0.8649733 & 0.8054813 & 0.8205214 & 0.9147727 & 0.8375668\\\\\n",
       "\tMexico & -0.1891711 &  0.22794118 & 0.41109626 & 0.3783422 &  0.65875668 & 0.4695856 & 0.83756684 &  0.66945187 & 0.6828209 & 0.57687166 & ... & 0.8957219 & 0.8582888 & 0.8863636 & 0.9060829 & 0.8506016 & 0.8422460 & 0.8462567 & 0.9104278 & 0.9034091 & 0.9331551\\\\\n",
       "\tChile &  0.3877005 &  0.35127005 & 0.58890374 & 0.6550802 &  0.69919786 & 0.6724599 & 0.87733957 &  0.73596257 & 0.7543449 & 0.68950535 & ... & 0.8128342 & 0.9244652 & 0.8973930 & 0.9161096 & 0.8903743 & 0.9181150 & 0.9087567 & 0.9288102 & 0.9177807 & 0.9405080\\\\\n",
       "\tPortugal &  0.6460561 &  0.59191176 & 0.75768717 & 0.5120321 &  0.61363636 & 0.5137032 & 0.42145722 &  0.65641711 & 0.5457888 & 0.65808824 & ... & 0.9234626 & 0.7159091 & 0.8522727 & 0.7596925 & 0.7810829 & 0.9097594 & 0.8165107 & 0.9047460 & 0.8863636 & 0.9354947\\\\\n",
       "\tBrazil &  0.3783422 &  0.59792781 & 0.50200535 & 0.5033422 &  0.49565508 & 0.1316845 & 0.52439840 &  0.45153743 & 0.1420455 & 0.58723262 & ... & 0.8191845 & 0.8937166 & 0.7797460 & 0.8913770 & 0.8288770 & 0.7486631 & 0.8823529 & 0.9191176 & 0.8412433 & 0.9411765\\\\\n",
       "\tRussia &  0.4562166 &  0.31684492 & 0.24164439 & 0.5220588 & -0.02473262 & 0.1844920 & 0.02907754 &  0.60762032 & 0.1751337 & 0.33121658 & ... & 0.6534091 & 0.8816845 & 0.8562834 & 0.7794118 & 0.8609626 & 0.6647727 & 0.8018048 & 0.7844251 & 0.6975267 & 0.8114973\\\\\n",
       "\tEgypt & -0.1607620 &  0.25300802 & 0.25033422 & 0.4535428 &  0.59291444 & 0.1784759 & 0.21490642 &  0.67413102 & 0.5401070 & 0.64004011 & ... & 0.8439171 & 0.7787433 & 0.6901738 & 0.7386364 & 0.6788102 & 0.7727273 & 0.9284759 & 0.8552807 & 0.7540107 & 0.8298797\\\\\n",
       "\tQatar &  0.1166444 &  0.27239305 & 0.53910428 & 0.4017380 &  0.03141711 & 0.4625668 & 0.02941176 &  0.41911765 & 0.3125000 & 0.21022727 & ... & 0.7633690 & 0.9007353 & 0.7850936 & 0.7446524 & 0.8622995 & 0.8368984 & 0.8355615 & 0.8649733 & 0.6203209 & 0.9100936\\\\\n",
       "\tIndia &  0.3058155 & -0.01504011 & 0.42413102 & 0.1490642 &  0.23897059 & 0.2115642 & 0.01604278 & -0.08054813 & 0.6169786 & 0.07653743 & ... & 0.4164439 & 0.5979278 & 0.6423797 & 0.7118984 & 0.7730615 & 0.6397059 & 0.5548128 & 0.7824198 & 0.7159091 & 0.7767380\\\\\n",
       "\\end{tabular}\n"
      ],
      "text/markdown": [
       "\n",
       "A data.frame: 19 × 159\n",
       "\n",
       "| <!--/--> | Between brothers-in-arms &lt;dbl&gt; | Guest and Host &lt;dbl&gt; | Between alumni &lt;dbl&gt; | Victim and Witness &lt;dbl&gt; | Between church members &lt;dbl&gt; | Between religious followers &lt;dbl&gt; | Predecessor and Successor &lt;dbl&gt; | Student and Dorm Resident assistant &lt;dbl&gt; | Patient and Caretaker &lt;dbl&gt; | Director and Performer &lt;dbl&gt; | ... ... | Uncle and Niece/Nephew &lt;dbl&gt; | Wife and Husband &lt;dbl&gt; | Between business rivals &lt;dbl&gt; | Fiance and Fiancee &lt;dbl&gt; | Parent and Child &lt;dbl&gt; | Prostitute and Customer &lt;dbl&gt; | Mother and Infant &lt;dbl&gt; | Parent and Infant &lt;dbl&gt; | Between twins &lt;dbl&gt; | Grandparent and Grandchild &lt;dbl&gt; |\n",
       "|---|---|---|---|---|---|---|---|---|---|---|---|---|---|---|---|---|---|---|---|---|---|\n",
       "| USA |  0.6250000 |  0.63970588 | 0.77740642 | 0.7683824 |  0.69819519 | 0.5631684 | 0.73863636 |  0.35895722 | 0.7349599 | 0.78008021 | ... | 0.9014037 | 0.8676471 | 0.8663102 | 0.8201872 | 0.8191845 | 0.9024064 | 0.8151738 | 0.8913770 | 0.7917781 | 0.9151070 |\n",
       "| UK |  0.6052807 |  0.44117647 | 0.43883690 | 0.5083556 |  0.77707219 | 0.7042112 | 0.65708556 |  0.27606952 | 0.4535428 | 0.60528075 | ... | 0.9351604 | 0.6667781 | 0.7864305 | 0.6858289 | 0.6737968 | 0.8629679 | 0.8292112 | 0.8566176 | 0.7967914 | 0.8666444 |\n",
       "| Australia |  0.6995321 |  0.71457219 | 0.86697861 | 0.6928476 |  0.81250000 | 0.7426471 | 0.32586898 |  0.56216578 | 0.7774064 | 0.62800802 | ... | 0.9161096 | 0.8258690 | 0.8843583 | 0.9047460 | 0.8850267 | 0.8626337 | 0.9117647 | 0.8272059 | 0.9364973 | 0.8653075 |\n",
       "| South.Africa |  0.3836898 |  0.38669786 | 0.81149733 | 0.7299465 |  0.68148396 | 0.7473262 | 0.42045455 |  0.53375668 | 0.5093583 | 0.66677807 | ... | 0.9087567 | 0.8716578 | 0.8475936 | 0.8425802 | 0.8760027 | 0.9177807 | 0.9054144 | 0.7891043 | 0.9605615 | 0.8516043 |\n",
       "| Germany | -0.0598262 |  0.87901070 | 0.56818182 | 0.4592246 |  0.69217914 | 0.5865642 | 0.76570856 |  0.80614973 | 0.7987968 | 0.67847594 | ... | 0.8506016 | 0.8810160 | 0.8449198 | 0.8953877 | 0.8519385 | 0.9097594 | 0.8977273 | 0.8248663 | 0.9341578 | 0.9077540 |\n",
       "| Japan |  0.5213904 |  0.54344920 | 0.07586898 | 0.5334225 |  0.67179144 | 0.6390374 | 0.76537433 |  0.71590909 | 0.6366979 | 0.43649733 | ... | 0.8633021 | 0.9512032 | 0.8820187 | 0.9131016 | 0.9027406 | 0.9395053 | 0.8910428 | 0.8482620 | 0.9034091 | 0.8833556 |\n",
       "| Israel |  0.4923128 |  0.65340909 | 0.81818182 | 0.7289439 |  0.62800802 | 0.6791444 | 0.57419786 |  0.68415775 | 0.7496658 | 0.53475936 | ... | 0.9324866 | 0.8679813 | 0.9187834 | 0.8887032 | 0.8656417 | 0.8816845 | 0.8816845 | 0.8800134 | 0.9545455 | 0.8669786 |\n",
       "| CHN |  0.6510695 |  0.62199198 | 0.22560160 | 0.5648396 |  0.40608289 | 0.6393717 | 0.72593583 |  0.63602941 | 0.2613636 | 0.73930481 | ... | 0.8064840 | 0.8365642 | 0.8556150 | 0.8729947 | 0.9097594 | 0.8887032 | 0.8823529 | 0.9134358 | 0.9047460 | 0.9020722 |\n",
       "| HK.region. |  0.5795455 |  0.53776738 | 0.40407754 | 0.6624332 |  0.22894385 | 0.6326872 | 0.77339572 |  0.38903743 | 0.3920455 | 0.34324866 | ... | 0.7225936 | 0.8034759 | 0.7817513 | 0.8669786 | 0.8653075 | 0.9117647 | 0.8231952 | 0.7406417 | 0.8997326 | 0.8048128 |\n",
       "| France |  0.4481952 |  0.64070856 | 0.45086898 | 0.5300802 |  0.27707219 | 0.7012032 | 0.58221925 |  0.51537433 | 0.5748663 | 0.49832888 | ... | 0.7533422 | 0.6547460 | 0.7510027 | 0.6911765 | 0.7663770 | 0.7132353 | 0.7767380 | 0.6838235 | 0.8248663 | 0.7817513 |\n",
       "| Spain |  0.2523396 |  0.42613636 | 0.34725936 | 0.1848262 |  0.78509358 | 0.5879011 | 0.84692513 |  0.59893048 | 0.6600936 | 0.65374332 | ... | 0.8753342 | 0.8743316 | 0.8987299 | 0.9134358 | 0.8559492 | 0.8649733 | 0.8054813 | 0.8205214 | 0.9147727 | 0.8375668 |\n",
       "| Mexico | -0.1891711 |  0.22794118 | 0.41109626 | 0.3783422 |  0.65875668 | 0.4695856 | 0.83756684 |  0.66945187 | 0.6828209 | 0.57687166 | ... | 0.8957219 | 0.8582888 | 0.8863636 | 0.9060829 | 0.8506016 | 0.8422460 | 0.8462567 | 0.9104278 | 0.9034091 | 0.9331551 |\n",
       "| Chile |  0.3877005 |  0.35127005 | 0.58890374 | 0.6550802 |  0.69919786 | 0.6724599 | 0.87733957 |  0.73596257 | 0.7543449 | 0.68950535 | ... | 0.8128342 | 0.9244652 | 0.8973930 | 0.9161096 | 0.8903743 | 0.9181150 | 0.9087567 | 0.9288102 | 0.9177807 | 0.9405080 |\n",
       "| Portugal |  0.6460561 |  0.59191176 | 0.75768717 | 0.5120321 |  0.61363636 | 0.5137032 | 0.42145722 |  0.65641711 | 0.5457888 | 0.65808824 | ... | 0.9234626 | 0.7159091 | 0.8522727 | 0.7596925 | 0.7810829 | 0.9097594 | 0.8165107 | 0.9047460 | 0.8863636 | 0.9354947 |\n",
       "| Brazil |  0.3783422 |  0.59792781 | 0.50200535 | 0.5033422 |  0.49565508 | 0.1316845 | 0.52439840 |  0.45153743 | 0.1420455 | 0.58723262 | ... | 0.8191845 | 0.8937166 | 0.7797460 | 0.8913770 | 0.8288770 | 0.7486631 | 0.8823529 | 0.9191176 | 0.8412433 | 0.9411765 |\n",
       "| Russia |  0.4562166 |  0.31684492 | 0.24164439 | 0.5220588 | -0.02473262 | 0.1844920 | 0.02907754 |  0.60762032 | 0.1751337 | 0.33121658 | ... | 0.6534091 | 0.8816845 | 0.8562834 | 0.7794118 | 0.8609626 | 0.6647727 | 0.8018048 | 0.7844251 | 0.6975267 | 0.8114973 |\n",
       "| Egypt | -0.1607620 |  0.25300802 | 0.25033422 | 0.4535428 |  0.59291444 | 0.1784759 | 0.21490642 |  0.67413102 | 0.5401070 | 0.64004011 | ... | 0.8439171 | 0.7787433 | 0.6901738 | 0.7386364 | 0.6788102 | 0.7727273 | 0.9284759 | 0.8552807 | 0.7540107 | 0.8298797 |\n",
       "| Qatar |  0.1166444 |  0.27239305 | 0.53910428 | 0.4017380 |  0.03141711 | 0.4625668 | 0.02941176 |  0.41911765 | 0.3125000 | 0.21022727 | ... | 0.7633690 | 0.9007353 | 0.7850936 | 0.7446524 | 0.8622995 | 0.8368984 | 0.8355615 | 0.8649733 | 0.6203209 | 0.9100936 |\n",
       "| India |  0.3058155 | -0.01504011 | 0.42413102 | 0.1490642 |  0.23897059 | 0.2115642 | 0.01604278 | -0.08054813 | 0.6169786 | 0.07653743 | ... | 0.4164439 | 0.5979278 | 0.6423797 | 0.7118984 | 0.7730615 | 0.6397059 | 0.5548128 | 0.7824198 | 0.7159091 | 0.7767380 |\n",
       "\n"
      ],
      "text/plain": [
       "             Between brothers-in-arms Guest and Host Between alumni\n",
       "USA           0.6250000                0.63970588    0.77740642    \n",
       "UK            0.6052807                0.44117647    0.43883690    \n",
       "Australia     0.6995321                0.71457219    0.86697861    \n",
       "South.Africa  0.3836898                0.38669786    0.81149733    \n",
       "Germany      -0.0598262                0.87901070    0.56818182    \n",
       "Japan         0.5213904                0.54344920    0.07586898    \n",
       "Israel        0.4923128                0.65340909    0.81818182    \n",
       "CHN           0.6510695                0.62199198    0.22560160    \n",
       "HK.region.    0.5795455                0.53776738    0.40407754    \n",
       "France        0.4481952                0.64070856    0.45086898    \n",
       "Spain         0.2523396                0.42613636    0.34725936    \n",
       "Mexico       -0.1891711                0.22794118    0.41109626    \n",
       "Chile         0.3877005                0.35127005    0.58890374    \n",
       "Portugal      0.6460561                0.59191176    0.75768717    \n",
       "Brazil        0.3783422                0.59792781    0.50200535    \n",
       "Russia        0.4562166                0.31684492    0.24164439    \n",
       "Egypt        -0.1607620                0.25300802    0.25033422    \n",
       "Qatar         0.1166444                0.27239305    0.53910428    \n",
       "India         0.3058155               -0.01504011    0.42413102    \n",
       "             Victim and Witness Between church members\n",
       "USA          0.7683824           0.69819519           \n",
       "UK           0.5083556           0.77707219           \n",
       "Australia    0.6928476           0.81250000           \n",
       "South.Africa 0.7299465           0.68148396           \n",
       "Germany      0.4592246           0.69217914           \n",
       "Japan        0.5334225           0.67179144           \n",
       "Israel       0.7289439           0.62800802           \n",
       "CHN          0.5648396           0.40608289           \n",
       "HK.region.   0.6624332           0.22894385           \n",
       "France       0.5300802           0.27707219           \n",
       "Spain        0.1848262           0.78509358           \n",
       "Mexico       0.3783422           0.65875668           \n",
       "Chile        0.6550802           0.69919786           \n",
       "Portugal     0.5120321           0.61363636           \n",
       "Brazil       0.5033422           0.49565508           \n",
       "Russia       0.5220588          -0.02473262           \n",
       "Egypt        0.4535428           0.59291444           \n",
       "Qatar        0.4017380           0.03141711           \n",
       "India        0.1490642           0.23897059           \n",
       "             Between religious followers Predecessor and Successor\n",
       "USA          0.5631684                   0.73863636               \n",
       "UK           0.7042112                   0.65708556               \n",
       "Australia    0.7426471                   0.32586898               \n",
       "South.Africa 0.7473262                   0.42045455               \n",
       "Germany      0.5865642                   0.76570856               \n",
       "Japan        0.6390374                   0.76537433               \n",
       "Israel       0.6791444                   0.57419786               \n",
       "CHN          0.6393717                   0.72593583               \n",
       "HK.region.   0.6326872                   0.77339572               \n",
       "France       0.7012032                   0.58221925               \n",
       "Spain        0.5879011                   0.84692513               \n",
       "Mexico       0.4695856                   0.83756684               \n",
       "Chile        0.6724599                   0.87733957               \n",
       "Portugal     0.5137032                   0.42145722               \n",
       "Brazil       0.1316845                   0.52439840               \n",
       "Russia       0.1844920                   0.02907754               \n",
       "Egypt        0.1784759                   0.21490642               \n",
       "Qatar        0.4625668                   0.02941176               \n",
       "India        0.2115642                   0.01604278               \n",
       "             Student and Dorm Resident assistant Patient and Caretaker\n",
       "USA           0.35895722                         0.7349599            \n",
       "UK            0.27606952                         0.4535428            \n",
       "Australia     0.56216578                         0.7774064            \n",
       "South.Africa  0.53375668                         0.5093583            \n",
       "Germany       0.80614973                         0.7987968            \n",
       "Japan         0.71590909                         0.6366979            \n",
       "Israel        0.68415775                         0.7496658            \n",
       "CHN           0.63602941                         0.2613636            \n",
       "HK.region.    0.38903743                         0.3920455            \n",
       "France        0.51537433                         0.5748663            \n",
       "Spain         0.59893048                         0.6600936            \n",
       "Mexico        0.66945187                         0.6828209            \n",
       "Chile         0.73596257                         0.7543449            \n",
       "Portugal      0.65641711                         0.5457888            \n",
       "Brazil        0.45153743                         0.1420455            \n",
       "Russia        0.60762032                         0.1751337            \n",
       "Egypt         0.67413102                         0.5401070            \n",
       "Qatar         0.41911765                         0.3125000            \n",
       "India        -0.08054813                         0.6169786            \n",
       "             Director and Performer ... Uncle and Niece/Nephew Wife and Husband\n",
       "USA          0.78008021             ... 0.9014037              0.8676471       \n",
       "UK           0.60528075             ... 0.9351604              0.6667781       \n",
       "Australia    0.62800802             ... 0.9161096              0.8258690       \n",
       "South.Africa 0.66677807             ... 0.9087567              0.8716578       \n",
       "Germany      0.67847594             ... 0.8506016              0.8810160       \n",
       "Japan        0.43649733             ... 0.8633021              0.9512032       \n",
       "Israel       0.53475936             ... 0.9324866              0.8679813       \n",
       "CHN          0.73930481             ... 0.8064840              0.8365642       \n",
       "HK.region.   0.34324866             ... 0.7225936              0.8034759       \n",
       "France       0.49832888             ... 0.7533422              0.6547460       \n",
       "Spain        0.65374332             ... 0.8753342              0.8743316       \n",
       "Mexico       0.57687166             ... 0.8957219              0.8582888       \n",
       "Chile        0.68950535             ... 0.8128342              0.9244652       \n",
       "Portugal     0.65808824             ... 0.9234626              0.7159091       \n",
       "Brazil       0.58723262             ... 0.8191845              0.8937166       \n",
       "Russia       0.33121658             ... 0.6534091              0.8816845       \n",
       "Egypt        0.64004011             ... 0.8439171              0.7787433       \n",
       "Qatar        0.21022727             ... 0.7633690              0.9007353       \n",
       "India        0.07653743             ... 0.4164439              0.5979278       \n",
       "             Between business rivals Fiance and Fiancee Parent and Child\n",
       "USA          0.8663102               0.8201872          0.8191845       \n",
       "UK           0.7864305               0.6858289          0.6737968       \n",
       "Australia    0.8843583               0.9047460          0.8850267       \n",
       "South.Africa 0.8475936               0.8425802          0.8760027       \n",
       "Germany      0.8449198               0.8953877          0.8519385       \n",
       "Japan        0.8820187               0.9131016          0.9027406       \n",
       "Israel       0.9187834               0.8887032          0.8656417       \n",
       "CHN          0.8556150               0.8729947          0.9097594       \n",
       "HK.region.   0.7817513               0.8669786          0.8653075       \n",
       "France       0.7510027               0.6911765          0.7663770       \n",
       "Spain        0.8987299               0.9134358          0.8559492       \n",
       "Mexico       0.8863636               0.9060829          0.8506016       \n",
       "Chile        0.8973930               0.9161096          0.8903743       \n",
       "Portugal     0.8522727               0.7596925          0.7810829       \n",
       "Brazil       0.7797460               0.8913770          0.8288770       \n",
       "Russia       0.8562834               0.7794118          0.8609626       \n",
       "Egypt        0.6901738               0.7386364          0.6788102       \n",
       "Qatar        0.7850936               0.7446524          0.8622995       \n",
       "India        0.6423797               0.7118984          0.7730615       \n",
       "             Prostitute and Customer Mother and Infant Parent and Infant\n",
       "USA          0.9024064               0.8151738         0.8913770        \n",
       "UK           0.8629679               0.8292112         0.8566176        \n",
       "Australia    0.8626337               0.9117647         0.8272059        \n",
       "South.Africa 0.9177807               0.9054144         0.7891043        \n",
       "Germany      0.9097594               0.8977273         0.8248663        \n",
       "Japan        0.9395053               0.8910428         0.8482620        \n",
       "Israel       0.8816845               0.8816845         0.8800134        \n",
       "CHN          0.8887032               0.8823529         0.9134358        \n",
       "HK.region.   0.9117647               0.8231952         0.7406417        \n",
       "France       0.7132353               0.7767380         0.6838235        \n",
       "Spain        0.8649733               0.8054813         0.8205214        \n",
       "Mexico       0.8422460               0.8462567         0.9104278        \n",
       "Chile        0.9181150               0.9087567         0.9288102        \n",
       "Portugal     0.9097594               0.8165107         0.9047460        \n",
       "Brazil       0.7486631               0.8823529         0.9191176        \n",
       "Russia       0.6647727               0.8018048         0.7844251        \n",
       "Egypt        0.7727273               0.9284759         0.8552807        \n",
       "Qatar        0.8368984               0.8355615         0.8649733        \n",
       "India        0.6397059               0.5548128         0.7824198        \n",
       "             Between twins Grandparent and Grandchild\n",
       "USA          0.7917781     0.9151070                 \n",
       "UK           0.7967914     0.8666444                 \n",
       "Australia    0.9364973     0.8653075                 \n",
       "South.Africa 0.9605615     0.8516043                 \n",
       "Germany      0.9341578     0.9077540                 \n",
       "Japan        0.9034091     0.8833556                 \n",
       "Israel       0.9545455     0.8669786                 \n",
       "CHN          0.9047460     0.9020722                 \n",
       "HK.region.   0.8997326     0.8048128                 \n",
       "France       0.8248663     0.7817513                 \n",
       "Spain        0.9147727     0.8375668                 \n",
       "Mexico       0.9034091     0.9331551                 \n",
       "Chile        0.9177807     0.9405080                 \n",
       "Portugal     0.8863636     0.9354947                 \n",
       "Brazil       0.8412433     0.9411765                 \n",
       "Russia       0.6975267     0.8114973                 \n",
       "Egypt        0.7540107     0.8298797                 \n",
       "Qatar        0.6203209     0.9100936                 \n",
       "India        0.7159091     0.7767380                 "
      ]
     },
     "metadata": {},
     "output_type": "display_data"
    }
   ],
   "source": [
    "rel_33d_dict = list()\n",
    "rel_loocv_dict = list()\n",
    "for (rel in relationships){\n",
    "    # 1.each relationship(key) contain 19 region's rating on 33 dimensions\n",
    "    rel_33d_df = t(raw_data_list[[regions[1]]][rel,])\n",
    "    for (region in regions[2:19]){\n",
    "        rel_33d_df = cbind(rel_33d_df,t(raw_data_list[[region]][rel,]))}\n",
    "    colnames(rel_33d_df) = regions\n",
    "    rel_33d_dict[[rel]] = rel_33d_df\n",
    "    \n",
    "    loocv_rel_list = c()\n",
    "    # 2.caculate LOOCV\n",
    "    for (region in regions){\n",
    "        remove_one = rel_33d_df[,region]\n",
    "        rel_33d_df_leave_one_out = rel_33d_df[,-which(colnames(rel_33d_df)==region)]\n",
    "        rel_33d_df_leave_one_out_avg = apply(rel_33d_df_leave_one_out,1,mean)\n",
    "        loocv_rel_list = c(loocv_rel_list,cor(remove_one,\n",
    "                    rel_33d_df_leave_one_out_avg,method = 'spearman'))\n",
    "    rel_loocv_dict[[rel]] = loocv_rel_list\n",
    "    }\n",
    "}\n",
    "\n",
    "rel_loocv_df = data.frame(matrix(NA,nrow=19,ncol=159))\n",
    "colnames(rel_loocv_df) = relationships\n",
    "rownames(rel_loocv_df) = regions\n",
    "for (rel in relationships){rel_loocv_df[rel] = rel_loocv_dict[[rel]]}\n",
    "rel_loocv_df = data.frame(t(rel_loocv_df))\n",
    "\n",
    "# reorder relationships base on mean of loocv\n",
    "rel_loocv_df['mean'] = apply(rel_loocv_df,1,mean)\n",
    "rel_loocv_df = rel_loocv_df[order(rel_loocv_df$'mean'),]\n",
    "rel_loocv_df = data.frame(t(rel_loocv_df),check.names=FALSE)\n",
    "rel_loocv_df = rel_loocv_df[-c(20),] # remove mean\n",
    "rel_loocv_df"
   ]
  },
  {
   "cell_type": "code",
   "execution_count": 17,
   "metadata": {
    "vscode": {
     "languageId": "r"
    }
   },
   "outputs": [],
   "source": [
    "rel_loocv_df_avg = apply(rel_loocv_df,2,mean)\n",
    "rel_loocv_df_avg = data.frame(rel_loocv_df_avg)\n",
    "write.csv(rel_loocv_df_avg,'output_data/loocv/rel_loocv_df_avg.csv')"
   ]
  },
  {
   "cell_type": "code",
   "execution_count": 18,
   "metadata": {
    "vscode": {
     "languageId": "r"
    }
   },
   "outputs": [
    {
     "data": {
      "text/html": [
       "<table class=\"dataframe\">\n",
       "<caption>A data.frame: 10 × 3</caption>\n",
       "<thead>\n",
       "\t<tr><th></th><th scope=col>region</th><th scope=col>variable</th><th scope=col>value</th></tr>\n",
       "\t<tr><th></th><th scope=col>&lt;chr&gt;</th><th scope=col>&lt;fct&gt;</th><th scope=col>&lt;dbl&gt;</th></tr>\n",
       "</thead>\n",
       "<tbody>\n",
       "\t<tr><th scope=row>1</th><td>USA         </td><td>Between brothers-in-arms</td><td> 0.6250000</td></tr>\n",
       "\t<tr><th scope=row>2</th><td>UK          </td><td>Between brothers-in-arms</td><td> 0.6052807</td></tr>\n",
       "\t<tr><th scope=row>3</th><td>Australia   </td><td>Between brothers-in-arms</td><td> 0.6995321</td></tr>\n",
       "\t<tr><th scope=row>4</th><td>South.Africa</td><td>Between brothers-in-arms</td><td> 0.3836898</td></tr>\n",
       "\t<tr><th scope=row>5</th><td>Germany     </td><td>Between brothers-in-arms</td><td>-0.0598262</td></tr>\n",
       "\t<tr><th scope=row>6</th><td>Japan       </td><td>Between brothers-in-arms</td><td> 0.5213904</td></tr>\n",
       "\t<tr><th scope=row>7</th><td>Israel      </td><td>Between brothers-in-arms</td><td> 0.4923128</td></tr>\n",
       "\t<tr><th scope=row>8</th><td>CHN         </td><td>Between brothers-in-arms</td><td> 0.6510695</td></tr>\n",
       "\t<tr><th scope=row>9</th><td>HK.region.  </td><td>Between brothers-in-arms</td><td> 0.5795455</td></tr>\n",
       "\t<tr><th scope=row>10</th><td>France      </td><td>Between brothers-in-arms</td><td> 0.4481952</td></tr>\n",
       "</tbody>\n",
       "</table>\n"
      ],
      "text/latex": [
       "A data.frame: 10 × 3\n",
       "\\begin{tabular}{r|lll}\n",
       "  & region & variable & value\\\\\n",
       "  & <chr> & <fct> & <dbl>\\\\\n",
       "\\hline\n",
       "\t1 & USA          & Between brothers-in-arms &  0.6250000\\\\\n",
       "\t2 & UK           & Between brothers-in-arms &  0.6052807\\\\\n",
       "\t3 & Australia    & Between brothers-in-arms &  0.6995321\\\\\n",
       "\t4 & South.Africa & Between brothers-in-arms &  0.3836898\\\\\n",
       "\t5 & Germany      & Between brothers-in-arms & -0.0598262\\\\\n",
       "\t6 & Japan        & Between brothers-in-arms &  0.5213904\\\\\n",
       "\t7 & Israel       & Between brothers-in-arms &  0.4923128\\\\\n",
       "\t8 & CHN          & Between brothers-in-arms &  0.6510695\\\\\n",
       "\t9 & HK.region.   & Between brothers-in-arms &  0.5795455\\\\\n",
       "\t10 & France       & Between brothers-in-arms &  0.4481952\\\\\n",
       "\\end{tabular}\n"
      ],
      "text/markdown": [
       "\n",
       "A data.frame: 10 × 3\n",
       "\n",
       "| <!--/--> | region &lt;chr&gt; | variable &lt;fct&gt; | value &lt;dbl&gt; |\n",
       "|---|---|---|---|\n",
       "| 1 | USA          | Between brothers-in-arms |  0.6250000 |\n",
       "| 2 | UK           | Between brothers-in-arms |  0.6052807 |\n",
       "| 3 | Australia    | Between brothers-in-arms |  0.6995321 |\n",
       "| 4 | South.Africa | Between brothers-in-arms |  0.3836898 |\n",
       "| 5 | Germany      | Between brothers-in-arms | -0.0598262 |\n",
       "| 6 | Japan        | Between brothers-in-arms |  0.5213904 |\n",
       "| 7 | Israel       | Between brothers-in-arms |  0.4923128 |\n",
       "| 8 | CHN          | Between brothers-in-arms |  0.6510695 |\n",
       "| 9 | HK.region.   | Between brothers-in-arms |  0.5795455 |\n",
       "| 10 | France       | Between brothers-in-arms |  0.4481952 |\n",
       "\n"
      ],
      "text/plain": [
       "   region       variable                 value     \n",
       "1  USA          Between brothers-in-arms  0.6250000\n",
       "2  UK           Between brothers-in-arms  0.6052807\n",
       "3  Australia    Between brothers-in-arms  0.6995321\n",
       "4  South.Africa Between brothers-in-arms  0.3836898\n",
       "5  Germany      Between brothers-in-arms -0.0598262\n",
       "6  Japan        Between brothers-in-arms  0.5213904\n",
       "7  Israel       Between brothers-in-arms  0.4923128\n",
       "8  CHN          Between brothers-in-arms  0.6510695\n",
       "9  HK.region.   Between brothers-in-arms  0.5795455\n",
       "10 France       Between brothers-in-arms  0.4481952"
      ]
     },
     "metadata": {},
     "output_type": "display_data"
    }
   ],
   "source": [
    "rel_loocv_df$'region' = rownames(rel_loocv_df)\n",
    "rel_loocv_df_melt = melt(rel_loocv_df,id.vars=c('region'))\n",
    "head(rel_loocv_df_melt,10)"
   ]
  },
  {
   "cell_type": "code",
   "execution_count": 30,
   "metadata": {
    "vscode": {
     "languageId": "r"
    }
   },
   "outputs": [],
   "source": [
    "# add 6 clusters derived from Study1\n",
    "clusters_6k=read.csv('../../Study1/Categorical_model/output_data/group/category/cluster_results/umap_exp_results_159r_all_fixlabel.csv',\n",
    "                       row.names = 1)"
   ]
  },
  {
   "cell_type": "code",
   "execution_count": 31,
   "metadata": {
    "vscode": {
     "languageId": "r"
    }
   },
   "outputs": [
    {
     "name": "stdout",
     "output_type": "stream",
     "text": [
      "[1] \"Hostile: 25\"\n"
     ]
    },
    {
     "data": {
      "text/html": [
       "<style>\n",
       ".list-inline {list-style: none; margin:0; padding: 0}\n",
       ".list-inline>li {display: inline-block}\n",
       ".list-inline>li:not(:last-child)::after {content: \"\\00b7\"; padding: 0 .5ex}\n",
       "</style>\n",
       "<ol class=list-inline><li>'Between business rivals'</li><li>'Police officer and Offender'</li><li>'Criminal and Prosecutor'</li><li>'Parole officer and Parolee'</li><li>'Between divorced spouses'</li><li>'Bully and Victim'</li><li>'Victim and Criminal'</li><li>'Guard and Prisoner'</li><li>'Between competitors in sports'</li><li>'Between fans of opposing sports teams'</li><li>'Defendant and Plaintiff'</li><li>'Man Wife and Man Mistress'</li><li>'Between ex-lovers'</li><li>'Between opposing negotiators'</li><li>'Celebrity and Haters'</li><li>'Between political opponents'</li><li>'Between enemies'</li><li>'Criminal and Hostage'</li><li>'Slave and Master'</li><li>'Between frenemies'</li><li>'Between sports rivals'</li><li>'Police officer and Civilian'</li><li>'Criminal and Police officer'</li><li>'Between romantic rivals'</li><li>'Master and Servant'</li></ol>\n"
      ],
      "text/latex": [
       "\\begin{enumerate*}\n",
       "\\item 'Between business rivals'\n",
       "\\item 'Police officer and Offender'\n",
       "\\item 'Criminal and Prosecutor'\n",
       "\\item 'Parole officer and Parolee'\n",
       "\\item 'Between divorced spouses'\n",
       "\\item 'Bully and Victim'\n",
       "\\item 'Victim and Criminal'\n",
       "\\item 'Guard and Prisoner'\n",
       "\\item 'Between competitors in sports'\n",
       "\\item 'Between fans of opposing sports teams'\n",
       "\\item 'Defendant and Plaintiff'\n",
       "\\item 'Man Wife and Man Mistress'\n",
       "\\item 'Between ex-lovers'\n",
       "\\item 'Between opposing negotiators'\n",
       "\\item 'Celebrity and Haters'\n",
       "\\item 'Between political opponents'\n",
       "\\item 'Between enemies'\n",
       "\\item 'Criminal and Hostage'\n",
       "\\item 'Slave and Master'\n",
       "\\item 'Between frenemies'\n",
       "\\item 'Between sports rivals'\n",
       "\\item 'Police officer and Civilian'\n",
       "\\item 'Criminal and Police officer'\n",
       "\\item 'Between romantic rivals'\n",
       "\\item 'Master and Servant'\n",
       "\\end{enumerate*}\n"
      ],
      "text/markdown": [
       "1. 'Between business rivals'\n",
       "2. 'Police officer and Offender'\n",
       "3. 'Criminal and Prosecutor'\n",
       "4. 'Parole officer and Parolee'\n",
       "5. 'Between divorced spouses'\n",
       "6. 'Bully and Victim'\n",
       "7. 'Victim and Criminal'\n",
       "8. 'Guard and Prisoner'\n",
       "9. 'Between competitors in sports'\n",
       "10. 'Between fans of opposing sports teams'\n",
       "11. 'Defendant and Plaintiff'\n",
       "12. 'Man Wife and Man Mistress'\n",
       "13. 'Between ex-lovers'\n",
       "14. 'Between opposing negotiators'\n",
       "15. 'Celebrity and Haters'\n",
       "16. 'Between political opponents'\n",
       "17. 'Between enemies'\n",
       "18. 'Criminal and Hostage'\n",
       "19. 'Slave and Master'\n",
       "20. 'Between frenemies'\n",
       "21. 'Between sports rivals'\n",
       "22. 'Police officer and Civilian'\n",
       "23. 'Criminal and Police officer'\n",
       "24. 'Between romantic rivals'\n",
       "25. 'Master and Servant'\n",
       "\n",
       "\n"
      ],
      "text/plain": [
       " [1] \"Between business rivals\"              \n",
       " [2] \"Police officer and Offender\"          \n",
       " [3] \"Criminal and Prosecutor\"              \n",
       " [4] \"Parole officer and Parolee\"           \n",
       " [5] \"Between divorced spouses\"             \n",
       " [6] \"Bully and Victim\"                     \n",
       " [7] \"Victim and Criminal\"                  \n",
       " [8] \"Guard and Prisoner\"                   \n",
       " [9] \"Between competitors in sports\"        \n",
       "[10] \"Between fans of opposing sports teams\"\n",
       "[11] \"Defendant and Plaintiff\"              \n",
       "[12] \"Man Wife and Man Mistress\"            \n",
       "[13] \"Between ex-lovers\"                    \n",
       "[14] \"Between opposing negotiators\"         \n",
       "[15] \"Celebrity and Haters\"                 \n",
       "[16] \"Between political opponents\"          \n",
       "[17] \"Between enemies\"                      \n",
       "[18] \"Criminal and Hostage\"                 \n",
       "[19] \"Slave and Master\"                     \n",
       "[20] \"Between frenemies\"                    \n",
       "[21] \"Between sports rivals\"                \n",
       "[22] \"Police officer and Civilian\"          \n",
       "[23] \"Criminal and Police officer\"          \n",
       "[24] \"Between romantic rivals\"              \n",
       "[25] \"Master and Servant\"                   "
      ]
     },
     "metadata": {},
     "output_type": "display_data"
    },
    {
     "name": "stdout",
     "output_type": "stream",
     "text": [
      "[1] \"Familial: 23\"\n"
     ]
    },
    {
     "data": {
      "text/html": [
       "<style>\n",
       ".list-inline {list-style: none; margin:0; padding: 0}\n",
       ".list-inline>li {display: inline-block}\n",
       ".list-inline>li:not(:last-child)::after {content: \"\\00b7\"; padding: 0 .5ex}\n",
       "</style>\n",
       "<ol class=list-inline><li>'Uncle and Niece/Nephew'</li><li>'Between close relatives'</li><li>'Between a person and their in-laws'</li><li>'Between distant relatives'</li><li>'Mother and Infant'</li><li>'Between second cousins'</li><li>'Ancestor and Descendant'</li><li>'Godparent and Godchild'</li><li>'Between twins'</li><li>'Parent and Child'</li><li>'Brother and Sister'</li><li>'Aunt and Niece/Nephew'</li><li>'Between step-siblings'</li><li>'Step-parent and Step-child'</li><li>'Between cousins'</li><li>'Between half-siblings'</li><li>'Parent and Teenager'</li><li>'Foster-parent and Foster-child'</li><li>'Between Siblings'</li><li>'Between adoptive parents and adopted kids'</li><li>'Step-grandparent and Step-grandchild'</li><li>'Parent and Infant'</li><li>'Grandparent and Grandchild'</li></ol>\n"
      ],
      "text/latex": [
       "\\begin{enumerate*}\n",
       "\\item 'Uncle and Niece/Nephew'\n",
       "\\item 'Between close relatives'\n",
       "\\item 'Between a person and their in-laws'\n",
       "\\item 'Between distant relatives'\n",
       "\\item 'Mother and Infant'\n",
       "\\item 'Between second cousins'\n",
       "\\item 'Ancestor and Descendant'\n",
       "\\item 'Godparent and Godchild'\n",
       "\\item 'Between twins'\n",
       "\\item 'Parent and Child'\n",
       "\\item 'Brother and Sister'\n",
       "\\item 'Aunt and Niece/Nephew'\n",
       "\\item 'Between step-siblings'\n",
       "\\item 'Step-parent and Step-child'\n",
       "\\item 'Between cousins'\n",
       "\\item 'Between half-siblings'\n",
       "\\item 'Parent and Teenager'\n",
       "\\item 'Foster-parent and Foster-child'\n",
       "\\item 'Between Siblings'\n",
       "\\item 'Between adoptive parents and adopted kids'\n",
       "\\item 'Step-grandparent and Step-grandchild'\n",
       "\\item 'Parent and Infant'\n",
       "\\item 'Grandparent and Grandchild'\n",
       "\\end{enumerate*}\n"
      ],
      "text/markdown": [
       "1. 'Uncle and Niece/Nephew'\n",
       "2. 'Between close relatives'\n",
       "3. 'Between a person and their in-laws'\n",
       "4. 'Between distant relatives'\n",
       "5. 'Mother and Infant'\n",
       "6. 'Between second cousins'\n",
       "7. 'Ancestor and Descendant'\n",
       "8. 'Godparent and Godchild'\n",
       "9. 'Between twins'\n",
       "10. 'Parent and Child'\n",
       "11. 'Brother and Sister'\n",
       "12. 'Aunt and Niece/Nephew'\n",
       "13. 'Between step-siblings'\n",
       "14. 'Step-parent and Step-child'\n",
       "15. 'Between cousins'\n",
       "16. 'Between half-siblings'\n",
       "17. 'Parent and Teenager'\n",
       "18. 'Foster-parent and Foster-child'\n",
       "19. 'Between Siblings'\n",
       "20. 'Between adoptive parents and adopted kids'\n",
       "21. 'Step-grandparent and Step-grandchild'\n",
       "22. 'Parent and Infant'\n",
       "23. 'Grandparent and Grandchild'\n",
       "\n",
       "\n"
      ],
      "text/plain": [
       " [1] \"Uncle and Niece/Nephew\"                   \n",
       " [2] \"Between close relatives\"                  \n",
       " [3] \"Between a person and their in-laws\"       \n",
       " [4] \"Between distant relatives\"                \n",
       " [5] \"Mother and Infant\"                        \n",
       " [6] \"Between second cousins\"                   \n",
       " [7] \"Ancestor and Descendant\"                  \n",
       " [8] \"Godparent and Godchild\"                   \n",
       " [9] \"Between twins\"                            \n",
       "[10] \"Parent and Child\"                         \n",
       "[11] \"Brother and Sister\"                       \n",
       "[12] \"Aunt and Niece/Nephew\"                    \n",
       "[13] \"Between step-siblings\"                    \n",
       "[14] \"Step-parent and Step-child\"               \n",
       "[15] \"Between cousins\"                          \n",
       "[16] \"Between half-siblings\"                    \n",
       "[17] \"Parent and Teenager\"                      \n",
       "[18] \"Foster-parent and Foster-child\"           \n",
       "[19] \"Between Siblings\"                         \n",
       "[20] \"Between adoptive parents and adopted kids\"\n",
       "[21] \"Step-grandparent and Step-grandchild\"     \n",
       "[22] \"Parent and Infant\"                        \n",
       "[23] \"Grandparent and Grandchild\"               "
      ]
     },
     "metadata": {},
     "output_type": "display_data"
    },
    {
     "name": "stdout",
     "output_type": "stream",
     "text": [
      "[1] \"Romantic: 13\"\n"
     ]
    },
    {
     "data": {
      "text/html": [
       "<style>\n",
       ".list-inline {list-style: none; margin:0; padding: 0}\n",
       ".list-inline>li {display: inline-block}\n",
       ".list-inline>li:not(:last-child)::after {content: \"\\00b7\"; padding: 0 .5ex}\n",
       "</style>\n",
       "<ol class=list-inline><li>'Between long-distance lovers'</li><li>'Sugar-daddy and Sugar-baby'</li><li>'Between a person and their deceased spouse'</li><li>'Between life-partners'</li><li>'Between romantic lovers'</li><li>'Between soul-mates'</li><li>'Fiance and Fiancee'</li><li>'Between a person and their crush'</li><li>'Between a person and their significant other'</li><li>'Between friends with benefits'</li><li>'Wife and Husband'</li><li>'Man and His Mistress'</li><li>'Bride and Groom'</li></ol>\n"
      ],
      "text/latex": [
       "\\begin{enumerate*}\n",
       "\\item 'Between long-distance lovers'\n",
       "\\item 'Sugar-daddy and Sugar-baby'\n",
       "\\item 'Between a person and their deceased spouse'\n",
       "\\item 'Between life-partners'\n",
       "\\item 'Between romantic lovers'\n",
       "\\item 'Between soul-mates'\n",
       "\\item 'Fiance and Fiancee'\n",
       "\\item 'Between a person and their crush'\n",
       "\\item 'Between a person and their significant other'\n",
       "\\item 'Between friends with benefits'\n",
       "\\item 'Wife and Husband'\n",
       "\\item 'Man and His Mistress'\n",
       "\\item 'Bride and Groom'\n",
       "\\end{enumerate*}\n"
      ],
      "text/markdown": [
       "1. 'Between long-distance lovers'\n",
       "2. 'Sugar-daddy and Sugar-baby'\n",
       "3. 'Between a person and their deceased spouse'\n",
       "4. 'Between life-partners'\n",
       "5. 'Between romantic lovers'\n",
       "6. 'Between soul-mates'\n",
       "7. 'Fiance and Fiancee'\n",
       "8. 'Between a person and their crush'\n",
       "9. 'Between a person and their significant other'\n",
       "10. 'Between friends with benefits'\n",
       "11. 'Wife and Husband'\n",
       "12. 'Man and His Mistress'\n",
       "13. 'Bride and Groom'\n",
       "\n",
       "\n"
      ],
      "text/plain": [
       " [1] \"Between long-distance lovers\"                \n",
       " [2] \"Sugar-daddy and Sugar-baby\"                  \n",
       " [3] \"Between a person and their deceased spouse\"  \n",
       " [4] \"Between life-partners\"                       \n",
       " [5] \"Between romantic lovers\"                     \n",
       " [6] \"Between soul-mates\"                          \n",
       " [7] \"Fiance and Fiancee\"                          \n",
       " [8] \"Between a person and their crush\"            \n",
       " [9] \"Between a person and their significant other\"\n",
       "[10] \"Between friends with benefits\"               \n",
       "[11] \"Wife and Husband\"                            \n",
       "[12] \"Man and His Mistress\"                        \n",
       "[13] \"Bride and Groom\"                             "
      ]
     },
     "metadata": {},
     "output_type": "display_data"
    },
    {
     "name": "stdout",
     "output_type": "stream",
     "text": [
      "[1] \"Affiliative: 33\"\n"
     ]
    },
    {
     "data": {
      "text/html": [
       "<style>\n",
       ".list-inline {list-style: none; margin:0; padding: 0}\n",
       ".list-inline>li {display: inline-block}\n",
       ".list-inline>li:not(:last-child)::after {content: \"\\00b7\"; padding: 0 .5ex}\n",
       "</style>\n",
       "<ol class=list-inline><li>'Between a person and their social media follower'</li><li>'Between alumni'</li><li>'Between childhood friends'</li><li>'Between peers'</li><li>'Groom and Groomsman'</li><li>'Between friends'</li><li>'Between strangers'</li><li>'Between teammates in sports'</li><li>'Between companions'</li><li>'Between sorority sisters'</li><li>'Between diplomats'</li><li>'Between cohabitants'</li><li>'Between casual acquaintances'</li><li>'Between criminal and their accomplice'</li><li>'Between Business Partners'</li><li>'Between neighbors'</li><li>'Between fraternity brothers'</li><li>'Between fans of the same sports team'</li><li>'Between roommates'</li><li>'Between pen-friends'</li><li>'Between church members'</li><li>'Between political allies'</li><li>'Between Facebook Friends'</li><li>'Between Close Friends'</li><li>'Victim and Witness'</li><li>'Between classmates'</li><li>'Bride and Bridesmaid'</li><li>'Between a person and their family friends'</li><li>'Between playmates'</li><li>'Between religious followers'</li><li>'Between confidants'</li><li>'Between Co-workers'</li><li>'Between brothers-in-arms'</li></ol>\n"
      ],
      "text/latex": [
       "\\begin{enumerate*}\n",
       "\\item 'Between a person and their social media follower'\n",
       "\\item 'Between alumni'\n",
       "\\item 'Between childhood friends'\n",
       "\\item 'Between peers'\n",
       "\\item 'Groom and Groomsman'\n",
       "\\item 'Between friends'\n",
       "\\item 'Between strangers'\n",
       "\\item 'Between teammates in sports'\n",
       "\\item 'Between companions'\n",
       "\\item 'Between sorority sisters'\n",
       "\\item 'Between diplomats'\n",
       "\\item 'Between cohabitants'\n",
       "\\item 'Between casual acquaintances'\n",
       "\\item 'Between criminal and their accomplice'\n",
       "\\item 'Between Business Partners'\n",
       "\\item 'Between neighbors'\n",
       "\\item 'Between fraternity brothers'\n",
       "\\item 'Between fans of the same sports team'\n",
       "\\item 'Between roommates'\n",
       "\\item 'Between pen-friends'\n",
       "\\item 'Between church members'\n",
       "\\item 'Between political allies'\n",
       "\\item 'Between Facebook Friends'\n",
       "\\item 'Between Close Friends'\n",
       "\\item 'Victim and Witness'\n",
       "\\item 'Between classmates'\n",
       "\\item 'Bride and Bridesmaid'\n",
       "\\item 'Between a person and their family friends'\n",
       "\\item 'Between playmates'\n",
       "\\item 'Between religious followers'\n",
       "\\item 'Between confidants'\n",
       "\\item 'Between Co-workers'\n",
       "\\item 'Between brothers-in-arms'\n",
       "\\end{enumerate*}\n"
      ],
      "text/markdown": [
       "1. 'Between a person and their social media follower'\n",
       "2. 'Between alumni'\n",
       "3. 'Between childhood friends'\n",
       "4. 'Between peers'\n",
       "5. 'Groom and Groomsman'\n",
       "6. 'Between friends'\n",
       "7. 'Between strangers'\n",
       "8. 'Between teammates in sports'\n",
       "9. 'Between companions'\n",
       "10. 'Between sorority sisters'\n",
       "11. 'Between diplomats'\n",
       "12. 'Between cohabitants'\n",
       "13. 'Between casual acquaintances'\n",
       "14. 'Between criminal and their accomplice'\n",
       "15. 'Between Business Partners'\n",
       "16. 'Between neighbors'\n",
       "17. 'Between fraternity brothers'\n",
       "18. 'Between fans of the same sports team'\n",
       "19. 'Between roommates'\n",
       "20. 'Between pen-friends'\n",
       "21. 'Between church members'\n",
       "22. 'Between political allies'\n",
       "23. 'Between Facebook Friends'\n",
       "24. 'Between Close Friends'\n",
       "25. 'Victim and Witness'\n",
       "26. 'Between classmates'\n",
       "27. 'Bride and Bridesmaid'\n",
       "28. 'Between a person and their family friends'\n",
       "29. 'Between playmates'\n",
       "30. 'Between religious followers'\n",
       "31. 'Between confidants'\n",
       "32. 'Between Co-workers'\n",
       "33. 'Between brothers-in-arms'\n",
       "\n",
       "\n"
      ],
      "text/plain": [
       " [1] \"Between a person and their social media follower\"\n",
       " [2] \"Between alumni\"                                  \n",
       " [3] \"Between childhood friends\"                       \n",
       " [4] \"Between peers\"                                   \n",
       " [5] \"Groom and Groomsman\"                             \n",
       " [6] \"Between friends\"                                 \n",
       " [7] \"Between strangers\"                               \n",
       " [8] \"Between teammates in sports\"                     \n",
       " [9] \"Between companions\"                              \n",
       "[10] \"Between sorority sisters\"                        \n",
       "[11] \"Between diplomats\"                               \n",
       "[12] \"Between cohabitants\"                             \n",
       "[13] \"Between casual acquaintances\"                    \n",
       "[14] \"Between criminal and their accomplice\"           \n",
       "[15] \"Between Business Partners\"                       \n",
       "[16] \"Between neighbors\"                               \n",
       "[17] \"Between fraternity brothers\"                     \n",
       "[18] \"Between fans of the same sports team\"            \n",
       "[19] \"Between roommates\"                               \n",
       "[20] \"Between pen-friends\"                             \n",
       "[21] \"Between church members\"                          \n",
       "[22] \"Between political allies\"                        \n",
       "[23] \"Between Facebook Friends\"                        \n",
       "[24] \"Between Close Friends\"                           \n",
       "[25] \"Victim and Witness\"                              \n",
       "[26] \"Between classmates\"                              \n",
       "[27] \"Bride and Bridesmaid\"                            \n",
       "[28] \"Between a person and their family friends\"       \n",
       "[29] \"Between playmates\"                               \n",
       "[30] \"Between religious followers\"                     \n",
       "[31] \"Between confidants\"                              \n",
       "[32] \"Between Co-workers\"                              \n",
       "[33] \"Between brothers-in-arms\"                        "
      ]
     },
     "metadata": {},
     "output_type": "display_data"
    },
    {
     "name": "stdout",
     "output_type": "stream",
     "text": [
      "[1] \"Transactional: 30\"\n"
     ]
    },
    {
     "data": {
      "text/html": [
       "<style>\n",
       ".list-inline {list-style: none; margin:0; padding: 0}\n",
       ".list-inline>li {display: inline-block}\n",
       ".list-inline>li:not(:last-child)::after {content: \"\\00b7\"; padding: 0 .5ex}\n",
       "</style>\n",
       "<ol class=list-inline><li>'Native and Tourist'</li><li>'Driver and Passenger'</li><li>'Nurse and Patient'</li><li>'Representative and Citizen'</li><li>'Reviewer and Writer'</li><li>'Entrepreneur and Investor'</li><li>'Dealer and Buyer'</li><li>'Reader and Writer'</li><li>'Patient and Caretaker'</li><li>'Psychologist and Client'</li><li>'Therapist and Patient'</li><li>'Politician and Supporter'</li><li>'Landlord and Tenant'</li><li>'Doctor and Patient'</li><li>'Prostitute and Customer'</li><li>'Researcher and Research Subject'</li><li>'Lawyer and Client'</li><li>'Guide and Tourist'</li><li>'Salesperson and Customer'</li><li>'Drug dealer and Addict'</li><li>'Consultant and Client'</li><li>'Customer and Businessman'</li><li>'Chef and Customer'</li><li>'Performer and Audience'</li><li>'Guest and Host'</li><li>'Babysitter and Infant'</li><li>'Television host and Guest'</li><li>'Customer and Server'</li><li>'Celebrity and Fans'</li><li>'Judge and Contestant'</li></ol>\n"
      ],
      "text/latex": [
       "\\begin{enumerate*}\n",
       "\\item 'Native and Tourist'\n",
       "\\item 'Driver and Passenger'\n",
       "\\item 'Nurse and Patient'\n",
       "\\item 'Representative and Citizen'\n",
       "\\item 'Reviewer and Writer'\n",
       "\\item 'Entrepreneur and Investor'\n",
       "\\item 'Dealer and Buyer'\n",
       "\\item 'Reader and Writer'\n",
       "\\item 'Patient and Caretaker'\n",
       "\\item 'Psychologist and Client'\n",
       "\\item 'Therapist and Patient'\n",
       "\\item 'Politician and Supporter'\n",
       "\\item 'Landlord and Tenant'\n",
       "\\item 'Doctor and Patient'\n",
       "\\item 'Prostitute and Customer'\n",
       "\\item 'Researcher and Research Subject'\n",
       "\\item 'Lawyer and Client'\n",
       "\\item 'Guide and Tourist'\n",
       "\\item 'Salesperson and Customer'\n",
       "\\item 'Drug dealer and Addict'\n",
       "\\item 'Consultant and Client'\n",
       "\\item 'Customer and Businessman'\n",
       "\\item 'Chef and Customer'\n",
       "\\item 'Performer and Audience'\n",
       "\\item 'Guest and Host'\n",
       "\\item 'Babysitter and Infant'\n",
       "\\item 'Television host and Guest'\n",
       "\\item 'Customer and Server'\n",
       "\\item 'Celebrity and Fans'\n",
       "\\item 'Judge and Contestant'\n",
       "\\end{enumerate*}\n"
      ],
      "text/markdown": [
       "1. 'Native and Tourist'\n",
       "2. 'Driver and Passenger'\n",
       "3. 'Nurse and Patient'\n",
       "4. 'Representative and Citizen'\n",
       "5. 'Reviewer and Writer'\n",
       "6. 'Entrepreneur and Investor'\n",
       "7. 'Dealer and Buyer'\n",
       "8. 'Reader and Writer'\n",
       "9. 'Patient and Caretaker'\n",
       "10. 'Psychologist and Client'\n",
       "11. 'Therapist and Patient'\n",
       "12. 'Politician and Supporter'\n",
       "13. 'Landlord and Tenant'\n",
       "14. 'Doctor and Patient'\n",
       "15. 'Prostitute and Customer'\n",
       "16. 'Researcher and Research Subject'\n",
       "17. 'Lawyer and Client'\n",
       "18. 'Guide and Tourist'\n",
       "19. 'Salesperson and Customer'\n",
       "20. 'Drug dealer and Addict'\n",
       "21. 'Consultant and Client'\n",
       "22. 'Customer and Businessman'\n",
       "23. 'Chef and Customer'\n",
       "24. 'Performer and Audience'\n",
       "25. 'Guest and Host'\n",
       "26. 'Babysitter and Infant'\n",
       "27. 'Television host and Guest'\n",
       "28. 'Customer and Server'\n",
       "29. 'Celebrity and Fans'\n",
       "30. 'Judge and Contestant'\n",
       "\n",
       "\n"
      ],
      "text/plain": [
       " [1] \"Native and Tourist\"              \"Driver and Passenger\"           \n",
       " [3] \"Nurse and Patient\"               \"Representative and Citizen\"     \n",
       " [5] \"Reviewer and Writer\"             \"Entrepreneur and Investor\"      \n",
       " [7] \"Dealer and Buyer\"                \"Reader and Writer\"              \n",
       " [9] \"Patient and Caretaker\"           \"Psychologist and Client\"        \n",
       "[11] \"Therapist and Patient\"           \"Politician and Supporter\"       \n",
       "[13] \"Landlord and Tenant\"             \"Doctor and Patient\"             \n",
       "[15] \"Prostitute and Customer\"         \"Researcher and Research Subject\"\n",
       "[17] \"Lawyer and Client\"               \"Guide and Tourist\"              \n",
       "[19] \"Salesperson and Customer\"        \"Drug dealer and Addict\"         \n",
       "[21] \"Consultant and Client\"           \"Customer and Businessman\"       \n",
       "[23] \"Chef and Customer\"               \"Performer and Audience\"         \n",
       "[25] \"Guest and Host\"                  \"Babysitter and Infant\"          \n",
       "[27] \"Television host and Guest\"       \"Customer and Server\"            \n",
       "[29] \"Celebrity and Fans\"              \"Judge and Contestant\"           "
      ]
     },
     "metadata": {},
     "output_type": "display_data"
    },
    {
     "name": "stdout",
     "output_type": "stream",
     "text": [
      "[1] \"Power: 35\"\n"
     ]
    },
    {
     "data": {
      "text/html": [
       "<style>\n",
       ".list-inline {list-style: none; margin:0; padding: 0}\n",
       ".list-inline>li {display: inline-block}\n",
       ".list-inline>li:not(:last-child)::after {content: \"\\00b7\"; padding: 0 .5ex}\n",
       "</style>\n",
       "<ol class=list-inline><li>'Student and Dorm Resident assistant'</li><li>'Union leader and union member'</li><li>'Intern and Employee'</li><li>'Mentor and Mentee'</li><li>'Religious leader and Congregant'</li><li>'Teacher and Student'</li><li>'Employer and Employee'</li><li>'Supervisor and Subordinate'</li><li>'Team Captain and Team Members'</li><li>'Predecessor and Successor'</li><li>'Interviewer and Job applicant'</li><li>'Officer and Soldier'</li><li>'Between a monarch and their minister'</li><li>'Professor and Graduate student'</li><li>'Director and Performer'</li><li>'Athletic trainer and Trainee'</li><li>'Doctor and Nurse'</li><li>'Landlord and Housekeeper'</li><li>'Foreman and Laborer'</li><li>'Superior and Subordinate'</li><li>'Club Member and Club President'</li><li>'Chief and Deputy'</li><li>'Athlete and Referee'</li><li>'Principal and Teacher'</li><li>'Judge and Lawyer'</li><li>'Coach and athlete'</li><li>'University student and Administrator'</li><li>'Leader and Follower'</li><li>'Man and God'</li><li>'Volunteer and Organizer'</li><li>'Manager and Staff'</li><li>'Owner and Manager'</li><li>'Manager and Assistant'</li><li>'Boss and Secretary'</li><li>'Professor and Teaching Assistant'</li></ol>\n"
      ],
      "text/latex": [
       "\\begin{enumerate*}\n",
       "\\item 'Student and Dorm Resident assistant'\n",
       "\\item 'Union leader and union member'\n",
       "\\item 'Intern and Employee'\n",
       "\\item 'Mentor and Mentee'\n",
       "\\item 'Religious leader and Congregant'\n",
       "\\item 'Teacher and Student'\n",
       "\\item 'Employer and Employee'\n",
       "\\item 'Supervisor and Subordinate'\n",
       "\\item 'Team Captain and Team Members'\n",
       "\\item 'Predecessor and Successor'\n",
       "\\item 'Interviewer and Job applicant'\n",
       "\\item 'Officer and Soldier'\n",
       "\\item 'Between a monarch and their minister'\n",
       "\\item 'Professor and Graduate student'\n",
       "\\item 'Director and Performer'\n",
       "\\item 'Athletic trainer and Trainee'\n",
       "\\item 'Doctor and Nurse'\n",
       "\\item 'Landlord and Housekeeper'\n",
       "\\item 'Foreman and Laborer'\n",
       "\\item 'Superior and Subordinate'\n",
       "\\item 'Club Member and Club President'\n",
       "\\item 'Chief and Deputy'\n",
       "\\item 'Athlete and Referee'\n",
       "\\item 'Principal and Teacher'\n",
       "\\item 'Judge and Lawyer'\n",
       "\\item 'Coach and athlete'\n",
       "\\item 'University student and Administrator'\n",
       "\\item 'Leader and Follower'\n",
       "\\item 'Man and God'\n",
       "\\item 'Volunteer and Organizer'\n",
       "\\item 'Manager and Staff'\n",
       "\\item 'Owner and Manager'\n",
       "\\item 'Manager and Assistant'\n",
       "\\item 'Boss and Secretary'\n",
       "\\item 'Professor and Teaching Assistant'\n",
       "\\end{enumerate*}\n"
      ],
      "text/markdown": [
       "1. 'Student and Dorm Resident assistant'\n",
       "2. 'Union leader and union member'\n",
       "3. 'Intern and Employee'\n",
       "4. 'Mentor and Mentee'\n",
       "5. 'Religious leader and Congregant'\n",
       "6. 'Teacher and Student'\n",
       "7. 'Employer and Employee'\n",
       "8. 'Supervisor and Subordinate'\n",
       "9. 'Team Captain and Team Members'\n",
       "10. 'Predecessor and Successor'\n",
       "11. 'Interviewer and Job applicant'\n",
       "12. 'Officer and Soldier'\n",
       "13. 'Between a monarch and their minister'\n",
       "14. 'Professor and Graduate student'\n",
       "15. 'Director and Performer'\n",
       "16. 'Athletic trainer and Trainee'\n",
       "17. 'Doctor and Nurse'\n",
       "18. 'Landlord and Housekeeper'\n",
       "19. 'Foreman and Laborer'\n",
       "20. 'Superior and Subordinate'\n",
       "21. 'Club Member and Club President'\n",
       "22. 'Chief and Deputy'\n",
       "23. 'Athlete and Referee'\n",
       "24. 'Principal and Teacher'\n",
       "25. 'Judge and Lawyer'\n",
       "26. 'Coach and athlete'\n",
       "27. 'University student and Administrator'\n",
       "28. 'Leader and Follower'\n",
       "29. 'Man and God'\n",
       "30. 'Volunteer and Organizer'\n",
       "31. 'Manager and Staff'\n",
       "32. 'Owner and Manager'\n",
       "33. 'Manager and Assistant'\n",
       "34. 'Boss and Secretary'\n",
       "35. 'Professor and Teaching Assistant'\n",
       "\n",
       "\n"
      ],
      "text/plain": [
       " [1] \"Student and Dorm Resident assistant\" \n",
       " [2] \"Union leader and union member\"       \n",
       " [3] \"Intern and Employee\"                 \n",
       " [4] \"Mentor and Mentee\"                   \n",
       " [5] \"Religious leader and Congregant\"     \n",
       " [6] \"Teacher and Student\"                 \n",
       " [7] \"Employer and Employee\"               \n",
       " [8] \"Supervisor and Subordinate\"          \n",
       " [9] \"Team Captain and Team Members\"       \n",
       "[10] \"Predecessor and Successor\"           \n",
       "[11] \"Interviewer and Job applicant\"       \n",
       "[12] \"Officer and Soldier\"                 \n",
       "[13] \"Between a monarch and their minister\"\n",
       "[14] \"Professor and Graduate student\"      \n",
       "[15] \"Director and Performer\"              \n",
       "[16] \"Athletic trainer and Trainee\"        \n",
       "[17] \"Doctor and Nurse\"                    \n",
       "[18] \"Landlord and Housekeeper\"            \n",
       "[19] \"Foreman and Laborer\"                 \n",
       "[20] \"Superior and Subordinate\"            \n",
       "[21] \"Club Member and Club President\"      \n",
       "[22] \"Chief and Deputy\"                    \n",
       "[23] \"Athlete and Referee\"                 \n",
       "[24] \"Principal and Teacher\"               \n",
       "[25] \"Judge and Lawyer\"                    \n",
       "[26] \"Coach and athlete\"                   \n",
       "[27] \"University student and Administrator\"\n",
       "[28] \"Leader and Follower\"                 \n",
       "[29] \"Man and God\"                         \n",
       "[30] \"Volunteer and Organizer\"             \n",
       "[31] \"Manager and Staff\"                   \n",
       "[32] \"Owner and Manager\"                   \n",
       "[33] \"Manager and Assistant\"               \n",
       "[34] \"Boss and Secretary\"                  \n",
       "[35] \"Professor and Teaching Assistant\"    "
      ]
     },
     "metadata": {},
     "output_type": "display_data"
    }
   ],
   "source": [
    "Hostile = rownames(clusters_6k[clusters_6k['cl_k6'] == 5,])\n",
    "print(paste('Hostile:',length(Hostile)))\n",
    "Hostile\n",
    "Familial = rownames(clusters_6k[clusters_6k['cl_k6'] == 2,])\n",
    "print(paste('Familial:',length(Familial)))\n",
    "Familial\n",
    "Romantic = rownames(clusters_6k[clusters_6k['cl_k6'] == 3,])\n",
    "print(paste('Romantic:',length(Romantic)))\n",
    "Romantic\n",
    "Affiliative = rownames(clusters_6k[clusters_6k['cl_k6'] == 1,])\n",
    "print(paste('Affiliative:',length(Affiliative)))\n",
    "Affiliative\n",
    "Transactional = rownames(clusters_6k[clusters_6k['cl_k6'] == 4,])\n",
    "print(paste('Transactional:',length(Transactional)))\n",
    "Transactional\n",
    "Power = rownames(clusters_6k[clusters_6k['cl_k6'] == 0,])\n",
    "print(paste('Power:',length(Power)))\n",
    "Power"
   ]
  },
  {
   "cell_type": "code",
   "execution_count": 32,
   "metadata": {
    "vscode": {
     "languageId": "r"
    }
   },
   "outputs": [],
   "source": [
    "rel_loocv_df_melt_group = rel_loocv_df_melt %>% mutate(group=case_when(variable%in%Hostile~'Hostile',\n",
    "                                            variable%in%Familial~'Familial',\n",
    "                                            variable%in%Romantic~'Romantic',\n",
    "                                            variable%in%Affiliative~'Affiliative',\n",
    "                                            variable%in%Transactional~'Transactional',\n",
    "                                            variable%in%Power~'Power'))\n",
    "rel_loocv_df_melt_group$'group' = factor(rel_loocv_df_melt_group$'group', \n",
    "                            levels=c('Hostile',\n",
    "                                     'Familial','Romantic','Affiliative',\n",
    "                                     'Transactional','Power'))"
   ]
  },
  {
   "cell_type": "code",
   "execution_count": 33,
   "metadata": {
    "vscode": {
     "languageId": "r"
    }
   },
   "outputs": [
    {
     "data": {
      "text/html": [
       "<strong>png:</strong> 2"
      ],
      "text/latex": [
       "\\textbf{png:} 2"
      ],
      "text/markdown": [
       "**png:** 2"
      ],
      "text/plain": [
       "png \n",
       "  2 "
      ]
     },
     "metadata": {},
     "output_type": "display_data"
    },
    {
     "data": {
      "image/png": "[encoded data removed]",
      "text/plain": [
       "plot without title"
      ]
     },
     "metadata": {
      "image/png": {
       "height": 600,
       "width": 1800
      }
     },
     "output_type": "display_data"
    }
   ],
   "source": [
    "options(repr.plot.height=10,repr.plot.width=30)\n",
    "ggboxplot(rel_loocv_df_melt_group,x='variable',y='value',\n",
    "          fill='group',color='group',outlier.shape = NA,\n",
    "          palette = c('#2166AC',\n",
    "                      '#EF7D1A','#EE4C97','#7D4195',\n",
    "                      '#EEE372','#8EC21F'))+\n",
    "#ylim(0,1)+\n",
    "theme_classic()+\n",
    "theme(#axis.text.x=element_text(size=30,face='bold'),\n",
    "      axis.text.x=element_blank(),\n",
    "      axis.text.y=element_text(size=30,face='bold'),\n",
    "      axis.title.x=element_blank(),\n",
    "      axis.title.y=element_blank(),\n",
    "      axis.line.x=element_line(linetype=1,color=\"black\",size=3),\n",
    "      axis.line.y=element_line(linetype=1,color=\"black\",size=3),\n",
    "      legend.title = element_text(size=35,face='bold'),\n",
    "      legend.position = 'none')\n",
    "\n",
    "######################\n",
    "png(\"../output_graph/LOOCV_RelationsIn33D.png\", bg=\"transparent\",\n",
    "    family = 'sans',units='in',width=30,height=10,res=300)\n",
    "ggboxplot(rel_loocv_df_melt_group,x='variable',y='value',\n",
    "          fill='group',color='group',outlier.shape = NA,\n",
    "          palette = c('#2166AC',\n",
    "                      '#EF7D1A','#EE4C97','#7D4195',\n",
    "                      '#EEE372','#8EC21F'))+\n",
    "#ylim(0,1)+\n",
    "theme_classic()+\n",
    "theme(#axis.text.x=element_text(size=30,face='bold'),\n",
    "      axis.text=element_blank(),\n",
    "      #axis.text.y=element_text(size=30,face='bold'),\n",
    "      axis.title.x=element_blank(),\n",
    "      axis.title.y=element_blank(),\n",
    "      axis.line.x=element_line(linetype=1,color=\"black\",size=3),\n",
    "      axis.line.y=element_line(linetype=1,color=\"black\",size=3),\n",
    "      legend.title = element_text(size=35,face='bold'),\n",
    "      legend.position = 'none')\n",
    "dev.off()"
   ]
  },
  {
   "cell_type": "markdown",
   "metadata": {},
   "source": [
    "# 3 clusters in 33D"
   ]
  },
  {
   "cell_type": "code",
   "execution_count": 34,
   "metadata": {
    "vscode": {
     "languageId": "r"
    }
   },
   "outputs": [],
   "source": [
    "Public = c(Transactional,Power)\n",
    "Private = c(Familial,Romantic,\n",
    " 'Between childhood friends','Groom and Groomsman','Between friends',\n",
    " 'Between companions',#'Between sorority sisters',\n",
    " 'Between cohabitants',#'Between fraternity brothers',#'Between roommates',\n",
    " 'Between pen-friends','Between Facebook Friends','Between Close Friends',\n",
    " 'Bride and Bridesmaid','Between a person and their family friends',\n",
    " 'Between playmates','Between confidants')"
   ]
  },
  {
   "cell_type": "code",
   "execution_count": 35,
   "metadata": {
    "vscode": {
     "languageId": "r"
    }
   },
   "outputs": [
    {
     "data": {
      "text/html": [
       "0.727669575007036"
      ],
      "text/latex": [
       "0.727669575007036"
      ],
      "text/markdown": [
       "0.727669575007036"
      ],
      "text/plain": [
       "[1] 0.7276696"
      ]
     },
     "metadata": {},
     "output_type": "display_data"
    },
    {
     "data": {
      "text/html": [
       "0.673187609604018"
      ],
      "text/latex": [
       "0.673187609604018"
      ],
      "text/markdown": [
       "0.673187609604018"
      ],
      "text/plain": [
       "[1] 0.6731876"
      ]
     },
     "metadata": {},
     "output_type": "display_data"
    },
    {
     "data": {
      "text/html": [
       "0.738893995098039"
      ],
      "text/latex": [
       "0.738893995098039"
      ],
      "text/markdown": [
       "0.738893995098039"
      ],
      "text/plain": [
       "[1] 0.738894"
      ]
     },
     "metadata": {},
     "output_type": "display_data"
    }
   ],
   "source": [
    "Hostile_loocv = apply(rel_loocv_df[,Hostile],1,mean)\n",
    "mean(Hostile_loocv)\n",
    "Public_loocv = apply(rel_loocv_df[,Public],1,mean)\n",
    "mean(Public_loocv)\n",
    "Private_loocv = apply(rel_loocv_df[,Private],1,mean)\n",
    "mean(Private_loocv)"
   ]
  },
  {
   "cell_type": "code",
   "execution_count": 36,
   "metadata": {
    "vscode": {
     "languageId": "r"
    }
   },
   "outputs": [],
   "source": [
    "library(rstatix)\n",
    "library(DescTools) #Fisher Z"
   ]
  },
  {
   "cell_type": "code",
   "execution_count": 37,
   "metadata": {
    "vscode": {
     "languageId": "r"
    }
   },
   "outputs": [
    {
     "data": {
      "text/html": [
       "<table class=\"dataframe\">\n",
       "<caption>A data.frame: 3 × 3</caption>\n",
       "<thead>\n",
       "\t<tr><th></th><th scope=col>Region</th><th scope=col>Cluster</th><th scope=col>loocv</th></tr>\n",
       "\t<tr><th></th><th scope=col>&lt;fct&gt;</th><th scope=col>&lt;fct&gt;</th><th scope=col>&lt;dbl&gt;</th></tr>\n",
       "</thead>\n",
       "<tbody>\n",
       "\t<tr><th scope=row>1</th><td>USA      </td><td>Hostile</td><td>1.0162031</td></tr>\n",
       "\t<tr><th scope=row>2</th><td>UK       </td><td>Hostile</td><td>0.9839546</td></tr>\n",
       "\t<tr><th scope=row>3</th><td>Australia</td><td>Hostile</td><td>1.1280406</td></tr>\n",
       "</tbody>\n",
       "</table>\n"
      ],
      "text/latex": [
       "A data.frame: 3 × 3\n",
       "\\begin{tabular}{r|lll}\n",
       "  & Region & Cluster & loocv\\\\\n",
       "  & <fct> & <fct> & <dbl>\\\\\n",
       "\\hline\n",
       "\t1 & USA       & Hostile & 1.0162031\\\\\n",
       "\t2 & UK        & Hostile & 0.9839546\\\\\n",
       "\t3 & Australia & Hostile & 1.1280406\\\\\n",
       "\\end{tabular}\n"
      ],
      "text/markdown": [
       "\n",
       "A data.frame: 3 × 3\n",
       "\n",
       "| <!--/--> | Region &lt;fct&gt; | Cluster &lt;fct&gt; | loocv &lt;dbl&gt; |\n",
       "|---|---|---|---|\n",
       "| 1 | USA       | Hostile | 1.0162031 |\n",
       "| 2 | UK        | Hostile | 0.9839546 |\n",
       "| 3 | Australia | Hostile | 1.1280406 |\n",
       "\n"
      ],
      "text/plain": [
       "  Region    Cluster loocv    \n",
       "1 USA       Hostile 1.0162031\n",
       "2 UK        Hostile 0.9839546\n",
       "3 Australia Hostile 1.1280406"
      ]
     },
     "metadata": {},
     "output_type": "display_data"
    },
    {
     "data": {
      "text/html": [
       "<table class=\"dataframe\">\n",
       "<caption>A anova_test: 1 × 7</caption>\n",
       "<thead>\n",
       "\t<tr><th></th><th scope=col>Effect</th><th scope=col>DFn</th><th scope=col>DFd</th><th scope=col>F</th><th scope=col>p</th><th scope=col>p&lt;.05</th><th scope=col>ges</th></tr>\n",
       "\t<tr><th></th><th scope=col>&lt;chr&gt;</th><th scope=col>&lt;dbl&gt;</th><th scope=col>&lt;dbl&gt;</th><th scope=col>&lt;dbl&gt;</th><th scope=col>&lt;dbl&gt;</th><th scope=col>&lt;chr&gt;</th><th scope=col>&lt;dbl&gt;</th></tr>\n",
       "</thead>\n",
       "<tbody>\n",
       "\t<tr><th scope=row>1</th><td>Cluster</td><td>2</td><td>36</td><td>41.113</td><td>5.07e-10</td><td>*</td><td>0.094</td></tr>\n",
       "</tbody>\n",
       "</table>\n"
      ],
      "text/latex": [
       "A anova\\_test: 1 × 7\n",
       "\\begin{tabular}{r|lllllll}\n",
       "  & Effect & DFn & DFd & F & p & p<.05 & ges\\\\\n",
       "  & <chr> & <dbl> & <dbl> & <dbl> & <dbl> & <chr> & <dbl>\\\\\n",
       "\\hline\n",
       "\t1 & Cluster & 2 & 36 & 41.113 & 5.07e-10 & * & 0.094\\\\\n",
       "\\end{tabular}\n"
      ],
      "text/markdown": [
       "\n",
       "A anova_test: 1 × 7\n",
       "\n",
       "| <!--/--> | Effect &lt;chr&gt; | DFn &lt;dbl&gt; | DFd &lt;dbl&gt; | F &lt;dbl&gt; | p &lt;dbl&gt; | p&lt;.05 &lt;chr&gt; | ges &lt;dbl&gt; |\n",
       "|---|---|---|---|---|---|---|---|\n",
       "| 1 | Cluster | 2 | 36 | 41.113 | 5.07e-10 | * | 0.094 |\n",
       "\n"
      ],
      "text/plain": [
       "  Effect  DFn DFd F      p        p<.05 ges  \n",
       "1 Cluster 2   36  41.113 5.07e-10 *     0.094"
      ]
     },
     "metadata": {},
     "output_type": "display_data"
    },
    {
     "data": {
      "text/html": [
       "<table class=\"dataframe\">\n",
       "<caption>A rstatix_test: 3 × 10</caption>\n",
       "<thead>\n",
       "\t<tr><th></th><th scope=col>.y.</th><th scope=col>group1</th><th scope=col>group2</th><th scope=col>n1</th><th scope=col>n2</th><th scope=col>statistic</th><th scope=col>df</th><th scope=col>p</th><th scope=col>p.adj</th><th scope=col>p.adj.signif</th></tr>\n",
       "\t<tr><th></th><th scope=col>&lt;chr&gt;</th><th scope=col>&lt;chr&gt;</th><th scope=col>&lt;chr&gt;</th><th scope=col>&lt;int&gt;</th><th scope=col>&lt;int&gt;</th><th scope=col>&lt;dbl&gt;</th><th scope=col>&lt;dbl&gt;</th><th scope=col>&lt;dbl&gt;</th><th scope=col>&lt;dbl&gt;</th><th scope=col>&lt;chr&gt;</th></tr>\n",
       "</thead>\n",
       "<tbody>\n",
       "\t<tr><th scope=row>1</th><td>loocv</td><td>Hostile</td><td>Private</td><td>19</td><td>19</td><td>-2.014915</td><td>18</td><td>5.90e-02</td><td>1.77e-01</td><td>ns  </td></tr>\n",
       "\t<tr><th scope=row>2</th><td>loocv</td><td>Hostile</td><td>Public </td><td>19</td><td>19</td><td> 7.328696</td><td>18</td><td>8.34e-07</td><td>2.50e-06</td><td>****</td></tr>\n",
       "\t<tr><th scope=row>3</th><td>loocv</td><td>Private</td><td>Public </td><td>19</td><td>19</td><td>10.070418</td><td>18</td><td>8.02e-09</td><td>2.41e-08</td><td>****</td></tr>\n",
       "</tbody>\n",
       "</table>\n"
      ],
      "text/latex": [
       "A rstatix\\_test: 3 × 10\n",
       "\\begin{tabular}{r|llllllllll}\n",
       "  & .y. & group1 & group2 & n1 & n2 & statistic & df & p & p.adj & p.adj.signif\\\\\n",
       "  & <chr> & <chr> & <chr> & <int> & <int> & <dbl> & <dbl> & <dbl> & <dbl> & <chr>\\\\\n",
       "\\hline\n",
       "\t1 & loocv & Hostile & Private & 19 & 19 & -2.014915 & 18 & 5.90e-02 & 1.77e-01 & ns  \\\\\n",
       "\t2 & loocv & Hostile & Public  & 19 & 19 &  7.328696 & 18 & 8.34e-07 & 2.50e-06 & ****\\\\\n",
       "\t3 & loocv & Private & Public  & 19 & 19 & 10.070418 & 18 & 8.02e-09 & 2.41e-08 & ****\\\\\n",
       "\\end{tabular}\n"
      ],
      "text/markdown": [
       "\n",
       "A rstatix_test: 3 × 10\n",
       "\n",
       "| <!--/--> | .y. &lt;chr&gt; | group1 &lt;chr&gt; | group2 &lt;chr&gt; | n1 &lt;int&gt; | n2 &lt;int&gt; | statistic &lt;dbl&gt; | df &lt;dbl&gt; | p &lt;dbl&gt; | p.adj &lt;dbl&gt; | p.adj.signif &lt;chr&gt; |\n",
       "|---|---|---|---|---|---|---|---|---|---|---|\n",
       "| 1 | loocv | Hostile | Private | 19 | 19 | -2.014915 | 18 | 5.90e-02 | 1.77e-01 | ns   |\n",
       "| 2 | loocv | Hostile | Public  | 19 | 19 |  7.328696 | 18 | 8.34e-07 | 2.50e-06 | **** |\n",
       "| 3 | loocv | Private | Public  | 19 | 19 | 10.070418 | 18 | 8.02e-09 | 2.41e-08 | **** |\n",
       "\n"
      ],
      "text/plain": [
       "  .y.   group1  group2  n1 n2 statistic df p        p.adj    p.adj.signif\n",
       "1 loocv Hostile Private 19 19 -2.014915 18 5.90e-02 1.77e-01 ns          \n",
       "2 loocv Hostile Public  19 19  7.328696 18 8.34e-07 2.50e-06 ****        \n",
       "3 loocv Private Public  19 19 10.070418 18 8.02e-09 2.41e-08 ****        "
      ]
     },
     "metadata": {},
     "output_type": "display_data"
    }
   ],
   "source": [
    "hpp_loocv = cbind(Hostile_loocv,Public_loocv,Private_loocv)\n",
    "hpp_loocv = data.frame(hpp_loocv)\n",
    "colnames(hpp_loocv) = c('Hostile','Public','Private')\n",
    "hpp_loocv_plot <- hpp_loocv %>% mutate(\"Region\" = rownames(hpp_loocv)) %>%\n",
    "  gather(key = \"Cluster\", value = \"loocv\", Hostile, Private, Public) %>%\n",
    "  convert_as_factor(Region, Cluster)\n",
    "\n",
    "hpp_loocv = FisherZ(hpp_loocv)\n",
    "hpp_loocv <- hpp_loocv %>% mutate(\"Region\" = rownames(hpp_loocv)) %>%\n",
    "  gather(key = \"Cluster\", value = \"loocv\", Hostile, Private, Public) %>%\n",
    "  convert_as_factor(Region, Cluster)\n",
    "head(hpp_loocv, 3)\n",
    "\n",
    "res.aov = anova_test(\n",
    "    data = hpp_loocv,dv = loocv, wid = Region,\n",
    "    within = Cluster)\n",
    "get_anova_table(res.aov)\n",
    "\n",
    "# pairwise comparisons\n",
    "pwc <- hpp_loocv %>%\n",
    "  pairwise_t_test(\n",
    "    loocv ~ Cluster, paired = TRUE,\n",
    "    p.adjust.method = \"bonferroni\"\n",
    "    )\n",
    "pwc"
   ]
  },
  {
   "cell_type": "code",
   "execution_count": 38,
   "metadata": {
    "vscode": {
     "languageId": "r"
    }
   },
   "outputs": [
    {
     "data": {
      "text/html": [
       "<strong>png:</strong> 2"
      ],
      "text/latex": [
       "\\textbf{png:} 2"
      ],
      "text/markdown": [
       "**png:** 2"
      ],
      "text/plain": [
       "png \n",
       "  2 "
      ]
     },
     "metadata": {},
     "output_type": "display_data"
    },
    {
     "data": {
      "image/png": "[encoded data removed]",
      "text/plain": [
       "plot without title"
      ]
     },
     "metadata": {
      "image/png": {
       "height": 720,
       "width": 840
      }
     },
     "output_type": "display_data"
    }
   ],
   "source": [
    "options(repr.plot.width=14, repr.plot.height=12)\n",
    "ggviolin(hpp_loocv_plot, x=\"Cluster\", y=\"loocv\", fill = \"Cluster\",\n",
    "         size = 1.2,order = c('Hostile','Public','Private'),\n",
    "  palette = c('#2166AC','#04C879','#B2182B'),  \n",
    "         add = c(\"boxplot\"),\n",
    "         add.params = list(fill = \"white\",size = 1.2))+\n",
    "\n",
    "theme_classic()+\n",
    "theme(#axis.text.x=element_text(size=30,face='bold'),\n",
    "      axis.text.x=element_blank(),\n",
    "      axis.text.y=element_text(size=30,face='bold'),\n",
    "      axis.title.x=element_blank(),\n",
    "      axis.title.y=element_blank(),\n",
    "      axis.line.x=element_line(linetype=1,color=\"black\",size=3),\n",
    "      axis.line.y=element_line(linetype=1,color=\"black\",size=3),\n",
    "      legend.title = element_text(size=35,face='bold'),\n",
    "      legend.position = 'none')\n",
    "\n",
    "png(\"../output_graph/LOOCV_ClustersIn33D.png\", bg=\"transparent\",\n",
    "    family = 'sans',units='in',width=14,height=12,res=300)\n",
    "ggviolin(hpp_loocv_plot, x=\"Cluster\", y=\"loocv\", fill = \"Cluster\",\n",
    "         size = 1.2,order = c('Hostile','Public','Private'),\n",
    "  palette = c('#2166AC','#04C879','#B2182B'),  \n",
    "         add = c(\"boxplot\"),\n",
    "         add.params = list(fill = \"white\",size = 1.2))+\n",
    "\n",
    "theme_classic()+\n",
    "theme(axis.text=element_blank(),\n",
    "      axis.title.x=element_blank(),\n",
    "      axis.title.y=element_blank(),\n",
    "      axis.line.x=element_line(linetype=1,color=\"black\",size=3),\n",
    "      axis.line.y=element_line(linetype=1,color=\"black\",size=3),\n",
    "      legend.title = element_text(size=35,face='bold'),\n",
    "      legend.position = 'none')\n",
    "dev.off()"
   ]
  }
 ],
 "metadata": {
  "kernelspec": {
   "display_name": "R",
   "language": "R",
   "name": "ir"
  },
  "language_info": {
   "codemirror_mode": "r",
   "file_extension": ".r",
   "mimetype": "text/x-r-source",
   "name": "R",
   "pygments_lexer": "r",
   "version": "4.1.2"
  },
  "latex_envs": {
   "LaTeX_envs_menu_present": true,
   "autoclose": false,
   "autocomplete": true,
   "bibliofile": "biblio.bib",
   "cite_by": "apalike",
   "current_citInitial": 1,
   "eqLabelWithNumbers": true,
   "eqNumInitial": 1,
   "hotkeys": {
    "equation": "Ctrl-E",
    "itemize": "Ctrl-I"
   },
   "labels_anchors": false,
   "latex_user_defs": false,
   "report_style_numbering": false,
   "user_envs_cfg": false
  },
  "toc": {
   "base_numbering": 1,
   "nav_menu": {},
   "number_sections": true,
   "sideBar": true,
   "skip_h1_title": false,
   "title_cell": "Table of Contents",
   "title_sidebar": "Contents",
   "toc_cell": false,
   "toc_position": {
    "height": "328.266px",
    "left": "549px",
    "top": "54px",
    "width": "338.516px"
   },
   "toc_section_display": true,
   "toc_window_display": true
  },
  "varInspector": {
   "cols": {
    "lenName": 16,
    "lenType": 16,
    "lenVar": 40
   },
   "kernels_config": {
    "python": {
     "delete_cmd_postfix": "",
     "delete_cmd_prefix": "del ",
     "library": "var_list.py",
     "varRefreshCmd": "print(var_dic_list())"
    },
    "r": {
     "delete_cmd_postfix": ") ",
     "delete_cmd_prefix": "rm(",
     "library": "var_list.r",
     "varRefreshCmd": "cat(var_dic_list()) "
    }
   },
   "types_to_exclude": [
    "module",
    "function",
    "builtin_function_or_method",
    "instance",
    "_Feature"
   ],
   "window_display": false
  }
 },
 "nbformat": 4,
 "nbformat_minor": 5
}
