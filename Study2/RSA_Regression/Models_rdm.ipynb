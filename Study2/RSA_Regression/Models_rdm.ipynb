{
 "cells": [
  {
   "cell_type": "markdown",
   "id": "0433461c",
   "metadata": {
    "toc": true
   },
   "source": [
    "<h1>Table of Contents<span class=\"tocSkip\"></span></h1>\n",
    "<div class=\"toc\"><ul class=\"toc-item\"><li><span><a href=\"#Full-feature-model\" data-toc-modified-id=\"Full-feature-model-1\"><span class=\"toc-item-num\">1&nbsp;&nbsp;</span>Full-feature model</a></span></li><li><span><a href=\"#Dimensional\" data-toc-modified-id=\"Dimensional-2\"><span class=\"toc-item-num\">2&nbsp;&nbsp;</span>Dimensional</a></span><ul class=\"toc-item\"><li><span><a href=\"#FAVEE\" data-toc-modified-id=\"FAVEE-2.1\"><span class=\"toc-item-num\">2.1&nbsp;&nbsp;</span>FAVEE</a></span></li><li><span><a href=\"#Formality\" data-toc-modified-id=\"Formality-2.2\"><span class=\"toc-item-num\">2.2&nbsp;&nbsp;</span>Formality</a></span></li><li><span><a href=\"#Activeness\" data-toc-modified-id=\"Activeness-2.3\"><span class=\"toc-item-num\">2.3&nbsp;&nbsp;</span>Activeness</a></span></li><li><span><a href=\"#Valence\" data-toc-modified-id=\"Valence-2.4\"><span class=\"toc-item-num\">2.4&nbsp;&nbsp;</span>Valence</a></span></li><li><span><a href=\"#Exchange\" data-toc-modified-id=\"Exchange-2.5\"><span class=\"toc-item-num\">2.5&nbsp;&nbsp;</span>Exchange</a></span></li><li><span><a href=\"#Equality\" data-toc-modified-id=\"Equality-2.6\"><span class=\"toc-item-num\">2.6&nbsp;&nbsp;</span>Equality</a></span></li></ul></li><li><span><a href=\"#Categorical(classification)\" data-toc-modified-id=\"Categorical(classification)-3\"><span class=\"toc-item-num\">3&nbsp;&nbsp;</span>Categorical(classification)</a></span><ul class=\"toc-item\"><li><span><a href=\"#HPP\" data-toc-modified-id=\"HPP-3.1\"><span class=\"toc-item-num\">3.1&nbsp;&nbsp;</span>HPP</a></span></li><li><span><a href=\"#Hostile\" data-toc-modified-id=\"Hostile-3.2\"><span class=\"toc-item-num\">3.2&nbsp;&nbsp;</span>Hostile</a></span></li><li><span><a href=\"#Public\" data-toc-modified-id=\"Public-3.3\"><span class=\"toc-item-num\">3.3&nbsp;&nbsp;</span>Public</a></span></li><li><span><a href=\"#Private\" data-toc-modified-id=\"Private-3.4\"><span class=\"toc-item-num\">3.4&nbsp;&nbsp;</span>Private</a></span></li></ul></li></ul></div>"
   ]
  },
  {
   "cell_type": "code",
   "execution_count": 2,
   "id": "cf153305",
   "metadata": {
    "ExecuteTime": {
     "end_time": "2022-12-21T14:36:46.133816Z",
     "start_time": "2022-12-21T14:36:44.963Z"
    },
    "vscode": {
     "languageId": "r"
    }
   },
   "outputs": [],
   "source": [
    "options (warn = -1)\n",
    "library(openxlsx)\n",
    "library(tidyverse)\n",
    "library(reshape)\n",
    "library(mgsub) # mapping\n",
    "\n",
    "library(ggplot2)\n",
    "library(ggpubr)\n",
    "library(RColorBrewer)\n",
    "library(corrplot)\n",
    "library(corrr)"
   ]
  },
  {
   "cell_type": "code",
   "execution_count": 3,
   "id": "b35fa9d1",
   "metadata": {
    "ExecuteTime": {
     "end_time": "2022-12-21T14:36:46.174371Z",
     "start_time": "2022-12-21T14:36:44.963Z"
    },
    "vscode": {
     "languageId": "r"
    }
   },
   "outputs": [],
   "source": [
    "# Organize relationship score\n",
    "regions = c(\n",
    "    # English\n",
    "    'USA','UK','Australia','South Africa',\n",
    "    # Germany\n",
    "    'Germany',\n",
    "    # Japanese\n",
    "    'Japan',\n",
    "    # Hebrew\n",
    "    'Israel',\n",
    "    # Chinese\n",
    "    'CHN','HK(region)',\n",
    "\n",
    "    # French\n",
    "    'France',\n",
    "    # Spanish\n",
    "    'Spain','Mexico','Chile',\n",
    "    # Portuguese\n",
    "    'Portugal','Brazil',\n",
    "    # Russian\n",
    "    'Russia',\n",
    "    # Arabic\n",
    "    'Egypt','Qatar',\n",
    "    'India')"
   ]
  },
  {
   "cell_type": "markdown",
   "id": "da4638b0",
   "metadata": {},
   "source": [
    "# Full-feature model"
   ]
  },
  {
   "cell_type": "code",
   "execution_count": 4,
   "id": "35ec6c80",
   "metadata": {
    "ExecuteTime": {
     "end_time": "2022-12-21T14:36:47.063215Z",
     "start_time": "2022-12-21T14:36:45.024Z"
    },
    "vscode": {
     "languageId": "r"
    }
   },
   "outputs": [],
   "source": [
    "file_path = '../DataClean_FAVEE_HPP/output_data/cleaning_results/'\n",
    "\n",
    "raw_data_list = list()\n",
    "for (region in dir(file_path)[-which(dir(file_path)=='ReadMe.txt')]){\n",
    "    file = paste(file_path,region,sep='')\n",
    "    file = paste(paste(file,'/',sep=''),region,sep='')\n",
    "    file = paste(file,'_dim_rel_scaled.csv',sep='')\n",
    "    raw_df = read.csv(file,row.names=1)\n",
    "    \n",
    "    region = gsub('HK','HK(region)',region) \n",
    "    region = gsub('South_africa','South Africa',region)\n",
    "    raw_data_list[[region]] = raw_df}\n",
    "\n",
    "rdm_list = list()\n",
    "for (region in regions){\n",
    "    region_raw_data = raw_data_list[[region]]\n",
    "    rdm_list[[region]] = c(dist(region_raw_data,\n",
    "                             method = 'euclidean'))}\n",
    "\n",
    "combine_rdm = cbind(rdm_list[[1]],rdm_list[[2]])\n",
    "# combine all regions' results\n",
    "for (region in regions[3:length(regions)]){\n",
    "    combine_rdm = cbind(combine_rdm,rdm_list[[region]])}\n",
    "colnames(combine_rdm) = regions\n",
    "\n",
    "# caculate correlation between regions\n",
    "combine_rdm.cor = cor(combine_rdm, method = 'spearman')\n",
    "regions_label = colnames(combine_rdm.cor)\n",
    "\n",
    "regions_selected = rownames(combine_rdm.cor)\n",
    "raw33d_dissim_dist = 1-combine_rdm.cor\n",
    "model_rdm = raw33d_dissim_dist[lower.tri(raw33d_dissim_dist,diag = FALSE)]\n",
    "\n",
    "write.csv(combine_rdm.cor,\n",
    "file='output_data/models_rdm/full_feature/raw33d_cor.csv')\n",
    "write.csv(combine_rdm,\n",
    "file='output_data/models_rdm/full_feature/raw33d_dissim_array.csv')\n",
    "write.csv(raw33d_dissim_dist,\n",
    "file='output_data/models_rdm/full_feature/raw33d_dissim_dist.csv')"
   ]
  },
  {
   "cell_type": "markdown",
   "id": "f0eaabcf",
   "metadata": {},
   "source": [
    "# Dimensional"
   ]
  },
  {
   "cell_type": "markdown",
   "id": "9f6b0c08",
   "metadata": {},
   "source": [
    "## FAVEE"
   ]
  },
  {
   "cell_type": "code",
   "execution_count": 5,
   "id": "4b624b76",
   "metadata": {
    "ExecuteTime": {
     "end_time": "2022-12-21T14:36:47.788748Z",
     "start_time": "2022-12-21T14:36:45.153Z"
    },
    "vscode": {
     "languageId": "r"
    }
   },
   "outputs": [],
   "source": [
    "file_path = '../DataClean_FAVEE_HPP/output_data/pca_results/'\n",
    "\n",
    "relationship_score_list = list()\n",
    "for (region in dir(file_path)){\n",
    "    file = paste(file_path,region,sep='')\n",
    "    file = paste(paste(file,'/',sep=''),region,sep='')\n",
    "    file = paste(file,'_scores_var_5c_33d.csv',sep='')\n",
    "    favee_df = read.csv(file,row.names=1)\n",
    "    \n",
    "    region = gsub('HK','HK(region)',region) \n",
    "    region = gsub('South_africa','South Africa',region)\n",
    "    relationship_score_list[[region]] = favee_df}\n",
    "\n",
    "rdm_list = list()\n",
    "for (region in regions){\n",
    "    region_model = relationship_score_list[[region]]\n",
    "    rdm_list[[region]] = c(dist(region_model,\n",
    "                             method = 'euclidean'))}\n",
    "\n",
    "combine_rdm = cbind(rdm_list[[1]],rdm_list[[2]])\n",
    "# combine all regions' results\n",
    "for (region in regions[3:length(regions)]){\n",
    "    combine_rdm = cbind(combine_rdm,rdm_list[[region]])}\n",
    "colnames(combine_rdm) = regions\n",
    "\n",
    "# caculate correlation between regions\n",
    "combine_rdm.cor = cor(combine_rdm, method = 'spearman')\n",
    "regions_label = colnames(combine_rdm.cor)\n",
    "\n",
    "regions_selected = rownames(combine_rdm.cor)\n",
    "favee_dissim_dist = 1-combine_rdm.cor\n",
    "model_rdm = favee_dissim_dist[lower.tri(favee_dissim_dist,diag = FALSE)]\n",
    "\n",
    "write.csv(combine_rdm.cor,\n",
    "file='output_data/models_rdm/dimensional/favee_cor.csv')\n",
    "write.csv(combine_rdm,\n",
    "file='output_data/models_rdm/dimensional/favee_dissim_array.csv')\n",
    "write.csv(favee_dissim_dist,\n",
    "file='output_data/models_rdm/dimensional/favee_dissim_dist.csv')"
   ]
  },
  {
   "cell_type": "markdown",
   "id": "9b076138",
   "metadata": {},
   "source": [
    "assign labels to dimensions"
   ]
  },
  {
   "cell_type": "code",
   "execution_count": 6,
   "id": "e6696a06",
   "metadata": {
    "ExecuteTime": {
     "end_time": "2022-12-21T14:36:47.900161Z",
     "start_time": "2022-12-21T14:36:45.222Z"
    },
    "vscode": {
     "languageId": "r"
    }
   },
   "outputs": [
    {
     "name": "stdout",
     "output_type": "stream",
     "text": [
      "[1] \"USA\"\n",
      "[1] -1  1 -1  1  1\n",
      "[1] \"UK\"\n",
      "[1]  1 -1 -1 -1  1\n",
      "[1] \"Australia\"\n",
      "[1]  1  1 -1  1  1\n",
      "[1] \"South Africa\"\n",
      "[1] -1  1  1 -1 -1\n",
      "[1] \"Germany\"\n",
      "[1]  1  1 -1 -1  1\n",
      "[1] \"Japan\"\n",
      "[1] -1  1  1 -1  1\n",
      "[1] \"Israel\"\n",
      "[1] -1  1 -1 -1  1\n",
      "[1] \"CHN\"\n",
      "[1] -1  1  1  1 -1\n",
      "[1] \"HK(region)\"\n",
      "[1] -1  1  1  1  1\n",
      "[1] \"France\"\n",
      "[1]  1 -1 -1  1  1\n",
      "[1] \"Spain\"\n",
      "[1] -1  1 -1  1  1\n",
      "[1] \"Mexico\"\n",
      "[1] -1  1  1  1 -1\n",
      "[1] \"Chile\"\n",
      "[1] 1 1 1 1 1\n",
      "[1] \"Portugal\"\n",
      "[1]  1  1  1 -1 -1\n",
      "[1] \"Brazil\"\n",
      "[1] -1  1  1 -1 -1\n",
      "[1] \"Russia\"\n",
      "[1] -1 -1 -1 -1 -1\n",
      "[1] \"Egypt\"\n",
      "[1] -1  1 -1 -1 -1\n",
      "[1] \"Qatar\"\n",
      "[1] -1  1  1  1 -1\n",
      "[1] \"India\"\n",
      "[1]  1  1 -1 -1  1\n"
     ]
    }
   ],
   "source": [
    "# summarise model labels\n",
    "model_label_df = read.xlsx('../DataClean_FAVEE_HPP/input_data/dimensions_check.xlsx',\n",
    "                           sheet='Model_33d_5c')\n",
    "model_label_df = rename(model_label_df,c('South.Africa'='South Africa'))\n",
    "model_label_df = model_label_df[1:5,regions]\n",
    "# transform dataframe into dictionary(list)\n",
    "model_label_list = as.list(model_label_df)\n",
    "\n",
    "# add model labal to raw models\n",
    "relationship_score_name_list = list()\n",
    "for (region in names(model_label_list)){\n",
    "    # grab the model labels\n",
    "    model_label = model_label_list[[region]]\n",
    "    reverse = rep(1,5)\n",
    "    col_numbers = seq(1,5)\n",
    "    \n",
    "    count = 1\n",
    "    for (label in model_label){\n",
    "        # label of one dimension\n",
    "        temp = strsplit(label,'(',fixed = TRUE)[[1]]\n",
    "        model_label[count] = temp[1]\n",
    "        \n",
    "        if (!is.na(temp[2])){\n",
    "            # whether the dimension required to be reversed or not\n",
    "            reverse[count] = -1\n",
    "        }\n",
    "        \n",
    "        count = count + 1\n",
    "    }\n",
    "    region_df = relationship_score_list[[region]]\n",
    "    colnames(region_df) = model_label\n",
    "    # reverse the column\n",
    "    for (col in col_numbers){region_df[col] = region_df[col]*reverse[col]}\n",
    "    relationship_score_name_list[[region]] = region_df\n",
    "    \n",
    "    print(region)\n",
    "    print(reverse)\n",
    "}"
   ]
  },
  {
   "cell_type": "markdown",
   "id": "8ac2e04f",
   "metadata": {},
   "source": [
    "## Formality"
   ]
  },
  {
   "cell_type": "code",
   "execution_count": 7,
   "id": "934026cc",
   "metadata": {
    "ExecuteTime": {
     "end_time": "2022-12-21T14:36:48.607672Z",
     "start_time": "2022-12-21T14:36:45.280Z"
    },
    "vscode": {
     "languageId": "r"
    }
   },
   "outputs": [
    {
     "name": "stdout",
     "output_type": "stream",
     "text": [
      "[1] \"The number of regions than contain specific dimension:\"\n",
      "[1] 19\n"
     ]
    }
   ],
   "source": [
    "# caculate distance between 4 or 5 dimensions, and grab the low triangle of rdm\n",
    "rdm_list = list()\n",
    "region_count = 0\n",
    "for (region in regions){\n",
    "    # extract specific dimension\n",
    "    region_df = relationship_score_name_list[[region]]\n",
    "    if (c('Formality') %in% colnames(region_df)){\n",
    "        region_model = dist(region_df[['Formality']],method = 'euclidean')\n",
    "        region_count = region_count + 1\n",
    "        rdm_list[[region]] = c(region_model)\n",
    "    }\n",
    "}\n",
    "print('The number of regions than contain specific dimension:')\n",
    "print(region_count)\n",
    "\n",
    "# combine all regions' results    \n",
    "combine_rdm = cbind(rdm_list[[1]],rdm_list[[2]])\n",
    "for (region in names(rdm_list)[3:region_count]){\n",
    "    combine_rdm = cbind(combine_rdm,rdm_list[[region]])}\n",
    "colnames(combine_rdm) = names(rdm_list)\n",
    "\n",
    "# caculate correlation between regions\n",
    "combine_rdm.cor = cor(combine_rdm, method = 'spearman')\n",
    "\n",
    "# transform correlation between 19 regions into rdm for regression\n",
    "regions_selected = rownames(combine_rdm.cor)\n",
    "dissim_dist = 1-combine_rdm.cor\n",
    "model_rdm = dissim_dist[lower.tri(dissim_dist,diag = FALSE)]\n",
    "\n",
    "write.csv(combine_rdm,\n",
    "file='output_data/models_rdm/dimensional/formality_cor_array.csv')\n",
    "write.csv(dissim_dist,\n",
    "file='output_data/models_rdm/dimensional/formality_dissim_dist.csv')"
   ]
  },
  {
   "cell_type": "markdown",
   "id": "2ace23d2",
   "metadata": {},
   "source": [
    "## Activeness"
   ]
  },
  {
   "cell_type": "code",
   "execution_count": 8,
   "id": "bb350687",
   "metadata": {
    "ExecuteTime": {
     "end_time": "2022-12-21T14:36:49.298557Z",
     "start_time": "2022-12-21T14:36:45.334Z"
    },
    "vscode": {
     "languageId": "r"
    }
   },
   "outputs": [
    {
     "name": "stdout",
     "output_type": "stream",
     "text": [
      "[1] \"The number of regions than contain specific dimension:\"\n",
      "[1] 19\n"
     ]
    }
   ],
   "source": [
    "# caculate distance between 4 or 5 dimensions, and grab the low triangle of rdm\n",
    "rdm_list = list()\n",
    "region_count = 0\n",
    "for (region in regions){\n",
    "    # extract specific dimension\n",
    "    region_df = relationship_score_name_list[[region]]\n",
    "    if (c('Activeness') %in% colnames(region_df)){\n",
    "        region_model = dist(region_df[['Activeness']],method = 'euclidean')\n",
    "        region_count = region_count + 1\n",
    "        rdm_list[[region]] = c(region_model)\n",
    "    }\n",
    "}\n",
    "print('The number of regions than contain specific dimension:')\n",
    "print(region_count)\n",
    "\n",
    "# combine all regions' results    \n",
    "combine_rdm = cbind(rdm_list[[1]],rdm_list[[2]])\n",
    "for (region in names(rdm_list)[3:region_count]){\n",
    "    combine_rdm = cbind(combine_rdm,rdm_list[[region]])}\n",
    "colnames(combine_rdm) = names(rdm_list)\n",
    "\n",
    "# caculate correlation between regions\n",
    "combine_rdm.cor = cor(combine_rdm, method = 'spearman')\n",
    "\n",
    "# transform correlation between 19 regions into rdm for regression\n",
    "regions_selected = rownames(combine_rdm.cor)\n",
    "dissim_dist = 1-combine_rdm.cor\n",
    "model_rdm = dissim_dist[lower.tri(dissim_dist,diag = FALSE)]\n",
    "\n",
    "write.csv(combine_rdm,\n",
    "file='output_data/models_rdm/dimensional/activeness_cor_array.csv')\n",
    "write.csv(dissim_dist,\n",
    "file='output_data/models_rdm/dimensional/activeness_dissim_dist.csv')"
   ]
  },
  {
   "cell_type": "markdown",
   "id": "51dec031",
   "metadata": {},
   "source": [
    "## Valence"
   ]
  },
  {
   "cell_type": "code",
   "execution_count": 9,
   "id": "8a336a95",
   "metadata": {
    "ExecuteTime": {
     "end_time": "2022-12-21T14:36:49.992846Z",
     "start_time": "2022-12-21T14:36:45.398Z"
    },
    "vscode": {
     "languageId": "r"
    }
   },
   "outputs": [
    {
     "name": "stdout",
     "output_type": "stream",
     "text": [
      "[1] \"The number of regions than contain specific dimension:\"\n"
     ]
    },
    {
     "name": "stdout",
     "output_type": "stream",
     "text": [
      "[1] 19\n"
     ]
    }
   ],
   "source": [
    "# caculate distance between 4 or 5 dimensions, and grab the low triangle of rdm\n",
    "rdm_list = list()\n",
    "region_count = 0\n",
    "for (region in regions){\n",
    "    # extract specific dimension\n",
    "    region_df = relationship_score_name_list[[region]]\n",
    "    if (c('Valence') %in% colnames(region_df)){\n",
    "        region_model = dist(region_df[['Valence']],method = 'euclidean')\n",
    "        region_count = region_count + 1\n",
    "        rdm_list[[region]] = c(region_model)\n",
    "    }\n",
    "}\n",
    "print('The number of regions than contain specific dimension:')\n",
    "print(region_count)\n",
    "\n",
    "# combine all regions' results    \n",
    "combine_rdm = cbind(rdm_list[[1]],rdm_list[[2]])\n",
    "for (region in names(rdm_list)[3:region_count]){\n",
    "    combine_rdm = cbind(combine_rdm,rdm_list[[region]])}\n",
    "colnames(combine_rdm) = names(rdm_list)\n",
    "\n",
    "# caculate correlation between regions\n",
    "combine_rdm.cor = cor(combine_rdm, method = 'spearman')\n",
    "\n",
    "# transform correlation between 19 regions into rdm for regression\n",
    "regions_selected = rownames(combine_rdm.cor)\n",
    "dissim_dist = 1-combine_rdm.cor\n",
    "model_rdm = dissim_dist[lower.tri(dissim_dist,diag = FALSE)]\n",
    "\n",
    "write.csv(combine_rdm,\n",
    "file='output_data/models_rdm/dimensional/valence_cor_array.csv')\n",
    "write.csv(dissim_dist,\n",
    "file='output_data/models_rdm/dimensional/valence_dissim_dist.csv')"
   ]
  },
  {
   "cell_type": "markdown",
   "id": "40a01910",
   "metadata": {},
   "source": [
    "## Exchange"
   ]
  },
  {
   "cell_type": "code",
   "execution_count": 10,
   "id": "091ba597",
   "metadata": {
    "ExecuteTime": {
     "end_time": "2022-12-21T14:36:50.723402Z",
     "start_time": "2022-12-21T14:36:45.457Z"
    },
    "vscode": {
     "languageId": "r"
    }
   },
   "outputs": [
    {
     "name": "stdout",
     "output_type": "stream",
     "text": [
      "[1] \"The number of regions than contain specific dimension:\"\n",
      "[1] 19\n"
     ]
    }
   ],
   "source": [
    "# caculate distance between 4 or 5 dimensions, and grab the low triangle of rdm\n",
    "rdm_list = list()\n",
    "region_count = 0\n",
    "for (region in regions){\n",
    "    # extract specific dimension\n",
    "    region_df = relationship_score_name_list[[region]]\n",
    "    if (c('Exchange') %in% colnames(region_df)){\n",
    "        region_model = dist(region_df[['Exchange']],method = 'euclidean')\n",
    "        region_count = region_count + 1\n",
    "        rdm_list[[region]] = c(region_model)\n",
    "    }\n",
    "}\n",
    "print('The number of regions than contain specific dimension:')\n",
    "print(region_count)\n",
    "\n",
    "# combine all regions' results    \n",
    "combine_rdm = cbind(rdm_list[[1]],rdm_list[[2]])\n",
    "for (region in names(rdm_list)[3:region_count]){\n",
    "    combine_rdm = cbind(combine_rdm,rdm_list[[region]])}\n",
    "colnames(combine_rdm) = names(rdm_list)\n",
    "\n",
    "# caculate correlation between regions\n",
    "combine_rdm.cor = cor(combine_rdm, method = 'spearman')\n",
    "\n",
    "# transform correlation between 19 regions into rdm for regression\n",
    "regions_selected = rownames(combine_rdm.cor)\n",
    "dissim_dist = 1-combine_rdm.cor\n",
    "model_rdm = dissim_dist[lower.tri(dissim_dist,diag = FALSE)]\n",
    "\n",
    "write.csv(combine_rdm,\n",
    "file='output_data/models_rdm/dimensional/exchange_cor_array.csv')\n",
    "write.csv(dissim_dist,\n",
    "file='output_data/models_rdm/dimensional/exchange_dissim_dist.csv')"
   ]
  },
  {
   "cell_type": "markdown",
   "id": "2e289d9e",
   "metadata": {},
   "source": [
    "## Equality"
   ]
  },
  {
   "cell_type": "code",
   "execution_count": 11,
   "id": "403179bc",
   "metadata": {
    "ExecuteTime": {
     "end_time": "2022-12-21T14:36:51.423187Z",
     "start_time": "2022-12-21T14:36:45.518Z"
    },
    "vscode": {
     "languageId": "r"
    }
   },
   "outputs": [
    {
     "name": "stdout",
     "output_type": "stream",
     "text": [
      "[1] \"The number of regions than contain specific dimension:\"\n"
     ]
    },
    {
     "name": "stdout",
     "output_type": "stream",
     "text": [
      "[1] 19\n"
     ]
    }
   ],
   "source": [
    "# caculate distance between 4 or 5 dimensions, and grab the low triangle of rdm\n",
    "rdm_list = list()\n",
    "region_count = 0\n",
    "for (region in regions){\n",
    "    # extract specific dimension\n",
    "    region_df = relationship_score_name_list[[region]]\n",
    "    # identity 'Socioemotional' with 'Equality'\n",
    "    model_label = colnames(region_df)\n",
    "    model_label = gsub('Socioemotional','Equality',model_label)\n",
    "    colnames(region_df) = model_label\n",
    "    if (c('Equality') %in% colnames(region_df)){\n",
    "        region_model = dist(region_df[['Equality']],method = 'euclidean')\n",
    "        region_count = region_count + 1\n",
    "        rdm_list[[region]] = c(region_model)\n",
    "    }\n",
    "}\n",
    "print('The number of regions than contain specific dimension:')\n",
    "print(region_count)\n",
    "\n",
    "# combine all regions' results    \n",
    "combine_rdm = cbind(rdm_list[[1]],rdm_list[[2]])\n",
    "for (region in names(rdm_list)[3:region_count]){\n",
    "    combine_rdm = cbind(combine_rdm,rdm_list[[region]])}\n",
    "colnames(combine_rdm) = names(rdm_list)\n",
    "\n",
    "# caculate correlation between regions\n",
    "combine_rdm.cor = cor(combine_rdm, method = 'spearman')\n",
    "\n",
    "# transform correlation between 19 regions into rdm for regression\n",
    "regions_selected = rownames(combine_rdm.cor)\n",
    "dissim_dist = 1-combine_rdm.cor\n",
    "model_rdm = dissim_dist[lower.tri(dissim_dist,diag = FALSE)]\n",
    "\n",
    "write.csv(combine_rdm,\n",
    "file='output_data/models_rdm/dimensional/equality_cor_array.csv')\n",
    "write.csv(dissim_dist,\n",
    "file='output_data/models_rdm/dimensional/equality_dissim_dist.csv')"
   ]
  },
  {
   "cell_type": "markdown",
   "id": "7e0a2bfe",
   "metadata": {},
   "source": [
    "# Categorical(classification)"
   ]
  },
  {
   "cell_type": "markdown",
   "id": "bcafb94b",
   "metadata": {},
   "source": [
    "## HPP"
   ]
  },
  {
   "cell_type": "code",
   "execution_count": 13,
   "id": "55f8c94d",
   "metadata": {
    "ExecuteTime": {
     "end_time": "2022-12-21T14:36:52.139889Z",
     "start_time": "2022-12-21T14:36:45.650Z"
    },
    "vscode": {
     "languageId": "r"
    }
   },
   "outputs": [],
   "source": [
    "file_path = '../DataClean_FAVEE_HPP/output_data/categorical_model/rdm_results/'\n",
    "\n",
    "rdm_list_temp = list()\n",
    "for (file in dir(file_path)){\n",
    "    hpp_rdm_df = read.csv(paste(file_path,file,sep=''),row.names=1)\n",
    "    hpp_rdm_array = hpp_rdm_df[lower.tri(hpp_rdm_df,diag = FALSE)]\n",
    "\n",
    "    region = strsplit(file,'_raw_3k.csv')[[1]] %>% str_replace('HK','HK(region)') %>%\n",
    "                                         str_replace('South_africa','South Africa')\n",
    "    rdm_list_temp[[region]] = hpp_rdm_array}\n",
    "\n",
    "rdm_list = list()\n",
    "for (region in regions){\n",
    "    rdm_list[[region]] = rdm_list_temp[[region]]\n",
    "}\n",
    "\n",
    "# combine all regions' results\n",
    "combine_rdm = cbind(rdm_list[[1]],rdm_list[[2]])\n",
    "regions = names(rdm_list)\n",
    "for (region in regions[3:length(regions)]){\n",
    "    combine_rdm = cbind(combine_rdm,rdm_list[[region]])}\n",
    "colnames(combine_rdm) = regions\n",
    "\n",
    "# caculate correlation between regions\n",
    "combine_rdm.cor = cor(combine_rdm, method = 'spearman')\n",
    "\n",
    "# transform correlation between 19 regions into rdm for regression\n",
    "regions_selected = rownames(combine_rdm.cor)\n",
    "hpp_dissim_dist = 1-combine_rdm.cor\n",
    "model_rdm = hpp_dissim_dist[lower.tri(hpp_dissim_dist,diag = FALSE)]\n",
    "\n",
    "write.csv(combine_rdm.cor,\n",
    "file='output_data/models_rdm/categorical/hpp_cor.csv')\n",
    "write.csv(combine_rdm,\n",
    "file='output_data/models_rdm/categorical/hpp_cor_array.csv')\n",
    "write.csv(hpp_dissim_dist,\n",
    "file='output_data/models_rdm/categorical/hpp_dissim_dist.csv')"
   ]
  },
  {
   "cell_type": "markdown",
   "id": "7700d2a6",
   "metadata": {},
   "source": [
    "## Hostile"
   ]
  },
  {
   "cell_type": "code",
   "execution_count": 15,
   "id": "d4e923b3",
   "metadata": {
    "ExecuteTime": {
     "end_time": "2022-12-21T14:36:52.594410Z",
     "start_time": "2022-12-21T14:36:45.726Z"
    },
    "vscode": {
     "languageId": "r"
    }
   },
   "outputs": [],
   "source": [
    "mapping = read.xlsx('../DataClean_FAVEE_HPP/output_data/categorical_model/categorical_results.xlsx',\n",
    "                   sheet='raw33d_dissim')\n",
    "# each region model\n",
    "cluster_results = list()\n",
    "for (region in regions){\n",
    "    region = gsub('HK(region)','HK',region,fixed = TRUE)\n",
    "    region = gsub('South Africa','South_africa',region)\n",
    "    file_path = '../DataClean_FAVEE_HPP/output_data/categorical_model/raw_dissim/'\n",
    "    dissim_cluster_file = paste(region,'_raw_3k.csv',sep='')\n",
    "    dissim_cluster_path = paste(file_path,dissim_cluster_file,sep='')\n",
    "    region_model = read.csv(dissim_cluster_path,row.names=1)['cl_k3']\n",
    "    region_model$'cluster' = mgsub(region_model$'cl_k3',\n",
    "                                   mapping$'cluster_id',mapping[[region]])\n",
    "    # relationships attributed to specific cluster in region x\n",
    "    region_cluster = rownames(region_model[region_model$'cluster'=='Hostile',])\n",
    "    region = gsub('HK','HK(region)',region,fixed = TRUE)\n",
    "    region = gsub('South_africa','South Africa',region)\n",
    "    cluster_results[[region]] = region_cluster\n",
    "}"
   ]
  },
  {
   "cell_type": "code",
   "execution_count": 16,
   "id": "c57b7c3d",
   "metadata": {
    "ExecuteTime": {
     "end_time": "2022-12-21T14:36:52.638132Z",
     "start_time": "2022-12-21T14:36:45.728Z"
    },
    "vscode": {
     "languageId": "r"
    }
   },
   "outputs": [],
   "source": [
    "# caculate similar between regions using Jaccard index, and grab the low triangle of rdm\n",
    "combine_rdm.cor = data.frame(matrix(NA,19,19))\n",
    "colnames(combine_rdm.cor) = regions\n",
    "rownames(combine_rdm.cor) = regions\n",
    "\n",
    "for (region_x in regions){\n",
    "    region_x_cluster = cluster_results[[region_x]]\n",
    "    for (region_y in regions){\n",
    "        region_y_cluster = cluster_results[[region_y]]\n",
    "        # Jacard index\n",
    "        union_num = length(union(region_x_cluster,region_y_cluster))\n",
    "        intersect_num = length(intersect(region_x_cluster,region_y_cluster))\n",
    "        combine_rdm.cor[region_x,region_y] = intersect_num/union_num   \n",
    "    }\n",
    "}\n",
    "\n",
    "# transform correlation between 19 regions into rdm for regression\n",
    "regions_selected = rownames(combine_rdm.cor)\n",
    "dissim_dist = 1-combine_rdm.cor\n",
    "model_rdm = dissim_dist[lower.tri(dissim_dist, diag = FALSE)]\n",
    "\n",
    "write.csv(dissim_dist,\n",
    "file='output_data/models_rdm/categorical/hostile_dissim_dist.csv')"
   ]
  },
  {
   "cell_type": "markdown",
   "id": "5d7da0b6",
   "metadata": {},
   "source": [
    "## Public"
   ]
  },
  {
   "cell_type": "code",
   "execution_count": 17,
   "id": "7f2e6d7b",
   "metadata": {
    "ExecuteTime": {
     "end_time": "2022-12-21T14:36:53.047436Z",
     "start_time": "2022-12-21T14:36:45.795Z"
    },
    "vscode": {
     "languageId": "r"
    }
   },
   "outputs": [],
   "source": [
    "# each region model\n",
    "cluster_results = list()\n",
    "for (region in regions){\n",
    "    region = gsub('HK(region)','HK',region,fixed = TRUE)\n",
    "    region = gsub('South Africa','South_africa',region)\n",
    "    file_path = '../DataClean_FAVEE_HPP/output_data/categorical_model/raw_dissim/'\n",
    "    dissim_cluster_file = paste(region,'_raw_3k.csv',sep='')\n",
    "    dissim_cluster_path = paste(file_path,dissim_cluster_file,sep='')\n",
    "    region_model = read.csv(dissim_cluster_path,row.names=1)['cl_k3']\n",
    "    region_model$'cluster' = mgsub(region_model$'cl_k3',\n",
    "                                   mapping$'cluster_id',mapping[[region]])\n",
    "    # relationships attributed to specific cluster in region x\n",
    "    region_cluster = rownames(region_model[region_model$'cluster'=='Public',])\n",
    "    region = gsub('HK','HK(region)',region,fixed = TRUE)\n",
    "    region = gsub('South_africa','South Africa',region)\n",
    "    cluster_results[[region]] = region_cluster\n",
    "}"
   ]
  },
  {
   "cell_type": "code",
   "execution_count": 18,
   "id": "15d29285",
   "metadata": {
    "ExecuteTime": {
     "end_time": "2022-12-21T14:36:53.103449Z",
     "start_time": "2022-12-21T14:36:45.796Z"
    },
    "vscode": {
     "languageId": "r"
    }
   },
   "outputs": [],
   "source": [
    "# caculate similar between regions using Jaccard index, and grab the low triangle of rdm\n",
    "combine_rdm.cor = data.frame(matrix(NA,19,19))\n",
    "colnames(combine_rdm.cor) = regions\n",
    "rownames(combine_rdm.cor) = regions\n",
    "\n",
    "for (region_x in regions){\n",
    "    region_x_cluster = cluster_results[[region_x]]\n",
    "    for (region_y in regions){\n",
    "        region_y_cluster = cluster_results[[region_y]]\n",
    "        # Jacard index\n",
    "        union_num = length(union(region_x_cluster,region_y_cluster))\n",
    "        intersect_num = length(intersect(region_x_cluster,region_y_cluster))\n",
    "        combine_rdm.cor[region_x,region_y] = intersect_num/union_num   \n",
    "    }\n",
    "}\n",
    "\n",
    "# transform correlation between 19 regions into rdm for regression\n",
    "regions_selected = rownames(combine_rdm.cor)\n",
    "dissim_dist = 1-combine_rdm.cor\n",
    "model_rdm = dissim_dist[lower.tri(dissim_dist, diag = FALSE)]\n",
    "\n",
    "write.csv(dissim_dist,\n",
    "file='output_data/models_rdm/categorical/public_dissim_dist.csv')"
   ]
  },
  {
   "cell_type": "markdown",
   "id": "42713c50",
   "metadata": {},
   "source": [
    "## Private"
   ]
  },
  {
   "cell_type": "code",
   "execution_count": 20,
   "id": "94950e6c",
   "metadata": {
    "ExecuteTime": {
     "end_time": "2022-12-21T14:36:53.514101Z",
     "start_time": "2022-12-21T14:36:45.858Z"
    },
    "vscode": {
     "languageId": "r"
    }
   },
   "outputs": [],
   "source": [
    "# each region model\n",
    "cluster_results = list()\n",
    "for (region in regions){\n",
    "    region = gsub('HK(region)','HK',region,fixed = TRUE)\n",
    "    region = gsub('South Africa','South_africa',region)\n",
    "    file_path = '../DataClean_FAVEE_HPP/output_data/categorical_model/raw_dissim/'\n",
    "    dissim_cluster_file = paste(region,'_raw_3k.csv',sep='')\n",
    "    dissim_cluster_path = paste(file_path,dissim_cluster_file,sep='')\n",
    "    region_model = read.csv(dissim_cluster_path,row.names=1)['cl_k3']\n",
    "    region_model$'cluster' = mgsub(region_model$'cl_k3',\n",
    "                                   mapping$'cluster_id',mapping[[region]])\n",
    "    # relationships attributed to specific cluster in region x\n",
    "    region_cluster = rownames(region_model[region_model$'cluster'=='Private',])\n",
    "    region = gsub('HK','HK(region)',region,fixed = TRUE)\n",
    "    region = gsub('South_africa','South Africa',region)\n",
    "    cluster_results[[region]] = region_cluster\n",
    "}"
   ]
  },
  {
   "cell_type": "code",
   "execution_count": 21,
   "id": "f0c21e4b",
   "metadata": {
    "ExecuteTime": {
     "end_time": "2022-12-21T14:36:53.562113Z",
     "start_time": "2022-12-21T14:36:45.859Z"
    },
    "vscode": {
     "languageId": "r"
    }
   },
   "outputs": [],
   "source": [
    "# caculate similar between regions using Jaccard index, and grab the low triangle of rdm\n",
    "combine_rdm.cor = data.frame(matrix(NA,19,19))\n",
    "colnames(combine_rdm.cor) = regions\n",
    "rownames(combine_rdm.cor) = regions\n",
    "\n",
    "for (region_x in regions){\n",
    "    region_x_cluster = cluster_results[[region_x]]\n",
    "    for (region_y in regions){\n",
    "        region_y_cluster = cluster_results[[region_y]]\n",
    "        # Jacard index\n",
    "        union_num = length(union(region_x_cluster,region_y_cluster))\n",
    "        intersect_num = length(intersect(region_x_cluster,region_y_cluster))\n",
    "        combine_rdm.cor[region_x,region_y] = intersect_num/union_num   \n",
    "    }\n",
    "}\n",
    "\n",
    "# transform correlation between 19 regions into rdm for regression\n",
    "regions_selected = rownames(combine_rdm.cor)\n",
    "dissim_dist = 1-combine_rdm.cor\n",
    "model_rdm = dissim_dist[lower.tri(dissim_dist, diag = FALSE)]\n",
    "\n",
    "write.csv(dissim_dist,\n",
    "file='output_data/models_rdm/categorical/private_dissim_dist.csv')"
   ]
  }
 ],
 "metadata": {
  "kernelspec": {
   "display_name": "R",
   "language": "R",
   "name": "ir"
  },
  "language_info": {
   "codemirror_mode": "r",
   "file_extension": ".r",
   "mimetype": "text/x-r-source",
   "name": "R",
   "pygments_lexer": "r",
   "version": "4.1.2"
  },
  "latex_envs": {
   "LaTeX_envs_menu_present": true,
   "autoclose": false,
   "autocomplete": true,
   "bibliofile": "biblio.bib",
   "cite_by": "apalike",
   "current_citInitial": 1,
   "eqLabelWithNumbers": true,
   "eqNumInitial": 1,
   "hotkeys": {
    "equation": "Ctrl-E",
    "itemize": "Ctrl-I"
   },
   "labels_anchors": false,
   "latex_user_defs": false,
   "report_style_numbering": false,
   "user_envs_cfg": false
  },
  "toc": {
   "base_numbering": 1,
   "nav_menu": {},
   "number_sections": true,
   "sideBar": true,
   "skip_h1_title": false,
   "title_cell": "Table of Contents",
   "title_sidebar": "Contents",
   "toc_cell": true,
   "toc_position": {
    "height": "368.25px",
    "left": "526px",
    "top": "115px",
    "width": "381.594px"
   },
   "toc_section_display": true,
   "toc_window_display": true
  },
  "varInspector": {
   "cols": {
    "lenName": 16,
    "lenType": 16,
    "lenVar": 40
   },
   "kernels_config": {
    "python": {
     "delete_cmd_postfix": "",
     "delete_cmd_prefix": "del ",
     "library": "var_list.py",
     "varRefreshCmd": "print(var_dic_list())"
    },
    "r": {
     "delete_cmd_postfix": ") ",
     "delete_cmd_prefix": "rm(",
     "library": "var_list.r",
     "varRefreshCmd": "cat(var_dic_list()) "
    }
   },
   "types_to_exclude": [
    "module",
    "function",
    "builtin_function_or_method",
    "instance",
    "_Feature"
   ],
   "window_display": false
  }
 },
 "nbformat": 4,
 "nbformat_minor": 5
}
