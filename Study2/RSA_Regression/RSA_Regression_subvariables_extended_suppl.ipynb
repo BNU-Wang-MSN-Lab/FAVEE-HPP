{
 "cells": [
  {
   "cell_type": "markdown",
   "id": "7fbf5950",
   "metadata": {
    "toc": true
   },
   "source": [
    "<h1>Table of Contents<span class=\"tocSkip\"></span></h1>\n",
    "<div class=\"toc\"><ul class=\"toc-item\"><li><span><a href=\"#Predictor-variable-rdm\" data-toc-modified-id=\"Predictor-variable-rdm-1\"><span class=\"toc-item-num\">1&nbsp;&nbsp;</span>Predictor variable rdm</a></span></li><li><span><a href=\"#Full-feature-model\" data-toc-modified-id=\"Full-feature-model-2\"><span class=\"toc-item-num\">2&nbsp;&nbsp;</span>Full feature model</a></span><ul class=\"toc-item\"><li><span><a href=\"#regression-coefficient\" data-toc-modified-id=\"regression-coefficient-2.1\"><span class=\"toc-item-num\">2.1&nbsp;&nbsp;</span>regression coefficient</a></span></li><li><span><a href=\"#permutation\" data-toc-modified-id=\"permutation-2.2\"><span class=\"toc-item-num\">2.2&nbsp;&nbsp;</span>permutation</a></span></li></ul></li><li><span><a href=\"#Dimensional-model\" data-toc-modified-id=\"Dimensional-model-3\"><span class=\"toc-item-num\">3&nbsp;&nbsp;</span>Dimensional model</a></span><ul class=\"toc-item\"><li><span><a href=\"#regression-coefficient\" data-toc-modified-id=\"regression-coefficient-3.1\"><span class=\"toc-item-num\">3.1&nbsp;&nbsp;</span>regression coefficient</a></span></li><li><span><a href=\"#permutation\" data-toc-modified-id=\"permutation-3.2\"><span class=\"toc-item-num\">3.2&nbsp;&nbsp;</span>permutation</a></span></li></ul></li><li><span><a href=\"#Categorical-model\" data-toc-modified-id=\"Categorical-model-4\"><span class=\"toc-item-num\">4&nbsp;&nbsp;</span>Categorical model</a></span><ul class=\"toc-item\"><li><span><a href=\"#regression-coefficient\" data-toc-modified-id=\"regression-coefficient-4.1\"><span class=\"toc-item-num\">4.1&nbsp;&nbsp;</span>regression coefficient</a></span></li><li><span><a href=\"#permutation\" data-toc-modified-id=\"permutation-4.2\"><span class=\"toc-item-num\">4.2&nbsp;&nbsp;</span>permutation</a></span></li></ul></li><li><span><a href=\"#Dimensional:-single-dimension\" data-toc-modified-id=\"Dimensional:-single-dimension-5\"><span class=\"toc-item-num\">5&nbsp;&nbsp;</span>Dimensional: single dimension</a></span><ul class=\"toc-item\"><li><span><a href=\"#Formality\" data-toc-modified-id=\"Formality-5.1\"><span class=\"toc-item-num\">5.1&nbsp;&nbsp;</span>Formality</a></span></li><li><span><a href=\"#Activeness\" data-toc-modified-id=\"Activeness-5.2\"><span class=\"toc-item-num\">5.2&nbsp;&nbsp;</span>Activeness</a></span></li><li><span><a href=\"#Valence\" data-toc-modified-id=\"Valence-5.3\"><span class=\"toc-item-num\">5.3&nbsp;&nbsp;</span>Valence</a></span></li><li><span><a href=\"#Exchange\" data-toc-modified-id=\"Exchange-5.4\"><span class=\"toc-item-num\">5.4&nbsp;&nbsp;</span>Exchange</a></span></li><li><span><a href=\"#Equality\" data-toc-modified-id=\"Equality-5.5\"><span class=\"toc-item-num\">5.5&nbsp;&nbsp;</span>Equality</a></span></li></ul></li><li><span><a href=\"#Categorical:-single-category\" data-toc-modified-id=\"Categorical:-single-category-6\"><span class=\"toc-item-num\">6&nbsp;&nbsp;</span>Categorical: single category</a></span><ul class=\"toc-item\"><li><span><a href=\"#Hostile\" data-toc-modified-id=\"Hostile-6.1\"><span class=\"toc-item-num\">6.1&nbsp;&nbsp;</span>Hostile</a></span></li><li><span><a href=\"#Private\" data-toc-modified-id=\"Private-6.2\"><span class=\"toc-item-num\">6.2&nbsp;&nbsp;</span>Private</a></span></li><li><span><a href=\"#Public\" data-toc-modified-id=\"Public-6.3\"><span class=\"toc-item-num\">6.3&nbsp;&nbsp;</span>Public</a></span></li></ul></li><li><span><a href=\"#Plot-RSA-regression-results-in-Supplementary\" data-toc-modified-id=\"Plot-RSA-regression-results-in-Supplementary-7\"><span class=\"toc-item-num\">7&nbsp;&nbsp;</span>Plot RSA regression results in Supplementary</a></span><ul class=\"toc-item\"><li><span><a href=\"#Dimensional\" data-toc-modified-id=\"Dimensional-7.1\"><span class=\"toc-item-num\">7.1&nbsp;&nbsp;</span>Dimensional</a></span></li><li><span><a href=\"#Categorical\" data-toc-modified-id=\"Categorical-7.2\"><span class=\"toc-item-num\">7.2&nbsp;&nbsp;</span>Categorical</a></span></li></ul></li></ul></div>"
   ]
  },
  {
   "cell_type": "code",
   "execution_count": 2,
   "id": "cf153305",
   "metadata": {
    "ExecuteTime": {
     "end_time": "2023-10-29T12:43:14.087271Z",
     "start_time": "2023-10-29T12:43:13.991Z"
    },
    "vscode": {
     "languageId": "r"
    }
   },
   "outputs": [],
   "source": [
    "options(warn=-1)\n",
    "library(openxlsx)\n",
    "library(tidyverse)\n",
    "library(reshape)\n",
    "\n",
    "library(ggplot2)\n",
    "library(RColorBrewer)\n",
    "library(corrplot)\n",
    "library(corrr)"
   ]
  },
  {
   "cell_type": "code",
   "execution_count": 3,
   "id": "951274ff",
   "metadata": {
    "ExecuteTime": {
     "end_time": "2023-10-05T06:12:29.495872Z",
     "start_time": "2023-10-05T06:12:28.613Z"
    },
    "vscode": {
     "languageId": "r"
    }
   },
   "outputs": [],
   "source": [
    "regions_order = c(\n",
    "    # English\n",
    "    'USA','UK','Australia','South Africa',\n",
    "    # Germany\n",
    "    'Germany',\n",
    "    # Japanese\n",
    "    'Japan',\n",
    "    # Hebrew\n",
    "    'Israel',\n",
    "    # Chinese\n",
    "    'CHN','HK(region)',\n",
    "\n",
    "    # French\n",
    "    'France',\n",
    "    # Spanish\n",
    "    'Spain','Mexico','Chile',\n",
    "    # Portuguese\n",
    "    'Portugal','Brazil',\n",
    "    # Russian\n",
    "    'Russia',\n",
    "    # Arabic\n",
    "    'Egypt','Qatar',\n",
    "    'India')\n",
    "\n",
    "fix_region = function(df){\n",
    "    regions = rownames(df)\n",
    "    regions = str_replace(regions,'United States','USA')\n",
    "    regions = str_replace(regions,'United Kingdom','UK')\n",
    "    regions = str_replace(regions,'China','CHN')\n",
    "    regions = str_replace(regions,'South_africa','South Africa')\n",
    "    regions = str_replace(regions,'Spain','Spanish')\n",
    "    regions = str_replace(regions,'HK','HK(region)')\n",
    "    regions = gsub('Hong Kong SAR, CHN','HK(region)',regions,fixed=TRUE)\n",
    "    regions = str_replace(regions,'Hong Kong','HK(region)')\n",
    "    regions = str_replace(regions,'Spanish','Spain')\n",
    "    regions = str_replace(regions,'Russian Federation','Russia')\n",
    "    regions = str_replace(regions,'Russian','Russia')\n",
    "    regions = str_replace(regions,'Egypt, Arab Rep.','Egypt')\n",
    "    \n",
    "    rownames(df) = regions\n",
    "    colnames(df) = regions\n",
    "    \n",
    "    df = df[regions_order,regions_order]\n",
    "    return(df)\n",
    "}\n",
    "\n",
    "lowerTriangle <- function(m){\n",
    "  return(m[lower.tri(m,diag = FALSE)])\n",
    "}"
   ]
  },
  {
   "cell_type": "markdown",
   "id": "704eb88b",
   "metadata": {},
   "source": [
    "# Predictor variable rdm"
   ]
  },
  {
   "cell_type": "code",
   "execution_count": 4,
   "id": "dbbd3b5b",
   "metadata": {
    "ExecuteTime": {
     "end_time": "2023-10-05T06:12:30.388902Z",
     "start_time": "2023-10-05T06:12:28.743Z"
    },
    "vscode": {
     "languageId": "r"
    }
   },
   "outputs": [],
   "source": [
    "# Language\n",
    "#Lexical = read.csv('../Cultural_RDM/rdm/Lexical_dist.csv', row.names=1, encoding = \"UTF-8\",check.names = FALSE)\n",
    "Lexical = read.csv('../Cultural_RDM/rdm/linguistic_dist.csv', row.names=1, encoding = \"UTF-8\",check.names = FALSE)\n",
    "Lexical = fix_region(Lexical)\n",
    "\n",
    "# Personality\n",
    "Agreeableness = read.csv('../Cultural_RDM/rdm/Agreeableness_dist.csv',row.names=1, encoding = \"UTF-8\",check.names = FALSE)\n",
    "Agreeableness = fix_region(Agreeableness)\n",
    "Conscientiousness = read.csv('../Cultural_RDM/rdm/Conscientiousness_dist.csv',row.names=1, encoding = \"UTF-8\",check.names = FALSE)\n",
    "Conscientiousness = fix_region(Conscientiousness)\n",
    "Extraversion = read.csv('../Cultural_RDM/rdm/Extraversion_dist.csv',row.names=1, encoding = \"UTF-8\",check.names = FALSE)\n",
    "Extraversion = fix_region(Extraversion)\n",
    "Neuroticism = read.csv('../Cultural_RDM/rdm/Neuroticism_dist.csv',row.names=1, encoding = \"UTF-8\",check.names = FALSE)\n",
    "Neuroticism = fix_region(Neuroticism)\n",
    "Openness = read.csv('../Cultural_RDM/rdm/Openness_dist.csv',row.names=1, encoding = \"UTF-8\",check.names = FALSE)\n",
    "Openness = fix_region(Openness)\n",
    "personality_all = read.csv('../Cultural_RDM/rdm/personality_all_dist.csv', row.names=1, encoding = \"UTF-8\",check.names = FALSE)\n",
    "personality_all = fix_region(personality_all)\n",
    "\n",
    "# Socioecological\n",
    "Climatic_demands = read.csv('../Cultural_RDM/rdm/Climatic_demands_dist.csv', row.names=1, encoding = \"UTF-8\",check.names = FALSE)\n",
    "Climatic_demands = fix_region(Climatic_demands)\n",
    "Coordinate = read.csv('../Cultural_RDM/rdm/Coordinate_dist.csv', row.names=1, encoding = \"UTF-8\",check.names = FALSE)\n",
    "Coordinate = fix_region(Coordinate)\n",
    "subsistence = read.csv('../Cultural_RDM/rdm/subsistence_dist.csv', row.names=1, encoding = \"UTF-8\",check.names = FALSE)\n",
    "subsistence = fix_region(subsistence)\n",
    "disease = read.csv('../Cultural_RDM/rdm/disease_dist.csv', row.names=1, encoding = \"UTF-8\",check.names = FALSE)\n",
    "disease = fix_region(disease)\n",
    "\n",
    "# Modernization\n",
    "urban = read.csv('../Cultural_RDM/rdm/urban_rdm.csv', row.names=1, encoding = \"UTF-8\")\n",
    "urban = fix_region(urban)\n",
    "wealth = read.csv('../Cultural_RDM/rdm/wealth_rdm.csv', row.names=1, encoding = \"UTF-8\")\n",
    "wealth = fix_region(wealth)\n",
    "edu = read.csv('../Cultural_RDM/rdm/edu_rdm.csv', row.names=1, encoding = \"UTF-8\")\n",
    "edu = fix_region(edu)\n",
    "modern = read.csv('../Cultural_RDM/rdm/modern_dist.csv', row.names=1, encoding = \"UTF-8\",check.names = FALSE)\n",
    "modern = fix_region(modern)\n",
    "\n",
    "# Cultural value\n",
    "## Hofstede 6D\n",
    "power = read.csv('../Cultural_RDM/rdm/power_rdm.csv', row.names=1, encoding = \"UTF-8\")\n",
    "power = fix_region(power)\n",
    "Individualism = read.csv('../Cultural_RDM/rdm/Individualism_rdm.csv', row.names=1, encoding = \"UTF-8\",check.names = FALSE)\n",
    "Individualism = fix_region(Individualism)\n",
    "Masculine = read.csv('../Cultural_RDM/rdm/Masculine_rdm.csv', row.names=1, encoding = \"UTF-8\",check.names = FALSE)\n",
    "Masculine = fix_region(Masculine)\n",
    "Uncertainty_Avoidance = read.csv('../Cultural_RDM/rdm/Uncertainty_Avoidance_rdm.csv', row.names=1, encoding = \"UTF-8\",check.names = FALSE)\n",
    "Uncertainty_Avoidance = fix_region(Uncertainty_Avoidance)\n",
    "Long_Term_Orientation = read.csv('../Cultural_RDM/rdm/Long_Term_Orientation_rdm.csv', row.names=1, encoding = \"UTF-8\",check.names = FALSE)\n",
    "Long_Term_Orientation = fix_region(Long_Term_Orientation)\n",
    "Indulgence = read.csv('../Cultural_RDM/rdm/Indulgence_rdm.csv', row.names=1, encoding = \"UTF-8\",check.names = FALSE)\n",
    "Indulgence = fix_region(Indulgence)\n",
    "Hofstede_6D = read.csv('../Cultural_RDM/rdm/Hofstede_6D_rdm.csv', row.names=1, encoding = \"UTF-8\",check.names = FALSE)\n",
    "Hofstede_6D = fix_region(Hofstede_6D)\n",
    "\n",
    "# Gene\n",
    "new_gendist_weighted = read.csv('../Cultural_RDM/rdm/new_gendist_weighted_dist.csv', row.names=1, encoding = \"UTF-8\",check.names = FALSE)\n",
    "new_gendist_weighted = fix_region(new_gendist_weighted)\n",
    "\n",
    "# Religion\n",
    "reldist_weighted_WCD_form = read.csv('../Cultural_RDM/rdm/reldist_weighted_WCD_form_dist.csv', row.names=1, encoding = \"UTF-8\",check.names = FALSE)\n",
    "reldist_weighted_WCD_form = fix_region(reldist_weighted_WCD_form)\n",
    "religion_per = read.csv('../Cultural_RDM/rdm/religion_percentage_rdm.csv', row.names=1, encoding = \"UTF-8\",check.names = FALSE)\n",
    "religion_per = fix_region(religion_per)\n",
    "\n",
    "# Political\n",
    "idealogy = read.csv('../Cultural_RDM/rdm/political_idealogy_rdm_range.csv', row.names=1, encoding = \"UTF-8\",check.names = FALSE)\n",
    "idealogy = fix_region(idealogy)"
   ]
  },
  {
   "cell_type": "code",
   "execution_count": 5,
   "id": "b8a47473",
   "metadata": {
    "ExecuteTime": {
     "end_time": "2023-10-05T06:12:30.502907Z",
     "start_time": "2023-10-05T06:12:28.744Z"
    },
    "vscode": {
     "languageId": "r"
    }
   },
   "outputs": [],
   "source": [
    "# Demographics\n",
    "gender = read.csv('../DataClean_FAVEE_HPP/output_data/rdm/gender_rdm.csv', row.names=1, encoding = \"UTF-8\",check.names = FALSE)\n",
    "gender = fix_region(gender)\n",
    "age = read.csv('../DataClean_FAVEE_HPP/output_data/rdm/age_rdm.csv', row.names=1, encoding = \"UTF-8\",check.names = FALSE)\n",
    "age = fix_region(age)\n",
    "education_ind = read.csv('../DataClean_FAVEE_HPP/output_data/rdm/education_ind_rdm.csv', row.names=1, encoding = \"UTF-8\",check.names = FALSE)\n",
    "education_ind = fix_region(education_ind)\n",
    "demographics = read.csv('../DataClean_FAVEE_HPP/output_data/rdm/demographics_rdm.csv', row.names=1, encoding = \"UTF-8\",check.names = FALSE)\n",
    "demographics = fix_region(demographics)\n",
    "\n",
    "# check size\n",
    "check_size = read.csv('../DataClean_FAVEE_HPP/output_data/rdm/check_size_rdm.csv', row.names=1, encoding = \"UTF-8\",check.names = FALSE)\n",
    "check_size = fix_region(check_size)"
   ]
  },
  {
   "cell_type": "code",
   "execution_count": 6,
   "id": "1b62a8c1",
   "metadata": {
    "ExecuteTime": {
     "end_time": "2023-10-05T06:12:30.537903Z",
     "start_time": "2023-10-05T06:12:28.746Z"
    },
    "vscode": {
     "languageId": "r"
    }
   },
   "outputs": [],
   "source": [
    "# get rdms of predicators \n",
    "variables_names <- c('Lexical',# Language\n",
    "                     'personality_all',# Personality\n",
    "                     'Coordinate','Climatic_demands','subsistence','disease',# Socioecological\n",
    "                     #'modern',# Modernization\n",
    "                     'urban','wealth','edu',\n",
    "                     'Hofstede_6D',# Cultural value\n",
    "                     'new_gendist_weighted',# Gene\n",
    "                     'religion_per',#'reldist_weighted_WCD_form',# Religion\n",
    "                     'idealogy',# Political\n",
    "                     'demographics',# Demographics\n",
    "                     'check_size'\n",
    "                    )\n",
    "\n",
    "variables <- list()\n",
    "for(i in c(1:length(variables_names))){\n",
    "  variables[[i]] = get(variables_names[i])\n",
    "}"
   ]
  },
  {
   "cell_type": "code",
   "execution_count": 7,
   "id": "a8426677",
   "metadata": {
    "ExecuteTime": {
     "end_time": "2023-10-05T06:12:30.565871Z",
     "start_time": "2023-10-05T06:12:28.748Z"
    },
    "vscode": {
     "languageId": "r"
    }
   },
   "outputs": [],
   "source": [
    "permutation_result = function(culture_regress_standard_model){\n",
    "    # create permutation matrix\n",
    "    nperm <- 10000\n",
    "    permf <- matrix(NA,nperm)\n",
    "    permr2 <- matrix(NA,nperm)\n",
    "    # contain beta_sub\n",
    "    permt <- matrix(NA,nperm,length(variables_names)) # 12variables\n",
    "    colnames(permt) <- variables_names\n",
    "    # caculate proportation of beta_sub or F value over the model results\n",
    "    permf_pvals <- NA \n",
    "    permt_pvals <- NA\n",
    "    tstats = NA\n",
    "\n",
    "    # the model results\n",
    "    fstats <- culture_regress_standard_model$fstatistic[[1]]\n",
    "    for (i in 1:length(variables_names)){\n",
    "      tstats[i] <- culture_regress_standard_model$coefficients[1+i,1]\n",
    "    }\n",
    "    r2stats <- culture_regress_standard_model$r.squared\n",
    "    print(paste('fstats:',fstats))\n",
    "    #print('tstats:')\n",
    "    #tstats\n",
    "    print(paste('r2stats:',r2stats))\n",
    "\n",
    "    set.seed(2)\n",
    "    for (i in 1:nperm){\n",
    "      psel <- sample(19) # permuted index, total 19 regions\n",
    "      x <- do.call(cbind,lapply(variables,function(x) lowerTriangle(x[psel,psel]))) # generate permuted predictors\n",
    "      rfit <- lm(scale(model_rdm_array)~scale(x)) # fit permuted model\n",
    "      srfit <- summary(rfit)\n",
    "      permf[i,1] <- srfit$fstatistic[1] # F-stat\n",
    "      permr2[i,1] <- srfit$r.squared # R-squared\n",
    "      #permf[,i] <- unlist(lapply(srfit,function(x) x$fstatistic[1])) # F-stat\n",
    "      #permr2[,i] <- unlist(lapply(srfit,function(x) x$r.squared)) # R-squared\n",
    "      for (j in 1:length(variables_names)){\n",
    "        permt[i,j] <- srfit$coefficients[1+j,1] # each var t-stat\n",
    "      }\n",
    "      #print(i)\n",
    "    }\n",
    "    print(i)\n",
    "\n",
    "    # F statistics\n",
    "    permf_pvals <- mean(permf[,1] >= fstats)\n",
    "    print(paste('permf_pvals',permf_pvals))\n",
    "\n",
    "    # Each variable's regression\n",
    "    for (i in 1:length(variables_names)){\n",
    "      permt_pvals[i] <- mean(permt[,i] >= tstats[i])\n",
    "    }\n",
    "\n",
    "    permt_pvals <- as.data.frame(t(permt_pvals)) \n",
    "\n",
    "    colnames(permt_pvals) <- variables_names\n",
    "    return(permt_pvals)\n",
    "} "
   ]
  },
  {
   "cell_type": "markdown",
   "id": "7a0ad86f",
   "metadata": {},
   "source": [
    "# Full feature model"
   ]
  },
  {
   "cell_type": "markdown",
   "id": "d922d471",
   "metadata": {},
   "source": [
    "## regression coefficient"
   ]
  },
  {
   "cell_type": "code",
   "execution_count": 9,
   "id": "b735b461",
   "metadata": {
    "ExecuteTime": {
     "end_time": "2023-10-05T06:12:30.671871Z",
     "start_time": "2023-10-05T06:12:29.000Z"
    },
    "vscode": {
     "languageId": "r"
    }
   },
   "outputs": [
    {
     "data": {
      "text/plain": [
       "\n",
       "Call:\n",
       "lm(formula = scale(model_rdm_array) ~ scale(x))\n",
       "\n",
       "Residuals:\n",
       "     Min       1Q   Median       3Q      Max \n",
       "-1.65863 -0.38053  0.04887  0.36493  2.30438 \n",
       "\n",
       "Coefficients:\n",
       "                               Estimate Std. Error t value Pr(>|t|)    \n",
       "(Intercept)                   3.060e-16  4.729e-02   0.000 1.000000    \n",
       "scale(x)Lexical               9.084e-02  7.837e-02   1.159 0.248199    \n",
       "scale(x)personality_all       1.456e-01  5.438e-02   2.677 0.008232 ** \n",
       "scale(x)Coordinate           -1.217e-01  5.731e-02  -2.123 0.035334 *  \n",
       "scale(x)Climatic_demands      1.984e-01  5.399e-02   3.675 0.000327 ***\n",
       "scale(x)subsistence          -4.499e-02  5.537e-02  -0.813 0.417689    \n",
       "scale(x)disease              -1.353e-02  5.615e-02  -0.241 0.809879    \n",
       "scale(x)urban                 4.449e-01  5.735e-02   7.756 1.09e-12 ***\n",
       "scale(x)wealth               -7.237e-02  5.963e-02  -1.214 0.226683    \n",
       "scale(x)edu                   1.234e-01  5.318e-02   2.320 0.021629 *  \n",
       "scale(x)Hofstede_6D          -8.656e-02  5.853e-02  -1.479 0.141184    \n",
       "scale(x)new_gendist_weighted -1.387e-01  6.412e-02  -2.163 0.032059 *  \n",
       "scale(x)religion_per          3.175e-01  8.871e-02   3.579 0.000461 ***\n",
       "scale(x)idealogy             -7.821e-02  5.302e-02  -1.475 0.142197    \n",
       "scale(x)demographics          3.466e-02  5.691e-02   0.609 0.543438    \n",
       "scale(x)check_size            1.725e-02  5.064e-02   0.341 0.733854    \n",
       "---\n",
       "Signif. codes:  0 '***' 0.001 '**' 0.01 '*' 0.05 '.' 0.1 ' ' 1\n",
       "\n",
       "Residual standard error: 0.6184 on 155 degrees of freedom\n",
       "Multiple R-squared:  0.6513,\tAdjusted R-squared:  0.6176 \n",
       "F-statistic:  19.3 on 15 and 155 DF,  p-value: < 2.2e-16\n"
      ]
     },
     "metadata": {},
     "output_type": "display_data"
    }
   ],
   "source": [
    "model_rdm = read.csv('output_data/models_rdm/full_feature/raw33d_dissim_dist.csv',\n",
    "                    row.names =1, check.names = FALSE)\n",
    "model_rdm = model_rdm[regions_order,regions_order]\n",
    "model_rdm_array = lowerTriangle(model_rdm)\n",
    "\n",
    "x <- do.call(cbind,lapply(variables,function(x) lowerTriangle(x))) # generate permuted predictors\n",
    "colnames(x) = variables_names\n",
    "culture_regress_standard <- lm(scale(model_rdm_array)~scale(x))\n",
    "culture_regress_standard_model <- summary(culture_regress_standard)\n",
    "culture_regress_standard_model\n",
    "\n",
    "write.csv(culture_regress_standard_model$coefficients,\n",
    " file='output_data/rsa_results/beta_sub/check_size/raw_33d.csv')\n",
    "full_feature_regression = culture_regress_standard_model"
   ]
  },
  {
   "cell_type": "markdown",
   "id": "43e7cdda",
   "metadata": {},
   "source": [
    "## permutation"
   ]
  },
  {
   "cell_type": "code",
   "execution_count": 10,
   "id": "93665bb4",
   "metadata": {
    "ExecuteTime": {
     "end_time": "2023-10-05T06:13:24.681993Z",
     "start_time": "2023-10-05T06:12:29.131Z"
    },
    "vscode": {
     "languageId": "r"
    }
   },
   "outputs": [
    {
     "name": "stdout",
     "output_type": "stream",
     "text": [
      "[1] \"fstats: 19.3016372163525\"\n",
      "[1] \"r2stats: 0.651312852968471\"\n",
      "[1] 10000\n",
      "[1] \"permf_pvals 3e-04\"\n"
     ]
    },
    {
     "data": {
      "text/html": [
       "<table class=\"dataframe\">\n",
       "<caption>A data.frame: 1 × 15</caption>\n",
       "<thead>\n",
       "\t<tr><th scope=col>Lexical</th><th scope=col>personality_all</th><th scope=col>Coordinate</th><th scope=col>Climatic_demands</th><th scope=col>subsistence</th><th scope=col>disease</th><th scope=col>urban</th><th scope=col>wealth</th><th scope=col>edu</th><th scope=col>Hofstede_6D</th><th scope=col>new_gendist_weighted</th><th scope=col>religion_per</th><th scope=col>idealogy</th><th scope=col>demographics</th><th scope=col>check_size</th></tr>\n",
       "\t<tr><th scope=col>&lt;dbl&gt;</th><th scope=col>&lt;dbl&gt;</th><th scope=col>&lt;dbl&gt;</th><th scope=col>&lt;dbl&gt;</th><th scope=col>&lt;dbl&gt;</th><th scope=col>&lt;dbl&gt;</th><th scope=col>&lt;dbl&gt;</th><th scope=col>&lt;dbl&gt;</th><th scope=col>&lt;dbl&gt;</th><th scope=col>&lt;dbl&gt;</th><th scope=col>&lt;dbl&gt;</th><th scope=col>&lt;dbl&gt;</th><th scope=col>&lt;dbl&gt;</th><th scope=col>&lt;dbl&gt;</th><th scope=col>&lt;dbl&gt;</th></tr>\n",
       "</thead>\n",
       "<tbody>\n",
       "\t<tr><td>0.3692</td><td>0.1882</td><td>0.7758</td><td>0.156</td><td>0.6136</td><td>0.5745</td><td>0.018</td><td>0.6926</td><td>0.203</td><td>0.7002</td><td>0.7002</td><td>0.1088</td><td>0.7158</td><td>0.3947</td><td>0.4393</td></tr>\n",
       "</tbody>\n",
       "</table>\n"
      ],
      "text/latex": [
       "A data.frame: 1 × 15\n",
       "\\begin{tabular}{lllllllllllllll}\n",
       " Lexical & personality\\_all & Coordinate & Climatic\\_demands & subsistence & disease & urban & wealth & edu & Hofstede\\_6D & new\\_gendist\\_weighted & religion\\_per & idealogy & demographics & check\\_size\\\\\n",
       " <dbl> & <dbl> & <dbl> & <dbl> & <dbl> & <dbl> & <dbl> & <dbl> & <dbl> & <dbl> & <dbl> & <dbl> & <dbl> & <dbl> & <dbl>\\\\\n",
       "\\hline\n",
       "\t 0.3692 & 0.1882 & 0.7758 & 0.156 & 0.6136 & 0.5745 & 0.018 & 0.6926 & 0.203 & 0.7002 & 0.7002 & 0.1088 & 0.7158 & 0.3947 & 0.4393\\\\\n",
       "\\end{tabular}\n"
      ],
      "text/markdown": [
       "\n",
       "A data.frame: 1 × 15\n",
       "\n",
       "| Lexical &lt;dbl&gt; | personality_all &lt;dbl&gt; | Coordinate &lt;dbl&gt; | Climatic_demands &lt;dbl&gt; | subsistence &lt;dbl&gt; | disease &lt;dbl&gt; | urban &lt;dbl&gt; | wealth &lt;dbl&gt; | edu &lt;dbl&gt; | Hofstede_6D &lt;dbl&gt; | new_gendist_weighted &lt;dbl&gt; | religion_per &lt;dbl&gt; | idealogy &lt;dbl&gt; | demographics &lt;dbl&gt; | check_size &lt;dbl&gt; |\n",
       "|---|---|---|---|---|---|---|---|---|---|---|---|---|---|---|\n",
       "| 0.3692 | 0.1882 | 0.7758 | 0.156 | 0.6136 | 0.5745 | 0.018 | 0.6926 | 0.203 | 0.7002 | 0.7002 | 0.1088 | 0.7158 | 0.3947 | 0.4393 |\n",
       "\n"
      ],
      "text/plain": [
       "  Lexical personality_all Coordinate Climatic_demands subsistence disease urban\n",
       "1 0.3692  0.1882          0.7758     0.156            0.6136      0.5745  0.018\n",
       "  wealth edu   Hofstede_6D new_gendist_weighted religion_per idealogy\n",
       "1 0.6926 0.203 0.7002      0.7002               0.1088       0.7158  \n",
       "  demographics check_size\n",
       "1 0.3947       0.4393    "
      ]
     },
     "metadata": {},
     "output_type": "display_data"
    }
   ],
   "source": [
    "p_value_sub = permutation_result(full_feature_regression)\n",
    "p_value_sub\n",
    "write.csv(p_value_sub,'output_data/rsa_results/p_value_sub/check_size/raw_33d.csv')"
   ]
  },
  {
   "cell_type": "markdown",
   "id": "2c261bbd",
   "metadata": {},
   "source": [
    "# Dimensional model"
   ]
  },
  {
   "cell_type": "markdown",
   "id": "57ec0ce3",
   "metadata": {},
   "source": [
    "## regression coefficient"
   ]
  },
  {
   "cell_type": "code",
   "execution_count": 11,
   "id": "d6aa9f33",
   "metadata": {
    "ExecuteTime": {
     "end_time": "2023-10-05T06:13:24.915286Z",
     "start_time": "2023-10-05T06:12:29.380Z"
    },
    "vscode": {
     "languageId": "r"
    }
   },
   "outputs": [
    {
     "data": {
      "text/plain": [
       "\n",
       "Call:\n",
       "lm(formula = scale(model_rdm_array) ~ scale(x))\n",
       "\n",
       "Residuals:\n",
       "     Min       1Q   Median       3Q      Max \n",
       "-2.27002 -0.41266  0.03662  0.41651  1.87599 \n",
       "\n",
       "Coefficients:\n",
       "                               Estimate Std. Error t value Pr(>|t|)    \n",
       "(Intercept)                   7.098e-17  5.080e-02   0.000  1.00000    \n",
       "scale(x)Lexical              -4.709e-02  8.419e-02  -0.559  0.57672    \n",
       "scale(x)personality_all       1.877e-01  5.842e-02   3.213  0.00160 ** \n",
       "scale(x)Coordinate           -1.266e-01  6.156e-02  -2.056  0.04146 *  \n",
       "scale(x)Climatic_demands      1.877e-01  5.800e-02   3.236  0.00148 ** \n",
       "scale(x)subsistence          -5.266e-03  5.948e-02  -0.089  0.92957    \n",
       "scale(x)disease              -2.723e-02  6.032e-02  -0.451  0.65236    \n",
       "scale(x)urban                 3.260e-01  6.161e-02   5.291 4.08e-07 ***\n",
       "scale(x)wealth               -7.709e-02  6.405e-02  -1.203  0.23063    \n",
       "scale(x)edu                   1.221e-01  5.713e-02   2.137  0.03417 *  \n",
       "scale(x)Hofstede_6D          -1.249e-01  6.287e-02  -1.986  0.04878 *  \n",
       "scale(x)new_gendist_weighted -2.302e-01  6.887e-02  -3.342  0.00104 ** \n",
       "scale(x)religion_per          4.187e-01  9.529e-02   4.394 2.05e-05 ***\n",
       "scale(x)idealogy             -8.331e-02  5.695e-02  -1.463  0.14554    \n",
       "scale(x)demographics          6.265e-02  6.113e-02   1.025  0.30702    \n",
       "scale(x)check_size            5.577e-02  5.440e-02   1.025  0.30683    \n",
       "---\n",
       "Signif. codes:  0 '***' 0.001 '**' 0.01 '*' 0.05 '.' 0.1 ' ' 1\n",
       "\n",
       "Residual standard error: 0.6643 on 155 degrees of freedom\n",
       "Multiple R-squared:  0.5976,\tAdjusted R-squared:  0.5587 \n",
       "F-statistic: 15.35 on 15 and 155 DF,  p-value: < 2.2e-16\n"
      ]
     },
     "metadata": {},
     "output_type": "display_data"
    }
   ],
   "source": [
    "model_rdm = read.csv('output_data/models_rdm/dimensional/favee_dissim_dist.csv',\n",
    "                    row.names =1, check.names = FALSE)\n",
    "model_rdm = model_rdm[regions_order,regions_order]\n",
    "model_rdm_array = lowerTriangle(model_rdm)\n",
    "\n",
    "x <- do.call(cbind,lapply(variables,function(x) lowerTriangle(x))) # generate permuted predictors\n",
    "colnames(x) = variables_names\n",
    "culture_regress_standard <- lm(scale(model_rdm_array)~scale(x))\n",
    "culture_regress_standard_model <- summary(culture_regress_standard)\n",
    "culture_regress_standard_model\n",
    "\n",
    "write.csv(culture_regress_standard_model$coefficients,\n",
    " file='output_data/rsa_results/beta_sub/check_size/favee_33d.csv')\n",
    "dimensional_regression = culture_regress_standard_model"
   ]
  },
  {
   "cell_type": "markdown",
   "id": "6b093358",
   "metadata": {},
   "source": [
    "## permutation"
   ]
  },
  {
   "cell_type": "code",
   "execution_count": 12,
   "id": "642ae67d",
   "metadata": {
    "ExecuteTime": {
     "end_time": "2023-10-05T06:14:16.911384Z",
     "start_time": "2023-10-05T06:12:29.519Z"
    },
    "vscode": {
     "languageId": "r"
    }
   },
   "outputs": [
    {
     "name": "stdout",
     "output_type": "stream",
     "text": [
      "[1] \"fstats: 15.3484797452628\"\n",
      "[1] \"r2stats: 0.597640038041342\"\n",
      "[1] 10000\n",
      "[1] \"permf_pvals 0.0018\"\n"
     ]
    },
    {
     "data": {
      "text/html": [
       "<table class=\"dataframe\">\n",
       "<caption>A data.frame: 1 × 15</caption>\n",
       "<thead>\n",
       "\t<tr><th scope=col>Lexical</th><th scope=col>personality_all</th><th scope=col>Coordinate</th><th scope=col>Climatic_demands</th><th scope=col>subsistence</th><th scope=col>disease</th><th scope=col>urban</th><th scope=col>wealth</th><th scope=col>edu</th><th scope=col>Hofstede_6D</th><th scope=col>new_gendist_weighted</th><th scope=col>religion_per</th><th scope=col>idealogy</th><th scope=col>demographics</th><th scope=col>check_size</th></tr>\n",
       "\t<tr><th scope=col>&lt;dbl&gt;</th><th scope=col>&lt;dbl&gt;</th><th scope=col>&lt;dbl&gt;</th><th scope=col>&lt;dbl&gt;</th><th scope=col>&lt;dbl&gt;</th><th scope=col>&lt;dbl&gt;</th><th scope=col>&lt;dbl&gt;</th><th scope=col>&lt;dbl&gt;</th><th scope=col>&lt;dbl&gt;</th><th scope=col>&lt;dbl&gt;</th><th scope=col>&lt;dbl&gt;</th><th scope=col>&lt;dbl&gt;</th><th scope=col>&lt;dbl&gt;</th><th scope=col>&lt;dbl&gt;</th><th scope=col>&lt;dbl&gt;</th></tr>\n",
       "</thead>\n",
       "<tbody>\n",
       "\t<tr><td>0.5726</td><td>0.1773</td><td>0.7902</td><td>0.1809</td><td>0.5019</td><td>0.6324</td><td>0.0502</td><td>0.7076</td><td>0.2069</td><td>0.7729</td><td>0.8385</td><td>0.0481</td><td>0.7296</td><td>0.3322</td><td>0.3594</td></tr>\n",
       "</tbody>\n",
       "</table>\n"
      ],
      "text/latex": [
       "A data.frame: 1 × 15\n",
       "\\begin{tabular}{lllllllllllllll}\n",
       " Lexical & personality\\_all & Coordinate & Climatic\\_demands & subsistence & disease & urban & wealth & edu & Hofstede\\_6D & new\\_gendist\\_weighted & religion\\_per & idealogy & demographics & check\\_size\\\\\n",
       " <dbl> & <dbl> & <dbl> & <dbl> & <dbl> & <dbl> & <dbl> & <dbl> & <dbl> & <dbl> & <dbl> & <dbl> & <dbl> & <dbl> & <dbl>\\\\\n",
       "\\hline\n",
       "\t 0.5726 & 0.1773 & 0.7902 & 0.1809 & 0.5019 & 0.6324 & 0.0502 & 0.7076 & 0.2069 & 0.7729 & 0.8385 & 0.0481 & 0.7296 & 0.3322 & 0.3594\\\\\n",
       "\\end{tabular}\n"
      ],
      "text/markdown": [
       "\n",
       "A data.frame: 1 × 15\n",
       "\n",
       "| Lexical &lt;dbl&gt; | personality_all &lt;dbl&gt; | Coordinate &lt;dbl&gt; | Climatic_demands &lt;dbl&gt; | subsistence &lt;dbl&gt; | disease &lt;dbl&gt; | urban &lt;dbl&gt; | wealth &lt;dbl&gt; | edu &lt;dbl&gt; | Hofstede_6D &lt;dbl&gt; | new_gendist_weighted &lt;dbl&gt; | religion_per &lt;dbl&gt; | idealogy &lt;dbl&gt; | demographics &lt;dbl&gt; | check_size &lt;dbl&gt; |\n",
       "|---|---|---|---|---|---|---|---|---|---|---|---|---|---|---|\n",
       "| 0.5726 | 0.1773 | 0.7902 | 0.1809 | 0.5019 | 0.6324 | 0.0502 | 0.7076 | 0.2069 | 0.7729 | 0.8385 | 0.0481 | 0.7296 | 0.3322 | 0.3594 |\n",
       "\n"
      ],
      "text/plain": [
       "  Lexical personality_all Coordinate Climatic_demands subsistence disease\n",
       "1 0.5726  0.1773          0.7902     0.1809           0.5019      0.6324 \n",
       "  urban  wealth edu    Hofstede_6D new_gendist_weighted religion_per idealogy\n",
       "1 0.0502 0.7076 0.2069 0.7729      0.8385               0.0481       0.7296  \n",
       "  demographics check_size\n",
       "1 0.3322       0.3594    "
      ]
     },
     "metadata": {},
     "output_type": "display_data"
    }
   ],
   "source": [
    "p_value_sub = permutation_result(dimensional_regression)\n",
    "p_value_sub\n",
    "write.csv(p_value_sub,'output_data/rsa_results/p_value_sub/check_size/favee_33d.csv')"
   ]
  },
  {
   "cell_type": "markdown",
   "id": "9cd7c8c4",
   "metadata": {},
   "source": [
    "# Categorical model"
   ]
  },
  {
   "cell_type": "markdown",
   "id": "b39059eb",
   "metadata": {},
   "source": [
    "## regression coefficient"
   ]
  },
  {
   "cell_type": "code",
   "execution_count": 13,
   "id": "4b683ca9",
   "metadata": {
    "ExecuteTime": {
     "end_time": "2023-10-05T06:14:16.999774Z",
     "start_time": "2023-10-05T06:12:29.753Z"
    },
    "vscode": {
     "languageId": "r"
    }
   },
   "outputs": [
    {
     "data": {
      "text/plain": [
       "\n",
       "Call:\n",
       "lm(formula = scale(model_rdm_array) ~ scale(x))\n",
       "\n",
       "Residuals:\n",
       "     Min       1Q   Median       3Q      Max \n",
       "-2.25944 -0.53717  0.09422  0.55414  2.36395 \n",
       "\n",
       "Coefficients:\n",
       "                               Estimate Std. Error t value Pr(>|t|)    \n",
       "(Intercept)                   3.337e-16  6.404e-02   0.000 1.000000    \n",
       "scale(x)Lexical               2.381e-01  1.061e-01   2.243 0.026309 *  \n",
       "scale(x)personality_all       4.999e-02  7.365e-02   0.679 0.498327    \n",
       "scale(x)Coordinate           -1.639e-01  7.761e-02  -2.112 0.036293 *  \n",
       "scale(x)Climatic_demands      1.817e-01  7.312e-02   2.484 0.014042 *  \n",
       "scale(x)subsistence           2.285e-02  7.498e-02   0.305 0.760960    \n",
       "scale(x)disease              -5.205e-02  7.605e-02  -0.685 0.494672    \n",
       "scale(x)urban                 3.068e-01  7.767e-02   3.951 0.000118 ***\n",
       "scale(x)wealth                7.999e-02  8.075e-02   0.991 0.323458    \n",
       "scale(x)edu                   3.215e-02  7.202e-02   0.446 0.655959    \n",
       "scale(x)Hofstede_6D          -8.956e-02  7.926e-02  -1.130 0.260251    \n",
       "scale(x)new_gendist_weighted -6.540e-02  8.683e-02  -0.753 0.452438    \n",
       "scale(x)religion_per          1.770e-01  1.201e-01   1.473 0.142664    \n",
       "scale(x)idealogy             -6.286e-02  7.180e-02  -0.875 0.382696    \n",
       "scale(x)demographics         -2.783e-01  7.707e-02  -3.611 0.000411 ***\n",
       "scale(x)check_size           -9.780e-02  6.858e-02  -1.426 0.155854    \n",
       "---\n",
       "Signif. codes:  0 '***' 0.001 '**' 0.01 '*' 0.05 '.' 0.1 ' ' 1\n",
       "\n",
       "Residual standard error: 0.8375 on 155 degrees of freedom\n",
       "Multiple R-squared:  0.3605,\tAdjusted R-squared:  0.2987 \n",
       "F-statistic: 5.826 on 15 and 155 DF,  p-value: 1.899e-09\n"
      ]
     },
     "metadata": {},
     "output_type": "display_data"
    }
   ],
   "source": [
    "model_rdm = read.csv('output_data/models_rdm/categorical/hpp_dissim_dist.csv',\n",
    "                    row.names =1, check.names = FALSE)\n",
    "model_rdm = model_rdm[regions_order,regions_order]\n",
    "model_rdm_array = lowerTriangle(model_rdm)\n",
    "\n",
    "x <- do.call(cbind,lapply(variables,function(x) lowerTriangle(x))) # generate permuted predictors\n",
    "colnames(x) = variables_names\n",
    "culture_regress_standard <- lm(scale(model_rdm_array)~scale(x))\n",
    "culture_regress_standard_model <- summary(culture_regress_standard)\n",
    "culture_regress_standard_model\n",
    "\n",
    "write.csv(culture_regress_standard_model$coefficients,\n",
    " file='output_data/rsa_results/beta_sub/check_size/hpp_33d.csv')\n",
    "categorical_regression = culture_regress_standard_model"
   ]
  },
  {
   "cell_type": "markdown",
   "id": "07e35a6c",
   "metadata": {},
   "source": [
    "## permutation"
   ]
  },
  {
   "cell_type": "code",
   "execution_count": 14,
   "id": "2b4ab105",
   "metadata": {
    "ExecuteTime": {
     "end_time": "2023-10-05T06:15:09.233772Z",
     "start_time": "2023-10-05T06:12:29.868Z"
    },
    "vscode": {
     "languageId": "r"
    }
   },
   "outputs": [
    {
     "name": "stdout",
     "output_type": "stream",
     "text": [
      "[1] \"fstats: 5.82624085986409\"\n",
      "[1] \"r2stats: 0.360544206809405\"\n",
      "[1] 10000\n",
      "[1] \"permf_pvals 0.0723\"\n"
     ]
    },
    {
     "data": {
      "text/html": [
       "<table class=\"dataframe\">\n",
       "<caption>A data.frame: 1 × 15</caption>\n",
       "<thead>\n",
       "\t<tr><th scope=col>Lexical</th><th scope=col>personality_all</th><th scope=col>Coordinate</th><th scope=col>Climatic_demands</th><th scope=col>subsistence</th><th scope=col>disease</th><th scope=col>urban</th><th scope=col>wealth</th><th scope=col>edu</th><th scope=col>Hofstede_6D</th><th scope=col>new_gendist_weighted</th><th scope=col>religion_per</th><th scope=col>idealogy</th><th scope=col>demographics</th><th scope=col>check_size</th></tr>\n",
       "\t<tr><th scope=col>&lt;dbl&gt;</th><th scope=col>&lt;dbl&gt;</th><th scope=col>&lt;dbl&gt;</th><th scope=col>&lt;dbl&gt;</th><th scope=col>&lt;dbl&gt;</th><th scope=col>&lt;dbl&gt;</th><th scope=col>&lt;dbl&gt;</th><th scope=col>&lt;dbl&gt;</th><th scope=col>&lt;dbl&gt;</th><th scope=col>&lt;dbl&gt;</th><th scope=col>&lt;dbl&gt;</th><th scope=col>&lt;dbl&gt;</th><th scope=col>&lt;dbl&gt;</th><th scope=col>&lt;dbl&gt;</th><th scope=col>&lt;dbl&gt;</th></tr>\n",
       "</thead>\n",
       "<tbody>\n",
       "\t<tr><td>0.1538</td><td>0.3213</td><td>0.8911</td><td>0.1195</td><td>0.4128</td><td>0.729</td><td>0.0435</td><td>0.2414</td><td>0.3656</td><td>0.7279</td><td>0.5979</td><td>0.2229</td><td>0.6908</td><td>0.9858</td><td>0.7492</td></tr>\n",
       "</tbody>\n",
       "</table>\n"
      ],
      "text/latex": [
       "A data.frame: 1 × 15\n",
       "\\begin{tabular}{lllllllllllllll}\n",
       " Lexical & personality\\_all & Coordinate & Climatic\\_demands & subsistence & disease & urban & wealth & edu & Hofstede\\_6D & new\\_gendist\\_weighted & religion\\_per & idealogy & demographics & check\\_size\\\\\n",
       " <dbl> & <dbl> & <dbl> & <dbl> & <dbl> & <dbl> & <dbl> & <dbl> & <dbl> & <dbl> & <dbl> & <dbl> & <dbl> & <dbl> & <dbl>\\\\\n",
       "\\hline\n",
       "\t 0.1538 & 0.3213 & 0.8911 & 0.1195 & 0.4128 & 0.729 & 0.0435 & 0.2414 & 0.3656 & 0.7279 & 0.5979 & 0.2229 & 0.6908 & 0.9858 & 0.7492\\\\\n",
       "\\end{tabular}\n"
      ],
      "text/markdown": [
       "\n",
       "A data.frame: 1 × 15\n",
       "\n",
       "| Lexical &lt;dbl&gt; | personality_all &lt;dbl&gt; | Coordinate &lt;dbl&gt; | Climatic_demands &lt;dbl&gt; | subsistence &lt;dbl&gt; | disease &lt;dbl&gt; | urban &lt;dbl&gt; | wealth &lt;dbl&gt; | edu &lt;dbl&gt; | Hofstede_6D &lt;dbl&gt; | new_gendist_weighted &lt;dbl&gt; | religion_per &lt;dbl&gt; | idealogy &lt;dbl&gt; | demographics &lt;dbl&gt; | check_size &lt;dbl&gt; |\n",
       "|---|---|---|---|---|---|---|---|---|---|---|---|---|---|---|\n",
       "| 0.1538 | 0.3213 | 0.8911 | 0.1195 | 0.4128 | 0.729 | 0.0435 | 0.2414 | 0.3656 | 0.7279 | 0.5979 | 0.2229 | 0.6908 | 0.9858 | 0.7492 |\n",
       "\n"
      ],
      "text/plain": [
       "  Lexical personality_all Coordinate Climatic_demands subsistence disease\n",
       "1 0.1538  0.3213          0.8911     0.1195           0.4128      0.729  \n",
       "  urban  wealth edu    Hofstede_6D new_gendist_weighted religion_per idealogy\n",
       "1 0.0435 0.2414 0.3656 0.7279      0.5979               0.2229       0.6908  \n",
       "  demographics check_size\n",
       "1 0.9858       0.7492    "
      ]
     },
     "metadata": {},
     "output_type": "display_data"
    }
   ],
   "source": [
    "p_value_sub = permutation_result(categorical_regression)\n",
    "p_value_sub\n",
    "write.csv(p_value_sub,'output_data/rsa_results/p_value_sub/check_size/hpp_33d.csv')"
   ]
  },
  {
   "cell_type": "code",
   "execution_count": 15,
   "id": "266d1f4e",
   "metadata": {
    "ExecuteTime": {
     "end_time": "2023-10-05T06:15:09.276777Z",
     "start_time": "2023-10-05T06:12:29.869Z"
    },
    "vscode": {
     "languageId": "r"
    }
   },
   "outputs": [],
   "source": [
    "variables_name_final = c(\n",
    "    'Language',\n",
    "    'Personality',\n",
    "    'Geography',\n",
    "    'Climates',\n",
    "    'Subsistence',\n",
    "    'Disease',\n",
    "    'Urbanization',\n",
    "    'Wealth',\n",
    "    'Education',\n",
    "    'Hofstede6D',\n",
    "    'Gene',\n",
    "    'Religion',\n",
    "    'Politics',\n",
    "    'Demographics',\n",
    "    'Object knowledge')\n",
    "\n",
    "output_order = c('Climates','Demographics','Disease','Education','Gene','Geography',\n",
    "                'Hofstede6D','Language','Personality','Politics','Religion','Subsistence',\n",
    "                'Urbanization','Wealth','Object knowledge')"
   ]
  },
  {
   "cell_type": "code",
   "execution_count": 16,
   "id": "e203833e",
   "metadata": {
    "ExecuteTime": {
     "end_time": "2023-10-05T06:15:09.340786Z",
     "start_time": "2023-10-05T06:12:29.871Z"
    },
    "vscode": {
     "languageId": "r"
    }
   },
   "outputs": [],
   "source": [
    "full_feature_beta = read.csv('output_data/rsa_results/beta_sub/check_size/raw_33d.csv',row.names=1)\n",
    "full_feature_beta = full_feature_beta[2:16,'Estimate']\n",
    "\n",
    "favee_beta = read.csv('output_data/rsa_results/beta_sub/check_size/favee_33d.csv',row.names=1)\n",
    "favee_beta = favee_beta[2:16,'Estimate']\n",
    "\n",
    "hpp_beta = read.csv('output_data/rsa_results/beta_sub/check_size/hpp_33d.csv',row.names=1)\n",
    "hpp_beta = hpp_beta[2:16,'Estimate']"
   ]
  },
  {
   "cell_type": "code",
   "execution_count": 17,
   "id": "2dc15f56",
   "metadata": {
    "ExecuteTime": {
     "end_time": "2023-10-05T06:15:09.386773Z",
     "start_time": "2023-10-05T06:12:29.872Z"
    },
    "vscode": {
     "languageId": "r"
    }
   },
   "outputs": [],
   "source": [
    "full_feature_p = read.csv('output_data/rsa_results/p_value_sub/check_size/raw_33d.csv',row.names=1)\n",
    "full_feature_p = t(full_feature_p)[1:15,]\n",
    "\n",
    "favee_p = read.csv('output_data/rsa_results/p_value_sub/check_size/favee_33d.csv',row.names=1)\n",
    "favee_p = t(favee_p)[1:15,]\n",
    "\n",
    "hpp_p = read.csv('output_data/rsa_results/p_value_sub/check_size/hpp_33d.csv',row.names=1)\n",
    "hpp_p = t(hpp_p)[1:15,]"
   ]
  },
  {
   "cell_type": "code",
   "execution_count": 18,
   "id": "8cbba2ef",
   "metadata": {
    "ExecuteTime": {
     "end_time": "2023-10-05T06:15:09.448745Z",
     "start_time": "2023-10-05T06:12:29.874Z"
    },
    "vscode": {
     "languageId": "r"
    }
   },
   "outputs": [
    {
     "data": {
      "text/html": [
       "<table class=\"dataframe\">\n",
       "<caption>A data.frame: 15 × 6</caption>\n",
       "<thead>\n",
       "\t<tr><th></th><th scope=col>full_r</th><th scope=col>full_p</th><th scope=col>favee_r</th><th scope=col>favee_p</th><th scope=col>hpp_r</th><th scope=col>hpp_p</th></tr>\n",
       "\t<tr><th></th><th scope=col>&lt;dbl&gt;</th><th scope=col>&lt;dbl&gt;</th><th scope=col>&lt;dbl&gt;</th><th scope=col>&lt;dbl&gt;</th><th scope=col>&lt;dbl&gt;</th><th scope=col>&lt;dbl&gt;</th></tr>\n",
       "</thead>\n",
       "<tbody>\n",
       "\t<tr><th scope=row>Climates</th><td> 0.198</td><td>0.156</td><td> 0.188</td><td>0.181</td><td> 0.182</td><td>0.120</td></tr>\n",
       "\t<tr><th scope=row>Demographics</th><td> 0.035</td><td>0.395</td><td> 0.063</td><td>0.332</td><td>-0.278</td><td>0.986</td></tr>\n",
       "\t<tr><th scope=row>Disease</th><td>-0.014</td><td>0.575</td><td>-0.027</td><td>0.632</td><td>-0.052</td><td>0.729</td></tr>\n",
       "\t<tr><th scope=row>Education</th><td> 0.123</td><td>0.203</td><td> 0.122</td><td>0.207</td><td> 0.032</td><td>0.366</td></tr>\n",
       "\t<tr><th scope=row>Gene</th><td>-0.139</td><td>0.700</td><td>-0.230</td><td>0.839</td><td>-0.065</td><td>0.598</td></tr>\n",
       "\t<tr><th scope=row>Geography</th><td>-0.122</td><td>0.776</td><td>-0.127</td><td>0.790</td><td>-0.164</td><td>0.891</td></tr>\n",
       "\t<tr><th scope=row>Hofstede6D</th><td>-0.087</td><td>0.700</td><td>-0.125</td><td>0.773</td><td>-0.090</td><td>0.728</td></tr>\n",
       "\t<tr><th scope=row>Language</th><td> 0.091</td><td>0.369</td><td>-0.047</td><td>0.573</td><td> 0.238</td><td>0.154</td></tr>\n",
       "\t<tr><th scope=row>Personality</th><td> 0.146</td><td>0.188</td><td> 0.188</td><td>0.177</td><td> 0.050</td><td>0.321</td></tr>\n",
       "\t<tr><th scope=row>Politics</th><td>-0.078</td><td>0.716</td><td>-0.083</td><td>0.730</td><td>-0.063</td><td>0.691</td></tr>\n",
       "\t<tr><th scope=row>Religion</th><td> 0.317</td><td>0.109</td><td> 0.419</td><td>0.048</td><td> 0.177</td><td>0.223</td></tr>\n",
       "\t<tr><th scope=row>Subsistence</th><td>-0.045</td><td>0.614</td><td>-0.005</td><td>0.502</td><td> 0.023</td><td>0.413</td></tr>\n",
       "\t<tr><th scope=row>Urbanization</th><td> 0.445</td><td>0.018</td><td> 0.326</td><td>0.050</td><td> 0.307</td><td>0.044</td></tr>\n",
       "\t<tr><th scope=row>Wealth</th><td>-0.072</td><td>0.693</td><td>-0.077</td><td>0.708</td><td> 0.080</td><td>0.241</td></tr>\n",
       "\t<tr><th scope=row>Object knowledge</th><td> 0.017</td><td>0.439</td><td> 0.056</td><td>0.359</td><td>-0.098</td><td>0.749</td></tr>\n",
       "</tbody>\n",
       "</table>\n"
      ],
      "text/latex": [
       "A data.frame: 15 × 6\n",
       "\\begin{tabular}{r|llllll}\n",
       "  & full\\_r & full\\_p & favee\\_r & favee\\_p & hpp\\_r & hpp\\_p\\\\\n",
       "  & <dbl> & <dbl> & <dbl> & <dbl> & <dbl> & <dbl>\\\\\n",
       "\\hline\n",
       "\tClimates &  0.198 & 0.156 &  0.188 & 0.181 &  0.182 & 0.120\\\\\n",
       "\tDemographics &  0.035 & 0.395 &  0.063 & 0.332 & -0.278 & 0.986\\\\\n",
       "\tDisease & -0.014 & 0.575 & -0.027 & 0.632 & -0.052 & 0.729\\\\\n",
       "\tEducation &  0.123 & 0.203 &  0.122 & 0.207 &  0.032 & 0.366\\\\\n",
       "\tGene & -0.139 & 0.700 & -0.230 & 0.839 & -0.065 & 0.598\\\\\n",
       "\tGeography & -0.122 & 0.776 & -0.127 & 0.790 & -0.164 & 0.891\\\\\n",
       "\tHofstede6D & -0.087 & 0.700 & -0.125 & 0.773 & -0.090 & 0.728\\\\\n",
       "\tLanguage &  0.091 & 0.369 & -0.047 & 0.573 &  0.238 & 0.154\\\\\n",
       "\tPersonality &  0.146 & 0.188 &  0.188 & 0.177 &  0.050 & 0.321\\\\\n",
       "\tPolitics & -0.078 & 0.716 & -0.083 & 0.730 & -0.063 & 0.691\\\\\n",
       "\tReligion &  0.317 & 0.109 &  0.419 & 0.048 &  0.177 & 0.223\\\\\n",
       "\tSubsistence & -0.045 & 0.614 & -0.005 & 0.502 &  0.023 & 0.413\\\\\n",
       "\tUrbanization &  0.445 & 0.018 &  0.326 & 0.050 &  0.307 & 0.044\\\\\n",
       "\tWealth & -0.072 & 0.693 & -0.077 & 0.708 &  0.080 & 0.241\\\\\n",
       "\tObject knowledge &  0.017 & 0.439 &  0.056 & 0.359 & -0.098 & 0.749\\\\\n",
       "\\end{tabular}\n"
      ],
      "text/markdown": [
       "\n",
       "A data.frame: 15 × 6\n",
       "\n",
       "| <!--/--> | full_r &lt;dbl&gt; | full_p &lt;dbl&gt; | favee_r &lt;dbl&gt; | favee_p &lt;dbl&gt; | hpp_r &lt;dbl&gt; | hpp_p &lt;dbl&gt; |\n",
       "|---|---|---|---|---|---|---|\n",
       "| Climates |  0.198 | 0.156 |  0.188 | 0.181 |  0.182 | 0.120 |\n",
       "| Demographics |  0.035 | 0.395 |  0.063 | 0.332 | -0.278 | 0.986 |\n",
       "| Disease | -0.014 | 0.575 | -0.027 | 0.632 | -0.052 | 0.729 |\n",
       "| Education |  0.123 | 0.203 |  0.122 | 0.207 |  0.032 | 0.366 |\n",
       "| Gene | -0.139 | 0.700 | -0.230 | 0.839 | -0.065 | 0.598 |\n",
       "| Geography | -0.122 | 0.776 | -0.127 | 0.790 | -0.164 | 0.891 |\n",
       "| Hofstede6D | -0.087 | 0.700 | -0.125 | 0.773 | -0.090 | 0.728 |\n",
       "| Language |  0.091 | 0.369 | -0.047 | 0.573 |  0.238 | 0.154 |\n",
       "| Personality |  0.146 | 0.188 |  0.188 | 0.177 |  0.050 | 0.321 |\n",
       "| Politics | -0.078 | 0.716 | -0.083 | 0.730 | -0.063 | 0.691 |\n",
       "| Religion |  0.317 | 0.109 |  0.419 | 0.048 |  0.177 | 0.223 |\n",
       "| Subsistence | -0.045 | 0.614 | -0.005 | 0.502 |  0.023 | 0.413 |\n",
       "| Urbanization |  0.445 | 0.018 |  0.326 | 0.050 |  0.307 | 0.044 |\n",
       "| Wealth | -0.072 | 0.693 | -0.077 | 0.708 |  0.080 | 0.241 |\n",
       "| Object knowledge |  0.017 | 0.439 |  0.056 | 0.359 | -0.098 | 0.749 |\n",
       "\n"
      ],
      "text/plain": [
       "                 full_r full_p favee_r favee_p hpp_r  hpp_p\n",
       "Climates          0.198 0.156   0.188  0.181    0.182 0.120\n",
       "Demographics      0.035 0.395   0.063  0.332   -0.278 0.986\n",
       "Disease          -0.014 0.575  -0.027  0.632   -0.052 0.729\n",
       "Education         0.123 0.203   0.122  0.207    0.032 0.366\n",
       "Gene             -0.139 0.700  -0.230  0.839   -0.065 0.598\n",
       "Geography        -0.122 0.776  -0.127  0.790   -0.164 0.891\n",
       "Hofstede6D       -0.087 0.700  -0.125  0.773   -0.090 0.728\n",
       "Language          0.091 0.369  -0.047  0.573    0.238 0.154\n",
       "Personality       0.146 0.188   0.188  0.177    0.050 0.321\n",
       "Politics         -0.078 0.716  -0.083  0.730   -0.063 0.691\n",
       "Religion          0.317 0.109   0.419  0.048    0.177 0.223\n",
       "Subsistence      -0.045 0.614  -0.005  0.502    0.023 0.413\n",
       "Urbanization      0.445 0.018   0.326  0.050    0.307 0.044\n",
       "Wealth           -0.072 0.693  -0.077  0.708    0.080 0.241\n",
       "Object knowledge  0.017 0.439   0.056  0.359   -0.098 0.749"
      ]
     },
     "metadata": {},
     "output_type": "display_data"
    }
   ],
   "source": [
    "rsa_result = data.frame(full_r = full_feature_beta,full_p = full_feature_p,\n",
    "                        favee_r = favee_beta,favee_p = favee_p,\n",
    "                        hpp_r = hpp_beta,hpp_p = hpp_p)\n",
    "rownames(rsa_result) = variables_name_final\n",
    "rsa_result = rsa_result[output_order,]\n",
    "rsa_result = round(rsa_result,3)\n",
    "rsa_result\n",
    "write.csv(rsa_result,'output_data/rsa_results/follow_up_analysis.csv')"
   ]
  },
  {
   "cell_type": "markdown",
   "id": "90e472ce",
   "metadata": {},
   "source": [
    "# Dimensional: single dimension"
   ]
  },
  {
   "cell_type": "markdown",
   "id": "f1a21f44",
   "metadata": {},
   "source": [
    "## Formality"
   ]
  },
  {
   "cell_type": "code",
   "execution_count": 19,
   "id": "8aa6111e",
   "metadata": {
    "ExecuteTime": {
     "end_time": "2023-10-05T06:16:01.430953Z",
     "start_time": "2023-10-05T06:12:30.119Z"
    },
    "vscode": {
     "languageId": "r"
    }
   },
   "outputs": [
    {
     "data": {
      "text/plain": [
       "\n",
       "Call:\n",
       "lm(formula = scale(model_rdm_array) ~ scale(x))\n",
       "\n",
       "Residuals:\n",
       "     Min       1Q   Median       3Q      Max \n",
       "-2.11347 -0.47424  0.06329  0.46635  1.87872 \n",
       "\n",
       "Coefficients:\n",
       "                               Estimate Std. Error t value Pr(>|t|)    \n",
       "(Intercept)                  -2.977e-16  5.684e-02   0.000 1.000000    \n",
       "scale(x)Lexical              -3.544e-01  9.421e-02  -3.762 0.000239 ***\n",
       "scale(x)personality_all       5.911e-02  6.537e-02   0.904 0.367323    \n",
       "scale(x)Coordinate           -1.975e-01  6.889e-02  -2.868 0.004712 ** \n",
       "scale(x)Climatic_demands      6.586e-02  6.490e-02   1.015 0.311816    \n",
       "scale(x)subsistence          -6.763e-02  6.656e-02  -1.016 0.311139    \n",
       "scale(x)disease              -6.892e-02  6.750e-02  -1.021 0.308813    \n",
       "scale(x)urban                 7.631e-02  6.894e-02   1.107 0.270086    \n",
       "scale(x)wealth               -1.299e-01  7.167e-02  -1.812 0.071871 .  \n",
       "scale(x)edu                   1.460e-01  6.393e-02   2.285 0.023695 *  \n",
       "scale(x)Hofstede_6D          -5.758e-03  7.035e-02  -0.082 0.934875    \n",
       "scale(x)new_gendist_weighted -1.162e-01  7.707e-02  -1.507 0.133785    \n",
       "scale(x)religion_per          6.870e-01  1.066e-01   6.443  1.4e-09 ***\n",
       "scale(x)idealogy             -4.575e-02  6.373e-02  -0.718 0.473894    \n",
       "scale(x)demographics         -3.011e-02  6.841e-02  -0.440 0.660388    \n",
       "scale(x)check_size            2.427e-01  6.087e-02   3.988 0.000103 ***\n",
       "---\n",
       "Signif. codes:  0 '***' 0.001 '**' 0.01 '*' 0.05 '.' 0.1 ' ' 1\n",
       "\n",
       "Residual standard error: 0.7433 on 155 degrees of freedom\n",
       "Multiple R-squared:  0.4962,\tAdjusted R-squared:  0.4474 \n",
       "F-statistic: 10.18 on 15 and 155 DF,  p-value: < 2.2e-16\n"
      ]
     },
     "metadata": {},
     "output_type": "display_data"
    },
    {
     "name": "stdout",
     "output_type": "stream",
     "text": [
      "[1] \"fstats: 10.1774061602122\"\n",
      "[1] \"r2stats: 0.496198889533694\"\n",
      "[1] 10000\n",
      "[1] \"permf_pvals 0.006\"\n"
     ]
    },
    {
     "data": {
      "text/html": [
       "<table class=\"dataframe\">\n",
       "<caption>A data.frame: 1 × 15</caption>\n",
       "<thead>\n",
       "\t<tr><th scope=col>Lexical</th><th scope=col>personality_all</th><th scope=col>Coordinate</th><th scope=col>Climatic_demands</th><th scope=col>subsistence</th><th scope=col>disease</th><th scope=col>urban</th><th scope=col>wealth</th><th scope=col>edu</th><th scope=col>Hofstede_6D</th><th scope=col>new_gendist_weighted</th><th scope=col>religion_per</th><th scope=col>idealogy</th><th scope=col>demographics</th><th scope=col>check_size</th></tr>\n",
       "\t<tr><th scope=col>&lt;dbl&gt;</th><th scope=col>&lt;dbl&gt;</th><th scope=col>&lt;dbl&gt;</th><th scope=col>&lt;dbl&gt;</th><th scope=col>&lt;dbl&gt;</th><th scope=col>&lt;dbl&gt;</th><th scope=col>&lt;dbl&gt;</th><th scope=col>&lt;dbl&gt;</th><th scope=col>&lt;dbl&gt;</th><th scope=col>&lt;dbl&gt;</th><th scope=col>&lt;dbl&gt;</th><th scope=col>&lt;dbl&gt;</th><th scope=col>&lt;dbl&gt;</th><th scope=col>&lt;dbl&gt;</th><th scope=col>&lt;dbl&gt;</th></tr>\n",
       "</thead>\n",
       "<tbody>\n",
       "\t<tr><td>0.9301</td><td>0.342</td><td>0.9247</td><td>0.3248</td><td>0.6909</td><td>0.7875</td><td>0.3144</td><td>0.8531</td><td>0.1503</td><td>0.5139</td><td>0.6905</td><td>0.0012</td><td>0.6301</td><td>0.568</td><td>0.0561</td></tr>\n",
       "</tbody>\n",
       "</table>\n"
      ],
      "text/latex": [
       "A data.frame: 1 × 15\n",
       "\\begin{tabular}{lllllllllllllll}\n",
       " Lexical & personality\\_all & Coordinate & Climatic\\_demands & subsistence & disease & urban & wealth & edu & Hofstede\\_6D & new\\_gendist\\_weighted & religion\\_per & idealogy & demographics & check\\_size\\\\\n",
       " <dbl> & <dbl> & <dbl> & <dbl> & <dbl> & <dbl> & <dbl> & <dbl> & <dbl> & <dbl> & <dbl> & <dbl> & <dbl> & <dbl> & <dbl>\\\\\n",
       "\\hline\n",
       "\t 0.9301 & 0.342 & 0.9247 & 0.3248 & 0.6909 & 0.7875 & 0.3144 & 0.8531 & 0.1503 & 0.5139 & 0.6905 & 0.0012 & 0.6301 & 0.568 & 0.0561\\\\\n",
       "\\end{tabular}\n"
      ],
      "text/markdown": [
       "\n",
       "A data.frame: 1 × 15\n",
       "\n",
       "| Lexical &lt;dbl&gt; | personality_all &lt;dbl&gt; | Coordinate &lt;dbl&gt; | Climatic_demands &lt;dbl&gt; | subsistence &lt;dbl&gt; | disease &lt;dbl&gt; | urban &lt;dbl&gt; | wealth &lt;dbl&gt; | edu &lt;dbl&gt; | Hofstede_6D &lt;dbl&gt; | new_gendist_weighted &lt;dbl&gt; | religion_per &lt;dbl&gt; | idealogy &lt;dbl&gt; | demographics &lt;dbl&gt; | check_size &lt;dbl&gt; |\n",
       "|---|---|---|---|---|---|---|---|---|---|---|---|---|---|---|\n",
       "| 0.9301 | 0.342 | 0.9247 | 0.3248 | 0.6909 | 0.7875 | 0.3144 | 0.8531 | 0.1503 | 0.5139 | 0.6905 | 0.0012 | 0.6301 | 0.568 | 0.0561 |\n",
       "\n"
      ],
      "text/plain": [
       "  Lexical personality_all Coordinate Climatic_demands subsistence disease\n",
       "1 0.9301  0.342           0.9247     0.3248           0.6909      0.7875 \n",
       "  urban  wealth edu    Hofstede_6D new_gendist_weighted religion_per idealogy\n",
       "1 0.3144 0.8531 0.1503 0.5139      0.6905               0.0012       0.6301  \n",
       "  demographics check_size\n",
       "1 0.568        0.0561    "
      ]
     },
     "metadata": {},
     "output_type": "display_data"
    }
   ],
   "source": [
    "# 1.regression coefficient\n",
    "model_rdm = read.csv('output_data/models_rdm/dimensional/formality_dissim_dist.csv',\n",
    "                    row.names =1, check.names = FALSE)\n",
    "model_rdm = model_rdm[regions_order,regions_order]\n",
    "model_rdm_array = lowerTriangle(model_rdm)\n",
    "\n",
    "x <- do.call(cbind,lapply(variables,function(x) lowerTriangle(x))) # generate permuted predictors\n",
    "colnames(x) = variables_names\n",
    "culture_regress_standard <- lm(scale(model_rdm_array)~scale(x))\n",
    "culture_regress_standard_model <- summary(culture_regress_standard)\n",
    "culture_regress_standard_model\n",
    "\n",
    "write.csv(culture_regress_standard_model$coefficients,\n",
    " file='output_data/rsa_results/beta_sub/check_size/formality_33d.csv')\n",
    "formality_regression = culture_regress_standard_model\n",
    "\n",
    "# 2.permutation\n",
    "p_value_sub = permutation_result(formality_regression)\n",
    "p_value_sub\n",
    "write.csv(p_value_sub,'output_data/rsa_results/p_value_sub/check_size/formality_33d.csv')"
   ]
  },
  {
   "cell_type": "markdown",
   "id": "54d736c2",
   "metadata": {},
   "source": [
    "## Activeness"
   ]
  },
  {
   "cell_type": "code",
   "execution_count": 20,
   "id": "c76ed67e",
   "metadata": {
    "ExecuteTime": {
     "end_time": "2023-10-05T06:16:54.566961Z",
     "start_time": "2023-10-05T06:12:30.236Z"
    },
    "vscode": {
     "languageId": "r"
    }
   },
   "outputs": [
    {
     "data": {
      "text/plain": [
       "\n",
       "Call:\n",
       "lm(formula = scale(model_rdm_array) ~ scale(x))\n",
       "\n",
       "Residuals:\n",
       "     Min       1Q   Median       3Q      Max \n",
       "-2.46213 -0.45139  0.04742  0.52119  2.24763 \n",
       "\n",
       "Coefficients:\n",
       "                               Estimate Std. Error t value Pr(>|t|)    \n",
       "(Intercept)                   5.724e-16  6.486e-02   0.000 1.000000    \n",
       "scale(x)Lexical              -1.319e-01  1.075e-01  -1.227 0.221681    \n",
       "scale(x)personality_all       1.311e-01  7.459e-02   1.758 0.080705 .  \n",
       "scale(x)Coordinate           -1.131e-01  7.860e-02  -1.439 0.152163    \n",
       "scale(x)Climatic_demands      4.781e-02  7.405e-02   0.646 0.519511    \n",
       "scale(x)subsistence          -2.503e-02  7.594e-02  -0.330 0.742187    \n",
       "scale(x)disease              -5.605e-02  7.702e-02  -0.728 0.467881    \n",
       "scale(x)urban                 2.751e-01  7.866e-02   3.498 0.000612 ***\n",
       "scale(x)wealth               -9.944e-02  8.178e-02  -1.216 0.225874    \n",
       "scale(x)edu                   1.384e-01  7.294e-02   1.898 0.059591 .  \n",
       "scale(x)Hofstede_6D          -9.663e-03  8.027e-02  -0.120 0.904336    \n",
       "scale(x)new_gendist_weighted -1.211e-02  8.794e-02  -0.138 0.890660    \n",
       "scale(x)religion_per          4.143e-01  1.217e-01   3.405 0.000843 ***\n",
       "scale(x)idealogy             -9.249e-02  7.272e-02  -1.272 0.205294    \n",
       "scale(x)demographics          2.307e-02  7.805e-02   0.296 0.767914    \n",
       "scale(x)check_size            4.127e-03  6.945e-02   0.059 0.952688    \n",
       "---\n",
       "Signif. codes:  0 '***' 0.001 '**' 0.01 '*' 0.05 '.' 0.1 ' ' 1\n",
       "\n",
       "Residual standard error: 0.8482 on 155 degrees of freedom\n",
       "Multiple R-squared:  0.3441,\tAdjusted R-squared:  0.2806 \n",
       "F-statistic: 5.421 on 15 and 155 DF,  p-value: 1.015e-08\n"
      ]
     },
     "metadata": {},
     "output_type": "display_data"
    },
    {
     "name": "stdout",
     "output_type": "stream",
     "text": [
      "[1] \"fstats: 5.42114936948858\"\n",
      "[1] \"r2stats: 0.344102023008191\"\n",
      "[1] 10000\n",
      "[1] \"permf_pvals 0.0735\"\n"
     ]
    },
    {
     "data": {
      "text/html": [
       "<table class=\"dataframe\">\n",
       "<caption>A data.frame: 1 × 15</caption>\n",
       "<thead>\n",
       "\t<tr><th scope=col>Lexical</th><th scope=col>personality_all</th><th scope=col>Coordinate</th><th scope=col>Climatic_demands</th><th scope=col>subsistence</th><th scope=col>disease</th><th scope=col>urban</th><th scope=col>wealth</th><th scope=col>edu</th><th scope=col>Hofstede_6D</th><th scope=col>new_gendist_weighted</th><th scope=col>religion_per</th><th scope=col>idealogy</th><th scope=col>demographics</th><th scope=col>check_size</th></tr>\n",
       "\t<tr><th scope=col>&lt;dbl&gt;</th><th scope=col>&lt;dbl&gt;</th><th scope=col>&lt;dbl&gt;</th><th scope=col>&lt;dbl&gt;</th><th scope=col>&lt;dbl&gt;</th><th scope=col>&lt;dbl&gt;</th><th scope=col>&lt;dbl&gt;</th><th scope=col>&lt;dbl&gt;</th><th scope=col>&lt;dbl&gt;</th><th scope=col>&lt;dbl&gt;</th><th scope=col>&lt;dbl&gt;</th><th scope=col>&lt;dbl&gt;</th><th scope=col>&lt;dbl&gt;</th><th scope=col>&lt;dbl&gt;</th><th scope=col>&lt;dbl&gt;</th></tr>\n",
       "</thead>\n",
       "<tbody>\n",
       "\t<tr><td>0.7189</td><td>0.215</td><td>0.7924</td><td>0.3656</td><td>0.5582</td><td>0.7408</td><td>0.0483</td><td>0.7849</td><td>0.1418</td><td>0.5275</td><td>0.4997</td><td>0.0306</td><td>0.7843</td><td>0.4231</td><td>0.4787</td></tr>\n",
       "</tbody>\n",
       "</table>\n"
      ],
      "text/latex": [
       "A data.frame: 1 × 15\n",
       "\\begin{tabular}{lllllllllllllll}\n",
       " Lexical & personality\\_all & Coordinate & Climatic\\_demands & subsistence & disease & urban & wealth & edu & Hofstede\\_6D & new\\_gendist\\_weighted & religion\\_per & idealogy & demographics & check\\_size\\\\\n",
       " <dbl> & <dbl> & <dbl> & <dbl> & <dbl> & <dbl> & <dbl> & <dbl> & <dbl> & <dbl> & <dbl> & <dbl> & <dbl> & <dbl> & <dbl>\\\\\n",
       "\\hline\n",
       "\t 0.7189 & 0.215 & 0.7924 & 0.3656 & 0.5582 & 0.7408 & 0.0483 & 0.7849 & 0.1418 & 0.5275 & 0.4997 & 0.0306 & 0.7843 & 0.4231 & 0.4787\\\\\n",
       "\\end{tabular}\n"
      ],
      "text/markdown": [
       "\n",
       "A data.frame: 1 × 15\n",
       "\n",
       "| Lexical &lt;dbl&gt; | personality_all &lt;dbl&gt; | Coordinate &lt;dbl&gt; | Climatic_demands &lt;dbl&gt; | subsistence &lt;dbl&gt; | disease &lt;dbl&gt; | urban &lt;dbl&gt; | wealth &lt;dbl&gt; | edu &lt;dbl&gt; | Hofstede_6D &lt;dbl&gt; | new_gendist_weighted &lt;dbl&gt; | religion_per &lt;dbl&gt; | idealogy &lt;dbl&gt; | demographics &lt;dbl&gt; | check_size &lt;dbl&gt; |\n",
       "|---|---|---|---|---|---|---|---|---|---|---|---|---|---|---|\n",
       "| 0.7189 | 0.215 | 0.7924 | 0.3656 | 0.5582 | 0.7408 | 0.0483 | 0.7849 | 0.1418 | 0.5275 | 0.4997 | 0.0306 | 0.7843 | 0.4231 | 0.4787 |\n",
       "\n"
      ],
      "text/plain": [
       "  Lexical personality_all Coordinate Climatic_demands subsistence disease\n",
       "1 0.7189  0.215           0.7924     0.3656           0.5582      0.7408 \n",
       "  urban  wealth edu    Hofstede_6D new_gendist_weighted religion_per idealogy\n",
       "1 0.0483 0.7849 0.1418 0.5275      0.4997               0.0306       0.7843  \n",
       "  demographics check_size\n",
       "1 0.4231       0.4787    "
      ]
     },
     "metadata": {},
     "output_type": "display_data"
    }
   ],
   "source": [
    "# 1.regression coefficient\n",
    "model_rdm = read.csv('output_data/models_rdm/dimensional/activeness_dissim_dist.csv',\n",
    "                    row.names =1, check.names = FALSE)\n",
    "model_rdm = model_rdm[regions_order,regions_order]\n",
    "model_rdm_array = lowerTriangle(model_rdm)\n",
    "\n",
    "x <- do.call(cbind,lapply(variables,function(x) lowerTriangle(x))) # generate permuted predictors\n",
    "colnames(x) = variables_names\n",
    "culture_regress_standard <- lm(scale(model_rdm_array)~scale(x))\n",
    "culture_regress_standard_model <- summary(culture_regress_standard)\n",
    "culture_regress_standard_model\n",
    "\n",
    "write.csv(culture_regress_standard_model$coefficients,\n",
    " file='output_data/rsa_results/beta_sub/check_size/activeness_33d.csv')\n",
    "activeness_regression = culture_regress_standard_model\n",
    "\n",
    "# 2.permutation\n",
    "p_value_sub = permutation_result(activeness_regression)\n",
    "p_value_sub\n",
    "write.csv(p_value_sub,'output_data/rsa_results/p_value_sub/check_size/activeness_33d.csv')                         "
   ]
  },
  {
   "cell_type": "markdown",
   "id": "41bd4acc",
   "metadata": {},
   "source": [
    "## Valence"
   ]
  },
  {
   "cell_type": "code",
   "execution_count": 21,
   "id": "f4f8de88",
   "metadata": {
    "ExecuteTime": {
     "end_time": "2023-10-05T06:17:43.804960Z",
     "start_time": "2023-10-05T06:12:30.369Z"
    },
    "vscode": {
     "languageId": "r"
    }
   },
   "outputs": [
    {
     "data": {
      "text/plain": [
       "\n",
       "Call:\n",
       "lm(formula = scale(model_rdm_array) ~ scale(x))\n",
       "\n",
       "Residuals:\n",
       "     Min       1Q   Median       3Q      Max \n",
       "-1.78316 -0.54560 -0.02267  0.49473  2.22229 \n",
       "\n",
       "Coefficients:\n",
       "                               Estimate Std. Error t value Pr(>|t|)    \n",
       "(Intercept)                   2.163e-16  6.285e-02   0.000 1.000000    \n",
       "scale(x)Lexical              -2.685e-01  1.042e-01  -2.578 0.010875 *  \n",
       "scale(x)personality_all       1.122e-01  7.227e-02   1.552 0.122650    \n",
       "scale(x)Coordinate           -5.272e-02  7.616e-02  -0.692 0.489804    \n",
       "scale(x)Climatic_demands      1.831e-01  7.175e-02   2.552 0.011682 *  \n",
       "scale(x)subsistence          -1.798e-01  7.358e-02  -2.443 0.015671 *  \n",
       "scale(x)disease              -7.032e-02  7.462e-02  -0.942 0.347465    \n",
       "scale(x)urban                 2.865e-01  7.622e-02   3.758 0.000242 ***\n",
       "scale(x)wealth               -9.029e-04  7.924e-02  -0.011 0.990923    \n",
       "scale(x)edu                   1.573e-01  7.068e-02   2.225 0.027517 *  \n",
       "scale(x)Hofstede_6D          -1.327e-01  7.778e-02  -1.706 0.090054 .  \n",
       "scale(x)new_gendist_weighted  1.152e-01  8.521e-02   1.353 0.178150    \n",
       "scale(x)religion_per          3.713e-01  1.179e-01   3.150 0.001962 ** \n",
       "scale(x)idealogy             -4.918e-02  7.046e-02  -0.698 0.486210    \n",
       "scale(x)demographics          1.342e-01  7.563e-02   1.774 0.077948 .  \n",
       "scale(x)check_size           -1.024e-02  6.730e-02  -0.152 0.879284    \n",
       "---\n",
       "Signif. codes:  0 '***' 0.001 '**' 0.01 '*' 0.05 '.' 0.1 ' ' 1\n",
       "\n",
       "Residual standard error: 0.8218 on 155 degrees of freedom\n",
       "Multiple R-squared:  0.3842,\tAdjusted R-squared:  0.3246 \n",
       "F-statistic: 6.447 on 15 and 155 DF,  p-value: 1.52e-10\n"
      ]
     },
     "metadata": {},
     "output_type": "display_data"
    },
    {
     "name": "stdout",
     "output_type": "stream",
     "text": [
      "[1] \"fstats: 6.44740754077954\"\n",
      "[1] \"r2stats: 0.384214713113517\"\n",
      "[1] 10000\n",
      "[1] \"permf_pvals 0.1954\"\n"
     ]
    },
    {
     "data": {
      "text/html": [
       "<table class=\"dataframe\">\n",
       "<caption>A data.frame: 1 × 15</caption>\n",
       "<thead>\n",
       "\t<tr><th scope=col>Lexical</th><th scope=col>personality_all</th><th scope=col>Coordinate</th><th scope=col>Climatic_demands</th><th scope=col>subsistence</th><th scope=col>disease</th><th scope=col>urban</th><th scope=col>wealth</th><th scope=col>edu</th><th scope=col>Hofstede_6D</th><th scope=col>new_gendist_weighted</th><th scope=col>religion_per</th><th scope=col>idealogy</th><th scope=col>demographics</th><th scope=col>check_size</th></tr>\n",
       "\t<tr><th scope=col>&lt;dbl&gt;</th><th scope=col>&lt;dbl&gt;</th><th scope=col>&lt;dbl&gt;</th><th scope=col>&lt;dbl&gt;</th><th scope=col>&lt;dbl&gt;</th><th scope=col>&lt;dbl&gt;</th><th scope=col>&lt;dbl&gt;</th><th scope=col>&lt;dbl&gt;</th><th scope=col>&lt;dbl&gt;</th><th scope=col>&lt;dbl&gt;</th><th scope=col>&lt;dbl&gt;</th><th scope=col>&lt;dbl&gt;</th><th scope=col>&lt;dbl&gt;</th><th scope=col>&lt;dbl&gt;</th><th scope=col>&lt;dbl&gt;</th></tr>\n",
       "</thead>\n",
       "<tbody>\n",
       "\t<tr><td>0.853</td><td>0.2555</td><td>0.6099</td><td>0.1771</td><td>0.9075</td><td>0.8008</td><td>0.0671</td><td>0.479</td><td>0.1473</td><td>0.8016</td><td>0.2752</td><td>0.0719</td><td>0.6377</td><td>0.1896</td><td>0.5093</td></tr>\n",
       "</tbody>\n",
       "</table>\n"
      ],
      "text/latex": [
       "A data.frame: 1 × 15\n",
       "\\begin{tabular}{lllllllllllllll}\n",
       " Lexical & personality\\_all & Coordinate & Climatic\\_demands & subsistence & disease & urban & wealth & edu & Hofstede\\_6D & new\\_gendist\\_weighted & religion\\_per & idealogy & demographics & check\\_size\\\\\n",
       " <dbl> & <dbl> & <dbl> & <dbl> & <dbl> & <dbl> & <dbl> & <dbl> & <dbl> & <dbl> & <dbl> & <dbl> & <dbl> & <dbl> & <dbl>\\\\\n",
       "\\hline\n",
       "\t 0.853 & 0.2555 & 0.6099 & 0.1771 & 0.9075 & 0.8008 & 0.0671 & 0.479 & 0.1473 & 0.8016 & 0.2752 & 0.0719 & 0.6377 & 0.1896 & 0.5093\\\\\n",
       "\\end{tabular}\n"
      ],
      "text/markdown": [
       "\n",
       "A data.frame: 1 × 15\n",
       "\n",
       "| Lexical &lt;dbl&gt; | personality_all &lt;dbl&gt; | Coordinate &lt;dbl&gt; | Climatic_demands &lt;dbl&gt; | subsistence &lt;dbl&gt; | disease &lt;dbl&gt; | urban &lt;dbl&gt; | wealth &lt;dbl&gt; | edu &lt;dbl&gt; | Hofstede_6D &lt;dbl&gt; | new_gendist_weighted &lt;dbl&gt; | religion_per &lt;dbl&gt; | idealogy &lt;dbl&gt; | demographics &lt;dbl&gt; | check_size &lt;dbl&gt; |\n",
       "|---|---|---|---|---|---|---|---|---|---|---|---|---|---|---|\n",
       "| 0.853 | 0.2555 | 0.6099 | 0.1771 | 0.9075 | 0.8008 | 0.0671 | 0.479 | 0.1473 | 0.8016 | 0.2752 | 0.0719 | 0.6377 | 0.1896 | 0.5093 |\n",
       "\n"
      ],
      "text/plain": [
       "  Lexical personality_all Coordinate Climatic_demands subsistence disease\n",
       "1 0.853   0.2555          0.6099     0.1771           0.9075      0.8008 \n",
       "  urban  wealth edu    Hofstede_6D new_gendist_weighted religion_per idealogy\n",
       "1 0.0671 0.479  0.1473 0.8016      0.2752               0.0719       0.6377  \n",
       "  demographics check_size\n",
       "1 0.1896       0.5093    "
      ]
     },
     "metadata": {},
     "output_type": "display_data"
    }
   ],
   "source": [
    "# 1.regression coefficient\n",
    "model_rdm = read.csv('output_data/models_rdm/dimensional/valence_dissim_dist.csv',\n",
    "                    row.names =1, check.names = FALSE)\n",
    "model_rdm = model_rdm[regions_order,regions_order]\n",
    "model_rdm_array = lowerTriangle(model_rdm)\n",
    "\n",
    "x <- do.call(cbind,lapply(variables,function(x) lowerTriangle(x))) # generate permuted predictors\n",
    "colnames(x) = variables_names\n",
    "culture_regress_standard <- lm(scale(model_rdm_array)~scale(x))\n",
    "culture_regress_standard_model <- summary(culture_regress_standard)\n",
    "culture_regress_standard_model\n",
    "\n",
    "write.csv(culture_regress_standard_model$coefficients,\n",
    " file='output_data/rsa_results/beta_sub/check_size/valence_33d.csv')\n",
    "valence_regression = culture_regress_standard_model\n",
    "\n",
    "# 2.permutation\n",
    "p_value_sub = permutation_result(valence_regression)\n",
    "p_value_sub\n",
    "write.csv(p_value_sub,'output_data/rsa_results/p_value_sub/check_size/valence_33d.csv')                          "
   ]
  },
  {
   "cell_type": "markdown",
   "id": "ec719acf",
   "metadata": {},
   "source": [
    "## Exchange"
   ]
  },
  {
   "cell_type": "code",
   "execution_count": 22,
   "id": "ae8b1d09",
   "metadata": {
    "ExecuteTime": {
     "end_time": "2023-10-05T06:18:34.200262Z",
     "start_time": "2023-10-05T06:12:30.491Z"
    },
    "vscode": {
     "languageId": "r"
    }
   },
   "outputs": [
    {
     "data": {
      "text/plain": [
       "\n",
       "Call:\n",
       "lm(formula = scale(model_rdm_array) ~ scale(x))\n",
       "\n",
       "Residuals:\n",
       "     Min       1Q   Median       3Q      Max \n",
       "-2.13864 -0.57332 -0.05492  0.56146  2.04401 \n",
       "\n",
       "Coefficients:\n",
       "                               Estimate Std. Error t value Pr(>|t|)    \n",
       "(Intercept)                   4.797e-16  6.965e-02   0.000 1.000000    \n",
       "scale(x)Lexical               2.330e-02  1.154e-01   0.202 0.840336    \n",
       "scale(x)personality_all      -6.917e-02  8.010e-02  -0.864 0.389171    \n",
       "scale(x)Coordinate           -5.639e-02  8.441e-02  -0.668 0.505075    \n",
       "scale(x)Climatic_demands      1.421e-02  7.953e-02   0.179 0.858417    \n",
       "scale(x)subsistence           6.070e-02  8.155e-02   0.744 0.457855    \n",
       "scale(x)disease              -5.221e-03  8.271e-02  -0.063 0.949753    \n",
       "scale(x)urban                 2.878e-01  8.448e-02   3.407 0.000836 ***\n",
       "scale(x)wealth               -4.826e-02  8.783e-02  -0.549 0.583468    \n",
       "scale(x)edu                   1.398e-01  7.833e-02   1.784 0.076344 .  \n",
       "scale(x)Hofstede_6D           6.668e-03  8.621e-02   0.077 0.938445    \n",
       "scale(x)new_gendist_weighted -2.064e-01  9.444e-02  -2.186 0.030316 *  \n",
       "scale(x)religion_per          1.616e-01  1.307e-01   1.237 0.217895    \n",
       "scale(x)idealogy             -1.928e-01  7.809e-02  -2.468 0.014655 *  \n",
       "scale(x)demographics          3.235e-02  8.382e-02   0.386 0.700073    \n",
       "scale(x)check_size           -7.936e-02  7.459e-02  -1.064 0.288965    \n",
       "---\n",
       "Signif. codes:  0 '***' 0.001 '**' 0.01 '*' 0.05 '.' 0.1 ' ' 1\n",
       "\n",
       "Residual standard error: 0.9109 on 155 degrees of freedom\n",
       "Multiple R-squared:  0.2435,\tAdjusted R-squared:  0.1703 \n",
       "F-statistic: 3.327 on 15 and 155 DF,  p-value: 7.603e-05\n"
      ]
     },
     "metadata": {},
     "output_type": "display_data"
    },
    {
     "name": "stdout",
     "output_type": "stream",
     "text": [
      "[1] \"fstats: 3.32696234066983\"\n",
      "[1] \"r2stats: 0.243549804489324\"\n",
      "[1] 10000\n",
      "[1] \"permf_pvals 0.6765\"\n"
     ]
    },
    {
     "data": {
      "text/html": [
       "<table class=\"dataframe\">\n",
       "<caption>A data.frame: 1 × 15</caption>\n",
       "<thead>\n",
       "\t<tr><th scope=col>Lexical</th><th scope=col>personality_all</th><th scope=col>Coordinate</th><th scope=col>Climatic_demands</th><th scope=col>subsistence</th><th scope=col>disease</th><th scope=col>urban</th><th scope=col>wealth</th><th scope=col>edu</th><th scope=col>Hofstede_6D</th><th scope=col>new_gendist_weighted</th><th scope=col>religion_per</th><th scope=col>idealogy</th><th scope=col>demographics</th><th scope=col>check_size</th></tr>\n",
       "\t<tr><th scope=col>&lt;dbl&gt;</th><th scope=col>&lt;dbl&gt;</th><th scope=col>&lt;dbl&gt;</th><th scope=col>&lt;dbl&gt;</th><th scope=col>&lt;dbl&gt;</th><th scope=col>&lt;dbl&gt;</th><th scope=col>&lt;dbl&gt;</th><th scope=col>&lt;dbl&gt;</th><th scope=col>&lt;dbl&gt;</th><th scope=col>&lt;dbl&gt;</th><th scope=col>&lt;dbl&gt;</th><th scope=col>&lt;dbl&gt;</th><th scope=col>&lt;dbl&gt;</th><th scope=col>&lt;dbl&gt;</th><th scope=col>&lt;dbl&gt;</th></tr>\n",
       "</thead>\n",
       "<tbody>\n",
       "\t<tr><td>0.4675</td><td>0.6081</td><td>0.6207</td><td>0.3951</td><td>0.3173</td><td>0.514</td><td>0.0618</td><td>0.6322</td><td>0.1669</td><td>0.4859</td><td>0.8292</td><td>0.2475</td><td>0.9497</td><td>0.3956</td><td>0.6827</td></tr>\n",
       "</tbody>\n",
       "</table>\n"
      ],
      "text/latex": [
       "A data.frame: 1 × 15\n",
       "\\begin{tabular}{lllllllllllllll}\n",
       " Lexical & personality\\_all & Coordinate & Climatic\\_demands & subsistence & disease & urban & wealth & edu & Hofstede\\_6D & new\\_gendist\\_weighted & religion\\_per & idealogy & demographics & check\\_size\\\\\n",
       " <dbl> & <dbl> & <dbl> & <dbl> & <dbl> & <dbl> & <dbl> & <dbl> & <dbl> & <dbl> & <dbl> & <dbl> & <dbl> & <dbl> & <dbl>\\\\\n",
       "\\hline\n",
       "\t 0.4675 & 0.6081 & 0.6207 & 0.3951 & 0.3173 & 0.514 & 0.0618 & 0.6322 & 0.1669 & 0.4859 & 0.8292 & 0.2475 & 0.9497 & 0.3956 & 0.6827\\\\\n",
       "\\end{tabular}\n"
      ],
      "text/markdown": [
       "\n",
       "A data.frame: 1 × 15\n",
       "\n",
       "| Lexical &lt;dbl&gt; | personality_all &lt;dbl&gt; | Coordinate &lt;dbl&gt; | Climatic_demands &lt;dbl&gt; | subsistence &lt;dbl&gt; | disease &lt;dbl&gt; | urban &lt;dbl&gt; | wealth &lt;dbl&gt; | edu &lt;dbl&gt; | Hofstede_6D &lt;dbl&gt; | new_gendist_weighted &lt;dbl&gt; | religion_per &lt;dbl&gt; | idealogy &lt;dbl&gt; | demographics &lt;dbl&gt; | check_size &lt;dbl&gt; |\n",
       "|---|---|---|---|---|---|---|---|---|---|---|---|---|---|---|\n",
       "| 0.4675 | 0.6081 | 0.6207 | 0.3951 | 0.3173 | 0.514 | 0.0618 | 0.6322 | 0.1669 | 0.4859 | 0.8292 | 0.2475 | 0.9497 | 0.3956 | 0.6827 |\n",
       "\n"
      ],
      "text/plain": [
       "  Lexical personality_all Coordinate Climatic_demands subsistence disease\n",
       "1 0.4675  0.6081          0.6207     0.3951           0.3173      0.514  \n",
       "  urban  wealth edu    Hofstede_6D new_gendist_weighted religion_per idealogy\n",
       "1 0.0618 0.6322 0.1669 0.4859      0.8292               0.2475       0.9497  \n",
       "  demographics check_size\n",
       "1 0.3956       0.6827    "
      ]
     },
     "metadata": {},
     "output_type": "display_data"
    }
   ],
   "source": [
    "# 1.regression coefficient\n",
    "model_rdm = read.csv('output_data/models_rdm/dimensional/exchange_dissim_dist.csv',\n",
    "                    row.names =1, check.names = FALSE)\n",
    "model_rdm = model_rdm[regions_order,regions_order]\n",
    "model_rdm_array = lowerTriangle(model_rdm)\n",
    "\n",
    "x <- do.call(cbind,lapply(variables,function(x) lowerTriangle(x))) # generate permuted predictors\n",
    "colnames(x) = variables_names\n",
    "culture_regress_standard <- lm(scale(model_rdm_array)~scale(x))\n",
    "culture_regress_standard_model <- summary(culture_regress_standard)\n",
    "culture_regress_standard_model\n",
    "\n",
    "write.csv(culture_regress_standard_model$coefficients,\n",
    " file='output_data/rsa_results/beta_sub/check_size/exchange_33d.csv')\n",
    "exchange_regression = culture_regress_standard_model\n",
    "\n",
    "# 2.permutation\n",
    "p_value_sub = permutation_result(exchange_regression)\n",
    "p_value_sub\n",
    "write.csv(p_value_sub,'output_data/rsa_results/p_value_sub/check_size/exchange_33d.csv')                         "
   ]
  },
  {
   "cell_type": "markdown",
   "id": "4f61c16f",
   "metadata": {},
   "source": [
    "## Equality"
   ]
  },
  {
   "cell_type": "code",
   "execution_count": 23,
   "id": "a56d9a56",
   "metadata": {
    "ExecuteTime": {
     "end_time": "2023-10-05T06:19:23.473294Z",
     "start_time": "2023-10-05T06:12:30.612Z"
    },
    "vscode": {
     "languageId": "r"
    }
   },
   "outputs": [
    {
     "data": {
      "text/plain": [
       "\n",
       "Call:\n",
       "lm(formula = scale(model_rdm_array) ~ scale(x))\n",
       "\n",
       "Residuals:\n",
       "     Min       1Q   Median       3Q      Max \n",
       "-2.40012 -0.47213  0.09744  0.46334  1.37367 \n",
       "\n",
       "Coefficients:\n",
       "                               Estimate Std. Error t value Pr(>|t|)    \n",
       "(Intercept)                   1.014e-16  5.403e-02   0.000 1.000000    \n",
       "scale(x)Lexical              -1.658e-01  8.954e-02  -1.852 0.065965 .  \n",
       "scale(x)personality_all       2.876e-01  6.213e-02   4.629 7.72e-06 ***\n",
       "scale(x)Coordinate           -1.281e-01  6.547e-02  -1.956 0.052285 .  \n",
       "scale(x)Climatic_demands      8.638e-02  6.168e-02   1.400 0.163373    \n",
       "scale(x)subsistence          -6.855e-03  6.326e-02  -0.108 0.913841    \n",
       "scale(x)disease               1.023e-02  6.415e-02   0.159 0.873510    \n",
       "scale(x)urban                 2.504e-01  6.552e-02   3.821 0.000192 ***\n",
       "scale(x)wealth               -3.461e-02  6.812e-02  -0.508 0.612124    \n",
       "scale(x)edu                   1.308e-01  6.076e-02   2.153 0.032902 *  \n",
       "scale(x)Hofstede_6D          -1.133e-01  6.686e-02  -1.694 0.092300 .  \n",
       "scale(x)new_gendist_weighted -1.905e-01  7.325e-02  -2.601 0.010190 *  \n",
       "scale(x)religion_per          4.685e-01  1.013e-01   4.623 7.93e-06 ***\n",
       "scale(x)idealogy             -7.961e-02  6.057e-02  -1.314 0.190683    \n",
       "scale(x)demographics          1.186e-01  6.501e-02   1.824 0.070072 .  \n",
       "scale(x)check_size            1.116e-01  5.785e-02   1.930 0.055446 .  \n",
       "---\n",
       "Signif. codes:  0 '***' 0.001 '**' 0.01 '*' 0.05 '.' 0.1 ' ' 1\n",
       "\n",
       "Residual standard error: 0.7065 on 155 degrees of freedom\n",
       "Multiple R-squared:  0.5449,\tAdjusted R-squared:  0.5009 \n",
       "F-statistic: 12.37 on 15 and 155 DF,  p-value: < 2.2e-16\n"
      ]
     },
     "metadata": {},
     "output_type": "display_data"
    },
    {
     "name": "stdout",
     "output_type": "stream",
     "text": [
      "[1] \"fstats: 12.3734546129319\"\n",
      "[1] \"r2stats: 0.544923158758219\"\n",
      "[1] 10000\n",
      "[1] \"permf_pvals 0.0046\"\n"
     ]
    },
    {
     "data": {
      "text/html": [
       "<table class=\"dataframe\">\n",
       "<caption>A data.frame: 1 × 15</caption>\n",
       "<thead>\n",
       "\t<tr><th scope=col>Lexical</th><th scope=col>personality_all</th><th scope=col>Coordinate</th><th scope=col>Climatic_demands</th><th scope=col>subsistence</th><th scope=col>disease</th><th scope=col>urban</th><th scope=col>wealth</th><th scope=col>edu</th><th scope=col>Hofstede_6D</th><th scope=col>new_gendist_weighted</th><th scope=col>religion_per</th><th scope=col>idealogy</th><th scope=col>demographics</th><th scope=col>check_size</th></tr>\n",
       "\t<tr><th scope=col>&lt;dbl&gt;</th><th scope=col>&lt;dbl&gt;</th><th scope=col>&lt;dbl&gt;</th><th scope=col>&lt;dbl&gt;</th><th scope=col>&lt;dbl&gt;</th><th scope=col>&lt;dbl&gt;</th><th scope=col>&lt;dbl&gt;</th><th scope=col>&lt;dbl&gt;</th><th scope=col>&lt;dbl&gt;</th><th scope=col>&lt;dbl&gt;</th><th scope=col>&lt;dbl&gt;</th><th scope=col>&lt;dbl&gt;</th><th scope=col>&lt;dbl&gt;</th><th scope=col>&lt;dbl&gt;</th><th scope=col>&lt;dbl&gt;</th></tr>\n",
       "</thead>\n",
       "<tbody>\n",
       "\t<tr><td>0.7447</td><td>0.063</td><td>0.8039</td><td>0.2928</td><td>0.4955</td><td>0.4496</td><td>0.0821</td><td>0.5888</td><td>0.1738</td><td>0.761</td><td>0.8014</td><td>0.0289</td><td>0.7311</td><td>0.2109</td><td>0.226</td></tr>\n",
       "</tbody>\n",
       "</table>\n"
      ],
      "text/latex": [
       "A data.frame: 1 × 15\n",
       "\\begin{tabular}{lllllllllllllll}\n",
       " Lexical & personality\\_all & Coordinate & Climatic\\_demands & subsistence & disease & urban & wealth & edu & Hofstede\\_6D & new\\_gendist\\_weighted & religion\\_per & idealogy & demographics & check\\_size\\\\\n",
       " <dbl> & <dbl> & <dbl> & <dbl> & <dbl> & <dbl> & <dbl> & <dbl> & <dbl> & <dbl> & <dbl> & <dbl> & <dbl> & <dbl> & <dbl>\\\\\n",
       "\\hline\n",
       "\t 0.7447 & 0.063 & 0.8039 & 0.2928 & 0.4955 & 0.4496 & 0.0821 & 0.5888 & 0.1738 & 0.761 & 0.8014 & 0.0289 & 0.7311 & 0.2109 & 0.226\\\\\n",
       "\\end{tabular}\n"
      ],
      "text/markdown": [
       "\n",
       "A data.frame: 1 × 15\n",
       "\n",
       "| Lexical &lt;dbl&gt; | personality_all &lt;dbl&gt; | Coordinate &lt;dbl&gt; | Climatic_demands &lt;dbl&gt; | subsistence &lt;dbl&gt; | disease &lt;dbl&gt; | urban &lt;dbl&gt; | wealth &lt;dbl&gt; | edu &lt;dbl&gt; | Hofstede_6D &lt;dbl&gt; | new_gendist_weighted &lt;dbl&gt; | religion_per &lt;dbl&gt; | idealogy &lt;dbl&gt; | demographics &lt;dbl&gt; | check_size &lt;dbl&gt; |\n",
       "|---|---|---|---|---|---|---|---|---|---|---|---|---|---|---|\n",
       "| 0.7447 | 0.063 | 0.8039 | 0.2928 | 0.4955 | 0.4496 | 0.0821 | 0.5888 | 0.1738 | 0.761 | 0.8014 | 0.0289 | 0.7311 | 0.2109 | 0.226 |\n",
       "\n"
      ],
      "text/plain": [
       "  Lexical personality_all Coordinate Climatic_demands subsistence disease\n",
       "1 0.7447  0.063           0.8039     0.2928           0.4955      0.4496 \n",
       "  urban  wealth edu    Hofstede_6D new_gendist_weighted religion_per idealogy\n",
       "1 0.0821 0.5888 0.1738 0.761       0.8014               0.0289       0.7311  \n",
       "  demographics check_size\n",
       "1 0.2109       0.226     "
      ]
     },
     "metadata": {},
     "output_type": "display_data"
    }
   ],
   "source": [
    "# 1.regression coefficient\n",
    "model_rdm = read.csv('output_data/models_rdm/dimensional/equality_dissim_dist.csv',\n",
    "                    row.names =1, check.names = FALSE)\n",
    "model_rdm = model_rdm[regions_order,regions_order]\n",
    "model_rdm_array = lowerTriangle(model_rdm)\n",
    "\n",
    "x <- do.call(cbind,lapply(variables,function(x) lowerTriangle(x))) # generate permuted predictors\n",
    "colnames(x) = variables_names\n",
    "culture_regress_standard <- lm(scale(model_rdm_array)~scale(x))\n",
    "culture_regress_standard_model <- summary(culture_regress_standard)\n",
    "culture_regress_standard_model\n",
    "\n",
    "write.csv(culture_regress_standard_model$coefficients,\n",
    " file='output_data/rsa_results/beta_sub/check_size/equality_33d.csv')\n",
    "equality_regression = culture_regress_standard_model\n",
    "\n",
    "# 2.permutation\n",
    "p_value_sub = permutation_result(equality_regression)\n",
    "p_value_sub\n",
    "write.csv(p_value_sub,'output_data/rsa_results/p_value_sub/check_size/equality_33d.csv')                          "
   ]
  },
  {
   "cell_type": "markdown",
   "id": "536a4c43",
   "metadata": {},
   "source": [
    "# Categorical: single category"
   ]
  },
  {
   "cell_type": "markdown",
   "id": "fe77b036",
   "metadata": {},
   "source": [
    "## Hostile"
   ]
  },
  {
   "cell_type": "code",
   "execution_count": 24,
   "id": "2d301249",
   "metadata": {
    "ExecuteTime": {
     "end_time": "2023-10-05T06:20:16.030206Z",
     "start_time": "2023-10-05T06:12:30.864Z"
    },
    "vscode": {
     "languageId": "r"
    }
   },
   "outputs": [
    {
     "data": {
      "text/plain": [
       "\n",
       "Call:\n",
       "lm(formula = scale(model_rdm_array) ~ scale(x))\n",
       "\n",
       "Residuals:\n",
       "     Min       1Q   Median       3Q      Max \n",
       "-2.14772 -0.57849 -0.02928  0.70692  1.75159 \n",
       "\n",
       "Coefficients:\n",
       "                               Estimate Std. Error t value Pr(>|t|)    \n",
       "(Intercept)                   1.418e-17  7.071e-02   0.000 1.000000    \n",
       "scale(x)Lexical               4.001e-01  1.172e-01   3.414 0.000816 ***\n",
       "scale(x)personality_all       1.998e-02  8.131e-02   0.246 0.806231    \n",
       "scale(x)Coordinate           -1.135e-01  8.569e-02  -1.324 0.187422    \n",
       "scale(x)Climatic_demands      5.227e-02  8.073e-02   0.648 0.518239    \n",
       "scale(x)subsistence           2.303e-01  8.279e-02   2.782 0.006072 ** \n",
       "scale(x)disease               4.653e-02  8.396e-02   0.554 0.580266    \n",
       "scale(x)urban                 1.135e-01  8.575e-02   1.324 0.187451    \n",
       "scale(x)wealth               -1.919e-02  8.915e-02  -0.215 0.829860    \n",
       "scale(x)edu                   4.481e-02  7.952e-02   0.563 0.573921    \n",
       "scale(x)Hofstede_6D           1.863e-02  8.751e-02   0.213 0.831649    \n",
       "scale(x)new_gendist_weighted -2.067e-01  9.586e-02  -2.157 0.032577 *  \n",
       "scale(x)religion_per         -8.952e-02  1.326e-01  -0.675 0.500691    \n",
       "scale(x)idealogy              9.236e-03  7.927e-02   0.117 0.907401    \n",
       "scale(x)demographics         -1.591e-01  8.509e-02  -1.870 0.063322 .  \n",
       "scale(x)check_size           -1.745e-01  7.571e-02  -2.305 0.022505 *  \n",
       "---\n",
       "Signif. codes:  0 '***' 0.001 '**' 0.01 '*' 0.05 '.' 0.1 ' ' 1\n",
       "\n",
       "Residual standard error: 0.9246 on 155 degrees of freedom\n",
       "Multiple R-squared:  0.2205,\tAdjusted R-squared:  0.1451 \n",
       "F-statistic: 2.924 on 15 and 155 DF,  p-value: 0.0004244\n"
      ]
     },
     "metadata": {},
     "output_type": "display_data"
    },
    {
     "name": "stdout",
     "output_type": "stream",
     "text": [
      "[1] \"fstats: 2.92373777375977\"\n",
      "[1] \"r2stats: 0.220541758442817\"\n",
      "[1] 10000\n",
      "[1] \"permf_pvals 0.0451\"\n"
     ]
    },
    {
     "data": {
      "text/html": [
       "<table class=\"dataframe\">\n",
       "<caption>A data.frame: 1 × 15</caption>\n",
       "<thead>\n",
       "\t<tr><th scope=col>Lexical</th><th scope=col>personality_all</th><th scope=col>Coordinate</th><th scope=col>Climatic_demands</th><th scope=col>subsistence</th><th scope=col>disease</th><th scope=col>urban</th><th scope=col>wealth</th><th scope=col>edu</th><th scope=col>Hofstede_6D</th><th scope=col>new_gendist_weighted</th><th scope=col>religion_per</th><th scope=col>idealogy</th><th scope=col>demographics</th><th scope=col>check_size</th></tr>\n",
       "\t<tr><th scope=col>&lt;dbl&gt;</th><th scope=col>&lt;dbl&gt;</th><th scope=col>&lt;dbl&gt;</th><th scope=col>&lt;dbl&gt;</th><th scope=col>&lt;dbl&gt;</th><th scope=col>&lt;dbl&gt;</th><th scope=col>&lt;dbl&gt;</th><th scope=col>&lt;dbl&gt;</th><th scope=col>&lt;dbl&gt;</th><th scope=col>&lt;dbl&gt;</th><th scope=col>&lt;dbl&gt;</th><th scope=col>&lt;dbl&gt;</th><th scope=col>&lt;dbl&gt;</th><th scope=col>&lt;dbl&gt;</th><th scope=col>&lt;dbl&gt;</th></tr>\n",
       "</thead>\n",
       "<tbody>\n",
       "\t<tr><td>0.0066</td><td>0.3986</td><td>0.8656</td><td>0.2918</td><td>0.0244</td><td>0.2549</td><td>0.1527</td><td>0.5441</td><td>0.3041</td><td>0.4225</td><td>0.9487</td><td>0.6962</td><td>0.442</td><td>0.9444</td><td>0.9785</td></tr>\n",
       "</tbody>\n",
       "</table>\n"
      ],
      "text/latex": [
       "A data.frame: 1 × 15\n",
       "\\begin{tabular}{lllllllllllllll}\n",
       " Lexical & personality\\_all & Coordinate & Climatic\\_demands & subsistence & disease & urban & wealth & edu & Hofstede\\_6D & new\\_gendist\\_weighted & religion\\_per & idealogy & demographics & check\\_size\\\\\n",
       " <dbl> & <dbl> & <dbl> & <dbl> & <dbl> & <dbl> & <dbl> & <dbl> & <dbl> & <dbl> & <dbl> & <dbl> & <dbl> & <dbl> & <dbl>\\\\\n",
       "\\hline\n",
       "\t 0.0066 & 0.3986 & 0.8656 & 0.2918 & 0.0244 & 0.2549 & 0.1527 & 0.5441 & 0.3041 & 0.4225 & 0.9487 & 0.6962 & 0.442 & 0.9444 & 0.9785\\\\\n",
       "\\end{tabular}\n"
      ],
      "text/markdown": [
       "\n",
       "A data.frame: 1 × 15\n",
       "\n",
       "| Lexical &lt;dbl&gt; | personality_all &lt;dbl&gt; | Coordinate &lt;dbl&gt; | Climatic_demands &lt;dbl&gt; | subsistence &lt;dbl&gt; | disease &lt;dbl&gt; | urban &lt;dbl&gt; | wealth &lt;dbl&gt; | edu &lt;dbl&gt; | Hofstede_6D &lt;dbl&gt; | new_gendist_weighted &lt;dbl&gt; | religion_per &lt;dbl&gt; | idealogy &lt;dbl&gt; | demographics &lt;dbl&gt; | check_size &lt;dbl&gt; |\n",
       "|---|---|---|---|---|---|---|---|---|---|---|---|---|---|---|\n",
       "| 0.0066 | 0.3986 | 0.8656 | 0.2918 | 0.0244 | 0.2549 | 0.1527 | 0.5441 | 0.3041 | 0.4225 | 0.9487 | 0.6962 | 0.442 | 0.9444 | 0.9785 |\n",
       "\n"
      ],
      "text/plain": [
       "  Lexical personality_all Coordinate Climatic_demands subsistence disease\n",
       "1 0.0066  0.3986          0.8656     0.2918           0.0244      0.2549 \n",
       "  urban  wealth edu    Hofstede_6D new_gendist_weighted religion_per idealogy\n",
       "1 0.1527 0.5441 0.3041 0.4225      0.9487               0.6962       0.442   \n",
       "  demographics check_size\n",
       "1 0.9444       0.9785    "
      ]
     },
     "metadata": {},
     "output_type": "display_data"
    }
   ],
   "source": [
    "# 1.regression coefficient\n",
    "model_rdm = read.csv('output_data/models_rdm/categorical/hostile_dissim_dist.csv',\n",
    "                    row.names =1, check.names = FALSE)\n",
    "model_rdm = model_rdm[regions_order,regions_order]\n",
    "model_rdm_array = lowerTriangle(model_rdm)\n",
    "\n",
    "x <- do.call(cbind,lapply(variables,function(x) lowerTriangle(x))) # generate permuted predictors\n",
    "colnames(x) = variables_names\n",
    "culture_regress_standard <- lm(scale(model_rdm_array)~scale(x))\n",
    "culture_regress_standard_model <- summary(culture_regress_standard)\n",
    "culture_regress_standard_model\n",
    "\n",
    "write.csv(culture_regress_standard_model$coefficients,\n",
    " file='output_data/rsa_results/beta_sub/check_size/hostile_33d.csv')\n",
    "hostile_regression = culture_regress_standard_model\n",
    "\n",
    "# 2.permutation\n",
    "p_value_sub = permutation_result(hostile_regression)\n",
    "p_value_sub\n",
    "write.csv(p_value_sub,'output_data/rsa_results/p_value_sub/check_size/hostile_33d.csv')                         "
   ]
  },
  {
   "cell_type": "markdown",
   "id": "43918259",
   "metadata": {},
   "source": [
    "## Private"
   ]
  },
  {
   "cell_type": "code",
   "execution_count": 25,
   "id": "9b64f1c6",
   "metadata": {
    "ExecuteTime": {
     "end_time": "2023-10-05T06:21:07.650576Z",
     "start_time": "2023-10-05T06:12:30.979Z"
    },
    "vscode": {
     "languageId": "r"
    }
   },
   "outputs": [
    {
     "data": {
      "text/plain": [
       "\n",
       "Call:\n",
       "lm(formula = scale(model_rdm_array) ~ scale(x))\n",
       "\n",
       "Residuals:\n",
       "    Min      1Q  Median      3Q     Max \n",
       "-2.5357 -0.5171 -0.0635  0.6406  2.4915 \n",
       "\n",
       "Coefficients:\n",
       "                               Estimate Std. Error t value Pr(>|t|)    \n",
       "(Intercept)                  -2.038e-16  6.881e-02   0.000 1.000000    \n",
       "scale(x)Lexical               2.600e-01  1.140e-01   2.280 0.023951 *  \n",
       "scale(x)personality_all      -8.938e-03  7.913e-02  -0.113 0.910212    \n",
       "scale(x)Coordinate           -1.357e-01  8.338e-02  -1.628 0.105598    \n",
       "scale(x)Climatic_demands      1.481e-01  7.856e-02   1.885 0.061262 .  \n",
       "scale(x)subsistence          -8.473e-02  8.056e-02  -1.052 0.294532    \n",
       "scale(x)disease              -1.021e-01  8.170e-02  -1.250 0.213154    \n",
       "scale(x)urban                 2.371e-01  8.345e-02   2.841 0.005104 ** \n",
       "scale(x)wealth                1.261e-01  8.676e-02   1.454 0.148073    \n",
       "scale(x)edu                  -2.968e-02  7.738e-02  -0.384 0.701857    \n",
       "scale(x)Hofstede_6D          -9.391e-02  8.516e-02  -1.103 0.271819    \n",
       "scale(x)new_gendist_weighted  9.863e-03  9.329e-02   0.106 0.915936    \n",
       "scale(x)religion_per          1.499e-01  1.291e-01   1.161 0.247269    \n",
       "scale(x)idealogy             -6.987e-02  7.714e-02  -0.906 0.366479    \n",
       "scale(x)demographics         -2.886e-01  8.280e-02  -3.486 0.000638 ***\n",
       "scale(x)check_size           -7.105e-02  7.368e-02  -0.964 0.336420    \n",
       "---\n",
       "Signif. codes:  0 '***' 0.001 '**' 0.01 '*' 0.05 '.' 0.1 ' ' 1\n",
       "\n",
       "Residual standard error: 0.8998 on 155 degrees of freedom\n",
       "Multiple R-squared:  0.2619,\tAdjusted R-squared:  0.1904 \n",
       "F-statistic: 3.666 on 15 and 155 DF,  p-value: 1.774e-05\n"
      ]
     },
     "metadata": {},
     "output_type": "display_data"
    },
    {
     "name": "stdout",
     "output_type": "stream",
     "text": [
      "[1] \"fstats: 3.66573522121152\"\n",
      "[1] \"r2stats: 0.261855651819165\"\n",
      "[1] 10000\n",
      "[1] \"permf_pvals 0.1748\"\n"
     ]
    },
    {
     "data": {
      "text/html": [
       "<table class=\"dataframe\">\n",
       "<caption>A data.frame: 1 × 15</caption>\n",
       "<thead>\n",
       "\t<tr><th scope=col>Lexical</th><th scope=col>personality_all</th><th scope=col>Coordinate</th><th scope=col>Climatic_demands</th><th scope=col>subsistence</th><th scope=col>disease</th><th scope=col>urban</th><th scope=col>wealth</th><th scope=col>edu</th><th scope=col>Hofstede_6D</th><th scope=col>new_gendist_weighted</th><th scope=col>religion_per</th><th scope=col>idealogy</th><th scope=col>demographics</th><th scope=col>check_size</th></tr>\n",
       "\t<tr><th scope=col>&lt;dbl&gt;</th><th scope=col>&lt;dbl&gt;</th><th scope=col>&lt;dbl&gt;</th><th scope=col>&lt;dbl&gt;</th><th scope=col>&lt;dbl&gt;</th><th scope=col>&lt;dbl&gt;</th><th scope=col>&lt;dbl&gt;</th><th scope=col>&lt;dbl&gt;</th><th scope=col>&lt;dbl&gt;</th><th scope=col>&lt;dbl&gt;</th><th scope=col>&lt;dbl&gt;</th><th scope=col>&lt;dbl&gt;</th><th scope=col>&lt;dbl&gt;</th><th scope=col>&lt;dbl&gt;</th><th scope=col>&lt;dbl&gt;</th></tr>\n",
       "</thead>\n",
       "<tbody>\n",
       "\t<tr><td>0.1063</td><td>0.4786</td><td>0.8592</td><td>0.1546</td><td>0.7558</td><td>0.886</td><td>0.0651</td><td>0.1358</td><td>0.5598</td><td>0.7524</td><td>0.4462</td><td>0.2376</td><td>0.7261</td><td>0.9934</td><td>0.6938</td></tr>\n",
       "</tbody>\n",
       "</table>\n"
      ],
      "text/latex": [
       "A data.frame: 1 × 15\n",
       "\\begin{tabular}{lllllllllllllll}\n",
       " Lexical & personality\\_all & Coordinate & Climatic\\_demands & subsistence & disease & urban & wealth & edu & Hofstede\\_6D & new\\_gendist\\_weighted & religion\\_per & idealogy & demographics & check\\_size\\\\\n",
       " <dbl> & <dbl> & <dbl> & <dbl> & <dbl> & <dbl> & <dbl> & <dbl> & <dbl> & <dbl> & <dbl> & <dbl> & <dbl> & <dbl> & <dbl>\\\\\n",
       "\\hline\n",
       "\t 0.1063 & 0.4786 & 0.8592 & 0.1546 & 0.7558 & 0.886 & 0.0651 & 0.1358 & 0.5598 & 0.7524 & 0.4462 & 0.2376 & 0.7261 & 0.9934 & 0.6938\\\\\n",
       "\\end{tabular}\n"
      ],
      "text/markdown": [
       "\n",
       "A data.frame: 1 × 15\n",
       "\n",
       "| Lexical &lt;dbl&gt; | personality_all &lt;dbl&gt; | Coordinate &lt;dbl&gt; | Climatic_demands &lt;dbl&gt; | subsistence &lt;dbl&gt; | disease &lt;dbl&gt; | urban &lt;dbl&gt; | wealth &lt;dbl&gt; | edu &lt;dbl&gt; | Hofstede_6D &lt;dbl&gt; | new_gendist_weighted &lt;dbl&gt; | religion_per &lt;dbl&gt; | idealogy &lt;dbl&gt; | demographics &lt;dbl&gt; | check_size &lt;dbl&gt; |\n",
       "|---|---|---|---|---|---|---|---|---|---|---|---|---|---|---|\n",
       "| 0.1063 | 0.4786 | 0.8592 | 0.1546 | 0.7558 | 0.886 | 0.0651 | 0.1358 | 0.5598 | 0.7524 | 0.4462 | 0.2376 | 0.7261 | 0.9934 | 0.6938 |\n",
       "\n"
      ],
      "text/plain": [
       "  Lexical personality_all Coordinate Climatic_demands subsistence disease\n",
       "1 0.1063  0.4786          0.8592     0.1546           0.7558      0.886  \n",
       "  urban  wealth edu    Hofstede_6D new_gendist_weighted religion_per idealogy\n",
       "1 0.0651 0.1358 0.5598 0.7524      0.4462               0.2376       0.7261  \n",
       "  demographics check_size\n",
       "1 0.9934       0.6938    "
      ]
     },
     "metadata": {},
     "output_type": "display_data"
    }
   ],
   "source": [
    "# 1.regression coefficient\n",
    "model_rdm = read.csv('output_data/models_rdm/categorical/private_dissim_dist.csv',\n",
    "                    row.names =1, check.names = FALSE)\n",
    "model_rdm = model_rdm[regions_order,regions_order]\n",
    "model_rdm_array = lowerTriangle(model_rdm)\n",
    "\n",
    "x <- do.call(cbind,lapply(variables,function(x) lowerTriangle(x))) # generate permuted predictors\n",
    "colnames(x) = variables_names\n",
    "culture_regress_standard <- lm(scale(model_rdm_array)~scale(x))\n",
    "culture_regress_standard_model <- summary(culture_regress_standard)\n",
    "culture_regress_standard_model\n",
    "\n",
    "write.csv(culture_regress_standard_model$coefficients,\n",
    " file='output_data/rsa_results/beta_sub/check_size/private_33d.csv')\n",
    "private_regression = culture_regress_standard_model\n",
    "\n",
    "# 2.permutation\n",
    "p_value_sub = permutation_result(private_regression)\n",
    "p_value_sub\n",
    "write.csv(p_value_sub,'output_data/rsa_results/p_value_sub/check_size/private_33d.csv')                           "
   ]
  },
  {
   "cell_type": "markdown",
   "id": "7bc105b3",
   "metadata": {},
   "source": [
    "## Public"
   ]
  },
  {
   "cell_type": "code",
   "execution_count": 26,
   "id": "8ddbd3c0",
   "metadata": {
    "ExecuteTime": {
     "end_time": "2023-10-05T06:21:58.891510Z",
     "start_time": "2023-10-05T06:12:31.112Z"
    },
    "vscode": {
     "languageId": "r"
    }
   },
   "outputs": [
    {
     "data": {
      "text/plain": [
       "\n",
       "Call:\n",
       "lm(formula = scale(model_rdm_array) ~ scale(x))\n",
       "\n",
       "Residuals:\n",
       "     Min       1Q   Median       3Q      Max \n",
       "-1.70596 -0.50744 -0.04218  0.51511  2.39516 \n",
       "\n",
       "Coefficients:\n",
       "                               Estimate Std. Error t value Pr(>|t|)    \n",
       "(Intercept)                   1.843e-16  6.073e-02   0.000 1.000000    \n",
       "scale(x)Lexical               1.359e-01  1.007e-01   1.350 0.178854    \n",
       "scale(x)personality_all       7.003e-02  6.984e-02   1.003 0.317613    \n",
       "scale(x)Coordinate           -1.603e-01  7.360e-02  -2.178 0.030951 *  \n",
       "scale(x)Climatic_demands      1.651e-01  6.934e-02   2.381 0.018477 *  \n",
       "scale(x)subsistence           1.256e-02  7.111e-02   0.177 0.860071    \n",
       "scale(x)disease              -4.285e-02  7.212e-02  -0.594 0.553283    \n",
       "scale(x)urban                 3.761e-01  7.366e-02   5.106 9.53e-07 ***\n",
       "scale(x)wealth                6.518e-02  7.658e-02   0.851 0.396027    \n",
       "scale(x)edu                   5.098e-02  6.830e-02   0.746 0.456531    \n",
       "scale(x)Hofstede_6D          -1.057e-01  7.517e-02  -1.406 0.161712    \n",
       "scale(x)new_gendist_weighted -6.250e-02  8.234e-02  -0.759 0.448990    \n",
       "scale(x)religion_per          2.588e-01  1.139e-01   2.272 0.024481 *  \n",
       "scale(x)idealogy             -7.626e-02  6.809e-02  -1.120 0.264455    \n",
       "scale(x)demographics         -2.552e-01  7.309e-02  -3.492 0.000625 ***\n",
       "scale(x)check_size           -6.485e-02  6.503e-02  -0.997 0.320272    \n",
       "---\n",
       "Signif. codes:  0 '***' 0.001 '**' 0.01 '*' 0.05 '.' 0.1 ' ' 1\n",
       "\n",
       "Residual standard error: 0.7942 on 155 degrees of freedom\n",
       "Multiple R-squared:  0.4249,\tAdjusted R-squared:  0.3692 \n",
       "F-statistic: 7.634 on 15 and 155 DF,  p-value: 1.431e-12\n"
      ]
     },
     "metadata": {},
     "output_type": "display_data"
    },
    {
     "name": "stdout",
     "output_type": "stream",
     "text": [
      "[1] \"fstats: 7.63444860669972\"\n",
      "[1] \"r2stats: 0.424896552739758\"\n",
      "[1] 10000\n",
      "[1] \"permf_pvals 0.0481\"\n"
     ]
    },
    {
     "data": {
      "text/html": [
       "<table class=\"dataframe\">\n",
       "<caption>A data.frame: 1 × 15</caption>\n",
       "<thead>\n",
       "\t<tr><th scope=col>Lexical</th><th scope=col>personality_all</th><th scope=col>Coordinate</th><th scope=col>Climatic_demands</th><th scope=col>subsistence</th><th scope=col>disease</th><th scope=col>urban</th><th scope=col>wealth</th><th scope=col>edu</th><th scope=col>Hofstede_6D</th><th scope=col>new_gendist_weighted</th><th scope=col>religion_per</th><th scope=col>idealogy</th><th scope=col>demographics</th><th scope=col>check_size</th></tr>\n",
       "\t<tr><th scope=col>&lt;dbl&gt;</th><th scope=col>&lt;dbl&gt;</th><th scope=col>&lt;dbl&gt;</th><th scope=col>&lt;dbl&gt;</th><th scope=col>&lt;dbl&gt;</th><th scope=col>&lt;dbl&gt;</th><th scope=col>&lt;dbl&gt;</th><th scope=col>&lt;dbl&gt;</th><th scope=col>&lt;dbl&gt;</th><th scope=col>&lt;dbl&gt;</th><th scope=col>&lt;dbl&gt;</th><th scope=col>&lt;dbl&gt;</th><th scope=col>&lt;dbl&gt;</th><th scope=col>&lt;dbl&gt;</th><th scope=col>&lt;dbl&gt;</th></tr>\n",
       "</thead>\n",
       "<tbody>\n",
       "\t<tr><td>0.2929</td><td>0.2778</td><td>0.8768</td><td>0.1408</td><td>0.4506</td><td>0.6989</td><td>0.0292</td><td>0.2834</td><td>0.3152</td><td>0.747</td><td>0.5768</td><td>0.1434</td><td>0.7182</td><td>0.9702</td><td>0.6447</td></tr>\n",
       "</tbody>\n",
       "</table>\n"
      ],
      "text/latex": [
       "A data.frame: 1 × 15\n",
       "\\begin{tabular}{lllllllllllllll}\n",
       " Lexical & personality\\_all & Coordinate & Climatic\\_demands & subsistence & disease & urban & wealth & edu & Hofstede\\_6D & new\\_gendist\\_weighted & religion\\_per & idealogy & demographics & check\\_size\\\\\n",
       " <dbl> & <dbl> & <dbl> & <dbl> & <dbl> & <dbl> & <dbl> & <dbl> & <dbl> & <dbl> & <dbl> & <dbl> & <dbl> & <dbl> & <dbl>\\\\\n",
       "\\hline\n",
       "\t 0.2929 & 0.2778 & 0.8768 & 0.1408 & 0.4506 & 0.6989 & 0.0292 & 0.2834 & 0.3152 & 0.747 & 0.5768 & 0.1434 & 0.7182 & 0.9702 & 0.6447\\\\\n",
       "\\end{tabular}\n"
      ],
      "text/markdown": [
       "\n",
       "A data.frame: 1 × 15\n",
       "\n",
       "| Lexical &lt;dbl&gt; | personality_all &lt;dbl&gt; | Coordinate &lt;dbl&gt; | Climatic_demands &lt;dbl&gt; | subsistence &lt;dbl&gt; | disease &lt;dbl&gt; | urban &lt;dbl&gt; | wealth &lt;dbl&gt; | edu &lt;dbl&gt; | Hofstede_6D &lt;dbl&gt; | new_gendist_weighted &lt;dbl&gt; | religion_per &lt;dbl&gt; | idealogy &lt;dbl&gt; | demographics &lt;dbl&gt; | check_size &lt;dbl&gt; |\n",
       "|---|---|---|---|---|---|---|---|---|---|---|---|---|---|---|\n",
       "| 0.2929 | 0.2778 | 0.8768 | 0.1408 | 0.4506 | 0.6989 | 0.0292 | 0.2834 | 0.3152 | 0.747 | 0.5768 | 0.1434 | 0.7182 | 0.9702 | 0.6447 |\n",
       "\n"
      ],
      "text/plain": [
       "  Lexical personality_all Coordinate Climatic_demands subsistence disease\n",
       "1 0.2929  0.2778          0.8768     0.1408           0.4506      0.6989 \n",
       "  urban  wealth edu    Hofstede_6D new_gendist_weighted religion_per idealogy\n",
       "1 0.0292 0.2834 0.3152 0.747       0.5768               0.1434       0.7182  \n",
       "  demographics check_size\n",
       "1 0.9702       0.6447    "
      ]
     },
     "metadata": {},
     "output_type": "display_data"
    }
   ],
   "source": [
    "# 1.regression coefficient\n",
    "model_rdm = read.csv('output_data/models_rdm/categorical/public_dissim_dist.csv',\n",
    "                    row.names =1, check.names = FALSE)\n",
    "model_rdm = model_rdm[regions_order,regions_order]\n",
    "model_rdm_array = lowerTriangle(model_rdm)\n",
    "\n",
    "x <- do.call(cbind,lapply(variables,function(x) lowerTriangle(x))) # generate permuted predictors\n",
    "colnames(x) = variables_names\n",
    "culture_regress_standard <- lm(scale(model_rdm_array)~scale(x))\n",
    "culture_regress_standard_model <- summary(culture_regress_standard)\n",
    "culture_regress_standard_model\n",
    "\n",
    "write.csv(culture_regress_standard_model$coefficients,\n",
    " file='output_data/rsa_results/beta_sub/check_size/public_33d.csv')\n",
    "public_regression = culture_regress_standard_model\n",
    "\n",
    "# 2.permutation\n",
    "p_value_sub = permutation_result(public_regression)\n",
    "p_value_sub\n",
    "write.csv(p_value_sub,'output_data/rsa_results/p_value_sub/check_size/public_33d.csv')                         "
   ]
  },
  {
   "cell_type": "markdown",
   "id": "92780394",
   "metadata": {},
   "source": [
    "# Plot RSA regression results in Supplementary"
   ]
  },
  {
   "cell_type": "code",
   "execution_count": 27,
   "id": "69440911",
   "metadata": {
    "ExecuteTime": {
     "end_time": "2023-10-29T12:45:17.535172Z",
     "start_time": "2023-10-29T12:45:17.323Z"
    },
    "vscode": {
     "languageId": "r"
    }
   },
   "outputs": [
    {
     "data": {
      "text/html": [
       "<table class=\"dataframe\">\n",
       "<caption>A data.frame: 13 × 9</caption>\n",
       "<thead>\n",
       "\t<tr><th></th><th scope=col>activeness</th><th scope=col>equality</th><th scope=col>exchange</th><th scope=col>formality</th><th scope=col>hostile</th><th scope=col>private</th><th scope=col>public</th><th scope=col>valence</th><th scope=col>Predictor</th></tr>\n",
       "\t<tr><th></th><th scope=col>&lt;dbl&gt;</th><th scope=col>&lt;dbl&gt;</th><th scope=col>&lt;dbl&gt;</th><th scope=col>&lt;dbl&gt;</th><th scope=col>&lt;dbl&gt;</th><th scope=col>&lt;dbl&gt;</th><th scope=col>&lt;dbl&gt;</th><th scope=col>&lt;dbl&gt;</th><th scope=col>&lt;chr&gt;</th></tr>\n",
       "</thead>\n",
       "<tbody>\n",
       "\t<tr><th scope=row>Language</th><td>-0.131893520</td><td>-0.165799354</td><td> 0.023295603</td><td>-0.354408599</td><td> 0.400109756</td><td> 0.260033191</td><td> 0.13592415</td><td>-0.2684871514</td><td>Language    </td></tr>\n",
       "\t<tr><th scope=row>Personality</th><td> 0.131135252</td><td> 0.287588586</td><td>-0.069172853</td><td> 0.059105210</td><td> 0.019979317</td><td>-0.008937943</td><td> 0.07002666</td><td> 0.1121827388</td><td>Personality </td></tr>\n",
       "\t<tr><th scope=row>Geography</th><td>-0.113109434</td><td>-0.128051893</td><td>-0.056394338</td><td>-0.197543552</td><td>-0.113456695</td><td>-0.135733586</td><td>-0.16027273</td><td>-0.0527236443</td><td>Geography   </td></tr>\n",
       "\t<tr><th scope=row>Climates</th><td> 0.047805644</td><td> 0.086383638</td><td> 0.014210136</td><td> 0.065856271</td><td> 0.052273475</td><td> 0.148103615</td><td> 0.16510529</td><td> 0.1830999160</td><td>Climates    </td></tr>\n",
       "\t<tr><th scope=row>Subsistence</th><td>-0.025025957</td><td>-0.006855075</td><td> 0.060696172</td><td>-0.067630838</td><td> 0.230315169</td><td>-0.084733682</td><td> 0.01255638</td><td>-0.1797911322</td><td>Subsistence </td></tr>\n",
       "\t<tr><th scope=row>Disease</th><td>-0.056046737</td><td> 0.010229947</td><td>-0.005220571</td><td>-0.068920944</td><td> 0.046526520</td><td>-0.102135100</td><td>-0.04284794</td><td>-0.0703245448</td><td>Disease     </td></tr>\n",
       "\t<tr><th scope=row>Urbanization</th><td> 0.275142970</td><td> 0.250368182</td><td> 0.287829096</td><td> 0.076306180</td><td> 0.113537265</td><td> 0.237070117</td><td> 0.37611104</td><td> 0.2864702144</td><td>Urbanization</td></tr>\n",
       "\t<tr><th scope=row>Wealth</th><td>-0.099437238</td><td>-0.034610204</td><td>-0.048258727</td><td>-0.129897796</td><td>-0.019189448</td><td> 0.126112120</td><td> 0.06517616</td><td>-0.0009029001</td><td>Wealth      </td></tr>\n",
       "\t<tr><th scope=row>Education</th><td> 0.138425954</td><td> 0.130785706</td><td> 0.139766692</td><td> 0.146049582</td><td> 0.044806594</td><td>-0.029677529</td><td> 0.05098405</td><td> 0.1572651671</td><td>Education   </td></tr>\n",
       "\t<tr><th scope=row>Hofstede6D</th><td>-0.009663337</td><td>-0.113257722</td><td> 0.006667995</td><td>-0.005758058</td><td> 0.018634318</td><td>-0.093911418</td><td>-0.10568647</td><td>-0.1326728190</td><td>Hofstede6D  </td></tr>\n",
       "\t<tr><th scope=row>Genetics</th><td>-0.012108500</td><td>-0.190531550</td><td>-0.206439303</td><td>-0.116162012</td><td>-0.206738888</td><td> 0.009862995</td><td>-0.06250015</td><td> 0.1152497153</td><td>Genetics    </td></tr>\n",
       "\t<tr><th scope=row>Religion</th><td> 0.414258719</td><td> 0.468477559</td><td> 0.161649124</td><td> 0.687009814</td><td>-0.089524966</td><td> 0.149900281</td><td> 0.25880635</td><td> 0.3713036363</td><td>Religion    </td></tr>\n",
       "\t<tr><th scope=row>Politics</th><td>-0.092492668</td><td>-0.079608121</td><td>-0.192767947</td><td>-0.045752620</td><td> 0.009235619</td><td>-0.069870122</td><td>-0.07626058</td><td>-0.0491813306</td><td>Politics    </td></tr>\n",
       "</tbody>\n",
       "</table>\n"
      ],
      "text/latex": [
       "A data.frame: 13 × 9\n",
       "\\begin{tabular}{r|lllllllll}\n",
       "  & activeness & equality & exchange & formality & hostile & private & public & valence & Predictor\\\\\n",
       "  & <dbl> & <dbl> & <dbl> & <dbl> & <dbl> & <dbl> & <dbl> & <dbl> & <chr>\\\\\n",
       "\\hline\n",
       "\tLanguage & -0.131893520 & -0.165799354 &  0.023295603 & -0.354408599 &  0.400109756 &  0.260033191 &  0.13592415 & -0.2684871514 & Language    \\\\\n",
       "\tPersonality &  0.131135252 &  0.287588586 & -0.069172853 &  0.059105210 &  0.019979317 & -0.008937943 &  0.07002666 &  0.1121827388 & Personality \\\\\n",
       "\tGeography & -0.113109434 & -0.128051893 & -0.056394338 & -0.197543552 & -0.113456695 & -0.135733586 & -0.16027273 & -0.0527236443 & Geography   \\\\\n",
       "\tClimates &  0.047805644 &  0.086383638 &  0.014210136 &  0.065856271 &  0.052273475 &  0.148103615 &  0.16510529 &  0.1830999160 & Climates    \\\\\n",
       "\tSubsistence & -0.025025957 & -0.006855075 &  0.060696172 & -0.067630838 &  0.230315169 & -0.084733682 &  0.01255638 & -0.1797911322 & Subsistence \\\\\n",
       "\tDisease & -0.056046737 &  0.010229947 & -0.005220571 & -0.068920944 &  0.046526520 & -0.102135100 & -0.04284794 & -0.0703245448 & Disease     \\\\\n",
       "\tUrbanization &  0.275142970 &  0.250368182 &  0.287829096 &  0.076306180 &  0.113537265 &  0.237070117 &  0.37611104 &  0.2864702144 & Urbanization\\\\\n",
       "\tWealth & -0.099437238 & -0.034610204 & -0.048258727 & -0.129897796 & -0.019189448 &  0.126112120 &  0.06517616 & -0.0009029001 & Wealth      \\\\\n",
       "\tEducation &  0.138425954 &  0.130785706 &  0.139766692 &  0.146049582 &  0.044806594 & -0.029677529 &  0.05098405 &  0.1572651671 & Education   \\\\\n",
       "\tHofstede6D & -0.009663337 & -0.113257722 &  0.006667995 & -0.005758058 &  0.018634318 & -0.093911418 & -0.10568647 & -0.1326728190 & Hofstede6D  \\\\\n",
       "\tGenetics & -0.012108500 & -0.190531550 & -0.206439303 & -0.116162012 & -0.206738888 &  0.009862995 & -0.06250015 &  0.1152497153 & Genetics    \\\\\n",
       "\tReligion &  0.414258719 &  0.468477559 &  0.161649124 &  0.687009814 & -0.089524966 &  0.149900281 &  0.25880635 &  0.3713036363 & Religion    \\\\\n",
       "\tPolitics & -0.092492668 & -0.079608121 & -0.192767947 & -0.045752620 &  0.009235619 & -0.069870122 & -0.07626058 & -0.0491813306 & Politics    \\\\\n",
       "\\end{tabular}\n"
      ],
      "text/markdown": [
       "\n",
       "A data.frame: 13 × 9\n",
       "\n",
       "| <!--/--> | activeness &lt;dbl&gt; | equality &lt;dbl&gt; | exchange &lt;dbl&gt; | formality &lt;dbl&gt; | hostile &lt;dbl&gt; | private &lt;dbl&gt; | public &lt;dbl&gt; | valence &lt;dbl&gt; | Predictor &lt;chr&gt; |\n",
       "|---|---|---|---|---|---|---|---|---|---|\n",
       "| Language | -0.131893520 | -0.165799354 |  0.023295603 | -0.354408599 |  0.400109756 |  0.260033191 |  0.13592415 | -0.2684871514 | Language     |\n",
       "| Personality |  0.131135252 |  0.287588586 | -0.069172853 |  0.059105210 |  0.019979317 | -0.008937943 |  0.07002666 |  0.1121827388 | Personality  |\n",
       "| Geography | -0.113109434 | -0.128051893 | -0.056394338 | -0.197543552 | -0.113456695 | -0.135733586 | -0.16027273 | -0.0527236443 | Geography    |\n",
       "| Climates |  0.047805644 |  0.086383638 |  0.014210136 |  0.065856271 |  0.052273475 |  0.148103615 |  0.16510529 |  0.1830999160 | Climates     |\n",
       "| Subsistence | -0.025025957 | -0.006855075 |  0.060696172 | -0.067630838 |  0.230315169 | -0.084733682 |  0.01255638 | -0.1797911322 | Subsistence  |\n",
       "| Disease | -0.056046737 |  0.010229947 | -0.005220571 | -0.068920944 |  0.046526520 | -0.102135100 | -0.04284794 | -0.0703245448 | Disease      |\n",
       "| Urbanization |  0.275142970 |  0.250368182 |  0.287829096 |  0.076306180 |  0.113537265 |  0.237070117 |  0.37611104 |  0.2864702144 | Urbanization |\n",
       "| Wealth | -0.099437238 | -0.034610204 | -0.048258727 | -0.129897796 | -0.019189448 |  0.126112120 |  0.06517616 | -0.0009029001 | Wealth       |\n",
       "| Education |  0.138425954 |  0.130785706 |  0.139766692 |  0.146049582 |  0.044806594 | -0.029677529 |  0.05098405 |  0.1572651671 | Education    |\n",
       "| Hofstede6D | -0.009663337 | -0.113257722 |  0.006667995 | -0.005758058 |  0.018634318 | -0.093911418 | -0.10568647 | -0.1326728190 | Hofstede6D   |\n",
       "| Genetics | -0.012108500 | -0.190531550 | -0.206439303 | -0.116162012 | -0.206738888 |  0.009862995 | -0.06250015 |  0.1152497153 | Genetics     |\n",
       "| Religion |  0.414258719 |  0.468477559 |  0.161649124 |  0.687009814 | -0.089524966 |  0.149900281 |  0.25880635 |  0.3713036363 | Religion     |\n",
       "| Politics | -0.092492668 | -0.079608121 | -0.192767947 | -0.045752620 |  0.009235619 | -0.069870122 | -0.07626058 | -0.0491813306 | Politics     |\n",
       "\n"
      ],
      "text/plain": [
       "             activeness   equality     exchange     formality    hostile     \n",
       "Language     -0.131893520 -0.165799354  0.023295603 -0.354408599  0.400109756\n",
       "Personality   0.131135252  0.287588586 -0.069172853  0.059105210  0.019979317\n",
       "Geography    -0.113109434 -0.128051893 -0.056394338 -0.197543552 -0.113456695\n",
       "Climates      0.047805644  0.086383638  0.014210136  0.065856271  0.052273475\n",
       "Subsistence  -0.025025957 -0.006855075  0.060696172 -0.067630838  0.230315169\n",
       "Disease      -0.056046737  0.010229947 -0.005220571 -0.068920944  0.046526520\n",
       "Urbanization  0.275142970  0.250368182  0.287829096  0.076306180  0.113537265\n",
       "Wealth       -0.099437238 -0.034610204 -0.048258727 -0.129897796 -0.019189448\n",
       "Education     0.138425954  0.130785706  0.139766692  0.146049582  0.044806594\n",
       "Hofstede6D   -0.009663337 -0.113257722  0.006667995 -0.005758058  0.018634318\n",
       "Genetics     -0.012108500 -0.190531550 -0.206439303 -0.116162012 -0.206738888\n",
       "Religion      0.414258719  0.468477559  0.161649124  0.687009814 -0.089524966\n",
       "Politics     -0.092492668 -0.079608121 -0.192767947 -0.045752620  0.009235619\n",
       "             private      public      valence       Predictor   \n",
       "Language      0.260033191  0.13592415 -0.2684871514 Language    \n",
       "Personality  -0.008937943  0.07002666  0.1121827388 Personality \n",
       "Geography    -0.135733586 -0.16027273 -0.0527236443 Geography   \n",
       "Climates      0.148103615  0.16510529  0.1830999160 Climates    \n",
       "Subsistence  -0.084733682  0.01255638 -0.1797911322 Subsistence \n",
       "Disease      -0.102135100 -0.04284794 -0.0703245448 Disease     \n",
       "Urbanization  0.237070117  0.37611104  0.2864702144 Urbanization\n",
       "Wealth        0.126112120  0.06517616 -0.0009029001 Wealth      \n",
       "Education    -0.029677529  0.05098405  0.1572651671 Education   \n",
       "Hofstede6D   -0.093911418 -0.10568647 -0.1326728190 Hofstede6D  \n",
       "Genetics      0.009862995 -0.06250015  0.1152497153 Genetics    \n",
       "Religion      0.149900281  0.25880635  0.3713036363 Religion    \n",
       "Politics     -0.069870122 -0.07626058 -0.0491813306 Politics    "
      ]
     },
     "metadata": {},
     "output_type": "display_data"
    }
   ],
   "source": [
    "files = dir('output_data/rsa_results/beta_sub/check_size/')\n",
    "files = files[-which(files %in% c('favee_33d.csv','hpp_33d.csv','raw_33d.csv'))]\n",
    "models = c()\n",
    "regression_results = data.frame(matrix(ncol=13,nrow=7))\n",
    "count = 1\n",
    "for (file in files){\n",
    "    model = strsplit(file,'_')[[1]][1]\n",
    "    models = c(models,model)\n",
    "    \n",
    "    results_df = read.csv(paste('output_data/rsa_results/beta_sub/check_size/',file,sep = ''),row.names=1) \n",
    "    beta = results_df[2:14,1]\n",
    "    regression_results[count,] = beta \n",
    "    count = count + 1\n",
    "}\n",
    "rownames(regression_results) = models\n",
    "colnames(regression_results) = c('Language','Personality','Geography','Climates',\n",
    "             'Subsistence','Disease','Urbanization','Wealth','Education',\n",
    "             'Hofstede6D','Genetics','Religion','Politics')#'Demographics'\n",
    "regression_results = data.frame(t(regression_results))\n",
    "\n",
    "regression_results['Predictor'] = rownames(regression_results)\n",
    "regression_results\n",
    "regression_results_melt = melt(regression_results,id.vars = 'Predictor')\n",
    "regression_results_melt$Predictor = factor(regression_results_melt$Predictor,\n",
    "levels = c('Language','Personality','Geography','Climates',\n",
    "             'Subsistence','Disease',\n",
    "             'Hofstede6D','Genetics','Politics',#'Demographics',\n",
    "             'Urbanization','Wealth','Education','Religion'))\n",
    "colnames(regression_results_melt) = c('predictor','model','value')\n",
    "regression_results_melt$'model' = factor(regression_results_melt$'model',\n",
    "                            levels = c('formality','activeness','valence','exchange',\n",
    "                                      'equality','hostile','private','public'))"
   ]
  },
  {
   "cell_type": "code",
   "execution_count": 28,
   "id": "9ce10f25",
   "metadata": {
    "ExecuteTime": {
     "end_time": "2023-10-29T13:04:38.180232Z",
     "start_time": "2023-10-29T13:04:38.151Z"
    },
    "vscode": {
     "languageId": "r"
    }
   },
   "outputs": [
    {
     "data": {
      "text/html": [
       "0.687009813720593"
      ],
      "text/latex": [
       "0.687009813720593"
      ],
      "text/markdown": [
       "0.687009813720593"
      ],
      "text/plain": [
       "[1] 0.6870098"
      ]
     },
     "metadata": {},
     "output_type": "display_data"
    },
    {
     "data": {
      "text/html": [
       "-0.354408598594381"
      ],
      "text/latex": [
       "-0.354408598594381"
      ],
      "text/markdown": [
       "-0.354408598594381"
      ],
      "text/plain": [
       "[1] -0.3544086"
      ]
     },
     "metadata": {},
     "output_type": "display_data"
    }
   ],
   "source": [
    "max(regression_results[,1:8])\n",
    "min(regression_results[,1:8])"
   ]
  },
  {
   "cell_type": "code",
   "execution_count": 29,
   "id": "6612ad7f",
   "metadata": {
    "ExecuteTime": {
     "end_time": "2023-10-29T12:47:00.363334Z",
     "start_time": "2023-10-29T12:46:59.243Z"
    },
    "vscode": {
     "languageId": "r"
    }
   },
   "outputs": [
    {
     "data": {
      "text/html": [
       "<strong>png:</strong> 2"
      ],
      "text/latex": [
       "\\textbf{png:} 2"
      ],
      "text/markdown": [
       "**png:** 2"
      ],
      "text/plain": [
       "png \n",
       "  2 "
      ]
     },
     "metadata": {},
     "output_type": "display_data"
    },
    {
     "data": {
      "image/png": "[encoded data removed]",
      "text/plain": [
       "plot without title"
      ]
     },
     "metadata": {
      "image/png": {
       "height": 1200,
       "width": 600
      }
     },
     "output_type": "display_data"
    }
   ],
   "source": [
    "options(repr.plot.width=10,repr.plot.height=20)\n",
    "ggplot(regression_results_melt,aes(x=predictor,y=value,fill=model))+\n",
    "geom_bar(stat='identity',width=0.5,alpha=0.8,color='black',size=1.5)+\n",
    "facet_grid(model ~ .) +\n",
    "geom_hline(aes(yintercept=0),size=2)+\n",
    "geom_vline(aes(xintercept=0),size=1.5)+\n",
    "theme_classic()+\n",
    "theme(#axis.text.x=element_blank(),\n",
    "      #axis.text.y=element_blank(),\n",
    "      axis.text.x=element_text(size=20,color='black',angle=45,vjust = 0.7),\n",
    "      axis.text.y=element_text(size=20,color='black'),\n",
    "      axis.title.x=element_blank(),\n",
    "      axis.title.y=element_blank(),\n",
    "      #axis.line.x=element_line(linetype=1,color=\"black\",size=3),\n",
    "      axis.line.y=element_line(linetype=1,color=\"black\",size=2),\n",
    "      axis.line=element_blank(),\n",
    "      axis.ticks = element_blank(),\n",
    "      legend.position = 'none',\n",
    "      strip.text = element_blank()\n",
    "      )\n",
    "\n",
    "png(\"../output_graph/regression/check_size/RSA_regression_subvariables.png\", bg=\"transparent\",\n",
    "    family = 'sans',units='in',width=10,height=20,res=300)\n",
    "ggplot(regression_results_melt,aes(x=predictor,y=value,fill=model))+\n",
    "geom_bar(stat='identity',width=0.5,alpha=0.8,color='black',size=1.5)+\n",
    "facet_grid(model ~ .) +\n",
    "geom_hline(aes(yintercept=0),size=2)+\n",
    "geom_vline(aes(xintercept=0),size=1.5)+\n",
    "theme_classic()+\n",
    "theme(axis.text=element_blank(),\n",
    "      axis.title.x=element_blank(),\n",
    "      axis.title.y=element_blank(),\n",
    "      #axis.line.x=element_line(linetype=1,color=\"black\",size=3),\n",
    "      axis.line.y=element_line(linetype=1,color=\"black\",size=2),\n",
    "      axis.line=element_blank(),\n",
    "      axis.ticks = element_blank(),\n",
    "      legend.position = 'none',\n",
    "      strip.text = element_blank()\n",
    "      )\n",
    "dev.off()"
   ]
  },
  {
   "cell_type": "code",
   "execution_count": 30,
   "id": "7b395e29",
   "metadata": {
    "ExecuteTime": {
     "end_time": "2023-10-29T12:46:03.415900Z",
     "start_time": "2023-10-29T12:46:03.387Z"
    },
    "vscode": {
     "languageId": "r"
    }
   },
   "outputs": [
    {
     "data": {
      "text/html": [
       "<table class=\"dataframe\">\n",
       "<caption>A data.frame: 6 × 3</caption>\n",
       "<thead>\n",
       "\t<tr><th></th><th scope=col>predictor</th><th scope=col>model</th><th scope=col>value</th></tr>\n",
       "\t<tr><th></th><th scope=col>&lt;fct&gt;</th><th scope=col>&lt;fct&gt;</th><th scope=col>&lt;dbl&gt;</th></tr>\n",
       "</thead>\n",
       "<tbody>\n",
       "\t<tr><th scope=row>1</th><td>Language   </td><td>activeness</td><td>-0.13189352</td></tr>\n",
       "\t<tr><th scope=row>2</th><td>Personality</td><td>activeness</td><td> 0.13113525</td></tr>\n",
       "\t<tr><th scope=row>3</th><td>Geography  </td><td>activeness</td><td>-0.11310943</td></tr>\n",
       "\t<tr><th scope=row>4</th><td>Climates   </td><td>activeness</td><td> 0.04780564</td></tr>\n",
       "\t<tr><th scope=row>5</th><td>Subsistence</td><td>activeness</td><td>-0.02502596</td></tr>\n",
       "\t<tr><th scope=row>6</th><td>Disease    </td><td>activeness</td><td>-0.05604674</td></tr>\n",
       "</tbody>\n",
       "</table>\n"
      ],
      "text/latex": [
       "A data.frame: 6 × 3\n",
       "\\begin{tabular}{r|lll}\n",
       "  & predictor & model & value\\\\\n",
       "  & <fct> & <fct> & <dbl>\\\\\n",
       "\\hline\n",
       "\t1 & Language    & activeness & -0.13189352\\\\\n",
       "\t2 & Personality & activeness &  0.13113525\\\\\n",
       "\t3 & Geography   & activeness & -0.11310943\\\\\n",
       "\t4 & Climates    & activeness &  0.04780564\\\\\n",
       "\t5 & Subsistence & activeness & -0.02502596\\\\\n",
       "\t6 & Disease     & activeness & -0.05604674\\\\\n",
       "\\end{tabular}\n"
      ],
      "text/markdown": [
       "\n",
       "A data.frame: 6 × 3\n",
       "\n",
       "| <!--/--> | predictor &lt;fct&gt; | model &lt;fct&gt; | value &lt;dbl&gt; |\n",
       "|---|---|---|---|\n",
       "| 1 | Language    | activeness | -0.13189352 |\n",
       "| 2 | Personality | activeness |  0.13113525 |\n",
       "| 3 | Geography   | activeness | -0.11310943 |\n",
       "| 4 | Climates    | activeness |  0.04780564 |\n",
       "| 5 | Subsistence | activeness | -0.02502596 |\n",
       "| 6 | Disease     | activeness | -0.05604674 |\n",
       "\n"
      ],
      "text/plain": [
       "  predictor   model      value      \n",
       "1 Language    activeness -0.13189352\n",
       "2 Personality activeness  0.13113525\n",
       "3 Geography   activeness -0.11310943\n",
       "4 Climates    activeness  0.04780564\n",
       "5 Subsistence activeness -0.02502596\n",
       "6 Disease     activeness -0.05604674"
      ]
     },
     "metadata": {},
     "output_type": "display_data"
    }
   ],
   "source": [
    "head(regression_results_melt)"
   ]
  },
  {
   "cell_type": "code",
   "execution_count": 31,
   "id": "5c326e54",
   "metadata": {
    "ExecuteTime": {
     "end_time": "2023-10-29T13:05:21.872185Z",
     "start_time": "2023-10-29T13:05:21.850Z"
    },
    "vscode": {
     "languageId": "r"
    }
   },
   "outputs": [],
   "source": [
    "plot_regression_bar = function(model_label,mycolor){\n",
    "    options(repr.plot.width=10,repr.plot.height=2.5)\n",
    "    regression_results_melt %>% filter(model %in% model_label) %>%\n",
    "    ggplot(aes(x=predictor,y=value))+\n",
    "    geom_bar(stat='identity',width=0.5,alpha=0.8,color='black',size=1.5,fill=mycolor)+\n",
    "    #facet_grid(model ~ .) +\n",
    "    geom_hline(aes(yintercept=0),size=2)+\n",
    "    geom_vline(aes(xintercept=0),size=1.5)+\n",
    "    theme_classic()+\n",
    "    theme(axis.text.x=element_blank(),\n",
    "          #axis.text.y=element_blank(),\n",
    "          #axis.text.x=element_text(size=20,color='black',angle=45,vjust = 0.7),\n",
    "          axis.text.y=element_text(size=20,color='black'),\n",
    "          axis.title.x=element_blank(),\n",
    "          axis.title.y=element_blank(),\n",
    "          #axis.line.x=element_line(linetype=1,color=\"black\",size=3),\n",
    "          axis.line.y=element_line(linetype=1,color=\"black\",size=2),\n",
    "          axis.line=element_blank(),\n",
    "          axis.ticks = element_blank(),\n",
    "          legend.position = 'none',\n",
    "          strip.text = element_blank()\n",
    "          )+\n",
    "    ylim(-0.4,0.7)\n",
    "}\n",
    "\n",
    "plot_regression_bar_nolabel = function(model_label,mycolor){\n",
    "    options(repr.plot.width=10,repr.plot.height=2.5)\n",
    "    regression_results_melt %>% filter(model %in% model_label) %>%\n",
    "    ggplot(aes(x=predictor,y=value))+\n",
    "    geom_bar(stat='identity',width=0.5,alpha=0.8,color='black',size=1.5,fill=mycolor)+\n",
    "    #facet_grid(model ~ .) +\n",
    "    geom_hline(aes(yintercept=0),size=2)+\n",
    "    geom_vline(aes(xintercept=0),size=1.5)+\n",
    "    theme_classic()+\n",
    "    theme(axis.text.x=element_blank(),\n",
    "          axis.text.y=element_blank(),\n",
    "          #axis.text.x=element_text(size=20,color='black',angle=45,vjust = 0.7),\n",
    "          #axis.text.y=element_text(size=20,color='black'),\n",
    "          axis.title.x=element_blank(),\n",
    "          axis.title.y=element_blank(),\n",
    "          #axis.line.x=element_line(linetype=1,color=\"black\",size=3),\n",
    "          axis.line.y=element_line(linetype=1,color=\"black\",size=2),\n",
    "          axis.line=element_blank(),\n",
    "          axis.ticks = element_blank(),\n",
    "          legend.position = 'none',\n",
    "          strip.text = element_blank()\n",
    "          )+\n",
    "    ylim(-0.4,0.7)\n",
    "}"
   ]
  },
  {
   "cell_type": "markdown",
   "id": "0fef6b38",
   "metadata": {},
   "source": [
    "## Dimensional"
   ]
  },
  {
   "cell_type": "code",
   "execution_count": 32,
   "id": "0f4a40f4",
   "metadata": {
    "ExecuteTime": {
     "end_time": "2023-10-29T13:05:24.373536Z",
     "start_time": "2023-10-29T13:05:24.061Z"
    },
    "vscode": {
     "languageId": "r"
    }
   },
   "outputs": [
    {
     "data": {
      "text/html": [
       "<strong>png:</strong> 2"
      ],
      "text/latex": [
       "\\textbf{png:} 2"
      ],
      "text/markdown": [
       "**png:** 2"
      ],
      "text/plain": [
       "png \n",
       "  2 "
      ]
     },
     "metadata": {},
     "output_type": "display_data"
    },
    {
     "data": {
      "image/png": "[encoded data removed]",
      "text/plain": [
       "plot without title"
      ]
     },
     "metadata": {
      "image/png": {
       "height": 150,
       "width": 600
      }
     },
     "output_type": "display_data"
    }
   ],
   "source": [
    "plot_regression_bar('formality','#F9918A')\n",
    "\n",
    "png(\"../output_graph/regression/check_size/subvariables/formality.png\", bg=\"transparent\",\n",
    "    family = 'sans',units='in',width=10,height=2.5,res=300)\n",
    "plot_regression_bar_nolabel('formality','#F9918A')\n",
    "dev.off()"
   ]
  },
  {
   "cell_type": "code",
   "execution_count": 33,
   "id": "a4ee2fa0",
   "metadata": {
    "ExecuteTime": {
     "end_time": "2023-10-29T13:05:30.257853Z",
     "start_time": "2023-10-29T13:05:30.225Z"
    },
    "vscode": {
     "languageId": "r"
    }
   },
   "outputs": [
    {
     "ename": "ERROR",
     "evalue": "Error in file(file, \"rt\"): 无法打开链结\n",
     "output_type": "error",
     "traceback": [
      "Error in file(file, \"rt\"): 无法打开链结\nTraceback:\n",
      "1. read.csv(\"output_data/reviewer_recommend/p_value_sub/check_size/formality_33d.csv\", \n .     row.names = 1)",
      "2. read.table(file = file, header = header, sep = sep, quote = quote, \n .     dec = dec, fill = fill, comment.char = comment.char, ...)",
      "3. file(file, \"rt\")"
     ]
    }
   ],
   "source": [
    "read.csv('output_data/reviewer_recommend/p_value_sub/check_size/formality_33d.csv',row.names=1)"
   ]
  },
  {
   "cell_type": "code",
   "execution_count": 34,
   "id": "e9dac227",
   "metadata": {
    "ExecuteTime": {
     "end_time": "2023-10-29T13:05:33.704101Z",
     "start_time": "2023-10-29T13:05:33.421Z"
    },
    "vscode": {
     "languageId": "r"
    }
   },
   "outputs": [
    {
     "data": {
      "text/html": [
       "<strong>png:</strong> 2"
      ],
      "text/latex": [
       "\\textbf{png:} 2"
      ],
      "text/markdown": [
       "**png:** 2"
      ],
      "text/plain": [
       "png \n",
       "  2 "
      ]
     },
     "metadata": {},
     "output_type": "display_data"
    },
    {
     "data": {
      "image/png": "[encoded data removed]",
      "text/plain": [
       "plot without title"
      ]
     },
     "metadata": {
      "image/png": {
       "height": 150,
       "width": 600
      }
     },
     "output_type": "display_data"
    }
   ],
   "source": [
    "plot_regression_bar('activeness','#D7AB33')\n",
    "\n",
    "png(\"../output_graph/regression/check_size/subvariables/activeness.png\", bg=\"transparent\",\n",
    "    family = 'sans',units='in',width=10,height=2.5,res=300)\n",
    "plot_regression_bar_nolabel('activeness','#D7AB33')\n",
    "dev.off()"
   ]
  },
  {
   "cell_type": "code",
   "execution_count": 35,
   "id": "60d7d788",
   "metadata": {
    "ExecuteTime": {
     "end_time": "2023-10-29T13:05:35.468116Z",
     "start_time": "2023-10-29T13:05:35.437Z"
    },
    "vscode": {
     "languageId": "r"
    }
   },
   "outputs": [
    {
     "ename": "ERROR",
     "evalue": "Error in file(file, \"rt\"): 无法打开链结\n",
     "output_type": "error",
     "traceback": [
      "Error in file(file, \"rt\"): 无法打开链结\nTraceback:\n",
      "1. read.csv(\"output_data/reviewer_recommend/p_value_sub/check_size/activeness_33d.csv\", \n .     row.names = 1)",
      "2. read.table(file = file, header = header, sep = sep, quote = quote, \n .     dec = dec, fill = fill, comment.char = comment.char, ...)",
      "3. file(file, \"rt\")"
     ]
    }
   ],
   "source": [
    "read.csv('output_data/reviewer_recommend/p_value_sub/check_size/activeness_33d.csv',row.names=1)"
   ]
  },
  {
   "cell_type": "code",
   "execution_count": 36,
   "id": "4cad533c",
   "metadata": {
    "ExecuteTime": {
     "end_time": "2023-10-29T13:05:36.092696Z",
     "start_time": "2023-10-29T13:05:35.790Z"
    },
    "vscode": {
     "languageId": "r"
    }
   },
   "outputs": [
    {
     "data": {
      "text/html": [
       "<strong>png:</strong> 2"
      ],
      "text/latex": [
       "\\textbf{png:} 2"
      ],
      "text/markdown": [
       "**png:** 2"
      ],
      "text/plain": [
       "png \n",
       "  2 "
      ]
     },
     "metadata": {},
     "output_type": "display_data"
    },
    {
     "data": {
      "image/png": "[encoded data removed]",
      "text/plain": [
       "plot without title"
      ]
     },
     "metadata": {
      "image/png": {
       "height": 150,
       "width": 600
      }
     },
     "output_type": "display_data"
    }
   ],
   "source": [
    "plot_regression_bar('valence','#96BE33')\n",
    "\n",
    "png(\"../output_graph/regression/check_size/subvariables/valence.png\", bg=\"transparent\",\n",
    "    family = 'sans',units='in',width=10,height=2.5,res=300)\n",
    "plot_regression_bar_nolabel('valence','#96BE33')\n",
    "dev.off()"
   ]
  },
  {
   "cell_type": "code",
   "execution_count": 37,
   "id": "500574f4",
   "metadata": {
    "ExecuteTime": {
     "end_time": "2023-10-29T13:05:36.162602Z",
     "start_time": "2023-10-29T13:05:36.074Z"
    },
    "vscode": {
     "languageId": "r"
    }
   },
   "outputs": [
    {
     "data": {
      "text/html": [
       "<table class=\"dataframe\">\n",
       "<caption>A data.frame: 1 × 15</caption>\n",
       "<thead>\n",
       "\t<tr><th></th><th scope=col>Lexical</th><th scope=col>personality_all</th><th scope=col>Coordinate</th><th scope=col>Climatic_demands</th><th scope=col>subsistence</th><th scope=col>disease</th><th scope=col>urban</th><th scope=col>wealth</th><th scope=col>edu</th><th scope=col>Hofstede_6D</th><th scope=col>new_gendist_weighted</th><th scope=col>religion_per</th><th scope=col>idealogy</th><th scope=col>demographics</th><th scope=col>check_size</th></tr>\n",
       "\t<tr><th></th><th scope=col>&lt;dbl&gt;</th><th scope=col>&lt;dbl&gt;</th><th scope=col>&lt;dbl&gt;</th><th scope=col>&lt;dbl&gt;</th><th scope=col>&lt;dbl&gt;</th><th scope=col>&lt;dbl&gt;</th><th scope=col>&lt;dbl&gt;</th><th scope=col>&lt;dbl&gt;</th><th scope=col>&lt;dbl&gt;</th><th scope=col>&lt;dbl&gt;</th><th scope=col>&lt;dbl&gt;</th><th scope=col>&lt;dbl&gt;</th><th scope=col>&lt;dbl&gt;</th><th scope=col>&lt;dbl&gt;</th><th scope=col>&lt;dbl&gt;</th></tr>\n",
       "</thead>\n",
       "<tbody>\n",
       "\t<tr><th scope=row>1</th><td>0.853</td><td>0.2555</td><td>0.6099</td><td>0.1771</td><td>0.9075</td><td>0.8008</td><td>0.0671</td><td>0.479</td><td>0.1473</td><td>0.8016</td><td>0.2752</td><td>0.0719</td><td>0.6377</td><td>0.1896</td><td>0.5093</td></tr>\n",
       "</tbody>\n",
       "</table>\n"
      ],
      "text/latex": [
       "A data.frame: 1 × 15\n",
       "\\begin{tabular}{r|lllllllllllllll}\n",
       "  & Lexical & personality\\_all & Coordinate & Climatic\\_demands & subsistence & disease & urban & wealth & edu & Hofstede\\_6D & new\\_gendist\\_weighted & religion\\_per & idealogy & demographics & check\\_size\\\\\n",
       "  & <dbl> & <dbl> & <dbl> & <dbl> & <dbl> & <dbl> & <dbl> & <dbl> & <dbl> & <dbl> & <dbl> & <dbl> & <dbl> & <dbl> & <dbl>\\\\\n",
       "\\hline\n",
       "\t1 & 0.853 & 0.2555 & 0.6099 & 0.1771 & 0.9075 & 0.8008 & 0.0671 & 0.479 & 0.1473 & 0.8016 & 0.2752 & 0.0719 & 0.6377 & 0.1896 & 0.5093\\\\\n",
       "\\end{tabular}\n"
      ],
      "text/markdown": [
       "\n",
       "A data.frame: 1 × 15\n",
       "\n",
       "| <!--/--> | Lexical &lt;dbl&gt; | personality_all &lt;dbl&gt; | Coordinate &lt;dbl&gt; | Climatic_demands &lt;dbl&gt; | subsistence &lt;dbl&gt; | disease &lt;dbl&gt; | urban &lt;dbl&gt; | wealth &lt;dbl&gt; | edu &lt;dbl&gt; | Hofstede_6D &lt;dbl&gt; | new_gendist_weighted &lt;dbl&gt; | religion_per &lt;dbl&gt; | idealogy &lt;dbl&gt; | demographics &lt;dbl&gt; | check_size &lt;dbl&gt; |\n",
       "|---|---|---|---|---|---|---|---|---|---|---|---|---|---|---|---|\n",
       "| 1 | 0.853 | 0.2555 | 0.6099 | 0.1771 | 0.9075 | 0.8008 | 0.0671 | 0.479 | 0.1473 | 0.8016 | 0.2752 | 0.0719 | 0.6377 | 0.1896 | 0.5093 |\n",
       "\n"
      ],
      "text/plain": [
       "  Lexical personality_all Coordinate Climatic_demands subsistence disease\n",
       "1 0.853   0.2555          0.6099     0.1771           0.9075      0.8008 \n",
       "  urban  wealth edu    Hofstede_6D new_gendist_weighted religion_per idealogy\n",
       "1 0.0671 0.479  0.1473 0.8016      0.2752               0.0719       0.6377  \n",
       "  demographics check_size\n",
       "1 0.1896       0.5093    "
      ]
     },
     "metadata": {},
     "output_type": "display_data"
    }
   ],
   "source": [
    "read.csv('output_data/rsa_results/p_value_sub/check_size/valence_33d.csv',row.names=1)"
   ]
  },
  {
   "cell_type": "code",
   "execution_count": 38,
   "id": "e3cd96b4",
   "metadata": {
    "ExecuteTime": {
     "end_time": "2023-10-29T13:05:36.687225Z",
     "start_time": "2023-10-29T13:05:36.386Z"
    },
    "vscode": {
     "languageId": "r"
    }
   },
   "outputs": [
    {
     "data": {
      "text/html": [
       "<strong>png:</strong> 2"
      ],
      "text/latex": [
       "\\textbf{png:} 2"
      ],
      "text/markdown": [
       "**png:** 2"
      ],
      "text/plain": [
       "png \n",
       "  2 "
      ]
     },
     "metadata": {},
     "output_type": "display_data"
    },
    {
     "data": {
      "image/png": "[encoded data removed]",
      "text/plain": [
       "plot without title"
      ]
     },
     "metadata": {
      "image/png": {
       "height": 150,
       "width": 600
      }
     },
     "output_type": "display_data"
    }
   ],
   "source": [
    "plot_regression_bar('exchange','#33CB85')\n",
    "\n",
    "png(\"../output_graph/regression/check_size/subvariables/exchange.png\", bg=\"transparent\",\n",
    "    family = 'sans',units='in',width=10,height=2.5,res=300)\n",
    "plot_regression_bar_nolabel('exchange','#33CB85')\n",
    "dev.off()"
   ]
  },
  {
   "cell_type": "code",
   "execution_count": 39,
   "id": "2f6ae048",
   "metadata": {
    "ExecuteTime": {
     "end_time": "2023-10-29T13:05:36.737190Z",
     "start_time": "2023-10-29T13:05:36.582Z"
    },
    "vscode": {
     "languageId": "r"
    }
   },
   "outputs": [
    {
     "data": {
      "text/html": [
       "<table class=\"dataframe\">\n",
       "<caption>A data.frame: 1 × 15</caption>\n",
       "<thead>\n",
       "\t<tr><th></th><th scope=col>Lexical</th><th scope=col>personality_all</th><th scope=col>Coordinate</th><th scope=col>Climatic_demands</th><th scope=col>subsistence</th><th scope=col>disease</th><th scope=col>urban</th><th scope=col>wealth</th><th scope=col>edu</th><th scope=col>Hofstede_6D</th><th scope=col>new_gendist_weighted</th><th scope=col>religion_per</th><th scope=col>idealogy</th><th scope=col>demographics</th><th scope=col>check_size</th></tr>\n",
       "\t<tr><th></th><th scope=col>&lt;dbl&gt;</th><th scope=col>&lt;dbl&gt;</th><th scope=col>&lt;dbl&gt;</th><th scope=col>&lt;dbl&gt;</th><th scope=col>&lt;dbl&gt;</th><th scope=col>&lt;dbl&gt;</th><th scope=col>&lt;dbl&gt;</th><th scope=col>&lt;dbl&gt;</th><th scope=col>&lt;dbl&gt;</th><th scope=col>&lt;dbl&gt;</th><th scope=col>&lt;dbl&gt;</th><th scope=col>&lt;dbl&gt;</th><th scope=col>&lt;dbl&gt;</th><th scope=col>&lt;dbl&gt;</th><th scope=col>&lt;dbl&gt;</th></tr>\n",
       "</thead>\n",
       "<tbody>\n",
       "\t<tr><th scope=row>1</th><td>0.4675</td><td>0.6081</td><td>0.6207</td><td>0.3951</td><td>0.3173</td><td>0.514</td><td>0.0618</td><td>0.6322</td><td>0.1669</td><td>0.4859</td><td>0.8292</td><td>0.2475</td><td>0.9497</td><td>0.3956</td><td>0.6827</td></tr>\n",
       "</tbody>\n",
       "</table>\n"
      ],
      "text/latex": [
       "A data.frame: 1 × 15\n",
       "\\begin{tabular}{r|lllllllllllllll}\n",
       "  & Lexical & personality\\_all & Coordinate & Climatic\\_demands & subsistence & disease & urban & wealth & edu & Hofstede\\_6D & new\\_gendist\\_weighted & religion\\_per & idealogy & demographics & check\\_size\\\\\n",
       "  & <dbl> & <dbl> & <dbl> & <dbl> & <dbl> & <dbl> & <dbl> & <dbl> & <dbl> & <dbl> & <dbl> & <dbl> & <dbl> & <dbl> & <dbl>\\\\\n",
       "\\hline\n",
       "\t1 & 0.4675 & 0.6081 & 0.6207 & 0.3951 & 0.3173 & 0.514 & 0.0618 & 0.6322 & 0.1669 & 0.4859 & 0.8292 & 0.2475 & 0.9497 & 0.3956 & 0.6827\\\\\n",
       "\\end{tabular}\n"
      ],
      "text/markdown": [
       "\n",
       "A data.frame: 1 × 15\n",
       "\n",
       "| <!--/--> | Lexical &lt;dbl&gt; | personality_all &lt;dbl&gt; | Coordinate &lt;dbl&gt; | Climatic_demands &lt;dbl&gt; | subsistence &lt;dbl&gt; | disease &lt;dbl&gt; | urban &lt;dbl&gt; | wealth &lt;dbl&gt; | edu &lt;dbl&gt; | Hofstede_6D &lt;dbl&gt; | new_gendist_weighted &lt;dbl&gt; | religion_per &lt;dbl&gt; | idealogy &lt;dbl&gt; | demographics &lt;dbl&gt; | check_size &lt;dbl&gt; |\n",
       "|---|---|---|---|---|---|---|---|---|---|---|---|---|---|---|---|\n",
       "| 1 | 0.4675 | 0.6081 | 0.6207 | 0.3951 | 0.3173 | 0.514 | 0.0618 | 0.6322 | 0.1669 | 0.4859 | 0.8292 | 0.2475 | 0.9497 | 0.3956 | 0.6827 |\n",
       "\n"
      ],
      "text/plain": [
       "  Lexical personality_all Coordinate Climatic_demands subsistence disease\n",
       "1 0.4675  0.6081          0.6207     0.3951           0.3173      0.514  \n",
       "  urban  wealth edu    Hofstede_6D new_gendist_weighted religion_per idealogy\n",
       "1 0.0618 0.6322 0.1669 0.4859      0.8292               0.2475       0.9497  \n",
       "  demographics check_size\n",
       "1 0.3956       0.6827    "
      ]
     },
     "metadata": {},
     "output_type": "display_data"
    }
   ],
   "source": [
    "read.csv('output_data/rsa_results/p_value_sub/check_size/exchange_33d.csv',row.names=1)"
   ]
  },
  {
   "cell_type": "code",
   "execution_count": 41,
   "id": "c4642cdf",
   "metadata": {
    "ExecuteTime": {
     "end_time": "2023-10-29T13:05:37.056900Z",
     "start_time": "2023-10-29T13:05:36.739Z"
    },
    "vscode": {
     "languageId": "r"
    }
   },
   "outputs": [
    {
     "data": {
      "text/html": [
       "<strong>png:</strong> 2"
      ],
      "text/latex": [
       "\\textbf{png:} 2"
      ],
      "text/markdown": [
       "**png:** 2"
      ],
      "text/plain": [
       "png \n",
       "  2 "
      ]
     },
     "metadata": {},
     "output_type": "display_data"
    },
    {
     "data": {
      "image/png": "[encoded data removed]",
      "text/plain": [
       "plot without title"
      ]
     },
     "metadata": {
      "image/png": {
       "height": 150,
       "width": 600
      }
     },
     "output_type": "display_data"
    }
   ],
   "source": [
    "plot_regression_bar('equality','#33CCD0')\n",
    "\n",
    "png(\"../output_graph/regression/check_size/subvariables/equality.png\", bg=\"transparent\",\n",
    "    family = 'sans',units='in',width=10,height=2.5,res=300)\n",
    "plot_regression_bar_nolabel('equality','#33CCD0')\n",
    "dev.off()"
   ]
  },
  {
   "cell_type": "code",
   "execution_count": 43,
   "id": "238fc1e8",
   "metadata": {
    "ExecuteTime": {
     "end_time": "2023-10-29T13:05:37.108911Z",
     "start_time": "2023-10-29T13:05:36.842Z"
    },
    "vscode": {
     "languageId": "r"
    }
   },
   "outputs": [
    {
     "data": {
      "text/html": [
       "<table class=\"dataframe\">\n",
       "<caption>A data.frame: 1 × 15</caption>\n",
       "<thead>\n",
       "\t<tr><th></th><th scope=col>Lexical</th><th scope=col>personality_all</th><th scope=col>Coordinate</th><th scope=col>Climatic_demands</th><th scope=col>subsistence</th><th scope=col>disease</th><th scope=col>urban</th><th scope=col>wealth</th><th scope=col>edu</th><th scope=col>Hofstede_6D</th><th scope=col>new_gendist_weighted</th><th scope=col>religion_per</th><th scope=col>idealogy</th><th scope=col>demographics</th><th scope=col>check_size</th></tr>\n",
       "\t<tr><th></th><th scope=col>&lt;dbl&gt;</th><th scope=col>&lt;dbl&gt;</th><th scope=col>&lt;dbl&gt;</th><th scope=col>&lt;dbl&gt;</th><th scope=col>&lt;dbl&gt;</th><th scope=col>&lt;dbl&gt;</th><th scope=col>&lt;dbl&gt;</th><th scope=col>&lt;dbl&gt;</th><th scope=col>&lt;dbl&gt;</th><th scope=col>&lt;dbl&gt;</th><th scope=col>&lt;dbl&gt;</th><th scope=col>&lt;dbl&gt;</th><th scope=col>&lt;dbl&gt;</th><th scope=col>&lt;dbl&gt;</th><th scope=col>&lt;dbl&gt;</th></tr>\n",
       "</thead>\n",
       "<tbody>\n",
       "\t<tr><th scope=row>1</th><td>0.7447</td><td>0.063</td><td>0.8039</td><td>0.2928</td><td>0.4955</td><td>0.4496</td><td>0.0821</td><td>0.5888</td><td>0.1738</td><td>0.761</td><td>0.8014</td><td>0.0289</td><td>0.7311</td><td>0.2109</td><td>0.226</td></tr>\n",
       "</tbody>\n",
       "</table>\n"
      ],
      "text/latex": [
       "A data.frame: 1 × 15\n",
       "\\begin{tabular}{r|lllllllllllllll}\n",
       "  & Lexical & personality\\_all & Coordinate & Climatic\\_demands & subsistence & disease & urban & wealth & edu & Hofstede\\_6D & new\\_gendist\\_weighted & religion\\_per & idealogy & demographics & check\\_size\\\\\n",
       "  & <dbl> & <dbl> & <dbl> & <dbl> & <dbl> & <dbl> & <dbl> & <dbl> & <dbl> & <dbl> & <dbl> & <dbl> & <dbl> & <dbl> & <dbl>\\\\\n",
       "\\hline\n",
       "\t1 & 0.7447 & 0.063 & 0.8039 & 0.2928 & 0.4955 & 0.4496 & 0.0821 & 0.5888 & 0.1738 & 0.761 & 0.8014 & 0.0289 & 0.7311 & 0.2109 & 0.226\\\\\n",
       "\\end{tabular}\n"
      ],
      "text/markdown": [
       "\n",
       "A data.frame: 1 × 15\n",
       "\n",
       "| <!--/--> | Lexical &lt;dbl&gt; | personality_all &lt;dbl&gt; | Coordinate &lt;dbl&gt; | Climatic_demands &lt;dbl&gt; | subsistence &lt;dbl&gt; | disease &lt;dbl&gt; | urban &lt;dbl&gt; | wealth &lt;dbl&gt; | edu &lt;dbl&gt; | Hofstede_6D &lt;dbl&gt; | new_gendist_weighted &lt;dbl&gt; | religion_per &lt;dbl&gt; | idealogy &lt;dbl&gt; | demographics &lt;dbl&gt; | check_size &lt;dbl&gt; |\n",
       "|---|---|---|---|---|---|---|---|---|---|---|---|---|---|---|---|\n",
       "| 1 | 0.7447 | 0.063 | 0.8039 | 0.2928 | 0.4955 | 0.4496 | 0.0821 | 0.5888 | 0.1738 | 0.761 | 0.8014 | 0.0289 | 0.7311 | 0.2109 | 0.226 |\n",
       "\n"
      ],
      "text/plain": [
       "  Lexical personality_all Coordinate Climatic_demands subsistence disease\n",
       "1 0.7447  0.063           0.8039     0.2928           0.4955      0.4496 \n",
       "  urban  wealth edu    Hofstede_6D new_gendist_weighted religion_per idealogy\n",
       "1 0.0821 0.5888 0.1738 0.761       0.8014               0.0289       0.7311  \n",
       "  demographics check_size\n",
       "1 0.2109       0.226     "
      ]
     },
     "metadata": {},
     "output_type": "display_data"
    }
   ],
   "source": [
    "read.csv('output_data/rsa_results/p_value_sub/check_size/equality_33d.csv',row.names=1)"
   ]
  },
  {
   "cell_type": "markdown",
   "id": "335057ac",
   "metadata": {},
   "source": [
    "## Categorical"
   ]
  },
  {
   "cell_type": "code",
   "execution_count": 44,
   "id": "8c366c17",
   "metadata": {
    "ExecuteTime": {
     "end_time": "2023-10-29T13:05:37.499166Z",
     "start_time": "2023-10-29T13:05:37.176Z"
    },
    "vscode": {
     "languageId": "r"
    }
   },
   "outputs": [
    {
     "data": {
      "text/html": [
       "<strong>png:</strong> 2"
      ],
      "text/latex": [
       "\\textbf{png:} 2"
      ],
      "text/markdown": [
       "**png:** 2"
      ],
      "text/plain": [
       "png \n",
       "  2 "
      ]
     },
     "metadata": {},
     "output_type": "display_data"
    },
    {
     "data": {
      "image/png": "[encoded data removed]",
      "text/plain": [
       "plot without title"
      ]
     },
     "metadata": {
      "image/png": {
       "height": 150,
       "width": 600
      }
     },
     "output_type": "display_data"
    }
   ],
   "source": [
    "plot_regression_bar('hostile','#33BAFF')\n",
    "\n",
    "png(\"../output_graph/regression/check_size/subvariables/hostile.png\", bg=\"transparent\",\n",
    "    family = 'sans',units='in',width=10,height=2.5,res=300)\n",
    "plot_regression_bar_nolabel('hostile','#33BAFF')\n",
    "dev.off()"
   ]
  },
  {
   "cell_type": "code",
   "execution_count": 46,
   "id": "35be1bdd",
   "metadata": {
    "ExecuteTime": {
     "end_time": "2023-10-29T13:05:37.550725Z",
     "start_time": "2023-10-29T13:05:37.267Z"
    },
    "vscode": {
     "languageId": "r"
    }
   },
   "outputs": [
    {
     "data": {
      "text/html": [
       "<table class=\"dataframe\">\n",
       "<caption>A data.frame: 1 × 15</caption>\n",
       "<thead>\n",
       "\t<tr><th></th><th scope=col>Lexical</th><th scope=col>personality_all</th><th scope=col>Coordinate</th><th scope=col>Climatic_demands</th><th scope=col>subsistence</th><th scope=col>disease</th><th scope=col>urban</th><th scope=col>wealth</th><th scope=col>edu</th><th scope=col>Hofstede_6D</th><th scope=col>new_gendist_weighted</th><th scope=col>religion_per</th><th scope=col>idealogy</th><th scope=col>demographics</th><th scope=col>check_size</th></tr>\n",
       "\t<tr><th></th><th scope=col>&lt;dbl&gt;</th><th scope=col>&lt;dbl&gt;</th><th scope=col>&lt;dbl&gt;</th><th scope=col>&lt;dbl&gt;</th><th scope=col>&lt;dbl&gt;</th><th scope=col>&lt;dbl&gt;</th><th scope=col>&lt;dbl&gt;</th><th scope=col>&lt;dbl&gt;</th><th scope=col>&lt;dbl&gt;</th><th scope=col>&lt;dbl&gt;</th><th scope=col>&lt;dbl&gt;</th><th scope=col>&lt;dbl&gt;</th><th scope=col>&lt;dbl&gt;</th><th scope=col>&lt;dbl&gt;</th><th scope=col>&lt;dbl&gt;</th></tr>\n",
       "</thead>\n",
       "<tbody>\n",
       "\t<tr><th scope=row>1</th><td>0.0066</td><td>0.3986</td><td>0.8656</td><td>0.2918</td><td>0.0244</td><td>0.2549</td><td>0.1527</td><td>0.5441</td><td>0.3041</td><td>0.4225</td><td>0.9487</td><td>0.6962</td><td>0.442</td><td>0.9444</td><td>0.9785</td></tr>\n",
       "</tbody>\n",
       "</table>\n"
      ],
      "text/latex": [
       "A data.frame: 1 × 15\n",
       "\\begin{tabular}{r|lllllllllllllll}\n",
       "  & Lexical & personality\\_all & Coordinate & Climatic\\_demands & subsistence & disease & urban & wealth & edu & Hofstede\\_6D & new\\_gendist\\_weighted & religion\\_per & idealogy & demographics & check\\_size\\\\\n",
       "  & <dbl> & <dbl> & <dbl> & <dbl> & <dbl> & <dbl> & <dbl> & <dbl> & <dbl> & <dbl> & <dbl> & <dbl> & <dbl> & <dbl> & <dbl>\\\\\n",
       "\\hline\n",
       "\t1 & 0.0066 & 0.3986 & 0.8656 & 0.2918 & 0.0244 & 0.2549 & 0.1527 & 0.5441 & 0.3041 & 0.4225 & 0.9487 & 0.6962 & 0.442 & 0.9444 & 0.9785\\\\\n",
       "\\end{tabular}\n"
      ],
      "text/markdown": [
       "\n",
       "A data.frame: 1 × 15\n",
       "\n",
       "| <!--/--> | Lexical &lt;dbl&gt; | personality_all &lt;dbl&gt; | Coordinate &lt;dbl&gt; | Climatic_demands &lt;dbl&gt; | subsistence &lt;dbl&gt; | disease &lt;dbl&gt; | urban &lt;dbl&gt; | wealth &lt;dbl&gt; | edu &lt;dbl&gt; | Hofstede_6D &lt;dbl&gt; | new_gendist_weighted &lt;dbl&gt; | religion_per &lt;dbl&gt; | idealogy &lt;dbl&gt; | demographics &lt;dbl&gt; | check_size &lt;dbl&gt; |\n",
       "|---|---|---|---|---|---|---|---|---|---|---|---|---|---|---|---|\n",
       "| 1 | 0.0066 | 0.3986 | 0.8656 | 0.2918 | 0.0244 | 0.2549 | 0.1527 | 0.5441 | 0.3041 | 0.4225 | 0.9487 | 0.6962 | 0.442 | 0.9444 | 0.9785 |\n",
       "\n"
      ],
      "text/plain": [
       "  Lexical personality_all Coordinate Climatic_demands subsistence disease\n",
       "1 0.0066  0.3986          0.8656     0.2918           0.0244      0.2549 \n",
       "  urban  wealth edu    Hofstede_6D new_gendist_weighted religion_per idealogy\n",
       "1 0.1527 0.5441 0.3041 0.4225      0.9487               0.6962       0.442   \n",
       "  demographics check_size\n",
       "1 0.9444       0.9785    "
      ]
     },
     "metadata": {},
     "output_type": "display_data"
    }
   ],
   "source": [
    "read.csv('output_data/rsa_results/p_value_sub/check_size/hostile_33d.csv',row.names=1)"
   ]
  },
  {
   "cell_type": "code",
   "execution_count": 47,
   "id": "c8993647",
   "metadata": {
    "ExecuteTime": {
     "end_time": "2023-10-29T13:05:37.872404Z",
     "start_time": "2023-10-29T13:05:37.406Z"
    },
    "vscode": {
     "languageId": "r"
    }
   },
   "outputs": [
    {
     "data": {
      "text/html": [
       "<strong>png:</strong> 2"
      ],
      "text/latex": [
       "\\textbf{png:} 2"
      ],
      "text/markdown": [
       "**png:** 2"
      ],
      "text/plain": [
       "png \n",
       "  2 "
      ]
     },
     "metadata": {},
     "output_type": "display_data"
    },
    {
     "data": {
      "image/png": "[encoded data removed]",
      "text/plain": [
       "plot without title"
      ]
     },
     "metadata": {
      "image/png": {
       "height": 150,
       "width": 600
      }
     },
     "output_type": "display_data"
    }
   ],
   "source": [
    "plot_regression_bar('private','#D296FF')\n",
    "\n",
    "png(\"../output_graph/regression/check_size/subvariables/private.png\", bg=\"transparent\",\n",
    "    family = 'sans',units='in',width=10,height=2.5,res=300)\n",
    "plot_regression_bar_nolabel('private','#D296FF')\n",
    "dev.off()"
   ]
  },
  {
   "cell_type": "code",
   "execution_count": 48,
   "id": "fa5be87d",
   "metadata": {
    "ExecuteTime": {
     "end_time": "2023-10-29T13:05:37.925374Z",
     "start_time": "2023-10-29T13:05:37.551Z"
    },
    "vscode": {
     "languageId": "r"
    }
   },
   "outputs": [
    {
     "data": {
      "text/html": [
       "<table class=\"dataframe\">\n",
       "<caption>A data.frame: 1 × 15</caption>\n",
       "<thead>\n",
       "\t<tr><th></th><th scope=col>Lexical</th><th scope=col>personality_all</th><th scope=col>Coordinate</th><th scope=col>Climatic_demands</th><th scope=col>subsistence</th><th scope=col>disease</th><th scope=col>urban</th><th scope=col>wealth</th><th scope=col>edu</th><th scope=col>Hofstede_6D</th><th scope=col>new_gendist_weighted</th><th scope=col>religion_per</th><th scope=col>idealogy</th><th scope=col>demographics</th><th scope=col>check_size</th></tr>\n",
       "\t<tr><th></th><th scope=col>&lt;dbl&gt;</th><th scope=col>&lt;dbl&gt;</th><th scope=col>&lt;dbl&gt;</th><th scope=col>&lt;dbl&gt;</th><th scope=col>&lt;dbl&gt;</th><th scope=col>&lt;dbl&gt;</th><th scope=col>&lt;dbl&gt;</th><th scope=col>&lt;dbl&gt;</th><th scope=col>&lt;dbl&gt;</th><th scope=col>&lt;dbl&gt;</th><th scope=col>&lt;dbl&gt;</th><th scope=col>&lt;dbl&gt;</th><th scope=col>&lt;dbl&gt;</th><th scope=col>&lt;dbl&gt;</th><th scope=col>&lt;dbl&gt;</th></tr>\n",
       "</thead>\n",
       "<tbody>\n",
       "\t<tr><th scope=row>1</th><td>0.1063</td><td>0.4786</td><td>0.8592</td><td>0.1546</td><td>0.7558</td><td>0.886</td><td>0.0651</td><td>0.1358</td><td>0.5598</td><td>0.7524</td><td>0.4462</td><td>0.2376</td><td>0.7261</td><td>0.9934</td><td>0.6938</td></tr>\n",
       "</tbody>\n",
       "</table>\n"
      ],
      "text/latex": [
       "A data.frame: 1 × 15\n",
       "\\begin{tabular}{r|lllllllllllllll}\n",
       "  & Lexical & personality\\_all & Coordinate & Climatic\\_demands & subsistence & disease & urban & wealth & edu & Hofstede\\_6D & new\\_gendist\\_weighted & religion\\_per & idealogy & demographics & check\\_size\\\\\n",
       "  & <dbl> & <dbl> & <dbl> & <dbl> & <dbl> & <dbl> & <dbl> & <dbl> & <dbl> & <dbl> & <dbl> & <dbl> & <dbl> & <dbl> & <dbl>\\\\\n",
       "\\hline\n",
       "\t1 & 0.1063 & 0.4786 & 0.8592 & 0.1546 & 0.7558 & 0.886 & 0.0651 & 0.1358 & 0.5598 & 0.7524 & 0.4462 & 0.2376 & 0.7261 & 0.9934 & 0.6938\\\\\n",
       "\\end{tabular}\n"
      ],
      "text/markdown": [
       "\n",
       "A data.frame: 1 × 15\n",
       "\n",
       "| <!--/--> | Lexical &lt;dbl&gt; | personality_all &lt;dbl&gt; | Coordinate &lt;dbl&gt; | Climatic_demands &lt;dbl&gt; | subsistence &lt;dbl&gt; | disease &lt;dbl&gt; | urban &lt;dbl&gt; | wealth &lt;dbl&gt; | edu &lt;dbl&gt; | Hofstede_6D &lt;dbl&gt; | new_gendist_weighted &lt;dbl&gt; | religion_per &lt;dbl&gt; | idealogy &lt;dbl&gt; | demographics &lt;dbl&gt; | check_size &lt;dbl&gt; |\n",
       "|---|---|---|---|---|---|---|---|---|---|---|---|---|---|---|---|\n",
       "| 1 | 0.1063 | 0.4786 | 0.8592 | 0.1546 | 0.7558 | 0.886 | 0.0651 | 0.1358 | 0.5598 | 0.7524 | 0.4462 | 0.2376 | 0.7261 | 0.9934 | 0.6938 |\n",
       "\n"
      ],
      "text/plain": [
       "  Lexical personality_all Coordinate Climatic_demands subsistence disease\n",
       "1 0.1063  0.4786          0.8592     0.1546           0.7558      0.886  \n",
       "  urban  wealth edu    Hofstede_6D new_gendist_weighted religion_per idealogy\n",
       "1 0.0651 0.1358 0.5598 0.7524      0.4462               0.2376       0.7261  \n",
       "  demographics check_size\n",
       "1 0.9934       0.6938    "
      ]
     },
     "metadata": {},
     "output_type": "display_data"
    }
   ],
   "source": [
    "read.csv('output_data/rsa_results/p_value_sub/check_size/private_33d.csv',row.names=1)"
   ]
  },
  {
   "cell_type": "code",
   "execution_count": 49,
   "id": "fd75fc02",
   "metadata": {
    "ExecuteTime": {
     "end_time": "2023-10-29T13:05:38.283207Z",
     "start_time": "2023-10-29T13:05:37.979Z"
    },
    "vscode": {
     "languageId": "r"
    }
   },
   "outputs": [
    {
     "data": {
      "text/html": [
       "<strong>png:</strong> 2"
      ],
      "text/latex": [
       "\\textbf{png:} 2"
      ],
      "text/markdown": [
       "**png:** 2"
      ],
      "text/plain": [
       "png \n",
       "  2 "
      ]
     },
     "metadata": {},
     "output_type": "display_data"
    },
    {
     "data": {
      "image/png": "[encoded data removed]",
      "text/plain": [
       "plot without title"
      ]
     },
     "metadata": {
      "image/png": {
       "height": 150,
       "width": 600
      }
     },
     "output_type": "display_data"
    }
   ],
   "source": [
    "plot_regression_bar('public','#FF81D6')\n",
    "\n",
    "png(\"../output_graph/regression/check_size/subvariables/public.png\", bg=\"transparent\",\n",
    "    family = 'sans',units='in',width=10,height=2.5,res=300)\n",
    "plot_regression_bar_nolabel('public','#FF81D6')\n",
    "dev.off()"
   ]
  },
  {
   "cell_type": "code",
   "execution_count": 50,
   "id": "84760f41",
   "metadata": {
    "ExecuteTime": {
     "end_time": "2023-10-29T13:05:38.413336Z",
     "start_time": "2023-10-29T13:05:38.381Z"
    },
    "vscode": {
     "languageId": "r"
    }
   },
   "outputs": [
    {
     "data": {
      "text/html": [
       "<table class=\"dataframe\">\n",
       "<caption>A data.frame: 1 × 15</caption>\n",
       "<thead>\n",
       "\t<tr><th></th><th scope=col>Lexical</th><th scope=col>personality_all</th><th scope=col>Coordinate</th><th scope=col>Climatic_demands</th><th scope=col>subsistence</th><th scope=col>disease</th><th scope=col>urban</th><th scope=col>wealth</th><th scope=col>edu</th><th scope=col>Hofstede_6D</th><th scope=col>new_gendist_weighted</th><th scope=col>religion_per</th><th scope=col>idealogy</th><th scope=col>demographics</th><th scope=col>check_size</th></tr>\n",
       "\t<tr><th></th><th scope=col>&lt;dbl&gt;</th><th scope=col>&lt;dbl&gt;</th><th scope=col>&lt;dbl&gt;</th><th scope=col>&lt;dbl&gt;</th><th scope=col>&lt;dbl&gt;</th><th scope=col>&lt;dbl&gt;</th><th scope=col>&lt;dbl&gt;</th><th scope=col>&lt;dbl&gt;</th><th scope=col>&lt;dbl&gt;</th><th scope=col>&lt;dbl&gt;</th><th scope=col>&lt;dbl&gt;</th><th scope=col>&lt;dbl&gt;</th><th scope=col>&lt;dbl&gt;</th><th scope=col>&lt;dbl&gt;</th><th scope=col>&lt;dbl&gt;</th></tr>\n",
       "</thead>\n",
       "<tbody>\n",
       "\t<tr><th scope=row>1</th><td>0.2929</td><td>0.2778</td><td>0.8768</td><td>0.1408</td><td>0.4506</td><td>0.6989</td><td>0.0292</td><td>0.2834</td><td>0.3152</td><td>0.747</td><td>0.5768</td><td>0.1434</td><td>0.7182</td><td>0.9702</td><td>0.6447</td></tr>\n",
       "</tbody>\n",
       "</table>\n"
      ],
      "text/latex": [
       "A data.frame: 1 × 15\n",
       "\\begin{tabular}{r|lllllllllllllll}\n",
       "  & Lexical & personality\\_all & Coordinate & Climatic\\_demands & subsistence & disease & urban & wealth & edu & Hofstede\\_6D & new\\_gendist\\_weighted & religion\\_per & idealogy & demographics & check\\_size\\\\\n",
       "  & <dbl> & <dbl> & <dbl> & <dbl> & <dbl> & <dbl> & <dbl> & <dbl> & <dbl> & <dbl> & <dbl> & <dbl> & <dbl> & <dbl> & <dbl>\\\\\n",
       "\\hline\n",
       "\t1 & 0.2929 & 0.2778 & 0.8768 & 0.1408 & 0.4506 & 0.6989 & 0.0292 & 0.2834 & 0.3152 & 0.747 & 0.5768 & 0.1434 & 0.7182 & 0.9702 & 0.6447\\\\\n",
       "\\end{tabular}\n"
      ],
      "text/markdown": [
       "\n",
       "A data.frame: 1 × 15\n",
       "\n",
       "| <!--/--> | Lexical &lt;dbl&gt; | personality_all &lt;dbl&gt; | Coordinate &lt;dbl&gt; | Climatic_demands &lt;dbl&gt; | subsistence &lt;dbl&gt; | disease &lt;dbl&gt; | urban &lt;dbl&gt; | wealth &lt;dbl&gt; | edu &lt;dbl&gt; | Hofstede_6D &lt;dbl&gt; | new_gendist_weighted &lt;dbl&gt; | religion_per &lt;dbl&gt; | idealogy &lt;dbl&gt; | demographics &lt;dbl&gt; | check_size &lt;dbl&gt; |\n",
       "|---|---|---|---|---|---|---|---|---|---|---|---|---|---|---|---|\n",
       "| 1 | 0.2929 | 0.2778 | 0.8768 | 0.1408 | 0.4506 | 0.6989 | 0.0292 | 0.2834 | 0.3152 | 0.747 | 0.5768 | 0.1434 | 0.7182 | 0.9702 | 0.6447 |\n",
       "\n"
      ],
      "text/plain": [
       "  Lexical personality_all Coordinate Climatic_demands subsistence disease\n",
       "1 0.2929  0.2778          0.8768     0.1408           0.4506      0.6989 \n",
       "  urban  wealth edu    Hofstede_6D new_gendist_weighted religion_per idealogy\n",
       "1 0.0292 0.2834 0.3152 0.747       0.5768               0.1434       0.7182  \n",
       "  demographics check_size\n",
       "1 0.9702       0.6447    "
      ]
     },
     "metadata": {},
     "output_type": "display_data"
    }
   ],
   "source": [
    "read.csv('output_data/rsa_results/p_value_sub/check_size/public_33d.csv',row.names=1)"
   ]
  }
 ],
 "metadata": {
  "kernelspec": {
   "display_name": "R",
   "language": "R",
   "name": "ir"
  },
  "language_info": {
   "codemirror_mode": "r",
   "file_extension": ".r",
   "mimetype": "text/x-r-source",
   "name": "R",
   "pygments_lexer": "r",
   "version": "4.1.2"
  },
  "latex_envs": {
   "LaTeX_envs_menu_present": true,
   "autoclose": false,
   "autocomplete": true,
   "bibliofile": "biblio.bib",
   "cite_by": "apalike",
   "current_citInitial": 1,
   "eqLabelWithNumbers": true,
   "eqNumInitial": 1,
   "hotkeys": {
    "equation": "Ctrl-E",
    "itemize": "Ctrl-I"
   },
   "labels_anchors": false,
   "latex_user_defs": false,
   "report_style_numbering": false,
   "user_envs_cfg": false
  },
  "toc": {
   "base_numbering": 1,
   "nav_menu": {},
   "number_sections": true,
   "sideBar": true,
   "skip_h1_title": false,
   "title_cell": "Table of Contents",
   "title_sidebar": "Contents",
   "toc_cell": true,
   "toc_position": {
    "height": "700.996px",
    "left": "824.988px",
    "top": "105.992px",
    "width": "383.953px"
   },
   "toc_section_display": true,
   "toc_window_display": true
  },
  "varInspector": {
   "cols": {
    "lenName": 16,
    "lenType": 16,
    "lenVar": 40
   },
   "kernels_config": {
    "python": {
     "delete_cmd_postfix": "",
     "delete_cmd_prefix": "del ",
     "library": "var_list.py",
     "varRefreshCmd": "print(var_dic_list())"
    },
    "r": {
     "delete_cmd_postfix": ") ",
     "delete_cmd_prefix": "rm(",
     "library": "var_list.r",
     "varRefreshCmd": "cat(var_dic_list()) "
    }
   },
   "types_to_exclude": [
    "module",
    "function",
    "builtin_function_or_method",
    "instance",
    "_Feature"
   ],
   "window_display": false
  }
 },
 "nbformat": 4,
 "nbformat_minor": 5
}
