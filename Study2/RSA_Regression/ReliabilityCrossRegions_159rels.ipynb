{
 "cells": [
  {
   "cell_type": "code",
   "execution_count": 8,
   "id": "89d4ca1d",
   "metadata": {
    "ExecuteTime": {
     "end_time": "2022-12-23T02:08:53.492576Z",
     "start_time": "2022-12-23T02:08:52.488348Z"
    },
    "vscode": {
     "languageId": "r"
    }
   },
   "outputs": [],
   "source": [
    "import pandas as pd\n",
    "import numpy as np\n",
    "import glob\n",
    "import re\n",
    "\n",
    "import seaborn as sns\n",
    "import matplotlib.pyplot as plt"
   ]
  },
  {
   "cell_type": "markdown",
   "id": "167b9215",
   "metadata": {},
   "source": [
    "# Familiar"
   ]
  },
  {
   "cell_type": "markdown",
   "id": "302d707c",
   "metadata": {},
   "source": [
    "## Import data"
   ]
  },
  {
   "cell_type": "code",
   "execution_count": 2,
   "id": "98de1659",
   "metadata": {
    "ExecuteTime": {
     "end_time": "2022-12-23T02:09:21.830344Z",
     "start_time": "2022-12-23T02:09:21.813544Z"
    },
    "vscode": {
     "languageId": "r"
    }
   },
   "outputs": [],
   "source": [
    "relationships = pd.read_csv('../DataClean_FAVEE_HPP/input_data/RelDim_labels/159relationships_fix_label.csv',index_col=0)\n",
    "relationships = relationships.iloc[:,0].to_list()\n",
    "\n",
    "relationships_258 = pd.read_csv('../DataClean_FAVEE_HPP/input_data/RelDim_labels/258relationships_fix_label.csv',index_col=0)\n",
    "relationships_258 = relationships_258.iloc[:,0].to_list()"
   ]
  },
  {
   "cell_type": "code",
   "execution_count": 3,
   "id": "b1bb012d",
   "metadata": {
    "ExecuteTime": {
     "end_time": "2022-12-23T02:13:04.834641Z",
     "start_time": "2022-12-23T02:13:04.821638Z"
    },
    "vscode": {
     "languageId": "r"
    }
   },
   "outputs": [],
   "source": [
    "files_path = glob.glob('../DataClean_FAVEE_HPP/output_data/familiarity/*.csv')\n",
    "# abstract regions we selected\n",
    "regions = [re.search('(?<=familiarity\\\\\\\\)(.*).csv',path).group(1) for path in files_path]"
   ]
  },
  {
   "cell_type": "markdown",
   "id": "ac02d946",
   "metadata": {},
   "source": [
    "## Caculate mean: each region/averaged regions"
   ]
  },
  {
   "cell_type": "code",
   "execution_count": 4,
   "id": "7b6a7302",
   "metadata": {
    "ExecuteTime": {
     "end_time": "2022-12-23T02:13:08.176073Z",
     "start_time": "2022-12-23T02:13:07.783507Z"
    },
    "vscode": {
     "languageId": "r"
    }
   },
   "outputs": [],
   "source": [
    "region_relationship_df = pd.DataFrame(index=regions, columns=relationships)\n",
    "for reg_path in files_path:\n",
    "    region = reg_path.split('\\\\')[1].split('.csv')[0]\n",
    "    region_df = pd.read_csv(reg_path,index_col = 0)\n",
    "    region_df = region_df.apply(pd.to_numeric)\n",
    "    \n",
    "    # different regions contain different columns\n",
    "    results = re.search('CHN',reg_path)\n",
    "    if results:\n",
    "        region_df = region_df.iloc[:,:-1]\n",
    "        region_df.columns = relationships_258\n",
    "        region_df = region_df.loc[:,relationships]\n",
    "    \n",
    "    elif len(region_df.columns) == 160: # some regions contain subjects'ID\n",
    "        region_df = region_df.iloc[:,:-1]\n",
    "        region_df = region_df.apply(pd.to_numeric)\n",
    "        \n",
    "    region_df.columns = relationships\n",
    "    # caculate mean results\n",
    "    region_mean_df = region_df.mean(axis=0)\n",
    "    # row: 19 regions; column: 159 relationships\n",
    "    region_relationship_df.loc[region,] = region_mean_df\n",
    "\n",
    "# all averaged regions' results\n",
    "world_df = pd.DataFrame(region_relationship_df.mean(),columns=['familiar'])"
   ]
  },
  {
   "cell_type": "code",
   "execution_count": 6,
   "id": "29637180",
   "metadata": {
    "ExecuteTime": {
     "end_time": "2022-12-23T02:13:09.904329Z",
     "start_time": "2022-12-23T02:13:09.884180Z"
    },
    "vscode": {
     "languageId": "r"
    }
   },
   "outputs": [],
   "source": [
    "region_relationship_df.to_csv('output_data/familiarity/familiarity_19regions.csv')\n",
    "world_df.to_csv('output_data/familiarity/familiarity_19regions_averaged.csv')"
   ]
  },
  {
   "cell_type": "markdown",
   "id": "9f6ee098",
   "metadata": {},
   "source": [
    "## Caculate variability of familiarity"
   ]
  },
  {
   "cell_type": "code",
   "execution_count": 9,
   "id": "3d0e1c66",
   "metadata": {
    "ExecuteTime": {
     "end_time": "2022-12-23T02:13:55.241790Z",
     "start_time": "2022-12-23T02:13:55.195987Z"
    },
    "vscode": {
     "languageId": "r"
    }
   },
   "outputs": [],
   "source": [
    "familiar_var = region_relationship_df.apply(np.var)\n",
    "familiar_var.to_csv('output_data/familiarity/familiar_var.csv')\n",
    "\n",
    "familiar_std = region_relationship_df.apply(np.std)\n",
    "familiar_std.to_csv('output_data/familiarity/familiar_std.csv')"
   ]
  },
  {
   "cell_type": "markdown",
   "id": "6def3540",
   "metadata": {},
   "source": [
    "# The correlation between variability of _familiarity_ and _rating on 33D_"
   ]
  },
  {
   "cell_type": "markdown",
   "id": "39d31897",
   "metadata": {},
   "source": [
    "## Import data"
   ]
  },
  {
   "cell_type": "code",
   "execution_count": 2,
   "id": "91e26bf7",
   "metadata": {
    "ExecuteTime": {
     "end_time": "2022-12-23T02:14:14.012135Z",
     "start_time": "2022-12-23T02:14:13.993Z"
    },
    "vscode": {
     "languageId": "r"
    }
   },
   "outputs": [],
   "source": [
    "# Packages\n",
    "library(reshape)\n",
    "library(tidyverse)\n",
    "library(dplyr)\n",
    "library(jmuOutlier) #permutation"
   ]
  },
  {
   "cell_type": "code",
   "execution_count": 3,
   "id": "bfadf65c",
   "metadata": {
    "ExecuteTime": {
     "end_time": "2022-12-23T02:14:31.291193Z",
     "start_time": "2022-12-23T02:14:31.267Z"
    },
    "vscode": {
     "languageId": "r"
    }
   },
   "outputs": [],
   "source": [
    "loocv_rating = read.csv('output_data/loocv/rel_loocv_df_avg.csv',row.names=1)\n",
    "loocv_rating['rel'] = rownames(loocv_rating)\n",
    "familiar_var = read.csv('output_data/familiarity/familiar_var.csv',row.names=1)\n",
    "familiar_var['rel'] = rownames(familiar_var)\n",
    "familiar_std = read.csv('output_data/familiarity/familiar_std.csv',row.names=1)\n",
    "familiar_std['rel'] = rownames(familiar_std)"
   ]
  },
  {
   "cell_type": "code",
   "execution_count": 4,
   "id": "1a723817",
   "metadata": {
    "ExecuteTime": {
     "end_time": "2022-12-23T02:14:34.181149Z",
     "start_time": "2022-12-23T02:14:34.144Z"
    },
    "vscode": {
     "languageId": "r"
    }
   },
   "outputs": [
    {
     "data": {
      "text/html": [
       "<table class=\"dataframe\">\n",
       "<caption>A data.frame: 6 × 3</caption>\n",
       "<thead>\n",
       "\t<tr><th></th><th scope=col>rating</th><th scope=col>familiar_var</th><th scope=col>familiar_std</th></tr>\n",
       "\t<tr><th></th><th scope=col>&lt;dbl&gt;</th><th scope=col>&lt;dbl&gt;</th><th scope=col>&lt;dbl&gt;</th></tr>\n",
       "</thead>\n",
       "<tbody>\n",
       "\t<tr><th scope=row>1</th><td>0.3757564</td><td>201.80471</td><td>14.205799</td></tr>\n",
       "\t<tr><th scope=row>2</th><td>0.4779412</td><td> 81.34909</td><td> 9.019373</td></tr>\n",
       "\t<tr><th scope=row>3</th><td>0.4999824</td><td>154.35921</td><td>12.424138</td></tr>\n",
       "\t<tr><th scope=row>4</th><td>0.5230791</td><td>147.01684</td><td>12.125050</td></tr>\n",
       "\t<tr><th scope=row>5</th><td>0.5244336</td><td>282.10528</td><td>16.795990</td></tr>\n",
       "\t<tr><th scope=row>6</th><td>0.5288313</td><td>185.26998</td><td>13.611392</td></tr>\n",
       "</tbody>\n",
       "</table>\n"
      ],
      "text/latex": [
       "A data.frame: 6 × 3\n",
       "\\begin{tabular}{r|lll}\n",
       "  & rating & familiar\\_var & familiar\\_std\\\\\n",
       "  & <dbl> & <dbl> & <dbl>\\\\\n",
       "\\hline\n",
       "\t1 & 0.3757564 & 201.80471 & 14.205799\\\\\n",
       "\t2 & 0.4779412 &  81.34909 &  9.019373\\\\\n",
       "\t3 & 0.4999824 & 154.35921 & 12.424138\\\\\n",
       "\t4 & 0.5230791 & 147.01684 & 12.125050\\\\\n",
       "\t5 & 0.5244336 & 282.10528 & 16.795990\\\\\n",
       "\t6 & 0.5288313 & 185.26998 & 13.611392\\\\\n",
       "\\end{tabular}\n"
      ],
      "text/markdown": [
       "\n",
       "A data.frame: 6 × 3\n",
       "\n",
       "| <!--/--> | rating &lt;dbl&gt; | familiar_var &lt;dbl&gt; | familiar_std &lt;dbl&gt; |\n",
       "|---|---|---|---|\n",
       "| 1 | 0.3757564 | 201.80471 | 14.205799 |\n",
       "| 2 | 0.4779412 |  81.34909 |  9.019373 |\n",
       "| 3 | 0.4999824 | 154.35921 | 12.424138 |\n",
       "| 4 | 0.5230791 | 147.01684 | 12.125050 |\n",
       "| 5 | 0.5244336 | 282.10528 | 16.795990 |\n",
       "| 6 | 0.5288313 | 185.26998 | 13.611392 |\n",
       "\n"
      ],
      "text/plain": [
       "  rating    familiar_var familiar_std\n",
       "1 0.3757564 201.80471    14.205799   \n",
       "2 0.4779412  81.34909     9.019373   \n",
       "3 0.4999824 154.35921    12.424138   \n",
       "4 0.5230791 147.01684    12.125050   \n",
       "5 0.5244336 282.10528    16.795990   \n",
       "6 0.5288313 185.26998    13.611392   "
      ]
     },
     "metadata": {},
     "output_type": "display_data"
    }
   ],
   "source": [
    "rating_familiar = left_join(loocv_rating,familiar_var,by='rel')\n",
    "rating_familiar = left_join(rating_familiar,familiar_std,by='rel')\n",
    "rating_familiar = select(rating_familiar,-rel)\n",
    "colnames(rating_familiar) = c('rating','familiar_var','familiar_std')\n",
    "head(rating_familiar)"
   ]
  },
  {
   "cell_type": "markdown",
   "id": "ddfd9731",
   "metadata": {},
   "source": [
    "## correlation coefficient"
   ]
  },
  {
   "cell_type": "code",
   "execution_count": 5,
   "id": "da3ec492",
   "metadata": {
    "ExecuteTime": {
     "end_time": "2022-12-23T02:14:39.818260Z",
     "start_time": "2022-12-23T02:14:39.793Z"
    },
    "vscode": {
     "languageId": "r"
    }
   },
   "outputs": [
    {
     "data": {
      "text/html": [
       "<table class=\"dataframe\">\n",
       "<caption>A matrix: 3 × 3 of type dbl</caption>\n",
       "<thead>\n",
       "\t<tr><th></th><th scope=col>rating</th><th scope=col>familiar_var</th><th scope=col>familiar_std</th></tr>\n",
       "</thead>\n",
       "<tbody>\n",
       "\t<tr><th scope=row>rating</th><td> 1.0000000</td><td>-0.1790573</td><td>-0.1790573</td></tr>\n",
       "\t<tr><th scope=row>familiar_var</th><td>-0.1790573</td><td> 1.0000000</td><td> 1.0000000</td></tr>\n",
       "\t<tr><th scope=row>familiar_std</th><td>-0.1790573</td><td> 1.0000000</td><td> 1.0000000</td></tr>\n",
       "</tbody>\n",
       "</table>\n"
      ],
      "text/latex": [
       "A matrix: 3 × 3 of type dbl\n",
       "\\begin{tabular}{r|lll}\n",
       "  & rating & familiar\\_var & familiar\\_std\\\\\n",
       "\\hline\n",
       "\trating &  1.0000000 & -0.1790573 & -0.1790573\\\\\n",
       "\tfamiliar\\_var & -0.1790573 &  1.0000000 &  1.0000000\\\\\n",
       "\tfamiliar\\_std & -0.1790573 &  1.0000000 &  1.0000000\\\\\n",
       "\\end{tabular}\n"
      ],
      "text/markdown": [
       "\n",
       "A matrix: 3 × 3 of type dbl\n",
       "\n",
       "| <!--/--> | rating | familiar_var | familiar_std |\n",
       "|---|---|---|---|\n",
       "| rating |  1.0000000 | -0.1790573 | -0.1790573 |\n",
       "| familiar_var | -0.1790573 |  1.0000000 |  1.0000000 |\n",
       "| familiar_std | -0.1790573 |  1.0000000 |  1.0000000 |\n",
       "\n"
      ],
      "text/plain": [
       "             rating     familiar_var familiar_std\n",
       "rating        1.0000000 -0.1790573   -0.1790573  \n",
       "familiar_var -0.1790573  1.0000000    1.0000000  \n",
       "familiar_std -0.1790573  1.0000000    1.0000000  "
      ]
     },
     "metadata": {},
     "output_type": "display_data"
    },
    {
     "data": {
      "text/html": [
       "<table class=\"dataframe\">\n",
       "<caption>A matrix: 3 × 3 of type dbl</caption>\n",
       "<thead>\n",
       "\t<tr><th></th><th scope=col>rating</th><th scope=col>familiar_var</th><th scope=col>familiar_std</th></tr>\n",
       "</thead>\n",
       "<tbody>\n",
       "\t<tr><th scope=row>rating</th><td> 1.0000000</td><td>-0.1975111</td><td>-0.2164322</td></tr>\n",
       "\t<tr><th scope=row>familiar_var</th><td>-0.1975111</td><td> 1.0000000</td><td> 0.9894052</td></tr>\n",
       "\t<tr><th scope=row>familiar_std</th><td>-0.2164322</td><td> 0.9894052</td><td> 1.0000000</td></tr>\n",
       "</tbody>\n",
       "</table>\n"
      ],
      "text/latex": [
       "A matrix: 3 × 3 of type dbl\n",
       "\\begin{tabular}{r|lll}\n",
       "  & rating & familiar\\_var & familiar\\_std\\\\\n",
       "\\hline\n",
       "\trating &  1.0000000 & -0.1975111 & -0.2164322\\\\\n",
       "\tfamiliar\\_var & -0.1975111 &  1.0000000 &  0.9894052\\\\\n",
       "\tfamiliar\\_std & -0.2164322 &  0.9894052 &  1.0000000\\\\\n",
       "\\end{tabular}\n"
      ],
      "text/markdown": [
       "\n",
       "A matrix: 3 × 3 of type dbl\n",
       "\n",
       "| <!--/--> | rating | familiar_var | familiar_std |\n",
       "|---|---|---|---|\n",
       "| rating |  1.0000000 | -0.1975111 | -0.2164322 |\n",
       "| familiar_var | -0.1975111 |  1.0000000 |  0.9894052 |\n",
       "| familiar_std | -0.2164322 |  0.9894052 |  1.0000000 |\n",
       "\n"
      ],
      "text/plain": [
       "             rating     familiar_var familiar_std\n",
       "rating        1.0000000 -0.1975111   -0.2164322  \n",
       "familiar_var -0.1975111  1.0000000    0.9894052  \n",
       "familiar_std -0.2164322  0.9894052    1.0000000  "
      ]
     },
     "metadata": {},
     "output_type": "display_data"
    }
   ],
   "source": [
    "cor(rating_familiar,method='spearman')\n",
    "cor(rating_familiar,method='pearson')"
   ]
  },
  {
   "cell_type": "code",
   "execution_count": 6,
   "id": "a24e6417",
   "metadata": {
    "ExecuteTime": {
     "end_time": "2022-12-23T02:15:59.208136Z",
     "start_time": "2022-12-23T02:15:55.592Z"
    },
    "vscode": {
     "languageId": "r"
    }
   },
   "outputs": [
    {
     "data": {
      "text/html": [
       "<dl>\n",
       "\t<dt>[[1]]</dt>\n",
       "\t\t<dd><span style=white-space:pre-wrap>'Permutation correlation test.  Method is pearson'</span></dd>\n",
       "\t<dt>[[2]]</dt>\n",
       "\t\t<dd>'p-value was estimated based on 20000 simulations.'</dd>\n",
       "\t<dt>$alternative</dt>\n",
       "\t\t<dd>'greater'</dd>\n",
       "\t<dt>$p.value</dt>\n",
       "\t\t<dd>0.99335</dd>\n",
       "</dl>\n"
      ],
      "text/latex": [
       "\\begin{description}\n",
       "\\item[{[[1]]}] 'Permutation correlation test.  Method is pearson'\n",
       "\\item[{[[2]]}] 'p-value was estimated based on 20000 simulations.'\n",
       "\\item[\\$alternative] 'greater'\n",
       "\\item[\\$p.value] 0.99335\n",
       "\\end{description}\n"
      ],
      "text/markdown": [
       "[[1]]\n",
       ":   <span style=white-space:pre-wrap>'Permutation correlation test.  Method is pearson'</span>\n",
       "[[2]]\n",
       ":   'p-value was estimated based on 20000 simulations.'\n",
       "$alternative\n",
       ":   'greater'\n",
       "$p.value\n",
       ":   0.99335\n",
       "\n",
       "\n"
      ],
      "text/plain": [
       "[[1]]\n",
       "[1] \"Permutation correlation test.  Method is pearson\"\n",
       "\n",
       "[[2]]\n",
       "[1] \"p-value was estimated based on 20000 simulations.\"\n",
       "\n",
       "$alternative\n",
       "[1] \"greater\"\n",
       "\n",
       "$p.value\n",
       "[1] 0.99335\n"
      ]
     },
     "metadata": {},
     "output_type": "display_data"
    },
    {
     "data": {
      "text/html": [
       "<dl>\n",
       "\t<dt>[[1]]</dt>\n",
       "\t\t<dd><span style=white-space:pre-wrap>'Permutation correlation test.  Method is spearman'</span></dd>\n",
       "\t<dt>[[2]]</dt>\n",
       "\t\t<dd>'p-value was estimated based on 20000 simulations.'</dd>\n",
       "\t<dt>$alternative</dt>\n",
       "\t\t<dd>'greater'</dd>\n",
       "\t<dt>$p.value</dt>\n",
       "\t\t<dd>0.98965</dd>\n",
       "</dl>\n"
      ],
      "text/latex": [
       "\\begin{description}\n",
       "\\item[{[[1]]}] 'Permutation correlation test.  Method is spearman'\n",
       "\\item[{[[2]]}] 'p-value was estimated based on 20000 simulations.'\n",
       "\\item[\\$alternative] 'greater'\n",
       "\\item[\\$p.value] 0.98965\n",
       "\\end{description}\n"
      ],
      "text/markdown": [
       "[[1]]\n",
       ":   <span style=white-space:pre-wrap>'Permutation correlation test.  Method is spearman'</span>\n",
       "[[2]]\n",
       ":   'p-value was estimated based on 20000 simulations.'\n",
       "$alternative\n",
       ":   'greater'\n",
       "$p.value\n",
       ":   0.98965\n",
       "\n",
       "\n"
      ],
      "text/plain": [
       "[[1]]\n",
       "[1] \"Permutation correlation test.  Method is spearman\"\n",
       "\n",
       "[[2]]\n",
       "[1] \"p-value was estimated based on 20000 simulations.\"\n",
       "\n",
       "$alternative\n",
       "[1] \"greater\"\n",
       "\n",
       "$p.value\n",
       "[1] 0.98965\n"
      ]
     },
     "metadata": {},
     "output_type": "display_data"
    },
    {
     "data": {
      "text/html": [
       "<dl>\n",
       "\t<dt>[[1]]</dt>\n",
       "\t\t<dd><span style=white-space:pre-wrap>'Permutation correlation test.  Method is pearson'</span></dd>\n",
       "\t<dt>[[2]]</dt>\n",
       "\t\t<dd>'p-value was estimated based on 20000 simulations.'</dd>\n",
       "\t<dt>$alternative</dt>\n",
       "\t\t<dd>'greater'</dd>\n",
       "\t<dt>$p.value</dt>\n",
       "\t\t<dd>0.9967</dd>\n",
       "</dl>\n"
      ],
      "text/latex": [
       "\\begin{description}\n",
       "\\item[{[[1]]}] 'Permutation correlation test.  Method is pearson'\n",
       "\\item[{[[2]]}] 'p-value was estimated based on 20000 simulations.'\n",
       "\\item[\\$alternative] 'greater'\n",
       "\\item[\\$p.value] 0.9967\n",
       "\\end{description}\n"
      ],
      "text/markdown": [
       "[[1]]\n",
       ":   <span style=white-space:pre-wrap>'Permutation correlation test.  Method is pearson'</span>\n",
       "[[2]]\n",
       ":   'p-value was estimated based on 20000 simulations.'\n",
       "$alternative\n",
       ":   'greater'\n",
       "$p.value\n",
       ":   0.9967\n",
       "\n",
       "\n"
      ],
      "text/plain": [
       "[[1]]\n",
       "[1] \"Permutation correlation test.  Method is pearson\"\n",
       "\n",
       "[[2]]\n",
       "[1] \"p-value was estimated based on 20000 simulations.\"\n",
       "\n",
       "$alternative\n",
       "[1] \"greater\"\n",
       "\n",
       "$p.value\n",
       "[1] 0.9967\n"
      ]
     },
     "metadata": {},
     "output_type": "display_data"
    },
    {
     "data": {
      "text/html": [
       "<dl>\n",
       "\t<dt>[[1]]</dt>\n",
       "\t\t<dd><span style=white-space:pre-wrap>'Permutation correlation test.  Method is spearman'</span></dd>\n",
       "\t<dt>[[2]]</dt>\n",
       "\t\t<dd>'p-value was estimated based on 20000 simulations.'</dd>\n",
       "\t<dt>$alternative</dt>\n",
       "\t\t<dd>'greater'</dd>\n",
       "\t<dt>$p.value</dt>\n",
       "\t\t<dd>0.9886</dd>\n",
       "</dl>\n"
      ],
      "text/latex": [
       "\\begin{description}\n",
       "\\item[{[[1]]}] 'Permutation correlation test.  Method is spearman'\n",
       "\\item[{[[2]]}] 'p-value was estimated based on 20000 simulations.'\n",
       "\\item[\\$alternative] 'greater'\n",
       "\\item[\\$p.value] 0.9886\n",
       "\\end{description}\n"
      ],
      "text/markdown": [
       "[[1]]\n",
       ":   <span style=white-space:pre-wrap>'Permutation correlation test.  Method is spearman'</span>\n",
       "[[2]]\n",
       ":   'p-value was estimated based on 20000 simulations.'\n",
       "$alternative\n",
       ":   'greater'\n",
       "$p.value\n",
       ":   0.9886\n",
       "\n",
       "\n"
      ],
      "text/plain": [
       "[[1]]\n",
       "[1] \"Permutation correlation test.  Method is spearman\"\n",
       "\n",
       "[[2]]\n",
       "[1] \"p-value was estimated based on 20000 simulations.\"\n",
       "\n",
       "$alternative\n",
       "[1] \"greater\"\n",
       "\n",
       "$p.value\n",
       "[1] 0.9886\n"
      ]
     },
     "metadata": {},
     "output_type": "display_data"
    }
   ],
   "source": [
    "perm.cor.test(rating_familiar$'rating',rating_familiar$'familiar_var',\n",
    "              \"greater\",\"pearson\", num.sim = 20000)# report this results\n",
    "perm.cor.test(rating_familiar$'rating',rating_familiar$'familiar_var',\n",
    "              \"greater\",\"spearman\", num.sim = 20000)\n",
    "\n",
    "perm.cor.test(rating_familiar$'rating',rating_familiar$'familiar_std',\n",
    "              \"greater\",\"pearson\", num.sim = 20000)\n",
    "perm.cor.test(rating_familiar$'rating',rating_familiar$'familiar_std',\n",
    "              \"greater\",\"spearman\", num.sim = 20000)"
   ]
  }
 ],
 "metadata": {
  "kernelspec": {
   "display_name": "R",
   "language": "R",
   "name": "ir"
  },
  "language_info": {
   "codemirror_mode": "r",
   "file_extension": ".r",
   "mimetype": "text/x-r-source",
   "name": "R",
   "pygments_lexer": "r",
   "version": "4.1.2"
  },
  "latex_envs": {
   "LaTeX_envs_menu_present": true,
   "autoclose": false,
   "autocomplete": true,
   "bibliofile": "biblio.bib",
   "cite_by": "apalike",
   "current_citInitial": 1,
   "eqLabelWithNumbers": true,
   "eqNumInitial": 1,
   "hotkeys": {
    "equation": "Ctrl-E",
    "itemize": "Ctrl-I"
   },
   "labels_anchors": false,
   "latex_user_defs": false,
   "report_style_numbering": false,
   "user_envs_cfg": false
  },
  "toc": {
   "base_numbering": 1,
   "nav_menu": {},
   "number_sections": true,
   "sideBar": true,
   "skip_h1_title": false,
   "title_cell": "Table of Contents",
   "title_sidebar": "Contents",
   "toc_cell": false,
   "toc_position": {
    "height": "373px",
    "left": "743px",
    "top": "123.391px",
    "width": "227.188px"
   },
   "toc_section_display": true,
   "toc_window_display": false
  },
  "varInspector": {
   "cols": {
    "lenName": 16,
    "lenType": 16,
    "lenVar": 40
   },
   "kernels_config": {
    "python": {
     "delete_cmd_postfix": "",
     "delete_cmd_prefix": "del ",
     "library": "var_list.py",
     "varRefreshCmd": "print(var_dic_list())"
    },
    "r": {
     "delete_cmd_postfix": ") ",
     "delete_cmd_prefix": "rm(",
     "library": "var_list.r",
     "varRefreshCmd": "cat(var_dic_list()) "
    }
   },
   "types_to_exclude": [
    "module",
    "function",
    "builtin_function_or_method",
    "instance",
    "_Feature"
   ],
   "window_display": false
  }
 },
 "nbformat": 4,
 "nbformat_minor": 5
}
