{
 "cells": [
  {
   "cell_type": "markdown",
   "id": "a91841b8",
   "metadata": {},
   "source": [
    "# Models_rdm"
   ]
  },
  {
   "cell_type": "code",
   "execution_count": 1,
   "id": "14f78f64",
   "metadata": {
    "ExecuteTime": {
     "end_time": "2022-12-21T10:13:07.991926Z",
     "start_time": "2022-12-21T10:13:07.716Z"
    }
   },
   "outputs": [],
   "source": [
    "file_path = '../DataCleanPCA/output_data/cleaning_results/'\n",
    "\n",
    "raw_data_list = list()\n",
    "for (region in dir(file_path)){\n",
    "    file = paste(file_path,region,sep='')\n",
    "    file = paste(paste(file,'/',sep=''),region,sep='')\n",
    "    file = paste(file,'_dim_rel_scaled.csv',sep='')\n",
    "    raw_df = read.csv(file,row.names=1)\n",
    "    \n",
    "    region = gsub('HK','HK(region)',region) \n",
    "    region = gsub('South_africa','South Africa',region)\n",
    "    raw_data_list[[region]] = raw_df}"
   ]
  },
  {
   "cell_type": "markdown",
   "id": "ab2854eb",
   "metadata": {},
   "source": [
    "## Determine clusters"
   ]
  },
  {
   "cell_type": "code",
   "execution_count": 2,
   "id": "5e948683",
   "metadata": {
    "ExecuteTime": {
     "end_time": "2022-12-21T10:13:08.120003Z",
     "start_time": "2022-12-21T10:13:07.735Z"
    }
   },
   "outputs": [
    {
     "name": "stdout",
     "output_type": "stream",
     "text": [
      "[1] \"Hostile: 25\"\n"
     ]
    },
    {
     "data": {
      "text/html": [
       "<style>\n",
       ".list-inline {list-style: none; margin:0; padding: 0}\n",
       ".list-inline>li {display: inline-block}\n",
       ".list-inline>li:not(:last-child)::after {content: \"\\00b7\"; padding: 0 .5ex}\n",
       "</style>\n",
       "<ol class=list-inline><li>'Between business rivals'</li><li>'Police officer and Offender'</li><li>'Criminal and Prosecutor'</li><li>'Parole officer and Parolee'</li><li>'Between divorced spouses'</li><li>'Bully and Victim'</li><li>'Victim and Criminal'</li><li>'Guard and Prisoner'</li><li>'Between competitors in sports'</li><li>'Between fans of opposing sports teams'</li><li>'Defendant and Plaintiff'</li><li>'Man Wife and Man Mistress'</li><li>'Between ex-lovers'</li><li>'Between opposing negotiators'</li><li>'Celebrity and Haters'</li><li>'Between political opponents'</li><li>'Between enemies'</li><li>'Criminal and Hostage'</li><li>'Slave and Master'</li><li>'Between frenemies'</li><li>'Between sports rivals'</li><li>'Police officer and Civilian'</li><li>'Criminal and Police officer'</li><li>'Between romantic rivals'</li><li>'Master and Servant'</li></ol>\n"
      ],
      "text/latex": [
       "\\begin{enumerate*}\n",
       "\\item 'Between business rivals'\n",
       "\\item 'Police officer and Offender'\n",
       "\\item 'Criminal and Prosecutor'\n",
       "\\item 'Parole officer and Parolee'\n",
       "\\item 'Between divorced spouses'\n",
       "\\item 'Bully and Victim'\n",
       "\\item 'Victim and Criminal'\n",
       "\\item 'Guard and Prisoner'\n",
       "\\item 'Between competitors in sports'\n",
       "\\item 'Between fans of opposing sports teams'\n",
       "\\item 'Defendant and Plaintiff'\n",
       "\\item 'Man Wife and Man Mistress'\n",
       "\\item 'Between ex-lovers'\n",
       "\\item 'Between opposing negotiators'\n",
       "\\item 'Celebrity and Haters'\n",
       "\\item 'Between political opponents'\n",
       "\\item 'Between enemies'\n",
       "\\item 'Criminal and Hostage'\n",
       "\\item 'Slave and Master'\n",
       "\\item 'Between frenemies'\n",
       "\\item 'Between sports rivals'\n",
       "\\item 'Police officer and Civilian'\n",
       "\\item 'Criminal and Police officer'\n",
       "\\item 'Between romantic rivals'\n",
       "\\item 'Master and Servant'\n",
       "\\end{enumerate*}\n"
      ],
      "text/markdown": [
       "1. 'Between business rivals'\n",
       "2. 'Police officer and Offender'\n",
       "3. 'Criminal and Prosecutor'\n",
       "4. 'Parole officer and Parolee'\n",
       "5. 'Between divorced spouses'\n",
       "6. 'Bully and Victim'\n",
       "7. 'Victim and Criminal'\n",
       "8. 'Guard and Prisoner'\n",
       "9. 'Between competitors in sports'\n",
       "10. 'Between fans of opposing sports teams'\n",
       "11. 'Defendant and Plaintiff'\n",
       "12. 'Man Wife and Man Mistress'\n",
       "13. 'Between ex-lovers'\n",
       "14. 'Between opposing negotiators'\n",
       "15. 'Celebrity and Haters'\n",
       "16. 'Between political opponents'\n",
       "17. 'Between enemies'\n",
       "18. 'Criminal and Hostage'\n",
       "19. 'Slave and Master'\n",
       "20. 'Between frenemies'\n",
       "21. 'Between sports rivals'\n",
       "22. 'Police officer and Civilian'\n",
       "23. 'Criminal and Police officer'\n",
       "24. 'Between romantic rivals'\n",
       "25. 'Master and Servant'\n",
       "\n",
       "\n"
      ],
      "text/plain": [
       " [1] \"Between business rivals\"              \n",
       " [2] \"Police officer and Offender\"          \n",
       " [3] \"Criminal and Prosecutor\"              \n",
       " [4] \"Parole officer and Parolee\"           \n",
       " [5] \"Between divorced spouses\"             \n",
       " [6] \"Bully and Victim\"                     \n",
       " [7] \"Victim and Criminal\"                  \n",
       " [8] \"Guard and Prisoner\"                   \n",
       " [9] \"Between competitors in sports\"        \n",
       "[10] \"Between fans of opposing sports teams\"\n",
       "[11] \"Defendant and Plaintiff\"              \n",
       "[12] \"Man Wife and Man Mistress\"            \n",
       "[13] \"Between ex-lovers\"                    \n",
       "[14] \"Between opposing negotiators\"         \n",
       "[15] \"Celebrity and Haters\"                 \n",
       "[16] \"Between political opponents\"          \n",
       "[17] \"Between enemies\"                      \n",
       "[18] \"Criminal and Hostage\"                 \n",
       "[19] \"Slave and Master\"                     \n",
       "[20] \"Between frenemies\"                    \n",
       "[21] \"Between sports rivals\"                \n",
       "[22] \"Police officer and Civilian\"          \n",
       "[23] \"Criminal and Police officer\"          \n",
       "[24] \"Between romantic rivals\"              \n",
       "[25] \"Master and Servant\"                   "
      ]
     },
     "metadata": {},
     "output_type": "display_data"
    },
    {
     "name": "stdout",
     "output_type": "stream",
     "text": [
      "[1] \"Familial: 23\"\n"
     ]
    },
    {
     "data": {
      "text/html": [
       "<style>\n",
       ".list-inline {list-style: none; margin:0; padding: 0}\n",
       ".list-inline>li {display: inline-block}\n",
       ".list-inline>li:not(:last-child)::after {content: \"\\00b7\"; padding: 0 .5ex}\n",
       "</style>\n",
       "<ol class=list-inline><li>'Uncle and Niece/Nephew'</li><li>'Between close relatives'</li><li>'Between a person and their in-laws'</li><li>'Between distant relatives'</li><li>'Mother and Infant'</li><li>'Between second cousins'</li><li>'Ancestor and Descendant'</li><li>'Godparent and Godchild'</li><li>'Between twins'</li><li>'Parent and Child'</li><li>'Brother and Sister'</li><li>'Aunt and Niece/Nephew'</li><li>'Between step-siblings'</li><li>'Step-parent and Step-child'</li><li>'Between cousins'</li><li>'Between half-siblings'</li><li>'Parent and Teenager'</li><li>'Foster-parent and Foster-child'</li><li>'Between Siblings'</li><li>'Between adoptive parents and adopted kids'</li><li>'Step-grandparent and Step-grandchild'</li><li>'Parent and Infant'</li><li>'Grandparent and Grandchild'</li></ol>\n"
      ],
      "text/latex": [
       "\\begin{enumerate*}\n",
       "\\item 'Uncle and Niece/Nephew'\n",
       "\\item 'Between close relatives'\n",
       "\\item 'Between a person and their in-laws'\n",
       "\\item 'Between distant relatives'\n",
       "\\item 'Mother and Infant'\n",
       "\\item 'Between second cousins'\n",
       "\\item 'Ancestor and Descendant'\n",
       "\\item 'Godparent and Godchild'\n",
       "\\item 'Between twins'\n",
       "\\item 'Parent and Child'\n",
       "\\item 'Brother and Sister'\n",
       "\\item 'Aunt and Niece/Nephew'\n",
       "\\item 'Between step-siblings'\n",
       "\\item 'Step-parent and Step-child'\n",
       "\\item 'Between cousins'\n",
       "\\item 'Between half-siblings'\n",
       "\\item 'Parent and Teenager'\n",
       "\\item 'Foster-parent and Foster-child'\n",
       "\\item 'Between Siblings'\n",
       "\\item 'Between adoptive parents and adopted kids'\n",
       "\\item 'Step-grandparent and Step-grandchild'\n",
       "\\item 'Parent and Infant'\n",
       "\\item 'Grandparent and Grandchild'\n",
       "\\end{enumerate*}\n"
      ],
      "text/markdown": [
       "1. 'Uncle and Niece/Nephew'\n",
       "2. 'Between close relatives'\n",
       "3. 'Between a person and their in-laws'\n",
       "4. 'Between distant relatives'\n",
       "5. 'Mother and Infant'\n",
       "6. 'Between second cousins'\n",
       "7. 'Ancestor and Descendant'\n",
       "8. 'Godparent and Godchild'\n",
       "9. 'Between twins'\n",
       "10. 'Parent and Child'\n",
       "11. 'Brother and Sister'\n",
       "12. 'Aunt and Niece/Nephew'\n",
       "13. 'Between step-siblings'\n",
       "14. 'Step-parent and Step-child'\n",
       "15. 'Between cousins'\n",
       "16. 'Between half-siblings'\n",
       "17. 'Parent and Teenager'\n",
       "18. 'Foster-parent and Foster-child'\n",
       "19. 'Between Siblings'\n",
       "20. 'Between adoptive parents and adopted kids'\n",
       "21. 'Step-grandparent and Step-grandchild'\n",
       "22. 'Parent and Infant'\n",
       "23. 'Grandparent and Grandchild'\n",
       "\n",
       "\n"
      ],
      "text/plain": [
       " [1] \"Uncle and Niece/Nephew\"                   \n",
       " [2] \"Between close relatives\"                  \n",
       " [3] \"Between a person and their in-laws\"       \n",
       " [4] \"Between distant relatives\"                \n",
       " [5] \"Mother and Infant\"                        \n",
       " [6] \"Between second cousins\"                   \n",
       " [7] \"Ancestor and Descendant\"                  \n",
       " [8] \"Godparent and Godchild\"                   \n",
       " [9] \"Between twins\"                            \n",
       "[10] \"Parent and Child\"                         \n",
       "[11] \"Brother and Sister\"                       \n",
       "[12] \"Aunt and Niece/Nephew\"                    \n",
       "[13] \"Between step-siblings\"                    \n",
       "[14] \"Step-parent and Step-child\"               \n",
       "[15] \"Between cousins\"                          \n",
       "[16] \"Between half-siblings\"                    \n",
       "[17] \"Parent and Teenager\"                      \n",
       "[18] \"Foster-parent and Foster-child\"           \n",
       "[19] \"Between Siblings\"                         \n",
       "[20] \"Between adoptive parents and adopted kids\"\n",
       "[21] \"Step-grandparent and Step-grandchild\"     \n",
       "[22] \"Parent and Infant\"                        \n",
       "[23] \"Grandparent and Grandchild\"               "
      ]
     },
     "metadata": {},
     "output_type": "display_data"
    },
    {
     "name": "stdout",
     "output_type": "stream",
     "text": [
      "[1] \"Romantic: 13\"\n"
     ]
    },
    {
     "data": {
      "text/html": [
       "<style>\n",
       ".list-inline {list-style: none; margin:0; padding: 0}\n",
       ".list-inline>li {display: inline-block}\n",
       ".list-inline>li:not(:last-child)::after {content: \"\\00b7\"; padding: 0 .5ex}\n",
       "</style>\n",
       "<ol class=list-inline><li>'Between long-distance lovers'</li><li>'Sugar-daddy and Sugar-baby'</li><li>'Between a person and their deceased spouse'</li><li>'Between life-partners'</li><li>'Between romantic lovers'</li><li>'Between soul-mates'</li><li>'Fiance and Fiancee'</li><li>'Between a person and their crush'</li><li>'Between a person and their significant other'</li><li>'Between friends with benefits'</li><li>'Wife and Husband'</li><li>'Man and His Mistress'</li><li>'Bride and Groom'</li></ol>\n"
      ],
      "text/latex": [
       "\\begin{enumerate*}\n",
       "\\item 'Between long-distance lovers'\n",
       "\\item 'Sugar-daddy and Sugar-baby'\n",
       "\\item 'Between a person and their deceased spouse'\n",
       "\\item 'Between life-partners'\n",
       "\\item 'Between romantic lovers'\n",
       "\\item 'Between soul-mates'\n",
       "\\item 'Fiance and Fiancee'\n",
       "\\item 'Between a person and their crush'\n",
       "\\item 'Between a person and their significant other'\n",
       "\\item 'Between friends with benefits'\n",
       "\\item 'Wife and Husband'\n",
       "\\item 'Man and His Mistress'\n",
       "\\item 'Bride and Groom'\n",
       "\\end{enumerate*}\n"
      ],
      "text/markdown": [
       "1. 'Between long-distance lovers'\n",
       "2. 'Sugar-daddy and Sugar-baby'\n",
       "3. 'Between a person and their deceased spouse'\n",
       "4. 'Between life-partners'\n",
       "5. 'Between romantic lovers'\n",
       "6. 'Between soul-mates'\n",
       "7. 'Fiance and Fiancee'\n",
       "8. 'Between a person and their crush'\n",
       "9. 'Between a person and their significant other'\n",
       "10. 'Between friends with benefits'\n",
       "11. 'Wife and Husband'\n",
       "12. 'Man and His Mistress'\n",
       "13. 'Bride and Groom'\n",
       "\n",
       "\n"
      ],
      "text/plain": [
       " [1] \"Between long-distance lovers\"                \n",
       " [2] \"Sugar-daddy and Sugar-baby\"                  \n",
       " [3] \"Between a person and their deceased spouse\"  \n",
       " [4] \"Between life-partners\"                       \n",
       " [5] \"Between romantic lovers\"                     \n",
       " [6] \"Between soul-mates\"                          \n",
       " [7] \"Fiance and Fiancee\"                          \n",
       " [8] \"Between a person and their crush\"            \n",
       " [9] \"Between a person and their significant other\"\n",
       "[10] \"Between friends with benefits\"               \n",
       "[11] \"Wife and Husband\"                            \n",
       "[12] \"Man and His Mistress\"                        \n",
       "[13] \"Bride and Groom\"                             "
      ]
     },
     "metadata": {},
     "output_type": "display_data"
    },
    {
     "name": "stdout",
     "output_type": "stream",
     "text": [
      "[1] \"Affiliative: 33\"\n"
     ]
    },
    {
     "data": {
      "text/html": [
       "<style>\n",
       ".list-inline {list-style: none; margin:0; padding: 0}\n",
       ".list-inline>li {display: inline-block}\n",
       ".list-inline>li:not(:last-child)::after {content: \"\\00b7\"; padding: 0 .5ex}\n",
       "</style>\n",
       "<ol class=list-inline><li>'Between a person and their social media follower'</li><li>'Between alumni'</li><li>'Between childhood friends'</li><li>'Between peers'</li><li>'Groom and Groomsman'</li><li>'Between friends'</li><li>'Between strangers'</li><li>'Between teammates in sports'</li><li>'Between companions'</li><li>'Between sorority sisters'</li><li>'Between diplomats'</li><li>'Between cohabitants'</li><li>'Between casual acquaintances'</li><li>'Between criminal and their accomplice'</li><li>'Between Business Partners'</li><li>'Between neighbors'</li><li>'Between fraternity brothers'</li><li>'Between fans of the same sports team'</li><li>'Between roommates'</li><li>'Between pen-friends'</li><li>'Between church members'</li><li>'Between political allies'</li><li>'Between Facebook Friends'</li><li>'Between Close Friends'</li><li>'Victim and Witness'</li><li>'Between classmates'</li><li>'Bride and Bridesmaid'</li><li>'Between a person and their family friends'</li><li>'Between playmates'</li><li>'Between religious followers'</li><li>'Between confidants'</li><li>'Between Co-workers'</li><li>'Between brothers-in-arms'</li></ol>\n"
      ],
      "text/latex": [
       "\\begin{enumerate*}\n",
       "\\item 'Between a person and their social media follower'\n",
       "\\item 'Between alumni'\n",
       "\\item 'Between childhood friends'\n",
       "\\item 'Between peers'\n",
       "\\item 'Groom and Groomsman'\n",
       "\\item 'Between friends'\n",
       "\\item 'Between strangers'\n",
       "\\item 'Between teammates in sports'\n",
       "\\item 'Between companions'\n",
       "\\item 'Between sorority sisters'\n",
       "\\item 'Between diplomats'\n",
       "\\item 'Between cohabitants'\n",
       "\\item 'Between casual acquaintances'\n",
       "\\item 'Between criminal and their accomplice'\n",
       "\\item 'Between Business Partners'\n",
       "\\item 'Between neighbors'\n",
       "\\item 'Between fraternity brothers'\n",
       "\\item 'Between fans of the same sports team'\n",
       "\\item 'Between roommates'\n",
       "\\item 'Between pen-friends'\n",
       "\\item 'Between church members'\n",
       "\\item 'Between political allies'\n",
       "\\item 'Between Facebook Friends'\n",
       "\\item 'Between Close Friends'\n",
       "\\item 'Victim and Witness'\n",
       "\\item 'Between classmates'\n",
       "\\item 'Bride and Bridesmaid'\n",
       "\\item 'Between a person and their family friends'\n",
       "\\item 'Between playmates'\n",
       "\\item 'Between religious followers'\n",
       "\\item 'Between confidants'\n",
       "\\item 'Between Co-workers'\n",
       "\\item 'Between brothers-in-arms'\n",
       "\\end{enumerate*}\n"
      ],
      "text/markdown": [
       "1. 'Between a person and their social media follower'\n",
       "2. 'Between alumni'\n",
       "3. 'Between childhood friends'\n",
       "4. 'Between peers'\n",
       "5. 'Groom and Groomsman'\n",
       "6. 'Between friends'\n",
       "7. 'Between strangers'\n",
       "8. 'Between teammates in sports'\n",
       "9. 'Between companions'\n",
       "10. 'Between sorority sisters'\n",
       "11. 'Between diplomats'\n",
       "12. 'Between cohabitants'\n",
       "13. 'Between casual acquaintances'\n",
       "14. 'Between criminal and their accomplice'\n",
       "15. 'Between Business Partners'\n",
       "16. 'Between neighbors'\n",
       "17. 'Between fraternity brothers'\n",
       "18. 'Between fans of the same sports team'\n",
       "19. 'Between roommates'\n",
       "20. 'Between pen-friends'\n",
       "21. 'Between church members'\n",
       "22. 'Between political allies'\n",
       "23. 'Between Facebook Friends'\n",
       "24. 'Between Close Friends'\n",
       "25. 'Victim and Witness'\n",
       "26. 'Between classmates'\n",
       "27. 'Bride and Bridesmaid'\n",
       "28. 'Between a person and their family friends'\n",
       "29. 'Between playmates'\n",
       "30. 'Between religious followers'\n",
       "31. 'Between confidants'\n",
       "32. 'Between Co-workers'\n",
       "33. 'Between brothers-in-arms'\n",
       "\n",
       "\n"
      ],
      "text/plain": [
       " [1] \"Between a person and their social media follower\"\n",
       " [2] \"Between alumni\"                                  \n",
       " [3] \"Between childhood friends\"                       \n",
       " [4] \"Between peers\"                                   \n",
       " [5] \"Groom and Groomsman\"                             \n",
       " [6] \"Between friends\"                                 \n",
       " [7] \"Between strangers\"                               \n",
       " [8] \"Between teammates in sports\"                     \n",
       " [9] \"Between companions\"                              \n",
       "[10] \"Between sorority sisters\"                        \n",
       "[11] \"Between diplomats\"                               \n",
       "[12] \"Between cohabitants\"                             \n",
       "[13] \"Between casual acquaintances\"                    \n",
       "[14] \"Between criminal and their accomplice\"           \n",
       "[15] \"Between Business Partners\"                       \n",
       "[16] \"Between neighbors\"                               \n",
       "[17] \"Between fraternity brothers\"                     \n",
       "[18] \"Between fans of the same sports team\"            \n",
       "[19] \"Between roommates\"                               \n",
       "[20] \"Between pen-friends\"                             \n",
       "[21] \"Between church members\"                          \n",
       "[22] \"Between political allies\"                        \n",
       "[23] \"Between Facebook Friends\"                        \n",
       "[24] \"Between Close Friends\"                           \n",
       "[25] \"Victim and Witness\"                              \n",
       "[26] \"Between classmates\"                              \n",
       "[27] \"Bride and Bridesmaid\"                            \n",
       "[28] \"Between a person and their family friends\"       \n",
       "[29] \"Between playmates\"                               \n",
       "[30] \"Between religious followers\"                     \n",
       "[31] \"Between confidants\"                              \n",
       "[32] \"Between Co-workers\"                              \n",
       "[33] \"Between brothers-in-arms\"                        "
      ]
     },
     "metadata": {},
     "output_type": "display_data"
    },
    {
     "name": "stdout",
     "output_type": "stream",
     "text": [
      "[1] \"Transactional: 30\"\n"
     ]
    },
    {
     "data": {
      "text/html": [
       "<style>\n",
       ".list-inline {list-style: none; margin:0; padding: 0}\n",
       ".list-inline>li {display: inline-block}\n",
       ".list-inline>li:not(:last-child)::after {content: \"\\00b7\"; padding: 0 .5ex}\n",
       "</style>\n",
       "<ol class=list-inline><li>'Native and Tourist'</li><li>'Driver and Passenger'</li><li>'Nurse and Patient'</li><li>'Representative and Citizen'</li><li>'Reviewer and Writer'</li><li>'Entrepreneur and Investor'</li><li>'Dealer and Buyer'</li><li>'Reader and Writer'</li><li>'Patient and Caretaker'</li><li>'Psychologist and Client'</li><li>'Therapist and Patient'</li><li>'Politician and Supporter'</li><li>'Landlord and Tenant'</li><li>'Doctor and Patient'</li><li>'Prostitute and Customer'</li><li>'Researcher and Research Subject'</li><li>'Lawyer and Client'</li><li>'Guide and Tourist'</li><li>'Salesperson and Customer'</li><li>'Drug dealer and Addict'</li><li>'Consultant and Client'</li><li>'Customer and Businessman'</li><li>'Chef and Customer'</li><li>'Performer and Audience'</li><li>'Guest and Host'</li><li>'Babysitter and Infant'</li><li>'Television host and Guest'</li><li>'Customer and Server'</li><li>'Celebrity and Fans'</li><li>'Judge and Contestant'</li></ol>\n"
      ],
      "text/latex": [
       "\\begin{enumerate*}\n",
       "\\item 'Native and Tourist'\n",
       "\\item 'Driver and Passenger'\n",
       "\\item 'Nurse and Patient'\n",
       "\\item 'Representative and Citizen'\n",
       "\\item 'Reviewer and Writer'\n",
       "\\item 'Entrepreneur and Investor'\n",
       "\\item 'Dealer and Buyer'\n",
       "\\item 'Reader and Writer'\n",
       "\\item 'Patient and Caretaker'\n",
       "\\item 'Psychologist and Client'\n",
       "\\item 'Therapist and Patient'\n",
       "\\item 'Politician and Supporter'\n",
       "\\item 'Landlord and Tenant'\n",
       "\\item 'Doctor and Patient'\n",
       "\\item 'Prostitute and Customer'\n",
       "\\item 'Researcher and Research Subject'\n",
       "\\item 'Lawyer and Client'\n",
       "\\item 'Guide and Tourist'\n",
       "\\item 'Salesperson and Customer'\n",
       "\\item 'Drug dealer and Addict'\n",
       "\\item 'Consultant and Client'\n",
       "\\item 'Customer and Businessman'\n",
       "\\item 'Chef and Customer'\n",
       "\\item 'Performer and Audience'\n",
       "\\item 'Guest and Host'\n",
       "\\item 'Babysitter and Infant'\n",
       "\\item 'Television host and Guest'\n",
       "\\item 'Customer and Server'\n",
       "\\item 'Celebrity and Fans'\n",
       "\\item 'Judge and Contestant'\n",
       "\\end{enumerate*}\n"
      ],
      "text/markdown": [
       "1. 'Native and Tourist'\n",
       "2. 'Driver and Passenger'\n",
       "3. 'Nurse and Patient'\n",
       "4. 'Representative and Citizen'\n",
       "5. 'Reviewer and Writer'\n",
       "6. 'Entrepreneur and Investor'\n",
       "7. 'Dealer and Buyer'\n",
       "8. 'Reader and Writer'\n",
       "9. 'Patient and Caretaker'\n",
       "10. 'Psychologist and Client'\n",
       "11. 'Therapist and Patient'\n",
       "12. 'Politician and Supporter'\n",
       "13. 'Landlord and Tenant'\n",
       "14. 'Doctor and Patient'\n",
       "15. 'Prostitute and Customer'\n",
       "16. 'Researcher and Research Subject'\n",
       "17. 'Lawyer and Client'\n",
       "18. 'Guide and Tourist'\n",
       "19. 'Salesperson and Customer'\n",
       "20. 'Drug dealer and Addict'\n",
       "21. 'Consultant and Client'\n",
       "22. 'Customer and Businessman'\n",
       "23. 'Chef and Customer'\n",
       "24. 'Performer and Audience'\n",
       "25. 'Guest and Host'\n",
       "26. 'Babysitter and Infant'\n",
       "27. 'Television host and Guest'\n",
       "28. 'Customer and Server'\n",
       "29. 'Celebrity and Fans'\n",
       "30. 'Judge and Contestant'\n",
       "\n",
       "\n"
      ],
      "text/plain": [
       " [1] \"Native and Tourist\"              \"Driver and Passenger\"           \n",
       " [3] \"Nurse and Patient\"               \"Representative and Citizen\"     \n",
       " [5] \"Reviewer and Writer\"             \"Entrepreneur and Investor\"      \n",
       " [7] \"Dealer and Buyer\"                \"Reader and Writer\"              \n",
       " [9] \"Patient and Caretaker\"           \"Psychologist and Client\"        \n",
       "[11] \"Therapist and Patient\"           \"Politician and Supporter\"       \n",
       "[13] \"Landlord and Tenant\"             \"Doctor and Patient\"             \n",
       "[15] \"Prostitute and Customer\"         \"Researcher and Research Subject\"\n",
       "[17] \"Lawyer and Client\"               \"Guide and Tourist\"              \n",
       "[19] \"Salesperson and Customer\"        \"Drug dealer and Addict\"         \n",
       "[21] \"Consultant and Client\"           \"Customer and Businessman\"       \n",
       "[23] \"Chef and Customer\"               \"Performer and Audience\"         \n",
       "[25] \"Guest and Host\"                  \"Babysitter and Infant\"          \n",
       "[27] \"Television host and Guest\"       \"Customer and Server\"            \n",
       "[29] \"Celebrity and Fans\"              \"Judge and Contestant\"           "
      ]
     },
     "metadata": {},
     "output_type": "display_data"
    },
    {
     "name": "stdout",
     "output_type": "stream",
     "text": [
      "[1] \"Power: 35\"\n"
     ]
    },
    {
     "data": {
      "text/html": [
       "<style>\n",
       ".list-inline {list-style: none; margin:0; padding: 0}\n",
       ".list-inline>li {display: inline-block}\n",
       ".list-inline>li:not(:last-child)::after {content: \"\\00b7\"; padding: 0 .5ex}\n",
       "</style>\n",
       "<ol class=list-inline><li>'Student and Dorm Resident assistant'</li><li>'Union leader and union member'</li><li>'Intern and Employee'</li><li>'Mentor and Mentee'</li><li>'Religious leader and Congregant'</li><li>'Teacher and Student'</li><li>'Employer and Employee'</li><li>'Supervisor and Subordinate'</li><li>'Team Captain and Team Members'</li><li>'Predecessor and Successor'</li><li>'Interviewer and Job applicant'</li><li>'Officer and Soldier'</li><li>'Between a monarch and their minister'</li><li>'Professor and Graduate student'</li><li>'Director and Performer'</li><li>'Athletic trainer and Trainee'</li><li>'Doctor and Nurse'</li><li>'Landlord and Housekeeper'</li><li>'Foreman and Laborer'</li><li>'Superior and Subordinate'</li><li>'Club Member and Club President'</li><li>'Chief and Deputy'</li><li>'Athlete and Referee'</li><li>'Principal and Teacher'</li><li>'Judge and Lawyer'</li><li>'Coach and athlete'</li><li>'University student and Administrator'</li><li>'Leader and Follower'</li><li>'Man and God'</li><li>'Volunteer and Organizer'</li><li>'Manager and Staff'</li><li>'Owner and Manager'</li><li>'Manager and Assistant'</li><li>'Boss and Secretary'</li><li>'Professor and Teaching Assistant'</li></ol>\n"
      ],
      "text/latex": [
       "\\begin{enumerate*}\n",
       "\\item 'Student and Dorm Resident assistant'\n",
       "\\item 'Union leader and union member'\n",
       "\\item 'Intern and Employee'\n",
       "\\item 'Mentor and Mentee'\n",
       "\\item 'Religious leader and Congregant'\n",
       "\\item 'Teacher and Student'\n",
       "\\item 'Employer and Employee'\n",
       "\\item 'Supervisor and Subordinate'\n",
       "\\item 'Team Captain and Team Members'\n",
       "\\item 'Predecessor and Successor'\n",
       "\\item 'Interviewer and Job applicant'\n",
       "\\item 'Officer and Soldier'\n",
       "\\item 'Between a monarch and their minister'\n",
       "\\item 'Professor and Graduate student'\n",
       "\\item 'Director and Performer'\n",
       "\\item 'Athletic trainer and Trainee'\n",
       "\\item 'Doctor and Nurse'\n",
       "\\item 'Landlord and Housekeeper'\n",
       "\\item 'Foreman and Laborer'\n",
       "\\item 'Superior and Subordinate'\n",
       "\\item 'Club Member and Club President'\n",
       "\\item 'Chief and Deputy'\n",
       "\\item 'Athlete and Referee'\n",
       "\\item 'Principal and Teacher'\n",
       "\\item 'Judge and Lawyer'\n",
       "\\item 'Coach and athlete'\n",
       "\\item 'University student and Administrator'\n",
       "\\item 'Leader and Follower'\n",
       "\\item 'Man and God'\n",
       "\\item 'Volunteer and Organizer'\n",
       "\\item 'Manager and Staff'\n",
       "\\item 'Owner and Manager'\n",
       "\\item 'Manager and Assistant'\n",
       "\\item 'Boss and Secretary'\n",
       "\\item 'Professor and Teaching Assistant'\n",
       "\\end{enumerate*}\n"
      ],
      "text/markdown": [
       "1. 'Student and Dorm Resident assistant'\n",
       "2. 'Union leader and union member'\n",
       "3. 'Intern and Employee'\n",
       "4. 'Mentor and Mentee'\n",
       "5. 'Religious leader and Congregant'\n",
       "6. 'Teacher and Student'\n",
       "7. 'Employer and Employee'\n",
       "8. 'Supervisor and Subordinate'\n",
       "9. 'Team Captain and Team Members'\n",
       "10. 'Predecessor and Successor'\n",
       "11. 'Interviewer and Job applicant'\n",
       "12. 'Officer and Soldier'\n",
       "13. 'Between a monarch and their minister'\n",
       "14. 'Professor and Graduate student'\n",
       "15. 'Director and Performer'\n",
       "16. 'Athletic trainer and Trainee'\n",
       "17. 'Doctor and Nurse'\n",
       "18. 'Landlord and Housekeeper'\n",
       "19. 'Foreman and Laborer'\n",
       "20. 'Superior and Subordinate'\n",
       "21. 'Club Member and Club President'\n",
       "22. 'Chief and Deputy'\n",
       "23. 'Athlete and Referee'\n",
       "24. 'Principal and Teacher'\n",
       "25. 'Judge and Lawyer'\n",
       "26. 'Coach and athlete'\n",
       "27. 'University student and Administrator'\n",
       "28. 'Leader and Follower'\n",
       "29. 'Man and God'\n",
       "30. 'Volunteer and Organizer'\n",
       "31. 'Manager and Staff'\n",
       "32. 'Owner and Manager'\n",
       "33. 'Manager and Assistant'\n",
       "34. 'Boss and Secretary'\n",
       "35. 'Professor and Teaching Assistant'\n",
       "\n",
       "\n"
      ],
      "text/plain": [
       " [1] \"Student and Dorm Resident assistant\" \n",
       " [2] \"Union leader and union member\"       \n",
       " [3] \"Intern and Employee\"                 \n",
       " [4] \"Mentor and Mentee\"                   \n",
       " [5] \"Religious leader and Congregant\"     \n",
       " [6] \"Teacher and Student\"                 \n",
       " [7] \"Employer and Employee\"               \n",
       " [8] \"Supervisor and Subordinate\"          \n",
       " [9] \"Team Captain and Team Members\"       \n",
       "[10] \"Predecessor and Successor\"           \n",
       "[11] \"Interviewer and Job applicant\"       \n",
       "[12] \"Officer and Soldier\"                 \n",
       "[13] \"Between a monarch and their minister\"\n",
       "[14] \"Professor and Graduate student\"      \n",
       "[15] \"Director and Performer\"              \n",
       "[16] \"Athletic trainer and Trainee\"        \n",
       "[17] \"Doctor and Nurse\"                    \n",
       "[18] \"Landlord and Housekeeper\"            \n",
       "[19] \"Foreman and Laborer\"                 \n",
       "[20] \"Superior and Subordinate\"            \n",
       "[21] \"Club Member and Club President\"      \n",
       "[22] \"Chief and Deputy\"                    \n",
       "[23] \"Athlete and Referee\"                 \n",
       "[24] \"Principal and Teacher\"               \n",
       "[25] \"Judge and Lawyer\"                    \n",
       "[26] \"Coach and athlete\"                   \n",
       "[27] \"University student and Administrator\"\n",
       "[28] \"Leader and Follower\"                 \n",
       "[29] \"Man and God\"                         \n",
       "[30] \"Volunteer and Organizer\"             \n",
       "[31] \"Manager and Staff\"                   \n",
       "[32] \"Owner and Manager\"                   \n",
       "[33] \"Manager and Assistant\"               \n",
       "[34] \"Boss and Secretary\"                  \n",
       "[35] \"Professor and Teaching Assistant\"    "
      ]
     },
     "metadata": {},
     "output_type": "display_data"
    }
   ],
   "source": [
    "# add 6 clusters\n",
    "clusters_6k=read.csv('../../Study2/output_data/group/category/cluster_results/umap_exp_results_159r_all_fixlabel.csv',\n",
    "                       row.names = 1)\n",
    "\n",
    "Hostile = rownames(clusters_6k[clusters_6k['cl_k6'] == 5,])\n",
    "print(paste('Hostile:',length(Hostile)))\n",
    "Hostile\n",
    "Familial = rownames(clusters_6k[clusters_6k['cl_k6'] == 2,])\n",
    "print(paste('Familial:',length(Familial)))\n",
    "Familial\n",
    "Romantic = rownames(clusters_6k[clusters_6k['cl_k6'] == 3,])\n",
    "print(paste('Romantic:',length(Romantic)))\n",
    "Romantic\n",
    "Affiliative = rownames(clusters_6k[clusters_6k['cl_k6'] == 1,])\n",
    "print(paste('Affiliative:',length(Affiliative)))\n",
    "Affiliative\n",
    "Transactional = rownames(clusters_6k[clusters_6k['cl_k6'] == 4,])\n",
    "print(paste('Transactional:',length(Transactional)))\n",
    "Transactional\n",
    "Power = rownames(clusters_6k[clusters_6k['cl_k6'] == 0,])\n",
    "print(paste('Power:',length(Power)))\n",
    "Power"
   ]
  },
  {
   "cell_type": "code",
   "execution_count": 3,
   "id": "f725c965",
   "metadata": {
    "ExecuteTime": {
     "end_time": "2022-12-21T10:13:08.145637Z",
     "start_time": "2022-12-21T10:13:07.736Z"
    }
   },
   "outputs": [],
   "source": [
    "# add 3 clusters\n",
    "Private = c(Familial,Romantic,\n",
    " 'Between childhood friends','Groom and Groomsman','Between friends',\n",
    " 'Between companions',#'Between sorority sisters',\n",
    " 'Between cohabitants',#'Between fraternity brothers',#'Between roommates',\n",
    " 'Between pen-friends','Between Facebook Friends','Between Close Friends',\n",
    " 'Bride and Bridesmaid','Between a person and their family friends',\n",
    " 'Between playmates','Between confidants')\n",
    "\n",
    "Public = c(Transactional,Power)"
   ]
  },
  {
   "cell_type": "markdown",
   "id": "4254bbeb",
   "metadata": {},
   "source": [
    "## Abstract the cluster (averaged relationships) within 33D "
   ]
  },
  {
   "cell_type": "code",
   "execution_count": 4,
   "id": "ec29ba5b",
   "metadata": {
    "ExecuteTime": {
     "end_time": "2022-12-21T10:13:08.169513Z",
     "start_time": "2022-12-21T10:13:07.750Z"
    }
   },
   "outputs": [],
   "source": [
    "cluster_perception_regions = function(cluster){\n",
    "    region_dim_df = c() \n",
    "    for (region in names(raw_data_list)){\n",
    "        #1.each region's raw dataframe\n",
    "        rel_dim_df = raw_data_list[[region]]\n",
    "        #2.abstract relationships in specific cluster\n",
    "        cluster_dim_df = rel_dim_df[cluster,]\n",
    "        #3.average all relationships' results\n",
    "        cluster_dim_df = apply(cluster_dim_df,2,mean)\n",
    "        #4.combine all \n",
    "        region_dim_df = cbind(region_dim_df,cluster_dim_df)\n",
    "        }\n",
    "    colnames(region_dim_df) = names(raw_data_list)\n",
    "    return(region_dim_df)\n",
    "}"
   ]
  },
  {
   "cell_type": "code",
   "execution_count": 5,
   "id": "f75ce946",
   "metadata": {
    "ExecuteTime": {
     "end_time": "2022-12-21T10:13:08.274163Z",
     "start_time": "2022-12-21T10:13:07.753Z"
    }
   },
   "outputs": [],
   "source": [
    "Hostile_array = cluster_perception_regions(cluster = Hostile)\n",
    "write.csv(Hostile_array,'models_rdm/category_perception/Hostile_cor_array.csv')\n",
    "Hostile_rdm = 1-cor(Hostile_array,method = 'spearman')\n",
    "write.csv(Hostile_rdm,'models_rdm/category_perception/Hostile_dissim_dist.csv')\n",
    "\n",
    "Private_array = cluster_perception_regions(cluster = Private)\n",
    "write.csv(Private_array,'models_rdm/category_perception/Private_cor_array.csv')\n",
    "Private_rdm = 1-cor(Private_array,method = 'spearman')\n",
    "write.csv(Private_rdm,'models_rdm/category_perception/Private_dissim_dist.csv')\n",
    "\n",
    "Public_array = cluster_perception_regions(cluster = Public)\n",
    "write.csv(Public_array,'models_rdm/category_perception/Public_cor_array.csv')\n",
    "Public_rdm = 1-cor(Public_array,method = 'spearman')\n",
    "write.csv(Public_rdm,'models_rdm/category_perception/Public_dissim_dist.csv')"
   ]
  },
  {
   "cell_type": "markdown",
   "id": "31f04688",
   "metadata": {},
   "source": [
    "# RSA_regression"
   ]
  },
  {
   "cell_type": "code",
   "execution_count": 6,
   "id": "efb1db18",
   "metadata": {
    "ExecuteTime": {
     "end_time": "2022-12-21T10:13:09.562872Z",
     "start_time": "2022-12-21T10:13:07.768Z"
    }
   },
   "outputs": [
    {
     "name": "stderr",
     "output_type": "stream",
     "text": [
      "-- \u001b[1mAttaching packages\u001b[22m ------------------------------------------------------------------------------- tidyverse 1.3.1 --\n",
      "\n",
      "\u001b[32mv\u001b[39m \u001b[34mggplot2\u001b[39m 3.3.5     \u001b[32mv\u001b[39m \u001b[34mpurrr  \u001b[39m 0.3.4\n",
      "\u001b[32mv\u001b[39m \u001b[34mtibble \u001b[39m 3.1.6     \u001b[32mv\u001b[39m \u001b[34mdplyr  \u001b[39m 1.0.7\n",
      "\u001b[32mv\u001b[39m \u001b[34mtidyr  \u001b[39m 1.1.4     \u001b[32mv\u001b[39m \u001b[34mstringr\u001b[39m 1.4.0\n",
      "\u001b[32mv\u001b[39m \u001b[34mreadr  \u001b[39m 2.1.1     \u001b[32mv\u001b[39m \u001b[34mforcats\u001b[39m 0.5.1\n",
      "\n",
      "-- \u001b[1mConflicts\u001b[22m ---------------------------------------------------------------------------------- tidyverse_conflicts() --\n",
      "\u001b[31mx\u001b[39m \u001b[34mdplyr\u001b[39m::\u001b[32mfilter()\u001b[39m masks \u001b[34mstats\u001b[39m::filter()\n",
      "\u001b[31mx\u001b[39m \u001b[34mdplyr\u001b[39m::\u001b[32mlag()\u001b[39m    masks \u001b[34mstats\u001b[39m::lag()\n",
      "\n",
      "\n",
      "载入程辑包：'reshape'\n",
      "\n",
      "\n",
      "The following object is masked from 'package:dplyr':\n",
      "\n",
      "    rename\n",
      "\n",
      "\n",
      "The following objects are masked from 'package:tidyr':\n",
      "\n",
      "    expand, smiths\n",
      "\n",
      "\n",
      "corrplot 0.92 loaded\n",
      "\n"
     ]
    }
   ],
   "source": [
    "options(warn=-1)\n",
    "library(openxlsx)\n",
    "library(tidyverse)\n",
    "library(reshape)\n",
    "\n",
    "library(ggplot2)\n",
    "library(RColorBrewer)\n",
    "library(corrplot)\n",
    "library(corrr)"
   ]
  },
  {
   "cell_type": "code",
   "execution_count": 7,
   "id": "401e0d67",
   "metadata": {
    "ExecuteTime": {
     "end_time": "2022-12-21T10:13:09.589878Z",
     "start_time": "2022-12-21T10:13:07.769Z"
    }
   },
   "outputs": [],
   "source": [
    "regions_order = c(\n",
    "    # English\n",
    "    'USA','UK','Australia','South Africa',\n",
    "    # Germany\n",
    "    'Germany',\n",
    "    # Japanese\n",
    "    'Japan',\n",
    "    # Hebrew\n",
    "    'Israel',\n",
    "    # Chinese\n",
    "    'CHN','HK(region)',\n",
    "\n",
    "    # French\n",
    "    'France',\n",
    "    # Spanish\n",
    "    'Spain','Mexico','Chile',\n",
    "    # Portuguese\n",
    "    'Portugal','Brazil',\n",
    "    # Russian\n",
    "    'Russia',\n",
    "    # Arabic\n",
    "    'Egypt','Qatar',\n",
    "    'India')\n",
    "\n",
    "fix_region = function(df){\n",
    "    regions = rownames(df)\n",
    "    regions = str_replace(regions,'United States','USA')\n",
    "    regions = str_replace(regions,'United Kingdom','UK')\n",
    "    regions = str_replace(regions,'China','CHN')\n",
    "    regions = str_replace(regions,'South_africa','South Africa')\n",
    "    regions = str_replace(regions,'Spain','Spanish')\n",
    "    regions = str_replace(regions,'HK','HK(region)')\n",
    "    regions = gsub('Hong Kong SAR, CHN','HK(region)',regions,fixed=TRUE)\n",
    "    regions = str_replace(regions,'Hong Kong','HK(region)')\n",
    "    regions = str_replace(regions,'Spanish','Spain')\n",
    "    regions = str_replace(regions,'Russian Federation','Russia')\n",
    "    regions = str_replace(regions,'Russian','Russia')\n",
    "    regions = str_replace(regions,'Egypt, Arab Rep.','Egypt')\n",
    "    \n",
    "    rownames(df) = regions\n",
    "    colnames(df) = regions\n",
    "    \n",
    "    df = df[regions_order,regions_order]\n",
    "    return(df)\n",
    "}\n",
    "\n",
    "lowerTriangle <- function(m){\n",
    "  return(m[lower.tri(m,diag = FALSE)])\n",
    "}"
   ]
  },
  {
   "cell_type": "markdown",
   "id": "4d1b7ec6",
   "metadata": {},
   "source": [
    "## Main variable rdm"
   ]
  },
  {
   "cell_type": "code",
   "execution_count": 8,
   "id": "4e5227dc",
   "metadata": {
    "ExecuteTime": {
     "end_time": "2022-12-21T10:13:09.767927Z",
     "start_time": "2022-12-21T10:13:07.785Z"
    }
   },
   "outputs": [],
   "source": [
    "# Language\n",
    "Lexical = read.csv('../Cultural_RDM/rdm/Lexical_dist.csv', row.names=1, encoding = \"UTF-8\",check.names = FALSE)\n",
    "Lexical = fix_region(Lexical)\n",
    "\n",
    "# Personality\n",
    "Agreeableness = read.csv('../Cultural_RDM/rdm/Agreeableness_dist.csv',row.names=1, encoding = \"UTF-8\",check.names = FALSE)\n",
    "Agreeableness = fix_region(Agreeableness)\n",
    "Conscientiousness = read.csv('../Cultural_RDM/rdm/Conscientiousness_dist.csv',row.names=1, encoding = \"UTF-8\",check.names = FALSE)\n",
    "Conscientiousness = fix_region(Conscientiousness)\n",
    "Extraversion = read.csv('../Cultural_RDM/rdm/Extraversion_dist.csv',row.names=1, encoding = \"UTF-8\",check.names = FALSE)\n",
    "Extraversion = fix_region(Extraversion)\n",
    "Neuroticism = read.csv('../Cultural_RDM/rdm/Neuroticism_dist.csv',row.names=1, encoding = \"UTF-8\",check.names = FALSE)\n",
    "Neuroticism = fix_region(Neuroticism)\n",
    "Openness = read.csv('../Cultural_RDM/rdm/Openness_dist.csv',row.names=1, encoding = \"UTF-8\",check.names = FALSE)\n",
    "Openness = fix_region(Openness)\n",
    "personality_all = read.csv('../Cultural_RDM/rdm/personality_all_dist.csv', row.names=1, encoding = \"UTF-8\",check.names = FALSE)\n",
    "personality_all = fix_region(personality_all)\n",
    "\n",
    "# Socioecological\n",
    "Climatic_demands = read.csv('../Cultural_RDM/rdm/Climatic_demands_dist.csv', row.names=1, encoding = \"UTF-8\",check.names = FALSE)\n",
    "Climatic_demands = fix_region(Climatic_demands)\n",
    "Coordinate = read.csv('../Cultural_RDM/rdm/Coordinate_dist.csv', row.names=1, encoding = \"UTF-8\",check.names = FALSE)\n",
    "Coordinate = fix_region(Coordinate)\n",
    "subsistence = read.csv('../Cultural_RDM/rdm/subsistence_dist.csv', row.names=1, encoding = \"UTF-8\",check.names = FALSE)\n",
    "subsistence = fix_region(subsistence)\n",
    "disease = read.csv('../Cultural_RDM/rdm/disease_dist.csv', row.names=1, encoding = \"UTF-8\",check.names = FALSE)\n",
    "disease = fix_region(disease)\n",
    "\n",
    "# Modernization\n",
    "urban = read.csv('../Cultural_RDM/rdm/urban_rdm.csv', row.names=1, encoding = \"UTF-8\")\n",
    "urban = fix_region(urban)\n",
    "wealth = read.csv('../Cultural_RDM/rdm/wealth_rdm.csv', row.names=1, encoding = \"UTF-8\")\n",
    "wealth = fix_region(wealth)\n",
    "edu = read.csv('../Cultural_RDM/rdm/edu_rdm.csv', row.names=1, encoding = \"UTF-8\")\n",
    "edu = fix_region(edu)\n",
    "modern = read.csv('../Cultural_RDM/rdm/modern_dist.csv', row.names=1, encoding = \"UTF-8\",check.names = FALSE)\n",
    "modern = fix_region(modern)\n",
    "\n",
    "# Cultural value\n",
    "## Hofstede 6D\n",
    "power = read.csv('../Cultural_RDM/rdm/power_rdm.csv', row.names=1, encoding = \"UTF-8\")\n",
    "power = fix_region(power)\n",
    "Individualism = read.csv('../Cultural_RDM/rdm/Individualism_rdm.csv', row.names=1, encoding = \"UTF-8\",check.names = FALSE)\n",
    "Individualism = fix_region(Individualism)\n",
    "Masculine = read.csv('../Cultural_RDM/rdm/Masculine_rdm.csv', row.names=1, encoding = \"UTF-8\",check.names = FALSE)\n",
    "Masculine = fix_region(Masculine)\n",
    "Uncertainty_Avoidance = read.csv('../Cultural_RDM/rdm/Uncertainty_Avoidance_rdm.csv', row.names=1, encoding = \"UTF-8\",check.names = FALSE)\n",
    "Uncertainty_Avoidance = fix_region(Uncertainty_Avoidance)\n",
    "Long_Term_Orientation = read.csv('../Cultural_RDM/rdm/Long_Term_Orientation_rdm.csv', row.names=1, encoding = \"UTF-8\",check.names = FALSE)\n",
    "Long_Term_Orientation = fix_region(Long_Term_Orientation)\n",
    "Indulgence = read.csv('../Cultural_RDM/rdm/Indulgence_rdm.csv', row.names=1, encoding = \"UTF-8\",check.names = FALSE)\n",
    "Indulgence = fix_region(Indulgence)\n",
    "Hofstede_6D = read.csv('../Cultural_RDM/rdm/Hofstede_6D_rdm.csv', row.names=1, encoding = \"UTF-8\",check.names = FALSE)\n",
    "Hofstede_6D = fix_region(Hofstede_6D)\n",
    "\n",
    "# Gene\n",
    "new_gendist_weighted = read.csv('../Cultural_RDM/rdm/new_gendist_weighted_dist.csv', row.names=1, encoding = \"UTF-8\",check.names = FALSE)\n",
    "new_gendist_weighted = fix_region(new_gendist_weighted)\n",
    "\n",
    "# Religion\n",
    "reldist_weighted_WCD_form = read.csv('../Cultural_RDM/rdm/reldist_weighted_WCD_form_dist.csv', row.names=1, encoding = \"UTF-8\",check.names = FALSE)\n",
    "reldist_weighted_WCD_form = fix_region(reldist_weighted_WCD_form)\n",
    "religion_per = read.csv('../Cultural_RDM/rdm/religion_percentage_rdm.csv', row.names=1, encoding = \"UTF-8\",check.names = FALSE)\n",
    "religion_per = fix_region(religion_per)\n",
    "\n",
    "# Political\n",
    "idealogy = read.csv('../Cultural_RDM/rdm/political_idealogy_rdm_range.csv', row.names=1, encoding = \"UTF-8\",check.names = FALSE)\n",
    "idealogy = fix_region(idealogy)"
   ]
  },
  {
   "cell_type": "code",
   "execution_count": 9,
   "id": "0ca56efe",
   "metadata": {
    "ExecuteTime": {
     "end_time": "2022-12-21T10:13:09.816585Z",
     "start_time": "2022-12-21T10:13:07.786Z"
    }
   },
   "outputs": [],
   "source": [
    "# Demographics\n",
    "gender = read.csv('../DataCleanPCA/output_data/rdm/gender_rdm.csv', row.names=1, encoding = \"UTF-8\",check.names = FALSE)\n",
    "gender = fix_region(gender)\n",
    "age = read.csv('../DataCleanPCA/output_data/rdm/age_rdm.csv', row.names=1, encoding = \"UTF-8\",check.names = FALSE)\n",
    "age = fix_region(age)\n",
    "education_ind = read.csv('../DataCleanPCA/output_data/rdm/education_ind_rdm.csv', row.names=1, encoding = \"UTF-8\",check.names = FALSE)\n",
    "education_ind = fix_region(education_ind)\n",
    "demographics = read.csv('../DataCleanPCA/output_data/rdm/demographics_rdm.csv', row.names=1, encoding = \"UTF-8\",check.names = FALSE)\n",
    "demographics = fix_region(demographics)\n",
    "\n",
    "# check size\n",
    "check_size = read.csv('../DataCleanPCA/output_data/rdm/check_size_rdm.csv', row.names=1, encoding = \"UTF-8\",check.names = FALSE)\n",
    "check_size = fix_region(check_size)"
   ]
  },
  {
   "cell_type": "code",
   "execution_count": 10,
   "id": "ce1c897f",
   "metadata": {
    "ExecuteTime": {
     "end_time": "2022-12-21T10:13:09.846028Z",
     "start_time": "2022-12-21T10:13:07.788Z"
    }
   },
   "outputs": [],
   "source": [
    "# get rdms of predicators \n",
    "variables_names <- c('Lexical',# Language\n",
    "                     'personality_all',# Personality\n",
    "                     'Coordinate','Climatic_demands','subsistence','disease',# Socioecological\n",
    "                     'modern',# Modernization\n",
    "                     'Hofstede_6D',# Cultural value\n",
    "                     'new_gendist_weighted',# Gene\n",
    "                     'religion_per',#'reldist_weighted_WCD_form',# Religion\n",
    "                     'idealogy',# Political\n",
    "                     'demographics'# Demographics\n",
    "                     #'check_size'\n",
    "                    )\n",
    "\n",
    "variables <- list()\n",
    "for(i in c(1:length(variables_names))){\n",
    "  variables[[i]] = get(variables_names[i])\n",
    "}"
   ]
  },
  {
   "cell_type": "code",
   "execution_count": 11,
   "id": "5e043a35",
   "metadata": {
    "ExecuteTime": {
     "end_time": "2022-12-21T10:13:09.872889Z",
     "start_time": "2022-12-21T10:13:07.789Z"
    }
   },
   "outputs": [],
   "source": [
    "permutation_result = function(culture_regress_standard_model){\n",
    "    # create permutation matrix\n",
    "    nperm <- 10000\n",
    "    permf <- matrix(NA,nperm)\n",
    "    permr2 <- matrix(NA,nperm)\n",
    "    # contain beta\n",
    "    permt <- matrix(NA,nperm,length(variables_names)) # 12variables\n",
    "    colnames(permt) <- variables_names\n",
    "    # caculate proportation of beta or F value over the model results\n",
    "    permf_pvals <- NA \n",
    "    permt_pvals <- NA\n",
    "    tstats = NA\n",
    "\n",
    "    # the model results\n",
    "    fstats <- culture_regress_standard_model$fstatistic[[1]]\n",
    "    for (i in 1:length(variables_names)){\n",
    "      tstats[i] <- culture_regress_standard_model$coefficients[1+i,1]\n",
    "    }\n",
    "    r2stats <- culture_regress_standard_model$r.squared\n",
    "    print(paste('fstats:',fstats))\n",
    "    #print('tstats:')\n",
    "    #tstats\n",
    "    print(paste('r2stats:',r2stats))\n",
    "\n",
    "    set.seed(2)\n",
    "    for (i in 1:nperm){\n",
    "      psel <- sample(19) # permuted index, total 19 regions\n",
    "      x <- do.call(cbind,lapply(variables,function(x) lowerTriangle(x[psel,psel]))) # generate permuted predictors\n",
    "      rfit <- lm(scale(model_rdm_array)~scale(x)) # fit permuted model\n",
    "      srfit <- summary(rfit)\n",
    "      permf[i,1] <- srfit$fstatistic[1] # F-stat\n",
    "      permr2[i,1] <- srfit$r.squared # R-squared\n",
    "      #permf[,i] <- unlist(lapply(srfit,function(x) x$fstatistic[1])) # F-stat\n",
    "      #permr2[,i] <- unlist(lapply(srfit,function(x) x$r.squared)) # R-squared\n",
    "      for (j in 1:length(variables_names)){\n",
    "        permt[i,j] <- srfit$coefficients[1+j,1] # each var t-stat\n",
    "      }\n",
    "      #print(i)\n",
    "    }\n",
    "    print(i)\n",
    "\n",
    "    # F statistics\n",
    "    permf_pvals <- mean(permf[,1] >= fstats)\n",
    "    print(paste('permf_pvals',permf_pvals))\n",
    "\n",
    "    # Each variable's regression\n",
    "    for (i in 1:length(variables_names)){\n",
    "      permt_pvals[i] <- mean(permt[,i] >= tstats[i])\n",
    "    }\n",
    "\n",
    "    permt_pvals <- as.data.frame(t(permt_pvals)) \n",
    "\n",
    "    colnames(permt_pvals) <- variables_names\n",
    "    return(permt_pvals)\n",
    "} "
   ]
  },
  {
   "cell_type": "markdown",
   "id": "4bd80266",
   "metadata": {},
   "source": [
    "### Hostile"
   ]
  },
  {
   "cell_type": "code",
   "execution_count": 12,
   "id": "5ff65f0b",
   "metadata": {
    "ExecuteTime": {
     "end_time": "2022-12-21T10:13:57.126422Z",
     "start_time": "2022-12-21T10:13:07.806Z"
    }
   },
   "outputs": [
    {
     "data": {
      "text/plain": [
       "\n",
       "Call:\n",
       "lm(formula = scale(model_rdm_array) ~ scale(x))\n",
       "\n",
       "Residuals:\n",
       "     Min       1Q   Median       3Q      Max \n",
       "-2.08945 -0.58790 -0.02564  0.45575  2.52165 \n",
       "\n",
       "Coefficients:\n",
       "                               Estimate Std. Error t value Pr(>|t|)    \n",
       "(Intercept)                   5.537e-17  6.848e-02   0.000   1.0000    \n",
       "scale(x)Lexical               3.935e-01  8.925e-02   4.409 1.91e-05 ***\n",
       "scale(x)personality_all      -7.695e-03  7.775e-02  -0.099   0.9213    \n",
       "scale(x)Coordinate           -1.256e-01  7.996e-02  -1.571   0.1182    \n",
       "scale(x)Climatic_demands      8.919e-02  7.652e-02   1.166   0.2455    \n",
       "scale(x)subsistence           2.807e-02  7.974e-02   0.352   0.7253    \n",
       "scale(x)disease               4.227e-02  7.902e-02   0.535   0.5934    \n",
       "scale(x)modern                1.073e-01  7.462e-02   1.438   0.1523    \n",
       "scale(x)Hofstede_6D          -2.158e-01  8.300e-02  -2.600   0.0102 *  \n",
       "scale(x)new_gendist_weighted -2.133e-01  8.876e-02  -2.404   0.0174 *  \n",
       "scale(x)religion_per          8.798e-02  9.387e-02   0.937   0.3500    \n",
       "scale(x)idealogy             -1.196e-01  7.485e-02  -1.598   0.1120    \n",
       "scale(x)demographics         -6.565e-02  7.901e-02  -0.831   0.4073    \n",
       "---\n",
       "Signif. codes:  0 '***' 0.001 '**' 0.01 '*' 0.05 '.' 0.1 ' ' 1\n",
       "\n",
       "Residual standard error: 0.8954 on 158 degrees of freedom\n",
       "Multiple R-squared:  0.2548,\tAdjusted R-squared:  0.1982 \n",
       "F-statistic: 4.501 on 12 and 158 DF,  p-value: 3.27e-06\n"
      ]
     },
     "metadata": {},
     "output_type": "display_data"
    },
    {
     "name": "stdout",
     "output_type": "stream",
     "text": [
      "[1] \"fstats: 4.50144924324625\"\n",
      "[1] \"r2stats: 0.25477811364825\"\n",
      "[1] 10000\n",
      "[1] \"permf_pvals 0.2731\"\n"
     ]
    },
    {
     "data": {
      "text/html": [
       "<table class=\"dataframe\">\n",
       "<caption>A data.frame: 1 × 12</caption>\n",
       "<thead>\n",
       "\t<tr><th scope=col>Lexical</th><th scope=col>personality_all</th><th scope=col>Coordinate</th><th scope=col>Climatic_demands</th><th scope=col>subsistence</th><th scope=col>disease</th><th scope=col>modern</th><th scope=col>Hofstede_6D</th><th scope=col>new_gendist_weighted</th><th scope=col>religion_per</th><th scope=col>idealogy</th><th scope=col>demographics</th></tr>\n",
       "\t<tr><th scope=col>&lt;dbl&gt;</th><th scope=col>&lt;dbl&gt;</th><th scope=col>&lt;dbl&gt;</th><th scope=col>&lt;dbl&gt;</th><th scope=col>&lt;dbl&gt;</th><th scope=col>&lt;dbl&gt;</th><th scope=col>&lt;dbl&gt;</th><th scope=col>&lt;dbl&gt;</th><th scope=col>&lt;dbl&gt;</th><th scope=col>&lt;dbl&gt;</th><th scope=col>&lt;dbl&gt;</th><th scope=col>&lt;dbl&gt;</th></tr>\n",
       "</thead>\n",
       "<tbody>\n",
       "\t<tr><td>5e-04</td><td>0.4733</td><td>0.7941</td><td>0.2615</td><td>0.402</td><td>0.319</td><td>0.2313</td><td>0.9162</td><td>0.8529</td><td>0.3007</td><td>0.8285</td><td>0.6549</td></tr>\n",
       "</tbody>\n",
       "</table>\n"
      ],
      "text/latex": [
       "A data.frame: 1 × 12\n",
       "\\begin{tabular}{llllllllllll}\n",
       " Lexical & personality\\_all & Coordinate & Climatic\\_demands & subsistence & disease & modern & Hofstede\\_6D & new\\_gendist\\_weighted & religion\\_per & idealogy & demographics\\\\\n",
       " <dbl> & <dbl> & <dbl> & <dbl> & <dbl> & <dbl> & <dbl> & <dbl> & <dbl> & <dbl> & <dbl> & <dbl>\\\\\n",
       "\\hline\n",
       "\t 5e-04 & 0.4733 & 0.7941 & 0.2615 & 0.402 & 0.319 & 0.2313 & 0.9162 & 0.8529 & 0.3007 & 0.8285 & 0.6549\\\\\n",
       "\\end{tabular}\n"
      ],
      "text/markdown": [
       "\n",
       "A data.frame: 1 × 12\n",
       "\n",
       "| Lexical &lt;dbl&gt; | personality_all &lt;dbl&gt; | Coordinate &lt;dbl&gt; | Climatic_demands &lt;dbl&gt; | subsistence &lt;dbl&gt; | disease &lt;dbl&gt; | modern &lt;dbl&gt; | Hofstede_6D &lt;dbl&gt; | new_gendist_weighted &lt;dbl&gt; | religion_per &lt;dbl&gt; | idealogy &lt;dbl&gt; | demographics &lt;dbl&gt; |\n",
       "|---|---|---|---|---|---|---|---|---|---|---|---|\n",
       "| 5e-04 | 0.4733 | 0.7941 | 0.2615 | 0.402 | 0.319 | 0.2313 | 0.9162 | 0.8529 | 0.3007 | 0.8285 | 0.6549 |\n",
       "\n"
      ],
      "text/plain": [
       "  Lexical personality_all Coordinate Climatic_demands subsistence disease\n",
       "1 5e-04   0.4733          0.7941     0.2615           0.402       0.319  \n",
       "  modern Hofstede_6D new_gendist_weighted religion_per idealogy demographics\n",
       "1 0.2313 0.9162      0.8529               0.3007       0.8285   0.6549      "
      ]
     },
     "metadata": {},
     "output_type": "display_data"
    }
   ],
   "source": [
    "model_rdm = read.csv('models_rdm/category_perception/Hostile_dissim_dist.csv',\n",
    "                    row.names =1, check.names = FALSE)\n",
    "model_rdm = model_rdm[regions_order,regions_order]\n",
    "model_rdm_array = lowerTriangle(model_rdm)\n",
    "\n",
    "x <- do.call(cbind,lapply(variables,function(x) lowerTriangle(x))) # generate permuted predictors\n",
    "colnames(x) = variables_names\n",
    "culture_regress_standard <- lm(scale(model_rdm_array)~scale(x))\n",
    "culture_regress_standard_model <- summary(culture_regress_standard)\n",
    "culture_regress_standard_model\n",
    "\n",
    "write.csv(culture_regress_standard_model$coefficients,\n",
    " file='beta/category_perception/hostile_33d.csv')\n",
    "hostile_per_regression = culture_regress_standard_model\n",
    "\n",
    "# permutation\n",
    "p_value = permutation_result(hostile_per_regression)\n",
    "p_value\n",
    "write.csv(p_value,'p_value/category_perception/hostile_33d.csv')"
   ]
  },
  {
   "cell_type": "markdown",
   "id": "fd8d7a4e",
   "metadata": {},
   "source": [
    "### Public"
   ]
  },
  {
   "cell_type": "code",
   "execution_count": 13,
   "id": "03d764ea",
   "metadata": {
    "ExecuteTime": {
     "end_time": "2022-12-21T10:14:43.481677Z",
     "start_time": "2022-12-21T10:13:07.824Z"
    }
   },
   "outputs": [
    {
     "data": {
      "text/plain": [
       "\n",
       "Call:\n",
       "lm(formula = scale(model_rdm_array) ~ scale(x))\n",
       "\n",
       "Residuals:\n",
       "    Min      1Q  Median      3Q     Max \n",
       "-1.7668 -0.5278 -0.2173  0.0800  3.2151 \n",
       "\n",
       "Coefficients:\n",
       "                               Estimate Std. Error t value Pr(>|t|)    \n",
       "(Intercept)                  -1.724e-18  7.340e-02   0.000 1.000000    \n",
       "scale(x)Lexical               3.363e-01  9.567e-02   3.515 0.000574 ***\n",
       "scale(x)personality_all      -1.153e-01  8.334e-02  -1.384 0.168321    \n",
       "scale(x)Coordinate           -8.518e-02  8.571e-02  -0.994 0.321806    \n",
       "scale(x)Climatic_demands      5.562e-02  8.202e-02   0.678 0.498725    \n",
       "scale(x)subsistence           2.623e-02  8.548e-02   0.307 0.759342    \n",
       "scale(x)disease               1.104e-02  8.470e-02   0.130 0.896450    \n",
       "scale(x)modern               -3.467e-02  7.999e-02  -0.433 0.665247    \n",
       "scale(x)Hofstede_6D          -1.931e-01  8.897e-02  -2.171 0.031459 *  \n",
       "scale(x)new_gendist_weighted -1.301e-01  9.514e-02  -1.368 0.173333    \n",
       "scale(x)religion_per         -7.916e-02  1.006e-01  -0.787 0.432592    \n",
       "scale(x)idealogy             -4.914e-02  8.023e-02  -0.612 0.541101    \n",
       "scale(x)demographics          1.506e-03  8.469e-02   0.018 0.985837    \n",
       "---\n",
       "Signif. codes:  0 '***' 0.001 '**' 0.01 '*' 0.05 '.' 0.1 ' ' 1\n",
       "\n",
       "Residual standard error: 0.9598 on 158 degrees of freedom\n",
       "Multiple R-squared:  0.1437,\tAdjusted R-squared:  0.0787 \n",
       "F-statistic:  2.21 on 12 and 158 DF,  p-value: 0.01356\n"
      ]
     },
     "metadata": {},
     "output_type": "display_data"
    },
    {
     "name": "stdout",
     "output_type": "stream",
     "text": [
      "[1] \"fstats: 2.21008608637653\"\n",
      "[1] \"r2stats: 0.14372905137199\"\n",
      "[1] 10000\n",
      "[1] \"permf_pvals 0.9032\"\n"
     ]
    },
    {
     "data": {
      "text/html": [
       "<table class=\"dataframe\">\n",
       "<caption>A data.frame: 1 × 12</caption>\n",
       "<thead>\n",
       "\t<tr><th scope=col>Lexical</th><th scope=col>personality_all</th><th scope=col>Coordinate</th><th scope=col>Climatic_demands</th><th scope=col>subsistence</th><th scope=col>disease</th><th scope=col>modern</th><th scope=col>Hofstede_6D</th><th scope=col>new_gendist_weighted</th><th scope=col>religion_per</th><th scope=col>idealogy</th><th scope=col>demographics</th></tr>\n",
       "\t<tr><th scope=col>&lt;dbl&gt;</th><th scope=col>&lt;dbl&gt;</th><th scope=col>&lt;dbl&gt;</th><th scope=col>&lt;dbl&gt;</th><th scope=col>&lt;dbl&gt;</th><th scope=col>&lt;dbl&gt;</th><th scope=col>&lt;dbl&gt;</th><th scope=col>&lt;dbl&gt;</th><th scope=col>&lt;dbl&gt;</th><th scope=col>&lt;dbl&gt;</th><th scope=col>&lt;dbl&gt;</th><th scope=col>&lt;dbl&gt;</th></tr>\n",
       "</thead>\n",
       "<tbody>\n",
       "\t<tr><td>0.0018</td><td>0.7297</td><td>0.6625</td><td>0.2556</td><td>0.3806</td><td>0.4391</td><td>0.4855</td><td>0.8489</td><td>0.6768</td><td>0.6571</td><td>0.6371</td><td>0.4497</td></tr>\n",
       "</tbody>\n",
       "</table>\n"
      ],
      "text/latex": [
       "A data.frame: 1 × 12\n",
       "\\begin{tabular}{llllllllllll}\n",
       " Lexical & personality\\_all & Coordinate & Climatic\\_demands & subsistence & disease & modern & Hofstede\\_6D & new\\_gendist\\_weighted & religion\\_per & idealogy & demographics\\\\\n",
       " <dbl> & <dbl> & <dbl> & <dbl> & <dbl> & <dbl> & <dbl> & <dbl> & <dbl> & <dbl> & <dbl> & <dbl>\\\\\n",
       "\\hline\n",
       "\t 0.0018 & 0.7297 & 0.6625 & 0.2556 & 0.3806 & 0.4391 & 0.4855 & 0.8489 & 0.6768 & 0.6571 & 0.6371 & 0.4497\\\\\n",
       "\\end{tabular}\n"
      ],
      "text/markdown": [
       "\n",
       "A data.frame: 1 × 12\n",
       "\n",
       "| Lexical &lt;dbl&gt; | personality_all &lt;dbl&gt; | Coordinate &lt;dbl&gt; | Climatic_demands &lt;dbl&gt; | subsistence &lt;dbl&gt; | disease &lt;dbl&gt; | modern &lt;dbl&gt; | Hofstede_6D &lt;dbl&gt; | new_gendist_weighted &lt;dbl&gt; | religion_per &lt;dbl&gt; | idealogy &lt;dbl&gt; | demographics &lt;dbl&gt; |\n",
       "|---|---|---|---|---|---|---|---|---|---|---|---|\n",
       "| 0.0018 | 0.7297 | 0.6625 | 0.2556 | 0.3806 | 0.4391 | 0.4855 | 0.8489 | 0.6768 | 0.6571 | 0.6371 | 0.4497 |\n",
       "\n"
      ],
      "text/plain": [
       "  Lexical personality_all Coordinate Climatic_demands subsistence disease\n",
       "1 0.0018  0.7297          0.6625     0.2556           0.3806      0.4391 \n",
       "  modern Hofstede_6D new_gendist_weighted religion_per idealogy demographics\n",
       "1 0.4855 0.8489      0.6768               0.6571       0.6371   0.4497      "
      ]
     },
     "metadata": {},
     "output_type": "display_data"
    }
   ],
   "source": [
    "model_rdm = read.csv('models_rdm/category_perception/Public_dissim_dist.csv',\n",
    "                    row.names =1, check.names = FALSE)\n",
    "model_rdm = model_rdm[regions_order,regions_order]\n",
    "model_rdm_array = lowerTriangle(model_rdm)\n",
    "\n",
    "x <- do.call(cbind,lapply(variables,function(x) lowerTriangle(x))) # generate permuted predictors\n",
    "colnames(x) = variables_names\n",
    "culture_regress_standard <- lm(scale(model_rdm_array)~scale(x))\n",
    "culture_regress_standard_model <- summary(culture_regress_standard)\n",
    "culture_regress_standard_model\n",
    "\n",
    "write.csv(culture_regress_standard_model$coefficients,\n",
    " file='beta/category_perception/public_33d.csv')\n",
    "public_per_regression = culture_regress_standard_model\n",
    "\n",
    "# permutation\n",
    "p_value = permutation_result(public_per_regression)\n",
    "p_value\n",
    "write.csv(p_value,'p_value/category_perception/public_33d.csv')"
   ]
  },
  {
   "cell_type": "markdown",
   "id": "94ff0168",
   "metadata": {},
   "source": [
    "### Private"
   ]
  },
  {
   "cell_type": "code",
   "execution_count": 14,
   "id": "207a5f88",
   "metadata": {
    "ExecuteTime": {
     "end_time": "2022-12-21T10:15:30.470458Z",
     "start_time": "2022-12-21T10:13:07.846Z"
    }
   },
   "outputs": [
    {
     "data": {
      "text/plain": [
       "\n",
       "Call:\n",
       "lm(formula = scale(model_rdm_array) ~ scale(x))\n",
       "\n",
       "Residuals:\n",
       "    Min      1Q  Median      3Q     Max \n",
       "-1.6858 -0.5619 -0.1765  0.1540  3.1781 \n",
       "\n",
       "Coefficients:\n",
       "                               Estimate Std. Error t value Pr(>|t|)   \n",
       "(Intercept)                  -1.785e-17  7.168e-02   0.000   1.0000   \n",
       "scale(x)Lexical               2.729e-01  9.343e-02   2.921   0.0040 **\n",
       "scale(x)personality_all      -1.721e-01  8.139e-02  -2.115   0.0360 * \n",
       "scale(x)Coordinate           -1.151e-01  8.370e-02  -1.375   0.1710   \n",
       "scale(x)Climatic_demands     -6.727e-02  8.010e-02  -0.840   0.4023   \n",
       "scale(x)subsistence           5.826e-02  8.347e-02   0.698   0.4862   \n",
       "scale(x)disease               5.633e-02  8.272e-02   0.681   0.4969   \n",
       "scale(x)modern               -9.019e-02  7.811e-02  -1.155   0.2500   \n",
       "scale(x)Hofstede_6D          -1.417e-01  8.689e-02  -1.630   0.1050   \n",
       "scale(x)new_gendist_weighted -2.018e-01  9.291e-02  -2.172   0.0313 * \n",
       "scale(x)religion_per         -2.916e-02  9.826e-02  -0.297   0.7670   \n",
       "scale(x)idealogy             -1.857e-02  7.835e-02  -0.237   0.8129   \n",
       "scale(x)demographics          3.207e-02  8.271e-02   0.388   0.6987   \n",
       "---\n",
       "Signif. codes:  0 '***' 0.001 '**' 0.01 '*' 0.05 '.' 0.1 ' ' 1\n",
       "\n",
       "Residual standard error: 0.9374 on 158 degrees of freedom\n",
       "Multiple R-squared:  0.1834,\tAdjusted R-squared:  0.1213 \n",
       "F-statistic: 2.956 on 12 and 158 DF,  p-value: 0.0009701\n"
      ]
     },
     "metadata": {},
     "output_type": "display_data"
    },
    {
     "name": "stdout",
     "output_type": "stream",
     "text": [
      "[1] \"fstats: 2.9564725007009\"\n",
      "[1] \"r2stats: 0.183368292614174\"\n",
      "[1] 10000\n",
      "[1] \"permf_pvals 0.7451\"\n"
     ]
    },
    {
     "data": {
      "text/html": [
       "<table class=\"dataframe\">\n",
       "<caption>A data.frame: 1 × 12</caption>\n",
       "<thead>\n",
       "\t<tr><th scope=col>Lexical</th><th scope=col>personality_all</th><th scope=col>Coordinate</th><th scope=col>Climatic_demands</th><th scope=col>subsistence</th><th scope=col>disease</th><th scope=col>modern</th><th scope=col>Hofstede_6D</th><th scope=col>new_gendist_weighted</th><th scope=col>religion_per</th><th scope=col>idealogy</th><th scope=col>demographics</th></tr>\n",
       "\t<tr><th scope=col>&lt;dbl&gt;</th><th scope=col>&lt;dbl&gt;</th><th scope=col>&lt;dbl&gt;</th><th scope=col>&lt;dbl&gt;</th><th scope=col>&lt;dbl&gt;</th><th scope=col>&lt;dbl&gt;</th><th scope=col>&lt;dbl&gt;</th><th scope=col>&lt;dbl&gt;</th><th scope=col>&lt;dbl&gt;</th><th scope=col>&lt;dbl&gt;</th><th scope=col>&lt;dbl&gt;</th><th scope=col>&lt;dbl&gt;</th></tr>\n",
       "</thead>\n",
       "<tbody>\n",
       "\t<tr><td>0.0232</td><td>0.9069</td><td>0.7545</td><td>0.6144</td><td>0.322</td><td>0.2534</td><td>0.6395</td><td>0.7662</td><td>0.8361</td><td>0.5574</td><td>0.5427</td><td>0.3684</td></tr>\n",
       "</tbody>\n",
       "</table>\n"
      ],
      "text/latex": [
       "A data.frame: 1 × 12\n",
       "\\begin{tabular}{llllllllllll}\n",
       " Lexical & personality\\_all & Coordinate & Climatic\\_demands & subsistence & disease & modern & Hofstede\\_6D & new\\_gendist\\_weighted & religion\\_per & idealogy & demographics\\\\\n",
       " <dbl> & <dbl> & <dbl> & <dbl> & <dbl> & <dbl> & <dbl> & <dbl> & <dbl> & <dbl> & <dbl> & <dbl>\\\\\n",
       "\\hline\n",
       "\t 0.0232 & 0.9069 & 0.7545 & 0.6144 & 0.322 & 0.2534 & 0.6395 & 0.7662 & 0.8361 & 0.5574 & 0.5427 & 0.3684\\\\\n",
       "\\end{tabular}\n"
      ],
      "text/markdown": [
       "\n",
       "A data.frame: 1 × 12\n",
       "\n",
       "| Lexical &lt;dbl&gt; | personality_all &lt;dbl&gt; | Coordinate &lt;dbl&gt; | Climatic_demands &lt;dbl&gt; | subsistence &lt;dbl&gt; | disease &lt;dbl&gt; | modern &lt;dbl&gt; | Hofstede_6D &lt;dbl&gt; | new_gendist_weighted &lt;dbl&gt; | religion_per &lt;dbl&gt; | idealogy &lt;dbl&gt; | demographics &lt;dbl&gt; |\n",
       "|---|---|---|---|---|---|---|---|---|---|---|---|\n",
       "| 0.0232 | 0.9069 | 0.7545 | 0.6144 | 0.322 | 0.2534 | 0.6395 | 0.7662 | 0.8361 | 0.5574 | 0.5427 | 0.3684 |\n",
       "\n"
      ],
      "text/plain": [
       "  Lexical personality_all Coordinate Climatic_demands subsistence disease\n",
       "1 0.0232  0.9069          0.7545     0.6144           0.322       0.2534 \n",
       "  modern Hofstede_6D new_gendist_weighted religion_per idealogy demographics\n",
       "1 0.6395 0.7662      0.8361               0.5574       0.5427   0.3684      "
      ]
     },
     "metadata": {},
     "output_type": "display_data"
    }
   ],
   "source": [
    "model_rdm = read.csv('models_rdm/category_perception/Private_dissim_dist.csv',\n",
    "                    row.names =1, check.names = FALSE)\n",
    "model_rdm = model_rdm[regions_order,regions_order]\n",
    "model_rdm_array = lowerTriangle(model_rdm)\n",
    "\n",
    "x <- do.call(cbind,lapply(variables,function(x) lowerTriangle(x))) # generate permuted predictors\n",
    "colnames(x) = variables_names\n",
    "culture_regress_standard <- lm(scale(model_rdm_array)~scale(x))\n",
    "culture_regress_standard_model <- summary(culture_regress_standard)\n",
    "culture_regress_standard_model\n",
    "\n",
    "write.csv(culture_regress_standard_model$coefficients,\n",
    " file='beta/category_perception/private_33d.csv')\n",
    "private_per_regression = culture_regress_standard_model\n",
    "\n",
    "# permutation\n",
    "p_value = permutation_result(private_per_regression)\n",
    "p_value\n",
    "write.csv(p_value,'p_value/category_perception/private_33d.csv')"
   ]
  },
  {
   "cell_type": "markdown",
   "id": "ed0d5f34",
   "metadata": {},
   "source": [
    "## Sub variable rdm"
   ]
  },
  {
   "cell_type": "code",
   "execution_count": 15,
   "id": "cd7fe691",
   "metadata": {
    "ExecuteTime": {
     "end_time": "2022-12-21T10:15:30.501357Z",
     "start_time": "2022-12-21T10:13:07.873Z"
    }
   },
   "outputs": [],
   "source": [
    "# get rdms of predicators \n",
    "variables_names <- c('Lexical',# Language\n",
    "                     'personality_all',# Personality\n",
    "                     'Coordinate','Climatic_demands','subsistence','disease',# Socioecological\n",
    "                     #'modern',# Modernization\n",
    "                     'urban','wealth','edu',\n",
    "                     'Hofstede_6D',# Cultural value\n",
    "                     'new_gendist_weighted',# Gene\n",
    "                     'religion_per',#'reldist_weighted_WCD_form',# Religion\n",
    "                     'idealogy',# Political\n",
    "                     'demographics'# Demographics\n",
    "                     #'check_size'\n",
    "                    )\n",
    "\n",
    "variables <- list()\n",
    "for(i in c(1:length(variables_names))){\n",
    "  variables[[i]] = get(variables_names[i])\n",
    "}"
   ]
  },
  {
   "cell_type": "markdown",
   "id": "8fb324c3",
   "metadata": {},
   "source": [
    "### Hostile"
   ]
  },
  {
   "cell_type": "code",
   "execution_count": 16,
   "id": "fe9b3fed",
   "metadata": {
    "ExecuteTime": {
     "end_time": "2022-12-21T10:16:23.359986Z",
     "start_time": "2022-12-21T10:13:07.899Z"
    }
   },
   "outputs": [
    {
     "data": {
      "text/plain": [
       "\n",
       "Call:\n",
       "lm(formula = scale(model_rdm_array) ~ scale(x))\n",
       "\n",
       "Residuals:\n",
       "    Min      1Q  Median      3Q     Max \n",
       "-2.1398 -0.5151  0.0091  0.4344  2.4755 \n",
       "\n",
       "Coefficients:\n",
       "                               Estimate Std. Error t value Pr(>|t|)    \n",
       "(Intercept)                   1.585e-16  6.819e-02   0.000  1.00000    \n",
       "scale(x)Lexical               4.117e-01  8.968e-02   4.591 9.04e-06 ***\n",
       "scale(x)personality_all      -1.395e-02  7.948e-02  -0.175  0.86094    \n",
       "scale(x)Coordinate           -7.802e-02  8.355e-02  -0.934  0.35183    \n",
       "scale(x)Climatic_demands      1.118e-01  7.818e-02   1.429  0.15487    \n",
       "scale(x)subsistence           4.662e-02  7.996e-02   0.583  0.56074    \n",
       "scale(x)disease               3.492e-02  7.927e-02   0.440  0.66020    \n",
       "scale(x)urban                 1.953e-01  8.455e-02   2.310  0.02222 *  \n",
       "scale(x)wealth               -2.555e-02  8.381e-02  -0.305  0.76087    \n",
       "scale(x)edu                  -8.272e-03  7.654e-02  -0.108  0.91408    \n",
       "scale(x)Hofstede_6D          -1.994e-01  8.822e-02  -2.260  0.02521 *  \n",
       "scale(x)new_gendist_weighted -2.419e-01  9.019e-02  -2.683  0.00809 ** \n",
       "scale(x)religion_per         -3.415e-03  1.072e-01  -0.032  0.97462    \n",
       "scale(x)idealogy             -9.315e-02  7.604e-02  -1.225  0.22245    \n",
       "scale(x)demographics         -2.999e-02  8.179e-02  -0.367  0.71435    \n",
       "---\n",
       "Signif. codes:  0 '***' 0.001 '**' 0.01 '*' 0.05 '.' 0.1 ' ' 1\n",
       "\n",
       "Residual standard error: 0.8917 on 156 degrees of freedom\n",
       "Multiple R-squared:  0.2704,\tAdjusted R-squared:  0.2049 \n",
       "F-statistic: 4.129 on 14 and 156 DF,  p-value: 4.154e-06\n"
      ]
     },
     "metadata": {},
     "output_type": "display_data"
    },
    {
     "name": "stdout",
     "output_type": "stream",
     "text": [
      "[1] \"fstats: 4.12869316055042\"\n",
      "[1] \"r2stats: 0.27035193405539\"\n",
      "[1] 10000\n",
      "[1] \"permf_pvals 0.3188\"\n"
     ]
    },
    {
     "data": {
      "text/html": [
       "<table class=\"dataframe\">\n",
       "<caption>A data.frame: 1 × 14</caption>\n",
       "<thead>\n",
       "\t<tr><th scope=col>Lexical</th><th scope=col>personality_all</th><th scope=col>Coordinate</th><th scope=col>Climatic_demands</th><th scope=col>subsistence</th><th scope=col>disease</th><th scope=col>urban</th><th scope=col>wealth</th><th scope=col>edu</th><th scope=col>Hofstede_6D</th><th scope=col>new_gendist_weighted</th><th scope=col>religion_per</th><th scope=col>idealogy</th><th scope=col>demographics</th></tr>\n",
       "\t<tr><th scope=col>&lt;dbl&gt;</th><th scope=col>&lt;dbl&gt;</th><th scope=col>&lt;dbl&gt;</th><th scope=col>&lt;dbl&gt;</th><th scope=col>&lt;dbl&gt;</th><th scope=col>&lt;dbl&gt;</th><th scope=col>&lt;dbl&gt;</th><th scope=col>&lt;dbl&gt;</th><th scope=col>&lt;dbl&gt;</th><th scope=col>&lt;dbl&gt;</th><th scope=col>&lt;dbl&gt;</th><th scope=col>&lt;dbl&gt;</th><th scope=col>&lt;dbl&gt;</th><th scope=col>&lt;dbl&gt;</th></tr>\n",
       "</thead>\n",
       "<tbody>\n",
       "\t<tr><td>7e-04</td><td>0.4829</td><td>0.695</td><td>0.2269</td><td>0.3513</td><td>0.3484</td><td>0.119</td><td>0.5456</td><td>0.4814</td><td>0.8951</td><td>0.8938</td><td>0.497</td><td>0.7679</td><td>0.5702</td></tr>\n",
       "</tbody>\n",
       "</table>\n"
      ],
      "text/latex": [
       "A data.frame: 1 × 14\n",
       "\\begin{tabular}{llllllllllllll}\n",
       " Lexical & personality\\_all & Coordinate & Climatic\\_demands & subsistence & disease & urban & wealth & edu & Hofstede\\_6D & new\\_gendist\\_weighted & religion\\_per & idealogy & demographics\\\\\n",
       " <dbl> & <dbl> & <dbl> & <dbl> & <dbl> & <dbl> & <dbl> & <dbl> & <dbl> & <dbl> & <dbl> & <dbl> & <dbl> & <dbl>\\\\\n",
       "\\hline\n",
       "\t 7e-04 & 0.4829 & 0.695 & 0.2269 & 0.3513 & 0.3484 & 0.119 & 0.5456 & 0.4814 & 0.8951 & 0.8938 & 0.497 & 0.7679 & 0.5702\\\\\n",
       "\\end{tabular}\n"
      ],
      "text/markdown": [
       "\n",
       "A data.frame: 1 × 14\n",
       "\n",
       "| Lexical &lt;dbl&gt; | personality_all &lt;dbl&gt; | Coordinate &lt;dbl&gt; | Climatic_demands &lt;dbl&gt; | subsistence &lt;dbl&gt; | disease &lt;dbl&gt; | urban &lt;dbl&gt; | wealth &lt;dbl&gt; | edu &lt;dbl&gt; | Hofstede_6D &lt;dbl&gt; | new_gendist_weighted &lt;dbl&gt; | religion_per &lt;dbl&gt; | idealogy &lt;dbl&gt; | demographics &lt;dbl&gt; |\n",
       "|---|---|---|---|---|---|---|---|---|---|---|---|---|---|\n",
       "| 7e-04 | 0.4829 | 0.695 | 0.2269 | 0.3513 | 0.3484 | 0.119 | 0.5456 | 0.4814 | 0.8951 | 0.8938 | 0.497 | 0.7679 | 0.5702 |\n",
       "\n"
      ],
      "text/plain": [
       "  Lexical personality_all Coordinate Climatic_demands subsistence disease urban\n",
       "1 7e-04   0.4829          0.695      0.2269           0.3513      0.3484  0.119\n",
       "  wealth edu    Hofstede_6D new_gendist_weighted religion_per idealogy\n",
       "1 0.5456 0.4814 0.8951      0.8938               0.497        0.7679  \n",
       "  demographics\n",
       "1 0.5702      "
      ]
     },
     "metadata": {},
     "output_type": "display_data"
    }
   ],
   "source": [
    "model_rdm = read.csv('models_rdm/category_perception/Hostile_dissim_dist.csv',\n",
    "                    row.names =1, check.names = FALSE)\n",
    "model_rdm = model_rdm[regions_order,regions_order]\n",
    "model_rdm_array = lowerTriangle(model_rdm)\n",
    "\n",
    "x <- do.call(cbind,lapply(variables,function(x) lowerTriangle(x))) # generate permuted predictors\n",
    "colnames(x) = variables_names\n",
    "culture_regress_standard <- lm(scale(model_rdm_array)~scale(x))\n",
    "culture_regress_standard_model <- summary(culture_regress_standard)\n",
    "culture_regress_standard_model\n",
    "\n",
    "write.csv(culture_regress_standard_model$coefficients,\n",
    " file='beta_sub/category_perception/hostile_33d.csv')\n",
    "hostile_per_regression = culture_regress_standard_model\n",
    "\n",
    "# permutation\n",
    "p_value = permutation_result(hostile_per_regression)\n",
    "p_value\n",
    "write.csv(p_value,'p_value_sub/category_perception/hostile_33d.csv')"
   ]
  },
  {
   "cell_type": "markdown",
   "id": "0e790230",
   "metadata": {},
   "source": [
    "### Public"
   ]
  },
  {
   "cell_type": "code",
   "execution_count": 17,
   "id": "ba33384f",
   "metadata": {
    "ExecuteTime": {
     "end_time": "2022-12-21T10:17:13.921109Z",
     "start_time": "2022-12-21T10:13:07.915Z"
    }
   },
   "outputs": [
    {
     "data": {
      "text/plain": [
       "\n",
       "Call:\n",
       "lm(formula = scale(model_rdm_array) ~ scale(x))\n",
       "\n",
       "Residuals:\n",
       "    Min      1Q  Median      3Q     Max \n",
       "-1.7856 -0.5457 -0.2101  0.1426  3.1040 \n",
       "\n",
       "Coefficients:\n",
       "                               Estimate Std. Error t value Pr(>|t|)    \n",
       "(Intercept)                   2.071e-17  7.346e-02   0.000 1.000000    \n",
       "scale(x)Lexical               3.641e-01  9.662e-02   3.768 0.000233 ***\n",
       "scale(x)personality_all      -1.407e-01  8.563e-02  -1.643 0.102464    \n",
       "scale(x)Coordinate           -6.987e-02  9.001e-02  -0.776 0.438789    \n",
       "scale(x)Climatic_demands      8.301e-02  8.422e-02   0.986 0.325833    \n",
       "scale(x)subsistence           3.815e-02  8.615e-02   0.443 0.658464    \n",
       "scale(x)disease              -1.665e-03  8.540e-02  -0.020 0.984466    \n",
       "scale(x)urban                 5.925e-02  9.109e-02   0.650 0.516344    \n",
       "scale(x)wealth                3.918e-02  9.029e-02   0.434 0.664962    \n",
       "scale(x)edu                  -1.048e-01  8.246e-02  -1.270 0.205829    \n",
       "scale(x)Hofstede_6D          -2.238e-01  9.504e-02  -2.355 0.019753 *  \n",
       "scale(x)new_gendist_weighted -1.292e-01  9.717e-02  -1.330 0.185592    \n",
       "scale(x)religion_per         -1.079e-01  1.155e-01  -0.935 0.351333    \n",
       "scale(x)idealogy             -3.939e-02  8.193e-02  -0.481 0.631335    \n",
       "scale(x)demographics         -3.344e-03  8.812e-02  -0.038 0.969781    \n",
       "---\n",
       "Signif. codes:  0 '***' 0.001 '**' 0.01 '*' 0.05 '.' 0.1 ' ' 1\n",
       "\n",
       "Residual standard error: 0.9607 on 156 degrees of freedom\n",
       "Multiple R-squared:  0.1531,\tAdjusted R-squared:  0.0771 \n",
       "F-statistic: 2.014 on 14 and 156 DF,  p-value: 0.01985\n"
      ]
     },
     "metadata": {},
     "output_type": "display_data"
    },
    {
     "name": "stdout",
     "output_type": "stream",
     "text": [
      "[1] \"fstats: 2.01440340797413\"\n",
      "[1] \"r2stats: 0.153102038239021\"\n",
      "[1] 10000\n",
      "[1] \"permf_pvals 0.9131\"\n"
     ]
    },
    {
     "data": {
      "text/html": [
       "<table class=\"dataframe\">\n",
       "<caption>A data.frame: 1 × 14</caption>\n",
       "<thead>\n",
       "\t<tr><th scope=col>Lexical</th><th scope=col>personality_all</th><th scope=col>Coordinate</th><th scope=col>Climatic_demands</th><th scope=col>subsistence</th><th scope=col>disease</th><th scope=col>urban</th><th scope=col>wealth</th><th scope=col>edu</th><th scope=col>Hofstede_6D</th><th scope=col>new_gendist_weighted</th><th scope=col>religion_per</th><th scope=col>idealogy</th><th scope=col>demographics</th></tr>\n",
       "\t<tr><th scope=col>&lt;dbl&gt;</th><th scope=col>&lt;dbl&gt;</th><th scope=col>&lt;dbl&gt;</th><th scope=col>&lt;dbl&gt;</th><th scope=col>&lt;dbl&gt;</th><th scope=col>&lt;dbl&gt;</th><th scope=col>&lt;dbl&gt;</th><th scope=col>&lt;dbl&gt;</th><th scope=col>&lt;dbl&gt;</th><th scope=col>&lt;dbl&gt;</th><th scope=col>&lt;dbl&gt;</th><th scope=col>&lt;dbl&gt;</th><th scope=col>&lt;dbl&gt;</th><th scope=col>&lt;dbl&gt;</th></tr>\n",
       "</thead>\n",
       "<tbody>\n",
       "\t<tr><td>0.0013</td><td>0.8371</td><td>0.6388</td><td>0.2216</td><td>0.3464</td><td>0.5182</td><td>0.2392</td><td>0.3056</td><td>0.761</td><td>0.8953</td><td>0.6841</td><td>0.736</td><td>0.5851</td><td>0.4638</td></tr>\n",
       "</tbody>\n",
       "</table>\n"
      ],
      "text/latex": [
       "A data.frame: 1 × 14\n",
       "\\begin{tabular}{llllllllllllll}\n",
       " Lexical & personality\\_all & Coordinate & Climatic\\_demands & subsistence & disease & urban & wealth & edu & Hofstede\\_6D & new\\_gendist\\_weighted & religion\\_per & idealogy & demographics\\\\\n",
       " <dbl> & <dbl> & <dbl> & <dbl> & <dbl> & <dbl> & <dbl> & <dbl> & <dbl> & <dbl> & <dbl> & <dbl> & <dbl> & <dbl>\\\\\n",
       "\\hline\n",
       "\t 0.0013 & 0.8371 & 0.6388 & 0.2216 & 0.3464 & 0.5182 & 0.2392 & 0.3056 & 0.761 & 0.8953 & 0.6841 & 0.736 & 0.5851 & 0.4638\\\\\n",
       "\\end{tabular}\n"
      ],
      "text/markdown": [
       "\n",
       "A data.frame: 1 × 14\n",
       "\n",
       "| Lexical &lt;dbl&gt; | personality_all &lt;dbl&gt; | Coordinate &lt;dbl&gt; | Climatic_demands &lt;dbl&gt; | subsistence &lt;dbl&gt; | disease &lt;dbl&gt; | urban &lt;dbl&gt; | wealth &lt;dbl&gt; | edu &lt;dbl&gt; | Hofstede_6D &lt;dbl&gt; | new_gendist_weighted &lt;dbl&gt; | religion_per &lt;dbl&gt; | idealogy &lt;dbl&gt; | demographics &lt;dbl&gt; |\n",
       "|---|---|---|---|---|---|---|---|---|---|---|---|---|---|\n",
       "| 0.0013 | 0.8371 | 0.6388 | 0.2216 | 0.3464 | 0.5182 | 0.2392 | 0.3056 | 0.761 | 0.8953 | 0.6841 | 0.736 | 0.5851 | 0.4638 |\n",
       "\n"
      ],
      "text/plain": [
       "  Lexical personality_all Coordinate Climatic_demands subsistence disease\n",
       "1 0.0013  0.8371          0.6388     0.2216           0.3464      0.5182 \n",
       "  urban  wealth edu   Hofstede_6D new_gendist_weighted religion_per idealogy\n",
       "1 0.2392 0.3056 0.761 0.8953      0.6841               0.736        0.5851  \n",
       "  demographics\n",
       "1 0.4638      "
      ]
     },
     "metadata": {},
     "output_type": "display_data"
    }
   ],
   "source": [
    "model_rdm = read.csv('models_rdm/category_perception/Public_dissim_dist.csv',\n",
    "                    row.names =1, check.names = FALSE)\n",
    "model_rdm = model_rdm[regions_order,regions_order]\n",
    "model_rdm_array = lowerTriangle(model_rdm)\n",
    "\n",
    "x <- do.call(cbind,lapply(variables,function(x) lowerTriangle(x))) # generate permuted predictors\n",
    "colnames(x) = variables_names\n",
    "culture_regress_standard <- lm(scale(model_rdm_array)~scale(x))\n",
    "culture_regress_standard_model <- summary(culture_regress_standard)\n",
    "culture_regress_standard_model\n",
    "\n",
    "write.csv(culture_regress_standard_model$coefficients,\n",
    " file='beta_sub/category_perception/public_33d.csv')\n",
    "public_per_regression = culture_regress_standard_model\n",
    "\n",
    "# permutation\n",
    "p_value = permutation_result(public_per_regression)\n",
    "p_value\n",
    "write.csv(p_value,'p_value_sub/category_perception/public_33d.csv')"
   ]
  },
  {
   "cell_type": "markdown",
   "id": "3d614d13",
   "metadata": {},
   "source": [
    "### Private"
   ]
  },
  {
   "cell_type": "code",
   "execution_count": 18,
   "id": "e0c2b45f",
   "metadata": {
    "ExecuteTime": {
     "end_time": "2022-12-21T10:18:03.955113Z",
     "start_time": "2022-12-21T10:13:07.935Z"
    }
   },
   "outputs": [
    {
     "data": {
      "text/plain": [
       "\n",
       "Call:\n",
       "lm(formula = scale(model_rdm_array) ~ scale(x))\n",
       "\n",
       "Residuals:\n",
       "    Min      1Q  Median      3Q     Max \n",
       "-1.5601 -0.5264 -0.1897  0.1463  3.1730 \n",
       "\n",
       "Coefficients:\n",
       "                               Estimate Std. Error t value Pr(>|t|)   \n",
       "(Intercept)                   8.451e-18  7.151e-02   0.000  1.00000   \n",
       "scale(x)Lexical               3.109e-01  9.405e-02   3.305  0.00118 **\n",
       "scale(x)personality_all      -2.050e-01  8.336e-02  -2.460  0.01499 * \n",
       "scale(x)Coordinate           -9.075e-02  8.762e-02  -1.036  0.30192   \n",
       "scale(x)Climatic_demands     -3.133e-02  8.199e-02  -0.382  0.70286   \n",
       "scale(x)subsistence           7.309e-02  8.386e-02   0.872  0.38475   \n",
       "scale(x)disease               4.095e-02  8.313e-02   0.493  0.62295   \n",
       "scale(x)urban                 6.537e-02  8.867e-02   0.737  0.46207   \n",
       "scale(x)wealth                1.700e-02  8.789e-02   0.193  0.84687   \n",
       "scale(x)edu                  -1.553e-01  8.027e-02  -1.935  0.05479 . \n",
       "scale(x)Hofstede_6D          -1.774e-01  9.251e-02  -1.918  0.05694 . \n",
       "scale(x)new_gendist_weighted -2.033e-01  9.458e-02  -2.150  0.03310 * \n",
       "scale(x)religion_per         -7.593e-02  1.124e-01  -0.676  0.50032   \n",
       "scale(x)idealogy             -2.444e-03  7.975e-02  -0.031  0.97559   \n",
       "scale(x)demographics          2.853e-02  8.578e-02   0.333  0.73990   \n",
       "---\n",
       "Signif. codes:  0 '***' 0.001 '**' 0.01 '*' 0.05 '.' 0.1 ' ' 1\n",
       "\n",
       "Residual standard error: 0.9351 on 156 degrees of freedom\n",
       "Multiple R-squared:  0.1975,\tAdjusted R-squared:  0.1255 \n",
       "F-statistic: 2.743 on 14 and 156 DF,  p-value: 0.001193\n"
      ]
     },
     "metadata": {},
     "output_type": "display_data"
    },
    {
     "name": "stdout",
     "output_type": "stream",
     "text": [
      "[1] \"fstats: 2.74257518452171\"\n",
      "[1] \"r2stats: 0.197514569216112\"\n",
      "[1] 10000\n",
      "[1] \"permf_pvals 0.7933\"\n"
     ]
    },
    {
     "data": {
      "text/html": [
       "<table class=\"dataframe\">\n",
       "<caption>A data.frame: 1 × 14</caption>\n",
       "<thead>\n",
       "\t<tr><th scope=col>Lexical</th><th scope=col>personality_all</th><th scope=col>Coordinate</th><th scope=col>Climatic_demands</th><th scope=col>subsistence</th><th scope=col>disease</th><th scope=col>urban</th><th scope=col>wealth</th><th scope=col>edu</th><th scope=col>Hofstede_6D</th><th scope=col>new_gendist_weighted</th><th scope=col>religion_per</th><th scope=col>idealogy</th><th scope=col>demographics</th></tr>\n",
       "\t<tr><th scope=col>&lt;dbl&gt;</th><th scope=col>&lt;dbl&gt;</th><th scope=col>&lt;dbl&gt;</th><th scope=col>&lt;dbl&gt;</th><th scope=col>&lt;dbl&gt;</th><th scope=col>&lt;dbl&gt;</th><th scope=col>&lt;dbl&gt;</th><th scope=col>&lt;dbl&gt;</th><th scope=col>&lt;dbl&gt;</th><th scope=col>&lt;dbl&gt;</th><th scope=col>&lt;dbl&gt;</th><th scope=col>&lt;dbl&gt;</th><th scope=col>&lt;dbl&gt;</th><th scope=col>&lt;dbl&gt;</th></tr>\n",
       "</thead>\n",
       "<tbody>\n",
       "\t<tr><td>0.0148</td><td>0.9595</td><td>0.7018</td><td>0.4701</td><td>0.2859</td><td>0.2999</td><td>0.2406</td><td>0.3746</td><td>0.892</td><td>0.8225</td><td>0.8492</td><td>0.6729</td><td>0.4663</td><td>0.3759</td></tr>\n",
       "</tbody>\n",
       "</table>\n"
      ],
      "text/latex": [
       "A data.frame: 1 × 14\n",
       "\\begin{tabular}{llllllllllllll}\n",
       " Lexical & personality\\_all & Coordinate & Climatic\\_demands & subsistence & disease & urban & wealth & edu & Hofstede\\_6D & new\\_gendist\\_weighted & religion\\_per & idealogy & demographics\\\\\n",
       " <dbl> & <dbl> & <dbl> & <dbl> & <dbl> & <dbl> & <dbl> & <dbl> & <dbl> & <dbl> & <dbl> & <dbl> & <dbl> & <dbl>\\\\\n",
       "\\hline\n",
       "\t 0.0148 & 0.9595 & 0.7018 & 0.4701 & 0.2859 & 0.2999 & 0.2406 & 0.3746 & 0.892 & 0.8225 & 0.8492 & 0.6729 & 0.4663 & 0.3759\\\\\n",
       "\\end{tabular}\n"
      ],
      "text/markdown": [
       "\n",
       "A data.frame: 1 × 14\n",
       "\n",
       "| Lexical &lt;dbl&gt; | personality_all &lt;dbl&gt; | Coordinate &lt;dbl&gt; | Climatic_demands &lt;dbl&gt; | subsistence &lt;dbl&gt; | disease &lt;dbl&gt; | urban &lt;dbl&gt; | wealth &lt;dbl&gt; | edu &lt;dbl&gt; | Hofstede_6D &lt;dbl&gt; | new_gendist_weighted &lt;dbl&gt; | religion_per &lt;dbl&gt; | idealogy &lt;dbl&gt; | demographics &lt;dbl&gt; |\n",
       "|---|---|---|---|---|---|---|---|---|---|---|---|---|---|\n",
       "| 0.0148 | 0.9595 | 0.7018 | 0.4701 | 0.2859 | 0.2999 | 0.2406 | 0.3746 | 0.892 | 0.8225 | 0.8492 | 0.6729 | 0.4663 | 0.3759 |\n",
       "\n"
      ],
      "text/plain": [
       "  Lexical personality_all Coordinate Climatic_demands subsistence disease\n",
       "1 0.0148  0.9595          0.7018     0.4701           0.2859      0.2999 \n",
       "  urban  wealth edu   Hofstede_6D new_gendist_weighted religion_per idealogy\n",
       "1 0.2406 0.3746 0.892 0.8225      0.8492               0.6729       0.4663  \n",
       "  demographics\n",
       "1 0.3759      "
      ]
     },
     "metadata": {},
     "output_type": "display_data"
    }
   ],
   "source": [
    "model_rdm = read.csv('models_rdm/category_perception/Private_dissim_dist.csv',\n",
    "                    row.names =1, check.names = FALSE)\n",
    "model_rdm = model_rdm[regions_order,regions_order]\n",
    "model_rdm_array = lowerTriangle(model_rdm)\n",
    "\n",
    "x <- do.call(cbind,lapply(variables,function(x) lowerTriangle(x))) # generate permuted predictors\n",
    "colnames(x) = variables_names\n",
    "culture_regress_standard <- lm(scale(model_rdm_array)~scale(x))\n",
    "culture_regress_standard_model <- summary(culture_regress_standard)\n",
    "culture_regress_standard_model\n",
    "\n",
    "write.csv(culture_regress_standard_model$coefficients,\n",
    " file='beta_sub/category_perception/private_33d.csv')\n",
    "private_per_regression = culture_regress_standard_model\n",
    "\n",
    "# permutation\n",
    "p_value = permutation_result(private_per_regression)\n",
    "p_value\n",
    "write.csv(p_value,'p_value_sub/category_perception/private_33d.csv')"
   ]
  }
 ],
 "metadata": {
  "kernelspec": {
   "display_name": "R",
   "language": "R",
   "name": "ir"
  },
  "language_info": {
   "codemirror_mode": "r",
   "file_extension": ".r",
   "mimetype": "text/x-r-source",
   "name": "R",
   "pygments_lexer": "r",
   "version": "4.1.2"
  },
  "toc": {
   "base_numbering": 1,
   "nav_menu": {},
   "number_sections": true,
   "sideBar": true,
   "skip_h1_title": false,
   "title_cell": "Table of Contents",
   "title_sidebar": "Contents",
   "toc_cell": false,
   "toc_position": {},
   "toc_section_display": true,
   "toc_window_display": true
  },
  "varInspector": {
   "cols": {
    "lenName": 16,
    "lenType": 16,
    "lenVar": 40
   },
   "kernels_config": {
    "python": {
     "delete_cmd_postfix": "",
     "delete_cmd_prefix": "del ",
     "library": "var_list.py",
     "varRefreshCmd": "print(var_dic_list())"
    },
    "r": {
     "delete_cmd_postfix": ") ",
     "delete_cmd_prefix": "rm(",
     "library": "var_list.r",
     "varRefreshCmd": "cat(var_dic_list()) "
    }
   },
   "types_to_exclude": [
    "module",
    "function",
    "builtin_function_or_method",
    "instance",
    "_Feature"
   ],
   "window_display": false
  }
 },
 "nbformat": 4,
 "nbformat_minor": 5
}
