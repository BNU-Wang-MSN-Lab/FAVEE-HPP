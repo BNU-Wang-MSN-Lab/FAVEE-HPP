{
 "cells": [
  {
   "cell_type": "code",
   "execution_count": 1,
   "id": "b4f82d91",
   "metadata": {
    "ExecuteTime": {
     "end_time": "2023-01-09T12:49:28.678271Z",
     "start_time": "2023-01-09T12:49:28.643Z"
    },
    "scrolled": true,
    "vscode": {
     "languageId": "r"
    }
   },
   "outputs": [
    {
     "name": "stderr",
     "output_type": "stream",
     "text": [
      "Loading required package: ggplot2\n",
      "\n",
      "Welcome! Want to learn more? See two factoextra-related books at https://goo.gl/ve3WBa\n",
      "\n",
      "\n",
      "Attaching package: 'psych'\n",
      "\n",
      "\n",
      "The following objects are masked from 'package:ggplot2':\n",
      "\n",
      "    %+%, alpha\n",
      "\n",
      "\n",
      "── \u001b[1mAttaching core tidyverse packages\u001b[22m ──────────────────────── tidyverse 2.0.0 ──\n",
      "\u001b[32m✔\u001b[39m \u001b[34mdplyr    \u001b[39m 1.1.4     \u001b[32m✔\u001b[39m \u001b[34mreadr    \u001b[39m 2.1.5\n",
      "\u001b[32m✔\u001b[39m \u001b[34mforcats  \u001b[39m 1.0.0     \u001b[32m✔\u001b[39m \u001b[34mstringr  \u001b[39m 1.5.1\n",
      "\u001b[32m✔\u001b[39m \u001b[34mlubridate\u001b[39m 1.9.3     \u001b[32m✔\u001b[39m \u001b[34mtibble   \u001b[39m 3.2.1\n",
      "\u001b[32m✔\u001b[39m \u001b[34mpurrr    \u001b[39m 1.0.2     \u001b[32m✔\u001b[39m \u001b[34mtidyr    \u001b[39m 1.3.1\n",
      "── \u001b[1mConflicts\u001b[22m ────────────────────────────────────────── tidyverse_conflicts() ──\n",
      "\u001b[31m✖\u001b[39m \u001b[34mpsych\u001b[39m::\u001b[32m%+%()\u001b[39m    masks \u001b[34mggplot2\u001b[39m::%+%()\n",
      "\u001b[31m✖\u001b[39m \u001b[34mpsych\u001b[39m::\u001b[32malpha()\u001b[39m  masks \u001b[34mggplot2\u001b[39m::alpha()\n",
      "\u001b[31m✖\u001b[39m \u001b[34mdplyr\u001b[39m::\u001b[32mfilter()\u001b[39m masks \u001b[34mstats\u001b[39m::filter()\n",
      "\u001b[31m✖\u001b[39m \u001b[34mdplyr\u001b[39m::\u001b[32mlag()\u001b[39m    masks \u001b[34mstats\u001b[39m::lag()\n",
      "\u001b[36mℹ\u001b[39m Use the conflicted package (\u001b[3m\u001b[34m<http://conflicted.r-lib.org/>\u001b[39m\u001b[23m) to force all conflicts to become errors\n",
      "\n",
      "Attaching package: 'reshape'\n",
      "\n",
      "\n",
      "The following object is masked from 'package:lubridate':\n",
      "\n",
      "    stamp\n",
      "\n",
      "\n",
      "The following object is masked from 'package:dplyr':\n",
      "\n",
      "    rename\n",
      "\n",
      "\n",
      "The following objects are masked from 'package:tidyr':\n",
      "\n",
      "    expand, smiths\n",
      "\n",
      "\n",
      "\n",
      "Attaching package: 'reshape2'\n",
      "\n",
      "\n",
      "The following objects are masked from 'package:reshape':\n",
      "\n",
      "    colsplit, melt, recast\n",
      "\n",
      "\n",
      "The following object is masked from 'package:tidyr':\n",
      "\n",
      "    smiths\n",
      "\n",
      "\n",
      "------------------------------------------------------------------------------\n",
      "\n",
      "You have loaded plyr after dplyr - this is likely to cause problems.\n",
      "If you need functions from both plyr and dplyr, please load plyr first, then dplyr:\n",
      "library(plyr); library(dplyr)\n",
      "\n",
      "------------------------------------------------------------------------------\n",
      "\n",
      "\n",
      "Attaching package: 'plyr'\n",
      "\n",
      "\n",
      "The following objects are masked from 'package:reshape':\n",
      "\n",
      "    rename, round_any\n",
      "\n",
      "\n",
      "The following objects are masked from 'package:dplyr':\n",
      "\n",
      "    arrange, count, desc, failwith, id, mutate, rename, summarise,\n",
      "    summarize\n",
      "\n",
      "\n",
      "The following object is masked from 'package:purrr':\n",
      "\n",
      "    compact\n",
      "\n",
      "\n",
      "Loading required package: lattice\n",
      "\n",
      "Registering fonts with R\n",
      "\n",
      "Loading required package: zoo\n",
      "\n",
      "\n",
      "Attaching package: 'zoo'\n",
      "\n",
      "\n",
      "The following objects are masked from 'package:base':\n",
      "\n",
      "    as.Date, as.Date.numeric\n",
      "\n",
      "\n",
      "\n",
      "Attaching package: 'ggpubr'\n",
      "\n",
      "\n",
      "The following object is masked from 'package:plyr':\n",
      "\n",
      "    mutate\n",
      "\n",
      "\n",
      "\n",
      "Attaching package: 'boot'\n",
      "\n",
      "\n",
      "The following object is masked from 'package:lattice':\n",
      "\n",
      "    melanoma\n",
      "\n",
      "\n",
      "The following object is masked from 'package:psych':\n",
      "\n",
      "    logit\n",
      "\n",
      "\n"
     ]
    }
   ],
   "source": [
    "library(FactoMineR)\n",
    "library(factoextra)#fviz_eig\n",
    "library(psych)\n",
    "\n",
    "library(ggplot2)\n",
    "library(pheatmap)\n",
    "library(RColorBrewer)\n",
    "\n",
    "library(tidyverse)\n",
    "library(reshape)#melt\n",
    "\n",
    "library(reshape2)\n",
    "library(repr)\n",
    "library(plyr)\n",
    "library(Rmisc)\n",
    "library(extrafont)\n",
    "library(ggthemes)\n",
    "\n",
    "library(lmtest)\n",
    "\n",
    "library(ggpubr)\n",
    "\n",
    "library(boot)"
   ]
  },
  {
   "cell_type": "markdown",
   "id": "2a16a51e",
   "metadata": {},
   "source": [
    "# Define Model"
   ]
  },
  {
   "cell_type": "code",
   "execution_count": 2,
   "id": "7222af2f",
   "metadata": {
    "vscode": {
     "languageId": "r"
    }
   },
   "outputs": [],
   "source": [
    "#define the model name\n",
    "models <- c('FAVEE_model','Wish_1976_model','Triandis_1968_model','Marwell_1970_model',\n",
    "            'Osgood_1957_model','Fiske_1992_model','Clark_2011_model','Carpendale_2004_model',\n",
    "            'Foa_2012_model','Bugental_2000_model','Goffman_1959_model','Hamilton_1981_model',\n",
    "            'Burton_1975_model','Montgomery_1988_model','Rands_1979_model','Weiss_1998_model')\n",
    "\n",
    "# define the model\n",
    "FAVEE_model <- c(\"Formality.and.Regulation\",\"Activeness\",\"Valence.Evaluation\",\"Goods.Exchange\",\"Equality\")\n",
    "Wish_1976_model <- c(\"Formality.and.Regulation\",\"Equality\",\"Valence.Evaluation\",\"Activity.Intensity\")\n",
    "Triandis_1968_model <- c(\"Valence.Evaluation\",\"Equality\",\"Intimacy\") \n",
    "Marwell_1970_model <- c(\"Visibility\",\"Formality.and.Regulation\",\"Intimacy\")\n",
    "Osgood_1957_model <- c(\"Valence.Evaluation\",\"Equality\",\"Activity.Intensity\")\n",
    "Fiske_1992_model <- c(\"Communal.Sharing\",\"Equality\",\"Strategic\",\"Expected.Reciprocity\")\n",
    "Clark_2011_model <- c(\"Communal.Sharing\",\"Strategic\",\"Expected.Reciprocity\")\n",
    "Carpendale_2004_model <- c(\"Importance.for.individuals\",\"Importance.for.society\")\n",
    "Foa_2012_model <- c(\"Concreteness\",\"Uniqueness\")\n",
    "Bugental_2000_model <- c(\"Attachment\",\"Affiliation.Coalition\",\"Mating\",\"Expected.Reciprocity\",\"Equality\")\n",
    "Goffman_1959_model <- c(\"Valence.Evaluation\",\"Affiliation.Coalition\",\"Conflict\",\"Negotiation\",\"Coercion\")\n",
    "Hamilton_1981_model <- c(\"Valence.Evaluation\",\"Equality\")\n",
    "Burton_1975_model <- c(\"Valence.Evaluation\",\"Equality\",\"Occupational\")\n",
    "Montgomery_1988_model <- c(\"Valence.Evaluation\",\"Equality\",\"Intimacy\")\n",
    "Rands_1979_model <- c(\"Formality.and.Regulation\",\"Socioemotional\")\n",
    "Weiss_1998_model <- c(\"Attachment\",\"Affiliation.Coalition\")"
   ]
  },
  {
   "cell_type": "markdown",
   "id": "63a345b7",
   "metadata": {},
   "source": [
    "# Model Compare Function"
   ]
  },
  {
   "cell_type": "code",
   "execution_count": 3,
   "id": "8348a715",
   "metadata": {
    "vscode": {
     "languageId": "r"
    }
   },
   "outputs": [],
   "source": [
    "model_compare <- function(model1,model2){\n",
    "    data_regression <- data[-which(names(data) %in% c(model1,model2))]\n",
    "    \n",
    "    AdjR_model1 <- c()\n",
    "    AdjR_model2 <- c()\n",
    "    BIC_model1 <- c()\n",
    "    BIC_model2 <- c()\n",
    "    R_squared_change_Fvalue <- c()\n",
    "    coxtest_z <- c()\n",
    "    \n",
    "    for (trait in c(1:ncol(data_regression))) {\n",
    "        # Extract each trait to be used as dependent variable in our modeling\n",
    "        y = data_regression[,trait]\n",
    "        \n",
    "        # Model comparison in model 1\n",
    "        f_model1 <- as.formula(paste(\"y ~ \", paste(model1, collapse = \"+\")))\n",
    "        lm_model1 = lm(f_model1, data = data) # Modeling\n",
    "        AdjR_model1 <- c(AdjR_model1, summary(lm_model1)$adj.r.squared) # Extract each model's index and append it to the dependent variables' lists\n",
    "        BIC_model1 <- c(BIC_model1, BIC(lm_model1))\n",
    "        \n",
    "        # model comparison in model 2\n",
    "        f_model2 <- as.formula(paste(\"y ~ \", paste(model2, collapse = \"+\")))\n",
    "        lm_model2 = lm(f_model2, data = data) # Modeling\n",
    "        AdjR_model2 <- c(AdjR_model2, summary(lm_model2)$adj.r.squared) # Extract each model's index and append it to the dependent variables' lists\n",
    "        BIC_model2 <- c(BIC_model2, BIC(lm_model2))\n",
    "\n",
    "        R_anova <- anova(lm_model1, lm_model2)$F[2]\n",
    "\n",
    "        coxtest_z <- c(coxtest_z, coxtest(lm_model1,lm_model2)[2,3])\n",
    "\n",
    "        if(!is.na(R_anova)){\n",
    "            R_squared_change_Fvalue <- c(R_squared_change_Fvalue, R_anova)\n",
    "        }else{\n",
    "            R_squared_change_Fvalue <- c(R_squared_change_Fvalue, -anova(lm_model2, lm_model1)$F[2])\n",
    "        }\n",
    "        \n",
    "    }\n",
    "    \n",
    "    R_squared_change_Fvalue <- ifelse(is.na(R_squared_change_Fvalue), 0, R_squared_change_Fvalue)\n",
    "    \n",
    "    res_model1 <- c(mean(AdjR_model1),mean(BIC_model1),mean(R_squared_change_Fvalue),mean(coxtest_z))\n",
    "    res_model2 <- c(mean(AdjR_model2),mean(BIC_model2),mean(R_squared_change_Fvalue),mean(coxtest_z))\n",
    "    res_list <- list(res_model1,res_model2)\n",
    "    \n",
    "    return(res_list)\n",
    "}"
   ]
  },
  {
   "cell_type": "markdown",
   "id": "95783012",
   "metadata": {},
   "source": [
    "# Do model comparison"
   ]
  },
  {
   "cell_type": "code",
   "execution_count": 4,
   "id": "cd54d7a0",
   "metadata": {
    "vscode": {
     "languageId": "r"
    }
   },
   "outputs": [],
   "source": [
    "region_list <- c('Australia', 'Brazil', 'Chile', 'CHN', 'Egypt', 'France', 'Germany', 'HK', 'India', 'Israel', 'Japan', 'Mexico', 'Portugal', 'Qatar', 'Russia', 'South_africa', 'Spain', 'UK', 'USA')\n",
    "model_rank_regions <- data.frame(region=character(), Model=character(), Rank=numeric(), Coxtext_Z=numeric())\n",
    "model_rank_res <- data.frame(Region = character(), Model = character(), AdjR = numeric(), BIC = numeric())\n",
    "\n",
    "for(region_index in c(1:length(region_list))){\n",
    "    model_rank_res_temp <- data.frame(Region = character(), Model = character(), AdjR = numeric(), BIC = numeric())\n",
    "    region <- region_list[region_index]\n",
    "    data <- read.csv(file =  paste0(\"output_data/cleaning_results/\", region, \"/\", region, \"_dim_rel_scaled.csv\"), header = TRUE, stringsAsFactors = FALSE,row.names = 1)\n",
    "    \n",
    "    for(i in c(1:length(models))){\n",
    "\n",
    "        data_regression <- data[-which(names(data) %in% get(c(models[i])))]\n",
    "\n",
    "        AdjR_model <- c()\n",
    "        BIC_model <- c()\n",
    "\n",
    "        for (trait in c(1:ncol(data_regression))) {\n",
    "            # Extract each trait to be used as dependent variable in our modeling\n",
    "            y = data_regression[,trait]\n",
    "            \n",
    "            # Model comparison in model 1\n",
    "            f_model <- as.formula(paste(\"y ~ \", paste(get(c(models[i])), collapse = \"+\")))\n",
    "            lm_model = lm(f_model, data = data) # Modeling\n",
    "            AdjR_model <- c(AdjR_model, summary(lm_model)$adj.r.squared) # Extract each model's index and append it to the dependent variables' lists\n",
    "            BIC_model <- c(BIC_model, BIC(lm_model))  \n",
    "        }\n",
    "\n",
    "        model_rank_res_temp <- rbind(model_rank_res_temp, c(region, models[i], mean(AdjR_model), mean(BIC_model)) )\n",
    "\n",
    "    }\n",
    "\n",
    "    colnames(model_rank_res_temp) <- c('Region', 'Model', 'AdjR', 'BIC')\n",
    "\n",
    "    model_rank_res_temp <- model_rank_res_temp %>% arrange(desc(AdjR))\n",
    "    model_rank_res_temp <- cbind(model_rank_res_temp, c(1:16))\n",
    "    colnames(model_rank_res_temp) <- c('Region', 'Model', 'AdjR', 'BIC', 'Rank')\n",
    "\n",
    "    model_rank_res <- rbind(model_rank_res, model_rank_res_temp)\n",
    "\n",
    "    colnames(model_rank_res_temp) <- c('Region', 'Model', 'AdjR', 'BIC', 'Rank')\n",
    "\n",
    "}\n",
    "\n"
   ]
  },
  {
   "cell_type": "code",
   "execution_count": 5,
   "id": "92e92519",
   "metadata": {
    "vscode": {
     "languageId": "r"
    }
   },
   "outputs": [
    {
     "name": "stdout",
     "output_type": "stream",
     "text": [
      "          Region                 Model               AdjR              BIC Rank\n",
      "1      Australia           FAVEE_model  0.500417051196312 363.977667310676    1\n",
      "2      Australia       Wish_1976_model  0.461432925617939 367.655322912596    2\n",
      "3      Australia   Bugental_2000_model  0.421008660876702  381.42276772025    3\n",
      "4      Australia     Burton_1975_model  0.402023613032549 381.839665442097    4\n",
      "5      Australia   Triandis_1968_model  0.400009234524276 381.885150002643    5\n",
      "6      Australia Montgomery_1988_model  0.400009234524276 381.885150002643    6\n",
      "7      Australia     Osgood_1957_model  0.389657869535446 386.657347191253    7\n",
      "8      Australia      Fiske_1992_model   0.35292138889263 398.962604316685    8\n",
      "9      Australia      Weiss_1998_model  0.333331623689663 393.746653516445    9\n",
      "10     Australia    Marwell_1970_model  0.314763075095916 403.647570639783   10\n",
      "11     Australia      Clark_2011_model  0.310234412878906 405.361471139846   11\n",
      "12     Australia    Goffman_1959_model  0.274458910011484 424.629214623417   12\n",
      "13     Australia      Rands_1979_model  0.268144024221408 409.617981409773   13\n",
      "14     Australia   Hamilton_1981_model  0.266306737893086 414.360606357175   14\n",
      "15     Australia Carpendale_2004_model  0.265261989960278 416.913908801431   15\n",
      "16     Australia        Foa_2012_model   0.19547272751102 432.034343784862   16\n",
      "17        Brazil           FAVEE_model  0.505176325254642 362.090921550319    1\n",
      "18        Brazil   Bugental_2000_model  0.476265040149394 366.755145816649    2\n",
      "19        Brazil    Goffman_1959_model  0.447163357435376 379.470217385019    3\n",
      "20        Brazil       Wish_1976_model  0.417081293706352 382.612653391234    4\n",
      "21        Brazil      Weiss_1998_model  0.405219118609151 374.691752030176    5\n",
      "22        Brazil     Burton_1975_model  0.403414707565782 386.054290493443    6\n",
      "23        Brazil   Triandis_1968_model  0.374740651667002 389.514506284207    7\n",
      "24        Brazil Montgomery_1988_model  0.374740651667002 389.514506284207    8\n",
      "25        Brazil      Fiske_1992_model  0.370354216593888 396.659432513697    9\n",
      "26        Brazil      Clark_2011_model  0.350760186586689  397.19202944987   10\n",
      "27        Brazil    Marwell_1970_model  0.315735939776691  404.03970568857   11\n",
      "28        Brazil     Osgood_1957_model  0.315341185036233 404.811542424141   12\n",
      "29        Brazil      Rands_1979_model   0.28741992437376  407.82066536979   13\n",
      "30        Brazil Carpendale_2004_model   0.28741046896192 408.531684541868   14\n",
      "31        Brazil   Hamilton_1981_model  0.270123380986206 413.702827387784   15\n",
      "32        Brazil        Foa_2012_model  0.266383354554304 416.598623246287   16\n",
      "33         Chile   Bugental_2000_model  0.526280851197638 344.559654807092    1\n",
      "34         Chile           FAVEE_model  0.524708847770294 352.625216663034    2\n",
      "35         Chile       Wish_1976_model  0.510698811263294 349.738545270327    3\n",
      "36         Chile   Triandis_1968_model   0.47463226071208 358.500927270921    4\n",
      "37         Chile Montgomery_1988_model   0.47463226071208 358.500927270921    5\n",
      "38         Chile      Fiske_1992_model  0.469342811802853 365.419457198259    6\n",
      "39         Chile     Burton_1975_model  0.467239346948644 364.097976176582    7\n",
      "40         Chile     Osgood_1957_model  0.450258062058454 366.896354172025    8\n",
      "41         Chile      Weiss_1998_model  0.434266781844683 362.532132441226    9\n",
      "42         Chile      Clark_2011_model  0.415752739425415 376.722096684301   10\n",
      "43         Chile    Marwell_1970_model  0.386160684461715 381.406923014169   11\n",
      "44         Chile      Rands_1979_model  0.364593495185374 383.218642459778   12\n",
      "45         Chile Carpendale_2004_model  0.325347094186327 399.705827099294   13\n",
      "46         Chile    Goffman_1959_model  0.307112821638496 417.466167087353   14\n",
      "47         Chile        Foa_2012_model  0.296111302076531 403.568376124663   15\n",
      "48         Chile   Hamilton_1981_model  0.283212348788947 410.533842964895   16\n",
      "49           CHN           FAVEE_model  0.602477891309007 318.864175314752    1\n",
      "50           CHN       Wish_1976_model  0.568173721098795 326.994268330953    2\n",
      "51           CHN   Bugental_2000_model  0.526075168677223 349.520437671695    3\n",
      "52           CHN      Fiske_1992_model  0.499577965008448 356.907237014376    4\n",
      "53           CHN    Marwell_1970_model   0.49868972341268 347.329487161662    5\n",
      "54           CHN     Burton_1975_model  0.489115748808809 355.137197206378    6\n",
      "55           CHN   Triandis_1968_model  0.486547982662787 351.991154403624    7\n",
      "56           CHN Montgomery_1988_model  0.486547982662787 351.991154403624    8\n",
      "57           CHN     Osgood_1957_model  0.456239653102712 360.473484533465    9\n",
      "58           CHN      Clark_2011_model   0.44759689115553 367.146123475304   10\n",
      "59           CHN      Weiss_1998_model  0.406000989345944 373.411598504276   11\n",
      "60           CHN Carpendale_2004_model  0.348327346158965 394.925871377509   12\n",
      "61           CHN      Rands_1979_model  0.340281750173155 394.850977164215   13\n",
      "62           CHN   Hamilton_1981_model  0.332643330151833  394.60036412586   14\n",
      "63           CHN    Goffman_1959_model  0.307641977090658 414.641299221604   15\n",
      "64           CHN        Foa_2012_model  0.241448528516788 420.418421319492   16\n",
      "65         Egypt           FAVEE_model  0.431116726049278 386.112686780701    1\n",
      "66         Egypt   Bugental_2000_model  0.405240069474239 391.090741068291    2\n",
      "67         Egypt      Weiss_1998_model  0.322175945632003 399.377061434998    3\n",
      "68         Egypt    Goffman_1959_model  0.310405332656391 416.248675407523    4\n",
      "69         Egypt       Wish_1976_model  0.309654400122392 414.451817629898    5\n",
      "70         Egypt   Triandis_1968_model  0.264571627931259 418.235694359275    6\n",
      "71         Egypt Montgomery_1988_model  0.264571627931259 418.235694359275    7\n",
      "72         Egypt     Burton_1975_model  0.263529825187939 421.604916630506    8\n",
      "73         Egypt      Fiske_1992_model  0.249043869510552  425.06483749401    9\n",
      "74         Egypt      Rands_1979_model  0.232045712264272 420.915067787833   10\n",
      "75         Egypt      Clark_2011_model  0.231585374940075 424.954643712548   11\n",
      "76         Egypt    Marwell_1970_model  0.229615465451922 426.468907516492   12\n",
      "77         Egypt     Osgood_1957_model  0.227491431155725 429.050644526898   13\n",
      "78         Egypt        Foa_2012_model  0.205569106804766 430.881903635324   14\n",
      "79         Egypt   Hamilton_1981_model  0.203905582864666 430.966279891164   15\n",
      "80         Egypt Carpendale_2004_model  0.188315690166137 430.510793551836   16\n",
      "81        France           FAVEE_model  0.462910197757833 364.838796449408    1\n",
      "82        France   Bugental_2000_model  0.427033481253841 370.376786410107    2\n",
      "83        France       Wish_1976_model  0.416591926829163 371.621232614471    3\n",
      "84        France     Osgood_1957_model  0.389642469288845 379.049933541767    4\n",
      "85        France     Burton_1975_model  0.389466991442374 382.673588402705    5\n",
      "86        France      Weiss_1998_model  0.346903806129752 381.958106030482    6\n",
      "87        France      Fiske_1992_model  0.335010906873724 399.615538832795    7\n",
      "88        France   Triandis_1968_model   0.31946955868075    404.209730431    8\n",
      "89        France Montgomery_1988_model   0.31946955868075    404.209730431    9\n",
      "90        France      Clark_2011_model    0.3104843876663  402.63651582781   10\n",
      "91        France    Marwell_1970_model  0.276858986966614 409.502677164896   11\n",
      "92        France      Rands_1979_model  0.275501591086226 404.732349227348   12\n",
      "93        France    Goffman_1959_model  0.267816749081117 423.561800571139   13\n",
      "94        France   Hamilton_1981_model  0.263807755397587 413.936412519773   14\n",
      "95        France        Foa_2012_model  0.231574478753625 419.267277419373   15\n",
      "96        France Carpendale_2004_model 0.0141879411282047 467.166223596604   16\n",
      "97       Germany           FAVEE_model  0.544305140054381 346.220935564222    1\n",
      "98       Germany       Wish_1976_model  0.513408063019202 350.880778608334    2\n",
      "99       Germany   Bugental_2000_model  0.462576820670124 373.102729223722    3\n",
      "100      Germany      Fiske_1992_model  0.431731784028248 377.868906326018    4\n",
      "101      Germany   Triandis_1968_model  0.428551878242542 374.215237950274    5\n",
      "102      Germany Montgomery_1988_model  0.428551878242542 374.215237950274    6\n",
      "103      Germany     Burton_1975_model  0.411534511353066 381.268797025414    7\n",
      "104      Germany     Osgood_1957_model  0.397159099974943 384.898400703203    8\n",
      "105      Germany    Goffman_1959_model  0.383359965440329  396.39273216469    9\n",
      "106      Germany      Clark_2011_model  0.382876753352429 386.166933580138   10\n",
      "107      Germany    Marwell_1970_model  0.325975943629134 398.164811524155   11\n",
      "108      Germany Carpendale_2004_model  0.323763634375657 399.920683405471   12\n",
      "109      Germany      Rands_1979_model  0.321023855172116 396.715502497786   13\n",
      "110      Germany        Foa_2012_model  0.286000361426186 410.623266383243   14\n",
      "111      Germany      Weiss_1998_model  0.283043756070059 408.353126725294   15\n",
      "112      Germany   Hamilton_1981_model  0.253318934692961 419.114384248214   16\n",
      "113           HK           FAVEE_model  0.526977751653463 352.551320003323    1\n",
      "114           HK       Wish_1976_model  0.472459374455374 365.898268675677    2\n",
      "115           HK   Bugental_2000_model  0.460810639981172 371.448953668241    3\n",
      "116           HK      Fiske_1992_model  0.423161274576405 383.760161014817    4\n",
      "117           HK   Triandis_1968_model  0.418513540487823 377.978185063133    5\n",
      "118           HK Montgomery_1988_model  0.418513540487823 377.978185063133    6\n",
      "119           HK    Marwell_1970_model  0.405895195593359 380.814378775271    7\n",
      "120           HK      Clark_2011_model  0.394234703187083  386.88677288399    8\n",
      "121           HK     Osgood_1957_model  0.382044159749931 388.151694701909    9\n",
      "122           HK     Burton_1975_model  0.380854810298342 392.067537892352   10\n",
      "123           HK    Goffman_1959_model  0.350967405588442  403.95448495842   11\n",
      "124           HK      Weiss_1998_model  0.335136698981421 391.674298696251   12\n",
      "125           HK   Hamilton_1981_model  0.298999738171852 407.025212410252   13\n",
      "126           HK Carpendale_2004_model  0.283072180245027 410.781279174647   14\n",
      "127           HK      Rands_1979_model  0.269451435850001 415.083798042152   15\n",
      "128           HK        Foa_2012_model  0.174026586109634 437.449567860728   16\n",
      "129        India           FAVEE_model  0.407103646167169 394.302538965954    1\n",
      "130        India   Bugental_2000_model  0.348899062048794 407.691488327374    2\n",
      "131        India    Goffman_1959_model   0.29416025470569 422.461241698122    3\n",
      "132        India      Weiss_1998_model  0.251671272192903 417.951174442291    4\n",
      "133        India     Burton_1975_model  0.218832167044228  430.23830956025    5\n",
      "134        India       Wish_1976_model   0.21719603867191 432.506664867382    6\n",
      "135        India      Fiske_1992_model  0.208101723526589 432.669278094883    7\n",
      "136        India      Clark_2011_model  0.200418172177264 431.592634785004    8\n",
      "137        India    Marwell_1970_model  0.198113462443256 432.508257258333    9\n",
      "138        India      Rands_1979_model  0.188945337066566 430.431741175463   10\n",
      "139        India   Triandis_1968_model  0.187993361488218 434.842036343086   11\n",
      "140        India Montgomery_1988_model  0.187993361488218 434.842036343086   12\n",
      "141        India Carpendale_2004_model   0.15322485028195 438.588217688393   13\n",
      "142        India     Osgood_1957_model  0.143808204518172 445.216540366686   14\n",
      "143        India   Hamilton_1981_model  0.138936048464899 442.406907536226   15\n",
      "144        India        Foa_2012_model 0.0933128584893466  453.13911865667   16\n",
      "145       Israel           FAVEE_model   0.53398496265147 346.453338451628    1\n",
      "146       Israel       Wish_1976_model  0.501324807372938 350.094623939966    2\n",
      "147       Israel   Triandis_1968_model  0.456334683640713 362.917639631009    3\n",
      "148       Israel Montgomery_1988_model  0.456334683640713 362.917639631009    4\n",
      "149       Israel   Bugental_2000_model    0.4372211566577 375.986690213784    5\n",
      "150       Israel     Burton_1975_model    0.4342902275699 371.533083101477    6\n",
      "151       Israel      Fiske_1992_model  0.420545304587845 381.250348126265    7\n",
      "152       Israel     Osgood_1957_model  0.385735570404168 383.653444878413    8\n",
      "153       Israel      Clark_2011_model  0.383477592942852 387.135556986239    9\n",
      "154       Israel    Goffman_1959_model  0.369281815630678 398.165923584222   10\n",
      "155       Israel      Weiss_1998_model   0.35109431866147  387.01070667827   11\n",
      "156       Israel    Marwell_1970_model  0.348152465852339 392.874358953002   12\n",
      "157       Israel Carpendale_2004_model  0.335917413304368  395.53592872997   13\n",
      "158       Israel        Foa_2012_model  0.311647288304831 400.228876710972   14\n",
      "159       Israel   Hamilton_1981_model  0.295548749901344 405.675130165655   15\n",
      "160       Israel      Rands_1979_model  0.285277777801027 407.844989344836   16\n",
      "161        Japan           FAVEE_model   0.55546871763996 342.661710596423    1\n",
      "162        Japan   Bugental_2000_model  0.511697417031359 351.681457003043    2\n",
      "163        Japan       Wish_1976_model  0.502791767551323 353.587991135009    3\n",
      "164        Japan     Burton_1975_model  0.469080120323821 364.106051544799    4\n",
      "165        Japan   Triandis_1968_model  0.438482757134903 369.585420711201    5\n",
      "166        Japan Montgomery_1988_model  0.438482757134903 369.585420711201    6\n",
      "167        Japan      Weiss_1998_model  0.435311196393794 361.392170124776    7\n",
      "168        Japan      Fiske_1992_model  0.427899558864932 380.384366179352    8\n",
      "169        Japan    Marwell_1970_model  0.403745060062429 379.188129162626    9\n",
      "170        Japan      Clark_2011_model   0.39373412633274 384.661112265862   10\n",
      "171        Japan     Osgood_1957_model  0.379702535258647 387.103485550204   11\n",
      "172        Japan      Rands_1979_model  0.353661585063423 389.580023198322   12\n",
      "173        Japan    Goffman_1959_model  0.349225211069198 403.699812710884   13\n",
      "174        Japan   Hamilton_1981_model  0.308153043646976 403.348471328824   14\n",
      "175        Japan Carpendale_2004_model  0.296010369803139 409.069139725788   15\n",
      "176        Japan        Foa_2012_model  0.218159939237036 425.535491022535   16\n",
      "177       Mexico           FAVEE_model  0.509281440171015 358.884554002862    1\n",
      "178       Mexico   Bugental_2000_model  0.494735560013794 358.048619510174    2\n",
      "179       Mexico       Wish_1976_model  0.479430057368929 359.821111363937    3\n",
      "180       Mexico   Triandis_1968_model  0.423823829237554 373.129585685299    4\n",
      "181       Mexico Montgomery_1988_model  0.423823829237554 373.129585685299    5\n",
      "182       Mexico      Fiske_1992_model  0.419171190763374 381.779957461811    6\n",
      "183       Mexico     Burton_1975_model  0.410564710472973  380.61997588996    7\n",
      "184       Mexico      Weiss_1998_model  0.409790181676891 370.940999341306    8\n",
      "185       Mexico     Osgood_1957_model  0.392957603220711 382.877128343999    9\n",
      "186       Mexico      Clark_2011_model  0.387023347664285 386.067543452335   10\n",
      "187       Mexico    Marwell_1970_model  0.355377810222365 391.682278406432   11\n",
      "188       Mexico      Rands_1979_model  0.333148968005723 392.588889140048   12\n",
      "189       Mexico    Goffman_1959_model   0.33169679029769  408.91829010964   13\n",
      "190       Mexico Carpendale_2004_model  0.306773203905207 405.021194701774   14\n",
      "191       Mexico   Hamilton_1981_model  0.275366112294964  411.24983906659   15\n",
      "192       Mexico        Foa_2012_model   0.21454189467381  427.69718055205   16\n",
      "193     Portugal           FAVEE_model  0.504081428549184 361.102720694054    1\n",
      "194     Portugal   Bugental_2000_model  0.479771981362069 358.087503904966    2\n",
      "195     Portugal       Wish_1976_model  0.472491999688192 360.929491515841    3\n",
      "196     Portugal   Triandis_1968_model  0.432750505135733 368.295194332141    4\n",
      "197     Portugal Montgomery_1988_model  0.432750505135733 368.295194332141    5\n",
      "198     Portugal      Weiss_1998_model  0.424355590693132 363.698769597355    6\n",
      "199     Portugal     Burton_1975_model  0.419823288558251 377.489121535354    7\n",
      "200     Portugal      Fiske_1992_model  0.411108520852752 381.740030676737    8\n",
      "201     Portugal     Osgood_1957_model   0.39358775565185 382.109394446445    9\n",
      "202     Portugal      Clark_2011_model  0.386867119074614 384.360178918636   10\n",
      "203     Portugal    Marwell_1970_model  0.376391482806702 383.708280607057   11\n",
      "204     Portugal    Goffman_1959_model  0.369253617055361 401.186295725642   12\n",
      "205     Portugal      Rands_1979_model  0.318631834132443 396.927842896675   13\n",
      "206     Portugal Carpendale_2004_model  0.274675041321834 413.573670178351   14\n",
      "207     Portugal        Foa_2012_model   0.27240592746714 411.188712607935   15\n",
      "208     Portugal   Hamilton_1981_model  0.272091196180656 413.338315451484   16\n",
      "209        Qatar           FAVEE_model  0.381633913921069 400.776901880589    1\n",
      "210        Qatar   Bugental_2000_model  0.376923652017494 395.650014240258    2\n",
      "211        Qatar      Weiss_1998_model  0.298699826833941 402.959084256728    3\n",
      "212        Qatar       Wish_1976_model  0.281194184337308 421.030059597087    4\n",
      "213        Qatar     Burton_1975_model   0.25127564505687 425.183068954679    5\n",
      "214        Qatar    Goffman_1959_model  0.234561419510264 435.319524646681    6\n",
      "215        Qatar    Marwell_1970_model  0.232713369744485 427.400913792465    7\n",
      "216        Qatar      Fiske_1992_model  0.226318480887189 434.437349680655    8\n",
      "217        Qatar        Foa_2012_model  0.226266765704106 422.373927030039    9\n",
      "218        Qatar      Clark_2011_model  0.214754938538806 433.071710491577   10\n",
      "219        Qatar      Rands_1979_model  0.214187810558647 426.823288879023   11\n",
      "220        Qatar   Triandis_1968_model  0.213995549156807 431.203008045097   12\n",
      "221        Qatar Montgomery_1988_model  0.213995549156807 431.203008045097   13\n",
      "222        Qatar     Osgood_1957_model  0.206606642246307 433.672668367672   14\n",
      "223        Qatar Carpendale_2004_model  0.180665177017557 435.386646171038   15\n",
      "224        Qatar   Hamilton_1981_model  0.168673609416565 438.114903523402   16\n",
      "225       Russia   Bugental_2000_model  0.452788275313559 378.256332755838    1\n",
      "226       Russia           FAVEE_model  0.431768444983074 385.636495620908    2\n",
      "227       Russia    Goffman_1959_model  0.342056238700026 407.386354642544    3\n",
      "228       Russia       Wish_1976_model  0.338093454953869 406.292030756795    4\n",
      "229       Russia      Fiske_1992_model  0.314807751588646 412.605329122175    5\n",
      "230       Russia      Weiss_1998_model  0.290030151637234 405.494321244022    6\n",
      "231       Russia      Clark_2011_model  0.289537714102233 414.961273937849    7\n",
      "232       Russia     Burton_1975_model  0.260666900764728 422.542249389048    8\n",
      "233       Russia   Triandis_1968_model  0.247073938227713 425.375506046044    9\n",
      "234       Russia Montgomery_1988_model  0.247073938227713 425.375506046044   10\n",
      "235       Russia    Marwell_1970_model  0.233690619586634  428.17314042017   11\n",
      "236       Russia     Osgood_1957_model  0.228854045155111 429.101629306264   12\n",
      "237       Russia        Foa_2012_model  0.208275790226208 429.844843992574   13\n",
      "238       Russia   Hamilton_1981_model  0.198234761841181 432.126781911039   14\n",
      "239       Russia      Rands_1979_model   0.17822929341719 435.623942703772   15\n",
      "240       Russia Carpendale_2004_model  0.162011996935471  437.48282820814   16\n",
      "241 South_africa           FAVEE_model  0.519263523216269 354.888332476167    1\n",
      "242 South_africa   Bugental_2000_model  0.448550198132673 370.890964226955    2\n",
      "243 South_africa       Wish_1976_model  0.426823064505171 375.918081372402    3\n",
      "244 South_africa      Weiss_1998_model  0.365405600362801  383.58354477946    4\n",
      "245 South_africa     Burton_1975_model  0.345004739687826 401.259350485502    5\n",
      "246 South_africa    Goffman_1959_model   0.33866370029962 409.423702717223    6\n",
      "247 South_africa      Fiske_1992_model  0.333736840675864 404.569909355437    7\n",
      "248 South_africa     Osgood_1957_model  0.323468825344492 403.946901839113    8\n",
      "249 South_africa   Triandis_1968_model  0.320056005448508  405.82262239738    9\n",
      "250 South_africa Montgomery_1988_model  0.320056005448508  405.82262239738   10\n",
      "251 South_africa      Clark_2011_model  0.312691403673183 405.765590599491   11\n",
      "252 South_africa      Rands_1979_model  0.301790229714922 404.852463914875   12\n",
      "253 South_africa    Marwell_1970_model  0.292123756128704 409.664644475809   13\n",
      "254 South_africa   Hamilton_1981_model  0.242363045544926 421.742846102828   14\n",
      "255 South_africa Carpendale_2004_model  0.231039305366739 422.750558225268   15\n",
      "256 South_africa        Foa_2012_model  0.194020146355242 433.814618281292   16\n",
      "257        Spain           FAVEE_model   0.45590010085943 376.939730008641    1\n",
      "258        Spain   Bugental_2000_model   0.43950924470219 377.006505454564    2\n",
      "259        Spain       Wish_1976_model  0.431436194413989 377.247819729496    3\n",
      "260        Spain   Triandis_1968_model  0.407690227670137 380.120711136119    4\n",
      "261        Spain Montgomery_1988_model  0.407690227670137 380.120711136119    5\n",
      "262        Spain     Burton_1975_model  0.385289546530498 390.510539443815    6\n",
      "263        Spain    Marwell_1970_model  0.358343582234777 392.262883005335    7\n",
      "264        Spain      Fiske_1992_model  0.357519638683028 398.881276396732    8\n",
      "265        Spain      Weiss_1998_model  0.351277141025596 390.609858490004    9\n",
      "266        Spain     Osgood_1957_model  0.349908936983386 397.553754130866   10\n",
      "267        Spain      Clark_2011_model  0.342439809232161 398.515530801845   11\n",
      "268        Spain    Goffman_1959_model  0.340096838570691 409.437817035315   12\n",
      "269        Spain      Rands_1979_model  0.309487780782239 400.917114047623   13\n",
      "270        Spain Carpendale_2004_model  0.297183836540996 408.115246912845   14\n",
      "271        Spain   Hamilton_1981_model  0.245927901148307 420.704319186164   15\n",
      "272        Spain        Foa_2012_model  0.223234395931308 425.678421961635   16\n",
      "273           UK           FAVEE_model  0.414288706832159 392.434303448022    1\n",
      "274           UK   Bugental_2000_model  0.357734462489719 399.466617906555    2\n",
      "275           UK       Wish_1976_model  0.316270461261552 411.529164829979    3\n",
      "276           UK      Weiss_1998_model  0.295705584940947 402.676123175305    4\n",
      "277           UK    Goffman_1959_model  0.258036424115942 429.265593463522    5\n",
      "278           UK     Burton_1975_model  0.256180747997468 423.141862238946    6\n",
      "279           UK   Triandis_1968_model  0.252692657971154  423.91123330737    7\n",
      "280           UK Montgomery_1988_model  0.252692657971154  423.91123330737    8\n",
      "281           UK      Fiske_1992_model  0.243167684499409 429.018489222843    9\n",
      "282           UK     Osgood_1957_model  0.242634017596187 425.796599065657   10\n",
      "283           UK    Marwell_1970_model  0.229123254485474 426.831608639487   11\n",
      "284           UK      Clark_2011_model  0.222918449936426 429.035672470965   12\n",
      "285           UK Carpendale_2004_model  0.216558494524968 426.292251631266   13\n",
      "286           UK   Hamilton_1981_model  0.162425194500079 439.386212678334   14\n",
      "287           UK      Rands_1979_model  0.155957037870196 438.991818746453   15\n",
      "288           UK        Foa_2012_model  0.130818398875439 446.004858556462   16\n",
      "289          USA           FAVEE_model  0.475649978880882 369.724299751559    1\n",
      "290          USA       Wish_1976_model  0.402245518384271 384.173831926538    2\n",
      "291          USA   Bugental_2000_model   0.38453052159541 392.612508793052    3\n",
      "292          USA      Fiske_1992_model  0.342755594841985 401.868907388027    4\n",
      "293          USA   Triandis_1968_model  0.332954471858171  401.26036468238    5\n",
      "294          USA Montgomery_1988_model  0.332954471858171  401.26036468238    6\n",
      "295          USA     Osgood_1957_model    0.3243604268901 404.799258894097    7\n",
      "296          USA      Clark_2011_model  0.316486844998338 404.431052619638    8\n",
      "297          USA     Burton_1975_model  0.313480410144156 407.994835737922    9\n",
      "298          USA      Weiss_1998_model   0.30160139595612 402.068572595331   10\n",
      "299          USA    Goffman_1959_model  0.295853943650613 419.485540160648   11\n",
      "300          USA    Marwell_1970_model  0.286359349286424 408.853929435422   12\n",
      "301          USA      Rands_1979_model  0.248787885529092  415.90752848754   13\n",
      "302          USA   Hamilton_1981_model  0.242886192846125 421.447551970682   14\n",
      "303          USA Carpendale_2004_model  0.205635378749145 429.330646371685   15\n",
      "304          USA        Foa_2012_model  0.153302464787571 442.021561283198   16\n"
     ]
    }
   ],
   "source": [
    "print(model_rank_res)"
   ]
  },
  {
   "cell_type": "code",
   "execution_count": 6,
   "id": "48b807a0",
   "metadata": {
    "vscode": {
     "languageId": "r"
    }
   },
   "outputs": [
    {
     "name": "stderr",
     "output_type": "stream",
     "text": [
      "Warning message in write.csv(model_rank_res, file = \"output_data/compare_model/model_rank_regions.csv\", :\n",
      "\"attempt to set 'append' ignored\"\n",
      "Warning message in write.csv(model_rank_res, file = \"output_data/compare_model/model_rank_regions.csv\", :\n",
      "\"attempt to set 'sep' ignored\"\n"
     ]
    }
   ],
   "source": [
    "write.csv(model_rank_res, file = \"output_data/compare_model/model_rank_regions.csv\", append = FALSE, quote = TRUE, sep = \",\")"
   ]
  },
  {
   "cell_type": "code",
   "execution_count": 7,
   "id": "eb181d37",
   "metadata": {
    "vscode": {
     "languageId": "r"
    }
   },
   "outputs": [
    {
     "name": "stderr",
     "output_type": "stream",
     "text": [
      "Warning message in wilcox.test.default(model_rank_res$Rank[model_rank_res$Model == :\n",
      "\"cannot compute exact p-value with ties\"\n"
     ]
    },
    {
     "data": {
      "text/plain": [
       "\n",
       "\tWilcoxon signed rank test with continuity correction\n",
       "\n",
       "data:  model_rank_res$Rank[model_rank_res$Model == \"FAVEE_model\"] and model_rank_res$Rank[model_rank_res$Model == \"Bugental_2000_model\"]\n",
       "V = 14, p-value = 0.0007429\n",
       "alternative hypothesis: true location shift is not equal to 0\n"
      ]
     },
     "metadata": {},
     "output_type": "display_data"
    },
    {
     "name": "stderr",
     "output_type": "stream",
     "text": [
      "Warning message in wilcox.test.default(model_rank_res$Rank[model_rank_res$Model == :\n",
      "\"cannot compute exact p-value with ties\"\n"
     ]
    },
    {
     "data": {
      "text/plain": [
       "\n",
       "\tWilcoxon signed rank test with continuity correction\n",
       "\n",
       "data:  model_rank_res$Rank[model_rank_res$Model == \"FAVEE_model\"] and model_rank_res$Rank[model_rank_res$Model == \"Wish_1976_model\"]\n",
       "V = 0, p-value = 0.0001142\n",
       "alternative hypothesis: true location shift is not equal to 0\n"
      ]
     },
     "metadata": {},
     "output_type": "display_data"
    }
   ],
   "source": [
    "wilcox.test(model_rank_res$Rank[model_rank_res$Model == 'FAVEE_model'], model_rank_res$Rank[model_rank_res$Model == 'Bugental_2000_model'], paired = TRUE)\n",
    "\n",
    "wilcox.test(model_rank_res$Rank[model_rank_res$Model == 'FAVEE_model'], model_rank_res$Rank[model_rank_res$Model == 'Wish_1976_model'], paired = TRUE)"
   ]
  },
  {
   "cell_type": "code",
   "execution_count": 8,
   "id": "8f6b263c",
   "metadata": {
    "vscode": {
     "languageId": "r"
    }
   },
   "outputs": [],
   "source": [
    "FAVEE_adjR <- model_rank_res$AdjR[model_rank_res$Model == 'FAVEE_model']\n",
    "Bugental_adjR <- model_rank_res$AdjR[model_rank_res$Model == 'Bugental_2000_model']\n",
    "Wish_adjR <- model_rank_res$AdjR[model_rank_res$Model == 'Wish_1976_model']"
   ]
  },
  {
   "cell_type": "code",
   "execution_count": 9,
   "id": "56b61e29",
   "metadata": {
    "vscode": {
     "languageId": "r"
    }
   },
   "outputs": [
    {
     "data": {
      "text/html": [
       "0.423094634980103"
      ],
      "text/latex": [
       "0.423094634980103"
      ],
      "text/markdown": [
       "0.423094634980103"
      ],
      "text/plain": [
       "[1] 0.4230946"
      ]
     },
     "metadata": {},
     "output_type": "display_data"
    }
   ],
   "source": [
    "mean(as.numeric(Wish_adjR))"
   ]
  },
  {
   "cell_type": "code",
   "execution_count": 10,
   "id": "e9789eb7",
   "metadata": {
    "vscode": {
     "languageId": "r"
    }
   },
   "outputs": [
    {
     "data": {
      "text/html": [
       "<style>\n",
       ".list-inline {list-style: none; margin:0; padding: 0}\n",
       ".list-inline>li {display: inline-block}\n",
       ".list-inline>li:not(:last-child)::after {content: \"\\00b7\"; padding: 0 .5ex}\n",
       "</style>\n",
       "<ol class=list-inline><li>0.019155646599665</li><li>0.0677084222497694</li></ol>\n"
      ],
      "text/latex": [
       "\\begin{enumerate*}\n",
       "\\item 0.019155646599665\n",
       "\\item 0.0677084222497694\n",
       "\\end{enumerate*}\n"
      ],
      "text/markdown": [
       "1. 0.019155646599665\n",
       "2. 0.0677084222497694\n",
       "\n",
       "\n"
      ],
      "text/plain": [
       "[1] 0.01915565 0.06770842"
      ]
     },
     "metadata": {},
     "output_type": "display_data"
    },
    {
     "data": {
      "text/html": [
       "0.0446769753300946"
      ],
      "text/latex": [
       "0.0446769753300946"
      ],
      "text/markdown": [
       "0.0446769753300946"
      ],
      "text/plain": [
       "[1] 0.04467698"
      ]
     },
     "metadata": {},
     "output_type": "display_data"
    }
   ],
   "source": [
    "FAVEE_Bugental_diff <- as.numeric(FAVEE_adjR) - as.numeric(Bugental_adjR)\n",
    "bmean <- function(x,i){\n",
    "  return(mean(x[i]))\n",
    "}\n",
    "set.seed(2023)\n",
    "bout <- boot(FAVEE_Bugental_diff,bmean,100000)\n",
    "bci <- boot.ci(bout,type=\"bca\",conf = .999)$bca[4:5]\n",
    "bci\n",
    "mean(FAVEE_Bugental_diff)"
   ]
  },
  {
   "cell_type": "code",
   "execution_count": 11,
   "id": "d6b69f6d",
   "metadata": {
    "vscode": {
     "languageId": "r"
    }
   },
   "outputs": [
    {
     "data": {
      "text/html": [
       "<style>\n",
       ".list-inline {list-style: none; margin:0; padding: 0}\n",
       ".list-inline>li {display: inline-block}\n",
       ".list-inline>li:not(:last-child)::after {content: \"\\00b7\"; padding: 0 .5ex}\n",
       "</style>\n",
       "<ol class=list-inline><li>0.0419267059584373</li><li>0.109217771754817</li></ol>\n"
      ],
      "text/latex": [
       "\\begin{enumerate*}\n",
       "\\item 0.0419267059584373\n",
       "\\item 0.109217771754817\n",
       "\\end{enumerate*}\n"
      ],
      "text/markdown": [
       "1. 0.0419267059584373\n",
       "2. 0.109217771754817\n",
       "\n",
       "\n"
      ],
      "text/plain": [
       "[1] 0.04192671 0.10921777"
      ]
     },
     "metadata": {},
     "output_type": "display_data"
    },
    {
     "data": {
      "text/html": [
       "0.0656693015944699"
      ],
      "text/latex": [
       "0.0656693015944699"
      ],
      "text/markdown": [
       "0.0656693015944699"
      ],
      "text/plain": [
       "[1] 0.0656693"
      ]
     },
     "metadata": {},
     "output_type": "display_data"
    }
   ],
   "source": [
    "FAVEE_Wish_diff <- as.numeric(FAVEE_adjR) - as.numeric(Wish_adjR)\n",
    "set.seed(2023)\n",
    "bout <- boot(FAVEE_Wish_diff,bmean,100000)\n",
    "bci <- boot.ci(bout,type=\"bca\",conf = .999)$bca[4:5]\n",
    "bci\n",
    "mean(FAVEE_Wish_diff)"
   ]
  },
  {
   "cell_type": "code",
   "execution_count": null,
   "id": "9ec4cdae",
   "metadata": {
    "vscode": {
     "languageId": "r"
    }
   },
   "outputs": [],
   "source": []
  },
  {
   "cell_type": "code",
   "execution_count": 12,
   "id": "1fd11a0a",
   "metadata": {
    "vscode": {
     "languageId": "r"
    }
   },
   "outputs": [],
   "source": [
    "FAVEE_BIC <- model_rank_res$BIC[model_rank_res$Model == 'FAVEE_model']\n",
    "Bugental_BIC <- model_rank_res$BIC[model_rank_res$Model == 'Bugental_2000_model']\n",
    "Wish_BIC <- model_rank_res$BIC[model_rank_res$Model == 'Wish_1976_model']"
   ]
  },
  {
   "cell_type": "code",
   "execution_count": 13,
   "id": "60a3ca97",
   "metadata": {
    "vscode": {
     "languageId": "r"
    }
   },
   "outputs": [
    {
     "data": {
      "text/html": [
       "<style>\n",
       ".list-inline {list-style: none; margin:0; padding: 0}\n",
       ".list-inline>li {display: inline-block}\n",
       ".list-inline>li:not(:last-child)::after {content: \"\\00b7\"; padding: 0 .5ex}\n",
       "</style>\n",
       "<ol class=list-inline><li>-18.9392756844517</li><li>-1.18385139549078</li></ol>\n"
      ],
      "text/latex": [
       "\\begin{enumerate*}\n",
       "\\item -18.9392756844517\n",
       "\\item -1.18385139549078\n",
       "\\end{enumerate*}\n"
      ],
      "text/markdown": [
       "1. -18.9392756844517\n",
       "2. -1.18385139549078\n",
       "\n",
       "\n"
      ],
      "text/plain": [
       "[1] -18.939276  -1.183851"
      ]
     },
     "metadata": {},
     "output_type": "display_data"
    },
    {
     "data": {
      "text/html": [
       "-9.6089091152299"
      ],
      "text/latex": [
       "-9.6089091152299"
      ],
      "text/markdown": [
       "-9.6089091152299"
      ],
      "text/plain": [
       "[1] -9.608909"
      ]
     },
     "metadata": {},
     "output_type": "display_data"
    }
   ],
   "source": [
    "FAVEE_Bugental_BIC_diff <- as.numeric(FAVEE_BIC) - as.numeric(Bugental_BIC)\n",
    "bmean <- function(x,i){\n",
    "  return(mean(x[i]))\n",
    "}\n",
    "set.seed(2023)\n",
    "bout <- boot(FAVEE_Bugental_BIC_diff,bmean,100000)\n",
    "bci <- boot.ci(bout,type=\"bca\",conf = .999)$bca[4:5]\n",
    "bci\n",
    "mean(FAVEE_Bugental_BIC_diff)"
   ]
  },
  {
   "cell_type": "code",
   "execution_count": 14,
   "id": "34323abf",
   "metadata": {
    "vscode": {
     "languageId": "r"
    }
   },
   "outputs": [
    {
     "data": {
      "text/html": [
       "<style>\n",
       ".list-inline {list-style: none; margin:0; padding: 0}\n",
       ".list-inline>li {display: inline-block}\n",
       ".list-inline>li:not(:last-child)::after {content: \"\\00b7\"; padding: 0 .5ex}\n",
       "</style>\n",
       "<ol class=list-inline><li>-22.0082064210374</li><li>-5.31353338144619</li></ol>\n"
      ],
      "text/latex": [
       "\\begin{enumerate*}\n",
       "\\item -22.0082064210374\n",
       "\\item -5.31353338144619\n",
       "\\end{enumerate*}\n"
      ],
      "text/markdown": [
       "1. -22.0082064210374\n",
       "2. -5.31353338144619\n",
       "\n",
       "\n"
      ],
      "text/plain": [
       "[1] -22.008206  -5.313533"
      ]
     },
     "metadata": {},
     "output_type": "display_data"
    },
    {
     "data": {
      "text/html": [
       "-12.2051112070884"
      ],
      "text/latex": [
       "-12.2051112070884"
      ],
      "text/markdown": [
       "-12.2051112070884"
      ],
      "text/plain": [
       "[1] -12.20511"
      ]
     },
     "metadata": {},
     "output_type": "display_data"
    }
   ],
   "source": [
    "FAVEE_Wish_BIC_diff <- as.numeric(FAVEE_BIC) - as.numeric(Wish_BIC)\n",
    "set.seed(2023)\n",
    "bout <- boot(FAVEE_Wish_BIC_diff,bmean,100000)\n",
    "bci <- boot.ci(bout,type=\"bca\",conf = .999)$bca[4:5]\n",
    "bci\n",
    "mean(FAVEE_Wish_BIC_diff)"
   ]
  },
  {
   "cell_type": "code",
   "execution_count": null,
   "id": "32ddd8fe",
   "metadata": {
    "vscode": {
     "languageId": "r"
    }
   },
   "outputs": [],
   "source": []
  }
 ],
 "metadata": {
  "kernelspec": {
   "display_name": "R",
   "language": "R",
   "name": "ir"
  },
  "language_info": {
   "codemirror_mode": "r",
   "file_extension": ".r",
   "mimetype": "text/x-r-source",
   "name": "R",
   "pygments_lexer": "r",
   "version": "4.3.3"
  },
  "toc": {
   "base_numbering": 1,
   "nav_menu": {},
   "number_sections": true,
   "sideBar": true,
   "skip_h1_title": false,
   "title_cell": "Table of Contents",
   "title_sidebar": "Contents",
   "toc_cell": false,
   "toc_position": {
    "height": "calc(100% - 180px)",
    "left": "10px",
    "top": "150px",
    "width": "326.094px"
   },
   "toc_section_display": true,
   "toc_window_display": true
  },
  "varInspector": {
   "cols": {
    "lenName": 16,
    "lenType": 16,
    "lenVar": 40
   },
   "kernels_config": {
    "python": {
     "delete_cmd_postfix": "",
     "delete_cmd_prefix": "del ",
     "library": "var_list.py",
     "varRefreshCmd": "print(var_dic_list())"
    },
    "r": {
     "delete_cmd_postfix": ") ",
     "delete_cmd_prefix": "rm(",
     "library": "var_list.r",
     "varRefreshCmd": "cat(var_dic_list()) "
    }
   },
   "types_to_exclude": [
    "module",
    "function",
    "builtin_function_or_method",
    "instance",
    "_Feature"
   ],
   "window_display": false
  }
 },
 "nbformat": 4,
 "nbformat_minor": 5
}
