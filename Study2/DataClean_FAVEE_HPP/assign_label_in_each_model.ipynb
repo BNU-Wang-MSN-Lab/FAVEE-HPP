{
 "cells": [
  {
   "cell_type": "code",
   "execution_count": 1,
   "id": "cf153305",
   "metadata": {
    "ExecuteTime": {
     "end_time": "2023-08-16T13:56:51.398520Z",
     "start_time": "2023-08-16T13:56:49.792Z"
    },
    "vscode": {
     "languageId": "r"
    }
   },
   "outputs": [
    {
     "name": "stderr",
     "output_type": "stream",
     "text": [
      "-- \u001b[1mAttaching core tidyverse packages\u001b[22m ------------------------ tidyverse 2.0.0 --\n",
      "\u001b[32mv\u001b[39m \u001b[34mdplyr    \u001b[39m 1.1.0     \u001b[32mv\u001b[39m \u001b[34mreadr    \u001b[39m 2.1.4\n",
      "\u001b[32mv\u001b[39m \u001b[34mforcats  \u001b[39m 1.0.0     \u001b[32mv\u001b[39m \u001b[34mstringr  \u001b[39m 1.5.0\n",
      "\u001b[32mv\u001b[39m \u001b[34mggplot2  \u001b[39m 3.4.1     \u001b[32mv\u001b[39m \u001b[34mtibble   \u001b[39m 3.1.7\n",
      "\u001b[32mv\u001b[39m \u001b[34mlubridate\u001b[39m 1.9.2     \u001b[32mv\u001b[39m \u001b[34mtidyr    \u001b[39m 1.3.0\n",
      "\u001b[32mv\u001b[39m \u001b[34mpurrr    \u001b[39m 1.0.1     \n",
      "-- \u001b[1mConflicts\u001b[22m ------------------------------------------ tidyverse_conflicts() --\n",
      "\u001b[31mx\u001b[39m \u001b[34mdplyr\u001b[39m::\u001b[32mfilter()\u001b[39m masks \u001b[34mstats\u001b[39m::filter()\n",
      "\u001b[31mx\u001b[39m \u001b[34mdplyr\u001b[39m::\u001b[32mlag()\u001b[39m    masks \u001b[34mstats\u001b[39m::lag()\n",
      "\u001b[36mi\u001b[39m Use the conflicted package (\u001b[3m\u001b[34m<http://conflicted.r-lib.org/>\u001b[39m\u001b[23m) to force all conflicts to become errors\n",
      "\n",
      "载入程辑包：'reshape'\n",
      "\n",
      "\n",
      "The following object is masked from 'package:lubridate':\n",
      "\n",
      "    stamp\n",
      "\n",
      "\n",
      "The following object is masked from 'package:dplyr':\n",
      "\n",
      "    rename\n",
      "\n",
      "\n",
      "The following objects are masked from 'package:tidyr':\n",
      "\n",
      "    expand, smiths\n",
      "\n",
      "\n",
      "corrplot 0.92 loaded\n",
      "\n"
     ]
    }
   ],
   "source": [
    "options (warn = -1)\n",
    "library(openxlsx)\n",
    "library(tidyverse)\n",
    "library(reshape)\n",
    "library(mgsub) # mapping\n",
    "\n",
    "library(ggplot2)\n",
    "library(ggpubr)\n",
    "library(RColorBrewer)\n",
    "library(corrplot)\n",
    "library(corrr)"
   ]
  },
  {
   "cell_type": "code",
   "execution_count": 2,
   "id": "b35fa9d1",
   "metadata": {
    "ExecuteTime": {
     "end_time": "2023-08-16T13:56:52.841675Z",
     "start_time": "2023-08-16T13:56:52.814Z"
    },
    "vscode": {
     "languageId": "r"
    }
   },
   "outputs": [],
   "source": [
    "# Organize relationship score\n",
    "regions = c(\n",
    "    # English\n",
    "    'USA','UK','Australia','South Africa',\n",
    "    # Germany\n",
    "    'Germany',\n",
    "    # Japanese\n",
    "    'Japan',\n",
    "    # Hebrew\n",
    "    'Israel',\n",
    "    # Chinese\n",
    "    'CHN','HK(region)',\n",
    "\n",
    "    # French\n",
    "    'France',\n",
    "    # Spanish\n",
    "    'Spain','Mexico','Chile',\n",
    "    # Portuguese\n",
    "    'Portugal','Brazil',\n",
    "    # Russian\n",
    "    'Russia',\n",
    "    # Arabic\n",
    "    'Egypt','Qatar',\n",
    "    'India')"
   ]
  },
  {
   "cell_type": "code",
   "execution_count": 3,
   "id": "4b624b76",
   "metadata": {
    "ExecuteTime": {
     "end_time": "2023-08-16T13:57:21.674495Z",
     "start_time": "2023-08-16T13:57:21.565Z"
    },
    "vscode": {
     "languageId": "r"
    }
   },
   "outputs": [],
   "source": [
    "file_path = 'output_data/pca_results/'\n",
    "\n",
    "relationship_score_list = list()\n",
    "for (region in dir(file_path)){\n",
    "    file = paste(file_path,region,sep='')\n",
    "    file = paste(paste(file,'/',sep=''),region,sep='')\n",
    "    file = paste(file,'_scores_var_5c_33d.csv',sep='')\n",
    "    favee_df = read.csv(file,row.names=1)\n",
    "    \n",
    "    region = gsub('HK','HK(region)',region) \n",
    "    region = gsub('South_africa','South Africa',region)\n",
    "    relationship_score_list[[region]] = favee_df}\n",
    "\n",
    "rdm_list = list()\n",
    "for (region in regions){\n",
    "    region_model = relationship_score_list[[region]]\n",
    "    rdm_list[[region]] = c(dist(region_model,\n",
    "                             method = 'euclidean'))}\n",
    "\n",
    "combine_rdm = cbind(rdm_list[[1]],rdm_list[[2]])\n",
    "# combine all regions' results\n",
    "for (region in regions[3:length(regions)]){\n",
    "    combine_rdm = cbind(combine_rdm,rdm_list[[region]])}\n",
    "colnames(combine_rdm) = regions"
   ]
  },
  {
   "cell_type": "markdown",
   "id": "9b076138",
   "metadata": {},
   "source": [
    "assign labels to dimensions"
   ]
  },
  {
   "cell_type": "code",
   "execution_count": 4,
   "id": "e6696a06",
   "metadata": {
    "ExecuteTime": {
     "end_time": "2023-08-16T14:00:47.114948Z",
     "start_time": "2023-08-16T14:00:46.951Z"
    },
    "vscode": {
     "languageId": "r"
    }
   },
   "outputs": [
    {
     "name": "stdout",
     "output_type": "stream",
     "text": [
      "[1] \"USA\"\n",
      "[1] -1  1 -1  1  1\n",
      "[1] \"UK\"\n",
      "[1]  1 -1 -1 -1  1\n",
      "[1] \"Australia\"\n",
      "[1]  1  1 -1  1  1\n",
      "[1] \"South Africa\"\n",
      "[1] -1  1  1 -1 -1\n",
      "[1] \"Germany\"\n",
      "[1]  1  1 -1 -1  1\n",
      "[1] \"Japan\"\n",
      "[1] -1  1  1 -1  1\n",
      "[1] \"Israel\"\n",
      "[1] -1  1 -1 -1  1\n",
      "[1] \"CHN\"\n",
      "[1] -1  1  1  1 -1\n",
      "[1] \"HK(region)\"\n",
      "[1] -1  1  1  1  1\n",
      "[1] \"France\"\n",
      "[1]  1 -1 -1  1  1\n",
      "[1] \"Spain\"\n",
      "[1] -1  1 -1  1  1\n",
      "[1] \"Mexico\"\n",
      "[1] -1  1  1  1 -1\n",
      "[1] \"Chile\"\n",
      "[1] 1 1 1 1 1\n",
      "[1] \"Portugal\"\n",
      "[1]  1  1  1 -1 -1\n",
      "[1] \"Brazil\"\n",
      "[1] -1  1  1 -1 -1\n",
      "[1] \"Russia\"\n",
      "[1] -1 -1 -1 -1 -1\n",
      "[1] \"Egypt\"\n",
      "[1] -1  1 -1 -1 -1\n",
      "[1] \"Qatar\"\n",
      "[1] -1  1  1  1 -1\n",
      "[1] \"India\"\n",
      "[1]  1  1 -1 -1  1\n"
     ]
    }
   ],
   "source": [
    "# summarise model labels\n",
    "model_label_df = read.xlsx('input_data/dimensions_check.xlsx',\n",
    "                           sheet='Model_33d_5c')\n",
    "model_label_df = rename(model_label_df,c('South.Africa'='South Africa'))\n",
    "model_label_df = model_label_df[1:5,regions]\n",
    "# transform dataframe into dictionary(list)\n",
    "model_label_list = as.list(model_label_df)\n",
    "\n",
    "# add model labal to raw models\n",
    "relationship_score_name_list = list()\n",
    "for (region in names(model_label_list)){\n",
    "    # grab the model labels\n",
    "    model_label = model_label_list[[region]]\n",
    "    reverse = rep(1,5)\n",
    "    col_numbers = seq(1,5)\n",
    "    \n",
    "    count = 1\n",
    "    for (label in model_label){\n",
    "        # label of one dimension\n",
    "        temp = strsplit(label,'(',fixed = TRUE)[[1]]\n",
    "        model_label[count] = temp[1]\n",
    "        \n",
    "        if (!is.na(temp[2])){\n",
    "            # whether the dimension required to be reversed or not\n",
    "            reverse[count] = -1\n",
    "        }\n",
    "        \n",
    "        count = count + 1\n",
    "    }\n",
    "    region_df = relationship_score_list[[region]]\n",
    "    colnames(region_df) = model_label\n",
    "    # reverse the column\n",
    "    for (col in col_numbers){region_df[col] = region_df[col]*reverse[col]}\n",
    "    relationship_score_name_list[[region]] = region_df\n",
    "    \n",
    "    write.csv(region_df,paste0('output_data/pca_each_region_labels/',region,'.csv'))\n",
    "    print(region)\n",
    "    print(reverse)\n",
    "}"
   ]
  }
 ],
 "metadata": {
  "kernelspec": {
   "display_name": "R",
   "language": "R",
   "name": "ir"
  },
  "language_info": {
   "codemirror_mode": "r",
   "file_extension": ".r",
   "mimetype": "text/x-r-source",
   "name": "R",
   "pygments_lexer": "r",
   "version": "4.1.2"
  },
  "latex_envs": {
   "LaTeX_envs_menu_present": true,
   "autoclose": false,
   "autocomplete": true,
   "bibliofile": "biblio.bib",
   "cite_by": "apalike",
   "current_citInitial": 1,
   "eqLabelWithNumbers": true,
   "eqNumInitial": 1,
   "hotkeys": {
    "equation": "Ctrl-E",
    "itemize": "Ctrl-I"
   },
   "labels_anchors": false,
   "latex_user_defs": false,
   "report_style_numbering": false,
   "user_envs_cfg": false
  },
  "toc": {
   "base_numbering": 1,
   "nav_menu": {},
   "number_sections": true,
   "sideBar": true,
   "skip_h1_title": false,
   "title_cell": "Table of Contents",
   "title_sidebar": "Contents",
   "toc_cell": true,
   "toc_position": {
    "height": "368.25px",
    "left": "526px",
    "top": "115px",
    "width": "381.594px"
   },
   "toc_section_display": true,
   "toc_window_display": true
  },
  "varInspector": {
   "cols": {
    "lenName": 16,
    "lenType": 16,
    "lenVar": 40
   },
   "kernels_config": {
    "python": {
     "delete_cmd_postfix": "",
     "delete_cmd_prefix": "del ",
     "library": "var_list.py",
     "varRefreshCmd": "print(var_dic_list())"
    },
    "r": {
     "delete_cmd_postfix": ") ",
     "delete_cmd_prefix": "rm(",
     "library": "var_list.r",
     "varRefreshCmd": "cat(var_dic_list()) "
    }
   },
   "types_to_exclude": [
    "module",
    "function",
    "builtin_function_or_method",
    "instance",
    "_Feature"
   ],
   "window_display": false
  }
 },
 "nbformat": 4,
 "nbformat_minor": 5
}
