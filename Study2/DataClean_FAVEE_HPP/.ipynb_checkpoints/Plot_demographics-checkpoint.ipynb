{
 "cells": [
  {
   "cell_type": "code",
   "execution_count": 2,
   "id": "62d1aba6",
   "metadata": {
    "ExecuteTime": {
     "end_time": "2022-12-16T09:40:17.484468Z",
     "start_time": "2022-12-16T09:40:17.465Z"
    }
   },
   "outputs": [],
   "source": [
    "library(readxl)\n",
    "library(tidyverse)\n",
    "library(reshape)\n",
    "\n",
    "library(RColorBrewer)"
   ]
  },
  {
   "cell_type": "markdown",
   "id": "3268704a",
   "metadata": {},
   "source": [
    "# Import data"
   ]
  },
  {
   "cell_type": "code",
   "execution_count": 20,
   "id": "39bdf8c3",
   "metadata": {
    "ExecuteTime": {
     "end_time": "2022-12-16T09:45:27.224611Z",
     "start_time": "2022-12-16T09:45:27.178Z"
    }
   },
   "outputs": [
    {
     "name": "stderr",
     "output_type": "stream",
     "text": [
      "New names:\n",
      "* `` -> ...6\n",
      "* `` -> ...8\n",
      "* `` -> ...9\n",
      "* `` -> ...10\n",
      "* `` -> ...11\n",
      "* ...\n",
      "\n"
     ]
    },
    {
     "data": {
      "text/html": [
       "<table class=\"dataframe\">\n",
       "<caption>A tibble: 6 × 25</caption>\n",
       "<thead>\n",
       "\t<tr><th scope=col>Demographic</th><th scope=col>Levels</th><th scope=col>Pilot Study</th><th scope=col>Study1</th><th scope=col>Study2</th><th scope=col>...6</th><th scope=col>Study3</th><th scope=col>...8</th><th scope=col>...9</th><th scope=col>...10</th><th scope=col>...</th><th scope=col>...16</th><th scope=col>...17</th><th scope=col>...18</th><th scope=col>...19</th><th scope=col>...20</th><th scope=col>...21</th><th scope=col>...22</th><th scope=col>...23</th><th scope=col>...24</th><th scope=col>...25</th></tr>\n",
       "\t<tr><th scope=col>&lt;chr&gt;</th><th scope=col>&lt;chr&gt;</th><th scope=col>&lt;chr&gt;</th><th scope=col>&lt;chr&gt;</th><th scope=col>&lt;chr&gt;</th><th scope=col>&lt;chr&gt;</th><th scope=col>&lt;chr&gt;</th><th scope=col>&lt;chr&gt;</th><th scope=col>&lt;chr&gt;</th><th scope=col>&lt;chr&gt;</th><th scope=col>...</th><th scope=col>&lt;chr&gt;</th><th scope=col>&lt;chr&gt;</th><th scope=col>&lt;chr&gt;</th><th scope=col>&lt;chr&gt;</th><th scope=col>&lt;chr&gt;</th><th scope=col>&lt;chr&gt;</th><th scope=col>&lt;chr&gt;</th><th scope=col>&lt;chr&gt;</th><th scope=col>&lt;chr&gt;</th><th scope=col>&lt;chr&gt;</th></tr>\n",
       "</thead>\n",
       "<tbody>\n",
       "\t<tr><td>NA </td><td>NA     </td><td>NA </td><td>NA </td><td>Category</td><td>Survey</td><td>AU </td><td>UK </td><td>US </td><td>ZA </td><td>...</td><td>IL </td><td>CN  </td><td>HK </td><td>JP </td><td>RU </td><td>DE </td><td>BR </td><td>PT </td><td>MX </td><td>CL </td></tr>\n",
       "\t<tr><td>Age</td><td><span style=white-space:pre-wrap>&lt; 18   </span></td><td><span style=white-space:pre-wrap>0  </span></td><td><span style=white-space:pre-wrap>0  </span></td><td><span style=white-space:pre-wrap>NA      </span></td><td><span style=white-space:pre-wrap>0     </span></td><td><span style=white-space:pre-wrap>1  </span></td><td><span style=white-space:pre-wrap>0  </span></td><td><span style=white-space:pre-wrap>1  </span></td><td><span style=white-space:pre-wrap>0  </span></td><td>...</td><td><span style=white-space:pre-wrap>0  </span></td><td><span style=white-space:pre-wrap>28  </span></td><td><span style=white-space:pre-wrap>1  </span></td><td><span style=white-space:pre-wrap>0  </span></td><td><span style=white-space:pre-wrap>0  </span></td><td><span style=white-space:pre-wrap>0  </span></td><td><span style=white-space:pre-wrap>0  </span></td><td><span style=white-space:pre-wrap>0  </span></td><td><span style=white-space:pre-wrap>0  </span></td><td><span style=white-space:pre-wrap>5  </span></td></tr>\n",
       "\t<tr><td>NA </td><td>18-24  </td><td>42 </td><td>108</td><td>NA      </td><td>5     </td><td>87 </td><td>67 </td><td>42 </td><td>223</td><td>...</td><td>117</td><td>2025</td><td>158</td><td>11 </td><td>43 </td><td>126</td><td>68 </td><td>240</td><td>184</td><td>195</td></tr>\n",
       "\t<tr><td>NA </td><td>25 - 34</td><td>226</td><td>318</td><td>NA      </td><td>9     </td><td>217</td><td>196</td><td>171</td><td>404</td><td>...</td><td>256</td><td>2073</td><td>332</td><td>223</td><td>111</td><td>257</td><td>313</td><td>215</td><td>297</td><td>276</td></tr>\n",
       "\t<tr><td>NA </td><td>35 - 44</td><td>160</td><td>186</td><td>NA      </td><td>0     </td><td>134</td><td>183</td><td>138</td><td>72 </td><td>...</td><td>126</td><td>477 </td><td>102</td><td>189</td><td>171</td><td>113</td><td>146</td><td>68 </td><td>47 </td><td>46 </td></tr>\n",
       "\t<tr><td>NA </td><td>45 - 54</td><td>77 </td><td>97 </td><td>NA      </td><td>0     </td><td>67 </td><td>88 </td><td>95 </td><td>28 </td><td>...</td><td>73 </td><td>105 </td><td>25 </td><td>100</td><td>177</td><td>41 </td><td>50 </td><td>37 </td><td>20 </td><td>14 </td></tr>\n",
       "</tbody>\n",
       "</table>\n"
      ],
      "text/latex": [
       "A tibble: 6 × 25\n",
       "\\begin{tabular}{lllllllllllllllllllll}\n",
       " Demographic & Levels & Pilot Study & Study1 & Study2 & ...6 & Study3 & ...8 & ...9 & ...10 & ... & ...16 & ...17 & ...18 & ...19 & ...20 & ...21 & ...22 & ...23 & ...24 & ...25\\\\\n",
       " <chr> & <chr> & <chr> & <chr> & <chr> & <chr> & <chr> & <chr> & <chr> & <chr> & ... & <chr> & <chr> & <chr> & <chr> & <chr> & <chr> & <chr> & <chr> & <chr> & <chr>\\\\\n",
       "\\hline\n",
       "\t NA  & NA      & NA  & NA  & Category & Survey & AU  & UK  & US  & ZA  & ... & IL  & CN   & HK  & JP  & RU  & DE  & BR  & PT  & MX  & CL \\\\\n",
       "\t Age & < 18    & 0   & 0   & NA       & 0      & 1   & 0   & 1   & 0   & ... & 0   & 28   & 1   & 0   & 0   & 0   & 0   & 0   & 0   & 5  \\\\\n",
       "\t NA  & 18-24   & 42  & 108 & NA       & 5      & 87  & 67  & 42  & 223 & ... & 117 & 2025 & 158 & 11  & 43  & 126 & 68  & 240 & 184 & 195\\\\\n",
       "\t NA  & 25 - 34 & 226 & 318 & NA       & 9      & 217 & 196 & 171 & 404 & ... & 256 & 2073 & 332 & 223 & 111 & 257 & 313 & 215 & 297 & 276\\\\\n",
       "\t NA  & 35 - 44 & 160 & 186 & NA       & 0      & 134 & 183 & 138 & 72  & ... & 126 & 477  & 102 & 189 & 171 & 113 & 146 & 68  & 47  & 46 \\\\\n",
       "\t NA  & 45 - 54 & 77  & 97  & NA       & 0      & 67  & 88  & 95  & 28  & ... & 73  & 105  & 25  & 100 & 177 & 41  & 50  & 37  & 20  & 14 \\\\\n",
       "\\end{tabular}\n"
      ],
      "text/markdown": [
       "\n",
       "A tibble: 6 × 25\n",
       "\n",
       "| Demographic &lt;chr&gt; | Levels &lt;chr&gt; | Pilot Study &lt;chr&gt; | Study1 &lt;chr&gt; | Study2 &lt;chr&gt; | ...6 &lt;chr&gt; | Study3 &lt;chr&gt; | ...8 &lt;chr&gt; | ...9 &lt;chr&gt; | ...10 &lt;chr&gt; | ... ... | ...16 &lt;chr&gt; | ...17 &lt;chr&gt; | ...18 &lt;chr&gt; | ...19 &lt;chr&gt; | ...20 &lt;chr&gt; | ...21 &lt;chr&gt; | ...22 &lt;chr&gt; | ...23 &lt;chr&gt; | ...24 &lt;chr&gt; | ...25 &lt;chr&gt; |\n",
       "|---|---|---|---|---|---|---|---|---|---|---|---|---|---|---|---|---|---|---|---|---|\n",
       "| NA  | NA      | NA  | NA  | Category | Survey | AU  | UK  | US  | ZA  | ... | IL  | CN   | HK  | JP  | RU  | DE  | BR  | PT  | MX  | CL  |\n",
       "| Age | &lt; 18    | 0   | 0   | NA       | 0      | 1   | 0   | 1   | 0   | ... | 0   | 28   | 1   | 0   | 0   | 0   | 0   | 0   | 0   | 5   |\n",
       "| NA  | 18-24   | 42  | 108 | NA       | 5      | 87  | 67  | 42  | 223 | ... | 117 | 2025 | 158 | 11  | 43  | 126 | 68  | 240 | 184 | 195 |\n",
       "| NA  | 25 - 34 | 226 | 318 | NA       | 9      | 217 | 196 | 171 | 404 | ... | 256 | 2073 | 332 | 223 | 111 | 257 | 313 | 215 | 297 | 276 |\n",
       "| NA  | 35 - 44 | 160 | 186 | NA       | 0      | 134 | 183 | 138 | 72  | ... | 126 | 477  | 102 | 189 | 171 | 113 | 146 | 68  | 47  | 46  |\n",
       "| NA  | 45 - 54 | 77  | 97  | NA       | 0      | 67  | 88  | 95  | 28  | ... | 73  | 105  | 25  | 100 | 177 | 41  | 50  | 37  | 20  | 14  |\n",
       "\n"
      ],
      "text/plain": [
       "  Demographic Levels  Pilot Study Study1 Study2   ...6   Study3 ...8 ...9 ...10\n",
       "1 NA          NA      NA          NA     Category Survey AU     UK   US   ZA   \n",
       "2 Age         < 18    0           0      NA       0      1      0    1    0    \n",
       "3 NA          18-24   42          108    NA       5      87     67   42   223  \n",
       "4 NA          25 - 34 226         318    NA       9      217    196  171  404  \n",
       "5 NA          35 - 44 160         186    NA       0      134    183  138  72   \n",
       "6 NA          45 - 54 77          97     NA       0      67     88   95   28   \n",
       "  ... ...16 ...17 ...18 ...19 ...20 ...21 ...22 ...23 ...24 ...25\n",
       "1 ... IL    CN    HK    JP    RU    DE    BR    PT    MX    CL   \n",
       "2 ... 0     28    1     0     0     0     0     0     0     5    \n",
       "3 ... 117   2025  158   11    43    126   68    240   184   195  \n",
       "4 ... 256   2073  332   223   111   257   313   215   297   276  \n",
       "5 ... 126   477   102   189   171   113   146   68    47    46   \n",
       "6 ... 73    105   25    100   177   41    50    37    20    14   "
      ]
     },
     "metadata": {},
     "output_type": "display_data"
    }
   ],
   "source": [
    "demographics_sum = read_excel('Demographics.xlsx',sheet = 'SUM')\n",
    "head(demographics_sum)"
   ]
  },
  {
   "cell_type": "markdown",
   "id": "ec65dd03",
   "metadata": {},
   "source": [
    "# Age"
   ]
  },
  {
   "cell_type": "code",
   "execution_count": 7,
   "id": "d04a47f8",
   "metadata": {
    "ExecuteTime": {
     "end_time": "2022-12-16T09:40:43.138585Z",
     "start_time": "2022-12-16T09:40:43.103Z"
    }
   },
   "outputs": [],
   "source": [
    "Age = demographics_sum[-c(5,6)] # remove Study2\n",
    "Age_col = colnames(Age)[1:4]\n",
    "for (region in Age[1,5:23]){\n",
    "    Age_col = c(Age_col,region)\n",
    "}\n",
    "Age_col = gsub('Pilot Study','Pilot_Study',Age_col)\n",
    "Age = Age[2:11,] # abstract age\n",
    "colnames(Age) = Age_col\n",
    "\n",
    "Age[3:23] = lapply(Age[3:23],function(x){as.numeric(x)}) # transfer into numeric\n",
    "Age[3:23] = lapply(Age[3:23], function(x) x / sum(x)) # transfer to percentage"
   ]
  },
  {
   "cell_type": "code",
   "execution_count": 87,
   "id": "ea825a8e",
   "metadata": {
    "ExecuteTime": {
     "end_time": "2022-12-16T05:52:49.954787Z",
     "start_time": "2022-12-16T05:52:49.694Z"
    }
   },
   "outputs": [
    {
     "data": {
      "image/png": "[encoded data removed]",
      "text/plain": [
       "plot without title"
      ]
     },
     "metadata": {
      "image/png": {
       "height": 1200,
       "width": 480
      }
     },
     "output_type": "display_data"
    }
   ],
   "source": [
    "Age_plot = Age[2:23] %>% group_by(Levels) %>% \n",
    "           gather(key = \"Study\", value = 'per',colnames(Age)[3:23])\n",
    "\n",
    "Age_plot$'Study' = factor(Age_plot$'Study', levels=rev(c('Pilot_Study','Study1',\n",
    "        'AU','BR','CL','CN','EG','FR','DE','HK','IN','IL','JP','MX','PT',\n",
    "        'QA','RU','ZA','ES','UK','US'))) \n",
    "Age_plot$'Levels' = factor(Age_plot$'Levels', \n",
    "            levels=rev(c('< 18','18-24','25 - 34','35 - 44',\n",
    "            '45 - 54','55 - 64','65 - 74','75 - 84','> 85','No response')))\n",
    "\n",
    "options(repr.plot.height=20,repr.plot.width=8)\n",
    "ggplot(Age_plot,aes(x=Study,y=per,fill=Levels))+\n",
    "geom_bar(stat='identity', width=0.8)+\n",
    "scale_fill_manual(values=colorRampPalette(brewer.pal(n=9,name =\"Greens\"))(10))+\n",
    "coord_flip()+\n",
    "theme_classic()+\n",
    "theme(axis.text=element_text(size=30,face='bold'),\n",
    "      axis.text.x=element_blank(),\n",
    "      axis.title=element_blank(),\n",
    "      axis.line.x=element_line(linetype=1,color=\"black\",size=3),\n",
    "      axis.line.y=element_line(linetype=1,color=\"black\",size=3),\n",
    "      legend.position='bottom',legend.key.size = unit(30,'pt'),\n",
    "      legend.text=element_text(size=16),legend.title=element_blank()) + \n",
    "guides(fill = guide_legend(nrow = 2))"
   ]
  },
  {
   "cell_type": "code",
   "execution_count": 85,
   "id": "f04fa325",
   "metadata": {
    "ExecuteTime": {
     "end_time": "2022-12-16T05:42:22.943733Z",
     "start_time": "2022-12-16T05:42:22.591Z"
    }
   },
   "outputs": [
    {
     "data": {
      "text/html": [
       "<strong>png:</strong> 2"
      ],
      "text/latex": [
       "\\textbf{png:} 2"
      ],
      "text/markdown": [
       "**png:** 2"
      ],
      "text/plain": [
       "png \n",
       "  2 "
      ]
     },
     "metadata": {},
     "output_type": "display_data"
    }
   ],
   "source": [
    "png(\"../output_graph/demographics/age.png\", bg=\"transparent\",\n",
    "    family = 'sans',units='in',width=8,height=20,res=300)\n",
    "ggplot(Age_plot,aes(x=Study,y=per,fill=Levels))+\n",
    "geom_bar(stat='identity', width=0.8)+\n",
    "scale_fill_manual(values=colorRampPalette(brewer.pal(n=9,name =\"Greens\"))(10))+\n",
    "coord_flip()+\n",
    "theme_classic()+\n",
    "theme(axis.text=element_blank(),\n",
    "      axis.title=element_blank(),\n",
    "      axis.line.x=element_line(linetype=1,color=\"black\",size=3),\n",
    "      axis.line.y=element_line(linetype=1,color=\"black\",size=3),\n",
    "      legend.position='none') + \n",
    "guides(fill = guide_legend(nrow = 2))\n",
    "dev.off()"
   ]
  },
  {
   "cell_type": "code",
   "execution_count": 76,
   "id": "bde1ecec",
   "metadata": {
    "ExecuteTime": {
     "end_time": "2022-12-16T05:38:54.159522Z",
     "start_time": "2022-12-16T05:38:54.133Z"
    }
   },
   "outputs": [
    {
     "data": {
      "text/html": [
       "<style>\n",
       ".list-inline {list-style: none; margin:0; padding: 0}\n",
       ".list-inline>li {display: inline-block}\n",
       ".list-inline>li:not(:last-child)::after {content: \"\\00b7\"; padding: 0 .5ex}\n",
       "</style>\n",
       "<ol class=list-inline><li>'#F7FCF5'</li><li>'#E5F5E0'</li><li>'#C7E9C0'</li><li>'#A1D99B'</li><li>'#74C476'</li><li>'#41AB5D'</li><li>'#238B45'</li><li>'#006D2C'</li><li>'#00441B'</li></ol>\n"
      ],
      "text/latex": [
       "\\begin{enumerate*}\n",
       "\\item '\\#F7FCF5'\n",
       "\\item '\\#E5F5E0'\n",
       "\\item '\\#C7E9C0'\n",
       "\\item '\\#A1D99B'\n",
       "\\item '\\#74C476'\n",
       "\\item '\\#41AB5D'\n",
       "\\item '\\#238B45'\n",
       "\\item '\\#006D2C'\n",
       "\\item '\\#00441B'\n",
       "\\end{enumerate*}\n"
      ],
      "text/markdown": [
       "1. '#F7FCF5'\n",
       "2. '#E5F5E0'\n",
       "3. '#C7E9C0'\n",
       "4. '#A1D99B'\n",
       "5. '#74C476'\n",
       "6. '#41AB5D'\n",
       "7. '#238B45'\n",
       "8. '#006D2C'\n",
       "9. '#00441B'\n",
       "\n",
       "\n"
      ],
      "text/plain": [
       "[1] \"#F7FCF5\" \"#E5F5E0\" \"#C7E9C0\" \"#A1D99B\" \"#74C476\" \"#41AB5D\" \"#238B45\"\n",
       "[8] \"#006D2C\" \"#00441B\""
      ]
     },
     "metadata": {},
     "output_type": "display_data"
    },
    {
     "data": {
      "text/html": [
       "<style>\n",
       ".list-inline {list-style: none; margin:0; padding: 0}\n",
       ".list-inline>li {display: inline-block}\n",
       ".list-inline>li:not(:last-child)::after {content: \"\\00b7\"; padding: 0 .5ex}\n",
       "</style>\n",
       "<ol class=list-inline><li>'#00441B'</li><li>'#00682A'</li><li>'#1B843F'</li><li>'#36A055'</li><li>'#5DB86A'</li><li>'#88CD86'</li><li>'#ADDEA7'</li><li>'#CDEBC7'</li><li>'#E7F5E2'</li><li>'#F7FCF5'</li></ol>\n"
      ],
      "text/latex": [
       "\\begin{enumerate*}\n",
       "\\item '\\#00441B'\n",
       "\\item '\\#00682A'\n",
       "\\item '\\#1B843F'\n",
       "\\item '\\#36A055'\n",
       "\\item '\\#5DB86A'\n",
       "\\item '\\#88CD86'\n",
       "\\item '\\#ADDEA7'\n",
       "\\item '\\#CDEBC7'\n",
       "\\item '\\#E7F5E2'\n",
       "\\item '\\#F7FCF5'\n",
       "\\end{enumerate*}\n"
      ],
      "text/markdown": [
       "1. '#00441B'\n",
       "2. '#00682A'\n",
       "3. '#1B843F'\n",
       "4. '#36A055'\n",
       "5. '#5DB86A'\n",
       "6. '#88CD86'\n",
       "7. '#ADDEA7'\n",
       "8. '#CDEBC7'\n",
       "9. '#E7F5E2'\n",
       "10. '#F7FCF5'\n",
       "\n",
       "\n"
      ],
      "text/plain": [
       " [1] \"#00441B\" \"#00682A\" \"#1B843F\" \"#36A055\" \"#5DB86A\" \"#88CD86\" \"#ADDEA7\"\n",
       " [8] \"#CDEBC7\" \"#E7F5E2\" \"#F7FCF5\""
      ]
     },
     "metadata": {},
     "output_type": "display_data"
    }
   ],
   "source": [
    "brewer.pal(n=9,name =\"Greens\")\n",
    "colorRampPalette(rev(brewer.pal(n=9,name =\"Greens\")))(10)"
   ]
  },
  {
   "cell_type": "markdown",
   "id": "bb55d180",
   "metadata": {
    "ExecuteTime": {
     "end_time": "2022-12-06T01:49:11.208156Z",
     "start_time": "2022-12-06T01:49:11.186Z"
    }
   },
   "source": [
    "# Gender"
   ]
  },
  {
   "cell_type": "code",
   "execution_count": 88,
   "id": "0bf5595d",
   "metadata": {
    "ExecuteTime": {
     "end_time": "2022-12-16T05:53:03.362400Z",
     "start_time": "2022-12-16T05:53:03.333Z"
    }
   },
   "outputs": [],
   "source": [
    "Gender = demographics_sum[-c(5,6)] # remove Study2\n",
    "Gender = Gender[12:14,] # abstract gender\n",
    "colnames(Gender) = Age_col\n",
    "\n",
    "Gender[3:23] = lapply(Gender[3:23],function(x){gsub('—',0,x)})\n",
    "Gender[3:23] = lapply(Gender[3:23],function(x){as.numeric(x)}) # transfer into numeric\n",
    "Gender[3:23] = lapply(Gender[3:23], function(x) x / sum(x)) # transfer to percentage\n",
    "\n",
    "Gender$'Levels' = factor(Gender$'Levels', \n",
    "                         levels=c('Female','Male','Prefer not to answer'))"
   ]
  },
  {
   "cell_type": "code",
   "execution_count": 90,
   "id": "b911b2ea",
   "metadata": {
    "ExecuteTime": {
     "end_time": "2022-12-16T05:53:16.212193Z",
     "start_time": "2022-12-16T05:53:16.019Z"
    }
   },
   "outputs": [
    {
     "data": {
      "image/png": "[encoded data removed]",
      "text/plain": [
       "plot without title"
      ]
     },
     "metadata": {
      "image/png": {
       "height": 1200,
       "width": 480
      }
     },
     "output_type": "display_data"
    }
   ],
   "source": [
    "Gender_plot = Gender[2:23] %>% group_by(Levels) %>% \n",
    "           gather(key = \"Study\", value = 'per',colnames(Gender)[3:23])\n",
    "\n",
    "Gender_plot$'Study' = factor(Gender_plot$'Study', levels=rev(c('Pilot_Study','Study1',\n",
    "        'AU','BR','CL','CN','EG','FR','DE','HK','IN','IL','JP','MX','PT',\n",
    "        'QA','RU','ZA','ES','UK','US')))  \n",
    "\n",
    "options(repr.plot.height=20,repr.plot.width=8)\n",
    "ggplot(Gender_plot,aes(x=Study,y=per,fill=Levels))+\n",
    "geom_bar(stat='identity', width=0.7)+\n",
    "scale_fill_manual(values=c('Female'='#C00000','Male'='#4472C4','Prefer not to answer'='grey'))+\n",
    "theme_classic()+\n",
    "theme(axis.text=element_text(size=30,face='bold'),\n",
    "      axis.text.x=element_blank(),\n",
    "      axis.title=element_blank(),\n",
    "      axis.line.x=element_line(linetype=1,color=\"black\",size=3),\n",
    "      axis.line.y=element_line(linetype=1,color=\"black\",size=3),\n",
    "      legend.position='bottom',legend.key.size = unit(30,'pt'),\n",
    "      legend.text=element_text(size=16),legend.title=element_blank()) + \n",
    "coord_flip()"
   ]
  },
  {
   "cell_type": "code",
   "execution_count": 92,
   "id": "f9d49fd1",
   "metadata": {
    "ExecuteTime": {
     "end_time": "2022-12-16T05:54:20.724641Z",
     "start_time": "2022-12-16T05:54:20.407Z"
    }
   },
   "outputs": [
    {
     "data": {
      "text/html": [
       "<strong>png:</strong> 2"
      ],
      "text/latex": [
       "\\textbf{png:} 2"
      ],
      "text/markdown": [
       "**png:** 2"
      ],
      "text/plain": [
       "png \n",
       "  2 "
      ]
     },
     "metadata": {},
     "output_type": "display_data"
    }
   ],
   "source": [
    "png(\"../output_graph/demographics/gender.png\", bg=\"transparent\",\n",
    "    family = 'sans',units='in',width=8,height=20,res=300)\n",
    "ggplot(Gender_plot,aes(x=Study,y=per,fill=Levels))+\n",
    "geom_bar(stat='identity', width=0.7)+\n",
    "scale_fill_manual(values=c('Female'='#C00000','Male'='#4472C4','Prefer not to answer'='grey'))+\n",
    "theme_classic()+\n",
    "theme(axis.text=element_blank(),\n",
    "      axis.title=element_blank(),\n",
    "      axis.line.x=element_line(linetype=1,color=\"black\",size=3),\n",
    "      axis.line.y=element_line(linetype=1,color=\"black\",size=3),\n",
    "      legend.position='none') + \n",
    "coord_flip()\n",
    "dev.off()"
   ]
  },
  {
   "cell_type": "markdown",
   "id": "ad93657c",
   "metadata": {
    "ExecuteTime": {
     "end_time": "2022-12-06T06:44:30.792632Z",
     "start_time": "2022-12-06T06:44:30.766Z"
    }
   },
   "source": [
    "# Education"
   ]
  },
  {
   "cell_type": "code",
   "execution_count": 93,
   "id": "bdfd5c20",
   "metadata": {
    "ExecuteTime": {
     "end_time": "2022-12-16T05:57:15.019191Z",
     "start_time": "2022-12-16T05:57:14.996Z"
    }
   },
   "outputs": [],
   "source": [
    "Education = demographics_sum[-c(5,6)] # remove Study2\n",
    "Education = Education[16:25,] # abstract Education\n",
    "colnames(Education) = Age_col\n",
    "Education[3:23] = lapply(Education[3:23],function(x){as.numeric(x)}) # transfer into numeric\n",
    "Education[3:23] = lapply(Education[3:23], function(x) x / sum(x)) # transfer to percentage\n",
    "                         \n",
    "Education$'Levels' = factor(Education$'Levels', \n",
    "    levels=rev(c('Don\\'t know/No answer','Early childhood education/ no education','Primary education',\n",
    "                 'Lower secondary education','Upper secondary education',\n",
    "                 'Post-secondary non-tertiary education','Short-cycle tertiary education',\n",
    "                'Bachelor or equivalent','Master or equivalent',\n",
    "                'Doctoral or equivalent')))"
   ]
  },
  {
   "cell_type": "code",
   "execution_count": 97,
   "id": "ec79962f",
   "metadata": {
    "ExecuteTime": {
     "end_time": "2022-12-16T06:05:31.169914Z",
     "start_time": "2022-12-16T06:05:30.884Z"
    }
   },
   "outputs": [
    {
     "data": {
      "image/png": "[encoded data removed]",
      "text/plain": [
       "plot without title"
      ]
     },
     "metadata": {
      "image/png": {
       "height": 1200,
       "width": 480
      }
     },
     "output_type": "display_data"
    }
   ],
   "source": [
    "Education_plot = Education[2:23] %>% group_by(Levels) %>% \n",
    "           gather(key = \"Study\", value = 'per',colnames(Education)[3:23])\n",
    "\n",
    "Education_plot$'Study' = factor(Education_plot$'Study', levels=rev(c('Pilot_Study','Study1',\n",
    "        'AU','BR','CL','CN','EG','FR','DE','HK','IN','IL','JP','MX','PT',\n",
    "        'QA','RU','ZA','ES','UK','US')))  \n",
    "\n",
    "options(repr.plot.height=20,repr.plot.width=8)\n",
    "ggplot(Education_plot,aes(x=Study,y=per,fill=Levels))+\n",
    "geom_bar(stat='identity', width=0.8)+\n",
    "scale_fill_manual(values=colorRampPalette(rev(brewer.pal(n=9,name =\"Oranges\")))(10))+\n",
    "coord_flip()+\n",
    "theme_classic()+\n",
    "theme(axis.text=element_text(size=30,face='bold'),\n",
    "      axis.text.x=element_blank(),\n",
    "      axis.title=element_blank(),\n",
    "      axis.line.x=element_line(linetype=1,color=\"black\",size=3),\n",
    "      axis.line.y=element_line(linetype=1,color=\"black\",size=3),\n",
    "      legend.position='bottom',legend.key.size = unit(30,'pt'),\n",
    "      legend.text=element_text(size=6),legend.title=element_blank()) + \n",
    "guides(fill = guide_legend(nrow = 2))"
   ]
  },
  {
   "cell_type": "code",
   "execution_count": 96,
   "id": "3d608d0d",
   "metadata": {
    "ExecuteTime": {
     "end_time": "2022-12-16T05:58:34.036407Z",
     "start_time": "2022-12-16T05:58:33.695Z"
    }
   },
   "outputs": [
    {
     "data": {
      "text/html": [
       "<strong>png:</strong> 2"
      ],
      "text/latex": [
       "\\textbf{png:} 2"
      ],
      "text/markdown": [
       "**png:** 2"
      ],
      "text/plain": [
       "png \n",
       "  2 "
      ]
     },
     "metadata": {},
     "output_type": "display_data"
    }
   ],
   "source": [
    "png(\"../output_graph/demographics/education.png\", bg=\"transparent\",\n",
    "    family = 'sans',units='in',width=8,height=20,res=300)\n",
    "ggplot(Education_plot,aes(x=Study,y=per,fill=Levels))+\n",
    "geom_bar(stat='identity', width=0.8)+\n",
    "scale_fill_manual(values=colorRampPalette(rev(brewer.pal(n=9,name =\"Oranges\")))(10))+\n",
    "coord_flip()+\n",
    "theme_classic()+\n",
    "theme(axis.text=element_blank(),\n",
    "      axis.title=element_blank(),\n",
    "      axis.line.x=element_line(linetype=1,color=\"black\",size=3),\n",
    "      axis.line.y=element_line(linetype=1,color=\"black\",size=3),\n",
    "      legend.position='none') + \n",
    "guides(fill = guide_legend(nrow = 2))\n",
    "dev.off()"
   ]
  },
  {
   "cell_type": "markdown",
   "id": "d20bcde3",
   "metadata": {},
   "source": [
    "# Ethnicity"
   ]
  },
  {
   "cell_type": "code",
   "execution_count": 8,
   "id": "9903fabd",
   "metadata": {
    "ExecuteTime": {
     "end_time": "2022-12-16T09:40:58.044409Z",
     "start_time": "2022-12-16T09:40:58.028Z"
    }
   },
   "outputs": [],
   "source": [
    "library(ggpubr)\n",
    "library(ggsci)\n",
    "library(paletteer) # show palettee"
   ]
  },
  {
   "cell_type": "code",
   "execution_count": 24,
   "id": "3cd2dc84",
   "metadata": {
    "ExecuteTime": {
     "end_time": "2022-12-16T09:46:00.186530Z",
     "start_time": "2022-12-16T09:46:00.166Z"
    }
   },
   "outputs": [],
   "source": [
    "Ethnicity = demographics_sum[-c(5,6)] # remove Study2\n",
    "Ethnicity = Ethnicity[26:52,] # abstract Ethnicity\n",
    "colnames(Ethnicity) = Age_col"
   ]
  },
  {
   "cell_type": "code",
   "execution_count": 10,
   "id": "fc514966",
   "metadata": {
    "ExecuteTime": {
     "end_time": "2022-12-16T09:40:59.081993Z",
     "start_time": "2022-12-16T09:40:59.066Z"
    }
   },
   "outputs": [
    {
     "data": {
      "text/html": [
       "<style>\n",
       ".list-inline {list-style: none; margin:0; padding: 0}\n",
       ".list-inline>li {display: inline-block}\n",
       ".list-inline>li:not(:last-child)::after {content: \"\\00b7\"; padding: 0 .5ex}\n",
       "</style>\n",
       "<ol class=list-inline><li>'White'</li><li>'Black'</li><li>'South Asian Indian, Pakistani, etc.'</li><li>'East Asian Chinese, Japanese, etc.'</li><li>'Arabic, Central Asian'</li><li>'Asian (in general)'</li><li>'Han'</li><li>'Yamato Ethnic Group'</li><li>'Ryukyu Peoples'</li><li>'Ainu Ethnicity'</li><li>'Russian'</li><li>'Tatar'</li><li>'Ukrainian'</li><li>'Belorussian'</li><li>'Jewish'</li><li>'German'</li><li>'Dane'</li><li>'Sorbian'</li><li>'Brown or mulatto'</li><li>'Indigenous'</li><li>'Portuguese'</li><li>'Latino'</li><li>'Mestizo'</li><li>'Mulatto'</li><li>'American Indian or Alaska Native'</li><li>'Native Hawaiian or Pacific Islander'</li><li>'Other (write in)/No answer'</li></ol>\n"
      ],
      "text/latex": [
       "\\begin{enumerate*}\n",
       "\\item 'White'\n",
       "\\item 'Black'\n",
       "\\item 'South Asian Indian, Pakistani, etc.'\n",
       "\\item 'East Asian Chinese, Japanese, etc.'\n",
       "\\item 'Arabic, Central Asian'\n",
       "\\item 'Asian (in general)'\n",
       "\\item 'Han'\n",
       "\\item 'Yamato Ethnic Group'\n",
       "\\item 'Ryukyu Peoples'\n",
       "\\item 'Ainu Ethnicity'\n",
       "\\item 'Russian'\n",
       "\\item 'Tatar'\n",
       "\\item 'Ukrainian'\n",
       "\\item 'Belorussian'\n",
       "\\item 'Jewish'\n",
       "\\item 'German'\n",
       "\\item 'Dane'\n",
       "\\item 'Sorbian'\n",
       "\\item 'Brown or mulatto'\n",
       "\\item 'Indigenous'\n",
       "\\item 'Portuguese'\n",
       "\\item 'Latino'\n",
       "\\item 'Mestizo'\n",
       "\\item 'Mulatto'\n",
       "\\item 'American Indian or Alaska Native'\n",
       "\\item 'Native Hawaiian or Pacific Islander'\n",
       "\\item 'Other (write in)/No answer'\n",
       "\\end{enumerate*}\n"
      ],
      "text/markdown": [
       "1. 'White'\n",
       "2. 'Black'\n",
       "3. 'South Asian Indian, Pakistani, etc.'\n",
       "4. 'East Asian Chinese, Japanese, etc.'\n",
       "5. 'Arabic, Central Asian'\n",
       "6. 'Asian (in general)'\n",
       "7. 'Han'\n",
       "8. 'Yamato Ethnic Group'\n",
       "9. 'Ryukyu Peoples'\n",
       "10. 'Ainu Ethnicity'\n",
       "11. 'Russian'\n",
       "12. 'Tatar'\n",
       "13. 'Ukrainian'\n",
       "14. 'Belorussian'\n",
       "15. 'Jewish'\n",
       "16. 'German'\n",
       "17. 'Dane'\n",
       "18. 'Sorbian'\n",
       "19. 'Brown or mulatto'\n",
       "20. 'Indigenous'\n",
       "21. 'Portuguese'\n",
       "22. 'Latino'\n",
       "23. 'Mestizo'\n",
       "24. 'Mulatto'\n",
       "25. 'American Indian or Alaska Native'\n",
       "26. 'Native Hawaiian or Pacific Islander'\n",
       "27. 'Other (write in)/No answer'\n",
       "\n",
       "\n"
      ],
      "text/plain": [
       " [1] \"White\"                               \"Black\"                              \n",
       " [3] \"South Asian Indian, Pakistani, etc.\" \"East Asian Chinese, Japanese, etc.\" \n",
       " [5] \"Arabic, Central Asian\"               \"Asian (in general)\"                 \n",
       " [7] \"Han\"                                 \"Yamato Ethnic Group\"                \n",
       " [9] \"Ryukyu Peoples\"                      \"Ainu Ethnicity\"                     \n",
       "[11] \"Russian\"                             \"Tatar\"                              \n",
       "[13] \"Ukrainian\"                           \"Belorussian\"                        \n",
       "[15] \"Jewish\"                              \"German\"                             \n",
       "[17] \"Dane\"                                \"Sorbian\"                            \n",
       "[19] \"Brown or mulatto\"                    \"Indigenous\"                         \n",
       "[21] \"Portuguese\"                          \"Latino\"                             \n",
       "[23] \"Mestizo\"                             \"Mulatto\"                            \n",
       "[25] \"American Indian or Alaska Native\"    \"Native Hawaiian or Pacific Islander\"\n",
       "[27] \"Other (write in)/No answer\"         "
      ]
     },
     "metadata": {},
     "output_type": "display_data"
    }
   ],
   "source": [
    "Ethnicity$'Levels'"
   ]
  },
  {
   "cell_type": "code",
   "execution_count": 11,
   "id": "97682b3c",
   "metadata": {
    "ExecuteTime": {
     "end_time": "2022-12-16T09:40:59.736083Z",
     "start_time": "2022-12-16T09:40:59.666Z"
    }
   },
   "outputs": [
    {
     "data": {
      "text/plain": [
       "<colors>\n",
       "\u001b[30m\u001b[48;5;228m#FAFD7CFF\u001b[49m\u001b[39m \u001b[37m\u001b[48;5;130m#82491EFF\u001b[49m\u001b[39m \u001b[37m\u001b[48;5;24m#24325FFF\u001b[49m\u001b[39m \u001b[30m\u001b[48;5;195m#B7E4F9FF\u001b[49m\u001b[39m \u001b[30m\u001b[48;5;210m#FB6467FF\u001b[49m\u001b[39m \u001b[37m\u001b[48;5;65m#526E2DFF\u001b[49m\u001b[39m \u001b[30m\u001b[48;5;213m#E762D7FF\u001b[49m\u001b[39m \u001b[30m\u001b[48;5;215m#E89242FF\u001b[49m\u001b[39m \u001b[30m\u001b[48;5;229m#FAE48BFF\u001b[49m\u001b[39m \u001b[30m\u001b[48;5;159m#A6EEE6FF\u001b[49m\u001b[39m \u001b[30m\u001b[48;5;138m#917C5DFF\u001b[49m\u001b[39m \u001b[30m\u001b[48;5;117m#69C8ECFF\u001b[49m\u001b[39m "
      ]
     },
     "metadata": {},
     "output_type": "display_data"
    },
    {
     "data": {
      "text/plain": [
       "<colors>\n",
       "\u001b[37m\u001b[48;5;232m#000000FF\u001b[49m\u001b[39m \u001b[37m\u001b[48;5;23m#004949FF\u001b[49m\u001b[39m \u001b[30m\u001b[48;5;37m#009292FF\u001b[49m\u001b[39m \u001b[30m\u001b[48;5;212m#FF6DB6FF\u001b[49m\u001b[39m \u001b[30m\u001b[48;5;225m#FFB6DBFF\u001b[49m\u001b[39m \u001b[37m\u001b[48;5;55m#490092FF\u001b[49m\u001b[39m \u001b[37m\u001b[48;5;33m#006DDBFF\u001b[49m\u001b[39m \u001b[30m\u001b[48;5;177m#B66DFFFF\u001b[49m\u001b[39m \u001b[30m\u001b[48;5;117m#6DB6FFFF\u001b[49m\u001b[39m \u001b[30m\u001b[48;5;195m#B6DBFFFF\u001b[49m\u001b[39m \u001b[37m\u001b[48;5;124m#920000FF\u001b[49m\u001b[39m \u001b[37m\u001b[48;5;130m#924900FF\u001b[49m\u001b[39m \u001b[30m\u001b[48;5;208m#DB6D00FF\u001b[49m\u001b[39m \u001b[30m\u001b[48;5;46m#24FF24FF\u001b[49m\u001b[39m \u001b[30m\u001b[48;5;228m#FFFF6DFF\u001b[49m\u001b[39m "
      ]
     },
     "metadata": {},
     "output_type": "display_data"
    },
    {
     "data": {
      "text/plain": [
       "<colors>\n",
       "\u001b[37m\u001b[48;5;25m#004586FF\u001b[49m\u001b[39m \u001b[30m\u001b[48;5;202m#FF420EFF\u001b[49m\u001b[39m \u001b[30m\u001b[48;5;220m#FFD320FF\u001b[49m\u001b[39m \u001b[30m\u001b[48;5;106m#579D1CFF\u001b[49m\u001b[39m \u001b[37m\u001b[48;5;88m#7E0021FF\u001b[49m\u001b[39m \u001b[30m\u001b[48;5;153m#83CAFFFF\u001b[49m\u001b[39m \u001b[37m\u001b[48;5;58m#314004FF\u001b[49m\u001b[39m \u001b[30m\u001b[48;5;184m#AECF00FF\u001b[49m\u001b[39m \u001b[37m\u001b[48;5;54m#4B1F6FFF\u001b[49m\u001b[39m \u001b[30m\u001b[48;5;214m#FF950EFF\u001b[49m\u001b[39m \u001b[37m\u001b[48;5;160m#C5000BFF\u001b[49m\u001b[39m \u001b[30m\u001b[48;5;38m#0084D1FF\u001b[49m\u001b[39m "
      ]
     },
     "metadata": {},
     "output_type": "display_data"
    }
   ],
   "source": [
    "paletteer_d(\"ggsci::schwifty_rickandmorty\")\n",
    "paletteer_d(\"colorBlindness::paletteMartin\")\n",
    "paletteer_d(\"ggthemes::calc\")"
   ]
  },
  {
   "cell_type": "code",
   "execution_count": 56,
   "id": "164b0ffc",
   "metadata": {
    "ExecuteTime": {
     "end_time": "2022-12-16T12:05:30.091022Z",
     "start_time": "2022-12-16T12:05:30.058Z"
    }
   },
   "outputs": [
    {
     "data": {
      "text/html": [
       "<table class=\"dataframe\">\n",
       "<caption>A tibble: 3 × 3</caption>\n",
       "<thead>\n",
       "\t<tr><th scope=col>Levels</th><th scope=col>study</th><th scope=col>mylabel</th></tr>\n",
       "\t<tr><th scope=col>&lt;chr&gt;</th><th scope=col>&lt;chr&gt;</th><th scope=col>&lt;chr&gt;</th></tr>\n",
       "</thead>\n",
       "<tbody>\n",
       "\t<tr><td>White </td><td>496</td><td></td></tr>\n",
       "\t<tr><td>Black </td><td>43 </td><td></td></tr>\n",
       "\t<tr><td>Others</td><td>53 </td><td></td></tr>\n",
       "</tbody>\n",
       "</table>\n"
      ],
      "text/latex": [
       "A tibble: 3 × 3\n",
       "\\begin{tabular}{lll}\n",
       " Levels & study & mylabel\\\\\n",
       " <chr> & <chr> & <chr>\\\\\n",
       "\\hline\n",
       "\t White  & 496 & \\\\\n",
       "\t Black  & 43  & \\\\\n",
       "\t Others & 53  & \\\\\n",
       "\\end{tabular}\n"
      ],
      "text/markdown": [
       "\n",
       "A tibble: 3 × 3\n",
       "\n",
       "| Levels &lt;chr&gt; | study &lt;chr&gt; | mylabel &lt;chr&gt; |\n",
       "|---|---|---|\n",
       "| White  | 496 | <!----> |\n",
       "| Black  | 43  | <!----> |\n",
       "| Others | 53  | <!----> |\n",
       "\n"
      ],
      "text/plain": [
       "  Levels study mylabel\n",
       "1 White  496          \n",
       "2 Black  43           \n",
       "3 Others 53           "
      ]
     },
     "metadata": {},
     "output_type": "display_data"
    }
   ],
   "source": [
    "df = Ethnicity[c('Levels','Pilot_Study')] \n",
    "colnames(df) = c('Levels','study')\n",
    "df = df %>% filter(study!='—')\n",
    "df$'study' = as.numeric(df$'study')\n",
    "\n",
    "others = df[df$'Levels'=='Asian (in general)',]$'study'+\n",
    "         df[df$'Levels'=='American Indian or Alaska Native',]$'study'+\n",
    "         df[df$'Levels'=='Native Hawaiian or Pacific Islander',]$'study'+\n",
    "         df[df$'Levels'=='Other (write in)/No answer',]$'study'\n",
    "others_df = c('Others',others)\n",
    "df = rbind(df,others_df)\n",
    "df$'mylabel' = ''\n",
    "df[-which(df$'Levels'%in%c('Asian (in general)','American Indian or Alaska Native',\n",
    "            'Native Hawaiian or Pacific Islander','Other (write in)/No answer')),]"
   ]
  },
  {
   "cell_type": "code",
   "execution_count": 57,
   "id": "60a65d57",
   "metadata": {
    "ExecuteTime": {
     "end_time": "2022-12-16T12:05:49.882757Z",
     "start_time": "2022-12-16T12:05:49.863Z"
    }
   },
   "outputs": [
    {
     "data": {
      "text/html": [
       "<table class=\"dataframe\">\n",
       "<caption>A tibble: 7 × 3</caption>\n",
       "<thead>\n",
       "\t<tr><th scope=col>Levels</th><th scope=col>study</th><th scope=col>mylabel</th></tr>\n",
       "\t<tr><th scope=col>&lt;chr&gt;</th><th scope=col>&lt;chr&gt;</th><th scope=col>&lt;chr&gt;</th></tr>\n",
       "</thead>\n",
       "<tbody>\n",
       "\t<tr><td>White                              </td><td>496</td><td></td></tr>\n",
       "\t<tr><td>Black                              </td><td>43 </td><td></td></tr>\n",
       "\t<tr><td>Asian (in general)                 </td><td>14 </td><td></td></tr>\n",
       "\t<tr><td>American Indian or Alaska Native   </td><td>5  </td><td></td></tr>\n",
       "\t<tr><td>Native Hawaiian or Pacific Islander</td><td>1  </td><td></td></tr>\n",
       "\t<tr><td>Other (write in)/No answer         </td><td>33 </td><td></td></tr>\n",
       "\t<tr><td>Others                             </td><td>53 </td><td></td></tr>\n",
       "</tbody>\n",
       "</table>\n"
      ],
      "text/latex": [
       "A tibble: 7 × 3\n",
       "\\begin{tabular}{lll}\n",
       " Levels & study & mylabel\\\\\n",
       " <chr> & <chr> & <chr>\\\\\n",
       "\\hline\n",
       "\t White                               & 496 & \\\\\n",
       "\t Black                               & 43  & \\\\\n",
       "\t Asian (in general)                  & 14  & \\\\\n",
       "\t American Indian or Alaska Native    & 5   & \\\\\n",
       "\t Native Hawaiian or Pacific Islander & 1   & \\\\\n",
       "\t Other (write in)/No answer          & 33  & \\\\\n",
       "\t Others                              & 53  & \\\\\n",
       "\\end{tabular}\n"
      ],
      "text/markdown": [
       "\n",
       "A tibble: 7 × 3\n",
       "\n",
       "| Levels &lt;chr&gt; | study &lt;chr&gt; | mylabel &lt;chr&gt; |\n",
       "|---|---|---|\n",
       "| White                               | 496 | <!----> |\n",
       "| Black                               | 43  | <!----> |\n",
       "| Asian (in general)                  | 14  | <!----> |\n",
       "| American Indian or Alaska Native    | 5   | <!----> |\n",
       "| Native Hawaiian or Pacific Islander | 1   | <!----> |\n",
       "| Other (write in)/No answer          | 33  | <!----> |\n",
       "| Others                              | 53  | <!----> |\n",
       "\n"
      ],
      "text/plain": [
       "  Levels                              study mylabel\n",
       "1 White                               496          \n",
       "2 Black                               43           \n",
       "3 Asian (in general)                  14           \n",
       "4 American Indian or Alaska Native    5            \n",
       "5 Native Hawaiian or Pacific Islander 1            \n",
       "6 Other (write in)/No answer          33           \n",
       "7 Others                              53           "
      ]
     },
     "metadata": {},
     "output_type": "display_data"
    }
   ],
   "source": [
    "df"
   ]
  },
  {
   "cell_type": "code",
   "execution_count": 96,
   "id": "8890178b",
   "metadata": {
    "ExecuteTime": {
     "end_time": "2022-12-16T15:20:55.254214Z",
     "start_time": "2022-12-16T15:20:55.230Z"
    }
   },
   "outputs": [],
   "source": [
    "circle_bar = function(select_study){\n",
    "    df = Ethnicity[c('Levels',select_study)] \n",
    "    colnames(df) = c('Levels','study')\n",
    "    df = df %>% filter(study!='—')\n",
    "    df$'study' = as.numeric(df$'study')\n",
    "    df$'mylabel' = ''\n",
    "#     myLabel = as.vector(df$Levels) \n",
    "#     myLabel = gsub('Asian (in general)','Asian',myLabel,fixed=TRUE)\n",
    "#     myLabel = paste(myLabel, \"(\", round(df$study / sum(df$study) * 100, 2), \"%)\", sep = \"\")\n",
    "    \n",
    "    options(repr.plot.height=5,repr.plot.width=5)\n",
    "    if (select_study %in% c('Pilot_Study','Study1')){\n",
    "        mypalette=c('#FAFD7CFF','#FB6467FF','#0084D1FF',\n",
    "                    '#C5000BFF','#4B1F6FFF','#24325FFF')\n",
    "        df$'Levels' = factor(df$'Levels',\n",
    "                      levels=c('White','Black','Asian (in general)',\n",
    "                    'American Indian or Alaska Native','Native Hawaiian or Pacific Islander',\n",
    "                    'Other (write in)/No answer'))}   \n",
    "    if (select_study %in% c('AU','UK','US','ZA','FR','QA','EG','IN','IL')){\n",
    "        mypalette = c('#FAFD7CFF','#FB6467FF','#82491EFF',\n",
    "                     '#B7E4F9FF','#526E2DFF','#24325FFF')\n",
    "        #rev(paletteer_d(\"ggsci::schwifty_rickandmorty\")[1:6])\n",
    "        df$'Levels' = factor(df$'Levels',\n",
    "                      levels=c('White','Black','South Asian Indian, Pakistani, etc.',\n",
    "                      'East Asian Chinese, Japanese, etc.','Arabic, Central Asian',\n",
    "                      'Other (write in)/No answer'))}\n",
    "    if (select_study %in% c('ES')){\n",
    "        mypalette = c('#FAFD7CFF','#FB6467FF','#82491EFF',\n",
    "                     '#B7E4F9FF','#526E2DFF','#0084D1FF',\n",
    "                      '#24325FFF')\n",
    "        df$'Levels' = factor(df$'Levels',\n",
    "                      levels=c('White','Black','South Asian Indian, Pakistani, etc.',\n",
    "                      'East Asian Chinese, Japanese, etc.','Arabic, Central Asian',\n",
    "                      'Asian (in general)',\n",
    "                      'Other (write in)/No answer'))\n",
    "    }\n",
    "    if (select_study %in% c('CN','HK')){mypalette=c('#A6EEE6FF','#24325FFF')}\n",
    "    if (select_study %in% c('JP')){\n",
    "        mypalette=c('#E89242FF','#FAE48BFF','#69C8ECFF','#24325FFF')\n",
    "        df$'Levels' = factor(df$'Levels',\n",
    "                      levels=c('Yamato Ethnic Group','Ryukyu Peoples',\n",
    "                               'Ainu Ethnicity','Other (write in)/No answer'))}\n",
    "    if (select_study %in% c('RU')){\n",
    "        mypalette=c('#004949FF','#009292FF','#FF6DB6FF','#924900FF','#B6DBFFFF','#24325FFF')\n",
    "        df$'Levels' = factor(df$'Levels',\n",
    "                      levels=c('Russian','Tatar','Ukrainian','Belorussian','Jewish',\n",
    "                              'Other (write in)/No answer'))}\n",
    "    if (select_study %in% c('DE')){\n",
    "        mypalette=c('#FFB6DBFF','#490092FF','#FF6DB6FF','#24325FFF')\n",
    "        df$'Levels' = factor(df$'Levels',\n",
    "                      levels=c('German','Dane','Sorbian','Other (write in)/No answer'))}\n",
    "    if (select_study %in% c('BR')){\n",
    "        mypalette=c('#FAFD7CFF','#FB6467FF','#B7E4F9FF',\n",
    "                    '#006DDBFF','#24FF24FF','#24325FFF')\n",
    "        df$'Levels' = factor(df$'Levels',\n",
    "                      levels=c('White','Black','East Asian Chinese, Japanese, etc.',\n",
    "                               'Brown or mulatto','Indigenous','Other (write in)/No answer'))}\n",
    "    if (select_study %in% c('MX')){\n",
    "        mypalette=c('#FAFD7CFF','#FB6467FF','#82491EFF',\n",
    "                    '#B7E4F9FF','#526E2DFF',\n",
    "                    '#0084D1FF','#9966FF','#24325FFF')\n",
    "        df$'Levels' = factor(df$'Levels',\n",
    "                      levels=c('White','Black','South Asian Indian, Pakistani, etc.',\n",
    "                               'East Asian Chinese, Japanese, etc.','Arabic, Central Asian',\n",
    "                               'Asian (in general)','Latino','Other (write in)/No answer'))}\n",
    "    if (select_study %in% c('CL')){\n",
    "        mypalette=c('#FAFD7CFF','#FB6467FF','#0084D1FF','#24FF24FF',\n",
    "                    '#579D1CFF','#FFD320FF','#24325FFF')\n",
    "        df$'Levels' = factor(df$'Levels',\n",
    "                      levels=c('White','Black','Asian (in general)','Indigenous',\n",
    "                               'Mestizo','Mulatto','Other (write in)/No answer'))}\n",
    "    if (select_study %in% c('PT')){mypalette=c('#24325FFF','#AECF00FF')}\n",
    "    ggdonutchart(df, \"study\",label=\"mylabel\",\n",
    "                 fill = \"Levels\",                            \n",
    "                 color = \"white\", \n",
    "                 font.family = 'Arial',\n",
    "                 palette = mypalette)+\n",
    "    theme(legend.position='none')\n",
    "}"
   ]
  },
  {
   "cell_type": "code",
   "execution_count": 94,
   "id": "d381e4ac",
   "metadata": {
    "ExecuteTime": {
     "end_time": "2022-12-16T14:28:24.748560Z",
     "start_time": "2022-12-16T14:28:24.724Z"
    }
   },
   "outputs": [],
   "source": [
    "circle_bar_simple = function(select_study){\n",
    "    df = Ethnicity[c('Levels',select_study)] \n",
    "    colnames(df) = c('Levels','study')\n",
    "    df = df %>% filter(study!='—')\n",
    "    df$'study' = as.numeric(df$'study')\n",
    "#     myLabel = as.vector(df$Levels) \n",
    "#     myLabel = gsub('Asian (in general)','Asian',myLabel,fixed=TRUE)\n",
    "#     myLabel = paste(myLabel, \"(\", round(df$study / sum(df$study) * 100, 2), \"%)\", sep = \"\")\n",
    "    \n",
    "    options(repr.plot.height=5,repr.plot.width=5)\n",
    "    if (select_study %in% c('Pilot_Study','Study1')){\n",
    "        others = df[df$'Levels'=='Asian (in general)',]$'study'+\n",
    "                 df[df$'Levels'=='American Indian or Alaska Native',]$'study'+\n",
    "                 df[df$'Levels'=='Native Hawaiian or Pacific Islander',]$'study'+\n",
    "                 df[df$'Levels'=='Other (write in)/No answer',]$'study'\n",
    "        others_df = c('Others',others)\n",
    "        df = rbind(df,others_df)\n",
    "        df=df[-which(df$'Levels'%in%c('Asian (in general)','American Indian or Alaska Native',\n",
    "            'Native Hawaiian or Pacific Islander','Other (write in)/No answer')),]\n",
    "        \n",
    "        mypalette=c('#FAFD7CFF','#FB6467FF','#24325FFF')\n",
    "        df$'Levels' = factor(df$'Levels',\n",
    "                      levels=c('White','Black','Others'))}   \n",
    "    if (select_study %in% c('AU','UK','US','ZA','FR','QA','EG','IN','IL')){\n",
    "        mypalette = c('#FAFD7CFF','#FB6467FF','#82491EFF',\n",
    "                     '#B7E4F9FF','#526E2DFF','#24325FFF')\n",
    "        #rev(paletteer_d(\"ggsci::schwifty_rickandmorty\")[1:6])\n",
    "        df$'Levels' = factor(df$'Levels',\n",
    "                      levels=c('White','Black','South Asian Indian, Pakistani, etc.',\n",
    "                      'East Asian Chinese, Japanese, etc.','Arabic, Central Asian',\n",
    "                      'Other (write in)/No answer'))}\n",
    "    if (select_study %in% c('ES')){\n",
    "        mypalette = c('#FAFD7CFF','#FB6467FF','#82491EFF',\n",
    "                     '#B7E4F9FF','#526E2DFF','#0084D1FF',\n",
    "                      '#24325FFF')\n",
    "        df$'Levels' = factor(df$'Levels',\n",
    "                      levels=c('White','Black','South Asian Indian, Pakistani, etc.',\n",
    "                      'East Asian Chinese, Japanese, etc.','Arabic, Central Asian',\n",
    "                      'Asian (in general)',\n",
    "                      'Other (write in)/No answer'))\n",
    "    }\n",
    "    if (select_study %in% c('CN','HK')){mypalette=c('#A6EEE6FF','#24325FFF')}\n",
    "    if (select_study %in% c('JP')){\n",
    "        mypalette=c('#E89242FF','#FAE48BFF','#69C8ECFF','#24325FFF')\n",
    "        df$'Levels' = factor(df$'Levels',\n",
    "                      levels=c('Yamato Ethnic Group','Ryukyu Peoples',\n",
    "                               'Ainu Ethnicity','Other (write in)/No answer'))}\n",
    "    if (select_study %in% c('RU')){\n",
    "        others = df[df$'Levels'=='Tatar',]$'study'+\n",
    "             df[df$'Levels'=='Ukrainian',]$'study'+\n",
    "             df[df$'Levels'=='Belorussian',]$'study'+\n",
    "             df[df$'Levels'=='Jewish',]$'study'+\n",
    "             df[df$'Levels'=='Other (write in)/No answer',]$'study'\n",
    "        others_df = c('Others',others)\n",
    "        df = rbind(df,others_df)\n",
    "        df=df[-which(df$'Levels'%in%c('Tatar','Ukrainian','Belorussian','Jewish',\n",
    "                                'Other (write in)/No answer')),]\n",
    "        \n",
    "        mypalette=c('#004949FF','#24325FFF')\n",
    "        df$'Levels' = factor(df$'Levels',\n",
    "                      levels=c('Russian','Others'))}\n",
    "    if (select_study %in% c('DE')){\n",
    "        others = df[df$'Levels'=='Sorbian',]$'study'+\n",
    "        df[df$'Levels'=='Other (write in)/No answer',]$'study'\n",
    "        \n",
    "        others_df = c('Others',others)\n",
    "        df = rbind(df,others_df)\n",
    "        df=df[-which(df$'Levels'%in%c('Sorbian','Other (write in)/No answer')),]\n",
    "        \n",
    "        mypalette=c('#FFB6DBFF','#490092FF','#24325FFF')\n",
    "        df$'Levels' = factor(df$'Levels',\n",
    "                      levels=c('German','Dane','Others'))}\n",
    "    if (select_study %in% c('BR')){\n",
    "        others = df[df$'Levels'=='Indigenous',]$'study'+\n",
    "        df[df$'Levels'=='Other (write in)/No answer',]$'study'\n",
    "        others_df = c('Others',others)\n",
    "        df = rbind(df,others_df)\n",
    "        df=df[-which(df$'Levels'%in%c('Indigenous','Other (write in)/No answer')),]\n",
    "        \n",
    "        mypalette=c('#FAFD7CFF','#FB6467FF','#B7E4F9FF',\n",
    "                    '#006DDBFF','#24325FFF')\n",
    "        df$'Levels' = factor(df$'Levels',\n",
    "                      levels=c('White','Black','East Asian Chinese, Japanese, etc.',\n",
    "                               'Brown or mulatto','Others'))}\n",
    "    \n",
    "    if (select_study %in% c('MX')){\n",
    "        others = df[df$'Levels'=='Asian (in general)',]$'study'+\n",
    "        df[df$'Levels'=='Other (write in)/No answer',]$'study'\n",
    "        others_df = c('Others',others)\n",
    "        df = rbind(df,others_df)\n",
    "        df=df[-which(df$'Levels'%in%c('Asian (in general)','Other (write in)/No answer')),]\n",
    "        \n",
    "        mypalette=c('#FAFD7CFF','#FB6467FF','#82491EFF',\n",
    "                    '#B7E4F9FF','#526E2DFF',\n",
    "                    '#9966FF','#24325FFF')\n",
    "        df$'Levels' = factor(df$'Levels',\n",
    "                      levels=c('White','Black','South Asian Indian, Pakistani, etc.',\n",
    "                               'East Asian Chinese, Japanese, etc.','Arabic, Central Asian',\n",
    "                               'Latino','Others'))}\n",
    "    if (select_study %in% c('CL')){\n",
    "        others = df[df$'Levels'=='Asian (in general)',]$'study'+\n",
    "        df[df$'Levels'=='Indigenous',]$'study'+\n",
    "        df[df$'Levels'=='Mulatto',]$'study'+\n",
    "        df[df$'Levels'=='Other (write in)/No answer',]$'study'\n",
    "        others_df = c('Others',others)\n",
    "        df = rbind(df,others_df)\n",
    "        df=df[-which(df$'Levels'%in%c('Asian (in general)','Indigenous',\n",
    "                                'Mulatto','Other (write in)/No answer')),]\n",
    "        \n",
    "        mypalette=c('#FAFD7CFF','#FB6467FF',\n",
    "                    '#CC3300','#24325FFF')\n",
    "        df$'Levels' = factor(df$'Levels',\n",
    "                      levels=c('White','Black',\n",
    "                               'Mestizo','Others'))}\n",
    "    if (select_study %in% c('PT')){mypalette=c('#24325FFF','#AECF00FF')}\n",
    "    df$'study' = as.numeric(df$'study')\n",
    "    df$'mylabel' = ''\n",
    "    ggdonutchart(df, \"study\",label=\"mylabel\",\n",
    "                 fill = \"Levels\",                            \n",
    "                 color = \"white\", \n",
    "                 font.family = 'Arial',\n",
    "                 palette = mypalette)+\n",
    "    theme(legend.position='none')\n",
    "}"
   ]
  },
  {
   "cell_type": "markdown",
   "id": "79a4cac0",
   "metadata": {},
   "source": [
    "## Pilot Study/Study1/AU/UK/US/ZA/FR/QA/EG/IN/IL"
   ]
  },
  {
   "cell_type": "code",
   "execution_count": 15,
   "id": "9ccc1b88",
   "metadata": {
    "ExecuteTime": {
     "end_time": "2022-12-16T09:43:57.730726Z",
     "start_time": "2022-12-16T09:43:57.421Z"
    }
   },
   "outputs": [
    {
     "data": {
      "text/html": [
       "<strong>png:</strong> 2"
      ],
      "text/latex": [
       "\\textbf{png:} 2"
      ],
      "text/markdown": [
       "**png:** 2"
      ],
      "text/plain": [
       "png \n",
       "  2 "
      ]
     },
     "metadata": {},
     "output_type": "display_data"
    },
    {
     "data": {
      "image/png": "[encoded data removed]",
      "text/plain": [
       "plot without title"
      ]
     },
     "metadata": {
      "image/png": {
       "height": 300,
       "width": 300
      }
     },
     "output_type": "display_data"
    }
   ],
   "source": [
    "circle_bar('Pilot_Study')\n",
    "png(\"../output_graph/demographics/Pilot_study.png\", bg=\"transparent\",\n",
    "    family = 'sans',units='in',width=5,height=5,res=300)\n",
    "circle_bar('Pilot_Study')\n",
    "dev.off()"
   ]
  },
  {
   "cell_type": "code",
   "execution_count": 73,
   "id": "d2b369d3",
   "metadata": {
    "ExecuteTime": {
     "end_time": "2022-12-16T12:14:48.865437Z",
     "start_time": "2022-12-16T12:14:48.660Z"
    }
   },
   "outputs": [
    {
     "data": {
      "text/html": [
       "<strong>png:</strong> 2"
      ],
      "text/latex": [
       "\\textbf{png:} 2"
      ],
      "text/markdown": [
       "**png:** 2"
      ],
      "text/plain": [
       "png \n",
       "  2 "
      ]
     },
     "metadata": {},
     "output_type": "display_data"
    },
    {
     "data": {
      "image/png": "[encoded data removed]",
      "text/plain": [
       "plot without title"
      ]
     },
     "metadata": {
      "image/png": {
       "height": 300,
       "width": 300
      }
     },
     "output_type": "display_data"
    }
   ],
   "source": [
    "circle_bar_simple('Pilot_Study')\n",
    "png(\"../output_graph/demographics/simple/Pilot_study.png\", bg=\"transparent\",\n",
    "    family = 'sans',units='in',width=5,height=5,res=300)\n",
    "circle_bar_simple('Pilot_Study')\n",
    "dev.off()"
   ]
  },
  {
   "cell_type": "code",
   "execution_count": 48,
   "id": "e87f9897",
   "metadata": {
    "ExecuteTime": {
     "end_time": "2022-12-16T02:24:50.689347Z",
     "start_time": "2022-12-16T02:24:50.388Z"
    }
   },
   "outputs": [
    {
     "data": {
      "text/html": [
       "<strong>png:</strong> 2"
      ],
      "text/latex": [
       "\\textbf{png:} 2"
      ],
      "text/markdown": [
       "**png:** 2"
      ],
      "text/plain": [
       "png \n",
       "  2 "
      ]
     },
     "metadata": {},
     "output_type": "display_data"
    },
    {
     "data": {
      "image/png": "[encoded data removed]",
      "text/plain": [
       "plot without title"
      ]
     },
     "metadata": {
      "image/png": {
       "height": 300,
       "width": 300
      }
     },
     "output_type": "display_data"
    }
   ],
   "source": [
    "circle_bar('Study1')\n",
    "png(\"../output_graph/demographics/Study1.png\", bg=\"transparent\",\n",
    "    family = 'sans',units='in',width=5,height=5,res=300)\n",
    "circle_bar('Study1')\n",
    "dev.off()"
   ]
  },
  {
   "cell_type": "code",
   "execution_count": 72,
   "id": "89a1b4fd",
   "metadata": {
    "ExecuteTime": {
     "end_time": "2022-12-16T12:14:44.192192Z",
     "start_time": "2022-12-16T12:14:43.990Z"
    }
   },
   "outputs": [
    {
     "data": {
      "text/html": [
       "<strong>png:</strong> 2"
      ],
      "text/latex": [
       "\\textbf{png:} 2"
      ],
      "text/markdown": [
       "**png:** 2"
      ],
      "text/plain": [
       "png \n",
       "  2 "
      ]
     },
     "metadata": {},
     "output_type": "display_data"
    },
    {
     "data": {
      "image/png": "[encoded data removed]",
      "text/plain": [
       "plot without title"
      ]
     },
     "metadata": {
      "image/png": {
       "height": 300,
       "width": 300
      }
     },
     "output_type": "display_data"
    }
   ],
   "source": [
    "circle_bar_simple('Study1')\n",
    "png(\"../output_graph/demographics/simple/Study1.png\", bg=\"transparent\",\n",
    "    family = 'sans',units='in',width=5,height=5,res=300)\n",
    "circle_bar_simple('Study1')\n",
    "dev.off()"
   ]
  },
  {
   "cell_type": "code",
   "execution_count": 49,
   "id": "7d49a5c8",
   "metadata": {
    "ExecuteTime": {
     "end_time": "2022-12-16T02:26:59.660073Z",
     "start_time": "2022-12-16T02:26:59.375Z"
    }
   },
   "outputs": [
    {
     "data": {
      "text/html": [
       "<strong>png:</strong> 2"
      ],
      "text/latex": [
       "\\textbf{png:} 2"
      ],
      "text/markdown": [
       "**png:** 2"
      ],
      "text/plain": [
       "png \n",
       "  2 "
      ]
     },
     "metadata": {},
     "output_type": "display_data"
    },
    {
     "data": {
      "image/png": "[encoded data removed]",
      "text/plain": [
       "plot without title"
      ]
     },
     "metadata": {
      "image/png": {
       "height": 300,
       "width": 300
      }
     },
     "output_type": "display_data"
    }
   ],
   "source": [
    "region = 'AU'\n",
    "circle_bar(region)\n",
    "png(paste(paste(\"../output_graph/demographics/\",region,sep=\"\"),\".png\",sep=\"\"), bg=\"transparent\",\n",
    "    family = 'sans',units='in',width=5,height=5,res=300)\n",
    "circle_bar(region)\n",
    "dev.off()"
   ]
  },
  {
   "cell_type": "code",
   "execution_count": 50,
   "id": "23b8881b",
   "metadata": {
    "ExecuteTime": {
     "end_time": "2022-12-16T02:33:13.820338Z",
     "start_time": "2022-12-16T02:33:13.526Z"
    }
   },
   "outputs": [
    {
     "data": {
      "text/html": [
       "<strong>png:</strong> 2"
      ],
      "text/latex": [
       "\\textbf{png:} 2"
      ],
      "text/markdown": [
       "**png:** 2"
      ],
      "text/plain": [
       "png \n",
       "  2 "
      ]
     },
     "metadata": {},
     "output_type": "display_data"
    },
    {
     "data": {
      "image/png": "[encoded data removed]",
      "text/plain": [
       "plot without title"
      ]
     },
     "metadata": {
      "image/png": {
       "height": 300,
       "width": 300
      }
     },
     "output_type": "display_data"
    }
   ],
   "source": [
    "region = 'UK'\n",
    "circle_bar(region)\n",
    "png(paste(paste(\"../output_graph/demographics/\",region,sep=\"\"),\".png\",sep=\"\"), bg=\"transparent\",\n",
    "    family = 'sans',units='in',width=5,height=5,res=300)\n",
    "circle_bar(region)\n",
    "dev.off()"
   ]
  },
  {
   "cell_type": "code",
   "execution_count": 51,
   "id": "6382c3f4",
   "metadata": {
    "ExecuteTime": {
     "end_time": "2022-12-16T02:33:20.057501Z",
     "start_time": "2022-12-16T02:33:19.739Z"
    }
   },
   "outputs": [
    {
     "data": {
      "text/html": [
       "<strong>png:</strong> 2"
      ],
      "text/latex": [
       "\\textbf{png:} 2"
      ],
      "text/markdown": [
       "**png:** 2"
      ],
      "text/plain": [
       "png \n",
       "  2 "
      ]
     },
     "metadata": {},
     "output_type": "display_data"
    },
    {
     "data": {
      "image/png": "[encoded data removed]",
      "text/plain": [
       "plot without title"
      ]
     },
     "metadata": {
      "image/png": {
       "height": 300,
       "width": 300
      }
     },
     "output_type": "display_data"
    }
   ],
   "source": [
    "region = 'US'\n",
    "circle_bar(region)\n",
    "png(paste(paste(\"../output_graph/demographics/\",region,sep=\"\"),\".png\",sep=\"\"), bg=\"transparent\",\n",
    "    family = 'sans',units='in',width=5,height=5,res=300)\n",
    "circle_bar(region)\n",
    "dev.off()"
   ]
  },
  {
   "cell_type": "code",
   "execution_count": 52,
   "id": "064b90d8",
   "metadata": {
    "ExecuteTime": {
     "end_time": "2022-12-16T02:33:27.714890Z",
     "start_time": "2022-12-16T02:33:27.403Z"
    }
   },
   "outputs": [
    {
     "data": {
      "text/html": [
       "<strong>png:</strong> 2"
      ],
      "text/latex": [
       "\\textbf{png:} 2"
      ],
      "text/markdown": [
       "**png:** 2"
      ],
      "text/plain": [
       "png \n",
       "  2 "
      ]
     },
     "metadata": {},
     "output_type": "display_data"
    },
    {
     "data": {
      "image/png": "[encoded data removed]",
      "text/plain": [
       "plot without title"
      ]
     },
     "metadata": {
      "image/png": {
       "height": 300,
       "width": 300
      }
     },
     "output_type": "display_data"
    }
   ],
   "source": [
    "region = 'ZA'\n",
    "circle_bar(region)\n",
    "png(paste(paste(\"../output_graph/demographics/\",region,sep=\"\"),\".png\",sep=\"\"), bg=\"transparent\",\n",
    "    family = 'sans',units='in',width=5,height=5,res=300)\n",
    "circle_bar(region)\n",
    "dev.off()"
   ]
  },
  {
   "cell_type": "code",
   "execution_count": 53,
   "id": "ca2ab00c",
   "metadata": {
    "ExecuteTime": {
     "end_time": "2022-12-16T02:33:39.369600Z",
     "start_time": "2022-12-16T02:33:39.051Z"
    }
   },
   "outputs": [
    {
     "data": {
      "text/html": [
       "<strong>png:</strong> 2"
      ],
      "text/latex": [
       "\\textbf{png:} 2"
      ],
      "text/markdown": [
       "**png:** 2"
      ],
      "text/plain": [
       "png \n",
       "  2 "
      ]
     },
     "metadata": {},
     "output_type": "display_data"
    },
    {
     "data": {
      "image/png": "[encoded data removed]",
      "text/plain": [
       "plot without title"
      ]
     },
     "metadata": {
      "image/png": {
       "height": 300,
       "width": 300
      }
     },
     "output_type": "display_data"
    }
   ],
   "source": [
    "region = 'FR'\n",
    "circle_bar(region)\n",
    "png(paste(paste(\"../output_graph/demographics/\",region,sep=\"\"),\".png\",sep=\"\"), bg=\"transparent\",\n",
    "    family = 'sans',units='in',width=5,height=5,res=300)\n",
    "circle_bar(region)\n",
    "dev.off()"
   ]
  },
  {
   "cell_type": "code",
   "execution_count": 55,
   "id": "09ad7017",
   "metadata": {
    "ExecuteTime": {
     "end_time": "2022-12-16T02:34:03.968641Z",
     "start_time": "2022-12-16T02:34:03.651Z"
    }
   },
   "outputs": [
    {
     "data": {
      "text/html": [
       "<strong>png:</strong> 2"
      ],
      "text/latex": [
       "\\textbf{png:} 2"
      ],
      "text/markdown": [
       "**png:** 2"
      ],
      "text/plain": [
       "png \n",
       "  2 "
      ]
     },
     "metadata": {},
     "output_type": "display_data"
    },
    {
     "data": {
      "image/png": "[encoded data removed]",
      "text/plain": [
       "plot without title"
      ]
     },
     "metadata": {
      "image/png": {
       "height": 300,
       "width": 300
      }
     },
     "output_type": "display_data"
    }
   ],
   "source": [
    "region = 'QA'\n",
    "circle_bar(region)\n",
    "png(paste(paste(\"../output_graph/demographics/\",region,sep=\"\"),\".png\",sep=\"\"), bg=\"transparent\",\n",
    "    family = 'sans',units='in',width=5,height=5,res=300)\n",
    "circle_bar(region)\n",
    "dev.off()"
   ]
  },
  {
   "cell_type": "code",
   "execution_count": 56,
   "id": "39962f97",
   "metadata": {
    "ExecuteTime": {
     "end_time": "2022-12-16T02:34:12.297025Z",
     "start_time": "2022-12-16T02:34:11.977Z"
    }
   },
   "outputs": [
    {
     "data": {
      "text/html": [
       "<strong>png:</strong> 2"
      ],
      "text/latex": [
       "\\textbf{png:} 2"
      ],
      "text/markdown": [
       "**png:** 2"
      ],
      "text/plain": [
       "png \n",
       "  2 "
      ]
     },
     "metadata": {},
     "output_type": "display_data"
    },
    {
     "data": {
      "image/png": "[encoded data removed]",
      "text/plain": [
       "plot without title"
      ]
     },
     "metadata": {
      "image/png": {
       "height": 300,
       "width": 300
      }
     },
     "output_type": "display_data"
    }
   ],
   "source": [
    "region = 'EG'\n",
    "circle_bar(region)\n",
    "png(paste(paste(\"../output_graph/demographics/\",region,sep=\"\"),\".png\",sep=\"\"), bg=\"transparent\",\n",
    "    family = 'sans',units='in',width=5,height=5,res=300)\n",
    "circle_bar(region)\n",
    "dev.off()"
   ]
  },
  {
   "cell_type": "code",
   "execution_count": 57,
   "id": "92e90021",
   "metadata": {
    "ExecuteTime": {
     "end_time": "2022-12-16T02:34:18.590948Z",
     "start_time": "2022-12-16T02:34:18.276Z"
    }
   },
   "outputs": [
    {
     "data": {
      "text/html": [
       "<strong>png:</strong> 2"
      ],
      "text/latex": [
       "\\textbf{png:} 2"
      ],
      "text/markdown": [
       "**png:** 2"
      ],
      "text/plain": [
       "png \n",
       "  2 "
      ]
     },
     "metadata": {},
     "output_type": "display_data"
    },
    {
     "data": {
      "image/png": "[encoded data removed]",
      "text/plain": [
       "plot without title"
      ]
     },
     "metadata": {
      "image/png": {
       "height": 300,
       "width": 300
      }
     },
     "output_type": "display_data"
    }
   ],
   "source": [
    "region = 'IN'\n",
    "circle_bar(region)\n",
    "png(paste(paste(\"../output_graph/demographics/\",region,sep=\"\"),\".png\",sep=\"\"), bg=\"transparent\",\n",
    "    family = 'sans',units='in',width=5,height=5,res=300)\n",
    "circle_bar(region)\n",
    "dev.off()"
   ]
  },
  {
   "cell_type": "code",
   "execution_count": 58,
   "id": "d479d9e4",
   "metadata": {
    "ExecuteTime": {
     "end_time": "2022-12-16T02:34:24.305171Z",
     "start_time": "2022-12-16T02:34:23.966Z"
    }
   },
   "outputs": [
    {
     "data": {
      "text/html": [
       "<strong>png:</strong> 2"
      ],
      "text/latex": [
       "\\textbf{png:} 2"
      ],
      "text/markdown": [
       "**png:** 2"
      ],
      "text/plain": [
       "png \n",
       "  2 "
      ]
     },
     "metadata": {},
     "output_type": "display_data"
    },
    {
     "data": {
      "image/png": "[encoded data removed]",
      "text/plain": [
       "plot without title"
      ]
     },
     "metadata": {
      "image/png": {
       "height": 300,
       "width": 300
      }
     },
     "output_type": "display_data"
    }
   ],
   "source": [
    "region = 'IL'\n",
    "circle_bar(region)\n",
    "png(paste(paste(\"../output_graph/demographics/\",region,sep=\"\"),\".png\",sep=\"\"), bg=\"transparent\",\n",
    "    family = 'sans',units='in',width=5,height=5,res=300)\n",
    "circle_bar(region)\n",
    "dev.off()"
   ]
  },
  {
   "cell_type": "markdown",
   "id": "b39aaa39",
   "metadata": {},
   "source": [
    "## ES"
   ]
  },
  {
   "cell_type": "code",
   "execution_count": 27,
   "id": "3f2ffa18",
   "metadata": {
    "ExecuteTime": {
     "end_time": "2022-12-16T09:46:47.317903Z",
     "start_time": "2022-12-16T09:46:47.055Z"
    }
   },
   "outputs": [
    {
     "data": {
      "text/html": [
       "<strong>png:</strong> 2"
      ],
      "text/latex": [
       "\\textbf{png:} 2"
      ],
      "text/markdown": [
       "**png:** 2"
      ],
      "text/plain": [
       "png \n",
       "  2 "
      ]
     },
     "metadata": {},
     "output_type": "display_data"
    },
    {
     "data": {
      "image/png": "[encoded data removed]",
      "text/plain": [
       "plot without title"
      ]
     },
     "metadata": {
      "image/png": {
       "height": 300,
       "width": 300
      }
     },
     "output_type": "display_data"
    }
   ],
   "source": [
    "region = 'ES'\n",
    "circle_bar(region)\n",
    "png(paste(paste(\"../output_graph/demographics/\",region,sep=\"\"),\".png\",sep=\"\"), bg=\"transparent\",\n",
    "    family = 'sans',units='in',width=5,height=5,res=300)\n",
    "circle_bar(region)\n",
    "dev.off()"
   ]
  },
  {
   "cell_type": "markdown",
   "id": "a82f1abc",
   "metadata": {},
   "source": [
    "## CN/HK"
   ]
  },
  {
   "cell_type": "code",
   "execution_count": 59,
   "id": "775b3893",
   "metadata": {
    "ExecuteTime": {
     "end_time": "2022-12-16T02:55:50.754594Z",
     "start_time": "2022-12-16T02:55:50.445Z"
    }
   },
   "outputs": [
    {
     "data": {
      "text/html": [
       "<strong>png:</strong> 2"
      ],
      "text/latex": [
       "\\textbf{png:} 2"
      ],
      "text/markdown": [
       "**png:** 2"
      ],
      "text/plain": [
       "png \n",
       "  2 "
      ]
     },
     "metadata": {},
     "output_type": "display_data"
    },
    {
     "data": {
      "image/png": "[encoded data removed]",
      "text/plain": [
       "plot without title"
      ]
     },
     "metadata": {
      "image/png": {
       "height": 300,
       "width": 300
      }
     },
     "output_type": "display_data"
    }
   ],
   "source": [
    "region = 'CN'\n",
    "circle_bar(region)\n",
    "png(paste(paste(\"../output_graph/demographics/\",region,sep=\"\"),\".png\",sep=\"\"), bg=\"transparent\",\n",
    "    family = 'sans',units='in',width=5,height=5,res=300)\n",
    "circle_bar(region)\n",
    "dev.off()"
   ]
  },
  {
   "cell_type": "code",
   "execution_count": 60,
   "id": "8c79876e",
   "metadata": {
    "ExecuteTime": {
     "end_time": "2022-12-16T02:55:58.307904Z",
     "start_time": "2022-12-16T02:55:58.006Z"
    }
   },
   "outputs": [
    {
     "data": {
      "text/html": [
       "<strong>png:</strong> 2"
      ],
      "text/latex": [
       "\\textbf{png:} 2"
      ],
      "text/markdown": [
       "**png:** 2"
      ],
      "text/plain": [
       "png \n",
       "  2 "
      ]
     },
     "metadata": {},
     "output_type": "display_data"
    },
    {
     "data": {
      "image/png": "[encoded data removed]",
      "text/plain": [
       "plot without title"
      ]
     },
     "metadata": {
      "image/png": {
       "height": 300,
       "width": 300
      }
     },
     "output_type": "display_data"
    }
   ],
   "source": [
    "region = 'HK'\n",
    "circle_bar(region)\n",
    "png(paste(paste(\"../output_graph/demographics/\",region,sep=\"\"),\".png\",sep=\"\"), bg=\"transparent\",\n",
    "    family = 'sans',units='in',width=5,height=5,res=300)\n",
    "circle_bar(region)\n",
    "dev.off()"
   ]
  },
  {
   "cell_type": "markdown",
   "id": "5f60014b",
   "metadata": {},
   "source": [
    "## JP"
   ]
  },
  {
   "cell_type": "code",
   "execution_count": 61,
   "id": "d741b6a9",
   "metadata": {
    "ExecuteTime": {
     "end_time": "2022-12-16T02:56:04.588000Z",
     "start_time": "2022-12-16T02:56:04.256Z"
    }
   },
   "outputs": [
    {
     "data": {
      "text/html": [
       "<strong>png:</strong> 2"
      ],
      "text/latex": [
       "\\textbf{png:} 2"
      ],
      "text/markdown": [
       "**png:** 2"
      ],
      "text/plain": [
       "png \n",
       "  2 "
      ]
     },
     "metadata": {},
     "output_type": "display_data"
    },
    {
     "data": {
      "image/png": "[encoded data removed]",
      "text/plain": [
       "plot without title"
      ]
     },
     "metadata": {
      "image/png": {
       "height": 300,
       "width": 300
      }
     },
     "output_type": "display_data"
    }
   ],
   "source": [
    "region = 'JP'\n",
    "circle_bar(region)\n",
    "png(paste(paste(\"../output_graph/demographics/\",region,sep=\"\"),\".png\",sep=\"\"), bg=\"transparent\",\n",
    "    family = 'sans',units='in',width=5,height=5,res=300)\n",
    "circle_bar(region)\n",
    "dev.off()"
   ]
  },
  {
   "cell_type": "markdown",
   "id": "7e6b29b9",
   "metadata": {},
   "source": [
    "## RU"
   ]
  },
  {
   "cell_type": "code",
   "execution_count": 81,
   "id": "0f05aabc",
   "metadata": {
    "ExecuteTime": {
     "end_time": "2022-12-16T14:00:18.345875Z",
     "start_time": "2022-12-16T14:00:18.055Z"
    }
   },
   "outputs": [
    {
     "data": {
      "text/html": [
       "<strong>png:</strong> 2"
      ],
      "text/latex": [
       "\\textbf{png:} 2"
      ],
      "text/markdown": [
       "**png:** 2"
      ],
      "text/plain": [
       "png \n",
       "  2 "
      ]
     },
     "metadata": {},
     "output_type": "display_data"
    },
    {
     "data": {
      "image/png": "[encoded data removed]",
      "text/plain": [
       "plot without title"
      ]
     },
     "metadata": {
      "image/png": {
       "height": 300,
       "width": 300
      }
     },
     "output_type": "display_data"
    }
   ],
   "source": [
    "region = 'RU'\n",
    "circle_bar(region)\n",
    "png(paste(paste(\"../output_graph/demographics/\",region,sep=\"\"),\".png\",sep=\"\"), bg=\"transparent\",\n",
    "    family = 'sans',units='in',width=5,height=5,res=300)\n",
    "circle_bar(region)\n",
    "dev.off()"
   ]
  },
  {
   "cell_type": "code",
   "execution_count": 82,
   "id": "b39ddfce",
   "metadata": {
    "ExecuteTime": {
     "end_time": "2022-12-16T14:00:21.930772Z",
     "start_time": "2022-12-16T14:00:21.580Z"
    }
   },
   "outputs": [
    {
     "data": {
      "text/html": [
       "<strong>png:</strong> 2"
      ],
      "text/latex": [
       "\\textbf{png:} 2"
      ],
      "text/markdown": [
       "**png:** 2"
      ],
      "text/plain": [
       "png \n",
       "  2 "
      ]
     },
     "metadata": {},
     "output_type": "display_data"
    },
    {
     "data": {
      "image/png": "[encoded data removed]",
      "text/plain": [
       "plot without title"
      ]
     },
     "metadata": {
      "image/png": {
       "height": 300,
       "width": 300
      }
     },
     "output_type": "display_data"
    }
   ],
   "source": [
    "region = 'RU'\n",
    "circle_bar_simple(region)\n",
    "png(paste(paste(\"../output_graph/demographics/simple/\",region,sep=\"\"),\".png\",sep=\"\"), bg=\"transparent\",\n",
    "    family = 'sans',units='in',width=5,height=5,res=300)\n",
    "circle_bar_simple(region)\n",
    "dev.off()"
   ]
  },
  {
   "cell_type": "markdown",
   "id": "ec81fe23",
   "metadata": {},
   "source": [
    "## DE"
   ]
  },
  {
   "cell_type": "code",
   "execution_count": 65,
   "id": "6a3aa2dd",
   "metadata": {
    "ExecuteTime": {
     "end_time": "2022-12-16T03:17:49.480655Z",
     "start_time": "2022-12-16T03:17:49.125Z"
    }
   },
   "outputs": [
    {
     "data": {
      "text/html": [
       "<strong>png:</strong> 2"
      ],
      "text/latex": [
       "\\textbf{png:} 2"
      ],
      "text/markdown": [
       "**png:** 2"
      ],
      "text/plain": [
       "png \n",
       "  2 "
      ]
     },
     "metadata": {},
     "output_type": "display_data"
    },
    {
     "data": {
      "image/png": "[encoded data removed]",
      "text/plain": [
       "plot without title"
      ]
     },
     "metadata": {
      "image/png": {
       "height": 300,
       "width": 300
      }
     },
     "output_type": "display_data"
    }
   ],
   "source": [
    "region = 'DE'\n",
    "circle_bar(region)\n",
    "png(paste(paste(\"../output_graph/demographics/\",region,sep=\"\"),\".png\",sep=\"\"), bg=\"transparent\",\n",
    "    family = 'sans',units='in',width=5,height=5,res=300)\n",
    "circle_bar(region)\n",
    "dev.off()"
   ]
  },
  {
   "cell_type": "code",
   "execution_count": 83,
   "id": "49ca6095",
   "metadata": {
    "ExecuteTime": {
     "end_time": "2022-12-16T14:00:27.720036Z",
     "start_time": "2022-12-16T14:00:27.405Z"
    }
   },
   "outputs": [
    {
     "data": {
      "text/html": [
       "<strong>png:</strong> 2"
      ],
      "text/latex": [
       "\\textbf{png:} 2"
      ],
      "text/markdown": [
       "**png:** 2"
      ],
      "text/plain": [
       "png \n",
       "  2 "
      ]
     },
     "metadata": {},
     "output_type": "display_data"
    },
    {
     "data": {
      "image/png": "[encoded data removed]",
      "text/plain": [
       "plot without title"
      ]
     },
     "metadata": {
      "image/png": {
       "height": 300,
       "width": 300
      }
     },
     "output_type": "display_data"
    }
   ],
   "source": [
    "region = 'DE'\n",
    "circle_bar_simple(region)\n",
    "png(paste(paste(\"../output_graph/demographics/simple/\",region,sep=\"\"),\".png\",sep=\"\"), bg=\"transparent\",\n",
    "    family = 'sans',units='in',width=5,height=5,res=300)\n",
    "circle_bar_simple(region)\n",
    "dev.off()"
   ]
  },
  {
   "cell_type": "markdown",
   "id": "a8d3cfe0",
   "metadata": {},
   "source": [
    "## BR"
   ]
  },
  {
   "cell_type": "code",
   "execution_count": 62,
   "id": "a2392833",
   "metadata": {
    "ExecuteTime": {
     "end_time": "2022-12-16T02:59:26.341921Z",
     "start_time": "2022-12-16T02:59:26.008Z"
    }
   },
   "outputs": [
    {
     "data": {
      "text/html": [
       "<strong>png:</strong> 2"
      ],
      "text/latex": [
       "\\textbf{png:} 2"
      ],
      "text/markdown": [
       "**png:** 2"
      ],
      "text/plain": [
       "png \n",
       "  2 "
      ]
     },
     "metadata": {},
     "output_type": "display_data"
    },
    {
     "data": {
      "image/png": "[encoded data removed]",
      "text/plain": [
       "plot without title"
      ]
     },
     "metadata": {
      "image/png": {
       "height": 300,
       "width": 300
      }
     },
     "output_type": "display_data"
    }
   ],
   "source": [
    "region = 'BR'\n",
    "circle_bar(region)\n",
    "png(paste(paste(\"../output_graph/demographics/\",region,sep=\"\"),\".png\",sep=\"\"), bg=\"transparent\",\n",
    "    family = 'sans',units='in',width=5,height=5,res=300)\n",
    "circle_bar(region)\n",
    "dev.off()"
   ]
  },
  {
   "cell_type": "code",
   "execution_count": 93,
   "id": "cd2f1d2d",
   "metadata": {
    "ExecuteTime": {
     "end_time": "2022-12-16T14:23:28.919836Z",
     "start_time": "2022-12-16T14:23:28.491Z"
    }
   },
   "outputs": [
    {
     "data": {
      "text/html": [
       "<strong>png:</strong> 2"
      ],
      "text/latex": [
       "\\textbf{png:} 2"
      ],
      "text/markdown": [
       "**png:** 2"
      ],
      "text/plain": [
       "png \n",
       "  2 "
      ]
     },
     "metadata": {},
     "output_type": "display_data"
    },
    {
     "data": {
      "image/png": "[encoded data removed]",
      "text/plain": [
       "plot without title"
      ]
     },
     "metadata": {
      "image/png": {
       "height": 300,
       "width": 300
      }
     },
     "output_type": "display_data"
    }
   ],
   "source": [
    "region = 'BR'\n",
    "circle_bar_simple(region)\n",
    "png(paste(paste(\"../output_graph/demographics/simple/\",region,sep=\"\"),\".png\",sep=\"\"), bg=\"transparent\",\n",
    "    family = 'sans',units='in',width=5,height=5,res=300)\n",
    "circle_bar_simple(region)\n",
    "dev.off()"
   ]
  },
  {
   "cell_type": "markdown",
   "id": "55fd237e",
   "metadata": {},
   "source": [
    "## MX"
   ]
  },
  {
   "cell_type": "code",
   "execution_count": 97,
   "id": "a8197756",
   "metadata": {
    "ExecuteTime": {
     "end_time": "2022-12-16T15:21:10.499627Z",
     "start_time": "2022-12-16T15:21:10.108Z"
    }
   },
   "outputs": [
    {
     "data": {
      "text/html": [
       "<strong>png:</strong> 2"
      ],
      "text/latex": [
       "\\textbf{png:} 2"
      ],
      "text/markdown": [
       "**png:** 2"
      ],
      "text/plain": [
       "png \n",
       "  2 "
      ]
     },
     "metadata": {},
     "output_type": "display_data"
    },
    {
     "data": {
      "image/png": "[encoded data removed]",
      "text/plain": [
       "plot without title"
      ]
     },
     "metadata": {
      "image/png": {
       "height": 300,
       "width": 300
      }
     },
     "output_type": "display_data"
    }
   ],
   "source": [
    "region = 'MX'\n",
    "circle_bar(region)\n",
    "png(paste(paste(\"../output_graph/demographics/\",region,sep=\"\"),\".png\",sep=\"\"), bg=\"transparent\",\n",
    "    family = 'sans',units='in',width=5,height=5,res=300)\n",
    "circle_bar(region)\n",
    "dev.off()"
   ]
  },
  {
   "cell_type": "code",
   "execution_count": 89,
   "id": "1251639d",
   "metadata": {
    "ExecuteTime": {
     "end_time": "2022-12-16T14:09:44.818876Z",
     "start_time": "2022-12-16T14:09:44.411Z"
    }
   },
   "outputs": [
    {
     "data": {
      "text/html": [
       "<strong>png:</strong> 2"
      ],
      "text/latex": [
       "\\textbf{png:} 2"
      ],
      "text/markdown": [
       "**png:** 2"
      ],
      "text/plain": [
       "png \n",
       "  2 "
      ]
     },
     "metadata": {},
     "output_type": "display_data"
    },
    {
     "data": {
      "image/png": "[encoded data removed]",
      "text/plain": [
       "plot without title"
      ]
     },
     "metadata": {
      "image/png": {
       "height": 300,
       "width": 300
      }
     },
     "output_type": "display_data"
    }
   ],
   "source": [
    "region = 'MX'\n",
    "circle_bar_simple(region)\n",
    "png(paste(paste(\"../output_graph/demographics/simple/\",region,sep=\"\"),\".png\",sep=\"\"), bg=\"transparent\",\n",
    "    family = 'sans',units='in',width=5,height=5,res=300)\n",
    "circle_bar_simple(region)\n",
    "dev.off()"
   ]
  },
  {
   "cell_type": "markdown",
   "id": "58cdac2b",
   "metadata": {},
   "source": [
    "## CL"
   ]
  },
  {
   "cell_type": "code",
   "execution_count": 81,
   "id": "07a18acc",
   "metadata": {
    "ExecuteTime": {
     "end_time": "2022-12-16T05:40:59.152791Z",
     "start_time": "2022-12-16T05:40:58.919Z"
    }
   },
   "outputs": [
    {
     "data": {
      "text/html": [
       "<strong>png:</strong> 2"
      ],
      "text/latex": [
       "\\textbf{png:} 2"
      ],
      "text/markdown": [
       "**png:** 2"
      ],
      "text/plain": [
       "png \n",
       "  2 "
      ]
     },
     "metadata": {},
     "output_type": "display_data"
    },
    {
     "data": {
      "image/png": "[encoded data removed]",
      "text/plain": [
       "plot without title"
      ]
     },
     "metadata": {
      "image/png": {
       "height": 300,
       "width": 300
      }
     },
     "output_type": "display_data"
    }
   ],
   "source": [
    "region = 'CL'\n",
    "circle_bar(region)\n",
    "png(paste(paste(\"../output_graph/demographics/\",region,sep=\"\"),\".png\",sep=\"\"), bg=\"transparent\",\n",
    "    family = 'sans',units='in',width=5,height=5,res=300)\n",
    "circle_bar(region)\n",
    "dev.off()"
   ]
  },
  {
   "cell_type": "code",
   "execution_count": 95,
   "id": "508a8acf",
   "metadata": {
    "ExecuteTime": {
     "end_time": "2022-12-16T14:28:29.710737Z",
     "start_time": "2022-12-16T14:28:29.299Z"
    }
   },
   "outputs": [
    {
     "data": {
      "text/html": [
       "<strong>png:</strong> 2"
      ],
      "text/latex": [
       "\\textbf{png:} 2"
      ],
      "text/markdown": [
       "**png:** 2"
      ],
      "text/plain": [
       "png \n",
       "  2 "
      ]
     },
     "metadata": {},
     "output_type": "display_data"
    },
    {
     "data": {
      "image/png": "[encoded data removed]",
      "text/plain": [
       "plot without title"
      ]
     },
     "metadata": {
      "image/png": {
       "height": 300,
       "width": 300
      }
     },
     "output_type": "display_data"
    }
   ],
   "source": [
    "region = 'CL'\n",
    "circle_bar_simple(region)\n",
    "png(paste(paste(\"../output_graph/demographics/simple/\",region,sep=\"\"),\".png\",sep=\"\"), bg=\"transparent\",\n",
    "    family = 'sans',units='in',width=5,height=5,res=300)\n",
    "circle_bar_simple(region)\n",
    "dev.off()"
   ]
  },
  {
   "cell_type": "markdown",
   "id": "b9427392",
   "metadata": {},
   "source": [
    "## PT"
   ]
  },
  {
   "cell_type": "code",
   "execution_count": 80,
   "id": "93115a22",
   "metadata": {
    "ExecuteTime": {
     "end_time": "2022-12-16T05:40:45.651246Z",
     "start_time": "2022-12-16T05:40:45.448Z"
    }
   },
   "outputs": [
    {
     "data": {
      "text/html": [
       "<strong>png:</strong> 2"
      ],
      "text/latex": [
       "\\textbf{png:} 2"
      ],
      "text/markdown": [
       "**png:** 2"
      ],
      "text/plain": [
       "png \n",
       "  2 "
      ]
     },
     "metadata": {},
     "output_type": "display_data"
    },
    {
     "data": {
      "image/png": "[encoded data removed]",
      "text/plain": [
       "plot without title"
      ]
     },
     "metadata": {
      "image/png": {
       "height": 300,
       "width": 300
      }
     },
     "output_type": "display_data"
    }
   ],
   "source": [
    "region = 'PT'\n",
    "circle_bar(region)\n",
    "png(paste(paste(\"../output_graph/demographics/\",region,sep=\"\"),\".png\",sep=\"\"), bg=\"transparent\",\n",
    "    family = 'sans',units='in',width=5,height=5,res=300)\n",
    "circle_bar(region)\n",
    "dev.off()"
   ]
  }
 ],
 "metadata": {
  "kernelspec": {
   "display_name": "R",
   "language": "R",
   "name": "ir"
  },
  "language_info": {
   "codemirror_mode": "r",
   "file_extension": ".r",
   "mimetype": "text/x-r-source",
   "name": "R",
   "pygments_lexer": "r",
   "version": "4.1.2"
  },
  "toc": {
   "base_numbering": 1,
   "nav_menu": {},
   "number_sections": true,
   "sideBar": true,
   "skip_h1_title": false,
   "title_cell": "Table of Contents",
   "title_sidebar": "Contents",
   "toc_cell": false,
   "toc_position": {
    "height": "calc(100% - 180px)",
    "left": "10px",
    "top": "150px",
    "width": "331.998px"
   },
   "toc_section_display": true,
   "toc_window_display": true
  },
  "varInspector": {
   "cols": {
    "lenName": 16,
    "lenType": 16,
    "lenVar": 40
   },
   "kernels_config": {
    "python": {
     "delete_cmd_postfix": "",
     "delete_cmd_prefix": "del ",
     "library": "var_list.py",
     "varRefreshCmd": "print(var_dic_list())"
    },
    "r": {
     "delete_cmd_postfix": ") ",
     "delete_cmd_prefix": "rm(",
     "library": "var_list.r",
     "varRefreshCmd": "cat(var_dic_list()) "
    }
   },
   "types_to_exclude": [
    "module",
    "function",
    "builtin_function_or_method",
    "instance",
    "_Feature"
   ],
   "window_display": false
  }
 },
 "nbformat": 4,
 "nbformat_minor": 5
}
