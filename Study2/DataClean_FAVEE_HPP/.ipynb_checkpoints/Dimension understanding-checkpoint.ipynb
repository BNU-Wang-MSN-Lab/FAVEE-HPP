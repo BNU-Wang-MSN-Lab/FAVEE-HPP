{
 "cells": [
  {
   "cell_type": "markdown",
   "id": "23cb3c53",
   "metadata": {},
   "source": [
    "Data collection  \n",
    "- __Credamo__: 3 versions(11 dimensions / each version)  \n",
    "    Australia\\Brazil\\Chile\\Egypt  \n",
    "    France\\Germany\\HK\\Israel  \n",
    "    Japan\\Mexico\\Portugal\\Qatar   \n",
    "    Russia\\South_africa\\Spain\\UK\n",
    "    \n",
    "\n",
    "- __Qualtrics__:      \n",
    "    USA(only the second round): 3 versions(11 dimensions / each version)    \n",
    "    India: 3 versions(11 dimensions / each version) + Credamo Additional supplementary data  \n",
    "    CHN: Random module in Qualtrics and Additional supplementary data"
   ]
  },
  {
   "cell_type": "code",
   "execution_count": 1,
   "id": "c515b51e",
   "metadata": {
    "ExecuteTime": {
     "end_time": "2023-04-24T02:53:58.166897Z",
     "start_time": "2023-04-24T02:53:57.730218Z"
    }
   },
   "outputs": [],
   "source": [
    "import pandas as pd\n",
    "import os"
   ]
  },
  {
   "cell_type": "code",
   "execution_count": 2,
   "id": "c8cd530e",
   "metadata": {
    "ExecuteTime": {
     "end_time": "2023-04-24T02:53:58.181866Z",
     "start_time": "2023-04-24T02:53:58.170865Z"
    }
   },
   "outputs": [],
   "source": [
    "file_path = 'output_data/dimension_comprehension/'\n",
    "files = os.listdir(file_path)\n",
    "\n",
    "regions = [i.split('.')[0] for i in files]\n",
    "dimensions = pd.read_csv('input_data/RelDim_labels/dimensions_33d.csv',index_col=0).iloc[:,0].to_list()"
   ]
  },
  {
   "cell_type": "code",
   "execution_count": 3,
   "id": "ed9920c6",
   "metadata": {
    "ExecuteTime": {
     "end_time": "2023-04-24T02:53:58.307894Z",
     "start_time": "2023-04-24T02:53:58.186864Z"
    }
   },
   "outputs": [],
   "source": [
    "region_dimcom_df = pd.DataFrame(index=dimensions, columns=regions)\n",
    "for region_file in files:\n",
    "    region = region_file.split('.')[0]\n",
    "    file_region = file_path + region_file\n",
    "    temp_df = pd.read_csv(file_region, index_col=0)\n",
    "    temp_df_mean = temp_df.mean()\n",
    "    region_dimcom_df[region] = temp_df_mean \n",
    "region_dimcom_df = region_dimcom_df.transpose()"
   ]
  },
  {
   "cell_type": "code",
   "execution_count": 4,
   "id": "1766d1ff",
   "metadata": {
    "ExecuteTime": {
     "end_time": "2023-04-24T02:53:58.323892Z",
     "start_time": "2023-04-24T02:53:58.311863Z"
    }
   },
   "outputs": [
    {
     "data": {
      "text/plain": [
       "Concreteness                  82.731586\n",
       "Synchronicity                 83.786296\n",
       "Activeness                    84.373667\n",
       "Importance for society        84.451737\n",
       "Affiliation Coalition         84.546764\n",
       "Uniqueness                    84.929195\n",
       "Strategic                     84.935146\n",
       "Expected Reciprocity          85.254294\n",
       "Negotiation                   85.551428\n",
       "Coercion                      85.553717\n",
       "Socioemotional                85.624288\n",
       "Valence Evaluation            85.927095\n",
       "Importance for individuals    86.200616\n",
       "Service Exchange              86.251487\n",
       "Morality                      86.280311\n",
       "Spatial Distance              86.313667\n",
       "Communal Sharing              86.742381\n",
       "Occupational                  87.375163\n",
       "Activity Intensity            87.477927\n",
       "Goods Exchange                87.483860\n",
       "Equality                      87.669784\n",
       "Mating                        87.763054\n",
       "Visibility                    88.047342\n",
       "Information Exchange          88.108994\n",
       "Generation Gap                88.140937\n",
       "Formality and Regulation      88.198797\n",
       "Endurance                     88.583202\n",
       "Conflict                      88.636054\n",
       "Money Exchange                88.954169\n",
       "Attachment                    89.093150\n",
       "Trust                         89.124817\n",
       "Love Expression               89.213831\n",
       "Intimacy                      89.460833\n",
       "dtype: float64"
      ]
     },
     "execution_count": 4,
     "metadata": {},
     "output_type": "execute_result"
    }
   ],
   "source": [
    "region_dimcom_df.mean().sort_values()"
   ]
  },
  {
   "cell_type": "code",
   "execution_count": 5,
   "id": "2e07544b",
   "metadata": {
    "ExecuteTime": {
     "end_time": "2023-04-24T02:53:58.353513Z",
     "start_time": "2023-04-24T02:53:58.328863Z"
    }
   },
   "outputs": [
    {
     "data": {
      "text/plain": [
       "Valence Evaluation            92.223798\n",
       "Equality                      92.740913\n",
       "Activity Intensity            91.981481\n",
       "Socioemotional                90.594514\n",
       "Formality and Regulation      92.565022\n",
       "Intimacy                      94.826656\n",
       "Visibility                    93.628637\n",
       "Communal Sharing              91.695455\n",
       "Expected Reciprocity          91.998394\n",
       "Strategic                     90.716638\n",
       "Concreteness                  87.863839\n",
       "Uniqueness                    91.720642\n",
       "Love Expression               92.069610\n",
       "Information Exchange          90.996310\n",
       "Money Exchange                92.436009\n",
       "Goods Exchange                91.551698\n",
       "Service Exchange              91.067759\n",
       "Attachment                    92.745387\n",
       "Mating                        92.225835\n",
       "Conflict                      92.450365\n",
       "Negotiation                   91.284711\n",
       "Coercion                      92.226429\n",
       "Importance for society        91.088681\n",
       "Importance for individuals    93.563893\n",
       "Affiliation Coalition         91.443173\n",
       "Occupational                  92.385798\n",
       "Activeness                    90.967225\n",
       "Endurance                     94.440916\n",
       "Synchronicity                 91.575100\n",
       "Spatial Distance              92.893040\n",
       "Morality                      93.816308\n",
       "Trust                         93.676496\n",
       "Generation Gap                95.351206\n",
       "Name: CHN, dtype: float64"
      ]
     },
     "execution_count": 5,
     "metadata": {},
     "output_type": "execute_result"
    }
   ],
   "source": [
    "region_dimcom_df.loc['CHN',:]"
   ]
  }
 ],
 "metadata": {
  "kernelspec": {
   "display_name": "base",
   "language": "python",
   "name": "python3"
  },
  "language_info": {
   "codemirror_mode": {
    "name": "ipython",
    "version": 3
   },
   "file_extension": ".py",
   "mimetype": "text/x-python",
   "name": "python",
   "nbconvert_exporter": "python",
   "pygments_lexer": "ipython3",
   "version": "3.9.12"
  },
  "latex_envs": {
   "LaTeX_envs_menu_present": true,
   "autoclose": false,
   "autocomplete": true,
   "bibliofile": "biblio.bib",
   "cite_by": "apalike",
   "current_citInitial": 1,
   "eqLabelWithNumbers": true,
   "eqNumInitial": 1,
   "hotkeys": {
    "equation": "Ctrl-E",
    "itemize": "Ctrl-I"
   },
   "labels_anchors": false,
   "latex_user_defs": false,
   "report_style_numbering": false,
   "user_envs_cfg": false
  },
  "toc": {
   "base_numbering": 1,
   "nav_menu": {},
   "number_sections": true,
   "sideBar": true,
   "skip_h1_title": false,
   "title_cell": "Table of Contents",
   "title_sidebar": "Contents",
   "toc_cell": false,
   "toc_position": {},
   "toc_section_display": true,
   "toc_window_display": false
  }
 },
 "nbformat": 4,
 "nbformat_minor": 5
}
