{
 "cells": [
  {
   "cell_type": "code",
   "execution_count": 1,
   "id": "5dfa02c1",
   "metadata": {
    "ExecuteTime": {
     "end_time": "2023-02-13T01:08:28.638745Z",
     "start_time": "2023-02-13T01:08:24.924387Z"
    }
   },
   "outputs": [],
   "source": [
    "import os\n",
    "import glob\n",
    "import pandas as pd\n",
    "import numpy as np\n",
    "\n",
    "import matplotlib.pyplot as plt\n",
    "import seaborn as sns\n",
    "\n",
    "from scipy.stats import spearmanr #Loocv\n",
    "\n",
    "import warnings\n",
    "warnings.filterwarnings(\"ignore\")"
   ]
  },
  {
   "cell_type": "code",
   "execution_count": 2,
   "id": "b99dd69f",
   "metadata": {
    "ExecuteTime": {
     "end_time": "2023-02-13T01:08:34.831610Z",
     "start_time": "2023-02-13T01:08:29.443907Z"
    }
   },
   "outputs": [],
   "source": [
    "import sys\n",
    "sys.path.append('custom_function/')\n",
    "import clustering"
   ]
  },
  {
   "cell_type": "code",
   "execution_count": 3,
   "id": "5295e7bd",
   "metadata": {
    "ExecuteTime": {
     "end_time": "2023-02-13T01:08:35.541491Z",
     "start_time": "2023-02-13T01:08:35.533524Z"
    }
   },
   "outputs": [],
   "source": [
    "def cluster_rdm(cluster_results_region,cluster_model='cl_k3'):\n",
    "    dissim_cluster_result = pd.DataFrame(index = cluster_results_region.index,\n",
    "                                         columns = cluster_results_region.index)\n",
    "    for i in dissim_cluster_result.index:\n",
    "        for j in dissim_cluster_result.columns:\n",
    "            # cluster result was in the last column\n",
    "            if cluster_results_region.loc[i,cluster_model] == cluster_results_region.loc[j,cluster_model]:\n",
    "                dissim_cluster_result.loc[i,j] = 0\n",
    "            else:\n",
    "                dissim_cluster_result.loc[i,j] = 1\n",
    "            dissim_cluster_result = dissim_cluster_result.astype(float)\n",
    "            \n",
    "    return(dissim_cluster_result)"
   ]
  },
  {
   "cell_type": "code",
   "execution_count": 5,
   "id": "0827148d",
   "metadata": {
    "ExecuteTime": {
     "end_time": "2023-02-13T01:08:39.288665Z",
     "start_time": "2023-02-13T01:08:39.244667Z"
    }
   },
   "outputs": [],
   "source": [
    "relationships = pd.read_csv('input_data/RelDim_labels/159relationships_fix_label.csv',\n",
    "                           index_col=0)\n",
    "relationships = relationships['0'].to_list()"
   ]
  },
  {
   "cell_type": "markdown",
   "id": "cf2b0bee",
   "metadata": {},
   "source": [
    "# import data"
   ]
  },
  {
   "cell_type": "code",
   "execution_count": 7,
   "id": "aae537b4",
   "metadata": {
    "ExecuteTime": {
     "end_time": "2023-02-13T01:13:25.186541Z",
     "start_time": "2023-02-13T01:13:25.031831Z"
    }
   },
   "outputs": [],
   "source": [
    "CN_raw_data = pd.read_csv('output_data/cleaning_results/CHN/CHN_dim_rel_scaled.csv', index_col = 0)\n",
    "HK_raw_data = pd.read_csv('output_data/cleaning_results/HK/HK_dim_rel_scaled.csv',index_col = 0)\n",
    "UK_raw_data = pd.read_csv('output_data/cleaning_results/UK/UK_dim_rel_scaled.csv',index_col = 0)\n",
    "ES_raw_data = pd.read_csv('output_data/cleaning_results/Spain/Spain_dim_rel_scaled.csv', index_col = 0)\n",
    "US_raw_data = pd.read_csv('output_data/cleaning_results/USA/USA_dim_rel_scaled.csv',index_col = 0)\n",
    "FR_raw_data = pd.read_csv('output_data/cleaning_results/France/France_dim_rel_scaled.csv', index_col = 0)\n",
    "DE_raw_data = pd.read_csv('output_data/cleaning_results/Germany/Germany_dim_rel_scaled.csv', index_col = 0)\n",
    "AU_raw_data = pd.read_csv('output_data/cleaning_results/Australia/Australia_dim_rel_scaled.csv', index_col = 0)\n",
    "CL_raw_data = pd.read_csv('output_data/cleaning_results/Chile/Chile_dim_rel_scaled.csv', index_col = 0)\n",
    "PT_raw_data = pd.read_csv('output_data/cleaning_results/Portugal/Portugal_dim_rel_scaled.csv', index_col = 0)\n",
    "MX_raw_data = pd.read_csv('output_data/cleaning_results/Mexico/Mexico_dim_rel_scaled.csv', index_col = 0)\n",
    "ZA_raw_data = pd.read_csv('output_data/cleaning_results/South_africa/South_africa_dim_rel_scaled.csv', index_col = 0)\n",
    "BR_raw_data = pd.read_csv('output_data/cleaning_results/Brazil/Brazil_dim_rel_scaled.csv', index_col = 0)\n",
    "IL_raw_data = pd.read_csv('output_data/cleaning_results/Israel/Israel_dim_rel_scaled.csv', index_col = 0)\n",
    "RU_raw_data = pd.read_csv('output_data/cleaning_results/Russia/Russia_dim_rel_scaled.csv', index_col = 0)\n",
    "JP_raw_data = pd.read_csv('output_data/cleaning_results/Japan/Japan_dim_rel_scaled.csv', index_col = 0)\n",
    "EG_raw_data = pd.read_csv('output_data/cleaning_results/Egypt/Egypt_dim_rel_scaled.csv', index_col = 0)\n",
    "IN_raw_data = pd.read_csv('output_data/cleaning_results/India/India_dim_rel_scaled.csv', index_col = 0)\n",
    "QA_raw_data = pd.read_csv('output_data/cleaning_results/Qatar/Qatar_dim_rel_scaled.csv', index_col = 0)"
   ]
  },
  {
   "cell_type": "code",
   "execution_count": 8,
   "id": "95cbf3dd",
   "metadata": {
    "ExecuteTime": {
     "end_time": "2023-02-13T01:13:34.273303Z",
     "start_time": "2023-02-13T01:13:34.259342Z"
    }
   },
   "outputs": [],
   "source": [
    "regions = ['USA','UK','South_africa','Australia','Germany','Japan',\n",
    "            'CHN','HK','France','Chile','Mexico','Spain','Portugal',\n",
    "            'Brazil','Israel','Russia','Egypt','Qatar','India']\n",
    "# contain raw output of models\n",
    "raw_data_dict = {\n",
    "'CHN' : CN_raw_data, 'HK' : HK_raw_data, 'UK' : UK_raw_data,\n",
    "'Spain' : ES_raw_data,'USA' : US_raw_data, 'France' : FR_raw_data,\n",
    "'Germany' : DE_raw_data, 'Australia' : AU_raw_data, 'Chile' : CL_raw_data,\n",
    "'Portugal' : PT_raw_data, 'Mexico' : MX_raw_data, 'South_africa' : ZA_raw_data,\n",
    "'Brazil' : BR_raw_data, 'Israel' : IL_raw_data, 'Russia' : RU_raw_data,\n",
    "'Japan' : JP_raw_data, 'Egypt' : EG_raw_data,'Qatar': QA_raw_data,'India':IN_raw_data}"
   ]
  },
  {
   "cell_type": "markdown",
   "id": "d0ea8c2e",
   "metadata": {},
   "source": [
    "# clustering results"
   ]
  },
  {
   "cell_type": "code",
   "execution_count": 10,
   "id": "21f7fcda",
   "metadata": {
    "ExecuteTime": {
     "end_time": "2023-02-13T01:14:35.014792Z",
     "start_time": "2023-02-13T01:14:34.067781Z"
    },
    "scrolled": false
   },
   "outputs": [
    {
     "name": "stdout",
     "output_type": "stream",
     "text": [
      "\n",
      "USA 3 KMeans clusters in raw data:\n",
      "\n",
      "Cluster 1 Relationship:68\n",
      "Employer and Employee, Interviewer and Job applicant, Nurse and Patient, Therapist and Patient, Salesperson and Customer, Between Business Partners, Teacher and Student, Professor and Graduate student, Between teammates in sports, Manager and Staff, Foreman and Laborer, Owner and Manager, Union leader and union member, Manager and Assistant, Chief and Deputy, Supervisor and Subordinate, Boss and Secretary, Entrepreneur and Investor, Intern and Employee, Lawyer and Client, Judge and Lawyer, Drug dealer and Addict, Police officer and Civilian, Consultant and Client, Chef and Customer, Customer and Server, Customer and Businessman, Doctor and Patient, Doctor and Nurse, Patient and Caretaker, Driver and Passenger, Coach and athlete, Team Captain and Team Members, Club Member and Club President, Politician and Supporter, Leader and Follower, Representative and Citizen, Officer and Soldier, Religious leader and Congregant, Guide and Tourist, Athlete and Referee, Reader and Writer, Reviewer and Writer, Performer and Audience, Dealer and Buyer, Sugar-daddy and Sugar-baby, Director and Performer, Psychologist and Client, Judge and Contestant, Between Co-workers, Between criminal and their accomplice, Between diplomats, Principal and Teacher, Professor and Teaching Assistant, University student and Administrator, Student and Dorm Resident assistant, Mentor and Mentee, Athletic trainer and Trainee, Researcher and Research Subject, Predecessor and Successor, Landlord and Tenant, Landlord and Housekeeper, Guest and Host, Volunteer and Organizer, Native and Tourist, Between political allies, Superior and Subordinate, Between a monarch and their minister\n",
      "\n",
      "Cluster 2 Relationship:39\n",
      "Between divorced spouses, Between a person and their in-laws, Guard and Prisoner, Between opposing negotiators, Between political opponents, Between business rivals, Between enemies, Master and Servant, Between casual acquaintances, Man Wife and Man Mistress, Between distant relatives, Victim and Criminal, Victim and Witness, Criminal and Police officer, Criminal and Prosecutor, Criminal and Hostage, Defendant and Plaintiff, Police officer and Offender, Parole officer and Parolee, Between religious followers, Prostitute and Customer, Slave and Master, Between sports rivals, Between romantic rivals, Between classmates, Television host and Guest, Celebrity and Fans, Celebrity and Haters, Bully and Victim, Between a person and their social media follower, Between pen-friends, Between friends with benefits, Between ex-lovers, Between strangers, Between neighbors, Between fans of opposing sports teams, Between frenemies, Between alumni, Between competitors in sports\n",
      "\n",
      "Cluster 3 Relationship:52\n",
      "Parent and Child, Parent and Teenager, Wife and Husband, Fiance and Fiancee, Between Siblings, Between cousins, Between Close Friends, Between second cousins, Parent and Infant, Grandparent and Grandchild, Step-parent and Step-child, Foster-parent and Foster-child, Godparent and Godchild, Step-grandparent and Step-grandchild, Ancestor and Descendant, Bride and Groom, Man and His Mistress, Brother and Sister, Between step-siblings, Between close relatives, Between twins, Between a person and their family friends, Between a person and their deceased spouse, Babysitter and Infant, Man and God, Between peers, Between roommates, Between sorority sisters, Between fraternity brothers, Bride and Bridesmaid, Groom and Groomsman, Between friends, Between Facebook Friends, Between childhood friends, Between romantic lovers, Between life-partners, Between soul-mates, Between church members, Between fans of the same sports team, Aunt and Niece/Nephew, Uncle and Niece/Nephew, Between half-siblings, Between adoptive parents and adopted kids, Mother and Infant, Between confidants, Between a person and their significant other, Between companions, Between playmates, Between a person and their crush, Between cohabitants, Between long-distance lovers, Between brothers-in-arms\n",
      "***************************************************\n",
      "\n",
      "UK 3 KMeans clusters in raw data:\n",
      "\n",
      "Cluster 1 Relationship:61\n",
      "Employer and Employee, Interviewer and Job applicant, Nurse and Patient, Therapist and Patient, Salesperson and Customer, Between Business Partners, Teacher and Student, Professor and Graduate student, Between teammates in sports, Manager and Staff, Foreman and Laborer, Owner and Manager, Union leader and union member, Manager and Assistant, Chief and Deputy, Supervisor and Subordinate, Boss and Secretary, Entrepreneur and Investor, Intern and Employee, Lawyer and Client, Judge and Lawyer, Drug dealer and Addict, Defendant and Plaintiff, Parole officer and Parolee, Consultant and Client, Chef and Customer, Customer and Server, Customer and Businessman, Doctor and Patient, Doctor and Nurse, Patient and Caretaker, Driver and Passenger, Coach and athlete, Team Captain and Team Members, Club Member and Club President, Officer and Soldier, Babysitter and Infant, Religious leader and Congregant, Prostitute and Customer, Guide and Tourist, Athlete and Referee, Reader and Writer, Reviewer and Writer, Performer and Audience, Dealer and Buyer, Director and Performer, Psychologist and Client, Judge and Contestant, Between Co-workers, Between diplomats, Principal and Teacher, Professor and Teaching Assistant, University student and Administrator, Mentor and Mentee, Athletic trainer and Trainee, Researcher and Research Subject, Predecessor and Successor, Volunteer and Organizer, Between political allies, Superior and Subordinate, Between a monarch and their minister\n",
      "\n",
      "Cluster 2 Relationship:56\n",
      "Between divorced spouses, Between a person and their in-laws, Between cousins, Guard and Prisoner, Between opposing negotiators, Between political opponents, Between business rivals, Between enemies, Master and Servant, Between casual acquaintances, Between second cousins, Godparent and Godchild, Step-grandparent and Step-grandchild, Ancestor and Descendant, Man Wife and Man Mistress, Between step-siblings, Between distant relatives, Victim and Criminal, Victim and Witness, Criminal and Police officer, Criminal and Prosecutor, Criminal and Hostage, Police officer and Offender, Police officer and Civilian, Politician and Supporter, Leader and Follower, Representative and Citizen, Between religious followers, Slave and Master, Man and God, Between sports rivals, Between romantic rivals, Between criminal and their accomplice, Student and Dorm Resident assistant, Between sorority sisters, Landlord and Tenant, Landlord and Housekeeper, Guest and Host, Television host and Guest, Celebrity and Fans, Celebrity and Haters, Native and Tourist, Bully and Victim, Between Facebook Friends, Between a person and their social media follower, Between pen-friends, Between friends with benefits, Between ex-lovers, Between strangers, Between neighbors, Between church members, Between fans of opposing sports teams, Between frenemies, Between alumni, Between competitors in sports, Between a person and their crush\n",
      "\n",
      "Cluster 3 Relationship:42\n",
      "Parent and Child, Parent and Teenager, Wife and Husband, Fiance and Fiancee, Between Siblings, Between Close Friends, Parent and Infant, Grandparent and Grandchild, Step-parent and Step-child, Foster-parent and Foster-child, Bride and Groom, Man and His Mistress, Brother and Sister, Between close relatives, Between twins, Between a person and their family friends, Between a person and their deceased spouse, Sugar-daddy and Sugar-baby, Between peers, Between classmates, Between roommates, Between fraternity brothers, Bride and Bridesmaid, Groom and Groomsman, Between friends, Between childhood friends, Between romantic lovers, Between life-partners, Between soul-mates, Between fans of the same sports team, Aunt and Niece/Nephew, Uncle and Niece/Nephew, Between half-siblings, Between adoptive parents and adopted kids, Mother and Infant, Between confidants, Between a person and their significant other, Between companions, Between playmates, Between cohabitants, Between long-distance lovers, Between brothers-in-arms\n",
      "***************************************************\n",
      "\n",
      "South_africa 3 KMeans clusters in raw data:\n",
      "\n",
      "Cluster 1 Relationship:47\n",
      "Parent and Child, Parent and Teenager, Wife and Husband, Fiance and Fiancee, Between Siblings, Between cousins, Between Close Friends, Between second cousins, Parent and Infant, Grandparent and Grandchild, Step-parent and Step-child, Foster-parent and Foster-child, Godparent and Godchild, Step-grandparent and Step-grandchild, Bride and Groom, Brother and Sister, Between step-siblings, Between close relatives, Between twins, Between a person and their family friends, Between a person and their deceased spouse, Babysitter and Infant, Between religious followers, Man and God, Between peers, Between classmates, Between roommates, Between sorority sisters, Between fraternity brothers, Bride and Bridesmaid, Groom and Groomsman, Between friends, Between childhood friends, Between romantic lovers, Between life-partners, Between soul-mates, Between church members, Between fans of the same sports team, Aunt and Niece/Nephew, Uncle and Niece/Nephew, Between half-siblings, Between adoptive parents and adopted kids, Mother and Infant, Between a person and their significant other, Between companions, Between cohabitants, Between long-distance lovers\n",
      "\n",
      "Cluster 2 Relationship:47\n",
      "Between divorced spouses, Between a person and their in-laws, Guard and Prisoner, Between opposing negotiators, Between political opponents, Between business rivals, Between enemies, Master and Servant, Between casual acquaintances, Ancestor and Descendant, Man and His Mistress, Man Wife and Man Mistress, Between distant relatives, Victim and Criminal, Victim and Witness, Criminal and Police officer, Criminal and Prosecutor, Criminal and Hostage, Defendant and Plaintiff, Police officer and Offender, Politician and Supporter, Leader and Follower, Representative and Citizen, Prostitute and Customer, Slave and Master, Sugar-daddy and Sugar-baby, Between sports rivals, Between romantic rivals, Between criminal and their accomplice, Between diplomats, Celebrity and Fans, Celebrity and Haters, Bully and Victim, Between Facebook Friends, Between a person and their social media follower, Between pen-friends, Between friends with benefits, Between political allies, Between ex-lovers, Between strangers, Between neighbors, Between fans of opposing sports teams, Between frenemies, Between alumni, Between a monarch and their minister, Between confidants, Between a person and their crush\n",
      "\n",
      "Cluster 3 Relationship:65\n",
      "Employer and Employee, Interviewer and Job applicant, Nurse and Patient, Therapist and Patient, Salesperson and Customer, Between Business Partners, Teacher and Student, Professor and Graduate student, Between teammates in sports, Manager and Staff, Foreman and Laborer, Owner and Manager, Union leader and union member, Manager and Assistant, Chief and Deputy, Supervisor and Subordinate, Boss and Secretary, Entrepreneur and Investor, Intern and Employee, Lawyer and Client, Judge and Lawyer, Drug dealer and Addict, Police officer and Civilian, Parole officer and Parolee, Consultant and Client, Chef and Customer, Customer and Server, Customer and Businessman, Doctor and Patient, Doctor and Nurse, Patient and Caretaker, Driver and Passenger, Coach and athlete, Team Captain and Team Members, Club Member and Club President, Officer and Soldier, Religious leader and Congregant, Guide and Tourist, Athlete and Referee, Reader and Writer, Reviewer and Writer, Performer and Audience, Dealer and Buyer, Director and Performer, Psychologist and Client, Judge and Contestant, Between Co-workers, Principal and Teacher, Professor and Teaching Assistant, University student and Administrator, Student and Dorm Resident assistant, Mentor and Mentee, Athletic trainer and Trainee, Researcher and Research Subject, Predecessor and Successor, Landlord and Tenant, Landlord and Housekeeper, Guest and Host, Television host and Guest, Volunteer and Organizer, Native and Tourist, Superior and Subordinate, Between playmates, Between competitors in sports, Between brothers-in-arms\n",
      "***************************************************\n",
      "\n",
      "Australia 3 KMeans clusters in raw data:\n",
      "\n",
      "Cluster 1 Relationship:69\n",
      "Employer and Employee, Interviewer and Job applicant, Nurse and Patient, Therapist and Patient, Salesperson and Customer, Between Business Partners, Between opposing negotiators, Teacher and Student, Professor and Graduate student, Between teammates in sports, Manager and Staff, Foreman and Laborer, Owner and Manager, Union leader and union member, Manager and Assistant, Chief and Deputy, Supervisor and Subordinate, Boss and Secretary, Entrepreneur and Investor, Intern and Employee, Lawyer and Client, Judge and Lawyer, Drug dealer and Addict, Parole officer and Parolee, Consultant and Client, Chef and Customer, Customer and Server, Customer and Businessman, Doctor and Patient, Doctor and Nurse, Driver and Passenger, Coach and athlete, Team Captain and Team Members, Club Member and Club President, Politician and Supporter, Leader and Follower, Officer and Soldier, Babysitter and Infant, Religious leader and Congregant, Prostitute and Customer, Guide and Tourist, Athlete and Referee, Reader and Writer, Reviewer and Writer, Performer and Audience, Dealer and Buyer, Sugar-daddy and Sugar-baby, Director and Performer, Psychologist and Client, Judge and Contestant, Between Co-workers, Between diplomats, Principal and Teacher, Professor and Teaching Assistant, University student and Administrator, Student and Dorm Resident assistant, Mentor and Mentee, Athletic trainer and Trainee, Researcher and Research Subject, Predecessor and Successor, Landlord and Tenant, Landlord and Housekeeper, Guest and Host, Television host and Guest, Volunteer and Organizer, Between political allies, Superior and Subordinate, Between a monarch and their minister, Between competitors in sports\n",
      "\n",
      "Cluster 2 Relationship:46\n",
      "Parent and Child, Parent and Teenager, Wife and Husband, Fiance and Fiancee, Between Siblings, Between Close Friends, Parent and Infant, Grandparent and Grandchild, Step-parent and Step-child, Foster-parent and Foster-child, Step-grandparent and Step-grandchild, Bride and Groom, Man and His Mistress, Brother and Sister, Between close relatives, Between twins, Between a person and their family friends, Between a person and their deceased spouse, Patient and Caretaker, Between peers, Between classmates, Between roommates, Between sorority sisters, Between fraternity brothers, Bride and Bridesmaid, Groom and Groomsman, Between friends, Between childhood friends, Between friends with benefits, Between romantic lovers, Between life-partners, Between soul-mates, Between church members, Between fans of the same sports team, Aunt and Niece/Nephew, Uncle and Niece/Nephew, Between half-siblings, Between adoptive parents and adopted kids, Mother and Infant, Between confidants, Between a person and their significant other, Between companions, Between playmates, Between cohabitants, Between long-distance lovers, Between brothers-in-arms\n",
      "\n",
      "Cluster 3 Relationship:44\n",
      "Between divorced spouses, Between a person and their in-laws, Between cousins, Guard and Prisoner, Between political opponents, Between business rivals, Between enemies, Master and Servant, Between casual acquaintances, Between second cousins, Godparent and Godchild, Ancestor and Descendant, Man Wife and Man Mistress, Between step-siblings, Between distant relatives, Victim and Criminal, Victim and Witness, Criminal and Police officer, Criminal and Prosecutor, Criminal and Hostage, Defendant and Plaintiff, Police officer and Offender, Police officer and Civilian, Representative and Citizen, Between religious followers, Slave and Master, Man and God, Between sports rivals, Between romantic rivals, Between criminal and their accomplice, Celebrity and Fans, Celebrity and Haters, Native and Tourist, Bully and Victim, Between Facebook Friends, Between a person and their social media follower, Between pen-friends, Between ex-lovers, Between strangers, Between neighbors, Between fans of opposing sports teams, Between frenemies, Between alumni, Between a person and their crush\n",
      "***************************************************\n",
      "\n",
      "Germany 3 KMeans clusters in raw data:\n",
      "\n",
      "Cluster 1 Relationship:41\n",
      "Parent and Child, Parent and Teenager, Wife and Husband, Fiance and Fiancee, Between Siblings, Between Close Friends, Parent and Infant, Grandparent and Grandchild, Step-parent and Step-child, Foster-parent and Foster-child, Godparent and Godchild, Bride and Groom, Man and His Mistress, Brother and Sister, Between close relatives, Between twins, Between a person and their family friends, Between a person and their deceased spouse, Babysitter and Infant, Between classmates, Between roommates, Between fraternity brothers, Bride and Bridesmaid, Groom and Groomsman, Guest and Host, Between friends, Between childhood friends, Between romantic lovers, Between life-partners, Between soul-mates, Aunt and Niece/Nephew, Uncle and Niece/Nephew, Between half-siblings, Between adoptive parents and adopted kids, Mother and Infant, Between confidants, Between a person and their significant other, Between companions, Between playmates, Between cohabitants, Between long-distance lovers\n",
      "\n",
      "Cluster 2 Relationship:68\n",
      "Employer and Employee, Interviewer and Job applicant, Nurse and Patient, Therapist and Patient, Salesperson and Customer, Between Business Partners, Between opposing negotiators, Teacher and Student, Professor and Graduate student, Master and Servant, Between teammates in sports, Manager and Staff, Foreman and Laborer, Owner and Manager, Union leader and union member, Manager and Assistant, Chief and Deputy, Supervisor and Subordinate, Boss and Secretary, Entrepreneur and Investor, Intern and Employee, Lawyer and Client, Judge and Lawyer, Drug dealer and Addict, Parole officer and Parolee, Consultant and Client, Chef and Customer, Customer and Server, Customer and Businessman, Doctor and Patient, Doctor and Nurse, Patient and Caretaker, Driver and Passenger, Coach and athlete, Team Captain and Team Members, Club Member and Club President, Officer and Soldier, Religious leader and Congregant, Prostitute and Customer, Guide and Tourist, Athlete and Referee, Reader and Writer, Reviewer and Writer, Performer and Audience, Dealer and Buyer, Sugar-daddy and Sugar-baby, Director and Performer, Psychologist and Client, Judge and Contestant, Between Co-workers, Between criminal and their accomplice, Between diplomats, Principal and Teacher, Professor and Teaching Assistant, University student and Administrator, Student and Dorm Resident assistant, Mentor and Mentee, Athletic trainer and Trainee, Researcher and Research Subject, Predecessor and Successor, Landlord and Tenant, Landlord and Housekeeper, Television host and Guest, Volunteer and Organizer, Native and Tourist, Between political allies, Superior and Subordinate, Between a monarch and their minister\n",
      "\n",
      "Cluster 3 Relationship:50\n",
      "Between divorced spouses, Between a person and their in-laws, Between cousins, Guard and Prisoner, Between political opponents, Between business rivals, Between enemies, Between casual acquaintances, Between second cousins, Step-grandparent and Step-grandchild, Ancestor and Descendant, Man Wife and Man Mistress, Between step-siblings, Between distant relatives, Victim and Criminal, Victim and Witness, Criminal and Police officer, Criminal and Prosecutor, Criminal and Hostage, Defendant and Plaintiff, Police officer and Offender, Police officer and Civilian, Politician and Supporter, Leader and Follower, Representative and Citizen, Between religious followers, Slave and Master, Man and God, Between sports rivals, Between romantic rivals, Between peers, Between sorority sisters, Celebrity and Fans, Celebrity and Haters, Bully and Victim, Between Facebook Friends, Between a person and their social media follower, Between pen-friends, Between friends with benefits, Between ex-lovers, Between strangers, Between neighbors, Between church members, Between fans of the same sports team, Between fans of opposing sports teams, Between frenemies, Between alumni, Between competitors in sports, Between a person and their crush, Between brothers-in-arms\n",
      "***************************************************\n",
      "\n",
      "Japan 3 KMeans clusters in raw data:\n",
      "\n",
      "Cluster 1 Relationship:76\n",
      "Employer and Employee, Interviewer and Job applicant, Nurse and Patient, Therapist and Patient, Salesperson and Customer, Between Business Partners, Between opposing negotiators, Teacher and Student, Professor and Graduate student, Master and Servant, Manager and Staff, Foreman and Laborer, Owner and Manager, Union leader and union member, Manager and Assistant, Chief and Deputy, Supervisor and Subordinate, Boss and Secretary, Entrepreneur and Investor, Intern and Employee, Lawyer and Client, Judge and Lawyer, Drug dealer and Addict, Police officer and Civilian, Parole officer and Parolee, Consultant and Client, Chef and Customer, Customer and Server, Customer and Businessman, Doctor and Patient, Doctor and Nurse, Patient and Caretaker, Driver and Passenger, Coach and athlete, Team Captain and Team Members, Club Member and Club President, Politician and Supporter, Leader and Follower, Representative and Citizen, Officer and Soldier, Babysitter and Infant, Religious leader and Congregant, Prostitute and Customer, Guide and Tourist, Athlete and Referee, Reader and Writer, Performer and Audience, Dealer and Buyer, Sugar-daddy and Sugar-baby, Director and Performer, Psychologist and Client, Judge and Contestant, Between Co-workers, Between criminal and their accomplice, Between diplomats, Principal and Teacher, Professor and Teaching Assistant, University student and Administrator, Student and Dorm Resident assistant, Mentor and Mentee, Athletic trainer and Trainee, Researcher and Research Subject, Predecessor and Successor, Landlord and Tenant, Landlord and Housekeeper, Guest and Host, Television host and Guest, Volunteer and Organizer, Celebrity and Fans, Native and Tourist, Between a person and their social media follower, Between political allies, Between neighbors, Superior and Subordinate, Between a monarch and their minister, Between companions\n",
      "\n",
      "Cluster 2 Relationship:58\n",
      "Parent and Child, Parent and Teenager, Wife and Husband, Fiance and Fiancee, Between Siblings, Between a person and their in-laws, Between cousins, Between Close Friends, Between teammates in sports, Between second cousins, Parent and Infant, Grandparent and Grandchild, Step-parent and Step-child, Foster-parent and Foster-child, Godparent and Godchild, Step-grandparent and Step-grandchild, Ancestor and Descendant, Bride and Groom, Man and His Mistress, Brother and Sister, Between step-siblings, Between distant relatives, Between close relatives, Between twins, Between a person and their family friends, Between a person and their deceased spouse, Between religious followers, Man and God, Between peers, Between classmates, Between roommates, Between sorority sisters, Between fraternity brothers, Bride and Bridesmaid, Groom and Groomsman, Between friends, Between Facebook Friends, Between childhood friends, Between pen-friends, Between friends with benefits, Between romantic lovers, Between life-partners, Between soul-mates, Between church members, Between fans of the same sports team, Aunt and Niece/Nephew, Uncle and Niece/Nephew, Between half-siblings, Between adoptive parents and adopted kids, Mother and Infant, Between alumni, Between confidants, Between a person and their significant other, Between playmates, Between a person and their crush, Between cohabitants, Between long-distance lovers, Between brothers-in-arms\n",
      "\n",
      "Cluster 3 Relationship:25\n",
      "Between divorced spouses, Guard and Prisoner, Between political opponents, Between business rivals, Between enemies, Between casual acquaintances, Man Wife and Man Mistress, Victim and Criminal, Victim and Witness, Criminal and Police officer, Criminal and Prosecutor, Criminal and Hostage, Defendant and Plaintiff, Police officer and Offender, Slave and Master, Reviewer and Writer, Between sports rivals, Between romantic rivals, Celebrity and Haters, Bully and Victim, Between ex-lovers, Between strangers, Between fans of opposing sports teams, Between frenemies, Between competitors in sports\n",
      "***************************************************\n",
      "\n",
      "CHN 3 KMeans clusters in raw data:\n",
      "\n",
      "Cluster 1 Relationship:56\n",
      "Parent and Child, Parent and Teenager, Wife and Husband, Fiance and Fiancee, Between Siblings, Between a person and their in-laws, Between cousins, Between Close Friends, Between teammates in sports, Between second cousins, Parent and Infant, Grandparent and Grandchild, Step-parent and Step-child, Foster-parent and Foster-child, Godparent and Godchild, Step-grandparent and Step-grandchild, Ancestor and Descendant, Bride and Groom, Brother and Sister, Between step-siblings, Between distant relatives, Between close relatives, Between twins, Between a person and their family friends, Between a person and their deceased spouse, Between religious followers, Man and God, Between peers, Between classmates, Between roommates, Between sorority sisters, Between fraternity brothers, Bride and Bridesmaid, Groom and Groomsman, Between friends, Between Facebook Friends, Between childhood friends, Between pen-friends, Between romantic lovers, Between ex-lovers, Between life-partners, Between soul-mates, Between neighbors, Between fans of the same sports team, Aunt and Niece/Nephew, Uncle and Niece/Nephew, Between half-siblings, Between adoptive parents and adopted kids, Mother and Infant, Between confidants, Between a person and their significant other, Between playmates, Between a person and their crush, Between cohabitants, Between long-distance lovers, Between brothers-in-arms\n",
      "\n",
      "Cluster 2 Relationship:72\n",
      "Employer and Employee, Interviewer and Job applicant, Nurse and Patient, Therapist and Patient, Salesperson and Customer, Between Business Partners, Teacher and Student, Professor and Graduate student, Master and Servant, Manager and Staff, Foreman and Laborer, Owner and Manager, Union leader and union member, Manager and Assistant, Chief and Deputy, Supervisor and Subordinate, Boss and Secretary, Entrepreneur and Investor, Intern and Employee, Lawyer and Client, Judge and Lawyer, Police officer and Civilian, Consultant and Client, Chef and Customer, Customer and Server, Customer and Businessman, Doctor and Patient, Doctor and Nurse, Patient and Caretaker, Driver and Passenger, Coach and athlete, Team Captain and Team Members, Club Member and Club President, Politician and Supporter, Leader and Follower, Representative and Citizen, Officer and Soldier, Babysitter and Infant, Religious leader and Congregant, Guide and Tourist, Athlete and Referee, Reader and Writer, Reviewer and Writer, Performer and Audience, Dealer and Buyer, Director and Performer, Psychologist and Client, Judge and Contestant, Between Co-workers, Between criminal and their accomplice, Between diplomats, Principal and Teacher, Professor and Teaching Assistant, University student and Administrator, Student and Dorm Resident assistant, Mentor and Mentee, Athletic trainer and Trainee, Researcher and Research Subject, Landlord and Tenant, Landlord and Housekeeper, Guest and Host, Television host and Guest, Volunteer and Organizer, Celebrity and Fans, Between a person and their social media follower, Between friends with benefits, Between political allies, Between church members, Superior and Subordinate, Between alumni, Between a monarch and their minister, Between companions\n",
      "\n",
      "Cluster 3 Relationship:31\n",
      "Between divorced spouses, Guard and Prisoner, Between opposing negotiators, Between political opponents, Between business rivals, Between enemies, Between casual acquaintances, Man and His Mistress, Man Wife and Man Mistress, Victim and Criminal, Drug dealer and Addict, Victim and Witness, Criminal and Police officer, Criminal and Prosecutor, Criminal and Hostage, Defendant and Plaintiff, Police officer and Offender, Parole officer and Parolee, Prostitute and Customer, Slave and Master, Sugar-daddy and Sugar-baby, Between sports rivals, Between romantic rivals, Predecessor and Successor, Celebrity and Haters, Native and Tourist, Bully and Victim, Between strangers, Between fans of opposing sports teams, Between frenemies, Between competitors in sports\n",
      "***************************************************\n",
      "\n",
      "HK 3 KMeans clusters in raw data:\n",
      "\n",
      "Cluster 1 Relationship:82\n",
      "Between a person and their in-laws, Employer and Employee, Interviewer and Job applicant, Nurse and Patient, Therapist and Patient, Salesperson and Customer, Between Business Partners, Professor and Graduate student, Master and Servant, Between teammates in sports, Between second cousins, Step-parent and Step-child, Foster-parent and Foster-child, Godparent and Godchild, Ancestor and Descendant, Between step-siblings, Manager and Staff, Foreman and Laborer, Owner and Manager, Union leader and union member, Manager and Assistant, Chief and Deputy, Supervisor and Subordinate, Boss and Secretary, Entrepreneur and Investor, Intern and Employee, Lawyer and Client, Judge and Lawyer, Police officer and Civilian, Consultant and Client, Chef and Customer, Customer and Server, Customer and Businessman, Doctor and Patient, Doctor and Nurse, Patient and Caretaker, Driver and Passenger, Coach and athlete, Team Captain and Team Members, Club Member and Club President, Politician and Supporter, Leader and Follower, Representative and Citizen, Officer and Soldier, Babysitter and Infant, Religious leader and Congregant, Between religious followers, Guide and Tourist, Athlete and Referee, Reader and Writer, Reviewer and Writer, Performer and Audience, Dealer and Buyer, Director and Performer, Psychologist and Client, Man and God, Between Co-workers, Between diplomats, Principal and Teacher, Professor and Teaching Assistant, University student and Administrator, Student and Dorm Resident assistant, Mentor and Mentee, Athletic trainer and Trainee, Researcher and Research Subject, Predecessor and Successor, Landlord and Tenant, Landlord and Housekeeper, Guest and Host, Television host and Guest, Celebrity and Fans, Native and Tourist, Between a person and their social media follower, Between pen-friends, Between political allies, Between neighbors, Between church members, Between fans of the same sports team, Superior and Subordinate, Between alumni, Between a monarch and their minister, Between companions\n",
      "\n",
      "Cluster 2 Relationship:36\n",
      "Between divorced spouses, Guard and Prisoner, Between opposing negotiators, Between political opponents, Between business rivals, Between enemies, Between casual acquaintances, Step-grandparent and Step-grandchild, Man and His Mistress, Man Wife and Man Mistress, Between distant relatives, Victim and Criminal, Drug dealer and Addict, Victim and Witness, Criminal and Police officer, Criminal and Prosecutor, Criminal and Hostage, Defendant and Plaintiff, Police officer and Offender, Parole officer and Parolee, Prostitute and Customer, Slave and Master, Sugar-daddy and Sugar-baby, Judge and Contestant, Between sports rivals, Between romantic rivals, Between criminal and their accomplice, Celebrity and Haters, Bully and Victim, Between friends with benefits, Between ex-lovers, Between strangers, Between fans of opposing sports teams, Between frenemies, Between competitors in sports, Between a person and their crush\n",
      "\n",
      "Cluster 3 Relationship:41\n",
      "Parent and Child, Parent and Teenager, Wife and Husband, Fiance and Fiancee, Between Siblings, Between cousins, Teacher and Student, Between Close Friends, Parent and Infant, Grandparent and Grandchild, Bride and Groom, Brother and Sister, Between close relatives, Between twins, Between a person and their family friends, Between a person and their deceased spouse, Between peers, Between classmates, Between roommates, Between sorority sisters, Between fraternity brothers, Bride and Bridesmaid, Groom and Groomsman, Volunteer and Organizer, Between friends, Between Facebook Friends, Between childhood friends, Between romantic lovers, Between life-partners, Between soul-mates, Aunt and Niece/Nephew, Uncle and Niece/Nephew, Between half-siblings, Between adoptive parents and adopted kids, Mother and Infant, Between confidants, Between a person and their significant other, Between playmates, Between cohabitants, Between long-distance lovers, Between brothers-in-arms\n",
      "***************************************************\n",
      "\n",
      "France 3 KMeans clusters in raw data:\n",
      "\n",
      "Cluster 1 Relationship:77\n",
      "Between a person and their in-laws, Employer and Employee, Interviewer and Job applicant, Nurse and Patient, Salesperson and Customer, Between Business Partners, Teacher and Student, Professor and Graduate student, Master and Servant, Between teammates in sports, Between distant relatives, Manager and Staff, Foreman and Laborer, Owner and Manager, Union leader and union member, Manager and Assistant, Chief and Deputy, Supervisor and Subordinate, Boss and Secretary, Entrepreneur and Investor, Intern and Employee, Lawyer and Client, Judge and Lawyer, Drug dealer and Addict, Victim and Witness, Police officer and Civilian, Parole officer and Parolee, Consultant and Client, Chef and Customer, Customer and Server, Customer and Businessman, Doctor and Patient, Doctor and Nurse, Patient and Caretaker, Driver and Passenger, Team Captain and Team Members, Club Member and Club President, Politician and Supporter, Leader and Follower, Representative and Citizen, Officer and Soldier, Religious leader and Congregant, Prostitute and Customer, Guide and Tourist, Athlete and Referee, Reader and Writer, Reviewer and Writer, Performer and Audience, Dealer and Buyer, Director and Performer, Psychologist and Client, Judge and Contestant, Between Co-workers, Between criminal and their accomplice, Between diplomats, Principal and Teacher, Professor and Teaching Assistant, University student and Administrator, Mentor and Mentee, Athletic trainer and Trainee, Researcher and Research Subject, Predecessor and Successor, Landlord and Tenant, Landlord and Housekeeper, Guest and Host, Television host and Guest, Volunteer and Organizer, Celebrity and Fans, Native and Tourist, Between a person and their social media follower, Between pen-friends, Between political allies, Between neighbors, Between church members, Between alumni, Between a monarch and their minister, Between companions\n",
      "\n",
      "Cluster 2 Relationship:58\n",
      "Parent and Child, Parent and Teenager, Wife and Husband, Fiance and Fiancee, Between Siblings, Between cousins, Therapist and Patient, Between Close Friends, Between casual acquaintances, Between second cousins, Parent and Infant, Grandparent and Grandchild, Step-parent and Step-child, Foster-parent and Foster-child, Godparent and Godchild, Step-grandparent and Step-grandchild, Ancestor and Descendant, Bride and Groom, Man and His Mistress, Man Wife and Man Mistress, Brother and Sister, Between step-siblings, Between close relatives, Between twins, Between a person and their family friends, Between a person and their deceased spouse, Coach and athlete, Babysitter and Infant, Between religious followers, Sugar-daddy and Sugar-baby, Man and God, Between peers, Between classmates, Between roommates, Between sorority sisters, Between fraternity brothers, Bride and Bridesmaid, Groom and Groomsman, Between friends, Between Facebook Friends, Between childhood friends, Between friends with benefits, Between romantic lovers, Between life-partners, Between soul-mates, Between fans of the same sports team, Aunt and Niece/Nephew, Uncle and Niece/Nephew, Between half-siblings, Between adoptive parents and adopted kids, Mother and Infant, Between confidants, Between a person and their significant other, Between playmates, Between a person and their crush, Between cohabitants, Between long-distance lovers, Between brothers-in-arms\n",
      "\n",
      "Cluster 3 Relationship:24\n",
      "Between divorced spouses, Guard and Prisoner, Between opposing negotiators, Between political opponents, Between business rivals, Between enemies, Victim and Criminal, Criminal and Police officer, Criminal and Prosecutor, Criminal and Hostage, Defendant and Plaintiff, Police officer and Offender, Slave and Master, Between sports rivals, Between romantic rivals, Student and Dorm Resident assistant, Celebrity and Haters, Bully and Victim, Between ex-lovers, Between strangers, Between fans of opposing sports teams, Superior and Subordinate, Between frenemies, Between competitors in sports\n",
      "***************************************************\n",
      "\n",
      "Chile 3 KMeans clusters in raw data:\n",
      "\n",
      "Cluster 1 Relationship:67\n",
      "Employer and Employee, Interviewer and Job applicant, Nurse and Patient, Therapist and Patient, Salesperson and Customer, Between Business Partners, Teacher and Student, Professor and Graduate student, Master and Servant, Between teammates in sports, Manager and Staff, Foreman and Laborer, Owner and Manager, Union leader and union member, Manager and Assistant, Chief and Deputy, Supervisor and Subordinate, Boss and Secretary, Entrepreneur and Investor, Intern and Employee, Lawyer and Client, Judge and Lawyer, Drug dealer and Addict, Police officer and Civilian, Consultant and Client, Chef and Customer, Customer and Server, Customer and Businessman, Doctor and Patient, Doctor and Nurse, Driver and Passenger, Coach and athlete, Club Member and Club President, Politician and Supporter, Leader and Follower, Representative and Citizen, Officer and Soldier, Religious leader and Congregant, Guide and Tourist, Athlete and Referee, Reader and Writer, Performer and Audience, Dealer and Buyer, Director and Performer, Psychologist and Client, Between Co-workers, Between criminal and their accomplice, Between diplomats, Principal and Teacher, Professor and Teaching Assistant, University student and Administrator, Student and Dorm Resident assistant, Mentor and Mentee, Athletic trainer and Trainee, Researcher and Research Subject, Predecessor and Successor, Landlord and Tenant, Landlord and Housekeeper, Guest and Host, Television host and Guest, Volunteer and Organizer, Celebrity and Fans, Native and Tourist, Between political allies, Superior and Subordinate, Between a monarch and their minister, Between brothers-in-arms\n",
      "\n",
      "Cluster 2 Relationship:35\n",
      "Between divorced spouses, Between a person and their in-laws, Guard and Prisoner, Between opposing negotiators, Between political opponents, Between business rivals, Between enemies, Between second cousins, Man Wife and Man Mistress, Between distant relatives, Victim and Criminal, Victim and Witness, Criminal and Police officer, Criminal and Prosecutor, Criminal and Hostage, Defendant and Plaintiff, Police officer and Offender, Parole officer and Parolee, Prostitute and Customer, Slave and Master, Reviewer and Writer, Sugar-daddy and Sugar-baby, Judge and Contestant, Between sports rivals, Between romantic rivals, Between peers, Celebrity and Haters, Bully and Victim, Between a person and their social media follower, Between ex-lovers, Between strangers, Between fans of opposing sports teams, Between frenemies, Between alumni, Between competitors in sports\n",
      "\n",
      "Cluster 3 Relationship:57\n",
      "Parent and Child, Parent and Teenager, Wife and Husband, Fiance and Fiancee, Between Siblings, Between cousins, Between Close Friends, Between casual acquaintances, Parent and Infant, Grandparent and Grandchild, Step-parent and Step-child, Foster-parent and Foster-child, Godparent and Godchild, Step-grandparent and Step-grandchild, Ancestor and Descendant, Bride and Groom, Man and His Mistress, Brother and Sister, Between step-siblings, Between close relatives, Between twins, Between a person and their family friends, Between a person and their deceased spouse, Patient and Caretaker, Team Captain and Team Members, Babysitter and Infant, Between religious followers, Man and God, Between classmates, Between roommates, Between sorority sisters, Between fraternity brothers, Bride and Bridesmaid, Groom and Groomsman, Between friends, Between Facebook Friends, Between childhood friends, Between pen-friends, Between friends with benefits, Between romantic lovers, Between life-partners, Between soul-mates, Between neighbors, Between church members, Between fans of the same sports team, Aunt and Niece/Nephew, Uncle and Niece/Nephew, Between half-siblings, Between adoptive parents and adopted kids, Mother and Infant, Between confidants, Between a person and their significant other, Between companions, Between playmates, Between a person and their crush, Between cohabitants, Between long-distance lovers\n",
      "***************************************************\n",
      "\n",
      "Mexico 3 KMeans clusters in raw data:\n",
      "\n",
      "Cluster 1 Relationship:47\n",
      "Parent and Child, Parent and Teenager, Wife and Husband, Fiance and Fiancee, Between Siblings, Between cousins, Between Close Friends, Parent and Infant, Grandparent and Grandchild, Step-parent and Step-child, Foster-parent and Foster-child, Godparent and Godchild, Ancestor and Descendant, Bride and Groom, Man and His Mistress, Brother and Sister, Between step-siblings, Between close relatives, Between twins, Between a person and their family friends, Between a person and their deceased spouse, Patient and Caretaker, Man and God, Between classmates, Between roommates, Between fraternity brothers, Bride and Bridesmaid, Groom and Groomsman, Between friends, Between childhood friends, Between friends with benefits, Between romantic lovers, Between life-partners, Between soul-mates, Between fans of the same sports team, Aunt and Niece/Nephew, Uncle and Niece/Nephew, Between half-siblings, Between adoptive parents and adopted kids, Mother and Infant, Between confidants, Between a person and their significant other, Between companions, Between playmates, Between a person and their crush, Between cohabitants, Between long-distance lovers\n",
      "\n",
      "Cluster 2 Relationship:50\n",
      "Between divorced spouses, Between a person and their in-laws, Guard and Prisoner, Between opposing negotiators, Between political opponents, Between business rivals, Between enemies, Master and Servant, Between casual acquaintances, Between second cousins, Step-grandparent and Step-grandchild, Man Wife and Man Mistress, Between distant relatives, Victim and Criminal, Drug dealer and Addict, Victim and Witness, Criminal and Police officer, Criminal and Prosecutor, Criminal and Hostage, Defendant and Plaintiff, Police officer and Offender, Police officer and Civilian, Politician and Supporter, Between religious followers, Prostitute and Customer, Slave and Master, Reader and Writer, Reviewer and Writer, Sugar-daddy and Sugar-baby, Judge and Contestant, Between sports rivals, Between romantic rivals, Between criminal and their accomplice, Between peers, Between sorority sisters, Celebrity and Fans, Celebrity and Haters, Native and Tourist, Bully and Victim, Between Facebook Friends, Between a person and their social media follower, Between pen-friends, Between ex-lovers, Between strangers, Between neighbors, Between church members, Between fans of opposing sports teams, Between frenemies, Between competitors in sports, Between brothers-in-arms\n",
      "\n",
      "Cluster 3 Relationship:62\n",
      "Employer and Employee, Interviewer and Job applicant, Nurse and Patient, Therapist and Patient, Salesperson and Customer, Between Business Partners, Teacher and Student, Professor and Graduate student, Between teammates in sports, Manager and Staff, Foreman and Laborer, Owner and Manager, Union leader and union member, Manager and Assistant, Chief and Deputy, Supervisor and Subordinate, Boss and Secretary, Entrepreneur and Investor, Intern and Employee, Lawyer and Client, Judge and Lawyer, Parole officer and Parolee, Consultant and Client, Chef and Customer, Customer and Server, Customer and Businessman, Doctor and Patient, Doctor and Nurse, Driver and Passenger, Coach and athlete, Team Captain and Team Members, Club Member and Club President, Leader and Follower, Representative and Citizen, Officer and Soldier, Babysitter and Infant, Religious leader and Congregant, Guide and Tourist, Athlete and Referee, Performer and Audience, Dealer and Buyer, Director and Performer, Psychologist and Client, Between Co-workers, Between diplomats, Principal and Teacher, Professor and Teaching Assistant, University student and Administrator, Student and Dorm Resident assistant, Mentor and Mentee, Athletic trainer and Trainee, Researcher and Research Subject, Predecessor and Successor, Landlord and Tenant, Landlord and Housekeeper, Guest and Host, Television host and Guest, Volunteer and Organizer, Between political allies, Superior and Subordinate, Between alumni, Between a monarch and their minister\n",
      "***************************************************\n",
      "\n",
      "Spain 3 KMeans clusters in raw data:\n",
      "\n",
      "Cluster 1 Relationship:46\n",
      "Parent and Child, Parent and Teenager, Wife and Husband, Fiance and Fiancee, Between Siblings, Between cousins, Therapist and Patient, Between Close Friends, Parent and Infant, Grandparent and Grandchild, Step-parent and Step-child, Foster-parent and Foster-child, Godparent and Godchild, Step-grandparent and Step-grandchild, Ancestor and Descendant, Bride and Groom, Man and His Mistress, Brother and Sister, Between close relatives, Between twins, Between a person and their family friends, Between a person and their deceased spouse, Doctor and Nurse, Patient and Caretaker, Babysitter and Infant, Psychologist and Client, Between classmates, Between roommates, Between fraternity brothers, Bride and Bridesmaid, Groom and Groomsman, Between friends, Between childhood friends, Between romantic lovers, Between life-partners, Between soul-mates, Aunt and Niece/Nephew, Uncle and Niece/Nephew, Between half-siblings, Between adoptive parents and adopted kids, Mother and Infant, Between confidants, Between a person and their significant other, Between companions, Between cohabitants, Between long-distance lovers\n",
      "\n",
      "Cluster 2 Relationship:64\n",
      "Employer and Employee, Interviewer and Job applicant, Nurse and Patient, Salesperson and Customer, Between Business Partners, Teacher and Student, Professor and Graduate student, Master and Servant, Between teammates in sports, Manager and Staff, Foreman and Laborer, Owner and Manager, Union leader and union member, Manager and Assistant, Chief and Deputy, Supervisor and Subordinate, Boss and Secretary, Entrepreneur and Investor, Intern and Employee, Lawyer and Client, Judge and Lawyer, Drug dealer and Addict, Criminal and Prosecutor, Police officer and Civilian, Consultant and Client, Chef and Customer, Customer and Server, Customer and Businessman, Doctor and Patient, Driver and Passenger, Coach and athlete, Team Captain and Team Members, Club Member and Club President, Representative and Citizen, Officer and Soldier, Religious leader and Congregant, Prostitute and Customer, Guide and Tourist, Reader and Writer, Performer and Audience, Dealer and Buyer, Sugar-daddy and Sugar-baby, Director and Performer, Between Co-workers, Between criminal and their accomplice, Between diplomats, Principal and Teacher, Professor and Teaching Assistant, University student and Administrator, Student and Dorm Resident assistant, Mentor and Mentee, Athletic trainer and Trainee, Researcher and Research Subject, Predecessor and Successor, Landlord and Tenant, Landlord and Housekeeper, Guest and Host, Television host and Guest, Volunteer and Organizer, Between political allies, Superior and Subordinate, Between a monarch and their minister, Between playmates, Between brothers-in-arms\n",
      "\n",
      "Cluster 3 Relationship:49\n",
      "Between divorced spouses, Between a person and their in-laws, Guard and Prisoner, Between opposing negotiators, Between political opponents, Between business rivals, Between enemies, Between casual acquaintances, Between second cousins, Man Wife and Man Mistress, Between step-siblings, Between distant relatives, Victim and Criminal, Victim and Witness, Criminal and Police officer, Criminal and Hostage, Defendant and Plaintiff, Police officer and Offender, Parole officer and Parolee, Politician and Supporter, Leader and Follower, Between religious followers, Athlete and Referee, Slave and Master, Reviewer and Writer, Judge and Contestant, Man and God, Between sports rivals, Between romantic rivals, Between peers, Between sorority sisters, Celebrity and Fans, Celebrity and Haters, Native and Tourist, Bully and Victim, Between Facebook Friends, Between a person and their social media follower, Between pen-friends, Between friends with benefits, Between ex-lovers, Between strangers, Between neighbors, Between church members, Between fans of the same sports team, Between fans of opposing sports teams, Between frenemies, Between alumni, Between competitors in sports, Between a person and their crush\n",
      "***************************************************\n",
      "\n",
      "Portugal 3 KMeans clusters in raw data:\n",
      "\n",
      "Cluster 1 Relationship:60\n",
      "Parent and Child, Parent and Teenager, Wife and Husband, Fiance and Fiancee, Between Siblings, Between cousins, Between Close Friends, Between casual acquaintances, Between teammates in sports, Between second cousins, Parent and Infant, Grandparent and Grandchild, Step-parent and Step-child, Foster-parent and Foster-child, Godparent and Godchild, Step-grandparent and Step-grandchild, Ancestor and Descendant, Bride and Groom, Man and His Mistress, Brother and Sister, Between step-siblings, Between close relatives, Between twins, Between a person and their family friends, Between a person and their deceased spouse, Victim and Witness, Team Captain and Team Members, Babysitter and Infant, Between religious followers, Sugar-daddy and Sugar-baby, Man and God, Between peers, Between classmates, Between roommates, Between sorority sisters, Between fraternity brothers, Bride and Bridesmaid, Groom and Groomsman, Between friends, Between Facebook Friends, Between childhood friends, Between pen-friends, Between friends with benefits, Between romantic lovers, Between life-partners, Between soul-mates, Between fans of the same sports team, Aunt and Niece/Nephew, Uncle and Niece/Nephew, Between half-siblings, Between adoptive parents and adopted kids, Mother and Infant, Between confidants, Between a person and their significant other, Between companions, Between playmates, Between a person and their crush, Between cohabitants, Between long-distance lovers, Between brothers-in-arms\n",
      "\n",
      "Cluster 2 Relationship:67\n",
      "Employer and Employee, Interviewer and Job applicant, Nurse and Patient, Therapist and Patient, Salesperson and Customer, Between Business Partners, Teacher and Student, Professor and Graduate student, Master and Servant, Manager and Staff, Foreman and Laborer, Owner and Manager, Union leader and union member, Manager and Assistant, Chief and Deputy, Supervisor and Subordinate, Boss and Secretary, Entrepreneur and Investor, Intern and Employee, Lawyer and Client, Judge and Lawyer, Drug dealer and Addict, Police officer and Civilian, Consultant and Client, Chef and Customer, Customer and Server, Customer and Businessman, Doctor and Patient, Doctor and Nurse, Patient and Caretaker, Driver and Passenger, Coach and athlete, Club Member and Club President, Politician and Supporter, Leader and Follower, Representative and Citizen, Officer and Soldier, Religious leader and Congregant, Prostitute and Customer, Guide and Tourist, Reader and Writer, Performer and Audience, Dealer and Buyer, Director and Performer, Psychologist and Client, Between Co-workers, Between criminal and their accomplice, Between diplomats, Principal and Teacher, Professor and Teaching Assistant, University student and Administrator, Student and Dorm Resident assistant, Mentor and Mentee, Athletic trainer and Trainee, Researcher and Research Subject, Predecessor and Successor, Landlord and Tenant, Landlord and Housekeeper, Guest and Host, Volunteer and Organizer, Celebrity and Fans, Native and Tourist, Between political allies, Between neighbors, Between church members, Superior and Subordinate, Between a monarch and their minister\n",
      "\n",
      "Cluster 3 Relationship:32\n",
      "Between divorced spouses, Between a person and their in-laws, Guard and Prisoner, Between opposing negotiators, Between political opponents, Between business rivals, Between enemies, Man Wife and Man Mistress, Between distant relatives, Victim and Criminal, Criminal and Police officer, Criminal and Prosecutor, Criminal and Hostage, Defendant and Plaintiff, Police officer and Offender, Parole officer and Parolee, Athlete and Referee, Slave and Master, Reviewer and Writer, Judge and Contestant, Between sports rivals, Between romantic rivals, Television host and Guest, Celebrity and Haters, Bully and Victim, Between a person and their social media follower, Between ex-lovers, Between strangers, Between fans of opposing sports teams, Between frenemies, Between alumni, Between competitors in sports\n",
      "***************************************************\n",
      "\n",
      "Brazil 3 KMeans clusters in raw data:\n",
      "\n",
      "Cluster 1 Relationship:74\n",
      "Employer and Employee, Interviewer and Job applicant, Nurse and Patient, Therapist and Patient, Salesperson and Customer, Between Business Partners, Between opposing negotiators, Between business rivals, Teacher and Student, Professor and Graduate student, Master and Servant, Between teammates in sports, Manager and Staff, Foreman and Laborer, Owner and Manager, Manager and Assistant, Chief and Deputy, Supervisor and Subordinate, Boss and Secretary, Entrepreneur and Investor, Intern and Employee, Lawyer and Client, Judge and Lawyer, Police officer and Civilian, Consultant and Client, Chef and Customer, Customer and Server, Customer and Businessman, Doctor and Patient, Doctor and Nurse, Patient and Caretaker, Driver and Passenger, Coach and athlete, Team Captain and Team Members, Club Member and Club President, Politician and Supporter, Leader and Follower, Representative and Citizen, Officer and Soldier, Religious leader and Congregant, Between religious followers, Guide and Tourist, Athlete and Referee, Reader and Writer, Reviewer and Writer, Performer and Audience, Dealer and Buyer, Director and Performer, Psychologist and Client, Between Co-workers, Between diplomats, Principal and Teacher, Professor and Teaching Assistant, University student and Administrator, Student and Dorm Resident assistant, Mentor and Mentee, Athletic trainer and Trainee, Researcher and Research Subject, Predecessor and Successor, Landlord and Tenant, Landlord and Housekeeper, Television host and Guest, Volunteer and Organizer, Celebrity and Fans, Native and Tourist, Between a person and their social media follower, Between pen-friends, Between friends with benefits, Between political allies, Between neighbors, Superior and Subordinate, Between a monarch and their minister, Between cohabitants, Between brothers-in-arms\n",
      "\n",
      "Cluster 2 Relationship:51\n",
      "Parent and Child, Parent and Teenager, Wife and Husband, Fiance and Fiancee, Between Siblings, Between cousins, Between Close Friends, Between casual acquaintances, Between second cousins, Parent and Infant, Grandparent and Grandchild, Step-parent and Step-child, Foster-parent and Foster-child, Godparent and Godchild, Step-grandparent and Step-grandchild, Bride and Groom, Brother and Sister, Between close relatives, Between twins, Between a person and their family friends, Between a person and their deceased spouse, Babysitter and Infant, Sugar-daddy and Sugar-baby, Man and God, Between peers, Between classmates, Between roommates, Between sorority sisters, Between fraternity brothers, Bride and Bridesmaid, Groom and Groomsman, Guest and Host, Between friends, Between Facebook Friends, Between childhood friends, Between romantic lovers, Between life-partners, Between soul-mates, Between church members, Between fans of the same sports team, Aunt and Niece/Nephew, Uncle and Niece/Nephew, Between half-siblings, Between adoptive parents and adopted kids, Mother and Infant, Between confidants, Between a person and their significant other, Between companions, Between playmates, Between a person and their crush, Between long-distance lovers\n",
      "\n",
      "Cluster 3 Relationship:34\n",
      "Between divorced spouses, Between a person and their in-laws, Guard and Prisoner, Between political opponents, Between enemies, Ancestor and Descendant, Man and His Mistress, Man Wife and Man Mistress, Between step-siblings, Between distant relatives, Union leader and union member, Victim and Criminal, Drug dealer and Addict, Victim and Witness, Criminal and Police officer, Criminal and Prosecutor, Criminal and Hostage, Defendant and Plaintiff, Police officer and Offender, Parole officer and Parolee, Prostitute and Customer, Slave and Master, Judge and Contestant, Between sports rivals, Between romantic rivals, Between criminal and their accomplice, Celebrity and Haters, Bully and Victim, Between ex-lovers, Between strangers, Between fans of opposing sports teams, Between frenemies, Between alumni, Between competitors in sports\n",
      "***************************************************\n",
      "\n",
      "Israel 3 KMeans clusters in raw data:\n",
      "\n",
      "Cluster 1 Relationship:77\n",
      "Between a person and their in-laws, Employer and Employee, Interviewer and Job applicant, Nurse and Patient, Therapist and Patient, Salesperson and Customer, Between Business Partners, Teacher and Student, Professor and Graduate student, Master and Servant, Between teammates in sports, Manager and Staff, Foreman and Laborer, Owner and Manager, Union leader and union member, Manager and Assistant, Chief and Deputy, Supervisor and Subordinate, Boss and Secretary, Entrepreneur and Investor, Intern and Employee, Lawyer and Client, Judge and Lawyer, Drug dealer and Addict, Police officer and Civilian, Parole officer and Parolee, Consultant and Client, Chef and Customer, Customer and Server, Customer and Businessman, Doctor and Patient, Doctor and Nurse, Patient and Caretaker, Driver and Passenger, Coach and athlete, Team Captain and Team Members, Club Member and Club President, Politician and Supporter, Leader and Follower, Representative and Citizen, Officer and Soldier, Babysitter and Infant, Religious leader and Congregant, Guide and Tourist, Athlete and Referee, Reader and Writer, Reviewer and Writer, Performer and Audience, Dealer and Buyer, Sugar-daddy and Sugar-baby, Director and Performer, Psychologist and Client, Judge and Contestant, Between Co-workers, Between criminal and their accomplice, Between diplomats, Principal and Teacher, Professor and Teaching Assistant, University student and Administrator, Student and Dorm Resident assistant, Mentor and Mentee, Athletic trainer and Trainee, Researcher and Research Subject, Predecessor and Successor, Landlord and Tenant, Landlord and Housekeeper, Television host and Guest, Volunteer and Organizer, Celebrity and Fans, Native and Tourist, Between a person and their social media follower, Between political allies, Between neighbors, Between church members, Superior and Subordinate, Between alumni, Between a monarch and their minister\n",
      "\n",
      "Cluster 2 Relationship:56\n",
      "Parent and Child, Parent and Teenager, Wife and Husband, Fiance and Fiancee, Between Siblings, Between cousins, Between Close Friends, Between casual acquaintances, Between second cousins, Parent and Infant, Grandparent and Grandchild, Step-parent and Step-child, Foster-parent and Foster-child, Godparent and Godchild, Step-grandparent and Step-grandchild, Ancestor and Descendant, Bride and Groom, Man and His Mistress, Brother and Sister, Between step-siblings, Between distant relatives, Between close relatives, Between twins, Between a person and their family friends, Between a person and their deceased spouse, Between religious followers, Man and God, Between classmates, Between roommates, Between sorority sisters, Between fraternity brothers, Bride and Bridesmaid, Groom and Groomsman, Guest and Host, Between friends, Between Facebook Friends, Between childhood friends, Between pen-friends, Between friends with benefits, Between romantic lovers, Between life-partners, Between soul-mates, Between fans of the same sports team, Aunt and Niece/Nephew, Uncle and Niece/Nephew, Between half-siblings, Between adoptive parents and adopted kids, Mother and Infant, Between confidants, Between a person and their significant other, Between companions, Between playmates, Between a person and their crush, Between cohabitants, Between long-distance lovers, Between brothers-in-arms\n",
      "\n",
      "Cluster 3 Relationship:26\n",
      "Between divorced spouses, Guard and Prisoner, Between opposing negotiators, Between political opponents, Between business rivals, Between enemies, Man Wife and Man Mistress, Victim and Criminal, Victim and Witness, Criminal and Police officer, Criminal and Prosecutor, Criminal and Hostage, Defendant and Plaintiff, Police officer and Offender, Prostitute and Customer, Slave and Master, Between sports rivals, Between romantic rivals, Between peers, Celebrity and Haters, Bully and Victim, Between ex-lovers, Between strangers, Between fans of opposing sports teams, Between frenemies, Between competitors in sports\n",
      "***************************************************\n",
      "\n",
      "Russia 3 KMeans clusters in raw data:\n",
      "\n",
      "Cluster 1 Relationship:42\n",
      "Parent and Child, Parent and Teenager, Wife and Husband, Fiance and Fiancee, Between Siblings, Between cousins, Between Close Friends, Between second cousins, Parent and Infant, Grandparent and Grandchild, Step-parent and Step-child, Foster-parent and Foster-child, Godparent and Godchild, Step-grandparent and Step-grandchild, Ancestor and Descendant, Bride and Groom, Brother and Sister, Between close relatives, Between twins, Between a person and their family friends, Babysitter and Infant, Man and God, Between peers, Between classmates, Between roommates, Between fraternity brothers, Bride and Bridesmaid, Groom and Groomsman, Guest and Host, Between friends, Between childhood friends, Between life-partners, Between soul-mates, Aunt and Niece/Nephew, Uncle and Niece/Nephew, Between half-siblings, Between adoptive parents and adopted kids, Mother and Infant, Between a person and their significant other, Between a person and their crush, Between cohabitants, Between long-distance lovers\n",
      "\n",
      "Cluster 2 Relationship:50\n",
      "Between divorced spouses, Between a person and their in-laws, Guard and Prisoner, Between political opponents, Between business rivals, Between enemies, Master and Servant, Between casual acquaintances, Man and His Mistress, Man Wife and Man Mistress, Between a person and their deceased spouse, Union leader and union member, Victim and Criminal, Drug dealer and Addict, Victim and Witness, Criminal and Police officer, Criminal and Prosecutor, Criminal and Hostage, Defendant and Plaintiff, Police officer and Offender, Police officer and Civilian, Parole officer and Parolee, Chef and Customer, Religious leader and Congregant, Between religious followers, Prostitute and Customer, Slave and Master, Sugar-daddy and Sugar-baby, Between sports rivals, Between romantic rivals, Between criminal and their accomplice, Student and Dorm Resident assistant, Between sorority sisters, Celebrity and Fans, Celebrity and Haters, Bully and Victim, Between Facebook Friends, Between a person and their social media follower, Between pen-friends, Between friends with benefits, Between romantic lovers, Between ex-lovers, Between strangers, Between church members, Between fans of the same sports team, Between fans of opposing sports teams, Between frenemies, Between alumni, Between a monarch and their minister, Between competitors in sports\n",
      "\n",
      "Cluster 3 Relationship:67\n",
      "Employer and Employee, Interviewer and Job applicant, Nurse and Patient, Therapist and Patient, Salesperson and Customer, Between Business Partners, Between opposing negotiators, Teacher and Student, Professor and Graduate student, Between teammates in sports, Between step-siblings, Between distant relatives, Manager and Staff, Foreman and Laborer, Owner and Manager, Manager and Assistant, Chief and Deputy, Supervisor and Subordinate, Boss and Secretary, Entrepreneur and Investor, Intern and Employee, Lawyer and Client, Judge and Lawyer, Consultant and Client, Customer and Server, Customer and Businessman, Doctor and Patient, Doctor and Nurse, Patient and Caretaker, Driver and Passenger, Coach and athlete, Team Captain and Team Members, Club Member and Club President, Politician and Supporter, Leader and Follower, Representative and Citizen, Officer and Soldier, Guide and Tourist, Athlete and Referee, Reader and Writer, Reviewer and Writer, Performer and Audience, Dealer and Buyer, Director and Performer, Psychologist and Client, Judge and Contestant, Between Co-workers, Between diplomats, Principal and Teacher, Professor and Teaching Assistant, University student and Administrator, Mentor and Mentee, Athletic trainer and Trainee, Researcher and Research Subject, Predecessor and Successor, Landlord and Tenant, Landlord and Housekeeper, Television host and Guest, Volunteer and Organizer, Native and Tourist, Between political allies, Between neighbors, Superior and Subordinate, Between confidants, Between companions, Between playmates, Between brothers-in-arms\n",
      "***************************************************\n",
      "\n",
      "Egypt 3 KMeans clusters in raw data:\n",
      "\n",
      "Cluster 1 Relationship:65\n",
      "Employer and Employee, Interviewer and Job applicant, Nurse and Patient, Therapist and Patient, Salesperson and Customer, Between Business Partners, Between teammates in sports, Ancestor and Descendant, Between distant relatives, Manager and Staff, Foreman and Laborer, Owner and Manager, Union leader and union member, Manager and Assistant, Chief and Deputy, Supervisor and Subordinate, Boss and Secretary, Entrepreneur and Investor, Intern and Employee, Lawyer and Client, Judge and Lawyer, Consultant and Client, Chef and Customer, Customer and Server, Customer and Businessman, Doctor and Patient, Patient and Caretaker, Driver and Passenger, Coach and athlete, Club Member and Club President, Politician and Supporter, Leader and Follower, Representative and Citizen, Officer and Soldier, Guide and Tourist, Athlete and Referee, Reader and Writer, Reviewer and Writer, Performer and Audience, Dealer and Buyer, Director and Performer, Psychologist and Client, Judge and Contestant, Between Co-workers, Between diplomats, Principal and Teacher, Professor and Teaching Assistant, University student and Administrator, Student and Dorm Resident assistant, Mentor and Mentee, Athletic trainer and Trainee, Researcher and Research Subject, Between fraternity brothers, Landlord and Tenant, Landlord and Housekeeper, Television host and Guest, Volunteer and Organizer, Celebrity and Fans, Native and Tourist, Between a person and their social media follower, Between friends with benefits, Superior and Subordinate, Between a monarch and their minister, Between competitors in sports, Between brothers-in-arms\n",
      "\n",
      "Cluster 2 Relationship:62\n",
      "Parent and Child, Parent and Teenager, Wife and Husband, Fiance and Fiancee, Between Siblings, Between a person and their in-laws, Between cousins, Teacher and Student, Professor and Graduate student, Between Close Friends, Between second cousins, Parent and Infant, Grandparent and Grandchild, Step-parent and Step-child, Foster-parent and Foster-child, Godparent and Godchild, Step-grandparent and Step-grandchild, Bride and Groom, Man and His Mistress, Man Wife and Man Mistress, Brother and Sister, Between step-siblings, Between close relatives, Between twins, Between a person and their family friends, Between a person and their deceased spouse, Police officer and Civilian, Doctor and Nurse, Team Captain and Team Members, Babysitter and Infant, Religious leader and Congregant, Between religious followers, Man and God, Between peers, Between classmates, Between roommates, Between sorority sisters, Bride and Bridesmaid, Groom and Groomsman, Guest and Host, Between friends, Between Facebook Friends, Between childhood friends, Between pen-friends, Between romantic lovers, Between life-partners, Between soul-mates, Between neighbors, Between church members, Between fans of the same sports team, Aunt and Niece/Nephew, Uncle and Niece/Nephew, Between half-siblings, Between adoptive parents and adopted kids, Mother and Infant, Between confidants, Between a person and their significant other, Between companions, Between playmates, Between a person and their crush, Between cohabitants, Between long-distance lovers\n",
      "\n",
      "Cluster 3 Relationship:32\n",
      "Between divorced spouses, Guard and Prisoner, Between opposing negotiators, Between political opponents, Between business rivals, Between enemies, Master and Servant, Between casual acquaintances, Victim and Criminal, Drug dealer and Addict, Victim and Witness, Criminal and Police officer, Criminal and Prosecutor, Criminal and Hostage, Defendant and Plaintiff, Police officer and Offender, Parole officer and Parolee, Prostitute and Customer, Slave and Master, Sugar-daddy and Sugar-baby, Between sports rivals, Between romantic rivals, Between criminal and their accomplice, Predecessor and Successor, Celebrity and Haters, Bully and Victim, Between political allies, Between ex-lovers, Between strangers, Between fans of opposing sports teams, Between frenemies, Between alumni\n",
      "***************************************************\n",
      "\n",
      "Qatar 3 KMeans clusters in raw data:\n",
      "\n",
      "Cluster 1 Relationship:57\n",
      "Parent and Child, Parent and Teenager, Wife and Husband, Fiance and Fiancee, Between Siblings, Between cousins, Between Close Friends, Between second cousins, Parent and Infant, Grandparent and Grandchild, Step-parent and Step-child, Foster-parent and Foster-child, Godparent and Godchild, Step-grandparent and Step-grandchild, Ancestor and Descendant, Bride and Groom, Man and His Mistress, Brother and Sister, Between step-siblings, Between close relatives, Between twins, Between a person and their family friends, Between a person and their deceased spouse, Babysitter and Infant, Religious leader and Congregant, Between religious followers, Sugar-daddy and Sugar-baby, Man and God, Between romantic rivals, Between peers, Between classmates, Between roommates, Bride and Bridesmaid, Groom and Groomsman, Guest and Host, Between friends, Between Facebook Friends, Between childhood friends, Between pen-friends, Between romantic lovers, Between life-partners, Between soul-mates, Between neighbors, Between church members, Between fans of the same sports team, Aunt and Niece/Nephew, Uncle and Niece/Nephew, Between half-siblings, Between adoptive parents and adopted kids, Mother and Infant, Between confidants, Between a person and their significant other, Between companions, Between playmates, Between a person and their crush, Between cohabitants, Between long-distance lovers\n",
      "\n",
      "Cluster 2 Relationship:30\n",
      "Between divorced spouses, Guard and Prisoner, Between opposing negotiators, Between political opponents, Between business rivals, Between enemies, Man Wife and Man Mistress, Between distant relatives, Victim and Criminal, Drug dealer and Addict, Victim and Witness, Criminal and Police officer, Criminal and Prosecutor, Criminal and Hostage, Defendant and Plaintiff, Police officer and Offender, Parole officer and Parolee, Prostitute and Customer, Slave and Master, Between criminal and their accomplice, Celebrity and Haters, Bully and Victim, Between friends with benefits, Between political allies, Between ex-lovers, Between strangers, Between fans of opposing sports teams, Between frenemies, Between alumni, Between competitors in sports\n",
      "\n",
      "Cluster 3 Relationship:72\n",
      "Between a person and their in-laws, Employer and Employee, Interviewer and Job applicant, Nurse and Patient, Therapist and Patient, Salesperson and Customer, Between Business Partners, Teacher and Student, Professor and Graduate student, Master and Servant, Between casual acquaintances, Between teammates in sports, Manager and Staff, Foreman and Laborer, Owner and Manager, Union leader and union member, Manager and Assistant, Chief and Deputy, Supervisor and Subordinate, Boss and Secretary, Entrepreneur and Investor, Intern and Employee, Lawyer and Client, Judge and Lawyer, Police officer and Civilian, Consultant and Client, Chef and Customer, Customer and Server, Customer and Businessman, Doctor and Patient, Doctor and Nurse, Patient and Caretaker, Driver and Passenger, Coach and athlete, Team Captain and Team Members, Club Member and Club President, Politician and Supporter, Leader and Follower, Representative and Citizen, Officer and Soldier, Guide and Tourist, Athlete and Referee, Reader and Writer, Reviewer and Writer, Performer and Audience, Dealer and Buyer, Director and Performer, Psychologist and Client, Judge and Contestant, Between Co-workers, Between sports rivals, Between diplomats, Principal and Teacher, Professor and Teaching Assistant, University student and Administrator, Student and Dorm Resident assistant, Mentor and Mentee, Athletic trainer and Trainee, Researcher and Research Subject, Between sorority sisters, Between fraternity brothers, Predecessor and Successor, Landlord and Tenant, Landlord and Housekeeper, Television host and Guest, Volunteer and Organizer, Celebrity and Fans, Native and Tourist, Between a person and their social media follower, Superior and Subordinate, Between a monarch and their minister, Between brothers-in-arms\n",
      "***************************************************\n",
      "\n",
      "India 3 KMeans clusters in raw data:\n",
      "\n",
      "Cluster 1 Relationship:39\n",
      "Parent and Child, Parent and Teenager, Wife and Husband, Fiance and Fiancee, Between Siblings, Between Close Friends, Between second cousins, Parent and Infant, Grandparent and Grandchild, Ancestor and Descendant, Bride and Groom, Man and His Mistress, Brother and Sister, Between close relatives, Between twins, Between a person and their family friends, Between a person and their deceased spouse, Doctor and Patient, Patient and Caretaker, Sugar-daddy and Sugar-baby, Man and God, Between classmates, Between roommates, Between fraternity brothers, Bride and Bridesmaid, Groom and Groomsman, Between friends, Between childhood friends, Between romantic lovers, Between life-partners, Between soul-mates, Aunt and Niece/Nephew, Uncle and Niece/Nephew, Between half-siblings, Between adoptive parents and adopted kids, Mother and Infant, Between a person and their significant other, Between a person and their crush, Between long-distance lovers\n",
      "\n",
      "Cluster 2 Relationship:72\n",
      "Employer and Employee, Interviewer and Job applicant, Nurse and Patient, Therapist and Patient, Salesperson and Customer, Between Business Partners, Between political opponents, Between business rivals, Teacher and Student, Professor and Graduate student, Master and Servant, Between casual acquaintances, Between teammates in sports, Step-parent and Step-child, Foster-parent and Foster-child, Godparent and Godchild, Step-grandparent and Step-grandchild, Manager and Staff, Foreman and Laborer, Owner and Manager, Union leader and union member, Manager and Assistant, Chief and Deputy, Supervisor and Subordinate, Boss and Secretary, Entrepreneur and Investor, Intern and Employee, Lawyer and Client, Judge and Lawyer, Police officer and Civilian, Consultant and Client, Doctor and Nurse, Driver and Passenger, Coach and athlete, Team Captain and Team Members, Politician and Supporter, Leader and Follower, Representative and Citizen, Officer and Soldier, Babysitter and Infant, Religious leader and Congregant, Guide and Tourist, Athlete and Referee, Reader and Writer, Reviewer and Writer, Performer and Audience, Dealer and Buyer, Director and Performer, Psychologist and Client, Judge and Contestant, Between Co-workers, Between sports rivals, Between romantic rivals, Between diplomats, Principal and Teacher, Professor and Teaching Assistant, University student and Administrator, Student and Dorm Resident assistant, Mentor and Mentee, Athletic trainer and Trainee, Researcher and Research Subject, Predecessor and Successor, Volunteer and Organizer, Between church members, Between fans of the same sports team, Superior and Subordinate, Between confidants, Between companions, Between playmates, Between competitors in sports, Between cohabitants, Between brothers-in-arms\n",
      "\n",
      "Cluster 3 Relationship:48\n",
      "Between divorced spouses, Between a person and their in-laws, Between cousins, Guard and Prisoner, Between opposing negotiators, Between enemies, Man Wife and Man Mistress, Between step-siblings, Between distant relatives, Victim and Criminal, Drug dealer and Addict, Victim and Witness, Criminal and Police officer, Criminal and Prosecutor, Criminal and Hostage, Defendant and Plaintiff, Police officer and Offender, Parole officer and Parolee, Chef and Customer, Customer and Server, Customer and Businessman, Club Member and Club President, Between religious followers, Prostitute and Customer, Slave and Master, Between criminal and their accomplice, Between peers, Between sorority sisters, Landlord and Tenant, Landlord and Housekeeper, Guest and Host, Television host and Guest, Celebrity and Fans, Celebrity and Haters, Native and Tourist, Bully and Victim, Between Facebook Friends, Between a person and their social media follower, Between pen-friends, Between friends with benefits, Between political allies, Between ex-lovers, Between strangers, Between neighbors, Between fans of opposing sports teams, Between frenemies, Between alumni, Between a monarch and their minister\n",
      "***************************************************\n"
     ]
    }
   ],
   "source": [
    "random_s = 4\n",
    "for region in regions:\n",
    "    dim_rel_scaled = raw_data_dict[region]\n",
    "    dim_rel_scaled.index = relationships\n",
    "    raw_results = clustering.create_cluster_models(data_type = \"df\",data = dim_rel_scaled,\n",
    "                        methods=['KMeans'],ks=[3],keep_orig=True)\n",
    "    raw_results.to_csv('output_data/categorical_model/raw_dissim/'+\\\n",
    "                      region+'_raw_3k.csv')\n",
    "    print()\n",
    "    print('{} 3 KMeans clusters in raw data:'.format(region))\n",
    "    for n in range(len(raw_results['cl_k3'].unique())):\n",
    "        each_cluster = raw_results.index[raw_results['cl_k3']==n]\n",
    "        print(\"\\nCluster \"+str(n+1)+\" Relationship:{}\".format(len(each_cluster)))\n",
    "        print(*raw_results.index[raw_results['cl_k3']==n], sep = \", \")\n",
    "        \n",
    "    print('***************************************************')"
   ]
  },
  {
   "cell_type": "markdown",
   "id": "e8d6c001",
   "metadata": {},
   "source": [
    "### generate RDM based on cluster results: 0/1 matrix"
   ]
  },
  {
   "cell_type": "code",
   "execution_count": 11,
   "id": "c3bf70a1",
   "metadata": {
    "ExecuteTime": {
     "end_time": "2022-12-20T01:40:35.754787Z",
     "start_time": "2022-12-20T01:39:52.654471Z"
    }
   },
   "outputs": [],
   "source": [
    "cluster_raw_dissim_paths = glob.glob('output_data/categorical_model/raw_dissim/*.csv')\n",
    "\n",
    "# kmeans clustering using raw data\n",
    "for region_dir in cluster_raw_dissim_paths:\n",
    "    region_input = pd.read_csv(region_dir, index_col=0)\n",
    "    region_cluster_rdm = cluster_rdm(region_input,cluster_model='cl_k3')\n",
    "    \n",
    "    region_csv = region_dir.split('\\\\')[1]\n",
    "    region_cluster_rdm.to_csv('output_data/categorical_model/rdm_results/'+region_csv)"
   ]
  }
 ],
 "metadata": {
  "kernelspec": {
   "display_name": "base",
   "language": "python",
   "name": "python3"
  },
  "language_info": {
   "codemirror_mode": {
    "name": "ipython",
    "version": 3
   },
   "file_extension": ".py",
   "mimetype": "text/x-python",
   "name": "python",
   "nbconvert_exporter": "python",
   "pygments_lexer": "ipython3",
   "version": "3.9.12"
  },
  "latex_envs": {
   "LaTeX_envs_menu_present": true,
   "autoclose": false,
   "autocomplete": true,
   "bibliofile": "biblio.bib",
   "cite_by": "apalike",
   "current_citInitial": 1,
   "eqLabelWithNumbers": true,
   "eqNumInitial": 1,
   "hotkeys": {
    "equation": "Ctrl-E",
    "itemize": "Ctrl-I"
   },
   "labels_anchors": false,
   "latex_user_defs": false,
   "report_style_numbering": false,
   "user_envs_cfg": false
  },
  "toc": {
   "base_numbering": 1,
   "nav_menu": {},
   "number_sections": true,
   "sideBar": true,
   "skip_h1_title": false,
   "title_cell": "Table of Contents",
   "title_sidebar": "Contents",
   "toc_cell": false,
   "toc_position": {},
   "toc_section_display": true,
   "toc_window_display": true
  },
  "varInspector": {
   "cols": {
    "lenName": 16,
    "lenType": 16,
    "lenVar": 40
   },
   "kernels_config": {
    "python": {
     "delete_cmd_postfix": "",
     "delete_cmd_prefix": "del ",
     "library": "var_list.py",
     "varRefreshCmd": "print(var_dic_list())"
    },
    "r": {
     "delete_cmd_postfix": ") ",
     "delete_cmd_prefix": "rm(",
     "library": "var_list.r",
     "varRefreshCmd": "cat(var_dic_list()) "
    }
   },
   "types_to_exclude": [
    "module",
    "function",
    "builtin_function_or_method",
    "instance",
    "_Feature"
   ],
   "window_display": false
  }
 },
 "nbformat": 4,
 "nbformat_minor": 5
}
