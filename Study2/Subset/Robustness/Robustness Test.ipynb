{
 "cells": [
  {
   "cell_type": "code",
   "execution_count": 1,
   "id": "64d0b464",
   "metadata": {
    "ExecuteTime": {
     "end_time": "2022-12-25T09:17:00.694695Z",
     "start_time": "2022-12-25T09:16:59.427Z"
    }
   },
   "outputs": [
    {
     "name": "stderr",
     "output_type": "stream",
     "text": [
      "-- \u001b[1mAttaching packages\u001b[22m ------------------------------------------------------------------------------- tidyverse 1.3.1 --\n",
      "\n",
      "\u001b[32mv\u001b[39m \u001b[34mggplot2\u001b[39m 3.3.5     \u001b[32mv\u001b[39m \u001b[34mpurrr  \u001b[39m 0.3.4\n",
      "\u001b[32mv\u001b[39m \u001b[34mtibble \u001b[39m 3.1.6     \u001b[32mv\u001b[39m \u001b[34mdplyr  \u001b[39m 1.0.7\n",
      "\u001b[32mv\u001b[39m \u001b[34mtidyr  \u001b[39m 1.1.4     \u001b[32mv\u001b[39m \u001b[34mstringr\u001b[39m 1.4.0\n",
      "\u001b[32mv\u001b[39m \u001b[34mreadr  \u001b[39m 2.1.1     \u001b[32mv\u001b[39m \u001b[34mforcats\u001b[39m 0.5.1\n",
      "\n",
      "-- \u001b[1mConflicts\u001b[22m ---------------------------------------------------------------------------------- tidyverse_conflicts() --\n",
      "\u001b[31mx\u001b[39m \u001b[34mdplyr\u001b[39m::\u001b[32mfilter()\u001b[39m masks \u001b[34mstats\u001b[39m::filter()\n",
      "\u001b[31mx\u001b[39m \u001b[34mdplyr\u001b[39m::\u001b[32mlag()\u001b[39m    masks \u001b[34mstats\u001b[39m::lag()\n",
      "\n",
      "Warning message:\n",
      "\"程辑包'mgsub'是用R版本4.1.3 来建造的\"\n"
     ]
    }
   ],
   "source": [
    "library(tidyverse)\n",
    "library(mgsub)"
   ]
  },
  {
   "cell_type": "markdown",
   "id": "9fa7b061",
   "metadata": {},
   "source": [
    "# Import data"
   ]
  },
  {
   "cell_type": "code",
   "execution_count": 2,
   "id": "3ccffcec",
   "metadata": {
    "ExecuteTime": {
     "end_time": "2022-12-25T09:17:01.220451Z",
     "start_time": "2022-12-25T09:16:59.442Z"
    }
   },
   "outputs": [],
   "source": [
    "# read familiarity data\n",
    "familiarity_raw <- read.csv(\"../../Study3_CHNvsUSA/output_data/familiarity/familiarity_159rels_usa_2rounds.csv\",\n",
    "                            check.names = FALSE)\n",
    "familiarity <- colMeans(familiarity_raw[,-1], na.rm = TRUE) %>% as.data.frame()\n",
    "colnames(familiarity) <- \"value\"\n",
    "\n",
    "rel_replace = read.csv('../../../Study2/input_data/Rel_labels/labels_different_versions.csv',\n",
    "                      row.names=1)\n",
    "familiarity$'rel_place' = mgsub(rownames(familiarity),\n",
    "                                rel_replace$'one',rel_replace$'two')\n",
    "rownames(familiarity) = familiarity$'rel_place'\n",
    "familiarity = familiarity[-c(2)]"
   ]
  },
  {
   "cell_type": "code",
   "execution_count": 3,
   "id": "6d2e1248",
   "metadata": {
    "ExecuteTime": {
     "end_time": "2022-12-25T09:17:22.783546Z",
     "start_time": "2022-12-25T09:16:59.443Z"
    }
   },
   "outputs": [],
   "source": [
    "# read distance data\n",
    "distance_raw <- read.csv(\"../../../Study2/output_data/group/category/dissim_mla_avg_159rel_all_59p.csv\",row.names=1,check.names = FALSE)\n",
    "distance <- data.frame(relationship1=character(12720),relationship2=character(12720),dissimilarity=numeric(12720))\n",
    "\n",
    "count = 0\n",
    "for(i in c(1:159)){\n",
    "  for(j in c(1:i)){\n",
    "    count = count+1\n",
    "    distance$dissimilarity[count] <- distance_raw[i,j]\n",
    "    distance$relationship1[count] <- rownames(distance_raw[j,])\n",
    "    distance$relationship2[count] <- rownames(distance_raw[i,])\n",
    "  }\n",
    "}\n",
    "\n",
    "distance <- distance[-which(distance$relationship1 == distance$relationship2),]"
   ]
  },
  {
   "cell_type": "markdown",
   "id": "07c8084f",
   "metadata": {
    "ExecuteTime": {
     "end_time": "2022-12-25T05:39:24.582448Z",
     "start_time": "2022-12-25T05:39:24.514Z"
    }
   },
   "source": [
    "# Select relationship"
   ]
  },
  {
   "cell_type": "code",
   "execution_count": 4,
   "id": "d9c9d84a",
   "metadata": {
    "ExecuteTime": {
     "end_time": "2022-12-25T09:17:23.728920Z",
     "start_time": "2022-12-25T09:16:59.453Z"
    }
   },
   "outputs": [],
   "source": [
    "distance <- distance[order(distance$dissimilarity),]\n",
    "delete_list <- c()\n",
    "\n",
    "for(i in c(1:nrow(distance))){\n",
    "   relationship1 <- distance$relationship1[i]\n",
    "   relationship2 <- distance$relationship2[i]\n",
    "   if(familiarity[relationship1,] < familiarity[relationship2,]){\n",
    "     delete_list <- c(delete_list,relationship1)\n",
    "   }else{\n",
    "     delete_list <- c(delete_list,relationship2)\n",
    "   }\n",
    "}\n",
    "\n",
    "delete_list <- unique(delete_list)\n",
    "\n",
    "delete_list <- c(delete_list,setdiff(rownames(familiarity),delete_list))"
   ]
  },
  {
   "cell_type": "markdown",
   "id": "77e6397f",
   "metadata": {
    "ExecuteTime": {
     "end_time": "2022-12-25T08:53:22.139724Z",
     "start_time": "2022-12-25T08:53:22.111Z"
    }
   },
   "source": [
    "# Raw data PCA"
   ]
  },
  {
   "cell_type": "markdown",
   "id": "4df8790e",
   "metadata": {},
   "source": [
    "Helper function"
   ]
  },
  {
   "cell_type": "code",
   "execution_count": 5,
   "id": "5364ee85",
   "metadata": {
    "ExecuteTime": {
     "end_time": "2022-12-25T09:17:23.751925Z",
     "start_time": "2022-12-25T09:16:59.469Z"
    }
   },
   "outputs": [],
   "source": [
    "scaleN <- function(data){\n",
    "  data_scaled <- scale(data)*sqrt(nrow(data)/(nrow(data)-1))  \n",
    "  return(data_scaled)\n",
    "}\n",
    "\n",
    "getmode <- function(v) {\n",
    "   uniqv <- unique(v)\n",
    "   uniqv[which.max(tabulate(match(v, uniqv)))]\n",
    "}\n",
    "\n",
    "\n",
    "reOrder <- function(data){\n",
    "  pc_order <- c()  \n",
    "  \n",
    "  #data=a\n",
    "  pc_order <- c(pc_order,\n",
    "                getmode(\n",
    "                  c(which(abs(data['Formality and Regulation',]) == max(abs(data['Formality and Regulation',]))),\n",
    "                    which(abs(data['Visibility',]) == max(abs(data['Visibility',]))),\n",
    "                    which(abs(data['Occupational',]) == max(abs(data['Occupational',])))\n",
    "                    )\n",
    "                  )\n",
    "                )\n",
    "  \n",
    "  pc_order <- c(pc_order,\n",
    "                getmode(\n",
    "                  c(which(abs(data['Importance for individuals',]) == max(abs(data['Importance for individuals',]))),\n",
    "                    which(abs(data['Activeness',]) == max(abs(data['Activeness',]))),\n",
    "                    which(abs(data['Spatial Distance',]) == max(abs(data['Spatial Distance',])))\n",
    "                    )\n",
    "                  )\n",
    "                )\n",
    "  \n",
    "  pc_order <- c(pc_order,\n",
    "                getmode(\n",
    "                  c(which(abs(data['Valence Evaluation',]) == max(abs(data['Valence Evaluation',]))),\n",
    "                    which(abs(data['Coercion',]) == max(abs(data['Coercion',]))),\n",
    "                    which(abs(data['Conflict',]) == max(abs(data['Conflict',])))\n",
    "                    )\n",
    "                  )\n",
    "                )\n",
    "  \n",
    "  pc_order <- c(pc_order,\n",
    "                getmode(\n",
    "                  c(which(abs(data['Goods Exchange',]) == max(abs(data['Goods Exchange',]))),\n",
    "                    which(abs(data['Concreteness',]) == max(abs(data['Concreteness',]))),\n",
    "                    which(abs(data['Money Exchange',]) == max(abs(data['Money Exchange',]))),\n",
    "                    4\n",
    "                    )\n",
    "                  )\n",
    "                )\n",
    "  \n",
    "  pc_order <- c(pc_order,setdiff(c(1,2,3,4,5),pc_order))\n",
    "  \n",
    "  data_reorder <- data[,pc_order]\n",
    "  return(data_reorder)\n",
    "}"
   ]
  },
  {
   "cell_type": "code",
   "execution_count": 6,
   "id": "59095008",
   "metadata": {
    "ExecuteTime": {
     "end_time": "2022-12-25T09:17:24.338331Z",
     "start_time": "2022-12-25T09:16:59.471Z"
    }
   },
   "outputs": [],
   "source": [
    "raw_data <- t(read.csv('../../Study3_CHNvsUSA/output_data/cleaning_results/USA/USA_combine_dim_rel_30d.csv',\n",
    "                       row.names=1,check.names = FALSE))\n",
    "row.names(raw_data) <-  mgsub(row.names(raw_data),\n",
    "                                rel_replace$'one',rel_replace$'two')\n",
    "\n",
    "raw_data_scaled <- scaleN(raw_data)\n",
    "\n",
    "dim_rel.pca = prcomp(raw_data_scaled)\n",
    "ncomp = 5\n",
    "\n",
    "loadings_none = dim_rel.pca$rotation[,1:ncomp] %*% diag(dim_rel.pca$sdev,ncomp,ncomp)\n",
    "scores_none = dim_rel.pca$x[,1:ncomp] \n",
    "\n",
    "loadings_var = varimax(loadings_none)$loadings\n",
    "scores_var = scale(scores_none) %*% varimax(loadings_none)$rotmat\n",
    "\n",
    "loadings_var <- reOrder(loadings_var)"
   ]
  },
  {
   "cell_type": "markdown",
   "id": "7f668e38",
   "metadata": {},
   "source": [
    "# Robustness test"
   ]
  },
  {
   "cell_type": "code",
   "execution_count": 7,
   "id": "56904001",
   "metadata": {
    "ExecuteTime": {
     "end_time": "2022-12-25T09:17:25.261739Z",
     "start_time": "2022-12-25T09:16:59.480Z"
    }
   },
   "outputs": [],
   "source": [
    "Rel_Num = 154\n",
    "\n",
    "select_data <- raw_data\n",
    "robustness_loadings_data <- data.frame(RC1=numeric(Rel_Num),RC2=numeric(Rel_Num),RC3=numeric(Rel_Num),RC4=numeric(Rel_Num),RC5=numeric(Rel_Num))\n",
    "robustness_scores_data <- data.frame(RC1=numeric(Rel_Num),RC2=numeric(Rel_Num),RC3=numeric(Rel_Num),RC4=numeric(Rel_Num),RC5=numeric(Rel_Num))\n",
    "\n",
    "raw_scores_var <- scores_var\n",
    "select_rel <- delete_list\n",
    "\n",
    "\n",
    "for(i in c(1:Rel_Num)){\n",
    "  select_data <- select_data[-which(rownames(select_data) %in% delete_list[i]),]\n",
    "  raw_scores_var <- raw_scores_var[-which(rownames(raw_scores_var) %in% delete_list[i]),]\n",
    "  select_rel <- select_rel[-1]\n",
    "  \n",
    "  select_data_scaled <- scaleN(select_data)\n",
    "\n",
    "  select_dim_rel.pca = prcomp(select_data_scaled)\n",
    "  ncomp = 5\n",
    "\n",
    "  select_loadings_none = select_dim_rel.pca$rotation[,1:ncomp] %*% diag(select_dim_rel.pca$sdev,ncomp,ncomp)\n",
    "  select_scores_none = select_dim_rel.pca$x[,1:ncomp] \n",
    "\n",
    "  select_loadings_var = varimax(select_loadings_none)$loadings\n",
    "  select_scores_var = scale(select_scores_none) %*% varimax(select_loadings_none)$rotmat\n",
    "  \n",
    "  # manually adjust the order after checking the loading results\n",
    "  if(i != 122){\n",
    "    select_loadings_var <- reOrder(select_loadings_var)\n",
    "  }else{\n",
    "    select_loadings_var <- select_loadings_var[,c(2,1,3,5,4)]\n",
    "  }\n",
    "  \n",
    "\n",
    "  robustness_loadings_data$RC1[i] <- abs(cor.test(loadings_var[,1],select_loadings_var[,1])$estimate)\n",
    "  robustness_loadings_data$RC2[i] <- abs(cor.test(loadings_var[,2],select_loadings_var[,2])$estimate)\n",
    "  robustness_loadings_data$RC3[i] <- abs(cor.test(loadings_var[,3],select_loadings_var[,3])$estimate)\n",
    "  robustness_loadings_data$RC4[i] <- abs(cor.test(loadings_var[,4],select_loadings_var[,4])$estimate)\n",
    "  robustness_loadings_data$RC5[i] <- abs(cor.test(loadings_var[,5],select_loadings_var[,5])$estimate)\n",
    "  \n",
    "  robustness_scores_data$RC1[i] <- abs(cor.test(raw_scores_var[,1],select_scores_var[,1])$estimate)\n",
    "  robustness_scores_data$RC2[i] <- abs(cor.test(raw_scores_var[,2],select_scores_var[,2])$estimate)\n",
    "  robustness_scores_data$RC3[i] <- abs(cor.test(raw_scores_var[,3],select_scores_var[,3])$estimate)\n",
    "  robustness_scores_data$RC4[i] <- abs(cor.test(raw_scores_var[,4],select_scores_var[,4])$estimate)\n",
    "  robustness_scores_data$RC5[i] <- abs(cor.test(raw_scores_var[,5],select_scores_var[,5])$estimate)\n",
    "  \n",
    "  temp <- ''\n",
    "  for (rel in select_rel){temp = paste(temp,rel,seq=',')}\n",
    "  \n",
    "  robustness_loadings_data$rel_list[i] <- temp\n",
    "}"
   ]
  },
  {
   "cell_type": "markdown",
   "id": "555c16da",
   "metadata": {},
   "source": [
    "# Plot results"
   ]
  },
  {
   "cell_type": "code",
   "execution_count": 8,
   "id": "182563cb",
   "metadata": {
    "ExecuteTime": {
     "end_time": "2022-12-25T09:17:25.642411Z",
     "start_time": "2022-12-25T09:16:59.492Z"
    }
   },
   "outputs": [
    {
     "data": {
      "image/png": "[encoded data removed]",
      "text/plain": [
       "plot without title"
      ]
     },
     "metadata": {
      "image/png": {
       "height": 480,
       "width": 600
      }
     },
     "output_type": "display_data"
    }
   ],
   "source": [
    "options(repr.plot.width=10,repr.plot.height=8)\n",
    "robustness_loadings_data$times <- row.names(robustness_loadings_data)\n",
    "robustness_loadings_data_long <- pivot_longer(robustness_loadings_data,\n",
    "                                              cols=c(1:5),names_to=\"RC\",values_to = \"correlation\")\n",
    "#robustness_loadings_data_long$times <- 159-as.numeric(robustness_loadings_data_long$times)\n",
    "robustness_loadings_data_long$RC<-factor(robustness_loadings_data_long$RC,\n",
    "                       levels = c('RC1','RC2','RC3','RC4','RC5'),\n",
    "                       labels = c(\"Formality\",\"Activeness\",\"Valence\",'Exchange','Equality'))\n",
    "\n",
    "\n",
    "ggplot(robustness_loadings_data_long,aes(as.numeric(times),correlation,color=RC))+\n",
    "  #geom_point()+\n",
    "  geom_line(position = position_dodge(0.1),cex=1)+\n",
    "  scale_color_brewer(palette = 'Set1')+\n",
    "  labs(x='The number of relationships remained',y='Factor Loading Correlations between \\n the Full set and Subsets of relationships')+\n",
    "  theme_classic(base_size = 15)+\n",
    "  theme(legend.position = c(0.15,0.25),\n",
    "        legend.title = element_blank(),\n",
    "        legend.background = element_rect(fill = 'transparent'),\n",
    "        panel.border = element_rect(size = 1,fill = 'transparent'))+\n",
    "  ylim(0, 1) + \n",
    "  scale_x_continuous(breaks=seq(0, 159, 10),labels=seq(159, 0, -10))\n",
    "\n",
    "\n",
    "\n",
    "write.csv(robustness_loadings_data,\"output_data/robustness_loadings_data.csv\")"
   ]
  }
 ],
 "metadata": {
  "kernelspec": {
   "display_name": "R",
   "language": "R",
   "name": "ir"
  },
  "language_info": {
   "codemirror_mode": "r",
   "file_extension": ".r",
   "mimetype": "text/x-r-source",
   "name": "R",
   "pygments_lexer": "r",
   "version": "4.1.2"
  },
  "toc": {
   "base_numbering": 1,
   "nav_menu": {},
   "number_sections": true,
   "sideBar": true,
   "skip_h1_title": false,
   "title_cell": "Table of Contents",
   "title_sidebar": "Contents",
   "toc_cell": false,
   "toc_position": {},
   "toc_section_display": true,
   "toc_window_display": true
  },
  "varInspector": {
   "cols": {
    "lenName": 16,
    "lenType": 16,
    "lenVar": 40
   },
   "kernels_config": {
    "python": {
     "delete_cmd_postfix": "",
     "delete_cmd_prefix": "del ",
     "library": "var_list.py",
     "varRefreshCmd": "print(var_dic_list())"
    },
    "r": {
     "delete_cmd_postfix": ") ",
     "delete_cmd_prefix": "rm(",
     "library": "var_list.r",
     "varRefreshCmd": "cat(var_dic_list()) "
    }
   },
   "types_to_exclude": [
    "module",
    "function",
    "builtin_function_or_method",
    "instance",
    "_Feature"
   ],
   "window_display": false
  }
 },
 "nbformat": 4,
 "nbformat_minor": 5
}
