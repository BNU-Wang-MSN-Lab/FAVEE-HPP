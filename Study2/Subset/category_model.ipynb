{
 "cells": [
  {
   "cell_type": "code",
   "execution_count": 1,
   "id": "10901664",
   "metadata": {
    "ExecuteTime": {
     "end_time": "2022-12-24T14:38:08.860816Z",
     "start_time": "2022-12-24T14:38:06.702780Z"
    }
   },
   "outputs": [],
   "source": [
    "import os\n",
    "import glob\n",
    "import pandas as pd\n",
    "import numpy as np\n",
    "\n",
    "import matplotlib.pyplot as plt\n",
    "import seaborn as sns\n",
    "\n",
    "from scipy.stats import spearmanr #Loocv"
   ]
  },
  {
   "cell_type": "code",
   "execution_count": 2,
   "id": "21ae9a36",
   "metadata": {
    "ExecuteTime": {
     "end_time": "2022-12-24T14:38:18.913965Z",
     "start_time": "2022-12-24T14:38:14.175258Z"
    }
   },
   "outputs": [],
   "source": [
    "import sys\n",
    "sys.path.append('../Clustering/custom_function/')\n",
    "import clustering"
   ]
  },
  {
   "cell_type": "markdown",
   "id": "1b950281",
   "metadata": {},
   "source": [
    "# Categorical model"
   ]
  },
  {
   "cell_type": "code",
   "execution_count": 3,
   "id": "1bb622a1",
   "metadata": {
    "ExecuteTime": {
     "end_time": "2022-12-24T14:38:21.189409Z",
     "start_time": "2022-12-24T14:38:21.181394Z"
    }
   },
   "outputs": [],
   "source": [
    "regions = ['USA','UK','South_africa','Australia','Germany','Japan',\n",
    "            'CHN','HK','France','Chile','Mexico','Spain','Portugal',\n",
    "            'Brazil','Israel','Russia','Egypt','Qatar','India']"
   ]
  },
  {
   "cell_type": "code",
   "execution_count": 4,
   "id": "e2a19adc",
   "metadata": {
    "ExecuteTime": {
     "end_time": "2022-12-24T14:38:57.334643Z",
     "start_time": "2022-12-24T14:38:25.074225Z"
    }
   },
   "outputs": [],
   "source": [
    "# contain raw output of models\n",
    "for num in range(40,71):\n",
    "    os.makedirs('output_data/categorical_model/'+str(num))\n",
    "    for region in regions:\n",
    "        raw_file = 'output_data/full_feature/'+str(num)+'/'+region+'.csv'\n",
    "        raw_df = pd.read_csv(raw_file,index_col=0)\n",
    "        # clustering: HPP\n",
    "        raw_results = clustering.create_cluster_models(data_type = \"df\",data = raw_df,\n",
    "                            methods=['KMeans'],ks=[3],keep_orig=True)\n",
    "        raw_results.to_csv('output_data/categorical_model/'+str(num)+'/'+region+'_raw_3k.csv')"
   ]
  },
  {
   "cell_type": "code",
   "execution_count": 5,
   "id": "c7386af8",
   "metadata": {
    "ExecuteTime": {
     "end_time": "2022-12-24T14:41:22.846285Z",
     "start_time": "2022-12-24T14:38:57.403275Z"
    }
   },
   "outputs": [],
   "source": [
    "# contain raw output of models\n",
    "for num in [i for i in range(5,40)]+[i for i in range(71,159)]:\n",
    "    os.makedirs('output_data/categorical_model/'+str(num))\n",
    "    for region in regions:\n",
    "        raw_file = 'output_data/full_feature/'+str(num)+'/'+region+'.csv'\n",
    "        raw_df = pd.read_csv(raw_file,index_col=0)\n",
    "        # clustering: HPP\n",
    "        raw_results = clustering.create_cluster_models(data_type = \"df\",data = raw_df,\n",
    "                            methods=['KMeans'],ks=[3],keep_orig=True)\n",
    "        raw_results.to_csv('output_data/categorical_model/'+str(num)+'/'+region+'_raw_3k.csv')"
   ]
  },
  {
   "cell_type": "markdown",
   "id": "275aea3f",
   "metadata": {},
   "source": [
    "# RDM: 0/1 matrix"
   ]
  },
  {
   "cell_type": "code",
   "execution_count": 6,
   "id": "330e6c81",
   "metadata": {
    "ExecuteTime": {
     "end_time": "2022-12-24T14:41:34.356625Z",
     "start_time": "2022-12-24T14:41:34.348624Z"
    }
   },
   "outputs": [],
   "source": [
    "def cluster_rdm(cluster_results_region,cluster_model='cl_k3'):\n",
    "    dissim_cluster_result = pd.DataFrame(index = cluster_results_region.index,\n",
    "                                         columns = cluster_results_region.index)\n",
    "    for i in dissim_cluster_result.index:\n",
    "        for j in dissim_cluster_result.columns:\n",
    "            # cluster result was in the last column\n",
    "            if cluster_results_region.loc[i,cluster_model] == cluster_results_region.loc[j,cluster_model]:\n",
    "                dissim_cluster_result.loc[i,j] = 0\n",
    "            else:\n",
    "                dissim_cluster_result.loc[i,j] = 1\n",
    "            dissim_cluster_result = dissim_cluster_result.astype(float)\n",
    "            \n",
    "    return(dissim_cluster_result)"
   ]
  },
  {
   "cell_type": "code",
   "execution_count": 7,
   "id": "760be5e1",
   "metadata": {
    "ExecuteTime": {
     "end_time": "2022-12-24T15:22:18.065739Z",
     "start_time": "2022-12-24T14:41:37.647535Z"
    }
   },
   "outputs": [],
   "source": [
    "subset_rdm_nums = {}\n",
    "for num in range(5,159):\n",
    "    os.makedirs('output_data/categorical_rdm/'+str(num))\n",
    "    cluster_raw_dissim_paths = glob.glob('output_data/categorical_model/'+str(num)+'/*.csv')\n",
    "    subset_rdm = {}\n",
    "    # kmeans clustering using raw data\n",
    "    for region_dir in cluster_raw_dissim_paths:\n",
    "        region_input = pd.read_csv(region_dir, index_col=0)\n",
    "        region_cluster_rdm = cluster_rdm(region_input,cluster_model='cl_k3')\n",
    "\n",
    "        region_csv = region_dir.split('\\\\')[1]\n",
    "        region_cluster_rdm.to_csv('output_data/categorical_rdm/'+str(num)+'/'+region_csv)\n",
    "\n",
    "        region = region_dir.split('\\\\')[1].split('_raw')[0]\n",
    "        subset_rdm[region] = region_cluster_rdm\n",
    "        \n",
    "    subset_rdm_nums[num] =  subset_rdm"
   ]
  }
 ],
 "metadata": {
  "kernelspec": {
   "display_name": "Python 3 (ipykernel)",
   "language": "python",
   "name": "python3"
  },
  "language_info": {
   "codemirror_mode": {
    "name": "ipython",
    "version": 3
   },
   "file_extension": ".py",
   "mimetype": "text/x-python",
   "name": "python",
   "nbconvert_exporter": "python",
   "pygments_lexer": "ipython3",
   "version": "3.9.13"
  },
  "toc": {
   "base_numbering": 1,
   "nav_menu": {},
   "number_sections": true,
   "sideBar": true,
   "skip_h1_title": false,
   "title_cell": "Table of Contents",
   "title_sidebar": "Contents",
   "toc_cell": false,
   "toc_position": {},
   "toc_section_display": true,
   "toc_window_display": true
  },
  "varInspector": {
   "cols": {
    "lenName": 16,
    "lenType": 16,
    "lenVar": 40
   },
   "kernels_config": {
    "python": {
     "delete_cmd_postfix": "",
     "delete_cmd_prefix": "del ",
     "library": "var_list.py",
     "varRefreshCmd": "print(var_dic_list())"
    },
    "r": {
     "delete_cmd_postfix": ") ",
     "delete_cmd_prefix": "rm(",
     "library": "var_list.r",
     "varRefreshCmd": "cat(var_dic_list()) "
    }
   },
   "types_to_exclude": [
    "module",
    "function",
    "builtin_function_or_method",
    "instance",
    "_Feature"
   ],
   "window_display": false
  }
 },
 "nbformat": 4,
 "nbformat_minor": 5
}
