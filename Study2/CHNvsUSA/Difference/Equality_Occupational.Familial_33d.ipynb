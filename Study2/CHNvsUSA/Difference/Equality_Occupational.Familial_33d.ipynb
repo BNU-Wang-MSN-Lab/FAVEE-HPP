{
 "cells": [
  {
   "cell_type": "code",
   "execution_count": 32,
   "id": "f34b0a8d",
   "metadata": {
    "ExecuteTime": {
     "end_time": "2022-12-26T03:22:10.118906Z",
     "start_time": "2022-12-26T03:22:07.383Z"
    },
    "vscode": {
     "languageId": "r"
    }
   },
   "outputs": [],
   "source": [
    "library(tidyverse)\n",
    "library(Hmisc) #capitalize\n",
    "library(reshape)\n",
    "\n",
    "library(ggplot2)\n",
    "library(ggpubr) #plot\n",
    "library(rstatix) #easy statistical analyses\n",
    "\n",
    "library(car)\n",
    "library(effsize)"
   ]
  },
  {
   "cell_type": "markdown",
   "id": "a2b060a8",
   "metadata": {},
   "source": [
    "# Import data"
   ]
  },
  {
   "cell_type": "code",
   "execution_count": 33,
   "id": "e3e1f55b",
   "metadata": {
    "ExecuteTime": {
     "end_time": "2022-12-26T03:22:44.635689Z",
     "start_time": "2022-12-26T03:22:44.598Z"
    },
    "vscode": {
     "languageId": "r"
    }
   },
   "outputs": [],
   "source": [
    "# pca data\n",
    "USA_pca = read.csv('../output_data/pca_results/USA/USA_scores_var_33d.csv',\n",
    "                   row.names=1)\n",
    "colnames(USA_pca) = c('Formality','Activeness','Valence','Exchange','Equality')\n",
    "USA_pca['Equality'] = -USA_pca['Equality']\n",
    "\n",
    "CHN_pca = read.csv('../output_data/pca_results/CHN/CHN_NLP_159rel_33d_scores_var.csv',\n",
    "                   row.names=1)\n",
    "colnames(CHN_pca) = c('Valence','Exchange','Equality','Formality','Activeness')\n",
    "CHN_pca['Equality'] = -CHN_pca['Equality']"
   ]
  },
  {
   "cell_type": "code",
   "execution_count": 34,
   "id": "18eae31b",
   "metadata": {
    "ExecuteTime": {
     "end_time": "2022-12-26T03:22:58.643955Z",
     "start_time": "2022-12-26T03:22:58.608Z"
    },
    "vscode": {
     "languageId": "r"
    }
   },
   "outputs": [
    {
     "data": {
      "text/html": [
       "35"
      ],
      "text/latex": [
       "35"
      ],
      "text/markdown": [
       "35"
      ],
      "text/plain": [
       "[1] 35"
      ]
     },
     "metadata": {},
     "output_type": "display_data"
    },
    {
     "data": {
      "text/html": [
       "14"
      ],
      "text/latex": [
       "14"
      ],
      "text/markdown": [
       "14"
      ],
      "text/plain": [
       "[1] 14"
      ]
     },
     "metadata": {},
     "output_type": "display_data"
    }
   ],
   "source": [
    "# select Power cluster from results of 6 clusters in Study2(explicit category task)\n",
    "Occupational = c('Student and Dorm Resident assistant','Union leader and union member','Intern and Employee',\n",
    "'Mentor and Mentee','Religious leader and Congregant','Teacher and Student','Employer and Employee',\n",
    "'Supervisor and Subordinate','Team Captain and Team Members','Predecessor and Successor',\n",
    "'Interviewer and Job applicant','Officer and Soldier','Between a monarch and their minister',\n",
    "'Professor and Graduate student','Director and Performer','Athletic trainer and Trainee',\n",
    "'Doctor and Nurse','Landlord and Housekeeper','Foreman and Laborer','Superior and Subordinate',\n",
    "'Club Member and Club President','Chief and Deputy','Athlete and Referee','Principal and Teacher',\n",
    "'Judge and Lawyer','Coach and athlete','University student and Administrator','Leader and Follower',\n",
    "'Man and God','Volunteer and Organizer','Manager and Staff','Owner and Manager','Manager and Assistant',\n",
    "'Boss and Secretary','Professor and Teaching Assistant')#,'Judge and Contestant')\n",
    "length(Occupational)\n",
    "\n",
    "# Relationships with differences in seniority(beifen) in family\n",
    "Familial = c('Parent and Child','Parent and Teenager','Parent and Infant',\n",
    " 'Grandparent and Grandchild','Step-parent and Step-child','Foster-parent and Foster-child',\n",
    " 'Godparent and Godchild','Step-grandparent and Step-grandchild','Ancestor and Descendant',\n",
    "             'Between a person and their in-laws',\n",
    " 'Aunt and Niece/Nephew','Uncle and Niece/Nephew','Between adoptive parents and adopted kids',\n",
    " 'Mother and Infant')\n",
    " length(Familial)"
   ]
  },
  {
   "cell_type": "code",
   "execution_count": 35,
   "id": "39bf2b5b",
   "metadata": {
    "ExecuteTime": {
     "end_time": "2022-12-26T03:23:11.320333Z",
     "start_time": "2022-12-26T03:23:11.285Z"
    },
    "vscode": {
     "languageId": "r"
    }
   },
   "outputs": [],
   "source": [
    "write.csv(Occupational,'selected_rels/Occupational.csv')\n",
    "write.csv(Familial,'selected_rels/Familial.csv')"
   ]
  },
  {
   "cell_type": "markdown",
   "id": "be38bd7a",
   "metadata": {},
   "source": [
    "# ANOVA: PCA"
   ]
  },
  {
   "cell_type": "markdown",
   "id": "164aeb1b",
   "metadata": {},
   "source": [
    "## direct computation"
   ]
  },
  {
   "cell_type": "code",
   "execution_count": 36,
   "id": "2574e5a5",
   "metadata": {
    "ExecuteTime": {
     "end_time": "2022-12-26T03:23:53.432312Z",
     "start_time": "2022-12-26T03:23:53.333Z"
    },
    "vscode": {
     "languageId": "r"
    }
   },
   "outputs": [],
   "source": [
    "USA_equ_pca = USA_pca %>% filter(rownames(USA_pca) %in% c(Occupational,Familial)) %>% \n",
    "    select('Equality')\n",
    "CHN_equ_pca = CHN_pca %>% filter(rownames(CHN_pca) %in% c(Occupational,Familial)) %>% \n",
    "    select('Equality')\n",
    "\n",
    "USA_CHN_equ_pca = cbind(USA_equ_pca,CHN_equ_pca)\n",
    "colnames(USA_CHN_equ_pca) = c('USA','CHN')\n",
    "USA_CHN_equ_pca$'rel' = rownames(USA_CHN_equ_pca)\n",
    "USA_CHN_equ_pca = USA_CHN_equ_pca %>% mutate(cluster = case_when(\n",
    "                                    rel %in% Occupational~'Occupational',\n",
    "                                    rel %in% Familial~'Familial'))\n",
    "\n",
    "USA_CHN_equ_pca_melt = melt(USA_CHN_equ_pca,id.vars=c('rel','cluster'))\n",
    "colnames(USA_CHN_equ_pca_melt) = c('rel','cluster','region','score')\n",
    "USA_CHN_equ_pca_melt$index = rownames(USA_CHN_equ_pca_melt)\n",
    "\n",
    "USA_CHN_equ_pca_melt$region = factor(USA_CHN_equ_pca_melt$region,levels = c('CHN','USA'))"
   ]
  },
  {
   "cell_type": "code",
   "execution_count": 37,
   "id": "454e4938",
   "metadata": {
    "ExecuteTime": {
     "end_time": "2022-12-26T03:23:59.909259Z",
     "start_time": "2022-12-26T03:23:58.514Z"
    },
    "vscode": {
     "languageId": "r"
    }
   },
   "outputs": [
    {
     "data": {
      "text/html": [
       "<table class=\"dataframe\">\n",
       "<caption>A anova_test: 3 × 7</caption>\n",
       "<thead>\n",
       "\t<tr><th></th><th scope=col>Effect</th><th scope=col>DFn</th><th scope=col>DFd</th><th scope=col>F</th><th scope=col>p</th><th scope=col>p&lt;.05</th><th scope=col>pes</th></tr>\n",
       "\t<tr><th></th><th scope=col>&lt;chr&gt;</th><th scope=col>&lt;dbl&gt;</th><th scope=col>&lt;dbl&gt;</th><th scope=col>&lt;dbl&gt;</th><th scope=col>&lt;dbl&gt;</th><th scope=col>&lt;chr&gt;</th><th scope=col>&lt;dbl&gt;</th></tr>\n",
       "</thead>\n",
       "<tbody>\n",
       "\t<tr><th scope=row>1</th><td>cluster       </td><td>1</td><td>94</td><td>63.293</td><td>3.95e-12</td><td>*</td><td>0.402</td></tr>\n",
       "\t<tr><th scope=row>2</th><td>region        </td><td>1</td><td>94</td><td>17.300</td><td>7.05e-05</td><td>*</td><td>0.155</td></tr>\n",
       "\t<tr><th scope=row>3</th><td>cluster:region</td><td>1</td><td>94</td><td> 9.795</td><td>2.00e-03</td><td>*</td><td>0.094</td></tr>\n",
       "</tbody>\n",
       "</table>\n"
      ],
      "text/latex": [
       "A anova\\_test: 3 × 7\n",
       "\\begin{tabular}{r|lllllll}\n",
       "  & Effect & DFn & DFd & F & p & p<.05 & pes\\\\\n",
       "  & <chr> & <dbl> & <dbl> & <dbl> & <dbl> & <chr> & <dbl>\\\\\n",
       "\\hline\n",
       "\t1 & cluster        & 1 & 94 & 63.293 & 3.95e-12 & * & 0.402\\\\\n",
       "\t2 & region         & 1 & 94 & 17.300 & 7.05e-05 & * & 0.155\\\\\n",
       "\t3 & cluster:region & 1 & 94 &  9.795 & 2.00e-03 & * & 0.094\\\\\n",
       "\\end{tabular}\n"
      ],
      "text/markdown": [
       "\n",
       "A anova_test: 3 × 7\n",
       "\n",
       "| <!--/--> | Effect &lt;chr&gt; | DFn &lt;dbl&gt; | DFd &lt;dbl&gt; | F &lt;dbl&gt; | p &lt;dbl&gt; | p&lt;.05 &lt;chr&gt; | pes &lt;dbl&gt; |\n",
       "|---|---|---|---|---|---|---|---|\n",
       "| 1 | cluster        | 1 | 94 | 63.293 | 3.95e-12 | * | 0.402 |\n",
       "| 2 | region         | 1 | 94 | 17.300 | 7.05e-05 | * | 0.155 |\n",
       "| 3 | cluster:region | 1 | 94 |  9.795 | 2.00e-03 | * | 0.094 |\n",
       "\n"
      ],
      "text/plain": [
       "  Effect         DFn DFd F      p        p<.05 pes  \n",
       "1 cluster        1   94  63.293 3.95e-12 *     0.402\n",
       "2 region         1   94  17.300 7.05e-05 *     0.155\n",
       "3 cluster:region 1   94   9.795 2.00e-03 *     0.094"
      ]
     },
     "metadata": {},
     "output_type": "display_data"
    },
    {
     "data": {
      "text/html": [
       "<table class=\"dataframe\">\n",
       "<caption>A rstatix_test: 2 × 15</caption>\n",
       "<thead>\n",
       "\t<tr><th scope=col>cluster</th><th scope=col>.y.</th><th scope=col>group1</th><th scope=col>group2</th><th scope=col>n1</th><th scope=col>n2</th><th scope=col>p</th><th scope=col>p.signif</th><th scope=col>p.adj</th><th scope=col>p.adj.signif</th><th scope=col>y.position</th><th scope=col>groups</th><th scope=col>NA</th><th scope=col>x</th><th scope=col>xmin</th><th scope=col>xmax</th></tr>\n",
       "\t<tr><th scope=col>&lt;chr&gt;</th><th scope=col>&lt;chr&gt;</th><th scope=col>&lt;chr&gt;</th><th scope=col>&lt;chr&gt;</th><th scope=col>&lt;int&gt;</th><th scope=col>&lt;int&gt;</th><th scope=col>&lt;dbl&gt;</th><th scope=col>&lt;chr&gt;</th><th scope=col>&lt;dbl&gt;</th><th scope=col>&lt;chr&gt;</th><th scope=col>&lt;dbl&gt;</th><th scope=col>&lt;named list&gt;</th><th scope=col>&lt;dbl&gt;</th><th scope=col>&lt;dbl&gt;</th><th scope=col>&lt;dbl&gt;</th></tr>\n",
       "</thead>\n",
       "<tbody>\n",
       "\t<tr><td>Familial    </td><td>score</td><td>CHN</td><td>USA</td><td>14</td><td>14</td><td>6.02e-05</td><td>****</td><td>6.02e-05</td><td>****</td><td>-0.00728</td><td>CHN</td><td>CHN</td><td>1</td><td>0.8</td><td>1.2</td></tr>\n",
       "\t<tr><td>Occupational</td><td>score</td><td>CHN</td><td>USA</td><td>35</td><td>35</td><td>3.55e-01</td><td>ns  </td><td>3.55e-01</td><td>ns  </td><td> 0.71472</td><td>USA</td><td>USA</td><td>2</td><td>1.8</td><td>2.2</td></tr>\n",
       "</tbody>\n",
       "</table>\n"
      ],
      "text/latex": [
       "A rstatix\\_test: 2 × 15\n",
       "\\begin{tabular}{lllllllllllllll}\n",
       " cluster & .y. & group1 & group2 & n1 & n2 & p & p.signif & p.adj & p.adj.signif & y.position & groups & NA & x & xmin & xmax\\\\\n",
       " <chr> & <chr> & <chr> & <chr> & <int> & <int> & <dbl> & <chr> & <dbl> & <chr> & <dbl> & <named list> & <dbl> & <dbl> & <dbl>\\\\\n",
       "\\hline\n",
       "\t Familial     & score & CHN & USA & 14 & 14 & 6.02e-05 & **** & 6.02e-05 & **** & -0.00728 & CHN & CHN & 1 & 0.8 & 1.2\\\\\n",
       "\t Occupational & score & CHN & USA & 35 & 35 & 3.55e-01 & ns   & 3.55e-01 & ns   &  0.71472 & USA & USA & 2 & 1.8 & 2.2\\\\\n",
       "\\end{tabular}\n"
      ],
      "text/markdown": [
       "\n",
       "A rstatix_test: 2 × 15\n",
       "\n",
       "| cluster &lt;chr&gt; | .y. &lt;chr&gt; | group1 &lt;chr&gt; | group2 &lt;chr&gt; | n1 &lt;int&gt; | n2 &lt;int&gt; | p &lt;dbl&gt; | p.signif &lt;chr&gt; | p.adj &lt;dbl&gt; | p.adj.signif &lt;chr&gt; | y.position &lt;dbl&gt; | groups &lt;named list&gt; | NA &lt;dbl&gt; | x &lt;dbl&gt; | xmin &lt;dbl&gt; | xmax &lt;chr&gt; |\n",
       "|---|---|---|---|---|---|---|---|---|---|---|---|---|---|---|\n",
       "| Familial     | score | CHN | USA | 14 | 14 | 6.02e-05 | **** | 6.02e-05 | **** | -0.00728 | CHN | CHN | 1 | 0.8 | 1.2 |\n",
       "| Occupational | score | CHN | USA | 35 | 35 | 3.55e-01 | ns   | 3.55e-01 | ns   |  0.71472 | USA | USA | 2 | 1.8 | 2.2 |\n",
       "\n"
      ],
      "text/plain": [
       "  cluster      .y.   group1 group2 n1 n2 p        p.signif p.adj   \n",
       "1 Familial     score CHN    USA    14 14 6.02e-05 ****     6.02e-05\n",
       "2 Occupational score CHN    USA    35 35 3.55e-01 ns       3.55e-01\n",
       "  p.adj.signif y.position groups <NA> x xmin xmax\n",
       "1 ****         -0.00728   CHN    CHN  1 0.8  1.2 \n",
       "2 ns            0.71472   USA    USA  2 1.8  2.2 "
      ]
     },
     "metadata": {},
     "output_type": "display_data"
    },
    {
     "data": {
      "image/png": "[encoded data removed]",
      "text/plain": [
       "plot without title"
      ]
     },
     "metadata": {
      "image/png": {
       "height": 480,
       "width": 540
      }
     },
     "output_type": "display_data"
    }
   ],
   "source": [
    "# Anova\n",
    "# res.aov = USA_CHN_equ_pca_melt %>% anova_test(score~region*cluster)\n",
    "# res.aov\n",
    "res.aov = anova_test(\n",
    "    data = USA_CHN_equ_pca_melt,dv = score, wid = index,\n",
    "    between = c(cluster,region), effect.size = \"pes\")\n",
    "get_anova_table(res.aov)\n",
    "\n",
    "\n",
    "# Post hoc2\n",
    "pwc <- USA_CHN_equ_pca_melt %>%\n",
    "  group_by(cluster) %>%\n",
    "  pairwise_t_test(score ~ region, p.adjust.method = \"bonferroni\",paired=FALSE) #%>%\n",
    "  #select(-p, -p.signif) # Remove details\n",
    "pwc <- pwc %>% add_xy_position(x = \"cluster\")\n",
    "pwc\n",
    "\n",
    "# Visualization\n",
    "my_color = c('USA'='#3C3B6E','CHN'='#DE2910')\n",
    "options(repr.plot.width = 9,repr.plot.height = 8)\n",
    "ggplot(USA_CHN_equ_pca_melt)+\n",
    "geom_boxplot(aes(x=cluster,y=score,color=region),\n",
    "             outlier.alpha = 0,size=2)+\n",
    "geom_point(aes(x=cluster,y=score,color=region),position = position_jitterdodge(0.2),size=5,alpha=0.3)+\n",
    "stat_summary(aes(x=cluster,y=score,group=region),position=position_dodge(0.75),\n",
    "             fun='mean',color='red',size=6,geom='point')+\n",
    "scale_color_manual(values=my_color)+\n",
    "geom_hline(yintercept = 0,linetype='dashed',size = 3)+\n",
    "\n",
    "stat_pvalue_manual(pwc, tip.length = 0, hide.ns = TRUE,size = 15,bracket.size = 2)+\n",
    "\n",
    "theme_classic()+\n",
    "theme(#axis.text.x = element_text(size=36,face='bold'),\n",
    "      axis.text.x = element_blank(),\n",
    "      axis.text.y = element_text(size=30,face='bold'),\n",
    "      legend.key.size = unit(50,'pt'),\n",
    "      legend.title = element_text(size=35,face='bold'),\n",
    "      legend.text = element_text(size=25),\n",
    "      legend.position = 'top',\n",
    "      axis.line = element_line(linetype=1,color=\"black\",size=1.5))+\n",
    "xlab('')+\n",
    "ylab('')+\n",
    "ylim(-3,1)"
   ]
  },
  {
   "cell_type": "code",
   "execution_count": 38,
   "id": "4ffd2b02",
   "metadata": {
    "vscode": {
     "languageId": "r"
    }
   },
   "outputs": [
    {
     "data": {
      "text/html": [
       "<table class=\"dataframe\">\n",
       "<caption>A data.frame: 6 × 5</caption>\n",
       "<thead>\n",
       "\t<tr><th></th><th scope=col>rel</th><th scope=col>cluster</th><th scope=col>region</th><th scope=col>score</th><th scope=col>index</th></tr>\n",
       "\t<tr><th></th><th scope=col>&lt;chr&gt;</th><th scope=col>&lt;chr&gt;</th><th scope=col>&lt;fct&gt;</th><th scope=col>&lt;dbl&gt;</th><th scope=col>&lt;chr&gt;</th></tr>\n",
       "</thead>\n",
       "<tbody>\n",
       "\t<tr><th scope=row>1</th><td>Parent and Child                  </td><td>Familial    </td><td>USA</td><td>-1.36084882</td><td>1</td></tr>\n",
       "\t<tr><th scope=row>2</th><td>Parent and Teenager               </td><td>Familial    </td><td>USA</td><td>-0.34852507</td><td>2</td></tr>\n",
       "\t<tr><th scope=row>3</th><td>Between a person and their in-laws</td><td>Familial    </td><td>USA</td><td>-0.22082527</td><td>3</td></tr>\n",
       "\t<tr><th scope=row>4</th><td>Employer and Employee             </td><td>Occupational</td><td>USA</td><td>-0.52567904</td><td>4</td></tr>\n",
       "\t<tr><th scope=row>5</th><td>Interviewer and Job applicant     </td><td>Occupational</td><td>USA</td><td> 0.01328282</td><td>5</td></tr>\n",
       "\t<tr><th scope=row>6</th><td>Teacher and Student               </td><td>Occupational</td><td>USA</td><td>-0.85051347</td><td>6</td></tr>\n",
       "</tbody>\n",
       "</table>\n"
      ],
      "text/latex": [
       "A data.frame: 6 × 5\n",
       "\\begin{tabular}{r|lllll}\n",
       "  & rel & cluster & region & score & index\\\\\n",
       "  & <chr> & <chr> & <fct> & <dbl> & <chr>\\\\\n",
       "\\hline\n",
       "\t1 & Parent and Child                   & Familial     & USA & -1.36084882 & 1\\\\\n",
       "\t2 & Parent and Teenager                & Familial     & USA & -0.34852507 & 2\\\\\n",
       "\t3 & Between a person and their in-laws & Familial     & USA & -0.22082527 & 3\\\\\n",
       "\t4 & Employer and Employee              & Occupational & USA & -0.52567904 & 4\\\\\n",
       "\t5 & Interviewer and Job applicant      & Occupational & USA &  0.01328282 & 5\\\\\n",
       "\t6 & Teacher and Student                & Occupational & USA & -0.85051347 & 6\\\\\n",
       "\\end{tabular}\n"
      ],
      "text/markdown": [
       "\n",
       "A data.frame: 6 × 5\n",
       "\n",
       "| <!--/--> | rel &lt;chr&gt; | cluster &lt;chr&gt; | region &lt;fct&gt; | score &lt;dbl&gt; | index &lt;chr&gt; |\n",
       "|---|---|---|---|---|---|\n",
       "| 1 | Parent and Child                   | Familial     | USA | -1.36084882 | 1 |\n",
       "| 2 | Parent and Teenager                | Familial     | USA | -0.34852507 | 2 |\n",
       "| 3 | Between a person and their in-laws | Familial     | USA | -0.22082527 | 3 |\n",
       "| 4 | Employer and Employee              | Occupational | USA | -0.52567904 | 4 |\n",
       "| 5 | Interviewer and Job applicant      | Occupational | USA |  0.01328282 | 5 |\n",
       "| 6 | Teacher and Student                | Occupational | USA | -0.85051347 | 6 |\n",
       "\n"
      ],
      "text/plain": [
       "  rel                                cluster      region score       index\n",
       "1 Parent and Child                   Familial     USA    -1.36084882 1    \n",
       "2 Parent and Teenager                Familial     USA    -0.34852507 2    \n",
       "3 Between a person and their in-laws Familial     USA    -0.22082527 3    \n",
       "4 Employer and Employee              Occupational USA    -0.52567904 4    \n",
       "5 Interviewer and Job applicant      Occupational USA     0.01328282 5    \n",
       "6 Teacher and Student                Occupational USA    -0.85051347 6    "
      ]
     },
     "metadata": {},
     "output_type": "display_data"
    }
   ],
   "source": [
    "head(USA_CHN_equ_pca_melt)"
   ]
  },
  {
   "cell_type": "code",
   "execution_count": 39,
   "id": "90483834",
   "metadata": {
    "vscode": {
     "languageId": "r"
    }
   },
   "outputs": [
    {
     "name": "stdout",
     "output_type": "stream",
     "text": [
      "Levene's Test for Homogeneity of Variance (center = median)\n",
      "      Df F value  Pr(>F)  \n",
      "group  1  4.8495 0.03672 *\n",
      "      26                  \n",
      "---\n",
      "Signif. codes:  0 '***' 0.001 '**' 0.01 '*' 0.05 '.' 0.1 ' ' 1\n"
     ]
    },
    {
     "data": {
      "text/plain": [
       "\n",
       "\tWelch Two Sample t-test\n",
       "\n",
       "data:  chn_familial$score and usa_familial$score\n",
       "t = -4.7791, df = 20.852, p-value = 0.000103\n",
       "alternative hypothesis: true difference in means is not equal to 0\n",
       "95 percent confidence interval:\n",
       " -1.151899 -0.453156\n",
       "sample estimates:\n",
       "mean of x mean of y \n",
       "-1.842023 -1.039496 \n"
      ]
     },
     "metadata": {},
     "output_type": "display_data"
    },
    {
     "data": {
      "text/plain": [
       "\n",
       "Cohen's d\n",
       "\n",
       "d estimate: -1.806319 (large)\n",
       "95 percent confidence interval:\n",
       "     lower      upper \n",
       "-2.7281528 -0.8844851 \n"
      ]
     },
     "metadata": {},
     "output_type": "display_data"
    }
   ],
   "source": [
    "usa_familial = USA_CHN_equ_pca_melt %>% filter(cluster == 'Familial') %>% filter(region == 'USA')\n",
    "chn_familial = USA_CHN_equ_pca_melt %>% filter(cluster == 'Familial') %>% filter(region == 'CHN')\n",
    "\n",
    "levene = leveneTest(score~region, USA_CHN_equ_pca_melt %>% filter(cluster == 'Familial'))\n",
    "print(levene)\n",
    "t.test(chn_familial$'score', usa_familial$'score', paired = FALSE, var.equal = FALSE)\n",
    "cohen.d(chn_familial$'score', usa_familial$'score')"
   ]
  },
  {
   "cell_type": "code",
   "execution_count": 40,
   "id": "ef67a434",
   "metadata": {
    "vscode": {
     "languageId": "r"
    }
   },
   "outputs": [
    {
     "name": "stdout",
     "output_type": "stream",
     "text": [
      "Levene's Test for Homogeneity of Variance (center = median)\n",
      "      Df F value Pr(>F)\n",
      "group  1  0.0226 0.8811\n",
      "      68               \n"
     ]
    },
    {
     "data": {
      "text/plain": [
       "\n",
       "\tTwo Sample t-test\n",
       "\n",
       "data:  chn_occupational$score and usa_occupational$score\n",
       "t = -0.93068, df = 68, p-value = 0.3553\n",
       "alternative hypothesis: true difference in means is not equal to 0\n",
       "95 percent confidence interval:\n",
       " -0.3564458  0.1297063\n",
       "sample estimates:\n",
       " mean of x  mean of y \n",
       "-0.6215078 -0.5081380 \n"
      ]
     },
     "metadata": {},
     "output_type": "display_data"
    },
    {
     "data": {
      "text/plain": [
       "\n",
       "Cohen's d\n",
       "\n",
       "d estimate: -0.2224749 (small)\n",
       "95 percent confidence interval:\n",
       "     lower      upper \n",
       "-0.7009566  0.2560067 \n"
      ]
     },
     "metadata": {},
     "output_type": "display_data"
    }
   ],
   "source": [
    "usa_occupational = USA_CHN_equ_pca_melt %>% filter(cluster == 'Occupational') %>% filter(region == 'USA')\n",
    "chn_occupational = USA_CHN_equ_pca_melt %>% filter(cluster == 'Occupational') %>% filter(region == 'CHN')\n",
    "\n",
    "levene = leveneTest(score~region, USA_CHN_equ_pca_melt %>% filter(cluster == 'Occupational'))\n",
    "print(levene)\n",
    "t.test(chn_occupational$'score', usa_occupational$'score', paired = FALSE, var.equal = TRUE)\n",
    "cohen.d(chn_occupational$'score', usa_occupational$'score')"
   ]
  },
  {
   "cell_type": "code",
   "execution_count": 41,
   "id": "5f784df3",
   "metadata": {
    "ExecuteTime": {
     "end_time": "2022-12-26T03:24:49.965081Z",
     "start_time": "2022-12-26T03:24:49.481Z"
    },
    "vscode": {
     "languageId": "r"
    }
   },
   "outputs": [
    {
     "data": {
      "text/html": [
       "<strong>png:</strong> 2"
      ],
      "text/latex": [
       "\\textbf{png:} 2"
      ],
      "text/markdown": [
       "**png:** 2"
      ],
      "text/plain": [
       "png \n",
       "  2 "
      ]
     },
     "metadata": {},
     "output_type": "display_data"
    }
   ],
   "source": [
    "# Visualization\n",
    "png(\"../../output_graph/USA_CHN/Equality.png\", bg=\"transparent\",\n",
    "    family = 'sans',units='in',width=10,height=10,res=300)\n",
    "my_color = c('USA'='#3C3B6E','CHN'='#DE2910')\n",
    "options(repr.plot.width = 7,repr.plot.height = 7)\n",
    "ggplot(USA_CHN_equ_pca_melt)+\n",
    "geom_boxplot(aes(x=cluster,y=score,color=region),\n",
    "             outlier.alpha = 0,size=2)+\n",
    "geom_point(aes(x=cluster,y=score,color=region),position = position_jitterdodge(0.2),size=5,alpha=0.3)+\n",
    "stat_summary(aes(x=cluster,y=score,group=region),position=position_dodge(0.75),\n",
    "             fun='mean',color='red',size=6,geom='point')+\n",
    "scale_color_manual(values=my_color)+\n",
    "geom_hline(yintercept = 0,linetype='dashed',size = 3)+\n",
    "\n",
    "#stat_pvalue_manual(pwc, tip.length = 0, hide.ns = TRUE,size = 15,bracket.size = 2)+\n",
    "\n",
    "theme_classic()+\n",
    "theme(#axis.text.x = element_text(size=36,face='bold'),\n",
    "      axis.text.x = element_blank(),\n",
    "      #axis.text.y = element_text(size=30,face='bold'),\n",
    "      axis.text.y = element_blank(),\n",
    "      legend.key.size = unit(50,'pt'),\n",
    "      legend.title = element_text(size=35,face='bold'),\n",
    "      legend.text = element_text(size=25),\n",
    "      legend.position = 'top',\n",
    "      axis.line = element_line(linetype=1,color=\"black\",size=1.5))+\n",
    "xlab('')+\n",
    "ylab('')+\n",
    "ylim(-3,1)\n",
    "dev.off()"
   ]
  },
  {
   "cell_type": "markdown",
   "id": "e28003fe",
   "metadata": {
    "heading_collapsed": true
   },
   "source": [
    "## outlier"
   ]
  },
  {
   "cell_type": "markdown",
   "id": "92e87ced",
   "metadata": {
    "hidden": true
   },
   "source": [
    "### first time"
   ]
  },
  {
   "cell_type": "code",
   "execution_count": 42,
   "id": "01c7d904",
   "metadata": {
    "ExecuteTime": {
     "end_time": "2022-12-26T03:26:03.958054Z",
     "start_time": "2022-12-26T03:26:03.857Z"
    },
    "hidden": true,
    "vscode": {
     "languageId": "r"
    }
   },
   "outputs": [
    {
     "data": {
      "text/html": [
       "<table class=\"dataframe\">\n",
       "<caption>A tibble: 2 × 7</caption>\n",
       "<thead>\n",
       "\t<tr><th scope=col>cluster</th><th scope=col>region</th><th scope=col>rel</th><th scope=col>score</th><th scope=col>index</th><th scope=col>is.outlier</th><th scope=col>is.extreme</th></tr>\n",
       "\t<tr><th scope=col>&lt;chr&gt;</th><th scope=col>&lt;fct&gt;</th><th scope=col>&lt;chr&gt;</th><th scope=col>&lt;dbl&gt;</th><th scope=col>&lt;chr&gt;</th><th scope=col>&lt;lgl&gt;</th><th scope=col>&lt;lgl&gt;</th></tr>\n",
       "</thead>\n",
       "<tbody>\n",
       "\t<tr><td>Familial    </td><td>CHN</td><td>Ancestor and Descendant</td><td>-2.573347</td><td>63</td><td>TRUE</td><td>FALSE</td></tr>\n",
       "\t<tr><td>Occupational</td><td>USA</td><td>Man and God            </td><td>-2.120244</td><td>34</td><td>TRUE</td><td>FALSE</td></tr>\n",
       "</tbody>\n",
       "</table>\n"
      ],
      "text/latex": [
       "A tibble: 2 × 7\n",
       "\\begin{tabular}{lllllll}\n",
       " cluster & region & rel & score & index & is.outlier & is.extreme\\\\\n",
       " <chr> & <fct> & <chr> & <dbl> & <chr> & <lgl> & <lgl>\\\\\n",
       "\\hline\n",
       "\t Familial     & CHN & Ancestor and Descendant & -2.573347 & 63 & TRUE & FALSE\\\\\n",
       "\t Occupational & USA & Man and God             & -2.120244 & 34 & TRUE & FALSE\\\\\n",
       "\\end{tabular}\n"
      ],
      "text/markdown": [
       "\n",
       "A tibble: 2 × 7\n",
       "\n",
       "| cluster &lt;chr&gt; | region &lt;fct&gt; | rel &lt;chr&gt; | score &lt;dbl&gt; | index &lt;chr&gt; | is.outlier &lt;lgl&gt; | is.extreme &lt;lgl&gt; |\n",
       "|---|---|---|---|---|---|---|\n",
       "| Familial     | CHN | Ancestor and Descendant | -2.573347 | 63 | TRUE | FALSE |\n",
       "| Occupational | USA | Man and God             | -2.120244 | 34 | TRUE | FALSE |\n",
       "\n"
      ],
      "text/plain": [
       "  cluster      region rel                     score     index is.outlier\n",
       "1 Familial     CHN    Ancestor and Descendant -2.573347 63    TRUE      \n",
       "2 Occupational USA    Man and God             -2.120244 34    TRUE      \n",
       "  is.extreme\n",
       "1 FALSE     \n",
       "2 FALSE     "
      ]
     },
     "metadata": {},
     "output_type": "display_data"
    }
   ],
   "source": [
    "USA_CHN_equ_pca_melt %>% group_by(cluster,region) %>% identify_outliers(score)"
   ]
  },
  {
   "cell_type": "code",
   "execution_count": 43,
   "id": "8124be4d",
   "metadata": {
    "ExecuteTime": {
     "end_time": "2022-12-26T03:26:12.602319Z",
     "start_time": "2022-12-26T03:26:10.707Z"
    },
    "hidden": true,
    "vscode": {
     "languageId": "r"
    }
   },
   "outputs": [
    {
     "data": {
      "text/html": [
       "<table class=\"dataframe\">\n",
       "<caption>A tibble: 1 × 7</caption>\n",
       "<thead>\n",
       "\t<tr><th scope=col>cluster</th><th scope=col>region</th><th scope=col>rel</th><th scope=col>score</th><th scope=col>index</th><th scope=col>is.outlier</th><th scope=col>is.extreme</th></tr>\n",
       "\t<tr><th scope=col>&lt;chr&gt;</th><th scope=col>&lt;fct&gt;</th><th scope=col>&lt;chr&gt;</th><th scope=col>&lt;dbl&gt;</th><th scope=col>&lt;chr&gt;</th><th scope=col>&lt;lgl&gt;</th><th scope=col>&lt;lgl&gt;</th></tr>\n",
       "</thead>\n",
       "<tbody>\n",
       "\t<tr><td>Familial</td><td>CHN</td><td>Between a person and their in-laws</td><td>-1.279681</td><td>52</td><td>TRUE</td><td>FALSE</td></tr>\n",
       "</tbody>\n",
       "</table>\n"
      ],
      "text/latex": [
       "A tibble: 1 × 7\n",
       "\\begin{tabular}{lllllll}\n",
       " cluster & region & rel & score & index & is.outlier & is.extreme\\\\\n",
       " <chr> & <fct> & <chr> & <dbl> & <chr> & <lgl> & <lgl>\\\\\n",
       "\\hline\n",
       "\t Familial & CHN & Between a person and their in-laws & -1.279681 & 52 & TRUE & FALSE\\\\\n",
       "\\end{tabular}\n"
      ],
      "text/markdown": [
       "\n",
       "A tibble: 1 × 7\n",
       "\n",
       "| cluster &lt;chr&gt; | region &lt;fct&gt; | rel &lt;chr&gt; | score &lt;dbl&gt; | index &lt;chr&gt; | is.outlier &lt;lgl&gt; | is.extreme &lt;lgl&gt; |\n",
       "|---|---|---|---|---|---|---|\n",
       "| Familial | CHN | Between a person and their in-laws | -1.279681 | 52 | TRUE | FALSE |\n",
       "\n"
      ],
      "text/plain": [
       "  cluster  region rel                                score     index is.outlier\n",
       "1 Familial CHN    Between a person and their in-laws -1.279681 52    TRUE      \n",
       "  is.extreme\n",
       "1 FALSE     "
      ]
     },
     "metadata": {},
     "output_type": "display_data"
    },
    {
     "data": {
      "text/html": [
       "<table class=\"dataframe\">\n",
       "<caption>A anova_test: 3 × 7</caption>\n",
       "<thead>\n",
       "\t<tr><th></th><th scope=col>Effect</th><th scope=col>DFn</th><th scope=col>DFd</th><th scope=col>F</th><th scope=col>p</th><th scope=col>p&lt;.05</th><th scope=col>ges</th></tr>\n",
       "\t<tr><th></th><th scope=col>&lt;chr&gt;</th><th scope=col>&lt;dbl&gt;</th><th scope=col>&lt;dbl&gt;</th><th scope=col>&lt;dbl&gt;</th><th scope=col>&lt;dbl&gt;</th><th scope=col>&lt;chr&gt;</th><th scope=col>&lt;dbl&gt;</th></tr>\n",
       "</thead>\n",
       "<tbody>\n",
       "\t<tr><th scope=row>1</th><td>cluster       </td><td>1</td><td>45</td><td>48.992</td><td>1.02e-08</td><td>*</td><td>0.444</td></tr>\n",
       "\t<tr><th scope=row>2</th><td>region        </td><td>1</td><td>45</td><td>37.477</td><td>2.06e-07</td><td>*</td><td>0.182</td></tr>\n",
       "\t<tr><th scope=row>3</th><td>cluster:region</td><td>1</td><td>45</td><td>19.721</td><td>5.76e-05</td><td>*</td><td>0.105</td></tr>\n",
       "</tbody>\n",
       "</table>\n"
      ],
      "text/latex": [
       "A anova\\_test: 3 × 7\n",
       "\\begin{tabular}{r|lllllll}\n",
       "  & Effect & DFn & DFd & F & p & p<.05 & ges\\\\\n",
       "  & <chr> & <dbl> & <dbl> & <dbl> & <dbl> & <chr> & <dbl>\\\\\n",
       "\\hline\n",
       "\t1 & cluster        & 1 & 45 & 48.992 & 1.02e-08 & * & 0.444\\\\\n",
       "\t2 & region         & 1 & 45 & 37.477 & 2.06e-07 & * & 0.182\\\\\n",
       "\t3 & cluster:region & 1 & 45 & 19.721 & 5.76e-05 & * & 0.105\\\\\n",
       "\\end{tabular}\n"
      ],
      "text/markdown": [
       "\n",
       "A anova_test: 3 × 7\n",
       "\n",
       "| <!--/--> | Effect &lt;chr&gt; | DFn &lt;dbl&gt; | DFd &lt;dbl&gt; | F &lt;dbl&gt; | p &lt;dbl&gt; | p&lt;.05 &lt;chr&gt; | ges &lt;dbl&gt; |\n",
       "|---|---|---|---|---|---|---|---|\n",
       "| 1 | cluster        | 1 | 45 | 48.992 | 1.02e-08 | * | 0.444 |\n",
       "| 2 | region         | 1 | 45 | 37.477 | 2.06e-07 | * | 0.182 |\n",
       "| 3 | cluster:region | 1 | 45 | 19.721 | 5.76e-05 | * | 0.105 |\n",
       "\n"
      ],
      "text/plain": [
       "  Effect         DFn DFd F      p        p<.05 ges  \n",
       "1 cluster        1   45  48.992 1.02e-08 *     0.444\n",
       "2 region         1   45  37.477 2.06e-07 *     0.182\n",
       "3 cluster:region 1   45  19.721 5.76e-05 *     0.105"
      ]
     },
     "metadata": {},
     "output_type": "display_data"
    },
    {
     "data": {
      "text/html": [
       "<table class=\"dataframe\">\n",
       "<caption>A grouped_anova_test: 2 × 9</caption>\n",
       "<thead>\n",
       "\t<tr><th scope=col>cluster</th><th scope=col>Effect</th><th scope=col>DFn</th><th scope=col>DFd</th><th scope=col>F</th><th scope=col>p</th><th scope=col>p&lt;.05</th><th scope=col>ges</th><th scope=col>p.adj</th></tr>\n",
       "\t<tr><th scope=col>&lt;chr&gt;</th><th scope=col>&lt;chr&gt;</th><th scope=col>&lt;dbl&gt;</th><th scope=col>&lt;dbl&gt;</th><th scope=col>&lt;dbl&gt;</th><th scope=col>&lt;dbl&gt;</th><th scope=col>&lt;chr&gt;</th><th scope=col>&lt;dbl&gt;</th><th scope=col>&lt;dbl&gt;</th></tr>\n",
       "</thead>\n",
       "<tbody>\n",
       "\t<tr><td>Familial    </td><td>region</td><td>1</td><td>12</td><td>31.673</td><td>0.000111</td><td>*</td><td>0.490</td><td>0.000222</td></tr>\n",
       "\t<tr><td>Occupational</td><td>region</td><td>1</td><td>33</td><td> 2.773</td><td>0.105000</td><td> </td><td>0.019</td><td>0.210000</td></tr>\n",
       "</tbody>\n",
       "</table>\n"
      ],
      "text/latex": [
       "A grouped\\_anova\\_test: 2 × 9\n",
       "\\begin{tabular}{lllllllll}\n",
       " cluster & Effect & DFn & DFd & F & p & p<.05 & ges & p.adj\\\\\n",
       " <chr> & <chr> & <dbl> & <dbl> & <dbl> & <dbl> & <chr> & <dbl> & <dbl>\\\\\n",
       "\\hline\n",
       "\t Familial     & region & 1 & 12 & 31.673 & 0.000111 & * & 0.490 & 0.000222\\\\\n",
       "\t Occupational & region & 1 & 33 &  2.773 & 0.105000 &   & 0.019 & 0.210000\\\\\n",
       "\\end{tabular}\n"
      ],
      "text/markdown": [
       "\n",
       "A grouped_anova_test: 2 × 9\n",
       "\n",
       "| cluster &lt;chr&gt; | Effect &lt;chr&gt; | DFn &lt;dbl&gt; | DFd &lt;dbl&gt; | F &lt;dbl&gt; | p &lt;dbl&gt; | p&lt;.05 &lt;chr&gt; | ges &lt;dbl&gt; | p.adj &lt;dbl&gt; |\n",
       "|---|---|---|---|---|---|---|---|---|\n",
       "| Familial     | region | 1 | 12 | 31.673 | 0.000111 | * | 0.490 | 0.000222 |\n",
       "| Occupational | region | 1 | 33 |  2.773 | 0.105000 | <!----> | 0.019 | 0.210000 |\n",
       "\n"
      ],
      "text/plain": [
       "  cluster      Effect DFn DFd F      p        p<.05 ges   p.adj   \n",
       "1 Familial     region 1   12  31.673 0.000111 *     0.490 0.000222\n",
       "2 Occupational region 1   33   2.773 0.105000       0.019 0.210000"
      ]
     },
     "metadata": {},
     "output_type": "display_data"
    },
    {
     "data": {
      "text/html": [
       "<table class=\"dataframe\">\n",
       "<caption>A rstatix_test: 2 × 15</caption>\n",
       "<thead>\n",
       "\t<tr><th scope=col>cluster</th><th scope=col>.y.</th><th scope=col>group1</th><th scope=col>group2</th><th scope=col>n1</th><th scope=col>n2</th><th scope=col>p</th><th scope=col>p.signif</th><th scope=col>p.adj</th><th scope=col>p.adj.signif</th><th scope=col>y.position</th><th scope=col>groups</th><th scope=col>NA</th><th scope=col>x</th><th scope=col>xmin</th><th scope=col>xmax</th></tr>\n",
       "\t<tr><th scope=col>&lt;chr&gt;</th><th scope=col>&lt;chr&gt;</th><th scope=col>&lt;chr&gt;</th><th scope=col>&lt;chr&gt;</th><th scope=col>&lt;int&gt;</th><th scope=col>&lt;int&gt;</th><th scope=col>&lt;dbl&gt;</th><th scope=col>&lt;chr&gt;</th><th scope=col>&lt;dbl&gt;</th><th scope=col>&lt;chr&gt;</th><th scope=col>&lt;dbl&gt;</th><th scope=col>&lt;named list&gt;</th><th scope=col>&lt;dbl&gt;</th><th scope=col>&lt;dbl&gt;</th><th scope=col>&lt;dbl&gt;</th></tr>\n",
       "</thead>\n",
       "<tbody>\n",
       "\t<tr><td>Familial    </td><td>score</td><td>CHN</td><td>USA</td><td>13</td><td>13</td><td>6.88e-05</td><td>****</td><td>6.88e-05</td><td>****</td><td>-0.00728</td><td>CHN</td><td>CHN</td><td>1</td><td>0.8</td><td>1.2</td></tr>\n",
       "\t<tr><td>Occupational</td><td>score</td><td>CHN</td><td>USA</td><td>34</td><td>34</td><td>2.56e-01</td><td>ns  </td><td>2.56e-01</td><td>ns  </td><td> 0.71472</td><td>USA</td><td>USA</td><td>2</td><td>1.8</td><td>2.2</td></tr>\n",
       "</tbody>\n",
       "</table>\n"
      ],
      "text/latex": [
       "A rstatix\\_test: 2 × 15\n",
       "\\begin{tabular}{lllllllllllllll}\n",
       " cluster & .y. & group1 & group2 & n1 & n2 & p & p.signif & p.adj & p.adj.signif & y.position & groups & NA & x & xmin & xmax\\\\\n",
       " <chr> & <chr> & <chr> & <chr> & <int> & <int> & <dbl> & <chr> & <dbl> & <chr> & <dbl> & <named list> & <dbl> & <dbl> & <dbl>\\\\\n",
       "\\hline\n",
       "\t Familial     & score & CHN & USA & 13 & 13 & 6.88e-05 & **** & 6.88e-05 & **** & -0.00728 & CHN & CHN & 1 & 0.8 & 1.2\\\\\n",
       "\t Occupational & score & CHN & USA & 34 & 34 & 2.56e-01 & ns   & 2.56e-01 & ns   &  0.71472 & USA & USA & 2 & 1.8 & 2.2\\\\\n",
       "\\end{tabular}\n"
      ],
      "text/markdown": [
       "\n",
       "A rstatix_test: 2 × 15\n",
       "\n",
       "| cluster &lt;chr&gt; | .y. &lt;chr&gt; | group1 &lt;chr&gt; | group2 &lt;chr&gt; | n1 &lt;int&gt; | n2 &lt;int&gt; | p &lt;dbl&gt; | p.signif &lt;chr&gt; | p.adj &lt;dbl&gt; | p.adj.signif &lt;chr&gt; | y.position &lt;dbl&gt; | groups &lt;named list&gt; | NA &lt;dbl&gt; | x &lt;dbl&gt; | xmin &lt;dbl&gt; | xmax &lt;chr&gt; |\n",
       "|---|---|---|---|---|---|---|---|---|---|---|---|---|---|---|\n",
       "| Familial     | score | CHN | USA | 13 | 13 | 6.88e-05 | **** | 6.88e-05 | **** | -0.00728 | CHN | CHN | 1 | 0.8 | 1.2 |\n",
       "| Occupational | score | CHN | USA | 34 | 34 | 2.56e-01 | ns   | 2.56e-01 | ns   |  0.71472 | USA | USA | 2 | 1.8 | 2.2 |\n",
       "\n"
      ],
      "text/plain": [
       "  cluster      .y.   group1 group2 n1 n2 p        p.signif p.adj   \n",
       "1 Familial     score CHN    USA    13 13 6.88e-05 ****     6.88e-05\n",
       "2 Occupational score CHN    USA    34 34 2.56e-01 ns       2.56e-01\n",
       "  p.adj.signif y.position groups <NA> x xmin xmax\n",
       "1 ****         -0.00728   CHN    CHN  1 0.8  1.2 \n",
       "2 ns            0.71472   USA    USA  2 1.8  2.2 "
      ]
     },
     "metadata": {},
     "output_type": "display_data"
    },
    {
     "data": {
      "image/png": "[encoded data removed]",
      "text/plain": [
       "plot without title"
      ]
     },
     "metadata": {
      "image/png": {
       "height": 480,
       "width": 720
      }
     },
     "output_type": "display_data"
    }
   ],
   "source": [
    "outlier = c('Ancestor and Descendant','Man and God')\n",
    "USA_CHN_equ_pca_melt_nooutliers = USA_CHN_equ_pca_melt[-which(USA_CHN_equ_pca_melt$rel%in%outlier),]\n",
    "USA_CHN_equ_pca_melt_nooutliers %>% group_by(cluster,region) %>% identify_outliers(score)\n",
    "\n",
    "# Anova\n",
    "res.aov = anova_test(\n",
    "    data = USA_CHN_equ_pca_melt_nooutliers,dv = score, wid = rel,\n",
    "    between = cluster, within = region)\n",
    "get_anova_table(res.aov)\n",
    "\n",
    "# Post hoc1\n",
    "one.way = USA_CHN_equ_pca_melt_nooutliers %>% group_by(cluster) %>%\n",
    "    anova_test(dv = score, wid = rel, within = region) %>%\n",
    "    get_anova_table() %>%\n",
    "    adjust_pvalue(method = 'bonferroni')\n",
    "one.way\n",
    "\n",
    "# Post hoc2\n",
    "pwc <- USA_CHN_equ_pca_melt_nooutliers %>%\n",
    "  group_by(cluster) %>%\n",
    "  pairwise_t_test(score ~ region, p.adjust.method = \"bonferroni\",paired = FALSE) #%>%\n",
    "  #select(-p, -p.signif) # Remove details\n",
    "pwc <- pwc %>% add_xy_position(x = \"cluster\")\n",
    "pwc\n",
    "\n",
    "# Visualization\n",
    "my_color = c('USA'='#3C3B6E','CHN'='#DE2910')\n",
    "options(repr.plot.width = 12,repr.plot.height = 8)\n",
    "ggplot(USA_CHN_equ_pca_melt_nooutliers)+\n",
    "geom_boxplot(aes(x=cluster,y=score,color=region),\n",
    "             outlier.alpha = 0,size=2)+\n",
    "geom_point(aes(x=cluster,y=score,color=region),position = position_jitterdodge(0.2),size=3,alpha=0.3)+\n",
    "stat_summary(aes(x=cluster,y=score,group=region),position=position_dodge(0.75),\n",
    "             fun='mean',color='red',size=5,geom='point')+\n",
    "scale_color_manual(values=my_color)+\n",
    "geom_hline(yintercept = 0,linetype='dashed',size = 3)+\n",
    "# scale_x_discrete(labels = c(\"psy\" = \"psychological\",\"phy\" = \"physical\"))+\n",
    "\n",
    "stat_pvalue_manual(pwc, tip.length = 0, hide.ns = TRUE,size = 15,bracket.size = 2)+\n",
    "\n",
    "theme_classic()+\n",
    "theme(axis.text.x = element_text(size=40,face='bold'),\n",
    "      axis.text.y = element_text(size=20),\n",
    "      legend.key.size = unit(50,'pt'),\n",
    "      legend.title = element_text(size=35,face='bold'),\n",
    "      legend.text = element_text(size=25))+\n",
    "xlab('')+\n",
    "ylab('')"
   ]
  },
  {
   "cell_type": "markdown",
   "id": "b08ecf0a",
   "metadata": {
    "hidden": true
   },
   "source": [
    "### second time"
   ]
  },
  {
   "cell_type": "code",
   "execution_count": 44,
   "id": "c194d274",
   "metadata": {
    "ExecuteTime": {
     "end_time": "2022-12-26T03:26:20.319494Z",
     "start_time": "2022-12-26T03:26:18.419Z"
    },
    "hidden": true,
    "vscode": {
     "languageId": "r"
    }
   },
   "outputs": [
    {
     "data": {
      "text/html": [
       "<table class=\"dataframe\">\n",
       "<caption>A data.frame: 0 × 7</caption>\n",
       "<thead>\n",
       "\t<tr><th scope=col>cluster</th><th scope=col>region</th><th scope=col>rel</th><th scope=col>score</th><th scope=col>index</th><th scope=col>is.outlier</th><th scope=col>is.extreme</th></tr>\n",
       "\t<tr><th scope=col>&lt;chr&gt;</th><th scope=col>&lt;fct&gt;</th><th scope=col>&lt;chr&gt;</th><th scope=col>&lt;dbl&gt;</th><th scope=col>&lt;chr&gt;</th><th scope=col>&lt;lgl&gt;</th><th scope=col>&lt;lgl&gt;</th></tr>\n",
       "</thead>\n",
       "<tbody>\n",
       "</tbody>\n",
       "</table>\n"
      ],
      "text/latex": [
       "A data.frame: 0 × 7\n",
       "\\begin{tabular}{lllllll}\n",
       " cluster & region & rel & score & index & is.outlier & is.extreme\\\\\n",
       " <chr> & <fct> & <chr> & <dbl> & <chr> & <lgl> & <lgl>\\\\\n",
       "\\hline\n",
       "\\end{tabular}\n"
      ],
      "text/markdown": [
       "\n",
       "A data.frame: 0 × 7\n",
       "\n",
       "| cluster &lt;chr&gt; | region &lt;fct&gt; | rel &lt;chr&gt; | score &lt;dbl&gt; | index &lt;chr&gt; | is.outlier &lt;lgl&gt; | is.extreme &lt;lgl&gt; |\n",
       "|---|---|---|---|---|---|---|\n",
       "\n"
      ],
      "text/plain": [
       "     cluster region rel score index is.outlier is.extreme"
      ]
     },
     "metadata": {},
     "output_type": "display_data"
    },
    {
     "data": {
      "text/html": [
       "<table class=\"dataframe\">\n",
       "<caption>A anova_test: 3 × 7</caption>\n",
       "<thead>\n",
       "\t<tr><th></th><th scope=col>Effect</th><th scope=col>DFn</th><th scope=col>DFd</th><th scope=col>F</th><th scope=col>p</th><th scope=col>p&lt;.05</th><th scope=col>ges</th></tr>\n",
       "\t<tr><th></th><th scope=col>&lt;chr&gt;</th><th scope=col>&lt;dbl&gt;</th><th scope=col>&lt;dbl&gt;</th><th scope=col>&lt;dbl&gt;</th><th scope=col>&lt;dbl&gt;</th><th scope=col>&lt;chr&gt;</th><th scope=col>&lt;dbl&gt;</th></tr>\n",
       "</thead>\n",
       "<tbody>\n",
       "\t<tr><th scope=row>1</th><td>cluster       </td><td>1</td><td>43</td><td>66.703</td><td>2.75e-10</td><td>*</td><td>0.516</td></tr>\n",
       "\t<tr><th scope=row>2</th><td>region        </td><td>1</td><td>43</td><td>32.450</td><td>1.01e-06</td><td>*</td><td>0.191</td></tr>\n",
       "\t<tr><th scope=row>3</th><td>cluster:region</td><td>1</td><td>43</td><td>16.444</td><td>2.07e-04</td><td>*</td><td>0.107</td></tr>\n",
       "</tbody>\n",
       "</table>\n"
      ],
      "text/latex": [
       "A anova\\_test: 3 × 7\n",
       "\\begin{tabular}{r|lllllll}\n",
       "  & Effect & DFn & DFd & F & p & p<.05 & ges\\\\\n",
       "  & <chr> & <dbl> & <dbl> & <dbl> & <dbl> & <chr> & <dbl>\\\\\n",
       "\\hline\n",
       "\t1 & cluster        & 1 & 43 & 66.703 & 2.75e-10 & * & 0.516\\\\\n",
       "\t2 & region         & 1 & 43 & 32.450 & 1.01e-06 & * & 0.191\\\\\n",
       "\t3 & cluster:region & 1 & 43 & 16.444 & 2.07e-04 & * & 0.107\\\\\n",
       "\\end{tabular}\n"
      ],
      "text/markdown": [
       "\n",
       "A anova_test: 3 × 7\n",
       "\n",
       "| <!--/--> | Effect &lt;chr&gt; | DFn &lt;dbl&gt; | DFd &lt;dbl&gt; | F &lt;dbl&gt; | p &lt;dbl&gt; | p&lt;.05 &lt;chr&gt; | ges &lt;dbl&gt; |\n",
       "|---|---|---|---|---|---|---|---|\n",
       "| 1 | cluster        | 1 | 43 | 66.703 | 2.75e-10 | * | 0.516 |\n",
       "| 2 | region         | 1 | 43 | 32.450 | 1.01e-06 | * | 0.191 |\n",
       "| 3 | cluster:region | 1 | 43 | 16.444 | 2.07e-04 | * | 0.107 |\n",
       "\n"
      ],
      "text/plain": [
       "  Effect         DFn DFd F      p        p<.05 ges  \n",
       "1 cluster        1   43  66.703 2.75e-10 *     0.516\n",
       "2 region         1   43  32.450 1.01e-06 *     0.191\n",
       "3 cluster:region 1   43  16.444 2.07e-04 *     0.107"
      ]
     },
     "metadata": {},
     "output_type": "display_data"
    },
    {
     "data": {
      "text/html": [
       "<table class=\"dataframe\">\n",
       "<caption>A grouped_anova_test: 2 × 9</caption>\n",
       "<thead>\n",
       "\t<tr><th scope=col>cluster</th><th scope=col>Effect</th><th scope=col>DFn</th><th scope=col>DFd</th><th scope=col>F</th><th scope=col>p</th><th scope=col>p&lt;.05</th><th scope=col>ges</th><th scope=col>p.adj</th></tr>\n",
       "\t<tr><th scope=col>&lt;chr&gt;</th><th scope=col>&lt;chr&gt;</th><th scope=col>&lt;dbl&gt;</th><th scope=col>&lt;dbl&gt;</th><th scope=col>&lt;dbl&gt;</th><th scope=col>&lt;dbl&gt;</th><th scope=col>&lt;chr&gt;</th><th scope=col>&lt;dbl&gt;</th><th scope=col>&lt;dbl&gt;</th></tr>\n",
       "</thead>\n",
       "<tbody>\n",
       "\t<tr><td>Familial    </td><td>region</td><td>1</td><td>11</td><td>25.963</td><td>0.000347</td><td>*</td><td>0.518</td><td>0.000694</td></tr>\n",
       "\t<tr><td>Occupational</td><td>region</td><td>1</td><td>32</td><td> 2.762</td><td>0.106000</td><td> </td><td>0.023</td><td>0.212000</td></tr>\n",
       "</tbody>\n",
       "</table>\n"
      ],
      "text/latex": [
       "A grouped\\_anova\\_test: 2 × 9\n",
       "\\begin{tabular}{lllllllll}\n",
       " cluster & Effect & DFn & DFd & F & p & p<.05 & ges & p.adj\\\\\n",
       " <chr> & <chr> & <dbl> & <dbl> & <dbl> & <dbl> & <chr> & <dbl> & <dbl>\\\\\n",
       "\\hline\n",
       "\t Familial     & region & 1 & 11 & 25.963 & 0.000347 & * & 0.518 & 0.000694\\\\\n",
       "\t Occupational & region & 1 & 32 &  2.762 & 0.106000 &   & 0.023 & 0.212000\\\\\n",
       "\\end{tabular}\n"
      ],
      "text/markdown": [
       "\n",
       "A grouped_anova_test: 2 × 9\n",
       "\n",
       "| cluster &lt;chr&gt; | Effect &lt;chr&gt; | DFn &lt;dbl&gt; | DFd &lt;dbl&gt; | F &lt;dbl&gt; | p &lt;dbl&gt; | p&lt;.05 &lt;chr&gt; | ges &lt;dbl&gt; | p.adj &lt;dbl&gt; |\n",
       "|---|---|---|---|---|---|---|---|---|\n",
       "| Familial     | region | 1 | 11 | 25.963 | 0.000347 | * | 0.518 | 0.000694 |\n",
       "| Occupational | region | 1 | 32 |  2.762 | 0.106000 | <!----> | 0.023 | 0.212000 |\n",
       "\n"
      ],
      "text/plain": [
       "  cluster      Effect DFn DFd F      p        p<.05 ges   p.adj   \n",
       "1 Familial     region 1   11  25.963 0.000347 *     0.518 0.000694\n",
       "2 Occupational region 1   32   2.762 0.106000       0.023 0.212000"
      ]
     },
     "metadata": {},
     "output_type": "display_data"
    },
    {
     "data": {
      "text/html": [
       "<table class=\"dataframe\">\n",
       "<caption>A rstatix_test: 2 × 15</caption>\n",
       "<thead>\n",
       "\t<tr><th scope=col>cluster</th><th scope=col>.y.</th><th scope=col>group1</th><th scope=col>group2</th><th scope=col>n1</th><th scope=col>n2</th><th scope=col>p</th><th scope=col>p.signif</th><th scope=col>p.adj</th><th scope=col>p.adj.signif</th><th scope=col>y.position</th><th scope=col>groups</th><th scope=col>NA</th><th scope=col>x</th><th scope=col>xmin</th><th scope=col>xmax</th></tr>\n",
       "\t<tr><th scope=col>&lt;chr&gt;</th><th scope=col>&lt;chr&gt;</th><th scope=col>&lt;chr&gt;</th><th scope=col>&lt;chr&gt;</th><th scope=col>&lt;int&gt;</th><th scope=col>&lt;int&gt;</th><th scope=col>&lt;dbl&gt;</th><th scope=col>&lt;chr&gt;</th><th scope=col>&lt;dbl&gt;</th><th scope=col>&lt;chr&gt;</th><th scope=col>&lt;dbl&gt;</th><th scope=col>&lt;named list&gt;</th><th scope=col>&lt;dbl&gt;</th><th scope=col>&lt;dbl&gt;</th><th scope=col>&lt;dbl&gt;</th></tr>\n",
       "</thead>\n",
       "<tbody>\n",
       "\t<tr><td>Familial    </td><td>score</td><td>CHN</td><td>USA</td><td>12</td><td>12</td><td>0.000074</td><td>****</td><td>0.000074</td><td>****</td><td>-0.028</td><td>CHN</td><td>CHN</td><td>1</td><td>0.8</td><td>1.2</td></tr>\n",
       "\t<tr><td>Occupational</td><td>score</td><td>CHN</td><td>USA</td><td>33</td><td>33</td><td>0.223000</td><td>ns  </td><td>0.223000</td><td>ns  </td><td> 0.732</td><td>USA</td><td>USA</td><td>2</td><td>1.8</td><td>2.2</td></tr>\n",
       "</tbody>\n",
       "</table>\n"
      ],
      "text/latex": [
       "A rstatix\\_test: 2 × 15\n",
       "\\begin{tabular}{lllllllllllllll}\n",
       " cluster & .y. & group1 & group2 & n1 & n2 & p & p.signif & p.adj & p.adj.signif & y.position & groups & NA & x & xmin & xmax\\\\\n",
       " <chr> & <chr> & <chr> & <chr> & <int> & <int> & <dbl> & <chr> & <dbl> & <chr> & <dbl> & <named list> & <dbl> & <dbl> & <dbl>\\\\\n",
       "\\hline\n",
       "\t Familial     & score & CHN & USA & 12 & 12 & 0.000074 & **** & 0.000074 & **** & -0.028 & CHN & CHN & 1 & 0.8 & 1.2\\\\\n",
       "\t Occupational & score & CHN & USA & 33 & 33 & 0.223000 & ns   & 0.223000 & ns   &  0.732 & USA & USA & 2 & 1.8 & 2.2\\\\\n",
       "\\end{tabular}\n"
      ],
      "text/markdown": [
       "\n",
       "A rstatix_test: 2 × 15\n",
       "\n",
       "| cluster &lt;chr&gt; | .y. &lt;chr&gt; | group1 &lt;chr&gt; | group2 &lt;chr&gt; | n1 &lt;int&gt; | n2 &lt;int&gt; | p &lt;dbl&gt; | p.signif &lt;chr&gt; | p.adj &lt;dbl&gt; | p.adj.signif &lt;chr&gt; | y.position &lt;dbl&gt; | groups &lt;named list&gt; | NA &lt;dbl&gt; | x &lt;dbl&gt; | xmin &lt;dbl&gt; | xmax &lt;chr&gt; |\n",
       "|---|---|---|---|---|---|---|---|---|---|---|---|---|---|---|\n",
       "| Familial     | score | CHN | USA | 12 | 12 | 0.000074 | **** | 0.000074 | **** | -0.028 | CHN | CHN | 1 | 0.8 | 1.2 |\n",
       "| Occupational | score | CHN | USA | 33 | 33 | 0.223000 | ns   | 0.223000 | ns   |  0.732 | USA | USA | 2 | 1.8 | 2.2 |\n",
       "\n"
      ],
      "text/plain": [
       "  cluster      .y.   group1 group2 n1 n2 p        p.signif p.adj   \n",
       "1 Familial     score CHN    USA    12 12 0.000074 ****     0.000074\n",
       "2 Occupational score CHN    USA    33 33 0.223000 ns       0.223000\n",
       "  p.adj.signif y.position groups <NA> x xmin xmax\n",
       "1 ****         -0.028     CHN    CHN  1 0.8  1.2 \n",
       "2 ns            0.732     USA    USA  2 1.8  2.2 "
      ]
     },
     "metadata": {},
     "output_type": "display_data"
    },
    {
     "data": {
      "image/png": "[encoded data removed]",
      "text/plain": [
       "plot without title"
      ]
     },
     "metadata": {
      "image/png": {
       "height": 480,
       "width": 720
      }
     },
     "output_type": "display_data"
    }
   ],
   "source": [
    "outlier = c('Ancestor and Descendant','Man and God','Officer and Soldier',\n",
    "           'Between a person and their in-laws')\n",
    "USA_CHN_equ_pca_melt_nooutliers = USA_CHN_equ_pca_melt[-which(USA_CHN_equ_pca_melt$rel%in%outlier),]\n",
    "USA_CHN_equ_pca_melt_nooutliers %>% group_by(cluster,region) %>% identify_outliers(score)\n",
    "\n",
    "# Anova\n",
    "res.aov = anova_test(\n",
    "    data = USA_CHN_equ_pca_melt_nooutliers,dv = score, wid = rel,\n",
    "    between = cluster, within = region)\n",
    "get_anova_table(res.aov)\n",
    "\n",
    "# Post hoc1\n",
    "one.way = USA_CHN_equ_pca_melt_nooutliers %>% group_by(cluster) %>%\n",
    "    anova_test(dv = score, wid = rel, within = region) %>%\n",
    "    get_anova_table() %>%\n",
    "    adjust_pvalue(method = 'bonferroni')\n",
    "one.way\n",
    "\n",
    "# Post hoc2\n",
    "pwc <- USA_CHN_equ_pca_melt_nooutliers %>%\n",
    "  group_by(cluster) %>%\n",
    "  pairwise_t_test(score ~ region, p.adjust.method = \"bonferroni\", paired = FALSE) #%>%\n",
    "  #select(-p, -p.signif) # Remove details\n",
    "pwc <- pwc %>% add_xy_position(x = \"cluster\")\n",
    "pwc\n",
    "\n",
    "# Visualization\n",
    "my_color = c('USA'='#3C3B6E','CHN'='#DE2910')\n",
    "options(repr.plot.width = 12)\n",
    "ggplot(USA_CHN_equ_pca_melt_nooutliers)+\n",
    "geom_boxplot(aes(x=cluster,y=score,color=region),\n",
    "             outlier.alpha = 0,size=2)+\n",
    "geom_point(aes(x=cluster,y=score,color=region),position = position_jitterdodge(0.2),size=3,alpha=0.3)+\n",
    "stat_summary(aes(x=cluster,y=score,group=region),position=position_dodge(0.75),\n",
    "             fun='mean',color='red',size=5,geom='point')+\n",
    "scale_color_manual(values=my_color)+\n",
    "geom_hline(yintercept = 0,linetype='dashed',size = 3)+\n",
    "# scale_x_discrete(labels = c(\"psy\" = \"psychological\",\"phy\" = \"physical\"))+\n",
    "\n",
    "stat_pvalue_manual(pwc, tip.length = 0, hide.ns = TRUE,size = 15,bracket.size = 2)+\n",
    "\n",
    "theme_classic()+\n",
    "theme(axis.text.x = element_text(size=40,face='bold'),\n",
    "      axis.text.y = element_text(size=20),\n",
    "      legend.key.size = unit(50,'pt'),\n",
    "      legend.title = element_text(size=35,face='bold'),\n",
    "      legend.text = element_text(size=25))+\n",
    "xlab('')+\n",
    "ylab('')"
   ]
  }
 ],
 "metadata": {
  "kernelspec": {
   "display_name": "R",
   "language": "R",
   "name": "ir"
  },
  "language_info": {
   "codemirror_mode": "r",
   "file_extension": ".r",
   "mimetype": "text/x-r-source",
   "name": "R",
   "pygments_lexer": "r",
   "version": "4.3.3"
  },
  "latex_envs": {
   "LaTeX_envs_menu_present": true,
   "autoclose": false,
   "autocomplete": true,
   "bibliofile": "biblio.bib",
   "cite_by": "apalike",
   "current_citInitial": 1,
   "eqLabelWithNumbers": true,
   "eqNumInitial": 1,
   "hotkeys": {
    "equation": "Ctrl-E",
    "itemize": "Ctrl-I"
   },
   "labels_anchors": false,
   "latex_user_defs": false,
   "report_style_numbering": false,
   "user_envs_cfg": false
  },
  "toc": {
   "base_numbering": 1,
   "nav_menu": {},
   "number_sections": true,
   "sideBar": true,
   "skip_h1_title": false,
   "title_cell": "Table of Contents",
   "title_sidebar": "Contents",
   "toc_cell": false,
   "toc_position": {
    "height": "calc(100% - 180px)",
    "left": "10px",
    "top": "150px",
    "width": "213.991px"
   },
   "toc_section_display": true,
   "toc_window_display": true
  },
  "varInspector": {
   "cols": {
    "lenName": 16,
    "lenType": 16,
    "lenVar": 40
   },
   "kernels_config": {
    "python": {
     "delete_cmd_postfix": "",
     "delete_cmd_prefix": "del ",
     "library": "var_list.py",
     "varRefreshCmd": "print(var_dic_list())"
    },
    "r": {
     "delete_cmd_postfix": ") ",
     "delete_cmd_prefix": "rm(",
     "library": "var_list.r",
     "varRefreshCmd": "cat(var_dic_list()) "
    }
   },
   "types_to_exclude": [
    "module",
    "function",
    "builtin_function_or_method",
    "instance",
    "_Feature"
   ],
   "window_display": false
  }
 },
 "nbformat": 4,
 "nbformat_minor": 5
}
