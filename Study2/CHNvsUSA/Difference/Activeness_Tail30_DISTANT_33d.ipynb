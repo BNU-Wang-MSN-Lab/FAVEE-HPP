{
 "cells": [
  {
   "cell_type": "code",
   "execution_count": 34,
   "id": "b33c6073",
   "metadata": {
    "ExecuteTime": {
     "end_time": "2023-03-22T13:56:46.716674Z",
     "start_time": "2023-03-22T13:56:46.688Z"
    },
    "vscode": {
     "languageId": "r"
    }
   },
   "outputs": [],
   "source": [
    "library(ggpubr) #plot\n",
    "library(rstatix) #easy statistical analyses\n",
    "\n",
    "library(ggplot2)\n",
    "library(tidyverse)\n",
    "library(reshape)\n",
    "\n",
    "library(car)\n",
    "library(effsize)"
   ]
  },
  {
   "cell_type": "code",
   "execution_count": 3,
   "id": "9db1d512",
   "metadata": {
    "ExecuteTime": {
     "end_time": "2023-03-22T13:56:47.481563Z",
     "start_time": "2023-03-22T13:56:47.459Z"
    },
    "vscode": {
     "languageId": "r"
    }
   },
   "outputs": [],
   "source": [
    "# 1.define dimensions\n",
    "# neutral_dim = c('Activeness','Activity.Intensity','Uniqueness','Endurance')\n",
    "psy_dim = c('Intimacy','Love.Expression','Attachment','Importance.for.individuals')\n",
    "phy_dim = c('Synchronicity','Spatial.Distance')\n",
    "dimension_selection = c(psy_dim,phy_dim)"
   ]
  },
  {
   "cell_type": "code",
   "execution_count": 4,
   "id": "32ac014f",
   "metadata": {
    "ExecuteTime": {
     "end_time": "2023-03-22T13:56:47.652530Z",
     "start_time": "2023-03-22T13:56:47.596Z"
    },
    "vscode": {
     "languageId": "r"
    }
   },
   "outputs": [],
   "source": [
    "# 2.1 raw data\n",
    "USA_raw = read.csv('../output_data/cleaning_results/USA/USA_combine_dim_rel_scaled_33d.csv',\n",
    "                   row.names=1)\n",
    "CHN_raw = read.csv('../output_data/cleaning_results/CHN/CHN_dim_rel_scaled_NLP_159r_33d.csv',\n",
    "                   row.names=1)\n",
    "# 2.2 pca data\n",
    "USA_pca = read.csv('../output_data/pca_results/USA/USA_scores_var_33d.csv',\n",
    "                   row.names=1)\n",
    "colnames(USA_pca) = c('Formality','Activeness','Valence','Exchange','Equality')\n",
    "USA_pca$'Equality' = -USA_pca$'Equality'\n",
    "\n",
    "CHN_pca = read.csv('../output_data/pca_results/CHN/CHN_NLP_159rel_33d_scores_var.csv',\n",
    "                   row.names=1)\n",
    "colnames(CHN_pca) = c('Valence','Exchange','Equality','Formality','Activeness')\n",
    "CHN_pca$'Valence' = -CHN_pca$'Valence'\n",
    "CHN_pca$'Equality' = -CHN_pca$'Equality'\n",
    "CHN_pca$'Formality' = -CHN_pca$'Formality'\n",
    "\n",
    "# 3.loading weight\n",
    "USA_loadings_var = read.csv('../output_data/pca_results/USA/USA_loadings_var_33d.csv',\n",
    "                       row.names=1)\n",
    "CHN_loadings_var = read.csv('../output_data/pca_results/CHN/CHN_NLP_159rel_33d_loadings_var.csv',\n",
    "                       row.names=1)\n",
    "\n",
    "colnames(USA_loadings_var) = c('Formality','Activeness','Valence','Exchange','Equality')\n",
    "USA_Activeness = abs(USA_loadings_var['Activeness'])\n",
    "colnames(CHN_loadings_var) = c('Valence','Exchange','Equality','Formality','Activeness')\n",
    "CHN_Activeness = abs(CHN_loadings_var['Activeness'])"
   ]
  },
  {
   "cell_type": "markdown",
   "id": "6b9926e6",
   "metadata": {},
   "source": [
    "# Define Distant relationships\n",
    "CHN/USA were selected as the tail 30 relationships in the Activeness dimension. In other words, \"Distant\" relationships are the relationship with low score of \"Activeness\" in FAVEE."
   ]
  },
  {
   "cell_type": "code",
   "execution_count": 12,
   "id": "25572472",
   "metadata": {
    "ExecuteTime": {
     "end_time": "2023-03-22T13:56:47.984639Z",
     "start_time": "2023-03-22T13:56:47.932Z"
    },
    "vscode": {
     "languageId": "r"
    }
   },
   "outputs": [
    {
     "name": "stdout",
     "output_type": "stream",
     "text": [
      "[1] \"USA:distant\"\n"
     ]
    },
    {
     "data": {
      "text/html": [
       "<style>\n",
       ".list-inline {list-style: none; margin:0; padding: 0}\n",
       ".list-inline>li {display: inline-block}\n",
       ".list-inline>li:not(:last-child)::after {content: \"\\00b7\"; padding: 0 .5ex}\n",
       "</style>\n",
       "<ol class=list-inline><li>'Between strangers'</li><li>'Celebrity and Haters'</li><li>'Between a person and their deceased spouse'</li><li>'Celebrity and Fans'</li><li>'Between ex-lovers'</li><li>'Ancestor and Descendant'</li><li>'Between a person and their social media follower'</li><li>'Between distant relatives'</li><li>'Reader and Writer'</li><li>'Between pen-friends'</li><li>'Between Facebook Friends'</li><li>'Between divorced spouses'</li><li>'Between alumni'</li><li>'Between second cousins'</li><li>'Between fans of opposing sports teams'</li><li>'Man Wife and Man Mistress'</li><li>'Between casual acquaintances'</li><li>'Chef and Customer'</li><li>'Between frenemies'</li><li>'Between business rivals'</li><li>'Between long-distance lovers'</li><li>'Native and Tourist'</li><li>'Between cousins'</li><li>'Politician and Supporter'</li><li>'Reviewer and Writer'</li><li>'Between fans of the same sports team'</li><li>'Between enemies'</li><li>'Victim and Criminal'</li><li>'Between a person and their crush'</li><li>'Landlord and Housekeeper'</li></ol>\n"
      ],
      "text/latex": [
       "\\begin{enumerate*}\n",
       "\\item 'Between strangers'\n",
       "\\item 'Celebrity and Haters'\n",
       "\\item 'Between a person and their deceased spouse'\n",
       "\\item 'Celebrity and Fans'\n",
       "\\item 'Between ex-lovers'\n",
       "\\item 'Ancestor and Descendant'\n",
       "\\item 'Between a person and their social media follower'\n",
       "\\item 'Between distant relatives'\n",
       "\\item 'Reader and Writer'\n",
       "\\item 'Between pen-friends'\n",
       "\\item 'Between Facebook Friends'\n",
       "\\item 'Between divorced spouses'\n",
       "\\item 'Between alumni'\n",
       "\\item 'Between second cousins'\n",
       "\\item 'Between fans of opposing sports teams'\n",
       "\\item 'Man Wife and Man Mistress'\n",
       "\\item 'Between casual acquaintances'\n",
       "\\item 'Chef and Customer'\n",
       "\\item 'Between frenemies'\n",
       "\\item 'Between business rivals'\n",
       "\\item 'Between long-distance lovers'\n",
       "\\item 'Native and Tourist'\n",
       "\\item 'Between cousins'\n",
       "\\item 'Politician and Supporter'\n",
       "\\item 'Reviewer and Writer'\n",
       "\\item 'Between fans of the same sports team'\n",
       "\\item 'Between enemies'\n",
       "\\item 'Victim and Criminal'\n",
       "\\item 'Between a person and their crush'\n",
       "\\item 'Landlord and Housekeeper'\n",
       "\\end{enumerate*}\n"
      ],
      "text/markdown": [
       "1. 'Between strangers'\n",
       "2. 'Celebrity and Haters'\n",
       "3. 'Between a person and their deceased spouse'\n",
       "4. 'Celebrity and Fans'\n",
       "5. 'Between ex-lovers'\n",
       "6. 'Ancestor and Descendant'\n",
       "7. 'Between a person and their social media follower'\n",
       "8. 'Between distant relatives'\n",
       "9. 'Reader and Writer'\n",
       "10. 'Between pen-friends'\n",
       "11. 'Between Facebook Friends'\n",
       "12. 'Between divorced spouses'\n",
       "13. 'Between alumni'\n",
       "14. 'Between second cousins'\n",
       "15. 'Between fans of opposing sports teams'\n",
       "16. 'Man Wife and Man Mistress'\n",
       "17. 'Between casual acquaintances'\n",
       "18. 'Chef and Customer'\n",
       "19. 'Between frenemies'\n",
       "20. 'Between business rivals'\n",
       "21. 'Between long-distance lovers'\n",
       "22. 'Native and Tourist'\n",
       "23. 'Between cousins'\n",
       "24. 'Politician and Supporter'\n",
       "25. 'Reviewer and Writer'\n",
       "26. 'Between fans of the same sports team'\n",
       "27. 'Between enemies'\n",
       "28. 'Victim and Criminal'\n",
       "29. 'Between a person and their crush'\n",
       "30. 'Landlord and Housekeeper'\n",
       "\n",
       "\n"
      ],
      "text/plain": [
       " [1] \"Between strangers\"                               \n",
       " [2] \"Celebrity and Haters\"                            \n",
       " [3] \"Between a person and their deceased spouse\"      \n",
       " [4] \"Celebrity and Fans\"                              \n",
       " [5] \"Between ex-lovers\"                               \n",
       " [6] \"Ancestor and Descendant\"                         \n",
       " [7] \"Between a person and their social media follower\"\n",
       " [8] \"Between distant relatives\"                       \n",
       " [9] \"Reader and Writer\"                               \n",
       "[10] \"Between pen-friends\"                             \n",
       "[11] \"Between Facebook Friends\"                        \n",
       "[12] \"Between divorced spouses\"                        \n",
       "[13] \"Between alumni\"                                  \n",
       "[14] \"Between second cousins\"                          \n",
       "[15] \"Between fans of opposing sports teams\"           \n",
       "[16] \"Man Wife and Man Mistress\"                       \n",
       "[17] \"Between casual acquaintances\"                    \n",
       "[18] \"Chef and Customer\"                               \n",
       "[19] \"Between frenemies\"                               \n",
       "[20] \"Between business rivals\"                         \n",
       "[21] \"Between long-distance lovers\"                    \n",
       "[22] \"Native and Tourist\"                              \n",
       "[23] \"Between cousins\"                                 \n",
       "[24] \"Politician and Supporter\"                        \n",
       "[25] \"Reviewer and Writer\"                             \n",
       "[26] \"Between fans of the same sports team\"            \n",
       "[27] \"Between enemies\"                                 \n",
       "[28] \"Victim and Criminal\"                             \n",
       "[29] \"Between a person and their crush\"                \n",
       "[30] \"Landlord and Housekeeper\"                        "
      ]
     },
     "metadata": {},
     "output_type": "display_data"
    },
    {
     "name": "stdout",
     "output_type": "stream",
     "text": [
      "[1] \"CHN:distant\"\n"
     ]
    },
    {
     "data": {
      "text/html": [
       "<style>\n",
       ".list-inline {list-style: none; margin:0; padding: 0}\n",
       ".list-inline>li {display: inline-block}\n",
       ".list-inline>li:not(:last-child)::after {content: \"\\00b7\"; padding: 0 .5ex}\n",
       "</style>\n",
       "<ol class=list-inline><li>'Between strangers'</li><li>'Between casual acquaintances'</li><li>'Native and Tourist'</li><li>'Man and God'</li><li>'Reader and Writer'</li><li>'Between a person and their social media follower'</li><li>'Between Facebook Friends'</li><li>'Between distant relatives'</li><li>'Celebrity and Fans'</li><li>'Chef and Customer'</li><li>'Reviewer and Writer'</li><li>'Between a person and their family friends'</li><li>'Between frenemies'</li><li>'Driver and Passenger'</li><li>'Predecessor and Successor'</li><li>'Between fans of opposing sports teams'</li><li>'Man Wife and Man Mistress'</li><li>'Between fans of the same sports team'</li><li>'Celebrity and Haters'</li><li>'Student and Dorm Resident assistant'</li><li>'Between second cousins'</li><li>'Performer and Audience'</li><li>'Between a person and their crush'</li><li>'Judge and Contestant'</li><li>'Television host and Guest'</li><li>'Customer and Businessman'</li><li>'Between romantic rivals'</li><li>'Between companions'</li><li>'Representative and Citizen'</li><li>'Dealer and Buyer'</li></ol>\n"
      ],
      "text/latex": [
       "\\begin{enumerate*}\n",
       "\\item 'Between strangers'\n",
       "\\item 'Between casual acquaintances'\n",
       "\\item 'Native and Tourist'\n",
       "\\item 'Man and God'\n",
       "\\item 'Reader and Writer'\n",
       "\\item 'Between a person and their social media follower'\n",
       "\\item 'Between Facebook Friends'\n",
       "\\item 'Between distant relatives'\n",
       "\\item 'Celebrity and Fans'\n",
       "\\item 'Chef and Customer'\n",
       "\\item 'Reviewer and Writer'\n",
       "\\item 'Between a person and their family friends'\n",
       "\\item 'Between frenemies'\n",
       "\\item 'Driver and Passenger'\n",
       "\\item 'Predecessor and Successor'\n",
       "\\item 'Between fans of opposing sports teams'\n",
       "\\item 'Man Wife and Man Mistress'\n",
       "\\item 'Between fans of the same sports team'\n",
       "\\item 'Celebrity and Haters'\n",
       "\\item 'Student and Dorm Resident assistant'\n",
       "\\item 'Between second cousins'\n",
       "\\item 'Performer and Audience'\n",
       "\\item 'Between a person and their crush'\n",
       "\\item 'Judge and Contestant'\n",
       "\\item 'Television host and Guest'\n",
       "\\item 'Customer and Businessman'\n",
       "\\item 'Between romantic rivals'\n",
       "\\item 'Between companions'\n",
       "\\item 'Representative and Citizen'\n",
       "\\item 'Dealer and Buyer'\n",
       "\\end{enumerate*}\n"
      ],
      "text/markdown": [
       "1. 'Between strangers'\n",
       "2. 'Between casual acquaintances'\n",
       "3. 'Native and Tourist'\n",
       "4. 'Man and God'\n",
       "5. 'Reader and Writer'\n",
       "6. 'Between a person and their social media follower'\n",
       "7. 'Between Facebook Friends'\n",
       "8. 'Between distant relatives'\n",
       "9. 'Celebrity and Fans'\n",
       "10. 'Chef and Customer'\n",
       "11. 'Reviewer and Writer'\n",
       "12. 'Between a person and their family friends'\n",
       "13. 'Between frenemies'\n",
       "14. 'Driver and Passenger'\n",
       "15. 'Predecessor and Successor'\n",
       "16. 'Between fans of opposing sports teams'\n",
       "17. 'Man Wife and Man Mistress'\n",
       "18. 'Between fans of the same sports team'\n",
       "19. 'Celebrity and Haters'\n",
       "20. 'Student and Dorm Resident assistant'\n",
       "21. 'Between second cousins'\n",
       "22. 'Performer and Audience'\n",
       "23. 'Between a person and their crush'\n",
       "24. 'Judge and Contestant'\n",
       "25. 'Television host and Guest'\n",
       "26. 'Customer and Businessman'\n",
       "27. 'Between romantic rivals'\n",
       "28. 'Between companions'\n",
       "29. 'Representative and Citizen'\n",
       "30. 'Dealer and Buyer'\n",
       "\n",
       "\n"
      ],
      "text/plain": [
       " [1] \"Between strangers\"                               \n",
       " [2] \"Between casual acquaintances\"                    \n",
       " [3] \"Native and Tourist\"                              \n",
       " [4] \"Man and God\"                                     \n",
       " [5] \"Reader and Writer\"                               \n",
       " [6] \"Between a person and their social media follower\"\n",
       " [7] \"Between Facebook Friends\"                        \n",
       " [8] \"Between distant relatives\"                       \n",
       " [9] \"Celebrity and Fans\"                              \n",
       "[10] \"Chef and Customer\"                               \n",
       "[11] \"Reviewer and Writer\"                             \n",
       "[12] \"Between a person and their family friends\"       \n",
       "[13] \"Between frenemies\"                               \n",
       "[14] \"Driver and Passenger\"                            \n",
       "[15] \"Predecessor and Successor\"                       \n",
       "[16] \"Between fans of opposing sports teams\"           \n",
       "[17] \"Man Wife and Man Mistress\"                       \n",
       "[18] \"Between fans of the same sports team\"            \n",
       "[19] \"Celebrity and Haters\"                            \n",
       "[20] \"Student and Dorm Resident assistant\"             \n",
       "[21] \"Between second cousins\"                          \n",
       "[22] \"Performer and Audience\"                          \n",
       "[23] \"Between a person and their crush\"                \n",
       "[24] \"Judge and Contestant\"                            \n",
       "[25] \"Television host and Guest\"                       \n",
       "[26] \"Customer and Businessman\"                        \n",
       "[27] \"Between romantic rivals\"                         \n",
       "[28] \"Between companions\"                              \n",
       "[29] \"Representative and Citizen\"                      \n",
       "[30] \"Dealer and Buyer\"                                "
      ]
     },
     "metadata": {},
     "output_type": "display_data"
    },
    {
     "name": "stdout",
     "output_type": "stream",
     "text": [
      "[1] \"intersection of USA and CHN: distant\"\n"
     ]
    },
    {
     "data": {
      "text/html": [
       "<style>\n",
       ".list-inline {list-style: none; margin:0; padding: 0}\n",
       ".list-inline>li {display: inline-block}\n",
       ".list-inline>li:not(:last-child)::after {content: \"\\00b7\"; padding: 0 .5ex}\n",
       "</style>\n",
       "<ol class=list-inline><li>'Between strangers'</li><li>'Celebrity and Haters'</li><li>'Celebrity and Fans'</li><li>'Between a person and their social media follower'</li><li>'Between distant relatives'</li><li>'Reader and Writer'</li><li>'Between Facebook Friends'</li><li>'Between second cousins'</li><li>'Between fans of opposing sports teams'</li><li>'Man Wife and Man Mistress'</li><li>'Between casual acquaintances'</li><li>'Chef and Customer'</li><li>'Between frenemies'</li><li>'Native and Tourist'</li><li>'Reviewer and Writer'</li><li>'Between fans of the same sports team'</li><li>'Between a person and their crush'</li></ol>\n"
      ],
      "text/latex": [
       "\\begin{enumerate*}\n",
       "\\item 'Between strangers'\n",
       "\\item 'Celebrity and Haters'\n",
       "\\item 'Celebrity and Fans'\n",
       "\\item 'Between a person and their social media follower'\n",
       "\\item 'Between distant relatives'\n",
       "\\item 'Reader and Writer'\n",
       "\\item 'Between Facebook Friends'\n",
       "\\item 'Between second cousins'\n",
       "\\item 'Between fans of opposing sports teams'\n",
       "\\item 'Man Wife and Man Mistress'\n",
       "\\item 'Between casual acquaintances'\n",
       "\\item 'Chef and Customer'\n",
       "\\item 'Between frenemies'\n",
       "\\item 'Native and Tourist'\n",
       "\\item 'Reviewer and Writer'\n",
       "\\item 'Between fans of the same sports team'\n",
       "\\item 'Between a person and their crush'\n",
       "\\end{enumerate*}\n"
      ],
      "text/markdown": [
       "1. 'Between strangers'\n",
       "2. 'Celebrity and Haters'\n",
       "3. 'Celebrity and Fans'\n",
       "4. 'Between a person and their social media follower'\n",
       "5. 'Between distant relatives'\n",
       "6. 'Reader and Writer'\n",
       "7. 'Between Facebook Friends'\n",
       "8. 'Between second cousins'\n",
       "9. 'Between fans of opposing sports teams'\n",
       "10. 'Man Wife and Man Mistress'\n",
       "11. 'Between casual acquaintances'\n",
       "12. 'Chef and Customer'\n",
       "13. 'Between frenemies'\n",
       "14. 'Native and Tourist'\n",
       "15. 'Reviewer and Writer'\n",
       "16. 'Between fans of the same sports team'\n",
       "17. 'Between a person and their crush'\n",
       "\n",
       "\n"
      ],
      "text/plain": [
       " [1] \"Between strangers\"                               \n",
       " [2] \"Celebrity and Haters\"                            \n",
       " [3] \"Celebrity and Fans\"                              \n",
       " [4] \"Between a person and their social media follower\"\n",
       " [5] \"Between distant relatives\"                       \n",
       " [6] \"Reader and Writer\"                               \n",
       " [7] \"Between Facebook Friends\"                        \n",
       " [8] \"Between second cousins\"                          \n",
       " [9] \"Between fans of opposing sports teams\"           \n",
       "[10] \"Man Wife and Man Mistress\"                       \n",
       "[11] \"Between casual acquaintances\"                    \n",
       "[12] \"Chef and Customer\"                               \n",
       "[13] \"Between frenemies\"                               \n",
       "[14] \"Native and Tourist\"                              \n",
       "[15] \"Reviewer and Writer\"                             \n",
       "[16] \"Between fans of the same sports team\"            \n",
       "[17] \"Between a person and their crush\"                "
      ]
     },
     "metadata": {},
     "output_type": "display_data"
    }
   ],
   "source": [
    "# separate distant\n",
    "USA_diff_Distant_rel = rownames(USA_pca[order(USA_pca$Activeness),])[1:30]\n",
    "CHN_diff_Distant_rel = rownames(CHN_pca[order(CHN_pca$Activeness),])[1:30]\n",
    "\n",
    "print('USA:distant')\n",
    "USA_diff_Distant_rel\n",
    "write.csv(USA_diff_Distant_rel,'selected_rels/USA_activeness.csv')\n",
    "print('CHN:distant')\n",
    "CHN_diff_Distant_rel\n",
    "write.csv(CHN_diff_Distant_rel,'selected_rels/CHN_activeness.csv')\n",
    "print('intersection of USA and CHN: distant')\n",
    "intersect(USA_diff_Distant_rel,CHN_diff_Distant_rel)"
   ]
  },
  {
   "cell_type": "markdown",
   "id": "1d9aa445",
   "metadata": {},
   "source": [
    "# Calculate \"Activeness\" score\n",
    "\"Distant\" is divided into two types: psychological and physical.  \n",
    "Sum the weights to determine the psychological or physical score of each relationship in terms of \"Activeness\"."
   ]
  },
  {
   "cell_type": "code",
   "execution_count": 6,
   "id": "06bd3245",
   "metadata": {
    "ExecuteTime": {
     "end_time": "2023-03-22T13:56:49.334937Z",
     "start_time": "2023-03-22T13:56:49.013Z"
    },
    "vscode": {
     "languageId": "r"
    }
   },
   "outputs": [
    {
     "name": "stderr",
     "output_type": "stream",
     "text": [
      "Warning message:\n",
      "\"\u001b[1m\u001b[22mUsing `size` aesthetic for lines was deprecated in ggplot2 3.4.0.\n",
      "\u001b[36mℹ\u001b[39m Please use `linewidth` instead.\"\n"
     ]
    },
    {
     "data": {
      "image/png": "[encoded data removed]",
      "text/plain": [
       "plot without title"
      ]
     },
     "metadata": {
      "image/png": {
       "height": 420,
       "width": 960
      }
     },
     "output_type": "display_data"
    }
   ],
   "source": [
    "# 1.visualize the mean value in separate dimensions\n",
    "# abstract data required from raw data\n",
    "USA_raw_dist = USA_raw[USA_diff_Distant_rel,c(psy_dim,phy_dim)]\n",
    "CHN_raw_dist = CHN_raw[CHN_diff_Distant_rel,c(psy_dim,phy_dim)]\n",
    "\n",
    "# mean\n",
    "USA_mean = apply(USA_raw_dist,2,mean)\n",
    "CHN_mean = apply(CHN_raw_dist,2,mean)\n",
    "USA_CHN_mean = data.frame(cbind(USA_mean,CHN_mean))\n",
    "colnames(USA_CHN_mean) = c('USA','CHN')\n",
    "USA_CHN_mean$'dim' = rownames(USA_CHN_mean)\n",
    "\n",
    "\n",
    "\n",
    "USA_CHN_mean = USA_CHN_mean %>% mutate(dist_mean = case_when(\n",
    "                                        dim %in% psy_dim~'psychological',\n",
    "                                        dim %in% phy_dim~'physical'))\n",
    "\n",
    "USA_CHN_mean %>% mutate(diff = USA - CHN) %>% #calculate difference\n",
    "pivot_longer(cols = c(USA, CHN)) -> dat_mean\n",
    "colnames(dat_mean) = c('dim','dist_mean','diff','region','score')\n",
    "\n",
    "dat_mean$dist_mean <- factor(dat_mean$dist_mean, levels = c('psychological','physical'))\n",
    "\n",
    "USA <- dat_mean %>% filter(region == \"USA\")\n",
    "CHN <- dat_mean %>% filter(region == \"CHN\")\n",
    "\n",
    "#USA_CHN_mean\n",
    "my_color = c('USA'='#3C3B6E','CHN'='#DE2910')\n",
    "options(repr.plot.width = 16)\n",
    "ggplot(dat_mean)+\n",
    "geom_segment(data = CHN,aes(x = score, y = dim, yend = USA$dim, xend = USA$score),\n",
    "              color = \"#aeb6bf\",size = 6, alpha = .5) +\n",
    "geom_point(aes(x = score, y = dim, color = region), size = 8, show.legend = TRUE)+\n",
    "facet_wrap(~dist_mean,ncol=3)+\n",
    "scale_color_manual(values=my_color)+\n",
    "geom_vline(xintercept = 0,linetype='dashed',size = 1)+\n",
    "\n",
    "scale_y_discrete(limits = c(phy_dim,psy_dim))+\n",
    "\n",
    "ylab('')+\n",
    "xlab('Distant cluster relationship score')+\n",
    "theme_bw()+\n",
    "theme(strip.text = element_text(face = 'bold',size = 28),\n",
    "      axis.text.x = element_text(face = 'bold',size=28),\n",
    "      axis.text.y = element_text(face = 'bold',size=28),\n",
    "      legend.position = 'none',\n",
    "      axis.title.x = element_text(size=26, face = 'bold'))"
   ]
  },
  {
   "cell_type": "code",
   "execution_count": 7,
   "id": "48e5e1cf",
   "metadata": {
    "ExecuteTime": {
     "end_time": "2023-03-22T13:56:51.002130Z",
     "start_time": "2023-03-22T13:56:50.933Z"
    },
    "vscode": {
     "languageId": "r"
    }
   },
   "outputs": [],
   "source": [
    "################################################\n",
    "# 2.caculate Activeness score in corresponding dimensions\n",
    "# USA\n",
    "USA_weight_dist = data.frame(rel = rownames(USA_raw_dist),psy = 0, phy = 0) \n",
    "rownames(USA_weight_dist) = USA_weight_dist$rel\n",
    "\n",
    "for (rel in rownames(USA_raw_dist)){\n",
    "    weight_sum = 0 # loading score in one domain(psy/phy)\n",
    "    raw_weight_sum = 0 # sum(raw_scaled * loading score)\n",
    "    for (dim in psy_dim){\n",
    "        weight = USA_Activeness[dim,] # loading score\n",
    "        count = 1\n",
    "        weight_sum = weight_sum + count\n",
    "        raw_weight = USA_raw_dist[rel,dim]*weight # raw_scaled * loading score\n",
    "        raw_weight_sum = raw_weight_sum + raw_weight\n",
    "\n",
    "        weight_result = raw_weight_sum / weight_sum\n",
    "        weight_result = raw_weight_sum\n",
    "        USA_weight_dist[rel,'psy'] = weight_result\n",
    "    }\n",
    "}\n",
    "\n",
    "for (rel in rownames(USA_raw_dist)){\n",
    "    weight_sum = 0 \n",
    "    raw_weight_sum = 0 \n",
    "    for (dim in phy_dim){\n",
    "        weight = USA_Activeness[dim,] \n",
    "        count = 1\n",
    "        weight_sum = weight_sum + count\n",
    "        raw_weight = USA_raw_dist[rel,dim]*weight \n",
    "        raw_weight_sum = raw_weight_sum + raw_weight\n",
    "\n",
    "        weight_result = raw_weight_sum / weight_sum\n",
    "        weight_result = raw_weight_sum\n",
    "        USA_weight_dist[rel,'phy'] = weight_result\n",
    "    }\n",
    "}\n",
    "\n",
    "# print('USA')\n",
    "# apply(USA_weight_dist[c('psy','phy')],2,mean)\n",
    "\n",
    "\n",
    "# CHN\n",
    "CHN_weight_dist = data.frame(rel = rownames(CHN_raw_dist),psy = 0, phy = 0) \n",
    "rownames(CHN_weight_dist) = CHN_weight_dist$rel\n",
    "\n",
    "for (rel in rownames(CHN_raw_dist)){\n",
    "    weight_sum = 0 # loading score in one domain(psy/phy)\n",
    "    raw_weight_sum = 0 # sum(raw_scaled * loading score)\n",
    "    for (dim in psy_dim){\n",
    "        weight = CHN_Activeness[dim,] # loading score\n",
    "        count = 1\n",
    "        weight_sum = weight_sum + count\n",
    "        raw_weight = CHN_raw_dist[rel,dim]*weight # raw_scaled * loading score\n",
    "        raw_weight_sum = raw_weight_sum + raw_weight\n",
    "\n",
    "        weight_result = raw_weight_sum / weight_sum\n",
    "        weight_result = raw_weight_sum\n",
    "        CHN_weight_dist[rel,'psy'] = weight_result\n",
    "    }\n",
    "}\n",
    "\n",
    "for (rel in rownames(CHN_raw_dist)){\n",
    "    weight_sum = 0 \n",
    "    raw_weight_sum = 0 \n",
    "    for (dim in phy_dim){\n",
    "        weight = CHN_Activeness[dim,] \n",
    "        count = 1\n",
    "        weight_sum = weight_sum + count\n",
    "        raw_weight = CHN_raw_dist[rel,dim]*weight \n",
    "        raw_weight_sum = raw_weight_sum + raw_weight\n",
    "\n",
    "        weight_result = raw_weight_sum / weight_sum\n",
    "        weight_result = raw_weight_sum\n",
    "        CHN_weight_dist[rel,'phy'] = weight_result\n",
    "    }\n",
    "}\n",
    "\n",
    "# print('CHN')\n",
    "# apply(CHN_weight_dist[c('psy','phy')],2,mean)"
   ]
  },
  {
   "cell_type": "code",
   "execution_count": 8,
   "id": "480232ea",
   "metadata": {
    "ExecuteTime": {
     "end_time": "2023-03-22T13:35:44.228741Z",
     "start_time": "2023-03-22T13:35:44.165Z"
    },
    "vscode": {
     "languageId": "r"
    }
   },
   "outputs": [
    {
     "data": {
      "text/html": [
       "<table class=\"dataframe\">\n",
       "<caption>A data.frame: 30 × 3</caption>\n",
       "<thead>\n",
       "\t<tr><th></th><th scope=col>rel</th><th scope=col>psy</th><th scope=col>phy</th></tr>\n",
       "\t<tr><th></th><th scope=col>&lt;chr&gt;</th><th scope=col>&lt;dbl&gt;</th><th scope=col>&lt;dbl&gt;</th></tr>\n",
       "</thead>\n",
       "<tbody>\n",
       "\t<tr><th scope=row>Between strangers</th><td>Between strangers                               </td><td>-2.91920697</td><td>-4.8697494</td></tr>\n",
       "\t<tr><th scope=row>Celebrity and Haters</th><td>Celebrity and Haters                            </td><td>-2.54066880</td><td>-4.7837123</td></tr>\n",
       "\t<tr><th scope=row>Between a person and their deceased spouse</th><td>Between a person and their deceased spouse      </td><td> 2.09533148</td><td>-4.5991102</td></tr>\n",
       "\t<tr><th scope=row>Celebrity and Fans</th><td>Celebrity and Fans                              </td><td>-1.12204014</td><td>-4.2505084</td></tr>\n",
       "\t<tr><th scope=row>Between ex-lovers</th><td>Between ex-lovers                               </td><td>-0.74311566</td><td>-4.1645471</td></tr>\n",
       "\t<tr><th scope=row>Ancestor and Descendant</th><td>Ancestor and Descendant                         </td><td>-0.30044532</td><td>-4.7872415</td></tr>\n",
       "\t<tr><th scope=row>Between a person and their social media follower</th><td>Between a person and their social media follower</td><td>-0.95717055</td><td>-3.0903611</td></tr>\n",
       "\t<tr><th scope=row>Between distant relatives</th><td>Between distant relatives                       </td><td>-0.95879801</td><td>-3.4728400</td></tr>\n",
       "\t<tr><th scope=row>Reader and Writer</th><td>Reader and Writer                               </td><td>-0.63529506</td><td>-4.5359750</td></tr>\n",
       "\t<tr><th scope=row>Between pen-friends</th><td>Between pen-friends                             </td><td> 0.52130785</td><td>-2.6194783</td></tr>\n",
       "\t<tr><th scope=row>Between Facebook Friends</th><td>Between Facebook Friends                        </td><td>-0.04526574</td><td>-2.8539486</td></tr>\n",
       "\t<tr><th scope=row>Between divorced spouses</th><td>Between divorced spouses                        </td><td>-0.98750890</td><td>-3.7400231</td></tr>\n",
       "\t<tr><th scope=row>Between alumni</th><td>Between alumni                                  </td><td>-1.13570029</td><td>-3.1561703</td></tr>\n",
       "\t<tr><th scope=row>Between second cousins</th><td>Between second cousins                          </td><td> 0.43715402</td><td>-2.5940322</td></tr>\n",
       "\t<tr><th scope=row>Between fans of opposing sports teams</th><td>Between fans of opposing sports teams           </td><td>-2.45150972</td><td>-2.3030544</td></tr>\n",
       "\t<tr><th scope=row>Man Wife and Man Mistress</th><td>Man Wife and Man Mistress                       </td><td>-0.60799773</td><td>-1.9344173</td></tr>\n",
       "\t<tr><th scope=row>Between casual acquaintances</th><td>Between casual acquaintances                    </td><td>-1.25252387</td><td>-1.5696543</td></tr>\n",
       "\t<tr><th scope=row>Chef and Customer</th><td>Chef and Customer                               </td><td>-2.09944896</td><td>-1.4650227</td></tr>\n",
       "\t<tr><th scope=row>Between frenemies</th><td>Between frenemies                               </td><td>-0.74461601</td><td>-2.4273949</td></tr>\n",
       "\t<tr><th scope=row>Between business rivals</th><td>Between business rivals                         </td><td>-1.83278927</td><td>-2.7784361</td></tr>\n",
       "\t<tr><th scope=row>Between long-distance lovers</th><td>Between long-distance lovers                    </td><td> 2.48216598</td><td>-2.5025075</td></tr>\n",
       "\t<tr><th scope=row>Native and Tourist</th><td>Native and Tourist                              </td><td>-1.86348327</td><td>-0.8609431</td></tr>\n",
       "\t<tr><th scope=row>Between cousins</th><td>Between cousins                                 </td><td> 0.81340816</td><td>-1.8334213</td></tr>\n",
       "\t<tr><th scope=row>Politician and Supporter</th><td>Politician and Supporter                        </td><td>-0.82119033</td><td>-1.7429406</td></tr>\n",
       "\t<tr><th scope=row>Reviewer and Writer</th><td>Reviewer and Writer                             </td><td>-0.77451550</td><td>-2.4315637</td></tr>\n",
       "\t<tr><th scope=row>Between fans of the same sports team</th><td>Between fans of the same sports team            </td><td>-0.56438065</td><td>-0.3928871</td></tr>\n",
       "\t<tr><th scope=row>Between enemies</th><td>Between enemies                                 </td><td>-1.79862161</td><td>-1.5464518</td></tr>\n",
       "\t<tr><th scope=row>Victim and Criminal</th><td>Victim and Criminal                             </td><td>-2.10731801</td><td>-1.1530652</td></tr>\n",
       "\t<tr><th scope=row>Between a person and their crush</th><td>Between a person and their crush                </td><td> 1.51908707</td><td>-1.6344528</td></tr>\n",
       "\t<tr><th scope=row>Landlord and Housekeeper</th><td>Landlord and Housekeeper                        </td><td>-1.53589706</td><td>-1.1129944</td></tr>\n",
       "</tbody>\n",
       "</table>\n"
      ],
      "text/latex": [
       "A data.frame: 30 × 3\n",
       "\\begin{tabular}{r|lll}\n",
       "  & rel & psy & phy\\\\\n",
       "  & <chr> & <dbl> & <dbl>\\\\\n",
       "\\hline\n",
       "\tBetween strangers & Between strangers                                & -2.91920697 & -4.8697494\\\\\n",
       "\tCelebrity and Haters & Celebrity and Haters                             & -2.54066880 & -4.7837123\\\\\n",
       "\tBetween a person and their deceased spouse & Between a person and their deceased spouse       &  2.09533148 & -4.5991102\\\\\n",
       "\tCelebrity and Fans & Celebrity and Fans                               & -1.12204014 & -4.2505084\\\\\n",
       "\tBetween ex-lovers & Between ex-lovers                                & -0.74311566 & -4.1645471\\\\\n",
       "\tAncestor and Descendant & Ancestor and Descendant                          & -0.30044532 & -4.7872415\\\\\n",
       "\tBetween a person and their social media follower & Between a person and their social media follower & -0.95717055 & -3.0903611\\\\\n",
       "\tBetween distant relatives & Between distant relatives                        & -0.95879801 & -3.4728400\\\\\n",
       "\tReader and Writer & Reader and Writer                                & -0.63529506 & -4.5359750\\\\\n",
       "\tBetween pen-friends & Between pen-friends                              &  0.52130785 & -2.6194783\\\\\n",
       "\tBetween Facebook Friends & Between Facebook Friends                         & -0.04526574 & -2.8539486\\\\\n",
       "\tBetween divorced spouses & Between divorced spouses                         & -0.98750890 & -3.7400231\\\\\n",
       "\tBetween alumni & Between alumni                                   & -1.13570029 & -3.1561703\\\\\n",
       "\tBetween second cousins & Between second cousins                           &  0.43715402 & -2.5940322\\\\\n",
       "\tBetween fans of opposing sports teams & Between fans of opposing sports teams            & -2.45150972 & -2.3030544\\\\\n",
       "\tMan Wife and Man Mistress & Man Wife and Man Mistress                        & -0.60799773 & -1.9344173\\\\\n",
       "\tBetween casual acquaintances & Between casual acquaintances                     & -1.25252387 & -1.5696543\\\\\n",
       "\tChef and Customer & Chef and Customer                                & -2.09944896 & -1.4650227\\\\\n",
       "\tBetween frenemies & Between frenemies                                & -0.74461601 & -2.4273949\\\\\n",
       "\tBetween business rivals & Between business rivals                          & -1.83278927 & -2.7784361\\\\\n",
       "\tBetween long-distance lovers & Between long-distance lovers                     &  2.48216598 & -2.5025075\\\\\n",
       "\tNative and Tourist & Native and Tourist                               & -1.86348327 & -0.8609431\\\\\n",
       "\tBetween cousins & Between cousins                                  &  0.81340816 & -1.8334213\\\\\n",
       "\tPolitician and Supporter & Politician and Supporter                         & -0.82119033 & -1.7429406\\\\\n",
       "\tReviewer and Writer & Reviewer and Writer                              & -0.77451550 & -2.4315637\\\\\n",
       "\tBetween fans of the same sports team & Between fans of the same sports team             & -0.56438065 & -0.3928871\\\\\n",
       "\tBetween enemies & Between enemies                                  & -1.79862161 & -1.5464518\\\\\n",
       "\tVictim and Criminal & Victim and Criminal                              & -2.10731801 & -1.1530652\\\\\n",
       "\tBetween a person and their crush & Between a person and their crush                 &  1.51908707 & -1.6344528\\\\\n",
       "\tLandlord and Housekeeper & Landlord and Housekeeper                         & -1.53589706 & -1.1129944\\\\\n",
       "\\end{tabular}\n"
      ],
      "text/markdown": [
       "\n",
       "A data.frame: 30 × 3\n",
       "\n",
       "| <!--/--> | rel &lt;chr&gt; | psy &lt;dbl&gt; | phy &lt;dbl&gt; |\n",
       "|---|---|---|---|\n",
       "| Between strangers | Between strangers                                | -2.91920697 | -4.8697494 |\n",
       "| Celebrity and Haters | Celebrity and Haters                             | -2.54066880 | -4.7837123 |\n",
       "| Between a person and their deceased spouse | Between a person and their deceased spouse       |  2.09533148 | -4.5991102 |\n",
       "| Celebrity and Fans | Celebrity and Fans                               | -1.12204014 | -4.2505084 |\n",
       "| Between ex-lovers | Between ex-lovers                                | -0.74311566 | -4.1645471 |\n",
       "| Ancestor and Descendant | Ancestor and Descendant                          | -0.30044532 | -4.7872415 |\n",
       "| Between a person and their social media follower | Between a person and their social media follower | -0.95717055 | -3.0903611 |\n",
       "| Between distant relatives | Between distant relatives                        | -0.95879801 | -3.4728400 |\n",
       "| Reader and Writer | Reader and Writer                                | -0.63529506 | -4.5359750 |\n",
       "| Between pen-friends | Between pen-friends                              |  0.52130785 | -2.6194783 |\n",
       "| Between Facebook Friends | Between Facebook Friends                         | -0.04526574 | -2.8539486 |\n",
       "| Between divorced spouses | Between divorced spouses                         | -0.98750890 | -3.7400231 |\n",
       "| Between alumni | Between alumni                                   | -1.13570029 | -3.1561703 |\n",
       "| Between second cousins | Between second cousins                           |  0.43715402 | -2.5940322 |\n",
       "| Between fans of opposing sports teams | Between fans of opposing sports teams            | -2.45150972 | -2.3030544 |\n",
       "| Man Wife and Man Mistress | Man Wife and Man Mistress                        | -0.60799773 | -1.9344173 |\n",
       "| Between casual acquaintances | Between casual acquaintances                     | -1.25252387 | -1.5696543 |\n",
       "| Chef and Customer | Chef and Customer                                | -2.09944896 | -1.4650227 |\n",
       "| Between frenemies | Between frenemies                                | -0.74461601 | -2.4273949 |\n",
       "| Between business rivals | Between business rivals                          | -1.83278927 | -2.7784361 |\n",
       "| Between long-distance lovers | Between long-distance lovers                     |  2.48216598 | -2.5025075 |\n",
       "| Native and Tourist | Native and Tourist                               | -1.86348327 | -0.8609431 |\n",
       "| Between cousins | Between cousins                                  |  0.81340816 | -1.8334213 |\n",
       "| Politician and Supporter | Politician and Supporter                         | -0.82119033 | -1.7429406 |\n",
       "| Reviewer and Writer | Reviewer and Writer                              | -0.77451550 | -2.4315637 |\n",
       "| Between fans of the same sports team | Between fans of the same sports team             | -0.56438065 | -0.3928871 |\n",
       "| Between enemies | Between enemies                                  | -1.79862161 | -1.5464518 |\n",
       "| Victim and Criminal | Victim and Criminal                              | -2.10731801 | -1.1530652 |\n",
       "| Between a person and their crush | Between a person and their crush                 |  1.51908707 | -1.6344528 |\n",
       "| Landlord and Housekeeper | Landlord and Housekeeper                         | -1.53589706 | -1.1129944 |\n",
       "\n"
      ],
      "text/plain": [
       "                                                 rel                                             \n",
       "Between strangers                                Between strangers                               \n",
       "Celebrity and Haters                             Celebrity and Haters                            \n",
       "Between a person and their deceased spouse       Between a person and their deceased spouse      \n",
       "Celebrity and Fans                               Celebrity and Fans                              \n",
       "Between ex-lovers                                Between ex-lovers                               \n",
       "Ancestor and Descendant                          Ancestor and Descendant                         \n",
       "Between a person and their social media follower Between a person and their social media follower\n",
       "Between distant relatives                        Between distant relatives                       \n",
       "Reader and Writer                                Reader and Writer                               \n",
       "Between pen-friends                              Between pen-friends                             \n",
       "Between Facebook Friends                         Between Facebook Friends                        \n",
       "Between divorced spouses                         Between divorced spouses                        \n",
       "Between alumni                                   Between alumni                                  \n",
       "Between second cousins                           Between second cousins                          \n",
       "Between fans of opposing sports teams            Between fans of opposing sports teams           \n",
       "Man Wife and Man Mistress                        Man Wife and Man Mistress                       \n",
       "Between casual acquaintances                     Between casual acquaintances                    \n",
       "Chef and Customer                                Chef and Customer                               \n",
       "Between frenemies                                Between frenemies                               \n",
       "Between business rivals                          Between business rivals                         \n",
       "Between long-distance lovers                     Between long-distance lovers                    \n",
       "Native and Tourist                               Native and Tourist                              \n",
       "Between cousins                                  Between cousins                                 \n",
       "Politician and Supporter                         Politician and Supporter                        \n",
       "Reviewer and Writer                              Reviewer and Writer                             \n",
       "Between fans of the same sports team             Between fans of the same sports team            \n",
       "Between enemies                                  Between enemies                                 \n",
       "Victim and Criminal                              Victim and Criminal                             \n",
       "Between a person and their crush                 Between a person and their crush                \n",
       "Landlord and Housekeeper                         Landlord and Housekeeper                        \n",
       "                                                 psy         phy       \n",
       "Between strangers                                -2.91920697 -4.8697494\n",
       "Celebrity and Haters                             -2.54066880 -4.7837123\n",
       "Between a person and their deceased spouse        2.09533148 -4.5991102\n",
       "Celebrity and Fans                               -1.12204014 -4.2505084\n",
       "Between ex-lovers                                -0.74311566 -4.1645471\n",
       "Ancestor and Descendant                          -0.30044532 -4.7872415\n",
       "Between a person and their social media follower -0.95717055 -3.0903611\n",
       "Between distant relatives                        -0.95879801 -3.4728400\n",
       "Reader and Writer                                -0.63529506 -4.5359750\n",
       "Between pen-friends                               0.52130785 -2.6194783\n",
       "Between Facebook Friends                         -0.04526574 -2.8539486\n",
       "Between divorced spouses                         -0.98750890 -3.7400231\n",
       "Between alumni                                   -1.13570029 -3.1561703\n",
       "Between second cousins                            0.43715402 -2.5940322\n",
       "Between fans of opposing sports teams            -2.45150972 -2.3030544\n",
       "Man Wife and Man Mistress                        -0.60799773 -1.9344173\n",
       "Between casual acquaintances                     -1.25252387 -1.5696543\n",
       "Chef and Customer                                -2.09944896 -1.4650227\n",
       "Between frenemies                                -0.74461601 -2.4273949\n",
       "Between business rivals                          -1.83278927 -2.7784361\n",
       "Between long-distance lovers                      2.48216598 -2.5025075\n",
       "Native and Tourist                               -1.86348327 -0.8609431\n",
       "Between cousins                                   0.81340816 -1.8334213\n",
       "Politician and Supporter                         -0.82119033 -1.7429406\n",
       "Reviewer and Writer                              -0.77451550 -2.4315637\n",
       "Between fans of the same sports team             -0.56438065 -0.3928871\n",
       "Between enemies                                  -1.79862161 -1.5464518\n",
       "Victim and Criminal                              -2.10731801 -1.1530652\n",
       "Between a person and their crush                  1.51908707 -1.6344528\n",
       "Landlord and Housekeeper                         -1.53589706 -1.1129944"
      ]
     },
     "metadata": {},
     "output_type": "display_data"
    },
    {
     "data": {
      "text/html": [
       "<table class=\"dataframe\">\n",
       "<caption>A data.frame: 30 × 3</caption>\n",
       "<thead>\n",
       "\t<tr><th></th><th scope=col>rel</th><th scope=col>psy</th><th scope=col>phy</th></tr>\n",
       "\t<tr><th></th><th scope=col>&lt;chr&gt;</th><th scope=col>&lt;dbl&gt;</th><th scope=col>&lt;dbl&gt;</th></tr>\n",
       "</thead>\n",
       "<tbody>\n",
       "\t<tr><th scope=row>Between strangers</th><td>Between strangers                               </td><td>-3.9136863</td><td>-3.65549735</td></tr>\n",
       "\t<tr><th scope=row>Between casual acquaintances</th><td>Between casual acquaintances                    </td><td>-2.3238540</td><td>-2.70187620</td></tr>\n",
       "\t<tr><th scope=row>Native and Tourist</th><td>Native and Tourist                              </td><td>-2.8210793</td><td>-2.08054996</td></tr>\n",
       "\t<tr><th scope=row>Man and God</th><td>Man and God                                     </td><td>-0.2747061</td><td>-3.10936701</td></tr>\n",
       "\t<tr><th scope=row>Reader and Writer</th><td>Reader and Writer                               </td><td>-0.3948203</td><td>-2.48882880</td></tr>\n",
       "\t<tr><th scope=row>Between a person and their social media follower</th><td>Between a person and their social media follower</td><td>-0.5879737</td><td>-1.72289167</td></tr>\n",
       "\t<tr><th scope=row>Between Facebook Friends</th><td>Between Facebook Friends                        </td><td>-0.6546249</td><td>-2.12949887</td></tr>\n",
       "\t<tr><th scope=row>Between distant relatives</th><td>Between distant relatives                       </td><td>-0.3984486</td><td>-2.55512098</td></tr>\n",
       "\t<tr><th scope=row>Celebrity and Fans</th><td>Celebrity and Fans                              </td><td>-0.2168127</td><td>-1.70316849</td></tr>\n",
       "\t<tr><th scope=row>Chef and Customer</th><td>Chef and Customer                               </td><td>-1.7503473</td><td>-1.32069552</td></tr>\n",
       "\t<tr><th scope=row>Reviewer and Writer</th><td>Reviewer and Writer                             </td><td>-1.8321216</td><td>-2.25911018</td></tr>\n",
       "\t<tr><th scope=row>Between a person and their family friends</th><td>Between a person and their family friends       </td><td>-0.3259193</td><td>-1.35762754</td></tr>\n",
       "\t<tr><th scope=row>Between frenemies</th><td>Between frenemies                               </td><td>-3.5062234</td><td>-2.02895488</td></tr>\n",
       "\t<tr><th scope=row>Driver and Passenger</th><td>Driver and Passenger                            </td><td>-2.5258014</td><td> 0.16465602</td></tr>\n",
       "\t<tr><th scope=row>Predecessor and Successor</th><td>Predecessor and Successor                       </td><td>-2.8140269</td><td>-2.36128772</td></tr>\n",
       "\t<tr><th scope=row>Between fans of opposing sports teams</th><td>Between fans of opposing sports teams           </td><td>-3.2716177</td><td>-1.68787869</td></tr>\n",
       "\t<tr><th scope=row>Man Wife and Man Mistress</th><td>Man Wife and Man Mistress                       </td><td>-3.2691106</td><td>-2.70220670</td></tr>\n",
       "\t<tr><th scope=row>Between fans of the same sports team</th><td>Between fans of the same sports team            </td><td>-0.3328367</td><td>-0.05410078</td></tr>\n",
       "\t<tr><th scope=row>Celebrity and Haters</th><td>Celebrity and Haters                            </td><td>-3.0851890</td><td>-2.25544860</td></tr>\n",
       "\t<tr><th scope=row>Student and Dorm Resident assistant</th><td>Student and Dorm Resident assistant             </td><td>-1.1671625</td><td>-0.32819237</td></tr>\n",
       "\t<tr><th scope=row>Between second cousins</th><td>Between second cousins                          </td><td> 0.5664594</td><td>-1.68106897</td></tr>\n",
       "\t<tr><th scope=row>Performer and Audience</th><td>Performer and Audience                          </td><td>-0.9636991</td><td> 1.17548516</td></tr>\n",
       "\t<tr><th scope=row>Between a person and their crush</th><td>Between a person and their crush                </td><td> 1.2722600</td><td>-1.19817943</td></tr>\n",
       "\t<tr><th scope=row>Judge and Contestant</th><td>Judge and Contestant                            </td><td>-2.6353696</td><td> 0.26760550</td></tr>\n",
       "\t<tr><th scope=row>Television host and Guest</th><td>Television host and Guest                       </td><td>-1.5522956</td><td>-0.05942623</td></tr>\n",
       "\t<tr><th scope=row>Customer and Businessman</th><td>Customer and Businessman                        </td><td>-1.3010023</td><td>-0.18718625</td></tr>\n",
       "\t<tr><th scope=row>Between romantic rivals</th><td>Between romantic rivals                         </td><td>-3.0141502</td><td>-1.42996367</td></tr>\n",
       "\t<tr><th scope=row>Between companions</th><td>Between companions                              </td><td>-0.3132211</td><td> 0.43320245</td></tr>\n",
       "\t<tr><th scope=row>Representative and Citizen</th><td>Representative and Citizen                      </td><td> 0.3201535</td><td>-0.96998415</td></tr>\n",
       "\t<tr><th scope=row>Dealer and Buyer</th><td>Dealer and Buyer                                </td><td>-1.7228478</td><td>-0.81729931</td></tr>\n",
       "</tbody>\n",
       "</table>\n"
      ],
      "text/latex": [
       "A data.frame: 30 × 3\n",
       "\\begin{tabular}{r|lll}\n",
       "  & rel & psy & phy\\\\\n",
       "  & <chr> & <dbl> & <dbl>\\\\\n",
       "\\hline\n",
       "\tBetween strangers & Between strangers                                & -3.9136863 & -3.65549735\\\\\n",
       "\tBetween casual acquaintances & Between casual acquaintances                     & -2.3238540 & -2.70187620\\\\\n",
       "\tNative and Tourist & Native and Tourist                               & -2.8210793 & -2.08054996\\\\\n",
       "\tMan and God & Man and God                                      & -0.2747061 & -3.10936701\\\\\n",
       "\tReader and Writer & Reader and Writer                                & -0.3948203 & -2.48882880\\\\\n",
       "\tBetween a person and their social media follower & Between a person and their social media follower & -0.5879737 & -1.72289167\\\\\n",
       "\tBetween Facebook Friends & Between Facebook Friends                         & -0.6546249 & -2.12949887\\\\\n",
       "\tBetween distant relatives & Between distant relatives                        & -0.3984486 & -2.55512098\\\\\n",
       "\tCelebrity and Fans & Celebrity and Fans                               & -0.2168127 & -1.70316849\\\\\n",
       "\tChef and Customer & Chef and Customer                                & -1.7503473 & -1.32069552\\\\\n",
       "\tReviewer and Writer & Reviewer and Writer                              & -1.8321216 & -2.25911018\\\\\n",
       "\tBetween a person and their family friends & Between a person and their family friends        & -0.3259193 & -1.35762754\\\\\n",
       "\tBetween frenemies & Between frenemies                                & -3.5062234 & -2.02895488\\\\\n",
       "\tDriver and Passenger & Driver and Passenger                             & -2.5258014 &  0.16465602\\\\\n",
       "\tPredecessor and Successor & Predecessor and Successor                        & -2.8140269 & -2.36128772\\\\\n",
       "\tBetween fans of opposing sports teams & Between fans of opposing sports teams            & -3.2716177 & -1.68787869\\\\\n",
       "\tMan Wife and Man Mistress & Man Wife and Man Mistress                        & -3.2691106 & -2.70220670\\\\\n",
       "\tBetween fans of the same sports team & Between fans of the same sports team             & -0.3328367 & -0.05410078\\\\\n",
       "\tCelebrity and Haters & Celebrity and Haters                             & -3.0851890 & -2.25544860\\\\\n",
       "\tStudent and Dorm Resident assistant & Student and Dorm Resident assistant              & -1.1671625 & -0.32819237\\\\\n",
       "\tBetween second cousins & Between second cousins                           &  0.5664594 & -1.68106897\\\\\n",
       "\tPerformer and Audience & Performer and Audience                           & -0.9636991 &  1.17548516\\\\\n",
       "\tBetween a person and their crush & Between a person and their crush                 &  1.2722600 & -1.19817943\\\\\n",
       "\tJudge and Contestant & Judge and Contestant                             & -2.6353696 &  0.26760550\\\\\n",
       "\tTelevision host and Guest & Television host and Guest                        & -1.5522956 & -0.05942623\\\\\n",
       "\tCustomer and Businessman & Customer and Businessman                         & -1.3010023 & -0.18718625\\\\\n",
       "\tBetween romantic rivals & Between romantic rivals                          & -3.0141502 & -1.42996367\\\\\n",
       "\tBetween companions & Between companions                               & -0.3132211 &  0.43320245\\\\\n",
       "\tRepresentative and Citizen & Representative and Citizen                       &  0.3201535 & -0.96998415\\\\\n",
       "\tDealer and Buyer & Dealer and Buyer                                 & -1.7228478 & -0.81729931\\\\\n",
       "\\end{tabular}\n"
      ],
      "text/markdown": [
       "\n",
       "A data.frame: 30 × 3\n",
       "\n",
       "| <!--/--> | rel &lt;chr&gt; | psy &lt;dbl&gt; | phy &lt;dbl&gt; |\n",
       "|---|---|---|---|\n",
       "| Between strangers | Between strangers                                | -3.9136863 | -3.65549735 |\n",
       "| Between casual acquaintances | Between casual acquaintances                     | -2.3238540 | -2.70187620 |\n",
       "| Native and Tourist | Native and Tourist                               | -2.8210793 | -2.08054996 |\n",
       "| Man and God | Man and God                                      | -0.2747061 | -3.10936701 |\n",
       "| Reader and Writer | Reader and Writer                                | -0.3948203 | -2.48882880 |\n",
       "| Between a person and their social media follower | Between a person and their social media follower | -0.5879737 | -1.72289167 |\n",
       "| Between Facebook Friends | Between Facebook Friends                         | -0.6546249 | -2.12949887 |\n",
       "| Between distant relatives | Between distant relatives                        | -0.3984486 | -2.55512098 |\n",
       "| Celebrity and Fans | Celebrity and Fans                               | -0.2168127 | -1.70316849 |\n",
       "| Chef and Customer | Chef and Customer                                | -1.7503473 | -1.32069552 |\n",
       "| Reviewer and Writer | Reviewer and Writer                              | -1.8321216 | -2.25911018 |\n",
       "| Between a person and their family friends | Between a person and their family friends        | -0.3259193 | -1.35762754 |\n",
       "| Between frenemies | Between frenemies                                | -3.5062234 | -2.02895488 |\n",
       "| Driver and Passenger | Driver and Passenger                             | -2.5258014 |  0.16465602 |\n",
       "| Predecessor and Successor | Predecessor and Successor                        | -2.8140269 | -2.36128772 |\n",
       "| Between fans of opposing sports teams | Between fans of opposing sports teams            | -3.2716177 | -1.68787869 |\n",
       "| Man Wife and Man Mistress | Man Wife and Man Mistress                        | -3.2691106 | -2.70220670 |\n",
       "| Between fans of the same sports team | Between fans of the same sports team             | -0.3328367 | -0.05410078 |\n",
       "| Celebrity and Haters | Celebrity and Haters                             | -3.0851890 | -2.25544860 |\n",
       "| Student and Dorm Resident assistant | Student and Dorm Resident assistant              | -1.1671625 | -0.32819237 |\n",
       "| Between second cousins | Between second cousins                           |  0.5664594 | -1.68106897 |\n",
       "| Performer and Audience | Performer and Audience                           | -0.9636991 |  1.17548516 |\n",
       "| Between a person and their crush | Between a person and their crush                 |  1.2722600 | -1.19817943 |\n",
       "| Judge and Contestant | Judge and Contestant                             | -2.6353696 |  0.26760550 |\n",
       "| Television host and Guest | Television host and Guest                        | -1.5522956 | -0.05942623 |\n",
       "| Customer and Businessman | Customer and Businessman                         | -1.3010023 | -0.18718625 |\n",
       "| Between romantic rivals | Between romantic rivals                          | -3.0141502 | -1.42996367 |\n",
       "| Between companions | Between companions                               | -0.3132211 |  0.43320245 |\n",
       "| Representative and Citizen | Representative and Citizen                       |  0.3201535 | -0.96998415 |\n",
       "| Dealer and Buyer | Dealer and Buyer                                 | -1.7228478 | -0.81729931 |\n",
       "\n"
      ],
      "text/plain": [
       "                                                 rel                                             \n",
       "Between strangers                                Between strangers                               \n",
       "Between casual acquaintances                     Between casual acquaintances                    \n",
       "Native and Tourist                               Native and Tourist                              \n",
       "Man and God                                      Man and God                                     \n",
       "Reader and Writer                                Reader and Writer                               \n",
       "Between a person and their social media follower Between a person and their social media follower\n",
       "Between Facebook Friends                         Between Facebook Friends                        \n",
       "Between distant relatives                        Between distant relatives                       \n",
       "Celebrity and Fans                               Celebrity and Fans                              \n",
       "Chef and Customer                                Chef and Customer                               \n",
       "Reviewer and Writer                              Reviewer and Writer                             \n",
       "Between a person and their family friends        Between a person and their family friends       \n",
       "Between frenemies                                Between frenemies                               \n",
       "Driver and Passenger                             Driver and Passenger                            \n",
       "Predecessor and Successor                        Predecessor and Successor                       \n",
       "Between fans of opposing sports teams            Between fans of opposing sports teams           \n",
       "Man Wife and Man Mistress                        Man Wife and Man Mistress                       \n",
       "Between fans of the same sports team             Between fans of the same sports team            \n",
       "Celebrity and Haters                             Celebrity and Haters                            \n",
       "Student and Dorm Resident assistant              Student and Dorm Resident assistant             \n",
       "Between second cousins                           Between second cousins                          \n",
       "Performer and Audience                           Performer and Audience                          \n",
       "Between a person and their crush                 Between a person and their crush                \n",
       "Judge and Contestant                             Judge and Contestant                            \n",
       "Television host and Guest                        Television host and Guest                       \n",
       "Customer and Businessman                         Customer and Businessman                        \n",
       "Between romantic rivals                          Between romantic rivals                         \n",
       "Between companions                               Between companions                              \n",
       "Representative and Citizen                       Representative and Citizen                      \n",
       "Dealer and Buyer                                 Dealer and Buyer                                \n",
       "                                                 psy        phy        \n",
       "Between strangers                                -3.9136863 -3.65549735\n",
       "Between casual acquaintances                     -2.3238540 -2.70187620\n",
       "Native and Tourist                               -2.8210793 -2.08054996\n",
       "Man and God                                      -0.2747061 -3.10936701\n",
       "Reader and Writer                                -0.3948203 -2.48882880\n",
       "Between a person and their social media follower -0.5879737 -1.72289167\n",
       "Between Facebook Friends                         -0.6546249 -2.12949887\n",
       "Between distant relatives                        -0.3984486 -2.55512098\n",
       "Celebrity and Fans                               -0.2168127 -1.70316849\n",
       "Chef and Customer                                -1.7503473 -1.32069552\n",
       "Reviewer and Writer                              -1.8321216 -2.25911018\n",
       "Between a person and their family friends        -0.3259193 -1.35762754\n",
       "Between frenemies                                -3.5062234 -2.02895488\n",
       "Driver and Passenger                             -2.5258014  0.16465602\n",
       "Predecessor and Successor                        -2.8140269 -2.36128772\n",
       "Between fans of opposing sports teams            -3.2716177 -1.68787869\n",
       "Man Wife and Man Mistress                        -3.2691106 -2.70220670\n",
       "Between fans of the same sports team             -0.3328367 -0.05410078\n",
       "Celebrity and Haters                             -3.0851890 -2.25544860\n",
       "Student and Dorm Resident assistant              -1.1671625 -0.32819237\n",
       "Between second cousins                            0.5664594 -1.68106897\n",
       "Performer and Audience                           -0.9636991  1.17548516\n",
       "Between a person and their crush                  1.2722600 -1.19817943\n",
       "Judge and Contestant                             -2.6353696  0.26760550\n",
       "Television host and Guest                        -1.5522956 -0.05942623\n",
       "Customer and Businessman                         -1.3010023 -0.18718625\n",
       "Between romantic rivals                          -3.0141502 -1.42996367\n",
       "Between companions                               -0.3132211  0.43320245\n",
       "Representative and Citizen                        0.3201535 -0.96998415\n",
       "Dealer and Buyer                                 -1.7228478 -0.81729931"
      ]
     },
     "metadata": {},
     "output_type": "display_data"
    }
   ],
   "source": [
    "USA_weight_dist\n",
    "CHN_weight_dist"
   ]
  },
  {
   "cell_type": "markdown",
   "id": "0e1547e1",
   "metadata": {},
   "source": [
    "# ANOVA"
   ]
  },
  {
   "cell_type": "code",
   "execution_count": 10,
   "id": "f33ec87a",
   "metadata": {
    "ExecuteTime": {
     "end_time": "2023-03-22T13:56:55.413734Z",
     "start_time": "2023-03-22T13:56:54.349Z"
    },
    "vscode": {
     "languageId": "r"
    }
   },
   "outputs": [
    {
     "name": "stderr",
     "output_type": "stream",
     "text": [
      "Warning message:\n",
      "\"The 'wid' column contains duplicate ids across between-subjects variables. Automatic unique id will be created\"\n"
     ]
    },
    {
     "data": {
      "text/html": [
       "<table class=\"dataframe\">\n",
       "<caption>A anova_test: 3 × 7</caption>\n",
       "<thead>\n",
       "\t<tr><th></th><th scope=col>Effect</th><th scope=col>DFn</th><th scope=col>DFd</th><th scope=col>F</th><th scope=col>p</th><th scope=col>p&lt;.05</th><th scope=col>pes</th></tr>\n",
       "\t<tr><th></th><th scope=col>&lt;chr&gt;</th><th scope=col>&lt;dbl&gt;</th><th scope=col>&lt;dbl&gt;</th><th scope=col>&lt;dbl&gt;</th><th scope=col>&lt;dbl&gt;</th><th scope=col>&lt;chr&gt;</th><th scope=col>&lt;dbl&gt;</th></tr>\n",
       "</thead>\n",
       "<tbody>\n",
       "\t<tr><th scope=row>1</th><td>region        </td><td>1</td><td>58</td><td> 1.242</td><td>2.70e-01</td><td> </td><td>0.021</td></tr>\n",
       "\t<tr><th scope=row>2</th><td>meaning       </td><td>1</td><td>58</td><td>17.769</td><td>8.84e-05</td><td>*</td><td>0.235</td></tr>\n",
       "\t<tr><th scope=row>3</th><td>region:meaning</td><td>1</td><td>58</td><td>20.393</td><td>3.14e-05</td><td>*</td><td>0.260</td></tr>\n",
       "</tbody>\n",
       "</table>\n"
      ],
      "text/latex": [
       "A anova\\_test: 3 × 7\n",
       "\\begin{tabular}{r|lllllll}\n",
       "  & Effect & DFn & DFd & F & p & p<.05 & pes\\\\\n",
       "  & <chr> & <dbl> & <dbl> & <dbl> & <dbl> & <chr> & <dbl>\\\\\n",
       "\\hline\n",
       "\t1 & region         & 1 & 58 &  1.242 & 2.70e-01 &   & 0.021\\\\\n",
       "\t2 & meaning        & 1 & 58 & 17.769 & 8.84e-05 & * & 0.235\\\\\n",
       "\t3 & region:meaning & 1 & 58 & 20.393 & 3.14e-05 & * & 0.260\\\\\n",
       "\\end{tabular}\n"
      ],
      "text/markdown": [
       "\n",
       "A anova_test: 3 × 7\n",
       "\n",
       "| <!--/--> | Effect &lt;chr&gt; | DFn &lt;dbl&gt; | DFd &lt;dbl&gt; | F &lt;dbl&gt; | p &lt;dbl&gt; | p&lt;.05 &lt;chr&gt; | pes &lt;dbl&gt; |\n",
       "|---|---|---|---|---|---|---|---|\n",
       "| 1 | region         | 1 | 58 |  1.242 | 2.70e-01 | <!----> | 0.021 |\n",
       "| 2 | meaning        | 1 | 58 | 17.769 | 8.84e-05 | * | 0.235 |\n",
       "| 3 | region:meaning | 1 | 58 | 20.393 | 3.14e-05 | * | 0.260 |\n",
       "\n"
      ],
      "text/plain": [
       "  Effect         DFn DFd F      p        p<.05 pes  \n",
       "1 region         1   58   1.242 2.70e-01       0.021\n",
       "2 meaning        1   58  17.769 8.84e-05 *     0.235\n",
       "3 region:meaning 1   58  20.393 3.14e-05 *     0.260"
      ]
     },
     "metadata": {},
     "output_type": "display_data"
    },
    {
     "data": {
      "text/html": [
       "<table class=\"dataframe\">\n",
       "<caption>A rstatix_test: 2 × 15</caption>\n",
       "<thead>\n",
       "\t<tr><th scope=col>meaning</th><th scope=col>.y.</th><th scope=col>group1</th><th scope=col>group2</th><th scope=col>n1</th><th scope=col>n2</th><th scope=col>p</th><th scope=col>p.signif</th><th scope=col>p.adj</th><th scope=col>p.adj.signif</th><th scope=col>y.position</th><th scope=col>groups</th><th scope=col>NA</th><th scope=col>x</th><th scope=col>xmin</th><th scope=col>xmax</th></tr>\n",
       "\t<tr><th scope=col>&lt;fct&gt;</th><th scope=col>&lt;chr&gt;</th><th scope=col>&lt;chr&gt;</th><th scope=col>&lt;chr&gt;</th><th scope=col>&lt;int&gt;</th><th scope=col>&lt;int&gt;</th><th scope=col>&lt;dbl&gt;</th><th scope=col>&lt;chr&gt;</th><th scope=col>&lt;dbl&gt;</th><th scope=col>&lt;chr&gt;</th><th scope=col>&lt;dbl&gt;</th><th scope=col>&lt;named list&gt;</th><th scope=col>&lt;dbl&gt;</th><th scope=col>&lt;dbl&gt;</th><th scope=col>&lt;dbl&gt;</th></tr>\n",
       "</thead>\n",
       "<tbody>\n",
       "\t<tr><td>psy</td><td>raw_weight</td><td>CHN</td><td>USA</td><td>30</td><td>30</td><td>0.039100</td><td>*  </td><td>0.039100</td><td>*  </td><td>2.827</td><td>CHN</td><td>CHN</td><td>1</td><td>0.8</td><td>1.2</td></tr>\n",
       "\t<tr><td>phy</td><td>raw_weight</td><td>CHN</td><td>USA</td><td>30</td><td>30</td><td>0.000175</td><td>***</td><td>0.000175</td><td>***</td><td>1.520</td><td>USA</td><td>USA</td><td>2</td><td>1.8</td><td>2.2</td></tr>\n",
       "</tbody>\n",
       "</table>\n"
      ],
      "text/latex": [
       "A rstatix\\_test: 2 × 15\n",
       "\\begin{tabular}{lllllllllllllll}\n",
       " meaning & .y. & group1 & group2 & n1 & n2 & p & p.signif & p.adj & p.adj.signif & y.position & groups & NA & x & xmin & xmax\\\\\n",
       " <fct> & <chr> & <chr> & <chr> & <int> & <int> & <dbl> & <chr> & <dbl> & <chr> & <dbl> & <named list> & <dbl> & <dbl> & <dbl>\\\\\n",
       "\\hline\n",
       "\t psy & raw\\_weight & CHN & USA & 30 & 30 & 0.039100 & *   & 0.039100 & *   & 2.827 & CHN & CHN & 1 & 0.8 & 1.2\\\\\n",
       "\t phy & raw\\_weight & CHN & USA & 30 & 30 & 0.000175 & *** & 0.000175 & *** & 1.520 & USA & USA & 2 & 1.8 & 2.2\\\\\n",
       "\\end{tabular}\n"
      ],
      "text/markdown": [
       "\n",
       "A rstatix_test: 2 × 15\n",
       "\n",
       "| meaning &lt;fct&gt; | .y. &lt;chr&gt; | group1 &lt;chr&gt; | group2 &lt;chr&gt; | n1 &lt;int&gt; | n2 &lt;int&gt; | p &lt;dbl&gt; | p.signif &lt;chr&gt; | p.adj &lt;dbl&gt; | p.adj.signif &lt;chr&gt; | y.position &lt;dbl&gt; | groups &lt;named list&gt; | NA &lt;dbl&gt; | x &lt;dbl&gt; | xmin &lt;dbl&gt; | xmax &lt;fct&gt; |\n",
       "|---|---|---|---|---|---|---|---|---|---|---|---|---|---|---|\n",
       "| psy | raw_weight | CHN | USA | 30 | 30 | 0.039100 | *   | 0.039100 | *   | 2.827 | CHN | CHN | 1 | 0.8 | 1.2 |\n",
       "| phy | raw_weight | CHN | USA | 30 | 30 | 0.000175 | *** | 0.000175 | *** | 1.520 | USA | USA | 2 | 1.8 | 2.2 |\n",
       "\n"
      ],
      "text/plain": [
       "  meaning .y.        group1 group2 n1 n2 p        p.signif p.adj   \n",
       "1 psy     raw_weight CHN    USA    30 30 0.039100 *        0.039100\n",
       "2 phy     raw_weight CHN    USA    30 30 0.000175 ***      0.000175\n",
       "  p.adj.signif y.position groups <NA> x xmin xmax\n",
       "1 *            2.827      CHN    CHN  1 0.8  1.2 \n",
       "2 ***          1.520      USA    USA  2 1.8  2.2 "
      ]
     },
     "metadata": {},
     "output_type": "display_data"
    },
    {
     "name": "stderr",
     "output_type": "stream",
     "text": [
      "Warning message:\n",
      "\"\u001b[1m\u001b[22mThe `size` argument of `element_line()` is deprecated as of ggplot2 3.4.0.\n",
      "\u001b[36mℹ\u001b[39m Please use the `linewidth` argument instead.\"\n"
     ]
    },
    {
     "data": {
      "text/html": [
       "<table class=\"dataframe\">\n",
       "<caption>A data.frame: 4 × 3</caption>\n",
       "<thead>\n",
       "\t<tr><th scope=col>Group.1</th><th scope=col>Group.2</th><th scope=col>x</th></tr>\n",
       "\t<tr><th scope=col>&lt;chr&gt;</th><th scope=col>&lt;fct&gt;</th><th scope=col>&lt;dbl&gt;</th></tr>\n",
       "</thead>\n",
       "<tbody>\n",
       "\t<tr><td>CHN</td><td>psy</td><td>-1.4936692</td></tr>\n",
       "\t<tr><td>USA</td><td>psy</td><td>-0.7643684</td></tr>\n",
       "\t<tr><td>CHN</td><td>phy</td><td>-1.4268154</td></tr>\n",
       "\t<tr><td>USA</td><td>phy</td><td>-2.7068968</td></tr>\n",
       "</tbody>\n",
       "</table>\n"
      ],
      "text/latex": [
       "A data.frame: 4 × 3\n",
       "\\begin{tabular}{lll}\n",
       " Group.1 & Group.2 & x\\\\\n",
       " <chr> & <fct> & <dbl>\\\\\n",
       "\\hline\n",
       "\t CHN & psy & -1.4936692\\\\\n",
       "\t USA & psy & -0.7643684\\\\\n",
       "\t CHN & phy & -1.4268154\\\\\n",
       "\t USA & phy & -2.7068968\\\\\n",
       "\\end{tabular}\n"
      ],
      "text/markdown": [
       "\n",
       "A data.frame: 4 × 3\n",
       "\n",
       "| Group.1 &lt;chr&gt; | Group.2 &lt;fct&gt; | x &lt;dbl&gt; |\n",
       "|---|---|---|\n",
       "| CHN | psy | -1.4936692 |\n",
       "| USA | psy | -0.7643684 |\n",
       "| CHN | phy | -1.4268154 |\n",
       "| USA | phy | -2.7068968 |\n",
       "\n"
      ],
      "text/plain": [
       "  Group.1 Group.2 x         \n",
       "1 CHN     psy     -1.4936692\n",
       "2 USA     psy     -0.7643684\n",
       "3 CHN     phy     -1.4268154\n",
       "4 USA     phy     -2.7068968"
      ]
     },
     "metadata": {},
     "output_type": "display_data"
    },
    {
     "data": {
      "image/png": "[encoded data removed]",
      "text/plain": [
       "plot without title"
      ]
     },
     "metadata": {
      "image/png": {
       "height": 600,
       "width": 600
      }
     },
     "output_type": "display_data"
    }
   ],
   "source": [
    "USA_weight_dist$region = 'USA'\n",
    "CHN_weight_dist$region = 'CHN'\n",
    "\n",
    "Inter_weight_dist = rbind(USA_weight_dist,CHN_weight_dist)\n",
    "Inter_weight_dist_melt = melt(Inter_weight_dist,id.vars = c('rel','region'))\n",
    "colnames(Inter_weight_dist_melt) = c('rel','region','meaning','raw_weight')\n",
    "\n",
    "# Anova\n",
    "res.aov = anova_test(\n",
    "    data = Inter_weight_dist_melt,dv = raw_weight, wid = rel,\n",
    "    between = region, within = meaning, effect.size = \"pes\")\n",
    "get_anova_table(res.aov)\n",
    "\n",
    "# # Post hoc1\n",
    "# one.way = Inter_weight_dist_melt %>% group_by(meaning) %>%\n",
    "#     anova_test(dv = raw_weight, wid = rel, between = region) %>%\n",
    "#     get_anova_table() %>%\n",
    "#     adjust_pvalue(method = 'bonferroni')\n",
    "# one.way\n",
    "\n",
    "# Post hoc2\n",
    "pwc <- Inter_weight_dist_melt %>%\n",
    "  group_by(meaning) %>%\n",
    "  pairwise_t_test(raw_weight ~ region,p.adjust.method = \"bonferroni\",paired = FALSE) \n",
    "\n",
    "pwc <- pwc %>% add_xy_position(x = \"meaning\")\n",
    "pwc\n",
    "\n",
    "# Visualization\n",
    "options(repr.plot.width = 10,repr.plot.height = 10)\n",
    "ggplot(Inter_weight_dist_melt)+\n",
    "geom_boxplot(aes(x=meaning,y=raw_weight,color=region),\n",
    "             outlier.alpha = 0,size=2)+\n",
    "geom_point(aes(x=meaning,y=raw_weight,color=region),position = position_jitterdodge(0.2),size=5,alpha=0.3)+\n",
    "stat_summary(aes(x=meaning,y=raw_weight,group=region),position=position_dodge(0.75),\n",
    "             fun='mean',color='red',size=6,geom='point')+\n",
    "scale_color_manual(values=my_color)+\n",
    "geom_hline(yintercept = 0,linetype='dashed',size = 3)+\n",
    "scale_x_discrete(labels = c(\"psy\" = \"Psychological\",\"phy\" = \"Physical\"))+\n",
    "\n",
    "stat_pvalue_manual(pwc, tip.length = 0, hide.ns = TRUE,size = 15,bracket.size = 2)+\n",
    "\n",
    "theme_classic()+\n",
    "# theme(axis.text.x = element_text(size=40,face='bold'),\n",
    "#       axis.text.y = element_text(size=20),\n",
    "#       legend.key.size = unit(50,'pt'),\n",
    "#       legend.title = element_text(size=35,face='bold'),\n",
    "#       legend.text = element_text(size=25))+\n",
    "\n",
    "theme(axis.text.x = element_text(size=36,face='bold'),\n",
    "      axis.text.y = element_text(size=30,face='bold'),\n",
    "#       axis.text.x = element_blank(),\n",
    "#       axis.text.y = element_blank(),\n",
    "      legend.key.size = unit(50,'pt'),\n",
    "      legend.title = element_text(size=35,face='bold'),\n",
    "      legend.text = element_text(size=25),\n",
    "      axis.line = element_line(linetype=1,color=\"black\",size=1.5),\n",
    "      legend.position = 'top')+\n",
    "\n",
    "xlab('')+\n",
    "ylab('')+\n",
    "ylim(-5,3)\n",
    "\n",
    "aggregate(Inter_weight_dist_melt$raw_weight,by=list(Inter_weight_dist_melt$region,\n",
    "                                                   Inter_weight_dist_melt$meaning),mean)"
   ]
  },
  {
   "cell_type": "code",
   "execution_count": 36,
   "id": "467a050c",
   "metadata": {
    "vscode": {
     "languageId": "r"
    }
   },
   "outputs": [
    {
     "name": "stderr",
     "output_type": "stream",
     "text": [
      "Warning message in leveneTest.default(y = y, group = group, ...):\n",
      "\"group coerced to factor.\"\n"
     ]
    },
    {
     "name": "stdout",
     "output_type": "stream",
     "text": [
      "Levene's Test for Homogeneity of Variance (center = median)\n",
      "      Df F value Pr(>F)\n",
      "group  1  1.3247 0.2545\n",
      "      58               \n"
     ]
    },
    {
     "data": {
      "text/plain": [
       "\n",
       "\tTwo Sample t-test\n",
       "\n",
       "data:  chn_psy$raw_weight and usa_psy$raw_weight\n",
       "t = -2.111, df = 58, p-value = 0.03909\n",
       "alternative hypothesis: true difference in means is not equal to 0\n",
       "95 percent confidence interval:\n",
       " -1.42084000 -0.03776147\n",
       "sample estimates:\n",
       " mean of x  mean of y \n",
       "-1.4936692 -0.7643684 \n"
      ]
     },
     "metadata": {},
     "output_type": "display_data"
    },
    {
     "data": {
      "text/plain": [
       "\n",
       "Cohen's d\n",
       "\n",
       "d estimate: -0.5450633 (medium)\n",
       "95 percent confidence interval:\n",
       "      lower       upper \n",
       "-1.07141397 -0.01871267 \n"
      ]
     },
     "metadata": {},
     "output_type": "display_data"
    }
   ],
   "source": [
    "usa_psy = Inter_weight_dist_melt %>% filter(meaning == 'psy') %>% filter(region == 'USA')\n",
    "chn_psy = Inter_weight_dist_melt %>% filter(meaning == 'psy') %>% filter(region == 'CHN')\n",
    "\n",
    "levene = leveneTest(raw_weight~region, Inter_weight_dist_melt %>% filter(meaning == 'psy'))\n",
    "print(levene)\n",
    "t.test(chn_psy$'raw_weight', usa_psy$'raw_weight', paired = FALSE, var.equal = TRUE)\n",
    "cohen.d(chn_psy$'raw_weight', usa_psy$'raw_weight')"
   ]
  },
  {
   "cell_type": "code",
   "execution_count": 38,
   "id": "9a310a13",
   "metadata": {
    "vscode": {
     "languageId": "r"
    }
   },
   "outputs": [
    {
     "name": "stderr",
     "output_type": "stream",
     "text": [
      "Warning message in leveneTest.default(y = y, group = group, ...):\n",
      "\"group coerced to factor.\"\n"
     ]
    },
    {
     "name": "stdout",
     "output_type": "stream",
     "text": [
      "Levene's Test for Homogeneity of Variance (center = median)\n",
      "      Df F value Pr(>F)\n",
      "group  1  0.3282 0.5689\n",
      "      58               \n"
     ]
    },
    {
     "data": {
      "text/plain": [
       "\n",
       "\tTwo Sample t-test\n",
       "\n",
       "data:  chn_phy$raw_weight and usa_phy$raw_weight\n",
       "t = 4.012, df = 58, p-value = 0.0001746\n",
       "alternative hypothesis: true difference in means is not equal to 0\n",
       "95 percent confidence interval:\n",
       " 0.6414119 1.9187510\n",
       "sample estimates:\n",
       "mean of x mean of y \n",
       "-1.426815 -2.706897 \n"
      ]
     },
     "metadata": {},
     "output_type": "display_data"
    },
    {
     "data": {
      "text/plain": [
       "\n",
       "Cohen's d\n",
       "\n",
       "d estimate: 1.035902 (large)\n",
       "95 percent confidence interval:\n",
       "    lower     upper \n",
       "0.4854872 1.5863161 \n"
      ]
     },
     "metadata": {},
     "output_type": "display_data"
    }
   ],
   "source": [
    "usa_phy = Inter_weight_dist_melt %>% filter(meaning == 'phy') %>% filter(region == 'USA')\n",
    "chn_phy = Inter_weight_dist_melt %>% filter(meaning == 'phy') %>% filter(region == 'CHN')\n",
    "\n",
    "levene = leveneTest(raw_weight~region, Inter_weight_dist_melt %>% filter(meaning == 'phy'))\n",
    "print(levene)\n",
    "t.test(chn_phy$'raw_weight', usa_phy$'raw_weight', paired = FALSE, var.equal = TRUE)\n",
    "cohen.d(chn_phy$'raw_weight', usa_phy$'raw_weight')"
   ]
  },
  {
   "cell_type": "code",
   "execution_count": 13,
   "id": "6d8b3f4d",
   "metadata": {
    "ExecuteTime": {
     "end_time": "2022-12-26T03:19:57.676201Z",
     "start_time": "2022-12-26T03:19:57.155Z"
    },
    "vscode": {
     "languageId": "r"
    }
   },
   "outputs": [
    {
     "data": {
      "text/html": [
       "<table class=\"dataframe\">\n",
       "<caption>A data.frame: 4 × 3</caption>\n",
       "<thead>\n",
       "\t<tr><th scope=col>Group.1</th><th scope=col>Group.2</th><th scope=col>x</th></tr>\n",
       "\t<tr><th scope=col>&lt;chr&gt;</th><th scope=col>&lt;fct&gt;</th><th scope=col>&lt;dbl&gt;</th></tr>\n",
       "</thead>\n",
       "<tbody>\n",
       "\t<tr><td>CHN</td><td>psy</td><td>-1.4936692</td></tr>\n",
       "\t<tr><td>USA</td><td>psy</td><td>-0.7643684</td></tr>\n",
       "\t<tr><td>CHN</td><td>phy</td><td>-1.4268154</td></tr>\n",
       "\t<tr><td>USA</td><td>phy</td><td>-2.7068968</td></tr>\n",
       "</tbody>\n",
       "</table>\n"
      ],
      "text/latex": [
       "A data.frame: 4 × 3\n",
       "\\begin{tabular}{lll}\n",
       " Group.1 & Group.2 & x\\\\\n",
       " <chr> & <fct> & <dbl>\\\\\n",
       "\\hline\n",
       "\t CHN & psy & -1.4936692\\\\\n",
       "\t USA & psy & -0.7643684\\\\\n",
       "\t CHN & phy & -1.4268154\\\\\n",
       "\t USA & phy & -2.7068968\\\\\n",
       "\\end{tabular}\n"
      ],
      "text/markdown": [
       "\n",
       "A data.frame: 4 × 3\n",
       "\n",
       "| Group.1 &lt;chr&gt; | Group.2 &lt;fct&gt; | x &lt;dbl&gt; |\n",
       "|---|---|---|\n",
       "| CHN | psy | -1.4936692 |\n",
       "| USA | psy | -0.7643684 |\n",
       "| CHN | phy | -1.4268154 |\n",
       "| USA | phy | -2.7068968 |\n",
       "\n"
      ],
      "text/plain": [
       "  Group.1 Group.2 x         \n",
       "1 CHN     psy     -1.4936692\n",
       "2 USA     psy     -0.7643684\n",
       "3 CHN     phy     -1.4268154\n",
       "4 USA     phy     -2.7068968"
      ]
     },
     "metadata": {},
     "output_type": "display_data"
    },
    {
     "data": {
      "text/html": [
       "<strong>png:</strong> 2"
      ],
      "text/latex": [
       "\\textbf{png:} 2"
      ],
      "text/markdown": [
       "**png:** 2"
      ],
      "text/plain": [
       "png \n",
       "  2 "
      ]
     },
     "metadata": {},
     "output_type": "display_data"
    }
   ],
   "source": [
    "# Visualization\n",
    "png(\"../../output_graph/USA_CHN/Activeness.png\", bg=\"transparent\",\n",
    "    family = 'sans',units='in',width=10,height=10,res=300)\n",
    "\n",
    "options(repr.plot.width = 7,repr.plot.height = 7)\n",
    "ggplot(Inter_weight_dist_melt)+\n",
    "geom_boxplot(aes(x=meaning,y=raw_weight,color=region),\n",
    "             outlier.alpha = 0,size=2)+\n",
    "geom_point(aes(x=meaning,y=raw_weight,color=region),position = position_jitterdodge(0.2),size=5,alpha=0.3)+\n",
    "stat_summary(aes(x=meaning,y=raw_weight,group=region),position=position_dodge(0.75),\n",
    "             fun='mean',color='red',size=6,geom='point')+\n",
    "scale_color_manual(values=my_color)+\n",
    "geom_hline(yintercept = 0,linetype='dashed',size = 3)+\n",
    "scale_x_discrete(labels = c(\"psy\" = \"Psychological\",\"phy\" = \"Physical\"))+\n",
    "\n",
    "#stat_pvalue_manual(pwc, tip.length = 0, hide.ns = TRUE,size = 15,bracket.size = 2)+\n",
    "\n",
    "theme_classic()+\n",
    "# theme(axis.text.x = element_text(size=40,face='bold'),\n",
    "#       axis.text.y = element_text(size=20),\n",
    "#       legend.key.size = unit(50,'pt'),\n",
    "#       legend.title = element_text(size=35,face='bold'),\n",
    "#       legend.text = element_text(size=25))+\n",
    "\n",
    "theme(#axis.text.x = element_text(size=36,face='bold'),\n",
    "      #axis.text.y = element_text(size=30,face='bold'),\n",
    "      axis.text.x = element_blank(),\n",
    "      axis.text.y = element_blank(),\n",
    "      legend.key.size = unit(50,'pt'),\n",
    "      legend.title = element_text(size=35,face='bold'),\n",
    "      legend.text = element_text(size=25),\n",
    "      axis.line = element_line(linetype=1,color=\"black\",size=1.5),\n",
    "      legend.position = 'top')+\n",
    "\n",
    "xlab('')+\n",
    "ylab('')+\n",
    "ylim(-5,3)\n",
    "\n",
    "aggregate(Inter_weight_dist_melt$raw_weight,by=list(Inter_weight_dist_melt$region,\n",
    "                                                   Inter_weight_dist_melt$meaning),mean)\n",
    "dev.off()"
   ]
  }
 ],
 "metadata": {
  "kernelspec": {
   "display_name": "R",
   "language": "R",
   "name": "ir"
  },
  "language_info": {
   "codemirror_mode": "r",
   "file_extension": ".r",
   "mimetype": "text/x-r-source",
   "name": "R",
   "pygments_lexer": "r",
   "version": "4.3.3"
  },
  "latex_envs": {
   "LaTeX_envs_menu_present": true,
   "autoclose": false,
   "autocomplete": true,
   "bibliofile": "biblio.bib",
   "cite_by": "apalike",
   "current_citInitial": 1,
   "eqLabelWithNumbers": true,
   "eqNumInitial": 1,
   "hotkeys": {
    "equation": "Ctrl-E",
    "itemize": "Ctrl-I"
   },
   "labels_anchors": false,
   "latex_user_defs": false,
   "report_style_numbering": false,
   "user_envs_cfg": false
  },
  "toc": {
   "base_numbering": 1,
   "nav_menu": {},
   "number_sections": true,
   "sideBar": true,
   "skip_h1_title": false,
   "title_cell": "Table of Contents",
   "title_sidebar": "Contents",
   "toc_cell": false,
   "toc_position": {
    "height": "calc(100% - 180px)",
    "left": "10px",
    "top": "150px",
    "width": "202.475px"
   },
   "toc_section_display": true,
   "toc_window_display": true
  },
  "varInspector": {
   "cols": {
    "lenName": 16,
    "lenType": 16,
    "lenVar": 40
   },
   "kernels_config": {
    "python": {
     "delete_cmd_postfix": "",
     "delete_cmd_prefix": "del ",
     "library": "var_list.py",
     "varRefreshCmd": "print(var_dic_list())"
    },
    "r": {
     "delete_cmd_postfix": ") ",
     "delete_cmd_prefix": "rm(",
     "library": "var_list.r",
     "varRefreshCmd": "cat(var_dic_list()) "
    }
   },
   "types_to_exclude": [
    "module",
    "function",
    "builtin_function_or_method",
    "instance",
    "_Feature"
   ],
   "window_display": false
  }
 },
 "nbformat": 4,
 "nbformat_minor": 5
}
