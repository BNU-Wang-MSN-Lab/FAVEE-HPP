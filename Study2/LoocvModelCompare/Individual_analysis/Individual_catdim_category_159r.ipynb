{
 "cells": [
  {
   "cell_type": "code",
   "execution_count": 1,
   "id": "2bfa3c02",
   "metadata": {
    "ExecuteTime": {
     "end_time": "2022-12-23T07:40:07.967779Z",
     "start_time": "2022-12-23T07:40:03.607118Z"
    }
   },
   "outputs": [],
   "source": [
    "import pandas as pd\n",
    "import numpy as np\n",
    "\n",
    "import glob\n",
    "from sklearn.metrics.pairwise import euclidean_distances#transform dataframe into rdm\n",
    "from scipy.stats import spearmanr #Loocv\n",
    "\n",
    "import seaborn as sns\n",
    "import matplotlib.pyplot as plt\n",
    "\n",
    "#Clustering analysis\n",
    "import umap.umap_ as umap\n",
    "from sklearn.cluster import KMeans\n",
    "\n",
    "import sys\n",
    "sys.path.append('../../custom_function')\n",
    "import clustering"
   ]
  },
  {
   "cell_type": "code",
   "execution_count": 2,
   "id": "37a56596",
   "metadata": {
    "ExecuteTime": {
     "end_time": "2022-12-23T07:40:10.458861Z",
     "start_time": "2022-12-23T07:40:10.454860Z"
    }
   },
   "outputs": [],
   "source": [
    "#filter target subjects    \n",
    "def Filter(string, substr):\n",
    "    return [str for str in string if\n",
    "             any(sub in str for sub in substr)]"
   ]
  },
  {
   "cell_type": "code",
   "execution_count": 3,
   "id": "ea5a8784",
   "metadata": {
    "ExecuteTime": {
     "end_time": "2022-12-23T07:40:16.530498Z",
     "start_time": "2022-12-23T07:40:16.516495Z"
    }
   },
   "outputs": [],
   "source": [
    "def cluster_results(input_dissim_or_df,task = 'categorization',neighbors = 15, dist = 0.01, random_seed = 2022):\n",
    "    if task == 'categorization':\n",
    "        dissim_ind_within = input_dissim_or_df\n",
    "        umap_within = umap.UMAP(n_neighbors=neighbors, min_dist=dist, n_components=2,\n",
    "                                metric = 'precomputed',\n",
    "                              random_state=random_seed).fit_transform(dissim_ind_within)\n",
    "\n",
    "        umap_within = pd.DataFrame(umap_within, columns=['Dim1','Dim2'], index=dissim_ind_within.index)\n",
    "\n",
    "        umap_results_within = clustering.create_cluster_models(data_type = \"df\",data =umap_within,\n",
    "                                                          methods= ['KMeans'],ks=[3,6], keep_orig=True)\n",
    "        cluster_results_df = umap_results_within\n",
    "        \n",
    "    if task == 'dimension_pca_3k':\n",
    "        cluster_results_df = pd.DataFrame(index=input_dissim_or_df.index)\n",
    "        cluster_results_df = input_dissim_or_df\n",
    "        df_ind_within = input_dissim_or_df\n",
    "        fit_cluster = KMeans(n_clusters=3, random_state=random_seed).fit(df_ind_within)\n",
    "        cluster_results_df['cl_k'+str(3)] = fit_cluster.labels_\n",
    "        \n",
    "    if task == 'dimension_umap':\n",
    "        dissim_ind_within = input_dissim_or_df\n",
    "        umap_within = umap.UMAP(n_neighbors=10, min_dist=0.01, n_components=2,\n",
    "                              random_state=random_seed).fit_transform(dissim_ind_within)\n",
    "        umap_within = pd.DataFrame(umap_within, columns=['Dim1','Dim2'], index=dissim_ind_within.index)\n",
    "        umap_results_within = clustering.create_cluster_models(data_type = \"df\",data =umap_within,\n",
    "                                                          methods= ['KMeans'],ks=[3,6], keep_orig=True)\n",
    "        cluster_results_df = umap_results_within\n",
    "        \n",
    "    return cluster_results_df"
   ]
  },
  {
   "cell_type": "markdown",
   "id": "e113b3c2",
   "metadata": {},
   "source": [
    "# Import data  \n",
    "- Dimension rating task: \n",
    "    - pca_var+KMeans = 3 clusters\n",
    "    - UMAP+KMeans = 3 clusters\n",
    "- Categorization task: UMAP(n_neighbors=15,min_dist=0.01)+KMeans  \n",
    "    - Explicit task: 6 clusters\n",
    "    - Implicit task: 3 clusters"
   ]
  },
  {
   "cell_type": "code",
   "execution_count": 4,
   "id": "7c511995",
   "metadata": {
    "ExecuteTime": {
     "end_time": "2022-12-23T07:40:41.662086Z",
     "start_time": "2022-12-23T07:40:41.641082Z"
    }
   },
   "outputs": [
    {
     "name": "stdout",
     "output_type": "stream",
     "text": [
      "Found participants who finished dimension rating task: 14 participants.\n",
      "Explicit task:From 60 subjects filter 14 subjects.\n",
      "Implicit task:From 60 subjects filter 14 subjects.\n"
     ]
    }
   ],
   "source": [
    "# dimension\n",
    "dim_pca_var_data_paths = glob.glob('../../output_data/individual/dimension/pca_results/scores_var/*.csv')    \n",
    "dim_raw_data_paths = glob.glob('../../output_data/individual/dimension/clean_results/dim_rel_scaled/*.csv')\n",
    "\n",
    "\n",
    "# category\n",
    "# all 60 participants\n",
    "ca_subj_data_paths_all = glob.glob('../../output_data/individual/category/Subject_Category_RDMs_revised/*.csv')\n",
    "ma_subj_data_paths_all = glob.glob('../../output_data/individual/category/Subject_MA_RDMs_revised/*.csv')\n",
    "#participants who finished dimension rating\n",
    "sub_within_list = [i.split('\\\\')[1].split('.')[0] for i in dim_pca_var_data_paths]\n",
    "print('Found participants who finished dimension rating task: '+str(len(sub_within_list))+' participants.')\n",
    "#Explicit task\n",
    "ca_within_data_paths = Filter(ca_subj_data_paths_all, sub_within_list)\n",
    "print('Explicit task:From {} subjects filter {} subjects.'.format(len(ca_subj_data_paths_all),len(sub_within_list)))\n",
    "\n",
    "ma_within_data_paths = Filter(ma_subj_data_paths_all, sub_within_list)\n",
    "print('Implicit task:From {} subjects filter {} subjects.'.format(len(ma_subj_data_paths_all),len(sub_within_list)))"
   ]
  },
  {
   "cell_type": "markdown",
   "id": "0efe84fd",
   "metadata": {},
   "source": [
    "# Generate clustering results individually"
   ]
  },
  {
   "cell_type": "markdown",
   "id": "04ccfecf",
   "metadata": {},
   "source": [
    "## dimensional survey"
   ]
  },
  {
   "cell_type": "code",
   "execution_count": 5,
   "id": "269aaf51",
   "metadata": {
    "ExecuteTime": {
     "end_time": "2022-12-23T07:41:09.795969Z",
     "start_time": "2022-12-23T07:41:09.279803Z"
    }
   },
   "outputs": [],
   "source": [
    "for ind_dir in dim_pca_var_data_paths:\n",
    "    ind_input = pd.read_csv(ind_dir, index_col=0)\n",
    "    ind_cluster = cluster_results(input_dissim_or_df = ind_input,\n",
    "                                  task = 'dimension_pca_3k',random_seed = 2022)\n",
    "    \n",
    "    ind_csv = ind_dir.split('\\\\')[1]\n",
    "    ind_cluster.to_csv('../../output_data/individual/dimension/cluster_results/pca_3k/'+ind_csv)"
   ]
  },
  {
   "cell_type": "code",
   "execution_count": 6,
   "id": "c59c81ba",
   "metadata": {
    "ExecuteTime": {
     "end_time": "2022-12-23T07:41:33.738283Z",
     "start_time": "2022-12-23T07:41:19.065978Z"
    }
   },
   "outputs": [],
   "source": [
    "for ind_dir in dim_raw_data_paths:\n",
    "    ind_input = pd.read_csv(ind_dir, index_col=0)\n",
    "    ind_cluster = cluster_results(input_dissim_or_df = ind_input,\n",
    "                                  task = 'dimension_umap',random_seed = 2022)\n",
    "    \n",
    "    ind_csv = ind_dir.split('\\\\')[1]\n",
    "    ind_cluster.to_csv('../../output_data/individual/dimension/cluster_results/umap/'+ind_csv)"
   ]
  },
  {
   "cell_type": "markdown",
   "id": "9cc97754",
   "metadata": {},
   "source": [
    "## category task"
   ]
  },
  {
   "cell_type": "code",
   "execution_count": 8,
   "id": "1654376f",
   "metadata": {
    "ExecuteTime": {
     "end_time": "2022-12-23T07:42:09.834129Z",
     "start_time": "2022-12-23T07:41:53.170935Z"
    }
   },
   "outputs": [
    {
     "name": "stderr",
     "output_type": "stream",
     "text": [
      "D:\\Anaconda3\\lib\\site-packages\\umap\\umap_.py:1780: UserWarning: using precomputed metric; inverse_transform will be unavailable\n",
      "  warn(\"using precomputed metric; inverse_transform will be unavailable\")\n",
      "D:\\Anaconda3\\lib\\site-packages\\umap\\umap_.py:1780: UserWarning: using precomputed metric; inverse_transform will be unavailable\n",
      "  warn(\"using precomputed metric; inverse_transform will be unavailable\")\n",
      "D:\\Anaconda3\\lib\\site-packages\\umap\\umap_.py:1780: UserWarning: using precomputed metric; inverse_transform will be unavailable\n",
      "  warn(\"using precomputed metric; inverse_transform will be unavailable\")\n",
      "D:\\Anaconda3\\lib\\site-packages\\umap\\umap_.py:1780: UserWarning: using precomputed metric; inverse_transform will be unavailable\n",
      "  warn(\"using precomputed metric; inverse_transform will be unavailable\")\n",
      "D:\\Anaconda3\\lib\\site-packages\\umap\\umap_.py:1780: UserWarning: using precomputed metric; inverse_transform will be unavailable\n",
      "  warn(\"using precomputed metric; inverse_transform will be unavailable\")\n",
      "D:\\Anaconda3\\lib\\site-packages\\umap\\umap_.py:1780: UserWarning: using precomputed metric; inverse_transform will be unavailable\n",
      "  warn(\"using precomputed metric; inverse_transform will be unavailable\")\n",
      "D:\\Anaconda3\\lib\\site-packages\\umap\\umap_.py:1780: UserWarning: using precomputed metric; inverse_transform will be unavailable\n",
      "  warn(\"using precomputed metric; inverse_transform will be unavailable\")\n",
      "D:\\Anaconda3\\lib\\site-packages\\umap\\umap_.py:1780: UserWarning: using precomputed metric; inverse_transform will be unavailable\n",
      "  warn(\"using precomputed metric; inverse_transform will be unavailable\")\n",
      "D:\\Anaconda3\\lib\\site-packages\\umap\\umap_.py:1780: UserWarning: using precomputed metric; inverse_transform will be unavailable\n",
      "  warn(\"using precomputed metric; inverse_transform will be unavailable\")\n",
      "D:\\Anaconda3\\lib\\site-packages\\umap\\umap_.py:1780: UserWarning: using precomputed metric; inverse_transform will be unavailable\n",
      "  warn(\"using precomputed metric; inverse_transform will be unavailable\")\n",
      "D:\\Anaconda3\\lib\\site-packages\\umap\\umap_.py:1780: UserWarning: using precomputed metric; inverse_transform will be unavailable\n",
      "  warn(\"using precomputed metric; inverse_transform will be unavailable\")\n",
      "D:\\Anaconda3\\lib\\site-packages\\umap\\umap_.py:1780: UserWarning: using precomputed metric; inverse_transform will be unavailable\n",
      "  warn(\"using precomputed metric; inverse_transform will be unavailable\")\n",
      "D:\\Anaconda3\\lib\\site-packages\\umap\\umap_.py:1780: UserWarning: using precomputed metric; inverse_transform will be unavailable\n",
      "  warn(\"using precomputed metric; inverse_transform will be unavailable\")\n",
      "D:\\Anaconda3\\lib\\site-packages\\umap\\umap_.py:1780: UserWarning: using precomputed metric; inverse_transform will be unavailable\n",
      "  warn(\"using precomputed metric; inverse_transform will be unavailable\")\n"
     ]
    }
   ],
   "source": [
    "for ind_dir in ca_within_data_paths:\n",
    "    ind_input = pd.read_csv(ind_dir, index_col=0)\n",
    "    ind_cluster = cluster_results(input_dissim_or_df = ind_input,\n",
    "                                  task = 'categorization',neighbors = 15, dist = 0.01, random_seed = 2022)\n",
    "    \n",
    "    ind_csv = ind_dir.split('\\\\')[1]\n",
    "    ind_cluster.to_csv('../../output_data/individual/category/cluster_results/exp/'+ind_csv)"
   ]
  },
  {
   "cell_type": "code",
   "execution_count": 9,
   "id": "edbf8bb0",
   "metadata": {
    "ExecuteTime": {
     "end_time": "2022-12-23T07:42:22.009489Z",
     "start_time": "2022-12-23T07:42:09.862855Z"
    }
   },
   "outputs": [
    {
     "name": "stderr",
     "output_type": "stream",
     "text": [
      "D:\\Anaconda3\\lib\\site-packages\\umap\\umap_.py:1780: UserWarning: using precomputed metric; inverse_transform will be unavailable\n",
      "  warn(\"using precomputed metric; inverse_transform will be unavailable\")\n",
      "D:\\Anaconda3\\lib\\site-packages\\umap\\umap_.py:1780: UserWarning: using precomputed metric; inverse_transform will be unavailable\n",
      "  warn(\"using precomputed metric; inverse_transform will be unavailable\")\n",
      "D:\\Anaconda3\\lib\\site-packages\\umap\\umap_.py:1780: UserWarning: using precomputed metric; inverse_transform will be unavailable\n",
      "  warn(\"using precomputed metric; inverse_transform will be unavailable\")\n",
      "D:\\Anaconda3\\lib\\site-packages\\umap\\umap_.py:1780: UserWarning: using precomputed metric; inverse_transform will be unavailable\n",
      "  warn(\"using precomputed metric; inverse_transform will be unavailable\")\n",
      "D:\\Anaconda3\\lib\\site-packages\\umap\\umap_.py:1780: UserWarning: using precomputed metric; inverse_transform will be unavailable\n",
      "  warn(\"using precomputed metric; inverse_transform will be unavailable\")\n",
      "D:\\Anaconda3\\lib\\site-packages\\umap\\umap_.py:1780: UserWarning: using precomputed metric; inverse_transform will be unavailable\n",
      "  warn(\"using precomputed metric; inverse_transform will be unavailable\")\n",
      "D:\\Anaconda3\\lib\\site-packages\\umap\\umap_.py:1780: UserWarning: using precomputed metric; inverse_transform will be unavailable\n",
      "  warn(\"using precomputed metric; inverse_transform will be unavailable\")\n",
      "D:\\Anaconda3\\lib\\site-packages\\umap\\umap_.py:1780: UserWarning: using precomputed metric; inverse_transform will be unavailable\n",
      "  warn(\"using precomputed metric; inverse_transform will be unavailable\")\n",
      "D:\\Anaconda3\\lib\\site-packages\\umap\\umap_.py:1780: UserWarning: using precomputed metric; inverse_transform will be unavailable\n",
      "  warn(\"using precomputed metric; inverse_transform will be unavailable\")\n",
      "D:\\Anaconda3\\lib\\site-packages\\umap\\umap_.py:1780: UserWarning: using precomputed metric; inverse_transform will be unavailable\n",
      "  warn(\"using precomputed metric; inverse_transform will be unavailable\")\n",
      "D:\\Anaconda3\\lib\\site-packages\\umap\\umap_.py:1780: UserWarning: using precomputed metric; inverse_transform will be unavailable\n",
      "  warn(\"using precomputed metric; inverse_transform will be unavailable\")\n",
      "D:\\Anaconda3\\lib\\site-packages\\umap\\umap_.py:1780: UserWarning: using precomputed metric; inverse_transform will be unavailable\n",
      "  warn(\"using precomputed metric; inverse_transform will be unavailable\")\n",
      "D:\\Anaconda3\\lib\\site-packages\\umap\\umap_.py:1780: UserWarning: using precomputed metric; inverse_transform will be unavailable\n",
      "  warn(\"using precomputed metric; inverse_transform will be unavailable\")\n",
      "D:\\Anaconda3\\lib\\site-packages\\umap\\umap_.py:1780: UserWarning: using precomputed metric; inverse_transform will be unavailable\n",
      "  warn(\"using precomputed metric; inverse_transform will be unavailable\")\n"
     ]
    }
   ],
   "source": [
    "for ind_dir in ma_within_data_paths:\n",
    "    ind_input = pd.read_csv(ind_dir, index_col=0)\n",
    "    ind_cluster = cluster_results(input_dissim_or_df = ind_input,\n",
    "                                  task = 'categorization',neighbors = 15, dist = 0.01, random_seed = 2022)\n",
    "    \n",
    "    ind_csv = ind_dir.split('\\\\')[1]\n",
    "    ind_cluster.to_csv('../../output_data/individual/category/cluster_results/imp/'+ind_csv)"
   ]
  }
 ],
 "metadata": {
  "kernelspec": {
   "display_name": "Python 3 (ipykernel)",
   "language": "python",
   "name": "python3"
  },
  "language_info": {
   "codemirror_mode": {
    "name": "ipython",
    "version": 3
   },
   "file_extension": ".py",
   "mimetype": "text/x-python",
   "name": "python",
   "nbconvert_exporter": "python",
   "pygments_lexer": "ipython3",
   "version": "3.9.13"
  },
  "toc": {
   "base_numbering": 1,
   "nav_menu": {},
   "number_sections": true,
   "sideBar": true,
   "skip_h1_title": false,
   "title_cell": "Table of Contents",
   "title_sidebar": "Contents",
   "toc_cell": false,
   "toc_position": {},
   "toc_section_display": true,
   "toc_window_display": false
  },
  "varInspector": {
   "cols": {
    "lenName": 16,
    "lenType": 16,
    "lenVar": 40
   },
   "kernels_config": {
    "python": {
     "delete_cmd_postfix": "",
     "delete_cmd_prefix": "del ",
     "library": "var_list.py",
     "varRefreshCmd": "print(var_dic_list())"
    },
    "r": {
     "delete_cmd_postfix": ") ",
     "delete_cmd_prefix": "rm(",
     "library": "var_list.r",
     "varRefreshCmd": "cat(var_dic_list()) "
    }
   },
   "types_to_exclude": [
    "module",
    "function",
    "builtin_function_or_method",
    "instance",
    "_Feature"
   ],
   "window_display": false
  }
 },
 "nbformat": 4,
 "nbformat_minor": 5
}
