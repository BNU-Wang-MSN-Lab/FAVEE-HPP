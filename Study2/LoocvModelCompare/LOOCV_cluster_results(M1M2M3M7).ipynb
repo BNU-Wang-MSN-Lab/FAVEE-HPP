{
 "cells": [
  {
   "cell_type": "code",
   "execution_count": 11,
   "id": "268c7aa8",
   "metadata": {
    "ExecuteTime": {
     "end_time": "2022-12-23T07:42:24.702621Z",
     "start_time": "2022-12-23T07:42:24.689758Z"
    }
   },
   "outputs": [],
   "source": [
    "import pandas as pd\n",
    "import numpy as np\n",
    "\n",
    "import glob\n",
    "from scipy.stats import spearmanr\n",
    "from sklearn.metrics.pairwise import euclidean_distances#transform dataframe into rdm\n",
    "\n",
    "import matplotlib.pyplot as plt\n",
    "import seaborn as sns"
   ]
  },
  {
   "cell_type": "markdown",
   "id": "7034c0c3",
   "metadata": {},
   "source": [
    "# turn model result into RDM"
   ]
  },
  {
   "cell_type": "code",
   "execution_count": 12,
   "id": "86abdc7e",
   "metadata": {
    "ExecuteTime": {
     "end_time": "2022-12-23T07:42:52.569486Z",
     "start_time": "2022-12-23T07:42:52.564485Z"
    }
   },
   "outputs": [],
   "source": [
    "def cluster_rdm(cluster_results_159r_within,cluster_model='cl_k6'):\n",
    "    dissim_cluster_result = pd.DataFrame(index = cluster_results_159r_within.index,\n",
    "                                         columns = cluster_results_159r_within.index)\n",
    "    for i in dissim_cluster_result.index:\n",
    "        for j in dissim_cluster_result.columns:\n",
    "            # cluster result was in the last column\n",
    "            if cluster_results_159r_within.loc[i,cluster_model] == cluster_results_159r_within.loc[j,cluster_model]:\n",
    "                dissim_cluster_result.loc[i,j] = 0\n",
    "            else:\n",
    "                dissim_cluster_result.loc[i,j] = 1\n",
    "            dissim_cluster_result = dissim_cluster_result.astype(float)\n",
    "            \n",
    "    return(dissim_cluster_result)"
   ]
  },
  {
   "cell_type": "code",
   "execution_count": 13,
   "id": "e7f65f52",
   "metadata": {
    "ExecuteTime": {
     "end_time": "2022-12-23T07:43:35.044591Z",
     "start_time": "2022-12-23T07:43:35.026899Z"
    }
   },
   "outputs": [],
   "source": [
    "exp_cluster_within_data_paths = glob.glob('../output_data/individual/category/cluster_results/exp/*.csv')\n",
    "imp_cluster_within_data_paths = glob.glob('../output_data/individual/category/cluster_results/imp/*.csv')\n",
    "\n",
    "dim_3cluster_within_data_paths = glob.glob('../output_data/individual/dimension/cluster_results/pca_3k/*.csv')\n",
    "dim_umap_cluster_within_data_paths = glob.glob('../output_data/individual/dimension/cluster_results/umap/*.csv')"
   ]
  },
  {
   "cell_type": "markdown",
   "id": "13cb0b21",
   "metadata": {},
   "source": [
    "## dimension survey"
   ]
  },
  {
   "cell_type": "code",
   "execution_count": 14,
   "id": "73596043",
   "metadata": {
    "ExecuteTime": {
     "end_time": "2022-12-23T07:46:54.272569Z",
     "start_time": "2022-12-23T07:46:25.262343Z"
    }
   },
   "outputs": [],
   "source": [
    "# pca data_3k\n",
    "for ind_dir in dim_3cluster_within_data_paths:\n",
    "    ind_input = pd.read_csv(ind_dir, index_col=0)\n",
    "    ind_cluster_rdm = cluster_rdm(ind_input,cluster_model='cl_k3')\n",
    "    \n",
    "    ind_csv = ind_dir.split('\\\\')[1]\n",
    "    ind_cluster_rdm.to_csv('../output_data/individual/dimension/cluster_RDMs/pca_3k/'+ind_csv)"
   ]
  },
  {
   "cell_type": "code",
   "execution_count": 15,
   "id": "3a5fd0e3",
   "metadata": {
    "ExecuteTime": {
     "end_time": "2022-12-23T07:47:25.681892Z",
     "start_time": "2022-12-23T07:46:54.338636Z"
    }
   },
   "outputs": [],
   "source": [
    "# umap data\n",
    "for ind_dir in dim_umap_cluster_within_data_paths:\n",
    "    ind_input = pd.read_csv(ind_dir, index_col=0)\n",
    "    ind_cluster_rdm = cluster_rdm(ind_input,cluster_model='cl_k3')\n",
    "    \n",
    "    ind_csv = ind_dir.split('\\\\')[1]\n",
    "    ind_cluster_rdm.to_csv('../output_data/individual/dimension/cluster_RDMs/umap/'+ind_csv)"
   ]
  },
  {
   "cell_type": "markdown",
   "id": "8d970b54",
   "metadata": {},
   "source": [
    "## category task"
   ]
  },
  {
   "cell_type": "code",
   "execution_count": 16,
   "id": "aa782b7b",
   "metadata": {
    "ExecuteTime": {
     "end_time": "2022-12-23T07:48:03.702344Z",
     "start_time": "2022-12-23T07:47:33.352893Z"
    }
   },
   "outputs": [],
   "source": [
    "# explicit task\n",
    "for ind_dir in exp_cluster_within_data_paths:\n",
    "    ind_input = pd.read_csv(ind_dir, index_col=0)\n",
    "    ind_cluster_rdm = cluster_rdm(ind_input,cluster_model='cl_k6')\n",
    "    \n",
    "    ind_csv = ind_dir.split('\\\\')[1]\n",
    "    ind_cluster_rdm.to_csv('../output_data/individual/category/cluster_RDMs/exp/'+ind_csv)"
   ]
  },
  {
   "cell_type": "code",
   "execution_count": 17,
   "id": "b1984e6e",
   "metadata": {
    "ExecuteTime": {
     "end_time": "2022-12-23T07:48:35.106504Z",
     "start_time": "2022-12-23T07:48:03.766378Z"
    }
   },
   "outputs": [],
   "source": [
    "# implicit task\n",
    "for ind_dir in imp_cluster_within_data_paths:\n",
    "    ind_input = pd.read_csv(ind_dir, index_col=0)\n",
    "    ind_cluster_rdm = cluster_rdm(ind_input,cluster_model='cl_k3')\n",
    "    \n",
    "    ind_csv = ind_dir.split('\\\\')[1]\n",
    "    ind_cluster_rdm.to_csv('../output_data/individual/category/cluster_RDMs/imp/'+ind_csv)"
   ]
  },
  {
   "cell_type": "markdown",
   "id": "b5504747",
   "metadata": {},
   "source": [
    "# LOOCV"
   ]
  },
  {
   "cell_type": "markdown",
   "id": "3313959c",
   "metadata": {},
   "source": [
    "## import data"
   ]
  },
  {
   "cell_type": "code",
   "execution_count": 18,
   "id": "b6cfb17d",
   "metadata": {
    "ExecuteTime": {
     "end_time": "2022-12-23T07:48:49.895581Z",
     "start_time": "2022-12-23T07:48:49.884578Z"
    }
   },
   "outputs": [],
   "source": [
    "dim_pca_3k_within_data_paths = glob.glob('../output_data/individual/dimension/cluster_RDMs/pca_3k/*.csv') \n",
    "dim_umap_within_data_paths = glob.glob('../output_data/individual/dimension/cluster_RDMs/umap/*.csv')\n",
    "\n",
    "ca_within_data_paths = glob.glob('../output_data/individual/category/cluster_RDMs/exp/*.csv') \n",
    "ma_within_data_paths = glob.glob('../output_data/individual/category/cluster_RDMs/imp/*.csv') "
   ]
  },
  {
   "cell_type": "markdown",
   "id": "a26a7456",
   "metadata": {
    "ExecuteTime": {
     "end_time": "2022-11-07T06:06:15.577717Z",
     "start_time": "2022-11-07T06:06:15.564717Z"
    }
   },
   "source": [
    "all were used 'spearman'"
   ]
  },
  {
   "cell_type": "code",
   "execution_count": 19,
   "id": "37db6759",
   "metadata": {
    "ExecuteTime": {
     "end_time": "2022-12-23T07:49:00.673640Z",
     "start_time": "2022-12-23T07:49:00.658878Z"
    }
   },
   "outputs": [],
   "source": [
    "def LOOCV(subj_data_paths):\n",
    "    rsa_list = []\n",
    "    sub_id_list = []\n",
    "    for left_one in subj_data_paths:\n",
    "        sub_id_list.append(left_one.split('\\\\')[1].split('.')[0])\n",
    "        # get the one left\n",
    "        left_one_df = pd.read_csv(left_one, index_col=0)\n",
    "        dissim_left_one = left_one_df\n",
    "        \n",
    "        # remove one subject from all 14 subjects\n",
    "        subj_data_paths_remove_one = subj_data_paths.copy()\n",
    "        subj_data_paths_remove_one.remove(left_one)\n",
    "        \n",
    "        dissim_remove_one = np.zeros((159,159))\n",
    "\n",
    "        for f in subj_data_paths_remove_one:\n",
    "            temp_df = pd.read_csv(f, index_col=0)\n",
    "            dissim_remove_one += np.array(temp_df)\n",
    "\n",
    "        dissim_remove_one_avg = dissim_remove_one / len(subj_data_paths_remove_one)\n",
    "        dissim_remove_one_avg = pd.DataFrame(dissim_remove_one_avg, index=temp_df.index, columns=temp_df.columns)\n",
    "        \n",
    "        # caculate the correlation between the one left and others\n",
    "        array_dissim_left_one = np.array(dissim_left_one)[np.triu_indices(159, k = 1)] \n",
    "        array_dissim_remove_one_avg = np.array(dissim_remove_one_avg)[np.triu_indices(159, k = 1)]\n",
    "           \n",
    "        rsa_list.append(spearmanr(array_dissim_remove_one_avg, array_dissim_left_one)[0])\n",
    "        \n",
    "    print(len(subj_data_paths_remove_one))\n",
    "    \n",
    "    rsa_list_df = pd.DataFrame({'sub_id':sub_id_list,'rsa':rsa_list})\n",
    "    return rsa_list_df"
   ]
  },
  {
   "cell_type": "code",
   "execution_count": 20,
   "id": "ad6b19ec",
   "metadata": {
    "ExecuteTime": {
     "end_time": "2022-12-23T07:49:15.125901Z",
     "start_time": "2022-12-23T07:49:10.845853Z"
    }
   },
   "outputs": [
    {
     "name": "stdout",
     "output_type": "stream",
     "text": [
      "13\n",
      "13\n",
      "13\n",
      "13\n"
     ]
    }
   ],
   "source": [
    "exp_cluster_loocv = LOOCV(subj_data_paths = ca_within_data_paths)\n",
    "imp_cluster_loocv = LOOCV(subj_data_paths = ma_within_data_paths)\n",
    "dim_pca_3k_cluster_loocv = LOOCV(subj_data_paths = dim_pca_3k_within_data_paths)\n",
    "dim_umap_cluster_loocv = LOOCV(subj_data_paths = dim_umap_within_data_paths)"
   ]
  }
 ],
 "metadata": {
  "kernelspec": {
   "display_name": "Python 3 (ipykernel)",
   "language": "python",
   "name": "python3"
  },
  "language_info": {
   "codemirror_mode": {
    "name": "ipython",
    "version": 3
   },
   "file_extension": ".py",
   "mimetype": "text/x-python",
   "name": "python",
   "nbconvert_exporter": "python",
   "pygments_lexer": "ipython3",
   "version": "3.9.13"
  },
  "latex_envs": {
   "LaTeX_envs_menu_present": true,
   "autoclose": false,
   "autocomplete": true,
   "bibliofile": "biblio.bib",
   "cite_by": "apalike",
   "current_citInitial": 1,
   "eqLabelWithNumbers": true,
   "eqNumInitial": 1,
   "hotkeys": {
    "equation": "Ctrl-E",
    "itemize": "Ctrl-I"
   },
   "labels_anchors": false,
   "latex_user_defs": false,
   "report_style_numbering": false,
   "user_envs_cfg": false
  },
  "toc": {
   "base_numbering": 1,
   "nav_menu": {},
   "number_sections": true,
   "sideBar": true,
   "skip_h1_title": false,
   "title_cell": "Table of Contents",
   "title_sidebar": "Contents",
   "toc_cell": false,
   "toc_position": {
    "height": "calc(100% - 180px)",
    "left": "10px",
    "top": "150px",
    "width": "288.448px"
   },
   "toc_section_display": true,
   "toc_window_display": true
  },
  "varInspector": {
   "cols": {
    "lenName": 16,
    "lenType": 16,
    "lenVar": 40
   },
   "kernels_config": {
    "python": {
     "delete_cmd_postfix": "",
     "delete_cmd_prefix": "del ",
     "library": "var_list.py",
     "varRefreshCmd": "print(var_dic_list())"
    },
    "r": {
     "delete_cmd_postfix": ") ",
     "delete_cmd_prefix": "rm(",
     "library": "var_list.r",
     "varRefreshCmd": "cat(var_dic_list()) "
    }
   },
   "types_to_exclude": [
    "module",
    "function",
    "builtin_function_or_method",
    "instance",
    "_Feature"
   ],
   "window_display": false
  }
 },
 "nbformat": 4,
 "nbformat_minor": 5
}
